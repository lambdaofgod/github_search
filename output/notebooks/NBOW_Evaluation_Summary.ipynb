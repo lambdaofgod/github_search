{
 "cells": [
  {
   "cell_type": "code",
   "execution_count": 1,
   "id": "69cb2459",
   "metadata": {
    "execution": {
     "iopub.execute_input": "2022-12-11T12:50:25.230771Z",
     "iopub.status.busy": "2022-12-11T12:50:25.230393Z",
     "iopub.status.idle": "2022-12-11T12:50:25.748838Z",
     "shell.execute_reply": "2022-12-11T12:50:25.748231Z"
    },
    "papermill": {
     "duration": 0.524631,
     "end_time": "2022-12-11T12:50:25.750626",
     "exception": false,
     "start_time": "2022-12-11T12:50:25.225995",
     "status": "completed"
    },
    "tags": []
   },
   "outputs": [],
   "source": [
    "import re\n",
    "import shutil\n",
    "from pathlib import Path as P\n",
    "\n",
    "from github_search.neural_bag_of_words.evaluation import *"
   ]
  },
  {
   "cell_type": "code",
   "execution_count": 2,
   "id": "5a116707",
   "metadata": {
    "execution": {
     "iopub.execute_input": "2022-12-11T12:50:25.757153Z",
     "iopub.status.busy": "2022-12-11T12:50:25.756882Z",
     "iopub.status.idle": "2022-12-11T12:50:25.759652Z",
     "shell.execute_reply": "2022-12-11T12:50:25.759071Z"
    },
    "papermill": {
     "duration": 0.006904,
     "end_time": "2022-12-11T12:50:25.760433",
     "exception": false,
     "start_time": "2022-12-11T12:50:25.753529",
     "status": "completed"
    },
    "tags": [
     "parameters"
    ]
   },
   "outputs": [],
   "source": [
    "product = None\n",
    "upstream = [\"nbow.train-*-*\"]\n",
    "params = None"
   ]
  },
  {
   "cell_type": "code",
   "execution_count": 3,
   "id": "d42336c8",
   "metadata": {
    "execution": {
     "iopub.execute_input": "2022-12-11T12:50:25.763801Z",
     "iopub.status.busy": "2022-12-11T12:50:25.763516Z",
     "iopub.status.idle": "2022-12-11T12:50:25.772367Z",
     "shell.execute_reply": "2022-12-11T12:50:25.771824Z"
    },
    "papermill": {
     "duration": 0.011916,
     "end_time": "2022-12-11T12:50:25.773521",
     "exception": false,
     "start_time": "2022-12-11T12:50:25.761605",
     "status": "completed"
    },
    "tags": [
     "injected-parameters"
    ]
   },
   "outputs": [],
   "source": [
    "# Parameters\n",
    "upstream = {\n",
    "    \"nbow.train-*-*\": {\n",
    "        \"nbow.train-1-1000\": {\n",
    "            \"document_nbow\": \"/home/kuba/Projects/github_search/output/models/nbow_1_1000/document_nbow-0\",\n",
    "            \"query_nbow\": \"/home/kuba/Projects/github_search/output/models/nbow_1_1000/query_nbow-0\",\n",
    "            \"metrics\": \"/home/kuba/Projects/github_search/output/models/nbow_1_1000/validation_metrics-0.yaml\",\n",
    "            \"nb\": \"/home/kuba/Projects/github_search/notebooks/output/NBOW_training_1_1000-0.ipynb\",\n",
    "        },\n",
    "        \"nbow.train-2-1000\": {\n",
    "            \"document_nbow\": \"/home/kuba/Projects/github_search/output/models/nbow_2_1000/document_nbow-1\",\n",
    "            \"query_nbow\": \"/home/kuba/Projects/github_search/output/models/nbow_2_1000/query_nbow-1\",\n",
    "            \"metrics\": \"/home/kuba/Projects/github_search/output/models/nbow_2_1000/validation_metrics-1.yaml\",\n",
    "            \"nb\": \"/home/kuba/Projects/github_search/notebooks/output/NBOW_training_2_1000-1.ipynb\",\n",
    "        },\n",
    "        \"nbow.train-5-1000\": {\n",
    "            \"document_nbow\": \"/home/kuba/Projects/github_search/output/models/nbow_5_1000/document_nbow-2\",\n",
    "            \"query_nbow\": \"/home/kuba/Projects/github_search/output/models/nbow_5_1000/query_nbow-2\",\n",
    "            \"metrics\": \"/home/kuba/Projects/github_search/output/models/nbow_5_1000/validation_metrics-2.yaml\",\n",
    "            \"nb\": \"/home/kuba/Projects/github_search/notebooks/output/NBOW_training_5_1000-2.ipynb\",\n",
    "        },\n",
    "        \"nbow.train-10-1000\": {\n",
    "            \"document_nbow\": \"/home/kuba/Projects/github_search/output/models/nbow_10_1000/document_nbow-3\",\n",
    "            \"query_nbow\": \"/home/kuba/Projects/github_search/output/models/nbow_10_1000/query_nbow-3\",\n",
    "            \"metrics\": \"/home/kuba/Projects/github_search/output/models/nbow_10_1000/validation_metrics-3.yaml\",\n",
    "            \"nb\": \"/home/kuba/Projects/github_search/notebooks/output/NBOW_training_10_1000-3.ipynb\",\n",
    "        },\n",
    "        \"nbow.train-1-2000\": {\n",
    "            \"document_nbow\": \"/home/kuba/Projects/github_search/output/models/nbow_1_2000/document_nbow-4\",\n",
    "            \"query_nbow\": \"/home/kuba/Projects/github_search/output/models/nbow_1_2000/query_nbow-4\",\n",
    "            \"metrics\": \"/home/kuba/Projects/github_search/output/models/nbow_1_2000/validation_metrics-4.yaml\",\n",
    "            \"nb\": \"/home/kuba/Projects/github_search/notebooks/output/NBOW_training_1_2000-4.ipynb\",\n",
    "        },\n",
    "        \"nbow.train-2-2000\": {\n",
    "            \"document_nbow\": \"/home/kuba/Projects/github_search/output/models/nbow_2_2000/document_nbow-5\",\n",
    "            \"query_nbow\": \"/home/kuba/Projects/github_search/output/models/nbow_2_2000/query_nbow-5\",\n",
    "            \"metrics\": \"/home/kuba/Projects/github_search/output/models/nbow_2_2000/validation_metrics-5.yaml\",\n",
    "            \"nb\": \"/home/kuba/Projects/github_search/notebooks/output/NBOW_training_2_2000-5.ipynb\",\n",
    "        },\n",
    "        \"nbow.train-5-2000\": {\n",
    "            \"document_nbow\": \"/home/kuba/Projects/github_search/output/models/nbow_5_2000/document_nbow-6\",\n",
    "            \"query_nbow\": \"/home/kuba/Projects/github_search/output/models/nbow_5_2000/query_nbow-6\",\n",
    "            \"metrics\": \"/home/kuba/Projects/github_search/output/models/nbow_5_2000/validation_metrics-6.yaml\",\n",
    "            \"nb\": \"/home/kuba/Projects/github_search/notebooks/output/NBOW_training_5_2000-6.ipynb\",\n",
    "        },\n",
    "        \"nbow.train-10-2000\": {\n",
    "            \"document_nbow\": \"/home/kuba/Projects/github_search/output/models/nbow_10_2000/document_nbow-7\",\n",
    "            \"query_nbow\": \"/home/kuba/Projects/github_search/output/models/nbow_10_2000/query_nbow-7\",\n",
    "            \"metrics\": \"/home/kuba/Projects/github_search/output/models/nbow_10_2000/validation_metrics-7.yaml\",\n",
    "            \"nb\": \"/home/kuba/Projects/github_search/notebooks/output/NBOW_training_10_2000-7.ipynb\",\n",
    "        },\n",
    "        \"nbow.train-1-3000\": {\n",
    "            \"document_nbow\": \"/home/kuba/Projects/github_search/output/models/nbow_1_3000/document_nbow-8\",\n",
    "            \"query_nbow\": \"/home/kuba/Projects/github_search/output/models/nbow_1_3000/query_nbow-8\",\n",
    "            \"metrics\": \"/home/kuba/Projects/github_search/output/models/nbow_1_3000/validation_metrics-8.yaml\",\n",
    "            \"nb\": \"/home/kuba/Projects/github_search/notebooks/output/NBOW_training_1_3000-8.ipynb\",\n",
    "        },\n",
    "        \"nbow.train-2-3000\": {\n",
    "            \"document_nbow\": \"/home/kuba/Projects/github_search/output/models/nbow_2_3000/document_nbow-9\",\n",
    "            \"query_nbow\": \"/home/kuba/Projects/github_search/output/models/nbow_2_3000/query_nbow-9\",\n",
    "            \"metrics\": \"/home/kuba/Projects/github_search/output/models/nbow_2_3000/validation_metrics-9.yaml\",\n",
    "            \"nb\": \"/home/kuba/Projects/github_search/notebooks/output/NBOW_training_2_3000-9.ipynb\",\n",
    "        },\n",
    "        \"nbow.train-5-3000\": {\n",
    "            \"document_nbow\": \"/home/kuba/Projects/github_search/output/models/nbow_5_3000/document_nbow-10\",\n",
    "            \"query_nbow\": \"/home/kuba/Projects/github_search/output/models/nbow_5_3000/query_nbow-10\",\n",
    "            \"metrics\": \"/home/kuba/Projects/github_search/output/models/nbow_5_3000/validation_metrics-10.yaml\",\n",
    "            \"nb\": \"/home/kuba/Projects/github_search/notebooks/output/NBOW_training_5_3000-10.ipynb\",\n",
    "        },\n",
    "        \"nbow.train-10-3000\": {\n",
    "            \"document_nbow\": \"/home/kuba/Projects/github_search/output/models/nbow_10_3000/document_nbow-11\",\n",
    "            \"query_nbow\": \"/home/kuba/Projects/github_search/output/models/nbow_10_3000/query_nbow-11\",\n",
    "            \"metrics\": \"/home/kuba/Projects/github_search/output/models/nbow_10_3000/validation_metrics-11.yaml\",\n",
    "            \"nb\": \"/home/kuba/Projects/github_search/notebooks/output/NBOW_training_10_3000-11.ipynb\",\n",
    "        },\n",
    "        \"nbow.train-1-5000\": {\n",
    "            \"document_nbow\": \"/home/kuba/Projects/github_search/output/models/nbow_1_5000/document_nbow-12\",\n",
    "            \"query_nbow\": \"/home/kuba/Projects/github_search/output/models/nbow_1_5000/query_nbow-12\",\n",
    "            \"metrics\": \"/home/kuba/Projects/github_search/output/models/nbow_1_5000/validation_metrics-12.yaml\",\n",
    "            \"nb\": \"/home/kuba/Projects/github_search/notebooks/output/NBOW_training_1_5000-12.ipynb\",\n",
    "        },\n",
    "        \"nbow.train-2-5000\": {\n",
    "            \"document_nbow\": \"/home/kuba/Projects/github_search/output/models/nbow_2_5000/document_nbow-13\",\n",
    "            \"query_nbow\": \"/home/kuba/Projects/github_search/output/models/nbow_2_5000/query_nbow-13\",\n",
    "            \"metrics\": \"/home/kuba/Projects/github_search/output/models/nbow_2_5000/validation_metrics-13.yaml\",\n",
    "            \"nb\": \"/home/kuba/Projects/github_search/notebooks/output/NBOW_training_2_5000-13.ipynb\",\n",
    "        },\n",
    "        \"nbow.train-5-5000\": {\n",
    "            \"document_nbow\": \"/home/kuba/Projects/github_search/output/models/nbow_5_5000/document_nbow-14\",\n",
    "            \"query_nbow\": \"/home/kuba/Projects/github_search/output/models/nbow_5_5000/query_nbow-14\",\n",
    "            \"metrics\": \"/home/kuba/Projects/github_search/output/models/nbow_5_5000/validation_metrics-14.yaml\",\n",
    "            \"nb\": \"/home/kuba/Projects/github_search/notebooks/output/NBOW_training_5_5000-14.ipynb\",\n",
    "        },\n",
    "        \"nbow.train-10-5000\": {\n",
    "            \"document_nbow\": \"/home/kuba/Projects/github_search/output/models/nbow_10_5000/document_nbow-15\",\n",
    "            \"query_nbow\": \"/home/kuba/Projects/github_search/output/models/nbow_10_5000/query_nbow-15\",\n",
    "            \"metrics\": \"/home/kuba/Projects/github_search/output/models/nbow_10_5000/validation_metrics-15.yaml\",\n",
    "            \"nb\": \"/home/kuba/Projects/github_search/notebooks/output/NBOW_training_10_5000-15.ipynb\",\n",
    "        },\n",
    "    }\n",
    "}\n",
    "product = {\n",
    "    \"best_model_dir\": \"/home/kuba/Projects/github_search/output/models/best_nbow\",\n",
    "    \"metrics\": \"/home/kuba/Projects/github_search/output/models/nbow_validation_metrics.yaml\",\n",
    "    \"nb\": \"/home/kuba/Projects/github_search/output/notebooks/NBOW_Evaluation_Summary.ipynb\",\n",
    "}\n"
   ]
  },
  {
   "cell_type": "code",
   "execution_count": 4,
   "id": "0e8da69f",
   "metadata": {
    "execution": {
     "iopub.execute_input": "2022-12-11T12:50:25.778574Z",
     "iopub.status.busy": "2022-12-11T12:50:25.778396Z",
     "iopub.status.idle": "2022-12-11T12:50:25.782342Z",
     "shell.execute_reply": "2022-12-11T12:50:25.781709Z"
    },
    "papermill": {
     "duration": 0.007907,
     "end_time": "2022-12-11T12:50:25.783524",
     "exception": false,
     "start_time": "2022-12-11T12:50:25.775617",
     "status": "completed"
    },
    "tags": []
   },
   "outputs": [],
   "source": [
    "\n",
    "\n",
    "def clean_number_from_name(p):\n",
    "    return re.sub(\"-\\d\", \"\", p)\n",
    "\n",
    "\n",
    "def copy_best_model(best_model_dir, dest_best_model_dir):\n",
    "    if P(dest_best_model_dir).exists():\n",
    "        shutil.rmtree(dest_best_model_dir)\n",
    "    shutil.copytree(str(best_model_dir), dest_best_model_dir)\n",
    "\n",
    "\n",
    "def rename_best_model_files(dest_best_model_dir):\n",
    "    for p in P(dest_best_model_dir).glob(\"*\"):\n",
    "        cleaned_name = clean_number_from_name(str(p))\n",
    "        shutil.move(str(p), cleaned_name)\n",
    "\n",
    "\n",
    "def save_best_model(best_model_dir, dest_best_model_dir):\n",
    "    copy_best_model(best_model_dir, dest_best_model_dir)\n",
    "    rename_best_model_files(dest_best_model_dir)"
   ]
  },
  {
   "cell_type": "code",
   "execution_count": 5,
   "id": "af154eb0",
   "metadata": {
    "execution": {
     "iopub.execute_input": "2022-12-11T12:50:25.788505Z",
     "iopub.status.busy": "2022-12-11T12:50:25.788295Z",
     "iopub.status.idle": "2022-12-11T12:50:25.842508Z",
     "shell.execute_reply": "2022-12-11T12:50:25.841992Z"
    },
    "papermill": {
     "duration": 0.058239,
     "end_time": "2022-12-11T12:50:25.843847",
     "exception": false,
     "start_time": "2022-12-11T12:50:25.785608",
     "status": "completed"
    },
    "tags": []
   },
   "outputs": [],
   "source": [
    "yaml_paths = get_yaml_paths(upstream[\"nbow.train-*-*\"])\n",
    "metrics_df = get_metrics_df(yaml_paths).sort_values(\"accuracy@10\", ascending=False)"
   ]
  },
  {
   "cell_type": "markdown",
   "id": "3146c90b",
   "metadata": {
    "papermill": {
     "duration": 0.002822,
     "end_time": "2022-12-11T12:50:25.849333",
     "exception": false,
     "start_time": "2022-12-11T12:50:25.846511",
     "status": "completed"
    },
    "tags": []
   },
   "source": [
    "## Highlight top metrics\n",
    "### NBOW evaluation metrics sorted by accuracy@10"
   ]
  },
  {
   "cell_type": "code",
   "execution_count": 6,
   "id": "c445af3f",
   "metadata": {
    "execution": {
     "iopub.execute_input": "2022-12-11T12:50:25.855303Z",
     "iopub.status.busy": "2022-12-11T12:50:25.855162Z",
     "iopub.status.idle": "2022-12-11T12:50:25.975658Z",
     "shell.execute_reply": "2022-12-11T12:50:25.975078Z"
    },
    "papermill": {
     "duration": 0.125067,
     "end_time": "2022-12-11T12:50:25.977064",
     "exception": false,
     "start_time": "2022-12-11T12:50:25.851997",
     "status": "completed"
    },
    "tags": []
   },
   "outputs": [
    {
     "data": {
      "text/html": [
       "<style type=\"text/css\">\n",
       "#T_ec698_row0_col2, #T_ec698_row0_col3, #T_ec698_row0_col6, #T_ec698_row0_col10, #T_ec698_row0_col13, #T_ec698_row0_col14, #T_ec698_row3_col9, #T_ec698_row5_col0, #T_ec698_row5_col4, #T_ec698_row5_col5, #T_ec698_row5_col7, #T_ec698_row5_col8, #T_ec698_row5_col11, #T_ec698_row5_col12, #T_ec698_row6_col1 {\n",
       "  background-color: yellow;\n",
       "}\n",
       "</style>\n",
       "<table id=\"T_ec698\">\n",
       "  <thead>\n",
       "    <tr>\n",
       "      <th class=\"index_name level0\" >0</th>\n",
       "      <th id=\"T_ec698_level0_col0\" class=\"col_heading level0 col0\" >accuracy@1</th>\n",
       "      <th id=\"T_ec698_level0_col1\" class=\"col_heading level0 col1\" >accuracy@3</th>\n",
       "      <th id=\"T_ec698_level0_col2\" class=\"col_heading level0 col2\" >accuracy@5</th>\n",
       "      <th id=\"T_ec698_level0_col3\" class=\"col_heading level0 col3\" >accuracy@10</th>\n",
       "      <th id=\"T_ec698_level0_col4\" class=\"col_heading level0 col4\" >map@10</th>\n",
       "      <th id=\"T_ec698_level0_col5\" class=\"col_heading level0 col5\" >mrr@10</th>\n",
       "      <th id=\"T_ec698_level0_col6\" class=\"col_heading level0 col6\" >ndcg@10</th>\n",
       "      <th id=\"T_ec698_level0_col7\" class=\"col_heading level0 col7\" >precision@1</th>\n",
       "      <th id=\"T_ec698_level0_col8\" class=\"col_heading level0 col8\" >precision@3</th>\n",
       "      <th id=\"T_ec698_level0_col9\" class=\"col_heading level0 col9\" >precision@5</th>\n",
       "      <th id=\"T_ec698_level0_col10\" class=\"col_heading level0 col10\" >precision@10</th>\n",
       "      <th id=\"T_ec698_level0_col11\" class=\"col_heading level0 col11\" >recall@1</th>\n",
       "      <th id=\"T_ec698_level0_col12\" class=\"col_heading level0 col12\" >recall@3</th>\n",
       "      <th id=\"T_ec698_level0_col13\" class=\"col_heading level0 col13\" >recall@5</th>\n",
       "      <th id=\"T_ec698_level0_col14\" class=\"col_heading level0 col14\" >recall@10</th>\n",
       "    </tr>\n",
       "    <tr>\n",
       "      <th class=\"index_name level0\" >name</th>\n",
       "      <th class=\"blank col0\" >&nbsp;</th>\n",
       "      <th class=\"blank col1\" >&nbsp;</th>\n",
       "      <th class=\"blank col2\" >&nbsp;</th>\n",
       "      <th class=\"blank col3\" >&nbsp;</th>\n",
       "      <th class=\"blank col4\" >&nbsp;</th>\n",
       "      <th class=\"blank col5\" >&nbsp;</th>\n",
       "      <th class=\"blank col6\" >&nbsp;</th>\n",
       "      <th class=\"blank col7\" >&nbsp;</th>\n",
       "      <th class=\"blank col8\" >&nbsp;</th>\n",
       "      <th class=\"blank col9\" >&nbsp;</th>\n",
       "      <th class=\"blank col10\" >&nbsp;</th>\n",
       "      <th class=\"blank col11\" >&nbsp;</th>\n",
       "      <th class=\"blank col12\" >&nbsp;</th>\n",
       "      <th class=\"blank col13\" >&nbsp;</th>\n",
       "      <th class=\"blank col14\" >&nbsp;</th>\n",
       "    </tr>\n",
       "  </thead>\n",
       "  <tbody>\n",
       "    <tr>\n",
       "      <th id=\"T_ec698_level0_row0\" class=\"row_heading level0 row0\" >nbow_5_2000</th>\n",
       "      <td id=\"T_ec698_row0_col0\" class=\"data row0 col0\" >0.436000</td>\n",
       "      <td id=\"T_ec698_row0_col1\" class=\"data row0 col1\" >0.570000</td>\n",
       "      <td id=\"T_ec698_row0_col2\" class=\"data row0 col2\" >0.623000</td>\n",
       "      <td id=\"T_ec698_row0_col3\" class=\"data row0 col3\" >0.680000</td>\n",
       "      <td id=\"T_ec698_row0_col4\" class=\"data row0 col4\" >0.289000</td>\n",
       "      <td id=\"T_ec698_row0_col5\" class=\"data row0 col5\" >0.514000</td>\n",
       "      <td id=\"T_ec698_row0_col6\" class=\"data row0 col6\" >0.376000</td>\n",
       "      <td id=\"T_ec698_row0_col7\" class=\"data row0 col7\" >0.436000</td>\n",
       "      <td id=\"T_ec698_row0_col8\" class=\"data row0 col8\" >0.327000</td>\n",
       "      <td id=\"T_ec698_row0_col9\" class=\"data row0 col9\" >0.267000</td>\n",
       "      <td id=\"T_ec698_row0_col10\" class=\"data row0 col10\" >0.198000</td>\n",
       "      <td id=\"T_ec698_row0_col11\" class=\"data row0 col11\" >0.121000</td>\n",
       "      <td id=\"T_ec698_row0_col12\" class=\"data row0 col12\" >0.212000</td>\n",
       "      <td id=\"T_ec698_row0_col13\" class=\"data row0 col13\" >0.262000</td>\n",
       "      <td id=\"T_ec698_row0_col14\" class=\"data row0 col14\" >0.328000</td>\n",
       "    </tr>\n",
       "    <tr>\n",
       "      <th id=\"T_ec698_level0_row1\" class=\"row_heading level0 row1\" >nbow_5_5000</th>\n",
       "      <td id=\"T_ec698_row1_col0\" class=\"data row1 col0\" >0.426000</td>\n",
       "      <td id=\"T_ec698_row1_col1\" class=\"data row1 col1\" >0.558000</td>\n",
       "      <td id=\"T_ec698_row1_col2\" class=\"data row1 col2\" >0.592000</td>\n",
       "      <td id=\"T_ec698_row1_col3\" class=\"data row1 col3\" >0.671000</td>\n",
       "      <td id=\"T_ec698_row1_col4\" class=\"data row1 col4\" >0.278000</td>\n",
       "      <td id=\"T_ec698_row1_col5\" class=\"data row1 col5\" >0.502000</td>\n",
       "      <td id=\"T_ec698_row1_col6\" class=\"data row1 col6\" >0.366000</td>\n",
       "      <td id=\"T_ec698_row1_col7\" class=\"data row1 col7\" >0.426000</td>\n",
       "      <td id=\"T_ec698_row1_col8\" class=\"data row1 col8\" >0.316000</td>\n",
       "      <td id=\"T_ec698_row1_col9\" class=\"data row1 col9\" >0.257000</td>\n",
       "      <td id=\"T_ec698_row1_col10\" class=\"data row1 col10\" >0.194000</td>\n",
       "      <td id=\"T_ec698_row1_col11\" class=\"data row1 col11\" >0.115000</td>\n",
       "      <td id=\"T_ec698_row1_col12\" class=\"data row1 col12\" >0.198000</td>\n",
       "      <td id=\"T_ec698_row1_col13\" class=\"data row1 col13\" >0.240000</td>\n",
       "      <td id=\"T_ec698_row1_col14\" class=\"data row1 col14\" >0.327000</td>\n",
       "    </tr>\n",
       "    <tr>\n",
       "      <th id=\"T_ec698_level0_row2\" class=\"row_heading level0 row2\" >nbow_5_1000</th>\n",
       "      <td id=\"T_ec698_row2_col0\" class=\"data row2 col0\" >0.429000</td>\n",
       "      <td id=\"T_ec698_row2_col1\" class=\"data row2 col1\" >0.556000</td>\n",
       "      <td id=\"T_ec698_row2_col2\" class=\"data row2 col2\" >0.597000</td>\n",
       "      <td id=\"T_ec698_row2_col3\" class=\"data row2 col3\" >0.670000</td>\n",
       "      <td id=\"T_ec698_row2_col4\" class=\"data row2 col4\" >0.283000</td>\n",
       "      <td id=\"T_ec698_row2_col5\" class=\"data row2 col5\" >0.505000</td>\n",
       "      <td id=\"T_ec698_row2_col6\" class=\"data row2 col6\" >0.370000</td>\n",
       "      <td id=\"T_ec698_row2_col7\" class=\"data row2 col7\" >0.429000</td>\n",
       "      <td id=\"T_ec698_row2_col8\" class=\"data row2 col8\" >0.321000</td>\n",
       "      <td id=\"T_ec698_row2_col9\" class=\"data row2 col9\" >0.263000</td>\n",
       "      <td id=\"T_ec698_row2_col10\" class=\"data row2 col10\" >0.196000</td>\n",
       "      <td id=\"T_ec698_row2_col11\" class=\"data row2 col11\" >0.115000</td>\n",
       "      <td id=\"T_ec698_row2_col12\" class=\"data row2 col12\" >0.205000</td>\n",
       "      <td id=\"T_ec698_row2_col13\" class=\"data row2 col13\" >0.245000</td>\n",
       "      <td id=\"T_ec698_row2_col14\" class=\"data row2 col14\" >0.325000</td>\n",
       "    </tr>\n",
       "    <tr>\n",
       "      <th id=\"T_ec698_level0_row3\" class=\"row_heading level0 row3\" >nbow_10_2000</th>\n",
       "      <td id=\"T_ec698_row3_col0\" class=\"data row3 col0\" >0.442000</td>\n",
       "      <td id=\"T_ec698_row3_col1\" class=\"data row3 col1\" >0.571000</td>\n",
       "      <td id=\"T_ec698_row3_col2\" class=\"data row3 col2\" >0.615000</td>\n",
       "      <td id=\"T_ec698_row3_col3\" class=\"data row3 col3\" >0.670000</td>\n",
       "      <td id=\"T_ec698_row3_col4\" class=\"data row3 col4\" >0.286000</td>\n",
       "      <td id=\"T_ec698_row3_col5\" class=\"data row3 col5\" >0.520000</td>\n",
       "      <td id=\"T_ec698_row3_col6\" class=\"data row3 col6\" >0.373000</td>\n",
       "      <td id=\"T_ec698_row3_col7\" class=\"data row3 col7\" >0.442000</td>\n",
       "      <td id=\"T_ec698_row3_col8\" class=\"data row3 col8\" >0.330000</td>\n",
       "      <td id=\"T_ec698_row3_col9\" class=\"data row3 col9\" >0.270000</td>\n",
       "      <td id=\"T_ec698_row3_col10\" class=\"data row3 col10\" >0.194000</td>\n",
       "      <td id=\"T_ec698_row3_col11\" class=\"data row3 col11\" >0.120000</td>\n",
       "      <td id=\"T_ec698_row3_col12\" class=\"data row3 col12\" >0.212000</td>\n",
       "      <td id=\"T_ec698_row3_col13\" class=\"data row3 col13\" >0.254000</td>\n",
       "      <td id=\"T_ec698_row3_col14\" class=\"data row3 col14\" >0.321000</td>\n",
       "    </tr>\n",
       "    <tr>\n",
       "      <th id=\"T_ec698_level0_row4\" class=\"row_heading level0 row4\" >nbow_5_3000</th>\n",
       "      <td id=\"T_ec698_row4_col0\" class=\"data row4 col0\" >0.414000</td>\n",
       "      <td id=\"T_ec698_row4_col1\" class=\"data row4 col1\" >0.553000</td>\n",
       "      <td id=\"T_ec698_row4_col2\" class=\"data row4 col2\" >0.608000</td>\n",
       "      <td id=\"T_ec698_row4_col3\" class=\"data row4 col3\" >0.670000</td>\n",
       "      <td id=\"T_ec698_row4_col4\" class=\"data row4 col4\" >0.277000</td>\n",
       "      <td id=\"T_ec698_row4_col5\" class=\"data row4 col5\" >0.497000</td>\n",
       "      <td id=\"T_ec698_row4_col6\" class=\"data row4 col6\" >0.364000</td>\n",
       "      <td id=\"T_ec698_row4_col7\" class=\"data row4 col7\" >0.414000</td>\n",
       "      <td id=\"T_ec698_row4_col8\" class=\"data row4 col8\" >0.307000</td>\n",
       "      <td id=\"T_ec698_row4_col9\" class=\"data row4 col9\" >0.257000</td>\n",
       "      <td id=\"T_ec698_row4_col10\" class=\"data row4 col10\" >0.193000</td>\n",
       "      <td id=\"T_ec698_row4_col11\" class=\"data row4 col11\" >0.111000</td>\n",
       "      <td id=\"T_ec698_row4_col12\" class=\"data row4 col12\" >0.207000</td>\n",
       "      <td id=\"T_ec698_row4_col13\" class=\"data row4 col13\" >0.253000</td>\n",
       "      <td id=\"T_ec698_row4_col14\" class=\"data row4 col14\" >0.320000</td>\n",
       "    </tr>\n",
       "    <tr>\n",
       "      <th id=\"T_ec698_level0_row5\" class=\"row_heading level0 row5\" >nbow_10_1000</th>\n",
       "      <td id=\"T_ec698_row5_col0\" class=\"data row5 col0\" >0.459000</td>\n",
       "      <td id=\"T_ec698_row5_col1\" class=\"data row5 col1\" >0.576000</td>\n",
       "      <td id=\"T_ec698_row5_col2\" class=\"data row5 col2\" >0.609000</td>\n",
       "      <td id=\"T_ec698_row5_col3\" class=\"data row5 col3\" >0.661000</td>\n",
       "      <td id=\"T_ec698_row5_col4\" class=\"data row5 col4\" >0.291000</td>\n",
       "      <td id=\"T_ec698_row5_col5\" class=\"data row5 col5\" >0.525000</td>\n",
       "      <td id=\"T_ec698_row5_col6\" class=\"data row5 col6\" >0.375000</td>\n",
       "      <td id=\"T_ec698_row5_col7\" class=\"data row5 col7\" >0.459000</td>\n",
       "      <td id=\"T_ec698_row5_col8\" class=\"data row5 col8\" >0.338000</td>\n",
       "      <td id=\"T_ec698_row5_col9\" class=\"data row5 col9\" >0.266000</td>\n",
       "      <td id=\"T_ec698_row5_col10\" class=\"data row5 col10\" >0.191000</td>\n",
       "      <td id=\"T_ec698_row5_col11\" class=\"data row5 col11\" >0.125000</td>\n",
       "      <td id=\"T_ec698_row5_col12\" class=\"data row5 col12\" >0.219000</td>\n",
       "      <td id=\"T_ec698_row5_col13\" class=\"data row5 col13\" >0.259000</td>\n",
       "      <td id=\"T_ec698_row5_col14\" class=\"data row5 col14\" >0.317000</td>\n",
       "    </tr>\n",
       "    <tr>\n",
       "      <th id=\"T_ec698_level0_row6\" class=\"row_heading level0 row6\" >nbow_10_3000</th>\n",
       "      <td id=\"T_ec698_row6_col0\" class=\"data row6 col0\" >0.445000</td>\n",
       "      <td id=\"T_ec698_row6_col1\" class=\"data row6 col1\" >0.579000</td>\n",
       "      <td id=\"T_ec698_row6_col2\" class=\"data row6 col2\" >0.617000</td>\n",
       "      <td id=\"T_ec698_row6_col3\" class=\"data row6 col3\" >0.659000</td>\n",
       "      <td id=\"T_ec698_row6_col4\" class=\"data row6 col4\" >0.290000</td>\n",
       "      <td id=\"T_ec698_row6_col5\" class=\"data row6 col5\" >0.519000</td>\n",
       "      <td id=\"T_ec698_row6_col6\" class=\"data row6 col6\" >0.373000</td>\n",
       "      <td id=\"T_ec698_row6_col7\" class=\"data row6 col7\" >0.445000</td>\n",
       "      <td id=\"T_ec698_row6_col8\" class=\"data row6 col8\" >0.335000</td>\n",
       "      <td id=\"T_ec698_row6_col9\" class=\"data row6 col9\" >0.269000</td>\n",
       "      <td id=\"T_ec698_row6_col10\" class=\"data row6 col10\" >0.191000</td>\n",
       "      <td id=\"T_ec698_row6_col11\" class=\"data row6 col11\" >0.123000</td>\n",
       "      <td id=\"T_ec698_row6_col12\" class=\"data row6 col12\" >0.218000</td>\n",
       "      <td id=\"T_ec698_row6_col13\" class=\"data row6 col13\" >0.258000</td>\n",
       "      <td id=\"T_ec698_row6_col14\" class=\"data row6 col14\" >0.317000</td>\n",
       "    </tr>\n",
       "    <tr>\n",
       "      <th id=\"T_ec698_level0_row7\" class=\"row_heading level0 row7\" >nbow_10_5000</th>\n",
       "      <td id=\"T_ec698_row7_col0\" class=\"data row7 col0\" >0.424000</td>\n",
       "      <td id=\"T_ec698_row7_col1\" class=\"data row7 col1\" >0.545000</td>\n",
       "      <td id=\"T_ec698_row7_col2\" class=\"data row7 col2\" >0.600000</td>\n",
       "      <td id=\"T_ec698_row7_col3\" class=\"data row7 col3\" >0.656000</td>\n",
       "      <td id=\"T_ec698_row7_col4\" class=\"data row7 col4\" >0.283000</td>\n",
       "      <td id=\"T_ec698_row7_col5\" class=\"data row7 col5\" >0.500000</td>\n",
       "      <td id=\"T_ec698_row7_col6\" class=\"data row7 col6\" >0.367000</td>\n",
       "      <td id=\"T_ec698_row7_col7\" class=\"data row7 col7\" >0.424000</td>\n",
       "      <td id=\"T_ec698_row7_col8\" class=\"data row7 col8\" >0.323000</td>\n",
       "      <td id=\"T_ec698_row7_col9\" class=\"data row7 col9\" >0.265000</td>\n",
       "      <td id=\"T_ec698_row7_col10\" class=\"data row7 col10\" >0.193000</td>\n",
       "      <td id=\"T_ec698_row7_col11\" class=\"data row7 col11\" >0.114000</td>\n",
       "      <td id=\"T_ec698_row7_col12\" class=\"data row7 col12\" >0.208000</td>\n",
       "      <td id=\"T_ec698_row7_col13\" class=\"data row7 col13\" >0.253000</td>\n",
       "      <td id=\"T_ec698_row7_col14\" class=\"data row7 col14\" >0.317000</td>\n",
       "    </tr>\n",
       "    <tr>\n",
       "      <th id=\"T_ec698_level0_row8\" class=\"row_heading level0 row8\" >nbow_2_2000</th>\n",
       "      <td id=\"T_ec698_row8_col0\" class=\"data row8 col0\" >0.356000</td>\n",
       "      <td id=\"T_ec698_row8_col1\" class=\"data row8 col1\" >0.494000</td>\n",
       "      <td id=\"T_ec698_row8_col2\" class=\"data row8 col2\" >0.530000</td>\n",
       "      <td id=\"T_ec698_row8_col3\" class=\"data row8 col3\" >0.608000</td>\n",
       "      <td id=\"T_ec698_row8_col4\" class=\"data row8 col4\" >0.241000</td>\n",
       "      <td id=\"T_ec698_row8_col5\" class=\"data row8 col5\" >0.437000</td>\n",
       "      <td id=\"T_ec698_row8_col6\" class=\"data row8 col6\" >0.322000</td>\n",
       "      <td id=\"T_ec698_row8_col7\" class=\"data row8 col7\" >0.356000</td>\n",
       "      <td id=\"T_ec698_row8_col8\" class=\"data row8 col8\" >0.270000</td>\n",
       "      <td id=\"T_ec698_row8_col9\" class=\"data row8 col9\" >0.222000</td>\n",
       "      <td id=\"T_ec698_row8_col10\" class=\"data row8 col10\" >0.176000</td>\n",
       "      <td id=\"T_ec698_row8_col11\" class=\"data row8 col11\" >0.095000</td>\n",
       "      <td id=\"T_ec698_row8_col12\" class=\"data row8 col12\" >0.174000</td>\n",
       "      <td id=\"T_ec698_row8_col13\" class=\"data row8 col13\" >0.210000</td>\n",
       "      <td id=\"T_ec698_row8_col14\" class=\"data row8 col14\" >0.288000</td>\n",
       "    </tr>\n",
       "    <tr>\n",
       "      <th id=\"T_ec698_level0_row9\" class=\"row_heading level0 row9\" >nbow_2_3000</th>\n",
       "      <td id=\"T_ec698_row9_col0\" class=\"data row9 col0\" >0.356000</td>\n",
       "      <td id=\"T_ec698_row9_col1\" class=\"data row9 col1\" >0.480000</td>\n",
       "      <td id=\"T_ec698_row9_col2\" class=\"data row9 col2\" >0.524000</td>\n",
       "      <td id=\"T_ec698_row9_col3\" class=\"data row9 col3\" >0.606000</td>\n",
       "      <td id=\"T_ec698_row9_col4\" class=\"data row9 col4\" >0.237000</td>\n",
       "      <td id=\"T_ec698_row9_col5\" class=\"data row9 col5\" >0.433000</td>\n",
       "      <td id=\"T_ec698_row9_col6\" class=\"data row9 col6\" >0.317000</td>\n",
       "      <td id=\"T_ec698_row9_col7\" class=\"data row9 col7\" >0.356000</td>\n",
       "      <td id=\"T_ec698_row9_col8\" class=\"data row9 col8\" >0.266000</td>\n",
       "      <td id=\"T_ec698_row9_col9\" class=\"data row9 col9\" >0.224000</td>\n",
       "      <td id=\"T_ec698_row9_col10\" class=\"data row9 col10\" >0.175000</td>\n",
       "      <td id=\"T_ec698_row9_col11\" class=\"data row9 col11\" >0.092000</td>\n",
       "      <td id=\"T_ec698_row9_col12\" class=\"data row9 col12\" >0.167000</td>\n",
       "      <td id=\"T_ec698_row9_col13\" class=\"data row9 col13\" >0.210000</td>\n",
       "      <td id=\"T_ec698_row9_col14\" class=\"data row9 col14\" >0.282000</td>\n",
       "    </tr>\n",
       "    <tr>\n",
       "      <th id=\"T_ec698_level0_row10\" class=\"row_heading level0 row10\" >nbow_2_5000</th>\n",
       "      <td id=\"T_ec698_row10_col0\" class=\"data row10 col0\" >0.348000</td>\n",
       "      <td id=\"T_ec698_row10_col1\" class=\"data row10 col1\" >0.474000</td>\n",
       "      <td id=\"T_ec698_row10_col2\" class=\"data row10 col2\" >0.524000</td>\n",
       "      <td id=\"T_ec698_row10_col3\" class=\"data row10 col3\" >0.606000</td>\n",
       "      <td id=\"T_ec698_row10_col4\" class=\"data row10 col4\" >0.228000</td>\n",
       "      <td id=\"T_ec698_row10_col5\" class=\"data row10 col5\" >0.426000</td>\n",
       "      <td id=\"T_ec698_row10_col6\" class=\"data row10 col6\" >0.308000</td>\n",
       "      <td id=\"T_ec698_row10_col7\" class=\"data row10 col7\" >0.348000</td>\n",
       "      <td id=\"T_ec698_row10_col8\" class=\"data row10 col8\" >0.261000</td>\n",
       "      <td id=\"T_ec698_row10_col9\" class=\"data row10 col9\" >0.222000</td>\n",
       "      <td id=\"T_ec698_row10_col10\" class=\"data row10 col10\" >0.172000</td>\n",
       "      <td id=\"T_ec698_row10_col11\" class=\"data row10 col11\" >0.090000</td>\n",
       "      <td id=\"T_ec698_row10_col12\" class=\"data row10 col12\" >0.156000</td>\n",
       "      <td id=\"T_ec698_row10_col13\" class=\"data row10 col13\" >0.198000</td>\n",
       "      <td id=\"T_ec698_row10_col14\" class=\"data row10 col14\" >0.275000</td>\n",
       "    </tr>\n",
       "    <tr>\n",
       "      <th id=\"T_ec698_level0_row11\" class=\"row_heading level0 row11\" >nbow_2_1000</th>\n",
       "      <td id=\"T_ec698_row11_col0\" class=\"data row11 col0\" >0.348000</td>\n",
       "      <td id=\"T_ec698_row11_col1\" class=\"data row11 col1\" >0.483000</td>\n",
       "      <td id=\"T_ec698_row11_col2\" class=\"data row11 col2\" >0.527000</td>\n",
       "      <td id=\"T_ec698_row11_col3\" class=\"data row11 col3\" >0.595000</td>\n",
       "      <td id=\"T_ec698_row11_col4\" class=\"data row11 col4\" >0.238000</td>\n",
       "      <td id=\"T_ec698_row11_col5\" class=\"data row11 col5\" >0.429000</td>\n",
       "      <td id=\"T_ec698_row11_col6\" class=\"data row11 col6\" >0.316000</td>\n",
       "      <td id=\"T_ec698_row11_col7\" class=\"data row11 col7\" >0.348000</td>\n",
       "      <td id=\"T_ec698_row11_col8\" class=\"data row11 col8\" >0.270000</td>\n",
       "      <td id=\"T_ec698_row11_col9\" class=\"data row11 col9\" >0.223000</td>\n",
       "      <td id=\"T_ec698_row11_col10\" class=\"data row11 col10\" >0.175000</td>\n",
       "      <td id=\"T_ec698_row11_col11\" class=\"data row11 col11\" >0.090000</td>\n",
       "      <td id=\"T_ec698_row11_col12\" class=\"data row11 col12\" >0.170000</td>\n",
       "      <td id=\"T_ec698_row11_col13\" class=\"data row11 col13\" >0.209000</td>\n",
       "      <td id=\"T_ec698_row11_col14\" class=\"data row11 col14\" >0.276000</td>\n",
       "    </tr>\n",
       "    <tr>\n",
       "      <th id=\"T_ec698_level0_row12\" class=\"row_heading level0 row12\" >nbow_1_1000</th>\n",
       "      <td id=\"T_ec698_row12_col0\" class=\"data row12 col0\" >0.271000</td>\n",
       "      <td id=\"T_ec698_row12_col1\" class=\"data row12 col1\" >0.398000</td>\n",
       "      <td id=\"T_ec698_row12_col2\" class=\"data row12 col2\" >0.459000</td>\n",
       "      <td id=\"T_ec698_row12_col3\" class=\"data row12 col3\" >0.523000</td>\n",
       "      <td id=\"T_ec698_row12_col4\" class=\"data row12 col4\" >0.175000</td>\n",
       "      <td id=\"T_ec698_row12_col5\" class=\"data row12 col5\" >0.349000</td>\n",
       "      <td id=\"T_ec698_row12_col6\" class=\"data row12 col6\" >0.244000</td>\n",
       "      <td id=\"T_ec698_row12_col7\" class=\"data row12 col7\" >0.271000</td>\n",
       "      <td id=\"T_ec698_row12_col8\" class=\"data row12 col8\" >0.215000</td>\n",
       "      <td id=\"T_ec698_row12_col9\" class=\"data row12 col9\" >0.184000</td>\n",
       "      <td id=\"T_ec698_row12_col10\" class=\"data row12 col10\" >0.141000</td>\n",
       "      <td id=\"T_ec698_row12_col11\" class=\"data row12 col11\" >0.061000</td>\n",
       "      <td id=\"T_ec698_row12_col12\" class=\"data row12 col12\" >0.121000</td>\n",
       "      <td id=\"T_ec698_row12_col13\" class=\"data row12 col13\" >0.157000</td>\n",
       "      <td id=\"T_ec698_row12_col14\" class=\"data row12 col14\" >0.213000</td>\n",
       "    </tr>\n",
       "    <tr>\n",
       "      <th id=\"T_ec698_level0_row13\" class=\"row_heading level0 row13\" >nbow_1_2000</th>\n",
       "      <td id=\"T_ec698_row13_col0\" class=\"data row13 col0\" >0.267000</td>\n",
       "      <td id=\"T_ec698_row13_col1\" class=\"data row13 col1\" >0.379000</td>\n",
       "      <td id=\"T_ec698_row13_col2\" class=\"data row13 col2\" >0.421000</td>\n",
       "      <td id=\"T_ec698_row13_col3\" class=\"data row13 col3\" >0.512000</td>\n",
       "      <td id=\"T_ec698_row13_col4\" class=\"data row13 col4\" >0.168000</td>\n",
       "      <td id=\"T_ec698_row13_col5\" class=\"data row13 col5\" >0.338000</td>\n",
       "      <td id=\"T_ec698_row13_col6\" class=\"data row13 col6\" >0.236000</td>\n",
       "      <td id=\"T_ec698_row13_col7\" class=\"data row13 col7\" >0.267000</td>\n",
       "      <td id=\"T_ec698_row13_col8\" class=\"data row13 col8\" >0.201000</td>\n",
       "      <td id=\"T_ec698_row13_col9\" class=\"data row13 col9\" >0.169000</td>\n",
       "      <td id=\"T_ec698_row13_col10\" class=\"data row13 col10\" >0.138000</td>\n",
       "      <td id=\"T_ec698_row13_col11\" class=\"data row13 col11\" >0.057000</td>\n",
       "      <td id=\"T_ec698_row13_col12\" class=\"data row13 col12\" >0.116000</td>\n",
       "      <td id=\"T_ec698_row13_col13\" class=\"data row13 col13\" >0.142000</td>\n",
       "      <td id=\"T_ec698_row13_col14\" class=\"data row13 col14\" >0.208000</td>\n",
       "    </tr>\n",
       "    <tr>\n",
       "      <th id=\"T_ec698_level0_row14\" class=\"row_heading level0 row14\" >nbow_1_3000</th>\n",
       "      <td id=\"T_ec698_row14_col0\" class=\"data row14 col0\" >0.248000</td>\n",
       "      <td id=\"T_ec698_row14_col1\" class=\"data row14 col1\" >0.359000</td>\n",
       "      <td id=\"T_ec698_row14_col2\" class=\"data row14 col2\" >0.418000</td>\n",
       "      <td id=\"T_ec698_row14_col3\" class=\"data row14 col3\" >0.497000</td>\n",
       "      <td id=\"T_ec698_row14_col4\" class=\"data row14 col4\" >0.160000</td>\n",
       "      <td id=\"T_ec698_row14_col5\" class=\"data row14 col5\" >0.320000</td>\n",
       "      <td id=\"T_ec698_row14_col6\" class=\"data row14 col6\" >0.226000</td>\n",
       "      <td id=\"T_ec698_row14_col7\" class=\"data row14 col7\" >0.248000</td>\n",
       "      <td id=\"T_ec698_row14_col8\" class=\"data row14 col8\" >0.193000</td>\n",
       "      <td id=\"T_ec698_row14_col9\" class=\"data row14 col9\" >0.168000</td>\n",
       "      <td id=\"T_ec698_row14_col10\" class=\"data row14 col10\" >0.133000</td>\n",
       "      <td id=\"T_ec698_row14_col11\" class=\"data row14 col11\" >0.057000</td>\n",
       "      <td id=\"T_ec698_row14_col12\" class=\"data row14 col12\" >0.106000</td>\n",
       "      <td id=\"T_ec698_row14_col13\" class=\"data row14 col13\" >0.136000</td>\n",
       "      <td id=\"T_ec698_row14_col14\" class=\"data row14 col14\" >0.197000</td>\n",
       "    </tr>\n",
       "    <tr>\n",
       "      <th id=\"T_ec698_level0_row15\" class=\"row_heading level0 row15\" >nbow_1_5000</th>\n",
       "      <td id=\"T_ec698_row15_col0\" class=\"data row15 col0\" >0.235000</td>\n",
       "      <td id=\"T_ec698_row15_col1\" class=\"data row15 col1\" >0.347000</td>\n",
       "      <td id=\"T_ec698_row15_col2\" class=\"data row15 col2\" >0.409000</td>\n",
       "      <td id=\"T_ec698_row15_col3\" class=\"data row15 col3\" >0.489000</td>\n",
       "      <td id=\"T_ec698_row15_col4\" class=\"data row15 col4\" >0.147000</td>\n",
       "      <td id=\"T_ec698_row15_col5\" class=\"data row15 col5\" >0.307000</td>\n",
       "      <td id=\"T_ec698_row15_col6\" class=\"data row15 col6\" >0.213000</td>\n",
       "      <td id=\"T_ec698_row15_col7\" class=\"data row15 col7\" >0.235000</td>\n",
       "      <td id=\"T_ec698_row15_col8\" class=\"data row15 col8\" >0.188000</td>\n",
       "      <td id=\"T_ec698_row15_col9\" class=\"data row15 col9\" >0.162000</td>\n",
       "      <td id=\"T_ec698_row15_col10\" class=\"data row15 col10\" >0.128000</td>\n",
       "      <td id=\"T_ec698_row15_col11\" class=\"data row15 col11\" >0.046000</td>\n",
       "      <td id=\"T_ec698_row15_col12\" class=\"data row15 col12\" >0.095000</td>\n",
       "      <td id=\"T_ec698_row15_col13\" class=\"data row15 col13\" >0.130000</td>\n",
       "      <td id=\"T_ec698_row15_col14\" class=\"data row15 col14\" >0.191000</td>\n",
       "    </tr>\n",
       "  </tbody>\n",
       "</table>\n"
      ],
      "text/plain": [
       "<pandas.io.formats.style.Styler at 0x7efe00ea6340>"
      ]
     },
     "execution_count": 6,
     "metadata": {},
     "output_type": "execute_result"
    }
   ],
   "source": [
    "metrics_df.style.highlight_max()"
   ]
  },
  {
   "cell_type": "code",
   "execution_count": 7,
   "id": "4f880f5a",
   "metadata": {
    "execution": {
     "iopub.execute_input": "2022-12-11T12:50:25.985604Z",
     "iopub.status.busy": "2022-12-11T12:50:25.985346Z",
     "iopub.status.idle": "2022-12-11T12:50:25.990587Z",
     "shell.execute_reply": "2022-12-11T12:50:25.989973Z"
    },
    "papermill": {
     "duration": 0.011467,
     "end_time": "2022-12-11T12:50:25.991944",
     "exception": false,
     "start_time": "2022-12-11T12:50:25.980477",
     "status": "completed"
    },
    "tags": []
   },
   "outputs": [],
   "source": [
    "metrics_df.to_csv(product[\"metrics\"])"
   ]
  },
  {
   "cell_type": "markdown",
   "id": "c2a69984",
   "metadata": {
    "papermill": {
     "duration": 0.00258,
     "end_time": "2022-12-11T12:50:25.997079",
     "exception": false,
     "start_time": "2022-12-11T12:50:25.994499",
     "status": "completed"
    },
    "tags": []
   },
   "source": [
    "## Handle best model files"
   ]
  },
  {
   "cell_type": "code",
   "execution_count": 8,
   "id": "36129efd",
   "metadata": {
    "execution": {
     "iopub.execute_input": "2022-12-11T12:50:26.003222Z",
     "iopub.status.busy": "2022-12-11T12:50:26.003042Z",
     "iopub.status.idle": "2022-12-11T12:50:26.042678Z",
     "shell.execute_reply": "2022-12-11T12:50:26.042035Z"
    },
    "lines_to_next_cell": 2,
    "papermill": {
     "duration": 0.044471,
     "end_time": "2022-12-11T12:50:26.044063",
     "exception": false,
     "start_time": "2022-12-11T12:50:25.999592",
     "status": "completed"
    },
    "tags": []
   },
   "outputs": [],
   "source": [
    "dest_best_model_dir = P(product[\"best_model_dir\"])\n",
    "best_model_dir = dest_best_model_dir.parent / metrics_df.index[0]\n",
    "save_best_model(best_model_dir, dest_best_model_dir)"
   ]
  },
  {
   "cell_type": "markdown",
   "id": "72a6c728",
   "metadata": {
    "papermill": {
     "duration": 0.003201,
     "end_time": "2022-12-11T12:50:26.050440",
     "exception": false,
     "start_time": "2022-12-11T12:50:26.047239",
     "status": "completed"
    },
    "tags": []
   },
   "source": [
    "# Validate model files are cleaned "
   ]
  },
  {
   "cell_type": "code",
   "execution_count": 9,
   "id": "87e6f181",
   "metadata": {
    "execution": {
     "iopub.execute_input": "2022-12-11T12:50:26.057039Z",
     "iopub.status.busy": "2022-12-11T12:50:26.056795Z",
     "iopub.status.idle": "2022-12-11T12:50:26.060562Z",
     "shell.execute_reply": "2022-12-11T12:50:26.060039Z"
    },
    "papermill": {
     "duration": 0.007755,
     "end_time": "2022-12-11T12:50:26.061388",
     "exception": false,
     "start_time": "2022-12-11T12:50:26.053633",
     "status": "completed"
    },
    "tags": []
   },
   "outputs": [],
   "source": [
    "file_names = [\n",
    "    p.name\n",
    "    for p in P(dest_best_model_dir).glob(\"*\")\n",
    "    if not p.name.startswith(\".\")  # exclude hidden files\n",
    "]\n",
    "expected_file_names = ['document_nbow', 'query_nbow', 'validation_metrics.yaml']\n",
    "assert set(file_names) == set(expected_file_names)"
   ]
  }
 ],
 "metadata": {
  "jupytext": {
   "cell_metadata_filter": "tags,-all",
   "main_language": "python",
   "notebook_metadata_filter": "-all",
   "text_representation": {
    "extension": ".py",
    "format_name": "percent"
   }
  },
  "kernelspec": {
   "display_name": "Python 3",
   "language": "python",
   "name": "python3"
  },
  "language_info": {
   "codemirror_mode": {
    "name": "ipython",
    "version": 3
   },
   "file_extension": ".py",
   "mimetype": "text/x-python",
   "name": "python",
   "nbconvert_exporter": "python",
   "pygments_lexer": "ipython3",
   "version": "3.8.10"
  },
  "papermill": {
   "duration": 2.033903,
   "end_time": "2022-12-11T12:50:26.378343",
   "exception": null,
   "input_path": "/tmp/tmpxomxfhmf.ipynb",
   "output_path": "/home/kuba/Projects/github_search/output/notebooks/NBOW_Evaluation_Summary.ipynb",
   "parameters": {
    "product": {
     "best_model_dir": "/home/kuba/Projects/github_search/output/models/best_nbow",
     "metrics": "/home/kuba/Projects/github_search/output/models/nbow_validation_metrics.yaml",
     "nb": "/home/kuba/Projects/github_search/output/notebooks/NBOW_Evaluation_Summary.ipynb"
    },
    "upstream": {
     "nbow.train-*-*": {
      "nbow.train-1-1000": {
       "document_nbow": "/home/kuba/Projects/github_search/output/models/nbow_1_1000/document_nbow-0",
       "metrics": "/home/kuba/Projects/github_search/output/models/nbow_1_1000/validation_metrics-0.yaml",
       "nb": "/home/kuba/Projects/github_search/notebooks/output/NBOW_training_1_1000-0.ipynb",
       "query_nbow": "/home/kuba/Projects/github_search/output/models/nbow_1_1000/query_nbow-0"
      },
      "nbow.train-1-2000": {
       "document_nbow": "/home/kuba/Projects/github_search/output/models/nbow_1_2000/document_nbow-4",
       "metrics": "/home/kuba/Projects/github_search/output/models/nbow_1_2000/validation_metrics-4.yaml",
       "nb": "/home/kuba/Projects/github_search/notebooks/output/NBOW_training_1_2000-4.ipynb",
       "query_nbow": "/home/kuba/Projects/github_search/output/models/nbow_1_2000/query_nbow-4"
      },
      "nbow.train-1-3000": {
       "document_nbow": "/home/kuba/Projects/github_search/output/models/nbow_1_3000/document_nbow-8",
       "metrics": "/home/kuba/Projects/github_search/output/models/nbow_1_3000/validation_metrics-8.yaml",
       "nb": "/home/kuba/Projects/github_search/notebooks/output/NBOW_training_1_3000-8.ipynb",
       "query_nbow": "/home/kuba/Projects/github_search/output/models/nbow_1_3000/query_nbow-8"
      },
      "nbow.train-1-5000": {
       "document_nbow": "/home/kuba/Projects/github_search/output/models/nbow_1_5000/document_nbow-12",
       "metrics": "/home/kuba/Projects/github_search/output/models/nbow_1_5000/validation_metrics-12.yaml",
       "nb": "/home/kuba/Projects/github_search/notebooks/output/NBOW_training_1_5000-12.ipynb",
       "query_nbow": "/home/kuba/Projects/github_search/output/models/nbow_1_5000/query_nbow-12"
      },
      "nbow.train-10-1000": {
       "document_nbow": "/home/kuba/Projects/github_search/output/models/nbow_10_1000/document_nbow-3",
       "metrics": "/home/kuba/Projects/github_search/output/models/nbow_10_1000/validation_metrics-3.yaml",
       "nb": "/home/kuba/Projects/github_search/notebooks/output/NBOW_training_10_1000-3.ipynb",
       "query_nbow": "/home/kuba/Projects/github_search/output/models/nbow_10_1000/query_nbow-3"
      },
      "nbow.train-10-2000": {
       "document_nbow": "/home/kuba/Projects/github_search/output/models/nbow_10_2000/document_nbow-7",
       "metrics": "/home/kuba/Projects/github_search/output/models/nbow_10_2000/validation_metrics-7.yaml",
       "nb": "/home/kuba/Projects/github_search/notebooks/output/NBOW_training_10_2000-7.ipynb",
       "query_nbow": "/home/kuba/Projects/github_search/output/models/nbow_10_2000/query_nbow-7"
      },
      "nbow.train-10-3000": {
       "document_nbow": "/home/kuba/Projects/github_search/output/models/nbow_10_3000/document_nbow-11",
       "metrics": "/home/kuba/Projects/github_search/output/models/nbow_10_3000/validation_metrics-11.yaml",
       "nb": "/home/kuba/Projects/github_search/notebooks/output/NBOW_training_10_3000-11.ipynb",
       "query_nbow": "/home/kuba/Projects/github_search/output/models/nbow_10_3000/query_nbow-11"
      },
      "nbow.train-10-5000": {
       "document_nbow": "/home/kuba/Projects/github_search/output/models/nbow_10_5000/document_nbow-15",
       "metrics": "/home/kuba/Projects/github_search/output/models/nbow_10_5000/validation_metrics-15.yaml",
       "nb": "/home/kuba/Projects/github_search/notebooks/output/NBOW_training_10_5000-15.ipynb",
       "query_nbow": "/home/kuba/Projects/github_search/output/models/nbow_10_5000/query_nbow-15"
      },
      "nbow.train-2-1000": {
       "document_nbow": "/home/kuba/Projects/github_search/output/models/nbow_2_1000/document_nbow-1",
       "metrics": "/home/kuba/Projects/github_search/output/models/nbow_2_1000/validation_metrics-1.yaml",
       "nb": "/home/kuba/Projects/github_search/notebooks/output/NBOW_training_2_1000-1.ipynb",
       "query_nbow": "/home/kuba/Projects/github_search/output/models/nbow_2_1000/query_nbow-1"
      },
      "nbow.train-2-2000": {
       "document_nbow": "/home/kuba/Projects/github_search/output/models/nbow_2_2000/document_nbow-5",
       "metrics": "/home/kuba/Projects/github_search/output/models/nbow_2_2000/validation_metrics-5.yaml",
       "nb": "/home/kuba/Projects/github_search/notebooks/output/NBOW_training_2_2000-5.ipynb",
       "query_nbow": "/home/kuba/Projects/github_search/output/models/nbow_2_2000/query_nbow-5"
      },
      "nbow.train-2-3000": {
       "document_nbow": "/home/kuba/Projects/github_search/output/models/nbow_2_3000/document_nbow-9",
       "metrics": "/home/kuba/Projects/github_search/output/models/nbow_2_3000/validation_metrics-9.yaml",
       "nb": "/home/kuba/Projects/github_search/notebooks/output/NBOW_training_2_3000-9.ipynb",
       "query_nbow": "/home/kuba/Projects/github_search/output/models/nbow_2_3000/query_nbow-9"
      },
      "nbow.train-2-5000": {
       "document_nbow": "/home/kuba/Projects/github_search/output/models/nbow_2_5000/document_nbow-13",
       "metrics": "/home/kuba/Projects/github_search/output/models/nbow_2_5000/validation_metrics-13.yaml",
       "nb": "/home/kuba/Projects/github_search/notebooks/output/NBOW_training_2_5000-13.ipynb",
       "query_nbow": "/home/kuba/Projects/github_search/output/models/nbow_2_5000/query_nbow-13"
      },
      "nbow.train-5-1000": {
       "document_nbow": "/home/kuba/Projects/github_search/output/models/nbow_5_1000/document_nbow-2",
       "metrics": "/home/kuba/Projects/github_search/output/models/nbow_5_1000/validation_metrics-2.yaml",
       "nb": "/home/kuba/Projects/github_search/notebooks/output/NBOW_training_5_1000-2.ipynb",
       "query_nbow": "/home/kuba/Projects/github_search/output/models/nbow_5_1000/query_nbow-2"
      },
      "nbow.train-5-2000": {
       "document_nbow": "/home/kuba/Projects/github_search/output/models/nbow_5_2000/document_nbow-6",
       "metrics": "/home/kuba/Projects/github_search/output/models/nbow_5_2000/validation_metrics-6.yaml",
       "nb": "/home/kuba/Projects/github_search/notebooks/output/NBOW_training_5_2000-6.ipynb",
       "query_nbow": "/home/kuba/Projects/github_search/output/models/nbow_5_2000/query_nbow-6"
      },
      "nbow.train-5-3000": {
       "document_nbow": "/home/kuba/Projects/github_search/output/models/nbow_5_3000/document_nbow-10",
       "metrics": "/home/kuba/Projects/github_search/output/models/nbow_5_3000/validation_metrics-10.yaml",
       "nb": "/home/kuba/Projects/github_search/notebooks/output/NBOW_training_5_3000-10.ipynb",
       "query_nbow": "/home/kuba/Projects/github_search/output/models/nbow_5_3000/query_nbow-10"
      },
      "nbow.train-5-5000": {
       "document_nbow": "/home/kuba/Projects/github_search/output/models/nbow_5_5000/document_nbow-14",
       "metrics": "/home/kuba/Projects/github_search/output/models/nbow_5_5000/validation_metrics-14.yaml",
       "nb": "/home/kuba/Projects/github_search/notebooks/output/NBOW_training_5_5000-14.ipynb",
       "query_nbow": "/home/kuba/Projects/github_search/output/models/nbow_5_5000/query_nbow-14"
      }
     }
    }
   },
   "start_time": "2022-12-11T12:50:24.344440"
  }
 },
 "nbformat": 4,
 "nbformat_minor": 5
}