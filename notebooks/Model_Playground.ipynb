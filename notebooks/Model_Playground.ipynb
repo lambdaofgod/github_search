{
 "cells": [
  {
   "cell_type": "code",
   "execution_count": 9,
   "id": "28eb7105-be58-417e-b03a-8fd10f5f6ec1",
   "metadata": {},
   "outputs": [
    {
     "name": "stdout",
     "output_type": "stream",
     "text": [
      "Cloning into '/tmp/nbow'...\n",
      "remote: Enumerating objects: 83, done.\u001b[K\n",
      "remote: Counting objects: 100% (83/83), done.\u001b[K\n",
      "remote: Compressing objects: 100% (83/83), done.\u001b[K\n",
      "remote: Total 83 (delta 32), reused 0 (delta 0), pack-reused 0\u001b[K\n",
      "Unpacking objects: 100% (83/83), 18.20 KiB | 1.52 MiB/s, done.\n"
     ]
    }
   ],
   "source": [
    "!git clone https://huggingface.co/spaces/lambdaofgod/paperswithcode_nbow /tmp/nbow"
   ]
  },
  {
   "cell_type": "code",
   "execution_count": 10,
   "id": "4bdfd8cf-b357-4c88-b330-90de6911aa60",
   "metadata": {},
   "outputs": [],
   "source": [
    "import datasets\n",
    "import sys\n",
    "\n",
    "sys.path.append(\"/tmp/nbow\")\n",
    "import search_utils"
   ]
  },
  {
   "cell_type": "code",
   "execution_count": 13,
   "id": "05fcf7fc-a177-4d29-8996-20df02f92cda",
   "metadata": {},
   "outputs": [],
   "source": [
    "def get_model_paths(model_name):\n",
    "    query_encoder_name = \"lambdaofgod/query-\" + model_name\n",
    "    document_encoder_name = \"lambdaofgod/document-\" + model_name\n",
    "    return query_encoder_name, document_encoder_name"
   ]
  },
  {
   "cell_type": "markdown",
   "id": "936e7660-02a5-42f9-8374-6562ea1f9862",
   "metadata": {},
   "source": [
    "## Model names from huggingface hub"
   ]
  },
  {
   "cell_type": "code",
   "execution_count": 15,
   "id": "55759dcc-ac08-4587-89d3-55a9b405b5f5",
   "metadata": {},
   "outputs": [],
   "source": [
    "model_names = [\n",
    "    'dependencies-nbow-nbow-mnrl',\n",
    "    'readme-nbow-nbow-mnrl',\n",
    "    'titles-nbow-nbow-mnrl',\n",
    "    'titles_dependencies-nbow-nbow-mnrl',\n",
    "    'readme_dependencies-nbow-nbow-mnrl'\n",
    "]"
   ]
  },
  {
   "cell_type": "markdown",
   "id": "d5e6cd79-4e42-4e2a-8f6f-f14457f8caef",
   "metadata": {},
   "source": [
    "### Select model name"
   ]
  },
  {
   "cell_type": "code",
   "execution_count": 17,
   "id": "61f45841-1094-4482-8ccd-e037ddd8b6eb",
   "metadata": {},
   "outputs": [],
   "source": [
    "model_name = model_names[0]"
   ]
  },
  {
   "cell_type": "markdown",
   "id": "411c6eb2-a7bb-42c3-8ac6-ce8ffd86b386",
   "metadata": {},
   "source": [
    "### Prepare retrieval df\n",
    "\n",
    "The dataframe will use columns inferred from model name"
   ]
  },
  {
   "cell_type": "code",
   "execution_count": 6,
   "id": "e4062667-05cf-418a-b4c1-9bce4a064a78",
   "metadata": {},
   "outputs": [
    {
     "name": "stderr",
     "output_type": "stream",
     "text": [
      "2023-01-06 15:01:36.079 WARNING datasets.builder: Using custom data configuration lambdaofgod___pwc_repositories_with_dependencies-b5c0ffee4502e15e\n",
      "2023-01-06 15:01:36.081 WARNING datasets.builder: Reusing dataset parquet (/home/kuba/.cache/huggingface/datasets/parquet/lambdaofgod___pwc_repositories_with_dependencies-b5c0ffee4502e15e/0.0.0/1638526fd0e8d960534e2155dc54fdff8dce73851f21f031d2fb9c2cf757c121)\n"
     ]
    },
    {
     "data": {
      "application/vnd.jupyter.widget-view+json": {
       "model_id": "1cfad3c1a8d4458987c1f6cd53121b42",
       "version_major": 2,
       "version_minor": 0
      },
      "text/plain": [
       "  0%|          | 0/1 [00:00<?, ?it/s]"
      ]
     },
     "metadata": {},
     "output_type": "display_data"
    }
   ],
   "source": [
    "doc_cols = search_utils.get_doc_cols(model_names[0])\n",
    "retrieval_df = search_utils.merge_cols(\n",
    "    search_utils.get_retrieval_df(text_list_cols=[\"titles\"]), doc_cols\n",
    ")"
   ]
  },
  {
   "cell_type": "markdown",
   "id": "4c311a69-7b58-4470-8a8b-c91431acabfc",
   "metadata": {},
   "source": [
    "### Setup retrieval_pipeline"
   ]
  },
  {
   "cell_type": "code",
   "execution_count": 7,
   "id": "af844de7-64f2-40f1-9524-f6c35fc9d79b",
   "metadata": {},
   "outputs": [
    {
     "name": "stderr",
     "output_type": "stream",
     "text": [
      "2023-01-06 15:01:36.160 INFO    sentence_transformers.SentenceTransformer: Load pretrained SentenceTransformer: lambdaofgod/document-dependencies-nbow-nbow-mnrl\n",
      "2023-01-06 15:01:36.254 INFO    gensim.summarization.textcleaner: 'pattern' package not found; tag filters are not available for English\n",
      "2023-01-06 15:01:36.382 INFO    sentence_transformers.models.WordWeights: 0 of 53559 words without a weighting value. Set weight to 1\n",
      "2023-01-06 15:01:36.384 INFO    sentence_transformers.SentenceTransformer: Load pretrained SentenceTransformer: lambdaofgod/query-dependencies-nbow-nbow-mnrl\n",
      "2023-01-06 15:01:36.393 INFO    sentence_transformers.models.WordWeights: 0 of 4395 words without a weighting value. Set weight to 1\n"
     ]
    },
    {
     "data": {
      "application/vnd.jupyter.widget-view+json": {
       "model_id": "2eb200298724483d81b5f73104d81c5c",
       "version_major": 2,
       "version_minor": 0
      },
      "text/plain": [
       "Batches:   0%|          | 0/137 [00:00<?, ?it/s]"
      ]
     },
     "metadata": {},
     "output_type": "display_data"
    },
    {
     "name": "stderr",
     "output_type": "stream",
     "text": [
      "2023-01-06 15:01:44.285 INFO    nmslib: M                   = 16\n",
      "2023-01-06 15:01:44.285 INFO    nmslib: indexThreadQty      = 32\n",
      "2023-01-06 15:01:44.286 INFO    nmslib: efConstruction      = 200\n",
      "2023-01-06 15:01:44.286 INFO    nmslib: maxM\t\t\t          = 16\n",
      "2023-01-06 15:01:44.286 INFO    nmslib: maxM0\t\t\t          = 32\n",
      "2023-01-06 15:01:44.286 INFO    nmslib: mult                = 0.360674\n",
      "2023-01-06 15:01:44.287 INFO    nmslib: skip_optimized_index= 0\n",
      "2023-01-06 15:01:44.287 INFO    nmslib: delaunay_type       = 2\n",
      "2023-01-06 15:01:44.287 INFO    nmslib: Set HNSW query-time parameters:\n",
      "2023-01-06 15:01:44.288 INFO    nmslib: ef(Search)         =20\n",
      "2023-01-06 15:01:44.288 INFO    nmslib: algoType           =2\n",
      "2023-01-06 15:01:44.329 INFO    nmslib: \n",
      "The vector space is CosineSimilarity\n",
      "2023-01-06 15:01:44.329 INFO    nmslib: Vector length=200\n",
      "2023-01-06 15:01:44.330 INFO    nmslib: searchMethod\t\t\t  = 3\n",
      "2023-01-06 15:01:44.330 INFO    nmslib: Making optimized index\n",
      "2023-01-06 15:01:44.332 INFO    nmslib: Finished making optimized index\n",
      "2023-01-06 15:01:44.332 INFO    nmslib: Maximum level = 1\n",
      "2023-01-06 15:01:44.333 INFO    nmslib: Total memory allocated for optimized index+data: 3 Mb\n"
     ]
    }
   ],
   "source": [
    "retrieval_pipeline = search_utils.RetrievalPipelineWrapper.setup_from_encoder_names(\n",
    "    *get_model_paths(model_name),\n",
    "    retrieval_df[\"document\"],\n",
    "    retrieval_df,\n",
    "    \"cuda\"\n",
    ")"
   ]
  },
  {
   "cell_type": "markdown",
   "id": "4fb96e2e-b25f-4711-8183-0e50075ad4b3",
   "metadata": {},
   "source": [
    "# Search"
   ]
  },
  {
   "cell_type": "code",
   "execution_count": 18,
   "id": "a9595884-e2ac-49f8-84fc-49f4fb5cc153",
   "metadata": {},
   "outputs": [],
   "source": [
    "query = \"metric learning\""
   ]
  },
  {
   "cell_type": "code",
   "execution_count": 21,
   "id": "23e6a1e9-41cd-4cf0-9ad5-06c992191231",
   "metadata": {},
   "outputs": [
    {
     "data": {
      "application/vnd.jupyter.widget-view+json": {
       "model_id": "ebdac098f1724b10b2b386ccaf40a9db",
       "version_major": 2,
       "version_minor": 0
      },
      "text/plain": [
       "Batches:   0%|          | 0/1 [00:00<?, ?it/s]"
      ]
     },
     "metadata": {},
     "output_type": "display_data"
    },
    {
     "data": {
      "text/html": [
       "<div>\n",
       "<style scoped>\n",
       "    .dataframe tbody tr th:only-of-type {\n",
       "        vertical-align: middle;\n",
       "    }\n",
       "\n",
       "    .dataframe tbody tr th {\n",
       "        vertical-align: top;\n",
       "    }\n",
       "\n",
       "    .dataframe thead th {\n",
       "        text-align: right;\n",
       "    }\n",
       "</style>\n",
       "<table border=\"1\" class=\"dataframe\">\n",
       "  <thead>\n",
       "    <tr style=\"text-align: right;\">\n",
       "      <th></th>\n",
       "      <th>repo</th>\n",
       "      <th>tasks</th>\n",
       "      <th>link</th>\n",
       "      <th>distance</th>\n",
       "      <th>dependencies</th>\n",
       "    </tr>\n",
       "  </thead>\n",
       "  <tbody>\n",
       "    <tr>\n",
       "      <th>0</th>\n",
       "      <td>DagnyT/hardnet</td>\n",
       "      <td>['image retrieval', 'patch matching']</td>\n",
       "      <td>https://github.com/DagnyT/hardnet</td>\n",
       "      <td>0.524190</td>\n",
       "      <td>code/Losses.py code/download_all_datasets.py e...</td>\n",
       "    </tr>\n",
       "    <tr>\n",
       "      <th>1</th>\n",
       "      <td>Phoebe-star/part_aligned</td>\n",
       "      <td>['person re identification']</td>\n",
       "      <td>https://github.com/Phoebe-star/part_aligned</td>\n",
       "      <td>0.545965</td>\n",
       "      <td>heads/fc1024_normalize.py cmc.py heads/fc1024....</td>\n",
       "    </tr>\n",
       "    <tr>\n",
       "      <th>2</th>\n",
       "      <td>Phoebe-star/AlignedReID</td>\n",
       "      <td>['person re identification']</td>\n",
       "      <td>https://github.com/Phoebe-star/AlignedReID</td>\n",
       "      <td>0.550748</td>\n",
       "      <td>cmc.py heads/fc1024.py big_dataset_label.py ne...</td>\n",
       "    </tr>\n",
       "    <tr>\n",
       "      <th>3</th>\n",
       "      <td>vinnik-dmitry07/PlaceRecognition</td>\n",
       "      <td>['visual place recognition', 'image retrieval']</td>\n",
       "      <td>https://github.com/vinnik-dmitry07/PlaceRecogn...</td>\n",
       "      <td>0.556338</td>\n",
       "      <td>main.py hard_triplet_loss.py netvlad.py _pairw...</td>\n",
       "    </tr>\n",
       "    <tr>\n",
       "      <th>4</th>\n",
       "      <td>MayraMacasC/AnomalyDetection</td>\n",
       "      <td>['anomaly detection']</td>\n",
       "      <td>https://github.com/MayraMacasC/AnomalyDetection</td>\n",
       "      <td>0.566667</td>\n",
       "      <td>Anomaly Detection/S_Distance_Matrix.py STAE-AD...</td>\n",
       "    </tr>\n",
       "    <tr>\n",
       "      <th>5</th>\n",
       "      <td>kridgeway/f-statistic-loss-nips-2018</td>\n",
       "      <td>['few shot learning']</td>\n",
       "      <td>https://github.com/kridgeway/f-statistic-loss-...</td>\n",
       "      <td>0.567227</td>\n",
       "      <td>models/deep_metric_learning.py data/sprites.py...</td>\n",
       "    </tr>\n",
       "    <tr>\n",
       "      <th>6</th>\n",
       "      <td>Parth27/ActionRecognitionVideos</td>\n",
       "      <td>['action recognition']</td>\n",
       "      <td>https://github.com/Parth27/ActionRecognitionVi...</td>\n",
       "      <td>0.569983</td>\n",
       "      <td>Code/Process_dataset.py Code/GSM.py Code/Cosin...</td>\n",
       "    </tr>\n",
       "    <tr>\n",
       "      <th>7</th>\n",
       "      <td>empty16/hardnet.pytorch</td>\n",
       "      <td>['image retrieval', 'patch matching']</td>\n",
       "      <td>https://github.com/empty16/hardnet.pytorch</td>\n",
       "      <td>0.582309</td>\n",
       "      <td>examples/extract_hardnet_desc_from_hpatches_fi...</td>\n",
       "    </tr>\n",
       "    <tr>\n",
       "      <th>8</th>\n",
       "      <td>crazydemo/Progressive-Multi-stage-Feature-Mix-...</td>\n",
       "      <td>['person re identification']</td>\n",
       "      <td>https://github.com/crazydemo/Progressive-Multi...</td>\n",
       "      <td>0.595354</td>\n",
       "      <td>models/resnet.py utils/validation_metrics.py d...</td>\n",
       "    </tr>\n",
       "    <tr>\n",
       "      <th>9</th>\n",
       "      <td>i-samenko/Triplet-net</td>\n",
       "      <td>['word embeddings']</td>\n",
       "      <td>https://github.com/i-samenko/Triplet-net</td>\n",
       "      <td>0.596403</td>\n",
       "      <td>trainer.py dataset.py models.py utils.py quali...</td>\n",
       "    </tr>\n",
       "  </tbody>\n",
       "</table>\n",
       "</div>"
      ],
      "text/plain": [
       "                                                repo  \\\n",
       "0                                     DagnyT/hardnet   \n",
       "1                           Phoebe-star/part_aligned   \n",
       "2                            Phoebe-star/AlignedReID   \n",
       "3                   vinnik-dmitry07/PlaceRecognition   \n",
       "4                       MayraMacasC/AnomalyDetection   \n",
       "5               kridgeway/f-statistic-loss-nips-2018   \n",
       "6                    Parth27/ActionRecognitionVideos   \n",
       "7                            empty16/hardnet.pytorch   \n",
       "8  crazydemo/Progressive-Multi-stage-Feature-Mix-...   \n",
       "9                              i-samenko/Triplet-net   \n",
       "\n",
       "                                             tasks  \\\n",
       "0            ['image retrieval', 'patch matching']   \n",
       "1                     ['person re identification']   \n",
       "2                     ['person re identification']   \n",
       "3  ['visual place recognition', 'image retrieval']   \n",
       "4                            ['anomaly detection']   \n",
       "5                            ['few shot learning']   \n",
       "6                           ['action recognition']   \n",
       "7            ['image retrieval', 'patch matching']   \n",
       "8                     ['person re identification']   \n",
       "9                              ['word embeddings']   \n",
       "\n",
       "                                                link  distance  \\\n",
       "0                  https://github.com/DagnyT/hardnet  0.524190   \n",
       "1        https://github.com/Phoebe-star/part_aligned  0.545965   \n",
       "2         https://github.com/Phoebe-star/AlignedReID  0.550748   \n",
       "3  https://github.com/vinnik-dmitry07/PlaceRecogn...  0.556338   \n",
       "4    https://github.com/MayraMacasC/AnomalyDetection  0.566667   \n",
       "5  https://github.com/kridgeway/f-statistic-loss-...  0.567227   \n",
       "6  https://github.com/Parth27/ActionRecognitionVi...  0.569983   \n",
       "7         https://github.com/empty16/hardnet.pytorch  0.582309   \n",
       "8  https://github.com/crazydemo/Progressive-Multi...  0.595354   \n",
       "9           https://github.com/i-samenko/Triplet-net  0.596403   \n",
       "\n",
       "                                        dependencies  \n",
       "0  code/Losses.py code/download_all_datasets.py e...  \n",
       "1  heads/fc1024_normalize.py cmc.py heads/fc1024....  \n",
       "2  cmc.py heads/fc1024.py big_dataset_label.py ne...  \n",
       "3  main.py hard_triplet_loss.py netvlad.py _pairw...  \n",
       "4  Anomaly Detection/S_Distance_Matrix.py STAE-AD...  \n",
       "5  models/deep_metric_learning.py data/sprites.py...  \n",
       "6  Code/Process_dataset.py Code/GSM.py Code/Cosin...  \n",
       "7  examples/extract_hardnet_desc_from_hpatches_fi...  \n",
       "8  models/resnet.py utils/validation_metrics.py d...  \n",
       "9  trainer.py dataset.py models.py utils.py quali...  "
      ]
     },
     "execution_count": 21,
     "metadata": {},
     "output_type": "execute_result"
    }
   ],
   "source": [
    "retrieval_pipeline.search(query, 10, description_length=10, additional_shown_cols=doc_cols)"
   ]
  }
 ],
 "metadata": {
  "kernelspec": {
   "display_name": "Python 3",
   "language": "python",
   "name": "python3"
  },
  "language_info": {
   "codemirror_mode": {
    "name": "ipython",
    "version": 3
   },
   "file_extension": ".py",
   "mimetype": "text/x-python",
   "name": "python",
   "nbconvert_exporter": "python",
   "pygments_lexer": "ipython3",
   "version": "3.8.10"
  }
 },
 "nbformat": 4,
 "nbformat_minor": 5
}
