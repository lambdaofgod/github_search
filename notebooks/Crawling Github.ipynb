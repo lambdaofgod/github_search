{
 "cells": [
  {
   "cell_type": "code",
   "execution_count": 1,
   "metadata": {},
   "outputs": [],
   "source": [
    "#default_exp github_crawling"
   ]
  },
  {
   "cell_type": "code",
   "execution_count": 94,
   "metadata": {},
   "outputs": [],
   "source": [
    "#export\n",
    "import pandas as pd\n",
    "import requests\n",
    "import json\n",
    "from operator import itemgetter\n",
    "import tqdm\n",
    "\n",
    "import os\n",
    "import tqdm\n",
    "import glob\n",
    "from git.repo.base import Repo\n",
    "import pathlib\n",
    "from github_search import paperswithcode_tasks\n",
    "\n",
    "import itertools\n",
    "import codecs\n",
    "import concurrent.futures"
   ]
  },
  {
   "cell_type": "code",
   "execution_count": 3,
   "metadata": {},
   "outputs": [
    {
     "name": "stdout",
     "output_type": "stream",
     "text": [
      "/home/kuba/Projects/github_search\n"
     ]
    }
   ],
   "source": [
    "%cd .."
   ]
  },
  {
   "cell_type": "markdown",
   "metadata": {},
   "source": [
    "# Crawling github\n",
    "\n",
    "Getting Python files from github repos\n",
    "\n",
    "Before running that code put your github auth token in data/token.txt. Doing this will increase rate limit from 60 to 5000 calls per hour.\n",
    "\n",
    "`_get_tree` gets file tree from github repository\n",
    "\n",
    "`_get_python_files` retrieves Python files from a given repository: it returns tuples consisting of\n",
    "\n",
    "owner, repo_name, file path, file content, hash of file content\n",
    "\n",
    "\n",
    "`get_python_files_df` puts information described above into dataframe with appropriate column names "
   ]
  },
  {
   "cell_type": "code",
   "execution_count": 71,
   "metadata": {},
   "outputs": [],
   "source": [
    "#export\n",
    "\n",
    "token = open('data/token.txt', 'r').read().strip()\n",
    "\n",
    "\n",
    "def _get_tree(owner, repo_name):\n",
    "    url_template = 'https://api.github.com/repos/{}/{}/git/trees/master?recursive=1'\n",
    "    headers = {'Authorization': 'token ' + token}\n",
    "    url = url_template.format(owner, repo_name)\n",
    "    return requests.get(url, headers=headers)\n",
    "\n",
    "\n",
    "def _get_python_files(owner, repo_name):\n",
    "    try:\n",
    "        files = json.loads(_get_tree(owner, repo_name).text)['tree']\n",
    "        for maybe_file in files:\n",
    "            path = maybe_file['path']\n",
    "            extension = path.split('.')[-1]\n",
    "            is_valid_file = extension == 'py'# or os.path.basename(path) == 'README.md' \n",
    "            if maybe_file['type'] == 'blob' and is_valid_file:\n",
    "                path = maybe_file['path']\n",
    "                raw_file_url_template = 'https://raw.githubusercontent.com/{}/{}/master/{}'\n",
    "                raw_file_url = raw_file_url_template.format(owner, repo_name, path)\n",
    "                yield owner, repo_name, path, requests.get(raw_file_url).text, maybe_file['sha']\n",
    "            \n",
    "    except (KeyError, json.JSONDecodeError) as e:\n",
    "        print('failed for {}/{}'.format(owner, repo_name))\n",
    "        print(type(e))\n",
    "        print(e)\n",
    "        return\n",
    "        yield"
   ]
  },
  {
   "cell_type": "code",
   "execution_count": 72,
   "metadata": {},
   "outputs": [],
   "source": [
    "example_owner = 'lambdaofgod'\n",
    "example_repo = 'mlutil'"
   ]
  },
  {
   "cell_type": "markdown",
   "metadata": {},
   "source": [
    "Getting python files should return empty list when ran on nonexisting repository"
   ]
  },
  {
   "cell_type": "code",
   "execution_count": 73,
   "metadata": {},
   "outputs": [
    {
     "name": "stdout",
     "output_type": "stream",
     "text": [
      "failed for lambdaofgod/examples_counterexamples\n",
      "<class 'KeyError'>\n",
      "'tree'\n"
     ]
    }
   ],
   "source": [
    "assert list(_get_python_files('lambdaofgod', 'examples_counterexamples')) == []"
   ]
  },
  {
   "cell_type": "markdown",
   "metadata": {},
   "source": [
    "Getting python files should return correct number of files for an existing repository "
   ]
  },
  {
   "cell_type": "code",
   "execution_count": 79,
   "metadata": {},
   "outputs": [],
   "source": [
    "python_file_tuples = list(_get_python_files('lambdaofgod', 'mlutil'))\n",
    "assert len(python_file_tuples) == 27 "
   ]
  },
  {
   "cell_type": "code",
   "execution_count": 80,
   "metadata": {},
   "outputs": [],
   "source": [
    "#export\n",
    "\n",
    "\n",
    "def _make_python_files_df(file_tuples):\n",
    "    if len(file_tuples) > 0:\n",
    "        df = pd.DataFrame.from_records(file_tuples)\n",
    "        df.columns = ['owner', 'repo_name', 'file_path', 'content', 'sha']\n",
    "        return df\n",
    "    else:\n",
    "        return pd.DataFrame({})\n",
    "\n",
    "\n",
    "def get_python_files_df(owner, repo_name):\n",
    "    file_tuples = list(_get_python_files(owner, repo_name))\n",
    "    return _make_python_files_df(file_tuples)"
   ]
  },
  {
   "cell_type": "code",
   "execution_count": 81,
   "metadata": {},
   "outputs": [],
   "source": [
    "df_cols = list(_make_python_files_df(python_file_tuples).columns)\n",
    "assert df_cols == ['owner', 'repo_name', 'file_path', 'content', 'sha']"
   ]
  },
  {
   "cell_type": "markdown",
   "metadata": {},
   "source": [
    "## Brute force - clone repos"
   ]
  },
  {
   "cell_type": "code",
   "execution_count": 82,
   "metadata": {},
   "outputs": [],
   "source": [
    "!mkdir -p repos"
   ]
  },
  {
   "cell_type": "code",
   "execution_count": 123,
   "metadata": {},
   "outputs": [],
   "source": [
    "#export\n",
    "\n",
    "def clone_repo(destination_prefix, repo_name):\n",
    "    dest_path = os.path.join(destination_prefix, repo_name)\n",
    "    if not os.path.exists(dest_path):\n",
    "        Repo.clone_from(\"https://github.com/{}\".format(repo_name), dest_path)\n",
    "        for p in pathlib.Path(dest_path).rglob(\"*\"):\n",
    "            if os.path.isfile(p) and not (str(p).endswith(\".py\") or str(p).endswith(\".md\")):\n",
    "                os.remove(p)\n",
    "                \n",
    "def clone_repos(repos, max_workers=2, destination_prefix=\"repos\"):\n",
    "    def _clone_repo(repo_name):\n",
    "        try:\n",
    "            clone_repo(destination_prefix, repo_name)\n",
    "        except Exception as e:\n",
    "            print(e)\n",
    "    results = list(tqdm.tqdm(map(_clone_repo, repos), total=len(repos)))"
   ]
  },
  {
   "cell_type": "code",
   "execution_count": 124,
   "metadata": {},
   "outputs": [],
   "source": [
    "def get_python_files_generator_from_directory(dir_path):\n",
    "    for p in pathlib.Path(dir_path).rglob(\"*.py\"):\n",
    "        try:\n",
    "            with codecs.open(p, 'r', encoding='utf-8') as f:\n",
    "                path = str(p)\n",
    "                contents = f.read().strip().encode('utf-8').decode('utf-8')\n",
    "                if len(contents) > 0:\n",
    "                    yield path, contents\n",
    "        except (FileNotFoundError, IsADirectoryError, UnicodeDecodeError):\n",
    "            pass\n",
    "            \n",
    "def make_python_files_df_from_directory(dir_path):\n",
    "    repo_name = \"/\".join(dir_path.split(\"/\")[-2:])\n",
    "    paths_with_contents = list(zip(*list(get_python_files_generator_from_directory(dir_path))))\n",
    "    if len(paths_with_contents) == 2:\n",
    "        paths, contents = zip(*list(get_python_files_generator_from_directory(dir_path)))\n",
    "        df = pd.DataFrame({\"content\": contents, \"path\": paths})\n",
    "        df['path'] = df['path'].str.replace(dir_path + \"/\", \"\")\n",
    "        df['repo_name'] = repo_name\n",
    "        return df"
   ]
  },
  {
   "cell_type": "code",
   "execution_count": 125,
   "metadata": {},
   "outputs": [],
   "source": [
    "def check_if_python_files_exist(dir_prefix, repo):\n",
    "    maybe_python_files = itertools.islice(pathlib.Path(\"repos/\" + repo).rglob(\"*.py\"), 1)\n",
    "    return len(list(maybe_python_files)) > 0"
   ]
  },
  {
   "cell_type": "code",
   "execution_count": 120,
   "metadata": {},
   "outputs": [
    {
     "name": "stderr",
     "output_type": "stream",
     "text": [
      "Exception ignored in: <function Repo.__del__ at 0x7f1714a09ee0>\n",
      "Traceback (most recent call last):\n",
      "  File \"/home/kuba/.local/lib/python3.8/site-packages/git/repo/base.py\", line 218, in __del__\n",
      "    try:\n",
      "KeyboardInterrupt: \n"
     ]
    }
   ],
   "source": [
    "paperswithcode_df, all_papers_df = paperswithcode_tasks.get_paperswithcode_dfs()"
   ]
  },
  {
   "cell_type": "code",
   "execution_count": 127,
   "metadata": {},
   "outputs": [],
   "source": [
    "!ls repos/"
   ]
  },
  {
   "cell_type": "code",
   "execution_count": 128,
   "metadata": {},
   "outputs": [
    {
     "name": "stderr",
     "output_type": "stream",
     "text": [
      "  0%|          | 151/46292 [06:46<20:24:13,  1.59s/it]"
     ]
    },
    {
     "name": "stdout",
     "output_type": "stream",
     "text": [
      "Cmd('git') failed due to: exit code(128)\n",
      "  cmdline: git clone -v https://github.com/GartontT/CHIMERA repos/GartontT/CHIMERA\n",
      "  stderr: 'Cloning into 'repos/GartontT/CHIMERA'...\n",
      "fatal: could not read Username for 'https://github.com': No such device or address\n",
      "'\n"
     ]
    },
    {
     "name": "stderr",
     "output_type": "stream",
     "text": [
      "  0%|          | 218/46292 [08:40<9:47:17,  1.31it/s] "
     ]
    },
    {
     "name": "stdout",
     "output_type": "stream",
     "text": [
      "Cmd('git') failed due to: exit code(128)\n",
      "  cmdline: git clone -v https://github.com/ladadidadida/Self-Attention-GAN repos/ladadidadida/Self-Attention-GAN\n",
      "  stderr: 'Cloning into 'repos/ladadidadida/Self-Attention-GAN'...\n",
      "fatal: could not read Username for 'https://github.com': No such device or address\n",
      "'\n"
     ]
    },
    {
     "name": "stderr",
     "output_type": "stream",
     "text": [
      "  1%|          | 340/46292 [13:16<14:50:46,  1.16s/it]"
     ]
    },
    {
     "name": "stdout",
     "output_type": "stream",
     "text": [
      "Cmd('git') failed due to: exit code(128)\n",
      "  cmdline: git clone -v https://github.com/MatthiasNickles/DelSAT repos/MatthiasNickles/DelSAT\n",
      "  stderr: 'Cloning into 'repos/MatthiasNickles/DelSAT'...\n",
      "fatal: could not read Username for 'https://github.com': No such device or address\n",
      "'\n"
     ]
    },
    {
     "name": "stderr",
     "output_type": "stream",
     "text": [
      "  1%|          | 501/46292 [18:41<11:38:56,  1.09it/s] "
     ]
    },
    {
     "name": "stdout",
     "output_type": "stream",
     "text": [
      "Cmd('git') failed due to: exit code(128)\n",
      "  cmdline: git clone -v https://github.com/seowok/TreeGAN repos/seowok/TreeGAN\n",
      "  stderr: 'Cloning into 'repos/seowok/TreeGAN'...\n",
      "fatal: could not read Username for 'https://github.com': No such device or address\n",
      "'\n"
     ]
    },
    {
     "name": "stderr",
     "output_type": "stream",
     "text": [
      "  1%|          | 504/46292 [18:46<17:27:54,  1.37s/it]"
     ]
    },
    {
     "name": "stdout",
     "output_type": "stream",
     "text": [
      "Cmd('git') failed due to: exit code(128)\n",
      "  cmdline: git clone -v https://github.com/seowok/TreeGAN repos/seowok/TreeGAN\n",
      "  stderr: 'Cloning into 'repos/seowok/TreeGAN'...\n",
      "fatal: could not read Username for 'https://github.com': No such device or address\n",
      "'\n"
     ]
    },
    {
     "name": "stderr",
     "output_type": "stream",
     "text": [
      "  2%|▏         | 773/46292 [26:41<10:47:54,  1.17it/s] "
     ]
    },
    {
     "name": "stdout",
     "output_type": "stream",
     "text": [
      "Cmd('git') failed due to: exit code(128)\n",
      "  cmdline: git clone -v https://github.com/ladadidadida/Self-Attention-GAN repos/ladadidadida/Self-Attention-GAN\n",
      "  stderr: 'Cloning into 'repos/ladadidadida/Self-Attention-GAN'...\n",
      "fatal: could not read Username for 'https://github.com': No such device or address\n",
      "'\n"
     ]
    },
    {
     "name": "stderr",
     "output_type": "stream",
     "text": [
      "  2%|▏         | 851/46292 [30:07<9:38:25,  1.31it/s]  "
     ]
    },
    {
     "name": "stdout",
     "output_type": "stream",
     "text": [
      "Cmd('git') failed due to: exit code(128)\n",
      "  cmdline: git clone -v https://github.com/Anyesh/my-bert repos/Anyesh/my-bert\n",
      "  stderr: 'Cloning into 'repos/Anyesh/my-bert'...\n",
      "fatal: could not read Username for 'https://github.com': No such device or address\n",
      "'\n"
     ]
    },
    {
     "name": "stderr",
     "output_type": "stream",
     "text": [
      "\r",
      "  2%|▏         | 852/46292 [30:07<7:43:21,  1.63it/s]"
     ]
    },
    {
     "name": "stdout",
     "output_type": "stream",
     "text": [
      "Cmd('git') failed due to: exit code(128)\n",
      "  cmdline: git clone -v https://github.com/Anyesh/my-bert repos/Anyesh/my-bert\n",
      "  stderr: 'Cloning into 'repos/Anyesh/my-bert'...\n",
      "fatal: could not read Username for 'https://github.com': No such device or address\n",
      "'\n"
     ]
    },
    {
     "name": "stderr",
     "output_type": "stream",
     "text": [
      "\r",
      "  2%|▏         | 853/46292 [30:07<6:26:14,  1.96it/s]"
     ]
    },
    {
     "name": "stdout",
     "output_type": "stream",
     "text": [
      "Cmd('git') failed due to: exit code(128)\n",
      "  cmdline: git clone -v https://github.com/Anyesh/my-bert repos/Anyesh/my-bert\n",
      "  stderr: 'Cloning into 'repos/Anyesh/my-bert'...\n",
      "fatal: could not read Username for 'https://github.com': No such device or address\n",
      "'\n"
     ]
    },
    {
     "name": "stderr",
     "output_type": "stream",
     "text": [
      "  2%|▏         | 888/46292 [31:43<19:43:40,  1.56s/it] "
     ]
    },
    {
     "name": "stdout",
     "output_type": "stream",
     "text": [
      "Cmd('git') failed due to: exit code(128)\n",
      "  cmdline: git clone -v https://github.com/tensorpack/tensorpack/tree/master/examples/Saliency repos/tensorpack/tensorpack/tree/master/examples/Saliency\n",
      "  stderr: 'Cloning into 'repos/tensorpack/tensorpack/tree/master/examples/Saliency'...\n",
      "fatal: repository 'https://github.com/tensorpack/tensorpack/tree/master/examples/Saliency/' not found\n",
      "'\n"
     ]
    },
    {
     "name": "stderr",
     "output_type": "stream",
     "text": [
      "  3%|▎         | 1179/46292 [40:42<13:01:02,  1.04s/it] "
     ]
    },
    {
     "name": "stdout",
     "output_type": "stream",
     "text": [
      "Cmd('git') failed due to: exit code(128)\n",
      "  cmdline: git clone -v https://github.com/shrutimoy10/Preconditioning-Kernel-Matrices repos/shrutimoy10/Preconditioning-Kernel-Matrices\n",
      "  stderr: 'Cloning into 'repos/shrutimoy10/Preconditioning-Kernel-Matrices'...\n",
      "fatal: could not read Username for 'https://github.com': No such device or address\n",
      "'\n"
     ]
    },
    {
     "name": "stderr",
     "output_type": "stream",
     "text": [
      "  3%|▎         | 1250/46292 [42:26<21:27:19,  1.71s/it]"
     ]
    },
    {
     "name": "stdout",
     "output_type": "stream",
     "text": [
      "Cmd('git') failed due to: exit code(128)\n",
      "  cmdline: git clone -v https://github.com/weihaox/SR-Net repos/weihaox/SR-Net\n",
      "  stderr: 'Cloning into 'repos/weihaox/SR-Net'...\n",
      "fatal: could not read Username for 'https://github.com': No such device or address\n",
      "'\n"
     ]
    },
    {
     "name": "stderr",
     "output_type": "stream",
     "text": [
      "  3%|▎         | 1265/46292 [42:35<10:35:39,  1.18it/s]"
     ]
    },
    {
     "name": "stdout",
     "output_type": "stream",
     "text": [
      "Cmd('git') failed due to: exit code(128)\n",
      "  cmdline: git clone -v https://github.com/pashu123/Satellite-Data-Analysis repos/pashu123/Satellite-Data-Analysis\n",
      "  stderr: 'Cloning into 'repos/pashu123/Satellite-Data-Analysis'...\n",
      "fatal: could not read Username for 'https://github.com': No such device or address\n",
      "'\n"
     ]
    },
    {
     "name": "stderr",
     "output_type": "stream",
     "text": [
      "  3%|▎         | 1274/46292 [43:03<43:23:01,  3.47s/it]"
     ]
    },
    {
     "name": "stdout",
     "output_type": "stream",
     "text": [
      "Cmd('git') failed due to: exit code(128)\n",
      "  cmdline: git clone -v https://github.com/https://worksheets.codalab.org/worksheets/0xc9db508bb80446d2b66cbc8e2c74c052 repos/https://worksheets.codalab.org/worksheets/0xc9db508bb80446d2b66cbc8e2c74c052\n",
      "  stderr: 'Cloning into 'repos/https://worksheets.codalab.org/worksheets/0xc9db508bb80446d2b66cbc8e2c74c052'...\n",
      "remote: Not Found\n",
      "fatal: repository 'https://github.com/https://worksheets.codalab.org/worksheets/0xc9db508bb80446d2b66cbc8e2c74c052/' not found\n",
      "'\n"
     ]
    },
    {
     "name": "stderr",
     "output_type": "stream",
     "text": [
      "  3%|▎         | 1280/46292 [43:04<11:11:52,  1.12it/s]"
     ]
    },
    {
     "name": "stdout",
     "output_type": "stream",
     "text": [
      "Cmd('git') failed due to: exit code(128)\n",
      "  cmdline: git clone -v https://github.com/https://worksheets.codalab.org/worksheets/0xd2fb12d9f637460db16c110b5d3f2ca5 repos/https://worksheets.codalab.org/worksheets/0xd2fb12d9f637460db16c110b5d3f2ca5\n",
      "  stderr: 'Cloning into 'repos/https://worksheets.codalab.org/worksheets/0xd2fb12d9f637460db16c110b5d3f2ca5'...\n",
      "remote: Not Found\n",
      "fatal: repository 'https://github.com/https://worksheets.codalab.org/worksheets/0xd2fb12d9f637460db16c110b5d3f2ca5/' not found\n",
      "'\n"
     ]
    },
    {
     "name": "stderr",
     "output_type": "stream",
     "text": [
      "  3%|▎         | 1291/46292 [43:13<9:29:48,  1.32it/s] "
     ]
    },
    {
     "name": "stdout",
     "output_type": "stream",
     "text": [
      "Cmd('git') failed due to: exit code(128)\n",
      "  cmdline: git clone -v https://github.com/https://worksheets.codalab.org/worksheets/0xf8dfe5bcc1dc408fb54b3cc15a5abce8 repos/https://worksheets.codalab.org/worksheets/0xf8dfe5bcc1dc408fb54b3cc15a5abce8\n",
      "  stderr: 'Cloning into 'repos/https://worksheets.codalab.org/worksheets/0xf8dfe5bcc1dc408fb54b3cc15a5abce8'...\n",
      "remote: Not Found\n",
      "fatal: repository 'https://github.com/https://worksheets.codalab.org/worksheets/0xf8dfe5bcc1dc408fb54b3cc15a5abce8/' not found\n",
      "'\n"
     ]
    },
    {
     "name": "stderr",
     "output_type": "stream",
     "text": [
      "\r",
      "  3%|▎         | 1292/46292 [43:13<8:25:03,  1.48it/s]"
     ]
    },
    {
     "name": "stdout",
     "output_type": "stream",
     "text": [
      "Cmd('git') failed due to: exit code(128)\n",
      "  cmdline: git clone -v https://github.com/https://worksheets.codalab.org/worksheets/0x2b314dc3536b482dbba02783a24719fd repos/https://worksheets.codalab.org/worksheets/0x2b314dc3536b482dbba02783a24719fd\n",
      "  stderr: 'Cloning into 'repos/https://worksheets.codalab.org/worksheets/0x2b314dc3536b482dbba02783a24719fd'...\n",
      "remote: Not Found\n",
      "fatal: repository 'https://github.com/https://worksheets.codalab.org/worksheets/0x2b314dc3536b482dbba02783a24719fd/' not found\n",
      "'\n"
     ]
    },
    {
     "name": "stderr",
     "output_type": "stream",
     "text": [
      "  3%|▎         | 1302/46292 [43:29<20:41:59,  1.66s/it]"
     ]
    },
    {
     "name": "stdout",
     "output_type": "stream",
     "text": [
      "Cmd('git') failed due to: exit code(128)\n",
      "  cmdline: git clone -v https://github.com/gpmaratos/pytorch.rgrasp repos/gpmaratos/pytorch.rgrasp\n",
      "  stderr: 'Cloning into 'repos/gpmaratos/pytorch.rgrasp'...\n",
      "fatal: could not read Username for 'https://github.com': No such device or address\n",
      "'\n"
     ]
    },
    {
     "name": "stderr",
     "output_type": "stream",
     "text": [
      "  3%|▎         | 1341/46292 [45:13<36:03:25,  2.89s/it] "
     ]
    },
    {
     "name": "stdout",
     "output_type": "stream",
     "text": [
      "Cmd('git') failed due to: exit code(128)\n",
      "  cmdline: git clone -v https://github.com/astooke/rlpyt/tree/master/rlpyt/ul repos/astooke/rlpyt/tree/master/rlpyt/ul\n",
      "  stderr: 'Cloning into 'repos/astooke/rlpyt/tree/master/rlpyt/ul'...\n",
      "fatal: repository 'https://github.com/astooke/rlpyt/tree/master/rlpyt/ul/' not found\n",
      "'\n"
     ]
    },
    {
     "name": "stderr",
     "output_type": "stream",
     "text": [
      "  3%|▎         | 1454/46292 [49:37<18:48:10,  1.51s/it] "
     ]
    },
    {
     "name": "stdout",
     "output_type": "stream",
     "text": [
      "Cmd('git') failed due to: exit code(128)\n",
      "  cmdline: git clone -v https://github.com/MatthiasNickles/DelSAT repos/MatthiasNickles/DelSAT\n",
      "  stderr: 'Cloning into 'repos/MatthiasNickles/DelSAT'...\n",
      "fatal: could not read Username for 'https://github.com': No such device or address\n",
      "'\n"
     ]
    },
    {
     "name": "stderr",
     "output_type": "stream",
     "text": [
      "\r",
      "  3%|▎         | 1456/46292 [49:37<11:32:05,  1.08it/s]"
     ]
    },
    {
     "name": "stdout",
     "output_type": "stream",
     "text": [
      "Cmd('git') failed due to: exit code(128)\n",
      "  cmdline: git clone -v https://github.com/tensorpack/tensorpack/tree/master/examples/ResNet repos/tensorpack/tensorpack/tree/master/examples/ResNet\n",
      "  stderr: 'Cloning into 'repos/tensorpack/tensorpack/tree/master/examples/ResNet'...\n",
      "fatal: repository 'https://github.com/tensorpack/tensorpack/tree/master/examples/ResNet/' not found\n",
      "'\n"
     ]
    },
    {
     "name": "stderr",
     "output_type": "stream",
     "text": [
      "\r",
      "  3%|▎         | 1457/46292 [49:38<9:31:45,  1.31it/s] "
     ]
    },
    {
     "name": "stdout",
     "output_type": "stream",
     "text": [
      "Cmd('git') failed due to: exit code(128)\n",
      "  cmdline: git clone -v https://github.com/tensorpack/tensorpack/tree/master/examples/ResNet repos/tensorpack/tensorpack/tree/master/examples/ResNet\n",
      "  stderr: 'Cloning into 'repos/tensorpack/tensorpack/tree/master/examples/ResNet'...\n",
      "fatal: repository 'https://github.com/tensorpack/tensorpack/tree/master/examples/ResNet/' not found\n",
      "'\n"
     ]
    },
    {
     "name": "stderr",
     "output_type": "stream",
     "text": [
      "\r",
      "  3%|▎         | 1458/46292 [49:38<7:51:57,  1.58it/s]"
     ]
    },
    {
     "name": "stdout",
     "output_type": "stream",
     "text": [
      "Cmd('git') failed due to: exit code(128)\n",
      "  cmdline: git clone -v https://github.com/tensorpack/tensorpack/tree/master/examples/ResNet repos/tensorpack/tensorpack/tree/master/examples/ResNet\n",
      "  stderr: 'Cloning into 'repos/tensorpack/tensorpack/tree/master/examples/ResNet'...\n",
      "fatal: repository 'https://github.com/tensorpack/tensorpack/tree/master/examples/ResNet/' not found\n",
      "'\n"
     ]
    },
    {
     "name": "stderr",
     "output_type": "stream",
     "text": [
      "\r",
      "  3%|▎         | 1459/46292 [49:38<6:34:41,  1.89it/s]"
     ]
    },
    {
     "name": "stdout",
     "output_type": "stream",
     "text": [
      "Cmd('git') failed due to: exit code(128)\n",
      "  cmdline: git clone -v https://github.com/tensorpack/tensorpack/tree/master/examples/ResNet repos/tensorpack/tensorpack/tree/master/examples/ResNet\n",
      "  stderr: 'Cloning into 'repos/tensorpack/tensorpack/tree/master/examples/ResNet'...\n",
      "fatal: repository 'https://github.com/tensorpack/tensorpack/tree/master/examples/ResNet/' not found\n",
      "'\n"
     ]
    },
    {
     "name": "stderr",
     "output_type": "stream",
     "text": [
      "  3%|▎         | 1560/46292 [52:16<5:15:24,  2.36it/s] "
     ]
    },
    {
     "name": "stdout",
     "output_type": "stream",
     "text": [
      "Cmd('git') failed due to: exit code(128)\n",
      "  cmdline: git clone -v https://github.com/lin-zhao-resoLve/stylegan2-master repos/lin-zhao-resoLve/stylegan2-master\n",
      "  stderr: 'Cloning into 'repos/lin-zhao-resoLve/stylegan2-master'...\n",
      "fatal: could not read Username for 'https://github.com': No such device or address\n",
      "'\n"
     ]
    },
    {
     "name": "stderr",
     "output_type": "stream",
     "text": [
      "  4%|▍         | 1791/46292 [1:01:20<41:47:10,  3.38s/it] "
     ]
    },
    {
     "name": "stdout",
     "output_type": "stream",
     "text": [
      "Cmd('git') failed due to: exit code(128)\n",
      "  cmdline: git clone -v https://github.com/FedML-AI/FedML/tree/master/fedml_experiments/standalone/decentralized repos/FedML-AI/FedML/tree/master/fedml_experiments/standalone/decentralized\n",
      "  stderr: 'Cloning into 'repos/FedML-AI/FedML/tree/master/fedml_experiments/standalone/decentralized'...\n",
      "fatal: repository 'https://github.com/FedML-AI/FedML/tree/master/fedml_experiments/standalone/decentralized/' not found\n",
      "'\n"
     ]
    },
    {
     "name": "stderr",
     "output_type": "stream",
     "text": [
      "  4%|▍         | 1926/46292 [1:06:02<8:45:17,  1.41it/s]  "
     ]
    },
    {
     "name": "stdout",
     "output_type": "stream",
     "text": [
      "Cmd('git') failed due to: exit code(128)\n",
      "  cmdline: git clone -v https://github.com/Eunice330/model-based-RL repos/Eunice330/model-based-RL\n",
      "  stderr: 'Cloning into 'repos/Eunice330/model-based-RL'...\n",
      "fatal: could not read Username for 'https://github.com': No such device or address\n",
      "'\n"
     ]
    },
    {
     "name": "stderr",
     "output_type": "stream",
     "text": [
      "  4%|▍         | 2060/46292 [1:10:49<8:20:21,  1.47it/s]  "
     ]
    },
    {
     "name": "stdout",
     "output_type": "stream",
     "text": [
      "Cmd('git') failed due to: exit code(128)\n",
      "  cmdline: git clone -v https://github.com/riohib/GSP repos/riohib/GSP\n",
      "  stderr: 'Cloning into 'repos/riohib/GSP'...\n",
      "fatal: could not read Username for 'https://github.com': No such device or address\n",
      "'\n"
     ]
    },
    {
     "name": "stderr",
     "output_type": "stream",
     "text": [
      "  4%|▍         | 2075/46292 [1:11:03<8:35:10,  1.43it/s] "
     ]
    },
    {
     "name": "stdout",
     "output_type": "stream",
     "text": [
      "Cmd('git') failed due to: exit code(128)\n",
      "  cmdline: git clone -v https://github.com/Tradeshift/attend-copy-parse repos/Tradeshift/attend-copy-parse\n",
      "  stderr: 'Cloning into 'repos/Tradeshift/attend-copy-parse'...\n",
      "fatal: could not read Username for 'https://github.com': No such device or address\n",
      "'\n"
     ]
    },
    {
     "name": "stderr",
     "output_type": "stream",
     "text": [
      "  5%|▍         | 2136/46292 [1:15:02<9:13:59,  1.33it/s]  "
     ]
    },
    {
     "name": "stdout",
     "output_type": "stream",
     "text": [
      "Cmd('git') failed due to: exit code(128)\n",
      "  cmdline: git clone -v https://github.com/jrfilocao/LASER-Thesis repos/jrfilocao/LASER-Thesis\n",
      "  stderr: 'Cloning into 'repos/jrfilocao/LASER-Thesis'...\n",
      "fatal: could not read Username for 'https://github.com': No such device or address\n",
      "'\n"
     ]
    },
    {
     "name": "stderr",
     "output_type": "stream",
     "text": [
      "  5%|▍         | 2141/46292 [1:15:07<11:37:01,  1.06it/s]"
     ]
    },
    {
     "name": "stdout",
     "output_type": "stream",
     "text": [
      "Cmd('git') failed due to: exit code(128)\n",
      "  cmdline: git clone -v https://github.com/adichaloo/EdgeNet repos/adichaloo/EdgeNet\n",
      "  stderr: 'Cloning into 'repos/adichaloo/EdgeNet'...\n",
      "fatal: could not read Username for 'https://github.com': No such device or address\n",
      "'\n"
     ]
    },
    {
     "name": "stderr",
     "output_type": "stream",
     "text": [
      "\r",
      "  5%|▍         | 2142/46292 [1:15:07<9:31:00,  1.29it/s] "
     ]
    },
    {
     "name": "stdout",
     "output_type": "stream",
     "text": [
      "Cmd('git') failed due to: exit code(128)\n",
      "  cmdline: git clone -v https://github.com/adichaloo/EdgeNet repos/adichaloo/EdgeNet\n",
      "  stderr: 'Cloning into 'repos/adichaloo/EdgeNet'...\n",
      "fatal: could not read Username for 'https://github.com': No such device or address\n",
      "'\n"
     ]
    },
    {
     "name": "stderr",
     "output_type": "stream",
     "text": [
      "\r",
      "  5%|▍         | 2143/46292 [1:15:07<7:50:10,  1.56it/s]"
     ]
    },
    {
     "name": "stdout",
     "output_type": "stream",
     "text": [
      "Cmd('git') failed due to: exit code(128)\n",
      "  cmdline: git clone -v https://github.com/adichaloo/EdgeNet repos/adichaloo/EdgeNet\n",
      "  stderr: 'Cloning into 'repos/adichaloo/EdgeNet'...\n",
      "fatal: could not read Username for 'https://github.com': No such device or address\n",
      "'\n"
     ]
    },
    {
     "name": "stderr",
     "output_type": "stream",
     "text": [
      "  5%|▍         | 2166/46292 [1:15:48<9:29:20,  1.29it/s] "
     ]
    },
    {
     "name": "stdout",
     "output_type": "stream",
     "text": [
      "Cmd('git') failed due to: exit code(128)\n",
      "  cmdline: git clone -v https://github.com/xdr940/xdr94_mono2 repos/xdr940/xdr94_mono2\n",
      "  stderr: 'Cloning into 'repos/xdr940/xdr94_mono2'...\n",
      "fatal: could not read Username for 'https://github.com': No such device or address\n",
      "'\n"
     ]
    },
    {
     "name": "stderr",
     "output_type": "stream",
     "text": [
      "  5%|▍         | 2170/46292 [1:15:56<16:12:00,  1.32s/it]"
     ]
    },
    {
     "name": "stdout",
     "output_type": "stream",
     "text": [
      "Cmd('git') failed due to: exit code(128)\n",
      "  cmdline: git clone -v https://github.com/jrfilocao/LASER-Thesis repos/jrfilocao/LASER-Thesis\n",
      "  stderr: 'Cloning into 'repos/jrfilocao/LASER-Thesis'...\n",
      "fatal: could not read Username for 'https://github.com': No such device or address\n",
      "'\n"
     ]
    },
    {
     "name": "stderr",
     "output_type": "stream",
     "text": [
      "  5%|▍         | 2223/46292 [1:16:56<8:22:53,  1.46it/s] "
     ]
    },
    {
     "name": "stdout",
     "output_type": "stream",
     "text": [
      "Cmd('git') failed due to: exit code(128)\n",
      "  cmdline: git clone -v https://github.com/prdalmia/gpgpu-sim_lab repos/prdalmia/gpgpu-sim_lab\n",
      "  stderr: 'Cloning into 'repos/prdalmia/gpgpu-sim_lab'...\n",
      "fatal: could not read Username for 'https://github.com': No such device or address\n",
      "'\n"
     ]
    },
    {
     "name": "stderr",
     "output_type": "stream",
     "text": [
      "  5%|▍         | 2240/46292 [1:17:19<10:08:39,  1.21it/s]"
     ]
    },
    {
     "name": "stdout",
     "output_type": "stream",
     "text": [
      "Cmd('git') failed due to: exit code(128)\n",
      "  cmdline: git clone -v https://github.com/jingkunchen/StyleGAN repos/jingkunchen/StyleGAN\n",
      "  stderr: 'Cloning into 'repos/jingkunchen/StyleGAN'...\n",
      "fatal: could not read Username for 'https://github.com': No such device or address\n",
      "'\n"
     ]
    },
    {
     "name": "stderr",
     "output_type": "stream",
     "text": [
      "  5%|▍         | 2242/46292 [1:17:20<7:49:58,  1.56it/s] "
     ]
    },
    {
     "name": "stdout",
     "output_type": "stream",
     "text": [
      "Cmd('git') failed due to: exit code(128)\n",
      "  cmdline: git clone -v https://github.com/prdalmia/gpgpu-sim_lab repos/prdalmia/gpgpu-sim_lab\n",
      "  stderr: 'Cloning into 'repos/prdalmia/gpgpu-sim_lab'...\n",
      "fatal: could not read Username for 'https://github.com': No such device or address\n",
      "'\n"
     ]
    },
    {
     "name": "stderr",
     "output_type": "stream",
     "text": [
      "  5%|▍         | 2311/46292 [1:19:03<27:29:38,  2.25s/it]"
     ]
    },
    {
     "name": "stdout",
     "output_type": "stream",
     "text": [
      "Cmd('git') failed due to: exit code(128)\n",
      "  cmdline: git clone -v https://github.com/google-research/google-research/tree/master/enas_lm repos/google-research/google-research/tree/master/enas_lm\n",
      "  stderr: 'Cloning into 'repos/google-research/google-research/tree/master/enas_lm'...\n",
      "fatal: repository 'https://github.com/google-research/google-research/tree/master/enas_lm/' not found\n",
      "'\n"
     ]
    },
    {
     "name": "stderr",
     "output_type": "stream",
     "text": [
      "  5%|▌         | 2356/46292 [1:20:49<9:49:49,  1.24it/s] "
     ]
    },
    {
     "name": "stdout",
     "output_type": "stream",
     "text": [
      "Cmd('git') failed due to: exit code(128)\n",
      "  cmdline: git clone -v https://github.com/google-research/google-research/tree/master/enas_lm repos/google-research/google-research/tree/master/enas_lm\n",
      "  stderr: 'Cloning into 'repos/google-research/google-research/tree/master/enas_lm'...\n",
      "fatal: repository 'https://github.com/google-research/google-research/tree/master/enas_lm/' not found\n",
      "'\n"
     ]
    },
    {
     "name": "stderr",
     "output_type": "stream",
     "text": [
      "\r",
      "  5%|▌         | 2357/46292 [1:20:50<8:15:57,  1.48it/s]"
     ]
    },
    {
     "name": "stdout",
     "output_type": "stream",
     "text": [
      "Cmd('git') failed due to: exit code(128)\n",
      "  cmdline: git clone -v https://github.com/google-research/google-research/tree/master/enas_lm repos/google-research/google-research/tree/master/enas_lm\n",
      "  stderr: 'Cloning into 'repos/google-research/google-research/tree/master/enas_lm'...\n",
      "fatal: repository 'https://github.com/google-research/google-research/tree/master/enas_lm/' not found\n",
      "'\n"
     ]
    },
    {
     "name": "stderr",
     "output_type": "stream",
     "text": [
      "  5%|▌         | 2387/46292 [1:23:00<146:51:00, 12.04s/it]"
     ]
    },
    {
     "name": "stdout",
     "output_type": "stream",
     "text": [
      "Cmd('git') failed due to: exit code(128)\n",
      "  cmdline: git clone -v https://github.com/jrfilocao/LASER-Thesis repos/jrfilocao/LASER-Thesis\n",
      "  stderr: 'Cloning into 'repos/jrfilocao/LASER-Thesis'...\n",
      "fatal: could not read Username for 'https://github.com': No such device or address\n",
      "'\n"
     ]
    },
    {
     "name": "stderr",
     "output_type": "stream",
     "text": [
      "  5%|▌         | 2473/46292 [1:24:46<9:15:24,  1.31it/s]  "
     ]
    },
    {
     "name": "stdout",
     "output_type": "stream",
     "text": [
      "Cmd('git') failed due to: exit code(128)\n",
      "  cmdline: git clone -v https://github.com/oceanicsdotio/bathysphere repos/oceanicsdotio/bathysphere\n",
      "  stderr: 'Cloning into 'repos/oceanicsdotio/bathysphere'...\n",
      "fatal: could not read Username for 'https://github.com': No such device or address\n",
      "'\n"
     ]
    },
    {
     "name": "stderr",
     "output_type": "stream",
     "text": [
      "  6%|▌         | 2554/46292 [1:26:21<4:51:00,  2.50it/s] "
     ]
    },
    {
     "name": "stdout",
     "output_type": "stream",
     "text": [
      "Cmd('git') failed due to: exit code(128)\n",
      "  cmdline: git clone -v https://github.com/facebookresearch/habitat-api/tree/master/habitat_baselines/rl/ddppo repos/facebookresearch/habitat-api/tree/master/habitat_baselines/rl/ddppo\n",
      "  stderr: 'Cloning into 'repos/facebookresearch/habitat-api/tree/master/habitat_baselines/rl/ddppo'...\n",
      "remote: Please upgrade your git client.\n",
      "remote: GitHub.com no longer supports git over dumb-http: https://github.com/blog/809-git-dumb-http-transport-to-be-turned-off-in-90-days\n",
      "fatal: unable to access 'https://github.com/facebookresearch/habitat-api/tree/master/habitat_baselines/rl/ddppo/': The requested URL returned error: 403\n",
      "'\n"
     ]
    },
    {
     "name": "stderr",
     "output_type": "stream",
     "text": [
      "  6%|▌         | 2667/46292 [1:31:38<13:47:39,  1.14s/it] "
     ]
    },
    {
     "name": "stdout",
     "output_type": "stream",
     "text": [
      "Cmd('git') failed due to: exit code(128)\n",
      "  cmdline: git clone -v https://github.com/prdalmia/gpgpu-sim_lab repos/prdalmia/gpgpu-sim_lab\n",
      "  stderr: 'Cloning into 'repos/prdalmia/gpgpu-sim_lab'...\n",
      "fatal: could not read Username for 'https://github.com': No such device or address\n",
      "'\n"
     ]
    },
    {
     "name": "stderr",
     "output_type": "stream",
     "text": [
      "  6%|▌         | 2703/46292 [1:32:28<19:29:25,  1.61s/it]"
     ]
    },
    {
     "name": "stdout",
     "output_type": "stream",
     "text": [
      "Cmd('git') failed due to: exit code(128)\n",
      "  cmdline: git clone -v https://github.com/sh951011/Korean-Speech-Recognition/blob/master/package/feature.py repos/sh951011/Korean-Speech-Recognition/blob/master/package/feature.py\n",
      "  stderr: 'Cloning into 'repos/sh951011/Korean-Speech-Recognition/blob/master/package/feature.py'...\n",
      "remote: Please upgrade your git client.\n",
      "remote: GitHub.com no longer supports git over dumb-http: https://github.com/blog/809-git-dumb-http-transport-to-be-turned-off-in-90-days\n",
      "fatal: unable to access 'https://github.com/sh951011/Korean-Speech-Recognition/blob/master/package/feature.py/': The requested URL returned error: 403\n",
      "'\n"
     ]
    },
    {
     "name": "stderr",
     "output_type": "stream",
     "text": [
      "  6%|▌         | 2713/46292 [1:32:34<7:08:39,  1.69it/s] "
     ]
    },
    {
     "name": "stdout",
     "output_type": "stream",
     "text": [
      "Cmd('git') failed due to: exit code(128)\n",
      "  cmdline: git clone -v https://github.com/tensorflow/models/tree/master/official/nlp/albert repos/tensorflow/models/tree/master/official/nlp/albert\n",
      "  stderr: 'Cloning into 'repos/tensorflow/models/tree/master/official/nlp/albert'...\n",
      "fatal: repository 'https://github.com/tensorflow/models/tree/master/official/nlp/albert/' not found\n",
      "'\n"
     ]
    },
    {
     "name": "stderr",
     "output_type": "stream",
     "text": [
      "  6%|▌         | 2758/46292 [1:33:51<34:07:57,  2.82s/it]"
     ]
    },
    {
     "name": "stdout",
     "output_type": "stream",
     "text": [
      "Cmd('git') failed due to: exit code(128)\n",
      "  cmdline: git clone -v https://github.com/huawei-noah/Data-Efficient-Model-Compression/tree/master/DAFL repos/huawei-noah/Data-Efficient-Model-Compression/tree/master/DAFL\n",
      "  stderr: 'Cloning into 'repos/huawei-noah/Data-Efficient-Model-Compression/tree/master/DAFL'...\n",
      "fatal: repository 'https://github.com/huawei-noah/Data-Efficient-Model-Compression/tree/master/DAFL/' not found\n",
      "'\n"
     ]
    },
    {
     "name": "stderr",
     "output_type": "stream",
     "text": [
      "  6%|▌         | 2772/46292 [1:33:58<3:24:57,  3.54it/s] "
     ]
    },
    {
     "name": "stdout",
     "output_type": "stream",
     "text": [
      "Cmd('git') failed due to: exit code(128)\n",
      "  cmdline: git clone -v https://github.com/little12/backdoor_hidden_trigger repos/little12/backdoor_hidden_trigger\n",
      "  stderr: 'Cloning into 'repos/little12/backdoor_hidden_trigger'...\n",
      "fatal: could not read Username for 'https://github.com': No such device or address\n",
      "'\n"
     ]
    },
    {
     "name": "stderr",
     "output_type": "stream",
     "text": [
      "  6%|▌         | 2875/46292 [1:37:15<23:56:01,  1.98s/it]"
     ]
    },
    {
     "name": "stdout",
     "output_type": "stream",
     "text": [
      "Cmd('git') failed due to: exit code(128)\n",
      "  cmdline: git clone -v https://github.com/mayorx/ycy_voice_conversion repos/mayorx/ycy_voice_conversion\n",
      "  stderr: 'Cloning into 'repos/mayorx/ycy_voice_conversion'...\n",
      "fatal: could not read Username for 'https://github.com': No such device or address\n",
      "'\n"
     ]
    },
    {
     "name": "stderr",
     "output_type": "stream",
     "text": [
      "  6%|▋         | 2967/46292 [1:39:48<8:33:59,  1.40it/s] "
     ]
    },
    {
     "name": "stdout",
     "output_type": "stream",
     "text": [
      "Cmd('git') failed due to: exit code(128)\n",
      "  cmdline: git clone -v https://github.com/tensorflow/models/tree/master/research/rebar repos/tensorflow/models/tree/master/research/rebar\n",
      "  stderr: 'Cloning into 'repos/tensorflow/models/tree/master/research/rebar'...\n",
      "fatal: repository 'https://github.com/tensorflow/models/tree/master/research/rebar/' not found\n",
      "'\n"
     ]
    },
    {
     "name": "stderr",
     "output_type": "stream",
     "text": [
      "  7%|▋         | 3058/46292 [1:43:56<17:41:41,  1.47s/it] "
     ]
    },
    {
     "name": "stdout",
     "output_type": "stream",
     "text": [
      "Cmd('git') failed due to: exit code(128)\n",
      "  cmdline: git clone -v https://github.com/tensorflow/models/tree/master/research/rebar repos/tensorflow/models/tree/master/research/rebar\n",
      "  stderr: 'Cloning into 'repos/tensorflow/models/tree/master/research/rebar'...\n",
      "fatal: repository 'https://github.com/tensorflow/models/tree/master/research/rebar/' not found\n",
      "'\n"
     ]
    },
    {
     "name": "stderr",
     "output_type": "stream",
     "text": [
      "  7%|▋         | 3163/46292 [1:47:44<15:40:39,  1.31s/it] "
     ]
    },
    {
     "name": "stdout",
     "output_type": "stream",
     "text": [
      "Cmd('git') failed due to: exit code(128)\n",
      "  cmdline: git clone -v https://github.com/google-research/google-research/tree/master/tcc repos/google-research/google-research/tree/master/tcc\n",
      "  stderr: 'Cloning into 'repos/google-research/google-research/tree/master/tcc'...\n",
      "fatal: repository 'https://github.com/google-research/google-research/tree/master/tcc/' not found\n",
      "'\n"
     ]
    },
    {
     "name": "stderr",
     "output_type": "stream",
     "text": [
      "  7%|▋         | 3169/46292 [1:47:50<11:47:30,  1.02it/s]"
     ]
    },
    {
     "name": "stdout",
     "output_type": "stream",
     "text": [
      "Cmd('git') failed due to: exit code(128)\n",
      "  cmdline: git clone -v https://github.com/abhinavsagar/mssa repos/abhinavsagar/mssa\n",
      "  stderr: 'Cloning into 'repos/abhinavsagar/mssa'...\n",
      "fatal: could not read Username for 'https://github.com': No such device or address\n",
      "'\n"
     ]
    },
    {
     "name": "stderr",
     "output_type": "stream",
     "text": [
      "  7%|▋         | 3186/46292 [1:48:06<7:59:19,  1.50it/s] "
     ]
    },
    {
     "name": "stdout",
     "output_type": "stream",
     "text": [
      "Cmd('git') failed due to: exit code(128)\n",
      "  cmdline: git clone -v https://github.com/jarnefeltoliver/s4tf-Tacotron repos/jarnefeltoliver/s4tf-Tacotron\n",
      "  stderr: 'Cloning into 'repos/jarnefeltoliver/s4tf-Tacotron'...\n",
      "fatal: could not read Username for 'https://github.com': No such device or address\n",
      "'\n"
     ]
    },
    {
     "name": "stderr",
     "output_type": "stream",
     "text": [
      "  7%|▋         | 3272/46292 [1:50:35<7:26:34,  1.61it/s] "
     ]
    },
    {
     "name": "stdout",
     "output_type": "stream",
     "text": [
      "Cmd('git') failed due to: exit code(128)\n",
      "  cmdline: git clone -v https://github.com/BlueSkyStudios/mlrig repos/BlueSkyStudios/mlrig\n",
      "  stderr: 'Cloning into 'repos/BlueSkyStudios/mlrig'...\n",
      "fatal: could not read Username for 'https://github.com': No such device or address\n",
      "'\n"
     ]
    },
    {
     "name": "stderr",
     "output_type": "stream",
     "text": [
      "  7%|▋         | 3351/46292 [1:53:32<13:01:01,  1.09s/it] "
     ]
    },
    {
     "name": "stdout",
     "output_type": "stream",
     "text": [
      "Cmd('git') failed due to: exit code(128)\n",
      "  cmdline: git clone -v https://github.com/tensorflow/models/tree/master/research/rebar repos/tensorflow/models/tree/master/research/rebar\n",
      "  stderr: 'Cloning into 'repos/tensorflow/models/tree/master/research/rebar'...\n",
      "fatal: repository 'https://github.com/tensorflow/models/tree/master/research/rebar/' not found\n",
      "'\n"
     ]
    },
    {
     "name": "stderr",
     "output_type": "stream",
     "text": [
      "  7%|▋         | 3376/46292 [1:54:23<17:44:21,  1.49s/it]"
     ]
    },
    {
     "name": "stdout",
     "output_type": "stream",
     "text": [
      "Cmd('git') failed due to: exit code(128)\n",
      "  cmdline: git clone -v https://github.com/https://gitlab.com/caravel-public/caravel repos/https://gitlab.com/caravel-public/caravel\n",
      "  stderr: 'Cloning into 'repos/https://gitlab.com/caravel-public/caravel'...\n",
      "remote: Not Found\n",
      "fatal: repository 'https://github.com/https://gitlab.com/caravel-public/caravel/' not found\n",
      "'\n"
     ]
    },
    {
     "name": "stderr",
     "output_type": "stream",
     "text": [
      "  7%|▋         | 3407/46292 [1:56:13<25:41:48,  2.16s/it]"
     ]
    },
    {
     "name": "stdout",
     "output_type": "stream",
     "text": [
      "Cmd('git') failed due to: exit code(128)\n",
      "  cmdline: git clone -v https://github.com/google-research/language/tree/master/language/orqa repos/google-research/language/tree/master/language/orqa\n",
      "  stderr: 'Cloning into 'repos/google-research/language/tree/master/language/orqa'...\n",
      "fatal: repository 'https://github.com/google-research/language/tree/master/language/orqa/' not found\n",
      "'\n"
     ]
    },
    {
     "name": "stderr",
     "output_type": "stream",
     "text": [
      "  7%|▋         | 3432/46292 [1:56:45<18:07:29,  1.52s/it]"
     ]
    },
    {
     "name": "stdout",
     "output_type": "stream",
     "text": [
      "Cmd('git') failed due to: exit code(128)\n",
      "  cmdline: git clone -v https://github.com/opaserr/breathr repos/opaserr/breathr\n",
      "  stderr: 'Cloning into 'repos/opaserr/breathr'...\n",
      "fatal: could not read Username for 'https://github.com': No such device or address\n",
      "'\n"
     ]
    },
    {
     "name": "stderr",
     "output_type": "stream",
     "text": [
      "  8%|▊         | 3485/46292 [1:58:00<7:52:35,  1.51it/s] "
     ]
    },
    {
     "name": "stdout",
     "output_type": "stream",
     "text": [
      "Cmd('git') failed due to: exit code(128)\n",
      "  cmdline: git clone -v https://github.com/https://gitlab.com/CBDS/DeepSolaris repos/https://gitlab.com/CBDS/DeepSolaris\n",
      "  stderr: 'Cloning into 'repos/https://gitlab.com/CBDS/DeepSolaris'...\n",
      "remote: Not Found\n",
      "fatal: repository 'https://github.com/https://gitlab.com/CBDS/DeepSolaris/' not found\n",
      "'\n"
     ]
    },
    {
     "name": "stderr",
     "output_type": "stream",
     "text": [
      "  8%|▊         | 3640/46292 [2:05:00<12:17:50,  1.04s/it] "
     ]
    },
    {
     "name": "stdout",
     "output_type": "stream",
     "text": [
      "Cmd('git') failed due to: exit code(128)\n",
      "  cmdline: git clone -v https://github.com/https://bitbucket.org/mvdschaar/mlforhealthlabpub repos/https://bitbucket.org/mvdschaar/mlforhealthlabpub\n",
      "  stderr: 'Cloning into 'repos/https://bitbucket.org/mvdschaar/mlforhealthlabpub'...\n",
      "remote: Not Found\n",
      "fatal: repository 'https://github.com/https://bitbucket.org/mvdschaar/mlforhealthlabpub/' not found\n",
      "'\n"
     ]
    },
    {
     "name": "stderr",
     "output_type": "stream",
     "text": [
      "  8%|▊         | 3648/46292 [2:05:27<21:56:20,  1.85s/it]"
     ]
    },
    {
     "name": "stdout",
     "output_type": "stream",
     "text": [
      "Cmd('git') failed due to: exit code(128)\n",
      "  cmdline: git clone -v https://github.com/https://bitbucket.org/mvdschaar/mlforhealthlabpub repos/https://bitbucket.org/mvdschaar/mlforhealthlabpub\n",
      "  stderr: 'Cloning into 'repos/https://bitbucket.org/mvdschaar/mlforhealthlabpub'...\n",
      "remote: Not Found\n",
      "fatal: repository 'https://github.com/https://bitbucket.org/mvdschaar/mlforhealthlabpub/' not found\n",
      "'\n"
     ]
    },
    {
     "name": "stderr",
     "output_type": "stream",
     "text": [
      "  8%|▊         | 3650/46292 [2:05:36<31:47:54,  2.68s/it]"
     ]
    },
    {
     "name": "stdout",
     "output_type": "stream",
     "text": [
      "Cmd('git') failed due to: exit code(128)\n",
      "  cmdline: git clone -v https://github.com/https://bitbucket.org/mvdschaar/mlforhealthlabpub repos/https://bitbucket.org/mvdschaar/mlforhealthlabpub\n",
      "  stderr: 'Cloning into 'repos/https://bitbucket.org/mvdschaar/mlforhealthlabpub'...\n",
      "remote: Not Found\n",
      "fatal: repository 'https://github.com/https://bitbucket.org/mvdschaar/mlforhealthlabpub/' not found\n",
      "'\n"
     ]
    },
    {
     "name": "stderr",
     "output_type": "stream",
     "text": [
      "  8%|▊         | 3691/46292 [2:07:32<5:41:46,  2.08it/s]  "
     ]
    },
    {
     "name": "stdout",
     "output_type": "stream",
     "text": [
      "Cmd('git') failed due to: exit code(128)\n",
      "  cmdline: git clone -v https://github.com/paper2019/ApproxSub-Minus-Modular repos/paper2019/ApproxSub-Minus-Modular\n",
      "  stderr: 'Cloning into 'repos/paper2019/ApproxSub-Minus-Modular'...\n",
      "fatal: could not read Username for 'https://github.com': No such device or address\n",
      "'\n"
     ]
    },
    {
     "name": "stderr",
     "output_type": "stream",
     "text": [
      "  8%|▊         | 3717/46292 [2:07:59<6:26:23,  1.84it/s] "
     ]
    },
    {
     "name": "stdout",
     "output_type": "stream",
     "text": [
      "Cmd('git') failed due to: exit code(128)\n",
      "  cmdline: git clone -v https://github.com/https://bitbucket.org/skeizer/madrigal repos/https://bitbucket.org/skeizer/madrigal\n",
      "  stderr: 'Cloning into 'repos/https://bitbucket.org/skeizer/madrigal'...\n",
      "remote: Not Found\n",
      "fatal: repository 'https://github.com/https://bitbucket.org/skeizer/madrigal/' not found\n",
      "'\n"
     ]
    },
    {
     "name": "stderr",
     "output_type": "stream",
     "text": [
      "  8%|▊         | 3759/46292 [2:09:17<23:52:44,  2.02s/it]"
     ]
    },
    {
     "name": "stdout",
     "output_type": "stream",
     "text": [
      "Cmd('git') failed due to: exit code(128)\n",
      "  cmdline: git clone -v https://github.com/pariajm/ShEMO repos/pariajm/ShEMO\n",
      "  stderr: 'Cloning into 'repos/pariajm/ShEMO'...\n",
      "fatal: could not read Username for 'https://github.com': No such device or address\n",
      "'\n"
     ]
    },
    {
     "name": "stderr",
     "output_type": "stream",
     "text": [
      "  8%|▊         | 3810/46292 [2:11:37<12:07:01,  1.03s/it] "
     ]
    },
    {
     "name": "stdout",
     "output_type": "stream",
     "text": [
      "Cmd('git') failed due to: exit code(128)\n",
      "  cmdline: git clone -v https://github.com/https://gitlab.com/MISLgit/forensic-similarity-for-digital-images repos/https://gitlab.com/MISLgit/forensic-similarity-for-digital-images\n",
      "  stderr: 'Cloning into 'repos/https://gitlab.com/MISLgit/forensic-similarity-for-digital-images'...\n",
      "remote: Not Found\n",
      "fatal: repository 'https://github.com/https://gitlab.com/MISLgit/forensic-similarity-for-digital-images/' not found\n",
      "'\n"
     ]
    },
    {
     "name": "stderr",
     "output_type": "stream",
     "text": [
      "  8%|▊         | 3840/46292 [2:12:24<31:59:14,  2.71s/it]"
     ]
    },
    {
     "name": "stdout",
     "output_type": "stream",
     "text": [
      "Cmd('git') failed due to: exit code(128)\n",
      "  cmdline: git clone -v https://github.com/https://gitlab.com/Morzhakov/SharedLatentSpace repos/https://gitlab.com/Morzhakov/SharedLatentSpace\n",
      "  stderr: 'Cloning into 'repos/https://gitlab.com/Morzhakov/SharedLatentSpace'...\n",
      "remote: Not Found\n",
      "fatal: repository 'https://github.com/https://gitlab.com/Morzhakov/SharedLatentSpace/' not found\n",
      "'\n"
     ]
    },
    {
     "name": "stderr",
     "output_type": "stream",
     "text": [
      "  8%|▊         | 3847/46292 [2:12:32<12:45:22,  1.08s/it]"
     ]
    },
    {
     "name": "stdout",
     "output_type": "stream",
     "text": [
      "Cmd('git') failed due to: exit code(128)\n",
      "  cmdline: git clone -v https://github.com/https://gitlab.com/nats/sigmorphon18 repos/https://gitlab.com/nats/sigmorphon18\n",
      "  stderr: 'Cloning into 'repos/https://gitlab.com/nats/sigmorphon18'...\n",
      "remote: Not Found\n",
      "fatal: repository 'https://github.com/https://gitlab.com/nats/sigmorphon18/' not found\n",
      "'\n"
     ]
    },
    {
     "name": "stderr",
     "output_type": "stream",
     "text": [
      "  8%|▊         | 3888/46292 [2:16:07<26:36:12,  2.26s/it] "
     ]
    },
    {
     "name": "stdout",
     "output_type": "stream",
     "text": [
      "Cmd('git') failed due to: exit code(128)\n",
      "  cmdline: git clone -v https://github.com/https://gitlab.com/caro-sdu/covis repos/https://gitlab.com/caro-sdu/covis\n",
      "  stderr: 'Cloning into 'repos/https://gitlab.com/caro-sdu/covis'...\n",
      "remote: Not Found\n",
      "fatal: repository 'https://github.com/https://gitlab.com/caro-sdu/covis/' not found\n",
      "'\n"
     ]
    },
    {
     "name": "stderr",
     "output_type": "stream",
     "text": [
      "  9%|▊         | 3998/46292 [2:19:18<14:55:23,  1.27s/it]"
     ]
    },
    {
     "name": "stdout",
     "output_type": "stream",
     "text": [
      "Cmd('git') failed due to: exit code(128)\n",
      "  cmdline: git clone -v https://github.com/https://gitlab.com/shimorina/bsnlp-2019 repos/https://gitlab.com/shimorina/bsnlp-2019\n",
      "  stderr: 'Cloning into 'repos/https://gitlab.com/shimorina/bsnlp-2019'...\n",
      "remote: Not Found\n",
      "fatal: repository 'https://github.com/https://gitlab.com/shimorina/bsnlp-2019/' not found\n",
      "'\n"
     ]
    },
    {
     "name": "stderr",
     "output_type": "stream",
     "text": [
      "  9%|▊         | 4010/46292 [2:19:36<30:08:29,  2.57s/it]"
     ]
    },
    {
     "name": "stdout",
     "output_type": "stream",
     "text": [
      "Cmd('git') failed due to: exit code(128)\n",
      "  cmdline: git clone -v https://github.com/https://gitlab.com/nct_tso_public/pretrain_tc repos/https://gitlab.com/nct_tso_public/pretrain_tc\n",
      "  stderr: 'Cloning into 'repos/https://gitlab.com/nct_tso_public/pretrain_tc'...\n",
      "remote: Not Found\n",
      "fatal: repository 'https://github.com/https://gitlab.com/nct_tso_public/pretrain_tc/' not found\n",
      "'\n"
     ]
    },
    {
     "name": "stderr",
     "output_type": "stream",
     "text": [
      "  9%|▊         | 4049/46292 [2:21:17<43:18:57,  3.69s/it] "
     ]
    },
    {
     "name": "stdout",
     "output_type": "stream",
     "text": [
      "Cmd('git') failed due to: exit code(128)\n",
      "  cmdline: git clone -v https://github.com/https://bitbucket.org/jhhuggins/random-feature-stein-discrepancies repos/https://bitbucket.org/jhhuggins/random-feature-stein-discrepancies\n",
      "  stderr: 'Cloning into 'repos/https://bitbucket.org/jhhuggins/random-feature-stein-discrepancies'...\n",
      "remote: Not Found\n",
      "fatal: repository 'https://github.com/https://bitbucket.org/jhhuggins/random-feature-stein-discrepancies/' not found\n",
      "'\n"
     ]
    },
    {
     "name": "stderr",
     "output_type": "stream",
     "text": [
      "  9%|▉         | 4058/46292 [2:21:31<12:24:34,  1.06s/it]"
     ]
    },
    {
     "name": "stdout",
     "output_type": "stream",
     "text": [
      "Cmd('git') failed due to: exit code(128)\n",
      "  cmdline: git clone -v https://github.com/https://bitbucket.org/iiscseal/nbl repos/https://bitbucket.org/iiscseal/nbl\n",
      "  stderr: 'Cloning into 'repos/https://bitbucket.org/iiscseal/nbl'...\n",
      "remote: Not Found\n",
      "fatal: repository 'https://github.com/https://bitbucket.org/iiscseal/nbl/' not found\n",
      "'\n"
     ]
    },
    {
     "name": "stderr",
     "output_type": "stream",
     "text": [
      "  9%|▉         | 4066/46292 [2:21:34<7:23:23,  1.59it/s] "
     ]
    },
    {
     "name": "stdout",
     "output_type": "stream",
     "text": [
      "Cmd('git') failed due to: exit code(128)\n",
      "  cmdline: git clone -v https://github.com/https://bitbucket.org/act-lab/release repos/https://bitbucket.org/act-lab/release\n",
      "  stderr: 'Cloning into 'repos/https://bitbucket.org/act-lab/release'...\n",
      "remote: Not Found\n",
      "fatal: repository 'https://github.com/https://bitbucket.org/act-lab/release/' not found\n",
      "'\n"
     ]
    },
    {
     "name": "stderr",
     "output_type": "stream",
     "text": [
      "  9%|▉         | 4082/46292 [2:22:05<6:30:25,  1.80it/s] "
     ]
    },
    {
     "name": "stdout",
     "output_type": "stream",
     "text": [
      "Cmd('git') failed due to: exit code(128)\n",
      "  cmdline: git clone -v https://github.com/https://bitbucket.org/mvdschaar/mlforhealthlabpub repos/https://bitbucket.org/mvdschaar/mlforhealthlabpub\n",
      "  stderr: 'Cloning into 'repos/https://bitbucket.org/mvdschaar/mlforhealthlabpub'...\n",
      "remote: Not Found\n",
      "fatal: repository 'https://github.com/https://bitbucket.org/mvdschaar/mlforhealthlabpub/' not found\n",
      "'\n"
     ]
    },
    {
     "name": "stderr",
     "output_type": "stream",
     "text": [
      "  9%|▉         | 4120/46292 [2:23:04<5:55:05,  1.98it/s]  "
     ]
    },
    {
     "name": "stdout",
     "output_type": "stream",
     "text": [
      "Cmd('git') failed due to: exit code(128)\n",
      "  cmdline: git clone -v https://github.com/https://bitbucket.org/skeizer/madrigal repos/https://bitbucket.org/skeizer/madrigal\n",
      "  stderr: 'Cloning into 'repos/https://bitbucket.org/skeizer/madrigal'...\n",
      "remote: Not Found\n",
      "fatal: repository 'https://github.com/https://bitbucket.org/skeizer/madrigal/' not found\n",
      "'\n"
     ]
    },
    {
     "name": "stderr",
     "output_type": "stream",
     "text": [
      "  9%|▉         | 4145/46292 [2:23:18<3:10:34,  3.69it/s] "
     ]
    },
    {
     "name": "stdout",
     "output_type": "stream",
     "text": [
      "Cmd('git') failed due to: exit code(128)\n",
      "  cmdline: git clone -v https://github.com/andrewmartinjames/2d-vsr-elites repos/andrewmartinjames/2d-vsr-elites\n",
      "  stderr: 'Cloning into 'repos/andrewmartinjames/2d-vsr-elites'...\n",
      "fatal: could not read Username for 'https://github.com': No such device or address\n",
      "'\n"
     ]
    },
    {
     "name": "stderr",
     "output_type": "stream",
     "text": [
      "  9%|▉         | 4149/46292 [2:23:25<11:10:04,  1.05it/s]"
     ]
    },
    {
     "name": "stdout",
     "output_type": "stream",
     "text": [
      "Cmd('git') failed due to: exit code(128)\n",
      "  cmdline: git clone -v https://github.com/anang0g0/Unique_Decoding_of_General_AG_Codes repos/anang0g0/Unique_Decoding_of_General_AG_Codes\n",
      "  stderr: 'Cloning into 'repos/anang0g0/Unique_Decoding_of_General_AG_Codes'...\n",
      "fatal: could not read Username for 'https://github.com': No such device or address\n",
      "'\n"
     ]
    },
    {
     "name": "stderr",
     "output_type": "stream",
     "text": [
      "  9%|▉         | 4161/46292 [2:23:43<15:04:23,  1.29s/it]"
     ]
    },
    {
     "name": "stdout",
     "output_type": "stream",
     "text": [
      "Cmd('git') failed due to: exit code(128)\n",
      "  cmdline: git clone -v https://github.com/ItanoYukari/github.hitwh.pre-train repos/ItanoYukari/github.hitwh.pre-train\n",
      "  stderr: 'Cloning into 'repos/ItanoYukari/github.hitwh.pre-train'...\n",
      "fatal: could not read Username for 'https://github.com': No such device or address\n",
      "'\n"
     ]
    },
    {
     "name": "stderr",
     "output_type": "stream",
     "text": [
      "\r",
      "  9%|▉         | 4162/46292 [2:23:43<11:44:27,  1.00s/it]"
     ]
    },
    {
     "name": "stdout",
     "output_type": "stream",
     "text": [
      "Cmd('git') failed due to: exit code(128)\n",
      "  cmdline: git clone -v https://github.com/ItanoYukari/github.hitwh.pre-train repos/ItanoYukari/github.hitwh.pre-train\n",
      "  stderr: 'Cloning into 'repos/ItanoYukari/github.hitwh.pre-train'...\n",
      "fatal: could not read Username for 'https://github.com': No such device or address\n",
      "'\n"
     ]
    },
    {
     "name": "stderr",
     "output_type": "stream",
     "text": [
      "\r",
      "  9%|▉         | 4163/46292 [2:23:43<9:16:42,  1.26it/s] "
     ]
    },
    {
     "name": "stdout",
     "output_type": "stream",
     "text": [
      "Cmd('git') failed due to: exit code(128)\n",
      "  cmdline: git clone -v https://github.com/ItanoYukari/github.hitwh.pre-train repos/ItanoYukari/github.hitwh.pre-train\n",
      "  stderr: 'Cloning into 'repos/ItanoYukari/github.hitwh.pre-train'...\n",
      "fatal: could not read Username for 'https://github.com': No such device or address\n",
      "'\n"
     ]
    },
    {
     "name": "stderr",
     "output_type": "stream",
     "text": [
      "  9%|▉         | 4186/46292 [2:24:33<27:41:21,  2.37s/it]"
     ]
    },
    {
     "name": "stdout",
     "output_type": "stream",
     "text": [
      "Cmd('git') failed due to: exit code(128)\n",
      "  cmdline: git clone -v https://github.com/rshudde/RJcluster repos/rshudde/RJcluster\n",
      "  stderr: 'Cloning into 'repos/rshudde/RJcluster'...\n",
      "fatal: could not read Username for 'https://github.com': No such device or address\n",
      "'\n"
     ]
    },
    {
     "name": "stderr",
     "output_type": "stream",
     "text": [
      "  9%|▉         | 4280/46292 [2:26:55<8:50:56,  1.32it/s] "
     ]
    },
    {
     "name": "stdout",
     "output_type": "stream",
     "text": [
      "Cmd('git') failed due to: exit code(128)\n",
      "  cmdline: git clone -v https://github.com/magnificent1208/CenterNet_bothver_bymmdv2 repos/magnificent1208/CenterNet_bothver_bymmdv2\n",
      "  stderr: 'Cloning into 'repos/magnificent1208/CenterNet_bothver_bymmdv2'...\n",
      "fatal: could not read Username for 'https://github.com': No such device or address\n",
      "'\n"
     ]
    },
    {
     "name": "stderr",
     "output_type": "stream",
     "text": [
      " 10%|▉         | 4438/46292 [2:31:23<4:55:16,  2.36it/s]  "
     ]
    },
    {
     "name": "stdout",
     "output_type": "stream",
     "text": [
      "Cmd('git') failed due to: exit code(128)\n",
      "  cmdline: git clone -v https://github.com/adibMosharrof/charades repos/adibMosharrof/charades\n",
      "  stderr: 'Cloning into 'repos/adibMosharrof/charades'...\n",
      "fatal: could not read Username for 'https://github.com': No such device or address\n",
      "'\n"
     ]
    },
    {
     "name": "stderr",
     "output_type": "stream",
     "text": [
      " 10%|▉         | 4462/46292 [2:32:22<23:44:35,  2.04s/it]"
     ]
    },
    {
     "name": "stdout",
     "output_type": "stream",
     "text": [
      "Cmd('git') failed due to: exit code(128)\n",
      "  cmdline: git clone -v https://github.com/TID-Lab/Burmese-Content-Analysis repos/TID-Lab/Burmese-Content-Analysis\n",
      "  stderr: 'Cloning into 'repos/TID-Lab/Burmese-Content-Analysis'...\n",
      "fatal: could not read Username for 'https://github.com': No such device or address\n",
      "'\n"
     ]
    },
    {
     "name": "stderr",
     "output_type": "stream",
     "text": [
      " 10%|▉         | 4473/46292 [2:33:01<23:22:20,  2.01s/it]"
     ]
    },
    {
     "name": "stdout",
     "output_type": "stream",
     "text": [
      "Cmd('git') failed due to: exit code(128)\n",
      "  cmdline: git clone -v https://github.com/MyDearGreatTeacher/DL2020 repos/MyDearGreatTeacher/DL2020\n",
      "  stderr: 'Cloning into 'repos/MyDearGreatTeacher/DL2020'...\n",
      "fatal: could not read Username for 'https://github.com': No such device or address\n",
      "'\n"
     ]
    },
    {
     "name": "stderr",
     "output_type": "stream",
     "text": [
      " 10%|▉         | 4476/46292 [2:33:14<37:05:33,  3.19s/it]"
     ]
    },
    {
     "name": "stdout",
     "output_type": "stream",
     "text": [
      "Cmd('git') failed due to: exit code(128)\n",
      "  cmdline: git clone -v https://github.com/MrYelameli/super_reso repos/MrYelameli/super_reso\n",
      "  stderr: 'Cloning into 'repos/MrYelameli/super_reso'...\n",
      "fatal: could not read Username for 'https://github.com': No such device or address\n",
      "'\n"
     ]
    },
    {
     "name": "stderr",
     "output_type": "stream",
     "text": [
      " 10%|▉         | 4503/46292 [2:34:50<36:07:11,  3.11s/it] "
     ]
    },
    {
     "name": "stdout",
     "output_type": "stream",
     "text": [
      "Cmd('git') failed due to: exit code(128)\n",
      "  cmdline: git clone -v https://github.com/zzfpython/FairMOTEx repos/zzfpython/FairMOTEx\n",
      "  stderr: 'Cloning into 'repos/zzfpython/FairMOTEx'...\n",
      "fatal: could not read Username for 'https://github.com': No such device or address\n",
      "'\n"
     ]
    },
    {
     "name": "stderr",
     "output_type": "stream",
     "text": [
      " 10%|▉         | 4526/46292 [2:35:21<12:07:03,  1.04s/it]"
     ]
    },
    {
     "name": "stdout",
     "output_type": "stream",
     "text": [
      "Cmd('git') failed due to: exit code(128)\n",
      "  cmdline: git clone -v https://github.com/https://zenodo.org/record/4276247 repos/https://zenodo.org/record/4276247\n",
      "  stderr: 'Cloning into 'repos/https://zenodo.org/record/4276247'...\n",
      "remote: Not Found\n",
      "fatal: repository 'https://github.com/https://zenodo.org/record/4276247/' not found\n",
      "'\n"
     ]
    },
    {
     "name": "stderr",
     "output_type": "stream",
     "text": [
      " 10%|▉         | 4530/46292 [2:35:25<9:28:22,  1.22it/s] "
     ]
    },
    {
     "name": "stdout",
     "output_type": "stream",
     "text": [
      "Cmd('git') failed due to: exit code(128)\n",
      "  cmdline: git clone -v https://github.com/xp23333/FGSMPR-AT repos/xp23333/FGSMPR-AT\n",
      "  stderr: 'Cloning into 'repos/xp23333/FGSMPR-AT'...\n",
      "fatal: could not read Username for 'https://github.com': No such device or address\n",
      "'\n"
     ]
    },
    {
     "name": "stderr",
     "output_type": "stream",
     "text": [
      " 10%|▉         | 4604/46292 [2:39:23<15:44:12,  1.36s/it] "
     ]
    },
    {
     "name": "stdout",
     "output_type": "stream",
     "text": [
      "Cmd('git') failed due to: exit code(128)\n",
      "  cmdline: git clone -v https://github.com/utkd/cogcn repos/utkd/cogcn\n",
      "  stderr: 'Cloning into 'repos/utkd/cogcn'...\n",
      "fatal: could not read Username for 'https://github.com': No such device or address\n",
      "'\n"
     ]
    },
    {
     "name": "stderr",
     "output_type": "stream",
     "text": [
      " 10%|█         | 4672/46292 [2:41:29<29:26:51,  2.55s/it] "
     ]
    },
    {
     "name": "stdout",
     "output_type": "stream",
     "text": [
      "Cmd('git') failed due to: exit code(128)\n",
      "  cmdline: git clone -v https://github.com/Elazzzzy/maskrcnn-hr repos/Elazzzzy/maskrcnn-hr\n",
      "  stderr: 'Cloning into 'repos/Elazzzzy/maskrcnn-hr'...\n",
      "fatal: could not read Username for 'https://github.com': No such device or address\n",
      "'\n"
     ]
    },
    {
     "name": "stderr",
     "output_type": "stream",
     "text": [
      " 10%|█         | 4774/46292 [2:45:18<4:08:54,  2.78it/s]  "
     ]
    },
    {
     "name": "stdout",
     "output_type": "stream",
     "text": [
      "Cmd('git') failed due to: exit code(128)\n",
      "  cmdline: git clone -v https://github.com/Elazzzzy/maskrcnn-hr repos/Elazzzzy/maskrcnn-hr\n",
      "  stderr: 'Cloning into 'repos/Elazzzzy/maskrcnn-hr'...\n",
      "fatal: could not read Username for 'https://github.com': No such device or address\n",
      "'\n"
     ]
    },
    {
     "name": "stderr",
     "output_type": "stream",
     "text": [
      " 10%|█         | 4836/46292 [2:48:06<22:36:42,  1.96s/it] "
     ]
    },
    {
     "name": "stdout",
     "output_type": "stream",
     "text": [
      "Cmd('git') failed due to: exit code(128)\n",
      "  cmdline: git clone -v https://github.com/https://bitbucket.org/mvdschaar/mlforhealthlabpub repos/https://bitbucket.org/mvdschaar/mlforhealthlabpub\n",
      "  stderr: 'Cloning into 'repos/https://bitbucket.org/mvdschaar/mlforhealthlabpub'...\n",
      "remote: Not Found\n",
      "fatal: repository 'https://github.com/https://bitbucket.org/mvdschaar/mlforhealthlabpub/' not found\n",
      "'\n"
     ]
    },
    {
     "name": "stderr",
     "output_type": "stream",
     "text": [
      " 10%|█         | 4848/46292 [2:48:17<8:24:08,  1.37it/s] "
     ]
    },
    {
     "name": "stdout",
     "output_type": "stream",
     "text": [
      "Cmd('git') failed due to: exit code(128)\n",
      "  cmdline: git clone -v https://github.com/https://bitbucket.org/Aratz/orchestral repos/https://bitbucket.org/Aratz/orchestral\n",
      "  stderr: 'Cloning into 'repos/https://bitbucket.org/Aratz/orchestral'...\n",
      "remote: Not Found\n",
      "fatal: repository 'https://github.com/https://bitbucket.org/Aratz/orchestral/' not found\n",
      "'\n"
     ]
    },
    {
     "name": "stderr",
     "output_type": "stream",
     "text": [
      " 10%|█         | 4855/46292 [2:48:33<11:44:39,  1.02s/it]"
     ]
    },
    {
     "name": "stdout",
     "output_type": "stream",
     "text": [
      "Cmd('git') failed due to: exit code(128)\n",
      "  cmdline: git clone -v https://github.com/https://bitbucket.org/sfield83/greedycpp repos/https://bitbucket.org/sfield83/greedycpp\n",
      "  stderr: 'Cloning into 'repos/https://bitbucket.org/sfield83/greedycpp'...\n",
      "remote: Not Found\n",
      "fatal: repository 'https://github.com/https://bitbucket.org/sfield83/greedycpp/' not found\n",
      "'\n"
     ]
    },
    {
     "name": "stderr",
     "output_type": "stream",
     "text": [
      " 11%|█         | 4931/46292 [2:52:54<10:14:45,  1.12it/s] "
     ]
    },
    {
     "name": "stdout",
     "output_type": "stream",
     "text": [
      "Cmd('git') failed due to: exit code(128)\n",
      "  cmdline: git clone -v https://github.com/espnet/espnet/tree/master/egs/chime6/asr1 repos/espnet/espnet/tree/master/egs/chime6/asr1\n",
      "  stderr: 'Cloning into 'repos/espnet/espnet/tree/master/egs/chime6/asr1'...\n",
      "fatal: repository 'https://github.com/espnet/espnet/tree/master/egs/chime6/asr1/' not found\n",
      "'\n"
     ]
    },
    {
     "name": "stderr",
     "output_type": "stream",
     "text": [
      " 11%|█         | 4936/46292 [2:52:56<5:26:59,  2.11it/s] "
     ]
    },
    {
     "name": "stdout",
     "output_type": "stream",
     "text": [
      "Cmd('git') failed due to: exit code(128)\n",
      "  cmdline: git clone -v https://github.com/google-research/google-research/tree/master/memento repos/google-research/google-research/tree/master/memento\n",
      "  stderr: 'Cloning into 'repos/google-research/google-research/tree/master/memento'...\n",
      "fatal: repository 'https://github.com/google-research/google-research/tree/master/memento/' not found\n",
      "'\n"
     ]
    },
    {
     "name": "stderr",
     "output_type": "stream",
     "text": [
      " 11%|█         | 4940/46292 [2:53:33<55:15:07,  4.81s/it]"
     ]
    },
    {
     "name": "stdout",
     "output_type": "stream",
     "text": [
      "Cmd('git') failed due to: exit code(128)\n",
      "  cmdline: git clone -v https://github.com/google-research/google-research/tree/master/mol_dqn repos/google-research/google-research/tree/master/mol_dqn\n",
      "  stderr: 'Cloning into 'repos/google-research/google-research/tree/master/mol_dqn'...\n",
      "fatal: repository 'https://github.com/google-research/google-research/tree/master/mol_dqn/' not found\n",
      "'\n"
     ]
    },
    {
     "name": "stderr",
     "output_type": "stream",
     "text": [
      " 11%|█         | 4965/46292 [2:54:15<8:35:16,  1.34it/s] "
     ]
    },
    {
     "name": "stdout",
     "output_type": "stream",
     "text": [
      "Cmd('git') failed due to: exit code(128)\n",
      "  cmdline: git clone -v https://github.com/bisheng/KTG4KBQG repos/bisheng/KTG4KBQG\n",
      "  stderr: 'Cloning into 'repos/bisheng/KTG4KBQG'...\n",
      "fatal: could not read Username for 'https://github.com': No such device or address\n",
      "'\n"
     ]
    },
    {
     "name": "stderr",
     "output_type": "stream",
     "text": [
      " 11%|█         | 4993/46292 [2:54:55<12:23:44,  1.08s/it]"
     ]
    },
    {
     "name": "stdout",
     "output_type": "stream",
     "text": [
      "Cmd('git') failed due to: exit code(128)\n",
      "  cmdline: git clone -v https://github.com/google-research/language/tree/master/language/labs/consistent_zero_shot_nmt repos/google-research/language/tree/master/language/labs/consistent_zero_shot_nmt\n",
      "  stderr: 'Cloning into 'repos/google-research/language/tree/master/language/labs/consistent_zero_shot_nmt'...\n",
      "fatal: repository 'https://github.com/google-research/language/tree/master/language/labs/consistent_zero_shot_nmt/' not found\n",
      "'\n"
     ]
    },
    {
     "name": "stderr",
     "output_type": "stream",
     "text": [
      " 11%|█         | 5015/46292 [2:55:27<12:39:31,  1.10s/it]"
     ]
    },
    {
     "name": "stdout",
     "output_type": "stream",
     "text": [
      "Cmd('git') failed due to: exit code(128)\n",
      "  cmdline: git clone -v https://github.com/https://gitlab.com/aravindh.krishnamoorthy/mimo-noma repos/https://gitlab.com/aravindh.krishnamoorthy/mimo-noma\n",
      "  stderr: 'Cloning into 'repos/https://gitlab.com/aravindh.krishnamoorthy/mimo-noma'...\n",
      "remote: Not Found\n",
      "fatal: repository 'https://github.com/https://gitlab.com/aravindh.krishnamoorthy/mimo-noma/' not found\n",
      "'\n"
     ]
    },
    {
     "name": "stderr",
     "output_type": "stream",
     "text": [
      " 11%|█         | 5035/46292 [2:57:34<7:07:35,  1.61it/s]  "
     ]
    },
    {
     "name": "stdout",
     "output_type": "stream",
     "text": [
      "Cmd('git') failed due to: exit code(128)\n",
      "  cmdline: git clone -v https://github.com/vincnardelli/spatial-lag-webscraping-crowdsourcing repos/vincnardelli/spatial-lag-webscraping-crowdsourcing\n",
      "  stderr: 'Cloning into 'repos/vincnardelli/spatial-lag-webscraping-crowdsourcing'...\n",
      "fatal: could not read Username for 'https://github.com': No such device or address\n",
      "'\n"
     ]
    },
    {
     "name": "stderr",
     "output_type": "stream",
     "text": [
      " 11%|█         | 5055/46292 [2:59:23<113:06:01,  9.87s/it]"
     ]
    },
    {
     "name": "stdout",
     "output_type": "stream",
     "text": [
      "Cmd('git') failed due to: exit code(128)\n",
      "  cmdline: git clone -v https://github.com/google-research/google-research/tree/master/kws_streaming repos/google-research/google-research/tree/master/kws_streaming\n",
      "  stderr: 'Cloning into 'repos/google-research/google-research/tree/master/kws_streaming'...\n",
      "fatal: repository 'https://github.com/google-research/google-research/tree/master/kws_streaming/' not found\n",
      "'\n"
     ]
    },
    {
     "name": "stderr",
     "output_type": "stream",
     "text": [
      " 11%|█         | 5065/46292 [2:59:38<16:11:32,  1.41s/it] "
     ]
    },
    {
     "name": "stdout",
     "output_type": "stream",
     "text": [
      "Cmd('git') failed due to: exit code(128)\n",
      "  cmdline: git clone -v https://github.com/https://bitbucket.org/ezeferrero/epm repos/https://bitbucket.org/ezeferrero/epm\n",
      "  stderr: 'Cloning into 'repos/https://bitbucket.org/ezeferrero/epm'...\n",
      "remote: Not Found\n",
      "fatal: repository 'https://github.com/https://bitbucket.org/ezeferrero/epm/' not found\n",
      "'\n"
     ]
    },
    {
     "name": "stderr",
     "output_type": "stream",
     "text": [
      " 11%|█         | 5072/46292 [2:59:45<8:19:30,  1.38it/s] "
     ]
    },
    {
     "name": "stdout",
     "output_type": "stream",
     "text": [
      "Cmd('git') failed due to: exit code(128)\n",
      "  cmdline: git clone -v https://github.com/tensorflow/models/tree/master/research/global_objectives repos/tensorflow/models/tree/master/research/global_objectives\n",
      "  stderr: 'Cloning into 'repos/tensorflow/models/tree/master/research/global_objectives'...\n",
      "fatal: repository 'https://github.com/tensorflow/models/tree/master/research/global_objectives/' not found\n",
      "'\n"
     ]
    },
    {
     "name": "stderr",
     "output_type": "stream",
     "text": [
      " 11%|█         | 5077/46292 [2:59:48<6:20:40,  1.80it/s]"
     ]
    },
    {
     "name": "stdout",
     "output_type": "stream",
     "text": [
      "Cmd('git') failed due to: exit code(128)\n",
      "  cmdline: git clone -v https://github.com/https://gitlab.com/aravindh.krishnamoorthy/mimo-noma repos/https://gitlab.com/aravindh.krishnamoorthy/mimo-noma\n",
      "  stderr: 'Cloning into 'repos/https://gitlab.com/aravindh.krishnamoorthy/mimo-noma'...\n",
      "remote: Not Found\n",
      "fatal: repository 'https://github.com/https://gitlab.com/aravindh.krishnamoorthy/mimo-noma/' not found\n",
      "'\n"
     ]
    },
    {
     "name": "stderr",
     "output_type": "stream",
     "text": [
      " 11%|█         | 5122/46292 [3:00:36<11:38:16,  1.02s/it]"
     ]
    },
    {
     "name": "stdout",
     "output_type": "stream",
     "text": [
      "Cmd('git') failed due to: exit code(128)\n",
      "  cmdline: git clone -v https://github.com/materialsvirtuallab/megnet/tree/master/multifidelity repos/materialsvirtuallab/megnet/tree/master/multifidelity\n",
      "  stderr: 'Cloning into 'repos/materialsvirtuallab/megnet/tree/master/multifidelity'...\n",
      "fatal: repository 'https://github.com/materialsvirtuallab/megnet/tree/master/multifidelity/' not found\n",
      "'\n"
     ]
    },
    {
     "name": "stderr",
     "output_type": "stream",
     "text": [
      " 11%|█         | 5164/46292 [3:01:11<5:21:44,  2.13it/s] "
     ]
    },
    {
     "name": "stdout",
     "output_type": "stream",
     "text": [
      "Cmd('git') failed due to: exit code(128)\n",
      "  cmdline: git clone -v https://github.com/https://bitbucket.org/azja/qmt repos/https://bitbucket.org/azja/qmt\n",
      "  stderr: 'Cloning into 'repos/https://bitbucket.org/azja/qmt'...\n",
      "remote: Not Found\n",
      "fatal: repository 'https://github.com/https://bitbucket.org/azja/qmt/' not found\n",
      "'\n",
      "Cmd('git') failed due to: exit code(128)\n",
      "  cmdline: git clone -v https://github.com/https://bitbucket.org/azja/qmt repos/https://bitbucket.org/azja/qmt\n",
      "  stderr: 'Cloning into 'repos/https://bitbucket.org/azja/qmt'...\n",
      "remote: Not Found\n",
      "fatal: repository 'https://github.com/https://bitbucket.org/azja/qmt/' not found\n",
      "'\n"
     ]
    },
    {
     "name": "stderr",
     "output_type": "stream",
     "text": [
      " 11%|█         | 5166/46292 [3:01:12<4:05:40,  2.79it/s]"
     ]
    },
    {
     "name": "stdout",
     "output_type": "stream",
     "text": [
      "Cmd('git') failed due to: exit code(128)\n",
      "  cmdline: git clone -v https://github.com/https://bitbucket.org/azja/qmt repos/https://bitbucket.org/azja/qmt\n",
      "  stderr: 'Cloning into 'repos/https://bitbucket.org/azja/qmt'...\n",
      "remote: Not Found\n",
      "fatal: repository 'https://github.com/https://bitbucket.org/azja/qmt/' not found\n",
      "'\n",
      "Cmd('git') failed due to: exit code(128)\n",
      "  cmdline: git clone -v https://github.com/https://bitbucket.org/azja/qmt repos/https://bitbucket.org/azja/qmt\n",
      "  stderr: 'Cloning into 'repos/https://bitbucket.org/azja/qmt'...\n",
      "remote: Not Found\n",
      "fatal: repository 'https://github.com/https://bitbucket.org/azja/qmt/' not found\n",
      "'\n"
     ]
    },
    {
     "name": "stderr",
     "output_type": "stream",
     "text": [
      " 11%|█▏        | 5254/46292 [3:04:05<38:54:33,  3.41s/it]"
     ]
    },
    {
     "name": "stdout",
     "output_type": "stream",
     "text": [
      "Cmd('git') failed due to: exit code(128)\n",
      "  cmdline: git clone -v https://github.com/tensorflow/models/tree/master/research/rebar repos/tensorflow/models/tree/master/research/rebar\n",
      "  stderr: 'Cloning into 'repos/tensorflow/models/tree/master/research/rebar'...\n",
      "fatal: repository 'https://github.com/tensorflow/models/tree/master/research/rebar/' not found\n",
      "'\n"
     ]
    },
    {
     "name": "stderr",
     "output_type": "stream",
     "text": [
      " 11%|█▏        | 5309/46292 [3:05:13<13:26:39,  1.18s/it]"
     ]
    },
    {
     "name": "stdout",
     "output_type": "stream",
     "text": [
      "Cmd('git') failed due to: exit code(128)\n",
      "  cmdline: git clone -v https://github.com/VictorBlanchi/art_project_neural_storytelling repos/VictorBlanchi/art_project_neural_storytelling\n",
      "  stderr: 'Cloning into 'repos/VictorBlanchi/art_project_neural_storytelling'...\n",
      "fatal: could not read Username for 'https://github.com': No such device or address\n",
      "'\n"
     ]
    },
    {
     "name": "stderr",
     "output_type": "stream",
     "text": [
      " 12%|█▏        | 5363/46292 [3:06:16<20:53:02,  1.84s/it]"
     ]
    },
    {
     "name": "stdout",
     "output_type": "stream",
     "text": [
      "Cmd('git') failed due to: exit code(128)\n",
      "  cmdline: git clone -v https://github.com/tensorflow/models/tree/master/research/rebar repos/tensorflow/models/tree/master/research/rebar\n",
      "  stderr: 'Cloning into 'repos/tensorflow/models/tree/master/research/rebar'...\n",
      "fatal: repository 'https://github.com/tensorflow/models/tree/master/research/rebar/' not found\n",
      "'\n"
     ]
    },
    {
     "name": "stderr",
     "output_type": "stream",
     "text": [
      " 12%|█▏        | 5438/46292 [3:09:13<8:26:31,  1.34it/s] "
     ]
    },
    {
     "name": "stdout",
     "output_type": "stream",
     "text": [
      "Cmd('git') failed due to: exit code(128)\n",
      "  cmdline: git clone -v https://github.com/https://gitlab.com/philten/darkcast repos/https://gitlab.com/philten/darkcast\n",
      "  stderr: 'Cloning into 'repos/https://gitlab.com/philten/darkcast'...\n",
      "remote: Not Found\n",
      "fatal: repository 'https://github.com/https://gitlab.com/philten/darkcast/' not found\n",
      "'\n"
     ]
    },
    {
     "name": "stderr",
     "output_type": "stream",
     "text": [
      " 12%|█▏        | 5444/46292 [3:09:18<9:32:40,  1.19it/s] "
     ]
    },
    {
     "name": "stdout",
     "output_type": "stream",
     "text": [
      "Cmd('git') failed due to: exit code(128)\n",
      "  cmdline: git clone -v https://github.com/https://bitbucket.org/jossco/gecode-string repos/https://bitbucket.org/jossco/gecode-string\n",
      "  stderr: 'Cloning into 'repos/https://bitbucket.org/jossco/gecode-string'...\n",
      "remote: Not Found\n",
      "fatal: repository 'https://github.com/https://bitbucket.org/jossco/gecode-string/' not found\n",
      "'\n"
     ]
    },
    {
     "name": "stderr",
     "output_type": "stream",
     "text": [
      " 12%|█▏        | 5472/46292 [3:10:14<24:54:43,  2.20s/it]"
     ]
    },
    {
     "name": "stdout",
     "output_type": "stream",
     "text": [
      "Cmd('git') failed due to: exit code(128)\n",
      "  cmdline: git clone -v https://github.com/Robotics-BUT/Atlas-Fusion repos/Robotics-BUT/Atlas-Fusion\n",
      "  stderr: 'Cloning into 'repos/Robotics-BUT/Atlas-Fusion'...\n",
      "fatal: could not read Username for 'https://github.com': No such device or address\n",
      "'\n"
     ]
    },
    {
     "name": "stderr",
     "output_type": "stream",
     "text": [
      " 12%|█▏        | 5480/46292 [3:10:56<68:36:45,  6.05s/it]"
     ]
    },
    {
     "name": "stdout",
     "output_type": "stream",
     "text": [
      "Cmd('git') failed due to: exit code(128)\n",
      "  cmdline: git clone -v https://github.com/https://bitbucket.org/simonvandekar/param-boot repos/https://bitbucket.org/simonvandekar/param-boot\n",
      "  stderr: 'Cloning into 'repos/https://bitbucket.org/simonvandekar/param-boot'...\n",
      "remote: Not Found\n",
      "fatal: repository 'https://github.com/https://bitbucket.org/simonvandekar/param-boot/' not found\n",
      "'\n"
     ]
    },
    {
     "name": "stderr",
     "output_type": "stream",
     "text": [
      " 12%|█▏        | 5489/46292 [3:11:51<37:02:45,  3.27s/it] "
     ]
    },
    {
     "name": "stdout",
     "output_type": "stream",
     "text": [
      "Cmd('git') failed due to: exit code(128)\n",
      "  cmdline: git clone -v https://github.com/https://gitlab.com/e62Lab/2018AdaptivePaper repos/https://gitlab.com/e62Lab/2018AdaptivePaper\n",
      "  stderr: 'Cloning into 'repos/https://gitlab.com/e62Lab/2018AdaptivePaper'...\n",
      "remote: Not Found\n",
      "fatal: repository 'https://github.com/https://gitlab.com/e62Lab/2018AdaptivePaper/' not found\n",
      "'\n"
     ]
    },
    {
     "name": "stderr",
     "output_type": "stream",
     "text": [
      " 12%|█▏        | 5526/46292 [3:12:52<17:17:29,  1.53s/it]"
     ]
    },
    {
     "name": "stdout",
     "output_type": "stream",
     "text": [
      "Cmd('git') failed due to: exit code(128)\n",
      "  cmdline: git clone -v https://github.com/https://gitlab.com/dplaudecraik/qdSpectro repos/https://gitlab.com/dplaudecraik/qdSpectro\n",
      "  stderr: 'Cloning into 'repos/https://gitlab.com/dplaudecraik/qdSpectro'...\n",
      "remote: Not Found\n",
      "fatal: repository 'https://github.com/https://gitlab.com/dplaudecraik/qdSpectro/' not found\n",
      "'\n"
     ]
    },
    {
     "name": "stderr",
     "output_type": "stream",
     "text": [
      " 12%|█▏        | 5530/46292 [3:12:54<8:36:56,  1.31it/s] "
     ]
    },
    {
     "name": "stdout",
     "output_type": "stream",
     "text": [
      "Cmd('git') failed due to: exit code(128)\n",
      "  cmdline: git clone -v https://github.com/https://bitbucket.org/krumholz/cluster_review repos/https://bitbucket.org/krumholz/cluster_review\n",
      "  stderr: 'Cloning into 'repos/https://bitbucket.org/krumholz/cluster_review'...\n",
      "remote: Not Found\n",
      "fatal: repository 'https://github.com/https://bitbucket.org/krumholz/cluster_review/' not found\n",
      "'\n"
     ]
    },
    {
     "name": "stderr",
     "output_type": "stream",
     "text": [
      " 12%|█▏        | 5538/46292 [3:13:25<32:00:32,  2.83s/it]"
     ]
    },
    {
     "name": "stdout",
     "output_type": "stream",
     "text": [
      "Cmd('git') failed due to: exit code(128)\n",
      "  cmdline: git clone -v https://github.com/https://gitlab.com/infantesainz/sdss-extended-psfs-paper repos/https://gitlab.com/infantesainz/sdss-extended-psfs-paper\n",
      "  stderr: 'Cloning into 'repos/https://gitlab.com/infantesainz/sdss-extended-psfs-paper'...\n",
      "remote: Not Found\n",
      "fatal: repository 'https://github.com/https://gitlab.com/infantesainz/sdss-extended-psfs-paper/' not found\n",
      "'\n"
     ]
    },
    {
     "name": "stderr",
     "output_type": "stream",
     "text": [
      " 12%|█▏        | 5555/46292 [3:14:37<23:03:02,  2.04s/it] "
     ]
    },
    {
     "name": "stdout",
     "output_type": "stream",
     "text": [
      "Cmd('git') failed due to: exit code(128)\n",
      "  cmdline: git clone -v https://github.com/https://gitlab.com/ChD/shard-recon repos/https://gitlab.com/ChD/shard-recon\n",
      "  stderr: 'Cloning into 'repos/https://gitlab.com/ChD/shard-recon'...\n",
      "remote: Not Found\n",
      "fatal: repository 'https://github.com/https://gitlab.com/ChD/shard-recon/' not found\n",
      "'\n"
     ]
    },
    {
     "name": "stderr",
     "output_type": "stream",
     "text": [
      " 12%|█▏        | 5564/46292 [3:14:51<16:12:20,  1.43s/it]"
     ]
    },
    {
     "name": "stdout",
     "output_type": "stream",
     "text": [
      "Cmd('git') failed due to: exit code(128)\n",
      "  cmdline: git clone -v https://github.com/https://gitlab.com/rvb/rpp-psaks repos/https://gitlab.com/rvb/rpp-psaks\n",
      "  stderr: 'Cloning into 'repos/https://gitlab.com/rvb/rpp-psaks'...\n",
      "remote: Not Found\n",
      "fatal: repository 'https://github.com/https://gitlab.com/rvb/rpp-psaks/' not found\n",
      "'\n"
     ]
    },
    {
     "name": "stderr",
     "output_type": "stream",
     "text": [
      " 12%|█▏        | 5577/46292 [3:15:30<16:49:23,  1.49s/it]"
     ]
    },
    {
     "name": "stdout",
     "output_type": "stream",
     "text": [
      "Cmd('git') failed due to: exit code(128)\n",
      "  cmdline: git clone -v https://github.com/https://bitbucket.org/lroberts/nuopac repos/https://bitbucket.org/lroberts/nuopac\n",
      "  stderr: 'Cloning into 'repos/https://bitbucket.org/lroberts/nuopac'...\n",
      "remote: Not Found\n",
      "fatal: repository 'https://github.com/https://bitbucket.org/lroberts/nuopac/' not found\n",
      "'\n"
     ]
    },
    {
     "name": "stderr",
     "output_type": "stream",
     "text": [
      " 12%|█▏        | 5582/46292 [3:15:35<9:25:01,  1.20it/s] "
     ]
    },
    {
     "name": "stdout",
     "output_type": "stream",
     "text": [
      "Cmd('git') failed due to: exit code(128)\n",
      "  cmdline: git clone -v https://github.com/rheem-ecosystem/rheem-benchmark repos/rheem-ecosystem/rheem-benchmark\n",
      "  stderr: 'Cloning into 'repos/rheem-ecosystem/rheem-benchmark'...\n",
      "fatal: could not read Username for 'https://github.com': No such device or address\n",
      "'\n"
     ]
    },
    {
     "name": "stderr",
     "output_type": "stream",
     "text": [
      " 12%|█▏        | 5585/46292 [3:15:36<5:57:16,  1.90it/s]"
     ]
    },
    {
     "name": "stdout",
     "output_type": "stream",
     "text": [
      "Cmd('git') failed due to: exit code(128)\n",
      "  cmdline: git clone -v https://github.com/https://bitbucket.org/talonsoalbi/jparsec repos/https://bitbucket.org/talonsoalbi/jparsec\n",
      "  stderr: 'Cloning into 'repos/https://bitbucket.org/talonsoalbi/jparsec'...\n",
      "remote: Not Found\n",
      "fatal: repository 'https://github.com/https://bitbucket.org/talonsoalbi/jparsec/' not found\n",
      "'\n"
     ]
    },
    {
     "name": "stderr",
     "output_type": "stream",
     "text": [
      " 12%|█▏        | 5596/46292 [3:15:41<4:08:54,  2.73it/s]"
     ]
    },
    {
     "name": "stdout",
     "output_type": "stream",
     "text": [
      "Cmd('git') failed due to: exit code(128)\n",
      "  cmdline: git clone -v https://github.com/https://gitlab.com/philten/darkcast repos/https://gitlab.com/philten/darkcast\n",
      "  stderr: 'Cloning into 'repos/https://gitlab.com/philten/darkcast'...\n",
      "remote: Not Found\n",
      "fatal: repository 'https://github.com/https://gitlab.com/philten/darkcast/' not found\n",
      "'\n"
     ]
    },
    {
     "name": "stderr",
     "output_type": "stream",
     "text": [
      " 12%|█▏        | 5649/46292 [3:17:48<12:15:51,  1.09s/it]"
     ]
    },
    {
     "name": "stdout",
     "output_type": "stream",
     "text": [
      "Cmd('git') failed due to: exit code(128)\n",
      "  cmdline: git clone -v https://github.com/https://gitlab.com/librallu/cats-ts-sop repos/https://gitlab.com/librallu/cats-ts-sop\n",
      "  stderr: 'Cloning into 'repos/https://gitlab.com/librallu/cats-ts-sop'...\n",
      "remote: Not Found\n",
      "fatal: repository 'https://github.com/https://gitlab.com/librallu/cats-ts-sop/' not found\n",
      "'\n"
     ]
    },
    {
     "name": "stderr",
     "output_type": "stream",
     "text": [
      " 12%|█▏        | 5667/46292 [3:18:28<8:40:01,  1.30it/s] "
     ]
    },
    {
     "name": "stdout",
     "output_type": "stream",
     "text": [
      "Cmd('git') failed due to: exit code(128)\n",
      "  cmdline: git clone -v https://github.com/https://gitlab.com/peterwittek/ncpol2sdpa repos/https://gitlab.com/peterwittek/ncpol2sdpa\n",
      "  stderr: 'Cloning into 'repos/https://gitlab.com/peterwittek/ncpol2sdpa'...\n",
      "remote: Not Found\n",
      "fatal: repository 'https://github.com/https://gitlab.com/peterwittek/ncpol2sdpa/' not found\n",
      "'\n"
     ]
    },
    {
     "name": "stderr",
     "output_type": "stream",
     "text": [
      " 12%|█▏        | 5670/46292 [3:18:29<6:49:41,  1.65it/s]"
     ]
    },
    {
     "name": "stdout",
     "output_type": "stream",
     "text": [
      "Cmd('git') failed due to: exit code(128)\n",
      "  cmdline: git clone -v https://github.com/https://gitlab.com/peterwittek/ncpol2sdpa repos/https://gitlab.com/peterwittek/ncpol2sdpa\n",
      "  stderr: 'Cloning into 'repos/https://gitlab.com/peterwittek/ncpol2sdpa'...\n",
      "remote: Not Found\n",
      "fatal: repository 'https://github.com/https://gitlab.com/peterwittek/ncpol2sdpa/' not found\n",
      "'\n"
     ]
    },
    {
     "name": "stderr",
     "output_type": "stream",
     "text": [
      " 12%|█▏        | 5691/46292 [3:19:35<40:00:35,  3.55s/it]"
     ]
    },
    {
     "name": "stdout",
     "output_type": "stream",
     "text": [
      "Cmd('git') failed due to: exit code(128)\n",
      "  cmdline: git clone -v https://github.com/https://gitlab.com/ngovanmao/edgecomputing repos/https://gitlab.com/ngovanmao/edgecomputing\n",
      "  stderr: 'Cloning into 'repos/https://gitlab.com/ngovanmao/edgecomputing'...\n",
      "remote: Not Found\n",
      "fatal: repository 'https://github.com/https://gitlab.com/ngovanmao/edgecomputing/' not found\n",
      "'\n"
     ]
    },
    {
     "name": "stderr",
     "output_type": "stream",
     "text": [
      "\r",
      " 12%|█▏        | 5692/46292 [3:19:35<30:22:00,  2.69s/it]"
     ]
    },
    {
     "name": "stdout",
     "output_type": "stream",
     "text": [
      "Cmd('git') failed due to: exit code(128)\n",
      "  cmdline: git clone -v https://github.com/https://gitlab.com/ngovanmao/edgeapps repos/https://gitlab.com/ngovanmao/edgeapps\n",
      "  stderr: 'Cloning into 'repos/https://gitlab.com/ngovanmao/edgeapps'...\n",
      "remote: Not Found\n",
      "fatal: repository 'https://github.com/https://gitlab.com/ngovanmao/edgeapps/' not found\n",
      "'\n"
     ]
    },
    {
     "name": "stderr",
     "output_type": "stream",
     "text": [
      " 12%|█▏        | 5696/46292 [3:19:37<12:12:43,  1.08s/it]"
     ]
    },
    {
     "name": "stdout",
     "output_type": "stream",
     "text": [
      "Cmd('git') failed due to: exit code(128)\n",
      "  cmdline: git clone -v https://github.com/https://bitbucket.org/orserang/neutronstar repos/https://bitbucket.org/orserang/neutronstar\n",
      "  stderr: 'Cloning into 'repos/https://bitbucket.org/orserang/neutronstar'...\n",
      "remote: Not Found\n",
      "fatal: repository 'https://github.com/https://bitbucket.org/orserang/neutronstar/' not found\n",
      "'\n"
     ]
    },
    {
     "name": "stderr",
     "output_type": "stream",
     "text": [
      "\r",
      " 12%|█▏        | 5697/46292 [3:19:37<9:31:50,  1.18it/s] "
     ]
    },
    {
     "name": "stdout",
     "output_type": "stream",
     "text": [
      "Cmd('git') failed due to: exit code(128)\n",
      "  cmdline: git clone -v https://github.com/https://gitlab.com/mule-tools/manual repos/https://gitlab.com/mule-tools/manual\n",
      "  stderr: 'Cloning into 'repos/https://gitlab.com/mule-tools/manual'...\n",
      "remote: Not Found\n",
      "fatal: repository 'https://github.com/https://gitlab.com/mule-tools/manual/' not found\n",
      "'\n"
     ]
    },
    {
     "name": "stderr",
     "output_type": "stream",
     "text": [
      " 12%|█▏        | 5699/46292 [3:19:38<6:23:20,  1.76it/s]"
     ]
    },
    {
     "name": "stdout",
     "output_type": "stream",
     "text": [
      "Cmd('git') failed due to: exit code(128)\n",
      "  cmdline: git clone -v https://github.com/https://gitlab.com/mule-tools/manual repos/https://gitlab.com/mule-tools/manual\n",
      "  stderr: 'Cloning into 'repos/https://gitlab.com/mule-tools/manual'...\n",
      "remote: Not Found\n",
      "fatal: repository 'https://github.com/https://gitlab.com/mule-tools/manual/' not found\n",
      "'\n"
     ]
    },
    {
     "name": "stderr",
     "output_type": "stream",
     "text": [
      " 12%|█▏        | 5701/46292 [3:19:40<7:49:51,  1.44it/s]"
     ]
    },
    {
     "name": "stdout",
     "output_type": "stream",
     "text": [
      "Cmd('git') failed due to: exit code(128)\n",
      "  cmdline: git clone -v https://github.com/https://gitlab.com/dpassaro/modelbuildinggcicys2020 repos/https://gitlab.com/dpassaro/modelbuildinggcicys2020\n",
      "  stderr: 'Cloning into 'repos/https://gitlab.com/dpassaro/modelbuildinggcicys2020'...\n",
      "remote: Not Found\n",
      "fatal: repository 'https://github.com/https://gitlab.com/dpassaro/modelbuildinggcicys2020/' not found\n",
      "'\n"
     ]
    },
    {
     "name": "stderr",
     "output_type": "stream",
     "text": [
      " 12%|█▏        | 5749/46292 [3:23:45<10:03:05,  1.12it/s] "
     ]
    },
    {
     "name": "stdout",
     "output_type": "stream",
     "text": [
      "Cmd('git') failed due to: exit code(128)\n",
      "  cmdline: git clone -v https://github.com/https://bitbucket.org/mvdschaar/mlforhealthlabpub repos/https://bitbucket.org/mvdschaar/mlforhealthlabpub\n",
      "  stderr: 'Cloning into 'repos/https://bitbucket.org/mvdschaar/mlforhealthlabpub'...\n",
      "remote: Not Found\n",
      "fatal: repository 'https://github.com/https://bitbucket.org/mvdschaar/mlforhealthlabpub/' not found\n",
      "'\n"
     ]
    },
    {
     "name": "stderr",
     "output_type": "stream",
     "text": [
      " 12%|█▏        | 5758/46292 [3:23:56<7:22:09,  1.53it/s] "
     ]
    },
    {
     "name": "stdout",
     "output_type": "stream",
     "text": [
      "Cmd('git') failed due to: exit code(128)\n",
      "  cmdline: git clone -v https://github.com/https://bitbucket.org/act-lab/release repos/https://bitbucket.org/act-lab/release\n",
      "  stderr: 'Cloning into 'repos/https://bitbucket.org/act-lab/release'...\n",
      "remote: Not Found\n",
      "fatal: repository 'https://github.com/https://bitbucket.org/act-lab/release/' not found\n",
      "'\n"
     ]
    },
    {
     "name": "stderr",
     "output_type": "stream",
     "text": [
      " 13%|█▎        | 5837/46292 [3:25:54<9:00:03,  1.25it/s] "
     ]
    },
    {
     "name": "stdout",
     "output_type": "stream",
     "text": [
      "Cmd('git') failed due to: exit code(128)\n",
      "  cmdline: git clone -v https://github.com/raotnameh/AML_Course/tree/main/project repos/raotnameh/AML_Course/tree/main/project\n",
      "  stderr: 'Cloning into 'repos/raotnameh/AML_Course/tree/main/project'...\n",
      "fatal: repository 'https://github.com/raotnameh/AML_Course/tree/main/project/' not found\n",
      "'\n"
     ]
    },
    {
     "name": "stderr",
     "output_type": "stream",
     "text": [
      " 13%|█▎        | 5877/46292 [3:26:39<5:51:43,  1.92it/s] "
     ]
    },
    {
     "name": "stdout",
     "output_type": "stream",
     "text": [
      "Cmd('git') failed due to: exit code(128)\n",
      "  cmdline: git clone -v https://github.com/pbizopoulos/sparsely-activated-networks-a-new-method-for-decomposing-and-compressing-data repos/pbizopoulos/sparsely-activated-networks-a-new-method-for-decomposing-and-compressing-data\n",
      "  stderr: 'Cloning into 'repos/pbizopoulos/sparsely-activated-networks-a-new-method-for-decomposing-and-compressing-data'...\n",
      "fatal: could not read Username for 'https://github.com': No such device or address\n",
      "'\n"
     ]
    },
    {
     "name": "stderr",
     "output_type": "stream",
     "text": [
      " 13%|█▎        | 5965/46292 [3:29:11<6:12:58,  1.80it/s]  "
     ]
    },
    {
     "name": "stdout",
     "output_type": "stream",
     "text": [
      "Cmd('git') failed due to: exit code(128)\n",
      "  cmdline: git clone -v https://github.com/dkollias/Aff-Wild-models/blob/master/affwildnet/vggface_gru.py repos/dkollias/Aff-Wild-models/blob/master/affwildnet/vggface_gru.py\n",
      "  stderr: 'Cloning into 'repos/dkollias/Aff-Wild-models/blob/master/affwildnet/vggface_gru.py'...\n",
      "fatal: repository 'https://github.com/dkollias/Aff-Wild-models/blob/master/affwildnet/vggface_gru.py/' not found\n",
      "'\n"
     ]
    },
    {
     "name": "stderr",
     "output_type": "stream",
     "text": [
      " 13%|█▎        | 6023/46292 [3:31:08<7:18:21,  1.53it/s] "
     ]
    },
    {
     "name": "stdout",
     "output_type": "stream",
     "text": [
      "Cmd('git') failed due to: exit code(128)\n",
      "  cmdline: git clone -v https://github.com/https://gitlab.com/bjwalker/3d-filaments repos/https://gitlab.com/bjwalker/3d-filaments\n",
      "  stderr: 'Cloning into 'repos/https://gitlab.com/bjwalker/3d-filaments'...\n",
      "remote: Not Found\n",
      "fatal: repository 'https://github.com/https://gitlab.com/bjwalker/3d-filaments/' not found\n",
      "'\n"
     ]
    },
    {
     "name": "stderr",
     "output_type": "stream",
     "text": [
      " 14%|█▎        | 6300/46292 [3:43:37<15:25:29,  1.39s/it] "
     ]
    },
    {
     "name": "stdout",
     "output_type": "stream",
     "text": [
      "Cmd('git') failed due to: exit code(128)\n",
      "  cmdline: git clone -v https://github.com/majedelhelou/ADEFAN repos/majedelhelou/ADEFAN\n",
      "  stderr: 'Cloning into 'repos/majedelhelou/ADEFAN'...\n",
      "fatal: could not read Username for 'https://github.com': No such device or address\n",
      "'\n"
     ]
    },
    {
     "name": "stderr",
     "output_type": "stream",
     "text": [
      " 14%|█▍        | 6467/46292 [3:49:12<16:40:03,  1.51s/it] "
     ]
    },
    {
     "name": "stdout",
     "output_type": "stream",
     "text": [
      "Cmd('git') failed due to: exit code(128)\n",
      "  cmdline: git clone -v https://github.com/Necole123/GeoSSL repos/Necole123/GeoSSL\n",
      "  stderr: 'Cloning into 'repos/Necole123/GeoSSL'...\n",
      "fatal: could not read Username for 'https://github.com': No such device or address\n",
      "'\n"
     ]
    },
    {
     "name": "stderr",
     "output_type": "stream",
     "text": [
      " 14%|█▍        | 6478/46292 [3:49:25<13:18:12,  1.20s/it]"
     ]
    },
    {
     "name": "stdout",
     "output_type": "stream",
     "text": [
      "Cmd('git') failed due to: exit code(128)\n",
      "  cmdline: git clone -v https://github.com/guruvamsi-policharla/Monte-Carlo-Simulations repos/guruvamsi-policharla/Monte-Carlo-Simulations\n",
      "  stderr: 'Cloning into 'repos/guruvamsi-policharla/Monte-Carlo-Simulations'...\n",
      "fatal: could not read Username for 'https://github.com': No such device or address\n",
      "'\n"
     ]
    },
    {
     "name": "stderr",
     "output_type": "stream",
     "text": [
      " 14%|█▍        | 6566/46292 [3:53:17<11:15:37,  1.02s/it] "
     ]
    },
    {
     "name": "stdout",
     "output_type": "stream",
     "text": [
      "Cmd('git') failed due to: exit code(128)\n",
      "  cmdline: git clone -v https://github.com/deepmipt/diff_beam_search/tree/master/expected_bleu repos/deepmipt/diff_beam_search/tree/master/expected_bleu\n",
      "  stderr: 'Cloning into 'repos/deepmipt/diff_beam_search/tree/master/expected_bleu'...\n",
      "fatal: repository 'https://github.com/deepmipt/diff_beam_search/tree/master/expected_bleu/' not found\n",
      "'\n"
     ]
    },
    {
     "name": "stderr",
     "output_type": "stream",
     "text": [
      " 14%|█▍        | 6712/46292 [4:01:44<37:04:22,  3.37s/it] "
     ]
    },
    {
     "name": "stdout",
     "output_type": "stream",
     "text": [
      "Cmd('git') failed due to: exit code(128)\n",
      "  cmdline: git clone -v https://github.com/alexjungaalto/DeepLearningPython repos/alexjungaalto/DeepLearningPython\n",
      "  stderr: 'Cloning into 'repos/alexjungaalto/DeepLearningPython'...\n",
      "fatal: could not read Username for 'https://github.com': No such device or address\n",
      "'\n"
     ]
    },
    {
     "name": "stderr",
     "output_type": "stream",
     "text": [
      " 15%|█▍        | 6848/46292 [4:07:14<21:22:02,  1.95s/it] "
     ]
    },
    {
     "name": "stdout",
     "output_type": "stream",
     "text": [
      "Cmd('git') failed due to: exit code(128)\n",
      "  cmdline: git clone -v https://github.com/tensorpack/tensorpack/tree/master/examples/HED repos/tensorpack/tensorpack/tree/master/examples/HED\n",
      "  stderr: 'Cloning into 'repos/tensorpack/tensorpack/tree/master/examples/HED'...\n",
      "fatal: repository 'https://github.com/tensorpack/tensorpack/tree/master/examples/HED/' not found\n",
      "'\n"
     ]
    },
    {
     "name": "stderr",
     "output_type": "stream",
     "text": [
      " 15%|█▌        | 7015/46292 [4:13:25<19:28:02,  1.78s/it] "
     ]
    },
    {
     "name": "stdout",
     "output_type": "stream",
     "text": [
      "Cmd('git') failed due to: exit code(128)\n",
      "  cmdline: git clone -v https://github.com/tensorflow/models/tree/master/research/domain_adaptation repos/tensorflow/models/tree/master/research/domain_adaptation\n",
      "  stderr: 'Cloning into 'repos/tensorflow/models/tree/master/research/domain_adaptation'...\n",
      "fatal: repository 'https://github.com/tensorflow/models/tree/master/research/domain_adaptation/' not found\n",
      "'\n"
     ]
    },
    {
     "name": "stderr",
     "output_type": "stream",
     "text": [
      " 15%|█▌        | 7154/46292 [4:20:15<4:57:38,  2.19it/s]  "
     ]
    },
    {
     "name": "stdout",
     "output_type": "stream",
     "text": [
      "Cmd('git') failed due to: exit code(128)\n",
      "  cmdline: git clone -v https://github.com/https://worksheets.codalab.org/worksheets/0xe3eb416773ed4883bb737662b31b4948 repos/https://worksheets.codalab.org/worksheets/0xe3eb416773ed4883bb737662b31b4948\n",
      "  stderr: 'Cloning into 'repos/https://worksheets.codalab.org/worksheets/0xe3eb416773ed4883bb737662b31b4948'...\n",
      "remote: Not Found\n",
      "fatal: repository 'https://github.com/https://worksheets.codalab.org/worksheets/0xe3eb416773ed4883bb737662b31b4948/' not found\n",
      "'\n"
     ]
    },
    {
     "name": "stderr",
     "output_type": "stream",
     "text": [
      " 15%|█▌        | 7158/46292 [4:20:20<10:03:17,  1.08it/s]"
     ]
    },
    {
     "name": "stdout",
     "output_type": "stream",
     "text": [
      "Cmd('git') failed due to: exit code(128)\n",
      "  cmdline: git clone -v https://github.com/https://worksheets.codalab.org/worksheets/0xecc9a01cfcbc4cd6b0444a92d259a87c repos/https://worksheets.codalab.org/worksheets/0xecc9a01cfcbc4cd6b0444a92d259a87c\n",
      "  stderr: 'Cloning into 'repos/https://worksheets.codalab.org/worksheets/0xecc9a01cfcbc4cd6b0444a92d259a87c'...\n",
      "remote: Not Found\n",
      "fatal: repository 'https://github.com/https://worksheets.codalab.org/worksheets/0xecc9a01cfcbc4cd6b0444a92d259a87c/' not found\n",
      "'\n"
     ]
    },
    {
     "name": "stderr",
     "output_type": "stream",
     "text": [
      " 15%|█▌        | 7162/46292 [4:20:24<8:59:12,  1.21it/s] "
     ]
    },
    {
     "name": "stdout",
     "output_type": "stream",
     "text": [
      "Cmd('git') failed due to: exit code(128)\n",
      "  cmdline: git clone -v https://github.com/https://worksheets.codalab.org/worksheets/0x1ad3f387005c492ea913cf0f20c9bb89 repos/https://worksheets.codalab.org/worksheets/0x1ad3f387005c492ea913cf0f20c9bb89\n",
      "  stderr: 'Cloning into 'repos/https://worksheets.codalab.org/worksheets/0x1ad3f387005c492ea913cf0f20c9bb89'...\n",
      "remote: Not Found\n",
      "fatal: repository 'https://github.com/https://worksheets.codalab.org/worksheets/0x1ad3f387005c492ea913cf0f20c9bb89/' not found\n",
      "'\n"
     ]
    },
    {
     "name": "stderr",
     "output_type": "stream",
     "text": [
      "\r",
      " 15%|█▌        | 7163/46292 [4:20:24<7:19:12,  1.48it/s]"
     ]
    },
    {
     "name": "stdout",
     "output_type": "stream",
     "text": [
      "Cmd('git') failed due to: exit code(128)\n",
      "  cmdline: git clone -v https://github.com/https://worksheets.codalab.org/worksheets/0x7f9151ec074f4f589e4d4786db7bb6de repos/https://worksheets.codalab.org/worksheets/0x7f9151ec074f4f589e4d4786db7bb6de\n",
      "  stderr: 'Cloning into 'repos/https://worksheets.codalab.org/worksheets/0x7f9151ec074f4f589e4d4786db7bb6de'...\n",
      "remote: Not Found\n",
      "fatal: repository 'https://github.com/https://worksheets.codalab.org/worksheets/0x7f9151ec074f4f589e4d4786db7bb6de/' not found\n",
      "'\n"
     ]
    },
    {
     "name": "stderr",
     "output_type": "stream",
     "text": [
      " 16%|█▌        | 7177/46292 [4:20:34<7:42:24,  1.41it/s] "
     ]
    },
    {
     "name": "stdout",
     "output_type": "stream",
     "text": [
      "Cmd('git') failed due to: exit code(128)\n",
      "  cmdline: git clone -v https://github.com/https://worksheets.codalab.org/worksheets/0xea5a522788f743acb4fbf9e60065be8f repos/https://worksheets.codalab.org/worksheets/0xea5a522788f743acb4fbf9e60065be8f\n",
      "  stderr: 'Cloning into 'repos/https://worksheets.codalab.org/worksheets/0xea5a522788f743acb4fbf9e60065be8f'...\n",
      "remote: Not Found\n",
      "fatal: repository 'https://github.com/https://worksheets.codalab.org/worksheets/0xea5a522788f743acb4fbf9e60065be8f/' not found\n",
      "'\n"
     ]
    },
    {
     "name": "stderr",
     "output_type": "stream",
     "text": [
      " 16%|█▌        | 7238/46292 [4:22:52<12:14:41,  1.13s/it]"
     ]
    },
    {
     "name": "stdout",
     "output_type": "stream",
     "text": [
      "Cmd('git') failed due to: exit code(128)\n",
      "  cmdline: git clone -v https://github.com/tensorflow/models/tree/master/research/struct2depth repos/tensorflow/models/tree/master/research/struct2depth\n",
      "  stderr: 'Cloning into 'repos/tensorflow/models/tree/master/research/struct2depth'...\n",
      "fatal: repository 'https://github.com/tensorflow/models/tree/master/research/struct2depth/' not found\n",
      "'\n"
     ]
    },
    {
     "name": "stderr",
     "output_type": "stream",
     "text": [
      " 16%|█▌        | 7280/46292 [4:23:38<9:13:25,  1.17it/s] "
     ]
    },
    {
     "name": "stdout",
     "output_type": "stream",
     "text": [
      "Cmd('git') failed due to: exit code(128)\n",
      "  cmdline: git clone -v https://github.com/yliu1021/HandGestureClassifierCNN repos/yliu1021/HandGestureClassifierCNN\n",
      "  stderr: 'Cloning into 'repos/yliu1021/HandGestureClassifierCNN'...\n",
      "fatal: could not read Username for 'https://github.com': No such device or address\n",
      "'\n"
     ]
    },
    {
     "name": "stderr",
     "output_type": "stream",
     "text": [
      " 16%|█▌        | 7290/46292 [4:24:15<33:55:59,  3.13s/it]"
     ]
    },
    {
     "name": "stdout",
     "output_type": "stream",
     "text": [
      "Cmd('git') failed due to: exit code(128)\n",
      "  cmdline: git clone -v https://github.com/tensorflow/compression/tree/master/models/hific repos/tensorflow/compression/tree/master/models/hific\n",
      "  stderr: 'Cloning into 'repos/tensorflow/compression/tree/master/models/hific'...\n",
      "fatal: repository 'https://github.com/tensorflow/compression/tree/master/models/hific/' not found\n",
      "'\n"
     ]
    },
    {
     "name": "stderr",
     "output_type": "stream",
     "text": [
      " 16%|█▌        | 7433/46292 [4:28:25<11:10:55,  1.04s/it] "
     ]
    },
    {
     "name": "stdout",
     "output_type": "stream",
     "text": [
      "Cmd('git') failed due to: exit code(128)\n",
      "  cmdline: git clone -v https://github.com/pepper-johnson/Erudition repos/pepper-johnson/Erudition\n",
      "  stderr: 'Cloning into 'repos/pepper-johnson/Erudition'...\n",
      "fatal: could not read Username for 'https://github.com': No such device or address\n",
      "'\n"
     ]
    },
    {
     "name": "stderr",
     "output_type": "stream",
     "text": [
      " 16%|█▋        | 7555/46292 [4:33:18<41:36:18,  3.87s/it] "
     ]
    },
    {
     "name": "stdout",
     "output_type": "stream",
     "text": [
      "Cmd('git') failed due to: exit code(128)\n",
      "  cmdline: git clone -v https://github.com/Doyosae/CNN_Models repos/Doyosae/CNN_Models\n",
      "  stderr: 'Cloning into 'repos/Doyosae/CNN_Models'...\n",
      "fatal: could not read Username for 'https://github.com': No such device or address\n",
      "'\n"
     ]
    },
    {
     "name": "stderr",
     "output_type": "stream",
     "text": [
      "\r",
      " 16%|█▋        | 7556/46292 [4:33:18<30:09:06,  2.80s/it]"
     ]
    },
    {
     "name": "stdout",
     "output_type": "stream",
     "text": [
      "Cmd('git') failed due to: exit code(128)\n",
      "  cmdline: git clone -v https://github.com/Doyosae/CNN_Models repos/Doyosae/CNN_Models\n",
      "  stderr: 'Cloning into 'repos/Doyosae/CNN_Models'...\n",
      "fatal: could not read Username for 'https://github.com': No such device or address\n",
      "'\n"
     ]
    },
    {
     "name": "stderr",
     "output_type": "stream",
     "text": [
      " 16%|█▋        | 7558/46292 [4:33:19<17:01:17,  1.58s/it]"
     ]
    },
    {
     "name": "stdout",
     "output_type": "stream",
     "text": [
      "Cmd('git') failed due to: exit code(128)\n",
      "  cmdline: git clone -v https://github.com/Doyosae/CNN_Models repos/Doyosae/CNN_Models\n",
      "  stderr: 'Cloning into 'repos/Doyosae/CNN_Models'...\n",
      "fatal: could not read Username for 'https://github.com': No such device or address\n",
      "'\n"
     ]
    },
    {
     "name": "stderr",
     "output_type": "stream",
     "text": [
      "\r",
      " 16%|█▋        | 7559/46292 [4:33:20<12:46:46,  1.19s/it]"
     ]
    },
    {
     "name": "stdout",
     "output_type": "stream",
     "text": [
      "Cmd('git') failed due to: exit code(128)\n",
      "  cmdline: git clone -v https://github.com/Doyosae/CNN_Models repos/Doyosae/CNN_Models\n",
      "  stderr: 'Cloning into 'repos/Doyosae/CNN_Models'...\n",
      "fatal: could not read Username for 'https://github.com': No such device or address\n",
      "'\n"
     ]
    },
    {
     "name": "stderr",
     "output_type": "stream",
     "text": [
      " 17%|█▋        | 7664/46292 [4:36:29<16:55:29,  1.58s/it]"
     ]
    },
    {
     "name": "stdout",
     "output_type": "stream",
     "text": [
      "Cmd('git') failed due to: exit code(128)\n",
      "  cmdline: git clone -v https://github.com/ptmcgrat/3D-ResNets-PyTorch repos/ptmcgrat/3D-ResNets-PyTorch\n",
      "  stderr: 'Cloning into 'repos/ptmcgrat/3D-ResNets-PyTorch'...\n",
      "fatal: could not read Username for 'https://github.com': No such device or address\n",
      "'\n"
     ]
    },
    {
     "name": "stderr",
     "output_type": "stream",
     "text": [
      " 17%|█▋        | 7724/46292 [4:37:58<12:15:30,  1.14s/it]"
     ]
    },
    {
     "name": "stdout",
     "output_type": "stream",
     "text": [
      "Cmd('git') failed due to: exit code(128)\n",
      "  cmdline: git clone -v https://github.com/google-research/google-research/tree/master/graph_embedding/ddgk repos/google-research/google-research/tree/master/graph_embedding/ddgk\n",
      "  stderr: 'Cloning into 'repos/google-research/google-research/tree/master/graph_embedding/ddgk'...\n",
      "fatal: repository 'https://github.com/google-research/google-research/tree/master/graph_embedding/ddgk/' not found\n",
      "'\n"
     ]
    },
    {
     "name": "stderr",
     "output_type": "stream",
     "text": [
      " 17%|█▋        | 7833/46292 [4:42:10<6:55:09,  1.54it/s]  "
     ]
    },
    {
     "name": "stdout",
     "output_type": "stream",
     "text": [
      "Cmd('git') failed due to: exit code(128)\n",
      "  cmdline: git clone -v https://github.com/swen128/bert_scorer repos/swen128/bert_scorer\n",
      "  stderr: 'Cloning into 'repos/swen128/bert_scorer'...\n",
      "fatal: could not read Username for 'https://github.com': No such device or address\n",
      "'\n"
     ]
    },
    {
     "name": "stderr",
     "output_type": "stream",
     "text": [
      " 17%|█▋        | 7864/46292 [4:42:44<6:24:26,  1.67it/s] "
     ]
    },
    {
     "name": "stdout",
     "output_type": "stream",
     "text": [
      "Cmd('git') failed due to: exit code(128)\n",
      "  cmdline: git clone -v https://github.com/https://gitlab.com/VladyslavUsenko/basalt repos/https://gitlab.com/VladyslavUsenko/basalt\n",
      "  stderr: 'Cloning into 'repos/https://gitlab.com/VladyslavUsenko/basalt'...\n",
      "remote: Not Found\n",
      "fatal: repository 'https://github.com/https://gitlab.com/VladyslavUsenko/basalt/' not found\n",
      "'\n",
      "Cmd('git') failed due to: exit code(128)\n",
      "  cmdline: git clone -v https://github.com/https://gitlab.com/VladyslavUsenko/basalt repos/https://gitlab.com/VladyslavUsenko/basalt\n",
      "  stderr: 'Cloning into 'repos/https://gitlab.com/VladyslavUsenko/basalt'...\n",
      "remote: Not Found\n",
      "fatal: repository 'https://github.com/https://gitlab.com/VladyslavUsenko/basalt/' not found\n",
      "'\n"
     ]
    },
    {
     "name": "stderr",
     "output_type": "stream",
     "text": [
      " 17%|█▋        | 7916/46292 [4:44:15<5:58:32,  1.78it/s]  "
     ]
    },
    {
     "name": "stdout",
     "output_type": "stream",
     "text": [
      "Cmd('git') failed due to: exit code(128)\n",
      "  cmdline: git clone -v https://github.com/tristanengst/snaptshot-ensembles repos/tristanengst/snaptshot-ensembles\n",
      "  stderr: 'Cloning into 'repos/tristanengst/snaptshot-ensembles'...\n",
      "fatal: could not read Username for 'https://github.com': No such device or address\n",
      "'\n"
     ]
    },
    {
     "name": "stderr",
     "output_type": "stream",
     "text": [
      " 17%|█▋        | 7937/46292 [4:44:53<21:51:39,  2.05s/it]"
     ]
    },
    {
     "name": "stdout",
     "output_type": "stream",
     "text": [
      "Cmd('git') failed due to: exit code(128)\n",
      "  cmdline: git clone -v https://github.com/NonelM/Global-Encoding-master repos/NonelM/Global-Encoding-master\n",
      "  stderr: 'Cloning into 'repos/NonelM/Global-Encoding-master'...\n",
      "fatal: could not read Username for 'https://github.com': No such device or address\n",
      "'\n"
     ]
    },
    {
     "name": "stderr",
     "output_type": "stream",
     "text": [
      " 17%|█▋        | 8032/46292 [4:50:21<138:04:30, 12.99s/it]"
     ]
    },
    {
     "name": "stdout",
     "output_type": "stream",
     "text": [
      "Cmd('git') failed due to: exit code(128)\n",
      "  cmdline: git clone -v https://github.com/GaParmar/text_to_image repos/GaParmar/text_to_image\n",
      "  stderr: 'Cloning into 'repos/GaParmar/text_to_image'...\n",
      "fatal: could not read Username for 'https://github.com': No such device or address\n",
      "'\n"
     ]
    },
    {
     "name": "stderr",
     "output_type": "stream",
     "text": [
      " 17%|█▋        | 8045/46292 [4:50:29<11:06:38,  1.05s/it] "
     ]
    },
    {
     "name": "stdout",
     "output_type": "stream",
     "text": [
      "Cmd('git') failed due to: exit code(128)\n",
      "  cmdline: git clone -v https://github.com/tensorflow/models/tree/master/research/domain_adaptation repos/tensorflow/models/tree/master/research/domain_adaptation\n",
      "  stderr: 'Cloning into 'repos/tensorflow/models/tree/master/research/domain_adaptation'...\n",
      "fatal: repository 'https://github.com/tensorflow/models/tree/master/research/domain_adaptation/' not found\n",
      "'\n"
     ]
    },
    {
     "name": "stderr",
     "output_type": "stream",
     "text": [
      " 18%|█▊        | 8130/46292 [4:55:05<35:25:13,  3.34s/it] "
     ]
    },
    {
     "name": "stdout",
     "output_type": "stream",
     "text": [
      "Cmd('git') failed due to: exit code(128)\n",
      "  cmdline: git clone -v https://github.com/swen128/bert-sts repos/swen128/bert-sts\n",
      "  stderr: 'Cloning into 'repos/swen128/bert-sts'...\n",
      "fatal: could not read Username for 'https://github.com': No such device or address\n",
      "'\n"
     ]
    },
    {
     "name": "stderr",
     "output_type": "stream",
     "text": [
      " 18%|█▊        | 8191/46292 [4:56:27<10:11:27,  1.04it/s]"
     ]
    },
    {
     "name": "stdout",
     "output_type": "stream",
     "text": [
      "Cmd('git') failed due to: exit code(128)\n",
      "  cmdline: git clone -v https://github.com/lyw1538272605/AnotherTenseNet repos/lyw1538272605/AnotherTenseNet\n",
      "  stderr: 'Cloning into 'repos/lyw1538272605/AnotherTenseNet'...\n",
      "fatal: could not read Username for 'https://github.com': No such device or address\n",
      "'\n"
     ]
    },
    {
     "name": "stderr",
     "output_type": "stream",
     "text": [
      " 18%|█▊        | 8228/46292 [4:57:16<7:49:56,  1.35it/s] "
     ]
    },
    {
     "name": "stdout",
     "output_type": "stream",
     "text": [
      "Cmd('git') failed due to: exit code(128)\n",
      "  cmdline: git clone -v https://github.com/microsoft/unilm/tree/master/layoutlm repos/microsoft/unilm/tree/master/layoutlm\n",
      "  stderr: 'Cloning into 'repos/microsoft/unilm/tree/master/layoutlm'...\n",
      "fatal: repository 'https://github.com/microsoft/unilm/tree/master/layoutlm/' not found\n",
      "'\n"
     ]
    },
    {
     "name": "stderr",
     "output_type": "stream",
     "text": [
      " 18%|█▊        | 8346/46292 [5:02:00<17:43:18,  1.68s/it] "
     ]
    },
    {
     "name": "stdout",
     "output_type": "stream",
     "text": [
      "Cmd('git') failed due to: exit code(128)\n",
      "  cmdline: git clone -v https://github.com/akwasigroch/NAS_network_morphism repos/akwasigroch/NAS_network_morphism\n",
      "  stderr: 'Cloning into 'repos/akwasigroch/NAS_network_morphism'...\n",
      "fatal: could not read Username for 'https://github.com': No such device or address\n",
      "'\n"
     ]
    },
    {
     "name": "stderr",
     "output_type": "stream",
     "text": [
      " 18%|█▊        | 8399/46292 [5:03:11<17:47:08,  1.69s/it]"
     ]
    },
    {
     "name": "stdout",
     "output_type": "stream",
     "text": [
      "Cmd('git') failed due to: exit code(128)\n",
      "  cmdline: git clone -v https://github.com/microsoft/unilm/tree/master/layoutlm repos/microsoft/unilm/tree/master/layoutlm\n",
      "  stderr: 'Cloning into 'repos/microsoft/unilm/tree/master/layoutlm'...\n",
      "fatal: repository 'https://github.com/microsoft/unilm/tree/master/layoutlm/' not found\n",
      "'\n"
     ]
    },
    {
     "name": "stderr",
     "output_type": "stream",
     "text": [
      " 18%|█▊        | 8419/46292 [5:04:01<7:15:57,  1.45it/s] "
     ]
    },
    {
     "name": "stdout",
     "output_type": "stream",
     "text": [
      "Cmd('git') failed due to: exit code(128)\n",
      "  cmdline: git clone -v https://github.com/swen128/bert-sts repos/swen128/bert-sts\n",
      "  stderr: 'Cloning into 'repos/swen128/bert-sts'...\n",
      "fatal: could not read Username for 'https://github.com': No such device or address\n",
      "'\n"
     ]
    },
    {
     "name": "stderr",
     "output_type": "stream",
     "text": [
      " 18%|█▊        | 8436/46292 [5:04:21<9:31:35,  1.10it/s] "
     ]
    },
    {
     "name": "stdout",
     "output_type": "stream",
     "text": [
      "Cmd('git') failed due to: exit code(128)\n",
      "  cmdline: git clone -v https://github.com/google-research/google-research/tree/master/ieg repos/google-research/google-research/tree/master/ieg\n",
      "  stderr: 'Cloning into 'repos/google-research/google-research/tree/master/ieg'...\n",
      "fatal: repository 'https://github.com/google-research/google-research/tree/master/ieg/' not found\n",
      "'\n"
     ]
    },
    {
     "name": "stderr",
     "output_type": "stream",
     "text": [
      " 18%|█▊        | 8521/46292 [5:06:05<15:34:24,  1.48s/it]"
     ]
    },
    {
     "name": "stdout",
     "output_type": "stream",
     "text": [
      "Cmd('git') failed due to: exit code(128)\n",
      "  cmdline: git clone -v https://github.com/yinghao1019/NLP_and_DL_practice/blob/master/Conv_seq2seq.ipynb repos/yinghao1019/NLP_and_DL_practice/blob/master/Conv_seq2seq.ipynb\n",
      "  stderr: 'Cloning into 'repos/yinghao1019/NLP_and_DL_practice/blob/master/Conv_seq2seq.ipynb'...\n",
      "fatal: repository 'https://github.com/yinghao1019/NLP_and_DL_practice/blob/master/Conv_seq2seq.ipynb/' not found\n",
      "'\n"
     ]
    },
    {
     "name": "stderr",
     "output_type": "stream",
     "text": [
      " 19%|█▊        | 8618/46292 [5:10:26<58:15:48,  5.57s/it] "
     ]
    },
    {
     "name": "stdout",
     "output_type": "stream",
     "text": [
      "Cmd('git') failed due to: exit code(128)\n",
      "  cmdline: git clone -v https://github.com/microsoft/unilm/tree/master/layoutlm repos/microsoft/unilm/tree/master/layoutlm\n",
      "  stderr: 'Cloning into 'repos/microsoft/unilm/tree/master/layoutlm'...\n",
      "fatal: repository 'https://github.com/microsoft/unilm/tree/master/layoutlm/' not found\n",
      "'\n"
     ]
    },
    {
     "name": "stderr",
     "output_type": "stream",
     "text": [
      " 19%|█▊        | 8637/46292 [5:14:41<70:56:43,  6.78s/it] "
     ]
    },
    {
     "name": "stdout",
     "output_type": "stream",
     "text": [
      "Cmd('git') failed due to: exit code(128)\n",
      "  cmdline: git clone -v https://github.com/microsoft/unilm/tree/master/layoutlm repos/microsoft/unilm/tree/master/layoutlm\n",
      "  stderr: 'Cloning into 'repos/microsoft/unilm/tree/master/layoutlm'...\n",
      "fatal: repository 'https://github.com/microsoft/unilm/tree/master/layoutlm/' not found\n",
      "'\n"
     ]
    },
    {
     "name": "stderr",
     "output_type": "stream",
     "text": [
      " 19%|█▊        | 8653/46292 [5:15:06<18:52:03,  1.80s/it]"
     ]
    },
    {
     "name": "stdout",
     "output_type": "stream",
     "text": [
      "Cmd('git') failed due to: exit code(128)\n",
      "  cmdline: git clone -v https://github.com/swen128/bert-sts repos/swen128/bert-sts\n",
      "  stderr: 'Cloning into 'repos/swen128/bert-sts'...\n",
      "fatal: could not read Username for 'https://github.com': No such device or address\n",
      "'\n"
     ]
    },
    {
     "name": "stderr",
     "output_type": "stream",
     "text": [
      " 19%|█▊        | 8665/46292 [5:17:07<18:43:13,  1.79s/it] "
     ]
    },
    {
     "name": "stdout",
     "output_type": "stream",
     "text": [
      "Cmd('git') failed due to: exit code(128)\n",
      "  cmdline: git clone -v https://github.com/https://bitbucket.org/rnlee/libra repos/https://bitbucket.org/rnlee/libra\n",
      "  stderr: 'Cloning into 'repos/https://bitbucket.org/rnlee/libra'...\n",
      "remote: Not Found\n",
      "fatal: repository 'https://github.com/https://bitbucket.org/rnlee/libra/' not found\n",
      "'\n"
     ]
    },
    {
     "name": "stderr",
     "output_type": "stream",
     "text": [
      " 19%|█▉        | 8736/46292 [5:19:15<50:52:48,  4.88s/it]"
     ]
    },
    {
     "name": "stdout",
     "output_type": "stream",
     "text": [
      "Cmd('git') failed due to: exit code(128)\n",
      "  cmdline: git clone -v https://github.com/evwalz/CPA_Example_NWP repos/evwalz/CPA_Example_NWP\n",
      "  stderr: 'Cloning into 'repos/evwalz/CPA_Example_NWP'...\n",
      "fatal: could not read Username for 'https://github.com': No such device or address\n",
      "'\n"
     ]
    },
    {
     "name": "stderr",
     "output_type": "stream",
     "text": [
      " 19%|█▉        | 8776/46292 [5:20:46<6:21:54,  1.64it/s]  "
     ]
    },
    {
     "name": "stdout",
     "output_type": "stream",
     "text": [
      "Cmd('git') failed due to: exit code(128)\n",
      "  cmdline: git clone -v https://github.com/google-research/google-research/tree/master/tft repos/google-research/google-research/tree/master/tft\n",
      "  stderr: 'Cloning into 'repos/google-research/google-research/tree/master/tft'...\n",
      "fatal: repository 'https://github.com/google-research/google-research/tree/master/tft/' not found\n",
      "'\n"
     ]
    },
    {
     "name": "stderr",
     "output_type": "stream",
     "text": [
      " 19%|█▉        | 8889/46292 [5:24:40<3:08:21,  3.31it/s]  "
     ]
    },
    {
     "name": "stdout",
     "output_type": "stream",
     "text": [
      "Cmd('git') failed due to: exit code(128)\n",
      "  cmdline: git clone -v https://github.com/swen128/bert_scorer repos/swen128/bert_scorer\n",
      "  stderr: 'Cloning into 'repos/swen128/bert_scorer'...\n",
      "fatal: could not read Username for 'https://github.com': No such device or address\n",
      "'\n"
     ]
    },
    {
     "name": "stderr",
     "output_type": "stream",
     "text": [
      " 19%|█▉        | 8951/46292 [5:27:46<28:02:11,  2.70s/it] "
     ]
    },
    {
     "name": "stdout",
     "output_type": "stream",
     "text": [
      "Cmd('git') failed due to: exit code(128)\n",
      "  cmdline: git clone -v https://github.com/swen128/bert_scorer repos/swen128/bert_scorer\n",
      "  stderr: 'Cloning into 'repos/swen128/bert_scorer'...\n",
      "fatal: could not read Username for 'https://github.com': No such device or address\n",
      "'\n"
     ]
    },
    {
     "name": "stderr",
     "output_type": "stream",
     "text": [
      " 19%|█▉        | 8961/46292 [5:27:59<9:18:09,  1.11it/s] "
     ]
    },
    {
     "name": "stdout",
     "output_type": "stream",
     "text": [
      "Cmd('git') failed due to: exit code(128)\n",
      "  cmdline: git clone -v https://github.com/safe-graph/DGFraud/tree/master/algorithms/GEM repos/safe-graph/DGFraud/tree/master/algorithms/GEM\n",
      "  stderr: 'Cloning into 'repos/safe-graph/DGFraud/tree/master/algorithms/GEM'...\n",
      "fatal: repository 'https://github.com/safe-graph/DGFraud/tree/master/algorithms/GEM/' not found\n",
      "'\n"
     ]
    },
    {
     "name": "stderr",
     "output_type": "stream",
     "text": [
      " 20%|█▉        | 9077/46292 [5:33:02<21:50:10,  2.11s/it] "
     ]
    },
    {
     "name": "stdout",
     "output_type": "stream",
     "text": [
      "Cmd('git') failed due to: exit code(128)\n",
      "  cmdline: git clone -v https://github.com/tensorflow/models/tree/master/research/brain_coder repos/tensorflow/models/tree/master/research/brain_coder\n",
      "  stderr: 'Cloning into 'repos/tensorflow/models/tree/master/research/brain_coder'...\n",
      "fatal: repository 'https://github.com/tensorflow/models/tree/master/research/brain_coder/' not found\n",
      "'\n"
     ]
    },
    {
     "name": "stderr",
     "output_type": "stream",
     "text": [
      " 20%|█▉        | 9099/46292 [5:35:15<62:11:05,  6.02s/it] "
     ]
    },
    {
     "name": "stdout",
     "output_type": "stream",
     "text": [
      "Cmd('git') failed due to: exit code(128)\n",
      "  cmdline: git clone -v https://github.com/j-hussain/quantum_assembly repos/j-hussain/quantum_assembly\n",
      "  stderr: 'Cloning into 'repos/j-hussain/quantum_assembly'...\n",
      "fatal: could not read Username for 'https://github.com': No such device or address\n",
      "'\n"
     ]
    },
    {
     "name": "stderr",
     "output_type": "stream",
     "text": [
      " 20%|█▉        | 9118/46292 [5:35:37<11:09:55,  1.08s/it]"
     ]
    },
    {
     "name": "stdout",
     "output_type": "stream",
     "text": [
      "Cmd('git') failed due to: exit code(128)\n",
      "  cmdline: git clone -v https://github.com/microsoft/vert-papers/tree/master/papers/UniTrans repos/microsoft/vert-papers/tree/master/papers/UniTrans\n",
      "  stderr: 'Cloning into 'repos/microsoft/vert-papers/tree/master/papers/UniTrans'...\n",
      "fatal: repository 'https://github.com/microsoft/vert-papers/tree/master/papers/UniTrans/' not found\n",
      "'\n"
     ]
    },
    {
     "name": "stderr",
     "output_type": "stream",
     "text": [
      " 20%|█▉        | 9161/46292 [5:37:42<20:24:12,  1.98s/it]"
     ]
    },
    {
     "name": "stdout",
     "output_type": "stream",
     "text": [
      "Cmd('git') failed due to: exit code(128)\n",
      "  cmdline: git clone -v https://github.com/varunmannam/Papers_with_Code/tree/master/VAE_project repos/varunmannam/Papers_with_Code/tree/master/VAE_project\n",
      "  stderr: 'Cloning into 'repos/varunmannam/Papers_with_Code/tree/master/VAE_project'...\n",
      "fatal: repository 'https://github.com/varunmannam/Papers_with_Code/tree/master/VAE_project/' not found\n",
      "'\n"
     ]
    },
    {
     "name": "stderr",
     "output_type": "stream",
     "text": [
      " 20%|█▉        | 9232/46292 [5:39:50<11:50:46,  1.15s/it]"
     ]
    },
    {
     "name": "stdout",
     "output_type": "stream",
     "text": [
      "Cmd('git') failed due to: exit code(128)\n",
      "  cmdline: git clone -v https://github.com/alexquilliam/purplemap repos/alexquilliam/purplemap\n",
      "  stderr: 'Cloning into 'repos/alexquilliam/purplemap'...\n",
      "fatal: could not read Username for 'https://github.com': No such device or address\n",
      "'\n"
     ]
    },
    {
     "name": "stderr",
     "output_type": "stream",
     "text": [
      " 20%|██        | 9287/46292 [5:41:03<7:11:44,  1.43it/s] "
     ]
    },
    {
     "name": "stdout",
     "output_type": "stream",
     "text": [
      "Cmd('git') failed due to: exit code(128)\n",
      "  cmdline: git clone -v https://github.com/patgie/Multiasset-neural-SDE repos/patgie/Multiasset-neural-SDE\n",
      "  stderr: 'Cloning into 'repos/patgie/Multiasset-neural-SDE'...\n",
      "fatal: could not read Username for 'https://github.com': No such device or address\n",
      "'\n"
     ]
    },
    {
     "name": "stderr",
     "output_type": "stream",
     "text": [
      " 20%|██        | 9317/46292 [5:42:22<8:33:45,  1.20it/s] "
     ]
    },
    {
     "name": "stdout",
     "output_type": "stream",
     "text": [
      "Cmd('git') failed due to: exit code(128)\n",
      "  cmdline: git clone -v https://github.com/Oscillator-Phoenix/regexop repos/Oscillator-Phoenix/regexop\n",
      "  stderr: 'Cloning into 'repos/Oscillator-Phoenix/regexop'...\n",
      "fatal: could not read Username for 'https://github.com': No such device or address\n",
      "'\n"
     ]
    },
    {
     "name": "stderr",
     "output_type": "stream",
     "text": [
      " 20%|██        | 9383/46292 [5:44:19<12:53:37,  1.26s/it]"
     ]
    },
    {
     "name": "stdout",
     "output_type": "stream",
     "text": [
      "Cmd('git') failed due to: exit code(128)\n",
      "  cmdline: git clone -v https://github.com/https://bitbucket.org/JianboJiao/ssus2mri repos/https://bitbucket.org/JianboJiao/ssus2mri\n",
      "  stderr: 'Cloning into 'repos/https://bitbucket.org/JianboJiao/ssus2mri'...\n",
      "remote: Not Found\n",
      "fatal: repository 'https://github.com/https://bitbucket.org/JianboJiao/ssus2mri/' not found\n",
      "'\n"
     ]
    },
    {
     "name": "stderr",
     "output_type": "stream",
     "text": [
      " 20%|██        | 9449/46292 [5:46:28<7:14:53,  1.41it/s] "
     ]
    },
    {
     "name": "stdout",
     "output_type": "stream",
     "text": [
      "Cmd('git') failed due to: exit code(128)\n",
      "  cmdline: git clone -v https://github.com/https://gitlab.com/grains2/slicing-and-dicing-soccer repos/https://gitlab.com/grains2/slicing-and-dicing-soccer\n",
      "  stderr: 'Cloning into 'repos/https://gitlab.com/grains2/slicing-and-dicing-soccer'...\n",
      "remote: Not Found\n",
      "fatal: repository 'https://github.com/https://gitlab.com/grains2/slicing-and-dicing-soccer/' not found\n",
      "'\n"
     ]
    },
    {
     "name": "stderr",
     "output_type": "stream",
     "text": [
      " 20%|██        | 9455/46292 [5:46:44<21:00:36,  2.05s/it]"
     ]
    },
    {
     "name": "stdout",
     "output_type": "stream",
     "text": [
      "Cmd('git') failed due to: exit code(128)\n",
      "  cmdline: git clone -v https://github.com/https://gitlab.com/wxwilcke/mrgcn repos/https://gitlab.com/wxwilcke/mrgcn\n",
      "  stderr: 'Cloning into 'repos/https://gitlab.com/wxwilcke/mrgcn'...\n",
      "remote: Not Found\n",
      "fatal: repository 'https://github.com/https://gitlab.com/wxwilcke/mrgcn/' not found\n",
      "'\n"
     ]
    },
    {
     "name": "stderr",
     "output_type": "stream",
     "text": [
      " 21%|██        | 9568/46292 [5:50:42<6:47:33,  1.50it/s] "
     ]
    },
    {
     "name": "stdout",
     "output_type": "stream",
     "text": [
      "Cmd('git') failed due to: exit code(128)\n",
      "  cmdline: git clone -v https://github.com/back8/github_danielgatis_rembg repos/back8/github_danielgatis_rembg\n",
      "  stderr: 'Cloning into 'repos/back8/github_danielgatis_rembg'...\n",
      "fatal: could not read Username for 'https://github.com': No such device or address\n",
      "'\n"
     ]
    },
    {
     "name": "stderr",
     "output_type": "stream",
     "text": [
      " 21%|██        | 9752/46292 [5:56:27<12:04:36,  1.19s/it]"
     ]
    },
    {
     "name": "stdout",
     "output_type": "stream",
     "text": [
      "Cmd('git') failed due to: exit code(128)\n",
      "  cmdline: git clone -v https://github.com/https://gitlab.com/fraunhofer_chalmers_centre/functional_federated_learning repos/https://gitlab.com/fraunhofer_chalmers_centre/functional_federated_learning\n",
      "  stderr: 'Cloning into 'repos/https://gitlab.com/fraunhofer_chalmers_centre/functional_federated_learning'...\n",
      "remote: Not Found\n",
      "fatal: repository 'https://github.com/https://gitlab.com/fraunhofer_chalmers_centre/functional_federated_learning/' not found\n",
      "'\n"
     ]
    },
    {
     "name": "stderr",
     "output_type": "stream",
     "text": [
      " 21%|██        | 9777/46292 [5:57:08<21:34:26,  2.13s/it]"
     ]
    },
    {
     "name": "stdout",
     "output_type": "stream",
     "text": [
      "Cmd('git') failed due to: exit code(128)\n",
      "  cmdline: git clone -v https://github.com/yhcool14/custom-PF repos/yhcool14/custom-PF\n",
      "  stderr: 'Cloning into 'repos/yhcool14/custom-PF'...\n",
      "fatal: could not read Username for 'https://github.com': No such device or address\n",
      "'\n"
     ]
    },
    {
     "name": "stderr",
     "output_type": "stream",
     "text": [
      " 21%|██        | 9783/46292 [5:57:31<29:20:36,  2.89s/it]"
     ]
    },
    {
     "name": "stdout",
     "output_type": "stream",
     "text": [
      "Cmd('git') failed due to: exit code(128)\n",
      "  cmdline: git clone -v https://github.com/https://gitlab.com/tomblau/Bayesian-Curiosity repos/https://gitlab.com/tomblau/Bayesian-Curiosity\n",
      "  stderr: 'Cloning into 'repos/https://gitlab.com/tomblau/Bayesian-Curiosity'...\n",
      "remote: Not Found\n",
      "fatal: repository 'https://github.com/https://gitlab.com/tomblau/Bayesian-Curiosity/' not found\n",
      "'\n"
     ]
    },
    {
     "name": "stderr",
     "output_type": "stream",
     "text": [
      " 21%|██▏       | 9892/46292 [6:00:40<14:33:27,  1.44s/it]"
     ]
    },
    {
     "name": "stdout",
     "output_type": "stream",
     "text": [
      "Cmd('git') failed due to: exit code(128)\n",
      "  cmdline: git clone -v https://github.com/https://bitbucket.org/RToroIcarte/lrm repos/https://bitbucket.org/RToroIcarte/lrm\n",
      "  stderr: 'Cloning into 'repos/https://bitbucket.org/RToroIcarte/lrm'...\n",
      "remote: Not Found\n",
      "fatal: repository 'https://github.com/https://bitbucket.org/RToroIcarte/lrm/' not found\n",
      "'\n"
     ]
    },
    {
     "name": "stderr",
     "output_type": "stream",
     "text": [
      " 21%|██▏       | 9924/46292 [6:01:48<8:25:12,  1.20it/s] "
     ]
    },
    {
     "name": "stdout",
     "output_type": "stream",
     "text": [
      "Cmd('git') failed due to: exit code(128)\n",
      "  cmdline: git clone -v https://github.com/https://gitlab.com/sanidhyamangal/music_research repos/https://gitlab.com/sanidhyamangal/music_research\n",
      "  stderr: 'Cloning into 'repos/https://gitlab.com/sanidhyamangal/music_research'...\n",
      "remote: Not Found\n",
      "fatal: repository 'https://github.com/https://gitlab.com/sanidhyamangal/music_research/' not found\n",
      "'\n"
     ]
    },
    {
     "name": "stderr",
     "output_type": "stream",
     "text": [
      " 21%|██▏       | 9934/46292 [6:02:00<7:20:31,  1.38it/s] "
     ]
    },
    {
     "name": "stdout",
     "output_type": "stream",
     "text": [
      "Cmd('git') failed due to: exit code(128)\n",
      "  cmdline: git clone -v https://github.com/https://gitlab.com/polavieja_lab/idtrackerai repos/https://gitlab.com/polavieja_lab/idtrackerai\n",
      "  stderr: 'Cloning into 'repos/https://gitlab.com/polavieja_lab/idtrackerai'...\n",
      "remote: Not Found\n",
      "fatal: repository 'https://github.com/https://gitlab.com/polavieja_lab/idtrackerai/' not found\n",
      "'\n"
     ]
    },
    {
     "name": "stderr",
     "output_type": "stream",
     "text": [
      " 21%|██▏       | 9949/46292 [6:02:36<14:58:01,  1.48s/it]"
     ]
    },
    {
     "name": "stdout",
     "output_type": "stream",
     "text": [
      "Cmd('git') failed due to: exit code(128)\n",
      "  cmdline: git clone -v https://github.com/https://gitlab.com/qmml/qmmlpack repos/https://gitlab.com/qmml/qmmlpack\n",
      "  stderr: 'Cloning into 'repos/https://gitlab.com/qmml/qmmlpack'...\n",
      "remote: Not Found\n",
      "fatal: repository 'https://github.com/https://gitlab.com/qmml/qmmlpack/' not found\n",
      "'\n"
     ]
    },
    {
     "name": "stderr",
     "output_type": "stream",
     "text": [
      " 22%|██▏       | 9961/46292 [6:03:03<17:54:05,  1.77s/it]"
     ]
    },
    {
     "name": "stdout",
     "output_type": "stream",
     "text": [
      "Cmd('git') failed due to: exit code(128)\n",
      "  cmdline: git clone -v https://github.com/https://bitbucket.org/raingo-ur/mll-tf repos/https://bitbucket.org/raingo-ur/mll-tf\n",
      "  stderr: 'Cloning into 'repos/https://bitbucket.org/raingo-ur/mll-tf'...\n",
      "remote: Not Found\n",
      "fatal: repository 'https://github.com/https://bitbucket.org/raingo-ur/mll-tf/' not found\n",
      "'\n"
     ]
    },
    {
     "name": "stderr",
     "output_type": "stream",
     "text": [
      " 22%|██▏       | 9983/46292 [6:03:53<13:27:45,  1.33s/it]"
     ]
    },
    {
     "name": "stdout",
     "output_type": "stream",
     "text": [
      "Cmd('git') failed due to: exit code(128)\n",
      "  cmdline: git clone -v https://github.com/https://gitlab.com/hzxie/Pix2Vox repos/https://gitlab.com/hzxie/Pix2Vox\n",
      "  stderr: 'Cloning into 'repos/https://gitlab.com/hzxie/Pix2Vox'...\n",
      "remote: Not Found\n",
      "fatal: repository 'https://github.com/https://gitlab.com/hzxie/Pix2Vox/' not found\n",
      "'\n"
     ]
    },
    {
     "name": "stderr",
     "output_type": "stream",
     "text": [
      " 22%|██▏       | 10047/46292 [6:11:21<24:14:34,  2.41s/it] "
     ]
    },
    {
     "name": "stdout",
     "output_type": "stream",
     "text": [
      "Cmd('git') failed due to: exit code(128)\n",
      "  cmdline: git clone -v https://github.com/casdrlhuawei/AutoML repos/casdrlhuawei/AutoML\n",
      "  stderr: 'Cloning into 'repos/casdrlhuawei/AutoML'...\n",
      "fatal: could not read Username for 'https://github.com': No such device or address\n",
      "'\n"
     ]
    },
    {
     "name": "stderr",
     "output_type": "stream",
     "text": [
      "\r",
      " 22%|██▏       | 10048/46292 [6:11:21<19:13:37,  1.91s/it]"
     ]
    },
    {
     "name": "stdout",
     "output_type": "stream",
     "text": [
      "Cmd('git') failed due to: exit code(128)\n",
      "  cmdline: git clone -v https://github.com/casdrlhuawei/AutoML repos/casdrlhuawei/AutoML\n",
      "  stderr: 'Cloning into 'repos/casdrlhuawei/AutoML'...\n",
      "fatal: could not read Username for 'https://github.com': No such device or address\n",
      "'\n"
     ]
    },
    {
     "name": "stderr",
     "output_type": "stream",
     "text": [
      "\r",
      " 22%|██▏       | 10049/46292 [6:11:22<15:04:31,  1.50s/it]"
     ]
    },
    {
     "name": "stdout",
     "output_type": "stream",
     "text": [
      "Cmd('git') failed due to: exit code(128)\n",
      "  cmdline: git clone -v https://github.com/casdrlhuawei/AutoML repos/casdrlhuawei/AutoML\n",
      "  stderr: 'Cloning into 'repos/casdrlhuawei/AutoML'...\n",
      "fatal: could not read Username for 'https://github.com': No such device or address\n",
      "'\n"
     ]
    },
    {
     "name": "stderr",
     "output_type": "stream",
     "text": [
      " 22%|██▏       | 10062/46292 [6:11:46<17:22:58,  1.73s/it]"
     ]
    },
    {
     "name": "stdout",
     "output_type": "stream",
     "text": [
      "Cmd('git') failed due to: exit code(128)\n",
      "  cmdline: git clone -v https://github.com/alexa/Topical-Chat/tree/master/TopicalChatASR repos/alexa/Topical-Chat/tree/master/TopicalChatASR\n",
      "  stderr: 'Cloning into 'repos/alexa/Topical-Chat/tree/master/TopicalChatASR'...\n",
      "fatal: repository 'https://github.com/alexa/Topical-Chat/tree/master/TopicalChatASR/' not found\n",
      "'\n"
     ]
    },
    {
     "name": "stderr",
     "output_type": "stream",
     "text": [
      " 22%|██▏       | 10123/46292 [6:13:10<9:58:50,  1.01it/s] "
     ]
    },
    {
     "name": "stdout",
     "output_type": "stream",
     "text": [
      "Cmd('git') failed due to: exit code(128)\n",
      "  cmdline: git clone -v https://github.com/Saran-13/darknet-copy repos/Saran-13/darknet-copy\n",
      "  stderr: 'Cloning into 'repos/Saran-13/darknet-copy'...\n",
      "fatal: could not read Username for 'https://github.com': No such device or address\n",
      "'\n"
     ]
    },
    {
     "name": "stderr",
     "output_type": "stream",
     "text": [
      "\r",
      " 22%|██▏       | 10124/46292 [6:13:10<8:16:50,  1.21it/s]"
     ]
    },
    {
     "name": "stdout",
     "output_type": "stream",
     "text": [
      "Cmd('git') failed due to: exit code(128)\n",
      "  cmdline: git clone -v https://github.com/Saran-13/darknet-copy repos/Saran-13/darknet-copy\n",
      "  stderr: 'Cloning into 'repos/Saran-13/darknet-copy'...\n",
      "fatal: could not read Username for 'https://github.com': No such device or address\n",
      "'\n"
     ]
    },
    {
     "name": "stderr",
     "output_type": "stream",
     "text": [
      "\r",
      " 22%|██▏       | 10125/46292 [6:13:10<6:53:02,  1.46it/s]"
     ]
    },
    {
     "name": "stdout",
     "output_type": "stream",
     "text": [
      "Cmd('git') failed due to: exit code(128)\n",
      "  cmdline: git clone -v https://github.com/Saran-13/darknet-copy repos/Saran-13/darknet-copy\n",
      "  stderr: 'Cloning into 'repos/Saran-13/darknet-copy'...\n",
      "fatal: could not read Username for 'https://github.com': No such device or address\n",
      "'\n"
     ]
    },
    {
     "name": "stderr",
     "output_type": "stream",
     "text": [
      " 22%|██▏       | 10153/46292 [6:13:57<14:36:31,  1.46s/it]"
     ]
    },
    {
     "name": "stdout",
     "output_type": "stream",
     "text": [
      "Cmd('git') failed due to: exit code(128)\n",
      "  cmdline: git clone -v https://github.com/icode-xiaohu/ZS-MEM repos/icode-xiaohu/ZS-MEM\n",
      "  stderr: 'Cloning into 'repos/icode-xiaohu/ZS-MEM'...\n",
      "fatal: could not read Username for 'https://github.com': No such device or address\n",
      "'\n"
     ]
    },
    {
     "name": "stderr",
     "output_type": "stream",
     "text": [
      " 22%|██▏       | 10172/46292 [6:14:47<40:16:16,  4.01s/it]"
     ]
    },
    {
     "name": "stdout",
     "output_type": "stream",
     "text": [
      "Cmd('git') failed due to: exit code(128)\n",
      "  cmdline: git clone -v https://github.com/KelvinBull/MUSE repos/KelvinBull/MUSE\n",
      "  stderr: 'Cloning into 'repos/KelvinBull/MUSE'...\n",
      "fatal: could not read Username for 'https://github.com': No such device or address\n",
      "'\n"
     ]
    },
    {
     "name": "stderr",
     "output_type": "stream",
     "text": [
      "\r",
      " 22%|██▏       | 10173/46292 [6:14:48<32:04:35,  3.20s/it]"
     ]
    },
    {
     "name": "stdout",
     "output_type": "stream",
     "text": [
      "Cmd('git') failed due to: exit code(128)\n",
      "  cmdline: git clone -v https://github.com/KelvinBull/MUSE repos/KelvinBull/MUSE\n",
      "  stderr: 'Cloning into 'repos/KelvinBull/MUSE'...\n",
      "fatal: could not read Username for 'https://github.com': No such device or address\n",
      "'\n"
     ]
    },
    {
     "name": "stderr",
     "output_type": "stream",
     "text": [
      " 22%|██▏       | 10319/46292 [6:19:40<7:02:53,  1.42it/s]  "
     ]
    },
    {
     "name": "stdout",
     "output_type": "stream",
     "text": [
      "Cmd('git') failed due to: exit code(128)\n",
      "  cmdline: git clone -v https://github.com/joriswvanrijn/hpt-amsterdam repos/joriswvanrijn/hpt-amsterdam\n",
      "  stderr: 'Cloning into 'repos/joriswvanrijn/hpt-amsterdam'...\n",
      "fatal: could not read Username for 'https://github.com': No such device or address\n",
      "'\n"
     ]
    },
    {
     "name": "stderr",
     "output_type": "stream",
     "text": [
      " 22%|██▏       | 10353/46292 [6:20:44<18:43:27,  1.88s/it]"
     ]
    },
    {
     "name": "stdout",
     "output_type": "stream",
     "text": [
      "Cmd('git') failed due to: exit code(128)\n",
      "  cmdline: git clone -v https://github.com/https://gitlab.com/bootstrapcollaboration/blocks_3d repos/https://gitlab.com/bootstrapcollaboration/blocks_3d\n",
      "  stderr: 'Cloning into 'repos/https://gitlab.com/bootstrapcollaboration/blocks_3d'...\n",
      "remote: Not Found\n",
      "fatal: repository 'https://github.com/https://gitlab.com/bootstrapcollaboration/blocks_3d/' not found\n",
      "'\n"
     ]
    },
    {
     "name": "stderr",
     "output_type": "stream",
     "text": [
      " 22%|██▏       | 10410/46292 [6:23:05<18:19:12,  1.84s/it] "
     ]
    },
    {
     "name": "stdout",
     "output_type": "stream",
     "text": [
      "Cmd('git') failed due to: exit code(128)\n",
      "  cmdline: git clone -v https://github.com/kktach/ingredient-combos repos/kktach/ingredient-combos\n",
      "  stderr: 'Cloning into 'repos/kktach/ingredient-combos'...\n",
      "fatal: could not read Username for 'https://github.com': No such device or address\n",
      "'\n"
     ]
    },
    {
     "name": "stderr",
     "output_type": "stream",
     "text": [
      "\r",
      " 22%|██▏       | 10411/46292 [6:23:05<15:31:22,  1.56s/it]"
     ]
    },
    {
     "name": "stdout",
     "output_type": "stream",
     "text": [
      "Cmd('git') failed due to: exit code(128)\n",
      "  cmdline: git clone -v https://github.com/kktach/ingredient-combos repos/kktach/ingredient-combos\n",
      "  stderr: 'Cloning into 'repos/kktach/ingredient-combos'...\n",
      "fatal: could not read Username for 'https://github.com': No such device or address\n",
      "'\n"
     ]
    },
    {
     "name": "stderr",
     "output_type": "stream",
     "text": [
      " 23%|██▎       | 10426/46292 [6:23:22<10:17:55,  1.03s/it]"
     ]
    },
    {
     "name": "stdout",
     "output_type": "stream",
     "text": [
      "Cmd('git') failed due to: exit code(128)\n",
      "  cmdline: git clone -v https://github.com/D-Roberts/dl_ts_video/tree/master/LorenzMap repos/D-Roberts/dl_ts_video/tree/master/LorenzMap\n",
      "  stderr: 'Cloning into 'repos/D-Roberts/dl_ts_video/tree/master/LorenzMap'...\n",
      "fatal: repository 'https://github.com/D-Roberts/dl_ts_video/tree/master/LorenzMap/' not found\n",
      "'\n"
     ]
    },
    {
     "name": "stderr",
     "output_type": "stream",
     "text": [
      " 23%|██▎       | 10442/46292 [6:24:37<13:41:18,  1.37s/it]"
     ]
    },
    {
     "name": "stdout",
     "output_type": "stream",
     "text": [
      "Cmd('git') failed due to: exit code(128)\n",
      "  cmdline: git clone -v https://github.com/Usemaster/Java repos/Usemaster/Java\n",
      "  stderr: 'Cloning into 'repos/Usemaster/Java'...\n",
      "fatal: could not read Username for 'https://github.com': No such device or address\n",
      "'\n"
     ]
    },
    {
     "name": "stderr",
     "output_type": "stream",
     "text": [
      " 23%|██▎       | 10461/46292 [6:25:16<11:16:13,  1.13s/it]"
     ]
    },
    {
     "name": "stdout",
     "output_type": "stream",
     "text": [
      "Cmd('git') failed due to: exit code(128)\n",
      "  cmdline: git clone -v https://github.com/NGC13009/openAI repos/NGC13009/openAI\n",
      "  stderr: 'Cloning into 'repos/NGC13009/openAI'...\n",
      "fatal: could not read Username for 'https://github.com': No such device or address\n",
      "'\n"
     ]
    },
    {
     "name": "stderr",
     "output_type": "stream",
     "text": [
      " 23%|██▎       | 10467/46292 [6:25:24<10:15:44,  1.03s/it]"
     ]
    },
    {
     "name": "stdout",
     "output_type": "stream",
     "text": [
      "Cmd('git') failed due to: exit code(128)\n",
      "  cmdline: git clone -v https://github.com/fort-w1920/cfof-demo repos/fort-w1920/cfof-demo\n",
      "  stderr: 'Cloning into 'repos/fort-w1920/cfof-demo'...\n",
      "fatal: could not read Username for 'https://github.com': No such device or address\n",
      "'\n"
     ]
    },
    {
     "name": "stderr",
     "output_type": "stream",
     "text": [
      " 23%|██▎       | 10483/46292 [6:25:37<6:40:58,  1.49it/s] "
     ]
    },
    {
     "name": "stdout",
     "output_type": "stream",
     "text": [
      "Cmd('git') failed due to: exit code(128)\n",
      "  cmdline: git clone -v https://github.com/google-research/google-research/tree/master/gfsa repos/google-research/google-research/tree/master/gfsa\n",
      "  stderr: 'Cloning into 'repos/google-research/google-research/tree/master/gfsa'...\n",
      "fatal: repository 'https://github.com/google-research/google-research/tree/master/gfsa/' not found\n",
      "'\n"
     ]
    },
    {
     "name": "stderr",
     "output_type": "stream",
     "text": [
      " 23%|██▎       | 10532/46292 [6:26:56<3:57:57,  2.50it/s] "
     ]
    },
    {
     "name": "stdout",
     "output_type": "stream",
     "text": [
      "Cmd('git') failed due to: exit code(128)\n",
      "  cmdline: git clone -v https://github.com/chenqianqianxiaoxiannv/seq2seq repos/chenqianqianxiaoxiannv/seq2seq\n",
      "  stderr: 'Cloning into 'repos/chenqianqianxiaoxiannv/seq2seq'...\n",
      "fatal: could not read Username for 'https://github.com': No such device or address\n",
      "'\n"
     ]
    },
    {
     "name": "stderr",
     "output_type": "stream",
     "text": [
      " 23%|██▎       | 10573/46292 [6:28:58<28:36:17,  2.88s/it] "
     ]
    },
    {
     "name": "stdout",
     "output_type": "stream",
     "text": [
      "Cmd('git') failed due to: exit code(128)\n",
      "  cmdline: git clone -v https://github.com/MadhavEsDios/GSoC-20-Proposal repos/MadhavEsDios/GSoC-20-Proposal\n",
      "  stderr: 'Cloning into 'repos/MadhavEsDios/GSoC-20-Proposal'...\n",
      "fatal: could not read Username for 'https://github.com': No such device or address\n",
      "'\n"
     ]
    },
    {
     "name": "stderr",
     "output_type": "stream",
     "text": [
      "\r",
      " 23%|██▎       | 10574/46292 [6:28:59<21:03:41,  2.12s/it]"
     ]
    },
    {
     "name": "stdout",
     "output_type": "stream",
     "text": [
      "Cmd('git') failed due to: exit code(128)\n",
      "  cmdline: git clone -v https://github.com/MadhavEsDios/GSoC-20-Proposal repos/MadhavEsDios/GSoC-20-Proposal\n",
      "  stderr: 'Cloning into 'repos/MadhavEsDios/GSoC-20-Proposal'...\n",
      "fatal: could not read Username for 'https://github.com': No such device or address\n",
      "'\n"
     ]
    },
    {
     "name": "stderr",
     "output_type": "stream",
     "text": [
      "\r",
      " 23%|██▎       | 10575/46292 [6:28:59<15:42:27,  1.58s/it]"
     ]
    },
    {
     "name": "stdout",
     "output_type": "stream",
     "text": [
      "Cmd('git') failed due to: exit code(128)\n",
      "  cmdline: git clone -v https://github.com/MadhavEsDios/GSoC-20-Proposal repos/MadhavEsDios/GSoC-20-Proposal\n",
      "  stderr: 'Cloning into 'repos/MadhavEsDios/GSoC-20-Proposal'...\n",
      "fatal: could not read Username for 'https://github.com': No such device or address\n",
      "'\n"
     ]
    },
    {
     "name": "stderr",
     "output_type": "stream",
     "text": [
      " 23%|██▎       | 10586/46292 [6:29:12<14:48:25,  1.49s/it]"
     ]
    },
    {
     "name": "stdout",
     "output_type": "stream",
     "text": [
      "Cmd('git') failed due to: exit code(128)\n",
      "  cmdline: git clone -v https://github.com/MrWednes/CopyNVlab repos/MrWednes/CopyNVlab\n",
      "  stderr: 'Cloning into 'repos/MrWednes/CopyNVlab'...\n",
      "fatal: could not read Username for 'https://github.com': No such device or address\n",
      "'\n"
     ]
    },
    {
     "name": "stderr",
     "output_type": "stream",
     "text": [
      "\r",
      " 23%|██▎       | 10587/46292 [6:29:13<11:34:13,  1.17s/it]"
     ]
    },
    {
     "name": "stdout",
     "output_type": "stream",
     "text": [
      "Cmd('git') failed due to: exit code(128)\n",
      "  cmdline: git clone -v https://github.com/MrWednes/CopyNVlab repos/MrWednes/CopyNVlab\n",
      "  stderr: 'Cloning into 'repos/MrWednes/CopyNVlab'...\n",
      "fatal: could not read Username for 'https://github.com': No such device or address\n",
      "'\n"
     ]
    },
    {
     "name": "stderr",
     "output_type": "stream",
     "text": [
      "\r",
      " 23%|██▎       | 10588/46292 [6:29:13<9:05:34,  1.09it/s] "
     ]
    },
    {
     "name": "stdout",
     "output_type": "stream",
     "text": [
      "Cmd('git') failed due to: exit code(128)\n",
      "  cmdline: git clone -v https://github.com/MrWednes/CopyNVlab repos/MrWednes/CopyNVlab\n",
      "  stderr: 'Cloning into 'repos/MrWednes/CopyNVlab'...\n",
      "fatal: could not read Username for 'https://github.com': No such device or address\n",
      "'\n"
     ]
    },
    {
     "name": "stderr",
     "output_type": "stream",
     "text": [
      "\r",
      " 23%|██▎       | 10589/46292 [6:29:13<7:15:52,  1.37it/s]"
     ]
    },
    {
     "name": "stdout",
     "output_type": "stream",
     "text": [
      "Cmd('git') failed due to: exit code(128)\n",
      "  cmdline: git clone -v https://github.com/MrWednes/CopyNVlab repos/MrWednes/CopyNVlab\n",
      "  stderr: 'Cloning into 'repos/MrWednes/CopyNVlab'...\n",
      "fatal: could not read Username for 'https://github.com': No such device or address\n",
      "'\n"
     ]
    },
    {
     "name": "stderr",
     "output_type": "stream",
     "text": [
      " 23%|██▎       | 10616/46292 [6:30:14<8:46:50,  1.13it/s]  "
     ]
    },
    {
     "name": "stdout",
     "output_type": "stream",
     "text": [
      "Cmd('git') failed due to: exit code(128)\n",
      "  cmdline: git clone -v https://github.com/https://gitlab.com/hzxie/Pix2Vox repos/https://gitlab.com/hzxie/Pix2Vox\n",
      "  stderr: 'Cloning into 'repos/https://gitlab.com/hzxie/Pix2Vox'...\n",
      "remote: Not Found\n",
      "fatal: repository 'https://github.com/https://gitlab.com/hzxie/Pix2Vox/' not found\n",
      "'\n"
     ]
    },
    {
     "name": "stderr",
     "output_type": "stream",
     "text": [
      " 23%|██▎       | 10635/46292 [6:30:42<29:32:37,  2.98s/it]"
     ]
    },
    {
     "name": "stdout",
     "output_type": "stream",
     "text": [
      "Cmd('git') failed due to: exit code(128)\n",
      "  cmdline: git clone -v https://github.com/https://gitlab.com/rotskoff/trajectory_estimators repos/https://gitlab.com/rotskoff/trajectory_estimators\n",
      "  stderr: 'Cloning into 'repos/https://gitlab.com/rotskoff/trajectory_estimators'...\n",
      "remote: Not Found\n",
      "fatal: repository 'https://github.com/https://gitlab.com/rotskoff/trajectory_estimators/' not found\n",
      "'\n"
     ]
    },
    {
     "name": "stderr",
     "output_type": "stream",
     "text": [
      " 23%|██▎       | 10651/46292 [6:54:46<380:13:02, 38.40s/it]  "
     ]
    },
    {
     "name": "stdout",
     "output_type": "stream",
     "text": [
      "Cmd('git') failed due to: exit code(128)\n",
      "  cmdline: git clone -v https://github.com/https://gitlab.com/VladyslavUsenko/basalt repos/https://gitlab.com/VladyslavUsenko/basalt\n",
      "  stderr: 'Cloning into 'repos/https://gitlab.com/VladyslavUsenko/basalt'...\n",
      "remote: Not Found\n",
      "fatal: repository 'https://github.com/https://gitlab.com/VladyslavUsenko/basalt/' not found\n",
      "'\n"
     ]
    },
    {
     "name": "stderr",
     "output_type": "stream",
     "text": [
      " 23%|██▎       | 10656/46292 [6:54:50<86:58:51,  8.79s/it] "
     ]
    },
    {
     "name": "stdout",
     "output_type": "stream",
     "text": [
      "Cmd('git') failed due to: exit code(128)\n",
      "  cmdline: git clone -v https://github.com/erichulburd/adapter-bert repos/erichulburd/adapter-bert\n",
      "  stderr: 'Cloning into 'repos/erichulburd/adapter-bert'...\n",
      "fatal: could not read Username for 'https://github.com': No such device or address\n",
      "'\n"
     ]
    },
    {
     "name": "stderr",
     "output_type": "stream",
     "text": [
      " 23%|██▎       | 10672/46292 [6:55:15<15:58:13,  1.61s/it]"
     ]
    },
    {
     "name": "stdout",
     "output_type": "stream",
     "text": [
      "Cmd('git') failed due to: exit code(128)\n",
      "  cmdline: git clone -v https://github.com/https://gitlab.com/searssbu/rotfit repos/https://gitlab.com/searssbu/rotfit\n",
      "  stderr: 'Cloning into 'repos/https://gitlab.com/searssbu/rotfit'...\n",
      "remote: Not Found\n",
      "fatal: repository 'https://github.com/https://gitlab.com/searssbu/rotfit/' not found\n",
      "'\n"
     ]
    },
    {
     "name": "stderr",
     "output_type": "stream",
     "text": [
      " 23%|██▎       | 10718/46292 [6:57:32<10:30:47,  1.06s/it]"
     ]
    },
    {
     "name": "stdout",
     "output_type": "stream",
     "text": [
      "Cmd('git') failed due to: exit code(128)\n",
      "  cmdline: git clone -v https://github.com/casdrlhuawei/AutoML repos/casdrlhuawei/AutoML\n",
      "  stderr: 'Cloning into 'repos/casdrlhuawei/AutoML'...\n",
      "fatal: could not read Username for 'https://github.com': No such device or address\n",
      "'\n"
     ]
    },
    {
     "name": "stderr",
     "output_type": "stream",
     "text": [
      " 23%|██▎       | 10725/46292 [6:57:48<12:16:56,  1.24s/it]"
     ]
    },
    {
     "name": "stdout",
     "output_type": "stream",
     "text": [
      "Cmd('git') failed due to: exit code(128)\n",
      "  cmdline: git clone -v https://github.com/dice-group/NLIWOD/tree/master/qa.ml repos/dice-group/NLIWOD/tree/master/qa.ml\n",
      "  stderr: 'Cloning into 'repos/dice-group/NLIWOD/tree/master/qa.ml'...\n",
      "fatal: repository 'https://github.com/dice-group/NLIWOD/tree/master/qa.ml/' not found\n",
      "'\n"
     ]
    },
    {
     "name": "stderr",
     "output_type": "stream",
     "text": [
      " 23%|██▎       | 10779/46292 [6:59:20<9:03:57,  1.09it/s] "
     ]
    },
    {
     "name": "stdout",
     "output_type": "stream",
     "text": [
      "Cmd('git') failed due to: exit code(128)\n",
      "  cmdline: git clone -v https://github.com/https://bitbucket.org/ezeferrero/potts repos/https://bitbucket.org/ezeferrero/potts\n",
      "  stderr: 'Cloning into 'repos/https://bitbucket.org/ezeferrero/potts'...\n",
      "remote: Not Found\n",
      "fatal: repository 'https://github.com/https://bitbucket.org/ezeferrero/potts/' not found\n",
      "'\n"
     ]
    },
    {
     "name": "stderr",
     "output_type": "stream",
     "text": [
      " 23%|██▎       | 10799/46292 [6:59:30<5:07:29,  1.92it/s]"
     ]
    },
    {
     "name": "stdout",
     "output_type": "stream",
     "text": [
      "Cmd('git') failed due to: exit code(128)\n",
      "  cmdline: git clone -v https://github.com/chenqianqianxiaoxiannv/seq2seq repos/chenqianqianxiaoxiannv/seq2seq\n",
      "  stderr: 'Cloning into 'repos/chenqianqianxiaoxiannv/seq2seq'...\n",
      "fatal: could not read Username for 'https://github.com': No such device or address\n",
      "'\n"
     ]
    },
    {
     "name": "stderr",
     "output_type": "stream",
     "text": [
      " 23%|██▎       | 10802/46292 [6:59:33<7:44:56,  1.27it/s] "
     ]
    },
    {
     "name": "stdout",
     "output_type": "stream",
     "text": [
      "Cmd('git') failed due to: exit code(128)\n",
      "  cmdline: git clone -v https://github.com/kiss2smiles/awesome_language_model repos/kiss2smiles/awesome_language_model\n",
      "  stderr: 'Cloning into 'repos/kiss2smiles/awesome_language_model'...\n",
      "fatal: could not read Username for 'https://github.com': No such device or address\n",
      "'\n"
     ]
    },
    {
     "name": "stderr",
     "output_type": "stream",
     "text": [
      " 23%|██▎       | 10804/46292 [6:59:34<5:56:45,  1.66it/s]"
     ]
    },
    {
     "name": "stdout",
     "output_type": "stream",
     "text": [
      "Cmd('git') failed due to: exit code(128)\n",
      "  cmdline: git clone -v https://github.com/chenqianqianxiaoxiannv/seq2seq repos/chenqianqianxiaoxiannv/seq2seq\n",
      "  stderr: 'Cloning into 'repos/chenqianqianxiaoxiannv/seq2seq'...\n",
      "fatal: could not read Username for 'https://github.com': No such device or address\n",
      "'\n"
     ]
    },
    {
     "name": "stderr",
     "output_type": "stream",
     "text": [
      " 23%|██▎       | 10871/46292 [7:00:26<4:39:32,  2.11it/s] "
     ]
    },
    {
     "name": "stdout",
     "output_type": "stream",
     "text": [
      "Cmd('git') failed due to: exit code(128)\n",
      "  cmdline: git clone -v https://github.com/vanishinggrad/levelsets repos/vanishinggrad/levelsets\n",
      "  stderr: 'Cloning into 'repos/vanishinggrad/levelsets'...\n",
      "fatal: could not read Username for 'https://github.com': No such device or address\n",
      "'\n"
     ]
    },
    {
     "name": "stderr",
     "output_type": "stream",
     "text": [
      " 24%|██▎       | 10963/46292 [7:02:51<30:21:20,  3.09s/it]"
     ]
    },
    {
     "name": "stdout",
     "output_type": "stream",
     "text": [
      "Cmd('git') failed due to: exit code(128)\n",
      "  cmdline: git clone -v https://github.com/huawei-noah/Pretrained-Language-Model/tree/master/PMLM repos/huawei-noah/Pretrained-Language-Model/tree/master/PMLM\n",
      "  stderr: 'Cloning into 'repos/huawei-noah/Pretrained-Language-Model/tree/master/PMLM'...\n",
      "fatal: repository 'https://github.com/huawei-noah/Pretrained-Language-Model/tree/master/PMLM/' not found\n",
      "'\n"
     ]
    },
    {
     "name": "stderr",
     "output_type": "stream",
     "text": [
      " 24%|██▎       | 10994/46292 [7:03:28<6:49:25,  1.44it/s] "
     ]
    },
    {
     "name": "stdout",
     "output_type": "stream",
     "text": [
      "Cmd('git') failed due to: exit code(128)\n",
      "  cmdline: git clone -v https://github.com/https://gitlab.com/VladyslavUsenko/basalt repos/https://gitlab.com/VladyslavUsenko/basalt\n",
      "  stderr: 'Cloning into 'repos/https://gitlab.com/VladyslavUsenko/basalt'...\n",
      "remote: Not Found\n",
      "fatal: repository 'https://github.com/https://gitlab.com/VladyslavUsenko/basalt/' not found\n",
      "'\n"
     ]
    },
    {
     "name": "stderr",
     "output_type": "stream",
     "text": [
      " 24%|██▍       | 11041/46292 [7:06:15<37:24:50,  3.82s/it] "
     ]
    },
    {
     "name": "stdout",
     "output_type": "stream",
     "text": [
      "Cmd('git') failed due to: exit code(128)\n",
      "  cmdline: git clone -v https://github.com/https://gitlab.inria.fr/vmurukut/psl repos/https://gitlab.inria.fr/vmurukut/psl\n",
      "  stderr: 'Cloning into 'repos/https://gitlab.inria.fr/vmurukut/psl'...\n",
      "remote: Not Found\n",
      "fatal: repository 'https://github.com/https://gitlab.inria.fr/vmurukut/psl/' not found\n",
      "'\n"
     ]
    },
    {
     "name": "stderr",
     "output_type": "stream",
     "text": [
      " 24%|██▍       | 11108/46292 [7:08:32<38:53:34,  3.98s/it]"
     ]
    },
    {
     "name": "stdout",
     "output_type": "stream",
     "text": [
      "Cmd('git') failed due to: exit code(128)\n",
      "  cmdline: git clone -v https://github.com/tensorflow/models/tree/master/research/marco repos/tensorflow/models/tree/master/research/marco\n",
      "  stderr: 'Cloning into 'repos/tensorflow/models/tree/master/research/marco'...\n",
      "fatal: repository 'https://github.com/tensorflow/models/tree/master/research/marco/' not found\n",
      "'\n"
     ]
    },
    {
     "name": "stderr",
     "output_type": "stream",
     "text": [
      "\r",
      " 24%|██▍       | 11109/46292 [7:08:32<28:37:54,  2.93s/it]"
     ]
    },
    {
     "name": "stdout",
     "output_type": "stream",
     "text": [
      "Cmd('git') failed due to: exit code(128)\n",
      "  cmdline: git clone -v https://github.com/noether/paparazzi/tree/gvf_advanced/sw/airborne/modules/guidance/gvf_parametric repos/noether/paparazzi/tree/gvf_advanced/sw/airborne/modules/guidance/gvf_parametric\n",
      "  stderr: 'Cloning into 'repos/noether/paparazzi/tree/gvf_advanced/sw/airborne/modules/guidance/gvf_parametric'...\n",
      "fatal: repository 'https://github.com/noether/paparazzi/tree/gvf_advanced/sw/airborne/modules/guidance/gvf_parametric/' not found\n",
      "'\n"
     ]
    },
    {
     "name": "stderr",
     "output_type": "stream",
     "text": [
      " 24%|██▍       | 11118/46292 [7:08:40<6:43:51,  1.45it/s] "
     ]
    },
    {
     "name": "stdout",
     "output_type": "stream",
     "text": [
      "Cmd('git') failed due to: exit code(128)\n",
      "  cmdline: git clone -v https://github.com/https://bitbucket.org/pascgeopc/petsc repos/https://bitbucket.org/pascgeopc/petsc\n",
      "  stderr: 'Cloning into 'repos/https://bitbucket.org/pascgeopc/petsc'...\n",
      "remote: Not Found\n",
      "fatal: repository 'https://github.com/https://bitbucket.org/pascgeopc/petsc/' not found\n",
      "'\n"
     ]
    },
    {
     "name": "stderr",
     "output_type": "stream",
     "text": [
      " 24%|██▍       | 11123/46292 [7:08:43<5:41:11,  1.72it/s]"
     ]
    },
    {
     "name": "stdout",
     "output_type": "stream",
     "text": [
      "Cmd('git') failed due to: exit code(128)\n",
      "  cmdline: git clone -v https://github.com/https://bitbucket.org/chil_sai/mmirs-pipeline repos/https://bitbucket.org/chil_sai/mmirs-pipeline\n",
      "  stderr: 'Cloning into 'repos/https://bitbucket.org/chil_sai/mmirs-pipeline'...\n",
      "remote: Not Found\n",
      "fatal: repository 'https://github.com/https://bitbucket.org/chil_sai/mmirs-pipeline/' not found\n",
      "'\n"
     ]
    },
    {
     "name": "stderr",
     "output_type": "stream",
     "text": [
      "\r",
      " 24%|██▍       | 11124/46292 [7:08:44<4:45:55,  2.05it/s]"
     ]
    },
    {
     "name": "stdout",
     "output_type": "stream",
     "text": [
      "Cmd('git') failed due to: exit code(128)\n",
      "  cmdline: git clone -v https://github.com/https://bitbucket.org/charms/sparsepr repos/https://bitbucket.org/charms/sparsepr\n",
      "  stderr: 'Cloning into 'repos/https://bitbucket.org/charms/sparsepr'...\n",
      "remote: Not Found\n",
      "fatal: repository 'https://github.com/https://bitbucket.org/charms/sparsepr/' not found\n",
      "'\n"
     ]
    },
    {
     "name": "stderr",
     "output_type": "stream",
     "text": [
      " 24%|██▍       | 11144/46292 [7:08:59<6:46:44,  1.44it/s] "
     ]
    },
    {
     "name": "stdout",
     "output_type": "stream",
     "text": [
      "Cmd('git') failed due to: exit code(128)\n",
      "  cmdline: git clone -v https://github.com/https://bitbucket.org/lanzithinking/geom-infmcmc repos/https://bitbucket.org/lanzithinking/geom-infmcmc\n",
      "  stderr: 'Cloning into 'repos/https://bitbucket.org/lanzithinking/geom-infmcmc'...\n",
      "remote: Not Found\n",
      "fatal: repository 'https://github.com/https://bitbucket.org/lanzithinking/geom-infmcmc/' not found\n",
      "'\n"
     ]
    },
    {
     "name": "stderr",
     "output_type": "stream",
     "text": [
      " 24%|██▍       | 11231/46292 [7:12:42<9:14:38,  1.05it/s] "
     ]
    },
    {
     "name": "stdout",
     "output_type": "stream",
     "text": [
      "Cmd('git') failed due to: exit code(128)\n",
      "  cmdline: git clone -v https://github.com/https://bitbucket.org/pennyan/smtlink repos/https://bitbucket.org/pennyan/smtlink\n",
      "  stderr: 'Cloning into 'repos/https://bitbucket.org/pennyan/smtlink'...\n",
      "remote: Not Found\n",
      "fatal: repository 'https://github.com/https://bitbucket.org/pennyan/smtlink/' not found\n",
      "'\n"
     ]
    },
    {
     "name": "stderr",
     "output_type": "stream",
     "text": [
      " 24%|██▍       | 11261/46292 [7:13:12<5:23:20,  1.81it/s] "
     ]
    },
    {
     "name": "stdout",
     "output_type": "stream",
     "text": [
      "Cmd('git') failed due to: exit code(128)\n",
      "  cmdline: git clone -v https://github.com/https://gitlab.com/casi-project/casi-2d repos/https://gitlab.com/casi-project/casi-2d\n",
      "  stderr: 'Cloning into 'repos/https://gitlab.com/casi-project/casi-2d'...\n",
      "remote: Not Found\n",
      "fatal: repository 'https://github.com/https://gitlab.com/casi-project/casi-2d/' not found\n",
      "'\n"
     ]
    },
    {
     "name": "stderr",
     "output_type": "stream",
     "text": [
      " 24%|██▍       | 11263/46292 [7:13:12<4:30:35,  2.16it/s]"
     ]
    },
    {
     "name": "stdout",
     "output_type": "stream",
     "text": [
      "Cmd('git') failed due to: exit code(128)\n",
      "  cmdline: git clone -v https://github.com/https://bitbucket.org/jrinckoar/tentropyrate-lzc repos/https://bitbucket.org/jrinckoar/tentropyrate-lzc\n",
      "  stderr: 'Cloning into 'repos/https://bitbucket.org/jrinckoar/tentropyrate-lzc'...\n",
      "remote: Not Found\n",
      "fatal: repository 'https://github.com/https://bitbucket.org/jrinckoar/tentropyrate-lzc/' not found\n",
      "'\n"
     ]
    },
    {
     "name": "stderr",
     "output_type": "stream",
     "text": [
      " 24%|██▍       | 11268/46292 [7:13:16<5:21:57,  1.81it/s]"
     ]
    },
    {
     "name": "stdout",
     "output_type": "stream",
     "text": [
      "Cmd('git') failed due to: exit code(128)\n",
      "  cmdline: git clone -v https://github.com/https://gitlab.com/simrx/simrx repos/https://gitlab.com/simrx/simrx\n",
      "  stderr: 'Cloning into 'repos/https://gitlab.com/simrx/simrx'...\n",
      "remote: Not Found\n",
      "fatal: repository 'https://github.com/https://gitlab.com/simrx/simrx/' not found\n",
      "'\n"
     ]
    },
    {
     "name": "stderr",
     "output_type": "stream",
     "text": [
      " 24%|██▍       | 11284/46292 [7:13:40<14:19:42,  1.47s/it]"
     ]
    },
    {
     "name": "stdout",
     "output_type": "stream",
     "text": [
      "Cmd('git') failed due to: exit code(128)\n",
      "  cmdline: git clone -v https://github.com/https://bitbucket.org/pl-uwr/diacritical repos/https://bitbucket.org/pl-uwr/diacritical\n",
      "  stderr: 'Cloning into 'repos/https://bitbucket.org/pl-uwr/diacritical'...\n",
      "remote: Not Found\n",
      "fatal: repository 'https://github.com/https://bitbucket.org/pl-uwr/diacritical/' not found\n",
      "'\n"
     ]
    },
    {
     "name": "stderr",
     "output_type": "stream",
     "text": [
      " 24%|██▍       | 11292/46292 [7:13:57<9:44:30,  1.00s/it] "
     ]
    },
    {
     "name": "stdout",
     "output_type": "stream",
     "text": [
      "Cmd('git') failed due to: exit code(128)\n",
      "  cmdline: git clone -v https://github.com/https://gitlab.com/oscarhdz/cosmicstringnn_v2 repos/https://gitlab.com/oscarhdz/cosmicstringnn_v2\n",
      "  stderr: 'Cloning into 'repos/https://gitlab.com/oscarhdz/cosmicstringnn_v2'...\n",
      "remote: Not Found\n",
      "fatal: repository 'https://github.com/https://gitlab.com/oscarhdz/cosmicstringnn_v2/' not found\n",
      "'\n"
     ]
    },
    {
     "name": "stderr",
     "output_type": "stream",
     "text": [
      " 25%|██▍       | 11351/46292 [7:16:28<8:21:53,  1.16it/s] "
     ]
    },
    {
     "name": "stdout",
     "output_type": "stream",
     "text": [
      "Cmd('git') failed due to: exit code(128)\n",
      "  cmdline: git clone -v https://github.com/https://bitbucket.org/lucacarlone/codesigncode repos/https://bitbucket.org/lucacarlone/codesigncode\n",
      "  stderr: 'Cloning into 'repos/https://bitbucket.org/lucacarlone/codesigncode'...\n",
      "remote: Not Found\n",
      "fatal: repository 'https://github.com/https://bitbucket.org/lucacarlone/codesigncode/' not found\n",
      "'\n"
     ]
    },
    {
     "name": "stderr",
     "output_type": "stream",
     "text": [
      " 25%|██▍       | 11354/46292 [7:16:29<5:37:16,  1.73it/s]"
     ]
    },
    {
     "name": "stdout",
     "output_type": "stream",
     "text": [
      "Cmd('git') failed due to: exit code(128)\n",
      "  cmdline: git clone -v https://github.com/https://gitlab.com/n-ham-paper-files/lattice-path-algorithms repos/https://gitlab.com/n-ham-paper-files/lattice-path-algorithms\n",
      "  stderr: 'Cloning into 'repos/https://gitlab.com/n-ham-paper-files/lattice-path-algorithms'...\n",
      "remote: Not Found\n",
      "fatal: repository 'https://github.com/https://gitlab.com/n-ham-paper-files/lattice-path-algorithms/' not found\n",
      "'\n"
     ]
    },
    {
     "name": "stderr",
     "output_type": "stream",
     "text": [
      " 25%|██▍       | 11356/46292 [7:16:30<4:34:47,  2.12it/s]"
     ]
    },
    {
     "name": "stdout",
     "output_type": "stream",
     "text": [
      "Cmd('git') failed due to: exit code(128)\n",
      "  cmdline: git clone -v https://github.com/https://bitbucket.org/AndreaPedriniUniPV/lily-like_twist_distribution_in_toroidal_nematics repos/https://bitbucket.org/AndreaPedriniUniPV/lily-like_twist_distribution_in_toroidal_nematics\n",
      "  stderr: 'Cloning into 'repos/https://bitbucket.org/AndreaPedriniUniPV/lily-like_twist_distribution_in_toroidal_nematics'...\n",
      "remote: Not Found\n",
      "fatal: repository 'https://github.com/https://bitbucket.org/AndreaPedriniUniPV/lily-like_twist_distribution_in_toroidal_nematics/' not found\n",
      "'\n"
     ]
    },
    {
     "name": "stderr",
     "output_type": "stream",
     "text": [
      " 25%|██▍       | 11367/46292 [7:16:50<8:43:49,  1.11it/s] "
     ]
    },
    {
     "name": "stdout",
     "output_type": "stream",
     "text": [
      "Cmd('git') failed due to: exit code(128)\n",
      "  cmdline: git clone -v https://github.com/https://bitbucket.org/giorgiosarno/sl2cfoam-asym-1.0 repos/https://bitbucket.org/giorgiosarno/sl2cfoam-asym-1.0\n",
      "  stderr: 'Cloning into 'repos/https://bitbucket.org/giorgiosarno/sl2cfoam-asym-1.0'...\n",
      "remote: Not Found\n",
      "fatal: repository 'https://github.com/https://bitbucket.org/giorgiosarno/sl2cfoam-asym-1.0/' not found\n",
      "'\n",
      "Cmd('git') failed due to: exit code(128)\n",
      "  cmdline: git clone -v https://github.com/https://bitbucket.org/giorgiosarno/sl2cfoam-asym-1.0 repos/https://bitbucket.org/giorgiosarno/sl2cfoam-asym-1.0\n",
      "  stderr: 'Cloning into 'repos/https://bitbucket.org/giorgiosarno/sl2cfoam-asym-1.0'...\n",
      "remote: Not Found\n",
      "fatal: repository 'https://github.com/https://bitbucket.org/giorgiosarno/sl2cfoam-asym-1.0/' not found\n",
      "'\n"
     ]
    },
    {
     "name": "stderr",
     "output_type": "stream",
     "text": [
      "\r",
      " 25%|██▍       | 11368/46292 [7:16:50<6:40:42,  1.45it/s]"
     ]
    },
    {
     "name": "stdout",
     "output_type": "stream",
     "text": [
      "Cmd('git') failed due to: exit code(128)\n",
      "  cmdline: git clone -v https://github.com/https://bitbucket.org/giorgiosarno/sl2cfoam-asym-1.0 repos/https://bitbucket.org/giorgiosarno/sl2cfoam-asym-1.0\n",
      "  stderr: 'Cloning into 'repos/https://bitbucket.org/giorgiosarno/sl2cfoam-asym-1.0'...\n",
      "remote: Not Found\n",
      "fatal: repository 'https://github.com/https://bitbucket.org/giorgiosarno/sl2cfoam-asym-1.0/' not found\n",
      "'\n"
     ]
    },
    {
     "name": "stderr",
     "output_type": "stream",
     "text": [
      " 25%|██▍       | 11376/46292 [7:16:59<7:05:00,  1.37it/s] "
     ]
    },
    {
     "name": "stdout",
     "output_type": "stream",
     "text": [
      "Cmd('git') failed due to: exit code(128)\n",
      "  cmdline: git clone -v https://github.com/https://bitbucket.org/cgeoga/kernelmatrices.jl repos/https://bitbucket.org/cgeoga/kernelmatrices.jl\n",
      "  stderr: 'Cloning into 'repos/https://bitbucket.org/cgeoga/kernelmatrices.jl'...\n",
      "remote: Not Found\n",
      "fatal: repository 'https://github.com/https://bitbucket.org/cgeoga/kernelmatrices.jl/' not found\n",
      "'\n"
     ]
    },
    {
     "name": "stderr",
     "output_type": "stream",
     "text": [
      " 25%|██▍       | 11378/46292 [7:17:01<8:26:07,  1.15it/s] "
     ]
    },
    {
     "name": "stdout",
     "output_type": "stream",
     "text": [
      "Cmd('git') failed due to: exit code(128)\n",
      "  cmdline: git clone -v https://github.com/https://bitbucket.org/ktausch/psipy repos/https://bitbucket.org/ktausch/psipy\n",
      "  stderr: 'Cloning into 'repos/https://bitbucket.org/ktausch/psipy'...\n",
      "remote: Not Found\n",
      "fatal: repository 'https://github.com/https://bitbucket.org/ktausch/psipy/' not found\n",
      "'\n"
     ]
    },
    {
     "name": "stderr",
     "output_type": "stream",
     "text": [
      "\r",
      " 25%|██▍       | 11379/46292 [7:17:02<6:46:51,  1.43it/s]"
     ]
    },
    {
     "name": "stdout",
     "output_type": "stream",
     "text": [
      "Cmd('git') failed due to: exit code(128)\n",
      "  cmdline: git clone -v https://github.com/https://gitlab.com/athena_ae/athena_ae repos/https://gitlab.com/athena_ae/athena_ae\n",
      "  stderr: 'Cloning into 'repos/https://gitlab.com/athena_ae/athena_ae'...\n",
      "remote: Not Found\n",
      "fatal: repository 'https://github.com/https://gitlab.com/athena_ae/athena_ae/' not found\n",
      "'\n"
     ]
    },
    {
     "name": "stderr",
     "output_type": "stream",
     "text": [
      " 25%|██▍       | 11385/46292 [7:17:05<5:11:05,  1.87it/s]"
     ]
    },
    {
     "name": "stdout",
     "output_type": "stream",
     "text": [
      "Cmd('git') failed due to: exit code(128)\n",
      "  cmdline: git clone -v https://github.com/https://gitlab.com/casi-project/casi-2d repos/https://gitlab.com/casi-project/casi-2d\n",
      "  stderr: 'Cloning into 'repos/https://gitlab.com/casi-project/casi-2d'...\n",
      "remote: Not Found\n",
      "fatal: repository 'https://github.com/https://gitlab.com/casi-project/casi-2d/' not found\n",
      "'\n",
      "Cmd('git') failed due to: exit code(128)\n",
      "  cmdline: git clone -v https://github.com/https://gitlab.com/casi-project/casi-2d repos/https://gitlab.com/casi-project/casi-2d\n",
      "  stderr: 'Cloning into 'repos/https://gitlab.com/casi-project/casi-2d'...\n",
      "remote: Not Found\n",
      "fatal: repository 'https://github.com/https://gitlab.com/casi-project/casi-2d/' not found\n",
      "'\n"
     ]
    },
    {
     "name": "stderr",
     "output_type": "stream",
     "text": [
      " 25%|██▍       | 11387/46292 [7:17:08<6:50:59,  1.42it/s]"
     ]
    },
    {
     "name": "stdout",
     "output_type": "stream",
     "text": [
      "Cmd('git') failed due to: exit code(128)\n",
      "  cmdline: git clone -v https://github.com/https://gitlab.com/casi-project/casi-2d repos/https://gitlab.com/casi-project/casi-2d\n",
      "  stderr: 'Cloning into 'repos/https://gitlab.com/casi-project/casi-2d'...\n",
      "remote: Not Found\n",
      "fatal: repository 'https://github.com/https://gitlab.com/casi-project/casi-2d/' not found\n",
      "'\n"
     ]
    },
    {
     "name": "stderr",
     "output_type": "stream",
     "text": [
      " 25%|██▍       | 11391/46292 [7:17:12<9:27:54,  1.02it/s] "
     ]
    },
    {
     "name": "stdout",
     "output_type": "stream",
     "text": [
      "Cmd('git') failed due to: exit code(128)\n",
      "  cmdline: git clone -v https://github.com/https://gitlab.com/meuriggallagher/passively-parallel-regularized-stokeslets repos/https://gitlab.com/meuriggallagher/passively-parallel-regularized-stokeslets\n",
      "  stderr: 'Cloning into 'repos/https://gitlab.com/meuriggallagher/passively-parallel-regularized-stokeslets'...\n",
      "remote: Not Found\n",
      "fatal: repository 'https://github.com/https://gitlab.com/meuriggallagher/passively-parallel-regularized-stokeslets/' not found\n",
      "'\n"
     ]
    },
    {
     "name": "stderr",
     "output_type": "stream",
     "text": [
      " 25%|██▍       | 11415/46292 [7:19:18<44:17:48,  4.57s/it]"
     ]
    },
    {
     "name": "stdout",
     "output_type": "stream",
     "text": [
      "Cmd('git') failed due to: exit code(128)\n",
      "  cmdline: git clone -v https://github.com/https://gitlab.com/anusser/frechet_distance_under_translation repos/https://gitlab.com/anusser/frechet_distance_under_translation\n",
      "  stderr: 'Cloning into 'repos/https://gitlab.com/anusser/frechet_distance_under_translation'...\n",
      "remote: Not Found\n",
      "fatal: repository 'https://github.com/https://gitlab.com/anusser/frechet_distance_under_translation/' not found\n",
      "'\n"
     ]
    },
    {
     "name": "stderr",
     "output_type": "stream",
     "text": [
      "\r",
      " 25%|██▍       | 11416/46292 [7:19:18<31:47:29,  3.28s/it]"
     ]
    },
    {
     "name": "stdout",
     "output_type": "stream",
     "text": [
      "Cmd('git') failed due to: exit code(128)\n",
      "  cmdline: git clone -v https://github.com/https://gitlab.com/nisec/ecckiila repos/https://gitlab.com/nisec/ecckiila\n",
      "  stderr: 'Cloning into 'repos/https://gitlab.com/nisec/ecckiila'...\n",
      "remote: Not Found\n",
      "fatal: repository 'https://github.com/https://gitlab.com/nisec/ecckiila/' not found\n",
      "'\n"
     ]
    },
    {
     "name": "stderr",
     "output_type": "stream",
     "text": [
      " 25%|██▍       | 11461/46292 [7:31:20<18:39:27,  1.93s/it]  "
     ]
    },
    {
     "name": "stdout",
     "output_type": "stream",
     "text": [
      "Cmd('git') failed due to: exit code(128)\n",
      "  cmdline: git clone -v https://github.com/https://gitlab.com/dahong/optimally-weighted-pca-heteroscedastic-data repos/https://gitlab.com/dahong/optimally-weighted-pca-heteroscedastic-data\n",
      "  stderr: 'Cloning into 'repos/https://gitlab.com/dahong/optimally-weighted-pca-heteroscedastic-data'...\n",
      "remote: Not Found\n",
      "fatal: repository 'https://github.com/https://gitlab.com/dahong/optimally-weighted-pca-heteroscedastic-data/' not found\n",
      "'\n"
     ]
    },
    {
     "name": "stderr",
     "output_type": "stream",
     "text": [
      "\r",
      " 25%|██▍       | 11462/46292 [7:31:20<13:51:06,  1.43s/it]"
     ]
    },
    {
     "name": "stdout",
     "output_type": "stream",
     "text": [
      "Cmd('git') failed due to: exit code(128)\n",
      "  cmdline: git clone -v https://github.com/https://bitbucket.org/PanzerErik/kontsevInt repos/https://bitbucket.org/PanzerErik/kontsevInt\n",
      "  stderr: 'Cloning into 'repos/https://bitbucket.org/PanzerErik/kontsevInt'...\n",
      "remote: Not Found\n",
      "fatal: repository 'https://github.com/https://bitbucket.org/PanzerErik/kontsevInt/' not found\n",
      "'\n"
     ]
    },
    {
     "name": "stderr",
     "output_type": "stream",
     "text": [
      " 25%|██▍       | 11551/46292 [7:35:35<63:50:53,  6.62s/it] "
     ]
    },
    {
     "name": "stdout",
     "output_type": "stream",
     "text": [
      "Cmd('git') failed due to: exit code(128)\n",
      "  cmdline: git clone -v https://github.com/microsoft/qlib/blob/main/qlib/contrib/model/pytorch_tabnet.py repos/microsoft/qlib/blob/main/qlib/contrib/model/pytorch_tabnet.py\n",
      "  stderr: 'Cloning into 'repos/microsoft/qlib/blob/main/qlib/contrib/model/pytorch_tabnet.py'...\n",
      "fatal: repository 'https://github.com/microsoft/qlib/blob/main/qlib/contrib/model/pytorch_tabnet.py/' not found\n",
      "'\n"
     ]
    },
    {
     "name": "stderr",
     "output_type": "stream",
     "text": [
      " 25%|██▍       | 11563/46292 [7:35:43<9:28:25,  1.02it/s] "
     ]
    },
    {
     "name": "stdout",
     "output_type": "stream",
     "text": [
      "Cmd('git') failed due to: exit code(128)\n",
      "  cmdline: git clone -v https://github.com/https://bitbucket.org/secure-it-i/evaluate-repr-ubcbench-apr2019 repos/https://bitbucket.org/secure-it-i/evaluate-repr-ubcbench-apr2019\n",
      "  stderr: 'Cloning into 'repos/https://bitbucket.org/secure-it-i/evaluate-repr-ubcbench-apr2019'...\n",
      "remote: Not Found\n",
      "fatal: repository 'https://github.com/https://bitbucket.org/secure-it-i/evaluate-repr-ubcbench-apr2019/' not found\n",
      "'\n"
     ]
    },
    {
     "name": "stderr",
     "output_type": "stream",
     "text": [
      " 25%|██▌       | 11578/46292 [7:37:01<25:44:15,  2.67s/it] "
     ]
    },
    {
     "name": "stdout",
     "output_type": "stream",
     "text": [
      "Cmd('git') failed due to: exit code(128)\n",
      "  cmdline: git clone -v https://github.com/WestGround/yolov4 repos/WestGround/yolov4\n",
      "  stderr: 'Cloning into 'repos/WestGround/yolov4'...\n",
      "fatal: could not read Username for 'https://github.com': No such device or address\n",
      "'\n"
     ]
    },
    {
     "name": "stderr",
     "output_type": "stream",
     "text": [
      "\r",
      " 25%|██▌       | 11579/46292 [7:37:01<20:33:37,  2.13s/it]"
     ]
    },
    {
     "name": "stdout",
     "output_type": "stream",
     "text": [
      "Cmd('git') failed due to: exit code(128)\n",
      "  cmdline: git clone -v https://github.com/WestGround/yolov4 repos/WestGround/yolov4\n",
      "  stderr: 'Cloning into 'repos/WestGround/yolov4'...\n",
      "fatal: could not read Username for 'https://github.com': No such device or address\n",
      "'\n"
     ]
    },
    {
     "name": "stderr",
     "output_type": "stream",
     "text": [
      "\r",
      " 25%|██▌       | 11580/46292 [7:37:01<16:10:32,  1.68s/it]"
     ]
    },
    {
     "name": "stdout",
     "output_type": "stream",
     "text": [
      "Cmd('git') failed due to: exit code(128)\n",
      "  cmdline: git clone -v https://github.com/WestGround/yolov4 repos/WestGround/yolov4\n",
      "  stderr: 'Cloning into 'repos/WestGround/yolov4'...\n",
      "fatal: could not read Username for 'https://github.com': No such device or address\n",
      "'\n"
     ]
    },
    {
     "name": "stderr",
     "output_type": "stream",
     "text": [
      " 25%|██▌       | 11592/46292 [7:37:16<11:23:22,  1.18s/it]"
     ]
    },
    {
     "name": "stdout",
     "output_type": "stream",
     "text": [
      "Cmd('git') failed due to: exit code(128)\n",
      "  cmdline: git clone -v https://github.com/tensorflow/models/tree/master/research/marco repos/tensorflow/models/tree/master/research/marco\n",
      "  stderr: 'Cloning into 'repos/tensorflow/models/tree/master/research/marco'...\n",
      "fatal: repository 'https://github.com/tensorflow/models/tree/master/research/marco/' not found\n",
      "'\n"
     ]
    },
    {
     "name": "stderr",
     "output_type": "stream",
     "text": [
      " 25%|██▌       | 11615/46292 [7:37:40<6:30:48,  1.48it/s] "
     ]
    },
    {
     "name": "stdout",
     "output_type": "stream",
     "text": [
      "Cmd('git') failed due to: exit code(128)\n",
      "  cmdline: git clone -v https://github.com/PaddlePaddle/PaddleRobotics/tree/main/HRI/TFVT_HRI repos/PaddlePaddle/PaddleRobotics/tree/main/HRI/TFVT_HRI\n",
      "  stderr: 'Cloning into 'repos/PaddlePaddle/PaddleRobotics/tree/main/HRI/TFVT_HRI'...\n",
      "fatal: repository 'https://github.com/PaddlePaddle/PaddleRobotics/tree/main/HRI/TFVT_HRI/' not found\n",
      "'\n"
     ]
    },
    {
     "name": "stderr",
     "output_type": "stream",
     "text": [
      " 25%|██▌       | 11620/46292 [7:37:52<13:17:54,  1.38s/it]"
     ]
    },
    {
     "name": "stdout",
     "output_type": "stream",
     "text": [
      "Cmd('git') failed due to: exit code(128)\n",
      "  cmdline: git clone -v https://github.com/deepmind/deepmind-research/tree/master/mmv repos/deepmind/deepmind-research/tree/master/mmv\n",
      "  stderr: 'Cloning into 'repos/deepmind/deepmind-research/tree/master/mmv'...\n",
      "fatal: repository 'https://github.com/deepmind/deepmind-research/tree/master/mmv/' not found\n",
      "'\n"
     ]
    },
    {
     "name": "stderr",
     "output_type": "stream",
     "text": [
      " 25%|██▌       | 11676/46292 [7:41:20<46:09:16,  4.80s/it] "
     ]
    },
    {
     "name": "stdout",
     "output_type": "stream",
     "text": [
      "Cmd('git') failed due to: exit code(128)\n",
      "  cmdline: git clone -v https://github.com/kini5gowda/SMART-Frame-Selection repos/kini5gowda/SMART-Frame-Selection\n",
      "  stderr: 'Cloning into 'repos/kini5gowda/SMART-Frame-Selection'...\n",
      "fatal: could not read Username for 'https://github.com': No such device or address\n",
      "'\n"
     ]
    },
    {
     "name": "stderr",
     "output_type": "stream",
     "text": [
      " 25%|██▌       | 11679/46292 [7:41:21<22:34:17,  2.35s/it]"
     ]
    },
    {
     "name": "stdout",
     "output_type": "stream",
     "text": [
      "Cmd('git') failed due to: exit code(128)\n",
      "  cmdline: git clone -v https://github.com/kumar-harin/You_Only_Look_Once repos/kumar-harin/You_Only_Look_Once\n",
      "  stderr: 'Cloning into 'repos/kumar-harin/You_Only_Look_Once'...\n",
      "fatal: could not read Username for 'https://github.com': No such device or address\n",
      "'\n"
     ]
    },
    {
     "name": "stderr",
     "output_type": "stream",
     "text": [
      " 25%|██▌       | 11687/46292 [7:41:27<7:10:20,  1.34it/s] "
     ]
    },
    {
     "name": "stdout",
     "output_type": "stream",
     "text": [
      "Cmd('git') failed due to: exit code(128)\n",
      "  cmdline: git clone -v https://github.com/eftekhari-mhs/population-protocols/tree/master/Exact_Majority repos/eftekhari-mhs/population-protocols/tree/master/Exact_Majority\n",
      "  stderr: 'Cloning into 'repos/eftekhari-mhs/population-protocols/tree/master/Exact_Majority'...\n",
      "remote: Please upgrade your git client.\n",
      "remote: GitHub.com no longer supports git over dumb-http: https://github.com/blog/809-git-dumb-http-transport-to-be-turned-off-in-90-days\n",
      "fatal: unable to access 'https://github.com/eftekhari-mhs/population-protocols/tree/master/Exact_Majority/': The requested URL returned error: 403\n",
      "'\n"
     ]
    },
    {
     "name": "stderr",
     "output_type": "stream",
     "text": [
      " 25%|██▌       | 11693/46292 [7:41:32<7:06:29,  1.35it/s]"
     ]
    },
    {
     "name": "stdout",
     "output_type": "stream",
     "text": [
      "Cmd('git') failed due to: exit code(128)\n",
      "  cmdline: git clone -v https://github.com/signetlabdei/qd-realization/tree/feature/treetraversal repos/signetlabdei/qd-realization/tree/feature/treetraversal\n",
      "  stderr: 'Cloning into 'repos/signetlabdei/qd-realization/tree/feature/treetraversal'...\n",
      "fatal: repository 'https://github.com/signetlabdei/qd-realization/tree/feature/treetraversal/' not found\n",
      "'\n"
     ]
    },
    {
     "name": "stderr",
     "output_type": "stream",
     "text": [
      " 25%|██▌       | 11714/46292 [7:42:09<12:42:21,  1.32s/it]"
     ]
    },
    {
     "name": "stdout",
     "output_type": "stream",
     "text": [
      "Cmd('git') failed due to: exit code(128)\n",
      "  cmdline: git clone -v https://github.com/https://git.unl.edu/ece-unl-images-lab/group-attention-module-person-re-id repos/https://git.unl.edu/ece-unl-images-lab/group-attention-module-person-re-id\n",
      "  stderr: 'Cloning into 'repos/https://git.unl.edu/ece-unl-images-lab/group-attention-module-person-re-id'...\n",
      "remote: Not Found\n",
      "fatal: repository 'https://github.com/https://git.unl.edu/ece-unl-images-lab/group-attention-module-person-re-id/' not found\n",
      "'\n"
     ]
    },
    {
     "name": "stderr",
     "output_type": "stream",
     "text": [
      " 25%|██▌       | 11756/46292 [7:44:08<24:10:28,  2.52s/it] "
     ]
    },
    {
     "name": "stdout",
     "output_type": "stream",
     "text": [
      "Cmd('git') failed due to: exit code(128)\n",
      "  cmdline: git clone -v https://github.com/sj0054pe/pitchCV repos/sj0054pe/pitchCV\n",
      "  stderr: 'Cloning into 'repos/sj0054pe/pitchCV'...\n",
      "fatal: could not read Username for 'https://github.com': No such device or address\n",
      "'\n"
     ]
    },
    {
     "name": "stderr",
     "output_type": "stream",
     "text": [
      " 26%|██▌       | 11827/46292 [7:46:54<43:40:54,  4.56s/it]"
     ]
    },
    {
     "name": "stdout",
     "output_type": "stream",
     "text": [
      "Cmd('git') failed due to: exit code(128)\n",
      "  cmdline: git clone -v https://github.com/omallo/kaggle-whale repos/omallo/kaggle-whale\n",
      "  stderr: 'Cloning into 'repos/omallo/kaggle-whale'...\n",
      "fatal: could not read Username for 'https://github.com': No such device or address\n",
      "'\n"
     ]
    },
    {
     "name": "stderr",
     "output_type": "stream",
     "text": [
      " 26%|██▌       | 11860/46292 [7:49:13<36:18:44,  3.80s/it] "
     ]
    },
    {
     "name": "stdout",
     "output_type": "stream",
     "text": [
      "Cmd('git') failed due to: exit code(128)\n",
      "  cmdline: git clone -v https://github.com/tuananh0305/GRAPH_CONVOLUTIONAL_NETWORKS repos/tuananh0305/GRAPH_CONVOLUTIONAL_NETWORKS\n",
      "  stderr: 'Cloning into 'repos/tuananh0305/GRAPH_CONVOLUTIONAL_NETWORKS'...\n",
      "fatal: could not read Username for 'https://github.com': No such device or address\n",
      "'\n"
     ]
    },
    {
     "name": "stderr",
     "output_type": "stream",
     "text": [
      " 26%|██▌       | 11863/46292 [7:49:14<16:31:36,  1.73s/it]"
     ]
    },
    {
     "name": "stdout",
     "output_type": "stream",
     "text": [
      "Cmd('git') failed due to: exit code(128)\n",
      "  cmdline: git clone -v https://github.com/tuananh0305/GRAPH_CONVOLUTIONAL_NETWORKS repos/tuananh0305/GRAPH_CONVOLUTIONAL_NETWORKS\n",
      "  stderr: 'Cloning into 'repos/tuananh0305/GRAPH_CONVOLUTIONAL_NETWORKS'...\n",
      "fatal: could not read Username for 'https://github.com': No such device or address\n",
      "'\n"
     ]
    },
    {
     "name": "stderr",
     "output_type": "stream",
     "text": [
      " 26%|██▌       | 11915/46292 [7:51:39<12:08:20,  1.27s/it] "
     ]
    },
    {
     "name": "stdout",
     "output_type": "stream",
     "text": [
      "Cmd('git') failed due to: exit code(128)\n",
      "  cmdline: git clone -v https://github.com/Sunnyhoster/tf-faster-rcnn repos/Sunnyhoster/tf-faster-rcnn\n",
      "  stderr: 'Cloning into 'repos/Sunnyhoster/tf-faster-rcnn'...\n",
      "fatal: could not read Username for 'https://github.com': No such device or address\n",
      "'\n"
     ]
    },
    {
     "name": "stderr",
     "output_type": "stream",
     "text": [
      " 26%|██▌       | 11928/46292 [7:51:57<14:50:41,  1.56s/it]"
     ]
    },
    {
     "name": "stdout",
     "output_type": "stream",
     "text": [
      "Cmd('git') failed due to: exit code(128)\n",
      "  cmdline: git clone -v https://github.com/leehsiu/maskrcnn_benchmark repos/leehsiu/maskrcnn_benchmark\n",
      "  stderr: 'Cloning into 'repos/leehsiu/maskrcnn_benchmark'...\n",
      "fatal: could not read Username for 'https://github.com': No such device or address\n",
      "'\n"
     ]
    },
    {
     "name": "stderr",
     "output_type": "stream",
     "text": [
      " 26%|██▌       | 11962/46292 [7:52:50<11:20:46,  1.19s/it]"
     ]
    },
    {
     "name": "stdout",
     "output_type": "stream",
     "text": [
      "Cmd('git') failed due to: exit code(128)\n",
      "  cmdline: git clone -v https://github.com/poornaprag/deep_learning_project repos/poornaprag/deep_learning_project\n",
      "  stderr: 'Cloning into 'repos/poornaprag/deep_learning_project'...\n",
      "fatal: could not read Username for 'https://github.com': No such device or address\n",
      "'\n"
     ]
    },
    {
     "name": "stderr",
     "output_type": "stream",
     "text": [
      " 26%|██▌       | 12089/46292 [7:58:29<8:03:59,  1.18it/s]  "
     ]
    },
    {
     "name": "stdout",
     "output_type": "stream",
     "text": [
      "Cmd('git') failed due to: exit code(128)\n",
      "  cmdline: git clone -v https://github.com/YoungJoongUNC/human_video_novel_view_synthesis/blob/master/README.md repos/YoungJoongUNC/human_video_novel_view_synthesis/blob/master/README.md\n",
      "  stderr: 'Cloning into 'repos/YoungJoongUNC/human_video_novel_view_synthesis/blob/master/README.md'...\n",
      "fatal: repository 'https://github.com/YoungJoongUNC/human_video_novel_view_synthesis/blob/master/README.md/' not found\n",
      "'\n"
     ]
    },
    {
     "name": "stderr",
     "output_type": "stream",
     "text": [
      " 26%|██▋       | 12193/46292 [8:02:31<23:02:28,  2.43s/it]"
     ]
    },
    {
     "name": "stdout",
     "output_type": "stream",
     "text": [
      "Cmd('git') failed due to: exit code(128)\n",
      "  cmdline: git clone -v https://github.com/ptarling/Deep-Learning-to-Count-Fish-in-Sonar-Images repos/ptarling/Deep-Learning-to-Count-Fish-in-Sonar-Images\n",
      "  stderr: 'Cloning into 'repos/ptarling/Deep-Learning-to-Count-Fish-in-Sonar-Images'...\n",
      "fatal: could not read Username for 'https://github.com': No such device or address\n",
      "'\n"
     ]
    },
    {
     "name": "stderr",
     "output_type": "stream",
     "text": [
      "\r",
      " 26%|██▋       | 12194/46292 [8:02:31<17:02:07,  1.80s/it]"
     ]
    },
    {
     "name": "stdout",
     "output_type": "stream",
     "text": [
      "Cmd('git') failed due to: exit code(128)\n",
      "  cmdline: git clone -v https://github.com/ptarling/Deep-Learning-to-Count-Fish-in-Sonar-Images repos/ptarling/Deep-Learning-to-Count-Fish-in-Sonar-Images\n",
      "  stderr: 'Cloning into 'repos/ptarling/Deep-Learning-to-Count-Fish-in-Sonar-Images'...\n",
      "fatal: could not read Username for 'https://github.com': No such device or address\n",
      "'\n"
     ]
    },
    {
     "name": "stderr",
     "output_type": "stream",
     "text": [
      " 26%|██▋       | 12263/46292 [8:04:58<5:47:14,  1.63it/s] "
     ]
    },
    {
     "name": "stdout",
     "output_type": "stream",
     "text": [
      "Cmd('git') failed due to: exit code(128)\n",
      "  cmdline: git clone -v https://github.com/zhanxinrui/tracking_wo_bnw_fork repos/zhanxinrui/tracking_wo_bnw_fork\n",
      "  stderr: 'Cloning into 'repos/zhanxinrui/tracking_wo_bnw_fork'...\n",
      "fatal: could not read Username for 'https://github.com': No such device or address\n",
      "'\n"
     ]
    },
    {
     "name": "stderr",
     "output_type": "stream",
     "text": [
      " 27%|██▋       | 12316/46292 [8:08:15<35:53:19,  3.80s/it] "
     ]
    },
    {
     "name": "stdout",
     "output_type": "stream",
     "text": [
      "Cmd('git') failed due to: exit code(128)\n",
      "  cmdline: git clone -v https://github.com/leehsiu/maskrcnn_benchmark repos/leehsiu/maskrcnn_benchmark\n",
      "  stderr: 'Cloning into 'repos/leehsiu/maskrcnn_benchmark'...\n",
      "fatal: could not read Username for 'https://github.com': No such device or address\n",
      "'\n"
     ]
    },
    {
     "name": "stderr",
     "output_type": "stream",
     "text": [
      " 27%|██▋       | 12344/46292 [8:09:05<11:57:09,  1.27s/it]"
     ]
    },
    {
     "name": "stdout",
     "output_type": "stream",
     "text": [
      "Cmd('git') failed due to: exit code(128)\n",
      "  cmdline: git clone -v https://github.com/D-X-Y/DXY-Projects/tree/master/MSPLD repos/D-X-Y/DXY-Projects/tree/master/MSPLD\n",
      "  stderr: 'Cloning into 'repos/D-X-Y/DXY-Projects/tree/master/MSPLD'...\n",
      "fatal: repository 'https://github.com/D-X-Y/DXY-Projects/tree/master/MSPLD/' not found\n",
      "'\n"
     ]
    },
    {
     "name": "stderr",
     "output_type": "stream",
     "text": [
      " 27%|██▋       | 12621/46292 [8:16:53<6:15:59,  1.49it/s] "
     ]
    },
    {
     "name": "stdout",
     "output_type": "stream",
     "text": [
      "Cmd('git') failed due to: exit code(128)\n",
      "  cmdline: git clone -v https://github.com/skylstat/AtlasProteinChallenge repos/skylstat/AtlasProteinChallenge\n",
      "  stderr: 'Cloning into 'repos/skylstat/AtlasProteinChallenge'...\n",
      "fatal: could not read Username for 'https://github.com': No such device or address\n",
      "'\n"
     ]
    },
    {
     "name": "stderr",
     "output_type": "stream",
     "text": [
      "\r",
      " 27%|██▋       | 12622/46292 [8:16:53<5:13:26,  1.79it/s]"
     ]
    },
    {
     "name": "stdout",
     "output_type": "stream",
     "text": [
      "Cmd('git') failed due to: exit code(128)\n",
      "  cmdline: git clone -v https://github.com/skylstat/AtlasProteinChallenge repos/skylstat/AtlasProteinChallenge\n",
      "  stderr: 'Cloning into 'repos/skylstat/AtlasProteinChallenge'...\n",
      "fatal: could not read Username for 'https://github.com': No such device or address\n",
      "'\n"
     ]
    },
    {
     "name": "stderr",
     "output_type": "stream",
     "text": [
      " 27%|██▋       | 12624/46292 [8:16:58<11:59:09,  1.28s/it]"
     ]
    },
    {
     "name": "stdout",
     "output_type": "stream",
     "text": [
      "Cmd('git') failed due to: exit code(128)\n",
      "  cmdline: git clone -v https://github.com/tensorpack/tensorpack/tree/master/examples/GAN repos/tensorpack/tensorpack/tree/master/examples/GAN\n",
      "  stderr: 'Cloning into 'repos/tensorpack/tensorpack/tree/master/examples/GAN'...\n",
      "fatal: repository 'https://github.com/tensorpack/tensorpack/tree/master/examples/GAN/' not found\n",
      "'\n"
     ]
    },
    {
     "name": "stderr",
     "output_type": "stream",
     "text": [
      " 27%|██▋       | 12670/46292 [8:18:35<9:30:38,  1.02s/it] "
     ]
    },
    {
     "name": "stdout",
     "output_type": "stream",
     "text": [
      "Cmd('git') failed due to: exit code(128)\n",
      "  cmdline: git clone -v https://github.com/Sunnyhoster/tf-faster-rcnn repos/Sunnyhoster/tf-faster-rcnn\n",
      "  stderr: 'Cloning into 'repos/Sunnyhoster/tf-faster-rcnn'...\n",
      "fatal: could not read Username for 'https://github.com': No such device or address\n",
      "'\n"
     ]
    },
    {
     "name": "stderr",
     "output_type": "stream",
     "text": [
      " 27%|██▋       | 12678/46292 [8:18:40<3:58:57,  2.34it/s] "
     ]
    },
    {
     "name": "stdout",
     "output_type": "stream",
     "text": [
      "Cmd('git') failed due to: exit code(128)\n",
      "  cmdline: git clone -v https://github.com/ankitkulkarni97/generative_image_inpainting repos/ankitkulkarni97/generative_image_inpainting\n",
      "  stderr: 'Cloning into 'repos/ankitkulkarni97/generative_image_inpainting'...\n",
      "fatal: could not read Username for 'https://github.com': No such device or address\n",
      "'\n"
     ]
    },
    {
     "name": "stderr",
     "output_type": "stream",
     "text": [
      "\r",
      " 27%|██▋       | 12679/46292 [8:18:40<3:39:37,  2.55it/s]"
     ]
    },
    {
     "name": "stdout",
     "output_type": "stream",
     "text": [
      "Cmd('git') failed due to: exit code(128)\n",
      "  cmdline: git clone -v https://github.com/ankitkulkarni97/generative_image_inpainting repos/ankitkulkarni97/generative_image_inpainting\n",
      "  stderr: 'Cloning into 'repos/ankitkulkarni97/generative_image_inpainting'...\n",
      "fatal: could not read Username for 'https://github.com': No such device or address\n",
      "'\n"
     ]
    },
    {
     "name": "stderr",
     "output_type": "stream",
     "text": [
      "\r",
      " 27%|██▋       | 12680/46292 [8:18:41<3:22:39,  2.76it/s]"
     ]
    },
    {
     "name": "stdout",
     "output_type": "stream",
     "text": [
      "Cmd('git') failed due to: exit code(128)\n",
      "  cmdline: git clone -v https://github.com/Sunnyhoster/tf-faster-rcnn repos/Sunnyhoster/tf-faster-rcnn\n",
      "  stderr: 'Cloning into 'repos/Sunnyhoster/tf-faster-rcnn'...\n",
      "fatal: could not read Username for 'https://github.com': No such device or address\n",
      "'\n"
     ]
    },
    {
     "name": "stderr",
     "output_type": "stream",
     "text": [
      " 28%|██▊       | 12788/46292 [8:22:35<7:30:53,  1.24it/s] "
     ]
    },
    {
     "name": "stdout",
     "output_type": "stream",
     "text": [
      "Cmd('git') failed due to: exit code(128)\n",
      "  cmdline: git clone -v https://github.com/huggingface/transformers/tree/master/examples/movement-pruning repos/huggingface/transformers/tree/master/examples/movement-pruning\n",
      "  stderr: 'Cloning into 'repos/huggingface/transformers/tree/master/examples/movement-pruning'...\n",
      "fatal: repository 'https://github.com/huggingface/transformers/tree/master/examples/movement-pruning/' not found\n",
      "'\n"
     ]
    },
    {
     "name": "stderr",
     "output_type": "stream",
     "text": [
      " 28%|██▊       | 12851/46292 [8:26:14<19:36:57,  2.11s/it] "
     ]
    },
    {
     "name": "stdout",
     "output_type": "stream",
     "text": [
      "Cmd('git') failed due to: exit code(128)\n",
      "  cmdline: git clone -v https://github.com/Sunnyhoster/tf-faster-rcnn repos/Sunnyhoster/tf-faster-rcnn\n",
      "  stderr: 'Cloning into 'repos/Sunnyhoster/tf-faster-rcnn'...\n",
      "fatal: could not read Username for 'https://github.com': No such device or address\n",
      "'\n"
     ]
    },
    {
     "name": "stderr",
     "output_type": "stream",
     "text": [
      "\r",
      " 28%|██▊       | 12852/46292 [8:26:15<15:00:57,  1.62s/it]"
     ]
    },
    {
     "name": "stdout",
     "output_type": "stream",
     "text": [
      "Cmd('git') failed due to: exit code(128)\n",
      "  cmdline: git clone -v https://github.com/tensorpack/tensorpack/tree/master/examples/GAN repos/tensorpack/tensorpack/tree/master/examples/GAN\n",
      "  stderr: 'Cloning into 'repos/tensorpack/tensorpack/tree/master/examples/GAN'...\n",
      "fatal: repository 'https://github.com/tensorpack/tensorpack/tree/master/examples/GAN/' not found\n",
      "'\n"
     ]
    },
    {
     "name": "stderr",
     "output_type": "stream",
     "text": [
      " 28%|██▊       | 12872/46292 [8:27:01<8:57:38,  1.04it/s] "
     ]
    },
    {
     "name": "stdout",
     "output_type": "stream",
     "text": [
      "Cmd('git') failed due to: exit code(128)\n",
      "  cmdline: git clone -v https://github.com/https://worksheets.codalab.org/worksheets/0x66df55eda5054cbf9e173520c7b6ac3d repos/https://worksheets.codalab.org/worksheets/0x66df55eda5054cbf9e173520c7b6ac3d\n",
      "  stderr: 'Cloning into 'repos/https://worksheets.codalab.org/worksheets/0x66df55eda5054cbf9e173520c7b6ac3d'...\n",
      "remote: Not Found\n",
      "fatal: repository 'https://github.com/https://worksheets.codalab.org/worksheets/0x66df55eda5054cbf9e173520c7b6ac3d/' not found\n",
      "'\n"
     ]
    },
    {
     "name": "stderr",
     "output_type": "stream",
     "text": [
      " 28%|██▊       | 12874/46292 [8:27:01<6:34:35,  1.41it/s]"
     ]
    },
    {
     "name": "stdout",
     "output_type": "stream",
     "text": [
      "Cmd('git') failed due to: exit code(128)\n",
      "  cmdline: git clone -v https://github.com/https://worksheets.codalab.org/worksheets/0x269ef752f8c344a28383240f7bb2be9c repos/https://worksheets.codalab.org/worksheets/0x269ef752f8c344a28383240f7bb2be9c\n",
      "  stderr: 'Cloning into 'repos/https://worksheets.codalab.org/worksheets/0x269ef752f8c344a28383240f7bb2be9c'...\n",
      "remote: Not Found\n",
      "fatal: repository 'https://github.com/https://worksheets.codalab.org/worksheets/0x269ef752f8c344a28383240f7bb2be9c/' not found\n",
      "'\n"
     ]
    },
    {
     "name": "stderr",
     "output_type": "stream",
     "text": [
      " 28%|██▊       | 12877/46292 [8:27:03<5:34:45,  1.66it/s]"
     ]
    },
    {
     "name": "stdout",
     "output_type": "stream",
     "text": [
      "Cmd('git') failed due to: exit code(128)\n",
      "  cmdline: git clone -v https://github.com/https://worksheets.codalab.org/worksheets/0xb6d027ee127e422989ab9115726c5411 repos/https://worksheets.codalab.org/worksheets/0xb6d027ee127e422989ab9115726c5411\n",
      "  stderr: 'Cloning into 'repos/https://worksheets.codalab.org/worksheets/0xb6d027ee127e422989ab9115726c5411'...\n",
      "remote: Not Found\n",
      "fatal: repository 'https://github.com/https://worksheets.codalab.org/worksheets/0xb6d027ee127e422989ab9115726c5411/' not found\n",
      "'\n"
     ]
    },
    {
     "name": "stderr",
     "output_type": "stream",
     "text": [
      " 28%|██▊       | 12881/46292 [8:27:04<3:35:37,  2.58it/s]"
     ]
    },
    {
     "name": "stdout",
     "output_type": "stream",
     "text": [
      "Cmd('git') failed due to: exit code(128)\n",
      "  cmdline: git clone -v https://github.com/https://worksheets.codalab.org/worksheets/0x1db77e603a8d48c8abebd67fce39cf8b repos/https://worksheets.codalab.org/worksheets/0x1db77e603a8d48c8abebd67fce39cf8b\n",
      "  stderr: 'Cloning into 'repos/https://worksheets.codalab.org/worksheets/0x1db77e603a8d48c8abebd67fce39cf8b'...\n",
      "remote: Not Found\n",
      "fatal: repository 'https://github.com/https://worksheets.codalab.org/worksheets/0x1db77e603a8d48c8abebd67fce39cf8b/' not found\n",
      "'\n"
     ]
    },
    {
     "name": "stderr",
     "output_type": "stream",
     "text": [
      "\r",
      " 28%|██▊       | 12882/46292 [8:27:05<3:18:57,  2.80it/s]"
     ]
    },
    {
     "name": "stdout",
     "output_type": "stream",
     "text": [
      "Cmd('git') failed due to: exit code(128)\n",
      "  cmdline: git clone -v https://github.com/https://worksheets.codalab.org/worksheets/0x243284b4d81d4590b46030cdd3b72633 repos/https://worksheets.codalab.org/worksheets/0x243284b4d81d4590b46030cdd3b72633\n",
      "  stderr: 'Cloning into 'repos/https://worksheets.codalab.org/worksheets/0x243284b4d81d4590b46030cdd3b72633'...\n",
      "remote: Not Found\n",
      "fatal: repository 'https://github.com/https://worksheets.codalab.org/worksheets/0x243284b4d81d4590b46030cdd3b72633/' not found\n",
      "'\n"
     ]
    },
    {
     "name": "stderr",
     "output_type": "stream",
     "text": [
      " 28%|██▊       | 12885/46292 [8:27:08<7:18:59,  1.27it/s]"
     ]
    },
    {
     "name": "stdout",
     "output_type": "stream",
     "text": [
      "Cmd('git') failed due to: exit code(128)\n",
      "  cmdline: git clone -v https://github.com/https://worksheets.codalab.org/worksheets/0xf26cd79d4d734287868923ad1067cf4c repos/https://worksheets.codalab.org/worksheets/0xf26cd79d4d734287868923ad1067cf4c\n",
      "  stderr: 'Cloning into 'repos/https://worksheets.codalab.org/worksheets/0xf26cd79d4d734287868923ad1067cf4c'...\n",
      "remote: Not Found\n",
      "fatal: repository 'https://github.com/https://worksheets.codalab.org/worksheets/0xf26cd79d4d734287868923ad1067cf4c/' not found\n",
      "'\n"
     ]
    },
    {
     "name": "stderr",
     "output_type": "stream",
     "text": [
      " 28%|██▊       | 12901/46292 [8:27:30<9:33:19,  1.03s/it] "
     ]
    },
    {
     "name": "stdout",
     "output_type": "stream",
     "text": [
      "Cmd('git') failed due to: exit code(128)\n",
      "  cmdline: git clone -v https://github.com/https://worksheets.codalab.org/worksheets/0x17a501d37bbe49279b0c70ae10813f4c repos/https://worksheets.codalab.org/worksheets/0x17a501d37bbe49279b0c70ae10813f4c\n",
      "  stderr: 'Cloning into 'repos/https://worksheets.codalab.org/worksheets/0x17a501d37bbe49279b0c70ae10813f4c'...\n",
      "remote: Not Found\n",
      "fatal: repository 'https://github.com/https://worksheets.codalab.org/worksheets/0x17a501d37bbe49279b0c70ae10813f4c/' not found\n",
      "'\n"
     ]
    },
    {
     "name": "stderr",
     "output_type": "stream",
     "text": [
      " 28%|██▊       | 12909/46292 [8:27:51<24:57:48,  2.69s/it]"
     ]
    },
    {
     "name": "stdout",
     "output_type": "stream",
     "text": [
      "Cmd('git') failed due to: exit code(128)\n",
      "  cmdline: git clone -v https://github.com/poornaprag/deep_learning_project repos/poornaprag/deep_learning_project\n",
      "  stderr: 'Cloning into 'repos/poornaprag/deep_learning_project'...\n",
      "fatal: could not read Username for 'https://github.com': No such device or address\n",
      "'\n"
     ]
    },
    {
     "name": "stderr",
     "output_type": "stream",
     "text": [
      "\r",
      " 28%|██▊       | 12910/46292 [8:27:51<18:39:07,  2.01s/it]"
     ]
    },
    {
     "name": "stdout",
     "output_type": "stream",
     "text": [
      "Cmd('git') failed due to: exit code(128)\n",
      "  cmdline: git clone -v https://github.com/poornaprag/deep_learning_project repos/poornaprag/deep_learning_project\n",
      "  stderr: 'Cloning into 'repos/poornaprag/deep_learning_project'...\n",
      "fatal: could not read Username for 'https://github.com': No such device or address\n",
      "'\n"
     ]
    },
    {
     "name": "stderr",
     "output_type": "stream",
     "text": [
      " 28%|██▊       | 13004/46292 [8:31:21<41:59:55,  4.54s/it] "
     ]
    },
    {
     "name": "stdout",
     "output_type": "stream",
     "text": [
      "Cmd('git') failed due to: exit code(128)\n",
      "  cmdline: git clone -v https://github.com/tensorpack/tensorpack/tree/master/examples/GAN repos/tensorpack/tensorpack/tree/master/examples/GAN\n",
      "  stderr: 'Cloning into 'repos/tensorpack/tensorpack/tree/master/examples/GAN'...\n",
      "fatal: repository 'https://github.com/tensorpack/tensorpack/tree/master/examples/GAN/' not found\n",
      "'\n"
     ]
    },
    {
     "name": "stderr",
     "output_type": "stream",
     "text": [
      "\r",
      " 28%|██▊       | 13005/46292 [8:31:21<34:06:56,  3.69s/it]"
     ]
    },
    {
     "name": "stdout",
     "output_type": "stream",
     "text": [
      "Cmd('git') failed due to: exit code(128)\n",
      "  cmdline: git clone -v https://github.com/tensorpack/tensorpack/tree/master/examples/GAN repos/tensorpack/tensorpack/tree/master/examples/GAN\n",
      "  stderr: 'Cloning into 'repos/tensorpack/tensorpack/tree/master/examples/GAN'...\n",
      "fatal: repository 'https://github.com/tensorpack/tensorpack/tree/master/examples/GAN/' not found\n",
      "'\n"
     ]
    },
    {
     "name": "stderr",
     "output_type": "stream",
     "text": [
      "\r",
      " 28%|██▊       | 13006/46292 [8:31:21<27:05:07,  2.93s/it]"
     ]
    },
    {
     "name": "stdout",
     "output_type": "stream",
     "text": [
      "Cmd('git') failed due to: exit code(128)\n",
      "  cmdline: git clone -v https://github.com/tensorpack/tensorpack/tree/master/examples/GAN repos/tensorpack/tensorpack/tree/master/examples/GAN\n",
      "  stderr: 'Cloning into 'repos/tensorpack/tensorpack/tree/master/examples/GAN'...\n",
      "fatal: repository 'https://github.com/tensorpack/tensorpack/tree/master/examples/GAN/' not found\n",
      "'\n"
     ]
    },
    {
     "name": "stderr",
     "output_type": "stream",
     "text": [
      "\r",
      " 28%|██▊       | 13007/46292 [8:31:22<21:08:39,  2.29s/it]"
     ]
    },
    {
     "name": "stdout",
     "output_type": "stream",
     "text": [
      "Cmd('git') failed due to: exit code(128)\n",
      "  cmdline: git clone -v https://github.com/tensorpack/tensorpack/tree/master/examples/GAN repos/tensorpack/tensorpack/tree/master/examples/GAN\n",
      "  stderr: 'Cloning into 'repos/tensorpack/tensorpack/tree/master/examples/GAN'...\n",
      "fatal: repository 'https://github.com/tensorpack/tensorpack/tree/master/examples/GAN/' not found\n",
      "'\n"
     ]
    },
    {
     "name": "stderr",
     "output_type": "stream",
     "text": [
      "\r",
      " 28%|██▊       | 13008/46292 [8:31:22<16:18:52,  1.76s/it]"
     ]
    },
    {
     "name": "stdout",
     "output_type": "stream",
     "text": [
      "Cmd('git') failed due to: exit code(128)\n",
      "  cmdline: git clone -v https://github.com/tensorpack/tensorpack/tree/master/examples/GAN repos/tensorpack/tensorpack/tree/master/examples/GAN\n",
      "  stderr: 'Cloning into 'repos/tensorpack/tensorpack/tree/master/examples/GAN'...\n",
      "fatal: repository 'https://github.com/tensorpack/tensorpack/tree/master/examples/GAN/' not found\n",
      "'\n"
     ]
    },
    {
     "name": "stderr",
     "output_type": "stream",
     "text": [
      " 28%|██▊       | 13047/46292 [8:32:36<3:45:18,  2.46it/s] "
     ]
    },
    {
     "name": "stdout",
     "output_type": "stream",
     "text": [
      "Cmd('git') failed due to: exit code(128)\n",
      "  cmdline: git clone -v https://github.com/polo5/NonGreedyGradientHPO repos/polo5/NonGreedyGradientHPO\n",
      "  stderr: 'Cloning into 'repos/polo5/NonGreedyGradientHPO'...\n",
      "fatal: could not read Username for 'https://github.com': No such device or address\n",
      "'\n"
     ]
    },
    {
     "name": "stderr",
     "output_type": "stream",
     "text": [
      " 28%|██▊       | 13097/46292 [8:34:28<8:48:10,  1.05it/s] "
     ]
    },
    {
     "name": "stdout",
     "output_type": "stream",
     "text": [
      "Cmd('git') failed due to: exit code(128)\n",
      "  cmdline: git clone -v https://github.com/omallo/kaggle-whale repos/omallo/kaggle-whale\n",
      "  stderr: 'Cloning into 'repos/omallo/kaggle-whale'...\n",
      "fatal: could not read Username for 'https://github.com': No such device or address\n",
      "'\n"
     ]
    },
    {
     "name": "stderr",
     "output_type": "stream",
     "text": [
      " 28%|██▊       | 13121/46292 [8:35:20<9:25:15,  1.02s/it] "
     ]
    },
    {
     "name": "stdout",
     "output_type": "stream",
     "text": [
      "Cmd('git') failed due to: exit code(128)\n",
      "  cmdline: git clone -v https://github.com/ml-cs385/Deep-Learning-and-Feature-Visualization repos/ml-cs385/Deep-Learning-and-Feature-Visualization\n",
      "  stderr: 'Cloning into 'repos/ml-cs385/Deep-Learning-and-Feature-Visualization'...\n",
      "fatal: could not read Username for 'https://github.com': No such device or address\n",
      "'\n"
     ]
    },
    {
     "name": "stderr",
     "output_type": "stream",
     "text": [
      " 29%|██▉       | 13377/46292 [8:48:51<3:14:37,  2.82it/s]  "
     ]
    },
    {
     "name": "stdout",
     "output_type": "stream",
     "text": [
      "Cmd('git') failed due to: exit code(128)\n",
      "  cmdline: git clone -v https://github.com/BruceDGit/NLP-BERT--ChineseVersion repos/BruceDGit/NLP-BERT--ChineseVersion\n",
      "  stderr: 'Cloning into 'repos/BruceDGit/NLP-BERT--ChineseVersion'...\n",
      "fatal: could not read Username for 'https://github.com': No such device or address\n",
      "'\n"
     ]
    },
    {
     "name": "stderr",
     "output_type": "stream",
     "text": [
      " 29%|██▉       | 13382/46292 [8:48:59<11:15:31,  1.23s/it]"
     ]
    },
    {
     "name": "stdout",
     "output_type": "stream",
     "text": [
      "Cmd('git') failed due to: exit code(128)\n",
      "  cmdline: git clone -v https://github.com/omallo/ztrapai repos/omallo/ztrapai\n",
      "  stderr: 'Cloning into 'repos/omallo/ztrapai'...\n",
      "fatal: could not read Username for 'https://github.com': No such device or address\n",
      "'\n"
     ]
    },
    {
     "name": "stderr",
     "output_type": "stream",
     "text": [
      " 29%|██▉       | 13391/46292 [8:49:15<11:16:13,  1.23s/it]"
     ]
    },
    {
     "name": "stdout",
     "output_type": "stream",
     "text": [
      "Cmd('git') failed due to: exit code(128)\n",
      "  cmdline: git clone -v https://github.com/ACampolo5/verbose repos/ACampolo5/verbose\n",
      "  stderr: 'Cloning into 'repos/ACampolo5/verbose'...\n",
      "fatal: could not read Username for 'https://github.com': No such device or address\n",
      "'\n"
     ]
    },
    {
     "name": "stderr",
     "output_type": "stream",
     "text": [
      " 30%|██▉       | 13821/46292 [9:06:17<5:57:48,  1.51it/s]  "
     ]
    },
    {
     "name": "stdout",
     "output_type": "stream",
     "text": [
      "Cmd('git') failed due to: exit code(128)\n",
      "  cmdline: git clone -v https://github.com/damselflywingz/ScRNA_models repos/damselflywingz/ScRNA_models\n",
      "  stderr: 'Cloning into 'repos/damselflywingz/ScRNA_models'...\n",
      "fatal: could not read Username for 'https://github.com': No such device or address\n",
      "'\n"
     ]
    },
    {
     "name": "stderr",
     "output_type": "stream",
     "text": [
      " 30%|██▉       | 13825/46292 [9:06:19<4:19:15,  2.09it/s]"
     ]
    },
    {
     "name": "stdout",
     "output_type": "stream",
     "text": [
      "Cmd('git') failed due to: exit code(128)\n",
      "  cmdline: git clone -v https://github.com/ajovanov95/probabilistic-spiking-neural-networks repos/ajovanov95/probabilistic-spiking-neural-networks\n",
      "  stderr: 'Cloning into 'repos/ajovanov95/probabilistic-spiking-neural-networks'...\n",
      "fatal: could not read Username for 'https://github.com': No such device or address\n",
      "'\n"
     ]
    },
    {
     "name": "stderr",
     "output_type": "stream",
     "text": [
      " 30%|██▉       | 13866/46292 [9:07:04<4:32:24,  1.98it/s] "
     ]
    },
    {
     "name": "stdout",
     "output_type": "stream",
     "text": [
      "Cmd('git') failed due to: exit code(128)\n",
      "  cmdline: git clone -v https://github.com/facebookresearch/detectron2/tree/master/projects/DensePose/ repos/facebookresearch/detectron2/tree/master/projects/DensePose/\n",
      "  stderr: 'Cloning into 'repos/facebookresearch/detectron2/tree/master/projects/DensePose'...\n",
      "remote: Please upgrade your git client.\n",
      "remote: GitHub.com no longer supports git over dumb-http: https://github.com/blog/809-git-dumb-http-transport-to-be-turned-off-in-90-days\n",
      "fatal: unable to access 'https://github.com/facebookresearch/detectron2/tree/master/projects/DensePose/': The requested URL returned error: 403\n",
      "'\n"
     ]
    },
    {
     "name": "stderr",
     "output_type": "stream",
     "text": [
      " 30%|██▉       | 13876/46292 [9:07:21<12:05:41,  1.34s/it]"
     ]
    },
    {
     "name": "stdout",
     "output_type": "stream",
     "text": [
      "Cmd('git') failed due to: exit code(128)\n",
      "  cmdline: git clone -v https://github.com/phython96/TM repos/phython96/TM\n",
      "  stderr: 'Cloning into 'repos/phython96/TM'...\n",
      "fatal: could not read Username for 'https://github.com': No such device or address\n",
      "'\n"
     ]
    },
    {
     "name": "stderr",
     "output_type": "stream",
     "text": [
      " 30%|███       | 13975/46292 [9:10:54<7:31:55,  1.19it/s] "
     ]
    },
    {
     "name": "stdout",
     "output_type": "stream",
     "text": [
      "Cmd('git') failed due to: exit code(128)\n",
      "  cmdline: git clone -v https://github.com/DistAlgo/examples/tree/master/polling repos/DistAlgo/examples/tree/master/polling\n",
      "  stderr: 'Cloning into 'repos/DistAlgo/examples/tree/master/polling'...\n",
      "fatal: repository 'https://github.com/DistAlgo/examples/tree/master/polling/' not found\n",
      "'\n"
     ]
    },
    {
     "name": "stderr",
     "output_type": "stream",
     "text": [
      " 30%|███       | 14017/46292 [9:14:07<50:24:11,  5.62s/it] "
     ]
    },
    {
     "name": "stdout",
     "output_type": "stream",
     "text": [
      "Cmd('git') failed due to: exit code(128)\n",
      "  cmdline: git clone -v https://github.com/Pblamichha42/DynamicGAT repos/Pblamichha42/DynamicGAT\n",
      "  stderr: 'Cloning into 'repos/Pblamichha42/DynamicGAT'...\n",
      "fatal: could not read Username for 'https://github.com': No such device or address\n",
      "'\n"
     ]
    },
    {
     "name": "stderr",
     "output_type": "stream",
     "text": [
      " 30%|███       | 14019/46292 [9:14:12<38:52:16,  4.34s/it]"
     ]
    },
    {
     "name": "stdout",
     "output_type": "stream",
     "text": [
      "Cmd('git') failed due to: exit code(128)\n",
      "  cmdline: git clone -v https://github.com/Pblamichha42/DynamicGAT repos/Pblamichha42/DynamicGAT\n",
      "  stderr: 'Cloning into 'repos/Pblamichha42/DynamicGAT'...\n",
      "fatal: could not read Username for 'https://github.com': No such device or address\n",
      "'\n"
     ]
    },
    {
     "name": "stderr",
     "output_type": "stream",
     "text": [
      "\r",
      " 30%|███       | 14020/46292 [9:14:12<29:46:19,  3.32s/it]"
     ]
    },
    {
     "name": "stdout",
     "output_type": "stream",
     "text": [
      "Cmd('git') failed due to: exit code(128)\n",
      "  cmdline: git clone -v https://github.com/Pblamichha42/DynamicGAT repos/Pblamichha42/DynamicGAT\n",
      "  stderr: 'Cloning into 'repos/Pblamichha42/DynamicGAT'...\n",
      "fatal: could not read Username for 'https://github.com': No such device or address\n",
      "'\n"
     ]
    },
    {
     "name": "stderr",
     "output_type": "stream",
     "text": [
      " 30%|███       | 14107/46292 [9:17:53<22:35:03,  2.53s/it]"
     ]
    },
    {
     "name": "stdout",
     "output_type": "stream",
     "text": [
      "Cmd('git') failed due to: exit code(128)\n",
      "  cmdline: git clone -v https://github.com/google-research/google-research/tree/master/experience_replay repos/google-research/google-research/tree/master/experience_replay\n",
      "  stderr: 'Cloning into 'repos/google-research/google-research/tree/master/experience_replay'...\n",
      "fatal: repository 'https://github.com/google-research/google-research/tree/master/experience_replay/' not found\n",
      "'\n"
     ]
    },
    {
     "name": "stderr",
     "output_type": "stream",
     "text": [
      " 30%|███       | 14111/46292 [9:17:57<11:58:39,  1.34s/it]"
     ]
    },
    {
     "name": "stdout",
     "output_type": "stream",
     "text": [
      "Cmd('git') failed due to: exit code(128)\n",
      "  cmdline: git clone -v https://github.com/ajovanov95/probabilistic-spiking-neural-networks repos/ajovanov95/probabilistic-spiking-neural-networks\n",
      "  stderr: 'Cloning into 'repos/ajovanov95/probabilistic-spiking-neural-networks'...\n",
      "fatal: could not read Username for 'https://github.com': No such device or address\n",
      "'\n"
     ]
    },
    {
     "name": "stderr",
     "output_type": "stream",
     "text": [
      " 31%|███       | 14184/46292 [9:20:41<21:22:16,  2.40s/it] "
     ]
    },
    {
     "name": "stdout",
     "output_type": "stream",
     "text": [
      "Cmd('git') failed due to: exit code(128)\n",
      "  cmdline: git clone -v https://github.com/google-research/google-research/tree/master/rl_metrics_aaai2021 repos/google-research/google-research/tree/master/rl_metrics_aaai2021\n",
      "  stderr: 'Cloning into 'repos/google-research/google-research/tree/master/rl_metrics_aaai2021'...\n",
      "fatal: repository 'https://github.com/google-research/google-research/tree/master/rl_metrics_aaai2021/' not found\n",
      "'\n"
     ]
    },
    {
     "name": "stderr",
     "output_type": "stream",
     "text": [
      " 31%|███       | 14202/46292 [9:21:11<14:03:33,  1.58s/it]"
     ]
    },
    {
     "name": "stdout",
     "output_type": "stream",
     "text": [
      "Cmd('git') failed due to: exit code(128)\n",
      "  cmdline: git clone -v https://github.com/anair13/rlkit/tree/ccrig/examples/ccrig repos/anair13/rlkit/tree/ccrig/examples/ccrig\n",
      "  stderr: 'Cloning into 'repos/anair13/rlkit/tree/ccrig/examples/ccrig'...\n",
      "fatal: repository 'https://github.com/anair13/rlkit/tree/ccrig/examples/ccrig/' not found\n",
      "'\n"
     ]
    },
    {
     "name": "stderr",
     "output_type": "stream",
     "text": [
      " 31%|███       | 14219/46292 [9:21:24<5:27:11,  1.63it/s] "
     ]
    },
    {
     "name": "stdout",
     "output_type": "stream",
     "text": [
      "Cmd('git') failed due to: exit code(128)\n",
      "  cmdline: git clone -v https://github.com/Psyche-mia/Avatar-GAN repos/Psyche-mia/Avatar-GAN\n",
      "  stderr: 'Cloning into 'repos/Psyche-mia/Avatar-GAN'...\n",
      "fatal: could not read Username for 'https://github.com': No such device or address\n",
      "'\n"
     ]
    },
    {
     "name": "stderr",
     "output_type": "stream",
     "text": [
      " 31%|███       | 14224/46292 [9:21:31<8:43:22,  1.02it/s] "
     ]
    },
    {
     "name": "stdout",
     "output_type": "stream",
     "text": [
      "Cmd('git') failed due to: exit code(128)\n",
      "  cmdline: git clone -v https://github.com/ACampolo5/verbose repos/ACampolo5/verbose\n",
      "  stderr: 'Cloning into 'repos/ACampolo5/verbose'...\n",
      "fatal: could not read Username for 'https://github.com': No such device or address\n",
      "'\n"
     ]
    },
    {
     "name": "stderr",
     "output_type": "stream",
     "text": [
      " 31%|███       | 14394/46292 [9:26:16<5:55:09,  1.50it/s]  "
     ]
    },
    {
     "name": "stdout",
     "output_type": "stream",
     "text": [
      "Cmd('git') failed due to: exit code(128)\n",
      "  cmdline: git clone -v https://github.com/Flaick/GroundR repos/Flaick/GroundR\n",
      "  stderr: 'Cloning into 'repos/Flaick/GroundR'...\n",
      "fatal: could not read Username for 'https://github.com': No such device or address\n",
      "'\n"
     ]
    },
    {
     "name": "stderr",
     "output_type": "stream",
     "text": [
      " 31%|███       | 14407/46292 [9:26:43<16:27:09,  1.86s/it]"
     ]
    },
    {
     "name": "stdout",
     "output_type": "stream",
     "text": [
      "Cmd('git') failed due to: exit code(128)\n",
      "  cmdline: git clone -v https://github.com/QuadrantAI/dvaess repos/QuadrantAI/dvaess\n",
      "  stderr: 'Cloning into 'repos/QuadrantAI/dvaess'...\n",
      "fatal: could not read Username for 'https://github.com': No such device or address\n",
      "'\n"
     ]
    },
    {
     "name": "stderr",
     "output_type": "stream",
     "text": [
      " 31%|███▏      | 14478/46292 [9:29:44<16:05:08,  1.82s/it]"
     ]
    },
    {
     "name": "stdout",
     "output_type": "stream",
     "text": [
      "Cmd('git') failed due to: exit code(128)\n",
      "  cmdline: git clone -v https://github.com/https://bitbucket.org/nguyenvo09/mrattractor-release repos/https://bitbucket.org/nguyenvo09/mrattractor-release\n",
      "  stderr: 'Cloning into 'repos/https://bitbucket.org/nguyenvo09/mrattractor-release'...\n",
      "remote: Not Found\n",
      "fatal: repository 'https://github.com/https://bitbucket.org/nguyenvo09/mrattractor-release/' not found\n",
      "'\n"
     ]
    },
    {
     "name": "stderr",
     "output_type": "stream",
     "text": [
      " 31%|███▏      | 14580/46292 [9:33:57<4:07:54,  2.13it/s]  "
     ]
    },
    {
     "name": "stdout",
     "output_type": "stream",
     "text": [
      "Cmd('git') failed due to: exit code(128)\n",
      "  cmdline: git clone -v https://github.com/https://zenodo.org/record/4475524 repos/https://zenodo.org/record/4475524\n",
      "  stderr: 'Cloning into 'repos/https://zenodo.org/record/4475524'...\n",
      "remote: Not Found\n",
      "fatal: repository 'https://github.com/https://zenodo.org/record/4475524/' not found\n",
      "'\n"
     ]
    },
    {
     "name": "stderr",
     "output_type": "stream",
     "text": [
      " 32%|███▏      | 14603/46292 [9:34:28<9:12:41,  1.05s/it] "
     ]
    },
    {
     "name": "stdout",
     "output_type": "stream",
     "text": [
      "Cmd('git') failed due to: exit code(128)\n",
      "  cmdline: git clone -v https://github.com/omallo/kaggle-whale repos/omallo/kaggle-whale\n",
      "  stderr: 'Cloning into 'repos/omallo/kaggle-whale'...\n",
      "fatal: could not read Username for 'https://github.com': No such device or address\n",
      "'\n"
     ]
    },
    {
     "name": "stderr",
     "output_type": "stream",
     "text": [
      " 32%|███▏      | 14672/46292 [9:36:26<8:35:11,  1.02it/s] "
     ]
    },
    {
     "name": "stdout",
     "output_type": "stream",
     "text": [
      "Cmd('git') failed due to: exit code(128)\n",
      "  cmdline: git clone -v https://github.com/ajovanov95/probabilistic-spiking-neural-networks repos/ajovanov95/probabilistic-spiking-neural-networks\n",
      "  stderr: 'Cloning into 'repos/ajovanov95/probabilistic-spiking-neural-networks'...\n",
      "fatal: could not read Username for 'https://github.com': No such device or address\n",
      "'\n"
     ]
    },
    {
     "name": "stderr",
     "output_type": "stream",
     "text": [
      " 32%|███▏      | 14726/46292 [9:37:43<3:24:30,  2.57it/s] "
     ]
    },
    {
     "name": "stdout",
     "output_type": "stream",
     "text": [
      "Cmd('git') failed due to: exit code(128)\n",
      "  cmdline: git clone -v https://github.com/abhinavsagar/gvae repos/abhinavsagar/gvae\n",
      "  stderr: 'Cloning into 'repos/abhinavsagar/gvae'...\n",
      "fatal: could not read Username for 'https://github.com': No such device or address\n",
      "'\n"
     ]
    },
    {
     "name": "stderr",
     "output_type": "stream",
     "text": [
      "\r",
      " 32%|███▏      | 14727/46292 [9:37:43<3:08:16,  2.79it/s]"
     ]
    },
    {
     "name": "stdout",
     "output_type": "stream",
     "text": [
      "Cmd('git') failed due to: exit code(128)\n",
      "  cmdline: git clone -v https://github.com/ICDM-Lab/hdgnn repos/ICDM-Lab/hdgnn\n",
      "  stderr: 'Cloning into 'repos/ICDM-Lab/hdgnn'...\n",
      "fatal: could not read Username for 'https://github.com': No such device or address\n",
      "'\n"
     ]
    },
    {
     "name": "stderr",
     "output_type": "stream",
     "text": [
      " 32%|███▏      | 14731/46292 [9:37:46<5:25:41,  1.62it/s]"
     ]
    },
    {
     "name": "stdout",
     "output_type": "stream",
     "text": [
      "Cmd('git') failed due to: exit code(128)\n",
      "  cmdline: git clone -v https://github.com/sherpaai/Sherpa.ai-Federated-Learning-Framework repos/sherpaai/Sherpa.ai-Federated-Learning-Framework\n",
      "  stderr: 'Cloning into 'repos/sherpaai/Sherpa.ai-Federated-Learning-Framework'...\n",
      "fatal: could not read Username for 'https://github.com': No such device or address\n",
      "'\n"
     ]
    },
    {
     "name": "stderr",
     "output_type": "stream",
     "text": [
      " 32%|███▏      | 14774/46292 [9:38:53<20:25:28,  2.33s/it]"
     ]
    },
    {
     "name": "stdout",
     "output_type": "stream",
     "text": [
      "Cmd('git') failed due to: exit code(128)\n",
      "  cmdline: git clone -v https://github.com/tomerGolany/sim_gan repos/tomerGolany/sim_gan\n",
      "  stderr: 'Cloning into 'repos/tomerGolany/sim_gan'...\n",
      "fatal: could not read Username for 'https://github.com': No such device or address\n",
      "'\n"
     ]
    },
    {
     "name": "stderr",
     "output_type": "stream",
     "text": [
      " 32%|███▏      | 14837/46292 [9:40:24<28:40:23,  3.28s/it]"
     ]
    },
    {
     "name": "stdout",
     "output_type": "stream",
     "text": [
      "Cmd('git') failed due to: exit code(128)\n",
      "  cmdline: git clone -v https://github.com/omallo/kaggle-whale repos/omallo/kaggle-whale\n",
      "  stderr: 'Cloning into 'repos/omallo/kaggle-whale'...\n",
      "fatal: could not read Username for 'https://github.com': No such device or address\n",
      "'\n"
     ]
    },
    {
     "name": "stderr",
     "output_type": "stream",
     "text": [
      " 32%|███▏      | 14903/46292 [9:42:49<16:57:53,  1.95s/it]"
     ]
    },
    {
     "name": "stdout",
     "output_type": "stream",
     "text": [
      "Cmd('git') failed due to: exit code(128)\n",
      "  cmdline: git clone -v https://github.com/LiangSiyuan21/Adversarial-Attacks-for-Image-and-Video-Object-Detection/tree/master/img_attack_with_attention repos/LiangSiyuan21/Adversarial-Attacks-for-Image-and-Video-Object-Detection/tree/master/img_attack_with_attention\n",
      "  stderr: 'Cloning into 'repos/LiangSiyuan21/Adversarial-Attacks-for-Image-and-Video-Object-Detection/tree/master/img_attack_with_attention'...\n",
      "fatal: repository 'https://github.com/LiangSiyuan21/Adversarial-Attacks-for-Image-and-Video-Object-Detection/tree/master/img_attack_with_attention/' not found\n",
      "'\n"
     ]
    },
    {
     "name": "stderr",
     "output_type": "stream",
     "text": [
      " 32%|███▏      | 15039/46292 [9:48:45<11:26:59,  1.32s/it] "
     ]
    },
    {
     "name": "stdout",
     "output_type": "stream",
     "text": [
      "Cmd('git') failed due to: exit code(128)\n",
      "  cmdline: git clone -v https://github.com/https://gitlab.idiap.ch/bob/bob.paper.icassp2021_morph repos/https://gitlab.idiap.ch/bob/bob.paper.icassp2021_morph\n",
      "  stderr: 'Cloning into 'repos/https://gitlab.idiap.ch/bob/bob.paper.icassp2021_morph'...\n",
      "remote: Not Found\n",
      "fatal: repository 'https://github.com/https://gitlab.idiap.ch/bob/bob.paper.icassp2021_morph/' not found\n",
      "'\n"
     ]
    },
    {
     "name": "stderr",
     "output_type": "stream",
     "text": [
      " 33%|███▎      | 15083/46292 [9:50:06<15:30:17,  1.79s/it]"
     ]
    },
    {
     "name": "stdout",
     "output_type": "stream",
     "text": [
      "Cmd('git') failed due to: exit code(128)\n",
      "  cmdline: git clone -v https://github.com/https://gitlab.com/daviddewhurst/stsb repos/https://gitlab.com/daviddewhurst/stsb\n",
      "  stderr: 'Cloning into 'repos/https://gitlab.com/daviddewhurst/stsb'...\n",
      "remote: Not Found\n",
      "fatal: repository 'https://github.com/https://gitlab.com/daviddewhurst/stsb/' not found\n",
      "'\n"
     ]
    },
    {
     "name": "stderr",
     "output_type": "stream",
     "text": [
      " 33%|███▎      | 15197/46292 [9:55:35<14:10:16,  1.64s/it] "
     ]
    },
    {
     "name": "stdout",
     "output_type": "stream",
     "text": [
      "Cmd('git') failed due to: exit code(128)\n",
      "  cmdline: git clone -v https://github.com/https://gitlab.com/bpaassen/tree_echo_state_autoencoders repos/https://gitlab.com/bpaassen/tree_echo_state_autoencoders\n",
      "  stderr: 'Cloning into 'repos/https://gitlab.com/bpaassen/tree_echo_state_autoencoders'...\n",
      "remote: Not Found\n",
      "fatal: repository 'https://github.com/https://gitlab.com/bpaassen/tree_echo_state_autoencoders/' not found\n",
      "'\n"
     ]
    },
    {
     "name": "stderr",
     "output_type": "stream",
     "text": [
      " 33%|███▎      | 15267/46292 [9:58:27<30:10:01,  3.50s/it] "
     ]
    },
    {
     "name": "stdout",
     "output_type": "stream",
     "text": [
      "Cmd('git') failed due to: exit code(128)\n",
      "  cmdline: git clone -v https://github.com/https://gitlab.com/haghdam/deep_active_learning repos/https://gitlab.com/haghdam/deep_active_learning\n",
      "  stderr: 'Cloning into 'repos/https://gitlab.com/haghdam/deep_active_learning'...\n",
      "remote: Not Found\n",
      "fatal: repository 'https://github.com/https://gitlab.com/haghdam/deep_active_learning/' not found\n",
      "'\n"
     ]
    },
    {
     "name": "stderr",
     "output_type": "stream",
     "text": [
      "\r",
      " 33%|███▎      | 15268/46292 [9:58:27<23:14:14,  2.70s/it]"
     ]
    },
    {
     "name": "stdout",
     "output_type": "stream",
     "text": [
      "Cmd('git') failed due to: exit code(128)\n",
      "  cmdline: git clone -v https://github.com/HuizhouLi/Constrained-R-CNN repos/HuizhouLi/Constrained-R-CNN\n",
      "  stderr: 'Cloning into 'repos/HuizhouLi/Constrained-R-CNN'...\n",
      "fatal: could not read Username for 'https://github.com': No such device or address\n",
      "'\n"
     ]
    },
    {
     "name": "stderr",
     "output_type": "stream",
     "text": [
      " 33%|███▎      | 15305/46292 [10:01:39<5:18:29,  1.62it/s]  "
     ]
    },
    {
     "name": "stdout",
     "output_type": "stream",
     "text": [
      "Cmd('git') failed due to: exit code(128)\n",
      "  cmdline: git clone -v https://github.com/IBM/OoD/tree/master/LRG_games repos/IBM/OoD/tree/master/LRG_games\n",
      "  stderr: 'Cloning into 'repos/IBM/OoD/tree/master/LRG_games'...\n",
      "fatal: repository 'https://github.com/IBM/OoD/tree/master/LRG_games/' not found\n",
      "'\n"
     ]
    },
    {
     "name": "stderr",
     "output_type": "stream",
     "text": [
      " 33%|███▎      | 15367/46292 [10:03:16<4:04:12,  2.11it/s] "
     ]
    },
    {
     "name": "stdout",
     "output_type": "stream",
     "text": [
      "Cmd('git') failed due to: exit code(128)\n",
      "  cmdline: git clone -v https://github.com/https://gitlab.com/MIPAN/mipan repos/https://gitlab.com/MIPAN/mipan\n",
      "  stderr: 'Cloning into 'repos/https://gitlab.com/MIPAN/mipan'...\n",
      "remote: Not Found\n",
      "fatal: repository 'https://github.com/https://gitlab.com/MIPAN/mipan/' not found\n",
      "'\n"
     ]
    },
    {
     "name": "stderr",
     "output_type": "stream",
     "text": [
      " 33%|███▎      | 15384/46292 [10:04:38<39:33:21,  4.61s/it]"
     ]
    },
    {
     "name": "stdout",
     "output_type": "stream",
     "text": [
      "Cmd('git') failed due to: exit code(128)\n",
      "  cmdline: git clone -v https://github.com/alibaba/EasyTransfer/tree/master/scripts/knowledge_distillation/adabert repos/alibaba/EasyTransfer/tree/master/scripts/knowledge_distillation/adabert\n",
      "  stderr: 'Cloning into 'repos/alibaba/EasyTransfer/tree/master/scripts/knowledge_distillation/adabert'...\n",
      "fatal: repository 'https://github.com/alibaba/EasyTransfer/tree/master/scripts/knowledge_distillation/adabert/' not found\n",
      "'\n"
     ]
    },
    {
     "name": "stderr",
     "output_type": "stream",
     "text": [
      " 33%|███▎      | 15467/46292 [10:10:36<25:06:22,  2.93s/it] "
     ]
    },
    {
     "name": "stdout",
     "output_type": "stream",
     "text": [
      "Cmd('git') failed due to: exit code(128)\n",
      "  cmdline: git clone -v https://github.com/https://gitlab.com/textpatrol/gp-tp-experiment repos/https://gitlab.com/textpatrol/gp-tp-experiment\n",
      "  stderr: 'Cloning into 'repos/https://gitlab.com/textpatrol/gp-tp-experiment'...\n",
      "remote: Not Found\n",
      "fatal: repository 'https://github.com/https://gitlab.com/textpatrol/gp-tp-experiment/' not found\n",
      "'\n"
     ]
    },
    {
     "name": "stderr",
     "output_type": "stream",
     "text": [
      " 33%|███▎      | 15486/46292 [10:11:05<7:38:17,  1.12it/s] "
     ]
    },
    {
     "name": "stdout",
     "output_type": "stream",
     "text": [
      "Cmd('git') failed due to: exit code(128)\n",
      "  cmdline: git clone -v https://github.com/lab-ml/nn/tree/master/labml_nn/transformers/xl repos/lab-ml/nn/tree/master/labml_nn/transformers/xl\n",
      "  stderr: 'Cloning into 'repos/lab-ml/nn/tree/master/labml_nn/transformers/xl'...\n",
      "fatal: repository 'https://github.com/lab-ml/nn/tree/master/labml_nn/transformers/xl/' not found\n",
      "'\n"
     ]
    },
    {
     "name": "stderr",
     "output_type": "stream",
     "text": [
      " 34%|███▎      | 15562/46292 [10:14:14<14:00:08,  1.64s/it] "
     ]
    },
    {
     "name": "stdout",
     "output_type": "stream",
     "text": [
      "Cmd('git') failed due to: exit code(128)\n",
      "  cmdline: git clone -v https://github.com/https://bitbucket.org/ceadarireland/deeplearningattheshallowend repos/https://bitbucket.org/ceadarireland/deeplearningattheshallowend\n",
      "  stderr: 'Cloning into 'repos/https://bitbucket.org/ceadarireland/deeplearningattheshallowend'...\n",
      "remote: Not Found\n",
      "fatal: repository 'https://github.com/https://bitbucket.org/ceadarireland/deeplearningattheshallowend/' not found\n",
      "'\n"
     ]
    },
    {
     "name": "stderr",
     "output_type": "stream",
     "text": [
      " 34%|███▎      | 15569/46292 [10:14:23<8:29:35,  1.00it/s] "
     ]
    },
    {
     "name": "stdout",
     "output_type": "stream",
     "text": [
      "Cmd('git') failed due to: exit code(128)\n",
      "  cmdline: git clone -v https://github.com/https://gitlab.com/smanicka/BEN repos/https://gitlab.com/smanicka/BEN\n",
      "  stderr: 'Cloning into 'repos/https://gitlab.com/smanicka/BEN'...\n",
      "remote: Not Found\n",
      "fatal: repository 'https://github.com/https://gitlab.com/smanicka/BEN/' not found\n",
      "'\n"
     ]
    },
    {
     "name": "stderr",
     "output_type": "stream",
     "text": [
      " 34%|███▎      | 15577/46292 [10:14:34<11:48:17,  1.38s/it]"
     ]
    },
    {
     "name": "stdout",
     "output_type": "stream",
     "text": [
      "Cmd('git') failed due to: exit code(128)\n",
      "  cmdline: git clone -v https://github.com/https://bitbucket.org/aauvap/aau-rainsnow-eval repos/https://bitbucket.org/aauvap/aau-rainsnow-eval\n",
      "  stderr: 'Cloning into 'repos/https://bitbucket.org/aauvap/aau-rainsnow-eval'...\n",
      "remote: Not Found\n",
      "fatal: repository 'https://github.com/https://bitbucket.org/aauvap/aau-rainsnow-eval/' not found\n",
      "'\n"
     ]
    },
    {
     "name": "stderr",
     "output_type": "stream",
     "text": [
      " 34%|███▎      | 15580/46292 [10:14:39<11:37:57,  1.36s/it]"
     ]
    },
    {
     "name": "stdout",
     "output_type": "stream",
     "text": [
      "Cmd('git') failed due to: exit code(128)\n",
      "  cmdline: git clone -v https://github.com/https://bitbucket.org/twilp/twilp repos/https://bitbucket.org/twilp/twilp\n",
      "  stderr: 'Cloning into 'repos/https://bitbucket.org/twilp/twilp'...\n",
      "remote: Not Found\n",
      "fatal: repository 'https://github.com/https://bitbucket.org/twilp/twilp/' not found\n",
      "'\n"
     ]
    },
    {
     "name": "stderr",
     "output_type": "stream",
     "text": [
      " 34%|███▎      | 15590/46292 [10:14:59<12:36:27,  1.48s/it]"
     ]
    },
    {
     "name": "stdout",
     "output_type": "stream",
     "text": [
      "Cmd('git') failed due to: exit code(128)\n",
      "  cmdline: git clone -v https://github.com/https://bitbucket.org/junaraki/coling2018-event repos/https://bitbucket.org/junaraki/coling2018-event\n",
      "  stderr: 'Cloning into 'repos/https://bitbucket.org/junaraki/coling2018-event'...\n",
      "remote: Not Found\n",
      "fatal: repository 'https://github.com/https://bitbucket.org/junaraki/coling2018-event/' not found\n",
      "'\n"
     ]
    },
    {
     "name": "stderr",
     "output_type": "stream",
     "text": [
      " 34%|███▎      | 15615/46292 [10:17:06<18:04:41,  2.12s/it] "
     ]
    },
    {
     "name": "stdout",
     "output_type": "stream",
     "text": [
      "Cmd('git') failed due to: exit code(128)\n",
      "  cmdline: git clone -v https://github.com/https://bitbucket.org/cltl/isrl-sp repos/https://bitbucket.org/cltl/isrl-sp\n",
      "  stderr: 'Cloning into 'repos/https://bitbucket.org/cltl/isrl-sp'...\n",
      "remote: Not Found\n",
      "fatal: repository 'https://github.com/https://bitbucket.org/cltl/isrl-sp/' not found\n",
      "'\n"
     ]
    },
    {
     "name": "stderr",
     "output_type": "stream",
     "text": [
      "\r",
      " 34%|███▎      | 15616/46292 [10:17:07<13:48:26,  1.62s/it]"
     ]
    },
    {
     "name": "stdout",
     "output_type": "stream",
     "text": [
      "Cmd('git') failed due to: exit code(128)\n",
      "  cmdline: git clone -v https://github.com/https://gitlab.com/madrugado/robust-w2v repos/https://gitlab.com/madrugado/robust-w2v\n",
      "  stderr: 'Cloning into 'repos/https://gitlab.com/madrugado/robust-w2v'...\n",
      "remote: Not Found\n",
      "fatal: repository 'https://github.com/https://gitlab.com/madrugado/robust-w2v/' not found\n",
      "'\n"
     ]
    },
    {
     "name": "stderr",
     "output_type": "stream",
     "text": [
      " 34%|███▎      | 15622/46292 [10:17:35<24:38:45,  2.89s/it]"
     ]
    },
    {
     "name": "stdout",
     "output_type": "stream",
     "text": [
      "Cmd('git') failed due to: exit code(128)\n",
      "  cmdline: git clone -v https://github.com/https://gitlab.com/bootstrapcollaboration/spectrum-extraction repos/https://gitlab.com/bootstrapcollaboration/spectrum-extraction\n",
      "  stderr: 'Cloning into 'repos/https://gitlab.com/bootstrapcollaboration/spectrum-extraction'...\n",
      "remote: Not Found\n",
      "fatal: repository 'https://github.com/https://gitlab.com/bootstrapcollaboration/spectrum-extraction/' not found\n",
      "'\n"
     ]
    },
    {
     "name": "stderr",
     "output_type": "stream",
     "text": [
      " 34%|███▍      | 15662/46292 [10:18:18<3:33:12,  2.39it/s] "
     ]
    },
    {
     "name": "stdout",
     "output_type": "stream",
     "text": [
      "Cmd('git') failed due to: exit code(128)\n",
      "  cmdline: git clone -v https://github.com/HEEJOWOO/DRCN repos/HEEJOWOO/DRCN\n",
      "  stderr: 'Cloning into 'repos/HEEJOWOO/DRCN'...\n",
      "fatal: could not read Username for 'https://github.com': No such device or address\n",
      "'\n"
     ]
    },
    {
     "name": "stderr",
     "output_type": "stream",
     "text": [
      " 34%|███▍      | 15700/46292 [10:19:32<7:44:21,  1.10it/s] "
     ]
    },
    {
     "name": "stdout",
     "output_type": "stream",
     "text": [
      "Cmd('git') failed due to: exit code(128)\n",
      "  cmdline: git clone -v https://github.com/https://gitlab.com/georgy.m/semopy repos/https://gitlab.com/georgy.m/semopy\n",
      "  stderr: 'Cloning into 'repos/https://gitlab.com/georgy.m/semopy'...\n",
      "remote: Not Found\n",
      "fatal: repository 'https://github.com/https://gitlab.com/georgy.m/semopy/' not found\n",
      "'\n"
     ]
    },
    {
     "name": "stderr",
     "output_type": "stream",
     "text": [
      " 34%|███▍      | 15707/46292 [10:19:42<6:34:05,  1.29it/s] "
     ]
    },
    {
     "name": "stdout",
     "output_type": "stream",
     "text": [
      "Cmd('git') failed due to: exit code(128)\n",
      "  cmdline: git clone -v https://github.com/peezoslug/gh-pr-checkout-387 repos/peezoslug/gh-pr-checkout-387\n",
      "  stderr: 'Cloning into 'repos/peezoslug/gh-pr-checkout-387'...\n",
      "fatal: could not read Username for 'https://github.com': No such device or address\n",
      "'\n"
     ]
    },
    {
     "name": "stderr",
     "output_type": "stream",
     "text": [
      " 34%|███▍      | 15726/46292 [10:20:11<15:05:56,  1.78s/it]"
     ]
    },
    {
     "name": "stdout",
     "output_type": "stream",
     "text": [
      "Cmd('git') failed due to: exit code(128)\n",
      "  cmdline: git clone -v https://github.com/Kavyapriyakp/PULSE-Self-Supervised-Photo-Upsampling-via-Latent-Space-Exploration-of-Generative-Models repos/Kavyapriyakp/PULSE-Self-Supervised-Photo-Upsampling-via-Latent-Space-Exploration-of-Generative-Models\n",
      "  stderr: 'Cloning into 'repos/Kavyapriyakp/PULSE-Self-Supervised-Photo-Upsampling-via-Latent-Space-Exploration-of-Generative-Models'...\n",
      "fatal: could not read Username for 'https://github.com': No such device or address\n",
      "'\n"
     ]
    },
    {
     "name": "stderr",
     "output_type": "stream",
     "text": [
      " 34%|███▍      | 15827/46292 [10:24:13<6:47:47,  1.25it/s] "
     ]
    },
    {
     "name": "stdout",
     "output_type": "stream",
     "text": [
      "Cmd('git') failed due to: exit code(128)\n",
      "  cmdline: git clone -v https://github.com/https://gitlab.com/thibaut.verron/signature-groebner-rings repos/https://gitlab.com/thibaut.verron/signature-groebner-rings\n",
      "  stderr: 'Cloning into 'repos/https://gitlab.com/thibaut.verron/signature-groebner-rings'...\n",
      "remote: Not Found\n",
      "fatal: repository 'https://github.com/https://gitlab.com/thibaut.verron/signature-groebner-rings/' not found\n",
      "'\n"
     ]
    },
    {
     "name": "stderr",
     "output_type": "stream",
     "text": [
      " 34%|███▍      | 15846/46292 [10:25:05<7:12:10,  1.17it/s] "
     ]
    },
    {
     "name": "stdout",
     "output_type": "stream",
     "text": [
      "Cmd('git') failed due to: exit code(128)\n",
      "  cmdline: git clone -v https://github.com/wyfish/cnn-explainer repos/wyfish/cnn-explainer\n",
      "  stderr: 'Cloning into 'repos/wyfish/cnn-explainer'...\n",
      "fatal: could not read Username for 'https://github.com': No such device or address\n",
      "'\n"
     ]
    },
    {
     "name": "stderr",
     "output_type": "stream",
     "text": [
      " 34%|███▍      | 15889/46292 [10:27:37<70:04:33,  8.30s/it]"
     ]
    },
    {
     "name": "stdout",
     "output_type": "stream",
     "text": [
      "Cmd('git') failed due to: exit code(128)\n",
      "  cmdline: git clone -v https://github.com/saic-vul/visda2019 repos/saic-vul/visda2019\n",
      "  stderr: 'Cloning into 'repos/saic-vul/visda2019'...\n",
      "fatal: could not read Username for 'https://github.com': No such device or address\n",
      "'\n"
     ]
    },
    {
     "name": "stderr",
     "output_type": "stream",
     "text": [
      " 34%|███▍      | 15950/46292 [10:29:17<18:37:15,  2.21s/it]"
     ]
    },
    {
     "name": "stdout",
     "output_type": "stream",
     "text": [
      "Cmd('git') failed due to: exit code(128)\n",
      "  cmdline: git clone -v https://github.com/https://gitlab.com/joaosreis/tezla repos/https://gitlab.com/joaosreis/tezla\n",
      "  stderr: 'Cloning into 'repos/https://gitlab.com/joaosreis/tezla'...\n",
      "remote: Not Found\n",
      "fatal: repository 'https://github.com/https://gitlab.com/joaosreis/tezla/' not found\n",
      "'\n"
     ]
    },
    {
     "name": "stderr",
     "output_type": "stream",
     "text": [
      " 35%|███▍      | 16009/46292 [10:30:39<6:31:01,  1.29it/s] "
     ]
    },
    {
     "name": "stdout",
     "output_type": "stream",
     "text": [
      "Cmd('git') failed due to: exit code(128)\n",
      "  cmdline: git clone -v https://github.com/shishamoid/stargan_hair repos/shishamoid/stargan_hair\n",
      "  stderr: 'Cloning into 'repos/shishamoid/stargan_hair'...\n",
      "fatal: could not read Username for 'https://github.com': No such device or address\n",
      "'\n"
     ]
    },
    {
     "name": "stderr",
     "output_type": "stream",
     "text": [
      " 35%|███▍      | 16015/46292 [10:30:44<5:36:22,  1.50it/s]"
     ]
    },
    {
     "name": "stdout",
     "output_type": "stream",
     "text": [
      "Cmd('git') failed due to: exit code(128)\n",
      "  cmdline: git clone -v https://github.com/vkukutla/EMO-Text-Classification repos/vkukutla/EMO-Text-Classification\n",
      "  stderr: 'Cloning into 'repos/vkukutla/EMO-Text-Classification'...\n",
      "fatal: could not read Username for 'https://github.com': No such device or address\n",
      "'\n"
     ]
    },
    {
     "name": "stderr",
     "output_type": "stream",
     "text": [
      " 35%|███▍      | 16021/46292 [10:30:57<12:53:50,  1.53s/it]"
     ]
    },
    {
     "name": "stdout",
     "output_type": "stream",
     "text": [
      "Cmd('git') failed due to: exit code(128)\n",
      "  cmdline: git clone -v https://github.com/TinkerTools/tinker-hp/blob/master/GPU/ repos/TinkerTools/tinker-hp/blob/master/GPU/\n",
      "  stderr: 'Cloning into 'repos/TinkerTools/tinker-hp/blob/master/GPU'...\n",
      "fatal: repository 'https://github.com/TinkerTools/tinker-hp/blob/master/GPU/' not found\n",
      "'\n"
     ]
    },
    {
     "name": "stderr",
     "output_type": "stream",
     "text": [
      " 35%|███▍      | 16125/46292 [10:34:06<11:34:03,  1.38s/it]"
     ]
    },
    {
     "name": "stdout",
     "output_type": "stream",
     "text": [
      "Cmd('git') failed due to: exit code(128)\n",
      "  cmdline: git clone -v https://github.com/guillaumehu/lifted_MCMC repos/guillaumehu/lifted_MCMC\n",
      "  stderr: 'Cloning into 'repos/guillaumehu/lifted_MCMC'...\n",
      "fatal: could not read Username for 'https://github.com': No such device or address\n",
      "'\n"
     ]
    },
    {
     "name": "stderr",
     "output_type": "stream",
     "text": [
      " 35%|███▍      | 16137/46292 [10:34:44<22:51:25,  2.73s/it]"
     ]
    },
    {
     "name": "stdout",
     "output_type": "stream",
     "text": [
      "Cmd('git') failed due to: exit code(128)\n",
      "  cmdline: git clone -v https://github.com/rubabredwan/CycleGAN repos/rubabredwan/CycleGAN\n",
      "  stderr: 'Cloning into 'repos/rubabredwan/CycleGAN'...\n",
      "fatal: could not read Username for 'https://github.com': No such device or address\n",
      "'\n"
     ]
    },
    {
     "name": "stderr",
     "output_type": "stream",
     "text": [
      " 35%|███▍      | 16163/46292 [10:35:30<7:15:17,  1.15it/s] "
     ]
    },
    {
     "name": "stdout",
     "output_type": "stream",
     "text": [
      "Cmd('git') failed due to: exit code(128)\n",
      "  cmdline: git clone -v https://github.com/facebookresearch/detectron2/tree/master/projects/Panoptic-DeepLab repos/facebookresearch/detectron2/tree/master/projects/Panoptic-DeepLab\n",
      "  stderr: 'Cloning into 'repos/facebookresearch/detectron2/tree/master/projects/Panoptic-DeepLab'...\n",
      "remote: Please upgrade your git client.\n",
      "remote: GitHub.com no longer supports git over dumb-http: https://github.com/blog/809-git-dumb-http-transport-to-be-turned-off-in-90-days\n",
      "fatal: unable to access 'https://github.com/facebookresearch/detectron2/tree/master/projects/Panoptic-DeepLab/': The requested URL returned error: 403\n",
      "'\n"
     ]
    },
    {
     "name": "stderr",
     "output_type": "stream",
     "text": [
      " 35%|███▍      | 16180/46292 [10:35:46<4:57:08,  1.69it/s] "
     ]
    },
    {
     "name": "stdout",
     "output_type": "stream",
     "text": [
      "Cmd('git') failed due to: exit code(128)\n",
      "  cmdline: git clone -v https://github.com/wuguoning/DNN-Denoising repos/wuguoning/DNN-Denoising\n",
      "  stderr: 'Cloning into 'repos/wuguoning/DNN-Denoising'...\n",
      "fatal: could not read Username for 'https://github.com': No such device or address\n",
      "'\n"
     ]
    },
    {
     "name": "stderr",
     "output_type": "stream",
     "text": [
      " 35%|███▌      | 16264/46292 [10:37:34<4:18:00,  1.94it/s] "
     ]
    },
    {
     "name": "stdout",
     "output_type": "stream",
     "text": [
      "Cmd('git') failed due to: exit code(128)\n",
      "  cmdline: git clone -v https://github.com/YHPK/LG_SMILES_competition repos/YHPK/LG_SMILES_competition\n",
      "  stderr: 'Cloning into 'repos/YHPK/LG_SMILES_competition'...\n",
      "fatal: could not read Username for 'https://github.com': No such device or address\n",
      "'\n"
     ]
    },
    {
     "name": "stderr",
     "output_type": "stream",
     "text": [
      " 35%|███▌      | 16272/46292 [10:37:54<20:15:42,  2.43s/it]"
     ]
    },
    {
     "name": "stdout",
     "output_type": "stream",
     "text": [
      "Cmd('git') failed due to: exit code(128)\n",
      "  cmdline: git clone -v https://github.com/tensorflow/models/tree/master/research/lstm_object_detection repos/tensorflow/models/tree/master/research/lstm_object_detection\n",
      "  stderr: 'Cloning into 'repos/tensorflow/models/tree/master/research/lstm_object_detection'...\n",
      "fatal: repository 'https://github.com/tensorflow/models/tree/master/research/lstm_object_detection/' not found\n",
      "'\n"
     ]
    },
    {
     "name": "stderr",
     "output_type": "stream",
     "text": [
      " 35%|███▌      | 16278/46292 [10:37:56<6:56:58,  1.20it/s] "
     ]
    },
    {
     "name": "stdout",
     "output_type": "stream",
     "text": [
      "Cmd('git') failed due to: exit code(128)\n",
      "  cmdline: git clone -v https://github.com/konopczynski/HandyDL repos/konopczynski/HandyDL\n",
      "  stderr: 'Cloning into 'repos/konopczynski/HandyDL'...\n",
      "fatal: could not read Username for 'https://github.com': No such device or address\n",
      "'\n"
     ]
    },
    {
     "name": "stderr",
     "output_type": "stream",
     "text": [
      " 35%|███▌      | 16302/46292 [10:39:23<18:31:20,  2.22s/it] "
     ]
    },
    {
     "name": "stdout",
     "output_type": "stream",
     "text": [
      "Cmd('git') failed due to: exit code(128)\n",
      "  cmdline: git clone -v https://github.com/MonsterMoriarty/My-pix2pixTensorflow repos/MonsterMoriarty/My-pix2pixTensorflow\n",
      "  stderr: 'Cloning into 'repos/MonsterMoriarty/My-pix2pixTensorflow'...\n",
      "fatal: could not read Username for 'https://github.com': No such device or address\n",
      "'\n"
     ]
    },
    {
     "name": "stderr",
     "output_type": "stream",
     "text": [
      " 35%|███▌      | 16373/46292 [10:41:11<12:07:08,  1.46s/it]"
     ]
    },
    {
     "name": "stdout",
     "output_type": "stream",
     "text": [
      "Cmd('git') failed due to: exit code(128)\n",
      "  cmdline: git clone -v https://github.com/tensorflow/models/tree/master/research/cognitive_planning repos/tensorflow/models/tree/master/research/cognitive_planning\n",
      "  stderr: 'Cloning into 'repos/tensorflow/models/tree/master/research/cognitive_planning'...\n",
      "fatal: repository 'https://github.com/tensorflow/models/tree/master/research/cognitive_planning/' not found\n",
      "'\n"
     ]
    },
    {
     "name": "stderr",
     "output_type": "stream",
     "text": [
      " 35%|███▌      | 16380/46292 [10:41:15<6:40:49,  1.24it/s] "
     ]
    },
    {
     "name": "stdout",
     "output_type": "stream",
     "text": [
      "Cmd('git') failed due to: exit code(128)\n",
      "  cmdline: git clone -v https://github.com/https://gitlab.com/bootstrapcollaboration/spectrum-extraction repos/https://gitlab.com/bootstrapcollaboration/spectrum-extraction\n",
      "  stderr: 'Cloning into 'repos/https://gitlab.com/bootstrapcollaboration/spectrum-extraction'...\n",
      "remote: Not Found\n",
      "fatal: repository 'https://github.com/https://gitlab.com/bootstrapcollaboration/spectrum-extraction/' not found\n",
      "'\n"
     ]
    },
    {
     "name": "stderr",
     "output_type": "stream",
     "text": [
      " 36%|███▌      | 16471/46292 [10:42:33<6:00:39,  1.38it/s] "
     ]
    },
    {
     "name": "stdout",
     "output_type": "stream",
     "text": [
      "Cmd('git') failed due to: exit code(128)\n",
      "  cmdline: git clone -v https://github.com/https://bitbucket.org/jhhuggins/pass-glm repos/https://bitbucket.org/jhhuggins/pass-glm\n",
      "  stderr: 'Cloning into 'repos/https://bitbucket.org/jhhuggins/pass-glm'...\n",
      "remote: Not Found\n",
      "fatal: repository 'https://github.com/https://bitbucket.org/jhhuggins/pass-glm/' not found\n",
      "'\n"
     ]
    },
    {
     "name": "stderr",
     "output_type": "stream",
     "text": [
      " 36%|███▌      | 16476/46292 [10:42:34<2:47:52,  2.96it/s]"
     ]
    },
    {
     "name": "stdout",
     "output_type": "stream",
     "text": [
      "Cmd('git') failed due to: exit code(128)\n",
      "  cmdline: git clone -v https://github.com/saic-vul/visda2019 repos/saic-vul/visda2019\n",
      "  stderr: 'Cloning into 'repos/saic-vul/visda2019'...\n",
      "fatal: could not read Username for 'https://github.com': No such device or address\n",
      "'\n"
     ]
    },
    {
     "name": "stderr",
     "output_type": "stream",
     "text": [
      " 36%|███▌      | 16557/46292 [10:45:28<7:14:41,  1.14it/s] "
     ]
    },
    {
     "name": "stdout",
     "output_type": "stream",
     "text": [
      "Cmd('git') failed due to: exit code(128)\n",
      "  cmdline: git clone -v https://github.com/JGalego/qcm-task4 repos/JGalego/qcm-task4\n",
      "  stderr: 'Cloning into 'repos/JGalego/qcm-task4'...\n",
      "fatal: could not read Username for 'https://github.com': No such device or address\n",
      "'\n"
     ]
    },
    {
     "name": "stderr",
     "output_type": "stream",
     "text": [
      "\r",
      " 36%|███▌      | 16558/46292 [10:45:28<5:47:54,  1.42it/s]"
     ]
    },
    {
     "name": "stdout",
     "output_type": "stream",
     "text": [
      "Cmd('git') failed due to: exit code(128)\n",
      "  cmdline: git clone -v https://github.com/JGalego/qcm-task4 repos/JGalego/qcm-task4\n",
      "  stderr: 'Cloning into 'repos/JGalego/qcm-task4'...\n",
      "fatal: could not read Username for 'https://github.com': No such device or address\n",
      "'\n"
     ]
    },
    {
     "name": "stderr",
     "output_type": "stream",
     "text": [
      "\r",
      " 36%|███▌      | 16559/46292 [10:45:28<4:49:07,  1.71it/s]"
     ]
    },
    {
     "name": "stdout",
     "output_type": "stream",
     "text": [
      "Cmd('git') failed due to: exit code(128)\n",
      "  cmdline: git clone -v https://github.com/https://bitbucket.org/mvihola/unbiased-mlmc repos/https://bitbucket.org/mvihola/unbiased-mlmc\n",
      "  stderr: 'Cloning into 'repos/https://bitbucket.org/mvihola/unbiased-mlmc'...\n",
      "remote: Not Found\n",
      "fatal: repository 'https://github.com/https://bitbucket.org/mvihola/unbiased-mlmc/' not found\n",
      "'\n"
     ]
    },
    {
     "name": "stderr",
     "output_type": "stream",
     "text": [
      " 36%|███▌      | 16571/46292 [10:46:14<35:40:45,  4.32s/it]"
     ]
    },
    {
     "name": "stdout",
     "output_type": "stream",
     "text": [
      "Cmd('git') failed due to: exit code(128)\n",
      "  cmdline: git clone -v https://github.com/D-X-Y/AutoDL-Projects/blob/master/docs/NATS-Bench.md repos/D-X-Y/AutoDL-Projects/blob/master/docs/NATS-Bench.md\n",
      "  stderr: 'Cloning into 'repos/D-X-Y/AutoDL-Projects/blob/master/docs/NATS-Bench.md'...\n",
      "remote: Please upgrade your git client.\n",
      "remote: GitHub.com no longer supports git over dumb-http: https://github.com/blog/809-git-dumb-http-transport-to-be-turned-off-in-90-days\n",
      "fatal: unable to access 'https://github.com/D-X-Y/AutoDL-Projects/blob/master/docs/NATS-Bench.md/': The requested URL returned error: 403\n",
      "'\n"
     ]
    },
    {
     "name": "stderr",
     "output_type": "stream",
     "text": [
      " 36%|███▌      | 16580/46292 [10:46:26<10:27:23,  1.27s/it]"
     ]
    },
    {
     "name": "stdout",
     "output_type": "stream",
     "text": [
      "Cmd('git') failed due to: exit code(128)\n",
      "  cmdline: git clone -v https://github.com/JGalego/qcm-task4 repos/JGalego/qcm-task4\n",
      "  stderr: 'Cloning into 'repos/JGalego/qcm-task4'...\n",
      "fatal: could not read Username for 'https://github.com': No such device or address\n",
      "'\n"
     ]
    },
    {
     "name": "stderr",
     "output_type": "stream",
     "text": [
      " 36%|███▌      | 16630/46292 [10:49:08<13:25:30,  1.63s/it] "
     ]
    },
    {
     "name": "stdout",
     "output_type": "stream",
     "text": [
      "Cmd('git') failed due to: exit code(128)\n",
      "  cmdline: git clone -v https://github.com/jakegrigsby/deep_control/blob/master/deep_control/grac.py repos/jakegrigsby/deep_control/blob/master/deep_control/grac.py\n",
      "  stderr: 'Cloning into 'repos/jakegrigsby/deep_control/blob/master/deep_control/grac.py'...\n",
      "fatal: repository 'https://github.com/jakegrigsby/deep_control/blob/master/deep_control/grac.py/' not found\n",
      "'\n"
     ]
    },
    {
     "name": "stderr",
     "output_type": "stream",
     "text": [
      " 36%|███▌      | 16658/46292 [10:49:21<2:23:02,  3.45it/s] "
     ]
    },
    {
     "name": "stdout",
     "output_type": "stream",
     "text": [
      "Cmd('git') failed due to: exit code(128)\n",
      "  cmdline: git clone -v https://github.com/https://bitbucket.org/krismaz/pace2018 repos/https://bitbucket.org/krismaz/pace2018\n",
      "  stderr: 'Cloning into 'repos/https://bitbucket.org/krismaz/pace2018'...\n",
      "remote: Not Found\n",
      "fatal: repository 'https://github.com/https://bitbucket.org/krismaz/pace2018/' not found\n",
      "'\n"
     ]
    },
    {
     "name": "stderr",
     "output_type": "stream",
     "text": [
      " 36%|███▌      | 16678/46292 [10:50:04<9:54:54,  1.21s/it] "
     ]
    },
    {
     "name": "stdout",
     "output_type": "stream",
     "text": [
      "Cmd('git') failed due to: exit code(128)\n",
      "  cmdline: git clone -v https://github.com/Lornatang/DKW_SRGAN-PyTorch repos/Lornatang/DKW_SRGAN-PyTorch\n",
      "  stderr: 'Cloning into 'repos/Lornatang/DKW_SRGAN-PyTorch'...\n",
      "fatal: could not read Username for 'https://github.com': No such device or address\n",
      "'\n"
     ]
    },
    {
     "name": "stderr",
     "output_type": "stream",
     "text": [
      " 36%|███▌      | 16680/46292 [10:50:05<6:57:30,  1.18it/s]"
     ]
    },
    {
     "name": "stdout",
     "output_type": "stream",
     "text": [
      "Cmd('git') failed due to: exit code(128)\n",
      "  cmdline: git clone -v https://github.com/https://gitlab.com/eduardo-vitral/balrogo repos/https://gitlab.com/eduardo-vitral/balrogo\n",
      "  stderr: 'Cloning into 'repos/https://gitlab.com/eduardo-vitral/balrogo'...\n",
      "remote: Not Found\n",
      "fatal: repository 'https://github.com/https://gitlab.com/eduardo-vitral/balrogo/' not found\n",
      "'\n"
     ]
    },
    {
     "name": "stderr",
     "output_type": "stream",
     "text": [
      " 36%|███▌      | 16687/46292 [10:50:08<4:05:17,  2.01it/s]"
     ]
    },
    {
     "name": "stdout",
     "output_type": "stream",
     "text": [
      "Cmd('git') failed due to: exit code(128)\n",
      "  cmdline: git clone -v https://github.com/https://gitlab.com/thibaut.verron/signature-groebner-rings repos/https://gitlab.com/thibaut.verron/signature-groebner-rings\n",
      "  stderr: 'Cloning into 'repos/https://gitlab.com/thibaut.verron/signature-groebner-rings'...\n",
      "remote: Not Found\n",
      "fatal: repository 'https://github.com/https://gitlab.com/thibaut.verron/signature-groebner-rings/' not found\n",
      "'\n"
     ]
    },
    {
     "name": "stderr",
     "output_type": "stream",
     "text": [
      " 36%|███▌      | 16695/46292 [10:50:13<4:18:12,  1.91it/s]"
     ]
    },
    {
     "name": "stdout",
     "output_type": "stream",
     "text": [
      "Cmd('git') failed due to: exit code(128)\n",
      "  cmdline: git clone -v https://github.com/https://gitlab.inria.fr/ronfard/openkinoai repos/https://gitlab.inria.fr/ronfard/openkinoai\n",
      "  stderr: 'Cloning into 'repos/https://gitlab.inria.fr/ronfard/openkinoai'...\n",
      "remote: Not Found\n",
      "fatal: repository 'https://github.com/https://gitlab.inria.fr/ronfard/openkinoai/' not found\n",
      "'\n"
     ]
    },
    {
     "name": "stderr",
     "output_type": "stream",
     "text": [
      " 36%|███▌      | 16710/46292 [10:50:29<5:36:18,  1.47it/s] "
     ]
    },
    {
     "name": "stdout",
     "output_type": "stream",
     "text": [
      "Cmd('git') failed due to: exit code(128)\n",
      "  cmdline: git clone -v https://github.com/Psyche-mia/Avatar-GAN repos/Psyche-mia/Avatar-GAN\n",
      "  stderr: 'Cloning into 'repos/Psyche-mia/Avatar-GAN'...\n",
      "fatal: could not read Username for 'https://github.com': No such device or address\n",
      "'\n"
     ]
    },
    {
     "name": "stderr",
     "output_type": "stream",
     "text": [
      " 36%|███▌      | 16713/46292 [10:50:37<11:39:10,  1.42s/it]"
     ]
    },
    {
     "name": "stdout",
     "output_type": "stream",
     "text": [
      "Cmd('git') failed due to: exit code(128)\n",
      "  cmdline: git clone -v https://github.com/https://bitbucket.org/loghind/eigfem-homogenisation repos/https://bitbucket.org/loghind/eigfem-homogenisation\n",
      "  stderr: 'Cloning into 'repos/https://bitbucket.org/loghind/eigfem-homogenisation'...\n",
      "remote: Not Found\n",
      "fatal: repository 'https://github.com/https://bitbucket.org/loghind/eigfem-homogenisation/' not found\n",
      "'\n"
     ]
    },
    {
     "name": "stderr",
     "output_type": "stream",
     "text": [
      " 36%|███▌      | 16730/46292 [10:51:08<6:39:57,  1.23it/s] "
     ]
    },
    {
     "name": "stdout",
     "output_type": "stream",
     "text": [
      "Cmd('git') failed due to: exit code(128)\n",
      "  cmdline: git clone -v https://github.com/saic-vul/visda2019 repos/saic-vul/visda2019\n",
      "  stderr: 'Cloning into 'repos/saic-vul/visda2019'...\n",
      "fatal: could not read Username for 'https://github.com': No such device or address\n",
      "'\n"
     ]
    },
    {
     "name": "stderr",
     "output_type": "stream",
     "text": [
      " 36%|███▌      | 16766/46292 [10:51:56<8:37:05,  1.05s/it] "
     ]
    },
    {
     "name": "stdout",
     "output_type": "stream",
     "text": [
      "Cmd('git') failed due to: exit code(128)\n",
      "  cmdline: git clone -v https://github.com/tensorflow/models/tree/master/research/delf repos/tensorflow/models/tree/master/research/delf\n",
      "  stderr: 'Cloning into 'repos/tensorflow/models/tree/master/research/delf'...\n",
      "fatal: repository 'https://github.com/tensorflow/models/tree/master/research/delf/' not found\n",
      "'\n"
     ]
    },
    {
     "name": "stderr",
     "output_type": "stream",
     "text": [
      "\r",
      " 36%|███▌      | 16767/46292 [10:51:57<7:29:26,  1.09it/s]"
     ]
    },
    {
     "name": "stdout",
     "output_type": "stream",
     "text": [
      "Cmd('git') failed due to: exit code(128)\n",
      "  cmdline: git clone -v https://github.com/tensorflow/models/tree/master/research/delf repos/tensorflow/models/tree/master/research/delf\n",
      "  stderr: 'Cloning into 'repos/tensorflow/models/tree/master/research/delf'...\n",
      "fatal: repository 'https://github.com/tensorflow/models/tree/master/research/delf/' not found\n",
      "'\n"
     ]
    },
    {
     "name": "stderr",
     "output_type": "stream",
     "text": [
      " 36%|███▌      | 16778/46292 [10:52:40<19:32:34,  2.38s/it]"
     ]
    },
    {
     "name": "stdout",
     "output_type": "stream",
     "text": [
      "Cmd('git') failed due to: exit code(128)\n",
      "  cmdline: git clone -v https://github.com/https://gitlab.com/eduardo-vitral/balrogo repos/https://gitlab.com/eduardo-vitral/balrogo\n",
      "  stderr: 'Cloning into 'repos/https://gitlab.com/eduardo-vitral/balrogo'...\n",
      "remote: Not Found\n",
      "fatal: repository 'https://github.com/https://gitlab.com/eduardo-vitral/balrogo/' not found\n",
      "'\n"
     ]
    },
    {
     "name": "stderr",
     "output_type": "stream",
     "text": [
      " 36%|███▋      | 16809/46292 [10:53:32<6:05:21,  1.34it/s] "
     ]
    },
    {
     "name": "stdout",
     "output_type": "stream",
     "text": [
      "Cmd('git') failed due to: exit code(128)\n",
      "  cmdline: git clone -v https://github.com/tensorflow/models/tree/master/research/delf repos/tensorflow/models/tree/master/research/delf\n",
      "  stderr: 'Cloning into 'repos/tensorflow/models/tree/master/research/delf'...\n",
      "fatal: repository 'https://github.com/tensorflow/models/tree/master/research/delf/' not found\n",
      "'\n"
     ]
    },
    {
     "name": "stderr",
     "output_type": "stream",
     "text": [
      "\r",
      " 36%|███▋      | 16810/46292 [10:53:32<5:30:55,  1.48it/s]"
     ]
    },
    {
     "name": "stdout",
     "output_type": "stream",
     "text": [
      "Cmd('git') failed due to: exit code(128)\n",
      "  cmdline: git clone -v https://github.com/tensorflow/models/tree/master/research/delf repos/tensorflow/models/tree/master/research/delf\n",
      "  stderr: 'Cloning into 'repos/tensorflow/models/tree/master/research/delf'...\n",
      "fatal: repository 'https://github.com/tensorflow/models/tree/master/research/delf/' not found\n",
      "'\n"
     ]
    },
    {
     "name": "stderr",
     "output_type": "stream",
     "text": [
      " 36%|███▋      | 16816/46292 [10:53:40<8:55:28,  1.09s/it] "
     ]
    },
    {
     "name": "stdout",
     "output_type": "stream",
     "text": [
      "Cmd('git') failed due to: exit code(128)\n",
      "  cmdline: git clone -v https://github.com/ramshi236/SCAFFOLD-pytorch repos/ramshi236/SCAFFOLD-pytorch\n",
      "  stderr: 'Cloning into 'repos/ramshi236/SCAFFOLD-pytorch'...\n",
      "fatal: could not read Username for 'https://github.com': No such device or address\n",
      "'\n"
     ]
    },
    {
     "name": "stderr",
     "output_type": "stream",
     "text": [
      "\r",
      " 36%|███▋      | 16817/46292 [10:53:40<7:16:33,  1.13it/s]"
     ]
    },
    {
     "name": "stdout",
     "output_type": "stream",
     "text": [
      "Cmd('git') failed due to: exit code(128)\n",
      "  cmdline: git clone -v https://github.com/ramshi236/SCAFFOLD-pytorch repos/ramshi236/SCAFFOLD-pytorch\n",
      "  stderr: 'Cloning into 'repos/ramshi236/SCAFFOLD-pytorch'...\n",
      "fatal: could not read Username for 'https://github.com': No such device or address\n",
      "'\n"
     ]
    },
    {
     "name": "stderr",
     "output_type": "stream",
     "text": [
      " 36%|███▋      | 16819/46292 [10:53:42<5:53:44,  1.39it/s]"
     ]
    },
    {
     "name": "stdout",
     "output_type": "stream",
     "text": [
      "Cmd('git') failed due to: exit code(128)\n",
      "  cmdline: git clone -v https://github.com/moein-shariatnia/Deep-Learning/tree/main/Image%20Colorization%20Tutorial repos/moein-shariatnia/Deep-Learning/tree/main/Image%20Colorization%20Tutorial\n",
      "  stderr: 'Cloning into 'repos/moein-shariatnia/Deep-Learning/tree/main/Image%20Colorization%20Tutorial'...\n",
      "fatal: repository 'https://github.com/moein-shariatnia/Deep-Learning/tree/main/Image%20Colorization%20Tutorial/' not found\n",
      "'\n"
     ]
    },
    {
     "name": "stderr",
     "output_type": "stream",
     "text": [
      " 36%|███▋      | 16829/46292 [10:53:45<2:17:35,  3.57it/s]"
     ]
    },
    {
     "name": "stdout",
     "output_type": "stream",
     "text": [
      "Cmd('git') failed due to: exit code(128)\n",
      "  cmdline: git clone -v https://github.com/tensorflow/models/tree/master/research/delf repos/tensorflow/models/tree/master/research/delf\n",
      "  stderr: 'Cloning into 'repos/tensorflow/models/tree/master/research/delf'...\n",
      "fatal: repository 'https://github.com/tensorflow/models/tree/master/research/delf/' not found\n",
      "'\n"
     ]
    },
    {
     "name": "stderr",
     "output_type": "stream",
     "text": [
      " 36%|███▋      | 16841/46292 [10:54:02<7:20:49,  1.11it/s] "
     ]
    },
    {
     "name": "stdout",
     "output_type": "stream",
     "text": [
      "Cmd('git') failed due to: exit code(128)\n",
      "  cmdline: git clone -v https://github.com/https://bitbucket.org/franyancr/ethos_camb repos/https://bitbucket.org/franyancr/ethos_camb\n",
      "  stderr: 'Cloning into 'repos/https://bitbucket.org/franyancr/ethos_camb'...\n",
      "remote: Not Found\n",
      "fatal: repository 'https://github.com/https://bitbucket.org/franyancr/ethos_camb/' not found\n",
      "'\n"
     ]
    },
    {
     "name": "stderr",
     "output_type": "stream",
     "text": [
      "\r",
      " 36%|███▋      | 16842/46292 [10:54:02<5:52:01,  1.39it/s]"
     ]
    },
    {
     "name": "stdout",
     "output_type": "stream",
     "text": [
      "Cmd('git') failed due to: exit code(128)\n",
      "  cmdline: git clone -v https://github.com/https://bitbucket.org/feynmanIntegrals/fiesta repos/https://bitbucket.org/feynmanIntegrals/fiesta\n",
      "  stderr: 'Cloning into 'repos/https://bitbucket.org/feynmanIntegrals/fiesta'...\n",
      "remote: Not Found\n",
      "fatal: repository 'https://github.com/https://bitbucket.org/feynmanIntegrals/fiesta/' not found\n",
      "'\n"
     ]
    },
    {
     "name": "stderr",
     "output_type": "stream",
     "text": [
      " 36%|███▋      | 16894/46292 [10:55:11<9:30:19,  1.16s/it] "
     ]
    },
    {
     "name": "stdout",
     "output_type": "stream",
     "text": [
      "Cmd('git') failed due to: exit code(128)\n",
      "  cmdline: git clone -v https://github.com/lc-d3/graceful-labeling repos/lc-d3/graceful-labeling\n",
      "  stderr: 'Cloning into 'repos/lc-d3/graceful-labeling'...\n",
      "fatal: could not read Username for 'https://github.com': No such device or address\n",
      "'\n"
     ]
    },
    {
     "name": "stderr",
     "output_type": "stream",
     "text": [
      " 37%|███▋      | 16927/46292 [10:56:28<14:29:55,  1.78s/it]"
     ]
    },
    {
     "name": "stdout",
     "output_type": "stream",
     "text": [
      "Cmd('git') failed due to: exit code(128)\n",
      "  cmdline: git clone -v https://github.com/https://bitbucket.org/DSVarga/dstools repos/https://bitbucket.org/DSVarga/dstools\n",
      "  stderr: 'Cloning into 'repos/https://bitbucket.org/DSVarga/dstools'...\n",
      "remote: Not Found\n",
      "fatal: repository 'https://github.com/https://bitbucket.org/DSVarga/dstools/' not found\n",
      "'\n"
     ]
    },
    {
     "name": "stderr",
     "output_type": "stream",
     "text": [
      " 37%|███▋      | 16959/46292 [10:57:25<4:12:06,  1.94it/s] "
     ]
    },
    {
     "name": "stdout",
     "output_type": "stream",
     "text": [
      "Cmd('git') failed due to: exit code(128)\n",
      "  cmdline: git clone -v https://github.com/https://gitlab.com/jboutell/Prune repos/https://gitlab.com/jboutell/Prune\n",
      "  stderr: 'Cloning into 'repos/https://gitlab.com/jboutell/Prune'...\n",
      "remote: Not Found\n",
      "fatal: repository 'https://github.com/https://gitlab.com/jboutell/Prune/' not found\n",
      "'\n"
     ]
    },
    {
     "name": "stderr",
     "output_type": "stream",
     "text": [
      " 37%|███▋      | 16977/46292 [10:57:52<5:20:49,  1.52it/s] "
     ]
    },
    {
     "name": "stdout",
     "output_type": "stream",
     "text": [
      "Cmd('git') failed due to: exit code(128)\n",
      "  cmdline: git clone -v https://github.com/https://bitbucket.org/imsejae/pythonic_lxw_dg repos/https://bitbucket.org/imsejae/pythonic_lxw_dg\n",
      "  stderr: 'Cloning into 'repos/https://bitbucket.org/imsejae/pythonic_lxw_dg'...\n",
      "remote: Not Found\n",
      "fatal: repository 'https://github.com/https://bitbucket.org/imsejae/pythonic_lxw_dg/' not found\n",
      "'\n"
     ]
    },
    {
     "name": "stderr",
     "output_type": "stream",
     "text": [
      " 37%|███▋      | 17014/46292 [10:59:54<16:51:16,  2.07s/it]"
     ]
    },
    {
     "name": "stdout",
     "output_type": "stream",
     "text": [
      "Cmd('git') failed due to: exit code(128)\n",
      "  cmdline: git clone -v https://github.com/https://bitbucket.org/alecoent/oslator repos/https://bitbucket.org/alecoent/oslator\n",
      "  stderr: 'Cloning into 'repos/https://bitbucket.org/alecoent/oslator'...\n",
      "remote: Not Found\n",
      "fatal: repository 'https://github.com/https://bitbucket.org/alecoent/oslator/' not found\n",
      "'\n"
     ]
    },
    {
     "name": "stderr",
     "output_type": "stream",
     "text": [
      " 37%|███▋      | 17064/46292 [11:02:46<88:30:59, 10.90s/it] "
     ]
    },
    {
     "name": "stdout",
     "output_type": "stream",
     "text": [
      "Cmd('git') failed due to: exit code(128)\n",
      "  cmdline: git clone -v https://github.com/https://bitbucket.org/alecoent/oslator repos/https://bitbucket.org/alecoent/oslator\n",
      "  stderr: 'Cloning into 'repos/https://bitbucket.org/alecoent/oslator'...\n",
      "remote: Not Found\n",
      "fatal: repository 'https://github.com/https://bitbucket.org/alecoent/oslator/' not found\n",
      "'\n"
     ]
    },
    {
     "name": "stderr",
     "output_type": "stream",
     "text": [
      " 37%|███▋      | 17067/46292 [11:02:47<39:07:31,  4.82s/it]"
     ]
    },
    {
     "name": "stdout",
     "output_type": "stream",
     "text": [
      "Cmd('git') failed due to: exit code(128)\n",
      "  cmdline: git clone -v https://github.com/https://gitlab.com/philbull/mgclass repos/https://gitlab.com/philbull/mgclass\n",
      "  stderr: 'Cloning into 'repos/https://gitlab.com/philbull/mgclass'...\n",
      "remote: Not Found\n",
      "fatal: repository 'https://github.com/https://gitlab.com/philbull/mgclass/' not found\n",
      "'\n",
      "Cmd('git') failed due to: exit code(128)\n",
      "  cmdline: git clone -v https://github.com/https://gitlab.com/philbull/mgclass repos/https://gitlab.com/philbull/mgclass\n",
      "  stderr: 'Cloning into 'repos/https://gitlab.com/philbull/mgclass'...\n",
      "remote: Not Found\n",
      "fatal: repository 'https://github.com/https://gitlab.com/philbull/mgclass/' not found\n",
      "'\n"
     ]
    },
    {
     "name": "stderr",
     "output_type": "stream",
     "text": [
      " 37%|███▋      | 17080/46292 [11:03:15<13:23:17,  1.65s/it]"
     ]
    },
    {
     "name": "stdout",
     "output_type": "stream",
     "text": [
      "Cmd('git') failed due to: exit code(128)\n",
      "  cmdline: git clone -v https://github.com/https://bitbucket.org/uuinfolab/20csur repos/https://bitbucket.org/uuinfolab/20csur\n",
      "  stderr: 'Cloning into 'repos/https://bitbucket.org/uuinfolab/20csur'...\n",
      "remote: Not Found\n",
      "fatal: repository 'https://github.com/https://bitbucket.org/uuinfolab/20csur/' not found\n",
      "'\n"
     ]
    },
    {
     "name": "stderr",
     "output_type": "stream",
     "text": [
      " 37%|███▋      | 17110/46292 [11:04:19<6:18:29,  1.29it/s] "
     ]
    },
    {
     "name": "stdout",
     "output_type": "stream",
     "text": [
      "Cmd('git') failed due to: exit code(128)\n",
      "  cmdline: git clone -v https://github.com/https://bitbucket.org/gefei/tlaweb-models repos/https://bitbucket.org/gefei/tlaweb-models\n",
      "  stderr: 'Cloning into 'repos/https://bitbucket.org/gefei/tlaweb-models'...\n",
      "remote: Not Found\n",
      "fatal: repository 'https://github.com/https://bitbucket.org/gefei/tlaweb-models/' not found\n",
      "'\n"
     ]
    },
    {
     "name": "stderr",
     "output_type": "stream",
     "text": [
      "\r",
      " 37%|███▋      | 17111/46292 [11:04:19<5:18:18,  1.53it/s]"
     ]
    },
    {
     "name": "stdout",
     "output_type": "stream",
     "text": [
      "Cmd('git') failed due to: exit code(128)\n",
      "  cmdline: git clone -v https://github.com/https://gitlab.com/PatrickKappl/jackknife repos/https://gitlab.com/PatrickKappl/jackknife\n",
      "  stderr: 'Cloning into 'repos/https://gitlab.com/PatrickKappl/jackknife'...\n",
      "remote: Not Found\n",
      "fatal: repository 'https://github.com/https://gitlab.com/PatrickKappl/jackknife/' not found\n",
      "'\n"
     ]
    },
    {
     "name": "stderr",
     "output_type": "stream",
     "text": [
      " 37%|███▋      | 17122/46292 [11:05:52<25:00:15,  3.09s/it] "
     ]
    },
    {
     "name": "stdout",
     "output_type": "stream",
     "text": [
      "Cmd('git') failed due to: exit code(128)\n",
      "  cmdline: git clone -v https://github.com/https://bitbucket.org/extragalactic/pxf_kin_err repos/https://bitbucket.org/extragalactic/pxf_kin_err\n",
      "  stderr: 'Cloning into 'repos/https://bitbucket.org/extragalactic/pxf_kin_err'...\n",
      "remote: Not Found\n",
      "fatal: repository 'https://github.com/https://bitbucket.org/extragalactic/pxf_kin_err/' not found\n",
      "'\n"
     ]
    },
    {
     "name": "stderr",
     "output_type": "stream",
     "text": [
      " 37%|███▋      | 17190/46292 [11:08:59<37:50:09,  4.68s/it]"
     ]
    },
    {
     "name": "stdout",
     "output_type": "stream",
     "text": [
      "Cmd('git') failed due to: exit code(128)\n",
      "  cmdline: git clone -v https://github.com/spring-media/ci-topic-thunder repos/spring-media/ci-topic-thunder\n",
      "  stderr: 'Cloning into 'repos/spring-media/ci-topic-thunder'...\n",
      "fatal: could not read Username for 'https://github.com': No such device or address\n",
      "'\n"
     ]
    },
    {
     "name": "stderr",
     "output_type": "stream",
     "text": [
      " 37%|███▋      | 17250/46292 [11:13:33<19:46:55,  2.45s/it] "
     ]
    },
    {
     "name": "stdout",
     "output_type": "stream",
     "text": [
      "Cmd('git') failed due to: exit code(128)\n",
      "  cmdline: git clone -v https://github.com/tensorflow/models/tree/master/research/delf repos/tensorflow/models/tree/master/research/delf\n",
      "  stderr: 'Cloning into 'repos/tensorflow/models/tree/master/research/delf'...\n",
      "fatal: repository 'https://github.com/tensorflow/models/tree/master/research/delf/' not found\n",
      "'\n"
     ]
    },
    {
     "name": "stderr",
     "output_type": "stream",
     "text": [
      " 37%|███▋      | 17252/46292 [11:13:34<13:26:59,  1.67s/it]"
     ]
    },
    {
     "name": "stdout",
     "output_type": "stream",
     "text": [
      "Cmd('git') failed due to: exit code(128)\n",
      "  cmdline: git clone -v https://github.com/GGQ1996/action_co_localization/tree/master/ACL_Anet_release repos/GGQ1996/action_co_localization/tree/master/ACL_Anet_release\n",
      "  stderr: 'Cloning into 'repos/GGQ1996/action_co_localization/tree/master/ACL_Anet_release'...\n",
      "fatal: repository 'https://github.com/GGQ1996/action_co_localization/tree/master/ACL_Anet_release/' not found\n",
      "'\n"
     ]
    },
    {
     "name": "stderr",
     "output_type": "stream",
     "text": [
      " 37%|███▋      | 17259/46292 [11:13:39<5:42:52,  1.41it/s] "
     ]
    },
    {
     "name": "stdout",
     "output_type": "stream",
     "text": [
      "Cmd('git') failed due to: exit code(128)\n",
      "  cmdline: git clone -v https://github.com/ParAlg/gbbs/tree/master/benchmarks/SCAN/IndexBased repos/ParAlg/gbbs/tree/master/benchmarks/SCAN/IndexBased\n",
      "  stderr: 'Cloning into 'repos/ParAlg/gbbs/tree/master/benchmarks/SCAN/IndexBased'...\n",
      "fatal: repository 'https://github.com/ParAlg/gbbs/tree/master/benchmarks/SCAN/IndexBased/' not found\n",
      "'\n"
     ]
    },
    {
     "name": "stderr",
     "output_type": "stream",
     "text": [
      " 37%|███▋      | 17265/46292 [11:13:47<7:46:15,  1.04it/s] "
     ]
    },
    {
     "name": "stdout",
     "output_type": "stream",
     "text": [
      "Cmd('git') failed due to: exit code(128)\n",
      "  cmdline: git clone -v https://github.com/https://bitbucket.org/xtrains/dataset repos/https://bitbucket.org/xtrains/dataset\n",
      "  stderr: 'Cloning into 'repos/https://bitbucket.org/xtrains/dataset'...\n",
      "remote: Not Found\n",
      "fatal: repository 'https://github.com/https://bitbucket.org/xtrains/dataset/' not found\n",
      "'\n"
     ]
    },
    {
     "name": "stderr",
     "output_type": "stream",
     "text": [
      " 37%|███▋      | 17279/46292 [11:14:39<18:08:46,  2.25s/it]"
     ]
    },
    {
     "name": "stdout",
     "output_type": "stream",
     "text": [
      "Cmd('git') failed due to: exit code(128)\n",
      "  cmdline: git clone -v https://github.com/https://bitbucket.org/a-galaxy/cross-lingual-annotation-projection-in-legal-texts repos/https://bitbucket.org/a-galaxy/cross-lingual-annotation-projection-in-legal-texts\n",
      "  stderr: 'Cloning into 'repos/https://bitbucket.org/a-galaxy/cross-lingual-annotation-projection-in-legal-texts'...\n",
      "remote: Not Found\n",
      "fatal: repository 'https://github.com/https://bitbucket.org/a-galaxy/cross-lingual-annotation-projection-in-legal-texts/' not found\n",
      "'\n"
     ]
    },
    {
     "name": "stderr",
     "output_type": "stream",
     "text": [
      " 37%|███▋      | 17320/46292 [11:15:22<5:54:13,  1.36it/s] "
     ]
    },
    {
     "name": "stdout",
     "output_type": "stream",
     "text": [
      "Cmd('git') failed due to: exit code(128)\n",
      "  cmdline: git clone -v https://github.com/https://zenodo.org/record/3528137 repos/https://zenodo.org/record/3528137\n",
      "  stderr: 'Cloning into 'repos/https://zenodo.org/record/3528137'...\n",
      "remote: Not Found\n",
      "fatal: repository 'https://github.com/https://zenodo.org/record/3528137/' not found\n",
      "'\n"
     ]
    },
    {
     "name": "stderr",
     "output_type": "stream",
     "text": [
      " 37%|███▋      | 17333/46292 [11:15:39<8:20:16,  1.04s/it] "
     ]
    },
    {
     "name": "stdout",
     "output_type": "stream",
     "text": [
      "Cmd('git') failed due to: exit code(128)\n",
      "  cmdline: git clone -v https://github.com/google-research/google-research/tree/master/hyperbolic_discount repos/google-research/google-research/tree/master/hyperbolic_discount\n",
      "  stderr: 'Cloning into 'repos/google-research/google-research/tree/master/hyperbolic_discount'...\n",
      "fatal: repository 'https://github.com/google-research/google-research/tree/master/hyperbolic_discount/' not found\n",
      "'\n"
     ]
    },
    {
     "name": "stderr",
     "output_type": "stream",
     "text": [
      " 37%|███▋      | 17343/46292 [11:15:45<4:08:31,  1.94it/s]"
     ]
    },
    {
     "name": "stdout",
     "output_type": "stream",
     "text": [
      "Cmd('git') failed due to: exit code(128)\n",
      "  cmdline: git clone -v https://github.com/google-research/google-research/tree/master/meta_pseudo_labels repos/google-research/google-research/tree/master/meta_pseudo_labels\n",
      "  stderr: 'Cloning into 'repos/google-research/google-research/tree/master/meta_pseudo_labels'...\n",
      "fatal: repository 'https://github.com/google-research/google-research/tree/master/meta_pseudo_labels/' not found\n",
      "'\n"
     ]
    },
    {
     "name": "stderr",
     "output_type": "stream",
     "text": [
      "\r",
      " 37%|███▋      | 17344/46292 [11:15:46<4:02:32,  1.99it/s]"
     ]
    },
    {
     "name": "stdout",
     "output_type": "stream",
     "text": [
      "Cmd('git') failed due to: exit code(128)\n",
      "  cmdline: git clone -v https://github.com/google-research/google-research/tree/master/smith repos/google-research/google-research/tree/master/smith\n",
      "  stderr: 'Cloning into 'repos/google-research/google-research/tree/master/smith'...\n",
      "fatal: repository 'https://github.com/google-research/google-research/tree/master/smith/' not found\n",
      "'\n"
     ]
    },
    {
     "name": "stderr",
     "output_type": "stream",
     "text": [
      " 38%|███▊      | 17373/46292 [11:17:08<8:02:52,  1.00s/it] "
     ]
    },
    {
     "name": "stdout",
     "output_type": "stream",
     "text": [
      "Cmd('git') failed due to: exit code(128)\n",
      "  cmdline: git clone -v https://github.com/achen353/Taiwan-Traffic-Object-Detection repos/achen353/Taiwan-Traffic-Object-Detection\n",
      "  stderr: 'Cloning into 'repos/achen353/Taiwan-Traffic-Object-Detection'...\n",
      "fatal: could not read Username for 'https://github.com': No such device or address\n",
      "'\n"
     ]
    },
    {
     "name": "stderr",
     "output_type": "stream",
     "text": [
      "\r",
      " 38%|███▊      | 17374/46292 [11:17:08<6:32:08,  1.23it/s]"
     ]
    },
    {
     "name": "stdout",
     "output_type": "stream",
     "text": [
      "Cmd('git') failed due to: exit code(128)\n",
      "  cmdline: git clone -v https://github.com/achen353/Taiwan-Traffic-Object-Detection repos/achen353/Taiwan-Traffic-Object-Detection\n",
      "  stderr: 'Cloning into 'repos/achen353/Taiwan-Traffic-Object-Detection'...\n",
      "fatal: could not read Username for 'https://github.com': No such device or address\n",
      "'\n"
     ]
    },
    {
     "name": "stderr",
     "output_type": "stream",
     "text": [
      "\r",
      " 38%|███▊      | 17375/46292 [11:17:08<5:21:44,  1.50it/s]"
     ]
    },
    {
     "name": "stdout",
     "output_type": "stream",
     "text": [
      "Cmd('git') failed due to: exit code(128)\n",
      "  cmdline: git clone -v https://github.com/achen353/Taiwan-Traffic-Object-Detection repos/achen353/Taiwan-Traffic-Object-Detection\n",
      "  stderr: 'Cloning into 'repos/achen353/Taiwan-Traffic-Object-Detection'...\n",
      "fatal: could not read Username for 'https://github.com': No such device or address\n",
      "'\n"
     ]
    },
    {
     "name": "stderr",
     "output_type": "stream",
     "text": [
      " 38%|███▊      | 17379/46292 [11:17:13<8:48:31,  1.10s/it] "
     ]
    },
    {
     "name": "stdout",
     "output_type": "stream",
     "text": [
      "Cmd('git') failed due to: exit code(128)\n",
      "  cmdline: git clone -v https://github.com/achen353/Taiwan-Traffic-Object-Detection repos/achen353/Taiwan-Traffic-Object-Detection\n",
      "  stderr: 'Cloning into 'repos/achen353/Taiwan-Traffic-Object-Detection'...\n",
      "fatal: could not read Username for 'https://github.com': No such device or address\n",
      "'\n"
     ]
    },
    {
     "name": "stderr",
     "output_type": "stream",
     "text": [
      " 38%|███▊      | 17408/46292 [11:17:48<4:16:58,  1.87it/s] "
     ]
    },
    {
     "name": "stdout",
     "output_type": "stream",
     "text": [
      "Cmd('git') failed due to: exit code(128)\n",
      "  cmdline: git clone -v https://github.com/https://gitlab.com/nct_tso_public/laparoscopic-image-2-image-translation repos/https://gitlab.com/nct_tso_public/laparoscopic-image-2-image-translation\n",
      "  stderr: 'Cloning into 'repos/https://gitlab.com/nct_tso_public/laparoscopic-image-2-image-translation'...\n",
      "remote: Not Found\n",
      "fatal: repository 'https://github.com/https://gitlab.com/nct_tso_public/laparoscopic-image-2-image-translation/' not found\n",
      "'\n",
      "Cmd('git') failed due to: exit code(128)\n",
      "  cmdline: git clone -v https://github.com/https://gitlab.com/nct_tso_public/laparoscopic-image-2-image-translation repos/https://gitlab.com/nct_tso_public/laparoscopic-image-2-image-translation\n",
      "  stderr: 'Cloning into 'repos/https://gitlab.com/nct_tso_public/laparoscopic-image-2-image-translation'...\n",
      "remote: Not Found\n",
      "fatal: repository 'https://github.com/https://gitlab.com/nct_tso_public/laparoscopic-image-2-image-translation/' not found\n",
      "'\n"
     ]
    },
    {
     "name": "stderr",
     "output_type": "stream",
     "text": [
      " 38%|███▊      | 17554/46292 [11:24:33<4:24:12,  1.81it/s]  "
     ]
    },
    {
     "name": "stdout",
     "output_type": "stream",
     "text": [
      "Cmd('git') failed due to: exit code(128)\n",
      "  cmdline: git clone -v https://github.com/kevinzakka/angle-pred repos/kevinzakka/angle-pred\n",
      "  stderr: 'Cloning into 'repos/kevinzakka/angle-pred'...\n",
      "fatal: could not read Username for 'https://github.com': No such device or address\n",
      "'\n"
     ]
    },
    {
     "name": "stderr",
     "output_type": "stream",
     "text": [
      " 38%|███▊      | 17561/46292 [11:24:37<4:43:35,  1.69it/s]"
     ]
    },
    {
     "name": "stdout",
     "output_type": "stream",
     "text": [
      "Cmd('git') failed due to: exit code(128)\n",
      "  cmdline: git clone -v https://github.com/deepmipt/bert/tree/feat/multi_gpu repos/deepmipt/bert/tree/feat/multi_gpu\n",
      "  stderr: 'Cloning into 'repos/deepmipt/bert/tree/feat/multi_gpu'...\n",
      "fatal: repository 'https://github.com/deepmipt/bert/tree/feat/multi_gpu/' not found\n",
      "'\n"
     ]
    },
    {
     "name": "stderr",
     "output_type": "stream",
     "text": [
      " 38%|███▊      | 17583/46292 [11:25:09<8:21:18,  1.05s/it] "
     ]
    },
    {
     "name": "stdout",
     "output_type": "stream",
     "text": [
      "Cmd('git') failed due to: exit code(128)\n",
      "  cmdline: git clone -v https://github.com/semibah/TTLT-reproduction repos/semibah/TTLT-reproduction\n",
      "  stderr: 'Cloning into 'repos/semibah/TTLT-reproduction'...\n",
      "fatal: could not read Username for 'https://github.com': No such device or address\n",
      "'\n"
     ]
    },
    {
     "name": "stderr",
     "output_type": "stream",
     "text": [
      " 38%|███▊      | 17684/46292 [11:34:55<27:14:14,  3.43s/it] "
     ]
    },
    {
     "name": "stdout",
     "output_type": "stream",
     "text": [
      "Cmd('git') failed due to: exit code(128)\n",
      "  cmdline: git clone -v https://github.com/NVIDIA/NeMo/blob/master/examples/nlp/dialogue_state_tracking/dialogue_state_tracking_sgd.py repos/NVIDIA/NeMo/blob/master/examples/nlp/dialogue_state_tracking/dialogue_state_tracking_sgd.py\n",
      "  stderr: 'Cloning into 'repos/NVIDIA/NeMo/blob/master/examples/nlp/dialogue_state_tracking/dialogue_state_tracking_sgd.py'...\n",
      "remote: Please upgrade your git client.\n",
      "remote: GitHub.com no longer supports git over dumb-http: https://github.com/blog/809-git-dumb-http-transport-to-be-turned-off-in-90-days\n",
      "fatal: unable to access 'https://github.com/NVIDIA/NeMo/blob/master/examples/nlp/dialogue_state_tracking/dialogue_state_tracking_sgd.py/': The requested URL returned error: 403\n",
      "'\n"
     ]
    },
    {
     "name": "stderr",
     "output_type": "stream",
     "text": [
      " 39%|███▊      | 17938/46292 [11:46:09<5:35:16,  1.41it/s]  "
     ]
    },
    {
     "name": "stdout",
     "output_type": "stream",
     "text": [
      "Cmd('git') failed due to: exit code(128)\n",
      "  cmdline: git clone -v https://github.com/lihang11355/PaddleOCR repos/lihang11355/PaddleOCR\n",
      "  stderr: 'Cloning into 'repos/lihang11355/PaddleOCR'...\n",
      "fatal: could not read Username for 'https://github.com': No such device or address\n",
      "'\n"
     ]
    },
    {
     "name": "stderr",
     "output_type": "stream",
     "text": [
      " 39%|███▉      | 18133/46292 [11:52:02<5:11:07,  1.51it/s] "
     ]
    },
    {
     "name": "stdout",
     "output_type": "stream",
     "text": [
      "Cmd('git') failed due to: exit code(128)\n",
      "  cmdline: git clone -v https://github.com/agoel10/UAP-LOD repos/agoel10/UAP-LOD\n",
      "  stderr: 'Cloning into 'repos/agoel10/UAP-LOD'...\n",
      "fatal: could not read Username for 'https://github.com': No such device or address\n",
      "'\n"
     ]
    },
    {
     "name": "stderr",
     "output_type": "stream",
     "text": [
      " 39%|███▉      | 18167/46292 [11:52:56<11:12:56,  1.44s/it]"
     ]
    },
    {
     "name": "stdout",
     "output_type": "stream",
     "text": [
      "Cmd('git') failed due to: exit code(128)\n",
      "  cmdline: git clone -v https://github.com/tensorflow/models/tree/master/research/lm_1b repos/tensorflow/models/tree/master/research/lm_1b\n",
      "  stderr: 'Cloning into 'repos/tensorflow/models/tree/master/research/lm_1b'...\n",
      "fatal: repository 'https://github.com/tensorflow/models/tree/master/research/lm_1b/' not found\n",
      "'\n"
     ]
    },
    {
     "name": "stderr",
     "output_type": "stream",
     "text": [
      " 39%|███▉      | 18184/46292 [11:53:32<7:56:51,  1.02s/it] "
     ]
    },
    {
     "name": "stdout",
     "output_type": "stream",
     "text": [
      "Cmd('git') failed due to: exit code(128)\n",
      "  cmdline: git clone -v https://github.com/https://cran.r-project.org/web/packages/MWright/index.html repos/https://cran.r-project.org/web/packages/MWright/index.html\n",
      "  stderr: 'Cloning into 'repos/https://cran.r-project.org/web/packages/MWright/index.html'...\n",
      "remote: Not Found\n",
      "fatal: repository 'https://github.com/https://cran.r-project.org/web/packages/MWright/index.html/' not found\n",
      "'\n"
     ]
    },
    {
     "name": "stderr",
     "output_type": "stream",
     "text": [
      " 39%|███▉      | 18247/46292 [11:58:22<10:22:26,  1.33s/it] "
     ]
    },
    {
     "name": "stdout",
     "output_type": "stream",
     "text": [
      "Cmd('git') failed due to: exit code(128)\n",
      "  cmdline: git clone -v https://github.com/artcogsys/videoGAN repos/artcogsys/videoGAN\n",
      "  stderr: 'Cloning into 'repos/artcogsys/videoGAN'...\n",
      "fatal: could not read Username for 'https://github.com': No such device or address\n",
      "'\n"
     ]
    },
    {
     "name": "stderr",
     "output_type": "stream",
     "text": [
      " 40%|███▉      | 18295/46292 [11:59:30<8:11:27,  1.05s/it] "
     ]
    },
    {
     "name": "stdout",
     "output_type": "stream",
     "text": [
      "Cmd('git') failed due to: exit code(128)\n",
      "  cmdline: git clone -v https://github.com/louyshong/BDD-Autonomous-Driving repos/louyshong/BDD-Autonomous-Driving\n",
      "  stderr: 'Cloning into 'repos/louyshong/BDD-Autonomous-Driving'...\n",
      "fatal: could not read Username for 'https://github.com': No such device or address\n",
      "'\n"
     ]
    },
    {
     "name": "stderr",
     "output_type": "stream",
     "text": [
      " 40%|████      | 18574/46292 [12:23:21<4:00:50,  1.92it/s]    "
     ]
    },
    {
     "name": "stdout",
     "output_type": "stream",
     "text": [
      "Cmd('git') failed due to: exit code(128)\n",
      "  cmdline: git clone -v https://github.com/https://gitlab.com/ualib/ualib.gitlab.io repos/https://gitlab.com/ualib/ualib.gitlab.io\n",
      "  stderr: 'Cloning into 'repos/https://gitlab.com/ualib/ualib.gitlab.io'...\n",
      "remote: Not Found\n",
      "fatal: repository 'https://github.com/https://gitlab.com/ualib/ualib.gitlab.io/' not found\n",
      "'\n",
      "Cmd('git') failed due to: exit code(128)\n",
      "  cmdline: git clone -v https://github.com/https://gitlab.com/ualib/ualib.gitlab.io repos/https://gitlab.com/ualib/ualib.gitlab.io\n",
      "  stderr: 'Cloning into 'repos/https://gitlab.com/ualib/ualib.gitlab.io'...\n",
      "remote: Not Found\n",
      "fatal: repository 'https://github.com/https://gitlab.com/ualib/ualib.gitlab.io/' not found\n",
      "'\n"
     ]
    },
    {
     "name": "stderr",
     "output_type": "stream",
     "text": [
      " 40%|████      | 18591/46292 [12:23:48<10:54:26,  1.42s/it]"
     ]
    },
    {
     "name": "stdout",
     "output_type": "stream",
     "text": [
      "Cmd('git') failed due to: exit code(128)\n",
      "  cmdline: git clone -v https://github.com/https://code.engineering.queensu.ca/17ps21/ssl-ecg-v2 repos/https://code.engineering.queensu.ca/17ps21/ssl-ecg-v2\n",
      "  stderr: 'Cloning into 'repos/https://code.engineering.queensu.ca/17ps21/ssl-ecg-v2'...\n",
      "remote: Not Found\n",
      "fatal: repository 'https://github.com/https://code.engineering.queensu.ca/17ps21/ssl-ecg-v2/' not found\n",
      "'\n"
     ]
    },
    {
     "name": "stderr",
     "output_type": "stream",
     "text": [
      " 40%|████      | 18601/46292 [12:23:52<3:32:00,  2.18it/s] "
     ]
    },
    {
     "name": "stdout",
     "output_type": "stream",
     "text": [
      "Cmd('git') failed due to: exit code(128)\n",
      "  cmdline: git clone -v https://github.com/https://worksheets.codalab.org/worksheets/0x8ef22fd3cd384029bf1d1cae5b268f2d repos/https://worksheets.codalab.org/worksheets/0x8ef22fd3cd384029bf1d1cae5b268f2d\n",
      "  stderr: 'Cloning into 'repos/https://worksheets.codalab.org/worksheets/0x8ef22fd3cd384029bf1d1cae5b268f2d'...\n",
      "remote: Not Found\n",
      "fatal: repository 'https://github.com/https://worksheets.codalab.org/worksheets/0x8ef22fd3cd384029bf1d1cae5b268f2d/' not found\n",
      "'\n"
     ]
    },
    {
     "name": "stderr",
     "output_type": "stream",
     "text": [
      " 40%|████      | 18611/46292 [12:24:01<5:31:36,  1.39it/s] "
     ]
    },
    {
     "name": "stdout",
     "output_type": "stream",
     "text": [
      "Cmd('git') failed due to: exit code(128)\n",
      "  cmdline: git clone -v https://github.com/https://worksheets.codalab.org/worksheets/0xe2ac460eee7443438d5ab9f43824a819 repos/https://worksheets.codalab.org/worksheets/0xe2ac460eee7443438d5ab9f43824a819\n",
      "  stderr: 'Cloning into 'repos/https://worksheets.codalab.org/worksheets/0xe2ac460eee7443438d5ab9f43824a819'...\n",
      "remote: Not Found\n",
      "fatal: repository 'https://github.com/https://worksheets.codalab.org/worksheets/0xe2ac460eee7443438d5ab9f43824a819/' not found\n",
      "'\n"
     ]
    },
    {
     "name": "stderr",
     "output_type": "stream",
     "text": [
      " 40%|████      | 18621/46292 [12:24:04<2:35:38,  2.96it/s]"
     ]
    },
    {
     "name": "stdout",
     "output_type": "stream",
     "text": [
      "Cmd('git') failed due to: exit code(128)\n",
      "  cmdline: git clone -v https://github.com/https://worksheets.codalab.org/worksheets/0x052129c7afa9498481185b553d23f0f9 repos/https://worksheets.codalab.org/worksheets/0x052129c7afa9498481185b553d23f0f9\n",
      "  stderr: 'Cloning into 'repos/https://worksheets.codalab.org/worksheets/0x052129c7afa9498481185b553d23f0f9'...\n",
      "remote: Not Found\n",
      "fatal: repository 'https://github.com/https://worksheets.codalab.org/worksheets/0x052129c7afa9498481185b553d23f0f9/' not found\n",
      "'\n"
     ]
    },
    {
     "name": "stderr",
     "output_type": "stream",
     "text": [
      " 40%|████      | 18628/46292 [12:24:09<5:07:09,  1.50it/s]"
     ]
    },
    {
     "name": "stdout",
     "output_type": "stream",
     "text": [
      "Cmd('git') failed due to: exit code(128)\n",
      "  cmdline: git clone -v https://github.com/https://worksheets.codalab.org/worksheets/0x627dc6dc62874a45ba8abc6ada10e753 repos/https://worksheets.codalab.org/worksheets/0x627dc6dc62874a45ba8abc6ada10e753\n",
      "  stderr: 'Cloning into 'repos/https://worksheets.codalab.org/worksheets/0x627dc6dc62874a45ba8abc6ada10e753'...\n",
      "remote: Not Found\n",
      "fatal: repository 'https://github.com/https://worksheets.codalab.org/worksheets/0x627dc6dc62874a45ba8abc6ada10e753/' not found\n",
      "'\n"
     ]
    },
    {
     "name": "stderr",
     "output_type": "stream",
     "text": [
      " 40%|████      | 18630/46292 [12:24:10<4:07:45,  1.86it/s]"
     ]
    },
    {
     "name": "stdout",
     "output_type": "stream",
     "text": [
      "Cmd('git') failed due to: exit code(128)\n",
      "  cmdline: git clone -v https://github.com/https://worksheets.codalab.org/worksheets/0xc757f29f5c794e5eb7bfa8ca9c945573 repos/https://worksheets.codalab.org/worksheets/0xc757f29f5c794e5eb7bfa8ca9c945573\n",
      "  stderr: 'Cloning into 'repos/https://worksheets.codalab.org/worksheets/0xc757f29f5c794e5eb7bfa8ca9c945573'...\n",
      "remote: Not Found\n",
      "fatal: repository 'https://github.com/https://worksheets.codalab.org/worksheets/0xc757f29f5c794e5eb7bfa8ca9c945573/' not found\n",
      "'\n"
     ]
    },
    {
     "name": "stderr",
     "output_type": "stream",
     "text": [
      " 40%|████      | 18634/46292 [12:24:11<2:43:10,  2.82it/s]"
     ]
    },
    {
     "name": "stdout",
     "output_type": "stream",
     "text": [
      "Cmd('git') failed due to: exit code(128)\n",
      "  cmdline: git clone -v https://github.com/ChristophReich1996/ToeffiPy/blob/master/autograd/nn/activation.py repos/ChristophReich1996/ToeffiPy/blob/master/autograd/nn/activation.py\n",
      "  stderr: 'Cloning into 'repos/ChristophReich1996/ToeffiPy/blob/master/autograd/nn/activation.py'...\n",
      "fatal: repository 'https://github.com/ChristophReich1996/ToeffiPy/blob/master/autograd/nn/activation.py/' not found\n",
      "'\n"
     ]
    },
    {
     "name": "stderr",
     "output_type": "stream",
     "text": [
      " 40%|████      | 18705/46292 [12:25:25<3:38:17,  2.11it/s] "
     ]
    },
    {
     "name": "stdout",
     "output_type": "stream",
     "text": [
      "Cmd('git') failed due to: exit code(128)\n",
      "  cmdline: git clone -v https://github.com/KumarNavish/navish.github.io repos/KumarNavish/navish.github.io\n",
      "  stderr: 'Cloning into 'repos/KumarNavish/navish.github.io'...\n",
      "fatal: could not read Username for 'https://github.com': No such device or address\n",
      "'\n"
     ]
    },
    {
     "name": "stderr",
     "output_type": "stream",
     "text": [
      " 40%|████      | 18741/46292 [12:26:07<9:33:11,  1.25s/it] "
     ]
    },
    {
     "name": "stdout",
     "output_type": "stream",
     "text": [
      "Cmd('git') failed due to: exit code(128)\n",
      "  cmdline: git clone -v https://github.com/miroslav21/aligator repos/miroslav21/aligator\n",
      "  stderr: 'Cloning into 'repos/miroslav21/aligator'...\n",
      "fatal: could not read Username for 'https://github.com': No such device or address\n",
      "'\n"
     ]
    },
    {
     "name": "stderr",
     "output_type": "stream",
     "text": [
      "\r",
      " 40%|████      | 18742/46292 [12:26:07<7:33:45,  1.01it/s]"
     ]
    },
    {
     "name": "stdout",
     "output_type": "stream",
     "text": [
      "Cmd('git') failed due to: exit code(128)\n",
      "  cmdline: git clone -v https://github.com/miroslav21/aligator repos/miroslav21/aligator\n",
      "  stderr: 'Cloning into 'repos/miroslav21/aligator'...\n",
      "fatal: could not read Username for 'https://github.com': No such device or address\n",
      "'\n"
     ]
    },
    {
     "name": "stderr",
     "output_type": "stream",
     "text": [
      " 41%|████      | 18819/46292 [12:30:11<24:49:03,  3.25s/it] "
     ]
    },
    {
     "name": "stdout",
     "output_type": "stream",
     "text": [
      "Cmd('git') failed due to: exit code(128)\n",
      "  cmdline: git clone -v https://github.com/tensorflow/models/tree/master/research/compression repos/tensorflow/models/tree/master/research/compression\n",
      "  stderr: 'Cloning into 'repos/tensorflow/models/tree/master/research/compression'...\n",
      "fatal: repository 'https://github.com/tensorflow/models/tree/master/research/compression/' not found\n",
      "'\n"
     ]
    },
    {
     "name": "stderr",
     "output_type": "stream",
     "text": [
      " 41%|████      | 18940/46292 [12:34:31<6:34:20,  1.16it/s] "
     ]
    },
    {
     "name": "stdout",
     "output_type": "stream",
     "text": [
      "Cmd('git') failed due to: exit code(128)\n",
      "  cmdline: git clone -v https://github.com/soledad921/GeomE repos/soledad921/GeomE\n",
      "  stderr: 'Cloning into 'repos/soledad921/GeomE'...\n",
      "fatal: could not read Username for 'https://github.com': No such device or address\n",
      "'\n"
     ]
    },
    {
     "name": "stderr",
     "output_type": "stream",
     "text": [
      " 41%|████      | 18943/46292 [12:34:33<5:00:18,  1.52it/s]"
     ]
    },
    {
     "name": "stdout",
     "output_type": "stream",
     "text": [
      "Cmd('git') failed due to: exit code(128)\n",
      "  cmdline: git clone -v https://github.com/deepmipt/bert/tree/feat/multi_gpu repos/deepmipt/bert/tree/feat/multi_gpu\n",
      "  stderr: 'Cloning into 'repos/deepmipt/bert/tree/feat/multi_gpu'...\n",
      "fatal: repository 'https://github.com/deepmipt/bert/tree/feat/multi_gpu/' not found\n",
      "'\n"
     ]
    },
    {
     "name": "stderr",
     "output_type": "stream",
     "text": [
      "\r",
      " 41%|████      | 18945/46292 [12:34:33<3:16:40,  2.32it/s]"
     ]
    },
    {
     "name": "stdout",
     "output_type": "stream",
     "text": [
      "Cmd('git') failed due to: exit code(128)\n",
      "  cmdline: git clone -v https://github.com/artcogsys/videoGAN repos/artcogsys/videoGAN\n",
      "  stderr: 'Cloning into 'repos/artcogsys/videoGAN'...\n",
      "fatal: could not read Username for 'https://github.com': No such device or address\n",
      "'\n"
     ]
    },
    {
     "name": "stderr",
     "output_type": "stream",
     "text": [
      " 41%|████      | 19013/46292 [12:37:29<13:33:38,  1.79s/it]"
     ]
    },
    {
     "name": "stdout",
     "output_type": "stream",
     "text": [
      "Cmd('git') failed due to: exit code(128)\n",
      "  cmdline: git clone -v https://github.com/YuqiYuqiMa/NatrualDisasterPredict repos/YuqiYuqiMa/NatrualDisasterPredict\n",
      "  stderr: 'Cloning into 'repos/YuqiYuqiMa/NatrualDisasterPredict'...\n",
      "fatal: could not read Username for 'https://github.com': No such device or address\n",
      "'\n"
     ]
    },
    {
     "name": "stderr",
     "output_type": "stream",
     "text": [
      " 41%|████      | 19051/46292 [12:38:18<16:55:13,  2.24s/it]"
     ]
    },
    {
     "name": "stdout",
     "output_type": "stream",
     "text": [
      "Cmd('git') failed due to: exit code(128)\n",
      "  cmdline: git clone -v https://github.com/facebookresearch/detectron2/tree/master/projects/PointRend repos/facebookresearch/detectron2/tree/master/projects/PointRend\n",
      "  stderr: 'Cloning into 'repos/facebookresearch/detectron2/tree/master/projects/PointRend'...\n",
      "remote: Please upgrade your git client.\n",
      "remote: GitHub.com no longer supports git over dumb-http: https://github.com/blog/809-git-dumb-http-transport-to-be-turned-off-in-90-days\n",
      "fatal: unable to access 'https://github.com/facebookresearch/detectron2/tree/master/projects/PointRend/': The requested URL returned error: 403\n",
      "'\n"
     ]
    },
    {
     "name": "stderr",
     "output_type": "stream",
     "text": [
      " 41%|████▏     | 19116/46292 [12:40:17<5:18:06,  1.42it/s] "
     ]
    },
    {
     "name": "stdout",
     "output_type": "stream",
     "text": [
      "Cmd('git') failed due to: exit code(128)\n",
      "  cmdline: git clone -v https://github.com/YeongsooKim/autonomous_drone_for_tracking repos/YeongsooKim/autonomous_drone_for_tracking\n",
      "  stderr: 'Cloning into 'repos/YeongsooKim/autonomous_drone_for_tracking'...\n",
      "fatal: could not read Username for 'https://github.com': No such device or address\n",
      "'\n"
     ]
    },
    {
     "name": "stderr",
     "output_type": "stream",
     "text": [
      " 42%|████▏     | 19247/46292 [12:44:56<7:38:18,  1.02s/it] "
     ]
    },
    {
     "name": "stdout",
     "output_type": "stream",
     "text": [
      "Cmd('git') failed due to: exit code(128)\n",
      "  cmdline: git clone -v https://github.com/PaddlePaddle/ERNIE/tree/repro/ernie-gen repos/PaddlePaddle/ERNIE/tree/repro/ernie-gen\n",
      "  stderr: 'Cloning into 'repos/PaddlePaddle/ERNIE/tree/repro/ernie-gen'...\n",
      "fatal: repository 'https://github.com/PaddlePaddle/ERNIE/tree/repro/ernie-gen/' not found\n",
      "'\n"
     ]
    },
    {
     "name": "stderr",
     "output_type": "stream",
     "text": [
      " 42%|████▏     | 19261/46292 [12:46:02<22:22:30,  2.98s/it]"
     ]
    },
    {
     "name": "stdout",
     "output_type": "stream",
     "text": [
      "Cmd('git') failed due to: exit code(128)\n",
      "  cmdline: git clone -v https://github.com/tensorflow/models/tree/master/research/efficient-hrl repos/tensorflow/models/tree/master/research/efficient-hrl\n",
      "  stderr: 'Cloning into 'repos/tensorflow/models/tree/master/research/efficient-hrl'...\n",
      "fatal: repository 'https://github.com/tensorflow/models/tree/master/research/efficient-hrl/' not found\n",
      "'\n"
     ]
    },
    {
     "name": "stderr",
     "output_type": "stream",
     "text": [
      " 42%|████▏     | 19291/46292 [12:46:56<11:37:58,  1.55s/it]"
     ]
    },
    {
     "name": "stdout",
     "output_type": "stream",
     "text": [
      "Cmd('git') failed due to: exit code(128)\n",
      "  cmdline: git clone -v https://github.com/kumasento/ada-loss repos/kumasento/ada-loss\n",
      "  stderr: 'Cloning into 'repos/kumasento/ada-loss'...\n",
      "fatal: could not read Username for 'https://github.com': No such device or address\n",
      "'\n"
     ]
    },
    {
     "name": "stderr",
     "output_type": "stream",
     "text": [
      " 42%|████▏     | 19298/46292 [12:47:01<5:01:32,  1.49it/s] "
     ]
    },
    {
     "name": "stdout",
     "output_type": "stream",
     "text": [
      "Cmd('git') failed due to: exit code(128)\n",
      "  cmdline: git clone -v https://github.com/StalVars/aqa-2019-20 repos/StalVars/aqa-2019-20\n",
      "  stderr: 'Cloning into 'repos/StalVars/aqa-2019-20'...\n",
      "fatal: could not read Username for 'https://github.com': No such device or address\n",
      "'\n"
     ]
    },
    {
     "name": "stderr",
     "output_type": "stream",
     "text": [
      " 42%|████▏     | 19328/46292 [12:47:51<11:24:47,  1.52s/it]"
     ]
    },
    {
     "name": "stdout",
     "output_type": "stream",
     "text": [
      "Cmd('git') failed due to: exit code(128)\n",
      "  cmdline: git clone -v https://github.com/deepmipt/bert/tree/feat/multi_gpu repos/deepmipt/bert/tree/feat/multi_gpu\n",
      "  stderr: 'Cloning into 'repos/deepmipt/bert/tree/feat/multi_gpu'...\n",
      "fatal: repository 'https://github.com/deepmipt/bert/tree/feat/multi_gpu/' not found\n",
      "'\n"
     ]
    },
    {
     "name": "stderr",
     "output_type": "stream",
     "text": [
      " 42%|████▏     | 19398/46292 [12:49:05<8:53:02,  1.19s/it] "
     ]
    },
    {
     "name": "stdout",
     "output_type": "stream",
     "text": [
      "Cmd('git') failed due to: exit code(128)\n",
      "  cmdline: git clone -v https://github.com/https://gitlab.com/unigehpfs/stlbm repos/https://gitlab.com/unigehpfs/stlbm\n",
      "  stderr: 'Cloning into 'repos/https://gitlab.com/unigehpfs/stlbm'...\n",
      "remote: Not Found\n",
      "fatal: repository 'https://github.com/https://gitlab.com/unigehpfs/stlbm/' not found\n",
      "'\n"
     ]
    },
    {
     "name": "stderr",
     "output_type": "stream",
     "text": [
      " 42%|████▏     | 19520/46292 [12:51:23<9:16:07,  1.25s/it] "
     ]
    },
    {
     "name": "stdout",
     "output_type": "stream",
     "text": [
      "Cmd('git') failed due to: exit code(128)\n",
      "  cmdline: git clone -v https://github.com/jonashaag/paperswithcode-speech-enhancement-audiosamples/tree/master/Real%20Time%20Speech%20Enhancement%20in%20the%20Waveform%20Domain repos/jonashaag/paperswithcode-speech-enhancement-audiosamples/tree/master/Real%20Time%20Speech%20Enhancement%20in%20the%20Waveform%20Domain\n",
      "  stderr: 'Cloning into 'repos/jonashaag/paperswithcode-speech-enhancement-audiosamples/tree/master/Real%20Time%20Speech%20Enhancement%20in%20the%20Waveform%20Domain'...\n",
      "fatal: repository 'https://github.com/jonashaag/paperswithcode-speech-enhancement-audiosamples/tree/master/Real%20Time%20Speech%20Enhancement%20in%20the%20Waveform%20Domain/' not found\n",
      "'\n"
     ]
    },
    {
     "name": "stderr",
     "output_type": "stream",
     "text": [
      " 42%|████▏     | 19565/46292 [12:52:53<5:44:42,  1.29it/s] "
     ]
    },
    {
     "name": "stdout",
     "output_type": "stream",
     "text": [
      "Cmd('git') failed due to: exit code(128)\n",
      "  cmdline: git clone -v https://github.com/ah7149407/ee193-03_project repos/ah7149407/ee193-03_project\n",
      "  stderr: 'Cloning into 'repos/ah7149407/ee193-03_project'...\n",
      "fatal: could not read Username for 'https://github.com': No such device or address\n",
      "'\n"
     ]
    },
    {
     "name": "stderr",
     "output_type": "stream",
     "text": [
      " 42%|████▏     | 19666/46292 [12:56:49<11:33:09,  1.56s/it]"
     ]
    },
    {
     "name": "stdout",
     "output_type": "stream",
     "text": [
      "Cmd('git') failed due to: exit code(128)\n",
      "  cmdline: git clone -v https://github.com/deepmipt/bert/tree/feat/multi_gpu repos/deepmipt/bert/tree/feat/multi_gpu\n",
      "  stderr: 'Cloning into 'repos/deepmipt/bert/tree/feat/multi_gpu'...\n",
      "fatal: repository 'https://github.com/deepmipt/bert/tree/feat/multi_gpu/' not found\n",
      "'\n"
     ]
    },
    {
     "name": "stderr",
     "output_type": "stream",
     "text": [
      " 43%|████▎     | 19755/46292 [12:59:37<3:20:18,  2.21it/s] "
     ]
    },
    {
     "name": "stdout",
     "output_type": "stream",
     "text": [
      "Cmd('git') failed due to: exit code(128)\n",
      "  cmdline: git clone -v https://github.com/google-research/google-research/tree/master/cfq repos/google-research/google-research/tree/master/cfq\n",
      "  stderr: 'Cloning into 'repos/google-research/google-research/tree/master/cfq'...\n",
      "fatal: repository 'https://github.com/google-research/google-research/tree/master/cfq/' not found\n",
      "'\n"
     ]
    },
    {
     "name": "stderr",
     "output_type": "stream",
     "text": [
      " 43%|████▎     | 19840/46292 [13:02:56<14:18:49,  1.95s/it]"
     ]
    },
    {
     "name": "stdout",
     "output_type": "stream",
     "text": [
      "Cmd('git') failed due to: exit code(128)\n",
      "  cmdline: git clone -v https://github.com/mdda/deep-learning-workshop/blob/master/notebooks/work-in-progress/IntrinsicDimension/IntrinsicDimension.ipynb repos/mdda/deep-learning-workshop/blob/master/notebooks/work-in-progress/IntrinsicDimension/IntrinsicDimension.ipynb\n",
      "  stderr: 'Cloning into 'repos/mdda/deep-learning-workshop/blob/master/notebooks/work-in-progress/IntrinsicDimension/IntrinsicDimension.ipynb'...\n",
      "fatal: repository 'https://github.com/mdda/deep-learning-workshop/blob/master/notebooks/work-in-progress/IntrinsicDimension/IntrinsicDimension.ipynb/' not found\n",
      "'\n"
     ]
    },
    {
     "name": "stderr",
     "output_type": "stream",
     "text": [
      " 43%|████▎     | 20027/46292 [13:08:38<10:37:47,  1.46s/it] "
     ]
    },
    {
     "name": "stdout",
     "output_type": "stream",
     "text": [
      "Cmd('git') failed due to: exit code(128)\n",
      "  cmdline: git clone -v https://github.com/dibakardas/ABM/blob/main/NetLogo/virus_model.nlogo repos/dibakardas/ABM/blob/main/NetLogo/virus_model.nlogo\n",
      "  stderr: 'Cloning into 'repos/dibakardas/ABM/blob/main/NetLogo/virus_model.nlogo'...\n",
      "fatal: repository 'https://github.com/dibakardas/ABM/blob/main/NetLogo/virus_model.nlogo/' not found\n",
      "'\n"
     ]
    },
    {
     "name": "stderr",
     "output_type": "stream",
     "text": [
      " 43%|████▎     | 20068/46292 [13:09:50<4:46:27,  1.53it/s] "
     ]
    },
    {
     "name": "stdout",
     "output_type": "stream",
     "text": [
      "Cmd('git') failed due to: exit code(128)\n",
      "  cmdline: git clone -v https://github.com/graphology/graphology-communities-louvain repos/graphology/graphology-communities-louvain\n",
      "  stderr: 'Cloning into 'repos/graphology/graphology-communities-louvain'...\n",
      "fatal: could not read Username for 'https://github.com': No such device or address\n",
      "'\n"
     ]
    },
    {
     "name": "stderr",
     "output_type": "stream",
     "text": [
      " 43%|████▎     | 20076/46292 [13:09:57<6:10:50,  1.18it/s]"
     ]
    },
    {
     "name": "stdout",
     "output_type": "stream",
     "text": [
      "Cmd('git') failed due to: exit code(128)\n",
      "  cmdline: git clone -v https://github.com/Nikeshbajaj/Notebooks/tree/master/PhyAAt_Notebooks repos/Nikeshbajaj/Notebooks/tree/master/PhyAAt_Notebooks\n",
      "  stderr: 'Cloning into 'repos/Nikeshbajaj/Notebooks/tree/master/PhyAAt_Notebooks'...\n",
      "fatal: repository 'https://github.com/Nikeshbajaj/Notebooks/tree/master/PhyAAt_Notebooks/' not found\n",
      "'\n"
     ]
    },
    {
     "name": "stderr",
     "output_type": "stream",
     "text": [
      " 43%|████▎     | 20133/46292 [13:11:41<4:41:41,  1.55it/s] "
     ]
    },
    {
     "name": "stdout",
     "output_type": "stream",
     "text": [
      "Cmd('git') failed due to: exit code(128)\n",
      "  cmdline: git clone -v https://github.com/google/flax/tree/master/examples/pixelcnn repos/google/flax/tree/master/examples/pixelcnn\n",
      "  stderr: 'Cloning into 'repos/google/flax/tree/master/examples/pixelcnn'...\n",
      "remote: Please upgrade your git client.\n",
      "remote: GitHub.com no longer supports git over dumb-http: https://github.com/blog/809-git-dumb-http-transport-to-be-turned-off-in-90-days\n",
      "fatal: unable to access 'https://github.com/google/flax/tree/master/examples/pixelcnn/': The requested URL returned error: 403\n",
      "'\n"
     ]
    },
    {
     "name": "stderr",
     "output_type": "stream",
     "text": [
      " 44%|████▎     | 20138/46292 [13:11:47<6:29:07,  1.12it/s] "
     ]
    },
    {
     "name": "stdout",
     "output_type": "stream",
     "text": [
      "Cmd('git') failed due to: exit code(128)\n",
      "  cmdline: git clone -v https://github.com/google/flax/tree/master/examples/vae repos/google/flax/tree/master/examples/vae\n",
      "  stderr: 'Cloning into 'repos/google/flax/tree/master/examples/vae'...\n",
      "remote: Please upgrade your git client.\n",
      "remote: GitHub.com no longer supports git over dumb-http: https://github.com/blog/809-git-dumb-http-transport-to-be-turned-off-in-90-days\n",
      "fatal: unable to access 'https://github.com/google/flax/tree/master/examples/vae/': The requested URL returned error: 403\n",
      "'\n"
     ]
    },
    {
     "name": "stderr",
     "output_type": "stream",
     "text": [
      " 44%|████▎     | 20198/46292 [13:13:19<4:28:24,  1.62it/s] "
     ]
    },
    {
     "name": "stdout",
     "output_type": "stream",
     "text": [
      "Cmd('git') failed due to: exit code(128)\n",
      "  cmdline: git clone -v https://github.com/google-research/language/tree/master/language/labs/drkit repos/google-research/language/tree/master/language/labs/drkit\n",
      "  stderr: 'Cloning into 'repos/google-research/language/tree/master/language/labs/drkit'...\n",
      "fatal: repository 'https://github.com/google-research/language/tree/master/language/labs/drkit/' not found\n",
      "'\n"
     ]
    },
    {
     "name": "stderr",
     "output_type": "stream",
     "text": [
      " 44%|████▎     | 20212/46292 [13:13:49<16:33:26,  2.29s/it]"
     ]
    },
    {
     "name": "stdout",
     "output_type": "stream",
     "text": [
      "Cmd('git') failed due to: exit code(128)\n",
      "  cmdline: git clone -v https://github.com/tensorflow/models/tree/master/official/nlp/nhnet repos/tensorflow/models/tree/master/official/nlp/nhnet\n",
      "  stderr: 'Cloning into 'repos/tensorflow/models/tree/master/official/nlp/nhnet'...\n",
      "fatal: repository 'https://github.com/tensorflow/models/tree/master/official/nlp/nhnet/' not found\n",
      "'\n"
     ]
    },
    {
     "name": "stderr",
     "output_type": "stream",
     "text": [
      " 44%|████▎     | 20232/46292 [13:14:15<5:43:39,  1.26it/s] "
     ]
    },
    {
     "name": "stdout",
     "output_type": "stream",
     "text": [
      "Cmd('git') failed due to: exit code(128)\n",
      "  cmdline: git clone -v https://github.com/tensorflow/models/tree/master/research/fivo repos/tensorflow/models/tree/master/research/fivo\n",
      "  stderr: 'Cloning into 'repos/tensorflow/models/tree/master/research/fivo'...\n",
      "fatal: repository 'https://github.com/tensorflow/models/tree/master/research/fivo/' not found\n",
      "'\n"
     ]
    },
    {
     "name": "stderr",
     "output_type": "stream",
     "text": [
      " 44%|████▍     | 20264/46292 [13:15:54<7:21:17,  1.02s/it] "
     ]
    },
    {
     "name": "stdout",
     "output_type": "stream",
     "text": [
      "Cmd('git') failed due to: exit code(128)\n",
      "  cmdline: git clone -v https://github.com/graphology/graphology-communities-louvain repos/graphology/graphology-communities-louvain\n",
      "  stderr: 'Cloning into 'repos/graphology/graphology-communities-louvain'...\n",
      "fatal: could not read Username for 'https://github.com': No such device or address\n",
      "'\n"
     ]
    },
    {
     "name": "stderr",
     "output_type": "stream",
     "text": [
      " 44%|████▍     | 20285/46292 [13:16:13<4:02:24,  1.79it/s] "
     ]
    },
    {
     "name": "stdout",
     "output_type": "stream",
     "text": [
      "Cmd('git') failed due to: exit code(128)\n",
      "  cmdline: git clone -v https://github.com/tensorflow/models/tree/master/research/video_prediction repos/tensorflow/models/tree/master/research/video_prediction\n",
      "  stderr: 'Cloning into 'repos/tensorflow/models/tree/master/research/video_prediction'...\n",
      "fatal: repository 'https://github.com/tensorflow/models/tree/master/research/video_prediction/' not found\n",
      "'\n"
     ]
    },
    {
     "name": "stderr",
     "output_type": "stream",
     "text": [
      " 44%|████▍     | 20295/46292 [13:16:23<7:24:18,  1.03s/it]"
     ]
    },
    {
     "name": "stdout",
     "output_type": "stream",
     "text": [
      "Cmd('git') failed due to: exit code(128)\n",
      "  cmdline: git clone -v https://github.com/tensorflow/models/tree/master/research/lm_1b repos/tensorflow/models/tree/master/research/lm_1b\n",
      "  stderr: 'Cloning into 'repos/tensorflow/models/tree/master/research/lm_1b'...\n",
      "fatal: repository 'https://github.com/tensorflow/models/tree/master/research/lm_1b/' not found\n",
      "'\n"
     ]
    },
    {
     "name": "stderr",
     "output_type": "stream",
     "text": [
      " 44%|████▍     | 20450/46292 [13:21:45<6:32:40,  1.10it/s] "
     ]
    },
    {
     "name": "stdout",
     "output_type": "stream",
     "text": [
      "Cmd('git') failed due to: exit code(128)\n",
      "  cmdline: git clone -v https://github.com/graphology/graphology-communities-louvain repos/graphology/graphology-communities-louvain\n",
      "  stderr: 'Cloning into 'repos/graphology/graphology-communities-louvain'...\n",
      "fatal: could not read Username for 'https://github.com': No such device or address\n",
      "'\n"
     ]
    },
    {
     "name": "stderr",
     "output_type": "stream",
     "text": [
      " 44%|████▍     | 20491/46292 [13:24:48<7:54:41,  1.10s/it]  "
     ]
    },
    {
     "name": "stdout",
     "output_type": "stream",
     "text": [
      "Cmd('git') failed due to: exit code(128)\n",
      "  cmdline: git clone -v https://github.com/microsoft/vert-papers/tree/master/papers/SingleMulti-TS repos/microsoft/vert-papers/tree/master/papers/SingleMulti-TS\n",
      "  stderr: 'Cloning into 'repos/microsoft/vert-papers/tree/master/papers/SingleMulti-TS'...\n",
      "fatal: repository 'https://github.com/microsoft/vert-papers/tree/master/papers/SingleMulti-TS/' not found\n",
      "'\n"
     ]
    },
    {
     "name": "stderr",
     "output_type": "stream",
     "text": [
      " 44%|████▍     | 20522/46292 [13:26:22<42:44:04,  5.97s/it]"
     ]
    },
    {
     "name": "stdout",
     "output_type": "stream",
     "text": [
      "Cmd('git') failed due to: exit code(128)\n",
      "  cmdline: git clone -v https://github.com/KunZhou9646/Singing-Voice-Conversion-with-conditional-VAW-GAN repos/KunZhou9646/Singing-Voice-Conversion-with-conditional-VAW-GAN\n",
      "  stderr: 'Cloning into 'repos/KunZhou9646/Singing-Voice-Conversion-with-conditional-VAW-GAN'...\n",
      "fatal: could not read Username for 'https://github.com': No such device or address\n",
      "'\n"
     ]
    },
    {
     "name": "stderr",
     "output_type": "stream",
     "text": [
      " 44%|████▍     | 20543/46292 [13:26:45<6:56:41,  1.03it/s] "
     ]
    },
    {
     "name": "stdout",
     "output_type": "stream",
     "text": [
      "Cmd('git') failed due to: exit code(128)\n",
      "  cmdline: git clone -v https://github.com/https://gitlab.com/polavieja_lab/fishandra repos/https://gitlab.com/polavieja_lab/fishandra\n",
      "  stderr: 'Cloning into 'repos/https://gitlab.com/polavieja_lab/fishandra'...\n",
      "remote: Not Found\n",
      "fatal: repository 'https://github.com/https://gitlab.com/polavieja_lab/fishandra/' not found\n",
      "'\n"
     ]
    },
    {
     "name": "stderr",
     "output_type": "stream",
     "text": [
      " 44%|████▍     | 20550/46292 [13:27:00<12:00:14,  1.68s/it]"
     ]
    },
    {
     "name": "stdout",
     "output_type": "stream",
     "text": [
      "Cmd('git') failed due to: exit code(128)\n",
      "  cmdline: git clone -v https://github.com/demul/auto_colorization_project/tree/master/colorful_image_colorization repos/demul/auto_colorization_project/tree/master/colorful_image_colorization\n",
      "  stderr: 'Cloning into 'repos/demul/auto_colorization_project/tree/master/colorful_image_colorization'...\n",
      "fatal: repository 'https://github.com/demul/auto_colorization_project/tree/master/colorful_image_colorization/' not found\n",
      "'\n"
     ]
    },
    {
     "name": "stderr",
     "output_type": "stream",
     "text": [
      "\r",
      " 44%|████▍     | 20551/46292 [13:27:00<9:10:10,  1.28s/it] "
     ]
    },
    {
     "name": "stdout",
     "output_type": "stream",
     "text": [
      "Cmd('git') failed due to: exit code(128)\n",
      "  cmdline: git clone -v https://github.com/graphology/graphology-communities-louvain repos/graphology/graphology-communities-louvain\n",
      "  stderr: 'Cloning into 'repos/graphology/graphology-communities-louvain'...\n",
      "fatal: could not read Username for 'https://github.com': No such device or address\n",
      "'\n"
     ]
    },
    {
     "name": "stderr",
     "output_type": "stream",
     "text": [
      " 45%|████▍     | 20742/46292 [13:33:08<6:17:02,  1.13it/s] "
     ]
    },
    {
     "name": "stdout",
     "output_type": "stream",
     "text": [
      "Cmd('git') failed due to: exit code(128)\n",
      "  cmdline: git clone -v https://github.com/https://gitlab.com/mihaicristianpirvu/pose2rgbd repos/https://gitlab.com/mihaicristianpirvu/pose2rgbd\n",
      "  stderr: 'Cloning into 'repos/https://gitlab.com/mihaicristianpirvu/pose2rgbd'...\n",
      "remote: Not Found\n",
      "fatal: repository 'https://github.com/https://gitlab.com/mihaicristianpirvu/pose2rgbd/' not found\n",
      "'\n"
     ]
    },
    {
     "name": "stderr",
     "output_type": "stream",
     "text": [
      " 45%|████▍     | 20802/46292 [13:34:22<10:23:07,  1.47s/it]"
     ]
    },
    {
     "name": "stdout",
     "output_type": "stream",
     "text": [
      "Cmd('git') failed due to: exit code(128)\n",
      "  cmdline: git clone -v https://github.com/https://bitbucket.org/guokan_shang/da-classification repos/https://bitbucket.org/guokan_shang/da-classification\n",
      "  stderr: 'Cloning into 'repos/https://bitbucket.org/guokan_shang/da-classification'...\n",
      "remote: Not Found\n",
      "fatal: repository 'https://github.com/https://bitbucket.org/guokan_shang/da-classification/' not found\n",
      "'\n"
     ]
    },
    {
     "name": "stderr",
     "output_type": "stream",
     "text": [
      " 45%|████▌     | 20837/46292 [13:37:25<14:05:49,  1.99s/it] "
     ]
    },
    {
     "name": "stdout",
     "output_type": "stream",
     "text": [
      "Cmd('git') failed due to: exit code(128)\n",
      "  cmdline: git clone -v https://github.com/https://gitlab.com/exwzd-public/kiritani_ono_2020 repos/https://gitlab.com/exwzd-public/kiritani_ono_2020\n",
      "  stderr: 'Cloning into 'repos/https://gitlab.com/exwzd-public/kiritani_ono_2020'...\n",
      "remote: Not Found\n",
      "fatal: repository 'https://github.com/https://gitlab.com/exwzd-public/kiritani_ono_2020/' not found\n",
      "'\n"
     ]
    },
    {
     "name": "stderr",
     "output_type": "stream",
     "text": [
      " 45%|████▌     | 20878/46292 [13:40:45<12:56:03,  1.83s/it] "
     ]
    },
    {
     "name": "stdout",
     "output_type": "stream",
     "text": [
      "Cmd('git') failed due to: exit code(128)\n",
      "  cmdline: git clone -v https://github.com/https://bitbucket.org/rakhuba/crossconv-experiment repos/https://bitbucket.org/rakhuba/crossconv-experiment\n",
      "  stderr: 'Cloning into 'repos/https://bitbucket.org/rakhuba/crossconv-experiment'...\n",
      "remote: Not Found\n",
      "fatal: repository 'https://github.com/https://bitbucket.org/rakhuba/crossconv-experiment/' not found\n",
      "'\n"
     ]
    },
    {
     "name": "stderr",
     "output_type": "stream",
     "text": [
      " 45%|████▌     | 20882/46292 [13:40:47<5:31:13,  1.28it/s] "
     ]
    },
    {
     "name": "stdout",
     "output_type": "stream",
     "text": [
      "Cmd('git') failed due to: exit code(128)\n",
      "  cmdline: git clone -v https://github.com/https://bitbucket.org/politemadness/skypixeldetection repos/https://bitbucket.org/politemadness/skypixeldetection\n",
      "  stderr: 'Cloning into 'repos/https://bitbucket.org/politemadness/skypixeldetection'...\n",
      "remote: Not Found\n",
      "fatal: repository 'https://github.com/https://bitbucket.org/politemadness/skypixeldetection/' not found\n",
      "'\n"
     ]
    },
    {
     "name": "stderr",
     "output_type": "stream",
     "text": [
      " 45%|████▌     | 20886/46292 [13:40:50<6:07:40,  1.15it/s]"
     ]
    },
    {
     "name": "stdout",
     "output_type": "stream",
     "text": [
      "Cmd('git') failed due to: exit code(128)\n",
      "  cmdline: git clone -v https://github.com/tensorflow/models/tree/master/research/efficient-hrl repos/tensorflow/models/tree/master/research/efficient-hrl\n",
      "  stderr: 'Cloning into 'repos/tensorflow/models/tree/master/research/efficient-hrl'...\n",
      "fatal: repository 'https://github.com/tensorflow/models/tree/master/research/efficient-hrl/' not found\n",
      "'\n"
     ]
    },
    {
     "name": "stderr",
     "output_type": "stream",
     "text": [
      " 45%|████▌     | 20894/46292 [13:40:55<3:22:27,  2.09it/s]"
     ]
    },
    {
     "name": "stdout",
     "output_type": "stream",
     "text": [
      "Cmd('git') failed due to: exit code(128)\n",
      "  cmdline: git clone -v https://github.com/https://gitlab.com/makhlaghi/iau-symposium-355 repos/https://gitlab.com/makhlaghi/iau-symposium-355\n",
      "  stderr: 'Cloning into 'repos/https://gitlab.com/makhlaghi/iau-symposium-355'...\n",
      "remote: Not Found\n",
      "fatal: repository 'https://github.com/https://gitlab.com/makhlaghi/iau-symposium-355/' not found\n",
      "'\n"
     ]
    },
    {
     "name": "stderr",
     "output_type": "stream",
     "text": [
      " 45%|████▌     | 20931/46292 [13:41:31<5:21:48,  1.31it/s] "
     ]
    },
    {
     "name": "stdout",
     "output_type": "stream",
     "text": [
      "Cmd('git') failed due to: exit code(128)\n",
      "  cmdline: git clone -v https://github.com/omidmnezami/Style-GAN repos/omidmnezami/Style-GAN\n",
      "  stderr: 'Cloning into 'repos/omidmnezami/Style-GAN'...\n",
      "fatal: could not read Username for 'https://github.com': No such device or address\n",
      "'\n"
     ]
    },
    {
     "name": "stderr",
     "output_type": "stream",
     "text": [
      " 45%|████▌     | 20980/46292 [13:42:29<4:11:51,  1.67it/s] "
     ]
    },
    {
     "name": "stdout",
     "output_type": "stream",
     "text": [
      "Cmd('git') failed due to: exit code(128)\n",
      "  cmdline: git clone -v https://github.com/https://bitbucket.org/guokan_shang/abscomm repos/https://bitbucket.org/guokan_shang/abscomm\n",
      "  stderr: 'Cloning into 'repos/https://bitbucket.org/guokan_shang/abscomm'...\n",
      "remote: Not Found\n",
      "fatal: repository 'https://github.com/https://bitbucket.org/guokan_shang/abscomm/' not found\n",
      "'\n"
     ]
    },
    {
     "name": "stderr",
     "output_type": "stream",
     "text": [
      " 45%|████▌     | 21035/46292 [13:44:06<4:37:41,  1.52it/s] "
     ]
    },
    {
     "name": "stdout",
     "output_type": "stream",
     "text": [
      "Cmd('git') failed due to: exit code(128)\n",
      "  cmdline: git clone -v https://github.com/https://gitlab.com/SCoRe-Group/IsomapSpark repos/https://gitlab.com/SCoRe-Group/IsomapSpark\n",
      "  stderr: 'Cloning into 'repos/https://gitlab.com/SCoRe-Group/IsomapSpark'...\n",
      "remote: Not Found\n",
      "fatal: repository 'https://github.com/https://gitlab.com/SCoRe-Group/IsomapSpark/' not found\n",
      "'\n"
     ]
    },
    {
     "name": "stderr",
     "output_type": "stream",
     "text": [
      " 45%|████▌     | 21052/46292 [13:44:49<21:39:52,  3.09s/it]"
     ]
    },
    {
     "name": "stdout",
     "output_type": "stream",
     "text": [
      "Cmd('git') failed due to: exit code(128)\n",
      "  cmdline: git clone -v https://github.com/https://gitlab.com/transalg/transalg repos/https://gitlab.com/transalg/transalg\n",
      "  stderr: 'Cloning into 'repos/https://gitlab.com/transalg/transalg'...\n",
      "remote: Not Found\n",
      "fatal: repository 'https://github.com/https://gitlab.com/transalg/transalg/' not found\n",
      "'\n"
     ]
    },
    {
     "name": "stderr",
     "output_type": "stream",
     "text": [
      " 46%|████▌     | 21084/46292 [13:45:31<5:38:03,  1.24it/s] "
     ]
    },
    {
     "name": "stdout",
     "output_type": "stream",
     "text": [
      "Cmd('git') failed due to: exit code(128)\n",
      "  cmdline: git clone -v https://github.com/https://gitlab.com/dbdmg/dac repos/https://gitlab.com/dbdmg/dac\n",
      "  stderr: 'Cloning into 'repos/https://gitlab.com/dbdmg/dac'...\n",
      "remote: Not Found\n",
      "fatal: repository 'https://github.com/https://gitlab.com/dbdmg/dac/' not found\n",
      "'\n"
     ]
    },
    {
     "name": "stderr",
     "output_type": "stream",
     "text": [
      " 46%|████▌     | 21174/46292 [13:47:38<6:22:26,  1.09it/s] "
     ]
    },
    {
     "name": "stdout",
     "output_type": "stream",
     "text": [
      "Cmd('git') failed due to: exit code(128)\n",
      "  cmdline: git clone -v https://github.com/https://bitbucket.org/npan1990/firststory-annotator repos/https://bitbucket.org/npan1990/firststory-annotator\n",
      "  stderr: 'Cloning into 'repos/https://bitbucket.org/npan1990/firststory-annotator'...\n",
      "remote: Not Found\n",
      "fatal: repository 'https://github.com/https://bitbucket.org/npan1990/firststory-annotator/' not found\n",
      "'\n"
     ]
    },
    {
     "name": "stderr",
     "output_type": "stream",
     "text": [
      " 46%|████▌     | 21184/46292 [13:49:44<40:32:10,  5.81s/it] "
     ]
    },
    {
     "name": "stdout",
     "output_type": "stream",
     "text": [
      "Cmd('git') failed due to: exit code(128)\n",
      "  cmdline: git clone -v https://github.com/https://gitlab.com/gosseminnema/ds-brain-decoding repos/https://gitlab.com/gosseminnema/ds-brain-decoding\n",
      "  stderr: 'Cloning into 'repos/https://gitlab.com/gosseminnema/ds-brain-decoding'...\n",
      "remote: Not Found\n",
      "fatal: repository 'https://github.com/https://gitlab.com/gosseminnema/ds-brain-decoding/' not found\n",
      "'\n"
     ]
    },
    {
     "name": "stderr",
     "output_type": "stream",
     "text": [
      " 46%|████▌     | 21198/46292 [13:51:12<54:05:39,  7.76s/it] "
     ]
    },
    {
     "name": "stdout",
     "output_type": "stream",
     "text": [
      "Cmd('git') failed due to: exit code(128)\n",
      "  cmdline: git clone -v https://github.com/https://gitlab.com/dcasbol/nn-modularization repos/https://gitlab.com/dcasbol/nn-modularization\n",
      "  stderr: 'Cloning into 'repos/https://gitlab.com/dcasbol/nn-modularization'...\n",
      "remote: Not Found\n",
      "fatal: repository 'https://github.com/https://gitlab.com/dcasbol/nn-modularization/' not found\n",
      "'\n"
     ]
    },
    {
     "name": "stderr",
     "output_type": "stream",
     "text": [
      " 46%|████▌     | 21210/46292 [13:51:23<4:48:04,  1.45it/s] "
     ]
    },
    {
     "name": "stdout",
     "output_type": "stream",
     "text": [
      "Cmd('git') failed due to: exit code(128)\n",
      "  cmdline: git clone -v https://github.com/https://gitlab.com/huss8899/seismogramgen repos/https://gitlab.com/huss8899/seismogramgen\n",
      "  stderr: 'Cloning into 'repos/https://gitlab.com/huss8899/seismogramgen'...\n",
      "remote: Not Found\n",
      "fatal: repository 'https://github.com/https://gitlab.com/huss8899/seismogramgen/' not found\n",
      "'\n"
     ]
    },
    {
     "name": "stderr",
     "output_type": "stream",
     "text": [
      " 46%|████▌     | 21221/46292 [13:55:27<213:38:10, 30.68s/it]"
     ]
    },
    {
     "name": "stdout",
     "output_type": "stream",
     "text": [
      "Cmd('git') failed due to: exit code(128)\n",
      "  cmdline: git clone -v https://github.com/https://gitlab.com/mauricemolli/petitRADTRANS repos/https://gitlab.com/mauricemolli/petitRADTRANS\n",
      "  stderr: 'Cloning into 'repos/https://gitlab.com/mauricemolli/petitRADTRANS'...\n",
      "remote: Not Found\n",
      "fatal: repository 'https://github.com/https://gitlab.com/mauricemolli/petitRADTRANS/' not found\n",
      "'\n"
     ]
    },
    {
     "name": "stderr",
     "output_type": "stream",
     "text": [
      " 46%|████▌     | 21224/46292 [13:55:29<96:03:07, 13.79s/it] "
     ]
    },
    {
     "name": "stdout",
     "output_type": "stream",
     "text": [
      "Cmd('git') failed due to: exit code(128)\n",
      "  cmdline: git clone -v https://github.com/https://bitbucket.org/chhshen/ufl repos/https://bitbucket.org/chhshen/ufl\n",
      "  stderr: 'Cloning into 'repos/https://bitbucket.org/chhshen/ufl'...\n",
      "remote: Not Found\n",
      "fatal: repository 'https://github.com/https://bitbucket.org/chhshen/ufl/' not found\n",
      "'\n"
     ]
    },
    {
     "name": "stderr",
     "output_type": "stream",
     "text": [
      " 46%|████▌     | 21226/46292 [13:55:30<54:15:24,  7.79s/it]"
     ]
    },
    {
     "name": "stdout",
     "output_type": "stream",
     "text": [
      "Cmd('git') failed due to: exit code(128)\n",
      "  cmdline: git clone -v https://github.com/https://gitlab.com/fempar/fempar repos/https://gitlab.com/fempar/fempar\n",
      "  stderr: 'Cloning into 'repos/https://gitlab.com/fempar/fempar'...\n",
      "remote: Not Found\n",
      "fatal: repository 'https://github.com/https://gitlab.com/fempar/fempar/' not found\n",
      "'\n"
     ]
    },
    {
     "name": "stderr",
     "output_type": "stream",
     "text": [
      " 46%|████▌     | 21236/46292 [13:56:03<17:18:58,  2.49s/it]"
     ]
    },
    {
     "name": "stdout",
     "output_type": "stream",
     "text": [
      "Cmd('git') failed due to: exit code(128)\n",
      "  cmdline: git clone -v https://github.com/https://bitbucket.org/liang_chieh_chen/segkitti repos/https://bitbucket.org/liang_chieh_chen/segkitti\n",
      "  stderr: 'Cloning into 'repos/https://bitbucket.org/liang_chieh_chen/segkitti'...\n",
      "remote: Not Found\n",
      "fatal: repository 'https://github.com/https://bitbucket.org/liang_chieh_chen/segkitti/' not found\n",
      "'\n"
     ]
    },
    {
     "name": "stderr",
     "output_type": "stream",
     "text": [
      " 46%|████▌     | 21246/46292 [13:56:11<4:44:38,  1.47it/s] "
     ]
    },
    {
     "name": "stdout",
     "output_type": "stream",
     "text": [
      "Cmd('git') failed due to: exit code(128)\n",
      "  cmdline: git clone -v https://github.com/IBM/OoD/tree/master/ERM-IRM repos/IBM/OoD/tree/master/ERM-IRM\n",
      "  stderr: 'Cloning into 'repos/IBM/OoD/tree/master/ERM-IRM'...\n",
      "fatal: repository 'https://github.com/IBM/OoD/tree/master/ERM-IRM/' not found\n",
      "'\n"
     ]
    },
    {
     "name": "stderr",
     "output_type": "stream",
     "text": [
      " 46%|████▌     | 21254/46292 [13:56:15<3:03:39,  2.27it/s]"
     ]
    },
    {
     "name": "stdout",
     "output_type": "stream",
     "text": [
      "Cmd('git') failed due to: exit code(128)\n",
      "  cmdline: git clone -v https://github.com/https://gitlab.com/secml/secml repos/https://gitlab.com/secml/secml\n",
      "  stderr: 'Cloning into 'repos/https://gitlab.com/secml/secml'...\n",
      "remote: Not Found\n",
      "fatal: repository 'https://github.com/https://gitlab.com/secml/secml/' not found\n",
      "'\n"
     ]
    },
    {
     "name": "stderr",
     "output_type": "stream",
     "text": [
      " 46%|████▌     | 21257/46292 [13:56:15<2:04:40,  3.35it/s]"
     ]
    },
    {
     "name": "stdout",
     "output_type": "stream",
     "text": [
      "Cmd('git') failed due to: exit code(128)\n",
      "  cmdline: git clone -v https://github.com/https://gitlab.com/exwzd-public/kiritani_ono_2020 repos/https://gitlab.com/exwzd-public/kiritani_ono_2020\n",
      "  stderr: 'Cloning into 'repos/https://gitlab.com/exwzd-public/kiritani_ono_2020'...\n",
      "remote: Not Found\n",
      "fatal: repository 'https://github.com/https://gitlab.com/exwzd-public/kiritani_ono_2020/' not found\n",
      "'\n",
      "Cmd('git') failed due to: exit code(128)\n",
      "  cmdline: git clone -v https://github.com/https://gitlab.com/exwzd-public/kiritani_ono_2020 repos/https://gitlab.com/exwzd-public/kiritani_ono_2020\n",
      "  stderr: 'Cloning into 'repos/https://gitlab.com/exwzd-public/kiritani_ono_2020'...\n",
      "remote: Not Found\n",
      "fatal: repository 'https://github.com/https://gitlab.com/exwzd-public/kiritani_ono_2020/' not found\n",
      "'\n"
     ]
    },
    {
     "name": "stderr",
     "output_type": "stream",
     "text": [
      " 46%|████▌     | 21290/46292 [13:57:28<8:41:34,  1.25s/it] "
     ]
    },
    {
     "name": "stdout",
     "output_type": "stream",
     "text": [
      "Cmd('git') failed due to: exit code(128)\n",
      "  cmdline: git clone -v https://github.com/SiddhiMali/QOSF-Screening-Test repos/SiddhiMali/QOSF-Screening-Test\n",
      "  stderr: 'Cloning into 'repos/SiddhiMali/QOSF-Screening-Test'...\n",
      "fatal: could not read Username for 'https://github.com': No such device or address\n",
      "'\n"
     ]
    },
    {
     "name": "stderr",
     "output_type": "stream",
     "text": [
      " 46%|████▌     | 21292/46292 [13:57:34<14:05:34,  2.03s/it]"
     ]
    },
    {
     "name": "stdout",
     "output_type": "stream",
     "text": [
      "Cmd('git') failed due to: exit code(128)\n",
      "  cmdline: git clone -v https://github.com/SiddhiMali/QOSF-Screening-Test repos/SiddhiMali/QOSF-Screening-Test\n",
      "  stderr: 'Cloning into 'repos/SiddhiMali/QOSF-Screening-Test'...\n",
      "fatal: could not read Username for 'https://github.com': No such device or address\n",
      "'\n"
     ]
    },
    {
     "name": "stderr",
     "output_type": "stream",
     "text": [
      " 46%|████▌     | 21385/46292 [14:02:08<15:26:16,  2.23s/it]"
     ]
    },
    {
     "name": "stdout",
     "output_type": "stream",
     "text": [
      "Cmd('git') failed due to: exit code(128)\n",
      "  cmdline: git clone -v https://github.com/mcurcio5/OOTM-Option-Pricing-with-Power-Laws-and-News repos/mcurcio5/OOTM-Option-Pricing-with-Power-Laws-and-News\n",
      "  stderr: 'Cloning into 'repos/mcurcio5/OOTM-Option-Pricing-with-Power-Laws-and-News'...\n",
      "fatal: could not read Username for 'https://github.com': No such device or address\n",
      "'\n"
     ]
    },
    {
     "name": "stderr",
     "output_type": "stream",
     "text": [
      "\r",
      " 46%|████▌     | 21386/46292 [14:02:08<11:33:24,  1.67s/it]"
     ]
    },
    {
     "name": "stdout",
     "output_type": "stream",
     "text": [
      "Cmd('git') failed due to: exit code(128)\n",
      "  cmdline: git clone -v https://github.com/mcurcio5/OOTM-Option-Pricing-with-Power-Laws-and-News repos/mcurcio5/OOTM-Option-Pricing-with-Power-Laws-and-News\n",
      "  stderr: 'Cloning into 'repos/mcurcio5/OOTM-Option-Pricing-with-Power-Laws-and-News'...\n",
      "fatal: could not read Username for 'https://github.com': No such device or address\n",
      "'\n"
     ]
    },
    {
     "name": "stderr",
     "output_type": "stream",
     "text": [
      "\r",
      " 46%|████▌     | 21387/46292 [14:02:08<8:43:30,  1.26s/it] "
     ]
    },
    {
     "name": "stdout",
     "output_type": "stream",
     "text": [
      "Cmd('git') failed due to: exit code(128)\n",
      "  cmdline: git clone -v https://github.com/mcurcio5/OOTM-Option-Pricing-with-Power-Laws-and-News repos/mcurcio5/OOTM-Option-Pricing-with-Power-Laws-and-News\n",
      "  stderr: 'Cloning into 'repos/mcurcio5/OOTM-Option-Pricing-with-Power-Laws-and-News'...\n",
      "fatal: could not read Username for 'https://github.com': No such device or address\n",
      "'\n"
     ]
    },
    {
     "name": "stderr",
     "output_type": "stream",
     "text": [
      " 46%|████▌     | 21396/46292 [14:02:15<6:42:46,  1.03it/s] "
     ]
    },
    {
     "name": "stdout",
     "output_type": "stream",
     "text": [
      "Cmd('git') failed due to: exit code(128)\n",
      "  cmdline: git clone -v https://github.com/https://gitlab.com/jackaraz/EnsembleNN repos/https://gitlab.com/jackaraz/EnsembleNN\n",
      "  stderr: 'Cloning into 'repos/https://gitlab.com/jackaraz/EnsembleNN'...\n",
      "remote: Not Found\n",
      "fatal: repository 'https://github.com/https://gitlab.com/jackaraz/EnsembleNN/' not found\n",
      "'\n"
     ]
    },
    {
     "name": "stderr",
     "output_type": "stream",
     "text": [
      " 46%|████▋     | 21431/46292 [14:03:03<9:32:00,  1.38s/it] "
     ]
    },
    {
     "name": "stdout",
     "output_type": "stream",
     "text": [
      "Cmd('git') failed due to: exit code(128)\n",
      "  cmdline: git clone -v https://github.com/eomiso/style-transfer-code-study repos/eomiso/style-transfer-code-study\n",
      "  stderr: 'Cloning into 'repos/eomiso/style-transfer-code-study'...\n",
      "fatal: could not read Username for 'https://github.com': No such device or address\n",
      "'\n"
     ]
    },
    {
     "name": "stderr",
     "output_type": "stream",
     "text": [
      " 46%|████▋     | 21450/46292 [14:03:43<5:15:39,  1.31it/s] "
     ]
    },
    {
     "name": "stdout",
     "output_type": "stream",
     "text": [
      "Cmd('git') failed due to: exit code(128)\n",
      "  cmdline: git clone -v https://github.com/lucatelli/kurvature repos/lucatelli/kurvature\n",
      "  stderr: 'Cloning into 'repos/lucatelli/kurvature'...\n",
      "fatal: could not read Username for 'https://github.com': No such device or address\n",
      "'\n"
     ]
    },
    {
     "name": "stderr",
     "output_type": "stream",
     "text": [
      " 46%|████▋     | 21485/46292 [14:07:16<87:41:43, 12.73s/it] "
     ]
    },
    {
     "name": "stdout",
     "output_type": "stream",
     "text": [
      "Cmd('git') failed due to: exit code(128)\n",
      "  cmdline: git clone -v https://github.com/tzunun/iono2 repos/tzunun/iono2\n",
      "  stderr: 'Cloning into 'repos/tzunun/iono2'...\n",
      "fatal: could not read Username for 'https://github.com': No such device or address\n",
      "'\n"
     ]
    },
    {
     "name": "stderr",
     "output_type": "stream",
     "text": [
      " 47%|████▋     | 21589/46292 [14:17:16<21:40:13,  3.16s/it] "
     ]
    },
    {
     "name": "stdout",
     "output_type": "stream",
     "text": [
      "Cmd('git') failed due to: exit code(128)\n",
      "  cmdline: git clone -v https://github.com/samarthanand12/darknet repos/samarthanand12/darknet\n",
      "  stderr: 'Cloning into 'repos/samarthanand12/darknet'...\n",
      "fatal: could not read Username for 'https://github.com': No such device or address\n",
      "'\n"
     ]
    },
    {
     "name": "stderr",
     "output_type": "stream",
     "text": [
      "\r",
      " 47%|████▋     | 21590/46292 [14:17:16<15:51:19,  2.31s/it]"
     ]
    },
    {
     "name": "stdout",
     "output_type": "stream",
     "text": [
      "Cmd('git') failed due to: exit code(128)\n",
      "  cmdline: git clone -v https://github.com/samarthanand12/darknet repos/samarthanand12/darknet\n",
      "  stderr: 'Cloning into 'repos/samarthanand12/darknet'...\n",
      "fatal: could not read Username for 'https://github.com': No such device or address\n",
      "'\n"
     ]
    },
    {
     "name": "stderr",
     "output_type": "stream",
     "text": [
      " 47%|████▋     | 21592/46292 [14:17:19<11:43:08,  1.71s/it]"
     ]
    },
    {
     "name": "stdout",
     "output_type": "stream",
     "text": [
      "Cmd('git') failed due to: exit code(128)\n",
      "  cmdline: git clone -v https://github.com/samarthanand12/darknet repos/samarthanand12/darknet\n",
      "  stderr: 'Cloning into 'repos/samarthanand12/darknet'...\n",
      "fatal: could not read Username for 'https://github.com': No such device or address\n",
      "'\n"
     ]
    },
    {
     "name": "stderr",
     "output_type": "stream",
     "text": [
      " 47%|████▋     | 21642/46292 [14:18:29<6:32:49,  1.05it/s] "
     ]
    },
    {
     "name": "stdout",
     "output_type": "stream",
     "text": [
      "Cmd('git') failed due to: exit code(128)\n",
      "  cmdline: git clone -v https://github.com/Alexandra-Vogt/lc repos/Alexandra-Vogt/lc\n",
      "  stderr: 'Cloning into 'repos/Alexandra-Vogt/lc'...\n",
      "fatal: could not read Username for 'https://github.com': No such device or address\n",
      "'\n"
     ]
    },
    {
     "name": "stderr",
     "output_type": "stream",
     "text": [
      " 47%|████▋     | 21684/46292 [14:19:51<20:08:39,  2.95s/it]"
     ]
    },
    {
     "name": "stdout",
     "output_type": "stream",
     "text": [
      "Cmd('git') failed due to: exit code(128)\n",
      "  cmdline: git clone -v https://github.com/deepmind/deepmind-research/tree/master/geomancer repos/deepmind/deepmind-research/tree/master/geomancer\n",
      "  stderr: 'Cloning into 'repos/deepmind/deepmind-research/tree/master/geomancer'...\n",
      "fatal: repository 'https://github.com/deepmind/deepmind-research/tree/master/geomancer/' not found\n",
      "'\n"
     ]
    },
    {
     "name": "stderr",
     "output_type": "stream",
     "text": [
      " 47%|████▋     | 21768/46292 [14:22:08<13:19:50,  1.96s/it]"
     ]
    },
    {
     "name": "stdout",
     "output_type": "stream",
     "text": [
      "Cmd('git') failed due to: exit code(128)\n",
      "  cmdline: git clone -v https://github.com/alexandrosstergiou/Squeeze-and-Recursion-Temporal-Gates/blob/master/train_model.py repos/alexandrosstergiou/Squeeze-and-Recursion-Temporal-Gates/blob/master/train_model.py\n",
      "  stderr: 'Cloning into 'repos/alexandrosstergiou/Squeeze-and-Recursion-Temporal-Gates/blob/master/train_model.py'...\n",
      "fatal: repository 'https://github.com/alexandrosstergiou/Squeeze-and-Recursion-Temporal-Gates/blob/master/train_model.py/' not found\n",
      "'\n"
     ]
    },
    {
     "name": "stderr",
     "output_type": "stream",
     "text": [
      " 47%|████▋     | 21791/46292 [14:22:41<3:20:39,  2.04it/s] "
     ]
    },
    {
     "name": "stdout",
     "output_type": "stream",
     "text": [
      "Cmd('git') failed due to: exit code(128)\n",
      "  cmdline: git clone -v https://github.com/KengoMachida/msrdarts repos/KengoMachida/msrdarts\n",
      "  stderr: 'Cloning into 'repos/KengoMachida/msrdarts'...\n",
      "fatal: could not read Username for 'https://github.com': No such device or address\n",
      "'\n"
     ]
    },
    {
     "name": "stderr",
     "output_type": "stream",
     "text": [
      " 47%|████▋     | 21830/46292 [14:25:45<6:36:38,  1.03it/s]  "
     ]
    },
    {
     "name": "stdout",
     "output_type": "stream",
     "text": [
      "Cmd('git') failed due to: exit code(128)\n",
      "  cmdline: git clone -v https://github.com/https://gitlab.com/cwalder/linkgistic repos/https://gitlab.com/cwalder/linkgistic\n",
      "  stderr: 'Cloning into 'repos/https://gitlab.com/cwalder/linkgistic'...\n",
      "remote: Not Found\n",
      "fatal: repository 'https://github.com/https://gitlab.com/cwalder/linkgistic/' not found\n",
      "'\n"
     ]
    },
    {
     "name": "stderr",
     "output_type": "stream",
     "text": [
      " 47%|████▋     | 21854/46292 [14:26:04<6:14:27,  1.09it/s] "
     ]
    },
    {
     "name": "stdout",
     "output_type": "stream",
     "text": [
      "Cmd('git') failed due to: exit code(128)\n",
      "  cmdline: git clone -v https://github.com/sachit-n/headline_generation repos/sachit-n/headline_generation\n",
      "  stderr: 'Cloning into 'repos/sachit-n/headline_generation'...\n",
      "fatal: could not read Username for 'https://github.com': No such device or address\n",
      "'\n"
     ]
    },
    {
     "name": "stderr",
     "output_type": "stream",
     "text": [
      " 47%|████▋     | 21866/46292 [14:26:19<6:19:25,  1.07it/s] "
     ]
    },
    {
     "name": "stdout",
     "output_type": "stream",
     "text": [
      "Cmd('git') failed due to: exit code(128)\n",
      "  cmdline: git clone -v https://github.com/lixuanhng/LawAICompetition repos/lixuanhng/LawAICompetition\n",
      "  stderr: 'Cloning into 'repos/lixuanhng/LawAICompetition'...\n",
      "fatal: could not read Username for 'https://github.com': No such device or address\n",
      "'\n"
     ]
    },
    {
     "name": "stderr",
     "output_type": "stream",
     "text": [
      " 47%|████▋     | 21900/46292 [14:27:27<27:19:12,  4.03s/it]"
     ]
    },
    {
     "name": "stdout",
     "output_type": "stream",
     "text": [
      "Cmd('git') failed due to: exit code(128)\n",
      "  cmdline: git clone -v https://github.com/https://gitlab.com/YvonneKrumbeck/mating-type-model repos/https://gitlab.com/YvonneKrumbeck/mating-type-model\n",
      "  stderr: 'Cloning into 'repos/https://gitlab.com/YvonneKrumbeck/mating-type-model'...\n",
      "remote: Not Found\n",
      "fatal: repository 'https://github.com/https://gitlab.com/YvonneKrumbeck/mating-type-model/' not found\n",
      "'\n"
     ]
    },
    {
     "name": "stderr",
     "output_type": "stream",
     "text": [
      " 47%|████▋     | 21988/46292 [14:30:34<7:04:09,  1.05s/it] "
     ]
    },
    {
     "name": "stdout",
     "output_type": "stream",
     "text": [
      "Cmd('git') failed due to: exit code(128)\n",
      "  cmdline: git clone -v https://github.com/keynans/Hyper-PEARL repos/keynans/Hyper-PEARL\n",
      "  stderr: 'Cloning into 'repos/keynans/Hyper-PEARL'...\n",
      "fatal: could not read Username for 'https://github.com': No such device or address\n",
      "'\n"
     ]
    },
    {
     "name": "stderr",
     "output_type": "stream",
     "text": [
      " 48%|████▊     | 22023/46292 [14:31:58<16:27:32,  2.44s/it]"
     ]
    },
    {
     "name": "stdout",
     "output_type": "stream",
     "text": [
      "Cmd('git') failed due to: exit code(128)\n",
      "  cmdline: git clone -v https://github.com/https://gitlab.com/fempar/fempar repos/https://gitlab.com/fempar/fempar\n",
      "  stderr: 'Cloning into 'repos/https://gitlab.com/fempar/fempar'...\n",
      "remote: Not Found\n",
      "fatal: repository 'https://github.com/https://gitlab.com/fempar/fempar/' not found\n",
      "'\n"
     ]
    },
    {
     "name": "stderr",
     "output_type": "stream",
     "text": [
      " 48%|████▊     | 22118/46292 [14:33:59<6:12:17,  1.08it/s] "
     ]
    },
    {
     "name": "stdout",
     "output_type": "stream",
     "text": [
      "Cmd('git') failed due to: exit code(128)\n",
      "  cmdline: git clone -v https://github.com/google-research/google-research/tree/master/bangbang_qaoa repos/google-research/google-research/tree/master/bangbang_qaoa\n",
      "  stderr: 'Cloning into 'repos/google-research/google-research/tree/master/bangbang_qaoa'...\n",
      "fatal: repository 'https://github.com/google-research/google-research/tree/master/bangbang_qaoa/' not found\n",
      "'\n"
     ]
    },
    {
     "name": "stderr",
     "output_type": "stream",
     "text": [
      " 48%|████▊     | 22129/46292 [14:34:17<10:42:03,  1.59s/it]"
     ]
    },
    {
     "name": "stdout",
     "output_type": "stream",
     "text": [
      "Cmd('git') failed due to: exit code(128)\n",
      "  cmdline: git clone -v https://github.com/https://bitbucket.org/bazantgroup/mpet repos/https://bitbucket.org/bazantgroup/mpet\n",
      "  stderr: 'Cloning into 'repos/https://bitbucket.org/bazantgroup/mpet'...\n",
      "remote: Not Found\n",
      "fatal: repository 'https://github.com/https://bitbucket.org/bazantgroup/mpet/' not found\n",
      "'\n"
     ]
    },
    {
     "name": "stderr",
     "output_type": "stream",
     "text": [
      " 48%|████▊     | 22131/46292 [14:34:18<7:38:16,  1.14s/it] "
     ]
    },
    {
     "name": "stdout",
     "output_type": "stream",
     "text": [
      "Cmd('git') failed due to: exit code(128)\n",
      "  cmdline: git clone -v https://github.com/https://bitbucket.org/lbliek2/idone repos/https://bitbucket.org/lbliek2/idone\n",
      "  stderr: 'Cloning into 'repos/https://bitbucket.org/lbliek2/idone'...\n",
      "remote: Not Found\n",
      "fatal: repository 'https://github.com/https://bitbucket.org/lbliek2/idone/' not found\n",
      "'\n"
     ]
    },
    {
     "name": "stderr",
     "output_type": "stream",
     "text": [
      " 48%|████▊     | 22171/46292 [14:35:24<4:25:30,  1.51it/s] "
     ]
    },
    {
     "name": "stdout",
     "output_type": "stream",
     "text": [
      "Cmd('git') failed due to: exit code(128)\n",
      "  cmdline: git clone -v https://github.com/mws262/MAE5730_examples/tree/master/3BodySolutions repos/mws262/MAE5730_examples/tree/master/3BodySolutions\n",
      "  stderr: 'Cloning into 'repos/mws262/MAE5730_examples/tree/master/3BodySolutions'...\n",
      "fatal: repository 'https://github.com/mws262/MAE5730_examples/tree/master/3BodySolutions/' not found\n",
      "'\n"
     ]
    },
    {
     "name": "stderr",
     "output_type": "stream",
     "text": [
      " 48%|████▊     | 22195/46292 [14:37:36<6:34:14,  1.02it/s]  "
     ]
    },
    {
     "name": "stdout",
     "output_type": "stream",
     "text": [
      "Cmd('git') failed due to: exit code(128)\n",
      "  cmdline: git clone -v https://github.com/epiqc/Benchmarks/tree/master/bench/square-cirq repos/epiqc/Benchmarks/tree/master/bench/square-cirq\n",
      "  stderr: 'Cloning into 'repos/epiqc/Benchmarks/tree/master/bench/square-cirq'...\n",
      "fatal: repository 'https://github.com/epiqc/Benchmarks/tree/master/bench/square-cirq/' not found\n",
      "'\n"
     ]
    },
    {
     "name": "stderr",
     "output_type": "stream",
     "text": [
      " 48%|████▊     | 22231/46292 [14:39:39<10:52:14,  1.63s/it] "
     ]
    },
    {
     "name": "stdout",
     "output_type": "stream",
     "text": [
      "Cmd('git') failed due to: exit code(128)\n",
      "  cmdline: git clone -v https://github.com/EugenHotaj/pytorch-generative/blob/master/pytorch_generative/models/vq_vae.py repos/EugenHotaj/pytorch-generative/blob/master/pytorch_generative/models/vq_vae.py\n",
      "  stderr: 'Cloning into 'repos/EugenHotaj/pytorch-generative/blob/master/pytorch_generative/models/vq_vae.py'...\n",
      "fatal: repository 'https://github.com/EugenHotaj/pytorch-generative/blob/master/pytorch_generative/models/vq_vae.py/' not found\n",
      "'\n"
     ]
    },
    {
     "name": "stderr",
     "output_type": "stream",
     "text": [
      " 48%|████▊     | 22234/46292 [14:39:43<9:23:06,  1.40s/it] "
     ]
    },
    {
     "name": "stdout",
     "output_type": "stream",
     "text": [
      "Cmd('git') failed due to: exit code(128)\n",
      "  cmdline: git clone -v https://github.com/jakegrigsby/deep_control/blob/master/deep_control/sac.py repos/jakegrigsby/deep_control/blob/master/deep_control/sac.py\n",
      "  stderr: 'Cloning into 'repos/jakegrigsby/deep_control/blob/master/deep_control/sac.py'...\n",
      "fatal: repository 'https://github.com/jakegrigsby/deep_control/blob/master/deep_control/sac.py/' not found\n",
      "'\n"
     ]
    },
    {
     "name": "stderr",
     "output_type": "stream",
     "text": [
      " 48%|████▊     | 22238/46292 [14:39:45<5:30:38,  1.21it/s]"
     ]
    },
    {
     "name": "stdout",
     "output_type": "stream",
     "text": [
      "Cmd('git') failed due to: exit code(128)\n",
      "  cmdline: git clone -v https://github.com/https://gitlab.com/secml/secml repos/https://gitlab.com/secml/secml\n",
      "  stderr: 'Cloning into 'repos/https://gitlab.com/secml/secml'...\n",
      "remote: Not Found\n",
      "fatal: repository 'https://github.com/https://gitlab.com/secml/secml/' not found\n",
      "'\n"
     ]
    },
    {
     "name": "stderr",
     "output_type": "stream",
     "text": [
      " 48%|████▊     | 22247/46292 [14:39:52<5:08:46,  1.30it/s]"
     ]
    },
    {
     "name": "stdout",
     "output_type": "stream",
     "text": [
      "Cmd('git') failed due to: exit code(128)\n",
      "  cmdline: git clone -v https://github.com/EugenHotaj/pytorch-generative/blob/master/pytorch_generative/models/vae.py repos/EugenHotaj/pytorch-generative/blob/master/pytorch_generative/models/vae.py\n",
      "  stderr: 'Cloning into 'repos/EugenHotaj/pytorch-generative/blob/master/pytorch_generative/models/vae.py'...\n",
      "fatal: repository 'https://github.com/EugenHotaj/pytorch-generative/blob/master/pytorch_generative/models/vae.py/' not found\n",
      "'\n"
     ]
    },
    {
     "name": "stderr",
     "output_type": "stream",
     "text": [
      " 48%|████▊     | 22249/46292 [14:39:53<4:07:38,  1.62it/s]"
     ]
    },
    {
     "name": "stdout",
     "output_type": "stream",
     "text": [
      "Cmd('git') failed due to: exit code(128)\n",
      "  cmdline: git clone -v https://github.com/EugenHotaj/pytorch-generative/blob/master/notebooks/style_transfer.ipynb repos/EugenHotaj/pytorch-generative/blob/master/notebooks/style_transfer.ipynb\n",
      "  stderr: 'Cloning into 'repos/EugenHotaj/pytorch-generative/blob/master/notebooks/style_transfer.ipynb'...\n",
      "fatal: repository 'https://github.com/EugenHotaj/pytorch-generative/blob/master/notebooks/style_transfer.ipynb/' not found\n",
      "'\n"
     ]
    },
    {
     "name": "stderr",
     "output_type": "stream",
     "text": [
      " 48%|████▊     | 22290/46292 [14:42:02<9:25:54,  1.41s/it] "
     ]
    },
    {
     "name": "stdout",
     "output_type": "stream",
     "text": [
      "Cmd('git') failed due to: exit code(128)\n",
      "  cmdline: git clone -v https://github.com/https://gitlab.com/oameed/unm_cem_dlfdtd repos/https://gitlab.com/oameed/unm_cem_dlfdtd\n",
      "  stderr: 'Cloning into 'repos/https://gitlab.com/oameed/unm_cem_dlfdtd'...\n",
      "remote: Not Found\n",
      "fatal: repository 'https://github.com/https://gitlab.com/oameed/unm_cem_dlfdtd/' not found\n",
      "'\n"
     ]
    },
    {
     "name": "stderr",
     "output_type": "stream",
     "text": [
      " 48%|████▊     | 22377/46292 [14:47:15<26:11:19,  3.94s/it] "
     ]
    },
    {
     "name": "stdout",
     "output_type": "stream",
     "text": [
      "Cmd('git') failed due to: exit code(128)\n",
      "  cmdline: git clone -v https://github.com/kwdaisuke/Dog-Project repos/kwdaisuke/Dog-Project\n",
      "  stderr: 'Cloning into 'repos/kwdaisuke/Dog-Project'...\n",
      "fatal: could not read Username for 'https://github.com': No such device or address\n",
      "'\n"
     ]
    },
    {
     "name": "stderr",
     "output_type": "stream",
     "text": [
      " 48%|████▊     | 22385/46292 [14:48:04<18:55:08,  2.85s/it]"
     ]
    },
    {
     "name": "stdout",
     "output_type": "stream",
     "text": [
      "Cmd('git') failed due to: exit code(128)\n",
      "  cmdline: git clone -v https://github.com/dompteur/artifacts repos/dompteur/artifacts\n",
      "  stderr: 'Cloning into 'repos/dompteur/artifacts'...\n",
      "fatal: could not read Username for 'https://github.com': No such device or address\n",
      "'\n"
     ]
    },
    {
     "name": "stderr",
     "output_type": "stream",
     "text": [
      " 48%|████▊     | 22443/46292 [14:49:49<5:00:41,  1.32it/s] "
     ]
    },
    {
     "name": "stdout",
     "output_type": "stream",
     "text": [
      "Cmd('git') failed due to: exit code(128)\n",
      "  cmdline: git clone -v https://github.com/https://bitbucket.org/pbehroozi/lcdm-probability repos/https://bitbucket.org/pbehroozi/lcdm-probability\n",
      "  stderr: 'Cloning into 'repos/https://bitbucket.org/pbehroozi/lcdm-probability'...\n",
      "remote: Not Found\n",
      "fatal: repository 'https://github.com/https://bitbucket.org/pbehroozi/lcdm-probability/' not found\n",
      "'\n"
     ]
    },
    {
     "name": "stderr",
     "output_type": "stream",
     "text": [
      " 49%|████▊     | 22469/46292 [14:50:35<9:40:13,  1.46s/it] "
     ]
    },
    {
     "name": "stdout",
     "output_type": "stream",
     "text": [
      "Cmd('git') failed due to: exit code(128)\n",
      "  cmdline: git clone -v https://github.com/https://gitlab.com/gortizji/sparse_tensor_sensing repos/https://gitlab.com/gortizji/sparse_tensor_sensing\n",
      "  stderr: 'Cloning into 'repos/https://gitlab.com/gortizji/sparse_tensor_sensing'...\n",
      "remote: Not Found\n",
      "fatal: repository 'https://github.com/https://gitlab.com/gortizji/sparse_tensor_sensing/' not found\n",
      "'\n"
     ]
    },
    {
     "name": "stderr",
     "output_type": "stream",
     "text": [
      " 49%|████▊     | 22493/46292 [14:51:34<7:32:41,  1.14s/it] "
     ]
    },
    {
     "name": "stdout",
     "output_type": "stream",
     "text": [
      "Cmd('git') failed due to: exit code(128)\n",
      "  cmdline: git clone -v https://github.com/https://gitlab.com/materials-modeling/icet repos/https://gitlab.com/materials-modeling/icet\n",
      "  stderr: 'Cloning into 'repos/https://gitlab.com/materials-modeling/icet'...\n",
      "remote: Not Found\n",
      "fatal: repository 'https://github.com/https://gitlab.com/materials-modeling/icet/' not found\n",
      "'\n"
     ]
    },
    {
     "name": "stderr",
     "output_type": "stream",
     "text": [
      " 49%|████▊     | 22498/46292 [14:51:40<7:12:40,  1.09s/it] "
     ]
    },
    {
     "name": "stdout",
     "output_type": "stream",
     "text": [
      "Cmd('git') failed due to: exit code(128)\n",
      "  cmdline: git clone -v https://github.com/https://gitlab.com/manzai/Big-BWT repos/https://gitlab.com/manzai/Big-BWT\n",
      "  stderr: 'Cloning into 'repos/https://gitlab.com/manzai/Big-BWT'...\n",
      "remote: Not Found\n",
      "fatal: repository 'https://github.com/https://gitlab.com/manzai/Big-BWT/' not found\n",
      "'\n"
     ]
    },
    {
     "name": "stderr",
     "output_type": "stream",
     "text": [
      " 49%|████▊     | 22500/46292 [14:51:41<4:46:43,  1.38it/s]"
     ]
    },
    {
     "name": "stdout",
     "output_type": "stream",
     "text": [
      "Cmd('git') failed due to: exit code(128)\n",
      "  cmdline: git clone -v https://github.com/https://bitbucket.org/lillo/iotlysa repos/https://bitbucket.org/lillo/iotlysa\n",
      "  stderr: 'Cloning into 'repos/https://bitbucket.org/lillo/iotlysa'...\n",
      "remote: Not Found\n",
      "fatal: repository 'https://github.com/https://bitbucket.org/lillo/iotlysa/' not found\n",
      "'\n"
     ]
    },
    {
     "name": "stderr",
     "output_type": "stream",
     "text": [
      " 49%|████▊     | 22512/46292 [14:51:52<6:06:01,  1.08it/s]"
     ]
    },
    {
     "name": "stdout",
     "output_type": "stream",
     "text": [
      "Cmd('git') failed due to: exit code(128)\n",
      "  cmdline: git clone -v https://github.com/https://bitbucket.org/ada_yan/cross-reactivity repos/https://bitbucket.org/ada_yan/cross-reactivity\n",
      "  stderr: 'Cloning into 'repos/https://bitbucket.org/ada_yan/cross-reactivity'...\n",
      "remote: Not Found\n",
      "fatal: repository 'https://github.com/https://bitbucket.org/ada_yan/cross-reactivity/' not found\n",
      "'\n"
     ]
    },
    {
     "name": "stderr",
     "output_type": "stream",
     "text": [
      " 49%|████▊     | 22519/46292 [14:52:13<14:14:19,  2.16s/it]"
     ]
    },
    {
     "name": "stdout",
     "output_type": "stream",
     "text": [
      "Cmd('git') failed due to: exit code(128)\n",
      "  cmdline: git clone -v https://github.com/https://bitbucket.org/michael_ameri/b2w repos/https://bitbucket.org/michael_ameri/b2w\n",
      "  stderr: 'Cloning into 'repos/https://bitbucket.org/michael_ameri/b2w'...\n",
      "remote: Not Found\n",
      "fatal: repository 'https://github.com/https://bitbucket.org/michael_ameri/b2w/' not found\n",
      "'\n"
     ]
    },
    {
     "name": "stderr",
     "output_type": "stream",
     "text": [
      " 49%|████▊     | 22559/46292 [14:53:29<18:49:48,  2.86s/it]"
     ]
    },
    {
     "name": "stdout",
     "output_type": "stream",
     "text": [
      "Cmd('git') failed due to: exit code(128)\n",
      "  cmdline: git clone -v https://github.com/https://gitlab.com/kourtis/tensorCSP repos/https://gitlab.com/kourtis/tensorCSP\n",
      "  stderr: 'Cloning into 'repos/https://gitlab.com/kourtis/tensorCSP'...\n",
      "remote: Not Found\n",
      "fatal: repository 'https://github.com/https://gitlab.com/kourtis/tensorCSP/' not found\n",
      "'\n"
     ]
    },
    {
     "name": "stderr",
     "output_type": "stream",
     "text": [
      " 49%|████▉     | 22570/46292 [14:53:52<8:34:57,  1.30s/it] "
     ]
    },
    {
     "name": "stdout",
     "output_type": "stream",
     "text": [
      "Cmd('git') failed due to: exit code(128)\n",
      "  cmdline: git clone -v https://github.com/https://gitlab.com/oquijano/bayesian-credibility-glms repos/https://gitlab.com/oquijano/bayesian-credibility-glms\n",
      "  stderr: 'Cloning into 'repos/https://gitlab.com/oquijano/bayesian-credibility-glms'...\n",
      "remote: Not Found\n",
      "fatal: repository 'https://github.com/https://gitlab.com/oquijano/bayesian-credibility-glms/' not found\n",
      "'\n"
     ]
    },
    {
     "name": "stderr",
     "output_type": "stream",
     "text": [
      " 49%|████▉     | 22593/46292 [14:55:23<18:01:28,  2.74s/it]"
     ]
    },
    {
     "name": "stdout",
     "output_type": "stream",
     "text": [
      "Cmd('git') failed due to: exit code(128)\n",
      "  cmdline: git clone -v https://github.com/https://gitlab.com/firefly-library/firefly repos/https://gitlab.com/firefly-library/firefly\n",
      "  stderr: 'Cloning into 'repos/https://gitlab.com/firefly-library/firefly'...\n",
      "remote: Not Found\n",
      "fatal: repository 'https://github.com/https://gitlab.com/firefly-library/firefly/' not found\n",
      "'\n"
     ]
    },
    {
     "name": "stderr",
     "output_type": "stream",
     "text": [
      " 49%|████▉     | 22609/46292 [14:55:59<17:31:56,  2.67s/it]"
     ]
    },
    {
     "name": "stdout",
     "output_type": "stream",
     "text": [
      "Cmd('git') failed due to: exit code(128)\n",
      "  cmdline: git clone -v https://github.com/https://gitlab.com/januseriksen/pymbe repos/https://gitlab.com/januseriksen/pymbe\n",
      "  stderr: 'Cloning into 'repos/https://gitlab.com/januseriksen/pymbe'...\n",
      "remote: Not Found\n",
      "fatal: repository 'https://github.com/https://gitlab.com/januseriksen/pymbe/' not found\n",
      "'\n"
     ]
    },
    {
     "name": "stderr",
     "output_type": "stream",
     "text": [
      " 49%|████▉     | 22632/46292 [14:58:31<22:29:12,  3.42s/it] "
     ]
    },
    {
     "name": "stdout",
     "output_type": "stream",
     "text": [
      "Cmd('git') failed due to: exit code(128)\n",
      "  cmdline: git clone -v https://github.com/https://gitlab.com/VORtechBV/mamec repos/https://gitlab.com/VORtechBV/mamec\n",
      "  stderr: 'Cloning into 'repos/https://gitlab.com/VORtechBV/mamec'...\n",
      "remote: Not Found\n",
      "fatal: repository 'https://github.com/https://gitlab.com/VORtechBV/mamec/' not found\n",
      "'\n"
     ]
    },
    {
     "name": "stderr",
     "output_type": "stream",
     "text": [
      " 49%|████▉     | 22644/46292 [14:59:06<6:37:11,  1.01s/it] "
     ]
    },
    {
     "name": "stdout",
     "output_type": "stream",
     "text": [
      "Cmd('git') failed due to: exit code(128)\n",
      "  cmdline: git clone -v https://github.com/https://gitlab.com/firefly-library/firefly repos/https://gitlab.com/firefly-library/firefly\n",
      "  stderr: 'Cloning into 'repos/https://gitlab.com/firefly-library/firefly'...\n",
      "remote: Not Found\n",
      "fatal: repository 'https://github.com/https://gitlab.com/firefly-library/firefly/' not found\n",
      "'\n"
     ]
    },
    {
     "name": "stderr",
     "output_type": "stream",
     "text": [
      "\r",
      " 49%|████▉     | 22645/46292 [14:59:06<5:10:59,  1.27it/s]"
     ]
    },
    {
     "name": "stdout",
     "output_type": "stream",
     "text": [
      "Cmd('git') failed due to: exit code(128)\n",
      "  cmdline: git clone -v https://github.com/https://gitlab.com/alxvov/spinmin repos/https://gitlab.com/alxvov/spinmin\n",
      "  stderr: 'Cloning into 'repos/https://gitlab.com/alxvov/spinmin'...\n",
      "remote: Not Found\n",
      "fatal: repository 'https://github.com/https://gitlab.com/alxvov/spinmin/' not found\n",
      "'\n"
     ]
    },
    {
     "name": "stderr",
     "output_type": "stream",
     "text": [
      " 49%|████▉     | 22664/46292 [14:59:34<8:38:40,  1.32s/it] "
     ]
    },
    {
     "name": "stdout",
     "output_type": "stream",
     "text": [
      "Cmd('git') failed due to: exit code(128)\n",
      "  cmdline: git clone -v https://github.com/https://bitbucket.org/spramod/fall-attacks repos/https://bitbucket.org/spramod/fall-attacks\n",
      "  stderr: 'Cloning into 'repos/https://bitbucket.org/spramod/fall-attacks'...\n",
      "remote: Not Found\n",
      "fatal: repository 'https://github.com/https://bitbucket.org/spramod/fall-attacks/' not found\n",
      "'\n"
     ]
    },
    {
     "name": "stderr",
     "output_type": "stream",
     "text": [
      " 49%|████▉     | 22666/46292 [14:59:35<5:39:47,  1.16it/s]"
     ]
    },
    {
     "name": "stdout",
     "output_type": "stream",
     "text": [
      "Cmd('git') failed due to: exit code(128)\n",
      "  cmdline: git clone -v https://github.com/tdresearchgroup/getsmells repos/tdresearchgroup/getsmells\n",
      "  stderr: 'Cloning into 'repos/tdresearchgroup/getsmells'...\n",
      "fatal: could not read Username for 'https://github.com': No such device or address\n",
      "'\n"
     ]
    },
    {
     "name": "stderr",
     "output_type": "stream",
     "text": [
      "\r",
      " 49%|████▉     | 22667/46292 [14:59:35<4:33:27,  1.44it/s]"
     ]
    },
    {
     "name": "stdout",
     "output_type": "stream",
     "text": [
      "Cmd('git') failed due to: exit code(128)\n",
      "  cmdline: git clone -v https://github.com/https://gitlab.com/PoliToComplexSystemLab/adn-metapopulation-2020 repos/https://gitlab.com/PoliToComplexSystemLab/adn-metapopulation-2020\n",
      "  stderr: 'Cloning into 'repos/https://gitlab.com/PoliToComplexSystemLab/adn-metapopulation-2020'...\n",
      "remote: Not Found\n",
      "fatal: repository 'https://github.com/https://gitlab.com/PoliToComplexSystemLab/adn-metapopulation-2020/' not found\n",
      "'\n"
     ]
    },
    {
     "name": "stderr",
     "output_type": "stream",
     "text": [
      " 49%|████▉     | 22674/46292 [14:59:46<9:21:22,  1.43s/it] "
     ]
    },
    {
     "name": "stdout",
     "output_type": "stream",
     "text": [
      "Cmd('git') failed due to: exit code(128)\n",
      "  cmdline: git clone -v https://github.com/https://gitlab.com/clairedavies/sedbys repos/https://gitlab.com/clairedavies/sedbys\n",
      "  stderr: 'Cloning into 'repos/https://gitlab.com/clairedavies/sedbys'...\n",
      "remote: Not Found\n",
      "fatal: repository 'https://github.com/https://gitlab.com/clairedavies/sedbys/' not found\n",
      "'\n"
     ]
    },
    {
     "name": "stderr",
     "output_type": "stream",
     "text": [
      " 49%|████▉     | 22699/46292 [15:01:13<14:54:21,  2.27s/it]"
     ]
    },
    {
     "name": "stdout",
     "output_type": "stream",
     "text": [
      "Cmd('git') failed due to: exit code(128)\n",
      "  cmdline: git clone -v https://github.com/https://bitbucket.org/krumholz/dustevol repos/https://bitbucket.org/krumholz/dustevol\n",
      "  stderr: 'Cloning into 'repos/https://bitbucket.org/krumholz/dustevol'...\n",
      "remote: Not Found\n",
      "fatal: repository 'https://github.com/https://bitbucket.org/krumholz/dustevol/' not found\n",
      "'\n"
     ]
    },
    {
     "name": "stderr",
     "output_type": "stream",
     "text": [
      " 49%|████▉     | 22711/46292 [15:01:26<5:14:08,  1.25it/s] "
     ]
    },
    {
     "name": "stdout",
     "output_type": "stream",
     "text": [
      "Cmd('git') failed due to: exit code(128)\n",
      "  cmdline: git clone -v https://github.com/https://gitlab.com/montanari/byspectrum repos/https://gitlab.com/montanari/byspectrum\n",
      "  stderr: 'Cloning into 'repos/https://gitlab.com/montanari/byspectrum'...\n",
      "remote: Not Found\n",
      "fatal: repository 'https://github.com/https://gitlab.com/montanari/byspectrum/' not found\n",
      "'\n"
     ]
    },
    {
     "name": "stderr",
     "output_type": "stream",
     "text": [
      " 49%|████▉     | 22713/46292 [15:01:26<3:50:56,  1.70it/s]"
     ]
    },
    {
     "name": "stdout",
     "output_type": "stream",
     "text": [
      "Cmd('git') failed due to: exit code(128)\n",
      "  cmdline: git clone -v https://github.com/https://bitbucket.org/broukema/1902.09064 repos/https://bitbucket.org/broukema/1902.09064\n",
      "  stderr: 'Cloning into 'repos/https://bitbucket.org/broukema/1902.09064'...\n",
      "remote: Not Found\n",
      "fatal: repository 'https://github.com/https://bitbucket.org/broukema/1902.09064/' not found\n",
      "'\n"
     ]
    },
    {
     "name": "stderr",
     "output_type": "stream",
     "text": [
      " 49%|████▉     | 22719/46292 [15:01:57<23:57:15,  3.66s/it]"
     ]
    },
    {
     "name": "stdout",
     "output_type": "stream",
     "text": [
      "Cmd('git') failed due to: exit code(128)\n",
      "  cmdline: git clone -v https://github.com/https://gitlab.com/januseriksen/pymbe repos/https://gitlab.com/januseriksen/pymbe\n",
      "  stderr: 'Cloning into 'repos/https://gitlab.com/januseriksen/pymbe'...\n",
      "remote: Not Found\n",
      "fatal: repository 'https://github.com/https://gitlab.com/januseriksen/pymbe/' not found\n",
      "'\n"
     ]
    },
    {
     "name": "stderr",
     "output_type": "stream",
     "text": [
      " 49%|████▉     | 22742/46292 [15:03:36<28:56:36,  4.42s/it]"
     ]
    },
    {
     "name": "stdout",
     "output_type": "stream",
     "text": [
      "Cmd('git') failed due to: exit code(128)\n",
      "  cmdline: git clone -v https://github.com/https://bitbucket.org/em459/hybridizeddg repos/https://bitbucket.org/em459/hybridizeddg\n",
      "  stderr: 'Cloning into 'repos/https://bitbucket.org/em459/hybridizeddg'...\n",
      "remote: Not Found\n",
      "fatal: repository 'https://github.com/https://bitbucket.org/em459/hybridizeddg/' not found\n",
      "'\n"
     ]
    },
    {
     "name": "stderr",
     "output_type": "stream",
     "text": [
      " 49%|████▉     | 22745/46292 [15:03:40<13:38:03,  2.08s/it]"
     ]
    },
    {
     "name": "stdout",
     "output_type": "stream",
     "text": [
      "Cmd('git') failed due to: exit code(128)\n",
      "  cmdline: git clone -v https://github.com/https://bitbucket.org/croci/femlmc repos/https://bitbucket.org/croci/femlmc\n",
      "  stderr: 'Cloning into 'repos/https://bitbucket.org/croci/femlmc'...\n",
      "remote: Not Found\n",
      "fatal: repository 'https://github.com/https://bitbucket.org/croci/femlmc/' not found\n",
      "'\n",
      "Cmd('git') failed due to: exit code(128)\n",
      "  cmdline: git clone -v https://github.com/https://bitbucket.org/croci/femlmc repos/https://bitbucket.org/croci/femlmc\n",
      "  stderr: 'Cloning into 'repos/https://bitbucket.org/croci/femlmc'...\n",
      "remote: Not Found\n",
      "fatal: repository 'https://github.com/https://bitbucket.org/croci/femlmc/' not found\n",
      "'\n"
     ]
    },
    {
     "name": "stderr",
     "output_type": "stream",
     "text": [
      " 49%|████▉     | 22754/46292 [15:03:44<4:33:50,  1.43it/s] "
     ]
    },
    {
     "name": "stdout",
     "output_type": "stream",
     "text": [
      "Cmd('git') failed due to: exit code(128)\n",
      "  cmdline: git clone -v https://github.com/https://zenodo.org/record/4301374 repos/https://zenodo.org/record/4301374\n",
      "  stderr: 'Cloning into 'repos/https://zenodo.org/record/4301374'...\n",
      "remote: Not Found\n",
      "fatal: repository 'https://github.com/https://zenodo.org/record/4301374/' not found\n",
      "'\n"
     ]
    },
    {
     "name": "stderr",
     "output_type": "stream",
     "text": [
      " 49%|████▉     | 22759/46292 [15:03:47<3:17:33,  1.99it/s]"
     ]
    },
    {
     "name": "stdout",
     "output_type": "stream",
     "text": [
      "Cmd('git') failed due to: exit code(128)\n",
      "  cmdline: git clone -v https://github.com/https://bitbucket.org/YanivShu/diffprune_public repos/https://bitbucket.org/YanivShu/diffprune_public\n",
      "  stderr: 'Cloning into 'repos/https://bitbucket.org/YanivShu/diffprune_public'...\n",
      "remote: Not Found\n",
      "fatal: repository 'https://github.com/https://bitbucket.org/YanivShu/diffprune_public/' not found\n",
      "'\n"
     ]
    },
    {
     "name": "stderr",
     "output_type": "stream",
     "text": [
      " 49%|████▉     | 22767/46292 [15:03:49<1:46:32,  3.68it/s]"
     ]
    },
    {
     "name": "stdout",
     "output_type": "stream",
     "text": [
      "Cmd('git') failed due to: exit code(128)\n",
      "  cmdline: git clone -v https://github.com/https://gitlab.com/tycho01/hasktorch/tree/synthesis/synthesis repos/https://gitlab.com/tycho01/hasktorch/tree/synthesis/synthesis\n",
      "  stderr: 'Cloning into 'repos/https://gitlab.com/tycho01/hasktorch/tree/synthesis/synthesis'...\n",
      "remote: Not Found\n",
      "fatal: repository 'https://github.com/https://gitlab.com/tycho01/hasktorch/tree/synthesis/synthesis/' not found\n",
      "'\n"
     ]
    },
    {
     "name": "stderr",
     "output_type": "stream",
     "text": [
      " 49%|████▉     | 22779/46292 [15:04:00<7:10:06,  1.10s/it] "
     ]
    },
    {
     "name": "stdout",
     "output_type": "stream",
     "text": [
      "Cmd('git') failed due to: exit code(128)\n",
      "  cmdline: git clone -v https://github.com/https://zenodo.org/record/4012781 repos/https://zenodo.org/record/4012781\n",
      "  stderr: 'Cloning into 'repos/https://zenodo.org/record/4012781'...\n",
      "remote: Not Found\n",
      "fatal: repository 'https://github.com/https://zenodo.org/record/4012781/' not found\n",
      "'\n"
     ]
    },
    {
     "name": "stderr",
     "output_type": "stream",
     "text": [
      " 49%|████▉     | 22786/46292 [15:04:07<6:21:10,  1.03it/s] "
     ]
    },
    {
     "name": "stdout",
     "output_type": "stream",
     "text": [
      "Cmd('git') failed due to: exit code(128)\n",
      "  cmdline: git clone -v https://github.com/globus-labs/MERF-FSP/tree/master/nn_dog repos/globus-labs/MERF-FSP/tree/master/nn_dog\n",
      "  stderr: 'Cloning into 'repos/globus-labs/MERF-FSP/tree/master/nn_dog'...\n",
      "fatal: repository 'https://github.com/globus-labs/MERF-FSP/tree/master/nn_dog/' not found\n",
      "'\n"
     ]
    },
    {
     "name": "stderr",
     "output_type": "stream",
     "text": [
      " 49%|████▉     | 22810/46292 [15:05:27<5:56:29,  1.10it/s] "
     ]
    },
    {
     "name": "stdout",
     "output_type": "stream",
     "text": [
      "Cmd('git') failed due to: exit code(128)\n",
      "  cmdline: git clone -v https://github.com/MehmetMHY/SVM-On-Skeleton-Data repos/MehmetMHY/SVM-On-Skeleton-Data\n",
      "  stderr: 'Cloning into 'repos/MehmetMHY/SVM-On-Skeleton-Data'...\n",
      "fatal: could not read Username for 'https://github.com': No such device or address\n",
      "'\n"
     ]
    },
    {
     "name": "stderr",
     "output_type": "stream",
     "text": [
      " 49%|████▉     | 22813/46292 [15:05:31<7:39:06,  1.17s/it]"
     ]
    },
    {
     "name": "stdout",
     "output_type": "stream",
     "text": [
      "Cmd('git') failed due to: exit code(128)\n",
      "  cmdline: git clone -v https://github.com/https://gitlab.aau.at/behackl/kt-dyck-downstep-code repos/https://gitlab.aau.at/behackl/kt-dyck-downstep-code\n",
      "  stderr: 'Cloning into 'repos/https://gitlab.aau.at/behackl/kt-dyck-downstep-code'...\n",
      "remote: Not Found\n",
      "fatal: repository 'https://github.com/https://gitlab.aau.at/behackl/kt-dyck-downstep-code/' not found\n",
      "'\n"
     ]
    },
    {
     "name": "stderr",
     "output_type": "stream",
     "text": [
      " 49%|████▉     | 22818/46292 [15:05:45<11:10:24,  1.71s/it]"
     ]
    },
    {
     "name": "stdout",
     "output_type": "stream",
     "text": [
      "Cmd('git') failed due to: exit code(128)\n",
      "  cmdline: git clone -v https://github.com/edzq/Fake_news_detection_weibo_covid19_ repos/edzq/Fake_news_detection_weibo_covid19_\n",
      "  stderr: 'Cloning into 'repos/edzq/Fake_news_detection_weibo_covid19_'...\n",
      "fatal: could not read Username for 'https://github.com': No such device or address\n",
      "'\n"
     ]
    },
    {
     "name": "stderr",
     "output_type": "stream",
     "text": [
      " 49%|████▉     | 22899/46292 [15:07:50<16:53:22,  2.60s/it]"
     ]
    },
    {
     "name": "stdout",
     "output_type": "stream",
     "text": [
      "Cmd('git') failed due to: exit code(128)\n",
      "  cmdline: git clone -v https://github.com/https://bitbucket.org/afariha/squid repos/https://bitbucket.org/afariha/squid\n",
      "  stderr: 'Cloning into 'repos/https://bitbucket.org/afariha/squid'...\n",
      "remote: Not Found\n",
      "fatal: repository 'https://github.com/https://bitbucket.org/afariha/squid/' not found\n",
      "'\n"
     ]
    },
    {
     "name": "stderr",
     "output_type": "stream",
     "text": [
      " 50%|████▉     | 22969/46292 [15:14:40<14:08:19,  2.18s/it] "
     ]
    },
    {
     "name": "stdout",
     "output_type": "stream",
     "text": [
      "Cmd('git') failed due to: exit code(128)\n",
      "  cmdline: git clone -v https://github.com/https://bitbucket.org/afariha/squid repos/https://bitbucket.org/afariha/squid\n",
      "  stderr: 'Cloning into 'repos/https://bitbucket.org/afariha/squid'...\n",
      "remote: Not Found\n",
      "fatal: repository 'https://github.com/https://bitbucket.org/afariha/squid/' not found\n",
      "'\n"
     ]
    },
    {
     "name": "stderr",
     "output_type": "stream",
     "text": [
      " 50%|████▉     | 22994/46292 [15:15:18<22:09:34,  3.42s/it]"
     ]
    },
    {
     "name": "stdout",
     "output_type": "stream",
     "text": [
      "Cmd('git') failed due to: exit code(128)\n",
      "  cmdline: git clone -v https://github.com/facebookresearch/fairseq-py repos/facebookresearch/fairseq-py\n",
      "  stderr: 'Cloning into 'repos/facebookresearch/fairseq-py'...\n",
      "fatal: could not read Username for 'https://github.com': No such device or address\n",
      "'\n"
     ]
    },
    {
     "name": "stderr",
     "output_type": "stream",
     "text": [
      "\r",
      " 50%|████▉     | 22995/46292 [15:15:18<16:20:05,  2.52s/it]"
     ]
    },
    {
     "name": "stdout",
     "output_type": "stream",
     "text": [
      "Cmd('git') failed due to: exit code(128)\n",
      "  cmdline: git clone -v https://github.com/facebookresearch/fairseq-py repos/facebookresearch/fairseq-py\n",
      "  stderr: 'Cloning into 'repos/facebookresearch/fairseq-py'...\n",
      "fatal: could not read Username for 'https://github.com': No such device or address\n",
      "'\n"
     ]
    },
    {
     "name": "stderr",
     "output_type": "stream",
     "text": [
      " 50%|████▉     | 23006/46292 [15:15:46<10:50:27,  1.68s/it]"
     ]
    },
    {
     "name": "stdout",
     "output_type": "stream",
     "text": [
      "Cmd('git') failed due to: exit code(128)\n",
      "  cmdline: git clone -v https://github.com/facebookresearch/fairseq-py repos/facebookresearch/fairseq-py\n",
      "  stderr: 'Cloning into 'repos/facebookresearch/fairseq-py'...\n",
      "fatal: could not read Username for 'https://github.com': No such device or address\n",
      "'\n"
     ]
    },
    {
     "name": "stderr",
     "output_type": "stream",
     "text": [
      " 50%|████▉     | 23074/46292 [15:20:21<10:12:57,  1.58s/it] "
     ]
    },
    {
     "name": "stdout",
     "output_type": "stream",
     "text": [
      "Cmd('git') failed due to: exit code(128)\n",
      "  cmdline: git clone -v https://github.com/TwentyBN/smth-smth-v2-baseline-with-models repos/TwentyBN/smth-smth-v2-baseline-with-models\n",
      "  stderr: 'Cloning into 'repos/TwentyBN/smth-smth-v2-baseline-with-models'...\n",
      "fatal: could not read Username for 'https://github.com': No such device or address\n",
      "'\n"
     ]
    },
    {
     "name": "stderr",
     "output_type": "stream",
     "text": [
      " 50%|████▉     | 23144/46292 [15:26:19<50:11:54,  7.81s/it] "
     ]
    },
    {
     "name": "stdout",
     "output_type": "stream",
     "text": [
      "Cmd('git') failed due to: exit code(128)\n",
      "  cmdline: git clone -v https://github.com/ZijianHu/ImageInpainting repos/ZijianHu/ImageInpainting\n",
      "  stderr: 'Cloning into 'repos/ZijianHu/ImageInpainting'...\n",
      "fatal: could not read Username for 'https://github.com': No such device or address\n",
      "'\n"
     ]
    },
    {
     "name": "stderr",
     "output_type": "stream",
     "text": [
      " 50%|█████     | 23153/46292 [15:26:37<8:52:55,  1.38s/it] "
     ]
    },
    {
     "name": "stdout",
     "output_type": "stream",
     "text": [
      "Cmd('git') failed due to: exit code(128)\n",
      "  cmdline: git clone -v https://github.com/ZijianHu/ImageInpainting repos/ZijianHu/ImageInpainting\n",
      "  stderr: 'Cloning into 'repos/ZijianHu/ImageInpainting'...\n",
      "fatal: could not read Username for 'https://github.com': No such device or address\n",
      "'\n"
     ]
    },
    {
     "name": "stderr",
     "output_type": "stream",
     "text": [
      " 50%|█████     | 23268/46292 [15:31:28<5:03:31,  1.26it/s]  "
     ]
    },
    {
     "name": "stdout",
     "output_type": "stream",
     "text": [
      "Cmd('git') failed due to: exit code(128)\n",
      "  cmdline: git clone -v https://github.com/espnet/espnet/tree/master/egs/mgb2/asr1 repos/espnet/espnet/tree/master/egs/mgb2/asr1\n",
      "  stderr: 'Cloning into 'repos/espnet/espnet/tree/master/egs/mgb2/asr1'...\n",
      "fatal: repository 'https://github.com/espnet/espnet/tree/master/egs/mgb2/asr1/' not found\n",
      "'\n"
     ]
    },
    {
     "name": "stderr",
     "output_type": "stream",
     "text": [
      " 50%|█████     | 23372/46292 [15:34:58<5:24:05,  1.18it/s] "
     ]
    },
    {
     "name": "stdout",
     "output_type": "stream",
     "text": [
      "Cmd('git') failed due to: exit code(128)\n",
      "  cmdline: git clone -v https://github.com/Eric-Wallace/qb_interface repos/Eric-Wallace/qb_interface\n",
      "  stderr: 'Cloning into 'repos/Eric-Wallace/qb_interface'...\n",
      "fatal: could not read Username for 'https://github.com': No such device or address\n",
      "'\n"
     ]
    },
    {
     "name": "stderr",
     "output_type": "stream",
     "text": [
      " 51%|█████     | 23435/46292 [15:37:16<7:37:45,  1.20s/it] "
     ]
    },
    {
     "name": "stdout",
     "output_type": "stream",
     "text": [
      "Cmd('git') failed due to: exit code(128)\n",
      "  cmdline: git clone -v https://github.com/facebookresearch/detectron2/tree/master/projects/TensorMask repos/facebookresearch/detectron2/tree/master/projects/TensorMask\n",
      "  stderr: 'Cloning into 'repos/facebookresearch/detectron2/tree/master/projects/TensorMask'...\n",
      "remote: Please upgrade your git client.\n",
      "remote: GitHub.com no longer supports git over dumb-http: https://github.com/blog/809-git-dumb-http-transport-to-be-turned-off-in-90-days\n",
      "fatal: unable to access 'https://github.com/facebookresearch/detectron2/tree/master/projects/TensorMask/': The requested URL returned error: 403\n",
      "'\n"
     ]
    },
    {
     "name": "stderr",
     "output_type": "stream",
     "text": [
      " 51%|█████     | 23583/46292 [15:42:33<3:41:06,  1.71it/s] "
     ]
    },
    {
     "name": "stdout",
     "output_type": "stream",
     "text": [
      "Cmd('git') failed due to: exit code(128)\n",
      "  cmdline: git clone -v https://github.com/MohammedRashad/Arabic-English-Transliteration repos/MohammedRashad/Arabic-English-Transliteration\n",
      "  stderr: 'Cloning into 'repos/MohammedRashad/Arabic-English-Transliteration'...\n",
      "fatal: could not read Username for 'https://github.com': No such device or address\n",
      "'\n"
     ]
    },
    {
     "name": "stderr",
     "output_type": "stream",
     "text": [
      " 51%|█████     | 23588/46292 [15:42:37<3:30:35,  1.80it/s]"
     ]
    },
    {
     "name": "stdout",
     "output_type": "stream",
     "text": [
      "Cmd('git') failed due to: exit code(128)\n",
      "  cmdline: git clone -v https://github.com/MohammedRashad/Arabic-English-Transliteration repos/MohammedRashad/Arabic-English-Transliteration\n",
      "  stderr: 'Cloning into 'repos/MohammedRashad/Arabic-English-Transliteration'...\n",
      "fatal: could not read Username for 'https://github.com': No such device or address\n",
      "'\n"
     ]
    },
    {
     "name": "stderr",
     "output_type": "stream",
     "text": [
      " 51%|█████     | 23613/46292 [15:43:18<7:36:48,  1.21s/it] "
     ]
    },
    {
     "name": "stdout",
     "output_type": "stream",
     "text": [
      "Cmd('git') failed due to: exit code(128)\n",
      "  cmdline: git clone -v https://github.com/facebookresearch/fairseq-py repos/facebookresearch/fairseq-py\n",
      "  stderr: 'Cloning into 'repos/facebookresearch/fairseq-py'...\n",
      "fatal: could not read Username for 'https://github.com': No such device or address\n",
      "'\n"
     ]
    },
    {
     "name": "stderr",
     "output_type": "stream",
     "text": [
      " 51%|█████     | 23654/46292 [15:44:39<5:11:45,  1.21it/s] "
     ]
    },
    {
     "name": "stdout",
     "output_type": "stream",
     "text": [
      "Cmd('git') failed due to: exit code(128)\n",
      "  cmdline: git clone -v https://github.com/ZijianHu/ImageInpainting repos/ZijianHu/ImageInpainting\n",
      "  stderr: 'Cloning into 'repos/ZijianHu/ImageInpainting'...\n",
      "fatal: could not read Username for 'https://github.com': No such device or address\n",
      "'\n"
     ]
    },
    {
     "name": "stderr",
     "output_type": "stream",
     "text": [
      " 51%|█████     | 23684/46292 [15:46:22<16:23:52,  2.61s/it]"
     ]
    },
    {
     "name": "stdout",
     "output_type": "stream",
     "text": [
      "Cmd('git') failed due to: exit code(128)\n",
      "  cmdline: git clone -v https://github.com/facebookresearch/fairseq-py repos/facebookresearch/fairseq-py\n",
      "  stderr: 'Cloning into 'repos/facebookresearch/fairseq-py'...\n",
      "fatal: could not read Username for 'https://github.com': No such device or address\n",
      "'\n"
     ]
    },
    {
     "name": "stderr",
     "output_type": "stream",
     "text": [
      " 51%|█████▏    | 23784/46292 [15:49:51<13:06:06,  2.10s/it] "
     ]
    },
    {
     "name": "stdout",
     "output_type": "stream",
     "text": [
      "Cmd('git') failed due to: exit code(128)\n",
      "  cmdline: git clone -v https://github.com/tensorflow/models/tree/master/research/differential_privacy repos/tensorflow/models/tree/master/research/differential_privacy\n",
      "  stderr: 'Cloning into 'repos/tensorflow/models/tree/master/research/differential_privacy'...\n",
      "fatal: repository 'https://github.com/tensorflow/models/tree/master/research/differential_privacy/' not found\n",
      "'\n"
     ]
    },
    {
     "name": "stderr",
     "output_type": "stream",
     "text": [
      " 51%|█████▏    | 23802/46292 [15:50:41<12:58:40,  2.08s/it]"
     ]
    },
    {
     "name": "stdout",
     "output_type": "stream",
     "text": [
      "Cmd('git') failed due to: exit code(128)\n",
      "  cmdline: git clone -v https://github.com/https://cran.r-project.org/web/packages/testequavar/testequavar.pdf repos/https://cran.r-project.org/web/packages/testequavar/testequavar.pdf\n",
      "  stderr: 'Cloning into 'repos/https://cran.r-project.org/web/packages/testequavar/testequavar.pdf'...\n",
      "remote: Not Found\n",
      "fatal: repository 'https://github.com/https://cran.r-project.org/web/packages/testequavar/testequavar.pdf/' not found\n",
      "'\n"
     ]
    },
    {
     "name": "stderr",
     "output_type": "stream",
     "text": [
      " 52%|█████▏    | 23884/46292 [15:54:58<5:27:14,  1.14it/s]  "
     ]
    },
    {
     "name": "stdout",
     "output_type": "stream",
     "text": [
      "Cmd('git') failed due to: exit code(128)\n",
      "  cmdline: git clone -v https://github.com/facebookresearch/fairseq-py repos/facebookresearch/fairseq-py\n",
      "  stderr: 'Cloning into 'repos/facebookresearch/fairseq-py'...\n",
      "fatal: could not read Username for 'https://github.com': No such device or address\n",
      "'\n"
     ]
    },
    {
     "name": "stderr",
     "output_type": "stream",
     "text": [
      " 52%|█████▏    | 24020/46292 [15:58:16<5:41:19,  1.09it/s] "
     ]
    },
    {
     "name": "stdout",
     "output_type": "stream",
     "text": [
      "Cmd('git') failed due to: exit code(128)\n",
      "  cmdline: git clone -v https://github.com/facebookresearch/fairseq-py repos/facebookresearch/fairseq-py\n",
      "  stderr: 'Cloning into 'repos/facebookresearch/fairseq-py'...\n",
      "fatal: could not read Username for 'https://github.com': No such device or address\n",
      "'\n"
     ]
    },
    {
     "name": "stderr",
     "output_type": "stream",
     "text": [
      " 52%|█████▏    | 24094/46292 [15:59:59<5:49:33,  1.06it/s] "
     ]
    },
    {
     "name": "stdout",
     "output_type": "stream",
     "text": [
      "Cmd('git') failed due to: exit code(128)\n",
      "  cmdline: git clone -v https://github.com/qq303067814/Reinforcement-learning-in-portfolio-management- repos/qq303067814/Reinforcement-learning-in-portfolio-management-\n",
      "  stderr: 'Cloning into 'repos/qq303067814/Reinforcement-learning-in-portfolio-management-'...\n",
      "fatal: could not read Username for 'https://github.com': No such device or address\n",
      "'\n"
     ]
    },
    {
     "name": "stderr",
     "output_type": "stream",
     "text": [
      " 52%|█████▏    | 24104/46292 [16:00:37<28:20:26,  4.60s/it]"
     ]
    },
    {
     "name": "stdout",
     "output_type": "stream",
     "text": [
      "Cmd('git') failed due to: exit code(128)\n",
      "  cmdline: git clone -v https://github.com/niallmcc/crocodl repos/niallmcc/crocodl\n",
      "  stderr: 'Cloning into 'repos/niallmcc/crocodl'...\n",
      "fatal: could not read Username for 'https://github.com': No such device or address\n",
      "'\n"
     ]
    },
    {
     "name": "stderr",
     "output_type": "stream",
     "text": [
      " 52%|█████▏    | 24110/46292 [16:00:42<8:29:21,  1.38s/it] "
     ]
    },
    {
     "name": "stdout",
     "output_type": "stream",
     "text": [
      "Cmd('git') failed due to: exit code(128)\n",
      "  cmdline: git clone -v https://github.com/facebookresearch/fairseq-py repos/facebookresearch/fairseq-py\n",
      "  stderr: 'Cloning into 'repos/facebookresearch/fairseq-py'...\n",
      "fatal: could not read Username for 'https://github.com': No such device or address\n",
      "'\n"
     ]
    },
    {
     "name": "stderr",
     "output_type": "stream",
     "text": [
      " 52%|█████▏    | 24144/46292 [16:02:42<7:27:36,  1.21s/it] "
     ]
    },
    {
     "name": "stdout",
     "output_type": "stream",
     "text": [
      "Cmd('git') failed due to: exit code(128)\n",
      "  cmdline: git clone -v https://github.com/owen94/MPNets repos/owen94/MPNets\n",
      "  stderr: 'Cloning into 'repos/owen94/MPNets'...\n",
      "fatal: could not read Username for 'https://github.com': No such device or address\n",
      "'\n"
     ]
    },
    {
     "name": "stderr",
     "output_type": "stream",
     "text": [
      " 52%|█████▏    | 24175/46292 [16:04:07<6:51:47,  1.12s/it] "
     ]
    },
    {
     "name": "stdout",
     "output_type": "stream",
     "text": [
      "Cmd('git') failed due to: exit code(128)\n",
      "  cmdline: git clone -v https://github.com/https://worksheets.codalab.org/worksheets/0x01838644724a433c932bef4cb5c42fbd repos/https://worksheets.codalab.org/worksheets/0x01838644724a433c932bef4cb5c42fbd\n",
      "  stderr: 'Cloning into 'repos/https://worksheets.codalab.org/worksheets/0x01838644724a433c932bef4cb5c42fbd'...\n",
      "remote: Not Found\n",
      "fatal: repository 'https://github.com/https://worksheets.codalab.org/worksheets/0x01838644724a433c932bef4cb5c42fbd/' not found\n",
      "'\n"
     ]
    },
    {
     "name": "stderr",
     "output_type": "stream",
     "text": [
      " 52%|█████▏    | 24179/46292 [16:04:08<4:26:16,  1.38it/s]"
     ]
    },
    {
     "name": "stdout",
     "output_type": "stream",
     "text": [
      "Cmd('git') failed due to: exit code(128)\n",
      "  cmdline: git clone -v https://github.com/https://worksheets.codalab.org/worksheets/0x4412d72b55df47e5b457dacdba91f105 repos/https://worksheets.codalab.org/worksheets/0x4412d72b55df47e5b457dacdba91f105\n",
      "  stderr: 'Cloning into 'repos/https://worksheets.codalab.org/worksheets/0x4412d72b55df47e5b457dacdba91f105'...\n",
      "remote: Not Found\n",
      "fatal: repository 'https://github.com/https://worksheets.codalab.org/worksheets/0x4412d72b55df47e5b457dacdba91f105/' not found\n",
      "'\n"
     ]
    },
    {
     "name": "stderr",
     "output_type": "stream",
     "text": [
      " 52%|█████▏    | 24185/46292 [16:04:15<4:34:17,  1.34it/s] "
     ]
    },
    {
     "name": "stdout",
     "output_type": "stream",
     "text": [
      "Cmd('git') failed due to: exit code(128)\n",
      "  cmdline: git clone -v https://github.com/https://worksheets.codalab.org/worksheets/0x39ba5559790b4099a7ff75f916ce19a4 repos/https://worksheets.codalab.org/worksheets/0x39ba5559790b4099a7ff75f916ce19a4\n",
      "  stderr: 'Cloning into 'repos/https://worksheets.codalab.org/worksheets/0x39ba5559790b4099a7ff75f916ce19a4'...\n",
      "remote: Not Found\n",
      "fatal: repository 'https://github.com/https://worksheets.codalab.org/worksheets/0x39ba5559790b4099a7ff75f916ce19a4/' not found\n",
      "'\n"
     ]
    },
    {
     "name": "stderr",
     "output_type": "stream",
     "text": [
      " 52%|█████▏    | 24188/46292 [16:04:17<4:10:06,  1.47it/s]"
     ]
    },
    {
     "name": "stdout",
     "output_type": "stream",
     "text": [
      "Cmd('git') failed due to: exit code(128)\n",
      "  cmdline: git clone -v https://github.com/https://worksheets.codalab.org/worksheets/0x9987b5d9cce74cf4b2a5f84b54ee447b repos/https://worksheets.codalab.org/worksheets/0x9987b5d9cce74cf4b2a5f84b54ee447b\n",
      "  stderr: 'Cloning into 'repos/https://worksheets.codalab.org/worksheets/0x9987b5d9cce74cf4b2a5f84b54ee447b'...\n",
      "remote: Not Found\n",
      "fatal: repository 'https://github.com/https://worksheets.codalab.org/worksheets/0x9987b5d9cce74cf4b2a5f84b54ee447b/' not found\n",
      "'\n"
     ]
    },
    {
     "name": "stderr",
     "output_type": "stream",
     "text": [
      "\r",
      " 52%|█████▏    | 24189/46292 [16:04:17<3:38:04,  1.69it/s]"
     ]
    },
    {
     "name": "stdout",
     "output_type": "stream",
     "text": [
      "Cmd('git') failed due to: exit code(128)\n",
      "  cmdline: git clone -v https://github.com/https://worksheets.codalab.org/worksheets/0x43e8ecea53bf4186a7992c9028409320 repos/https://worksheets.codalab.org/worksheets/0x43e8ecea53bf4186a7992c9028409320\n",
      "  stderr: 'Cloning into 'repos/https://worksheets.codalab.org/worksheets/0x43e8ecea53bf4186a7992c9028409320'...\n",
      "remote: Not Found\n",
      "fatal: repository 'https://github.com/https://worksheets.codalab.org/worksheets/0x43e8ecea53bf4186a7992c9028409320/' not found\n",
      "'\n"
     ]
    },
    {
     "name": "stderr",
     "output_type": "stream",
     "text": [
      " 52%|█████▏    | 24193/46292 [16:04:19<2:46:30,  2.21it/s]"
     ]
    },
    {
     "name": "stdout",
     "output_type": "stream",
     "text": [
      "Cmd('git') failed due to: exit code(128)\n",
      "  cmdline: git clone -v https://github.com/https://worksheets.codalab.org/worksheets/0xdec998f58deb4829aba80fbf49f69236 repos/https://worksheets.codalab.org/worksheets/0xdec998f58deb4829aba80fbf49f69236\n",
      "  stderr: 'Cloning into 'repos/https://worksheets.codalab.org/worksheets/0xdec998f58deb4829aba80fbf49f69236'...\n",
      "remote: Not Found\n",
      "fatal: repository 'https://github.com/https://worksheets.codalab.org/worksheets/0xdec998f58deb4829aba80fbf49f69236/' not found\n",
      "'\n"
     ]
    },
    {
     "name": "stderr",
     "output_type": "stream",
     "text": [
      " 52%|█████▏    | 24195/46292 [16:04:22<5:03:01,  1.22it/s]"
     ]
    },
    {
     "name": "stdout",
     "output_type": "stream",
     "text": [
      "Cmd('git') failed due to: exit code(128)\n",
      "  cmdline: git clone -v https://github.com/https://worksheets.codalab.org/worksheets/0x79feda5f1998497db75422eca8fcd689 repos/https://worksheets.codalab.org/worksheets/0x79feda5f1998497db75422eca8fcd689\n",
      "  stderr: 'Cloning into 'repos/https://worksheets.codalab.org/worksheets/0x79feda5f1998497db75422eca8fcd689'...\n",
      "remote: Not Found\n",
      "fatal: repository 'https://github.com/https://worksheets.codalab.org/worksheets/0x79feda5f1998497db75422eca8fcd689/' not found\n",
      "'\n"
     ]
    },
    {
     "name": "stderr",
     "output_type": "stream",
     "text": [
      " 52%|█████▏    | 24200/46292 [16:04:24<2:58:09,  2.07it/s]"
     ]
    },
    {
     "name": "stdout",
     "output_type": "stream",
     "text": [
      "Cmd('git') failed due to: exit code(128)\n",
      "  cmdline: git clone -v https://github.com/https://worksheets.codalab.org/worksheets/0xca42b883b1f9481989cfb02fe693649f repos/https://worksheets.codalab.org/worksheets/0xca42b883b1f9481989cfb02fe693649f\n",
      "  stderr: 'Cloning into 'repos/https://worksheets.codalab.org/worksheets/0xca42b883b1f9481989cfb02fe693649f'...\n",
      "remote: Not Found\n",
      "fatal: repository 'https://github.com/https://worksheets.codalab.org/worksheets/0xca42b883b1f9481989cfb02fe693649f/' not found\n",
      "'\n"
     ]
    },
    {
     "name": "stderr",
     "output_type": "stream",
     "text": [
      " 52%|█████▏    | 24276/46292 [16:06:20<6:47:55,  1.11s/it] "
     ]
    },
    {
     "name": "stdout",
     "output_type": "stream",
     "text": [
      "Cmd('git') failed due to: exit code(128)\n",
      "  cmdline: git clone -v https://github.com/facebookresearch/fairseq-py repos/facebookresearch/fairseq-py\n",
      "  stderr: 'Cloning into 'repos/facebookresearch/fairseq-py'...\n",
      "fatal: could not read Username for 'https://github.com': No such device or address\n",
      "'\n"
     ]
    },
    {
     "name": "stderr",
     "output_type": "stream",
     "text": [
      " 53%|█████▎    | 24429/46292 [16:09:36<3:44:31,  1.62it/s] "
     ]
    },
    {
     "name": "stdout",
     "output_type": "stream",
     "text": [
      "Cmd('git') failed due to: exit code(128)\n",
      "  cmdline: git clone -v https://github.com/dnlRRL2020/RRL repos/dnlRRL2020/RRL\n",
      "  stderr: 'Cloning into 'repos/dnlRRL2020/RRL'...\n",
      "fatal: could not read Username for 'https://github.com': No such device or address\n",
      "'\n"
     ]
    },
    {
     "name": "stderr",
     "output_type": "stream",
     "text": [
      " 53%|█████▎    | 24454/46292 [16:10:23<18:31:19,  3.05s/it]"
     ]
    },
    {
     "name": "stdout",
     "output_type": "stream",
     "text": [
      "Cmd('git') failed due to: exit code(128)\n",
      "  cmdline: git clone -v https://github.com/tensorflow/tpu/tree/master/models/official/detection repos/tensorflow/tpu/tree/master/models/official/detection\n",
      "  stderr: 'Cloning into 'repos/tensorflow/tpu/tree/master/models/official/detection'...\n",
      "fatal: repository 'https://github.com/tensorflow/tpu/tree/master/models/official/detection/' not found\n",
      "'\n"
     ]
    },
    {
     "name": "stderr",
     "output_type": "stream",
     "text": [
      " 53%|█████▎    | 24528/46292 [16:13:31<6:16:21,  1.04s/it] "
     ]
    },
    {
     "name": "stdout",
     "output_type": "stream",
     "text": [
      "Cmd('git') failed due to: exit code(128)\n",
      "  cmdline: git clone -v https://github.com/https://gitlab.uni-koblenz.de/dwete/ldatopicmodels repos/https://gitlab.uni-koblenz.de/dwete/ldatopicmodels\n",
      "  stderr: 'Cloning into 'repos/https://gitlab.uni-koblenz.de/dwete/ldatopicmodels'...\n",
      "remote: Not Found\n",
      "fatal: repository 'https://github.com/https://gitlab.uni-koblenz.de/dwete/ldatopicmodels/' not found\n",
      "'\n"
     ]
    },
    {
     "name": "stderr",
     "output_type": "stream",
     "text": [
      " 53%|█████▎    | 24548/46292 [16:15:13<15:36:28,  2.58s/it]"
     ]
    },
    {
     "name": "stdout",
     "output_type": "stream",
     "text": [
      "Cmd('git') failed due to: exit code(128)\n",
      "  cmdline: git clone -v https://github.com/XanaduAI/qml/blob/master/implementations/tutorial_barren_plateaus.py repos/XanaduAI/qml/blob/master/implementations/tutorial_barren_plateaus.py\n",
      "  stderr: 'Cloning into 'repos/XanaduAI/qml/blob/master/implementations/tutorial_barren_plateaus.py'...\n",
      "fatal: repository 'https://github.com/XanaduAI/qml/blob/master/implementations/tutorial_barren_plateaus.py/' not found\n",
      "'\n"
     ]
    },
    {
     "name": "stderr",
     "output_type": "stream",
     "text": [
      " 53%|█████▎    | 24568/46292 [16:15:35<4:22:26,  1.38it/s] "
     ]
    },
    {
     "name": "stdout",
     "output_type": "stream",
     "text": [
      "Cmd('git') failed due to: exit code(128)\n",
      "  cmdline: git clone -v https://github.com/anthonyh209/LSPD repos/anthonyh209/LSPD\n",
      "  stderr: 'Cloning into 'repos/anthonyh209/LSPD'...\n",
      "fatal: could not read Username for 'https://github.com': No such device or address\n",
      "'\n"
     ]
    },
    {
     "name": "stderr",
     "output_type": "stream",
     "text": [
      " 53%|█████▎    | 24575/46292 [16:16:12<24:47:50,  4.11s/it]"
     ]
    },
    {
     "name": "stdout",
     "output_type": "stream",
     "text": [
      "Cmd('git') failed due to: exit code(128)\n",
      "  cmdline: git clone -v https://github.com/bodensjc/LHCb repos/bodensjc/LHCb\n",
      "  stderr: 'Cloning into 'repos/bodensjc/LHCb'...\n",
      "fatal: could not read Username for 'https://github.com': No such device or address\n",
      "'\n"
     ]
    },
    {
     "name": "stderr",
     "output_type": "stream",
     "text": [
      " 53%|█████▎    | 24588/46292 [16:16:50<7:52:09,  1.31s/it] "
     ]
    },
    {
     "name": "stdout",
     "output_type": "stream",
     "text": [
      "Cmd('git') failed due to: exit code(128)\n",
      "  cmdline: git clone -v https://github.com/tensorflow/tpu/tree/master/models/official/mnasnet/mixnet repos/tensorflow/tpu/tree/master/models/official/mnasnet/mixnet\n",
      "  stderr: 'Cloning into 'repos/tensorflow/tpu/tree/master/models/official/mnasnet/mixnet'...\n",
      "fatal: repository 'https://github.com/tensorflow/tpu/tree/master/models/official/mnasnet/mixnet/' not found\n",
      "'\n"
     ]
    },
    {
     "name": "stderr",
     "output_type": "stream",
     "text": [
      " 53%|█████▎    | 24654/46292 [16:18:55<6:23:40,  1.06s/it] "
     ]
    },
    {
     "name": "stdout",
     "output_type": "stream",
     "text": [
      "Cmd('git') failed due to: exit code(128)\n",
      "  cmdline: git clone -v https://github.com/edzel-monteverde/Autoencoders-and-Voxels repos/edzel-monteverde/Autoencoders-and-Voxels\n",
      "  stderr: 'Cloning into 'repos/edzel-monteverde/Autoencoders-and-Voxels'...\n",
      "fatal: could not read Username for 'https://github.com': No such device or address\n",
      "'\n"
     ]
    },
    {
     "name": "stderr",
     "output_type": "stream",
     "text": [
      " 53%|█████▎    | 24705/46292 [16:21:10<14:36:57,  2.44s/it]"
     ]
    },
    {
     "name": "stdout",
     "output_type": "stream",
     "text": [
      "Cmd('git') failed due to: exit code(128)\n",
      "  cmdline: git clone -v https://github.com/rsummers11/CADLab/tree/master/Lung_Segmentation_XLSor repos/rsummers11/CADLab/tree/master/Lung_Segmentation_XLSor\n",
      "  stderr: 'Cloning into 'repos/rsummers11/CADLab/tree/master/Lung_Segmentation_XLSor'...\n",
      "fatal: repository 'https://github.com/rsummers11/CADLab/tree/master/Lung_Segmentation_XLSor/' not found\n",
      "'\n"
     ]
    },
    {
     "name": "stderr",
     "output_type": "stream",
     "text": [
      " 53%|█████▎    | 24713/46292 [16:21:35<16:48:23,  2.80s/it]"
     ]
    },
    {
     "name": "stdout",
     "output_type": "stream",
     "text": [
      "Cmd('git') failed due to: exit code(128)\n",
      "  cmdline: git clone -v https://github.com/audier/DeepSpeechRecognition repos/audier/DeepSpeechRecognition\n",
      "  stderr: 'Cloning into 'repos/audier/DeepSpeechRecognition'...\n",
      "fatal: could not read Username for 'https://github.com': No such device or address\n",
      "'\n"
     ]
    },
    {
     "name": "stderr",
     "output_type": "stream",
     "text": [
      " 53%|█████▎    | 24719/46292 [16:21:41<5:52:16,  1.02it/s] "
     ]
    },
    {
     "name": "stdout",
     "output_type": "stream",
     "text": [
      "Cmd('git') failed due to: exit code(128)\n",
      "  cmdline: git clone -v https://github.com/Gregory-Eales/Neural-ODE repos/Gregory-Eales/Neural-ODE\n",
      "  stderr: 'Cloning into 'repos/Gregory-Eales/Neural-ODE'...\n",
      "fatal: could not read Username for 'https://github.com': No such device or address\n",
      "'\n"
     ]
    },
    {
     "name": "stderr",
     "output_type": "stream",
     "text": [
      " 54%|█████▎    | 24821/46292 [16:26:31<8:47:23,  1.47s/it]  "
     ]
    },
    {
     "name": "stdout",
     "output_type": "stream",
     "text": [
      "Cmd('git') failed due to: exit code(128)\n",
      "  cmdline: git clone -v https://github.com/zccyman/pose_estimation/tree/master/lib/models/pose_pcr.py repos/zccyman/pose_estimation/tree/master/lib/models/pose_pcr.py\n",
      "  stderr: 'Cloning into 'repos/zccyman/pose_estimation/tree/master/lib/models/pose_pcr.py'...\n",
      "fatal: repository 'https://github.com/zccyman/pose_estimation/tree/master/lib/models/pose_pcr.py/' not found\n",
      "'\n"
     ]
    },
    {
     "name": "stderr",
     "output_type": "stream",
     "text": [
      " 54%|█████▎    | 24876/46292 [16:28:03<18:05:35,  3.04s/it]"
     ]
    },
    {
     "name": "stdout",
     "output_type": "stream",
     "text": [
      "Cmd('git') failed due to: exit code(128)\n",
      "  cmdline: git clone -v https://github.com/000c000l/oneShotLearningForSemanticSegmentation repos/000c000l/oneShotLearningForSemanticSegmentation\n",
      "  stderr: 'Cloning into 'repos/000c000l/oneShotLearningForSemanticSegmentation'...\n",
      "fatal: could not read Username for 'https://github.com': No such device or address\n",
      "'\n"
     ]
    },
    {
     "name": "stderr",
     "output_type": "stream",
     "text": [
      " 54%|█████▍    | 24982/46292 [16:32:53<8:57:40,  1.51s/it]  "
     ]
    },
    {
     "name": "stdout",
     "output_type": "stream",
     "text": [
      "Cmd('git') failed due to: exit code(128)\n",
      "  cmdline: git clone -v https://github.com/google-research/google-research/tree/master/weak_disentangle repos/google-research/google-research/tree/master/weak_disentangle\n",
      "  stderr: 'Cloning into 'repos/google-research/google-research/tree/master/weak_disentangle'...\n",
      "fatal: repository 'https://github.com/google-research/google-research/tree/master/weak_disentangle/' not found\n",
      "'\n"
     ]
    },
    {
     "name": "stderr",
     "output_type": "stream",
     "text": [
      " 54%|█████▍    | 25064/46292 [16:36:09<9:38:41,  1.64s/it] "
     ]
    },
    {
     "name": "stdout",
     "output_type": "stream",
     "text": [
      "Cmd('git') failed due to: exit code(128)\n",
      "  cmdline: git clone -v https://github.com/robert80203/Paper-list repos/robert80203/Paper-list\n",
      "  stderr: 'Cloning into 'repos/robert80203/Paper-list'...\n",
      "fatal: could not read Username for 'https://github.com': No such device or address\n",
      "'\n"
     ]
    },
    {
     "name": "stderr",
     "output_type": "stream",
     "text": [
      " 55%|█████▍    | 25265/46292 [16:42:51<10:35:16,  1.81s/it] "
     ]
    },
    {
     "name": "stdout",
     "output_type": "stream",
     "text": [
      "Cmd('git') failed due to: exit code(128)\n",
      "  cmdline: git clone -v https://github.com/google-research/google-research/tree/master/tabnet repos/google-research/google-research/tree/master/tabnet\n",
      "  stderr: 'Cloning into 'repos/google-research/google-research/tree/master/tabnet'...\n",
      "fatal: repository 'https://github.com/google-research/google-research/tree/master/tabnet/' not found\n",
      "'\n"
     ]
    },
    {
     "name": "stderr",
     "output_type": "stream",
     "text": [
      " 55%|█████▍    | 25359/46292 [16:47:02<12:30:34,  2.15s/it]"
     ]
    },
    {
     "name": "stdout",
     "output_type": "stream",
     "text": [
      "Cmd('git') failed due to: exit code(128)\n",
      "  cmdline: git clone -v https://github.com/lbianculli/reaver_1 repos/lbianculli/reaver_1\n",
      "  stderr: 'Cloning into 'repos/lbianculli/reaver_1'...\n",
      "fatal: could not read Username for 'https://github.com': No such device or address\n",
      "'\n"
     ]
    },
    {
     "name": "stderr",
     "output_type": "stream",
     "text": [
      " 55%|█████▍    | 25379/46292 [16:47:29<8:26:10,  1.45s/it] "
     ]
    },
    {
     "name": "stdout",
     "output_type": "stream",
     "text": [
      "Cmd('git') failed due to: exit code(128)\n",
      "  cmdline: git clone -v https://github.com/y-js/ydb repos/y-js/ydb\n",
      "  stderr: 'Cloning into 'repos/y-js/ydb'...\n",
      "fatal: could not read Username for 'https://github.com': No such device or address\n",
      "'\n"
     ]
    },
    {
     "name": "stderr",
     "output_type": "stream",
     "text": [
      " 55%|█████▍    | 25384/46292 [16:47:42<9:56:00,  1.71s/it] "
     ]
    },
    {
     "name": "stdout",
     "output_type": "stream",
     "text": [
      "Cmd('git') failed due to: exit code(128)\n",
      "  cmdline: git clone -v https://github.com/PaddlePaddle/models/tree/develop/PaddleCV/video/models/bsn repos/PaddlePaddle/models/tree/develop/PaddleCV/video/models/bsn\n",
      "  stderr: 'Cloning into 'repos/PaddlePaddle/models/tree/develop/PaddleCV/video/models/bsn'...\n",
      "fatal: repository 'https://github.com/PaddlePaddle/models/tree/develop/PaddleCV/video/models/bsn/' not found\n",
      "'\n"
     ]
    },
    {
     "name": "stderr",
     "output_type": "stream",
     "text": [
      " 55%|█████▌    | 25513/46292 [16:50:13<4:32:19,  1.27it/s] "
     ]
    },
    {
     "name": "stdout",
     "output_type": "stream",
     "text": [
      "Cmd('git') failed due to: exit code(128)\n",
      "  cmdline: git clone -v https://github.com/todd-cook/ML-You-Can-Use/blob/master/probablistic_language_modeling/automatic_grammatical_error_corrections_using_BERT_GPT2.ipynb repos/todd-cook/ML-You-Can-Use/blob/master/probablistic_language_modeling/automatic_grammatical_error_corrections_using_BERT_GPT2.ipynb\n",
      "  stderr: 'Cloning into 'repos/todd-cook/ML-You-Can-Use/blob/master/probablistic_language_modeling/automatic_grammatical_error_corrections_using_BERT_GPT2.ipynb'...\n",
      "fatal: repository 'https://github.com/todd-cook/ML-You-Can-Use/blob/master/probablistic_language_modeling/automatic_grammatical_error_corrections_using_BERT_GPT2.ipynb/' not found\n",
      "'\n"
     ]
    },
    {
     "name": "stderr",
     "output_type": "stream",
     "text": [
      " 55%|█████▌    | 25521/46292 [16:50:25<7:16:47,  1.26s/it] "
     ]
    },
    {
     "name": "stdout",
     "output_type": "stream",
     "text": [
      "Cmd('git') failed due to: exit code(128)\n",
      "  cmdline: git clone -v https://github.com/tensorflow/tpu/tree/master/models/official/detection repos/tensorflow/tpu/tree/master/models/official/detection\n",
      "  stderr: 'Cloning into 'repos/tensorflow/tpu/tree/master/models/official/detection'...\n",
      "fatal: repository 'https://github.com/tensorflow/tpu/tree/master/models/official/detection/' not found\n",
      "'\n"
     ]
    },
    {
     "name": "stderr",
     "output_type": "stream",
     "text": [
      "\r",
      " 55%|█████▌    | 25522/46292 [16:50:25<5:36:42,  1.03it/s]"
     ]
    },
    {
     "name": "stdout",
     "output_type": "stream",
     "text": [
      "Cmd('git') failed due to: exit code(128)\n",
      "  cmdline: git clone -v https://github.com/tensorflow/tpu/tree/master/models/official/detection repos/tensorflow/tpu/tree/master/models/official/detection\n",
      "  stderr: 'Cloning into 'repos/tensorflow/tpu/tree/master/models/official/detection'...\n",
      "fatal: repository 'https://github.com/tensorflow/tpu/tree/master/models/official/detection/' not found\n",
      "'\n"
     ]
    },
    {
     "name": "stderr",
     "output_type": "stream",
     "text": [
      "\r",
      " 55%|█████▌    | 25523/46292 [16:50:26<4:24:26,  1.31it/s]"
     ]
    },
    {
     "name": "stdout",
     "output_type": "stream",
     "text": [
      "Cmd('git') failed due to: exit code(128)\n",
      "  cmdline: git clone -v https://github.com/tensorflow/tpu/tree/master/models/official/detection repos/tensorflow/tpu/tree/master/models/official/detection\n",
      "  stderr: 'Cloning into 'repos/tensorflow/tpu/tree/master/models/official/detection'...\n",
      "fatal: repository 'https://github.com/tensorflow/tpu/tree/master/models/official/detection/' not found\n",
      "'\n"
     ]
    },
    {
     "name": "stderr",
     "output_type": "stream",
     "text": [
      "\r",
      " 55%|█████▌    | 25524/46292 [16:50:26<3:32:36,  1.63it/s]"
     ]
    },
    {
     "name": "stdout",
     "output_type": "stream",
     "text": [
      "Cmd('git') failed due to: exit code(128)\n",
      "  cmdline: git clone -v https://github.com/tensorflow/tpu/tree/master/models/official/detection repos/tensorflow/tpu/tree/master/models/official/detection\n",
      "  stderr: 'Cloning into 'repos/tensorflow/tpu/tree/master/models/official/detection'...\n",
      "fatal: repository 'https://github.com/tensorflow/tpu/tree/master/models/official/detection/' not found\n",
      "'\n"
     ]
    },
    {
     "name": "stderr",
     "output_type": "stream",
     "text": [
      " 55%|█████▌    | 25559/46292 [16:52:19<18:14:16,  3.17s/it]"
     ]
    },
    {
     "name": "stdout",
     "output_type": "stream",
     "text": [
      "Cmd('git') failed due to: exit code(128)\n",
      "  cmdline: git clone -v https://github.com/hyoau/SRG-Net repos/hyoau/SRG-Net\n",
      "  stderr: 'Cloning into 'repos/hyoau/SRG-Net'...\n",
      "fatal: could not read Username for 'https://github.com': No such device or address\n",
      "'\n"
     ]
    },
    {
     "name": "stderr",
     "output_type": "stream",
     "text": [
      " 55%|█████▌    | 25595/46292 [16:53:11<5:25:57,  1.06it/s] "
     ]
    },
    {
     "name": "stdout",
     "output_type": "stream",
     "text": [
      "Cmd('git') failed due to: exit code(128)\n",
      "  cmdline: git clone -v https://github.com/https://gitlab.telecom-paris.fr/RING/SAR2SAR repos/https://gitlab.telecom-paris.fr/RING/SAR2SAR\n",
      "  stderr: 'Cloning into 'repos/https://gitlab.telecom-paris.fr/RING/SAR2SAR'...\n",
      "remote: Not Found\n",
      "fatal: repository 'https://github.com/https://gitlab.telecom-paris.fr/RING/SAR2SAR/' not found\n",
      "'\n"
     ]
    },
    {
     "name": "stderr",
     "output_type": "stream",
     "text": [
      " 55%|█████▌    | 25638/46292 [16:54:41<3:47:26,  1.51it/s] "
     ]
    },
    {
     "name": "stdout",
     "output_type": "stream",
     "text": [
      "Cmd('git') failed due to: exit code(128)\n",
      "  cmdline: git clone -v https://github.com/MUST-AI-Lab/Pytorch-Unet repos/MUST-AI-Lab/Pytorch-Unet\n",
      "  stderr: 'Cloning into 'repos/MUST-AI-Lab/Pytorch-Unet'...\n",
      "fatal: could not read Username for 'https://github.com': No such device or address\n",
      "'\n"
     ]
    },
    {
     "name": "stderr",
     "output_type": "stream",
     "text": [
      " 55%|█████▌    | 25651/46292 [16:55:15<11:29:02,  2.00s/it]"
     ]
    },
    {
     "name": "stdout",
     "output_type": "stream",
     "text": [
      "Cmd('git') failed due to: exit code(128)\n",
      "  cmdline: git clone -v https://github.com/boonvon/BA repos/boonvon/BA\n",
      "  stderr: 'Cloning into 'repos/boonvon/BA'...\n",
      "fatal: could not read Username for 'https://github.com': No such device or address\n",
      "'\n"
     ]
    },
    {
     "name": "stderr",
     "output_type": "stream",
     "text": [
      " 55%|█████▌    | 25660/46292 [16:55:34<10:07:12,  1.77s/it]"
     ]
    },
    {
     "name": "stdout",
     "output_type": "stream",
     "text": [
      "Cmd('git') failed due to: exit code(128)\n",
      "  cmdline: git clone -v https://github.com/hammer-wang/oml-ppo/blob/master/README.md repos/hammer-wang/oml-ppo/blob/master/README.md\n",
      "  stderr: 'Cloning into 'repos/hammer-wang/oml-ppo/blob/master/README.md'...\n",
      "fatal: repository 'https://github.com/hammer-wang/oml-ppo/blob/master/README.md/' not found\n",
      "'\n"
     ]
    },
    {
     "name": "stderr",
     "output_type": "stream",
     "text": [
      " 56%|█████▌    | 25735/46292 [16:59:10<11:31:00,  2.02s/it] "
     ]
    },
    {
     "name": "stdout",
     "output_type": "stream",
     "text": [
      "Cmd('git') failed due to: exit code(128)\n",
      "  cmdline: git clone -v https://github.com/MachengShen/V2V_cooperative_localization repos/MachengShen/V2V_cooperative_localization\n",
      "  stderr: 'Cloning into 'repos/MachengShen/V2V_cooperative_localization'...\n",
      "fatal: could not read Username for 'https://github.com': No such device or address\n",
      "'\n"
     ]
    },
    {
     "name": "stderr",
     "output_type": "stream",
     "text": [
      " 56%|█████▌    | 25752/46292 [16:59:31<6:51:58,  1.20s/it] "
     ]
    },
    {
     "name": "stdout",
     "output_type": "stream",
     "text": [
      "Cmd('git') failed due to: exit code(128)\n",
      "  cmdline: git clone -v https://github.com/https://gitlab.telecom-paris.fr/RING/SAR2SAR repos/https://gitlab.telecom-paris.fr/RING/SAR2SAR\n",
      "  stderr: 'Cloning into 'repos/https://gitlab.telecom-paris.fr/RING/SAR2SAR'...\n",
      "remote: Not Found\n",
      "fatal: repository 'https://github.com/https://gitlab.telecom-paris.fr/RING/SAR2SAR/' not found\n",
      "'\n"
     ]
    },
    {
     "name": "stderr",
     "output_type": "stream",
     "text": [
      " 56%|█████▌    | 25763/46292 [16:59:55<10:09:56,  1.78s/it]"
     ]
    },
    {
     "name": "stdout",
     "output_type": "stream",
     "text": [
      "Cmd('git') failed due to: exit code(128)\n",
      "  cmdline: git clone -v https://github.com/robert80203/Paper-list repos/robert80203/Paper-list\n",
      "  stderr: 'Cloning into 'repos/robert80203/Paper-list'...\n",
      "fatal: could not read Username for 'https://github.com': No such device or address\n",
      "'\n"
     ]
    },
    {
     "name": "stderr",
     "output_type": "stream",
     "text": [
      "\r",
      " 56%|█████▌    | 25766/46292 [16:59:56<5:26:23,  1.05it/s] "
     ]
    },
    {
     "name": "stdout",
     "output_type": "stream",
     "text": [
      "Cmd('git') failed due to: exit code(128)\n",
      "  cmdline: git clone -v https://github.com/tensorflow/models/tree/master/research/deep_speech repos/tensorflow/models/tree/master/research/deep_speech\n",
      "  stderr: 'Cloning into 'repos/tensorflow/models/tree/master/research/deep_speech'...\n",
      "fatal: repository 'https://github.com/tensorflow/models/tree/master/research/deep_speech/' not found\n",
      "'\n"
     ]
    },
    {
     "name": "stderr",
     "output_type": "stream",
     "text": [
      " 56%|█████▌    | 25832/46292 [17:01:21<7:27:37,  1.31s/it] "
     ]
    },
    {
     "name": "stdout",
     "output_type": "stream",
     "text": [
      "Cmd('git') failed due to: exit code(128)\n",
      "  cmdline: git clone -v https://github.com/https://bitbucket.org/ezeferrero/qew repos/https://bitbucket.org/ezeferrero/qew\n",
      "  stderr: 'Cloning into 'repos/https://bitbucket.org/ezeferrero/qew'...\n",
      "remote: Not Found\n",
      "fatal: repository 'https://github.com/https://bitbucket.org/ezeferrero/qew/' not found\n",
      "'\n"
     ]
    },
    {
     "name": "stderr",
     "output_type": "stream",
     "text": [
      " 56%|█████▌    | 25882/46292 [17:03:26<12:56:06,  2.28s/it]"
     ]
    },
    {
     "name": "stdout",
     "output_type": "stream",
     "text": [
      "Cmd('git') failed due to: exit code(128)\n",
      "  cmdline: git clone -v https://github.com/MyTHWN/Directional-Multivariate-Ranking repos/MyTHWN/Directional-Multivariate-Ranking\n",
      "  stderr: 'Cloning into 'repos/MyTHWN/Directional-Multivariate-Ranking'...\n",
      "fatal: could not read Username for 'https://github.com': No such device or address\n",
      "'\n"
     ]
    },
    {
     "name": "stderr",
     "output_type": "stream",
     "text": [
      " 56%|█████▌    | 25945/46292 [17:04:49<8:28:06,  1.50s/it] "
     ]
    },
    {
     "name": "stdout",
     "output_type": "stream",
     "text": [
      "Cmd('git') failed due to: exit code(128)\n",
      "  cmdline: git clone -v https://github.com/rshilliday/painting repos/rshilliday/painting\n",
      "  stderr: 'Cloning into 'repos/rshilliday/painting'...\n",
      "fatal: could not read Username for 'https://github.com': No such device or address\n",
      "'\n"
     ]
    },
    {
     "name": "stderr",
     "output_type": "stream",
     "text": [
      " 56%|█████▌    | 25989/46292 [17:05:57<10:52:34,  1.93s/it]"
     ]
    },
    {
     "name": "stdout",
     "output_type": "stream",
     "text": [
      "Cmd('git') failed due to: exit code(128)\n",
      "  cmdline: git clone -v https://github.com/tensorpack/tensorpack/tree/master/examples/ImageNetModels repos/tensorpack/tensorpack/tree/master/examples/ImageNetModels\n",
      "  stderr: 'Cloning into 'repos/tensorpack/tensorpack/tree/master/examples/ImageNetModels'...\n",
      "fatal: repository 'https://github.com/tensorpack/tensorpack/tree/master/examples/ImageNetModels/' not found\n",
      "'\n"
     ]
    },
    {
     "name": "stderr",
     "output_type": "stream",
     "text": [
      " 56%|█████▌    | 26022/46292 [17:10:46<7:06:14,  1.26s/it]  "
     ]
    },
    {
     "name": "stdout",
     "output_type": "stream",
     "text": [
      "Cmd('git') failed due to: exit code(128)\n",
      "  cmdline: git clone -v https://github.com/sarus-tech/tf2-published-models/tree/master/pixelcnn repos/sarus-tech/tf2-published-models/tree/master/pixelcnn\n",
      "  stderr: 'Cloning into 'repos/sarus-tech/tf2-published-models/tree/master/pixelcnn'...\n",
      "fatal: repository 'https://github.com/sarus-tech/tf2-published-models/tree/master/pixelcnn/' not found\n",
      "'\n"
     ]
    },
    {
     "name": "stderr",
     "output_type": "stream",
     "text": [
      " 56%|█████▋    | 26040/46292 [17:11:12<10:07:10,  1.80s/it]"
     ]
    },
    {
     "name": "stdout",
     "output_type": "stream",
     "text": [
      "Cmd('git') failed due to: exit code(128)\n",
      "  cmdline: git clone -v https://github.com/tensorflow/models/tree/master/research/lm_commonsense repos/tensorflow/models/tree/master/research/lm_commonsense\n",
      "  stderr: 'Cloning into 'repos/tensorflow/models/tree/master/research/lm_commonsense'...\n",
      "fatal: repository 'https://github.com/tensorflow/models/tree/master/research/lm_commonsense/' not found\n",
      "'\n"
     ]
    },
    {
     "name": "stderr",
     "output_type": "stream",
     "text": [
      " 57%|█████▋    | 26162/46292 [17:16:38<7:55:41,  1.42s/it] "
     ]
    },
    {
     "name": "stdout",
     "output_type": "stream",
     "text": [
      "Cmd('git') failed due to: exit code(128)\n",
      "  cmdline: git clone -v https://github.com/google-research/google-research/tree/master/ipagnn repos/google-research/google-research/tree/master/ipagnn\n",
      "  stderr: 'Cloning into 'repos/google-research/google-research/tree/master/ipagnn'...\n",
      "fatal: repository 'https://github.com/google-research/google-research/tree/master/ipagnn/' not found\n",
      "'\n"
     ]
    },
    {
     "name": "stderr",
     "output_type": "stream",
     "text": [
      " 57%|█████▋    | 26173/46292 [17:16:42<2:43:07,  2.06it/s]"
     ]
    },
    {
     "name": "stdout",
     "output_type": "stream",
     "text": [
      "Cmd('git') failed due to: exit code(128)\n",
      "  cmdline: git clone -v https://github.com/tensorpack/tensorpack/tree/master/examples/ImageNetModels repos/tensorpack/tensorpack/tree/master/examples/ImageNetModels\n",
      "  stderr: 'Cloning into 'repos/tensorpack/tensorpack/tree/master/examples/ImageNetModels'...\n",
      "fatal: repository 'https://github.com/tensorpack/tensorpack/tree/master/examples/ImageNetModels/' not found\n",
      "'\n"
     ]
    },
    {
     "name": "stderr",
     "output_type": "stream",
     "text": [
      " 57%|█████▋    | 26255/46292 [17:20:30<4:42:28,  1.18it/s]  "
     ]
    },
    {
     "name": "stdout",
     "output_type": "stream",
     "text": [
      "Cmd('git') failed due to: exit code(128)\n",
      "  cmdline: git clone -v https://github.com/anonymity-joggler/bdlood repos/anonymity-joggler/bdlood\n",
      "  stderr: 'Cloning into 'repos/anonymity-joggler/bdlood'...\n",
      "fatal: could not read Username for 'https://github.com': No such device or address\n",
      "'\n"
     ]
    },
    {
     "name": "stderr",
     "output_type": "stream",
     "text": [
      " 57%|█████▋    | 26286/46292 [17:22:11<10:50:58,  1.95s/it]"
     ]
    },
    {
     "name": "stdout",
     "output_type": "stream",
     "text": [
      "Cmd('git') failed due to: exit code(128)\n",
      "  cmdline: git clone -v https://github.com/osierboy/IBZSL repos/osierboy/IBZSL\n",
      "  stderr: 'Cloning into 'repos/osierboy/IBZSL'...\n",
      "fatal: could not read Username for 'https://github.com': No such device or address\n",
      "'\n"
     ]
    },
    {
     "name": "stderr",
     "output_type": "stream",
     "text": [
      " 57%|█████▋    | 26331/46292 [17:23:59<11:22:19,  2.05s/it]"
     ]
    },
    {
     "name": "stdout",
     "output_type": "stream",
     "text": [
      "Cmd('git') failed due to: exit code(128)\n",
      "  cmdline: git clone -v https://github.com/https://gitlab.com/polavieja_lab/cnn-lda repos/https://gitlab.com/polavieja_lab/cnn-lda\n",
      "  stderr: 'Cloning into 'repos/https://gitlab.com/polavieja_lab/cnn-lda'...\n",
      "remote: Not Found\n",
      "fatal: repository 'https://github.com/https://gitlab.com/polavieja_lab/cnn-lda/' not found\n",
      "'\n"
     ]
    },
    {
     "name": "stderr",
     "output_type": "stream",
     "text": [
      " 57%|█████▋    | 26340/46292 [17:24:16<7:42:07,  1.39s/it] "
     ]
    },
    {
     "name": "stdout",
     "output_type": "stream",
     "text": [
      "Cmd('git') failed due to: exit code(128)\n",
      "  cmdline: git clone -v https://github.com/compstat-lmu/paper_2019_dependent_features repos/compstat-lmu/paper_2019_dependent_features\n",
      "  stderr: 'Cloning into 'repos/compstat-lmu/paper_2019_dependent_features'...\n",
      "fatal: could not read Username for 'https://github.com': No such device or address\n",
      "'\n"
     ]
    },
    {
     "name": "stderr",
     "output_type": "stream",
     "text": [
      " 57%|█████▋    | 26345/46292 [17:24:18<3:36:53,  1.53it/s]"
     ]
    },
    {
     "name": "stdout",
     "output_type": "stream",
     "text": [
      "Cmd('git') failed due to: exit code(128)\n",
      "  cmdline: git clone -v https://github.com/https://gitlab.com/nct_tso_public/Volume2SurfaceCNN repos/https://gitlab.com/nct_tso_public/Volume2SurfaceCNN\n",
      "  stderr: 'Cloning into 'repos/https://gitlab.com/nct_tso_public/Volume2SurfaceCNN'...\n",
      "remote: Not Found\n",
      "fatal: repository 'https://github.com/https://gitlab.com/nct_tso_public/Volume2SurfaceCNN/' not found\n",
      "'\n"
     ]
    },
    {
     "name": "stderr",
     "output_type": "stream",
     "text": [
      " 57%|█████▋    | 26359/46292 [17:24:44<6:16:05,  1.13s/it] "
     ]
    },
    {
     "name": "stdout",
     "output_type": "stream",
     "text": [
      "Cmd('git') failed due to: exit code(128)\n",
      "  cmdline: git clone -v https://github.com/https://gitlab.com/guyemerson/pixie repos/https://gitlab.com/guyemerson/pixie\n",
      "  stderr: 'Cloning into 'repos/https://gitlab.com/guyemerson/pixie'...\n",
      "remote: Not Found\n",
      "fatal: repository 'https://github.com/https://gitlab.com/guyemerson/pixie/' not found\n",
      "'\n"
     ]
    },
    {
     "name": "stderr",
     "output_type": "stream",
     "text": [
      " 57%|█████▋    | 26369/46292 [17:25:24<33:10:37,  5.99s/it]"
     ]
    },
    {
     "name": "stdout",
     "output_type": "stream",
     "text": [
      "Cmd('git') failed due to: exit code(128)\n",
      "  cmdline: git clone -v https://github.com/https://bitbucket.org/raghavian/lotenet_pytorch repos/https://bitbucket.org/raghavian/lotenet_pytorch\n",
      "  stderr: 'Cloning into 'repos/https://bitbucket.org/raghavian/lotenet_pytorch'...\n",
      "remote: Not Found\n",
      "fatal: repository 'https://github.com/https://bitbucket.org/raghavian/lotenet_pytorch/' not found\n",
      "'\n"
     ]
    },
    {
     "name": "stderr",
     "output_type": "stream",
     "text": [
      " 57%|█████▋    | 26435/46292 [17:27:27<15:19:11,  2.78s/it]"
     ]
    },
    {
     "name": "stdout",
     "output_type": "stream",
     "text": [
      "Cmd('git') failed due to: exit code(128)\n",
      "  cmdline: git clone -v https://github.com/https://gitlab.com/ucdavisnlp/antiscam repos/https://gitlab.com/ucdavisnlp/antiscam\n",
      "  stderr: 'Cloning into 'repos/https://gitlab.com/ucdavisnlp/antiscam'...\n",
      "remote: Not Found\n",
      "fatal: repository 'https://github.com/https://gitlab.com/ucdavisnlp/antiscam/' not found\n",
      "'\n"
     ]
    },
    {
     "name": "stderr",
     "output_type": "stream",
     "text": [
      " 57%|█████▋    | 26438/46292 [17:27:29<7:00:05,  1.27s/it] "
     ]
    },
    {
     "name": "stdout",
     "output_type": "stream",
     "text": [
      "Cmd('git') failed due to: exit code(128)\n",
      "  cmdline: git clone -v https://github.com/https://gitlab.com/tum-vision/lie-spline-experiments repos/https://gitlab.com/tum-vision/lie-spline-experiments\n",
      "  stderr: 'Cloning into 'repos/https://gitlab.com/tum-vision/lie-spline-experiments'...\n",
      "remote: Not Found\n",
      "fatal: repository 'https://github.com/https://gitlab.com/tum-vision/lie-spline-experiments/' not found\n",
      "'\n"
     ]
    },
    {
     "name": "stderr",
     "output_type": "stream",
     "text": [
      " 57%|█████▋    | 26502/46292 [17:30:33<3:23:01,  1.62it/s]  "
     ]
    },
    {
     "name": "stdout",
     "output_type": "stream",
     "text": [
      "Cmd('git') failed due to: exit code(128)\n",
      "  cmdline: git clone -v https://github.com/https://gitlab.com/mborisyak/ope repos/https://gitlab.com/mborisyak/ope\n",
      "  stderr: 'Cloning into 'repos/https://gitlab.com/mborisyak/ope'...\n",
      "remote: Not Found\n",
      "fatal: repository 'https://github.com/https://gitlab.com/mborisyak/ope/' not found\n",
      "'\n"
     ]
    },
    {
     "name": "stderr",
     "output_type": "stream",
     "text": [
      "\r",
      " 57%|█████▋    | 26503/46292 [17:30:33<2:50:57,  1.93it/s]"
     ]
    },
    {
     "name": "stdout",
     "output_type": "stream",
     "text": [
      "Cmd('git') failed due to: exit code(128)\n",
      "  cmdline: git clone -v https://github.com/https://gitlab.com/ucdavisnlp/persuasionforgood repos/https://gitlab.com/ucdavisnlp/persuasionforgood\n",
      "  stderr: 'Cloning into 'repos/https://gitlab.com/ucdavisnlp/persuasionforgood'...\n",
      "remote: Not Found\n",
      "fatal: repository 'https://github.com/https://gitlab.com/ucdavisnlp/persuasionforgood/' not found\n",
      "'\n"
     ]
    },
    {
     "name": "stderr",
     "output_type": "stream",
     "text": [
      " 57%|█████▋    | 26573/46292 [17:33:28<22:07:38,  4.04s/it]"
     ]
    },
    {
     "name": "stdout",
     "output_type": "stream",
     "text": [
      "Cmd('git') failed due to: exit code(128)\n",
      "  cmdline: git clone -v https://github.com/https://gitlab.com/mattia.bergomi/geneos repos/https://gitlab.com/mattia.bergomi/geneos\n",
      "  stderr: 'Cloning into 'repos/https://gitlab.com/mattia.bergomi/geneos'...\n",
      "remote: Not Found\n",
      "fatal: repository 'https://github.com/https://gitlab.com/mattia.bergomi/geneos/' not found\n",
      "'\n"
     ]
    },
    {
     "name": "stderr",
     "output_type": "stream",
     "text": [
      " 58%|█████▊    | 26639/46292 [17:35:25<4:04:06,  1.34it/s] "
     ]
    },
    {
     "name": "stdout",
     "output_type": "stream",
     "text": [
      "Cmd('git') failed due to: exit code(128)\n",
      "  cmdline: git clone -v https://github.com/https://gitlab.com/h2t/DeepMotionLanguageMapping repos/https://gitlab.com/h2t/DeepMotionLanguageMapping\n",
      "  stderr: 'Cloning into 'repos/https://gitlab.com/h2t/DeepMotionLanguageMapping'...\n",
      "remote: Not Found\n",
      "fatal: repository 'https://github.com/https://gitlab.com/h2t/DeepMotionLanguageMapping/' not found\n",
      "'\n"
     ]
    },
    {
     "name": "stderr",
     "output_type": "stream",
     "text": [
      " 58%|█████▊    | 26756/46292 [17:39:12<25:55:02,  4.78s/it]"
     ]
    },
    {
     "name": "stdout",
     "output_type": "stream",
     "text": [
      "Cmd('git') failed due to: exit code(128)\n",
      "  cmdline: git clone -v https://github.com/qq303067814/Reinforcement-learning-in-portfolio-management- repos/qq303067814/Reinforcement-learning-in-portfolio-management-\n",
      "  stderr: 'Cloning into 'repos/qq303067814/Reinforcement-learning-in-portfolio-management-'...\n",
      "fatal: could not read Username for 'https://github.com': No such device or address\n",
      "'\n"
     ]
    },
    {
     "name": "stderr",
     "output_type": "stream",
     "text": [
      " 58%|█████▊    | 26765/46292 [17:39:21<5:08:28,  1.06it/s] "
     ]
    },
    {
     "name": "stdout",
     "output_type": "stream",
     "text": [
      "Cmd('git') failed due to: exit code(128)\n",
      "  cmdline: git clone -v https://github.com/PaddlePaddle/PaddleRec/tree/master/models/rank/flen repos/PaddlePaddle/PaddleRec/tree/master/models/rank/flen\n",
      "  stderr: 'Cloning into 'repos/PaddlePaddle/PaddleRec/tree/master/models/rank/flen'...\n",
      "fatal: repository 'https://github.com/PaddlePaddle/PaddleRec/tree/master/models/rank/flen/' not found\n",
      "'\n"
     ]
    },
    {
     "name": "stderr",
     "output_type": "stream",
     "text": [
      " 58%|█████▊    | 26813/46292 [17:41:10<3:32:12,  1.53it/s] "
     ]
    },
    {
     "name": "stdout",
     "output_type": "stream",
     "text": [
      "Cmd('git') failed due to: exit code(128)\n",
      "  cmdline: git clone -v https://github.com/https://bitbucket.org/unipampa/signcorpus repos/https://bitbucket.org/unipampa/signcorpus\n",
      "  stderr: 'Cloning into 'repos/https://bitbucket.org/unipampa/signcorpus'...\n",
      "remote: Not Found\n",
      "fatal: repository 'https://github.com/https://bitbucket.org/unipampa/signcorpus/' not found\n",
      "'\n"
     ]
    },
    {
     "name": "stderr",
     "output_type": "stream",
     "text": [
      " 58%|█████▊    | 26816/46292 [17:41:12<3:15:05,  1.66it/s]"
     ]
    },
    {
     "name": "stdout",
     "output_type": "stream",
     "text": [
      "Cmd('git') failed due to: exit code(128)\n",
      "  cmdline: git clone -v https://github.com/https://bitbucket.org/leenremm/python_salience_affected_neural_network repos/https://bitbucket.org/leenremm/python_salience_affected_neural_network\n",
      "  stderr: 'Cloning into 'repos/https://bitbucket.org/leenremm/python_salience_affected_neural_network'...\n",
      "remote: Not Found\n",
      "fatal: repository 'https://github.com/https://bitbucket.org/leenremm/python_salience_affected_neural_network/' not found\n",
      "'\n"
     ]
    },
    {
     "name": "stderr",
     "output_type": "stream",
     "text": [
      "\r",
      " 58%|█████▊    | 26817/46292 [17:41:12<2:45:35,  1.96it/s]"
     ]
    },
    {
     "name": "stdout",
     "output_type": "stream",
     "text": [
      "Cmd('git') failed due to: exit code(128)\n",
      "  cmdline: git clone -v https://github.com/https://bitbucket.org/michaelchughes/x-hdphmm-nips2015 repos/https://bitbucket.org/michaelchughes/x-hdphmm-nips2015\n",
      "  stderr: 'Cloning into 'repos/https://bitbucket.org/michaelchughes/x-hdphmm-nips2015'...\n",
      "remote: Not Found\n",
      "fatal: repository 'https://github.com/https://bitbucket.org/michaelchughes/x-hdphmm-nips2015/' not found\n",
      "'\n"
     ]
    },
    {
     "name": "stderr",
     "output_type": "stream",
     "text": [
      " 58%|█████▊    | 26819/46292 [17:41:13<2:28:58,  2.18it/s]"
     ]
    },
    {
     "name": "stdout",
     "output_type": "stream",
     "text": [
      "Cmd('git') failed due to: exit code(128)\n",
      "  cmdline: git clone -v https://github.com/https://gitlab.com/dxxz/Self-Supervised-GAN-Compression-Appendix repos/https://gitlab.com/dxxz/Self-Supervised-GAN-Compression-Appendix\n",
      "  stderr: 'Cloning into 'repos/https://gitlab.com/dxxz/Self-Supervised-GAN-Compression-Appendix'...\n",
      "remote: Not Found\n",
      "fatal: repository 'https://github.com/https://gitlab.com/dxxz/Self-Supervised-GAN-Compression-Appendix/' not found\n",
      "'\n"
     ]
    },
    {
     "name": "stderr",
     "output_type": "stream",
     "text": [
      " 58%|█████▊    | 26822/46292 [17:41:16<3:32:58,  1.52it/s]"
     ]
    },
    {
     "name": "stdout",
     "output_type": "stream",
     "text": [
      "Cmd('git') failed due to: exit code(128)\n",
      "  cmdline: git clone -v https://github.com/https://gitlab.com/shimorina/inlg-2018 repos/https://gitlab.com/shimorina/inlg-2018\n",
      "  stderr: 'Cloning into 'repos/https://gitlab.com/shimorina/inlg-2018'...\n",
      "remote: Not Found\n",
      "fatal: repository 'https://github.com/https://gitlab.com/shimorina/inlg-2018/' not found\n",
      "'\n"
     ]
    },
    {
     "name": "stderr",
     "output_type": "stream",
     "text": [
      " 58%|█████▊    | 26828/46292 [17:41:29<9:24:46,  1.74s/it] "
     ]
    },
    {
     "name": "stdout",
     "output_type": "stream",
     "text": [
      "Cmd('git') failed due to: exit code(128)\n",
      "  cmdline: git clone -v https://github.com/https://bitbucket.org/RLinRL/intelligenttrainerpublic repos/https://bitbucket.org/RLinRL/intelligenttrainerpublic\n",
      "  stderr: 'Cloning into 'repos/https://bitbucket.org/RLinRL/intelligenttrainerpublic'...\n",
      "remote: Not Found\n",
      "fatal: repository 'https://github.com/https://bitbucket.org/RLinRL/intelligenttrainerpublic/' not found\n",
      "'\n"
     ]
    },
    {
     "name": "stderr",
     "output_type": "stream",
     "text": [
      " 58%|█████▊    | 26843/46292 [17:41:47<3:21:35,  1.61it/s] "
     ]
    },
    {
     "name": "stdout",
     "output_type": "stream",
     "text": [
      "Cmd('git') failed due to: exit code(128)\n",
      "  cmdline: git clone -v https://github.com/https://bitbucket.org/hillel/templatekernels repos/https://bitbucket.org/hillel/templatekernels\n",
      "  stderr: 'Cloning into 'repos/https://bitbucket.org/hillel/templatekernels'...\n",
      "remote: Not Found\n",
      "fatal: repository 'https://github.com/https://bitbucket.org/hillel/templatekernels/' not found\n",
      "'\n"
     ]
    },
    {
     "name": "stderr",
     "output_type": "stream",
     "text": [
      " 58%|█████▊    | 26888/46292 [17:42:54<4:43:12,  1.14it/s] "
     ]
    },
    {
     "name": "stdout",
     "output_type": "stream",
     "text": [
      "Cmd('git') failed due to: exit code(128)\n",
      "  cmdline: git clone -v https://github.com/HEEJOWOO/RDN repos/HEEJOWOO/RDN\n",
      "  stderr: 'Cloning into 'repos/HEEJOWOO/RDN'...\n",
      "fatal: could not read Username for 'https://github.com': No such device or address\n",
      "'\n"
     ]
    },
    {
     "name": "stderr",
     "output_type": "stream",
     "text": [
      " 58%|█████▊    | 26892/46292 [17:42:57<4:09:51,  1.29it/s]"
     ]
    },
    {
     "name": "stdout",
     "output_type": "stream",
     "text": [
      "Cmd('git') failed due to: exit code(128)\n",
      "  cmdline: git clone -v https://github.com/KelvinYang0320/deepbots-RL-agent repos/KelvinYang0320/deepbots-RL-agent\n",
      "  stderr: 'Cloning into 'repos/KelvinYang0320/deepbots-RL-agent'...\n",
      "fatal: could not read Username for 'https://github.com': No such device or address\n",
      "'\n"
     ]
    },
    {
     "name": "stderr",
     "output_type": "stream",
     "text": [
      " 58%|█████▊    | 27005/46292 [17:46:15<8:46:07,  1.64s/it] "
     ]
    },
    {
     "name": "stdout",
     "output_type": "stream",
     "text": [
      "Cmd('git') failed due to: exit code(128)\n",
      "  cmdline: git clone -v https://github.com/XieBaoshi/stylegan repos/XieBaoshi/stylegan\n",
      "  stderr: 'Cloning into 'repos/XieBaoshi/stylegan'...\n",
      "fatal: could not read Username for 'https://github.com': No such device or address\n",
      "'\n"
     ]
    },
    {
     "name": "stderr",
     "output_type": "stream",
     "text": [
      " 58%|█████▊    | 27032/46292 [17:48:33<14:04:38,  2.63s/it]"
     ]
    },
    {
     "name": "stdout",
     "output_type": "stream",
     "text": [
      "Cmd('git') failed due to: exit code(128)\n",
      "  cmdline: git clone -v https://github.com/ramongss/2020-CSF-COVID19 repos/ramongss/2020-CSF-COVID19\n",
      "  stderr: 'Cloning into 'repos/ramongss/2020-CSF-COVID19'...\n",
      "fatal: could not read Username for 'https://github.com': No such device or address\n",
      "'\n"
     ]
    },
    {
     "name": "stderr",
     "output_type": "stream",
     "text": [
      " 58%|█████▊    | 27038/46292 [17:48:38<5:12:57,  1.03it/s] "
     ]
    },
    {
     "name": "stdout",
     "output_type": "stream",
     "text": [
      "Cmd('git') failed due to: exit code(128)\n",
      "  cmdline: git clone -v https://github.com/ramongss/2020-USA-BRA-COVID19 repos/ramongss/2020-USA-BRA-COVID19\n",
      "  stderr: 'Cloning into 'repos/ramongss/2020-USA-BRA-COVID19'...\n",
      "fatal: could not read Username for 'https://github.com': No such device or address\n",
      "'\n"
     ]
    },
    {
     "name": "stderr",
     "output_type": "stream",
     "text": [
      " 58%|█████▊    | 27048/46292 [17:48:48<5:10:21,  1.03it/s]"
     ]
    },
    {
     "name": "stdout",
     "output_type": "stream",
     "text": [
      "Cmd('git') failed due to: exit code(128)\n",
      "  cmdline: git clone -v https://github.com/ramongss/2020-AmazonRainforest-Fire repos/ramongss/2020-AmazonRainforest-Fire\n",
      "  stderr: 'Cloning into 'repos/ramongss/2020-AmazonRainforest-Fire'...\n",
      "fatal: could not read Username for 'https://github.com': No such device or address\n",
      "'\n"
     ]
    },
    {
     "name": "stderr",
     "output_type": "stream",
     "text": [
      " 59%|█████▊    | 27146/46292 [17:51:26<2:33:04,  2.08it/s] "
     ]
    },
    {
     "name": "stdout",
     "output_type": "stream",
     "text": [
      "Cmd('git') failed due to: exit code(128)\n",
      "  cmdline: git clone -v https://github.com/vaibhavsingh9/MoCoGAN_implementation repos/vaibhavsingh9/MoCoGAN_implementation\n",
      "  stderr: 'Cloning into 'repos/vaibhavsingh9/MoCoGAN_implementation'...\n",
      "fatal: could not read Username for 'https://github.com': No such device or address\n",
      "'\n"
     ]
    },
    {
     "name": "stderr",
     "output_type": "stream",
     "text": [
      " 59%|█████▉    | 27243/46292 [17:53:35<13:37:29,  2.57s/it]"
     ]
    },
    {
     "name": "stdout",
     "output_type": "stream",
     "text": [
      "Cmd('git') failed due to: exit code(128)\n",
      "  cmdline: git clone -v https://github.com/google-research/google-research/tree/master/nngp_nas repos/google-research/google-research/tree/master/nngp_nas\n",
      "  stderr: 'Cloning into 'repos/google-research/google-research/tree/master/nngp_nas'...\n",
      "fatal: repository 'https://github.com/google-research/google-research/tree/master/nngp_nas/' not found\n",
      "'\n"
     ]
    },
    {
     "name": "stderr",
     "output_type": "stream",
     "text": [
      " 59%|█████▉    | 27305/46292 [17:55:09<5:36:03,  1.06s/it] "
     ]
    },
    {
     "name": "stdout",
     "output_type": "stream",
     "text": [
      "Cmd('git') failed due to: exit code(128)\n",
      "  cmdline: git clone -v https://github.com/hrroodabeh/temp repos/hrroodabeh/temp\n",
      "  stderr: 'Cloning into 'repos/hrroodabeh/temp'...\n",
      "fatal: could not read Username for 'https://github.com': No such device or address\n",
      "'\n"
     ]
    },
    {
     "name": "stderr",
     "output_type": "stream",
     "text": [
      " 59%|█████▉    | 27362/46292 [17:56:32<4:23:02,  1.20it/s] "
     ]
    },
    {
     "name": "stdout",
     "output_type": "stream",
     "text": [
      "Cmd('git') failed due to: exit code(128)\n",
      "  cmdline: git clone -v https://github.com/Blue-Giant/Multi-scale-PDEs repos/Blue-Giant/Multi-scale-PDEs\n",
      "  stderr: 'Cloning into 'repos/Blue-Giant/Multi-scale-PDEs'...\n",
      "fatal: could not read Username for 'https://github.com': No such device or address\n",
      "'\n"
     ]
    },
    {
     "name": "stderr",
     "output_type": "stream",
     "text": [
      " 59%|█████▉    | 27508/46292 [18:03:14<20:55:00,  4.01s/it]"
     ]
    },
    {
     "name": "stdout",
     "output_type": "stream",
     "text": [
      "Cmd('git') failed due to: exit code(128)\n",
      "  cmdline: git clone -v https://github.com/saeedmoazami/Multi-Agent-Task-Allocation-in-Complementary-Teams-A-Hunter-and-Gatherer-Approach repos/saeedmoazami/Multi-Agent-Task-Allocation-in-Complementary-Teams-A-Hunter-and-Gatherer-Approach\n",
      "  stderr: 'Cloning into 'repos/saeedmoazami/Multi-Agent-Task-Allocation-in-Complementary-Teams-A-Hunter-and-Gatherer-Approach'...\n",
      "fatal: could not read Username for 'https://github.com': No such device or address\n",
      "'\n"
     ]
    },
    {
     "name": "stderr",
     "output_type": "stream",
     "text": [
      " 60%|█████▉    | 27547/46292 [18:03:46<1:47:08,  2.92it/s] "
     ]
    },
    {
     "name": "stdout",
     "output_type": "stream",
     "text": [
      "Cmd('git') failed due to: exit code(128)\n",
      "  cmdline: git clone -v https://github.com/gamilton211/Neural-Style-Transfer repos/gamilton211/Neural-Style-Transfer\n",
      "  stderr: 'Cloning into 'repos/gamilton211/Neural-Style-Transfer'...\n",
      "fatal: could not read Username for 'https://github.com': No such device or address\n",
      "'\n"
     ]
    },
    {
     "name": "stderr",
     "output_type": "stream",
     "text": [
      " 60%|█████▉    | 27551/46292 [18:03:50<3:29:34,  1.49it/s]"
     ]
    },
    {
     "name": "stdout",
     "output_type": "stream",
     "text": [
      "Cmd('git') failed due to: exit code(128)\n",
      "  cmdline: git clone -v https://github.com/Siyuzhang-hit/PCLNet repos/Siyuzhang-hit/PCLNet\n",
      "  stderr: 'Cloning into 'repos/Siyuzhang-hit/PCLNet'...\n",
      "fatal: could not read Username for 'https://github.com': No such device or address\n",
      "'\n"
     ]
    },
    {
     "name": "stderr",
     "output_type": "stream",
     "text": [
      "\r",
      " 60%|█████▉    | 27552/46292 [18:03:50<2:55:17,  1.78it/s]"
     ]
    },
    {
     "name": "stdout",
     "output_type": "stream",
     "text": [
      "Cmd('git') failed due to: exit code(128)\n",
      "  cmdline: git clone -v https://github.com/Siyuzhang-hit/PCLNet repos/Siyuzhang-hit/PCLNet\n",
      "  stderr: 'Cloning into 'repos/Siyuzhang-hit/PCLNet'...\n",
      "fatal: could not read Username for 'https://github.com': No such device or address\n",
      "'\n"
     ]
    },
    {
     "name": "stderr",
     "output_type": "stream",
     "text": [
      " 60%|█████▉    | 27604/46292 [18:05:38<12:37:55,  2.43s/it]"
     ]
    },
    {
     "name": "stdout",
     "output_type": "stream",
     "text": [
      "Cmd('git') failed due to: exit code(128)\n",
      "  cmdline: git clone -v https://github.com/AlbertoPresta/online_sol repos/AlbertoPresta/online_sol\n",
      "  stderr: 'Cloning into 'repos/AlbertoPresta/online_sol'...\n",
      "fatal: could not read Username for 'https://github.com': No such device or address\n",
      "'\n"
     ]
    },
    {
     "name": "stderr",
     "output_type": "stream",
     "text": [
      " 60%|█████▉    | 27607/46292 [18:05:39<5:54:49,  1.14s/it] "
     ]
    },
    {
     "name": "stdout",
     "output_type": "stream",
     "text": [
      "Cmd('git') failed due to: exit code(128)\n",
      "  cmdline: git clone -v https://github.com/https://gitlab.com/hepcedar/pyslha repos/https://gitlab.com/hepcedar/pyslha\n",
      "  stderr: 'Cloning into 'repos/https://gitlab.com/hepcedar/pyslha'...\n",
      "remote: Not Found\n",
      "fatal: repository 'https://github.com/https://gitlab.com/hepcedar/pyslha/' not found\n",
      "'\n"
     ]
    },
    {
     "name": "stderr",
     "output_type": "stream",
     "text": [
      " 60%|█████▉    | 27610/46292 [18:05:45<7:42:43,  1.49s/it] "
     ]
    },
    {
     "name": "stdout",
     "output_type": "stream",
     "text": [
      "Cmd('git') failed due to: exit code(128)\n",
      "  cmdline: git clone -v https://github.com/deepmind/deepmind-research/tree/master/unsupervised_adversarial_training repos/deepmind/deepmind-research/tree/master/unsupervised_adversarial_training\n",
      "  stderr: 'Cloning into 'repos/deepmind/deepmind-research/tree/master/unsupervised_adversarial_training'...\n",
      "fatal: repository 'https://github.com/deepmind/deepmind-research/tree/master/unsupervised_adversarial_training/' not found\n",
      "'\n"
     ]
    },
    {
     "name": "stderr",
     "output_type": "stream",
     "text": [
      "\r",
      " 60%|█████▉    | 27611/46292 [18:05:46<5:57:37,  1.15s/it]"
     ]
    },
    {
     "name": "stdout",
     "output_type": "stream",
     "text": [
      "Cmd('git') failed due to: exit code(128)\n",
      "  cmdline: git clone -v https://github.com/seolhokim/The-Easiest-Soft-Actor-Critic-using-Pytorch-in-Pendulum repos/seolhokim/The-Easiest-Soft-Actor-Critic-using-Pytorch-in-Pendulum\n",
      "  stderr: 'Cloning into 'repos/seolhokim/The-Easiest-Soft-Actor-Critic-using-Pytorch-in-Pendulum'...\n",
      "fatal: could not read Username for 'https://github.com': No such device or address\n",
      "'\n"
     ]
    },
    {
     "name": "stderr",
     "output_type": "stream",
     "text": [
      " 60%|█████▉    | 27619/46292 [18:05:52<3:31:55,  1.47it/s]"
     ]
    },
    {
     "name": "stdout",
     "output_type": "stream",
     "text": [
      "Cmd('git') failed due to: exit code(128)\n",
      "  cmdline: git clone -v https://github.com/google-research/google-research/tree/master/automatic_structured_vi repos/google-research/google-research/tree/master/automatic_structured_vi\n",
      "  stderr: 'Cloning into 'repos/google-research/google-research/tree/master/automatic_structured_vi'...\n",
      "fatal: repository 'https://github.com/google-research/google-research/tree/master/automatic_structured_vi/' not found\n",
      "'\n"
     ]
    },
    {
     "name": "stderr",
     "output_type": "stream",
     "text": [
      " 60%|█████▉    | 27666/46292 [18:08:48<10:43:52,  2.07s/it] "
     ]
    },
    {
     "name": "stdout",
     "output_type": "stream",
     "text": [
      "Cmd('git') failed due to: exit code(128)\n",
      "  cmdline: git clone -v https://github.com/https://bitbucket.org/ezeferrero/qew repos/https://bitbucket.org/ezeferrero/qew\n",
      "  stderr: 'Cloning into 'repos/https://bitbucket.org/ezeferrero/qew'...\n",
      "remote: Not Found\n",
      "fatal: repository 'https://github.com/https://bitbucket.org/ezeferrero/qew/' not found\n",
      "'\n"
     ]
    },
    {
     "name": "stderr",
     "output_type": "stream",
     "text": [
      " 60%|█████▉    | 27675/46292 [18:08:54<4:04:11,  1.27it/s] "
     ]
    },
    {
     "name": "stdout",
     "output_type": "stream",
     "text": [
      "Cmd('git') failed due to: exit code(128)\n",
      "  cmdline: git clone -v https://github.com/Menborong/Simple-QCNN/blob/master/Simple_QCNN_MNIST.ipynb repos/Menborong/Simple-QCNN/blob/master/Simple_QCNN_MNIST.ipynb\n",
      "  stderr: 'Cloning into 'repos/Menborong/Simple-QCNN/blob/master/Simple_QCNN_MNIST.ipynb'...\n",
      "fatal: repository 'https://github.com/Menborong/Simple-QCNN/blob/master/Simple_QCNN_MNIST.ipynb/' not found\n",
      "'\n"
     ]
    },
    {
     "name": "stderr",
     "output_type": "stream",
     "text": [
      " 60%|█████▉    | 27702/46292 [18:10:44<3:42:03,  1.40it/s]  "
     ]
    },
    {
     "name": "stdout",
     "output_type": "stream",
     "text": [
      "Cmd('git') failed due to: exit code(128)\n",
      "  cmdline: git clone -v https://github.com/numenta/htmpapers/blob/master/frontiers/why_neurons_have_thousands_of_synapses repos/numenta/htmpapers/blob/master/frontiers/why_neurons_have_thousands_of_synapses\n",
      "  stderr: 'Cloning into 'repos/numenta/htmpapers/blob/master/frontiers/why_neurons_have_thousands_of_synapses'...\n",
      "fatal: repository 'https://github.com/numenta/htmpapers/blob/master/frontiers/why_neurons_have_thousands_of_synapses/' not found\n",
      "'\n"
     ]
    },
    {
     "name": "stderr",
     "output_type": "stream",
     "text": [
      " 60%|█████▉    | 27730/46292 [18:11:06<2:28:12,  2.09it/s]"
     ]
    },
    {
     "name": "stdout",
     "output_type": "stream",
     "text": [
      "Cmd('git') failed due to: exit code(128)\n",
      "  cmdline: git clone -v https://github.com/https://gitlab.com/ibykus/dpsolitons-code repos/https://gitlab.com/ibykus/dpsolitons-code\n",
      "  stderr: 'Cloning into 'repos/https://gitlab.com/ibykus/dpsolitons-code'...\n",
      "remote: Not Found\n",
      "fatal: repository 'https://github.com/https://gitlab.com/ibykus/dpsolitons-code/' not found\n",
      "'\n"
     ]
    },
    {
     "name": "stderr",
     "output_type": "stream",
     "text": [
      " 60%|█████▉    | 27743/46292 [18:11:47<14:09:52,  2.75s/it]"
     ]
    },
    {
     "name": "stdout",
     "output_type": "stream",
     "text": [
      "Cmd('git') failed due to: exit code(128)\n",
      "  cmdline: git clone -v https://github.com/deepmind/sonnet/blob/v2/sonnet/src/nets/vqvae.py repos/deepmind/sonnet/blob/v2/sonnet/src/nets/vqvae.py\n",
      "  stderr: 'Cloning into 'repos/deepmind/sonnet/blob/v2/sonnet/src/nets/vqvae.py'...\n",
      "fatal: repository 'https://github.com/deepmind/sonnet/blob/v2/sonnet/src/nets/vqvae.py/' not found\n",
      "'\n"
     ]
    },
    {
     "name": "stderr",
     "output_type": "stream",
     "text": [
      " 60%|█████▉    | 27756/46292 [18:11:57<3:35:29,  1.43it/s] "
     ]
    },
    {
     "name": "stdout",
     "output_type": "stream",
     "text": [
      "Cmd('git') failed due to: exit code(128)\n",
      "  cmdline: git clone -v https://github.com/https://gitlab.com/scemama/irpf90 repos/https://gitlab.com/scemama/irpf90\n",
      "  stderr: 'Cloning into 'repos/https://gitlab.com/scemama/irpf90'...\n",
      "remote: Not Found\n",
      "fatal: repository 'https://github.com/https://gitlab.com/scemama/irpf90/' not found\n",
      "'\n"
     ]
    },
    {
     "name": "stderr",
     "output_type": "stream",
     "text": [
      " 60%|█████▉    | 27763/46292 [18:12:17<15:53:26,  3.09s/it]"
     ]
    },
    {
     "name": "stdout",
     "output_type": "stream",
     "text": [
      "Cmd('git') failed due to: exit code(128)\n",
      "  cmdline: git clone -v https://github.com/huawei-noah/Pretrained-Language-Model/tree/master/NEZHA-Gen-TensorFlow repos/huawei-noah/Pretrained-Language-Model/tree/master/NEZHA-Gen-TensorFlow\n",
      "  stderr: 'Cloning into 'repos/huawei-noah/Pretrained-Language-Model/tree/master/NEZHA-Gen-TensorFlow'...\n",
      "fatal: repository 'https://github.com/huawei-noah/Pretrained-Language-Model/tree/master/NEZHA-Gen-TensorFlow/' not found\n",
      "'\n"
     ]
    },
    {
     "name": "stderr",
     "output_type": "stream",
     "text": [
      " 60%|██████    | 27788/46292 [18:12:44<3:19:44,  1.54it/s] "
     ]
    },
    {
     "name": "stdout",
     "output_type": "stream",
     "text": [
      "Cmd('git') failed due to: exit code(128)\n",
      "  cmdline: git clone -v https://github.com/pytorch/fairseq/tree/master/examples/speech_to_text repos/pytorch/fairseq/tree/master/examples/speech_to_text\n",
      "  stderr: 'Cloning into 'repos/pytorch/fairseq/tree/master/examples/speech_to_text'...\n",
      "remote: Please upgrade your git client.\n",
      "remote: GitHub.com no longer supports git over dumb-http: https://github.com/blog/809-git-dumb-http-transport-to-be-turned-off-in-90-days\n",
      "fatal: unable to access 'https://github.com/pytorch/fairseq/tree/master/examples/speech_to_text/': The requested URL returned error: 403\n",
      "'\n"
     ]
    },
    {
     "name": "stderr",
     "output_type": "stream",
     "text": [
      " 60%|██████    | 27805/46292 [18:13:37<10:49:17,  2.11s/it]"
     ]
    },
    {
     "name": "stdout",
     "output_type": "stream",
     "text": [
      "Cmd('git') failed due to: exit code(128)\n",
      "  cmdline: git clone -v https://github.com/EugenHotaj/pytorch-generative/blob/master/pytorch_generative/models/image_gpt.py repos/EugenHotaj/pytorch-generative/blob/master/pytorch_generative/models/image_gpt.py\n",
      "  stderr: 'Cloning into 'repos/EugenHotaj/pytorch-generative/blob/master/pytorch_generative/models/image_gpt.py'...\n",
      "fatal: repository 'https://github.com/EugenHotaj/pytorch-generative/blob/master/pytorch_generative/models/image_gpt.py/' not found\n",
      "'\n"
     ]
    },
    {
     "name": "stderr",
     "output_type": "stream",
     "text": [
      " 60%|██████    | 27829/46292 [18:14:05<3:38:00,  1.41it/s] "
     ]
    },
    {
     "name": "stdout",
     "output_type": "stream",
     "text": [
      "Cmd('git') failed due to: exit code(128)\n",
      "  cmdline: git clone -v https://github.com/mandal4/GWL repos/mandal4/GWL\n",
      "  stderr: 'Cloning into 'repos/mandal4/GWL'...\n",
      "fatal: could not read Username for 'https://github.com': No such device or address\n",
      "'\n"
     ]
    },
    {
     "name": "stderr",
     "output_type": "stream",
     "text": [
      " 60%|██████    | 27859/46292 [18:14:47<5:55:13,  1.16s/it] "
     ]
    },
    {
     "name": "stdout",
     "output_type": "stream",
     "text": [
      "Cmd('git') failed due to: exit code(128)\n",
      "  cmdline: git clone -v https://github.com/vishal-purohit/Meta-SGD-for-Few-Shot-Learning-tasks repos/vishal-purohit/Meta-SGD-for-Few-Shot-Learning-tasks\n",
      "  stderr: 'Cloning into 'repos/vishal-purohit/Meta-SGD-for-Few-Shot-Learning-tasks'...\n",
      "fatal: could not read Username for 'https://github.com': No such device or address\n",
      "'\n"
     ]
    },
    {
     "name": "stderr",
     "output_type": "stream",
     "text": [
      " 60%|██████    | 27879/46292 [18:15:08<6:14:38,  1.22s/it] "
     ]
    },
    {
     "name": "stdout",
     "output_type": "stream",
     "text": [
      "Cmd('git') failed due to: exit code(128)\n",
      "  cmdline: git clone -v https://github.com/https://gitlab.com/harvard-machine-learning/rationality-generalization repos/https://gitlab.com/harvard-machine-learning/rationality-generalization\n",
      "  stderr: 'Cloning into 'repos/https://gitlab.com/harvard-machine-learning/rationality-generalization'...\n",
      "remote: Not Found\n",
      "fatal: repository 'https://github.com/https://gitlab.com/harvard-machine-learning/rationality-generalization/' not found\n",
      "'\n"
     ]
    },
    {
     "name": "stderr",
     "output_type": "stream",
     "text": [
      " 60%|██████    | 27924/46292 [18:16:51<10:45:23,  2.11s/it]"
     ]
    },
    {
     "name": "stdout",
     "output_type": "stream",
     "text": [
      "Cmd('git') failed due to: exit code(128)\n",
      "  cmdline: git clone -v https://github.com/google-research/google-research/tree/master/graph_embedding/persona repos/google-research/google-research/tree/master/graph_embedding/persona\n",
      "  stderr: 'Cloning into 'repos/google-research/google-research/tree/master/graph_embedding/persona'...\n",
      "fatal: repository 'https://github.com/google-research/google-research/tree/master/graph_embedding/persona/' not found\n",
      "'\n"
     ]
    },
    {
     "name": "stderr",
     "output_type": "stream",
     "text": [
      " 60%|██████    | 27927/46292 [18:17:51<61:36:25, 12.08s/it]"
     ]
    },
    {
     "name": "stdout",
     "output_type": "stream",
     "text": [
      "Cmd('git') failed due to: exit code(128)\n",
      "  cmdline: git clone -v https://github.com/LiUzHiAn/VUNet-reproduce repos/LiUzHiAn/VUNet-reproduce\n",
      "  stderr: 'Cloning into 'repos/LiUzHiAn/VUNet-reproduce'...\n",
      "fatal: could not read Username for 'https://github.com': No such device or address\n",
      "'\n"
     ]
    },
    {
     "name": "stderr",
     "output_type": "stream",
     "text": [
      " 60%|██████    | 27936/46292 [18:17:56<6:14:10,  1.22s/it] "
     ]
    },
    {
     "name": "stdout",
     "output_type": "stream",
     "text": [
      "Cmd('git') failed due to: exit code(128)\n",
      "  cmdline: git clone -v https://github.com/rkyoon12/NAED-Method repos/rkyoon12/NAED-Method\n",
      "  stderr: 'Cloning into 'repos/rkyoon12/NAED-Method'...\n",
      "fatal: could not read Username for 'https://github.com': No such device or address\n",
      "'\n"
     ]
    },
    {
     "name": "stderr",
     "output_type": "stream",
     "text": [
      " 60%|██████    | 27970/46292 [18:18:55<3:49:22,  1.33it/s] "
     ]
    },
    {
     "name": "stdout",
     "output_type": "stream",
     "text": [
      "Cmd('git') failed due to: exit code(128)\n",
      "  cmdline: git clone -v https://github.com/Vishal-V/GSoC-TensorFlow-2019/blob/master/face_app/model.py repos/Vishal-V/GSoC-TensorFlow-2019/blob/master/face_app/model.py\n",
      "  stderr: 'Cloning into 'repos/Vishal-V/GSoC-TensorFlow-2019/blob/master/face_app/model.py'...\n",
      "fatal: repository 'https://github.com/Vishal-V/GSoC-TensorFlow-2019/blob/master/face_app/model.py/' not found\n",
      "'\n"
     ]
    },
    {
     "name": "stderr",
     "output_type": "stream",
     "text": [
      " 60%|██████    | 27997/46292 [18:19:37<6:17:08,  1.24s/it] "
     ]
    },
    {
     "name": "stdout",
     "output_type": "stream",
     "text": [
      "Cmd('git') failed due to: exit code(128)\n",
      "  cmdline: git clone -v https://github.com/Eric-Wallace/fid repos/Eric-Wallace/fid\n",
      "  stderr: 'Cloning into 'repos/Eric-Wallace/fid'...\n",
      "fatal: could not read Username for 'https://github.com': No such device or address\n",
      "'\n"
     ]
    },
    {
     "name": "stderr",
     "output_type": "stream",
     "text": [
      "\r",
      " 60%|██████    | 27999/46292 [18:19:38<3:49:45,  1.33it/s]"
     ]
    },
    {
     "name": "stdout",
     "output_type": "stream",
     "text": [
      "Cmd('git') failed due to: exit code(128)\n",
      "  cmdline: git clone -v https://github.com/Eric-Wallace/fid repos/Eric-Wallace/fid\n",
      "  stderr: 'Cloning into 'repos/Eric-Wallace/fid'...\n",
      "fatal: could not read Username for 'https://github.com': No such device or address\n",
      "'\n"
     ]
    },
    {
     "name": "stderr",
     "output_type": "stream",
     "text": [
      " 61%|██████    | 28058/46292 [18:21:27<6:14:15,  1.23s/it] "
     ]
    },
    {
     "name": "stdout",
     "output_type": "stream",
     "text": [
      "Cmd('git') failed due to: exit code(128)\n",
      "  cmdline: git clone -v https://github.com/https://bitbucket.org/charms/blockpr repos/https://bitbucket.org/charms/blockpr\n",
      "  stderr: 'Cloning into 'repos/https://bitbucket.org/charms/blockpr'...\n",
      "remote: Not Found\n",
      "fatal: repository 'https://github.com/https://bitbucket.org/charms/blockpr/' not found\n",
      "'\n"
     ]
    },
    {
     "name": "stderr",
     "output_type": "stream",
     "text": [
      " 61%|██████    | 28136/46292 [18:23:23<5:33:03,  1.10s/it] "
     ]
    },
    {
     "name": "stdout",
     "output_type": "stream",
     "text": [
      "Cmd('git') failed due to: exit code(128)\n",
      "  cmdline: git clone -v https://github.com/https://bitbucket.org/robsatteam/rob-sat repos/https://bitbucket.org/robsatteam/rob-sat\n",
      "  stderr: 'Cloning into 'repos/https://bitbucket.org/robsatteam/rob-sat'...\n",
      "remote: Not Found\n",
      "fatal: repository 'https://github.com/https://bitbucket.org/robsatteam/rob-sat/' not found\n",
      "'\n"
     ]
    },
    {
     "name": "stderr",
     "output_type": "stream",
     "text": [
      " 61%|██████    | 28144/46292 [18:23:33<4:07:12,  1.22it/s] "
     ]
    },
    {
     "name": "stdout",
     "output_type": "stream",
     "text": [
      "Cmd('git') failed due to: exit code(128)\n",
      "  cmdline: git clone -v https://github.com/https://bitbucket.org/constantAmateur/discfragmentation repos/https://bitbucket.org/constantAmateur/discfragmentation\n",
      "  stderr: 'Cloning into 'repos/https://bitbucket.org/constantAmateur/discfragmentation'...\n",
      "remote: Not Found\n",
      "fatal: repository 'https://github.com/https://bitbucket.org/constantAmateur/discfragmentation/' not found\n",
      "'\n"
     ]
    },
    {
     "name": "stderr",
     "output_type": "stream",
     "text": [
      " 61%|██████    | 28189/46292 [18:25:08<2:32:48,  1.97it/s] "
     ]
    },
    {
     "name": "stdout",
     "output_type": "stream",
     "text": [
      "Cmd('git') failed due to: exit code(128)\n",
      "  cmdline: git clone -v https://github.com/ochkrebtii/Multipathogen-ARI-dynamics repos/ochkrebtii/Multipathogen-ARI-dynamics\n",
      "  stderr: 'Cloning into 'repos/ochkrebtii/Multipathogen-ARI-dynamics'...\n",
      "fatal: could not read Username for 'https://github.com': No such device or address\n",
      "'\n"
     ]
    },
    {
     "name": "stderr",
     "output_type": "stream",
     "text": [
      " 61%|██████    | 28205/46292 [18:25:27<2:23:35,  2.10it/s] "
     ]
    },
    {
     "name": "stdout",
     "output_type": "stream",
     "text": [
      "Cmd('git') failed due to: exit code(128)\n",
      "  cmdline: git clone -v https://github.com/https://bitbucket.org/constantAmateur/discfragmentation repos/https://bitbucket.org/constantAmateur/discfragmentation\n",
      "  stderr: 'Cloning into 'repos/https://bitbucket.org/constantAmateur/discfragmentation'...\n",
      "remote: Not Found\n",
      "fatal: repository 'https://github.com/https://bitbucket.org/constantAmateur/discfragmentation/' not found\n",
      "'\n"
     ]
    },
    {
     "name": "stderr",
     "output_type": "stream",
     "text": [
      "\r",
      " 61%|██████    | 28206/46292 [18:25:28<2:10:38,  2.31it/s]"
     ]
    },
    {
     "name": "stdout",
     "output_type": "stream",
     "text": [
      "Cmd('git') failed due to: exit code(128)\n",
      "  cmdline: git clone -v https://github.com/https://bitbucket.org/ohahn/music repos/https://bitbucket.org/ohahn/music\n",
      "  stderr: 'Cloning into 'repos/https://bitbucket.org/ohahn/music'...\n",
      "remote: Not Found\n",
      "fatal: repository 'https://github.com/https://bitbucket.org/ohahn/music/' not found\n",
      "'\n"
     ]
    },
    {
     "name": "stderr",
     "output_type": "stream",
     "text": [
      " 61%|██████    | 28216/46292 [18:26:28<21:45:49,  4.33s/it]"
     ]
    },
    {
     "name": "stdout",
     "output_type": "stream",
     "text": [
      "Cmd('git') failed due to: exit code(128)\n",
      "  cmdline: git clone -v https://github.com/https://bitbucket.org/aglaws/inverse-regression-for-ridge-recovery repos/https://bitbucket.org/aglaws/inverse-regression-for-ridge-recovery\n",
      "  stderr: 'Cloning into 'repos/https://bitbucket.org/aglaws/inverse-regression-for-ridge-recovery'...\n",
      "remote: Not Found\n",
      "fatal: repository 'https://github.com/https://bitbucket.org/aglaws/inverse-regression-for-ridge-recovery/' not found\n",
      "'\n"
     ]
    },
    {
     "name": "stderr",
     "output_type": "stream",
     "text": [
      " 61%|██████    | 28236/46292 [18:28:17<25:41:40,  5.12s/it] "
     ]
    },
    {
     "name": "stdout",
     "output_type": "stream",
     "text": [
      "Cmd('git') failed due to: exit code(128)\n",
      "  cmdline: git clone -v https://github.com/DanySK/Experiment-2019-LMCS-Share repos/DanySK/Experiment-2019-LMCS-Share\n",
      "  stderr: 'Cloning into 'repos/DanySK/Experiment-2019-LMCS-Share'...\n",
      "fatal: could not read Username for 'https://github.com': No such device or address\n",
      "'\n"
     ]
    },
    {
     "name": "stderr",
     "output_type": "stream",
     "text": [
      " 61%|██████    | 28293/46292 [18:29:51<9:25:04,  1.88s/it] "
     ]
    },
    {
     "name": "stdout",
     "output_type": "stream",
     "text": [
      "Cmd('git') failed due to: exit code(128)\n",
      "  cmdline: git clone -v https://github.com/https://gitlab.com/ashapeev/mlip-2-paper-supp-info repos/https://gitlab.com/ashapeev/mlip-2-paper-supp-info\n",
      "  stderr: 'Cloning into 'repos/https://gitlab.com/ashapeev/mlip-2-paper-supp-info'...\n",
      "remote: Not Found\n",
      "fatal: repository 'https://github.com/https://gitlab.com/ashapeev/mlip-2-paper-supp-info/' not found\n",
      "'\n"
     ]
    },
    {
     "name": "stderr",
     "output_type": "stream",
     "text": [
      "\r",
      " 61%|██████    | 28294/46292 [18:29:51<7:00:15,  1.40s/it]"
     ]
    },
    {
     "name": "stdout",
     "output_type": "stream",
     "text": [
      "Cmd('git') failed due to: exit code(128)\n",
      "  cmdline: git clone -v https://github.com/https://gitlab.com/mule-tools/mcmule repos/https://gitlab.com/mule-tools/mcmule\n",
      "  stderr: 'Cloning into 'repos/https://gitlab.com/mule-tools/mcmule'...\n",
      "remote: Not Found\n",
      "fatal: repository 'https://github.com/https://gitlab.com/mule-tools/mcmule/' not found\n",
      "'\n"
     ]
    },
    {
     "name": "stderr",
     "output_type": "stream",
     "text": [
      " 61%|██████    | 28296/46292 [18:29:52<4:22:46,  1.14it/s]"
     ]
    },
    {
     "name": "stdout",
     "output_type": "stream",
     "text": [
      "Cmd('git') failed due to: exit code(128)\n",
      "  cmdline: git clone -v https://github.com/https://bitbucket.org/sjain12/counting-near-cliques repos/https://bitbucket.org/sjain12/counting-near-cliques\n",
      "  stderr: 'Cloning into 'repos/https://bitbucket.org/sjain12/counting-near-cliques'...\n",
      "remote: Not Found\n",
      "fatal: repository 'https://github.com/https://bitbucket.org/sjain12/counting-near-cliques/' not found\n",
      "'\n"
     ]
    },
    {
     "name": "stderr",
     "output_type": "stream",
     "text": [
      " 61%|██████    | 28315/46292 [18:30:16<4:00:44,  1.24it/s] "
     ]
    },
    {
     "name": "stdout",
     "output_type": "stream",
     "text": [
      "Cmd('git') failed due to: exit code(128)\n",
      "  cmdline: git clone -v https://github.com/https://gitlab.com/hodge_star/catamari repos/https://gitlab.com/hodge_star/catamari\n",
      "  stderr: 'Cloning into 'repos/https://gitlab.com/hodge_star/catamari'...\n",
      "remote: Not Found\n",
      "fatal: repository 'https://github.com/https://gitlab.com/hodge_star/catamari/' not found\n",
      "'\n"
     ]
    },
    {
     "name": "stderr",
     "output_type": "stream",
     "text": [
      " 61%|██████    | 28328/46292 [18:30:32<6:38:00,  1.33s/it]"
     ]
    },
    {
     "name": "stdout",
     "output_type": "stream",
     "text": [
      "Cmd('git') failed due to: exit code(128)\n",
      "  cmdline: git clone -v https://github.com/remiroazocar/population_adjustment_simstudy_PAIC repos/remiroazocar/population_adjustment_simstudy_PAIC\n",
      "  stderr: 'Cloning into 'repos/remiroazocar/population_adjustment_simstudy_PAIC'...\n",
      "fatal: could not read Username for 'https://github.com': No such device or address\n",
      "'\n"
     ]
    },
    {
     "name": "stderr",
     "output_type": "stream",
     "text": [
      " 61%|██████    | 28335/46292 [18:30:39<5:56:04,  1.19s/it]"
     ]
    },
    {
     "name": "stdout",
     "output_type": "stream",
     "text": [
      "Cmd('git') failed due to: exit code(128)\n",
      "  cmdline: git clone -v https://github.com/https://bitbucket.org/prabal_banerjee/audit repos/https://bitbucket.org/prabal_banerjee/audit\n",
      "  stderr: 'Cloning into 'repos/https://bitbucket.org/prabal_banerjee/audit'...\n",
      "remote: Not Found\n",
      "fatal: repository 'https://github.com/https://bitbucket.org/prabal_banerjee/audit/' not found\n",
      "'\n"
     ]
    },
    {
     "name": "stderr",
     "output_type": "stream",
     "text": [
      " 61%|██████▏   | 28371/46292 [18:32:12<3:26:51,  1.44it/s] "
     ]
    },
    {
     "name": "stdout",
     "output_type": "stream",
     "text": [
      "Cmd('git') failed due to: exit code(128)\n",
      "  cmdline: git clone -v https://github.com/Qiskit/qiskit-terra/tree/master/qiskit/transpiler/passes/optimization repos/Qiskit/qiskit-terra/tree/master/qiskit/transpiler/passes/optimization\n",
      "  stderr: 'Cloning into 'repos/Qiskit/qiskit-terra/tree/master/qiskit/transpiler/passes/optimization'...\n",
      "remote: Please upgrade your git client.\n",
      "remote: GitHub.com no longer supports git over dumb-http: https://github.com/blog/809-git-dumb-http-transport-to-be-turned-off-in-90-days\n",
      "fatal: unable to access 'https://github.com/Qiskit/qiskit-terra/tree/master/qiskit/transpiler/passes/optimization/': The requested URL returned error: 403\n",
      "'\n"
     ]
    },
    {
     "name": "stderr",
     "output_type": "stream",
     "text": [
      " 61%|██████▏   | 28380/46292 [18:32:20<2:57:23,  1.68it/s]"
     ]
    },
    {
     "name": "stdout",
     "output_type": "stream",
     "text": [
      "Cmd('git') failed due to: exit code(128)\n",
      "  cmdline: git clone -v https://github.com/https://gitlab.science.ru.nl/gbucur/caushapley repos/https://gitlab.science.ru.nl/gbucur/caushapley\n",
      "  stderr: 'Cloning into 'repos/https://gitlab.science.ru.nl/gbucur/caushapley'...\n",
      "remote: Not Found\n",
      "fatal: repository 'https://github.com/https://gitlab.science.ru.nl/gbucur/caushapley/' not found\n",
      "'\n"
     ]
    },
    {
     "name": "stderr",
     "output_type": "stream",
     "text": [
      " 61%|██████▏   | 28391/46292 [18:33:00<7:40:30,  1.54s/it] "
     ]
    },
    {
     "name": "stdout",
     "output_type": "stream",
     "text": [
      "Cmd('git') failed due to: exit code(128)\n",
      "  cmdline: git clone -v https://github.com/https://gitlab.com/wilkensJ/blind-quantum-tomography repos/https://gitlab.com/wilkensJ/blind-quantum-tomography\n",
      "  stderr: 'Cloning into 'repos/https://gitlab.com/wilkensJ/blind-quantum-tomography'...\n",
      "remote: Not Found\n",
      "fatal: repository 'https://github.com/https://gitlab.com/wilkensJ/blind-quantum-tomography/' not found\n",
      "'\n"
     ]
    },
    {
     "name": "stderr",
     "output_type": "stream",
     "text": [
      " 61%|██████▏   | 28402/46292 [18:33:36<9:11:02,  1.85s/it] "
     ]
    },
    {
     "name": "stdout",
     "output_type": "stream",
     "text": [
      "Cmd('git') failed due to: exit code(128)\n",
      "  cmdline: git clone -v https://github.com/https://bitbucket.org/charms/blockpr repos/https://bitbucket.org/charms/blockpr\n",
      "  stderr: 'Cloning into 'repos/https://bitbucket.org/charms/blockpr'...\n",
      "remote: Not Found\n",
      "fatal: repository 'https://github.com/https://bitbucket.org/charms/blockpr/' not found\n",
      "'\n"
     ]
    },
    {
     "name": "stderr",
     "output_type": "stream",
     "text": [
      " 61%|██████▏   | 28417/46292 [18:34:14<5:07:40,  1.03s/it] "
     ]
    },
    {
     "name": "stdout",
     "output_type": "stream",
     "text": [
      "Cmd('git') failed due to: exit code(128)\n",
      "  cmdline: git clone -v https://github.com/bodensjc/LHCb repos/bodensjc/LHCb\n",
      "  stderr: 'Cloning into 'repos/bodensjc/LHCb'...\n",
      "fatal: could not read Username for 'https://github.com': No such device or address\n",
      "'\n"
     ]
    },
    {
     "name": "stderr",
     "output_type": "stream",
     "text": [
      " 61%|██████▏   | 28447/46292 [18:40:06<124:20:12, 25.08s/it]"
     ]
    },
    {
     "name": "stdout",
     "output_type": "stream",
     "text": [
      "Cmd('git') failed due to: exit code(128)\n",
      "  cmdline: git clone -v https://github.com/https://gitee.com/ZCHuang1126/spinfoam-propagator.git repos/https://gitee.com/ZCHuang1126/spinfoam-propagator.git\n",
      "  stderr: 'Cloning into 'repos/https://gitee.com/ZCHuang1126/spinfoam-propagator.git'...\n",
      "remote: Not Found\n",
      "fatal: repository 'https://github.com/https://gitee.com/ZCHuang1126/spinfoam-propagator.git/' not found\n",
      "'\n"
     ]
    },
    {
     "name": "stderr",
     "output_type": "stream",
     "text": [
      " 62%|██████▏   | 28489/46292 [18:41:53<20:03:30,  4.06s/it] "
     ]
    },
    {
     "name": "stdout",
     "output_type": "stream",
     "text": [
      "Cmd('git') failed due to: exit code(128)\n",
      "  cmdline: git clone -v https://github.com/DiffEqML/diffeqml-research/tree/master/dissecting-neural-odes repos/DiffEqML/diffeqml-research/tree/master/dissecting-neural-odes\n",
      "  stderr: 'Cloning into 'repos/DiffEqML/diffeqml-research/tree/master/dissecting-neural-odes'...\n",
      "fatal: repository 'https://github.com/DiffEqML/diffeqml-research/tree/master/dissecting-neural-odes/' not found\n",
      "'\n"
     ]
    },
    {
     "name": "stderr",
     "output_type": "stream",
     "text": [
      " 62%|██████▏   | 28500/46292 [18:42:08<5:33:52,  1.13s/it] "
     ]
    },
    {
     "name": "stdout",
     "output_type": "stream",
     "text": [
      "Cmd('git') failed due to: exit code(128)\n",
      "  cmdline: git clone -v https://github.com/pbizopoulos/deep-learning-in-cardiology repos/pbizopoulos/deep-learning-in-cardiology\n",
      "  stderr: 'Cloning into 'repos/pbizopoulos/deep-learning-in-cardiology'...\n",
      "fatal: could not read Username for 'https://github.com': No such device or address\n",
      "'\n"
     ]
    },
    {
     "name": "stderr",
     "output_type": "stream",
     "text": [
      " 62%|██████▏   | 28513/46292 [18:42:23<4:30:22,  1.10it/s] "
     ]
    },
    {
     "name": "stdout",
     "output_type": "stream",
     "text": [
      "Cmd('git') failed due to: exit code(128)\n",
      "  cmdline: git clone -v https://github.com/ViswanathaReddyGajjala/mediapipe_pytorch/tree/main/iris repos/ViswanathaReddyGajjala/mediapipe_pytorch/tree/main/iris\n",
      "  stderr: 'Cloning into 'repos/ViswanathaReddyGajjala/mediapipe_pytorch/tree/main/iris'...\n",
      "fatal: repository 'https://github.com/ViswanathaReddyGajjala/mediapipe_pytorch/tree/main/iris/' not found\n",
      "'\n"
     ]
    },
    {
     "name": "stderr",
     "output_type": "stream",
     "text": [
      " 62%|██████▏   | 28571/46292 [18:44:20<9:19:45,  1.90s/it] "
     ]
    },
    {
     "name": "stdout",
     "output_type": "stream",
     "text": [
      "Cmd('git') failed due to: exit code(128)\n",
      "  cmdline: git clone -v https://github.com/nemozen/math/blob/master/envelope_paradox.ipynb repos/nemozen/math/blob/master/envelope_paradox.ipynb\n",
      "  stderr: 'Cloning into 'repos/nemozen/math/blob/master/envelope_paradox.ipynb'...\n",
      "fatal: repository 'https://github.com/nemozen/math/blob/master/envelope_paradox.ipynb/' not found\n",
      "'\n"
     ]
    },
    {
     "name": "stderr",
     "output_type": "stream",
     "text": [
      " 62%|██████▏   | 28584/46292 [18:44:42<6:53:16,  1.40s/it] "
     ]
    },
    {
     "name": "stdout",
     "output_type": "stream",
     "text": [
      "Cmd('git') failed due to: exit code(128)\n",
      "  cmdline: git clone -v https://github.com/EugenHotaj/pytorch-generative/blob/master/pytorch_generative/models/beta_vae.py repos/EugenHotaj/pytorch-generative/blob/master/pytorch_generative/models/beta_vae.py\n",
      "  stderr: 'Cloning into 'repos/EugenHotaj/pytorch-generative/blob/master/pytorch_generative/models/beta_vae.py'...\n",
      "fatal: repository 'https://github.com/EugenHotaj/pytorch-generative/blob/master/pytorch_generative/models/beta_vae.py/' not found\n",
      "'\n"
     ]
    },
    {
     "name": "stderr",
     "output_type": "stream",
     "text": [
      " 62%|██████▏   | 28632/46292 [18:46:02<15:03:44,  3.07s/it]"
     ]
    },
    {
     "name": "stdout",
     "output_type": "stream",
     "text": [
      "Cmd('git') failed due to: exit code(128)\n",
      "  cmdline: git clone -v https://github.com/chiayuhsu/multisourceOD repos/chiayuhsu/multisourceOD\n",
      "  stderr: 'Cloning into 'repos/chiayuhsu/multisourceOD'...\n",
      "fatal: could not read Username for 'https://github.com': No such device or address\n",
      "'\n"
     ]
    },
    {
     "name": "stderr",
     "output_type": "stream",
     "text": [
      " 62%|██████▏   | 28724/46292 [18:50:16<6:26:32,  1.32s/it]  "
     ]
    },
    {
     "name": "stdout",
     "output_type": "stream",
     "text": [
      "Cmd('git') failed due to: exit code(128)\n",
      "  cmdline: git clone -v https://github.com/VideoUpScaler/Video_Up_Scalers repos/VideoUpScaler/Video_Up_Scalers\n",
      "  stderr: 'Cloning into 'repos/VideoUpScaler/Video_Up_Scalers'...\n",
      "fatal: could not read Username for 'https://github.com': No such device or address\n",
      "'\n"
     ]
    },
    {
     "name": "stderr",
     "output_type": "stream",
     "text": [
      " 62%|██████▏   | 28743/46292 [18:50:48<8:01:57,  1.65s/it] "
     ]
    },
    {
     "name": "stdout",
     "output_type": "stream",
     "text": [
      "Cmd('git') failed due to: exit code(128)\n",
      "  cmdline: git clone -v https://github.com/bychen515/ACT repos/bychen515/ACT\n",
      "  stderr: 'Cloning into 'repos/bychen515/ACT'...\n",
      "fatal: could not read Username for 'https://github.com': No such device or address\n",
      "'\n"
     ]
    },
    {
     "name": "stderr",
     "output_type": "stream",
     "text": [
      " 62%|██████▏   | 28867/46292 [18:55:21<6:34:08,  1.36s/it] "
     ]
    },
    {
     "name": "stdout",
     "output_type": "stream",
     "text": [
      "Cmd('git') failed due to: exit code(128)\n",
      "  cmdline: git clone -v https://github.com/tensorflow/models/tree/master/research/textsum repos/tensorflow/models/tree/master/research/textsum\n",
      "  stderr: 'Cloning into 'repos/tensorflow/models/tree/master/research/textsum'...\n",
      "fatal: repository 'https://github.com/tensorflow/models/tree/master/research/textsum/' not found\n",
      "'\n"
     ]
    },
    {
     "name": "stderr",
     "output_type": "stream",
     "text": [
      " 63%|██████▎   | 29045/46292 [19:03:21<14:56:56,  3.12s/it] "
     ]
    },
    {
     "name": "stdout",
     "output_type": "stream",
     "text": [
      "Cmd('git') failed due to: exit code(128)\n",
      "  cmdline: git clone -v https://github.com/tensorflow/tpu/tree/master/models/official/efficientnet/condconv repos/tensorflow/tpu/tree/master/models/official/efficientnet/condconv\n",
      "  stderr: 'Cloning into 'repos/tensorflow/tpu/tree/master/models/official/efficientnet/condconv'...\n",
      "fatal: repository 'https://github.com/tensorflow/tpu/tree/master/models/official/efficientnet/condconv/' not found\n",
      "'\n"
     ]
    },
    {
     "name": "stderr",
     "output_type": "stream",
     "text": [
      " 63%|██████▎   | 29146/46292 [19:06:26<4:36:39,  1.03it/s] "
     ]
    },
    {
     "name": "stdout",
     "output_type": "stream",
     "text": [
      "Cmd('git') failed due to: exit code(128)\n",
      "  cmdline: git clone -v https://github.com/kaung-htet-myat/Multi-teachers-Knowledge-Distillation repos/kaung-htet-myat/Multi-teachers-Knowledge-Distillation\n",
      "  stderr: 'Cloning into 'repos/kaung-htet-myat/Multi-teachers-Knowledge-Distillation'...\n",
      "fatal: could not read Username for 'https://github.com': No such device or address\n",
      "'\n"
     ]
    },
    {
     "name": "stderr",
     "output_type": "stream",
     "text": [
      " 63%|██████▎   | 29339/46292 [19:14:06<4:31:47,  1.04it/s] "
     ]
    },
    {
     "name": "stdout",
     "output_type": "stream",
     "text": [
      "Cmd('git') failed due to: exit code(128)\n",
      "  cmdline: git clone -v https://github.com/https://gitlab.com/iliarasskazov/stratify repos/https://gitlab.com/iliarasskazov/stratify\n",
      "  stderr: 'Cloning into 'repos/https://gitlab.com/iliarasskazov/stratify'...\n",
      "remote: Not Found\n",
      "fatal: repository 'https://github.com/https://gitlab.com/iliarasskazov/stratify/' not found\n",
      "'\n"
     ]
    },
    {
     "name": "stderr",
     "output_type": "stream",
     "text": [
      " 64%|██████▎   | 29444/46292 [19:16:41<4:09:52,  1.12it/s] "
     ]
    },
    {
     "name": "stdout",
     "output_type": "stream",
     "text": [
      "Cmd('git') failed due to: exit code(128)\n",
      "  cmdline: git clone -v https://github.com/felipeoyarce/layerwise-learning/blob/master/layerwise_learning/Layerwise%20learning%20-%20Image%20Classification.ipynb repos/felipeoyarce/layerwise-learning/blob/master/layerwise_learning/Layerwise%20learning%20-%20Image%20Classification.ipynb\n",
      "  stderr: 'Cloning into 'repos/felipeoyarce/layerwise-learning/blob/master/layerwise_learning/Layerwise%20learning%20-%20Image%20Classification.ipynb'...\n",
      "fatal: repository 'https://github.com/felipeoyarce/layerwise-learning/blob/master/layerwise_learning/Layerwise%20learning%20-%20Image%20Classification.ipynb/' not found\n",
      "'\n"
     ]
    },
    {
     "name": "stderr",
     "output_type": "stream",
     "text": [
      " 64%|██████▍   | 29607/46292 [19:21:42<6:41:04,  1.44s/it] "
     ]
    },
    {
     "name": "stdout",
     "output_type": "stream",
     "text": [
      "Cmd('git') failed due to: exit code(128)\n",
      "  cmdline: git clone -v https://github.com/YinlinHu/ATSS_clean repos/YinlinHu/ATSS_clean\n",
      "  stderr: 'Cloning into 'repos/YinlinHu/ATSS_clean'...\n",
      "fatal: could not read Username for 'https://github.com': No such device or address\n",
      "'\n"
     ]
    },
    {
     "name": "stderr",
     "output_type": "stream",
     "text": [
      " 64%|██████▍   | 29689/46292 [19:25:28<1:41:29,  2.73it/s]  "
     ]
    },
    {
     "name": "stdout",
     "output_type": "stream",
     "text": [
      "Cmd('git') failed due to: exit code(128)\n",
      "  cmdline: git clone -v https://github.com/prakashsellathurai/Neural_gpu_algorithm_learner repos/prakashsellathurai/Neural_gpu_algorithm_learner\n",
      "  stderr: 'Cloning into 'repos/prakashsellathurai/Neural_gpu_algorithm_learner'...\n",
      "fatal: could not read Username for 'https://github.com': No such device or address\n",
      "'\n"
     ]
    },
    {
     "name": "stderr",
     "output_type": "stream",
     "text": [
      " 64%|██████▍   | 29744/46292 [19:27:05<3:16:45,  1.40it/s] "
     ]
    },
    {
     "name": "stdout",
     "output_type": "stream",
     "text": [
      "Cmd('git') failed due to: exit code(128)\n",
      "  cmdline: git clone -v https://github.com/https://worksheets.codalab.org/worksheets/0xabfe206d857d40a5baf2a19ece5f2659 repos/https://worksheets.codalab.org/worksheets/0xabfe206d857d40a5baf2a19ece5f2659\n",
      "  stderr: 'Cloning into 'repos/https://worksheets.codalab.org/worksheets/0xabfe206d857d40a5baf2a19ece5f2659'...\n",
      "remote: Not Found\n",
      "fatal: repository 'https://github.com/https://worksheets.codalab.org/worksheets/0xabfe206d857d40a5baf2a19ece5f2659/' not found\n",
      "'\n"
     ]
    },
    {
     "name": "stderr",
     "output_type": "stream",
     "text": [
      " 64%|██████▍   | 29750/46292 [19:27:10<3:04:26,  1.49it/s]"
     ]
    },
    {
     "name": "stdout",
     "output_type": "stream",
     "text": [
      "Cmd('git') failed due to: exit code(128)\n",
      "  cmdline: git clone -v https://github.com/https://worksheets.codalab.org/worksheets/0x106abb3b47be492aa7387f528c943faa repos/https://worksheets.codalab.org/worksheets/0x106abb3b47be492aa7387f528c943faa\n",
      "  stderr: 'Cloning into 'repos/https://worksheets.codalab.org/worksheets/0x106abb3b47be492aa7387f528c943faa'...\n",
      "remote: Not Found\n",
      "fatal: repository 'https://github.com/https://worksheets.codalab.org/worksheets/0x106abb3b47be492aa7387f528c943faa/' not found\n",
      "'\n"
     ]
    },
    {
     "name": "stderr",
     "output_type": "stream",
     "text": [
      "\r",
      " 64%|██████▍   | 29751/46292 [19:27:10<2:43:22,  1.69it/s]"
     ]
    },
    {
     "name": "stdout",
     "output_type": "stream",
     "text": [
      "Cmd('git') failed due to: exit code(128)\n",
      "  cmdline: git clone -v https://github.com/https://worksheets.codalab.org/worksheets/0xd8ae7710960549868c4665d197ecc583 repos/https://worksheets.codalab.org/worksheets/0xd8ae7710960549868c4665d197ecc583\n",
      "  stderr: 'Cloning into 'repos/https://worksheets.codalab.org/worksheets/0xd8ae7710960549868c4665d197ecc583'...\n",
      "remote: Not Found\n",
      "fatal: repository 'https://github.com/https://worksheets.codalab.org/worksheets/0xd8ae7710960549868c4665d197ecc583/' not found\n",
      "'\n"
     ]
    },
    {
     "name": "stderr",
     "output_type": "stream",
     "text": [
      "\r",
      " 64%|██████▍   | 29752/46292 [19:27:10<2:24:11,  1.91it/s]"
     ]
    },
    {
     "name": "stdout",
     "output_type": "stream",
     "text": [
      "Cmd('git') failed due to: exit code(128)\n",
      "  cmdline: git clone -v https://github.com/https://worksheets.codalab.org/worksheets/0x6a264a96efea41158847eef9ec2f76bc repos/https://worksheets.codalab.org/worksheets/0x6a264a96efea41158847eef9ec2f76bc\n",
      "  stderr: 'Cloning into 'repos/https://worksheets.codalab.org/worksheets/0x6a264a96efea41158847eef9ec2f76bc'...\n",
      "remote: Not Found\n",
      "fatal: repository 'https://github.com/https://worksheets.codalab.org/worksheets/0x6a264a96efea41158847eef9ec2f76bc/' not found\n",
      "'\n"
     ]
    },
    {
     "name": "stderr",
     "output_type": "stream",
     "text": [
      " 64%|██████▍   | 29767/46292 [19:27:26<3:12:09,  1.43it/s]"
     ]
    },
    {
     "name": "stdout",
     "output_type": "stream",
     "text": [
      "Cmd('git') failed due to: exit code(128)\n",
      "  cmdline: git clone -v https://github.com/https://worksheets.codalab.org/worksheets/0xfafccca55b584e6eb1cf71979ad8e778 repos/https://worksheets.codalab.org/worksheets/0xfafccca55b584e6eb1cf71979ad8e778\n",
      "  stderr: 'Cloning into 'repos/https://worksheets.codalab.org/worksheets/0xfafccca55b584e6eb1cf71979ad8e778'...\n",
      "remote: Not Found\n",
      "fatal: repository 'https://github.com/https://worksheets.codalab.org/worksheets/0xfafccca55b584e6eb1cf71979ad8e778/' not found\n",
      "'\n"
     ]
    },
    {
     "name": "stderr",
     "output_type": "stream",
     "text": [
      " 64%|██████▍   | 29772/46292 [19:27:28<2:17:51,  2.00it/s]"
     ]
    },
    {
     "name": "stdout",
     "output_type": "stream",
     "text": [
      "Cmd('git') failed due to: exit code(128)\n",
      "  cmdline: git clone -v https://github.com/https://worksheets.codalab.org/worksheets/0xbcd424d2bf544c4786efcc0063759b1a repos/https://worksheets.codalab.org/worksheets/0xbcd424d2bf544c4786efcc0063759b1a\n",
      "  stderr: 'Cloning into 'repos/https://worksheets.codalab.org/worksheets/0xbcd424d2bf544c4786efcc0063759b1a'...\n",
      "remote: Not Found\n",
      "fatal: repository 'https://github.com/https://worksheets.codalab.org/worksheets/0xbcd424d2bf544c4786efcc0063759b1a/' not found\n",
      "'\n"
     ]
    },
    {
     "name": "stderr",
     "output_type": "stream",
     "text": [
      " 64%|██████▍   | 29782/46292 [19:27:55<14:09:54,  3.09s/it]"
     ]
    },
    {
     "name": "stdout",
     "output_type": "stream",
     "text": [
      "Cmd('git') failed due to: exit code(128)\n",
      "  cmdline: git clone -v https://github.com/https://worksheets.codalab.org/worksheets/0xf8122ebd24e94209a2a1764007509098 repos/https://worksheets.codalab.org/worksheets/0xf8122ebd24e94209a2a1764007509098\n",
      "  stderr: 'Cloning into 'repos/https://worksheets.codalab.org/worksheets/0xf8122ebd24e94209a2a1764007509098'...\n",
      "remote: Not Found\n",
      "fatal: repository 'https://github.com/https://worksheets.codalab.org/worksheets/0xf8122ebd24e94209a2a1764007509098/' not found\n",
      "'\n"
     ]
    },
    {
     "name": "stderr",
     "output_type": "stream",
     "text": [
      " 65%|██████▍   | 29940/46292 [19:33:14<10:41:45,  2.35s/it]"
     ]
    },
    {
     "name": "stdout",
     "output_type": "stream",
     "text": [
      "Cmd('git') failed due to: exit code(128)\n",
      "  cmdline: git clone -v https://github.com/XiangdongZ/MSRN-A repos/XiangdongZ/MSRN-A\n",
      "  stderr: 'Cloning into 'repos/XiangdongZ/MSRN-A'...\n",
      "fatal: could not read Username for 'https://github.com': No such device or address\n",
      "'\n"
     ]
    },
    {
     "name": "stderr",
     "output_type": "stream",
     "text": [
      " 65%|██████▍   | 29943/46292 [19:33:17<6:57:39,  1.53s/it] "
     ]
    },
    {
     "name": "stdout",
     "output_type": "stream",
     "text": [
      "Cmd('git') failed due to: exit code(128)\n",
      "  cmdline: git clone -v https://github.com/ZhuoLiupku/Stock-Prediction repos/ZhuoLiupku/Stock-Prediction\n",
      "  stderr: 'Cloning into 'repos/ZhuoLiupku/Stock-Prediction'...\n",
      "fatal: could not read Username for 'https://github.com': No such device or address\n",
      "'\n"
     ]
    },
    {
     "name": "stderr",
     "output_type": "stream",
     "text": [
      " 65%|██████▌   | 30108/46292 [19:37:41<3:47:13,  1.19it/s] "
     ]
    },
    {
     "name": "stdout",
     "output_type": "stream",
     "text": [
      "Cmd('git') failed due to: exit code(128)\n",
      "  cmdline: git clone -v https://github.com/facebookresearch/ParlAI/tree/master/projects/wizard_of_wikipedia repos/facebookresearch/ParlAI/tree/master/projects/wizard_of_wikipedia\n",
      "  stderr: 'Cloning into 'repos/facebookresearch/ParlAI/tree/master/projects/wizard_of_wikipedia'...\n",
      "remote: Please upgrade your git client.\n",
      "remote: GitHub.com no longer supports git over dumb-http: https://github.com/blog/809-git-dumb-http-transport-to-be-turned-off-in-90-days\n",
      "fatal: unable to access 'https://github.com/facebookresearch/ParlAI/tree/master/projects/wizard_of_wikipedia/': The requested URL returned error: 403\n",
      "'\n"
     ]
    },
    {
     "name": "stderr",
     "output_type": "stream",
     "text": [
      " 65%|██████▌   | 30204/46292 [19:40:47<19:24:03,  4.34s/it]"
     ]
    },
    {
     "name": "stdout",
     "output_type": "stream",
     "text": [
      "Cmd('git') failed due to: exit code(128)\n",
      "  cmdline: git clone -v https://github.com/seanie12/CPTG repos/seanie12/CPTG\n",
      "  stderr: 'Cloning into 'repos/seanie12/CPTG'...\n",
      "fatal: could not read Username for 'https://github.com': No such device or address\n",
      "'\n"
     ]
    },
    {
     "name": "stderr",
     "output_type": "stream",
     "text": [
      " 65%|██████▌   | 30229/46292 [19:41:10<2:15:18,  1.98it/s] "
     ]
    },
    {
     "name": "stdout",
     "output_type": "stream",
     "text": [
      "Cmd('git') failed due to: exit code(128)\n",
      "  cmdline: git clone -v https://github.com/r294306/Matchmaker repos/r294306/Matchmaker\n",
      "  stderr: 'Cloning into 'repos/r294306/Matchmaker'...\n",
      "fatal: could not read Username for 'https://github.com': No such device or address\n",
      "'\n"
     ]
    },
    {
     "name": "stderr",
     "output_type": "stream",
     "text": [
      " 66%|██████▌   | 30344/46292 [19:45:10<7:26:59,  1.68s/it] "
     ]
    },
    {
     "name": "stdout",
     "output_type": "stream",
     "text": [
      "Cmd('git') failed due to: exit code(128)\n",
      "  cmdline: git clone -v https://github.com/emanueleparisi/tutorial_Optuna repos/emanueleparisi/tutorial_Optuna\n",
      "  stderr: 'Cloning into 'repos/emanueleparisi/tutorial_Optuna'...\n",
      "fatal: could not read Username for 'https://github.com': No such device or address\n",
      "'\n"
     ]
    },
    {
     "name": "stderr",
     "output_type": "stream",
     "text": [
      " 66%|██████▌   | 30426/46292 [19:49:06<12:26:23,  2.82s/it]"
     ]
    },
    {
     "name": "stdout",
     "output_type": "stream",
     "text": [
      "Cmd('git') failed due to: exit code(128)\n",
      "  cmdline: git clone -v https://github.com/google-research/google-research/tree/master/depth_from_video_in_the_wild repos/google-research/google-research/tree/master/depth_from_video_in_the_wild\n",
      "  stderr: 'Cloning into 'repos/google-research/google-research/tree/master/depth_from_video_in_the_wild'...\n",
      "fatal: repository 'https://github.com/google-research/google-research/tree/master/depth_from_video_in_the_wild/' not found\n",
      "'\n"
     ]
    },
    {
     "name": "stderr",
     "output_type": "stream",
     "text": [
      " 66%|██████▌   | 30478/46292 [19:50:24<3:33:34,  1.23it/s] "
     ]
    },
    {
     "name": "stdout",
     "output_type": "stream",
     "text": [
      "Cmd('git') failed due to: exit code(128)\n",
      "  cmdline: git clone -v https://github.com/arpit2412/Generative-Adversarial-Network-/tree/master/DCGAN repos/arpit2412/Generative-Adversarial-Network-/tree/master/DCGAN\n",
      "  stderr: 'Cloning into 'repos/arpit2412/Generative-Adversarial-Network-/tree/master/DCGAN'...\n",
      "fatal: repository 'https://github.com/arpit2412/Generative-Adversarial-Network-/tree/master/DCGAN/' not found\n",
      "'\n"
     ]
    },
    {
     "name": "stderr",
     "output_type": "stream",
     "text": [
      " 66%|██████▌   | 30630/46292 [19:54:55<4:15:09,  1.02it/s] "
     ]
    },
    {
     "name": "stdout",
     "output_type": "stream",
     "text": [
      "Cmd('git') failed due to: exit code(128)\n",
      "  cmdline: git clone -v https://github.com/google-research/google-research/tree/master/depth_from_video_in_the_wild repos/google-research/google-research/tree/master/depth_from_video_in_the_wild\n",
      "  stderr: 'Cloning into 'repos/google-research/google-research/tree/master/depth_from_video_in_the_wild'...\n",
      "fatal: repository 'https://github.com/google-research/google-research/tree/master/depth_from_video_in_the_wild/' not found\n",
      "'\n"
     ]
    },
    {
     "name": "stderr",
     "output_type": "stream",
     "text": [
      " 66%|██████▋   | 30702/46292 [19:56:32<7:12:01,  1.66s/it] "
     ]
    },
    {
     "name": "stdout",
     "output_type": "stream",
     "text": [
      "Cmd('git') failed due to: exit code(128)\n",
      "  cmdline: git clone -v https://github.com/rohanchandra30/Spectral-Trajectory-Prediction repos/rohanchandra30/Spectral-Trajectory-Prediction\n",
      "  stderr: 'Cloning into 'repos/rohanchandra30/Spectral-Trajectory-Prediction'...\n",
      "fatal: could not read Username for 'https://github.com': No such device or address\n",
      "'\n"
     ]
    },
    {
     "name": "stderr",
     "output_type": "stream",
     "text": [
      " 66%|██████▋   | 30705/46292 [19:56:40<9:11:21,  2.12s/it] "
     ]
    },
    {
     "name": "stdout",
     "output_type": "stream",
     "text": [
      "Cmd('git') failed due to: exit code(128)\n",
      "  cmdline: git clone -v https://github.com/rohanchandra30/Spectral-Trajectory-Prediction repos/rohanchandra30/Spectral-Trajectory-Prediction\n",
      "  stderr: 'Cloning into 'repos/rohanchandra30/Spectral-Trajectory-Prediction'...\n",
      "fatal: could not read Username for 'https://github.com': No such device or address\n",
      "'\n"
     ]
    },
    {
     "name": "stderr",
     "output_type": "stream",
     "text": [
      " 66%|██████▋   | 30742/46292 [19:57:40<4:47:00,  1.11s/it] "
     ]
    },
    {
     "name": "stdout",
     "output_type": "stream",
     "text": [
      "Cmd('git') failed due to: exit code(128)\n",
      "  cmdline: git clone -v https://github.com/google-research/google-research/tree/master/mutual_information_representation_learning repos/google-research/google-research/tree/master/mutual_information_representation_learning\n",
      "  stderr: 'Cloning into 'repos/google-research/google-research/tree/master/mutual_information_representation_learning'...\n",
      "fatal: repository 'https://github.com/google-research/google-research/tree/master/mutual_information_representation_learning/' not found\n",
      "'\n"
     ]
    },
    {
     "name": "stderr",
     "output_type": "stream",
     "text": [
      " 66%|██████▋   | 30768/46292 [19:58:18<4:37:14,  1.07s/it]"
     ]
    },
    {
     "name": "stdout",
     "output_type": "stream",
     "text": [
      "Cmd('git') failed due to: exit code(128)\n",
      "  cmdline: git clone -v https://github.com/numahha/five_research repos/numahha/five_research\n",
      "  stderr: 'Cloning into 'repos/numahha/five_research'...\n",
      "fatal: could not read Username for 'https://github.com': No such device or address\n",
      "'\n"
     ]
    },
    {
     "name": "stderr",
     "output_type": "stream",
     "text": [
      " 67%|██████▋   | 30804/46292 [19:58:48<5:23:48,  1.25s/it] "
     ]
    },
    {
     "name": "stdout",
     "output_type": "stream",
     "text": [
      "Cmd('git') failed due to: exit code(128)\n",
      "  cmdline: git clone -v https://github.com/davidnabergoj/WHVI repos/davidnabergoj/WHVI\n",
      "  stderr: 'Cloning into 'repos/davidnabergoj/WHVI'...\n",
      "fatal: could not read Username for 'https://github.com': No such device or address\n",
      "'\n"
     ]
    },
    {
     "name": "stderr",
     "output_type": "stream",
     "text": [
      " 67%|██████▋   | 30859/46292 [20:03:03<14:36:02,  3.41s/it]"
     ]
    },
    {
     "name": "stdout",
     "output_type": "stream",
     "text": [
      "Cmd('git') failed due to: exit code(128)\n",
      "  cmdline: git clone -v https://github.com/rohanchandra30/Spectral-Trajectory-Prediction repos/rohanchandra30/Spectral-Trajectory-Prediction\n",
      "  stderr: 'Cloning into 'repos/rohanchandra30/Spectral-Trajectory-Prediction'...\n",
      "fatal: could not read Username for 'https://github.com': No such device or address\n",
      "'\n"
     ]
    },
    {
     "name": "stderr",
     "output_type": "stream",
     "text": [
      " 67%|██████▋   | 30866/46292 [20:03:08<3:41:30,  1.16it/s] "
     ]
    },
    {
     "name": "stdout",
     "output_type": "stream",
     "text": [
      "Cmd('git') failed due to: exit code(128)\n",
      "  cmdline: git clone -v https://github.com/JeffreyJackovich/bitcoin-prediction-with-sentiment repos/JeffreyJackovich/bitcoin-prediction-with-sentiment\n",
      "  stderr: 'Cloning into 'repos/JeffreyJackovich/bitcoin-prediction-with-sentiment'...\n",
      "fatal: could not read Username for 'https://github.com': No such device or address\n",
      "'\n"
     ]
    },
    {
     "name": "stderr",
     "output_type": "stream",
     "text": [
      " 67%|██████▋   | 30954/46292 [20:05:07<3:33:57,  1.19it/s] "
     ]
    },
    {
     "name": "stdout",
     "output_type": "stream",
     "text": [
      "Cmd('git') failed due to: exit code(128)\n",
      "  cmdline: git clone -v https://github.com/tensorflow/models/tree/master/official/vision/beta/modeling/backbones repos/tensorflow/models/tree/master/official/vision/beta/modeling/backbones\n",
      "  stderr: 'Cloning into 'repos/tensorflow/models/tree/master/official/vision/beta/modeling/backbones'...\n",
      "fatal: repository 'https://github.com/tensorflow/models/tree/master/official/vision/beta/modeling/backbones/' not found\n",
      "'\n"
     ]
    },
    {
     "name": "stderr",
     "output_type": "stream",
     "text": [
      " 67%|██████▋   | 31138/46292 [20:12:20<3:59:31,  1.05it/s] "
     ]
    },
    {
     "name": "stdout",
     "output_type": "stream",
     "text": [
      "Cmd('git') failed due to: exit code(128)\n",
      "  cmdline: git clone -v https://github.com/NFSCH4/Hierarchical-Neural-Autoencoder repos/NFSCH4/Hierarchical-Neural-Autoencoder\n",
      "  stderr: 'Cloning into 'repos/NFSCH4/Hierarchical-Neural-Autoencoder'...\n",
      "fatal: could not read Username for 'https://github.com': No such device or address\n",
      "'\n"
     ]
    },
    {
     "name": "stderr",
     "output_type": "stream",
     "text": [
      "\r",
      " 67%|██████▋   | 31140/46292 [20:12:20<2:38:17,  1.60it/s]"
     ]
    },
    {
     "name": "stdout",
     "output_type": "stream",
     "text": [
      "Cmd('git') failed due to: exit code(128)\n",
      "  cmdline: git clone -v https://github.com/numahha/five_research repos/numahha/five_research\n",
      "  stderr: 'Cloning into 'repos/numahha/five_research'...\n",
      "fatal: could not read Username for 'https://github.com': No such device or address\n",
      "'\n"
     ]
    },
    {
     "name": "stderr",
     "output_type": "stream",
     "text": [
      " 67%|██████▋   | 31203/46292 [20:14:33<4:52:08,  1.16s/it] "
     ]
    },
    {
     "name": "stdout",
     "output_type": "stream",
     "text": [
      "Cmd('git') failed due to: exit code(128)\n",
      "  cmdline: git clone -v https://github.com/Yu-WANG-707/Data_Science repos/Yu-WANG-707/Data_Science\n",
      "  stderr: 'Cloning into 'repos/Yu-WANG-707/Data_Science'...\n",
      "fatal: could not read Username for 'https://github.com': No such device or address\n",
      "'\n"
     ]
    },
    {
     "name": "stderr",
     "output_type": "stream",
     "text": [
      " 67%|██████▋   | 31241/46292 [20:15:41<7:06:18,  1.70s/it] "
     ]
    },
    {
     "name": "stdout",
     "output_type": "stream",
     "text": [
      "Cmd('git') failed due to: exit code(128)\n",
      "  cmdline: git clone -v https://github.com/ray-project/ray/tree/master/python/ray/tune repos/ray-project/ray/tree/master/python/ray/tune\n",
      "  stderr: 'Cloning into 'repos/ray-project/ray/tree/master/python/ray/tune'...\n",
      "fatal: repository 'https://github.com/ray-project/ray/tree/master/python/ray/tune/' not found\n",
      "'\n"
     ]
    },
    {
     "name": "stderr",
     "output_type": "stream",
     "text": [
      " 68%|██████▊   | 31457/46292 [20:24:31<3:31:24,  1.17it/s]  "
     ]
    },
    {
     "name": "stdout",
     "output_type": "stream",
     "text": [
      "Cmd('git') failed due to: exit code(128)\n",
      "  cmdline: git clone -v https://github.com/yangxu351/yxu-yolov3-xview repos/yangxu351/yxu-yolov3-xview\n",
      "  stderr: 'Cloning into 'repos/yangxu351/yxu-yolov3-xview'...\n",
      "fatal: could not read Username for 'https://github.com': No such device or address\n",
      "'\n"
     ]
    },
    {
     "name": "stderr",
     "output_type": "stream",
     "text": [
      " 68%|██████▊   | 31585/46292 [20:29:22<9:19:51,  2.28s/it] "
     ]
    },
    {
     "name": "stdout",
     "output_type": "stream",
     "text": [
      "Cmd('git') failed due to: exit code(128)\n",
      "  cmdline: git clone -v https://github.com/tzs930/samsung_dialogue_tutorial repos/tzs930/samsung_dialogue_tutorial\n",
      "  stderr: 'Cloning into 'repos/tzs930/samsung_dialogue_tutorial'...\n",
      "fatal: could not read Username for 'https://github.com': No such device or address\n",
      "'\n"
     ]
    },
    {
     "name": "stderr",
     "output_type": "stream",
     "text": [
      " 68%|██████▊   | 31596/46292 [20:29:43<5:34:52,  1.37s/it] "
     ]
    },
    {
     "name": "stdout",
     "output_type": "stream",
     "text": [
      "Cmd('git') failed due to: exit code(128)\n",
      "  cmdline: git clone -v https://github.com/jonashaag/paperswithcode-speech-enhancement-audiosamples/tree/master/Phase-aware%20Single-stage%20Speech%20Denoising%20and%20Dereverberation%20with%20U-Net repos/jonashaag/paperswithcode-speech-enhancement-audiosamples/tree/master/Phase-aware%20Single-stage%20Speech%20Denoising%20and%20Dereverberation%20with%20U-Net\n",
      "  stderr: 'Cloning into 'repos/jonashaag/paperswithcode-speech-enhancement-audiosamples/tree/master/Phase-aware%20Single-stage%20Speech%20Denoising%20and%20Dereverberation%20with%20U-Net'...\n",
      "fatal: repository 'https://github.com/jonashaag/paperswithcode-speech-enhancement-audiosamples/tree/master/Phase-aware%20Single-stage%20Speech%20Denoising%20and%20Dereverberation%20with%20U-Net/' not found\n",
      "'\n"
     ]
    },
    {
     "name": "stderr",
     "output_type": "stream",
     "text": [
      " 68%|██████▊   | 31598/46292 [20:29:44<4:17:49,  1.05s/it]"
     ]
    },
    {
     "name": "stdout",
     "output_type": "stream",
     "text": [
      "Cmd('git') failed due to: exit code(128)\n",
      "  cmdline: git clone -v https://github.com/tensorflow/models/tree/master/research/qa_kg repos/tensorflow/models/tree/master/research/qa_kg\n",
      "  stderr: 'Cloning into 'repos/tensorflow/models/tree/master/research/qa_kg'...\n",
      "fatal: repository 'https://github.com/tensorflow/models/tree/master/research/qa_kg/' not found\n",
      "'\n"
     ]
    },
    {
     "name": "stderr",
     "output_type": "stream",
     "text": [
      " 68%|██████▊   | 31611/46292 [20:30:55<13:43:00,  3.36s/it]"
     ]
    },
    {
     "name": "stdout",
     "output_type": "stream",
     "text": [
      "Cmd('git') failed due to: exit code(128)\n",
      "  cmdline: git clone -v https://github.com/kaung-htet-myat/Multi-teachers-Knowledge-Distillation repos/kaung-htet-myat/Multi-teachers-Knowledge-Distillation\n",
      "  stderr: 'Cloning into 'repos/kaung-htet-myat/Multi-teachers-Knowledge-Distillation'...\n",
      "fatal: could not read Username for 'https://github.com': No such device or address\n",
      "'\n"
     ]
    },
    {
     "name": "stderr",
     "output_type": "stream",
     "text": [
      " 68%|██████▊   | 31672/46292 [20:35:21<5:21:36,  1.32s/it] "
     ]
    },
    {
     "name": "stdout",
     "output_type": "stream",
     "text": [
      "Cmd('git') failed due to: exit code(128)\n",
      "  cmdline: git clone -v https://github.com/PennyLaneAI/qml/blob/master/demonstrations/tutorial_quantum_natural_gradient.py repos/PennyLaneAI/qml/blob/master/demonstrations/tutorial_quantum_natural_gradient.py\n",
      "  stderr: 'Cloning into 'repos/PennyLaneAI/qml/blob/master/demonstrations/tutorial_quantum_natural_gradient.py'...\n",
      "fatal: repository 'https://github.com/PennyLaneAI/qml/blob/master/demonstrations/tutorial_quantum_natural_gradient.py/' not found\n",
      "'\n"
     ]
    },
    {
     "name": "stderr",
     "output_type": "stream",
     "text": [
      "\r",
      " 68%|██████▊   | 31674/46292 [20:35:22<4:00:31,  1.01it/s]"
     ]
    },
    {
     "name": "stdout",
     "output_type": "stream",
     "text": [
      "Cmd('git') failed due to: exit code(128)\n",
      "  cmdline: git clone -v https://github.com/google-research/google-research/tree/master/goemotions repos/google-research/google-research/tree/master/goemotions\n",
      "  stderr: 'Cloning into 'repos/google-research/google-research/tree/master/goemotions'...\n",
      "fatal: repository 'https://github.com/google-research/google-research/tree/master/goemotions/' not found\n",
      "'\n"
     ]
    },
    {
     "name": "stderr",
     "output_type": "stream",
     "text": [
      " 68%|██████▊   | 31696/46292 [20:37:07<13:23:43,  3.30s/it]"
     ]
    },
    {
     "name": "stdout",
     "output_type": "stream",
     "text": [
      "Cmd('git') failed due to: exit code(128)\n",
      "  cmdline: git clone -v https://github.com/sarus-tech/tf2-published-models/tree/master/vqvae repos/sarus-tech/tf2-published-models/tree/master/vqvae\n",
      "  stderr: 'Cloning into 'repos/sarus-tech/tf2-published-models/tree/master/vqvae'...\n",
      "fatal: repository 'https://github.com/sarus-tech/tf2-published-models/tree/master/vqvae/' not found\n",
      "'\n"
     ]
    },
    {
     "name": "stderr",
     "output_type": "stream",
     "text": [
      " 69%|██████▊   | 31716/46292 [20:43:59<90:53:24, 22.45s/it] "
     ]
    },
    {
     "name": "stdout",
     "output_type": "stream",
     "text": [
      "Cmd('git') failed due to: exit code(128)\n",
      "  cmdline: git clone -v https://github.com/EugenHotaj/pytorch-generative/blob/master/pytorch_generative/models/vd_vae.py repos/EugenHotaj/pytorch-generative/blob/master/pytorch_generative/models/vd_vae.py\n",
      "  stderr: 'Cloning into 'repos/EugenHotaj/pytorch-generative/blob/master/pytorch_generative/models/vd_vae.py'...\n",
      "fatal: repository 'https://github.com/EugenHotaj/pytorch-generative/blob/master/pytorch_generative/models/vd_vae.py/' not found\n",
      "'\n"
     ]
    },
    {
     "name": "stderr",
     "output_type": "stream",
     "text": [
      " 69%|██████▊   | 31725/46292 [20:44:18<11:07:27,  2.75s/it]"
     ]
    },
    {
     "name": "stdout",
     "output_type": "stream",
     "text": [
      "Cmd('git') failed due to: exit code(128)\n",
      "  cmdline: git clone -v https://github.com/Vuong02011996/multi_object_tracking repos/Vuong02011996/multi_object_tracking\n",
      "  stderr: 'Cloning into 'repos/Vuong02011996/multi_object_tracking'...\n",
      "fatal: could not read Username for 'https://github.com': No such device or address\n",
      "'\n"
     ]
    },
    {
     "name": "stderr",
     "output_type": "stream",
     "text": [
      " 69%|██████▊   | 31729/46292 [20:44:19<4:35:30,  1.14s/it] "
     ]
    },
    {
     "name": "stdout",
     "output_type": "stream",
     "text": [
      "Cmd('git') failed due to: exit code(128)\n",
      "  cmdline: git clone -v https://github.com/microsoft/vert-papers/tree/master/papers/CAN-NER repos/microsoft/vert-papers/tree/master/papers/CAN-NER\n",
      "  stderr: 'Cloning into 'repos/microsoft/vert-papers/tree/master/papers/CAN-NER'...\n",
      "fatal: repository 'https://github.com/microsoft/vert-papers/tree/master/papers/CAN-NER/' not found\n",
      "'\n"
     ]
    },
    {
     "name": "stderr",
     "output_type": "stream",
     "text": [
      "\r",
      " 69%|██████▊   | 31730/46292 [20:44:19<3:58:43,  1.02it/s]"
     ]
    },
    {
     "name": "stdout",
     "output_type": "stream",
     "text": [
      "Cmd('git') failed due to: exit code(128)\n",
      "  cmdline: git clone -v https://github.com/microsoft/vert-papers/tree/master/papers/Meta-Cross repos/microsoft/vert-papers/tree/master/papers/Meta-Cross\n",
      "  stderr: 'Cloning into 'repos/microsoft/vert-papers/tree/master/papers/Meta-Cross'...\n",
      "fatal: repository 'https://github.com/microsoft/vert-papers/tree/master/papers/Meta-Cross/' not found\n",
      "'\n"
     ]
    },
    {
     "name": "stderr",
     "output_type": "stream",
     "text": [
      " 69%|██████▊   | 31736/46292 [20:44:36<10:55:26,  2.70s/it]"
     ]
    },
    {
     "name": "stdout",
     "output_type": "stream",
     "text": [
      "Cmd('git') failed due to: exit code(128)\n",
      "  cmdline: git clone -v https://github.com/lloucks/Loan-Default repos/lloucks/Loan-Default\n",
      "  stderr: 'Cloning into 'repos/lloucks/Loan-Default'...\n",
      "fatal: could not read Username for 'https://github.com': No such device or address\n",
      "'\n"
     ]
    },
    {
     "name": "stderr",
     "output_type": "stream",
     "text": [
      " 69%|██████▊   | 31771/46292 [20:46:06<8:36:38,  2.13s/it] "
     ]
    },
    {
     "name": "stdout",
     "output_type": "stream",
     "text": [
      "Cmd('git') failed due to: exit code(128)\n",
      "  cmdline: git clone -v https://github.com/bingai/Revisiting_Single_Depth_Estimation_Code repos/bingai/Revisiting_Single_Depth_Estimation_Code\n",
      "  stderr: 'Cloning into 'repos/bingai/Revisiting_Single_Depth_Estimation_Code'...\n",
      "fatal: could not read Username for 'https://github.com': No such device or address\n",
      "'\n"
     ]
    },
    {
     "name": "stderr",
     "output_type": "stream",
     "text": [
      " 69%|██████▉   | 31826/46292 [20:47:30<2:27:34,  1.63it/s] "
     ]
    },
    {
     "name": "stdout",
     "output_type": "stream",
     "text": [
      "Cmd('git') failed due to: exit code(128)\n",
      "  cmdline: git clone -v https://github.com/EugenHotaj/pytorch-generative/blob/master/pytorch_generative/models/made.py repos/EugenHotaj/pytorch-generative/blob/master/pytorch_generative/models/made.py\n",
      "  stderr: 'Cloning into 'repos/EugenHotaj/pytorch-generative/blob/master/pytorch_generative/models/made.py'...\n",
      "fatal: repository 'https://github.com/EugenHotaj/pytorch-generative/blob/master/pytorch_generative/models/made.py/' not found\n",
      "'\n"
     ]
    },
    {
     "name": "stderr",
     "output_type": "stream",
     "text": [
      " 69%|██████▉   | 31914/46292 [20:51:24<5:09:09,  1.29s/it] "
     ]
    },
    {
     "name": "stdout",
     "output_type": "stream",
     "text": [
      "Cmd('git') failed due to: exit code(128)\n",
      "  cmdline: git clone -v https://github.com/minyoungkim21/recmixvae repos/minyoungkim21/recmixvae\n",
      "  stderr: 'Cloning into 'repos/minyoungkim21/recmixvae'...\n",
      "fatal: could not read Username for 'https://github.com': No such device or address\n",
      "'\n"
     ]
    },
    {
     "name": "stderr",
     "output_type": "stream",
     "text": [
      " 69%|██████▉   | 31938/46292 [20:58:18<125:40:12, 31.52s/it]"
     ]
    },
    {
     "name": "stdout",
     "output_type": "stream",
     "text": [
      "Cmd('git') failed due to: exit code(128)\n",
      "  cmdline: git clone -v https://github.com/https://gitlab.com/VasilySotnikov/Li2pp repos/https://gitlab.com/VasilySotnikov/Li2pp\n",
      "  stderr: 'Cloning into 'repos/https://gitlab.com/VasilySotnikov/Li2pp'...\n",
      "remote: Not Found\n",
      "fatal: repository 'https://github.com/https://gitlab.com/VasilySotnikov/Li2pp/' not found\n",
      "'\n"
     ]
    },
    {
     "name": "stderr",
     "output_type": "stream",
     "text": [
      " 69%|██████▉   | 32157/46292 [21:06:31<3:01:40,  1.30it/s]  "
     ]
    },
    {
     "name": "stdout",
     "output_type": "stream",
     "text": [
      "Cmd('git') failed due to: exit code(128)\n",
      "  cmdline: git clone -v https://github.com/https://gitlab.com/retinai_sandro/glampoints repos/https://gitlab.com/retinai_sandro/glampoints\n",
      "  stderr: 'Cloning into 'repos/https://gitlab.com/retinai_sandro/glampoints'...\n",
      "remote: Not Found\n",
      "fatal: repository 'https://github.com/https://gitlab.com/retinai_sandro/glampoints/' not found\n",
      "'\n"
     ]
    },
    {
     "name": "stderr",
     "output_type": "stream",
     "text": [
      " 70%|██████▉   | 32193/46292 [21:07:31<4:40:34,  1.19s/it] "
     ]
    },
    {
     "name": "stdout",
     "output_type": "stream",
     "text": [
      "Cmd('git') failed due to: exit code(128)\n",
      "  cmdline: git clone -v https://github.com/xwinxu/bayesian-sde repos/xwinxu/bayesian-sde\n",
      "  stderr: 'Cloning into 'repos/xwinxu/bayesian-sde'...\n",
      "fatal: could not read Username for 'https://github.com': No such device or address\n",
      "'\n"
     ]
    },
    {
     "name": "stderr",
     "output_type": "stream",
     "text": [
      " 70%|██████▉   | 32402/46292 [21:17:44<4:32:11,  1.18s/it] "
     ]
    },
    {
     "name": "stdout",
     "output_type": "stream",
     "text": [
      "Cmd('git') failed due to: exit code(128)\n",
      "  cmdline: git clone -v https://github.com/huggingface/transformers/tree/master/examples/question-answering repos/huggingface/transformers/tree/master/examples/question-answering\n",
      "  stderr: 'Cloning into 'repos/huggingface/transformers/tree/master/examples/question-answering'...\n",
      "fatal: repository 'https://github.com/huggingface/transformers/tree/master/examples/question-answering/' not found\n",
      "'\n"
     ]
    },
    {
     "name": "stderr",
     "output_type": "stream",
     "text": [
      " 70%|███████   | 32465/46292 [21:19:57<5:26:38,  1.42s/it] "
     ]
    },
    {
     "name": "stdout",
     "output_type": "stream",
     "text": [
      "Cmd('git') failed due to: exit code(128)\n",
      "  cmdline: git clone -v https://github.com/https://bitbucket.org/mstreng/reduce repos/https://bitbucket.org/mstreng/reduce\n",
      "  stderr: 'Cloning into 'repos/https://bitbucket.org/mstreng/reduce'...\n",
      "remote: Not Found\n",
      "fatal: repository 'https://github.com/https://bitbucket.org/mstreng/reduce/' not found\n",
      "'\n"
     ]
    },
    {
     "name": "stderr",
     "output_type": "stream",
     "text": [
      " 70%|███████   | 32474/46292 [21:20:06<2:41:42,  1.42it/s]"
     ]
    },
    {
     "name": "stdout",
     "output_type": "stream",
     "text": [
      "Cmd('git') failed due to: exit code(128)\n",
      "  cmdline: git clone -v https://github.com/https://bitbucket.org/christopher_bonnett/nn_notebook repos/https://bitbucket.org/christopher_bonnett/nn_notebook\n",
      "  stderr: 'Cloning into 'repos/https://bitbucket.org/christopher_bonnett/nn_notebook'...\n",
      "remote: Not Found\n",
      "fatal: repository 'https://github.com/https://bitbucket.org/christopher_bonnett/nn_notebook/' not found\n",
      "'\n"
     ]
    },
    {
     "name": "stderr",
     "output_type": "stream",
     "text": [
      " 70%|███████   | 32480/46292 [21:20:14<4:25:55,  1.16s/it]"
     ]
    },
    {
     "name": "stdout",
     "output_type": "stream",
     "text": [
      "Cmd('git') failed due to: exit code(128)\n",
      "  cmdline: git clone -v https://github.com/https://bitbucket.org/tassev/colacode repos/https://bitbucket.org/tassev/colacode\n",
      "  stderr: 'Cloning into 'repos/https://bitbucket.org/tassev/colacode'...\n",
      "remote: Not Found\n",
      "fatal: repository 'https://github.com/https://bitbucket.org/tassev/colacode/' not found\n",
      "'\n"
     ]
    },
    {
     "name": "stderr",
     "output_type": "stream",
     "text": [
      " 70%|███████   | 32493/46292 [21:20:40<10:16:45,  2.68s/it]"
     ]
    },
    {
     "name": "stdout",
     "output_type": "stream",
     "text": [
      "Cmd('git') failed due to: exit code(128)\n",
      "  cmdline: git clone -v https://github.com/https://gitlab.com/hararticles/gs-gt repos/https://gitlab.com/hararticles/gs-gt\n",
      "  stderr: 'Cloning into 'repos/https://gitlab.com/hararticles/gs-gt'...\n",
      "remote: Not Found\n",
      "fatal: repository 'https://github.com/https://gitlab.com/hararticles/gs-gt/' not found\n",
      "'\n"
     ]
    },
    {
     "name": "stderr",
     "output_type": "stream",
     "text": [
      " 70%|███████   | 32540/46292 [21:21:49<7:20:16,  1.92s/it] "
     ]
    },
    {
     "name": "stdout",
     "output_type": "stream",
     "text": [
      "Cmd('git') failed due to: exit code(128)\n",
      "  cmdline: git clone -v https://github.com/HEEJOWOO/RCAN repos/HEEJOWOO/RCAN\n",
      "  stderr: 'Cloning into 'repos/HEEJOWOO/RCAN'...\n",
      "fatal: could not read Username for 'https://github.com': No such device or address\n",
      "'\n"
     ]
    },
    {
     "name": "stderr",
     "output_type": "stream",
     "text": [
      "\r",
      " 70%|███████   | 32541/46292 [21:21:50<5:33:04,  1.45s/it]"
     ]
    },
    {
     "name": "stdout",
     "output_type": "stream",
     "text": [
      "Cmd('git') failed due to: exit code(128)\n",
      "  cmdline: git clone -v https://github.com/HEEJOWOO/DBPN-D-DBPN repos/HEEJOWOO/DBPN-D-DBPN\n",
      "  stderr: 'Cloning into 'repos/HEEJOWOO/DBPN-D-DBPN'...\n",
      "fatal: could not read Username for 'https://github.com': No such device or address\n",
      "'\n"
     ]
    },
    {
     "name": "stderr",
     "output_type": "stream",
     "text": [
      " 70%|███████   | 32547/46292 [21:22:06<7:30:40,  1.97s/it] "
     ]
    },
    {
     "name": "stdout",
     "output_type": "stream",
     "text": [
      "Cmd('git') failed due to: exit code(128)\n",
      "  cmdline: git clone -v https://github.com/umbralcalc/multilangevinsolver repos/umbralcalc/multilangevinsolver\n",
      "  stderr: 'Cloning into 'repos/umbralcalc/multilangevinsolver'...\n",
      "fatal: could not read Username for 'https://github.com': No such device or address\n",
      "'\n"
     ]
    },
    {
     "name": "stderr",
     "output_type": "stream",
     "text": [
      " 70%|███████   | 32573/46292 [21:23:08<7:05:03,  1.86s/it] "
     ]
    },
    {
     "name": "stdout",
     "output_type": "stream",
     "text": [
      "Cmd('git') failed due to: exit code(128)\n",
      "  cmdline: git clone -v https://github.com/ku222/CredentialEmbedder repos/ku222/CredentialEmbedder\n",
      "  stderr: 'Cloning into 'repos/ku222/CredentialEmbedder'...\n",
      "fatal: could not read Username for 'https://github.com': No such device or address\n",
      "'\n"
     ]
    },
    {
     "name": "stderr",
     "output_type": "stream",
     "text": [
      "\r",
      " 70%|███████   | 32574/46292 [21:23:08<5:28:05,  1.43s/it]"
     ]
    },
    {
     "name": "stdout",
     "output_type": "stream",
     "text": [
      "Cmd('git') failed due to: exit code(128)\n",
      "  cmdline: git clone -v https://github.com/ku222/CredentialEmbedder repos/ku222/CredentialEmbedder\n",
      "  stderr: 'Cloning into 'repos/ku222/CredentialEmbedder'...\n",
      "fatal: could not read Username for 'https://github.com': No such device or address\n",
      "'\n"
     ]
    },
    {
     "name": "stderr",
     "output_type": "stream",
     "text": [
      " 70%|███████   | 32581/46292 [21:23:13<2:00:47,  1.89it/s]"
     ]
    },
    {
     "name": "stdout",
     "output_type": "stream",
     "text": [
      "Cmd('git') failed due to: exit code(128)\n",
      "  cmdline: git clone -v https://github.com/xwinxu/bayesian-sde repos/xwinxu/bayesian-sde\n",
      "  stderr: 'Cloning into 'repos/xwinxu/bayesian-sde'...\n",
      "fatal: could not read Username for 'https://github.com': No such device or address\n",
      "'\n"
     ]
    },
    {
     "name": "stderr",
     "output_type": "stream",
     "text": [
      "\r",
      " 70%|███████   | 32582/46292 [21:23:13<1:45:58,  2.16it/s]"
     ]
    },
    {
     "name": "stdout",
     "output_type": "stream",
     "text": [
      "Cmd('git') failed due to: exit code(128)\n",
      "  cmdline: git clone -v https://github.com/xwinxu/bayesian-sde repos/xwinxu/bayesian-sde\n",
      "  stderr: 'Cloning into 'repos/xwinxu/bayesian-sde'...\n",
      "fatal: could not read Username for 'https://github.com': No such device or address\n",
      "'\n"
     ]
    },
    {
     "name": "stderr",
     "output_type": "stream",
     "text": [
      " 70%|███████   | 32590/46292 [21:23:19<2:25:35,  1.57it/s]"
     ]
    },
    {
     "name": "stdout",
     "output_type": "stream",
     "text": [
      "Cmd('git') failed due to: exit code(128)\n",
      "  cmdline: git clone -v https://github.com/Liyianan/BURT repos/Liyianan/BURT\n",
      "  stderr: 'Cloning into 'repos/Liyianan/BURT'...\n",
      "fatal: could not read Username for 'https://github.com': No such device or address\n",
      "'\n"
     ]
    },
    {
     "name": "stderr",
     "output_type": "stream",
     "text": [
      " 70%|███████   | 32612/46292 [21:24:24<4:24:17,  1.16s/it] "
     ]
    },
    {
     "name": "stdout",
     "output_type": "stream",
     "text": [
      "Cmd('git') failed due to: exit code(128)\n",
      "  cmdline: git clone -v https://github.com/pytorch/fairseq/tree/master/examples/fast_noisy_channel repos/pytorch/fairseq/tree/master/examples/fast_noisy_channel\n",
      "  stderr: 'Cloning into 'repos/pytorch/fairseq/tree/master/examples/fast_noisy_channel'...\n",
      "remote: Please upgrade your git client.\n",
      "remote: GitHub.com no longer supports git over dumb-http: https://github.com/blog/809-git-dumb-http-transport-to-be-turned-off-in-90-days\n",
      "fatal: unable to access 'https://github.com/pytorch/fairseq/tree/master/examples/fast_noisy_channel/': The requested URL returned error: 403\n",
      "'\n"
     ]
    },
    {
     "name": "stderr",
     "output_type": "stream",
     "text": [
      " 70%|███████   | 32630/46292 [21:25:01<3:41:15,  1.03it/s] "
     ]
    },
    {
     "name": "stdout",
     "output_type": "stream",
     "text": [
      "Cmd('git') failed due to: exit code(128)\n",
      "  cmdline: git clone -v https://github.com/NoraH2004/BERT_AE_thesis repos/NoraH2004/BERT_AE_thesis\n",
      "  stderr: 'Cloning into 'repos/NoraH2004/BERT_AE_thesis'...\n",
      "fatal: could not read Username for 'https://github.com': No such device or address\n",
      "'\n"
     ]
    },
    {
     "name": "stderr",
     "output_type": "stream",
     "text": [
      "\r",
      " 70%|███████   | 32631/46292 [21:25:01<3:03:32,  1.24it/s]"
     ]
    },
    {
     "name": "stdout",
     "output_type": "stream",
     "text": [
      "Cmd('git') failed due to: exit code(128)\n",
      "  cmdline: git clone -v https://github.com/NoraH2004/BERT_AE_thesis repos/NoraH2004/BERT_AE_thesis\n",
      "  stderr: 'Cloning into 'repos/NoraH2004/BERT_AE_thesis'...\n",
      "fatal: could not read Username for 'https://github.com': No such device or address\n",
      "'\n"
     ]
    },
    {
     "name": "stderr",
     "output_type": "stream",
     "text": [
      " 71%|███████   | 32650/46292 [21:26:00<5:09:45,  1.36s/it] "
     ]
    },
    {
     "name": "stdout",
     "output_type": "stream",
     "text": [
      "Cmd('git') failed due to: exit code(128)\n",
      "  cmdline: git clone -v https://github.com/rohitmishra94/data-science-projects repos/rohitmishra94/data-science-projects\n",
      "  stderr: 'Cloning into 'repos/rohitmishra94/data-science-projects'...\n",
      "fatal: could not read Username for 'https://github.com': No such device or address\n",
      "'\n"
     ]
    },
    {
     "name": "stderr",
     "output_type": "stream",
     "text": [
      "\r",
      " 71%|███████   | 32651/46292 [21:26:01<3:55:46,  1.04s/it]"
     ]
    },
    {
     "name": "stdout",
     "output_type": "stream",
     "text": [
      "Cmd('git') failed due to: exit code(128)\n",
      "  cmdline: git clone -v https://github.com/abhinavsagar/bmsnn repos/abhinavsagar/bmsnn\n",
      "  stderr: 'Cloning into 'repos/abhinavsagar/bmsnn'...\n",
      "fatal: could not read Username for 'https://github.com': No such device or address\n",
      "'\n"
     ]
    },
    {
     "name": "stderr",
     "output_type": "stream",
     "text": [
      " 71%|███████   | 32654/46292 [21:26:08<6:59:13,  1.84s/it]"
     ]
    },
    {
     "name": "stdout",
     "output_type": "stream",
     "text": [
      "Cmd('git') failed due to: exit code(128)\n",
      "  cmdline: git clone -v https://github.com/Yuheon/Reinforcement-Learning-Study repos/Yuheon/Reinforcement-Learning-Study\n",
      "  stderr: 'Cloning into 'repos/Yuheon/Reinforcement-Learning-Study'...\n",
      "fatal: could not read Username for 'https://github.com': No such device or address\n",
      "'\n"
     ]
    },
    {
     "name": "stderr",
     "output_type": "stream",
     "text": [
      "\r",
      " 71%|███████   | 32655/46292 [21:26:08<5:11:50,  1.37s/it]"
     ]
    },
    {
     "name": "stdout",
     "output_type": "stream",
     "text": [
      "Cmd('git') failed due to: exit code(128)\n",
      "  cmdline: git clone -v https://github.com/Yuheon/Reinforcement-Learning-Study repos/Yuheon/Reinforcement-Learning-Study\n",
      "  stderr: 'Cloning into 'repos/Yuheon/Reinforcement-Learning-Study'...\n",
      "fatal: could not read Username for 'https://github.com': No such device or address\n",
      "'\n"
     ]
    },
    {
     "name": "stderr",
     "output_type": "stream",
     "text": [
      " 71%|███████   | 32659/46292 [21:26:18<6:58:29,  1.84s/it] "
     ]
    },
    {
     "name": "stdout",
     "output_type": "stream",
     "text": [
      "Cmd('git') failed due to: exit code(128)\n",
      "  cmdline: git clone -v https://github.com/Yuheon/Reinforcement-Learning-Study repos/Yuheon/Reinforcement-Learning-Study\n",
      "  stderr: 'Cloning into 'repos/Yuheon/Reinforcement-Learning-Study'...\n",
      "fatal: could not read Username for 'https://github.com': No such device or address\n",
      "'\n"
     ]
    },
    {
     "name": "stderr",
     "output_type": "stream",
     "text": [
      " 71%|███████   | 32680/46292 [21:26:57<3:47:57,  1.00s/it] "
     ]
    },
    {
     "name": "stdout",
     "output_type": "stream",
     "text": [
      "Cmd('git') failed due to: exit code(128)\n",
      "  cmdline: git clone -v https://github.com/JohnSnowLabs/spark-nlp-workshop/blob/master/tutorials/Certification_Trainings/Public/4.NERDL_Training.ipynb repos/JohnSnowLabs/spark-nlp-workshop/blob/master/tutorials/Certification_Trainings/Public/4.NERDL_Training.ipynb\n",
      "  stderr: 'Cloning into 'repos/JohnSnowLabs/spark-nlp-workshop/blob/master/tutorials/Certification_Trainings/Public/4.NERDL_Training.ipynb'...\n",
      "fatal: repository 'https://github.com/JohnSnowLabs/spark-nlp-workshop/blob/master/tutorials/Certification_Trainings/Public/4.NERDL_Training.ipynb/' not found\n",
      "'\n"
     ]
    },
    {
     "name": "stderr",
     "output_type": "stream",
     "text": [
      " 71%|███████   | 32762/46292 [21:29:55<2:24:19,  1.56it/s] "
     ]
    },
    {
     "name": "stdout",
     "output_type": "stream",
     "text": [
      "Cmd('git') failed due to: exit code(128)\n",
      "  cmdline: git clone -v https://github.com/AdventureO/habitat-challenge-2020-uculab repos/AdventureO/habitat-challenge-2020-uculab\n",
      "  stderr: 'Cloning into 'repos/AdventureO/habitat-challenge-2020-uculab'...\n",
      "fatal: could not read Username for 'https://github.com': No such device or address\n",
      "'\n"
     ]
    },
    {
     "name": "stderr",
     "output_type": "stream",
     "text": [
      " 71%|███████   | 32832/46292 [21:32:10<2:57:42,  1.26it/s] "
     ]
    },
    {
     "name": "stdout",
     "output_type": "stream",
     "text": [
      "Cmd('git') failed due to: exit code(128)\n",
      "  cmdline: git clone -v https://github.com/yeyinthtoon/Knowledge-Distillation-ResNet repos/yeyinthtoon/Knowledge-Distillation-ResNet\n",
      "  stderr: 'Cloning into 'repos/yeyinthtoon/Knowledge-Distillation-ResNet'...\n",
      "fatal: could not read Username for 'https://github.com': No such device or address\n",
      "'\n"
     ]
    },
    {
     "name": "stderr",
     "output_type": "stream",
     "text": [
      "\r",
      " 71%|███████   | 32833/46292 [21:32:10<2:32:19,  1.47it/s]"
     ]
    },
    {
     "name": "stdout",
     "output_type": "stream",
     "text": [
      "Cmd('git') failed due to: exit code(128)\n",
      "  cmdline: git clone -v https://github.com/yeyinthtoon/Knowledge-Distillation-ResNet repos/yeyinthtoon/Knowledge-Distillation-ResNet\n",
      "  stderr: 'Cloning into 'repos/yeyinthtoon/Knowledge-Distillation-ResNet'...\n",
      "fatal: could not read Username for 'https://github.com': No such device or address\n",
      "'\n"
     ]
    },
    {
     "name": "stderr",
     "output_type": "stream",
     "text": [
      " 71%|███████   | 32933/46292 [21:35:57<3:52:33,  1.04s/it] "
     ]
    },
    {
     "name": "stdout",
     "output_type": "stream",
     "text": [
      "Cmd('git') failed due to: exit code(128)\n",
      "  cmdline: git clone -v https://github.com/Pblamichha42/Anomaly_using_GAT repos/Pblamichha42/Anomaly_using_GAT\n",
      "  stderr: 'Cloning into 'repos/Pblamichha42/Anomaly_using_GAT'...\n",
      "fatal: could not read Username for 'https://github.com': No such device or address\n",
      "'\n"
     ]
    },
    {
     "name": "stderr",
     "output_type": "stream",
     "text": [
      " 71%|███████   | 32946/46292 [21:36:49<7:35:03,  2.05s/it] "
     ]
    },
    {
     "name": "stdout",
     "output_type": "stream",
     "text": [
      "Cmd('git') failed due to: exit code(128)\n",
      "  cmdline: git clone -v https://github.com/rodrigo-castellon/gscan repos/rodrigo-castellon/gscan\n",
      "  stderr: 'Cloning into 'repos/rodrigo-castellon/gscan'...\n",
      "fatal: could not read Username for 'https://github.com': No such device or address\n",
      "'\n"
     ]
    },
    {
     "name": "stderr",
     "output_type": "stream",
     "text": [
      " 71%|███████▏  | 33082/46292 [21:40:52<2:45:40,  1.33it/s] "
     ]
    },
    {
     "name": "stdout",
     "output_type": "stream",
     "text": [
      "Cmd('git') failed due to: exit code(128)\n",
      "  cmdline: git clone -v https://github.com/itsyoavshalev/Image-Animation-with-Perturbed-Masks repos/itsyoavshalev/Image-Animation-with-Perturbed-Masks\n",
      "  stderr: 'Cloning into 'repos/itsyoavshalev/Image-Animation-with-Perturbed-Masks'...\n",
      "fatal: could not read Username for 'https://github.com': No such device or address\n",
      "'\n"
     ]
    },
    {
     "name": "stderr",
     "output_type": "stream",
     "text": [
      " 72%|███████▏  | 33122/46292 [21:43:50<14:10:57,  3.88s/it]"
     ]
    },
    {
     "name": "stdout",
     "output_type": "stream",
     "text": [
      "Cmd('git') failed due to: exit code(128)\n",
      "  cmdline: git clone -v https://github.com/AdventureO/habitat-challenge-2020-uculab repos/AdventureO/habitat-challenge-2020-uculab\n",
      "  stderr: 'Cloning into 'repos/AdventureO/habitat-challenge-2020-uculab'...\n",
      "fatal: could not read Username for 'https://github.com': No such device or address\n",
      "'\n"
     ]
    },
    {
     "name": "stderr",
     "output_type": "stream",
     "text": [
      " 72%|███████▏  | 33170/46292 [21:46:07<1:39:13,  2.20it/s] "
     ]
    },
    {
     "name": "stdout",
     "output_type": "stream",
     "text": [
      "Cmd('git') failed due to: exit code(128)\n",
      "  cmdline: git clone -v https://github.com/https://gitlab.com/cph-tum/bertha repos/https://gitlab.com/cph-tum/bertha\n",
      "  stderr: 'Cloning into 'repos/https://gitlab.com/cph-tum/bertha'...\n",
      "remote: Not Found\n",
      "fatal: repository 'https://github.com/https://gitlab.com/cph-tum/bertha/' not found\n",
      "'\n"
     ]
    },
    {
     "name": "stderr",
     "output_type": "stream",
     "text": [
      " 72%|███████▏  | 33181/46292 [21:46:37<8:58:51,  2.47s/it] "
     ]
    },
    {
     "name": "stdout",
     "output_type": "stream",
     "text": [
      "Cmd('git') failed due to: exit code(128)\n",
      "  cmdline: git clone -v https://github.com/https://gitlab.com/wifisensing/PicoScenes-PDK repos/https://gitlab.com/wifisensing/PicoScenes-PDK\n",
      "  stderr: 'Cloning into 'repos/https://gitlab.com/wifisensing/PicoScenes-PDK'...\n",
      "remote: Not Found\n",
      "fatal: repository 'https://github.com/https://gitlab.com/wifisensing/PicoScenes-PDK/' not found\n",
      "'\n"
     ]
    },
    {
     "name": "stderr",
     "output_type": "stream",
     "text": [
      " 72%|███████▏  | 33191/46292 [21:46:55<5:51:55,  1.61s/it] "
     ]
    },
    {
     "name": "stdout",
     "output_type": "stream",
     "text": [
      "Cmd('git') failed due to: exit code(128)\n",
      "  cmdline: git clone -v https://github.com/guolin1/CyclicalScheduler repos/guolin1/CyclicalScheduler\n",
      "  stderr: 'Cloning into 'repos/guolin1/CyclicalScheduler'...\n",
      "fatal: could not read Username for 'https://github.com': No such device or address\n",
      "'\n"
     ]
    },
    {
     "name": "stderr",
     "output_type": "stream",
     "text": [
      " 72%|███████▏  | 33216/46292 [21:47:46<4:20:57,  1.20s/it] "
     ]
    },
    {
     "name": "stdout",
     "output_type": "stream",
     "text": [
      "Cmd('git') failed due to: exit code(128)\n",
      "  cmdline: git clone -v https://github.com/QData/TextAttack/blob/master/textattack/attack_recipes/bae_garg_2019.py repos/QData/TextAttack/blob/master/textattack/attack_recipes/bae_garg_2019.py\n",
      "  stderr: 'Cloning into 'repos/QData/TextAttack/blob/master/textattack/attack_recipes/bae_garg_2019.py'...\n",
      "fatal: repository 'https://github.com/QData/TextAttack/blob/master/textattack/attack_recipes/bae_garg_2019.py/' not found\n",
      "'\n"
     ]
    },
    {
     "name": "stderr",
     "output_type": "stream",
     "text": [
      "\r",
      " 72%|███████▏  | 33217/46292 [21:47:46<3:40:15,  1.01s/it]"
     ]
    },
    {
     "name": "stdout",
     "output_type": "stream",
     "text": [
      "Cmd('git') failed due to: exit code(128)\n",
      "  cmdline: git clone -v https://github.com/YoadTew/transformer-pytorch repos/YoadTew/transformer-pytorch\n",
      "  stderr: 'Cloning into 'repos/YoadTew/transformer-pytorch'...\n",
      "fatal: could not read Username for 'https://github.com': No such device or address\n",
      "'\n"
     ]
    },
    {
     "name": "stderr",
     "output_type": "stream",
     "text": [
      " 72%|███████▏  | 33296/46292 [21:50:53<1:32:53,  2.33it/s] "
     ]
    },
    {
     "name": "stdout",
     "output_type": "stream",
     "text": [
      "Cmd('git') failed due to: exit code(128)\n",
      "  cmdline: git clone -v https://github.com/google-research/federated/tree/master/optimization repos/google-research/federated/tree/master/optimization\n",
      "  stderr: 'Cloning into 'repos/google-research/federated/tree/master/optimization'...\n",
      "fatal: repository 'https://github.com/google-research/federated/tree/master/optimization/' not found\n",
      "'\n"
     ]
    },
    {
     "name": "stderr",
     "output_type": "stream",
     "text": [
      " 72%|███████▏  | 33366/46292 [21:54:50<4:38:49,  1.29s/it] "
     ]
    },
    {
     "name": "stdout",
     "output_type": "stream",
     "text": [
      "Cmd('git') failed due to: exit code(128)\n",
      "  cmdline: git clone -v https://github.com/https://gitlab.com/compstorylab/asis repos/https://gitlab.com/compstorylab/asis\n",
      "  stderr: 'Cloning into 'repos/https://gitlab.com/compstorylab/asis'...\n",
      "remote: Not Found\n",
      "fatal: repository 'https://github.com/https://gitlab.com/compstorylab/asis/' not found\n",
      "'\n"
     ]
    },
    {
     "name": "stderr",
     "output_type": "stream",
     "text": [
      " 72%|███████▏  | 33373/46292 [21:54:54<1:58:46,  1.81it/s]"
     ]
    },
    {
     "name": "stdout",
     "output_type": "stream",
     "text": [
      "Cmd('git') failed due to: exit code(128)\n",
      "  cmdline: git clone -v https://github.com/ridin/YOLOv3-on-an-unbalanced-dataset repos/ridin/YOLOv3-on-an-unbalanced-dataset\n",
      "  stderr: 'Cloning into 'repos/ridin/YOLOv3-on-an-unbalanced-dataset'...\n",
      "fatal: could not read Username for 'https://github.com': No such device or address\n",
      "'\n"
     ]
    },
    {
     "name": "stderr",
     "output_type": "stream",
     "text": [
      " 72%|███████▏  | 33402/46292 [21:55:46<7:55:54,  2.22s/it] "
     ]
    },
    {
     "name": "stdout",
     "output_type": "stream",
     "text": [
      "Cmd('git') failed due to: exit code(128)\n",
      "  cmdline: git clone -v https://github.com/jakegrigsby/deep_control/blob/master/deep_control/ddpg.py repos/jakegrigsby/deep_control/blob/master/deep_control/ddpg.py\n",
      "  stderr: 'Cloning into 'repos/jakegrigsby/deep_control/blob/master/deep_control/ddpg.py'...\n",
      "fatal: repository 'https://github.com/jakegrigsby/deep_control/blob/master/deep_control/ddpg.py/' not found\n",
      "'\n"
     ]
    },
    {
     "name": "stderr",
     "output_type": "stream",
     "text": [
      " 72%|███████▏  | 33433/46292 [21:56:51<17:07:46,  4.80s/it]"
     ]
    },
    {
     "name": "stdout",
     "output_type": "stream",
     "text": [
      "Cmd('git') failed due to: exit code(128)\n",
      "  cmdline: git clone -v https://github.com/https://gitlab.com/webnlg/webnlg-human-evaluation repos/https://gitlab.com/webnlg/webnlg-human-evaluation\n",
      "  stderr: 'Cloning into 'repos/https://gitlab.com/webnlg/webnlg-human-evaluation'...\n",
      "remote: Not Found\n",
      "fatal: repository 'https://github.com/https://gitlab.com/webnlg/webnlg-human-evaluation/' not found\n",
      "'\n"
     ]
    },
    {
     "name": "stderr",
     "output_type": "stream",
     "text": [
      " 72%|███████▏  | 33442/46292 [21:57:09<5:59:17,  1.68s/it] "
     ]
    },
    {
     "name": "stdout",
     "output_type": "stream",
     "text": [
      "Cmd('git') failed due to: exit code(128)\n",
      "  cmdline: git clone -v https://github.com/eth-cscs/abcpy-models/tree/master/GeologicalScience/VolcanicEruption repos/eth-cscs/abcpy-models/tree/master/GeologicalScience/VolcanicEruption\n",
      "  stderr: 'Cloning into 'repos/eth-cscs/abcpy-models/tree/master/GeologicalScience/VolcanicEruption'...\n",
      "fatal: repository 'https://github.com/eth-cscs/abcpy-models/tree/master/GeologicalScience/VolcanicEruption/' not found\n",
      "'\n"
     ]
    },
    {
     "name": "stderr",
     "output_type": "stream",
     "text": [
      " 72%|███████▏  | 33482/46292 [21:59:20<21:32:37,  6.05s/it]"
     ]
    },
    {
     "name": "stdout",
     "output_type": "stream",
     "text": [
      "Cmd('git') failed due to: exit code(128)\n",
      "  cmdline: git clone -v https://github.com/daixiangau/coling2020-data-augmentation repos/daixiangau/coling2020-data-augmentation\n",
      "  stderr: 'Cloning into 'repos/daixiangau/coling2020-data-augmentation'...\n",
      "fatal: could not read Username for 'https://github.com': No such device or address\n",
      "'\n"
     ]
    },
    {
     "name": "stderr",
     "output_type": "stream",
     "text": [
      " 72%|███████▏  | 33489/46292 [21:59:24<4:28:32,  1.26s/it] "
     ]
    },
    {
     "name": "stdout",
     "output_type": "stream",
     "text": [
      "Cmd('git') failed due to: exit code(128)\n",
      "  cmdline: git clone -v https://github.com/EugenHotaj/pytorch-generative/blob/master/pytorch_generative/models/vq_vae_2.py repos/EugenHotaj/pytorch-generative/blob/master/pytorch_generative/models/vq_vae_2.py\n",
      "  stderr: 'Cloning into 'repos/EugenHotaj/pytorch-generative/blob/master/pytorch_generative/models/vq_vae_2.py'...\n",
      "fatal: repository 'https://github.com/EugenHotaj/pytorch-generative/blob/master/pytorch_generative/models/vq_vae_2.py/' not found\n",
      "'\n"
     ]
    },
    {
     "name": "stderr",
     "output_type": "stream",
     "text": [
      " 72%|███████▏  | 33494/46292 [21:59:30<3:54:43,  1.10s/it]"
     ]
    },
    {
     "name": "stdout",
     "output_type": "stream",
     "text": [
      "Cmd('git') failed due to: exit code(128)\n",
      "  cmdline: git clone -v https://github.com/peustr/A2SNN repos/peustr/A2SNN\n",
      "  stderr: 'Cloning into 'repos/peustr/A2SNN'...\n",
      "fatal: could not read Username for 'https://github.com': No such device or address\n",
      "'\n"
     ]
    },
    {
     "name": "stderr",
     "output_type": "stream",
     "text": [
      " 72%|███████▏  | 33515/46292 [22:00:18<5:28:36,  1.54s/it] "
     ]
    },
    {
     "name": "stdout",
     "output_type": "stream",
     "text": [
      "Cmd('git') failed due to: exit code(128)\n",
      "  cmdline: git clone -v https://github.com/PythonOT/POT/blob/master/ot/da.py repos/PythonOT/POT/blob/master/ot/da.py\n",
      "  stderr: 'Cloning into 'repos/PythonOT/POT/blob/master/ot/da.py'...\n",
      "fatal: repository 'https://github.com/PythonOT/POT/blob/master/ot/da.py/' not found\n",
      "'\n"
     ]
    },
    {
     "name": "stderr",
     "output_type": "stream",
     "text": [
      " 72%|███████▏  | 33538/46292 [22:01:28<3:41:54,  1.04s/it] "
     ]
    },
    {
     "name": "stdout",
     "output_type": "stream",
     "text": [
      "Cmd('git') failed due to: exit code(128)\n",
      "  cmdline: git clone -v https://github.com/https://gitlab.com/Panos108/rl-with-nonsmooth repos/https://gitlab.com/Panos108/rl-with-nonsmooth\n",
      "  stderr: 'Cloning into 'repos/https://gitlab.com/Panos108/rl-with-nonsmooth'...\n",
      "remote: Not Found\n",
      "fatal: repository 'https://github.com/https://gitlab.com/Panos108/rl-with-nonsmooth/' not found\n",
      "'\n"
     ]
    },
    {
     "name": "stderr",
     "output_type": "stream",
     "text": [
      " 72%|███████▏  | 33549/46292 [22:01:47<8:31:52,  2.41s/it] "
     ]
    },
    {
     "name": "stdout",
     "output_type": "stream",
     "text": [
      "Cmd('git') failed due to: exit code(128)\n",
      "  cmdline: git clone -v https://github.com/arv-n/laplacian-pcg repos/arv-n/laplacian-pcg\n",
      "  stderr: 'Cloning into 'repos/arv-n/laplacian-pcg'...\n",
      "fatal: could not read Username for 'https://github.com': No such device or address\n",
      "'\n"
     ]
    },
    {
     "name": "stderr",
     "output_type": "stream",
     "text": [
      " 73%|███████▎  | 33569/46292 [22:02:20<6:57:36,  1.97s/it] "
     ]
    },
    {
     "name": "stdout",
     "output_type": "stream",
     "text": [
      "Cmd('git') failed due to: exit code(128)\n",
      "  cmdline: git clone -v https://github.com/statai3237/Multihop-Reading-Comprehension repos/statai3237/Multihop-Reading-Comprehension\n",
      "  stderr: 'Cloning into 'repos/statai3237/Multihop-Reading-Comprehension'...\n",
      "fatal: could not read Username for 'https://github.com': No such device or address\n",
      "'\n"
     ]
    },
    {
     "name": "stderr",
     "output_type": "stream",
     "text": [
      " 73%|███████▎  | 33576/46292 [22:02:27<3:47:39,  1.07s/it]"
     ]
    },
    {
     "name": "stdout",
     "output_type": "stream",
     "text": [
      "Cmd('git') failed due to: exit code(128)\n",
      "  cmdline: git clone -v https://github.com/Goluck-Konuko/dac repos/Goluck-Konuko/dac\n",
      "  stderr: 'Cloning into 'repos/Goluck-Konuko/dac'...\n",
      "fatal: could not read Username for 'https://github.com': No such device or address\n",
      "'\n"
     ]
    },
    {
     "name": "stderr",
     "output_type": "stream",
     "text": [
      " 73%|███████▎  | 33579/46292 [22:02:43<13:14:53,  3.75s/it]"
     ]
    },
    {
     "name": "stdout",
     "output_type": "stream",
     "text": [
      "Cmd('git') failed due to: exit code(128)\n",
      "  cmdline: git clone -v https://github.com/tensorflow/models/tree/master/research/vid2depth repos/tensorflow/models/tree/master/research/vid2depth\n",
      "  stderr: 'Cloning into 'repos/tensorflow/models/tree/master/research/vid2depth'...\n",
      "fatal: repository 'https://github.com/tensorflow/models/tree/master/research/vid2depth/' not found\n",
      "'\n"
     ]
    },
    {
     "name": "stderr",
     "output_type": "stream",
     "text": [
      " 73%|███████▎  | 33699/46292 [22:07:08<17:02:27,  4.87s/it]"
     ]
    },
    {
     "name": "stdout",
     "output_type": "stream",
     "text": [
      "Cmd('git') failed due to: exit code(128)\n",
      "  cmdline: git clone -v https://github.com/https://bitbucket.org/beatngu13/master-thesis repos/https://bitbucket.org/beatngu13/master-thesis\n",
      "  stderr: 'Cloning into 'repos/https://bitbucket.org/beatngu13/master-thesis'...\n",
      "remote: Not Found\n",
      "fatal: repository 'https://github.com/https://bitbucket.org/beatngu13/master-thesis/' not found\n",
      "'\n"
     ]
    },
    {
     "name": "stderr",
     "output_type": "stream",
     "text": [
      " 73%|███████▎  | 33708/46292 [22:07:53<23:00:36,  6.58s/it]"
     ]
    },
    {
     "name": "stdout",
     "output_type": "stream",
     "text": [
      "Cmd('git') failed due to: exit code(128)\n",
      "  cmdline: git clone -v https://github.com/https://bitbucket.org/poloczek/finitetimesimopt repos/https://bitbucket.org/poloczek/finitetimesimopt\n",
      "  stderr: 'Cloning into 'repos/https://bitbucket.org/poloczek/finitetimesimopt'...\n",
      "remote: Not Found\n",
      "fatal: repository 'https://github.com/https://bitbucket.org/poloczek/finitetimesimopt/' not found\n",
      "'\n"
     ]
    },
    {
     "name": "stderr",
     "output_type": "stream",
     "text": [
      " 73%|███████▎  | 33715/46292 [22:07:56<4:19:32,  1.24s/it] "
     ]
    },
    {
     "name": "stdout",
     "output_type": "stream",
     "text": [
      "Cmd('git') failed due to: exit code(128)\n",
      "  cmdline: git clone -v https://github.com/https://bitbucket.org/caf/bayesstats-se repos/https://bitbucket.org/caf/bayesstats-se\n",
      "  stderr: 'Cloning into 'repos/https://bitbucket.org/caf/bayesstats-se'...\n",
      "remote: Not Found\n",
      "fatal: repository 'https://github.com/https://bitbucket.org/caf/bayesstats-se/' not found\n",
      "'\n"
     ]
    },
    {
     "name": "stderr",
     "output_type": "stream",
     "text": [
      " 73%|███████▎  | 33737/46292 [22:08:12<1:17:29,  2.70it/s]"
     ]
    },
    {
     "name": "stdout",
     "output_type": "stream",
     "text": [
      "Cmd('git') failed due to: exit code(128)\n",
      "  cmdline: git clone -v https://github.com/LS-Lab/KeYmaeraX-release/tree/master/keymaerax-core/src/main/resources/Pegasus repos/LS-Lab/KeYmaeraX-release/tree/master/keymaerax-core/src/main/resources/Pegasus\n",
      "  stderr: 'Cloning into 'repos/LS-Lab/KeYmaeraX-release/tree/master/keymaerax-core/src/main/resources/Pegasus'...\n",
      "fatal: repository 'https://github.com/LS-Lab/KeYmaeraX-release/tree/master/keymaerax-core/src/main/resources/Pegasus/' not found\n",
      "'\n"
     ]
    },
    {
     "name": "stderr",
     "output_type": "stream",
     "text": [
      " 73%|███████▎  | 33745/46292 [22:08:25<3:56:29,  1.13s/it]"
     ]
    },
    {
     "name": "stdout",
     "output_type": "stream",
     "text": [
      "Cmd('git') failed due to: exit code(128)\n",
      "  cmdline: git clone -v https://github.com/tensorflow/neural-structured-learning/tree/master/research/neural_clustering repos/tensorflow/neural-structured-learning/tree/master/research/neural_clustering\n",
      "  stderr: 'Cloning into 'repos/tensorflow/neural-structured-learning/tree/master/research/neural_clustering'...\n",
      "fatal: repository 'https://github.com/tensorflow/neural-structured-learning/tree/master/research/neural_clustering/' not found\n",
      "'\n"
     ]
    },
    {
     "name": "stderr",
     "output_type": "stream",
     "text": [
      " 73%|███████▎  | 33759/46292 [22:09:53<5:33:14,  1.60s/it] "
     ]
    },
    {
     "name": "stdout",
     "output_type": "stream",
     "text": [
      "Cmd('git') failed due to: exit code(128)\n",
      "  cmdline: git clone -v https://github.com/https://gitlab.com/InnocentBug/SOMA repos/https://gitlab.com/InnocentBug/SOMA\n",
      "  stderr: 'Cloning into 'repos/https://gitlab.com/InnocentBug/SOMA'...\n",
      "remote: Not Found\n",
      "fatal: repository 'https://github.com/https://gitlab.com/InnocentBug/SOMA/' not found\n",
      "'\n"
     ]
    },
    {
     "name": "stderr",
     "output_type": "stream",
     "text": [
      " 73%|███████▎  | 33772/46292 [22:10:05<2:57:49,  1.17it/s]"
     ]
    },
    {
     "name": "stdout",
     "output_type": "stream",
     "text": [
      "Cmd('git') failed due to: exit code(128)\n",
      "  cmdline: git clone -v https://github.com/renxiangnan/strider repos/renxiangnan/strider\n",
      "  stderr: 'Cloning into 'repos/renxiangnan/strider'...\n",
      "fatal: could not read Username for 'https://github.com': No such device or address\n",
      "'\n"
     ]
    },
    {
     "name": "stderr",
     "output_type": "stream",
     "text": [
      " 73%|███████▎  | 33804/46292 [22:10:51<3:18:42,  1.05it/s] "
     ]
    },
    {
     "name": "stdout",
     "output_type": "stream",
     "text": [
      "Cmd('git') failed due to: exit code(128)\n",
      "  cmdline: git clone -v https://github.com/https://gitlab.com/drstevenhale/izana-scintillation repos/https://gitlab.com/drstevenhale/izana-scintillation\n",
      "  stderr: 'Cloning into 'repos/https://gitlab.com/drstevenhale/izana-scintillation'...\n",
      "remote: Not Found\n",
      "fatal: repository 'https://github.com/https://gitlab.com/drstevenhale/izana-scintillation/' not found\n",
      "'\n"
     ]
    },
    {
     "name": "stderr",
     "output_type": "stream",
     "text": [
      " 73%|███████▎  | 33810/46292 [22:10:55<2:16:53,  1.52it/s]"
     ]
    },
    {
     "name": "stdout",
     "output_type": "stream",
     "text": [
      "Cmd('git') failed due to: exit code(128)\n",
      "  cmdline: git clone -v https://github.com/https://gitlab.com/acclab/gap-data repos/https://gitlab.com/acclab/gap-data\n",
      "  stderr: 'Cloning into 'repos/https://gitlab.com/acclab/gap-data'...\n",
      "remote: Not Found\n",
      "fatal: repository 'https://github.com/https://gitlab.com/acclab/gap-data/' not found\n",
      "'\n"
     ]
    },
    {
     "name": "stderr",
     "output_type": "stream",
     "text": [
      " 73%|███████▎  | 33820/46292 [22:11:02<2:33:14,  1.36it/s]"
     ]
    },
    {
     "name": "stdout",
     "output_type": "stream",
     "text": [
      "Cmd('git') failed due to: exit code(128)\n",
      "  cmdline: git clone -v https://github.com/https://bitbucket.org/julianrenner/ir_decoder repos/https://bitbucket.org/julianrenner/ir_decoder\n",
      "  stderr: 'Cloning into 'repos/https://bitbucket.org/julianrenner/ir_decoder'...\n",
      "remote: Not Found\n",
      "fatal: repository 'https://github.com/https://bitbucket.org/julianrenner/ir_decoder/' not found\n",
      "'\n"
     ]
    },
    {
     "name": "stderr",
     "output_type": "stream",
     "text": [
      " 73%|███████▎  | 33857/46292 [22:12:48<3:11:18,  1.08it/s] "
     ]
    },
    {
     "name": "stdout",
     "output_type": "stream",
     "text": [
      "Cmd('git') failed due to: exit code(128)\n",
      "  cmdline: git clone -v https://github.com/https://bitbucket.org/mkerber/mpfree repos/https://bitbucket.org/mkerber/mpfree\n",
      "  stderr: 'Cloning into 'repos/https://bitbucket.org/mkerber/mpfree'...\n",
      "remote: Not Found\n",
      "fatal: repository 'https://github.com/https://bitbucket.org/mkerber/mpfree/' not found\n",
      "'\n"
     ]
    },
    {
     "name": "stderr",
     "output_type": "stream",
     "text": [
      " 73%|███████▎  | 33862/46292 [22:12:58<5:35:57,  1.62s/it]"
     ]
    },
    {
     "name": "stdout",
     "output_type": "stream",
     "text": [
      "Cmd('git') failed due to: exit code(128)\n",
      "  cmdline: git clone -v https://github.com/https://bitbucket.org/nemmen/adaf-code repos/https://bitbucket.org/nemmen/adaf-code\n",
      "  stderr: 'Cloning into 'repos/https://bitbucket.org/nemmen/adaf-code'...\n",
      "remote: Not Found\n",
      "fatal: repository 'https://github.com/https://bitbucket.org/nemmen/adaf-code/' not found\n",
      "'\n"
     ]
    },
    {
     "name": "stderr",
     "output_type": "stream",
     "text": [
      " 73%|███████▎  | 33868/46292 [22:13:38<13:02:12,  3.78s/it]"
     ]
    },
    {
     "name": "stdout",
     "output_type": "stream",
     "text": [
      "Cmd('git') failed due to: exit code(128)\n",
      "  cmdline: git clone -v https://github.com/https://gitlab.com/rwth-irt-public/edubalembedded repos/https://gitlab.com/rwth-irt-public/edubalembedded\n",
      "  stderr: 'Cloning into 'repos/https://gitlab.com/rwth-irt-public/edubalembedded'...\n",
      "remote: Not Found\n",
      "fatal: repository 'https://github.com/https://gitlab.com/rwth-irt-public/edubalembedded/' not found\n",
      "'\n"
     ]
    },
    {
     "name": "stderr",
     "output_type": "stream",
     "text": [
      " 73%|███████▎  | 33899/46292 [22:15:03<6:25:55,  1.87s/it] "
     ]
    },
    {
     "name": "stdout",
     "output_type": "stream",
     "text": [
      "Cmd('git') failed due to: exit code(128)\n",
      "  cmdline: git clone -v https://github.com/https://bitbucket.org/sebastianopadovan/planetary-fluid-love-numbers repos/https://bitbucket.org/sebastianopadovan/planetary-fluid-love-numbers\n",
      "  stderr: 'Cloning into 'repos/https://bitbucket.org/sebastianopadovan/planetary-fluid-love-numbers'...\n",
      "remote: Not Found\n",
      "fatal: repository 'https://github.com/https://bitbucket.org/sebastianopadovan/planetary-fluid-love-numbers/' not found\n",
      "'\n"
     ]
    },
    {
     "name": "stderr",
     "output_type": "stream",
     "text": [
      " 73%|███████▎  | 33906/46292 [22:15:44<7:25:32,  2.16s/it] "
     ]
    },
    {
     "name": "stdout",
     "output_type": "stream",
     "text": [
      "Cmd('git') failed due to: exit code(128)\n",
      "  cmdline: git clone -v https://github.com/https://gitlab.com/acclab/gap-data repos/https://gitlab.com/acclab/gap-data\n",
      "  stderr: 'Cloning into 'repos/https://gitlab.com/acclab/gap-data'...\n",
      "remote: Not Found\n",
      "fatal: repository 'https://github.com/https://gitlab.com/acclab/gap-data/' not found\n",
      "'\n"
     ]
    },
    {
     "name": "stderr",
     "output_type": "stream",
     "text": [
      "\r",
      " 73%|███████▎  | 33907/46292 [22:15:44<5:29:41,  1.60s/it]"
     ]
    },
    {
     "name": "stdout",
     "output_type": "stream",
     "text": [
      "Cmd('git') failed due to: exit code(128)\n",
      "  cmdline: git clone -v https://github.com/https://gitlab.com/klb2/reliability-bounds-dependent-fading-channels repos/https://gitlab.com/klb2/reliability-bounds-dependent-fading-channels\n",
      "  stderr: 'Cloning into 'repos/https://gitlab.com/klb2/reliability-bounds-dependent-fading-channels'...\n",
      "remote: Not Found\n",
      "fatal: repository 'https://github.com/https://gitlab.com/klb2/reliability-bounds-dependent-fading-channels/' not found\n",
      "'\n"
     ]
    },
    {
     "name": "stderr",
     "output_type": "stream",
     "text": [
      " 73%|███████▎  | 33919/46292 [22:16:45<8:29:19,  2.47s/it] "
     ]
    },
    {
     "name": "stdout",
     "output_type": "stream",
     "text": [
      "Cmd('git') failed due to: exit code(128)\n",
      "  cmdline: git clone -v https://github.com/https://bitbucket.org/bigfootproject/schedsim repos/https://bitbucket.org/bigfootproject/schedsim\n",
      "  stderr: 'Cloning into 'repos/https://bitbucket.org/bigfootproject/schedsim'...\n",
      "remote: Not Found\n",
      "fatal: repository 'https://github.com/https://bitbucket.org/bigfootproject/schedsim/' not found\n",
      "'\n"
     ]
    },
    {
     "name": "stderr",
     "output_type": "stream",
     "text": [
      " 73%|███████▎  | 33935/46292 [22:17:37<10:56:41,  3.19s/it]"
     ]
    },
    {
     "name": "stdout",
     "output_type": "stream",
     "text": [
      "Cmd('git') failed due to: exit code(128)\n",
      "  cmdline: git clone -v https://github.com/https://gitlab.com/tgpublic/topktraj repos/https://gitlab.com/tgpublic/topktraj\n",
      "  stderr: 'Cloning into 'repos/https://gitlab.com/tgpublic/topktraj'...\n",
      "remote: Not Found\n",
      "fatal: repository 'https://github.com/https://gitlab.com/tgpublic/topktraj/' not found\n",
      "'\n"
     ]
    },
    {
     "name": "stderr",
     "output_type": "stream",
     "text": [
      " 73%|███████▎  | 33940/46292 [22:17:43<5:25:17,  1.58s/it] "
     ]
    },
    {
     "name": "stdout",
     "output_type": "stream",
     "text": [
      "Cmd('git') failed due to: exit code(128)\n",
      "  cmdline: git clone -v https://github.com/https://bitbucket.org/mkerber/mpfree repos/https://bitbucket.org/mkerber/mpfree\n",
      "  stderr: 'Cloning into 'repos/https://bitbucket.org/mkerber/mpfree'...\n",
      "remote: Not Found\n",
      "fatal: repository 'https://github.com/https://bitbucket.org/mkerber/mpfree/' not found\n",
      "'\n"
     ]
    },
    {
     "name": "stderr",
     "output_type": "stream",
     "text": [
      " 73%|███████▎  | 33974/46292 [22:19:43<3:40:11,  1.07s/it] "
     ]
    },
    {
     "name": "stdout",
     "output_type": "stream",
     "text": [
      "Cmd('git') failed due to: exit code(128)\n",
      "  cmdline: git clone -v https://github.com/https://bitbucket.org/isshakayo/lognormal_lens repos/https://bitbucket.org/isshakayo/lognormal_lens\n",
      "  stderr: 'Cloning into 'repos/https://bitbucket.org/isshakayo/lognormal_lens'...\n",
      "remote: Not Found\n",
      "fatal: repository 'https://github.com/https://bitbucket.org/isshakayo/lognormal_lens/' not found\n",
      "'\n"
     ]
    },
    {
     "name": "stderr",
     "output_type": "stream",
     "text": [
      " 73%|███████▎  | 33980/46292 [22:19:49<3:55:51,  1.15s/it]"
     ]
    },
    {
     "name": "stdout",
     "output_type": "stream",
     "text": [
      "Cmd('git') failed due to: exit code(128)\n",
      "  cmdline: git clone -v https://github.com/back8/github_adamian98_pulse repos/back8/github_adamian98_pulse\n",
      "  stderr: 'Cloning into 'repos/back8/github_adamian98_pulse'...\n",
      "fatal: could not read Username for 'https://github.com': No such device or address\n",
      "'\n"
     ]
    },
    {
     "name": "stderr",
     "output_type": "stream",
     "text": [
      " 74%|███████▎  | 34040/46292 [22:22:03<3:30:29,  1.03s/it] "
     ]
    },
    {
     "name": "stdout",
     "output_type": "stream",
     "text": [
      "Cmd('git') failed due to: exit code(128)\n",
      "  cmdline: git clone -v https://github.com/https://gitlab.com/dartmouthrobotics/PuzzleFlex.jl repos/https://gitlab.com/dartmouthrobotics/PuzzleFlex.jl\n",
      "  stderr: 'Cloning into 'repos/https://gitlab.com/dartmouthrobotics/PuzzleFlex.jl'...\n",
      "remote: Not Found\n",
      "fatal: repository 'https://github.com/https://gitlab.com/dartmouthrobotics/PuzzleFlex.jl/' not found\n",
      "'\n"
     ]
    },
    {
     "name": "stderr",
     "output_type": "stream",
     "text": [
      " 74%|███████▎  | 34049/46292 [22:23:23<15:02:49,  4.42s/it]"
     ]
    },
    {
     "name": "stdout",
     "output_type": "stream",
     "text": [
      "Cmd('git') failed due to: exit code(128)\n",
      "  cmdline: git clone -v https://github.com/https://gitlab.com/montanari/stream-dm repos/https://gitlab.com/montanari/stream-dm\n",
      "  stderr: 'Cloning into 'repos/https://gitlab.com/montanari/stream-dm'...\n",
      "remote: Not Found\n",
      "fatal: repository 'https://github.com/https://gitlab.com/montanari/stream-dm/' not found\n",
      "'\n",
      "Cmd('git') failed due to: exit code(128)\n",
      "  cmdline: git clone -v https://github.com/https://gitlab.com/montanari/stream-dm repos/https://gitlab.com/montanari/stream-dm\n",
      "  stderr: 'Cloning into 'repos/https://gitlab.com/montanari/stream-dm'...\n",
      "remote: Not Found\n",
      "fatal: repository 'https://github.com/https://gitlab.com/montanari/stream-dm/' not found\n",
      "'\n"
     ]
    },
    {
     "name": "stderr",
     "output_type": "stream",
     "text": [
      " 74%|███████▎  | 34080/46292 [22:24:33<5:39:28,  1.67s/it] "
     ]
    },
    {
     "name": "stdout",
     "output_type": "stream",
     "text": [
      "Cmd('git') failed due to: exit code(128)\n",
      "  cmdline: git clone -v https://github.com/huawei-noah/ghostnet/tree/master/tinynet_pytorch repos/huawei-noah/ghostnet/tree/master/tinynet_pytorch\n",
      "  stderr: 'Cloning into 'repos/huawei-noah/ghostnet/tree/master/tinynet_pytorch'...\n",
      "fatal: repository 'https://github.com/huawei-noah/ghostnet/tree/master/tinynet_pytorch/' not found\n",
      "'\n"
     ]
    },
    {
     "name": "stderr",
     "output_type": "stream",
     "text": [
      " 74%|███████▎  | 34083/46292 [22:24:40<6:13:12,  1.83s/it]"
     ]
    },
    {
     "name": "stdout",
     "output_type": "stream",
     "text": [
      "Cmd('git') failed due to: exit code(128)\n",
      "  cmdline: git clone -v https://github.com/Filbra/Google-Colab-GEEPY_PalaeoLandscape repos/Filbra/Google-Colab-GEEPY_PalaeoLandscape\n",
      "  stderr: 'Cloning into 'repos/Filbra/Google-Colab-GEEPY_PalaeoLandscape'...\n",
      "fatal: could not read Username for 'https://github.com': No such device or address\n",
      "'\n"
     ]
    },
    {
     "name": "stderr",
     "output_type": "stream",
     "text": [
      " 74%|███████▎  | 34096/46292 [22:25:22<10:59:20,  3.24s/it]"
     ]
    },
    {
     "name": "stdout",
     "output_type": "stream",
     "text": [
      "Cmd('git') failed due to: exit code(128)\n",
      "  cmdline: git clone -v https://github.com/salvaRC/ProjectX_ENSO_GNN repos/salvaRC/ProjectX_ENSO_GNN\n",
      "  stderr: 'Cloning into 'repos/salvaRC/ProjectX_ENSO_GNN'...\n",
      "fatal: could not read Username for 'https://github.com': No such device or address\n",
      "'\n"
     ]
    },
    {
     "name": "stderr",
     "output_type": "stream",
     "text": [
      " 74%|███████▎  | 34116/46292 [22:25:47<2:22:35,  1.42it/s] "
     ]
    },
    {
     "name": "stdout",
     "output_type": "stream",
     "text": [
      "Cmd('git') failed due to: exit code(128)\n",
      "  cmdline: git clone -v https://github.com/https://zenodo.org/record/3647615 repos/https://zenodo.org/record/3647615\n",
      "  stderr: 'Cloning into 'repos/https://zenodo.org/record/3647615'...\n",
      "remote: Not Found\n",
      "fatal: repository 'https://github.com/https://zenodo.org/record/3647615/' not found\n",
      "'\n"
     ]
    },
    {
     "name": "stderr",
     "output_type": "stream",
     "text": [
      " 74%|███████▍  | 34145/46292 [22:27:09<10:39:46,  3.16s/it]"
     ]
    },
    {
     "name": "stdout",
     "output_type": "stream",
     "text": [
      "Cmd('git') failed due to: exit code(128)\n",
      "  cmdline: git clone -v https://github.com/xavierpuigf/agent_preferences repos/xavierpuigf/agent_preferences\n",
      "  stderr: 'Cloning into 'repos/xavierpuigf/agent_preferences'...\n",
      "fatal: could not read Username for 'https://github.com': No such device or address\n",
      "'\n"
     ]
    },
    {
     "name": "stderr",
     "output_type": "stream",
     "text": [
      " 74%|███████▍  | 34160/46292 [22:27:37<5:37:37,  1.67s/it] "
     ]
    },
    {
     "name": "stdout",
     "output_type": "stream",
     "text": [
      "Cmd('git') failed due to: exit code(128)\n",
      "  cmdline: git clone -v https://github.com/deepinsight/insightface/tree/master/recognition/SubCenter-ArcFace repos/deepinsight/insightface/tree/master/recognition/SubCenter-ArcFace\n",
      "  stderr: 'Cloning into 'repos/deepinsight/insightface/tree/master/recognition/SubCenter-ArcFace'...\n",
      "fatal: repository 'https://github.com/deepinsight/insightface/tree/master/recognition/SubCenter-ArcFace/' not found\n",
      "'\n"
     ]
    },
    {
     "name": "stderr",
     "output_type": "stream",
     "text": [
      " 74%|███████▍  | 34163/46292 [22:27:38<3:07:00,  1.08it/s]"
     ]
    },
    {
     "name": "stdout",
     "output_type": "stream",
     "text": [
      "Cmd('git') failed due to: exit code(128)\n",
      "  cmdline: git clone -v https://github.com/https://gitlab.com/innerve/sperm-motility-analysis repos/https://gitlab.com/innerve/sperm-motility-analysis\n",
      "  stderr: 'Cloning into 'repos/https://gitlab.com/innerve/sperm-motility-analysis'...\n",
      "remote: Not Found\n",
      "fatal: repository 'https://github.com/https://gitlab.com/innerve/sperm-motility-analysis/' not found\n",
      "'\n"
     ]
    },
    {
     "name": "stderr",
     "output_type": "stream",
     "text": [
      " 74%|███████▍  | 34189/46292 [22:28:17<2:19:22,  1.45it/s] "
     ]
    },
    {
     "name": "stdout",
     "output_type": "stream",
     "text": [
      "Cmd('git') failed due to: exit code(128)\n",
      "  cmdline: git clone -v https://github.com/Joey-Exe/L-PAW repos/Joey-Exe/L-PAW\n",
      "  stderr: 'Cloning into 'repos/Joey-Exe/L-PAW'...\n",
      "fatal: could not read Username for 'https://github.com': No such device or address\n",
      "'\n"
     ]
    },
    {
     "name": "stderr",
     "output_type": "stream",
     "text": [
      " 74%|███████▍  | 34340/46292 [22:33:25<5:35:31,  1.68s/it] "
     ]
    },
    {
     "name": "stdout",
     "output_type": "stream",
     "text": [
      "Cmd('git') failed due to: exit code(128)\n",
      "  cmdline: git clone -v https://github.com/Hugodovs/meta-blackbox-optimization repos/Hugodovs/meta-blackbox-optimization\n",
      "  stderr: 'Cloning into 'repos/Hugodovs/meta-blackbox-optimization'...\n",
      "fatal: could not read Username for 'https://github.com': No such device or address\n",
      "'\n"
     ]
    },
    {
     "name": "stderr",
     "output_type": "stream",
     "text": [
      " 74%|███████▍  | 34384/46292 [22:35:33<3:11:10,  1.04it/s] "
     ]
    },
    {
     "name": "stdout",
     "output_type": "stream",
     "text": [
      "Cmd('git') failed due to: exit code(128)\n",
      "  cmdline: git clone -v https://github.com/eukaryote31/wgan-gp-conditional repos/eukaryote31/wgan-gp-conditional\n",
      "  stderr: 'Cloning into 'repos/eukaryote31/wgan-gp-conditional'...\n",
      "fatal: could not read Username for 'https://github.com': No such device or address\n",
      "'\n"
     ]
    },
    {
     "name": "stderr",
     "output_type": "stream",
     "text": [
      " 74%|███████▍  | 34425/46292 [22:36:52<4:59:52,  1.52s/it] "
     ]
    },
    {
     "name": "stdout",
     "output_type": "stream",
     "text": [
      "Cmd('git') failed due to: exit code(128)\n",
      "  cmdline: git clone -v https://github.com/zly9844/py-faster-rcnn repos/zly9844/py-faster-rcnn\n",
      "  stderr: 'Cloning into 'repos/zly9844/py-faster-rcnn'...\n",
      "fatal: could not read Username for 'https://github.com': No such device or address\n",
      "'\n"
     ]
    },
    {
     "name": "stderr",
     "output_type": "stream",
     "text": [
      " 75%|███████▌  | 34810/46292 [22:56:38<2:10:06,  1.47it/s]  "
     ]
    },
    {
     "name": "stdout",
     "output_type": "stream",
     "text": [
      "Cmd('git') failed due to: exit code(128)\n",
      "  cmdline: git clone -v https://github.com/ferhatkkochan/pneumonia_classifier repos/ferhatkkochan/pneumonia_classifier\n",
      "  stderr: 'Cloning into 'repos/ferhatkkochan/pneumonia_classifier'...\n",
      "fatal: could not read Username for 'https://github.com': No such device or address\n",
      "'\n"
     ]
    },
    {
     "name": "stderr",
     "output_type": "stream",
     "text": [
      " 76%|███████▌  | 34952/46292 [23:02:27<3:15:32,  1.03s/it] "
     ]
    },
    {
     "name": "stdout",
     "output_type": "stream",
     "text": [
      "Cmd('git') failed due to: exit code(128)\n",
      "  cmdline: git clone -v https://github.com/Hugodovs/meta-blackbox-optimization repos/Hugodovs/meta-blackbox-optimization\n",
      "  stderr: 'Cloning into 'repos/Hugodovs/meta-blackbox-optimization'...\n",
      "fatal: could not read Username for 'https://github.com': No such device or address\n",
      "'\n"
     ]
    },
    {
     "name": "stderr",
     "output_type": "stream",
     "text": [
      "\r",
      " 76%|███████▌  | 34953/46292 [23:02:27<2:39:25,  1.19it/s]"
     ]
    },
    {
     "name": "stdout",
     "output_type": "stream",
     "text": [
      "Cmd('git') failed due to: exit code(128)\n",
      "  cmdline: git clone -v https://github.com/Hugodovs/meta-blackbox-optimization repos/Hugodovs/meta-blackbox-optimization\n",
      "  stderr: 'Cloning into 'repos/Hugodovs/meta-blackbox-optimization'...\n",
      "fatal: could not read Username for 'https://github.com': No such device or address\n",
      "'\n"
     ]
    },
    {
     "name": "stderr",
     "output_type": "stream",
     "text": [
      " 76%|███████▌  | 35051/46292 [23:07:56<3:41:05,  1.18s/it] "
     ]
    },
    {
     "name": "stdout",
     "output_type": "stream",
     "text": [
      "Cmd('git') failed due to: exit code(128)\n",
      "  cmdline: git clone -v https://github.com/https://gitlab.com/e62Lab/medusa repos/https://gitlab.com/e62Lab/medusa\n",
      "  stderr: 'Cloning into 'repos/https://gitlab.com/e62Lab/medusa'...\n",
      "remote: Not Found\n",
      "fatal: repository 'https://github.com/https://gitlab.com/e62Lab/medusa/' not found\n",
      "'\n"
     ]
    },
    {
     "name": "stderr",
     "output_type": "stream",
     "text": [
      " 76%|███████▌  | 35072/46292 [23:08:33<4:39:29,  1.49s/it] "
     ]
    },
    {
     "name": "stdout",
     "output_type": "stream",
     "text": [
      "Cmd('git') failed due to: exit code(128)\n",
      "  cmdline: git clone -v https://github.com/rwth-i6/returnn-experiments/tree/master/2019-librispeech-system repos/rwth-i6/returnn-experiments/tree/master/2019-librispeech-system\n",
      "  stderr: 'Cloning into 'repos/rwth-i6/returnn-experiments/tree/master/2019-librispeech-system'...\n",
      "fatal: repository 'https://github.com/rwth-i6/returnn-experiments/tree/master/2019-librispeech-system/' not found\n",
      "'\n"
     ]
    },
    {
     "name": "stderr",
     "output_type": "stream",
     "text": [
      " 76%|███████▌  | 35080/46292 [23:08:43<4:11:53,  1.35s/it]"
     ]
    },
    {
     "name": "stdout",
     "output_type": "stream",
     "text": [
      "Cmd('git') failed due to: exit code(128)\n",
      "  cmdline: git clone -v https://github.com/Hugodovs/meta-blackbox-optimization repos/Hugodovs/meta-blackbox-optimization\n",
      "  stderr: 'Cloning into 'repos/Hugodovs/meta-blackbox-optimization'...\n",
      "fatal: could not read Username for 'https://github.com': No such device or address\n",
      "'\n"
     ]
    },
    {
     "name": "stderr",
     "output_type": "stream",
     "text": [
      " 76%|███████▌  | 35126/46292 [23:09:58<5:56:18,  1.91s/it] "
     ]
    },
    {
     "name": "stdout",
     "output_type": "stream",
     "text": [
      "Cmd('git') failed due to: exit code(128)\n",
      "  cmdline: git clone -v https://github.com/PacktPublishing/Hands-On-Image-Generation-with-TensorFlow-2.0/tree/master/Chapter05 repos/PacktPublishing/Hands-On-Image-Generation-with-TensorFlow-2.0/tree/master/Chapter05\n",
      "  stderr: 'Cloning into 'repos/PacktPublishing/Hands-On-Image-Generation-with-TensorFlow-2.0/tree/master/Chapter05'...\n",
      "fatal: repository 'https://github.com/PacktPublishing/Hands-On-Image-Generation-with-TensorFlow-2.0/tree/master/Chapter05/' not found\n",
      "'\n"
     ]
    },
    {
     "name": "stderr",
     "output_type": "stream",
     "text": [
      " 76%|███████▌  | 35134/46292 [23:10:05<2:12:00,  1.41it/s]"
     ]
    },
    {
     "name": "stdout",
     "output_type": "stream",
     "text": [
      "Cmd('git') failed due to: exit code(128)\n",
      "  cmdline: git clone -v https://github.com/PacktPublishing/Hands-On-Image-Generation-with-TensorFlow-2.0/tree/master/Chapter05 repos/PacktPublishing/Hands-On-Image-Generation-with-TensorFlow-2.0/tree/master/Chapter05\n",
      "  stderr: 'Cloning into 'repos/PacktPublishing/Hands-On-Image-Generation-with-TensorFlow-2.0/tree/master/Chapter05'...\n",
      "fatal: repository 'https://github.com/PacktPublishing/Hands-On-Image-Generation-with-TensorFlow-2.0/tree/master/Chapter05/' not found\n",
      "'\n"
     ]
    },
    {
     "name": "stderr",
     "output_type": "stream",
     "text": [
      " 76%|███████▌  | 35239/46292 [23:13:44<4:51:54,  1.58s/it] "
     ]
    },
    {
     "name": "stdout",
     "output_type": "stream",
     "text": [
      "Cmd('git') failed due to: exit code(128)\n",
      "  cmdline: git clone -v https://github.com/ferhatkkochan/pneumonia_classifier repos/ferhatkkochan/pneumonia_classifier\n",
      "  stderr: 'Cloning into 'repos/ferhatkkochan/pneumonia_classifier'...\n",
      "fatal: could not read Username for 'https://github.com': No such device or address\n",
      "'\n"
     ]
    },
    {
     "name": "stderr",
     "output_type": "stream",
     "text": [
      " 76%|███████▌  | 35243/46292 [23:13:48<3:31:22,  1.15s/it]"
     ]
    },
    {
     "name": "stdout",
     "output_type": "stream",
     "text": [
      "Cmd('git') failed due to: exit code(128)\n",
      "  cmdline: git clone -v https://github.com/keel-keywordextraction-entitylinking/keywordExtraction repos/keel-keywordextraction-entitylinking/keywordExtraction\n",
      "  stderr: 'Cloning into 'repos/keel-keywordextraction-entitylinking/keywordExtraction'...\n",
      "fatal: could not read Username for 'https://github.com': No such device or address\n",
      "'\n"
     ]
    },
    {
     "name": "stderr",
     "output_type": "stream",
     "text": [
      " 76%|███████▌  | 35275/46292 [23:14:34<6:05:05,  1.99s/it] "
     ]
    },
    {
     "name": "stdout",
     "output_type": "stream",
     "text": [
      "Cmd('git') failed due to: exit code(128)\n",
      "  cmdline: git clone -v https://github.com/zilongzheng/visdial-rl repos/zilongzheng/visdial-rl\n",
      "  stderr: 'Cloning into 'repos/zilongzheng/visdial-rl'...\n",
      "fatal: could not read Username for 'https://github.com': No such device or address\n",
      "'\n"
     ]
    },
    {
     "name": "stderr",
     "output_type": "stream",
     "text": [
      " 76%|███████▌  | 35288/46292 [23:15:06<4:10:51,  1.37s/it] "
     ]
    },
    {
     "name": "stdout",
     "output_type": "stream",
     "text": [
      "Cmd('git') failed due to: exit code(128)\n",
      "  cmdline: git clone -v https://github.com/florayym/proficiency-aware-madrl repos/florayym/proficiency-aware-madrl\n",
      "  stderr: 'Cloning into 'repos/florayym/proficiency-aware-madrl'...\n",
      "fatal: could not read Username for 'https://github.com': No such device or address\n",
      "'\n"
     ]
    },
    {
     "name": "stderr",
     "output_type": "stream",
     "text": [
      " 76%|███████▋  | 35403/46292 [23:19:39<1:53:01,  1.61it/s] "
     ]
    },
    {
     "name": "stdout",
     "output_type": "stream",
     "text": [
      "Cmd('git') failed due to: exit code(128)\n",
      "  cmdline: git clone -v https://github.com/lucylow/Ms.Robot repos/lucylow/Ms.Robot\n",
      "  stderr: 'Cloning into 'repos/lucylow/Ms.Robot'...\n",
      "fatal: could not read Username for 'https://github.com': No such device or address\n",
      "'\n"
     ]
    },
    {
     "name": "stderr",
     "output_type": "stream",
     "text": [
      " 77%|███████▋  | 35433/46292 [23:20:50<1:32:59,  1.95it/s] "
     ]
    },
    {
     "name": "stdout",
     "output_type": "stream",
     "text": [
      "Cmd('git') failed due to: exit code(128)\n",
      "  cmdline: git clone -v https://github.com/https://code.engineering.queensu.ca/17ps21/SSL-ECG repos/https://code.engineering.queensu.ca/17ps21/SSL-ECG\n",
      "  stderr: 'Cloning into 'repos/https://code.engineering.queensu.ca/17ps21/SSL-ECG'...\n",
      "remote: Not Found\n",
      "fatal: repository 'https://github.com/https://code.engineering.queensu.ca/17ps21/SSL-ECG/' not found\n",
      "'\n"
     ]
    },
    {
     "name": "stderr",
     "output_type": "stream",
     "text": [
      " 77%|███████▋  | 35435/46292 [23:20:51<1:33:48,  1.93it/s]"
     ]
    },
    {
     "name": "stdout",
     "output_type": "stream",
     "text": [
      "Cmd('git') failed due to: exit code(128)\n",
      "  cmdline: git clone -v https://github.com/https://code.engineering.queensu.ca/17ps21/SSL-ECG repos/https://code.engineering.queensu.ca/17ps21/SSL-ECG\n",
      "  stderr: 'Cloning into 'repos/https://code.engineering.queensu.ca/17ps21/SSL-ECG'...\n",
      "remote: Not Found\n",
      "fatal: repository 'https://github.com/https://code.engineering.queensu.ca/17ps21/SSL-ECG/' not found\n",
      "'\n"
     ]
    },
    {
     "name": "stderr",
     "output_type": "stream",
     "text": [
      " 77%|███████▋  | 35450/46292 [23:20:59<1:18:58,  2.29it/s]"
     ]
    },
    {
     "name": "stdout",
     "output_type": "stream",
     "text": [
      "Cmd('git') failed due to: exit code(128)\n",
      "  cmdline: git clone -v https://github.com/https://worksheets.codalab.org/worksheets/0x2ae89944846444539c2d08a0b7ff3f6f repos/https://worksheets.codalab.org/worksheets/0x2ae89944846444539c2d08a0b7ff3f6f\n",
      "  stderr: 'Cloning into 'repos/https://worksheets.codalab.org/worksheets/0x2ae89944846444539c2d08a0b7ff3f6f'...\n",
      "remote: Not Found\n",
      "fatal: repository 'https://github.com/https://worksheets.codalab.org/worksheets/0x2ae89944846444539c2d08a0b7ff3f6f/' not found\n",
      "'\n"
     ]
    },
    {
     "name": "stderr",
     "output_type": "stream",
     "text": [
      " 77%|███████▋  | 35459/46292 [23:21:10<3:02:41,  1.01s/it]"
     ]
    },
    {
     "name": "stdout",
     "output_type": "stream",
     "text": [
      "Cmd('git') failed due to: exit code(128)\n",
      "  cmdline: git clone -v https://github.com/https://worksheets.codalab.org/worksheets/0x9df253b24dac4a2b930108be9c6e5496 repos/https://worksheets.codalab.org/worksheets/0x9df253b24dac4a2b930108be9c6e5496\n",
      "  stderr: 'Cloning into 'repos/https://worksheets.codalab.org/worksheets/0x9df253b24dac4a2b930108be9c6e5496'...\n",
      "remote: Not Found\n",
      "fatal: repository 'https://github.com/https://worksheets.codalab.org/worksheets/0x9df253b24dac4a2b930108be9c6e5496/' not found\n",
      "'\n"
     ]
    },
    {
     "name": "stderr",
     "output_type": "stream",
     "text": [
      " 77%|███████▋  | 35464/46292 [23:21:15<3:01:12,  1.00s/it]"
     ]
    },
    {
     "name": "stdout",
     "output_type": "stream",
     "text": [
      "Cmd('git') failed due to: exit code(128)\n",
      "  cmdline: git clone -v https://github.com/https://worksheets.codalab.org/worksheets/0xbf8f4f5b42e54eba9921f7654b3c5c5d repos/https://worksheets.codalab.org/worksheets/0xbf8f4f5b42e54eba9921f7654b3c5c5d\n",
      "  stderr: 'Cloning into 'repos/https://worksheets.codalab.org/worksheets/0xbf8f4f5b42e54eba9921f7654b3c5c5d'...\n",
      "remote: Not Found\n",
      "fatal: repository 'https://github.com/https://worksheets.codalab.org/worksheets/0xbf8f4f5b42e54eba9921f7654b3c5c5d/' not found\n",
      "'\n"
     ]
    },
    {
     "name": "stderr",
     "output_type": "stream",
     "text": [
      "\r",
      " 77%|███████▋  | 35465/46292 [23:21:15<2:30:14,  1.20it/s]"
     ]
    },
    {
     "name": "stdout",
     "output_type": "stream",
     "text": [
      "Cmd('git') failed due to: exit code(128)\n",
      "  cmdline: git clone -v https://github.com/https://worksheets.codalab.org/worksheets/0x900e7e41deaa4ec5b2fe41dc50594548 repos/https://worksheets.codalab.org/worksheets/0x900e7e41deaa4ec5b2fe41dc50594548\n",
      "  stderr: 'Cloning into 'repos/https://worksheets.codalab.org/worksheets/0x900e7e41deaa4ec5b2fe41dc50594548'...\n",
      "remote: Not Found\n",
      "fatal: repository 'https://github.com/https://worksheets.codalab.org/worksheets/0x900e7e41deaa4ec5b2fe41dc50594548/' not found\n",
      "'\n"
     ]
    },
    {
     "name": "stderr",
     "output_type": "stream",
     "text": [
      " 77%|███████▋  | 35469/46292 [23:21:21<3:43:40,  1.24s/it]"
     ]
    },
    {
     "name": "stdout",
     "output_type": "stream",
     "text": [
      "Cmd('git') failed due to: exit code(128)\n",
      "  cmdline: git clone -v https://github.com/https://worksheets.codalab.org/worksheets/0x88c914ee1d4b4a4587a07f36f090f3e5 repos/https://worksheets.codalab.org/worksheets/0x88c914ee1d4b4a4587a07f36f090f3e5\n",
      "  stderr: 'Cloning into 'repos/https://worksheets.codalab.org/worksheets/0x88c914ee1d4b4a4587a07f36f090f3e5'...\n",
      "remote: Not Found\n",
      "fatal: repository 'https://github.com/https://worksheets.codalab.org/worksheets/0x88c914ee1d4b4a4587a07f36f090f3e5/' not found\n",
      "'\n"
     ]
    },
    {
     "name": "stderr",
     "output_type": "stream",
     "text": [
      " 77%|███████▋  | 35476/46292 [23:21:48<12:03:28,  4.01s/it]"
     ]
    },
    {
     "name": "stdout",
     "output_type": "stream",
     "text": [
      "Cmd('git') failed due to: exit code(128)\n",
      "  cmdline: git clone -v https://github.com/https://worksheets.codalab.org/worksheets/0xb0c351d6f1ac4c51b54f1023786bf6b2 repos/https://worksheets.codalab.org/worksheets/0xb0c351d6f1ac4c51b54f1023786bf6b2\n",
      "  stderr: 'Cloning into 'repos/https://worksheets.codalab.org/worksheets/0xb0c351d6f1ac4c51b54f1023786bf6b2'...\n",
      "remote: Not Found\n",
      "fatal: repository 'https://github.com/https://worksheets.codalab.org/worksheets/0xb0c351d6f1ac4c51b54f1023786bf6b2/' not found\n",
      "'\n"
     ]
    },
    {
     "name": "stderr",
     "output_type": "stream",
     "text": [
      " 77%|███████▋  | 35750/46292 [23:36:18<10:16:17,  3.51s/it] "
     ]
    },
    {
     "name": "stdout",
     "output_type": "stream",
     "text": [
      "Cmd('git') failed due to: exit code(128)\n",
      "  cmdline: git clone -v https://github.com/luanshiyinyang/VGGNet repos/luanshiyinyang/VGGNet\n",
      "  stderr: 'Cloning into 'repos/luanshiyinyang/VGGNet'...\n",
      "fatal: could not read Username for 'https://github.com': No such device or address\n",
      "'\n"
     ]
    },
    {
     "name": "stderr",
     "output_type": "stream",
     "text": [
      " 77%|███████▋  | 35771/46292 [23:36:52<2:12:35,  1.32it/s] "
     ]
    },
    {
     "name": "stdout",
     "output_type": "stream",
     "text": [
      "Cmd('git') failed due to: exit code(128)\n",
      "  cmdline: git clone -v https://github.com/kaize0409/pygcn repos/kaize0409/pygcn\n",
      "  stderr: 'Cloning into 'repos/kaize0409/pygcn'...\n",
      "fatal: could not read Username for 'https://github.com': No such device or address\n",
      "'\n"
     ]
    },
    {
     "name": "stderr",
     "output_type": "stream",
     "text": [
      " 78%|███████▊  | 35878/46292 [23:41:37<16:06:06,  5.57s/it]"
     ]
    },
    {
     "name": "stdout",
     "output_type": "stream",
     "text": [
      "Cmd('git') failed due to: exit code(128)\n",
      "  cmdline: git clone -v https://github.com/zly9844/py-faster-rcnn repos/zly9844/py-faster-rcnn\n",
      "  stderr: 'Cloning into 'repos/zly9844/py-faster-rcnn'...\n",
      "fatal: could not read Username for 'https://github.com': No such device or address\n",
      "'\n"
     ]
    },
    {
     "name": "stderr",
     "output_type": "stream",
     "text": [
      " 78%|███████▊  | 35948/46292 [23:44:01<2:13:59,  1.29it/s] "
     ]
    },
    {
     "name": "stdout",
     "output_type": "stream",
     "text": [
      "Cmd('git') failed due to: exit code(128)\n",
      "  cmdline: git clone -v https://github.com/apeguero1/image-gpt/blob/master/Transformers_Image_GPT.ipynb repos/apeguero1/image-gpt/blob/master/Transformers_Image_GPT.ipynb\n",
      "  stderr: 'Cloning into 'repos/apeguero1/image-gpt/blob/master/Transformers_Image_GPT.ipynb'...\n",
      "fatal: repository 'https://github.com/apeguero1/image-gpt/blob/master/Transformers_Image_GPT.ipynb/' not found\n",
      "'\n"
     ]
    },
    {
     "name": "stderr",
     "output_type": "stream",
     "text": [
      " 78%|███████▊  | 35980/46292 [23:45:16<4:52:47,  1.70s/it] "
     ]
    },
    {
     "name": "stdout",
     "output_type": "stream",
     "text": [
      "Cmd('git') failed due to: exit code(128)\n",
      "  cmdline: git clone -v https://github.com/GT9505/mmdet_new repos/GT9505/mmdet_new\n",
      "  stderr: 'Cloning into 'repos/GT9505/mmdet_new'...\n",
      "fatal: could not read Username for 'https://github.com': No such device or address\n",
      "'\n"
     ]
    },
    {
     "name": "stderr",
     "output_type": "stream",
     "text": [
      " 78%|███████▊  | 36120/46292 [23:51:18<6:23:02,  2.26s/it] "
     ]
    },
    {
     "name": "stdout",
     "output_type": "stream",
     "text": [
      "Cmd('git') failed due to: exit code(128)\n",
      "  cmdline: git clone -v https://github.com/chieh-neu/ISM_supervised_DR repos/chieh-neu/ISM_supervised_DR\n",
      "  stderr: 'Cloning into 'repos/chieh-neu/ISM_supervised_DR'...\n",
      "fatal: could not read Username for 'https://github.com': No such device or address\n",
      "'\n"
     ]
    },
    {
     "name": "stderr",
     "output_type": "stream",
     "text": [
      " 78%|███████▊  | 36144/46292 [23:53:11<2:35:26,  1.09it/s] "
     ]
    },
    {
     "name": "stdout",
     "output_type": "stream",
     "text": [
      "Cmd('git') failed due to: exit code(128)\n",
      "  cmdline: git clone -v https://github.com/jbp7/TEAM repos/jbp7/TEAM\n",
      "  stderr: 'Cloning into 'repos/jbp7/TEAM'...\n",
      "fatal: could not read Username for 'https://github.com': No such device or address\n",
      "'\n"
     ]
    },
    {
     "name": "stderr",
     "output_type": "stream",
     "text": [
      " 78%|███████▊  | 36156/46292 [23:53:37<8:06:25,  2.88s/it] "
     ]
    },
    {
     "name": "stdout",
     "output_type": "stream",
     "text": [
      "Cmd('git') failed due to: exit code(128)\n",
      "  cmdline: git clone -v https://github.com/ataata107/Research-Papers-Implementations/tree/master/Single-shot%20multi%20person%203d%20body%20pose repos/ataata107/Research-Papers-Implementations/tree/master/Single-shot%20multi%20person%203d%20body%20pose\n",
      "  stderr: 'Cloning into 'repos/ataata107/Research-Papers-Implementations/tree/master/Single-shot%20multi%20person%203d%20body%20pose'...\n",
      "fatal: repository 'https://github.com/ataata107/Research-Papers-Implementations/tree/master/Single-shot%20multi%20person%203d%20body%20pose/' not found\n",
      "'\n"
     ]
    },
    {
     "name": "stderr",
     "output_type": "stream",
     "text": [
      " 78%|███████▊  | 36253/46292 [23:56:21<1:50:40,  1.51it/s] "
     ]
    },
    {
     "name": "stdout",
     "output_type": "stream",
     "text": [
      "Cmd('git') failed due to: exit code(128)\n",
      "  cmdline: git clone -v https://github.com/binhuixie/summer_work repos/binhuixie/summer_work\n",
      "  stderr: 'Cloning into 'repos/binhuixie/summer_work'...\n",
      "fatal: could not read Username for 'https://github.com': No such device or address\n",
      "'\n"
     ]
    },
    {
     "name": "stderr",
     "output_type": "stream",
     "text": [
      " 78%|███████▊  | 36339/46292 [24:00:42<2:33:57,  1.08it/s] "
     ]
    },
    {
     "name": "stdout",
     "output_type": "stream",
     "text": [
      "Cmd('git') failed due to: exit code(128)\n",
      "  cmdline: git clone -v https://github.com/chieh-neu/ISM_supervised_DR repos/chieh-neu/ISM_supervised_DR\n",
      "  stderr: 'Cloning into 'repos/chieh-neu/ISM_supervised_DR'...\n",
      "fatal: could not read Username for 'https://github.com': No such device or address\n",
      "'\n"
     ]
    },
    {
     "name": "stderr",
     "output_type": "stream",
     "text": [
      " 79%|███████▊  | 36404/46292 [24:02:10<6:34:21,  2.39s/it] "
     ]
    },
    {
     "name": "stdout",
     "output_type": "stream",
     "text": [
      "Cmd('git') failed due to: exit code(128)\n",
      "  cmdline: git clone -v https://github.com/susanbasket0410/my_ssd_keras repos/susanbasket0410/my_ssd_keras\n",
      "  stderr: 'Cloning into 'repos/susanbasket0410/my_ssd_keras'...\n",
      "fatal: could not read Username for 'https://github.com': No such device or address\n",
      "'\n"
     ]
    },
    {
     "name": "stderr",
     "output_type": "stream",
     "text": [
      " 79%|███████▉  | 36508/46292 [24:06:16<2:47:58,  1.03s/it] "
     ]
    },
    {
     "name": "stdout",
     "output_type": "stream",
     "text": [
      "Cmd('git') failed due to: exit code(128)\n",
      "  cmdline: git clone -v https://github.com/zbloss/transformer-xxl repos/zbloss/transformer-xxl\n",
      "  stderr: 'Cloning into 'repos/zbloss/transformer-xxl'...\n",
      "fatal: could not read Username for 'https://github.com': No such device or address\n",
      "'\n"
     ]
    },
    {
     "name": "stderr",
     "output_type": "stream",
     "text": [
      " 79%|███████▉  | 36532/46292 [24:06:55<3:03:57,  1.13s/it]"
     ]
    },
    {
     "name": "stdout",
     "output_type": "stream",
     "text": [
      "Cmd('git') failed due to: exit code(128)\n",
      "  cmdline: git clone -v https://github.com/tensorflow/models/tree/master/research/autoaugment repos/tensorflow/models/tree/master/research/autoaugment\n",
      "  stderr: 'Cloning into 'repos/tensorflow/models/tree/master/research/autoaugment'...\n",
      "fatal: repository 'https://github.com/tensorflow/models/tree/master/research/autoaugment/' not found\n",
      "'\n"
     ]
    },
    {
     "name": "stderr",
     "output_type": "stream",
     "text": [
      " 79%|███████▉  | 36585/46292 [24:08:19<3:10:17,  1.18s/it] "
     ]
    },
    {
     "name": "stdout",
     "output_type": "stream",
     "text": [
      "Cmd('git') failed due to: exit code(128)\n",
      "  cmdline: git clone -v https://github.com/zbloss/transformer-xxl repos/zbloss/transformer-xxl\n",
      "  stderr: 'Cloning into 'repos/zbloss/transformer-xxl'...\n",
      "fatal: could not read Username for 'https://github.com': No such device or address\n",
      "'\n"
     ]
    },
    {
     "name": "stderr",
     "output_type": "stream",
     "text": [
      " 79%|███████▉  | 36719/46292 [24:15:32<3:16:58,  1.23s/it]  "
     ]
    },
    {
     "name": "stdout",
     "output_type": "stream",
     "text": [
      "Cmd('git') failed due to: exit code(128)\n",
      "  cmdline: git clone -v https://github.com/docongminh/Face-Detector-and-Recognition repos/docongminh/Face-Detector-and-Recognition\n",
      "  stderr: 'Cloning into 'repos/docongminh/Face-Detector-and-Recognition'...\n",
      "fatal: could not read Username for 'https://github.com': No such device or address\n",
      "'\n"
     ]
    },
    {
     "name": "stderr",
     "output_type": "stream",
     "text": [
      " 79%|███████▉  | 36728/46292 [24:15:47<2:47:33,  1.05s/it]"
     ]
    },
    {
     "name": "stdout",
     "output_type": "stream",
     "text": [
      "Cmd('git') failed due to: exit code(128)\n",
      "  cmdline: git clone -v https://github.com/ktfriends/Alignment_CT/blob/master/VAM_Rigid_Python.ipynb repos/ktfriends/Alignment_CT/blob/master/VAM_Rigid_Python.ipynb\n",
      "  stderr: 'Cloning into 'repos/ktfriends/Alignment_CT/blob/master/VAM_Rigid_Python.ipynb'...\n",
      "fatal: repository 'https://github.com/ktfriends/Alignment_CT/blob/master/VAM_Rigid_Python.ipynb/' not found\n",
      "'\n"
     ]
    },
    {
     "name": "stderr",
     "output_type": "stream",
     "text": [
      " 79%|███████▉  | 36795/46292 [24:18:35<2:41:33,  1.02s/it] "
     ]
    },
    {
     "name": "stdout",
     "output_type": "stream",
     "text": [
      "Cmd('git') failed due to: exit code(128)\n",
      "  cmdline: git clone -v https://github.com/tensorflow/models/tree/master/research/autoaugment repos/tensorflow/models/tree/master/research/autoaugment\n",
      "  stderr: 'Cloning into 'repos/tensorflow/models/tree/master/research/autoaugment'...\n",
      "fatal: repository 'https://github.com/tensorflow/models/tree/master/research/autoaugment/' not found\n",
      "'\n"
     ]
    },
    {
     "name": "stderr",
     "output_type": "stream",
     "text": [
      " 80%|███████▉  | 36805/46292 [24:18:42<1:58:47,  1.33it/s]"
     ]
    },
    {
     "name": "stdout",
     "output_type": "stream",
     "text": [
      "Cmd('git') failed due to: exit code(128)\n",
      "  cmdline: git clone -v https://github.com/yinghao1019/NLP_and_DL_practice/blob/master/Convolution_Neural_Netowrks_for_sentence_classification_Practice.ipynb repos/yinghao1019/NLP_and_DL_practice/blob/master/Convolution_Neural_Netowrks_for_sentence_classification_Practice.ipynb\n",
      "  stderr: 'Cloning into 'repos/yinghao1019/NLP_and_DL_practice/blob/master/Convolution_Neural_Netowrks_for_sentence_classification_Practice.ipynb'...\n",
      "fatal: repository 'https://github.com/yinghao1019/NLP_and_DL_practice/blob/master/Convolution_Neural_Netowrks_for_sentence_classification_Practice.ipynb/' not found\n",
      "'\n"
     ]
    },
    {
     "name": "stderr",
     "output_type": "stream",
     "text": [
      " 80%|███████▉  | 36923/46292 [24:22:00<2:10:25,  1.20it/s] "
     ]
    },
    {
     "name": "stdout",
     "output_type": "stream",
     "text": [
      "Cmd('git') failed due to: exit code(128)\n",
      "  cmdline: git clone -v https://github.com/manyuan97/DDL repos/manyuan97/DDL\n",
      "  stderr: 'Cloning into 'repos/manyuan97/DDL'...\n",
      "fatal: could not read Username for 'https://github.com': No such device or address\n",
      "'\n"
     ]
    },
    {
     "name": "stderr",
     "output_type": "stream",
     "text": [
      " 80%|███████▉  | 36926/46292 [24:22:18<7:46:17,  2.99s/it] "
     ]
    },
    {
     "name": "stdout",
     "output_type": "stream",
     "text": [
      "Cmd('git') failed due to: exit code(128)\n",
      "  cmdline: git clone -v https://github.com/eymarandri/sdmrcnn repos/eymarandri/sdmrcnn\n",
      "  stderr: 'Cloning into 'repos/eymarandri/sdmrcnn'...\n",
      "fatal: could not read Username for 'https://github.com': No such device or address\n",
      "'\n"
     ]
    },
    {
     "name": "stderr",
     "output_type": "stream",
     "text": [
      " 80%|███████▉  | 37008/46292 [24:34:49<2:55:10,  1.13s/it]   "
     ]
    },
    {
     "name": "stdout",
     "output_type": "stream",
     "text": [
      "Cmd('git') failed due to: exit code(128)\n",
      "  cmdline: git clone -v https://github.com/google/flax/tree/master/examples/imagenet repos/google/flax/tree/master/examples/imagenet\n",
      "  stderr: 'Cloning into 'repos/google/flax/tree/master/examples/imagenet'...\n",
      "remote: Please upgrade your git client.\n",
      "remote: GitHub.com no longer supports git over dumb-http: https://github.com/blog/809-git-dumb-http-transport-to-be-turned-off-in-90-days\n",
      "fatal: unable to access 'https://github.com/google/flax/tree/master/examples/imagenet/': The requested URL returned error: 403\n",
      "'\n"
     ]
    },
    {
     "name": "stderr",
     "output_type": "stream",
     "text": [
      " 80%|████████  | 37189/46292 [24:40:40<3:43:03,  1.47s/it] "
     ]
    },
    {
     "name": "stdout",
     "output_type": "stream",
     "text": [
      "Cmd('git') failed due to: exit code(128)\n",
      "  cmdline: git clone -v https://github.com/jonashaag/paperswithcode-speech-enhancement-audiosamples/blob/master/HiFi-GAN repos/jonashaag/paperswithcode-speech-enhancement-audiosamples/blob/master/HiFi-GAN\n",
      "  stderr: 'Cloning into 'repos/jonashaag/paperswithcode-speech-enhancement-audiosamples/blob/master/HiFi-GAN'...\n",
      "fatal: repository 'https://github.com/jonashaag/paperswithcode-speech-enhancement-audiosamples/blob/master/HiFi-GAN/' not found\n",
      "'\n"
     ]
    },
    {
     "name": "stderr",
     "output_type": "stream",
     "text": [
      " 81%|████████  | 37268/46292 [24:42:04<1:23:35,  1.80it/s]"
     ]
    },
    {
     "name": "stdout",
     "output_type": "stream",
     "text": [
      "Cmd('git') failed due to: exit code(128)\n",
      "  cmdline: git clone -v https://github.com/pbizopoulos/sparsely_activated_functions_pytorch repos/pbizopoulos/sparsely_activated_functions_pytorch\n",
      "  stderr: 'Cloning into 'repos/pbizopoulos/sparsely_activated_functions_pytorch'...\n",
      "fatal: could not read Username for 'https://github.com': No such device or address\n",
      "'\n"
     ]
    },
    {
     "name": "stderr",
     "output_type": "stream",
     "text": [
      " 81%|████████  | 37297/46292 [24:48:46<12:13:36,  4.89s/it] "
     ]
    },
    {
     "name": "stdout",
     "output_type": "stream",
     "text": [
      "Cmd('git') failed due to: exit code(128)\n",
      "  cmdline: git clone -v https://github.com/tensorflow/models/tree/master/research/inception repos/tensorflow/models/tree/master/research/inception\n",
      "  stderr: 'Cloning into 'repos/tensorflow/models/tree/master/research/inception'...\n",
      "fatal: repository 'https://github.com/tensorflow/models/tree/master/research/inception/' not found\n",
      "'\n"
     ]
    },
    {
     "name": "stderr",
     "output_type": "stream",
     "text": [
      "\r",
      " 81%|████████  | 37298/46292 [24:48:47<9:37:24,  3.85s/it] "
     ]
    },
    {
     "name": "stdout",
     "output_type": "stream",
     "text": [
      "Cmd('git') failed due to: exit code(128)\n",
      "  cmdline: git clone -v https://github.com/tensorflow/models/tree/master/research/inception repos/tensorflow/models/tree/master/research/inception\n",
      "  stderr: 'Cloning into 'repos/tensorflow/models/tree/master/research/inception'...\n",
      "fatal: repository 'https://github.com/tensorflow/models/tree/master/research/inception/' not found\n",
      "'\n"
     ]
    },
    {
     "name": "stderr",
     "output_type": "stream",
     "text": [
      " 81%|████████  | 37346/46292 [24:50:18<1:46:27,  1.40it/s] "
     ]
    },
    {
     "name": "stdout",
     "output_type": "stream",
     "text": [
      "Cmd('git') failed due to: exit code(128)\n",
      "  cmdline: git clone -v https://github.com/tensorflow/models/tree/master/research/inception repos/tensorflow/models/tree/master/research/inception\n",
      "  stderr: 'Cloning into 'repos/tensorflow/models/tree/master/research/inception'...\n",
      "fatal: repository 'https://github.com/tensorflow/models/tree/master/research/inception/' not found\n",
      "'\n"
     ]
    },
    {
     "name": "stderr",
     "output_type": "stream",
     "text": [
      " 81%|████████  | 37391/46292 [24:51:48<1:19:33,  1.86it/s] "
     ]
    },
    {
     "name": "stdout",
     "output_type": "stream",
     "text": [
      "Cmd('git') failed due to: exit code(128)\n",
      "  cmdline: git clone -v https://github.com/lab-ml/nn/tree/master/labml_nn/normalization/layer_norm repos/lab-ml/nn/tree/master/labml_nn/normalization/layer_norm\n",
      "  stderr: 'Cloning into 'repos/lab-ml/nn/tree/master/labml_nn/normalization/layer_norm'...\n",
      "fatal: repository 'https://github.com/lab-ml/nn/tree/master/labml_nn/normalization/layer_norm/' not found\n",
      "'\n"
     ]
    },
    {
     "name": "stderr",
     "output_type": "stream",
     "text": [
      " 81%|████████  | 37521/46292 [24:55:51<4:32:36,  1.86s/it] "
     ]
    },
    {
     "name": "stdout",
     "output_type": "stream",
     "text": [
      "Cmd('git') failed due to: exit code(128)\n",
      "  cmdline: git clone -v https://github.com/hanyas/rl repos/hanyas/rl\n",
      "  stderr: 'Cloning into 'repos/hanyas/rl'...\n",
      "fatal: could not read Username for 'https://github.com': No such device or address\n",
      "'\n"
     ]
    },
    {
     "name": "stderr",
     "output_type": "stream",
     "text": [
      " 81%|████████▏ | 37619/46292 [25:00:18<7:29:00,  3.11s/it] "
     ]
    },
    {
     "name": "stdout",
     "output_type": "stream",
     "text": [
      "Cmd('git') failed due to: exit code(128)\n",
      "  cmdline: git clone -v https://github.com/https://gitlab.com/prasanthcakewalk/code-and-data-availability repos/https://gitlab.com/prasanthcakewalk/code-and-data-availability\n",
      "  stderr: 'Cloning into 'repos/https://gitlab.com/prasanthcakewalk/code-and-data-availability'...\n",
      "remote: Not Found\n",
      "fatal: repository 'https://github.com/https://gitlab.com/prasanthcakewalk/code-and-data-availability/' not found\n",
      "'\n"
     ]
    },
    {
     "name": "stderr",
     "output_type": "stream",
     "text": [
      " 81%|████████▏ | 37703/46292 [25:03:22<3:18:38,  1.39s/it] "
     ]
    },
    {
     "name": "stdout",
     "output_type": "stream",
     "text": [
      "Cmd('git') failed due to: exit code(128)\n",
      "  cmdline: git clone -v https://github.com/fquarenghi/DANN repos/fquarenghi/DANN\n",
      "  stderr: 'Cloning into 'repos/fquarenghi/DANN'...\n",
      "fatal: could not read Username for 'https://github.com': No such device or address\n",
      "'\n"
     ]
    },
    {
     "name": "stderr",
     "output_type": "stream",
     "text": [
      " 82%|████████▏ | 37812/46292 [25:08:18<6:21:37,  2.70s/it] "
     ]
    },
    {
     "name": "stdout",
     "output_type": "stream",
     "text": [
      "Cmd('git') failed due to: exit code(128)\n",
      "  cmdline: git clone -v https://github.com/ydataai/ydata-synthetic/tree/master/src/ydata_synthetic/synthesizers/regular/wgan repos/ydataai/ydata-synthetic/tree/master/src/ydata_synthetic/synthesizers/regular/wgan\n",
      "  stderr: 'Cloning into 'repos/ydataai/ydata-synthetic/tree/master/src/ydata_synthetic/synthesizers/regular/wgan'...\n",
      "fatal: repository 'https://github.com/ydataai/ydata-synthetic/tree/master/src/ydata_synthetic/synthesizers/regular/wgan/' not found\n",
      "'\n"
     ]
    },
    {
     "name": "stderr",
     "output_type": "stream",
     "text": [
      " 82%|████████▏ | 38016/46292 [25:14:54<3:55:46,  1.71s/it] "
     ]
    },
    {
     "name": "stdout",
     "output_type": "stream",
     "text": [
      "Cmd('git') failed due to: exit code(128)\n",
      "  cmdline: git clone -v https://github.com/https://bitbucket.org/dmoltisanti/action_recognition_single_timestamps repos/https://bitbucket.org/dmoltisanti/action_recognition_single_timestamps\n",
      "  stderr: 'Cloning into 'repos/https://bitbucket.org/dmoltisanti/action_recognition_single_timestamps'...\n",
      "remote: Not Found\n",
      "fatal: repository 'https://github.com/https://bitbucket.org/dmoltisanti/action_recognition_single_timestamps/' not found\n",
      "'\n"
     ]
    },
    {
     "name": "stderr",
     "output_type": "stream",
     "text": [
      " 82%|████████▏ | 38113/46292 [25:20:35<15:58:05,  7.03s/it]"
     ]
    },
    {
     "name": "stdout",
     "output_type": "stream",
     "text": [
      "Cmd('git') failed due to: exit code(128)\n",
      "  cmdline: git clone -v https://github.com/https://gitlab.com/14chanwa/ml_for_semilinear_pdes repos/https://gitlab.com/14chanwa/ml_for_semilinear_pdes\n",
      "  stderr: 'Cloning into 'repos/https://gitlab.com/14chanwa/ml_for_semilinear_pdes'...\n",
      "remote: Not Found\n",
      "fatal: repository 'https://github.com/https://gitlab.com/14chanwa/ml_for_semilinear_pdes/' not found\n",
      "'\n"
     ]
    },
    {
     "name": "stderr",
     "output_type": "stream",
     "text": [
      " 82%|████████▏ | 38125/46292 [25:20:45<1:31:31,  1.49it/s] "
     ]
    },
    {
     "name": "stdout",
     "output_type": "stream",
     "text": [
      "Cmd('git') failed due to: exit code(128)\n",
      "  cmdline: git clone -v https://github.com/https://bitbucket.org/jingruixiaozhuang/iccv2017_vrd repos/https://bitbucket.org/jingruixiaozhuang/iccv2017_vrd\n",
      "  stderr: 'Cloning into 'repos/https://bitbucket.org/jingruixiaozhuang/iccv2017_vrd'...\n",
      "remote: Not Found\n",
      "fatal: repository 'https://github.com/https://bitbucket.org/jingruixiaozhuang/iccv2017_vrd/' not found\n",
      "'\n"
     ]
    },
    {
     "name": "stderr",
     "output_type": "stream",
     "text": [
      " 82%|████████▏ | 38132/46292 [25:20:49<1:11:20,  1.91it/s]"
     ]
    },
    {
     "name": "stdout",
     "output_type": "stream",
     "text": [
      "Cmd('git') failed due to: exit code(128)\n",
      "  cmdline: git clone -v https://github.com/https://bitbucket.org/maciekwielgosz/anomaly_detection repos/https://bitbucket.org/maciekwielgosz/anomaly_detection\n",
      "  stderr: 'Cloning into 'repos/https://bitbucket.org/maciekwielgosz/anomaly_detection'...\n",
      "remote: Not Found\n",
      "fatal: repository 'https://github.com/https://bitbucket.org/maciekwielgosz/anomaly_detection/' not found\n",
      "'\n"
     ]
    },
    {
     "name": "stderr",
     "output_type": "stream",
     "text": [
      " 82%|████████▏ | 38136/46292 [25:21:06<7:04:59,  3.13s/it]"
     ]
    },
    {
     "name": "stdout",
     "output_type": "stream",
     "text": [
      "Cmd('git') failed due to: exit code(128)\n",
      "  cmdline: git clone -v https://github.com/https://bitbucket.org/psrsoft/ymw16 repos/https://bitbucket.org/psrsoft/ymw16\n",
      "  stderr: 'Cloning into 'repos/https://bitbucket.org/psrsoft/ymw16'...\n",
      "remote: Not Found\n",
      "fatal: repository 'https://github.com/https://bitbucket.org/psrsoft/ymw16/' not found\n",
      "'\n"
     ]
    },
    {
     "name": "stderr",
     "output_type": "stream",
     "text": [
      " 82%|████████▏ | 38154/46292 [25:21:58<4:12:07,  1.86s/it] "
     ]
    },
    {
     "name": "stdout",
     "output_type": "stream",
     "text": [
      "Cmd('git') failed due to: exit code(128)\n",
      "  cmdline: git clone -v https://github.com/https://bitbucket.org/antonis/nmt-grammar-noise repos/https://bitbucket.org/antonis/nmt-grammar-noise\n",
      "  stderr: 'Cloning into 'repos/https://bitbucket.org/antonis/nmt-grammar-noise'...\n",
      "remote: Not Found\n",
      "fatal: repository 'https://github.com/https://bitbucket.org/antonis/nmt-grammar-noise/' not found\n",
      "'\n"
     ]
    },
    {
     "name": "stderr",
     "output_type": "stream",
     "text": [
      " 83%|████████▎ | 38245/46292 [25:24:58<2:39:07,  1.19s/it] "
     ]
    },
    {
     "name": "stdout",
     "output_type": "stream",
     "text": [
      "Cmd('git') failed due to: exit code(128)\n",
      "  cmdline: git clone -v https://github.com/alexfloripavieira/Cartola repos/alexfloripavieira/Cartola\n",
      "  stderr: 'Cloning into 'repos/alexfloripavieira/Cartola'...\n",
      "fatal: could not read Username for 'https://github.com': No such device or address\n",
      "'\n"
     ]
    },
    {
     "name": "stderr",
     "output_type": "stream",
     "text": [
      " 83%|████████▎ | 38282/46292 [25:27:00<2:19:46,  1.05s/it] "
     ]
    },
    {
     "name": "stdout",
     "output_type": "stream",
     "text": [
      "Cmd('git') failed due to: exit code(128)\n",
      "  cmdline: git clone -v https://github.com/wofmanaf/vid_det repos/wofmanaf/vid_det\n",
      "  stderr: 'Cloning into 'repos/wofmanaf/vid_det'...\n",
      "fatal: could not read Username for 'https://github.com': No such device or address\n",
      "'\n"
     ]
    },
    {
     "name": "stderr",
     "output_type": "stream",
     "text": [
      " 83%|████████▎ | 38312/46292 [25:28:02<1:43:28,  1.29it/s] "
     ]
    },
    {
     "name": "stdout",
     "output_type": "stream",
     "text": [
      "Cmd('git') failed due to: exit code(128)\n",
      "  cmdline: git clone -v https://github.com/Kdy0115/object_detection repos/Kdy0115/object_detection\n",
      "  stderr: 'Cloning into 'repos/Kdy0115/object_detection'...\n",
      "fatal: could not read Username for 'https://github.com': No such device or address\n",
      "'\n"
     ]
    },
    {
     "name": "stderr",
     "output_type": "stream",
     "text": [
      "\r",
      " 83%|████████▎ | 38313/46292 [25:28:02<1:25:00,  1.56it/s]"
     ]
    },
    {
     "name": "stdout",
     "output_type": "stream",
     "text": [
      "Cmd('git') failed due to: exit code(128)\n",
      "  cmdline: git clone -v https://github.com/Kdy0115/object_detection repos/Kdy0115/object_detection\n",
      "  stderr: 'Cloning into 'repos/Kdy0115/object_detection'...\n",
      "fatal: could not read Username for 'https://github.com': No such device or address\n",
      "'\n"
     ]
    },
    {
     "name": "stderr",
     "output_type": "stream",
     "text": [
      "\r",
      " 83%|████████▎ | 38314/46292 [25:28:03<1:11:38,  1.86it/s]"
     ]
    },
    {
     "name": "stdout",
     "output_type": "stream",
     "text": [
      "Cmd('git') failed due to: exit code(128)\n",
      "  cmdline: git clone -v https://github.com/Kdy0115/object_detection repos/Kdy0115/object_detection\n",
      "  stderr: 'Cloning into 'repos/Kdy0115/object_detection'...\n",
      "fatal: could not read Username for 'https://github.com': No such device or address\n",
      "'\n"
     ]
    },
    {
     "name": "stderr",
     "output_type": "stream",
     "text": [
      " 83%|████████▎ | 38364/46292 [25:30:18<2:18:19,  1.05s/it] "
     ]
    },
    {
     "name": "stdout",
     "output_type": "stream",
     "text": [
      "Cmd('git') failed due to: exit code(128)\n",
      "  cmdline: git clone -v https://github.com/YuanZi1501040205/dr-sac-application repos/YuanZi1501040205/dr-sac-application\n",
      "  stderr: 'Cloning into 'repos/YuanZi1501040205/dr-sac-application'...\n",
      "fatal: could not read Username for 'https://github.com': No such device or address\n",
      "'\n"
     ]
    },
    {
     "name": "stderr",
     "output_type": "stream",
     "text": [
      " 83%|████████▎ | 38366/46292 [25:30:19<1:35:16,  1.39it/s]"
     ]
    },
    {
     "name": "stdout",
     "output_type": "stream",
     "text": [
      "Cmd('git') failed due to: exit code(128)\n",
      "  cmdline: git clone -v https://github.com/YuanZi1501040205/dr-sac-application repos/YuanZi1501040205/dr-sac-application\n",
      "  stderr: 'Cloning into 'repos/YuanZi1501040205/dr-sac-application'...\n",
      "fatal: could not read Username for 'https://github.com': No such device or address\n",
      "'\n"
     ]
    },
    {
     "name": "stderr",
     "output_type": "stream",
     "text": [
      " 83%|████████▎ | 38370/46292 [25:30:21<1:19:10,  1.67it/s]"
     ]
    },
    {
     "name": "stdout",
     "output_type": "stream",
     "text": [
      "Cmd('git') failed due to: exit code(128)\n",
      "  cmdline: git clone -v https://github.com/klknn/tfsq repos/klknn/tfsq\n",
      "  stderr: 'Cloning into 'repos/klknn/tfsq'...\n",
      "fatal: could not read Username for 'https://github.com': No such device or address\n",
      "'\n"
     ]
    },
    {
     "name": "stderr",
     "output_type": "stream",
     "text": [
      " 83%|████████▎ | 38379/46292 [25:31:00<5:18:54,  2.42s/it] "
     ]
    },
    {
     "name": "stdout",
     "output_type": "stream",
     "text": [
      "Cmd('git') failed due to: exit code(128)\n",
      "  cmdline: git clone -v https://github.com/FBehrad/Brats2018 repos/FBehrad/Brats2018\n",
      "  stderr: 'Cloning into 'repos/FBehrad/Brats2018'...\n",
      "fatal: could not read Username for 'https://github.com': No such device or address\n",
      "'\n"
     ]
    },
    {
     "name": "stderr",
     "output_type": "stream",
     "text": [
      " 83%|████████▎ | 38425/46292 [25:33:27<3:54:01,  1.78s/it] "
     ]
    },
    {
     "name": "stdout",
     "output_type": "stream",
     "text": [
      "Cmd('git') failed due to: exit code(128)\n",
      "  cmdline: git clone -v https://github.com/chenweihao1006/Compiler_Project2 repos/chenweihao1006/Compiler_Project2\n",
      "  stderr: 'Cloning into 'repos/chenweihao1006/Compiler_Project2'...\n",
      "fatal: could not read Username for 'https://github.com': No such device or address\n",
      "'\n"
     ]
    },
    {
     "name": "stderr",
     "output_type": "stream",
     "text": [
      " 83%|████████▎ | 38450/46292 [25:34:00<1:13:43,  1.77it/s]"
     ]
    },
    {
     "name": "stdout",
     "output_type": "stream",
     "text": [
      "Cmd('git') failed due to: exit code(128)\n",
      "  cmdline: git clone -v https://github.com/saeedmoazami/Spherical_Robot_GYM repos/saeedmoazami/Spherical_Robot_GYM\n",
      "  stderr: 'Cloning into 'repos/saeedmoazami/Spherical_Robot_GYM'...\n",
      "fatal: could not read Username for 'https://github.com': No such device or address\n",
      "'\n"
     ]
    },
    {
     "name": "stderr",
     "output_type": "stream",
     "text": [
      " 83%|████████▎ | 38519/46292 [25:35:28<2:09:58,  1.00s/it]"
     ]
    },
    {
     "name": "stdout",
     "output_type": "stream",
     "text": [
      "Cmd('git') failed due to: exit code(128)\n",
      "  cmdline: git clone -v https://github.com/Tyjch/OpenSpiel repos/Tyjch/OpenSpiel\n",
      "  stderr: 'Cloning into 'repos/Tyjch/OpenSpiel'...\n",
      "fatal: could not read Username for 'https://github.com': No such device or address\n",
      "'\n"
     ]
    },
    {
     "name": "stderr",
     "output_type": "stream",
     "text": [
      " 84%|████████▎ | 38713/46292 [25:40:32<1:37:24,  1.30it/s] "
     ]
    },
    {
     "name": "stdout",
     "output_type": "stream",
     "text": [
      "Cmd('git') failed due to: exit code(128)\n",
      "  cmdline: git clone -v https://github.com/XiaoyuXiao1998/TestRobot repos/XiaoyuXiao1998/TestRobot\n",
      "  stderr: 'Cloning into 'repos/XiaoyuXiao1998/TestRobot'...\n",
      "fatal: could not read Username for 'https://github.com': No such device or address\n",
      "'\n"
     ]
    },
    {
     "name": "stderr",
     "output_type": "stream",
     "text": [
      " 84%|████████▎ | 38744/46292 [25:41:12<4:51:08,  2.31s/it]"
     ]
    },
    {
     "name": "stdout",
     "output_type": "stream",
     "text": [
      "Cmd('git') failed due to: exit code(128)\n",
      "  cmdline: git clone -v https://github.com/pashu123/NUS-Intern repos/pashu123/NUS-Intern\n",
      "  stderr: 'Cloning into 'repos/pashu123/NUS-Intern'...\n",
      "fatal: could not read Username for 'https://github.com': No such device or address\n",
      "'\n"
     ]
    },
    {
     "name": "stderr",
     "output_type": "stream",
     "text": [
      " 84%|████████▍ | 38861/46292 [25:43:20<1:59:56,  1.03it/s]"
     ]
    },
    {
     "name": "stdout",
     "output_type": "stream",
     "text": [
      "Cmd('git') failed due to: exit code(128)\n",
      "  cmdline: git clone -v https://github.com/bhuvanharlapur/Computer-Vision-Project repos/bhuvanharlapur/Computer-Vision-Project\n",
      "  stderr: 'Cloning into 'repos/bhuvanharlapur/Computer-Vision-Project'...\n",
      "fatal: could not read Username for 'https://github.com': No such device or address\n",
      "'\n"
     ]
    },
    {
     "name": "stderr",
     "output_type": "stream",
     "text": [
      " 84%|████████▍ | 38873/46292 [25:44:13<4:12:53,  2.05s/it] "
     ]
    },
    {
     "name": "stdout",
     "output_type": "stream",
     "text": [
      "Cmd('git') failed due to: exit code(128)\n",
      "  cmdline: git clone -v https://github.com/Chubbyman2/Learning-Spatiotemporal-Features-with-3D-Convolutional-Networks repos/Chubbyman2/Learning-Spatiotemporal-Features-with-3D-Convolutional-Networks\n",
      "  stderr: 'Cloning into 'repos/Chubbyman2/Learning-Spatiotemporal-Features-with-3D-Convolutional-Networks'...\n",
      "fatal: could not read Username for 'https://github.com': No such device or address\n",
      "'\n"
     ]
    },
    {
     "name": "stderr",
     "output_type": "stream",
     "text": [
      " 84%|████████▍ | 38886/46292 [25:44:25<1:56:00,  1.06it/s]"
     ]
    },
    {
     "name": "stdout",
     "output_type": "stream",
     "text": [
      "Cmd('git') failed due to: exit code(128)\n",
      "  cmdline: git clone -v https://github.com/frycast/sunnies repos/frycast/sunnies\n",
      "  stderr: 'Cloning into 'repos/frycast/sunnies'...\n",
      "fatal: could not read Username for 'https://github.com': No such device or address\n",
      "'\n"
     ]
    },
    {
     "name": "stderr",
     "output_type": "stream",
     "text": [
      " 84%|████████▍ | 38915/46292 [25:45:59<5:56:23,  2.90s/it] "
     ]
    },
    {
     "name": "stdout",
     "output_type": "stream",
     "text": [
      "Cmd('git') failed due to: exit code(128)\n",
      "  cmdline: git clone -v https://github.com/https://gitlab.com/wifisensing/rxs_parsing_core repos/https://gitlab.com/wifisensing/rxs_parsing_core\n",
      "  stderr: 'Cloning into 'repos/https://gitlab.com/wifisensing/rxs_parsing_core'...\n",
      "remote: Not Found\n",
      "fatal: repository 'https://github.com/https://gitlab.com/wifisensing/rxs_parsing_core/' not found\n",
      "'\n"
     ]
    },
    {
     "name": "stderr",
     "output_type": "stream",
     "text": [
      " 84%|████████▍ | 38921/46292 [25:46:06<2:47:03,  1.36s/it]"
     ]
    },
    {
     "name": "stdout",
     "output_type": "stream",
     "text": [
      "Cmd('git') failed due to: exit code(128)\n",
      "  cmdline: git clone -v https://github.com/https://gitlab.com/hepcedar/rivet repos/https://gitlab.com/hepcedar/rivet\n",
      "  stderr: 'Cloning into 'repos/https://gitlab.com/hepcedar/rivet'...\n",
      "remote: Not Found\n",
      "fatal: repository 'https://github.com/https://gitlab.com/hepcedar/rivet/' not found\n",
      "'\n"
     ]
    },
    {
     "name": "stderr",
     "output_type": "stream",
     "text": [
      " 84%|████████▍ | 38933/46292 [25:46:17<1:17:15,  1.59it/s]"
     ]
    },
    {
     "name": "stdout",
     "output_type": "stream",
     "text": [
      "Cmd('git') failed due to: exit code(128)\n",
      "  cmdline: git clone -v https://github.com/https://zenodo.org/record/4279841 repos/https://zenodo.org/record/4279841\n",
      "  stderr: 'Cloning into 'repos/https://zenodo.org/record/4279841'...\n",
      "remote: Not Found\n",
      "fatal: repository 'https://github.com/https://zenodo.org/record/4279841/' not found\n",
      "'\n"
     ]
    },
    {
     "name": "stderr",
     "output_type": "stream",
     "text": [
      " 84%|████████▍ | 39001/46292 [25:48:47<4:57:20,  2.45s/it] "
     ]
    },
    {
     "name": "stdout",
     "output_type": "stream",
     "text": [
      "Cmd('git') failed due to: exit code(128)\n",
      "  cmdline: git clone -v https://github.com/google-research/google-research/tree/master/neural_guided_symbolic_regression repos/google-research/google-research/tree/master/neural_guided_symbolic_regression\n",
      "  stderr: 'Cloning into 'repos/google-research/google-research/tree/master/neural_guided_symbolic_regression'...\n",
      "fatal: repository 'https://github.com/google-research/google-research/tree/master/neural_guided_symbolic_regression/' not found\n",
      "'\n"
     ]
    },
    {
     "name": "stderr",
     "output_type": "stream",
     "text": [
      " 84%|████████▍ | 39042/46292 [25:51:51<5:01:16,  2.49s/it] "
     ]
    },
    {
     "name": "stdout",
     "output_type": "stream",
     "text": [
      "Cmd('git') failed due to: exit code(128)\n",
      "  cmdline: git clone -v https://github.com/https://bitbucket.org/fpapadop/dynamic-s1 repos/https://bitbucket.org/fpapadop/dynamic-s1\n",
      "  stderr: 'Cloning into 'repos/https://bitbucket.org/fpapadop/dynamic-s1'...\n",
      "remote: Not Found\n",
      "fatal: repository 'https://github.com/https://bitbucket.org/fpapadop/dynamic-s1/' not found\n",
      "'\n"
     ]
    },
    {
     "name": "stderr",
     "output_type": "stream",
     "text": [
      " 84%|████████▍ | 39077/46292 [25:53:07<1:02:18,  1.93it/s] "
     ]
    },
    {
     "name": "stdout",
     "output_type": "stream",
     "text": [
      "Cmd('git') failed due to: exit code(128)\n",
      "  cmdline: git clone -v https://github.com/EugenHotaj/pytorch-generative/blob/master/pytorch_generative/models/nade.py repos/EugenHotaj/pytorch-generative/blob/master/pytorch_generative/models/nade.py\n",
      "  stderr: 'Cloning into 'repos/EugenHotaj/pytorch-generative/blob/master/pytorch_generative/models/nade.py'...\n",
      "fatal: repository 'https://github.com/EugenHotaj/pytorch-generative/blob/master/pytorch_generative/models/nade.py/' not found\n",
      "'\n"
     ]
    },
    {
     "name": "stderr",
     "output_type": "stream",
     "text": [
      " 84%|████████▍ | 39096/46292 [25:53:37<4:51:51,  2.43s/it]"
     ]
    },
    {
     "name": "stdout",
     "output_type": "stream",
     "text": [
      "Cmd('git') failed due to: exit code(128)\n",
      "  cmdline: git clone -v https://github.com/Pzoom522/ParaGATS repos/Pzoom522/ParaGATS\n",
      "  stderr: 'Cloning into 'repos/Pzoom522/ParaGATS'...\n",
      "fatal: could not read Username for 'https://github.com': No such device or address\n",
      "'\n"
     ]
    },
    {
     "name": "stderr",
     "output_type": "stream",
     "text": [
      " 84%|████████▍ | 39103/46292 [25:53:48<2:34:14,  1.29s/it]"
     ]
    },
    {
     "name": "stdout",
     "output_type": "stream",
     "text": [
      "Cmd('git') failed due to: exit code(128)\n",
      "  cmdline: git clone -v https://github.com/PaddlePaddle/PGL/tree/main/ogb_examples/nodeproppred/unimp repos/PaddlePaddle/PGL/tree/main/ogb_examples/nodeproppred/unimp\n",
      "  stderr: 'Cloning into 'repos/PaddlePaddle/PGL/tree/main/ogb_examples/nodeproppred/unimp'...\n",
      "fatal: repository 'https://github.com/PaddlePaddle/PGL/tree/main/ogb_examples/nodeproppred/unimp/' not found\n",
      "'\n"
     ]
    },
    {
     "name": "stderr",
     "output_type": "stream",
     "text": [
      " 84%|████████▍ | 39108/46292 [25:53:49<59:40,  2.01it/s]  "
     ]
    },
    {
     "name": "stdout",
     "output_type": "stream",
     "text": [
      "Cmd('git') failed due to: exit code(128)\n",
      "  cmdline: git clone -v https://github.com/https://bitbucket.org/ezeferrero/coulomb_glass repos/https://bitbucket.org/ezeferrero/coulomb_glass\n",
      "  stderr: 'Cloning into 'repos/https://bitbucket.org/ezeferrero/coulomb_glass'...\n",
      "remote: Not Found\n",
      "fatal: repository 'https://github.com/https://bitbucket.org/ezeferrero/coulomb_glass/' not found\n",
      "'\n"
     ]
    },
    {
     "name": "stderr",
     "output_type": "stream",
     "text": [
      "\r",
      " 84%|████████▍ | 39109/46292 [25:53:50<53:22,  2.24it/s]"
     ]
    },
    {
     "name": "stdout",
     "output_type": "stream",
     "text": [
      "Cmd('git') failed due to: exit code(128)\n",
      "  cmdline: git clone -v https://github.com/https://gitlab.com/apozas/bayesian-dl-quantum repos/https://gitlab.com/apozas/bayesian-dl-quantum\n",
      "  stderr: 'Cloning into 'repos/https://gitlab.com/apozas/bayesian-dl-quantum'...\n",
      "remote: Not Found\n",
      "fatal: repository 'https://github.com/https://gitlab.com/apozas/bayesian-dl-quantum/' not found\n",
      "'\n"
     ]
    },
    {
     "name": "stderr",
     "output_type": "stream",
     "text": [
      " 85%|████████▍ | 39156/46292 [25:54:36<1:24:29,  1.41it/s]"
     ]
    },
    {
     "name": "stdout",
     "output_type": "stream",
     "text": [
      "Cmd('git') failed due to: exit code(128)\n",
      "  cmdline: git clone -v https://github.com/https://gitlab.com/matteo-ronchetti/IKA repos/https://gitlab.com/matteo-ronchetti/IKA\n",
      "  stderr: 'Cloning into 'repos/https://gitlab.com/matteo-ronchetti/IKA'...\n",
      "remote: Not Found\n",
      "fatal: repository 'https://github.com/https://gitlab.com/matteo-ronchetti/IKA/' not found\n",
      "'\n"
     ]
    },
    {
     "name": "stderr",
     "output_type": "stream",
     "text": [
      " 85%|████████▍ | 39176/46292 [25:55:31<4:49:35,  2.44s/it] "
     ]
    },
    {
     "name": "stdout",
     "output_type": "stream",
     "text": [
      "Cmd('git') failed due to: exit code(128)\n",
      "  cmdline: git clone -v https://github.com/GauravPandey892/michallenge1 repos/GauravPandey892/michallenge1\n",
      "  stderr: 'Cloning into 'repos/GauravPandey892/michallenge1'...\n",
      "fatal: could not read Username for 'https://github.com': No such device or address\n",
      "'\n"
     ]
    },
    {
     "name": "stderr",
     "output_type": "stream",
     "text": [
      " 85%|████████▍ | 39200/46292 [25:56:34<7:02:35,  3.58s/it] "
     ]
    },
    {
     "name": "stdout",
     "output_type": "stream",
     "text": [
      "Cmd('git') failed due to: exit code(128)\n",
      "  cmdline: git clone -v https://github.com/https://gitlab.com/nicolalandro/multi_optimizer repos/https://gitlab.com/nicolalandro/multi_optimizer\n",
      "  stderr: 'Cloning into 'repos/https://gitlab.com/nicolalandro/multi_optimizer'...\n",
      "remote: Not Found\n",
      "fatal: repository 'https://github.com/https://gitlab.com/nicolalandro/multi_optimizer/' not found\n",
      "'\n"
     ]
    },
    {
     "name": "stderr",
     "output_type": "stream",
     "text": [
      " 85%|████████▍ | 39209/46292 [25:56:42<1:26:56,  1.36it/s]"
     ]
    },
    {
     "name": "stdout",
     "output_type": "stream",
     "text": [
      "Cmd('git') failed due to: exit code(128)\n",
      "  cmdline: git clone -v https://github.com/https://gitlab.com/mbiagetti/persistent_homology_lss repos/https://gitlab.com/mbiagetti/persistent_homology_lss\n",
      "  stderr: 'Cloning into 'repos/https://gitlab.com/mbiagetti/persistent_homology_lss'...\n",
      "remote: Not Found\n",
      "fatal: repository 'https://github.com/https://gitlab.com/mbiagetti/persistent_homology_lss/' not found\n",
      "'\n"
     ]
    },
    {
     "name": "stderr",
     "output_type": "stream",
     "text": [
      " 85%|████████▍ | 39224/46292 [25:56:55<1:11:38,  1.64it/s]"
     ]
    },
    {
     "name": "stdout",
     "output_type": "stream",
     "text": [
      "Cmd('git') failed due to: exit code(128)\n",
      "  cmdline: git clone -v https://github.com/https://zenodo.org/record/3764809 repos/https://zenodo.org/record/3764809\n",
      "  stderr: 'Cloning into 'repos/https://zenodo.org/record/3764809'...\n",
      "remote: Not Found\n",
      "fatal: repository 'https://github.com/https://zenodo.org/record/3764809/' not found\n",
      "'\n"
     ]
    },
    {
     "name": "stderr",
     "output_type": "stream",
     "text": [
      " 85%|████████▍ | 39248/46292 [25:57:33<2:22:28,  1.21s/it]"
     ]
    },
    {
     "name": "stdout",
     "output_type": "stream",
     "text": [
      "Cmd('git') failed due to: exit code(128)\n",
      "  cmdline: git clone -v https://github.com/ademiadeniji/dads repos/ademiadeniji/dads\n",
      "  stderr: 'Cloning into 'repos/ademiadeniji/dads'...\n",
      "fatal: could not read Username for 'https://github.com': No such device or address\n",
      "'\n"
     ]
    },
    {
     "name": "stderr",
     "output_type": "stream",
     "text": [
      "\r",
      " 85%|████████▍ | 39250/46292 [25:57:33<1:35:37,  1.23it/s]"
     ]
    },
    {
     "name": "stdout",
     "output_type": "stream",
     "text": [
      "Cmd('git') failed due to: exit code(128)\n",
      "  cmdline: git clone -v https://github.com/ademiadeniji/dads repos/ademiadeniji/dads\n",
      "  stderr: 'Cloning into 'repos/ademiadeniji/dads'...\n",
      "fatal: could not read Username for 'https://github.com': No such device or address\n",
      "'\n"
     ]
    },
    {
     "name": "stderr",
     "output_type": "stream",
     "text": [
      " 85%|████████▍ | 39269/46292 [25:58:08<2:07:18,  1.09s/it]"
     ]
    },
    {
     "name": "stdout",
     "output_type": "stream",
     "text": [
      "Cmd('git') failed due to: exit code(128)\n",
      "  cmdline: git clone -v https://github.com/tensorflow/models/tree/master/research/autoaugment repos/tensorflow/models/tree/master/research/autoaugment\n",
      "  stderr: 'Cloning into 'repos/tensorflow/models/tree/master/research/autoaugment'...\n",
      "fatal: repository 'https://github.com/tensorflow/models/tree/master/research/autoaugment/' not found\n",
      "'\n"
     ]
    },
    {
     "name": "stderr",
     "output_type": "stream",
     "text": [
      "\r",
      " 85%|████████▍ | 39270/46292 [25:58:08<1:47:53,  1.08it/s]"
     ]
    },
    {
     "name": "stdout",
     "output_type": "stream",
     "text": [
      "Cmd('git') failed due to: exit code(128)\n",
      "  cmdline: git clone -v https://github.com/tensorflow/models/tree/master/research/autoaugment repos/tensorflow/models/tree/master/research/autoaugment\n",
      "  stderr: 'Cloning into 'repos/tensorflow/models/tree/master/research/autoaugment'...\n",
      "fatal: repository 'https://github.com/tensorflow/models/tree/master/research/autoaugment/' not found\n",
      "'\n"
     ]
    },
    {
     "name": "stderr",
     "output_type": "stream",
     "text": [
      " 85%|████████▍ | 39284/46292 [25:58:37<4:26:22,  2.28s/it]"
     ]
    },
    {
     "name": "stdout",
     "output_type": "stream",
     "text": [
      "Cmd('git') failed due to: exit code(128)\n",
      "  cmdline: git clone -v https://github.com/https://cran.r-project.org/package=FER repos/https://cran.r-project.org/package=FER\n",
      "  stderr: 'Cloning into 'repos/https://cran.r-project.org/package=FER'...\n",
      "remote: Not Found\n",
      "fatal: repository 'https://github.com/https://cran.r-project.org/package=FER/' not found\n",
      "'\n"
     ]
    },
    {
     "name": "stderr",
     "output_type": "stream",
     "text": [
      " 85%|████████▍ | 39288/46292 [25:58:40<2:10:32,  1.12s/it]"
     ]
    },
    {
     "name": "stdout",
     "output_type": "stream",
     "text": [
      "Cmd('git') failed due to: exit code(128)\n",
      "  cmdline: git clone -v https://github.com/https://gitlab.com/Cracert/pedestrian-count-covid-19 repos/https://gitlab.com/Cracert/pedestrian-count-covid-19\n",
      "  stderr: 'Cloning into 'repos/https://gitlab.com/Cracert/pedestrian-count-covid-19'...\n",
      "remote: Not Found\n",
      "fatal: repository 'https://github.com/https://gitlab.com/Cracert/pedestrian-count-covid-19/' not found\n",
      "'\n"
     ]
    },
    {
     "name": "stderr",
     "output_type": "stream",
     "text": [
      " 85%|████████▍ | 39308/46292 [25:58:56<1:46:23,  1.09it/s]"
     ]
    },
    {
     "name": "stdout",
     "output_type": "stream",
     "text": [
      "Cmd('git') failed due to: exit code(128)\n",
      "  cmdline: git clone -v https://github.com/https://bitbucket.org/mknoetig/obayes_onoff_problem repos/https://bitbucket.org/mknoetig/obayes_onoff_problem\n",
      "  stderr: 'Cloning into 'repos/https://bitbucket.org/mknoetig/obayes_onoff_problem'...\n",
      "remote: Not Found\n",
      "fatal: repository 'https://github.com/https://bitbucket.org/mknoetig/obayes_onoff_problem/' not found\n",
      "'\n"
     ]
    },
    {
     "name": "stderr",
     "output_type": "stream",
     "text": [
      " 85%|████████▍ | 39327/46292 [25:59:58<5:20:40,  2.76s/it] "
     ]
    },
    {
     "name": "stdout",
     "output_type": "stream",
     "text": [
      "Cmd('git') failed due to: exit code(128)\n",
      "  cmdline: git clone -v https://github.com/https://bitbucket.org/kandolfp/trigmv repos/https://bitbucket.org/kandolfp/trigmv\n",
      "  stderr: 'Cloning into 'repos/https://bitbucket.org/kandolfp/trigmv'...\n",
      "remote: Not Found\n",
      "fatal: repository 'https://github.com/https://bitbucket.org/kandolfp/trigmv/' not found\n",
      "'\n"
     ]
    },
    {
     "name": "stderr",
     "output_type": "stream",
     "text": [
      " 85%|████████▌ | 39357/46292 [26:00:59<1:48:16,  1.07it/s]"
     ]
    },
    {
     "name": "stdout",
     "output_type": "stream",
     "text": [
      "Cmd('git') failed due to: exit code(128)\n",
      "  cmdline: git clone -v https://github.com/saeedmoazami/Spherical_Mobile_Robot repos/saeedmoazami/Spherical_Mobile_Robot\n",
      "  stderr: 'Cloning into 'repos/saeedmoazami/Spherical_Mobile_Robot'...\n",
      "fatal: could not read Username for 'https://github.com': No such device or address\n",
      "'\n"
     ]
    },
    {
     "name": "stderr",
     "output_type": "stream",
     "text": [
      " 85%|████████▌ | 39402/46292 [26:02:52<2:56:49,  1.54s/it] "
     ]
    },
    {
     "name": "stdout",
     "output_type": "stream",
     "text": [
      "Cmd('git') failed due to: exit code(128)\n",
      "  cmdline: git clone -v https://github.com/https://bitbucket.org/dkosolobov/lzd-lzmw repos/https://bitbucket.org/dkosolobov/lzd-lzmw\n",
      "  stderr: 'Cloning into 'repos/https://bitbucket.org/dkosolobov/lzd-lzmw'...\n",
      "remote: Not Found\n",
      "fatal: repository 'https://github.com/https://bitbucket.org/dkosolobov/lzd-lzmw/' not found\n",
      "'\n"
     ]
    },
    {
     "name": "stderr",
     "output_type": "stream",
     "text": [
      "\r",
      " 85%|████████▌ | 39403/46292 [26:02:53<2:13:54,  1.17s/it]"
     ]
    },
    {
     "name": "stdout",
     "output_type": "stream",
     "text": [
      "Cmd('git') failed due to: exit code(128)\n",
      "  cmdline: git clone -v https://github.com/https://bitbucket.org/DSVarga/fditools repos/https://bitbucket.org/DSVarga/fditools\n",
      "  stderr: 'Cloning into 'repos/https://bitbucket.org/DSVarga/fditools'...\n",
      "remote: Not Found\n",
      "fatal: repository 'https://github.com/https://bitbucket.org/DSVarga/fditools/' not found\n",
      "'\n"
     ]
    },
    {
     "name": "stderr",
     "output_type": "stream",
     "text": [
      " 85%|████████▌ | 39425/46292 [26:03:45<3:06:33,  1.63s/it] "
     ]
    },
    {
     "name": "stdout",
     "output_type": "stream",
     "text": [
      "Cmd('git') failed due to: exit code(128)\n",
      "  cmdline: git clone -v https://github.com/https://bitbucket.org/mgerber/sqmc repos/https://bitbucket.org/mgerber/sqmc\n",
      "  stderr: 'Cloning into 'repos/https://bitbucket.org/mgerber/sqmc'...\n",
      "remote: Not Found\n",
      "fatal: repository 'https://github.com/https://bitbucket.org/mgerber/sqmc/' not found\n",
      "'\n"
     ]
    },
    {
     "name": "stderr",
     "output_type": "stream",
     "text": [
      " 85%|████████▌ | 39433/46292 [26:04:02<2:19:27,  1.22s/it]"
     ]
    },
    {
     "name": "stdout",
     "output_type": "stream",
     "text": [
      "Cmd('git') failed due to: exit code(128)\n",
      "  cmdline: git clone -v https://github.com/LS-Lab/KeYmaeraX-release/blob/master/keymaerax-core/src/main/scala/edu/cmu/cs/ls/keymaerax/core/USubstOne.scala repos/LS-Lab/KeYmaeraX-release/blob/master/keymaerax-core/src/main/scala/edu/cmu/cs/ls/keymaerax/core/USubstOne.scala\n",
      "  stderr: 'Cloning into 'repos/LS-Lab/KeYmaeraX-release/blob/master/keymaerax-core/src/main/scala/edu/cmu/cs/ls/keymaerax/core/USubstOne.scala'...\n",
      "fatal: repository 'https://github.com/LS-Lab/KeYmaeraX-release/blob/master/keymaerax-core/src/main/scala/edu/cmu/cs/ls/keymaerax/core/USubstOne.scala/' not found\n",
      "'\n"
     ]
    },
    {
     "name": "stderr",
     "output_type": "stream",
     "text": [
      " 85%|████████▌ | 39446/46292 [26:04:16<2:15:45,  1.19s/it]"
     ]
    },
    {
     "name": "stdout",
     "output_type": "stream",
     "text": [
      "Cmd('git') failed due to: exit code(128)\n",
      "  cmdline: git clone -v https://github.com/https://bitbucket.org/schreiberh/sophia repos/https://bitbucket.org/schreiberh/sophia\n",
      "  stderr: 'Cloning into 'repos/https://bitbucket.org/schreiberh/sophia'...\n",
      "remote: Not Found\n",
      "fatal: repository 'https://github.com/https://bitbucket.org/schreiberh/sophia/' not found\n",
      "'\n"
     ]
    },
    {
     "name": "stderr",
     "output_type": "stream",
     "text": [
      " 85%|████████▌ | 39490/46292 [26:05:47<1:11:08,  1.59it/s]"
     ]
    },
    {
     "name": "stdout",
     "output_type": "stream",
     "text": [
      "Cmd('git') failed due to: exit code(128)\n",
      "  cmdline: git clone -v https://github.com/https://gitlab.com/fpdpy/fpd repos/https://gitlab.com/fpdpy/fpd\n",
      "  stderr: 'Cloning into 'repos/https://gitlab.com/fpdpy/fpd'...\n",
      "remote: Not Found\n",
      "fatal: repository 'https://github.com/https://gitlab.com/fpdpy/fpd/' not found\n",
      "'\n"
     ]
    },
    {
     "name": "stderr",
     "output_type": "stream",
     "text": [
      " 85%|████████▌ | 39507/46292 [26:06:12<1:33:22,  1.21it/s]"
     ]
    },
    {
     "name": "stdout",
     "output_type": "stream",
     "text": [
      "Cmd('git') failed due to: exit code(128)\n",
      "  cmdline: git clone -v https://github.com/https://bitbucket.org/jstolarek/gc_imp_slicing repos/https://bitbucket.org/jstolarek/gc_imp_slicing\n",
      "  stderr: 'Cloning into 'repos/https://bitbucket.org/jstolarek/gc_imp_slicing'...\n",
      "remote: Not Found\n",
      "fatal: repository 'https://github.com/https://bitbucket.org/jstolarek/gc_imp_slicing/' not found\n",
      "'\n"
     ]
    },
    {
     "name": "stderr",
     "output_type": "stream",
     "text": [
      " 85%|████████▌ | 39512/46292 [26:06:35<8:26:53,  4.49s/it] "
     ]
    },
    {
     "name": "stdout",
     "output_type": "stream",
     "text": [
      "Cmd('git') failed due to: exit code(128)\n",
      "  cmdline: git clone -v https://github.com/https://gitlab.com/dnapoletano/bbh-intrinsic-public repos/https://gitlab.com/dnapoletano/bbh-intrinsic-public\n",
      "  stderr: 'Cloning into 'repos/https://gitlab.com/dnapoletano/bbh-intrinsic-public'...\n",
      "remote: Not Found\n",
      "fatal: repository 'https://github.com/https://gitlab.com/dnapoletano/bbh-intrinsic-public/' not found\n",
      "'\n"
     ]
    },
    {
     "name": "stderr",
     "output_type": "stream",
     "text": [
      " 85%|████████▌ | 39536/46292 [26:07:05<2:09:08,  1.15s/it]"
     ]
    },
    {
     "name": "stdout",
     "output_type": "stream",
     "text": [
      "Cmd('git') failed due to: exit code(128)\n",
      "  cmdline: git clone -v https://github.com/https://gitlab.com/cn611340/epr-steering repos/https://gitlab.com/cn611340/epr-steering\n",
      "  stderr: 'Cloning into 'repos/https://gitlab.com/cn611340/epr-steering'...\n",
      "remote: Not Found\n",
      "fatal: repository 'https://github.com/https://gitlab.com/cn611340/epr-steering/' not found\n",
      "'\n"
     ]
    },
    {
     "name": "stderr",
     "output_type": "stream",
     "text": [
      " 85%|████████▌ | 39548/46292 [26:07:45<5:47:56,  3.10s/it] "
     ]
    },
    {
     "name": "stdout",
     "output_type": "stream",
     "text": [
      "Cmd('git') failed due to: exit code(128)\n",
      "  cmdline: git clone -v https://github.com/https://gitlab.com/fpdpy/fpd repos/https://gitlab.com/fpdpy/fpd\n",
      "  stderr: 'Cloning into 'repos/https://gitlab.com/fpdpy/fpd'...\n",
      "remote: Not Found\n",
      "fatal: repository 'https://github.com/https://gitlab.com/fpdpy/fpd/' not found\n",
      "'\n",
      "Cmd('git') failed due to: exit code(128)\n",
      "  cmdline: git clone -v https://github.com/https://gitlab.com/fpdpy/fpd repos/https://gitlab.com/fpdpy/fpd\n",
      "  stderr: 'Cloning into 'repos/https://gitlab.com/fpdpy/fpd'...\n",
      "remote: Not Found\n",
      "fatal: repository 'https://github.com/https://gitlab.com/fpdpy/fpd/' not found\n",
      "'\n"
     ]
    },
    {
     "name": "stderr",
     "output_type": "stream",
     "text": [
      " 85%|████████▌ | 39550/46292 [26:07:45<3:02:09,  1.62s/it]"
     ]
    },
    {
     "name": "stdout",
     "output_type": "stream",
     "text": [
      "Cmd('git') failed due to: exit code(128)\n",
      "  cmdline: git clone -v https://github.com/https://gitlab.com/fpdpy/fpd repos/https://gitlab.com/fpdpy/fpd\n",
      "  stderr: 'Cloning into 'repos/https://gitlab.com/fpdpy/fpd'...\n",
      "remote: Not Found\n",
      "fatal: repository 'https://github.com/https://gitlab.com/fpdpy/fpd/' not found\n",
      "'\n",
      "Cmd('git') failed due to: exit code(128)\n",
      "  cmdline: git clone -v https://github.com/https://gitlab.com/fpdpy/fpd repos/https://gitlab.com/fpdpy/fpd\n",
      "  stderr: 'Cloning into 'repos/https://gitlab.com/fpdpy/fpd'...\n",
      "remote: Not Found\n",
      "fatal: repository 'https://github.com/https://gitlab.com/fpdpy/fpd/' not found\n",
      "'\n"
     ]
    },
    {
     "name": "stderr",
     "output_type": "stream",
     "text": [
      " 85%|████████▌ | 39552/46292 [26:07:45<1:39:27,  1.13it/s]"
     ]
    },
    {
     "name": "stdout",
     "output_type": "stream",
     "text": [
      "Cmd('git') failed due to: exit code(128)\n",
      "  cmdline: git clone -v https://github.com/https://gitlab.com/fpdpy/fpd repos/https://gitlab.com/fpdpy/fpd\n",
      "  stderr: 'Cloning into 'repos/https://gitlab.com/fpdpy/fpd'...\n",
      "remote: Not Found\n",
      "fatal: repository 'https://github.com/https://gitlab.com/fpdpy/fpd/' not found\n",
      "'\n",
      "Cmd('git') failed due to: exit code(128)\n",
      "  cmdline: git clone -v https://github.com/https://gitlab.com/fpdpy/fpd repos/https://gitlab.com/fpdpy/fpd\n",
      "  stderr: 'Cloning into 'repos/https://gitlab.com/fpdpy/fpd'...\n",
      "remote: Not Found\n",
      "fatal: repository 'https://github.com/https://gitlab.com/fpdpy/fpd/' not found\n",
      "'\n"
     ]
    },
    {
     "name": "stderr",
     "output_type": "stream",
     "text": [
      " 85%|████████▌ | 39578/46292 [26:10:45<12:23:54,  6.65s/it]"
     ]
    },
    {
     "name": "stdout",
     "output_type": "stream",
     "text": [
      "Cmd('git') failed due to: exit code(128)\n",
      "  cmdline: git clone -v https://github.com/https://bitbucket.org/mxrodriguez/rocregression repos/https://bitbucket.org/mxrodriguez/rocregression\n",
      "  stderr: 'Cloning into 'repos/https://bitbucket.org/mxrodriguez/rocregression'...\n",
      "remote: Not Found\n",
      "fatal: repository 'https://github.com/https://bitbucket.org/mxrodriguez/rocregression/' not found\n",
      "'\n"
     ]
    },
    {
     "name": "stderr",
     "output_type": "stream",
     "text": [
      " 86%|████████▌ | 39592/46292 [26:11:54<4:55:18,  2.64s/it] "
     ]
    },
    {
     "name": "stdout",
     "output_type": "stream",
     "text": [
      "Cmd('git') failed due to: exit code(128)\n",
      "  cmdline: git clone -v https://github.com/https://bitbucket.org/sjain12/pivoter repos/https://bitbucket.org/sjain12/pivoter\n",
      "  stderr: 'Cloning into 'repos/https://bitbucket.org/sjain12/pivoter'...\n",
      "remote: Not Found\n",
      "fatal: repository 'https://github.com/https://bitbucket.org/sjain12/pivoter/' not found\n",
      "'\n"
     ]
    },
    {
     "name": "stderr",
     "output_type": "stream",
     "text": [
      " 86%|████████▌ | 39617/46292 [26:12:59<4:22:43,  2.36s/it] "
     ]
    },
    {
     "name": "stdout",
     "output_type": "stream",
     "text": [
      "Cmd('git') failed due to: exit code(128)\n",
      "  cmdline: git clone -v https://github.com/https://gitlab.com/higgsbounds/higgssignals repos/https://gitlab.com/higgsbounds/higgssignals\n",
      "  stderr: 'Cloning into 'repos/https://gitlab.com/higgsbounds/higgssignals'...\n",
      "remote: Not Found\n",
      "fatal: repository 'https://github.com/https://gitlab.com/higgsbounds/higgssignals/' not found\n",
      "'\n"
     ]
    },
    {
     "name": "stderr",
     "output_type": "stream",
     "text": [
      " 86%|████████▌ | 39625/46292 [26:13:17<2:33:55,  1.39s/it]"
     ]
    },
    {
     "name": "stdout",
     "output_type": "stream",
     "text": [
      "Cmd('git') failed due to: exit code(128)\n",
      "  cmdline: git clone -v https://github.com/https://gitlab.com/klb2/copula-mu-performance-bounds repos/https://gitlab.com/klb2/copula-mu-performance-bounds\n",
      "  stderr: 'Cloning into 'repos/https://gitlab.com/klb2/copula-mu-performance-bounds'...\n",
      "remote: Not Found\n",
      "fatal: repository 'https://github.com/https://gitlab.com/klb2/copula-mu-performance-bounds/' not found\n",
      "'\n"
     ]
    },
    {
     "name": "stderr",
     "output_type": "stream",
     "text": [
      " 86%|████████▌ | 39636/46292 [26:13:27<1:43:21,  1.07it/s]"
     ]
    },
    {
     "name": "stdout",
     "output_type": "stream",
     "text": [
      "Cmd('git') failed due to: exit code(128)\n",
      "  cmdline: git clone -v https://github.com/https://gitlab.com/klb2/copula-mu-performance-bounds repos/https://gitlab.com/klb2/copula-mu-performance-bounds\n",
      "  stderr: 'Cloning into 'repos/https://gitlab.com/klb2/copula-mu-performance-bounds'...\n",
      "remote: Not Found\n",
      "fatal: repository 'https://github.com/https://gitlab.com/klb2/copula-mu-performance-bounds/' not found\n",
      "'\n"
     ]
    },
    {
     "name": "stderr",
     "output_type": "stream",
     "text": [
      " 86%|████████▌ | 39640/46292 [26:13:39<3:56:53,  2.14s/it]"
     ]
    },
    {
     "name": "stdout",
     "output_type": "stream",
     "text": [
      "Cmd('git') failed due to: exit code(128)\n",
      "  cmdline: git clone -v https://github.com/https://gitlab.com/klb2/bounds-secrecy-outage repos/https://gitlab.com/klb2/bounds-secrecy-outage\n",
      "  stderr: 'Cloning into 'repos/https://gitlab.com/klb2/bounds-secrecy-outage'...\n",
      "remote: Not Found\n",
      "fatal: repository 'https://github.com/https://gitlab.com/klb2/bounds-secrecy-outage/' not found\n",
      "'\n"
     ]
    },
    {
     "name": "stderr",
     "output_type": "stream",
     "text": [
      " 86%|████████▌ | 39642/46292 [26:13:59<9:24:05,  5.09s/it] "
     ]
    },
    {
     "name": "stdout",
     "output_type": "stream",
     "text": [
      "Cmd('git') failed due to: exit code(128)\n",
      "  cmdline: git clone -v https://github.com/https://gitlab.com/klb2/copula-mu-performance-bounds repos/https://gitlab.com/klb2/copula-mu-performance-bounds\n",
      "  stderr: 'Cloning into 'repos/https://gitlab.com/klb2/copula-mu-performance-bounds'...\n",
      "remote: Not Found\n",
      "fatal: repository 'https://github.com/https://gitlab.com/klb2/copula-mu-performance-bounds/' not found\n",
      "'\n"
     ]
    },
    {
     "name": "stderr",
     "output_type": "stream",
     "text": [
      " 86%|████████▌ | 39651/46292 [26:14:20<3:55:13,  2.13s/it]"
     ]
    },
    {
     "name": "stdout",
     "output_type": "stream",
     "text": [
      "Cmd('git') failed due to: exit code(128)\n",
      "  cmdline: git clone -v https://github.com/szukiadam/pokerbot repos/szukiadam/pokerbot\n",
      "  stderr: 'Cloning into 'repos/szukiadam/pokerbot'...\n",
      "fatal: could not read Username for 'https://github.com': No such device or address\n",
      "'\n"
     ]
    },
    {
     "name": "stderr",
     "output_type": "stream",
     "text": [
      " 86%|████████▌ | 39655/46292 [26:14:28<3:57:02,  2.14s/it]"
     ]
    },
    {
     "name": "stdout",
     "output_type": "stream",
     "text": [
      "Cmd('git') failed due to: exit code(128)\n",
      "  cmdline: git clone -v https://github.com/https://gitlab.com/mbiagetti/persistent_homology_lss repos/https://gitlab.com/mbiagetti/persistent_homology_lss\n",
      "  stderr: 'Cloning into 'repos/https://gitlab.com/mbiagetti/persistent_homology_lss'...\n",
      "remote: Not Found\n",
      "fatal: repository 'https://github.com/https://gitlab.com/mbiagetti/persistent_homology_lss/' not found\n",
      "'\n"
     ]
    },
    {
     "name": "stderr",
     "output_type": "stream",
     "text": [
      " 86%|████████▌ | 39695/46292 [26:16:48<2:30:56,  1.37s/it] "
     ]
    },
    {
     "name": "stdout",
     "output_type": "stream",
     "text": [
      "Cmd('git') failed due to: exit code(128)\n",
      "  cmdline: git clone -v https://github.com/https://bitbucket.org/bigfootproject/hfsp repos/https://bitbucket.org/bigfootproject/hfsp\n",
      "  stderr: 'Cloning into 'repos/https://bitbucket.org/bigfootproject/hfsp'...\n",
      "remote: Not Found\n",
      "fatal: repository 'https://github.com/https://bitbucket.org/bigfootproject/hfsp/' not found\n",
      "'\n"
     ]
    },
    {
     "name": "stderr",
     "output_type": "stream",
     "text": [
      " 86%|████████▌ | 39698/46292 [26:17:01<4:25:17,  2.41s/it]"
     ]
    },
    {
     "name": "stdout",
     "output_type": "stream",
     "text": [
      "Cmd('git') failed due to: exit code(128)\n",
      "  cmdline: git clone -v https://github.com/microsoft/qlib/blob/main/qlib/contrib/model/pytorch_alstm.py repos/microsoft/qlib/blob/main/qlib/contrib/model/pytorch_alstm.py\n",
      "  stderr: 'Cloning into 'repos/microsoft/qlib/blob/main/qlib/contrib/model/pytorch_alstm.py'...\n",
      "fatal: repository 'https://github.com/microsoft/qlib/blob/main/qlib/contrib/model/pytorch_alstm.py/' not found\n",
      "'\n"
     ]
    },
    {
     "name": "stderr",
     "output_type": "stream",
     "text": [
      " 86%|████████▌ | 39701/46292 [26:17:05<3:16:11,  1.79s/it]"
     ]
    },
    {
     "name": "stdout",
     "output_type": "stream",
     "text": [
      "Cmd('git') failed due to: exit code(128)\n",
      "  cmdline: git clone -v https://github.com/sadimanna/publication_codes/blob/master/Self-Supervised_Representation_Learning_for_Detection_of_ACL_Tear_Injury_in_Knee_MR_Videos/ repos/sadimanna/publication_codes/blob/master/Self-Supervised_Representation_Learning_for_Detection_of_ACL_Tear_Injury_in_Knee_MR_Videos/\n",
      "  stderr: 'Cloning into 'repos/sadimanna/publication_codes/blob/master/Self-Supervised_Representation_Learning_for_Detection_of_ACL_Tear_Injury_in_Knee_MR_Videos'...\n",
      "fatal: repository 'https://github.com/sadimanna/publication_codes/blob/master/Self-Supervised_Representation_Learning_for_Detection_of_ACL_Tear_Injury_in_Knee_MR_Videos/' not found\n",
      "'\n"
     ]
    },
    {
     "name": "stderr",
     "output_type": "stream",
     "text": [
      " 86%|████████▌ | 39712/46292 [26:17:23<1:56:54,  1.07s/it]"
     ]
    },
    {
     "name": "stdout",
     "output_type": "stream",
     "text": [
      "Cmd('git') failed due to: exit code(128)\n",
      "  cmdline: git clone -v https://github.com/vvv214/LDP_Protocols/tree/master/post-process repos/vvv214/LDP_Protocols/tree/master/post-process\n",
      "  stderr: 'Cloning into 'repos/vvv214/LDP_Protocols/tree/master/post-process'...\n",
      "fatal: repository 'https://github.com/vvv214/LDP_Protocols/tree/master/post-process/' not found\n",
      "'\n"
     ]
    },
    {
     "name": "stderr",
     "output_type": "stream",
     "text": [
      " 86%|████████▌ | 39716/46292 [26:17:31<2:46:23,  1.52s/it]"
     ]
    },
    {
     "name": "stdout",
     "output_type": "stream",
     "text": [
      "Cmd('git') failed due to: exit code(128)\n",
      "  cmdline: git clone -v https://github.com/mlivesu/cinolib/blob/master/include/cinolib/earcut_mapping.h repos/mlivesu/cinolib/blob/master/include/cinolib/earcut_mapping.h\n",
      "  stderr: 'Cloning into 'repos/mlivesu/cinolib/blob/master/include/cinolib/earcut_mapping.h'...\n",
      "fatal: repository 'https://github.com/mlivesu/cinolib/blob/master/include/cinolib/earcut_mapping.h/' not found\n",
      "'\n"
     ]
    },
    {
     "name": "stderr",
     "output_type": "stream",
     "text": [
      " 86%|████████▌ | 39723/46292 [26:18:23<8:27:46,  4.64s/it] "
     ]
    },
    {
     "name": "stdout",
     "output_type": "stream",
     "text": [
      "Cmd('git') failed due to: exit code(128)\n",
      "  cmdline: git clone -v https://github.com/https://cran.r-project.org/package=babsim.hospital repos/https://cran.r-project.org/package=babsim.hospital\n",
      "  stderr: 'Cloning into 'repos/https://cran.r-project.org/package=babsim.hospital'...\n",
      "remote: Not Found\n",
      "fatal: repository 'https://github.com/https://cran.r-project.org/package=babsim.hospital/' not found\n",
      "'\n"
     ]
    },
    {
     "name": "stderr",
     "output_type": "stream",
     "text": [
      " 86%|████████▌ | 39771/46292 [26:21:31<7:59:13,  4.41s/it] "
     ]
    },
    {
     "name": "stdout",
     "output_type": "stream",
     "text": [
      "Cmd('git') failed due to: exit code(128)\n",
      "  cmdline: git clone -v https://github.com/mindspore-ai/mindspore/tree/master/model_zoo/research/rl/ldp_linucb repos/mindspore-ai/mindspore/tree/master/model_zoo/research/rl/ldp_linucb\n",
      "  stderr: 'Cloning into 'repos/mindspore-ai/mindspore/tree/master/model_zoo/research/rl/ldp_linucb'...\n",
      "fatal: repository 'https://github.com/mindspore-ai/mindspore/tree/master/model_zoo/research/rl/ldp_linucb/' not found\n",
      "'\n"
     ]
    },
    {
     "name": "stderr",
     "output_type": "stream",
     "text": [
      " 86%|████████▌ | 39777/46292 [26:21:37<3:18:37,  1.83s/it]"
     ]
    },
    {
     "name": "stdout",
     "output_type": "stream",
     "text": [
      "Cmd('git') failed due to: exit code(128)\n",
      "  cmdline: git clone -v https://github.com/deepmipt/DeepPavlov/blob/dev/deeppavlov/configs/kbqa/kbqa_cq_rus.json repos/deepmipt/DeepPavlov/blob/dev/deeppavlov/configs/kbqa/kbqa_cq_rus.json\n",
      "  stderr: 'Cloning into 'repos/deepmipt/DeepPavlov/blob/dev/deeppavlov/configs/kbqa/kbqa_cq_rus.json'...\n",
      "fatal: repository 'https://github.com/deepmipt/DeepPavlov/blob/dev/deeppavlov/configs/kbqa/kbqa_cq_rus.json/' not found\n",
      "'\n"
     ]
    },
    {
     "name": "stderr",
     "output_type": "stream",
     "text": [
      " 86%|████████▌ | 39793/46292 [26:22:04<2:56:38,  1.63s/it]"
     ]
    },
    {
     "name": "stdout",
     "output_type": "stream",
     "text": [
      "Cmd('git') failed due to: exit code(128)\n",
      "  cmdline: git clone -v https://github.com/https://bitbucket.org/drwi/2019-05-06-warpdrive-einstein-tensor-and-christoffel-symbols repos/https://bitbucket.org/drwi/2019-05-06-warpdrive-einstein-tensor-and-christoffel-symbols\n",
      "  stderr: 'Cloning into 'repos/https://bitbucket.org/drwi/2019-05-06-warpdrive-einstein-tensor-and-christoffel-symbols'...\n",
      "remote: Not Found\n",
      "fatal: repository 'https://github.com/https://bitbucket.org/drwi/2019-05-06-warpdrive-einstein-tensor-and-christoffel-symbols/' not found\n",
      "'\n"
     ]
    },
    {
     "name": "stderr",
     "output_type": "stream",
     "text": [
      " 86%|████████▌ | 39798/46292 [26:22:07<1:30:51,  1.19it/s]"
     ]
    },
    {
     "name": "stdout",
     "output_type": "stream",
     "text": [
      "Cmd('git') failed due to: exit code(128)\n",
      "  cmdline: git clone -v https://github.com/https://zenodo.org/record/3531935 repos/https://zenodo.org/record/3531935\n",
      "  stderr: 'Cloning into 'repos/https://zenodo.org/record/3531935'...\n",
      "remote: Not Found\n",
      "fatal: repository 'https://github.com/https://zenodo.org/record/3531935/' not found\n",
      "'\n"
     ]
    },
    {
     "name": "stderr",
     "output_type": "stream",
     "text": [
      " 86%|████████▌ | 39819/46292 [26:22:32<2:05:11,  1.16s/it]"
     ]
    },
    {
     "name": "stdout",
     "output_type": "stream",
     "text": [
      "Cmd('git') failed due to: exit code(128)\n",
      "  cmdline: git clone -v https://github.com/https://gitlab.com/artelabsuper/ivcnz-2019-bird repos/https://gitlab.com/artelabsuper/ivcnz-2019-bird\n",
      "  stderr: 'Cloning into 'repos/https://gitlab.com/artelabsuper/ivcnz-2019-bird'...\n",
      "remote: Not Found\n",
      "fatal: repository 'https://github.com/https://gitlab.com/artelabsuper/ivcnz-2019-bird/' not found\n",
      "'\n"
     ]
    },
    {
     "name": "stderr",
     "output_type": "stream",
     "text": [
      " 86%|████████▌ | 39827/46292 [26:22:48<2:27:42,  1.37s/it]"
     ]
    },
    {
     "name": "stdout",
     "output_type": "stream",
     "text": [
      "Cmd('git') failed due to: exit code(128)\n",
      "  cmdline: git clone -v https://github.com/echen9898/curiosity_baselines repos/echen9898/curiosity_baselines\n",
      "  stderr: 'Cloning into 'repos/echen9898/curiosity_baselines'...\n",
      "fatal: could not read Username for 'https://github.com': No such device or address\n",
      "'\n"
     ]
    },
    {
     "name": "stderr",
     "output_type": "stream",
     "text": [
      " 86%|████████▌ | 39877/46292 [26:24:51<2:16:06,  1.27s/it] "
     ]
    },
    {
     "name": "stdout",
     "output_type": "stream",
     "text": [
      "Cmd('git') failed due to: exit code(128)\n",
      "  cmdline: git clone -v https://github.com/https://gitlab.com/fdanieli/stbp-incompressible-flow repos/https://gitlab.com/fdanieli/stbp-incompressible-flow\n",
      "  stderr: 'Cloning into 'repos/https://gitlab.com/fdanieli/stbp-incompressible-flow'...\n",
      "remote: Not Found\n",
      "fatal: repository 'https://github.com/https://gitlab.com/fdanieli/stbp-incompressible-flow/' not found\n",
      "'\n"
     ]
    },
    {
     "name": "stderr",
     "output_type": "stream",
     "text": [
      " 86%|████████▌ | 39905/46292 [26:25:38<6:13:43,  3.51s/it]"
     ]
    },
    {
     "name": "stdout",
     "output_type": "stream",
     "text": [
      "Cmd('git') failed due to: exit code(128)\n",
      "  cmdline: git clone -v https://github.com/vcampmany/CudaVisionSysDeploy repos/vcampmany/CudaVisionSysDeploy\n",
      "  stderr: 'Cloning into 'repos/vcampmany/CudaVisionSysDeploy'...\n",
      "fatal: could not read Username for 'https://github.com': No such device or address\n",
      "'\n"
     ]
    },
    {
     "name": "stderr",
     "output_type": "stream",
     "text": [
      " 86%|████████▋ | 39935/46292 [26:30:11<3:01:27,  1.71s/it]  "
     ]
    },
    {
     "name": "stdout",
     "output_type": "stream",
     "text": [
      "Cmd('git') failed due to: exit code(128)\n",
      "  cmdline: git clone -v https://github.com/MehmetTopsakal/t4iss repos/MehmetTopsakal/t4iss\n",
      "  stderr: 'Cloning into 'repos/MehmetTopsakal/t4iss'...\n",
      "fatal: could not read Username for 'https://github.com': No such device or address\n",
      "'\n"
     ]
    },
    {
     "name": "stderr",
     "output_type": "stream",
     "text": [
      " 86%|████████▋ | 39950/46292 [26:31:07<4:22:38,  2.48s/it] "
     ]
    },
    {
     "name": "stdout",
     "output_type": "stream",
     "text": [
      "Cmd('git') failed due to: exit code(128)\n",
      "  cmdline: git clone -v https://github.com/jygerardy/causality repos/jygerardy/causality\n",
      "  stderr: 'Cloning into 'repos/jygerardy/causality'...\n",
      "fatal: could not read Username for 'https://github.com': No such device or address\n",
      "'\n"
     ]
    },
    {
     "name": "stderr",
     "output_type": "stream",
     "text": [
      " 87%|████████▋ | 40065/46292 [26:35:29<2:30:46,  1.45s/it] "
     ]
    },
    {
     "name": "stdout",
     "output_type": "stream",
     "text": [
      "Cmd('git') failed due to: exit code(128)\n",
      "  cmdline: git clone -v https://github.com/deepmipt/DeepPavlov/blob/master/deeppavlov/configs/classifiers/rusentiment_convers_bert.json repos/deepmipt/DeepPavlov/blob/master/deeppavlov/configs/classifiers/rusentiment_convers_bert.json\n",
      "  stderr: 'Cloning into 'repos/deepmipt/DeepPavlov/blob/master/deeppavlov/configs/classifiers/rusentiment_convers_bert.json'...\n",
      "fatal: repository 'https://github.com/deepmipt/DeepPavlov/blob/master/deeppavlov/configs/classifiers/rusentiment_convers_bert.json/' not found\n",
      "'\n"
     ]
    },
    {
     "name": "stderr",
     "output_type": "stream",
     "text": [
      " 87%|████████▋ | 40067/46292 [26:35:34<3:13:49,  1.87s/it]"
     ]
    },
    {
     "name": "stdout",
     "output_type": "stream",
     "text": [
      "Cmd('git') failed due to: exit code(128)\n",
      "  cmdline: git clone -v https://github.com/deepmipt/DeepPavlov/blob/master/deeppavlov/configs/classifiers/rusentiment_elmo_twitter_cnn.json repos/deepmipt/DeepPavlov/blob/master/deeppavlov/configs/classifiers/rusentiment_elmo_twitter_cnn.json\n",
      "  stderr: 'Cloning into 'repos/deepmipt/DeepPavlov/blob/master/deeppavlov/configs/classifiers/rusentiment_elmo_twitter_cnn.json'...\n",
      "fatal: repository 'https://github.com/deepmipt/DeepPavlov/blob/master/deeppavlov/configs/classifiers/rusentiment_elmo_twitter_cnn.json/' not found\n",
      "'\n"
     ]
    },
    {
     "name": "stderr",
     "output_type": "stream",
     "text": [
      " 87%|████████▋ | 40151/46292 [26:38:05<1:20:26,  1.27it/s] "
     ]
    },
    {
     "name": "stdout",
     "output_type": "stream",
     "text": [
      "Cmd('git') failed due to: exit code(128)\n",
      "  cmdline: git clone -v https://github.com/google-research/google-research/tree/master/mpi_extrapolation repos/google-research/google-research/tree/master/mpi_extrapolation\n",
      "  stderr: 'Cloning into 'repos/google-research/google-research/tree/master/mpi_extrapolation'...\n",
      "fatal: repository 'https://github.com/google-research/google-research/tree/master/mpi_extrapolation/' not found\n",
      "'\n"
     ]
    },
    {
     "name": "stderr",
     "output_type": "stream",
     "text": [
      " 87%|████████▋ | 40265/46292 [26:41:30<3:34:34,  2.14s/it]"
     ]
    },
    {
     "name": "stdout",
     "output_type": "stream",
     "text": [
      "Cmd('git') failed due to: exit code(128)\n",
      "  cmdline: git clone -v https://github.com/enyijiang/xxxx.github.io repos/enyijiang/xxxx.github.io\n",
      "  stderr: 'Cloning into 'repos/enyijiang/xxxx.github.io'...\n",
      "fatal: could not read Username for 'https://github.com': No such device or address\n",
      "'\n"
     ]
    },
    {
     "name": "stderr",
     "output_type": "stream",
     "text": [
      " 87%|████████▋ | 40406/46292 [26:46:40<3:23:46,  2.08s/it] "
     ]
    },
    {
     "name": "stdout",
     "output_type": "stream",
     "text": [
      "Cmd('git') failed due to: exit code(128)\n",
      "  cmdline: git clone -v https://github.com/PranavEranki/Broadscale-Domain-Adaptation repos/PranavEranki/Broadscale-Domain-Adaptation\n",
      "  stderr: 'Cloning into 'repos/PranavEranki/Broadscale-Domain-Adaptation'...\n",
      "fatal: could not read Username for 'https://github.com': No such device or address\n",
      "'\n"
     ]
    },
    {
     "name": "stderr",
     "output_type": "stream",
     "text": [
      " 87%|████████▋ | 40409/46292 [26:46:45<2:50:39,  1.74s/it]"
     ]
    },
    {
     "name": "stdout",
     "output_type": "stream",
     "text": [
      "Cmd('git') failed due to: exit code(128)\n",
      "  cmdline: git clone -v https://github.com/BioXAI/DeepCOVIDExplainer repos/BioXAI/DeepCOVIDExplainer\n",
      "  stderr: 'Cloning into 'repos/BioXAI/DeepCOVIDExplainer'...\n",
      "fatal: could not read Username for 'https://github.com': No such device or address\n",
      "'\n"
     ]
    },
    {
     "name": "stderr",
     "output_type": "stream",
     "text": [
      " 87%|████████▋ | 40505/46292 [26:51:20<6:42:14,  4.17s/it] "
     ]
    },
    {
     "name": "stdout",
     "output_type": "stream",
     "text": [
      "Cmd('git') failed due to: exit code(128)\n",
      "  cmdline: git clone -v https://github.com/HaoNingWu/Regularized-Least-Squares-Approximation-using-Orthogonal-Polynomials repos/HaoNingWu/Regularized-Least-Squares-Approximation-using-Orthogonal-Polynomials\n",
      "  stderr: 'Cloning into 'repos/HaoNingWu/Regularized-Least-Squares-Approximation-using-Orthogonal-Polynomials'...\n",
      "fatal: could not read Username for 'https://github.com': No such device or address\n",
      "'\n"
     ]
    },
    {
     "name": "stderr",
     "output_type": "stream",
     "text": [
      " 88%|████████▊ | 40623/46292 [26:55:05<3:00:27,  1.91s/it] "
     ]
    },
    {
     "name": "stdout",
     "output_type": "stream",
     "text": [
      "Cmd('git') failed due to: exit code(128)\n",
      "  cmdline: git clone -v https://github.com/vadimkantorov/busytex repos/vadimkantorov/busytex\n",
      "  stderr: 'Cloning into 'repos/vadimkantorov/busytex'...\n",
      "fatal: could not read Username for 'https://github.com': No such device or address\n",
      "'\n"
     ]
    },
    {
     "name": "stderr",
     "output_type": "stream",
     "text": [
      " 88%|████████▊ | 40728/46292 [26:59:07<1:09:30,  1.33it/s] "
     ]
    },
    {
     "name": "stdout",
     "output_type": "stream",
     "text": [
      "Cmd('git') failed due to: exit code(128)\n",
      "  cmdline: git clone -v https://github.com/tensorpack/tensorpack/tree/master/examples/DeepQNetwork repos/tensorpack/tensorpack/tree/master/examples/DeepQNetwork\n",
      "  stderr: 'Cloning into 'repos/tensorpack/tensorpack/tree/master/examples/DeepQNetwork'...\n",
      "fatal: repository 'https://github.com/tensorpack/tensorpack/tree/master/examples/DeepQNetwork/' not found\n",
      "'\n"
     ]
    },
    {
     "name": "stderr",
     "output_type": "stream",
     "text": [
      " 88%|████████▊ | 40754/46292 [26:59:29<1:04:34,  1.43it/s]"
     ]
    },
    {
     "name": "stdout",
     "output_type": "stream",
     "text": [
      "Cmd('git') failed due to: exit code(128)\n",
      "  cmdline: git clone -v https://github.com/tensorpack/tensorpack/tree/master/examples/DeepQNetwork repos/tensorpack/tensorpack/tree/master/examples/DeepQNetwork\n",
      "  stderr: 'Cloning into 'repos/tensorpack/tensorpack/tree/master/examples/DeepQNetwork'...\n",
      "fatal: repository 'https://github.com/tensorpack/tensorpack/tree/master/examples/DeepQNetwork/' not found\n",
      "'\n"
     ]
    },
    {
     "name": "stderr",
     "output_type": "stream",
     "text": [
      " 88%|████████▊ | 40798/46292 [27:01:36<6:24:17,  4.20s/it] "
     ]
    },
    {
     "name": "stdout",
     "output_type": "stream",
     "text": [
      "Cmd('git') failed due to: exit code(128)\n",
      "  cmdline: git clone -v https://github.com/jomian78/2d_image_gans repos/jomian78/2d_image_gans\n",
      "  stderr: 'Cloning into 'repos/jomian78/2d_image_gans'...\n",
      "fatal: could not read Username for 'https://github.com': No such device or address\n",
      "'\n"
     ]
    },
    {
     "name": "stderr",
     "output_type": "stream",
     "text": [
      " 89%|████████▊ | 41002/46292 [27:07:10<1:01:40,  1.43it/s] "
     ]
    },
    {
     "name": "stdout",
     "output_type": "stream",
     "text": [
      "Cmd('git') failed due to: exit code(128)\n",
      "  cmdline: git clone -v https://github.com/anasvaf/Energy_ds repos/anasvaf/Energy_ds\n",
      "  stderr: 'Cloning into 'repos/anasvaf/Energy_ds'...\n",
      "fatal: could not read Username for 'https://github.com': No such device or address\n",
      "'\n"
     ]
    },
    {
     "name": "stderr",
     "output_type": "stream",
     "text": [
      " 89%|████████▊ | 41055/46292 [27:08:39<2:11:18,  1.50s/it]"
     ]
    },
    {
     "name": "stdout",
     "output_type": "stream",
     "text": [
      "Cmd('git') failed due to: exit code(128)\n",
      "  cmdline: git clone -v https://github.com/https://worksheets.codalab.org/worksheets/0x7c3fb3bf981646c9bc11c538e881f37e repos/https://worksheets.codalab.org/worksheets/0x7c3fb3bf981646c9bc11c538e881f37e\n",
      "  stderr: 'Cloning into 'repos/https://worksheets.codalab.org/worksheets/0x7c3fb3bf981646c9bc11c538e881f37e'...\n",
      "remote: Not Found\n",
      "fatal: repository 'https://github.com/https://worksheets.codalab.org/worksheets/0x7c3fb3bf981646c9bc11c538e881f37e/' not found\n",
      "'\n"
     ]
    },
    {
     "name": "stderr",
     "output_type": "stream",
     "text": [
      " 89%|████████▊ | 41069/46292 [27:08:50<1:00:04,  1.45it/s]"
     ]
    },
    {
     "name": "stdout",
     "output_type": "stream",
     "text": [
      "Cmd('git') failed due to: exit code(128)\n",
      "  cmdline: git clone -v https://github.com/https://worksheets.codalab.org/worksheets/0xc6edf0c9bec643ac9e74418bd6ad4136 repos/https://worksheets.codalab.org/worksheets/0xc6edf0c9bec643ac9e74418bd6ad4136\n",
      "  stderr: 'Cloning into 'repos/https://worksheets.codalab.org/worksheets/0xc6edf0c9bec643ac9e74418bd6ad4136'...\n",
      "remote: Not Found\n",
      "fatal: repository 'https://github.com/https://worksheets.codalab.org/worksheets/0xc6edf0c9bec643ac9e74418bd6ad4136/' not found\n",
      "'\n"
     ]
    },
    {
     "name": "stderr",
     "output_type": "stream",
     "text": [
      " 89%|████████▊ | 41073/46292 [27:08:55<1:24:22,  1.03it/s]"
     ]
    },
    {
     "name": "stdout",
     "output_type": "stream",
     "text": [
      "Cmd('git') failed due to: exit code(128)\n",
      "  cmdline: git clone -v https://github.com/https://worksheets.codalab.org/worksheets/0x822ba2f9005f49f08755a84443c76456 repos/https://worksheets.codalab.org/worksheets/0x822ba2f9005f49f08755a84443c76456\n",
      "  stderr: 'Cloning into 'repos/https://worksheets.codalab.org/worksheets/0x822ba2f9005f49f08755a84443c76456'...\n",
      "remote: Not Found\n",
      "fatal: repository 'https://github.com/https://worksheets.codalab.org/worksheets/0x822ba2f9005f49f08755a84443c76456/' not found\n",
      "'\n"
     ]
    },
    {
     "name": "stderr",
     "output_type": "stream",
     "text": [
      "\r",
      " 89%|████████▊ | 41074/46292 [27:08:56<1:10:45,  1.23it/s]"
     ]
    },
    {
     "name": "stdout",
     "output_type": "stream",
     "text": [
      "Cmd('git') failed due to: exit code(128)\n",
      "  cmdline: git clone -v https://github.com/https://worksheets.codalab.org/worksheets/0x578f01269d644524b0d4ab2a7a2a6984 repos/https://worksheets.codalab.org/worksheets/0x578f01269d644524b0d4ab2a7a2a6984\n",
      "  stderr: 'Cloning into 'repos/https://worksheets.codalab.org/worksheets/0x578f01269d644524b0d4ab2a7a2a6984'...\n",
      "remote: Not Found\n",
      "fatal: repository 'https://github.com/https://worksheets.codalab.org/worksheets/0x578f01269d644524b0d4ab2a7a2a6984/' not found\n",
      "'\n"
     ]
    },
    {
     "name": "stderr",
     "output_type": "stream",
     "text": [
      " 89%|████████▉ | 41172/46292 [27:11:31<1:57:14,  1.37s/it] "
     ]
    },
    {
     "name": "stdout",
     "output_type": "stream",
     "text": [
      "Cmd('git') failed due to: exit code(128)\n",
      "  cmdline: git clone -v https://github.com/tensorpack/tensorpack/tree/master/examples/DeepQNetwork repos/tensorpack/tensorpack/tree/master/examples/DeepQNetwork\n",
      "  stderr: 'Cloning into 'repos/tensorpack/tensorpack/tree/master/examples/DeepQNetwork'...\n",
      "fatal: repository 'https://github.com/tensorpack/tensorpack/tree/master/examples/DeepQNetwork/' not found\n",
      "'\n"
     ]
    },
    {
     "name": "stderr",
     "output_type": "stream",
     "text": [
      " 89%|████████▉ | 41254/46292 [27:15:18<7:39:43,  5.48s/it] "
     ]
    },
    {
     "name": "stdout",
     "output_type": "stream",
     "text": [
      "Cmd('git') failed due to: exit code(128)\n",
      "  cmdline: git clone -v https://github.com/hachinoone/trysat repos/hachinoone/trysat\n",
      "  stderr: 'Cloning into 'repos/hachinoone/trysat'...\n",
      "fatal: could not read Username for 'https://github.com': No such device or address\n",
      "'\n"
     ]
    },
    {
     "name": "stderr",
     "output_type": "stream",
     "text": [
      " 89%|████████▉ | 41335/46292 [27:17:39<1:29:26,  1.08s/it]"
     ]
    },
    {
     "name": "stdout",
     "output_type": "stream",
     "text": [
      "Cmd('git') failed due to: exit code(128)\n",
      "  cmdline: git clone -v https://github.com/https://worksheets.codalab.org/worksheets/0x6d343ebeabd14571a9549fbf68fd28a4 repos/https://worksheets.codalab.org/worksheets/0x6d343ebeabd14571a9549fbf68fd28a4\n",
      "  stderr: 'Cloning into 'repos/https://worksheets.codalab.org/worksheets/0x6d343ebeabd14571a9549fbf68fd28a4'...\n",
      "remote: Not Found\n",
      "fatal: repository 'https://github.com/https://worksheets.codalab.org/worksheets/0x6d343ebeabd14571a9549fbf68fd28a4/' not found\n",
      "'\n"
     ]
    },
    {
     "name": "stderr",
     "output_type": "stream",
     "text": [
      " 89%|████████▉ | 41398/46292 [27:19:42<1:17:23,  1.05it/s]"
     ]
    },
    {
     "name": "stdout",
     "output_type": "stream",
     "text": [
      "Cmd('git') failed due to: exit code(128)\n",
      "  cmdline: git clone -v https://github.com/KurochkinAlexey/Hierarchical-Attention-Based-Recurrent-Highway-Networks-for-Time-Series-Prediction/blob/master/README.md repos/KurochkinAlexey/Hierarchical-Attention-Based-Recurrent-Highway-Networks-for-Time-Series-Prediction/blob/master/README.md\n",
      "  stderr: 'Cloning into 'repos/KurochkinAlexey/Hierarchical-Attention-Based-Recurrent-Highway-Networks-for-Time-Series-Prediction/blob/master/README.md'...\n",
      "fatal: repository 'https://github.com/KurochkinAlexey/Hierarchical-Attention-Based-Recurrent-Highway-Networks-for-Time-Series-Prediction/blob/master/README.md/' not found\n",
      "'\n"
     ]
    },
    {
     "name": "stderr",
     "output_type": "stream",
     "text": [
      " 89%|████████▉ | 41400/46292 [27:19:45<1:28:12,  1.08s/it]"
     ]
    },
    {
     "name": "stdout",
     "output_type": "stream",
     "text": [
      "Cmd('git') failed due to: exit code(128)\n",
      "  cmdline: git clone -v https://github.com/deepmipt/DeepPavlov/blob/0.9.1/deeppavlov/configs/sentence_segmentation/sentseg_dailydialog.json repos/deepmipt/DeepPavlov/blob/0.9.1/deeppavlov/configs/sentence_segmentation/sentseg_dailydialog.json\n",
      "  stderr: 'Cloning into 'repos/deepmipt/DeepPavlov/blob/0.9.1/deeppavlov/configs/sentence_segmentation/sentseg_dailydialog.json'...\n",
      "fatal: repository 'https://github.com/deepmipt/DeepPavlov/blob/0.9.1/deeppavlov/configs/sentence_segmentation/sentseg_dailydialog.json/' not found\n",
      "'\n"
     ]
    },
    {
     "name": "stderr",
     "output_type": "stream",
     "text": [
      " 90%|████████▉ | 41628/46292 [27:26:11<2:55:15,  2.25s/it] "
     ]
    },
    {
     "name": "stdout",
     "output_type": "stream",
     "text": [
      "Cmd('git') failed due to: exit code(128)\n",
      "  cmdline: git clone -v https://github.com/neu-spiral/ISM repos/neu-spiral/ISM\n",
      "  stderr: 'Cloning into 'repos/neu-spiral/ISM'...\n",
      "fatal: could not read Username for 'https://github.com': No such device or address\n",
      "'\n"
     ]
    },
    {
     "name": "stderr",
     "output_type": "stream",
     "text": [
      " 90%|█████████ | 41665/46292 [27:26:58<1:35:38,  1.24s/it]"
     ]
    },
    {
     "name": "stdout",
     "output_type": "stream",
     "text": [
      "Cmd('git') failed due to: exit code(128)\n",
      "  cmdline: git clone -v https://github.com/raian123/Intracranial-Hemorrhage-Raian repos/raian123/Intracranial-Hemorrhage-Raian\n",
      "  stderr: 'Cloning into 'repos/raian123/Intracranial-Hemorrhage-Raian'...\n",
      "fatal: could not read Username for 'https://github.com': No such device or address\n",
      "'\n"
     ]
    },
    {
     "name": "stderr",
     "output_type": "stream",
     "text": [
      " 90%|█████████ | 41822/46292 [27:30:33<1:48:56,  1.46s/it]"
     ]
    },
    {
     "name": "stdout",
     "output_type": "stream",
     "text": [
      "Cmd('git') failed due to: exit code(128)\n",
      "  cmdline: git clone -v https://github.com/alexanderpiers/DAMICWIMPSearch repos/alexanderpiers/DAMICWIMPSearch\n",
      "  stderr: 'Cloning into 'repos/alexanderpiers/DAMICWIMPSearch'...\n",
      "fatal: could not read Username for 'https://github.com': No such device or address\n",
      "'\n"
     ]
    },
    {
     "name": "stderr",
     "output_type": "stream",
     "text": [
      " 91%|█████████ | 41976/46292 [27:35:00<1:02:38,  1.15it/s] "
     ]
    },
    {
     "name": "stdout",
     "output_type": "stream",
     "text": [
      "Cmd('git') failed due to: exit code(128)\n",
      "  cmdline: git clone -v https://github.com/LukasHeigl/Riverraid_Improvements repos/LukasHeigl/Riverraid_Improvements\n",
      "  stderr: 'Cloning into 'repos/LukasHeigl/Riverraid_Improvements'...\n",
      "fatal: could not read Username for 'https://github.com': No such device or address\n",
      "'\n"
     ]
    },
    {
     "name": "stderr",
     "output_type": "stream",
     "text": [
      " 91%|█████████ | 41989/46292 [27:35:25<2:45:51,  2.31s/it]"
     ]
    },
    {
     "name": "stdout",
     "output_type": "stream",
     "text": [
      "Cmd('git') failed due to: exit code(128)\n",
      "  cmdline: git clone -v https://github.com/nur-ag/IGEL repos/nur-ag/IGEL\n",
      "  stderr: 'Cloning into 'repos/nur-ag/IGEL'...\n",
      "fatal: could not read Username for 'https://github.com': No such device or address\n",
      "'\n"
     ]
    },
    {
     "name": "stderr",
     "output_type": "stream",
     "text": [
      " 91%|█████████ | 42123/46292 [27:39:30<1:05:27,  1.06it/s] "
     ]
    },
    {
     "name": "stdout",
     "output_type": "stream",
     "text": [
      "Cmd('git') failed due to: exit code(128)\n",
      "  cmdline: git clone -v https://github.com/rohanchandra30/Spectral-Trajectory-and-Behavior-Prediction repos/rohanchandra30/Spectral-Trajectory-and-Behavior-Prediction\n",
      "  stderr: 'Cloning into 'repos/rohanchandra30/Spectral-Trajectory-and-Behavior-Prediction'...\n",
      "fatal: could not read Username for 'https://github.com': No such device or address\n",
      "'\n"
     ]
    },
    {
     "name": "stderr",
     "output_type": "stream",
     "text": [
      " 91%|█████████ | 42148/46292 [27:40:02<1:05:51,  1.05it/s]"
     ]
    },
    {
     "name": "stdout",
     "output_type": "stream",
     "text": [
      "Cmd('git') failed due to: exit code(128)\n",
      "  cmdline: git clone -v https://github.com/rohanchandra30/Spectral-Trajectory-and-Behavior-Prediction repos/rohanchandra30/Spectral-Trajectory-and-Behavior-Prediction\n",
      "  stderr: 'Cloning into 'repos/rohanchandra30/Spectral-Trajectory-and-Behavior-Prediction'...\n",
      "fatal: could not read Username for 'https://github.com': No such device or address\n",
      "'\n"
     ]
    },
    {
     "name": "stderr",
     "output_type": "stream",
     "text": [
      " 91%|█████████ | 42167/46292 [27:40:19<48:53,  1.41it/s]  "
     ]
    },
    {
     "name": "stdout",
     "output_type": "stream",
     "text": [
      "Cmd('git') failed due to: exit code(128)\n",
      "  cmdline: git clone -v https://github.com/google-research/tensor2robot/tree/master/research/grasp2vec repos/google-research/tensor2robot/tree/master/research/grasp2vec\n",
      "  stderr: 'Cloning into 'repos/google-research/tensor2robot/tree/master/research/grasp2vec'...\n",
      "fatal: repository 'https://github.com/google-research/tensor2robot/tree/master/research/grasp2vec/' not found\n",
      "'\n"
     ]
    },
    {
     "name": "stderr",
     "output_type": "stream",
     "text": [
      " 91%|█████████ | 42233/46292 [27:41:36<46:11,  1.46it/s]  "
     ]
    },
    {
     "name": "stdout",
     "output_type": "stream",
     "text": [
      "Cmd('git') failed due to: exit code(128)\n",
      "  cmdline: git clone -v https://github.com/raian123/Intracranial-Hemorrhage-Raian repos/raian123/Intracranial-Hemorrhage-Raian\n",
      "  stderr: 'Cloning into 'repos/raian123/Intracranial-Hemorrhage-Raian'...\n",
      "fatal: could not read Username for 'https://github.com': No such device or address\n",
      "'\n"
     ]
    },
    {
     "name": "stderr",
     "output_type": "stream",
     "text": [
      " 91%|█████████▏| 42350/46292 [27:45:05<2:06:58,  1.93s/it]"
     ]
    },
    {
     "name": "stdout",
     "output_type": "stream",
     "text": [
      "Cmd('git') failed due to: exit code(128)\n",
      "  cmdline: git clone -v https://github.com/wlhoyt/Faster-R-Cnn repos/wlhoyt/Faster-R-Cnn\n",
      "  stderr: 'Cloning into 'repos/wlhoyt/Faster-R-Cnn'...\n",
      "fatal: could not read Username for 'https://github.com': No such device or address\n",
      "'\n"
     ]
    },
    {
     "name": "stderr",
     "output_type": "stream",
     "text": [
      " 92%|█████████▏| 42394/46292 [27:46:28<35:26,  1.83it/s]  "
     ]
    },
    {
     "name": "stdout",
     "output_type": "stream",
     "text": [
      "Cmd('git') failed due to: exit code(128)\n",
      "  cmdline: git clone -v https://github.com/zaineb-abdelli/Depression-detection repos/zaineb-abdelli/Depression-detection\n",
      "  stderr: 'Cloning into 'repos/zaineb-abdelli/Depression-detection'...\n",
      "fatal: could not read Username for 'https://github.com': No such device or address\n",
      "'\n"
     ]
    },
    {
     "name": "stderr",
     "output_type": "stream",
     "text": [
      " 92%|█████████▏| 42428/46292 [27:48:39<2:42:03,  2.52s/it] "
     ]
    },
    {
     "name": "stdout",
     "output_type": "stream",
     "text": [
      "Cmd('git') failed due to: exit code(128)\n",
      "  cmdline: git clone -v https://github.com/Near32/ReferentialGym/tree/master/zoo/referential-games%2Bst-gs repos/Near32/ReferentialGym/tree/master/zoo/referential-games%2Bst-gs\n",
      "  stderr: 'Cloning into 'repos/Near32/ReferentialGym/tree/master/zoo/referential-games%2Bst-gs'...\n",
      "fatal: repository 'https://github.com/Near32/ReferentialGym/tree/master/zoo/referential-games%2Bst-gs/' not found\n",
      "'\n"
     ]
    },
    {
     "name": "stderr",
     "output_type": "stream",
     "text": [
      " 92%|█████████▏| 42491/46292 [27:50:46<2:55:47,  2.77s/it]"
     ]
    },
    {
     "name": "stdout",
     "output_type": "stream",
     "text": [
      "Cmd('git') failed due to: exit code(128)\n",
      "  cmdline: git clone -v https://github.com/tensorflow/privacy/tree/master/research/pate_2018 repos/tensorflow/privacy/tree/master/research/pate_2018\n",
      "  stderr: 'Cloning into 'repos/tensorflow/privacy/tree/master/research/pate_2018'...\n",
      "fatal: repository 'https://github.com/tensorflow/privacy/tree/master/research/pate_2018/' not found\n",
      "'\n"
     ]
    },
    {
     "name": "stderr",
     "output_type": "stream",
     "text": [
      " 92%|█████████▏| 42547/46292 [27:51:57<1:11:29,  1.15s/it]"
     ]
    },
    {
     "name": "stdout",
     "output_type": "stream",
     "text": [
      "Cmd('git') failed due to: exit code(128)\n",
      "  cmdline: git clone -v https://github.com/prolearner/hypergrad/blob/master/examples/iMAML.py repos/prolearner/hypergrad/blob/master/examples/iMAML.py\n",
      "  stderr: 'Cloning into 'repos/prolearner/hypergrad/blob/master/examples/iMAML.py'...\n",
      "fatal: repository 'https://github.com/prolearner/hypergrad/blob/master/examples/iMAML.py/' not found\n",
      "'\n"
     ]
    },
    {
     "name": "stderr",
     "output_type": "stream",
     "text": [
      " 92%|█████████▏| 42551/46292 [27:52:01<52:11,  1.19it/s]  "
     ]
    },
    {
     "name": "stdout",
     "output_type": "stream",
     "text": [
      "Cmd('git') failed due to: exit code(128)\n",
      "  cmdline: git clone -v https://github.com/https://zenodo.org/record/4267207 repos/https://zenodo.org/record/4267207\n",
      "  stderr: 'Cloning into 'repos/https://zenodo.org/record/4267207'...\n",
      "remote: Not Found\n",
      "fatal: repository 'https://github.com/https://zenodo.org/record/4267207/' not found\n",
      "'\n"
     ]
    },
    {
     "name": "stderr",
     "output_type": "stream",
     "text": [
      " 92%|█████████▏| 42618/46292 [27:53:14<58:44,  1.04it/s]  "
     ]
    },
    {
     "name": "stdout",
     "output_type": "stream",
     "text": [
      "Cmd('git') failed due to: exit code(128)\n",
      "  cmdline: git clone -v https://github.com/lab-ml/nn/tree/master/labml_nn/transformers/feedback repos/lab-ml/nn/tree/master/labml_nn/transformers/feedback\n",
      "  stderr: 'Cloning into 'repos/lab-ml/nn/tree/master/labml_nn/transformers/feedback'...\n",
      "fatal: repository 'https://github.com/lab-ml/nn/tree/master/labml_nn/transformers/feedback/' not found\n",
      "'\n"
     ]
    },
    {
     "name": "stderr",
     "output_type": "stream",
     "text": [
      " 92%|█████████▏| 42636/46292 [27:53:27<33:11,  1.84it/s]  "
     ]
    },
    {
     "name": "stdout",
     "output_type": "stream",
     "text": [
      "Cmd('git') failed due to: exit code(128)\n",
      "  cmdline: git clone -v https://github.com/rohanchandra30/Spectral-Trajectory-and-Behavior-Prediction repos/rohanchandra30/Spectral-Trajectory-and-Behavior-Prediction\n",
      "  stderr: 'Cloning into 'repos/rohanchandra30/Spectral-Trajectory-and-Behavior-Prediction'...\n",
      "fatal: could not read Username for 'https://github.com': No such device or address\n",
      "'\n"
     ]
    },
    {
     "name": "stderr",
     "output_type": "stream",
     "text": [
      " 92%|█████████▏| 42647/46292 [27:54:09<4:06:00,  4.05s/it]"
     ]
    },
    {
     "name": "stdout",
     "output_type": "stream",
     "text": [
      "Cmd('git') failed due to: exit code(128)\n",
      "  cmdline: git clone -v https://github.com/https://bitbucket.org/sballas8/cuspdefexamples repos/https://bitbucket.org/sballas8/cuspdefexamples\n",
      "  stderr: 'Cloning into 'repos/https://bitbucket.org/sballas8/cuspdefexamples'...\n",
      "remote: Not Found\n",
      "fatal: repository 'https://github.com/https://bitbucket.org/sballas8/cuspdefexamples/' not found\n",
      "'\n"
     ]
    },
    {
     "name": "stderr",
     "output_type": "stream",
     "text": [
      " 92%|█████████▏| 42707/46292 [27:56:07<3:02:57,  3.06s/it] "
     ]
    },
    {
     "name": "stdout",
     "output_type": "stream",
     "text": [
      "Cmd('git') failed due to: exit code(128)\n",
      "  cmdline: git clone -v https://github.com/tensorflow/models/tree/master/research/slim repos/tensorflow/models/tree/master/research/slim\n",
      "  stderr: 'Cloning into 'repos/tensorflow/models/tree/master/research/slim'...\n",
      "fatal: repository 'https://github.com/tensorflow/models/tree/master/research/slim/' not found\n",
      "'\n"
     ]
    },
    {
     "name": "stderr",
     "output_type": "stream",
     "text": [
      " 92%|█████████▏| 42797/46292 [28:00:46<2:08:53,  2.21s/it] "
     ]
    },
    {
     "name": "stdout",
     "output_type": "stream",
     "text": [
      "Cmd('git') failed due to: exit code(128)\n",
      "  cmdline: git clone -v https://github.com/tensorflow/models/tree/master/research/slim repos/tensorflow/models/tree/master/research/slim\n",
      "  stderr: 'Cloning into 'repos/tensorflow/models/tree/master/research/slim'...\n",
      "fatal: repository 'https://github.com/tensorflow/models/tree/master/research/slim/' not found\n",
      "'\n"
     ]
    },
    {
     "name": "stderr",
     "output_type": "stream",
     "text": [
      " 92%|█████████▏| 42820/46292 [28:01:32<2:18:44,  2.40s/it]"
     ]
    },
    {
     "name": "stdout",
     "output_type": "stream",
     "text": [
      "Cmd('git') failed due to: exit code(128)\n",
      "  cmdline: git clone -v https://github.com/tensorflow/models/tree/master/research/sentiment_analysis repos/tensorflow/models/tree/master/research/sentiment_analysis\n",
      "  stderr: 'Cloning into 'repos/tensorflow/models/tree/master/research/sentiment_analysis'...\n",
      "fatal: repository 'https://github.com/tensorflow/models/tree/master/research/sentiment_analysis/' not found\n",
      "'\n"
     ]
    },
    {
     "name": "stderr",
     "output_type": "stream",
     "text": [
      " 93%|█████████▎| 42831/46292 [28:01:43<48:19,  1.19it/s]  "
     ]
    },
    {
     "name": "stdout",
     "output_type": "stream",
     "text": [
      "Cmd('git') failed due to: exit code(128)\n",
      "  cmdline: git clone -v https://github.com/tensorflow/models/tree/master/research/slim repos/tensorflow/models/tree/master/research/slim\n",
      "  stderr: 'Cloning into 'repos/tensorflow/models/tree/master/research/slim'...\n",
      "fatal: repository 'https://github.com/tensorflow/models/tree/master/research/slim/' not found\n",
      "'\n"
     ]
    },
    {
     "name": "stderr",
     "output_type": "stream",
     "text": [
      " 93%|█████████▎| 42841/46292 [28:01:58<1:26:20,  1.50s/it]"
     ]
    },
    {
     "name": "stdout",
     "output_type": "stream",
     "text": [
      "Cmd('git') failed due to: exit code(128)\n",
      "  cmdline: git clone -v https://github.com/tensorflow/models/tree/master/research/slim repos/tensorflow/models/tree/master/research/slim\n",
      "  stderr: 'Cloning into 'repos/tensorflow/models/tree/master/research/slim'...\n",
      "fatal: repository 'https://github.com/tensorflow/models/tree/master/research/slim/' not found\n",
      "'\n"
     ]
    },
    {
     "name": "stderr",
     "output_type": "stream",
     "text": [
      " 93%|█████████▎| 42906/46292 [28:05:22<1:45:43,  1.87s/it]"
     ]
    },
    {
     "name": "stdout",
     "output_type": "stream",
     "text": [
      "Cmd('git') failed due to: exit code(128)\n",
      "  cmdline: git clone -v https://github.com/tensorflow/models/tree/master/research/cognitive_mapping_and_planning repos/tensorflow/models/tree/master/research/cognitive_mapping_and_planning\n",
      "  stderr: 'Cloning into 'repos/tensorflow/models/tree/master/research/cognitive_mapping_and_planning'...\n",
      "fatal: repository 'https://github.com/tensorflow/models/tree/master/research/cognitive_mapping_and_planning/' not found\n",
      "'\n"
     ]
    },
    {
     "name": "stderr",
     "output_type": "stream",
     "text": [
      " 93%|█████████▎| 42916/46292 [28:05:27<35:19,  1.59it/s]  "
     ]
    },
    {
     "name": "stdout",
     "output_type": "stream",
     "text": [
      "Cmd('git') failed due to: exit code(128)\n",
      "  cmdline: git clone -v https://github.com/tensorflow/models/tree/master/research/slim repos/tensorflow/models/tree/master/research/slim\n",
      "  stderr: 'Cloning into 'repos/tensorflow/models/tree/master/research/slim'...\n",
      "fatal: repository 'https://github.com/tensorflow/models/tree/master/research/slim/' not found\n",
      "'\n"
     ]
    },
    {
     "name": "stderr",
     "output_type": "stream",
     "text": [
      " 93%|█████████▎| 42923/46292 [28:05:34<46:04,  1.22it/s]  "
     ]
    },
    {
     "name": "stdout",
     "output_type": "stream",
     "text": [
      "Cmd('git') failed due to: exit code(128)\n",
      "  cmdline: git clone -v https://github.com/NervanaSystems/nlp-architect/blob/master/nlp_architect/models/transformers/quantized_bert.py repos/NervanaSystems/nlp-architect/blob/master/nlp_architect/models/transformers/quantized_bert.py\n",
      "  stderr: 'Cloning into 'repos/NervanaSystems/nlp-architect/blob/master/nlp_architect/models/transformers/quantized_bert.py'...\n",
      "fatal: repository 'https://github.com/NervanaSystems/nlp-architect/blob/master/nlp_architect/models/transformers/quantized_bert.py/' not found\n",
      "'\n"
     ]
    },
    {
     "name": "stderr",
     "output_type": "stream",
     "text": [
      " 93%|█████████▎| 42984/46292 [28:07:10<45:52,  1.20it/s]  "
     ]
    },
    {
     "name": "stdout",
     "output_type": "stream",
     "text": [
      "Cmd('git') failed due to: exit code(128)\n",
      "  cmdline: git clone -v https://github.com/tensorflow/models/tree/master/research/slim repos/tensorflow/models/tree/master/research/slim\n",
      "  stderr: 'Cloning into 'repos/tensorflow/models/tree/master/research/slim'...\n",
      "fatal: repository 'https://github.com/tensorflow/models/tree/master/research/slim/' not found\n",
      "'\n"
     ]
    },
    {
     "name": "stderr",
     "output_type": "stream",
     "text": [
      " 93%|█████████▎| 43037/46292 [28:09:14<1:39:19,  1.83s/it]"
     ]
    },
    {
     "name": "stdout",
     "output_type": "stream",
     "text": [
      "Cmd('git') failed due to: exit code(128)\n",
      "  cmdline: git clone -v https://github.com/henrychacon/Backdoor_attacks/tree/main/D-Vine_copula_auto_encoder repos/henrychacon/Backdoor_attacks/tree/main/D-Vine_copula_auto_encoder\n",
      "  stderr: 'Cloning into 'repos/henrychacon/Backdoor_attacks/tree/main/D-Vine_copula_auto_encoder'...\n",
      "fatal: repository 'https://github.com/henrychacon/Backdoor_attacks/tree/main/D-Vine_copula_auto_encoder/' not found\n",
      "'\n"
     ]
    },
    {
     "name": "stderr",
     "output_type": "stream",
     "text": [
      " 93%|█████████▎| 43044/46292 [28:09:16<27:09,  1.99it/s]  "
     ]
    },
    {
     "name": "stdout",
     "output_type": "stream",
     "text": [
      "Cmd('git') failed due to: exit code(128)\n",
      "  cmdline: git clone -v https://github.com/tensorflow/models/tree/master/research/slim repos/tensorflow/models/tree/master/research/slim\n",
      "  stderr: 'Cloning into 'repos/tensorflow/models/tree/master/research/slim'...\n",
      "fatal: repository 'https://github.com/tensorflow/models/tree/master/research/slim/' not found\n",
      "'\n"
     ]
    },
    {
     "name": "stderr",
     "output_type": "stream",
     "text": [
      "\r",
      " 93%|█████████▎| 43045/46292 [28:09:16<25:00,  2.16it/s]"
     ]
    },
    {
     "name": "stdout",
     "output_type": "stream",
     "text": [
      "Cmd('git') failed due to: exit code(128)\n",
      "  cmdline: git clone -v https://github.com/tensorflow/models/tree/master/research/slim repos/tensorflow/models/tree/master/research/slim\n",
      "  stderr: 'Cloning into 'repos/tensorflow/models/tree/master/research/slim'...\n",
      "fatal: repository 'https://github.com/tensorflow/models/tree/master/research/slim/' not found\n",
      "'\n"
     ]
    },
    {
     "name": "stderr",
     "output_type": "stream",
     "text": [
      " 93%|█████████▎| 43072/46292 [28:10:06<1:47:54,  2.01s/it]"
     ]
    },
    {
     "name": "stdout",
     "output_type": "stream",
     "text": [
      "Cmd('git') failed due to: exit code(128)\n",
      "  cmdline: git clone -v https://github.com/tensorflow/models/tree/master/research/slim repos/tensorflow/models/tree/master/research/slim\n",
      "  stderr: 'Cloning into 'repos/tensorflow/models/tree/master/research/slim'...\n",
      "fatal: repository 'https://github.com/tensorflow/models/tree/master/research/slim/' not found\n",
      "'\n"
     ]
    },
    {
     "name": "stderr",
     "output_type": "stream",
     "text": [
      " 93%|█████████▎| 43092/46292 [28:10:45<40:55,  1.30it/s]  "
     ]
    },
    {
     "name": "stdout",
     "output_type": "stream",
     "text": [
      "Cmd('git') failed due to: exit code(128)\n",
      "  cmdline: git clone -v https://github.com/huggingface/transformers/blob/master/examples/seq2seq/README.md repos/huggingface/transformers/blob/master/examples/seq2seq/README.md\n",
      "  stderr: 'Cloning into 'repos/huggingface/transformers/blob/master/examples/seq2seq/README.md'...\n",
      "fatal: repository 'https://github.com/huggingface/transformers/blob/master/examples/seq2seq/README.md/' not found\n",
      "'\n"
     ]
    },
    {
     "name": "stderr",
     "output_type": "stream",
     "text": [
      " 93%|█████████▎| 43105/46292 [28:10:56<41:31,  1.28it/s]"
     ]
    },
    {
     "name": "stdout",
     "output_type": "stream",
     "text": [
      "Cmd('git') failed due to: exit code(128)\n",
      "  cmdline: git clone -v https://github.com/vermavinay982/depth-estimation repos/vermavinay982/depth-estimation\n",
      "  stderr: 'Cloning into 'repos/vermavinay982/depth-estimation'...\n",
      "fatal: could not read Username for 'https://github.com': No such device or address\n",
      "'\n"
     ]
    },
    {
     "name": "stderr",
     "output_type": "stream",
     "text": [
      " 93%|█████████▎| 43111/46292 [28:11:37<3:05:36,  3.50s/it]"
     ]
    },
    {
     "name": "stdout",
     "output_type": "stream",
     "text": [
      "Cmd('git') failed due to: exit code(128)\n",
      "  cmdline: git clone -v https://github.com/Cedricyc/MultiThreading-Bottleneck-Investigation repos/Cedricyc/MultiThreading-Bottleneck-Investigation\n",
      "  stderr: 'Cloning into 'repos/Cedricyc/MultiThreading-Bottleneck-Investigation'...\n",
      "fatal: could not read Username for 'https://github.com': No such device or address\n",
      "'\n"
     ]
    },
    {
     "name": "stderr",
     "output_type": "stream",
     "text": [
      " 93%|█████████▎| 43123/46292 [28:11:45<34:03,  1.55it/s]  "
     ]
    },
    {
     "name": "stdout",
     "output_type": "stream",
     "text": [
      "Cmd('git') failed due to: exit code(128)\n",
      "  cmdline: git clone -v https://github.com/https://bitbucket.org/iiscseal/activethief repos/https://bitbucket.org/iiscseal/activethief\n",
      "  stderr: 'Cloning into 'repos/https://bitbucket.org/iiscseal/activethief'...\n",
      "remote: Not Found\n",
      "fatal: repository 'https://github.com/https://bitbucket.org/iiscseal/activethief/' not found\n",
      "'\n"
     ]
    },
    {
     "name": "stderr",
     "output_type": "stream",
     "text": [
      " 93%|█████████▎| 43155/46292 [28:12:38<32:56,  1.59it/s]  "
     ]
    },
    {
     "name": "stdout",
     "output_type": "stream",
     "text": [
      "Cmd('git') failed due to: exit code(128)\n",
      "  cmdline: git clone -v https://github.com/tensorflow/models/tree/master/research/slim repos/tensorflow/models/tree/master/research/slim\n",
      "  stderr: 'Cloning into 'repos/tensorflow/models/tree/master/research/slim'...\n",
      "fatal: repository 'https://github.com/tensorflow/models/tree/master/research/slim/' not found\n",
      "'\n"
     ]
    },
    {
     "name": "stderr",
     "output_type": "stream",
     "text": [
      " 93%|█████████▎| 43193/46292 [28:13:22<54:25,  1.05s/it]  "
     ]
    },
    {
     "name": "stdout",
     "output_type": "stream",
     "text": [
      "Cmd('git') failed due to: exit code(128)\n",
      "  cmdline: git clone -v https://github.com/https://gitlab.com/pentagon-functions/PentagonMI repos/https://gitlab.com/pentagon-functions/PentagonMI\n",
      "  stderr: 'Cloning into 'repos/https://gitlab.com/pentagon-functions/PentagonMI'...\n",
      "remote: Not Found\n",
      "fatal: repository 'https://github.com/https://gitlab.com/pentagon-functions/PentagonMI/' not found\n",
      "'\n"
     ]
    },
    {
     "name": "stderr",
     "output_type": "stream",
     "text": [
      " 94%|█████████▍| 43405/46292 [28:21:09<1:08:59,  1.43s/it]"
     ]
    },
    {
     "name": "stdout",
     "output_type": "stream",
     "text": [
      "Cmd('git') failed due to: exit code(128)\n",
      "  cmdline: git clone -v https://github.com/https://gitlab.com/pypr/inlet_outlet repos/https://gitlab.com/pypr/inlet_outlet\n",
      "  stderr: 'Cloning into 'repos/https://gitlab.com/pypr/inlet_outlet'...\n",
      "remote: Not Found\n",
      "fatal: repository 'https://github.com/https://gitlab.com/pypr/inlet_outlet/' not found\n",
      "'\n"
     ]
    },
    {
     "name": "stderr",
     "output_type": "stream",
     "text": [
      " 94%|█████████▍| 43480/46292 [28:25:40<4:07:36,  5.28s/it] "
     ]
    },
    {
     "name": "stdout",
     "output_type": "stream",
     "text": [
      "Cmd('git') failed due to: exit code(128)\n",
      "  cmdline: git clone -v https://github.com/https://gitlab.com/gortizji/product_graphs repos/https://gitlab.com/gortizji/product_graphs\n",
      "  stderr: 'Cloning into 'repos/https://gitlab.com/gortizji/product_graphs'...\n",
      "remote: Not Found\n",
      "fatal: repository 'https://github.com/https://gitlab.com/gortizji/product_graphs/' not found\n",
      "'\n"
     ]
    },
    {
     "name": "stderr",
     "output_type": "stream",
     "text": [
      " 94%|█████████▍| 43513/46292 [28:27:27<49:40,  1.07s/it]  "
     ]
    },
    {
     "name": "stdout",
     "output_type": "stream",
     "text": [
      "Cmd('git') failed due to: exit code(128)\n",
      "  cmdline: git clone -v https://github.com/https://gitlab.com/sumo-rl/sumo_openai_gym repos/https://gitlab.com/sumo-rl/sumo_openai_gym\n",
      "  stderr: 'Cloning into 'repos/https://gitlab.com/sumo-rl/sumo_openai_gym'...\n",
      "remote: Not Found\n",
      "fatal: repository 'https://github.com/https://gitlab.com/sumo-rl/sumo_openai_gym/' not found\n",
      "'\n"
     ]
    },
    {
     "name": "stderr",
     "output_type": "stream",
     "text": [
      "\r",
      " 94%|█████████▍| 43514/46292 [28:27:27<43:04,  1.07it/s]"
     ]
    },
    {
     "name": "stdout",
     "output_type": "stream",
     "text": [
      "Cmd('git') failed due to: exit code(128)\n",
      "  cmdline: git clone -v https://github.com/https://gitlab.com/nicstrisc/RUSTICO repos/https://gitlab.com/nicstrisc/RUSTICO\n",
      "  stderr: 'Cloning into 'repos/https://gitlab.com/nicstrisc/RUSTICO'...\n",
      "remote: Not Found\n",
      "fatal: repository 'https://github.com/https://gitlab.com/nicstrisc/RUSTICO/' not found\n",
      "'\n"
     ]
    },
    {
     "name": "stderr",
     "output_type": "stream",
     "text": [
      " 94%|█████████▍| 43533/46292 [28:27:48<24:36,  1.87it/s]  "
     ]
    },
    {
     "name": "stdout",
     "output_type": "stream",
     "text": [
      "Cmd('git') failed due to: exit code(128)\n",
      "  cmdline: git clone -v https://github.com/https://gitlab.com/pasubda/dalphi-study-data repos/https://gitlab.com/pasubda/dalphi-study-data\n",
      "  stderr: 'Cloning into 'repos/https://gitlab.com/pasubda/dalphi-study-data'...\n",
      "remote: Not Found\n",
      "fatal: repository 'https://github.com/https://gitlab.com/pasubda/dalphi-study-data/' not found\n",
      "'\n"
     ]
    },
    {
     "name": "stderr",
     "output_type": "stream",
     "text": [
      " 94%|█████████▍| 43649/46292 [28:32:36<57:58,  1.32s/it]   "
     ]
    },
    {
     "name": "stdout",
     "output_type": "stream",
     "text": [
      "Cmd('git') failed due to: exit code(128)\n",
      "  cmdline: git clone -v https://github.com/adrienBolland/Direct-Environment-Search-with-Gradient-Ascent repos/adrienBolland/Direct-Environment-Search-with-Gradient-Ascent\n",
      "  stderr: 'Cloning into 'repos/adrienBolland/Direct-Environment-Search-with-Gradient-Ascent'...\n",
      "fatal: could not read Username for 'https://github.com': No such device or address\n",
      "'\n"
     ]
    },
    {
     "name": "stderr",
     "output_type": "stream",
     "text": [
      " 94%|█████████▍| 43698/46292 [28:35:10<5:11:44,  7.21s/it]"
     ]
    },
    {
     "name": "stdout",
     "output_type": "stream",
     "text": [
      "Cmd('git') failed due to: exit code(128)\n",
      "  cmdline: git clone -v https://github.com/https://bitbucket.org/robvanderg/cacheembeds repos/https://bitbucket.org/robvanderg/cacheembeds\n",
      "  stderr: 'Cloning into 'repos/https://bitbucket.org/robvanderg/cacheembeds'...\n",
      "remote: Not Found\n",
      "fatal: repository 'https://github.com/https://bitbucket.org/robvanderg/cacheembeds/' not found\n",
      "'\n"
     ]
    },
    {
     "name": "stderr",
     "output_type": "stream",
     "text": [
      " 94%|█████████▍| 43703/46292 [28:35:12<1:26:22,  2.00s/it]"
     ]
    },
    {
     "name": "stdout",
     "output_type": "stream",
     "text": [
      "Cmd('git') failed due to: exit code(128)\n",
      "  cmdline: git clone -v https://github.com/https://bitbucket.org/timobaumann/deeplyrik repos/https://bitbucket.org/timobaumann/deeplyrik\n",
      "  stderr: 'Cloning into 'repos/https://bitbucket.org/timobaumann/deeplyrik'...\n",
      "remote: Not Found\n",
      "fatal: repository 'https://github.com/https://bitbucket.org/timobaumann/deeplyrik/' not found\n",
      "'\n"
     ]
    },
    {
     "name": "stderr",
     "output_type": "stream",
     "text": [
      "\r",
      " 94%|█████████▍| 43705/46292 [28:35:13<51:25,  1.19s/it]  "
     ]
    },
    {
     "name": "stdout",
     "output_type": "stream",
     "text": [
      "Cmd('git') failed due to: exit code(128)\n",
      "  cmdline: git clone -v https://github.com/https://bitbucket.org/thedark10rd/geodict repos/https://bitbucket.org/thedark10rd/geodict\n",
      "  stderr: 'Cloning into 'repos/https://bitbucket.org/thedark10rd/geodict'...\n",
      "remote: Not Found\n",
      "fatal: repository 'https://github.com/https://bitbucket.org/thedark10rd/geodict/' not found\n",
      "'\n"
     ]
    },
    {
     "name": "stderr",
     "output_type": "stream",
     "text": [
      " 94%|█████████▍| 43726/46292 [28:35:43<45:09,  1.06s/it]  "
     ]
    },
    {
     "name": "stdout",
     "output_type": "stream",
     "text": [
      "Cmd('git') failed due to: exit code(128)\n",
      "  cmdline: git clone -v https://github.com/https://gitlab.com/akb89/pyfn repos/https://gitlab.com/akb89/pyfn\n",
      "  stderr: 'Cloning into 'repos/https://gitlab.com/akb89/pyfn'...\n",
      "remote: Not Found\n",
      "fatal: repository 'https://github.com/https://gitlab.com/akb89/pyfn/' not found\n",
      "'\n"
     ]
    },
    {
     "name": "stderr",
     "output_type": "stream",
     "text": [
      " 94%|█████████▍| 43737/46292 [28:36:28<3:07:26,  4.40s/it]"
     ]
    },
    {
     "name": "stdout",
     "output_type": "stream",
     "text": [
      "Cmd('git') failed due to: exit code(128)\n",
      "  cmdline: git clone -v https://github.com/https://bitbucket.org/lowlands/ttagger-nsd repos/https://bitbucket.org/lowlands/ttagger-nsd\n",
      "  stderr: 'Cloning into 'repos/https://bitbucket.org/lowlands/ttagger-nsd'...\n",
      "remote: Not Found\n",
      "fatal: repository 'https://github.com/https://bitbucket.org/lowlands/ttagger-nsd/' not found\n",
      "'\n"
     ]
    },
    {
     "name": "stderr",
     "output_type": "stream",
     "text": [
      " 95%|█████████▍| 43780/46292 [28:37:53<4:17:19,  6.15s/it]"
     ]
    },
    {
     "name": "stdout",
     "output_type": "stream",
     "text": [
      "Cmd('git') failed due to: exit code(128)\n",
      "  cmdline: git clone -v https://github.com/HEEJOWOO/ESPCN repos/HEEJOWOO/ESPCN\n",
      "  stderr: 'Cloning into 'repos/HEEJOWOO/ESPCN'...\n",
      "fatal: could not read Username for 'https://github.com': No such device or address\n",
      "'\n"
     ]
    },
    {
     "name": "stderr",
     "output_type": "stream",
     "text": [
      " 95%|█████████▍| 43794/46292 [28:38:26<1:02:44,  1.51s/it]"
     ]
    },
    {
     "name": "stdout",
     "output_type": "stream",
     "text": [
      "Cmd('git') failed due to: exit code(128)\n",
      "  cmdline: git clone -v https://github.com/kaldi-asr/kaldi/tree/master/egs/tedlium/s5_r3 repos/kaldi-asr/kaldi/tree/master/egs/tedlium/s5_r3\n",
      "  stderr: 'Cloning into 'repos/kaldi-asr/kaldi/tree/master/egs/tedlium/s5_r3'...\n",
      "fatal: repository 'https://github.com/kaldi-asr/kaldi/tree/master/egs/tedlium/s5_r3/' not found\n",
      "'\n"
     ]
    },
    {
     "name": "stderr",
     "output_type": "stream",
     "text": [
      " 95%|█████████▍| 43802/46292 [28:38:33<38:48,  1.07it/s]  "
     ]
    },
    {
     "name": "stdout",
     "output_type": "stream",
     "text": [
      "Cmd('git') failed due to: exit code(128)\n",
      "  cmdline: git clone -v https://github.com/abhinavsagar/msnnff repos/abhinavsagar/msnnff\n",
      "  stderr: 'Cloning into 'repos/abhinavsagar/msnnff'...\n",
      "fatal: could not read Username for 'https://github.com': No such device or address\n",
      "'\n"
     ]
    },
    {
     "name": "stderr",
     "output_type": "stream",
     "text": [
      " 95%|█████████▍| 43822/46292 [28:39:21<1:13:17,  1.78s/it]"
     ]
    },
    {
     "name": "stdout",
     "output_type": "stream",
     "text": [
      "Cmd('git') failed due to: exit code(128)\n",
      "  cmdline: git clone -v https://github.com/google-research/google-research/tree/master/jax_dft repos/google-research/google-research/tree/master/jax_dft\n",
      "  stderr: 'Cloning into 'repos/google-research/google-research/tree/master/jax_dft'...\n",
      "fatal: repository 'https://github.com/google-research/google-research/tree/master/jax_dft/' not found\n",
      "'\n"
     ]
    },
    {
     "name": "stderr",
     "output_type": "stream",
     "text": [
      " 95%|█████████▍| 43826/46292 [28:39:23<29:40,  1.39it/s]  "
     ]
    },
    {
     "name": "stdout",
     "output_type": "stream",
     "text": [
      "Cmd('git') failed due to: exit code(128)\n",
      "  cmdline: git clone -v https://github.com/MaybeShewill-CV/spnet-tensorflow repos/MaybeShewill-CV/spnet-tensorflow\n",
      "  stderr: 'Cloning into 'repos/MaybeShewill-CV/spnet-tensorflow'...\n",
      "fatal: could not read Username for 'https://github.com': No such device or address\n",
      "'\n"
     ]
    },
    {
     "name": "stderr",
     "output_type": "stream",
     "text": [
      " 95%|█████████▍| 43876/46292 [28:40:59<19:51,  2.03it/s]  "
     ]
    },
    {
     "name": "stdout",
     "output_type": "stream",
     "text": [
      "Cmd('git') failed due to: exit code(128)\n",
      "  cmdline: git clone -v https://github.com/ruc98/MARNet repos/ruc98/MARNet\n",
      "  stderr: 'Cloning into 'repos/ruc98/MARNet'...\n",
      "fatal: could not read Username for 'https://github.com': No such device or address\n",
      "'\n"
     ]
    },
    {
     "name": "stderr",
     "output_type": "stream",
     "text": [
      " 95%|█████████▍| 43881/46292 [28:41:01<16:30,  2.44it/s]"
     ]
    },
    {
     "name": "stdout",
     "output_type": "stream",
     "text": [
      "Cmd('git') failed due to: exit code(128)\n",
      "  cmdline: git clone -v https://github.com/Mostafa-Ellebodi/super-resolution repos/Mostafa-Ellebodi/super-resolution\n",
      "  stderr: 'Cloning into 'repos/Mostafa-Ellebodi/super-resolution'...\n",
      "fatal: could not read Username for 'https://github.com': No such device or address\n",
      "'\n"
     ]
    },
    {
     "name": "stderr",
     "output_type": "stream",
     "text": [
      " 95%|█████████▍| 43920/46292 [28:42:47<32:32,  1.21it/s]  "
     ]
    },
    {
     "name": "stdout",
     "output_type": "stream",
     "text": [
      "Cmd('git') failed due to: exit code(128)\n",
      "  cmdline: git clone -v https://github.com/adeliegorce/tools4reionisation/tree/master/comprehensive_scenario repos/adeliegorce/tools4reionisation/tree/master/comprehensive_scenario\n",
      "  stderr: 'Cloning into 'repos/adeliegorce/tools4reionisation/tree/master/comprehensive_scenario'...\n",
      "fatal: repository 'https://github.com/adeliegorce/tools4reionisation/tree/master/comprehensive_scenario/' not found\n",
      "'\n"
     ]
    },
    {
     "name": "stderr",
     "output_type": "stream",
     "text": [
      " 95%|█████████▍| 43942/46292 [28:43:24<1:25:48,  2.19s/it]"
     ]
    },
    {
     "name": "stdout",
     "output_type": "stream",
     "text": [
      "Cmd('git') failed due to: exit code(128)\n",
      "  cmdline: git clone -v https://github.com/wq765416999/-. repos/wq765416999/-.\n",
      "  stderr: 'Cloning into 'repos/wq765416999/-.'...\n",
      "fatal: could not read Username for 'https://github.com': No such device or address\n",
      "'\n"
     ]
    },
    {
     "name": "stderr",
     "output_type": "stream",
     "text": [
      " 95%|█████████▌| 43987/46292 [28:45:22<41:09,  1.07s/it]  "
     ]
    },
    {
     "name": "stdout",
     "output_type": "stream",
     "text": [
      "Cmd('git') failed due to: exit code(128)\n",
      "  cmdline: git clone -v https://github.com/alexliyihao/ConSinGAN repos/alexliyihao/ConSinGAN\n",
      "  stderr: 'Cloning into 'repos/alexliyihao/ConSinGAN'...\n",
      "fatal: could not read Username for 'https://github.com': No such device or address\n",
      "'\n"
     ]
    },
    {
     "name": "stderr",
     "output_type": "stream",
     "text": [
      " 95%|█████████▌| 43989/46292 [28:45:23<28:12,  1.36it/s]"
     ]
    },
    {
     "name": "stdout",
     "output_type": "stream",
     "text": [
      "Cmd('git') failed due to: exit code(128)\n",
      "  cmdline: git clone -v https://github.com/alexliyihao/ConSinGAN repos/alexliyihao/ConSinGAN\n",
      "  stderr: 'Cloning into 'repos/alexliyihao/ConSinGAN'...\n",
      "fatal: could not read Username for 'https://github.com': No such device or address\n",
      "'\n"
     ]
    },
    {
     "name": "stderr",
     "output_type": "stream",
     "text": [
      " 95%|█████████▌| 43996/46292 [28:45:29<25:15,  1.51it/s]"
     ]
    },
    {
     "name": "stdout",
     "output_type": "stream",
     "text": [
      "Cmd('git') failed due to: exit code(128)\n",
      "  cmdline: git clone -v https://github.com/melissajoseph/class_neutrinos repos/melissajoseph/class_neutrinos\n",
      "  stderr: 'Cloning into 'repos/melissajoseph/class_neutrinos'...\n",
      "fatal: could not read Username for 'https://github.com': No such device or address\n",
      "'\n"
     ]
    },
    {
     "name": "stderr",
     "output_type": "stream",
     "text": [
      " 95%|█████████▌| 44037/46292 [28:48:18<49:37,  1.32s/it]   "
     ]
    },
    {
     "name": "stdout",
     "output_type": "stream",
     "text": [
      "Cmd('git') failed due to: exit code(128)\n",
      "  cmdline: git clone -v https://github.com/linzhenyuyuchen/MMdetection repos/linzhenyuyuchen/MMdetection\n",
      "  stderr: 'Cloning into 'repos/linzhenyuyuchen/MMdetection'...\n",
      "fatal: could not read Username for 'https://github.com': No such device or address\n",
      "'\n"
     ]
    },
    {
     "name": "stderr",
     "output_type": "stream",
     "text": [
      " 95%|█████████▌| 44087/46292 [28:49:37<24:57,  1.47it/s]  "
     ]
    },
    {
     "name": "stdout",
     "output_type": "stream",
     "text": [
      "Cmd('git') failed due to: exit code(128)\n",
      "  cmdline: git clone -v https://github.com/DeVriesMatt/DeepSAD repos/DeVriesMatt/DeepSAD\n",
      "  stderr: 'Cloning into 'repos/DeVriesMatt/DeepSAD'...\n",
      "fatal: could not read Username for 'https://github.com': No such device or address\n",
      "'\n"
     ]
    },
    {
     "name": "stderr",
     "output_type": "stream",
     "text": [
      " 95%|█████████▌| 44099/46292 [28:49:45<22:10,  1.65it/s]"
     ]
    },
    {
     "name": "stdout",
     "output_type": "stream",
     "text": [
      "Cmd('git') failed due to: exit code(128)\n",
      "  cmdline: git clone -v https://github.com/Hrener/mmdet repos/Hrener/mmdet\n",
      "  stderr: 'Cloning into 'repos/Hrener/mmdet'...\n",
      "fatal: could not read Username for 'https://github.com': No such device or address\n",
      "'\n"
     ]
    },
    {
     "name": "stderr",
     "output_type": "stream",
     "text": [
      " 95%|█████████▌| 44125/46292 [28:50:11<25:40,  1.41it/s]  "
     ]
    },
    {
     "name": "stdout",
     "output_type": "stream",
     "text": [
      "Cmd('git') failed due to: exit code(128)\n",
      "  cmdline: git clone -v https://github.com/Catherine5500/InfromationExtraction repos/Catherine5500/InfromationExtraction\n",
      "  stderr: 'Cloning into 'repos/Catherine5500/InfromationExtraction'...\n",
      "fatal: could not read Username for 'https://github.com': No such device or address\n",
      "'\n"
     ]
    },
    {
     "name": "stderr",
     "output_type": "stream",
     "text": [
      "\r",
      " 95%|█████████▌| 44126/46292 [28:50:11<21:29,  1.68it/s]"
     ]
    },
    {
     "name": "stdout",
     "output_type": "stream",
     "text": [
      "Cmd('git') failed due to: exit code(128)\n",
      "  cmdline: git clone -v https://github.com/Catherine5500/InfromationExtraction repos/Catherine5500/InfromationExtraction\n",
      "  stderr: 'Cloning into 'repos/Catherine5500/InfromationExtraction'...\n",
      "fatal: could not read Username for 'https://github.com': No such device or address\n",
      "'\n"
     ]
    },
    {
     "name": "stderr",
     "output_type": "stream",
     "text": [
      "\r",
      " 95%|█████████▌| 44127/46292 [28:50:11<18:21,  1.96it/s]"
     ]
    },
    {
     "name": "stdout",
     "output_type": "stream",
     "text": [
      "Cmd('git') failed due to: exit code(128)\n",
      "  cmdline: git clone -v https://github.com/Catherine5500/InfromationExtraction repos/Catherine5500/InfromationExtraction\n",
      "  stderr: 'Cloning into 'repos/Catherine5500/InfromationExtraction'...\n",
      "fatal: could not read Username for 'https://github.com': No such device or address\n",
      "'\n"
     ]
    },
    {
     "name": "stderr",
     "output_type": "stream",
     "text": [
      " 95%|█████████▌| 44139/46292 [28:50:50<1:26:03,  2.40s/it]"
     ]
    },
    {
     "name": "stdout",
     "output_type": "stream",
     "text": [
      "Cmd('git') failed due to: exit code(128)\n",
      "  cmdline: git clone -v https://github.com/Xadach/Geonet-tf1.14 repos/Xadach/Geonet-tf1.14\n",
      "  stderr: 'Cloning into 'repos/Xadach/Geonet-tf1.14'...\n",
      "fatal: could not read Username for 'https://github.com': No such device or address\n",
      "'\n"
     ]
    },
    {
     "name": "stderr",
     "output_type": "stream",
     "text": [
      " 96%|█████████▌| 44282/46292 [28:55:18<1:07:56,  2.03s/it] "
     ]
    },
    {
     "name": "stdout",
     "output_type": "stream",
     "text": [
      "Cmd('git') failed due to: exit code(128)\n",
      "  cmdline: git clone -v https://github.com/yehaur/mpi-Tensorflow repos/yehaur/mpi-Tensorflow\n",
      "  stderr: 'Cloning into 'repos/yehaur/mpi-Tensorflow'...\n",
      "fatal: could not read Username for 'https://github.com': No such device or address\n",
      "'\n"
     ]
    },
    {
     "name": "stderr",
     "output_type": "stream",
     "text": [
      " 96%|█████████▌| 44351/46292 [28:57:09<40:50,  1.26s/it]  "
     ]
    },
    {
     "name": "stdout",
     "output_type": "stream",
     "text": [
      "Cmd('git') failed due to: exit code(128)\n",
      "  cmdline: git clone -v https://github.com/anands-iiitd/ccvae repos/anands-iiitd/ccvae\n",
      "  stderr: 'Cloning into 'repos/anands-iiitd/ccvae'...\n",
      "fatal: could not read Username for 'https://github.com': No such device or address\n",
      "'\n"
     ]
    },
    {
     "name": "stderr",
     "output_type": "stream",
     "text": [
      "\r",
      " 96%|█████████▌| 44352/46292 [28:57:09<31:21,  1.03it/s]"
     ]
    },
    {
     "name": "stdout",
     "output_type": "stream",
     "text": [
      "Cmd('git') failed due to: exit code(128)\n",
      "  cmdline: git clone -v https://github.com/anands-iiitd/ccvae repos/anands-iiitd/ccvae\n",
      "  stderr: 'Cloning into 'repos/anands-iiitd/ccvae'...\n",
      "fatal: could not read Username for 'https://github.com': No such device or address\n",
      "'\n"
     ]
    },
    {
     "name": "stderr",
     "output_type": "stream",
     "text": [
      " 96%|█████████▌| 44354/46292 [28:57:13<39:19,  1.22s/it]"
     ]
    },
    {
     "name": "stdout",
     "output_type": "stream",
     "text": [
      "Cmd('git') failed due to: exit code(128)\n",
      "  cmdline: git clone -v https://github.com/anands-iiitd/ccvae repos/anands-iiitd/ccvae\n",
      "  stderr: 'Cloning into 'repos/anands-iiitd/ccvae'...\n",
      "fatal: could not read Username for 'https://github.com': No such device or address\n",
      "'\n"
     ]
    },
    {
     "name": "stderr",
     "output_type": "stream",
     "text": [
      " 96%|█████████▌| 44359/46292 [28:57:16<20:43,  1.55it/s]"
     ]
    },
    {
     "name": "stdout",
     "output_type": "stream",
     "text": [
      "Cmd('git') failed due to: exit code(128)\n",
      "  cmdline: git clone -v https://github.com/jomian78/2d_image_gans repos/jomian78/2d_image_gans\n",
      "  stderr: 'Cloning into 'repos/jomian78/2d_image_gans'...\n",
      "fatal: could not read Username for 'https://github.com': No such device or address\n",
      "'\n"
     ]
    },
    {
     "name": "stderr",
     "output_type": "stream",
     "text": [
      "\r",
      " 96%|█████████▌| 44360/46292 [28:57:17<18:08,  1.78it/s]"
     ]
    },
    {
     "name": "stdout",
     "output_type": "stream",
     "text": [
      "Cmd('git') failed due to: exit code(128)\n",
      "  cmdline: git clone -v https://github.com/jomian78/2d_image_gans repos/jomian78/2d_image_gans\n",
      "  stderr: 'Cloning into 'repos/jomian78/2d_image_gans'...\n",
      "fatal: could not read Username for 'https://github.com': No such device or address\n",
      "'\n"
     ]
    },
    {
     "name": "stderr",
     "output_type": "stream",
     "text": [
      " 96%|█████████▌| 44374/46292 [28:57:29<18:50,  1.70it/s]"
     ]
    },
    {
     "name": "stdout",
     "output_type": "stream",
     "text": [
      "Cmd('git') failed due to: exit code(128)\n",
      "  cmdline: git clone -v https://github.com/jomian78/2d_image_gans repos/jomian78/2d_image_gans\n",
      "  stderr: 'Cloning into 'repos/jomian78/2d_image_gans'...\n",
      "fatal: could not read Username for 'https://github.com': No such device or address\n",
      "'\n"
     ]
    },
    {
     "name": "stderr",
     "output_type": "stream",
     "text": [
      " 96%|█████████▌| 44408/46292 [28:58:37<38:13,  1.22s/it]  "
     ]
    },
    {
     "name": "stdout",
     "output_type": "stream",
     "text": [
      "Cmd('git') failed due to: exit code(128)\n",
      "  cmdline: git clone -v https://github.com/Xadach/Geonet-tf1.14 repos/Xadach/Geonet-tf1.14\n",
      "  stderr: 'Cloning into 'repos/Xadach/Geonet-tf1.14'...\n",
      "fatal: could not read Username for 'https://github.com': No such device or address\n",
      "'\n"
     ]
    },
    {
     "name": "stderr",
     "output_type": "stream",
     "text": [
      " 96%|█████████▌| 44411/46292 [28:58:41<34:56,  1.11s/it]"
     ]
    },
    {
     "name": "stdout",
     "output_type": "stream",
     "text": [
      "Cmd('git') failed due to: exit code(128)\n",
      "  cmdline: git clone -v https://github.com/jkViswanadham/AI_reference repos/jkViswanadham/AI_reference\n",
      "  stderr: 'Cloning into 'repos/jkViswanadham/AI_reference'...\n",
      "fatal: could not read Username for 'https://github.com': No such device or address\n",
      "'\n"
     ]
    },
    {
     "name": "stderr",
     "output_type": "stream",
     "text": [
      " 96%|█████████▌| 44436/46292 [29:00:43<1:10:30,  2.28s/it] "
     ]
    },
    {
     "name": "stdout",
     "output_type": "stream",
     "text": [
      "Cmd('git') failed due to: exit code(128)\n",
      "  cmdline: git clone -v https://github.com/prasad-kumkar/body-measure repos/prasad-kumkar/body-measure\n",
      "  stderr: 'Cloning into 'repos/prasad-kumkar/body-measure'...\n",
      "fatal: could not read Username for 'https://github.com': No such device or address\n",
      "'\n"
     ]
    },
    {
     "name": "stderr",
     "output_type": "stream",
     "text": [
      " 96%|█████████▌| 44471/46292 [29:02:14<09:55,  3.06it/s]  "
     ]
    },
    {
     "name": "stdout",
     "output_type": "stream",
     "text": [
      "Cmd('git') failed due to: exit code(128)\n",
      "  cmdline: git clone -v https://github.com/https://bitbucket.org/kuldeepmeel/smtapproxmc repos/https://bitbucket.org/kuldeepmeel/smtapproxmc\n",
      "  stderr: 'Cloning into 'repos/https://bitbucket.org/kuldeepmeel/smtapproxmc'...\n",
      "remote: Not Found\n",
      "fatal: repository 'https://github.com/https://bitbucket.org/kuldeepmeel/smtapproxmc/' not found\n",
      "'\n"
     ]
    },
    {
     "name": "stderr",
     "output_type": "stream",
     "text": [
      " 96%|█████████▌| 44530/46292 [29:04:03<1:20:09,  2.73s/it]"
     ]
    },
    {
     "name": "stdout",
     "output_type": "stream",
     "text": [
      "Cmd('git') failed due to: exit code(128)\n",
      "  cmdline: git clone -v https://github.com/hyleih/Reimplementation-of-the-paper-MolGAN repos/hyleih/Reimplementation-of-the-paper-MolGAN\n",
      "  stderr: 'Cloning into 'repos/hyleih/Reimplementation-of-the-paper-MolGAN'...\n",
      "fatal: could not read Username for 'https://github.com': No such device or address\n",
      "'\n"
     ]
    },
    {
     "name": "stderr",
     "output_type": "stream",
     "text": [
      " 96%|█████████▋| 44567/46292 [29:04:25<32:25,  1.13s/it]  "
     ]
    },
    {
     "name": "stdout",
     "output_type": "stream",
     "text": [
      "Cmd('git') failed due to: exit code(128)\n",
      "  cmdline: git clone -v https://github.com/https://gitlab.com/Queuecumber/quantization-guided-ac repos/https://gitlab.com/Queuecumber/quantization-guided-ac\n",
      "  stderr: 'Cloning into 'repos/https://gitlab.com/Queuecumber/quantization-guided-ac'...\n",
      "remote: Not Found\n",
      "fatal: repository 'https://github.com/https://gitlab.com/Queuecumber/quantization-guided-ac/' not found\n",
      "'\n"
     ]
    },
    {
     "name": "stderr",
     "output_type": "stream",
     "text": [
      " 96%|█████████▋| 44576/46292 [29:04:28<12:46,  2.24it/s]"
     ]
    },
    {
     "name": "stdout",
     "output_type": "stream",
     "text": [
      "Cmd('git') failed due to: exit code(128)\n",
      "  cmdline: git clone -v https://github.com/Yinnerston/monitoring repos/Yinnerston/monitoring\n",
      "  stderr: 'Cloning into 'repos/Yinnerston/monitoring'...\n",
      "fatal: could not read Username for 'https://github.com': No such device or address\n",
      "'\n"
     ]
    },
    {
     "name": "stderr",
     "output_type": "stream",
     "text": [
      " 96%|█████████▋| 44612/46292 [29:05:25<30:46,  1.10s/it]  "
     ]
    },
    {
     "name": "stdout",
     "output_type": "stream",
     "text": [
      "Cmd('git') failed due to: exit code(128)\n",
      "  cmdline: git clone -v https://github.com/helioforecast/Papers/tree/master/Moestl2020_PSP_rate repos/helioforecast/Papers/tree/master/Moestl2020_PSP_rate\n",
      "  stderr: 'Cloning into 'repos/helioforecast/Papers/tree/master/Moestl2020_PSP_rate'...\n",
      "fatal: repository 'https://github.com/helioforecast/Papers/tree/master/Moestl2020_PSP_rate/' not found\n",
      "'\n"
     ]
    },
    {
     "name": "stderr",
     "output_type": "stream",
     "text": [
      " 96%|█████████▋| 44618/46292 [29:05:40<43:50,  1.57s/it]  "
     ]
    },
    {
     "name": "stdout",
     "output_type": "stream",
     "text": [
      "Cmd('git') failed due to: exit code(128)\n",
      "  cmdline: git clone -v https://github.com/aabbas02/unlabeled-sensing repos/aabbas02/unlabeled-sensing\n",
      "  stderr: 'Cloning into 'repos/aabbas02/unlabeled-sensing'...\n",
      "fatal: could not read Username for 'https://github.com': No such device or address\n",
      "'\n"
     ]
    },
    {
     "name": "stderr",
     "output_type": "stream",
     "text": [
      " 96%|█████████▋| 44623/46292 [29:05:42<21:18,  1.31it/s]"
     ]
    },
    {
     "name": "stdout",
     "output_type": "stream",
     "text": [
      "Cmd('git') failed due to: exit code(128)\n",
      "  cmdline: git clone -v https://github.com/google-research/federated/tree/master/adaptive_lr_decay repos/google-research/federated/tree/master/adaptive_lr_decay\n",
      "  stderr: 'Cloning into 'repos/google-research/federated/tree/master/adaptive_lr_decay'...\n",
      "fatal: repository 'https://github.com/google-research/federated/tree/master/adaptive_lr_decay/' not found\n",
      "'\n"
     ]
    },
    {
     "name": "stderr",
     "output_type": "stream",
     "text": [
      " 96%|█████████▋| 44626/46292 [29:05:44<18:16,  1.52it/s]"
     ]
    },
    {
     "name": "stdout",
     "output_type": "stream",
     "text": [
      "Cmd('git') failed due to: exit code(128)\n",
      "  cmdline: git clone -v https://github.com/https://gitlab.com/sharma.dhruv/markovid repos/https://gitlab.com/sharma.dhruv/markovid\n",
      "  stderr: 'Cloning into 'repos/https://gitlab.com/sharma.dhruv/markovid'...\n",
      "remote: Not Found\n",
      "fatal: repository 'https://github.com/https://gitlab.com/sharma.dhruv/markovid/' not found\n",
      "'\n"
     ]
    },
    {
     "name": "stderr",
     "output_type": "stream",
     "text": [
      " 97%|█████████▋| 44678/46292 [29:06:51<1:57:33,  4.37s/it]"
     ]
    },
    {
     "name": "stdout",
     "output_type": "stream",
     "text": [
      "Cmd('git') failed due to: exit code(128)\n",
      "  cmdline: git clone -v https://github.com/typerSniper/NNInfer/tree/master/Code repos/typerSniper/NNInfer/tree/master/Code\n",
      "  stderr: 'Cloning into 'repos/typerSniper/NNInfer/tree/master/Code'...\n",
      "fatal: repository 'https://github.com/typerSniper/NNInfer/tree/master/Code/' not found\n",
      "'\n"
     ]
    },
    {
     "name": "stderr",
     "output_type": "stream",
     "text": [
      " 97%|█████████▋| 44758/46292 [29:09:37<23:15,  1.10it/s]  "
     ]
    },
    {
     "name": "stdout",
     "output_type": "stream",
     "text": [
      "Cmd('git') failed due to: exit code(128)\n",
      "  cmdline: git clone -v https://github.com/https://zenodo.org/record/4343646 repos/https://zenodo.org/record/4343646\n",
      "  stderr: 'Cloning into 'repos/https://zenodo.org/record/4343646'...\n",
      "remote: Not Found\n",
      "fatal: repository 'https://github.com/https://zenodo.org/record/4343646/' not found\n",
      "'\n"
     ]
    },
    {
     "name": "stderr",
     "output_type": "stream",
     "text": [
      " 97%|█████████▋| 44794/46292 [29:10:06<21:47,  1.15it/s]"
     ]
    },
    {
     "name": "stdout",
     "output_type": "stream",
     "text": [
      "Cmd('git') failed due to: exit code(128)\n",
      "  cmdline: git clone -v https://github.com/https://bitbucket.org/DiegoDiazDominguez/lms_grammar repos/https://bitbucket.org/DiegoDiazDominguez/lms_grammar\n",
      "  stderr: 'Cloning into 'repos/https://bitbucket.org/DiegoDiazDominguez/lms_grammar'...\n",
      "remote: Not Found\n",
      "fatal: repository 'https://github.com/https://bitbucket.org/DiegoDiazDominguez/lms_grammar/' not found\n",
      "'\n"
     ]
    },
    {
     "name": "stderr",
     "output_type": "stream",
     "text": [
      " 97%|█████████▋| 44839/46292 [29:11:32<30:29,  1.26s/it]  "
     ]
    },
    {
     "name": "stdout",
     "output_type": "stream",
     "text": [
      "Cmd('git') failed due to: exit code(128)\n",
      "  cmdline: git clone -v https://github.com/https://bitbucket.org/taoyds/nbsvm_pos repos/https://bitbucket.org/taoyds/nbsvm_pos\n",
      "  stderr: 'Cloning into 'repos/https://bitbucket.org/taoyds/nbsvm_pos'...\n",
      "remote: Not Found\n",
      "fatal: repository 'https://github.com/https://bitbucket.org/taoyds/nbsvm_pos/' not found\n",
      "'\n"
     ]
    },
    {
     "name": "stderr",
     "output_type": "stream",
     "text": [
      "\r",
      " 97%|█████████▋| 44840/46292 [29:11:32<24:06,  1.00it/s]"
     ]
    },
    {
     "name": "stdout",
     "output_type": "stream",
     "text": [
      "Cmd('git') failed due to: exit code(128)\n",
      "  cmdline: git clone -v https://github.com/wcneill/jn-anomaly-detect repos/wcneill/jn-anomaly-detect\n",
      "  stderr: 'Cloning into 'repos/wcneill/jn-anomaly-detect'...\n",
      "fatal: could not read Username for 'https://github.com': No such device or address\n",
      "'\n"
     ]
    },
    {
     "name": "stderr",
     "output_type": "stream",
     "text": [
      " 97%|█████████▋| 44846/46292 [29:11:48<50:16,  2.09s/it]  "
     ]
    },
    {
     "name": "stdout",
     "output_type": "stream",
     "text": [
      "Cmd('git') failed due to: exit code(128)\n",
      "  cmdline: git clone -v https://github.com/Hibiki1020/SalsaNext_archive repos/Hibiki1020/SalsaNext_archive\n",
      "  stderr: 'Cloning into 'repos/Hibiki1020/SalsaNext_archive'...\n",
      "fatal: could not read Username for 'https://github.com': No such device or address\n",
      "'\n"
     ]
    },
    {
     "name": "stderr",
     "output_type": "stream",
     "text": [
      " 97%|█████████▋| 44891/46292 [29:13:19<24:33,  1.05s/it]  "
     ]
    },
    {
     "name": "stdout",
     "output_type": "stream",
     "text": [
      "Cmd('git') failed due to: exit code(128)\n",
      "  cmdline: git clone -v https://github.com/amantamirat/Quantum-Mean-Estimator/tree/master/QuanMean repos/amantamirat/Quantum-Mean-Estimator/tree/master/QuanMean\n",
      "  stderr: 'Cloning into 'repos/amantamirat/Quantum-Mean-Estimator/tree/master/QuanMean'...\n",
      "fatal: repository 'https://github.com/amantamirat/Quantum-Mean-Estimator/tree/master/QuanMean/' not found\n",
      "'\n"
     ]
    },
    {
     "name": "stderr",
     "output_type": "stream",
     "text": [
      " 97%|█████████▋| 44913/46292 [29:13:50<40:14,  1.75s/it]  "
     ]
    },
    {
     "name": "stdout",
     "output_type": "stream",
     "text": [
      "Cmd('git') failed due to: exit code(128)\n",
      "  cmdline: git clone -v https://github.com/https://bitbucket.org/huangli712/iqist repos/https://bitbucket.org/huangli712/iqist\n",
      "  stderr: 'Cloning into 'repos/https://bitbucket.org/huangli712/iqist'...\n",
      "remote: Not Found\n",
      "fatal: repository 'https://github.com/https://bitbucket.org/huangli712/iqist/' not found\n",
      "'\n"
     ]
    },
    {
     "name": "stderr",
     "output_type": "stream",
     "text": [
      " 97%|█████████▋| 44915/46292 [29:13:51<27:57,  1.22s/it]"
     ]
    },
    {
     "name": "stdout",
     "output_type": "stream",
     "text": [
      "Cmd('git') failed due to: exit code(128)\n",
      "  cmdline: git clone -v https://github.com/https://bitbucket.org/luukko/itp2d repos/https://bitbucket.org/luukko/itp2d\n",
      "  stderr: 'Cloning into 'repos/https://bitbucket.org/luukko/itp2d'...\n",
      "remote: Not Found\n",
      "fatal: repository 'https://github.com/https://bitbucket.org/luukko/itp2d/' not found\n",
      "'\n"
     ]
    },
    {
     "name": "stderr",
     "output_type": "stream",
     "text": [
      " 97%|█████████▋| 44919/46292 [29:13:55<19:38,  1.16it/s]"
     ]
    },
    {
     "name": "stdout",
     "output_type": "stream",
     "text": [
      "Cmd('git') failed due to: exit code(128)\n",
      "  cmdline: git clone -v https://github.com/https://bitbucket.org/dalcinl/petiga repos/https://bitbucket.org/dalcinl/petiga\n",
      "  stderr: 'Cloning into 'repos/https://bitbucket.org/dalcinl/petiga'...\n",
      "remote: Not Found\n",
      "fatal: repository 'https://github.com/https://bitbucket.org/dalcinl/petiga/' not found\n",
      "'\n"
     ]
    },
    {
     "name": "stderr",
     "output_type": "stream",
     "text": [
      " 97%|█████████▋| 44960/46292 [29:14:24<12:05,  1.84it/s]"
     ]
    },
    {
     "name": "stdout",
     "output_type": "stream",
     "text": [
      "Cmd('git') failed due to: exit code(128)\n",
      "  cmdline: git clone -v https://github.com/ofiroz/BDC repos/ofiroz/BDC\n",
      "  stderr: 'Cloning into 'repos/ofiroz/BDC'...\n",
      "fatal: could not read Username for 'https://github.com': No such device or address\n",
      "'\n"
     ]
    },
    {
     "name": "stderr",
     "output_type": "stream",
     "text": [
      " 97%|█████████▋| 45006/46292 [29:16:40<39:46,  1.86s/it]  "
     ]
    },
    {
     "name": "stdout",
     "output_type": "stream",
     "text": [
      "Cmd('git') failed due to: exit code(128)\n",
      "  cmdline: git clone -v https://github.com/https://bitbucket.org/OES_muni/massiveoes repos/https://bitbucket.org/OES_muni/massiveoes\n",
      "  stderr: 'Cloning into 'repos/https://bitbucket.org/OES_muni/massiveoes'...\n",
      "remote: Not Found\n",
      "fatal: repository 'https://github.com/https://bitbucket.org/OES_muni/massiveoes/' not found\n",
      "'\n"
     ]
    },
    {
     "name": "stderr",
     "output_type": "stream",
     "text": [
      " 97%|█████████▋| 45015/46292 [29:16:54<32:06,  1.51s/it]  "
     ]
    },
    {
     "name": "stdout",
     "output_type": "stream",
     "text": [
      "Cmd('git') failed due to: exit code(128)\n",
      "  cmdline: git clone -v https://github.com/https://bitbucket.org/peraro/ff2lexamples repos/https://bitbucket.org/peraro/ff2lexamples\n",
      "  stderr: 'Cloning into 'repos/https://bitbucket.org/peraro/ff2lexamples'...\n",
      "remote: Not Found\n",
      "fatal: repository 'https://github.com/https://bitbucket.org/peraro/ff2lexamples/' not found\n",
      "'\n"
     ]
    },
    {
     "name": "stderr",
     "output_type": "stream",
     "text": [
      " 97%|█████████▋| 45019/46292 [29:16:55<15:00,  1.41it/s]"
     ]
    },
    {
     "name": "stdout",
     "output_type": "stream",
     "text": [
      "Cmd('git') failed due to: exit code(128)\n",
      "  cmdline: git clone -v https://github.com/https://gitlab.com/kmkolasinski/knitinv repos/https://gitlab.com/kmkolasinski/knitinv\n",
      "  stderr: 'Cloning into 'repos/https://gitlab.com/kmkolasinski/knitinv'...\n",
      "remote: Not Found\n",
      "fatal: repository 'https://github.com/https://gitlab.com/kmkolasinski/knitinv/' not found\n",
      "'\n"
     ]
    },
    {
     "name": "stderr",
     "output_type": "stream",
     "text": [
      " 97%|█████████▋| 45050/46292 [29:17:54<30:18,  1.46s/it]  "
     ]
    },
    {
     "name": "stdout",
     "output_type": "stream",
     "text": [
      "Cmd('git') failed due to: exit code(128)\n",
      "  cmdline: git clone -v https://github.com/https://gitlab.com/katlund/bfomfom-main repos/https://gitlab.com/katlund/bfomfom-main\n",
      "  stderr: 'Cloning into 'repos/https://gitlab.com/katlund/bfomfom-main'...\n",
      "remote: Not Found\n",
      "fatal: repository 'https://github.com/https://gitlab.com/katlund/bfomfom-main/' not found\n",
      "'\n"
     ]
    },
    {
     "name": "stderr",
     "output_type": "stream",
     "text": [
      " 97%|█████████▋| 45053/46292 [29:17:56<18:03,  1.14it/s]"
     ]
    },
    {
     "name": "stdout",
     "output_type": "stream",
     "text": [
      "Cmd('git') failed due to: exit code(128)\n",
      "  cmdline: git clone -v https://github.com/https://gitlab.com/czeidler/authstore repos/https://gitlab.com/czeidler/authstore\n",
      "  stderr: 'Cloning into 'repos/https://gitlab.com/czeidler/authstore'...\n",
      "remote: Not Found\n",
      "fatal: repository 'https://github.com/https://gitlab.com/czeidler/authstore/' not found\n",
      "'\n"
     ]
    },
    {
     "name": "stderr",
     "output_type": "stream",
     "text": [
      " 97%|█████████▋| 45055/46292 [29:17:58<18:09,  1.14it/s]"
     ]
    },
    {
     "name": "stdout",
     "output_type": "stream",
     "text": [
      "Cmd('git') failed due to: exit code(128)\n",
      "  cmdline: git clone -v https://github.com/https://bitbucket.org/rvprasad/why-do-users-kill-hpc-jobs repos/https://bitbucket.org/rvprasad/why-do-users-kill-hpc-jobs\n",
      "  stderr: 'Cloning into 'repos/https://bitbucket.org/rvprasad/why-do-users-kill-hpc-jobs'...\n",
      "remote: Not Found\n",
      "fatal: repository 'https://github.com/https://bitbucket.org/rvprasad/why-do-users-kill-hpc-jobs/' not found\n",
      "'\n"
     ]
    },
    {
     "name": "stderr",
     "output_type": "stream",
     "text": [
      " 97%|█████████▋| 45087/46292 [29:18:31<13:10,  1.52it/s]"
     ]
    },
    {
     "name": "stdout",
     "output_type": "stream",
     "text": [
      "Cmd('git') failed due to: exit code(128)\n",
      "  cmdline: git clone -v https://github.com/https://gitlab.com/juan794/pdfs repos/https://gitlab.com/juan794/pdfs\n",
      "  stderr: 'Cloning into 'repos/https://gitlab.com/juan794/pdfs'...\n",
      "remote: Not Found\n",
      "fatal: repository 'https://github.com/https://gitlab.com/juan794/pdfs/' not found\n",
      "'\n"
     ]
    },
    {
     "name": "stderr",
     "output_type": "stream",
     "text": [
      " 97%|█████████▋| 45119/46292 [29:19:34<18:01,  1.08it/s]  "
     ]
    },
    {
     "name": "stdout",
     "output_type": "stream",
     "text": [
      "Cmd('git') failed due to: exit code(128)\n",
      "  cmdline: git clone -v https://github.com/https://gitlab.com/fplab/freealgstr repos/https://gitlab.com/fplab/freealgstr\n",
      "  stderr: 'Cloning into 'repos/https://gitlab.com/fplab/freealgstr'...\n",
      "remote: Not Found\n",
      "fatal: repository 'https://github.com/https://gitlab.com/fplab/freealgstr/' not found\n",
      "'\n"
     ]
    },
    {
     "name": "stderr",
     "output_type": "stream",
     "text": [
      " 97%|█████████▋| 45121/46292 [29:19:37<21:44,  1.11s/it]"
     ]
    },
    {
     "name": "stdout",
     "output_type": "stream",
     "text": [
      "Cmd('git') failed due to: exit code(128)\n",
      "  cmdline: git clone -v https://github.com/https://bitbucket.org/marcin_pilipczuk/experiments-halfint-matroids repos/https://bitbucket.org/marcin_pilipczuk/experiments-halfint-matroids\n",
      "  stderr: 'Cloning into 'repos/https://bitbucket.org/marcin_pilipczuk/experiments-halfint-matroids'...\n",
      "remote: Not Found\n",
      "fatal: repository 'https://github.com/https://bitbucket.org/marcin_pilipczuk/experiments-halfint-matroids/' not found\n",
      "'\n"
     ]
    },
    {
     "name": "stderr",
     "output_type": "stream",
     "text": [
      " 97%|█████████▋| 45126/46292 [29:19:41<14:07,  1.38it/s]"
     ]
    },
    {
     "name": "stdout",
     "output_type": "stream",
     "text": [
      "Cmd('git') failed due to: exit code(128)\n",
      "  cmdline: git clone -v https://github.com/https://gitlab.com/NilsKintscher/alfa repos/https://gitlab.com/NilsKintscher/alfa\n",
      "  stderr: 'Cloning into 'repos/https://gitlab.com/NilsKintscher/alfa'...\n",
      "remote: Not Found\n",
      "fatal: repository 'https://github.com/https://gitlab.com/NilsKintscher/alfa/' not found\n",
      "'\n"
     ]
    },
    {
     "name": "stderr",
     "output_type": "stream",
     "text": [
      " 97%|█████████▋| 45128/46292 [29:19:57<1:10:14,  3.62s/it]"
     ]
    },
    {
     "name": "stdout",
     "output_type": "stream",
     "text": [
      "Cmd('git') failed due to: exit code(128)\n",
      "  cmdline: git clone -v https://github.com/https://gitlab.com/cmasseraf/gcc_structured_uncertainty repos/https://gitlab.com/cmasseraf/gcc_structured_uncertainty\n",
      "  stderr: 'Cloning into 'repos/https://gitlab.com/cmasseraf/gcc_structured_uncertainty'...\n",
      "remote: Not Found\n",
      "fatal: repository 'https://github.com/https://gitlab.com/cmasseraf/gcc_structured_uncertainty/' not found\n",
      "'\n"
     ]
    },
    {
     "name": "stderr",
     "output_type": "stream",
     "text": [
      "\r",
      " 97%|█████████▋| 45129/46292 [29:19:57<50:44,  2.62s/it]  "
     ]
    },
    {
     "name": "stdout",
     "output_type": "stream",
     "text": [
      "Cmd('git') failed due to: exit code(128)\n",
      "  cmdline: git clone -v https://github.com/https://bitbucket.org/crottman/pycaapps repos/https://bitbucket.org/crottman/pycaapps\n",
      "  stderr: 'Cloning into 'repos/https://bitbucket.org/crottman/pycaapps'...\n",
      "remote: Not Found\n",
      "fatal: repository 'https://github.com/https://bitbucket.org/crottman/pycaapps/' not found\n",
      "'\n"
     ]
    },
    {
     "name": "stderr",
     "output_type": "stream",
     "text": [
      " 98%|█████████▊| 45145/46292 [29:20:54<50:51,  2.66s/it]  "
     ]
    },
    {
     "name": "stdout",
     "output_type": "stream",
     "text": [
      "Cmd('git') failed due to: exit code(128)\n",
      "  cmdline: git clone -v https://github.com/sticeran/ProgramAndData repos/sticeran/ProgramAndData\n",
      "  stderr: 'Cloning into 'repos/sticeran/ProgramAndData'...\n",
      "fatal: could not read Username for 'https://github.com': No such device or address\n",
      "'\n"
     ]
    },
    {
     "name": "stderr",
     "output_type": "stream",
     "text": [
      " 98%|█████████▊| 45154/46292 [29:21:14<24:41,  1.30s/it]  "
     ]
    },
    {
     "name": "stdout",
     "output_type": "stream",
     "text": [
      "Cmd('git') failed due to: exit code(128)\n",
      "  cmdline: git clone -v https://github.com/poodarchu/SelfSup/tree/master/examples/simo repos/poodarchu/SelfSup/tree/master/examples/simo\n",
      "  stderr: 'Cloning into 'repos/poodarchu/SelfSup/tree/master/examples/simo'...\n",
      "fatal: repository 'https://github.com/poodarchu/SelfSup/tree/master/examples/simo/' not found\n",
      "'\n"
     ]
    },
    {
     "name": "stderr",
     "output_type": "stream",
     "text": [
      " 98%|█████████▊| 45191/46292 [29:22:40<46:12,  2.52s/it]  "
     ]
    },
    {
     "name": "stdout",
     "output_type": "stream",
     "text": [
      "Cmd('git') failed due to: exit code(128)\n",
      "  cmdline: git clone -v https://github.com/https://gitlab.com/maneandrea/spinoralgebra repos/https://gitlab.com/maneandrea/spinoralgebra\n",
      "  stderr: 'Cloning into 'repos/https://gitlab.com/maneandrea/spinoralgebra'...\n",
      "remote: Not Found\n",
      "fatal: repository 'https://github.com/https://gitlab.com/maneandrea/spinoralgebra/' not found\n",
      "'\n"
     ]
    },
    {
     "name": "stderr",
     "output_type": "stream",
     "text": [
      " 98%|█████████▊| 45216/46292 [29:23:36<37:17,  2.08s/it]  "
     ]
    },
    {
     "name": "stdout",
     "output_type": "stream",
     "text": [
      "Cmd('git') failed due to: exit code(128)\n",
      "  cmdline: git clone -v https://github.com/https://gitlab.com/kenmimasu/fitrepo repos/https://gitlab.com/kenmimasu/fitrepo\n",
      "  stderr: 'Cloning into 'repos/https://gitlab.com/kenmimasu/fitrepo'...\n",
      "remote: Not Found\n",
      "fatal: repository 'https://github.com/https://gitlab.com/kenmimasu/fitrepo/' not found\n",
      "'\n"
     ]
    },
    {
     "name": "stderr",
     "output_type": "stream",
     "text": [
      " 98%|█████████▊| 45229/46292 [29:27:59<11:01:39, 37.35s/it]"
     ]
    },
    {
     "name": "stdout",
     "output_type": "stream",
     "text": [
      "Cmd('git') failed due to: exit code(128)\n",
      "  cmdline: git clone -v https://github.com/https://gitlab.com/maneandrea/spinoralgebra repos/https://gitlab.com/maneandrea/spinoralgebra\n",
      "  stderr: 'Cloning into 'repos/https://gitlab.com/maneandrea/spinoralgebra'...\n",
      "remote: Not Found\n",
      "fatal: repository 'https://github.com/https://gitlab.com/maneandrea/spinoralgebra/' not found\n",
      "'\n"
     ]
    },
    {
     "name": "stderr",
     "output_type": "stream",
     "text": [
      " 98%|█████████▊| 45231/46292 [29:28:00<5:42:52, 19.39s/it] "
     ]
    },
    {
     "name": "stdout",
     "output_type": "stream",
     "text": [
      "Cmd('git') failed due to: exit code(128)\n",
      "  cmdline: git clone -v https://github.com/https://gitlab.com/maneandrea/spinoralgebra repos/https://gitlab.com/maneandrea/spinoralgebra\n",
      "  stderr: 'Cloning into 'repos/https://gitlab.com/maneandrea/spinoralgebra'...\n",
      "remote: Not Found\n",
      "fatal: repository 'https://github.com/https://gitlab.com/maneandrea/spinoralgebra/' not found\n",
      "'\n"
     ]
    },
    {
     "name": "stderr",
     "output_type": "stream",
     "text": [
      " 98%|█████████▊| 45236/46292 [29:28:05<1:30:47,  5.16s/it]"
     ]
    },
    {
     "name": "stdout",
     "output_type": "stream",
     "text": [
      "Cmd('git') failed due to: exit code(128)\n",
      "  cmdline: git clone -v https://github.com/https://gitlab.com/maneandrea/spinoralgebra repos/https://gitlab.com/maneandrea/spinoralgebra\n",
      "  stderr: 'Cloning into 'repos/https://gitlab.com/maneandrea/spinoralgebra'...\n",
      "remote: Not Found\n",
      "fatal: repository 'https://github.com/https://gitlab.com/maneandrea/spinoralgebra/' not found\n",
      "'\n"
     ]
    },
    {
     "name": "stderr",
     "output_type": "stream",
     "text": [
      " 98%|█████████▊| 45262/46292 [29:29:27<1:09:13,  4.03s/it]"
     ]
    },
    {
     "name": "stdout",
     "output_type": "stream",
     "text": [
      "Cmd('git') failed due to: exit code(128)\n",
      "  cmdline: git clone -v https://github.com/https://gitlab.mpi-klsb.mpg.de/jdong/dwdn repos/https://gitlab.mpi-klsb.mpg.de/jdong/dwdn\n",
      "  stderr: 'Cloning into 'repos/https://gitlab.mpi-klsb.mpg.de/jdong/dwdn'...\n",
      "remote: Not Found\n",
      "fatal: repository 'https://github.com/https://gitlab.mpi-klsb.mpg.de/jdong/dwdn/' not found\n",
      "'\n"
     ]
    },
    {
     "name": "stderr",
     "output_type": "stream",
     "text": [
      " 98%|█████████▊| 45281/46292 [29:30:40<24:33,  1.46s/it]  "
     ]
    },
    {
     "name": "stdout",
     "output_type": "stream",
     "text": [
      "Cmd('git') failed due to: exit code(128)\n",
      "  cmdline: git clone -v https://github.com/DejasDejas/Pytorch_vanilla_Beta_VAE repos/DejasDejas/Pytorch_vanilla_Beta_VAE\n",
      "  stderr: 'Cloning into 'repos/DejasDejas/Pytorch_vanilla_Beta_VAE'...\n",
      "fatal: could not read Username for 'https://github.com': No such device or address\n",
      "'\n"
     ]
    },
    {
     "name": "stderr",
     "output_type": "stream",
     "text": [
      " 98%|█████████▊| 45316/46292 [29:33:18<50:08,  3.08s/it]  "
     ]
    },
    {
     "name": "stdout",
     "output_type": "stream",
     "text": [
      "Cmd('git') failed due to: exit code(128)\n",
      "  cmdline: git clone -v https://github.com/chenpf1025/IDN/blob/master/ops.py repos/chenpf1025/IDN/blob/master/ops.py\n",
      "  stderr: 'Cloning into 'repos/chenpf1025/IDN/blob/master/ops.py'...\n",
      "fatal: repository 'https://github.com/chenpf1025/IDN/blob/master/ops.py/' not found\n",
      "'\n"
     ]
    },
    {
     "name": "stderr",
     "output_type": "stream",
     "text": [
      " 98%|█████████▊| 45346/46292 [29:34:38<35:29,  2.25s/it]  "
     ]
    },
    {
     "name": "stdout",
     "output_type": "stream",
     "text": [
      "Cmd('git') failed due to: exit code(128)\n",
      "  cmdline: git clone -v https://github.com/ardaozmen/Bert-Text-Classification-PyTorch repos/ardaozmen/Bert-Text-Classification-PyTorch\n",
      "  stderr: 'Cloning into 'repos/ardaozmen/Bert-Text-Classification-PyTorch'...\n",
      "fatal: could not read Username for 'https://github.com': No such device or address\n",
      "'\n"
     ]
    },
    {
     "name": "stderr",
     "output_type": "stream",
     "text": [
      " 98%|█████████▊| 45374/46292 [29:35:55<22:40,  1.48s/it]  "
     ]
    },
    {
     "name": "stdout",
     "output_type": "stream",
     "text": [
      "Cmd('git') failed due to: exit code(128)\n",
      "  cmdline: git clone -v https://github.com/tensorflow/models/tree/master/research/slim repos/tensorflow/models/tree/master/research/slim\n",
      "  stderr: 'Cloning into 'repos/tensorflow/models/tree/master/research/slim'...\n",
      "fatal: repository 'https://github.com/tensorflow/models/tree/master/research/slim/' not found\n",
      "'\n"
     ]
    },
    {
     "name": "stderr",
     "output_type": "stream",
     "text": [
      " 98%|█████████▊| 45380/46292 [29:35:59<14:43,  1.03it/s]"
     ]
    },
    {
     "name": "stdout",
     "output_type": "stream",
     "text": [
      "Cmd('git') failed due to: exit code(128)\n",
      "  cmdline: git clone -v https://github.com/google-research/google-research/tree/master/supcon repos/google-research/google-research/tree/master/supcon\n",
      "  stderr: 'Cloning into 'repos/google-research/google-research/tree/master/supcon'...\n",
      "fatal: repository 'https://github.com/google-research/google-research/tree/master/supcon/' not found\n",
      "'\n"
     ]
    },
    {
     "name": "stderr",
     "output_type": "stream",
     "text": [
      " 98%|█████████▊| 45382/46292 [29:36:00<10:44,  1.41it/s]"
     ]
    },
    {
     "name": "stdout",
     "output_type": "stream",
     "text": [
      "Cmd('git') failed due to: exit code(128)\n",
      "  cmdline: git clone -v https://github.com/https://gitlab.com/markoulg/em9.mdl repos/https://gitlab.com/markoulg/em9.mdl\n",
      "  stderr: 'Cloning into 'repos/https://gitlab.com/markoulg/em9.mdl'...\n",
      "remote: Not Found\n",
      "fatal: repository 'https://github.com/https://gitlab.com/markoulg/em9.mdl/' not found\n",
      "'\n"
     ]
    },
    {
     "name": "stderr",
     "output_type": "stream",
     "text": [
      "\r",
      " 98%|█████████▊| 45384/46292 [29:36:01<07:29,  2.02it/s]"
     ]
    },
    {
     "name": "stdout",
     "output_type": "stream",
     "text": [
      "Cmd('git') failed due to: exit code(128)\n",
      "  cmdline: git clone -v https://github.com/kumar-harin/VisionTransformer repos/kumar-harin/VisionTransformer\n",
      "  stderr: 'Cloning into 'repos/kumar-harin/VisionTransformer'...\n",
      "fatal: could not read Username for 'https://github.com': No such device or address\n",
      "'\n"
     ]
    },
    {
     "name": "stderr",
     "output_type": "stream",
     "text": [
      "\r",
      " 98%|█████████▊| 45387/46292 [29:36:01<04:32,  3.32it/s]"
     ]
    },
    {
     "name": "stdout",
     "output_type": "stream",
     "text": [
      "Cmd('git') failed due to: exit code(128)\n",
      "  cmdline: git clone -v https://github.com/https://gitlab.umiacs.umd.edu/tomg/admm_nets repos/https://gitlab.umiacs.umd.edu/tomg/admm_nets\n",
      "  stderr: 'Cloning into 'repos/https://gitlab.umiacs.umd.edu/tomg/admm_nets'...\n",
      "remote: Not Found\n",
      "fatal: repository 'https://github.com/https://gitlab.umiacs.umd.edu/tomg/admm_nets/' not found\n",
      "'\n"
     ]
    },
    {
     "name": "stderr",
     "output_type": "stream",
     "text": [
      " 98%|█████████▊| 45407/46292 [29:37:20<36:10,  2.45s/it]  "
     ]
    },
    {
     "name": "stdout",
     "output_type": "stream",
     "text": [
      "Cmd('git') failed due to: exit code(128)\n",
      "  cmdline: git clone -v https://github.com/https://zenodo.org/record/3659180 repos/https://zenodo.org/record/3659180\n",
      "  stderr: 'Cloning into 'repos/https://zenodo.org/record/3659180'...\n",
      "remote: Not Found\n",
      "fatal: repository 'https://github.com/https://zenodo.org/record/3659180/' not found\n",
      "'\n"
     ]
    },
    {
     "name": "stderr",
     "output_type": "stream",
     "text": [
      " 98%|█████████▊| 45428/46292 [29:40:35<1:35:44,  6.65s/it]"
     ]
    },
    {
     "name": "stdout",
     "output_type": "stream",
     "text": [
      "Cmd('git') failed due to: exit code(128)\n",
      "  cmdline: git clone -v https://github.com/PaddlePaddle/PaddleHelix/tree/dev/apps/drug_target_interaction/sman repos/PaddlePaddle/PaddleHelix/tree/dev/apps/drug_target_interaction/sman\n",
      "  stderr: 'Cloning into 'repos/PaddlePaddle/PaddleHelix/tree/dev/apps/drug_target_interaction/sman'...\n",
      "fatal: repository 'https://github.com/PaddlePaddle/PaddleHelix/tree/dev/apps/drug_target_interaction/sman/' not found\n",
      "'\n"
     ]
    },
    {
     "name": "stderr",
     "output_type": "stream",
     "text": [
      " 98%|█████████▊| 45438/46292 [29:40:52<25:28,  1.79s/it]  "
     ]
    },
    {
     "name": "stdout",
     "output_type": "stream",
     "text": [
      "Cmd('git') failed due to: exit code(128)\n",
      "  cmdline: git clone -v https://github.com/https://gitlab.com/jonaswittbrodt/evade repos/https://gitlab.com/jonaswittbrodt/evade\n",
      "  stderr: 'Cloning into 'repos/https://gitlab.com/jonaswittbrodt/evade'...\n",
      "remote: Not Found\n",
      "fatal: repository 'https://github.com/https://gitlab.com/jonaswittbrodt/evade/' not found\n",
      "'\n",
      "Cmd('git') failed due to: exit code(128)\n",
      "  cmdline: git clone -v https://github.com/https://gitlab.com/jonaswittbrodt/evade repos/https://gitlab.com/jonaswittbrodt/evade\n",
      "  stderr: 'Cloning into 'repos/https://gitlab.com/jonaswittbrodt/evade'...\n",
      "remote: Not Found\n",
      "fatal: repository 'https://github.com/https://gitlab.com/jonaswittbrodt/evade/' not found\n",
      "'\n"
     ]
    },
    {
     "name": "stderr",
     "output_type": "stream",
     "text": [
      " 98%|█████████▊| 45454/46292 [29:41:13<15:14,  1.09s/it]"
     ]
    },
    {
     "name": "stdout",
     "output_type": "stream",
     "text": [
      "Cmd('git') failed due to: exit code(128)\n",
      "  cmdline: git clone -v https://github.com/https://www.kaggle.com/ignazio/train-and-test-a-cnn repos/https://www.kaggle.com/ignazio/train-and-test-a-cnn\n",
      "  stderr: 'Cloning into 'repos/https://www.kaggle.com/ignazio/train-and-test-a-cnn'...\n",
      "remote: Not Found\n",
      "fatal: repository 'https://github.com/https://www.kaggle.com/ignazio/train-and-test-a-cnn/' not found\n",
      "'\n"
     ]
    },
    {
     "name": "stderr",
     "output_type": "stream",
     "text": [
      " 98%|█████████▊| 45466/46292 [29:41:32<12:29,  1.10it/s]"
     ]
    },
    {
     "name": "stdout",
     "output_type": "stream",
     "text": [
      "Cmd('git') failed due to: exit code(128)\n",
      "  cmdline: git clone -v https://github.com/tensorflow/quantum/blob/research/layerwise_learning/layerwise_learning.ipynb repos/tensorflow/quantum/blob/research/layerwise_learning/layerwise_learning.ipynb\n",
      "  stderr: 'Cloning into 'repos/tensorflow/quantum/blob/research/layerwise_learning/layerwise_learning.ipynb'...\n",
      "fatal: repository 'https://github.com/tensorflow/quantum/blob/research/layerwise_learning/layerwise_learning.ipynb/' not found\n",
      "'\n"
     ]
    },
    {
     "name": "stderr",
     "output_type": "stream",
     "text": [
      " 98%|█████████▊| 45497/46292 [29:43:02<1:00:27,  4.56s/it]"
     ]
    },
    {
     "name": "stdout",
     "output_type": "stream",
     "text": [
      "Cmd('git') failed due to: exit code(128)\n",
      "  cmdline: git clone -v https://github.com/marwahaha/qaoa-local-competitors/blob/master/2-step-comparison.ipynb repos/marwahaha/qaoa-local-competitors/blob/master/2-step-comparison.ipynb\n",
      "  stderr: 'Cloning into 'repos/marwahaha/qaoa-local-competitors/blob/master/2-step-comparison.ipynb'...\n",
      "fatal: repository 'https://github.com/marwahaha/qaoa-local-competitors/blob/master/2-step-comparison.ipynb/' not found\n",
      "'\n"
     ]
    },
    {
     "name": "stderr",
     "output_type": "stream",
     "text": [
      " 98%|█████████▊| 45544/46292 [29:45:11<15:35,  1.25s/it]  "
     ]
    },
    {
     "name": "stdout",
     "output_type": "stream",
     "text": [
      "Cmd('git') failed due to: exit code(128)\n",
      "  cmdline: git clone -v https://github.com/https://zenodo.org/record/4456019 repos/https://zenodo.org/record/4456019\n",
      "  stderr: 'Cloning into 'repos/https://zenodo.org/record/4456019'...\n",
      "remote: Not Found\n",
      "fatal: repository 'https://github.com/https://zenodo.org/record/4456019/' not found\n",
      "'\n"
     ]
    },
    {
     "name": "stderr",
     "output_type": "stream",
     "text": [
      " 99%|█████████▊| 45626/46292 [29:48:11<09:21,  1.19it/s]  "
     ]
    },
    {
     "name": "stdout",
     "output_type": "stream",
     "text": [
      "Cmd('git') failed due to: exit code(128)\n",
      "  cmdline: git clone -v https://github.com/AnnaGolubeva/WS2018 repos/AnnaGolubeva/WS2018\n",
      "  stderr: 'Cloning into 'repos/AnnaGolubeva/WS2018'...\n",
      "fatal: could not read Username for 'https://github.com': No such device or address\n",
      "'\n"
     ]
    },
    {
     "name": "stderr",
     "output_type": "stream",
     "text": [
      " 99%|█████████▊| 45656/46292 [29:48:49<15:07,  1.43s/it]"
     ]
    },
    {
     "name": "stdout",
     "output_type": "stream",
     "text": [
      "Cmd('git') failed due to: exit code(128)\n",
      "  cmdline: git clone -v https://github.com/johnhuang87/temporal-segment-networks repos/johnhuang87/temporal-segment-networks\n",
      "  stderr: 'Cloning into 'repos/johnhuang87/temporal-segment-networks'...\n",
      "fatal: could not read Username for 'https://github.com': No such device or address\n",
      "'\n"
     ]
    },
    {
     "name": "stderr",
     "output_type": "stream",
     "text": [
      " 99%|█████████▉| 45815/46292 [29:55:08<25:02,  3.15s/it]  "
     ]
    },
    {
     "name": "stdout",
     "output_type": "stream",
     "text": [
      "Cmd('git') failed due to: exit code(128)\n",
      "  cmdline: git clone -v https://github.com/eliceio/vocal-style-transfer repos/eliceio/vocal-style-transfer\n",
      "  stderr: 'Cloning into 'repos/eliceio/vocal-style-transfer'...\n",
      "fatal: could not read Username for 'https://github.com': No such device or address\n",
      "'\n"
     ]
    },
    {
     "name": "stderr",
     "output_type": "stream",
     "text": [
      " 99%|█████████▉| 45862/46292 [29:57:00<10:21,  1.45s/it]"
     ]
    },
    {
     "name": "stdout",
     "output_type": "stream",
     "text": [
      "Cmd('git') failed due to: exit code(128)\n",
      "  cmdline: git clone -v https://github.com/TuoniTuoni/causal-inference repos/TuoniTuoni/causal-inference\n",
      "  stderr: 'Cloning into 'repos/TuoniTuoni/causal-inference'...\n",
      "fatal: could not read Username for 'https://github.com': No such device or address\n",
      "'\n"
     ]
    },
    {
     "name": "stderr",
     "output_type": "stream",
     "text": [
      " 99%|█████████▉| 45879/46292 [29:57:41<11:00,  1.60s/it]"
     ]
    },
    {
     "name": "stdout",
     "output_type": "stream",
     "text": [
      "Cmd('git') failed due to: exit code(128)\n",
      "  cmdline: git clone -v https://github.com/mshahbazi72/visual-question-answering repos/mshahbazi72/visual-question-answering\n",
      "  stderr: 'Cloning into 'repos/mshahbazi72/visual-question-answering'...\n",
      "fatal: could not read Username for 'https://github.com': No such device or address\n",
      "'\n"
     ]
    },
    {
     "name": "stderr",
     "output_type": "stream",
     "text": [
      " 99%|█████████▉| 45911/46292 [29:58:42<03:42,  1.72it/s]"
     ]
    },
    {
     "name": "stdout",
     "output_type": "stream",
     "text": [
      "Cmd('git') failed due to: exit code(128)\n",
      "  cmdline: git clone -v https://github.com/ZhouTangtang/msckf_vio_GPS repos/ZhouTangtang/msckf_vio_GPS\n",
      "  stderr: 'Cloning into 'repos/ZhouTangtang/msckf_vio_GPS'...\n",
      "fatal: could not read Username for 'https://github.com': No such device or address\n",
      "'\n"
     ]
    },
    {
     "name": "stderr",
     "output_type": "stream",
     "text": [
      " 99%|█████████▉| 45950/46292 [29:59:36<04:45,  1.20it/s]"
     ]
    },
    {
     "name": "stdout",
     "output_type": "stream",
     "text": [
      "Cmd('git') failed due to: exit code(128)\n",
      "  cmdline: git clone -v https://github.com/aif360-learn/aif360-learn repos/aif360-learn/aif360-learn\n",
      "  stderr: 'Cloning into 'repos/aif360-learn/aif360-learn'...\n",
      "fatal: could not read Username for 'https://github.com': No such device or address\n",
      "'\n"
     ]
    },
    {
     "name": "stderr",
     "output_type": "stream",
     "text": [
      "\r",
      " 99%|█████████▉| 45951/46292 [29:59:36<03:46,  1.50it/s]"
     ]
    },
    {
     "name": "stdout",
     "output_type": "stream",
     "text": [
      "Cmd('git') failed due to: exit code(128)\n",
      "  cmdline: git clone -v https://github.com/aif360-learn/aif360-learn repos/aif360-learn/aif360-learn\n",
      "  stderr: 'Cloning into 'repos/aif360-learn/aif360-learn'...\n",
      "fatal: could not read Username for 'https://github.com': No such device or address\n",
      "'\n"
     ]
    },
    {
     "name": "stderr",
     "output_type": "stream",
     "text": [
      "100%|█████████▉| 46087/46292 [30:04:08<06:07,  1.79s/it]"
     ]
    },
    {
     "name": "stdout",
     "output_type": "stream",
     "text": [
      "Cmd('git') failed due to: exit code(128)\n",
      "  cmdline: git clone -v https://github.com/eliceio/vocal-style-transfer repos/eliceio/vocal-style-transfer\n",
      "  stderr: 'Cloning into 'repos/eliceio/vocal-style-transfer'...\n",
      "fatal: could not read Username for 'https://github.com': No such device or address\n",
      "'\n"
     ]
    },
    {
     "name": "stderr",
     "output_type": "stream",
     "text": [
      "100%|█████████▉| 46196/46292 [30:08:47<01:21,  1.18it/s]"
     ]
    },
    {
     "name": "stdout",
     "output_type": "stream",
     "text": [
      "Cmd('git') failed due to: exit code(128)\n",
      "  cmdline: git clone -v https://github.com/eliceio/vocal-style-transfer repos/eliceio/vocal-style-transfer\n",
      "  stderr: 'Cloning into 'repos/eliceio/vocal-style-transfer'...\n",
      "fatal: could not read Username for 'https://github.com': No such device or address\n",
      "'\n"
     ]
    },
    {
     "name": "stderr",
     "output_type": "stream",
     "text": [
      "100%|█████████▉| 46235/46292 [30:10:35<00:59,  1.05s/it]"
     ]
    },
    {
     "name": "stdout",
     "output_type": "stream",
     "text": [
      "Cmd('git') failed due to: exit code(128)\n",
      "  cmdline: git clone -v https://github.com/alibaba/EasyTransfer/tree/master/scripts/fashion_bert repos/alibaba/EasyTransfer/tree/master/scripts/fashion_bert\n",
      "  stderr: 'Cloning into 'repos/alibaba/EasyTransfer/tree/master/scripts/fashion_bert'...\n",
      "fatal: repository 'https://github.com/alibaba/EasyTransfer/tree/master/scripts/fashion_bert/' not found\n",
      "'\n"
     ]
    },
    {
     "name": "stderr",
     "output_type": "stream",
     "text": [
      "100%|██████████| 46292/46292 [30:13:20<00:00,  2.35s/it]\n"
     ]
    }
   ],
   "source": [
    "clone_repos(paperswithcode_df['repo'].iloc[:paperswithcode_df.shape[0] // 2])"
   ]
  },
  {
   "cell_type": "code",
   "execution_count": 129,
   "metadata": {},
   "outputs": [],
   "source": [
    "def prepare_python_files_df(repos):\n",
    "    paperswithcode_df, all_papers_df = paperswithcode_tasks.get_paperswithcode_dfs()\n",
    "    repo_files = pd.concat([\n",
    "        make_python_files_df_from_directory(\"repos/\" + repo)\n",
    "        for repo in tqdm.tqdm(repos)\n",
    "        if check_if_python_files_exist(\"repos\", repo)\n",
    "    ])\n",
    "    return repo_files"
   ]
  },
  {
   "cell_type": "code",
   "execution_count": 130,
   "metadata": {
    "scrolled": true
   },
   "outputs": [
    {
     "name": "stderr",
     "output_type": "stream",
     "text": [
      "100%|██████████| 92585/92585 [03:12<00:00, 479.76it/s]  \n"
     ]
    }
   ],
   "source": [
    "python_files_df = prepare_python_files_df(paperswithcode_df['repo'])"
   ]
  },
  {
   "cell_type": "code",
   "execution_count": 131,
   "metadata": {},
   "outputs": [],
   "source": [
    "python_files_df['content'] =  python_files_df['content'].str.replace('\\r', '\\n')"
   ]
  },
  {
   "cell_type": "code",
   "execution_count": 133,
   "metadata": {},
   "outputs": [
    {
     "data": {
      "text/html": [
       "<div>\n",
       "<style scoped>\n",
       "    .dataframe tbody tr th:only-of-type {\n",
       "        vertical-align: middle;\n",
       "    }\n",
       "\n",
       "    .dataframe tbody tr th {\n",
       "        vertical-align: top;\n",
       "    }\n",
       "\n",
       "    .dataframe thead th {\n",
       "        text-align: right;\n",
       "    }\n",
       "</style>\n",
       "<table border=\"1\" class=\"dataframe\">\n",
       "  <thead>\n",
       "    <tr style=\"text-align: right;\">\n",
       "      <th></th>\n",
       "      <th>content</th>\n",
       "      <th>path</th>\n",
       "      <th>repo_name</th>\n",
       "    </tr>\n",
       "  </thead>\n",
       "  <tbody>\n",
       "    <tr>\n",
       "      <th>0</th>\n",
       "      <td>#!/usr/bin/env python3\\nimport subprocess\\nimp...</td>\n",
       "      <td>run-tests.py</td>\n",
       "      <td>trangvu/ape-npi</td>\n",
       "    </tr>\n",
       "    <tr>\n",
       "      <th>1</th>\n",
       "      <td>import pickle\\n\\nimport tensorflow as tf\\nimpo...</td>\n",
       "      <td>translate/import_graph.py</td>\n",
       "      <td>trangvu/ape-npi</td>\n",
       "    </tr>\n",
       "    <tr>\n",
       "      <th>2</th>\n",
       "      <td>import tensorflow as tf\\nimport math\\nfrom ten...</td>\n",
       "      <td>translate/models.py</td>\n",
       "      <td>trangvu/ape-npi</td>\n",
       "    </tr>\n",
       "    <tr>\n",
       "      <th>3</th>\n",
       "      <td>import tensorflow as tf\\nfrom tensorflow.contr...</td>\n",
       "      <td>translate/conv_lstm.py</td>\n",
       "      <td>trangvu/ape-npi</td>\n",
       "    </tr>\n",
       "    <tr>\n",
       "      <th>4</th>\n",
       "      <td>import tensorflow as tf\\nfrom translate import...</td>\n",
       "      <td>translate/beam_search.py</td>\n",
       "      <td>trangvu/ape-npi</td>\n",
       "    </tr>\n",
       "  </tbody>\n",
       "</table>\n",
       "</div>"
      ],
      "text/plain": [
       "                                             content  \\\n",
       "0  #!/usr/bin/env python3\\nimport subprocess\\nimp...   \n",
       "1  import pickle\\n\\nimport tensorflow as tf\\nimpo...   \n",
       "2  import tensorflow as tf\\nimport math\\nfrom ten...   \n",
       "3  import tensorflow as tf\\nfrom tensorflow.contr...   \n",
       "4  import tensorflow as tf\\nfrom translate import...   \n",
       "\n",
       "                        path        repo_name  \n",
       "0               run-tests.py  trangvu/ape-npi  \n",
       "1  translate/import_graph.py  trangvu/ape-npi  \n",
       "2        translate/models.py  trangvu/ape-npi  \n",
       "3     translate/conv_lstm.py  trangvu/ape-npi  \n",
       "4   translate/beam_search.py  trangvu/ape-npi  "
      ]
     },
     "execution_count": 133,
     "metadata": {},
     "output_type": "execute_result"
    }
   ],
   "source": [
    "python_files_df.head()"
   ]
  },
  {
   "cell_type": "code",
   "execution_count": 163,
   "metadata": {},
   "outputs": [
    {
     "data": {
      "text/plain": [
       "27008"
      ]
     },
     "execution_count": 163,
     "metadata": {},
     "output_type": "execute_result"
    }
   ],
   "source": [
    "len(python_files_df['repo_name'].unique())"
   ]
  },
  {
   "cell_type": "code",
   "execution_count": 164,
   "metadata": {},
   "outputs": [
    {
     "data": {
      "text/plain": [
       "1806684"
      ]
     },
     "execution_count": 164,
     "metadata": {},
     "output_type": "execute_result"
    }
   ],
   "source": [
    "len(python_files_df['repo_name'])"
   ]
  },
  {
   "cell_type": "code",
   "execution_count": 156,
   "metadata": {
    "scrolled": true
   },
   "outputs": [
    {
     "data": {
      "text/plain": [
       "google-research/google-research                      0.145302\n",
       "tensorflow/models                                    0.243455\n",
       "osmr/imgclsmob                                       0.289806\n",
       "huggingface/transformers                             0.322116\n",
       "OscarJHernandez/qc_mentorship_project                0.333109\n",
       "pytorch/fairseq                                      0.342963\n",
       "open-mmlab/mmsegmentation                            0.352375\n",
       "joe-prog/https-github.com-facebookresearch-ParlAI    0.358086\n",
       "TQRG/BugSwarm                                        0.362463\n",
       "tensorflow/tensor2tensor                             0.366725\n",
       "open-mmlab/mmpose                                    0.370496\n",
       "PaddlePaddle/Research                                0.374107\n",
       "rwightman/pytorch-image-models                       0.377490\n",
       "Daikenan/LTMU                                        0.380106\n",
       "pytorch/pytorch                                      0.382720\n",
       "benedekrozemberczki/karateclub                       0.385268\n",
       "VLOGroup/tensorflow-icg                              0.387791\n",
       "rusty1s/pytorch_geometric                            0.390261\n",
       "tasosnent/MeSH_Extension                             0.392649\n",
       "Saibo-creator/Text-Summrize-Project                  0.394883\n",
       "vvanirudh/CMAX                                       0.397109\n",
       "tpike3/SugarScape                                    0.399061\n",
       "pytorch/vision                                       0.400967\n",
       "yumoh/catboost_iter                                  0.402684\n",
       "dmlc/dgl                                             0.404263\n",
       "Name: repo_name, dtype: float64"
      ]
     },
     "execution_count": 156,
     "metadata": {},
     "output_type": "execute_result"
    }
   ],
   "source": [
    "(python_files_df['repo_name'].value_counts().cumsum() / len(python_files_df)).iloc[:25]"
   ]
  },
  {
   "cell_type": "code",
   "execution_count": 157,
   "metadata": {},
   "outputs": [],
   "source": [
    "crawled_files = pd.read_csv(\"data/crawled_python_files.csv\")"
   ]
  },
  {
   "cell_type": "code",
   "execution_count": 158,
   "metadata": {},
   "outputs": [],
   "source": [
    "scraped_files = pd.read_csv(\"data/scraped_python_files.csv\")"
   ]
  },
  {
   "cell_type": "code",
   "execution_count": 159,
   "metadata": {},
   "outputs": [
    {
     "data": {
      "text/plain": [
       "1402272"
      ]
     },
     "execution_count": 159,
     "metadata": {},
     "output_type": "execute_result"
    }
   ],
   "source": [
    "len(crawled_files)"
   ]
  },
  {
   "cell_type": "code",
   "execution_count": 160,
   "metadata": {},
   "outputs": [
    {
     "data": {
      "text/plain": [
       "1461081"
      ]
     },
     "execution_count": 160,
     "metadata": {},
     "output_type": "execute_result"
    }
   ],
   "source": [
    "len(scraped_files)"
   ]
  },
  {
   "cell_type": "code",
   "execution_count": 161,
   "metadata": {},
   "outputs": [
    {
     "data": {
      "text/plain": [
       "18933"
      ]
     },
     "execution_count": 161,
     "metadata": {},
     "output_type": "execute_result"
    }
   ],
   "source": [
    "len(crawled_files['repo_name'].unique())"
   ]
  },
  {
   "cell_type": "code",
   "execution_count": 162,
   "metadata": {},
   "outputs": [
    {
     "data": {
      "text/plain": [
       "18950"
      ]
     },
     "execution_count": 162,
     "metadata": {},
     "output_type": "execute_result"
    }
   ],
   "source": [
    "len(scraped_files['repo_name'].unique())"
   ]
  },
  {
   "cell_type": "code",
   "execution_count": 165,
   "metadata": {},
   "outputs": [
    {
     "data": {
      "text/plain": [
       "0.39488255832231867"
      ]
     },
     "execution_count": 165,
     "metadata": {},
     "output_type": "execute_result"
    }
   ],
   "source": [
    "python_files_df['repo_name'].value_counts()[:20].sum() / len(python_files_df)"
   ]
  },
  {
   "cell_type": "code",
   "execution_count": 166,
   "metadata": {},
   "outputs": [],
   "source": [
    "file_lengths = python_files_df['content'].apply(len)"
   ]
  },
  {
   "cell_type": "code",
   "execution_count": 171,
   "metadata": {},
   "outputs": [
    {
     "data": {
      "text/plain": [
       "count    1.806684e+06\n",
       "mean     9.728450e+03\n",
       "std      6.029188e+04\n",
       "min      1.000000e+00\n",
       "25%      1.965000e+03\n",
       "50%      4.690000e+03\n",
       "75%      1.027500e+04\n",
       "max      3.558457e+07\n",
       "Name: content, dtype: float64"
      ]
     },
     "execution_count": 171,
     "metadata": {},
     "output_type": "execute_result"
    }
   ],
   "source": [
    "file_lengths.describe()"
   ]
  },
  {
   "cell_type": "code",
   "execution_count": 172,
   "metadata": {},
   "outputs": [
    {
     "name": "stdout",
     "output_type": "stream",
     "text": [
      "CPU times: user 2min 7s, sys: 6.27 s, total: 2min 13s\n",
      "Wall time: 2min 13s\n"
     ]
    }
   ],
   "source": [
    "%%time\n",
    "python_files_df[file_lengths < 1e5].to_csv('data/crawled_python_files.csv', index=False, encoding='utf-8')"
   ]
  },
  {
   "cell_type": "code",
   "execution_count": 77,
   "metadata": {},
   "outputs": [
    {
     "data": {
      "text/plain": [
       "(1402087, 3)"
      ]
     },
     "execution_count": 77,
     "metadata": {},
     "output_type": "execute_result"
    }
   ],
   "source": [
    "python_files_df[file_lengths < 1e5].shape"
   ]
  },
  {
   "cell_type": "code",
   "execution_count": 75,
   "metadata": {},
   "outputs": [
    {
     "data": {
      "text/plain": [
       "1402087"
      ]
     },
     "execution_count": 75,
     "metadata": {},
     "output_type": "execute_result"
    }
   ],
   "source": [
    "(file_lengths < 1e5).sum()"
   ]
  },
  {
   "cell_type": "code",
   "execution_count": 43,
   "metadata": {},
   "outputs": [
    {
     "data": {
      "text/plain": [
       "9526"
      ]
     },
     "execution_count": 43,
     "metadata": {},
     "output_type": "execute_result"
    }
   ],
   "source": [
    "len(python_files_df.iloc[1281222]['content']"
   ]
  },
  {
   "cell_type": "code",
   "execution_count": 45,
   "metadata": {},
   "outputs": [],
   "source": []
  },
  {
   "cell_type": "code",
   "execution_count": 50,
   "metadata": {},
   "outputs": [
    {
     "data": {
      "text/plain": [
       "0.00017958915962920871"
      ]
     },
     "execution_count": 50,
     "metadata": {},
     "output_type": "execute_result"
    }
   ],
   "source": [
    "(file_lengths > 1e6).mean()"
   ]
  },
  {
   "cell_type": "code",
   "execution_count": 44,
   "metadata": {},
   "outputs": [
    {
     "ename": "SyntaxError",
     "evalue": "EOF while scanning triple-quoted string literal (<ipython-input-44-13848e62a2a8>, line 2)",
     "output_type": "error",
     "traceback": [
      "\u001b[0;36m  File \u001b[0;32m\"<ipython-input-44-13848e62a2a8>\"\u001b[0;36m, line \u001b[0;32m2\u001b[0m\n\u001b[0;31m    bash: # -*- coding: utf-8 -*-\\n\\n######################## IMPORTING / GOOGLE DRIVE INTEGRATION ##############################\\nimport torch\\nimport argparse\\nimport copy\\nimport cv2\\nimport json\\nimport numpy as np\\nimport os\\nimport pandas as pd\\nimport pdb\\nimport pickle\\nimport random\\nimport scipy.ndimage\\nimport shutil\\nimport sklearn.preprocessing\\nimport sys\\n#import tensorflow as tf\\nimport time\\nimport torch\\nimport torch.nn as nn\\nimport torch.nn.functional as F\\nimport torch.optim as optim\\nimport torchvision\\nfrom PIL import Image\\nfrom itertools import product\\nfrom matplotlib import pyplot as plt\\nimport numpy as np\\nimport pickle\\nimport json\\nimport pandas as pd\\n#import tensorflow as tf\\nfrom torchvision import datasets, transforms\\nfrom torch.utils.tensorboard import SummaryWriter\\nimport argparse\\nimport sys\\nimport pdb\\nimport sklearn\\nimport yaml\\n\\nfrom shutil import copy2\\nfrom torch.autograd import Variable\\nfrom torch.optim import lr_scheduler\\nfrom torch.utils.data import Dataset, DataLoader\\nfrom torch.utils.tensorboard import SummaryWriter\\nfrom torchvision import datasets, transforms, models\\nfrom yaml import load, dump\\n\\nfrom functools import partial\\nimport signal\\nimport time\\nimport sys\\nimport numpy as np\\n\\n################################ SET UP PATHS ##############################################\\n# See README.md for more details\\n\\nmount_filepath =  # Put the path to the root directory of your project here\\nmodel_name_prefix = fvae_trip_vgg\\n\\n################################ SETTING UP PROGRAM ARGUMENTS ##############################\\n\\nIS_RUNNING_NOTEBOOK = False  # ** NOTE: PLEASE DO NOT FORGET TO CHANGE THIS FLAG WHEN YOU DEPLOY **\\n\\nexit_code = None\\n# The safe_exit function works by only registering a flag that is\\n# monitored in the actual training loop\\n#\\n# In addition, this is the central authority on the exit code for this program \\n# and will be used for the actual exit code at the end\\ndef safe_exit(signal_num, ec=0, total_iters=0, exp_name = ):\\n    print(Caught a signal, signal_num)\\n    sys.stdout.flush()\\n    global exit_code\\n    exit_code = signal_num\\n\\nstart_time = time.time()\\n\\n# Catch the signal and report to safe_exit\\nsignal.signal(signal.SIGTERM, safe_exit)\\n\\ndevice = torch.device(cuda)\\n\\nparser = argparse.ArgumentParser()\\nparser.add_argument(yaml_config, help = No config file specified. Please specify a yaml file.)\\nargs = parser.parse_args()\\n\\nconfig_file = open(args.yaml_config, 'r')\\nconfig_args = yaml.load(config_file)\\n\\n\\nLATENT_SIZE = config_args['LATENT_SIZE']\\nLATENT_ARTIST_SIZE = config_args['LATENT_ARTIST_SIZE']\\n\\nPERCEP_RATIO = config_args['PERCEP_RATIO']\\nKLD_RATIO = config_args['KLD_RATIO']\\nTRIP_RATIO = config_args['TRIP_RATIO']\\nRECON_RATIO = config_args['RECON_RATIO']\\n\\nOUTLIERS_REMOVED = config_args['OUTLIERS']\\n\\nTRAIN_TEST_RATIO = config_args['TRAIN_TEST_SPLIT']\\n\\nTIMEOUT = 3600\\n\\n\\nMASK_TYPE = mask\\n\\n# HYPERPARAMETERS\\n\\n################################ HYPERPARAMETERS ##############################\\n\\n# Base VAE Hyperparameters\\nTRIPLET_ALPHA = 1.0\\n#LATENT_ARTIST_WEIGHT = 1.0 * NON_VAE_WEIGHT\\nRECONSTRUCTION_WEIGHT = RECON_RATIO\\nPERCEP_LOSS_WEIGHT = PERCEP_RATIO\\nVAE_DIVERGENCE_WEIGHT = KLD_RATIO\\nTRIPLET_LOSS_WEIGHT = TRIP_RATIO\\n\\n# Loss Thresholds\\nMAX_VAE_LOSS_THRESHOLD = 200\\nMAX_LATENT_ARTIST_LOSS_THRESHOLD = 10\\n\\n# Random sampling hyperparameters\\nSAME_ARTIST_PROBABILITY_THRESHOLD = 0.7\\n\\n# Train Test Split\\nTRAIN_TEST_SPLIT = TRAIN_TEST_RATIO\\n\\ninterval = 1 # Interval for which to print the loss\\nnum_batches_per_epoch = 478\\nepochs = num_batches_per_epoch * 500\\nepoch = 0 # Start epoch to run from (gets automatically set in the checkpointing process)\\n\\n\\n################################ SETTING UP DIRECTORY STRUCTURE ##############################\\n\\n## TODO: Update this with a better name? Let's stick with 1024 parameters and 512 for the artist latent vector\\n\\n# hyperparameter_name = fkld_{VAE_DIVERGENCE_WEIGHT}_percep_{PERCEP_LOSS_WEIGHT}_recon_{RECONSTRUCTION_WEIGHT}_trip_{TRIPLET_LOSS_WEIGHT}\\n#hyperparameter_name = fnonvaeweight_{NON_VAE_WEIGHT}_artist_{LATENT_ARTIST_SIZE}_latent_{LATENT_SIZE}\\n\\nhyperparameter_name = fTRIPLET_{TRIPLET_LOSS_WEIGHT} \\n\\nmodel_name = f{model_name_prefix}_{hyperparameter_name} # Name of the model generated from the program arguments\\n\\nwriter = SummaryWriter(f'./tensorboard/{model_name}') # Tensorboard writer\\n# kld_writer = SummaryWriter(f'./tensorboard/{model_name}/kld_loss') # Tensorboard writer\\n# recon_writer = SummaryWriter(f'./tensorboard/{model_name}/recon_loss') # Tensorboard writer\\n# artist_writer = SummaryWriter(f'./tensorboard/{model_name}/artist_loss') # Tensorboard writer\\ntriplet_writer = SummaryWriter(f'./tensorboard/{model_name}/triplet_loss') # Tensorboard writer\\n# perceptual_writer = SummaryWriter(f'./tensorboard/{model_name}/perceptual_loss') # Tensorboard writer\\n\\nprefix = padded_ # Prefix for all the files being saved\\ncontinue_training = True # Specifies whether you want to continuing training from the previous epoch. Honestly don't know why you'd set it to false but you can if you want.\\nmodels_folder = f{mount_filepath}/saved_models/{model_name}/models\\n\\nmodel_save_root = mount_filepath + '/saved_models'\\nresults_folder = f{model_save_root}/{model_name}/images\\nplot_folder = f{model_save_root}/{model_name}/plots\\nlog_folder = f{model_save_root}/{model_name}/logs\\n\\nload_model_folder = f{model_save_root}/{model_name}/models\\n\\nos.makedirs(f{model_save_root}/{model_name}, exist_ok=True)\\nos.makedirs(results_folder, exist_ok=True)\\nos.makedirs(plot_folder, exist_ok=True)\\n\\nLATENT_PREFIX = padded_\\n\\n#DISCRIMINATOR_PREFIX = discriminator # DONT CHANGE THIS\\n\\n#LATENT_ARTIST_MODEL_NAME = f{DISCRIMINATOR_PREFIX}_{model_name_prefix}_{hyperparameter_name}\\n#os.makedirs(f{model_save_root}/{LATENT_ARTIST_MODEL_NAME}, exist_ok=True)\\n#os.makedirs(f{model_save_root}/{LATENT_ARTIST_MODEL_NAME}/images, exist_ok=True)\\n#os.makedirs(f{model_save_root}/{LATENT_ARTIST_MODEL_NAME}/plots, exist_ok=True)\\n#os.makedirs(f{model_save_root}/{LATENT_ARTIST_MODEL_NAME}/logs, exist_ok=True)\\n#os.makedirs(f{model_save_root}/{LATENT_ARTIST_MODEL_NAME}/models, exist_ok=True)\\n\\n# If you're training the base VAE, you must still specify a load path for the latent artist network\\n#LATENT_ARTIST_MODEL_LOAD_PATH = f{model_save_root}/{LATENT_ARTIST_MODEL_NAME}/models\\n\\n#model_name = LATENT_ARTIST_MODEL_NAME\\n#prefix = LATENT_PREFIX\\n#load_model_folder = LATENT_ARTIST_MODEL_LOAD_PATH\\n\\n# SETTING UP PATHS / DIRECTORY STRUCTURE\\n\\n################################ SETTING UP PATHS / DIRECTORY STRUCTURE ##############################\\nmetadata_filepath = mount_filepath + 'FINAL_DATASET_SIZES.csv'\\nimage_zip_folder = mount_filepath + 'Images.zip'\\nimage_folder = mount_filepath + Images\\n# triplets_path = mount_filepath + Triplets/4700_labels_copy.json \\ntriplets_path = mount_filepath + Triplets/6384_labels.json\\n\\nwriter = SummaryWriter(f'./tensorboard/{model_name}') # Tensorboard writer\\nprefix = padded_ # Prefix for all the files being savedc\\nmodels_folder = f{mount_filepath}/saved_models/{model_name}/models\\n\\nmodel_save_root = mount_filepath + '/saved_models'\\nresults_folder = f{model_save_root}/{model_name}/images\\nlog_folder = f{model_save_root}/{model_name}/logs\\n\\nos.makedirs(f{model_save_root}/{model_name}, exist_ok=True)\\nos.makedirs(results_folder, exist_ok=True)\\nos.makedirs(log_folder, exist_ok=True)\\nos.makedirs(f{model_save_root}/{model_name}/models, exist_ok=True)\\n\\n# ART DATASET CLASS\\n\\n################################ ART DATASET CLASS ##############################\\n\\nclass ArtDataset(Dataset):\\n    def __init__(self, image_folder, triplet_df, metadata_df, largest_height, largest_width, transform=None):\\n        \\n        Args:\\n            image_folder (string): Directory with all the images.\\n            metadata_df (Pandas Dataframe): Dataframe containing the metadata\\n            transform (Torchvision.Transform) Transform to be applied to the image data\\n        \\n        self.transform = transform\\n        self.metadata = metadata_df.reset_index()\\n        self.triplets = triplet_df\\n        self.image_folder = image_folder\\n        self.largest_height = largest_height\\n        self.largest_width = largest_width\\n\\n    def __len__(self):\\n        return len(self.triplets.index)\\n\\n    def return_transformed_image(self, image_filename):\\n        image = Image.open(os.path.join(self.image_folder, image_filename))\\n        (width, height) = image.size\\n        tensor_image = self.transform(image)\\n        pad_layer = nn.ZeroPad2d((0, self.largest_width - width, 0, self.largest_height - height))\\n        return pad_layer(tensor_image)\\n\\n    def get_random_artist_image(self, artist):\\n        artist_indices = self.metadata[self.metadata['cleaned_artist'] == artist].index\\n        random_artist_idx = random.choice(artist_indices)\\n        return self.metadata.iloc[random_artist_idx]\\n\\n    def __getitem__(self, idx):\\n      row = self.triplets.iloc[idx]\\n\\n      positive_idx = int(row['Positive']) - 1\\n      negative_idx = (1 - positive_idx)\\n\\n      triplet_names = ['1', '2', 'anchor']\\n\\n      # Re-Arranges it so now it's of the form positive, negative, anchor.\\n      triplet_files = [row[triplet_names[positive_idx]], row[triplet_names[negative_idx]], row[triplet_names[2]]]\\n      labels = ['positive', 'negative', 'anchor']\\n\\n      triplet_objects = {}\\n\\n      for filename, label in zip(triplet_files, labels):\\n        triplet_object = {}\\n\\n        triplet_image = {}\\n        triplet_corresponding = {}\\n\\n        image_metadata = self.metadata.loc[self.metadata['filename'] == filename]\\n        image_name = image_metadata['filename'].values[0]\\n\\n        triplet_image['artist'] = image_metadata['cleaned_artist'].values[0]\\n        triplet_image['image'] = self.return_transformed_image(image_name)\\n\\n        triplet_image['normalized_midpoint'] = image_metadata['normalized_midpoint'].values[0]\\n        triplet_image['normalized_start'] = image_metadata['normalized_start'].values[0]\\n        triplet_image['normalized_end'] = image_metadata['normalized_end'].values[0]\\n\\n        triplet_image['width'] = image_metadata['width'].values[0]\\n        triplet_image['height'] = image_metadata['height'].values[0]\\n\\n        #random_artist = self.get_random_artist_image(triplet_image['artist'])\\n\\n        #triplet_corresponding['image'] = self.return_transformed_image(random_artist['filename'])\\n        #triplet_corresponding['filename'] = random_artist['filename']\\n\\n        #triplet_corresponding['normalized_midpoint'] = random_artist['normalized_midpoint']\\n        #triplet_corresponding['normalized_start'] = random_artist['normalized_start']\\n        #triplet_corresponding['normalized_end'] = random_artist['normalized_end']\\n\\n        #triplet_corresponding['width'] = random_artist['width']\\n        #triplet_corresponding['height'] = random_artist['height']\\n\\n        #triplet_corresponding['should_mask'] = (random_artist['filename'] == image_metadata['filename'].values[0])\\n\\n        triplet_object['triplet'] = triplet_image\\n        #triplet_object['corresponding'] = triplet_corresponding\\n\\n        triplet_objects[label] = triplet_object\\n\\n      return triplet_objects\\n\\n# READING IN DATA FROM CSV / PREPROCESSING\\n\\n################################ READING IN DATA FROM CSV / PREPROCESSING ##############################\\n\\nimport json\\nimport pandas as pd\\n#pdb.set_trace()\\n\\nmetadata_filepath = mount_filepath + 'FINAL_DATASET_SIZES.csv'\\nimage_zip_folder = mount_filepath + 'Images.zip'\\n\\nimage_folder = mount_filepath + Images\\n\\nmetadata_df = pd.read_csv(metadata_filepath)\\nprint(metadata_df.shape)\\nmetadata_df = metadata_df.fillna()\\nartists_column = metadata_df['cleaned_artist'].str.lower()\\nknown_artists = metadata_df[(artists_column != 'unsure') & (artists_column != 'anonymous')]\\n\\nanonymous_artists = metadata_df[(artists_column == 'unsure') ^ (artists_column == 'anonymous')]\\n\\n# To use all the data just set min_thresh = 0 and max_thresh = 1\\nmin_thresh = 0.00\\nmax_thresh = 1.00\\n\\n# Only keep the artists that are known\\n# CURRENTLY COMMENTED SINCE WE DON'T CARE IF THE ARTISTS ARE UNKOWN!\\n# metadata_df = known_artists\\n\\nsorted_widths = sorted(metadata_df['width'].tolist())\\nsorted_heights = sorted(metadata_df['height'].tolist())\\n\\nif OUTLIERS_REMOVED == outliers:\\n  bottom_range_height = sorted_heights[max(0, int(len(sorted_heights) * min_thresh) - 1)]\\n  top_range_height = sorted_heights[max(0, int(len(sorted_heights) * max_thresh) - 1)] + 1\\n  bottom_range_width = sorted_widths[max(0, int(len(sorted_widths) * min_thresh) - 1)]\\n  top_range_width = sorted_widths[max(0, int(len(sorted_widths) * max_thresh) - 1)]\\nelse:\\n  bottom_range_width = 100\\n  top_range_width = 200\\n  bottom_range_height = 150\\n  top_range_height = 200\\n\\nprint(bottom_range_height)\\nprint(top_range_height)\\nprint(bottom_range_width)\\nprint(top_range_width)\\n\\n#middle_df = metadata_df.loc[(metadata_df['width'] >= bottom_range_width) & (metadata_df['width'] <= top_range_width) & (metadata_df['height'] >= bottom_range_height) & (metadata_df['height'] <= top_range_height)]\\nmiddle_df = metadata_df\\n\\n\\nstring_json = json.load(open(triplets_path, 'r'))\\ntriplets_df = pd.DataFrame(string_json)\\n\\nnon_empty_triplets = triplets_df[triplets_df['Positive'] != '']\\nvalid_filenames = middle_df['filename'].tolist()\\n\\nencoder = sklearn.preprocessing.OneHotEncoder()\\none_hot_encoding = encoder.fit_transform(middle_df['cleaned_artist'].values.reshape(-1,1)).toarray()\\nnum_artists = one_hot_encoding.shape[1]\\n\\n# No longer need the one-hot encoding since we are no longer performing artist classification\\n# middle_df['artist_encoding'] = [np.array(a) for a in one_hot_encoding]\\n\\nmin_date = np.min(middle_df['mid-date'].values)\\nmax_date = np.max(middle_df['mid-date'].values)\\n\\n\\nnormalized_middate = (middle_df['mid-date'].values - min_date) / (max_date - min_date)\\nnormalized_start_date = (middle_df['start-date'].replace('', 0).values - min_date) / (max_date - min_date)\\nnormalized_end_date = (middle_df['end-date'].replace('', 0).values - min_date) / (max_date - min_date)\\n\\nstd_devs = np.zeros(len(normalized_start_date))\\nstd_devs[normalized_start_date >= 0.0] = (normalized_middate[normalized_start_date >= 0.0] - normalized_start_date[normalized_start_date >= 0.0]) / 2.0\\n\\nSAME_DATE_SIGMA = 1.0\\nstd_devs[normalized_start_date < 0.0] = (SAME_DATE_SIGMA / (max_date - min_date))\\n\\nmin_std_dev = np.min(std_devs)\\nmax_std_dev = np.max(std_devs)\\n\\nmiddle_df['normalized_midpoint'] = normalized_middate\\nmiddle_df['normalized_start'] = normalized_start_date\\nmiddle_df['normalized_end'] = normalized_end_date\\n\\nprint(fNumber of Triplets: {len(non_empty_triplets)})\\n\\ntriplets_within_size = non_empty_triplets[(non_empty_triplets['1'].isin(valid_filenames)) & (non_empty_triplets['2'].isin(valid_filenames)) & (non_empty_triplets['anchor'].isin(valid_filenames))]\\n\\nprint(fNumber of Triplets: {len(triplets_within_size)})\\n\\n# CREATING TRAIN / TEST SPLIT\\n\\nfrom sklearn.model_selection import train_test_split\\n\\ndata_transform = transforms.Compose([\\n        transforms.ToTensor()\\n    ])\\n\\nsplit = 1 - TRAIN_TEST_RATIO\\ntorch.manual_seed(0)\\nnp.random.seed(0)\\ntrain, test = train_test_split(triplets_within_size, test_size=split)\\n\\n\\n## This is for training the Base VAE\\ntrain_art_dataset = ArtDataset(image_folder, train, middle_df, top_range_height, top_range_width, transform=data_transform)\\ntest_art_dataset = ArtDataset(image_folder, test, middle_df, top_range_height, top_range_width, transform=data_transform)\\n\\nbatch_sz = 12\\nnum_wrkrs = 5\\n\\ntrain_dataset_loader = torch.utils.data.DataLoader(train_art_dataset,\\n                                             batch_size=batch_sz, shuffle=True,\\n                                             num_workers=num_wrkrs)\\n\\ntest_dataset_loader = torch.utils.data.DataLoader(test_art_dataset,\\n                                             batch_size=batch_sz, shuffle=True,\\n                                             num_workers=num_wrkrs)\\n\\nprint(ftrain len: {len(train_dataset_loader)})\\nprint(ftrain len: {len(test_dataset_loader)})\\n\\n# DEFINING NEURAL NETWORK ARCHITECTURE\\n\\nimport pdb\\nclass TRIPLET_VGG(nn.Module):\\n    def __init__(self):\\n        super(TRIPLET_VGG, self).__init__()\\n        self.pretrained_net = models.vgg16(pretrained=True).to(device)\\n        self.pretrained_net = self.pretrained_net.eval()\\n        self.fc1 = nn.Linear(4096, 2048)\\n        self.bn1 = nn.BatchNorm1d(2048)\\n        self.fc2 = nn.Linear(2048, 1024)\\n\\n    def forward(self, x):\\n      with torch.no_grad():\\n        activations = None\\n        output = x\\n        for _, model in enumerate(self.pretrained_net.features):\\n          output = model(output)\\n\\n        output = self.pretrained_net.avgpool(output)\\n        output = output.view(output.shape[0],-1)\\n        # for _, model in enumerate(pretrained_net.avgpool):\\n          # output = model(output)\\n        for layer_id, model in enumerate(self.pretrained_net.classifier):\\n          output = model(output)\\n          if layer_id == 3:\\n            break\\n      \\n      output = self.bn1(F.relu(self.fc1(output)))\\n      output = self.fc2(output)\\n\\n      return output\\n\\ntriplet_vgg = TRIPLET_VGG()\\ntriplet_vgg.to(device)\\nbase_optimizer = optim.Adam(triplet_vgg.parameters(), lr=1e-3)\\n\\n# CHECKPOINT LOADING\\n\\n################################ CHECKPOINT LOADING ##############################\\ndef find_latest_checkpoint_in_dir(load_dir, prefix):\\n  pretrained_models = os.listdir(load_dir)\\n  if '.ipynb_checkpoints' in pretrained_models:\\n    pretrained_models.remove('.ipynb_checkpoints')\\n  max_model_name = \\n  max_model_no = -1\\n  for pretrained_model in pretrained_models:\\n    prefix_split = pretrained_model.split(f{prefix})\\n    if len(prefix_split) != 2:\\n      continue\\n    model_no = int(prefix_split[1].split(.pt)[0])\\n    if model_no > max_model_no:\\n      max_model_no = model_no\\n      max_model_name = pretrained_model\\n  epoch = 0\\n  if max_model_name == :\\n    print(Could not find pretrained model.)\\n    return None\\n  else:\\n    print(fLoaded pretrained model: {max_model_name})\\n    epoch = max_model_no\\n    return epoch, torch.load(f'{load_dir}/{max_model_name}')\\n\\nprint(load_model_folder)\\n# Checkpoint loading for the latent artist model\\nif(not find_latest_checkpoint_in_dir(load_model_folder, prefix) is None):\\n  base_epoch, base_state_dict = find_latest_checkpoint_in_dir(load_model_folder, prefix)\\n  epoch = base_epoch\\n  triplet_vgg.load_state_dict(base_state_dict)\\n#if(not find_latest_checkpoint_in_dir(LATENT_ARTIST_MODEL_LOAD_PATH, f{DISCRIMINATOR_PREFIX}_{LATENT_PREFIX}) is None):\\n  #discrimnator_epoch, discriminator_state_dict = find_latest_checkpoint_in_dir(LATENT_ARTIST_MODEL_LOAD_PATH, f{DISCRIMINATOR_PREFIX}_{LATENT_PREFIX})\\n  #discriminator.load_state_dict(discriminator_state_dict)\\n# Optimizers for the two networks\\n# base_optimizer = optim.Adam(vae.parameters(), lr=1e-3)\\n#discriminator_optimizer = optim.Adam(discriminator.parameters(), lr=1e-3)\\n\\n# LOSS FUNCTIONS\\n\\n################################ HELPER METHODS ##############################\\n\\ndef display_first_n_of_batch(batch, n):\\n  f, axarr = plt.subplots(1, n)\\n  f.set_figheight(n)\\n  f.set_figwidth(2 * n)\\n\\n  for i in range(n):\\n      imgorg = np.transpose(batch[i].cpu().detach().numpy(), (1,2,0))\\n      axarr[i].imshow(imgorg)\\n\\n  plt.show()\\n\\n################################ LOSS FUNCTIONS ##############################\\n\\ndef loss_function(recon_x, x, mean, logvariance, data_widths, data_heights):\\n    recon_x = recon_x.cpu()\\n    x = x.cpu()\\n    mean = mean.cpu()\\n    logvariance = logvariance.cpu()\\n    data_widths = data_widths.cpu()\\n    data_heights = data_heights.cpu()\\n\\n    BCE = F.binary_cross_entropy(recon_x, x, reduction='none').cpu()\\n    mask_matrix = torch.zeros(recon_x.shape)\\n\\n    # Iterate through each element in the batch\\n    for i in range(0, recon_x.shape[0]):\\n      mask_matrix[i,:,0:data_heights[i],0:data_widths[i]] = torch.ones((3, data_heights[i], data_widths[i]))\\n\\n    # Normalize KL Divergence loss by batch size\\n    KLD =  0.5 * (torch.sum(mean.pow(2) + logvariance.exp() - logvariance - 1) / recon_x.shape[0])\\n\\n    if MASK_TYPE == mask:\\n      masked_BCE = BCE * mask_matrix\\n      return (KLD), (torch.sum(masked_BCE / (recon_x.shape[1] * torch.sum(data_widths * data_heights))))\\n    else:\\n      return (KLD), (torch.sum(BCE) / (recon_x.shape[0] * recon_x.shape[1] * recon_x.shape[2] * recon_x.shape[3]))\\n\\ndef discriminator_loss(prediction, gt):\\n  prediction = prediction.cpu()\\n  gt = gt.cpu()\\n  BCE_loss = nn.BCELoss()\\n  return BCE_loss(prediction, gt)\\n\\ndef discriminator_loss_no_reduction(prediction, gt):\\n  prediction = prediction.cpu()\\n  gt = gt.cpu()\\n  BCE_loss = nn.BCELoss(reduction='none')\\n  return BCE_loss(prediction, gt)\\n\\ndef discriminator_kl_divergence(mean, logvariance):\\n  mean = mean.cpu()\\n  logvarianc\"\"\"\"\"\"\u001b[0m\n\u001b[0m                                                                                                                                                                                                                                                                                                                                                                                                                                                                                                                                                                                                                                                                                                                                                                                                                                                                                                                                                                                                                                                                                                                                                                                                                                                                                                                                                                                                                                                                                                                                                                                                                                                                                                                                                                                                                                                                                                                                                                                                                                                                                                                                                                                                                                                                                                                                                                                                                                                                                                                                                                                                                                                                                                                                                                                                                                                                                                                                                                                                                                                                                                                                                                                                                                                                                                                                                                                                                                                                                                                                                                                                                                                                                                                                                                                                                                                                                                                                                                                                                                                                                                                                                                                                                                                                                                                                                                                                                                                                                                                                                                                                                                                                                                                                                                                                                                                                                                                                                                                                                                                                                                                                                                                                                                                                                                                                                                                                                                                                                                                                                                                                                                                                                                                                                                                                                                                                                                                                                                                                                                                                                                                                                                                                                                                                                                                                                                                                                                                                                                                                                                                                                                                                                                                                                                                                                                                                                                                                                                                                                                                                                                                                                                                                                                                                                                                                                                                                                                                                                                                                                                                                                                                                                                                                                                                                                                                                                                                                                                                                                                                                                                                                                                                                                                                                                                                                                                                                                                                                                                                                                                                                                                                                                                                                                                                                                                                                                                                                                                                                                                                                                                                                                                                                                                                                                                                                                                                                                                                                                                                                                                                                                                                                                                                                                                                                                                                                                                                                                                                                                                                                                                                                                                                                                                                                                                                                                                                                                                                                                                                                                                                                                                                                                                                                                                                                                                                                                                                                                                                                                                                                                                                                                                                                                                                                                                                                                                                                                                                                                                                                                                                                                                                                                                                                                                                                                                                                                                                                                                                                                                                                                                                                                                                                                                                                                                                                                                                                                                                                                                                                                                                                                                                                                                                                                                                                                                                                                                                                                                                                                                                                                                                                                                                                                                                                                                                                                                                                                                                                                                                                                                                                                                                                                                                                                                                                                                                                                                                                                                                                                                                                                                                                                                                                                                                                                                                                                                                                                                                                                                                                                                                                                                                                                                                                                                                                                                                                                                                                                                                                                                                                                                                                                                                                                                                                                                                                                                                                                                                                                                                                                                                                                                                                                                                                                                                                                                                                                                                                                                                                                                                                                                                                                                                                                                                                                                                                                                                                                                                                                                                                                                                                                                                                                                                                                                                                                                                                                                                                                                                                                                                                                                                                                                                                                                                                                                                                                                                                                                                                                                                                                                                                                                                                                                                                                                                                                                                                                                                                                                                                                                                                                                                                                                                                                                                                                                                                                                                                                                                                                                                                                                                                                                                                                                                                                                                                                                                                                                                                                                                                                                                                                                                                                                                                                                                                                                                                                                                                                                                                                                                                                                                                                                                                                                                                                                                                                                                                                                                                                                                                                                                                                                                                                                                                                                                                                                                                                                                                                                                                                                                                                                                                                                                                                                                                                                                                                                                                                                                                                                                                                                                                                                                                                                                                                                                                                                                                                                                                                                                                                                                                                                                                                                                                                                                                                                                                                                                                                                                                                                                                                                             \n^\u001b[0m\n\u001b[0;31mSyntaxError\u001b[0m\u001b[0;31m:\u001b[0m EOF while scanning triple-quoted string literal\n"
     ]
    }
   ],
   "source": [
    "s = \"\"\"# -*- coding: utf-8 -*-\\n\\n######################## IMPORTING / GOOGLE DRIVE INTEGRATION ##############################\\nimport torch\\nimport argparse\\nimport copy\\nimport cv2\\nimport json\\nimport numpy as np\\nimport os\\nimport pandas as pd\\nimport pdb\\nimport pickle\\nimport random\\nimport scipy.ndimage\\nimport shutil\\nimport sklearn.preprocessing\\nimport sys\\n#import tensorflow as tf\\nimport time\\nimport torch\\nimport torch.nn as nn\\nimport torch.nn.functional as F\\nimport torch.optim as optim\\nimport torchvision\\nfrom PIL import Image\\nfrom itertools import product\\nfrom matplotlib import pyplot as plt\\nimport numpy as np\\nimport pickle\\nimport json\\nimport pandas as pd\\n#import tensorflow as tf\\nfrom torchvision import datasets, transforms\\nfrom torch.utils.tensorboard import SummaryWriter\\nimport argparse\\nimport sys\\nimport pdb\\nimport sklearn\\nimport yaml\\n\\nfrom shutil import copy2\\nfrom torch.autograd import Variable\\nfrom torch.optim import lr_scheduler\\nfrom torch.utils.data import Dataset, DataLoader\\nfrom torch.utils.tensorboard import SummaryWriter\\nfrom torchvision import datasets, transforms, models\\nfrom yaml import load, dump\\n\\nfrom functools import partial\\nimport signal\\nimport time\\nimport sys\\nimport numpy as np\\n\\n################################ SET UP PATHS ##############################################\\n# See README.md for more details\\n\\nmount_filepath = \"\"\"\" # Put the path to the root directory of your project here\\nmodel_name_prefix = f\"\"vae_trip_vgg\"\"\\n\\n################################ SETTING UP PROGRAM ARGUMENTS ##############################\\n\\nIS_RUNNING_NOTEBOOK = False  # ** NOTE: PLEASE DO NOT FORGET TO CHANGE THIS FLAG WHEN YOU DEPLOY **\\n\\nexit_code = None\\n# The safe_exit function works by only registering a flag that is\\n# monitored in the actual training loop\\n#\\n# In addition, this is the central authority on the exit code for this program \\n# and will be used for the actual exit code at the end\\ndef safe_exit(signal_num, ec=0, total_iters=0, exp_name = \"\"\"\"):\\n    print(\"\"Caught a signal\"\", signal_num)\\n    sys.stdout.flush()\\n    global exit_code\\n    exit_code = signal_num\\n\\nstart_time = time.time()\\n\\n# Catch the signal and report to safe_exit\\nsignal.signal(signal.SIGTERM, safe_exit)\\n\\ndevice = torch.device(\"\"cuda\"\")\\n\\nparser = argparse.ArgumentParser()\\nparser.add_argument(\"\"yaml_config\"\", help = \"\"No config file specified. Please specify a yaml file.\"\")\\nargs = parser.parse_args()\\n\\nconfig_file = open(args.yaml_config, 'r')\\nconfig_args = yaml.load(config_file)\\n\\n\\nLATENT_SIZE = config_args['LATENT_SIZE']\\nLATENT_ARTIST_SIZE = config_args['LATENT_ARTIST_SIZE']\\n\\nPERCEP_RATIO = config_args['PERCEP_RATIO']\\nKLD_RATIO = config_args['KLD_RATIO']\\nTRIP_RATIO = config_args['TRIP_RATIO']\\nRECON_RATIO = config_args['RECON_RATIO']\\n\\nOUTLIERS_REMOVED = config_args['OUTLIERS']\\n\\nTRAIN_TEST_RATIO = config_args['TRAIN_TEST_SPLIT']\\n\\nTIMEOUT = 3600\\n\\n\\nMASK_TYPE = \"\"mask\"\"\\n\\n\"\"\"\"\"\"# HYPERPARAMETERS\"\"\"\"\"\"\\n\\n################################ HYPERPARAMETERS ##############################\\n\\n# Base VAE Hyperparameters\\nTRIPLET_ALPHA = 1.0\\n#LATENT_ARTIST_WEIGHT = 1.0 * NON_VAE_WEIGHT\\nRECONSTRUCTION_WEIGHT = RECON_RATIO\\nPERCEP_LOSS_WEIGHT = PERCEP_RATIO\\nVAE_DIVERGENCE_WEIGHT = KLD_RATIO\\nTRIPLET_LOSS_WEIGHT = TRIP_RATIO\\n\\n# Loss Thresholds\\nMAX_VAE_LOSS_THRESHOLD = 200\\nMAX_LATENT_ARTIST_LOSS_THRESHOLD = 10\\n\\n# Random sampling hyperparameters\\nSAME_ARTIST_PROBABILITY_THRESHOLD = 0.7\\n\\n# Train Test Split\\nTRAIN_TEST_SPLIT = TRAIN_TEST_RATIO\\n\\ninterval = 1 # Interval for which to print the loss\\nnum_batches_per_epoch = 478\\nepochs = num_batches_per_epoch * 500\\nepoch = 0 # Start epoch to run from (gets automatically set in the checkpointing process)\\n\\n\\n################################ SETTING UP DIRECTORY STRUCTURE ##############################\\n\\n## TODO: Update this with a better name? Let's stick with 1024 parameters and 512 for the artist latent vector\\n\\n# hyperparameter_name = f\"\"kld_{VAE_DIVERGENCE_WEIGHT}_percep_{PERCEP_LOSS_WEIGHT}_recon_{RECONSTRUCTION_WEIGHT}_trip_{TRIPLET_LOSS_WEIGHT}\"\"\\n#hyperparameter_name = f\"\"nonvaeweight_{NON_VAE_WEIGHT}_artist_{LATENT_ARTIST_SIZE}_latent_{LATENT_SIZE}\"\"\\n\\nhyperparameter_name = f\"\"TRIPLET_{TRIPLET_LOSS_WEIGHT}\"\" \\n\\nmodel_name = f\"\"{model_name_prefix}_{hyperparameter_name}\"\" # Name of the model generated from the program arguments\\n\\nwriter = SummaryWriter(f'./tensorboard/{model_name}') # Tensorboard writer\\n# kld_writer = SummaryWriter(f'./tensorboard/{model_name}/kld_loss') # Tensorboard writer\\n# recon_writer = SummaryWriter(f'./tensorboard/{model_name}/recon_loss') # Tensorboard writer\\n# artist_writer = SummaryWriter(f'./tensorboard/{model_name}/artist_loss') # Tensorboard writer\\ntriplet_writer = SummaryWriter(f'./tensorboard/{model_name}/triplet_loss') # Tensorboard writer\\n# perceptual_writer = SummaryWriter(f'./tensorboard/{model_name}/perceptual_loss') # Tensorboard writer\\n\\nprefix = \"\"padded_\"\" # Prefix for all the files being saved\\ncontinue_training = True # Specifies whether you want to continuing training from the previous epoch. Honestly don't know why you'd set it to false but you can if you want.\\nmodels_folder = f\"\"{mount_filepath}/saved_models/{model_name}/models\"\"\\n\\nmodel_save_root = mount_filepath + '/saved_models'\\nresults_folder = f\"\"{model_save_root}/{model_name}/images\"\"\\nplot_folder = f\"\"{model_save_root}/{model_name}/plots\"\"\\nlog_folder = f\"\"{model_save_root}/{model_name}/logs\"\"\\n\\nload_model_folder = f\"\"{model_save_root}/{model_name}/models\"\"\\n\\nos.makedirs(f\"\"{model_save_root}/{model_name}\"\", exist_ok=True)\\nos.makedirs(results_folder, exist_ok=True)\\nos.makedirs(plot_folder, exist_ok=True)\\n\\nLATENT_PREFIX = \"\"padded_\"\"\\n\\n#DISCRIMINATOR_PREFIX = \"\"discriminator\"\" # DONT CHANGE THIS\\n\\n#LATENT_ARTIST_MODEL_NAME = f\"\"{DISCRIMINATOR_PREFIX}_{model_name_prefix}_{hyperparameter_name}\"\"\\n#os.makedirs(f\"\"{model_save_root}/{LATENT_ARTIST_MODEL_NAME}\"\", exist_ok=True)\\n#os.makedirs(f\"\"{model_save_root}/{LATENT_ARTIST_MODEL_NAME}/images\"\", exist_ok=True)\\n#os.makedirs(f\"\"{model_save_root}/{LATENT_ARTIST_MODEL_NAME}/plots\"\", exist_ok=True)\\n#os.makedirs(f\"\"{model_save_root}/{LATENT_ARTIST_MODEL_NAME}/logs\"\", exist_ok=True)\\n#os.makedirs(f\"\"{model_save_root}/{LATENT_ARTIST_MODEL_NAME}/models\"\", exist_ok=True)\\n\\n# If you're training the base VAE, you must still specify a load path for the latent artist network\\n#LATENT_ARTIST_MODEL_LOAD_PATH = f\"\"{model_save_root}/{LATENT_ARTIST_MODEL_NAME}/models\"\"\\n\\n#model_name = LATENT_ARTIST_MODEL_NAME\\n#prefix = LATENT_PREFIX\\n#load_model_folder = LATENT_ARTIST_MODEL_LOAD_PATH\\n\\n\"\"\"\"\"\"# SETTING UP PATHS / DIRECTORY STRUCTURE\"\"\"\"\"\"\\n\\n################################ SETTING UP PATHS / DIRECTORY STRUCTURE ##############################\\nmetadata_filepath = mount_filepath + 'FINAL_DATASET_SIZES.csv'\\nimage_zip_folder = mount_filepath + 'Images.zip'\\nimage_folder = mount_filepath + \"\"Images\"\"\\n# triplets_path = mount_filepath + \"\"Triplets/4700_labels_copy.json\"\" \\ntriplets_path = mount_filepath + \"\"Triplets/6384_labels.json\"\"\\n\\nwriter = SummaryWriter(f'./tensorboard/{model_name}') # Tensorboard writer\\nprefix = \"\"padded_\"\" # Prefix for all the files being savedc\\nmodels_folder = f\"\"{mount_filepath}/saved_models/{model_name}/models\"\"\\n\\nmodel_save_root = mount_filepath + '/saved_models'\\nresults_folder = f\"\"{model_save_root}/{model_name}/images\"\"\\nlog_folder = f\"\"{model_save_root}/{model_name}/logs\"\"\\n\\nos.makedirs(f\"\"{model_save_root}/{model_name}\"\", exist_ok=True)\\nos.makedirs(results_folder, exist_ok=True)\\nos.makedirs(log_folder, exist_ok=True)\\nos.makedirs(f\"\"{model_save_root}/{model_name}/models\"\", exist_ok=True)\\n\\n\"\"\"\"\"\"# ART DATASET CLASS\"\"\"\"\"\"\\n\\n################################ ART DATASET CLASS ##############################\\n\\nclass ArtDataset(Dataset):\\n    def __init__(self, image_folder, triplet_df, metadata_df, largest_height, largest_width, transform=None):\\n        \"\"\"\"\"\"\\n        Args:\\n            image_folder (string): Directory with all the images.\\n            metadata_df (Pandas Dataframe): Dataframe containing the metadata\\n            transform (Torchvision.Transform) Transform to be applied to the image data\\n        \"\"\"\"\"\"\\n        self.transform = transform\\n        self.metadata = metadata_df.reset_index()\\n        self.triplets = triplet_df\\n        self.image_folder = image_folder\\n        self.largest_height = largest_height\\n        self.largest_width = largest_width\\n\\n    def __len__(self):\\n        return len(self.triplets.index)\\n\\n    def return_transformed_image(self, image_filename):\\n        image = Image.open(os.path.join(self.image_folder, image_filename))\\n        (width, height) = image.size\\n        tensor_image = self.transform(image)\\n        pad_layer = nn.ZeroPad2d((0, self.largest_width - width, 0, self.largest_height - height))\\n        return pad_layer(tensor_image)\\n\\n    def get_random_artist_image(self, artist):\\n        artist_indices = self.metadata[self.metadata['cleaned_artist'] == artist].index\\n        random_artist_idx = random.choice(artist_indices)\\n        return self.metadata.iloc[random_artist_idx]\\n\\n    def __getitem__(self, idx):\\n      row = self.triplets.iloc[idx]\\n\\n      positive_idx = int(row['Positive']) - 1\\n      negative_idx = (1 - positive_idx)\\n\\n      triplet_names = ['1', '2', 'anchor']\\n\\n      # Re-Arranges it so now it's of the form positive, negative, anchor.\\n      triplet_files = [row[triplet_names[positive_idx]], row[triplet_names[negative_idx]], row[triplet_names[2]]]\\n      labels = ['positive', 'negative', 'anchor']\\n\\n      triplet_objects = {}\\n\\n      for filename, label in zip(triplet_files, labels):\\n        triplet_object = {}\\n\\n        triplet_image = {}\\n        triplet_corresponding = {}\\n\\n        image_metadata = self.metadata.loc[self.metadata['filename'] == filename]\\n        image_name = image_metadata['filename'].values[0]\\n\\n        triplet_image['artist'] = image_metadata['cleaned_artist'].values[0]\\n        triplet_image['image'] = self.return_transformed_image(image_name)\\n\\n        triplet_image['normalized_midpoint'] = image_metadata['normalized_midpoint'].values[0]\\n        triplet_image['normalized_start'] = image_metadata['normalized_start'].values[0]\\n        triplet_image['normalized_end'] = image_metadata['normalized_end'].values[0]\\n\\n        triplet_image['width'] = image_metadata['width'].values[0]\\n        triplet_image['height'] = image_metadata['height'].values[0]\\n\\n        #random_artist = self.get_random_artist_image(triplet_image['artist'])\\n\\n        #triplet_corresponding['image'] = self.return_transformed_image(random_artist['filename'])\\n        #triplet_corresponding['filename'] = random_artist['filename']\\n\\n        #triplet_corresponding['normalized_midpoint'] = random_artist['normalized_midpoint']\\n        #triplet_corresponding['normalized_start'] = random_artist['normalized_start']\\n        #triplet_corresponding['normalized_end'] = random_artist['normalized_end']\\n\\n        #triplet_corresponding['width'] = random_artist['width']\\n        #triplet_corresponding['height'] = random_artist['height']\\n\\n        #triplet_corresponding['should_mask'] = (random_artist['filename'] == image_metadata['filename'].values[0])\\n\\n        triplet_object['triplet'] = triplet_image\\n        #triplet_object['corresponding'] = triplet_corresponding\\n\\n        triplet_objects[label] = triplet_object\\n\\n      return triplet_objects\\n\\n\"\"\"\"\"\"# READING IN DATA FROM CSV / PREPROCESSING\"\"\"\"\"\"\\n\\n################################ READING IN DATA FROM CSV / PREPROCESSING ##############################\\n\\nimport json\\nimport pandas as pd\\n#pdb.set_trace()\\n\\nmetadata_filepath = mount_filepath + 'FINAL_DATASET_SIZES.csv'\\nimage_zip_folder = mount_filepath + 'Images.zip'\\n\\nimage_folder = mount_filepath + \"\"Images\"\"\\n\\nmetadata_df = pd.read_csv(metadata_filepath)\\nprint(metadata_df.shape)\\nmetadata_df = metadata_df.fillna(\"\"\"\")\\nartists_column = metadata_df['cleaned_artist'].str.lower()\\nknown_artists = metadata_df[(artists_column != 'unsure') & (artists_column != 'anonymous')]\\n\\nanonymous_artists = metadata_df[(artists_column == 'unsure') ^ (artists_column == 'anonymous')]\\n\\n# To use all the data just set min_thresh = 0 and max_thresh = 1\\nmin_thresh = 0.00\\nmax_thresh = 1.00\\n\\n# Only keep the artists that are known\\n# CURRENTLY COMMENTED SINCE WE DON'T CARE IF THE ARTISTS ARE UNKOWN!\\n# metadata_df = known_artists\\n\\nsorted_widths = sorted(metadata_df['width'].tolist())\\nsorted_heights = sorted(metadata_df['height'].tolist())\\n\\nif OUTLIERS_REMOVED == \"\"outliers\"\":\\n  bottom_range_height = sorted_heights[max(0, int(len(sorted_heights) * min_thresh) - 1)]\\n  top_range_height = sorted_heights[max(0, int(len(sorted_heights) * max_thresh) - 1)] + 1\\n  bottom_range_width = sorted_widths[max(0, int(len(sorted_widths) * min_thresh) - 1)]\\n  top_range_width = sorted_widths[max(0, int(len(sorted_widths) * max_thresh) - 1)]\\nelse:\\n  bottom_range_width = 100\\n  top_range_width = 200\\n  bottom_range_height = 150\\n  top_range_height = 200\\n\\nprint(bottom_range_height)\\nprint(top_range_height)\\nprint(bottom_range_width)\\nprint(top_range_width)\\n\\n#middle_df = metadata_df.loc[(metadata_df['width'] >= bottom_range_width) & (metadata_df['width'] <= top_range_width) & (metadata_df['height'] >= bottom_range_height) & (metadata_df['height'] <= top_range_height)]\\nmiddle_df = metadata_df\\n\\n\\nstring_json = json.load(open(triplets_path, 'r'))\\ntriplets_df = pd.DataFrame(string_json)\\n\\nnon_empty_triplets = triplets_df[triplets_df['Positive'] != '']\\nvalid_filenames = middle_df['filename'].tolist()\\n\\nencoder = sklearn.preprocessing.OneHotEncoder()\\none_hot_encoding = encoder.fit_transform(middle_df['cleaned_artist'].values.reshape(-1,1)).toarray()\\nnum_artists = one_hot_encoding.shape[1]\\n\\n# No longer need the one-hot encoding since we are no longer performing artist classification\\n# middle_df['artist_encoding'] = [np.array(a) for a in one_hot_encoding]\\n\\nmin_date = np.min(middle_df['mid-date'].values)\\nmax_date = np.max(middle_df['mid-date'].values)\\n\\n\\nnormalized_middate = (middle_df['mid-date'].values - min_date) / (max_date - min_date)\\nnormalized_start_date = (middle_df['start-date'].replace('', 0).values - min_date) / (max_date - min_date)\\nnormalized_end_date = (middle_df['end-date'].replace('', 0).values - min_date) / (max_date - min_date)\\n\\nstd_devs = np.zeros(len(normalized_start_date))\\nstd_devs[normalized_start_date >= 0.0] = (normalized_middate[normalized_start_date >= 0.0] - normalized_start_date[normalized_start_date >= 0.0]) / 2.0\\n\\nSAME_DATE_SIGMA = 1.0\\nstd_devs[normalized_start_date < 0.0] = (SAME_DATE_SIGMA / (max_date - min_date))\\n\\nmin_std_dev = np.min(std_devs)\\nmax_std_dev = np.max(std_devs)\\n\\nmiddle_df['normalized_midpoint'] = normalized_middate\\nmiddle_df['normalized_start'] = normalized_start_date\\nmiddle_df['normalized_end'] = normalized_end_date\\n\\nprint(f\"\"Number of Triplets: {len(non_empty_triplets)}\"\")\\n\\ntriplets_within_size = non_empty_triplets[(non_empty_triplets['1'].isin(valid_filenames)) & (non_empty_triplets['2'].isin(valid_filenames)) & (non_empty_triplets['anchor'].isin(valid_filenames))]\\n\\nprint(f\"\"Number of Triplets: {len(triplets_within_size)}\"\")\\n\\n\"\"\"\"\"\"# CREATING TRAIN / TEST SPLIT\"\"\"\"\"\"\\n\\nfrom sklearn.model_selection import train_test_split\\n\\ndata_transform = transforms.Compose([\\n        transforms.ToTensor()\\n    ])\\n\\nsplit = 1 - TRAIN_TEST_RATIO\\ntorch.manual_seed(0)\\nnp.random.seed(0)\\ntrain, test = train_test_split(triplets_within_size, test_size=split)\\n\\n\\n## This is for training the Base VAE\\ntrain_art_dataset = ArtDataset(image_folder, train, middle_df, top_range_height, top_range_width, transform=data_transform)\\ntest_art_dataset = ArtDataset(image_folder, test, middle_df, top_range_height, top_range_width, transform=data_transform)\\n\\nbatch_sz = 12\\nnum_wrkrs = 5\\n\\ntrain_dataset_loader = torch.utils.data.DataLoader(train_art_dataset,\\n                                             batch_size=batch_sz, shuffle=True,\\n                                             num_workers=num_wrkrs)\\n\\ntest_dataset_loader = torch.utils.data.DataLoader(test_art_dataset,\\n                                             batch_size=batch_sz, shuffle=True,\\n                                             num_workers=num_wrkrs)\\n\\nprint(f\"\"train len: {len(train_dataset_loader)}\"\")\\nprint(f\"\"train len: {len(test_dataset_loader)}\"\")\\n\\n\"\"\"\"\"\"# DEFINING NEURAL NETWORK ARCHITECTURE\"\"\"\"\"\"\\n\\nimport pdb\\nclass TRIPLET_VGG(nn.Module):\\n    def __init__(self):\\n        super(TRIPLET_VGG, self).__init__()\\n        self.pretrained_net = models.vgg16(pretrained=True).to(device)\\n        self.pretrained_net = self.pretrained_net.eval()\\n        self.fc1 = nn.Linear(4096, 2048)\\n        self.bn1 = nn.BatchNorm1d(2048)\\n        self.fc2 = nn.Linear(2048, 1024)\\n\\n    def forward(self, x):\\n      with torch.no_grad():\\n        activations = None\\n        output = x\\n        for _, model in enumerate(self.pretrained_net.features):\\n          output = model(output)\\n\\n        output = self.pretrained_net.avgpool(output)\\n        output = output.view(output.shape[0],-1)\\n        # for _, model in enumerate(pretrained_net.avgpool):\\n          # output = model(output)\\n        for layer_id, model in enumerate(self.pretrained_net.classifier):\\n          output = model(output)\\n          if layer_id == 3:\\n            break\\n      \\n      output = self.bn1(F.relu(self.fc1(output)))\\n      output = self.fc2(output)\\n\\n      return output\\n\\ntriplet_vgg = TRIPLET_VGG()\\ntriplet_vgg.to(device)\\nbase_optimizer = optim.Adam(triplet_vgg.parameters(), lr=1e-3)\\n\\n\"\"\"\"\"\"# CHECKPOINT LOADING\"\"\"\"\"\"\\n\\n################################ CHECKPOINT LOADING ##############################\\ndef find_latest_checkpoint_in_dir(load_dir, prefix):\\n  pretrained_models = os.listdir(load_dir)\\n  if '.ipynb_checkpoints' in pretrained_models:\\n    pretrained_models.remove('.ipynb_checkpoints')\\n  max_model_name = \"\"\"\"\\n  max_model_no = -1\\n  for pretrained_model in pretrained_models:\\n    prefix_split = pretrained_model.split(f\"\"{prefix}\"\")\\n    if len(prefix_split) != 2:\\n      continue\\n    model_no = int(prefix_split[1].split(\"\".pt\"\")[0])\\n    if model_no > max_model_no:\\n      max_model_no = model_no\\n      max_model_name = pretrained_model\\n  epoch = 0\\n  if max_model_name == \"\"\"\":\\n    print(\"\"Could not find pretrained model.\"\")\\n    return None\\n  else:\\n    print(f\"\"Loaded pretrained model: {max_model_name}\"\")\\n    epoch = max_model_no\\n    return epoch, torch.load(f'{load_dir}/{max_model_name}')\\n\\nprint(load_model_folder)\\n# Checkpoint loading for the latent artist model\\nif(not find_latest_checkpoint_in_dir(load_model_folder, prefix) is None):\\n  base_epoch, base_state_dict = find_latest_checkpoint_in_dir(load_model_folder, prefix)\\n  epoch = base_epoch\\n  triplet_vgg.load_state_dict(base_state_dict)\\n#if(not find_latest_checkpoint_in_dir(LATENT_ARTIST_MODEL_LOAD_PATH, f\"\"{DISCRIMINATOR_PREFIX}_{LATENT_PREFIX}\"\") is None):\\n  #discrimnator_epoch, discriminator_state_dict = find_latest_checkpoint_in_dir(LATENT_ARTIST_MODEL_LOAD_PATH, f\"\"{DISCRIMINATOR_PREFIX}_{LATENT_PREFIX}\"\")\\n  #discriminator.load_state_dict(discriminator_state_dict)\\n# Optimizers for the two networks\\n# base_optimizer = optim.Adam(vae.parameters(), lr=1e-3)\\n#discriminator_optimizer = optim.Adam(discriminator.parameters(), lr=1e-3)\\n\\n\"\"\"\"\"\"# LOSS FUNCTIONS\"\"\"\"\"\"\\n\\n################################ HELPER METHODS ##############################\\n\\ndef display_first_n_of_batch(batch, n):\\n  f, axarr = plt.subplots(1, n)\\n  f.set_figheight(n)\\n  f.set_figwidth(2 * n)\\n\\n  for i in range(n):\\n      imgorg = np.transpose(batch[i].cpu().detach().numpy(), (1,2,0))\\n      axarr[i].imshow(imgorg)\\n\\n  plt.show()\\n\\n################################ LOSS FUNCTIONS ##############################\\n\\ndef loss_function(recon_x, x, mean, logvariance, data_widths, data_heights):\\n    recon_x = recon_x.cpu()\\n    x = x.cpu()\\n    mean = mean.cpu()\\n    logvariance = logvariance.cpu()\\n    data_widths = data_widths.cpu()\\n    data_heights = data_heights.cpu()\\n\\n    BCE = F.binary_cross_entropy(recon_x, x, reduction='none').cpu()\\n    mask_matrix = torch.zeros(recon_x.shape)\\n\\n    # Iterate through each element in the batch\\n    for i in range(0, recon_x.shape[0]):\\n      mask_matrix[i,:,0:data_heights[i],0:data_widths[i]] = torch.ones((3, data_heights[i], data_widths[i]))\\n\\n    # Normalize KL Divergence loss by batch size\\n    KLD =  0.5 * (torch.sum(mean.pow(2) + logvariance.exp() - logvariance - 1) / recon_x.shape[0])\\n\\n    if MASK_TYPE == \"\"mask\"\":\\n      masked_BCE = BCE * mask_matrix\\n      return (KLD), (torch.sum(masked_BCE / (recon_x.shape[1] * torch.sum(data_widths * data_heights))))\\n    else:\\n      return (KLD), (torch.sum(BCE) / (recon_x.shape[0] * recon_x.shape[1] * recon_x.shape[2] * recon_x.shape[3]))\\n\\ndef discriminator_loss(prediction, gt):\\n  prediction = prediction.cpu()\\n  gt = gt.cpu()\\n  BCE_loss = nn.BCELoss()\\n  return BCE_loss(prediction, gt)\\n\\ndef discriminator_loss_no_reduction(prediction, gt):\\n  prediction = prediction.cpu()\\n  gt = gt.cpu()\\n  BCE_loss = nn.BCELoss(reduction='none')\\n  return BCE_loss(prediction, gt)\\n\\ndef discriminator_kl_divergence(mean, logvariance):\\n  mean = mean.cpu()\\n  logvariance = logvariance.cpu()\\n\\n  KLD = 0.5 * torch.sum(mean.pow(2) + logvariance.exp() - logvariance - 1)\\n  return KLD\\n\\ndef artist_prediction_loss(artist_prediction_vector, gt_one_hot_artist, mean, logvariance):\\n  artist_prediction_vector = artist_prediction_vector.cpu()\\n  gt_one_hot_artist = gt_one_hot_artist.cpu()\\n  mean = mean.cpu()\\n  logvariance = logvariance.cpu()\\n\\n  BCE_loss = nn.BCELoss()\\n  KLD = 0.5 * (torch.sum(mean.pow(2) + logvariance.exp() - logvariance - 1) / artist_prediction_vector.shape[0])\\n  return ARTIST_PREDICTION_WEIGHT * BCE_loss(artist_prediction_vector.float(), gt_one_hot_artist.float()) + ARTIST_KLD_WEIGHT * KLD\\n\\ndef kl_divergence_two_gaussians(p_mean, p_logvar, q_mean, q_logvar):\\n  p_mean = p_mean.cpu()\\n  q_mean = q_mean.cpu()\\n  p_var = p_logvar.cpu().exp()\\n  q_var = q_logvar.cpu().exp()\\n\\n  p = torch.distributions.normal.Normal(p_mean, torch.sqrt(p_var))\\n  q = torch.distributions.normal.Normal(q_mean, torch.sqrt(q_var))\\n\\n  return torch.distributions.kl.kl_divergence(p, q)\\n\\n\\ndef kl_divergence_two_gaussians_std(p_mean, p_std, q_mean, q_std):\\n  p_mean = p_mean.cpu()\\n  q_mean = q_mean.cpu()\\n  p_std = p_std.cpu()\\n  q_std = q_std.cpu()\\n\\n  p = torch.distributions.normal.Normal(p_mean, p_std)\\n  q = torch.distributions.normal.Normal(q_mean, q_std)\\n\\n  return torch.distributions.kl.kl_divergence(p, q)\\n\\ndef artist_kl_divergence(latent_mean, latent_logvar, pretrained_mean, pretrained_logvar):\\n  return torch.mean(torch.sum(kl_divergence_two_gaussians(latent_mean, latent_logvar, pretrained_mean, pretrained_logvar), dim = 0))\\n\\ndef triplet_loss(a_mean, p_mean, n_mean):\\n    mse_criterion = nn.MSELoss()\\n    total_trip_loss = 0\\n    num_positives = 0\\n    for i in range(0, a_mean.shape[0]):\\n        distance = mse_criterion(p_mean[i], a_mean[i]) - mse_criterion(n_mean[i], a_mean[i])\\n        trip_loss = torch.clamp(distance + TRIPLET_ALPHA, min=0)\\n        if trip_loss > torch.tensor(0):\\n            num_positives += 1\\n\\n        total_trip_loss += trip_loss\\n    if num_positives == 0:\\n        return total_trip_loss.cpu()\\n    else:\\n        return (total_trip_loss / num_positives).cpu()\\n\\ndef calculate_perceptual_loss(recon_x, x):\\n  # vgg_model = vgg_model.cuda()\\n  recon_features = loss_network(recon_x)[2].cpu()\\n  orig_features = loss_network(x.to(device))[2].cpu()\\n\\n  # vgg_model = vgg_model.cpu()\\n  mse_criterion = nn.MSELoss()\\n  return mse_criterion(recon_features, orig_features)\\n\\ndef calculate_artist_discriminator_loss(image_batches, triplet_latent_vectors, corresponding_latent_vectors):\\n  # Here we go through all (6 choose 2) combinations of images and get the discriminator loss for each\\n\\n  num_same_artists = 0.0\\n  num_diff_artists = 12 * triplet_latent_vectors[0].shape[0]\\n\\n  same_artist_disc_loss = 0.0\\n  diff_artist_disc_loss = 0.0\\n\\n  # FIRST CASE (3 Comparisons): The images of the same author (we check if they are also the same image, and if so we mask out that loss)\\n  for image_batch, triplet_latent, corr_latent in zip(image_batches, triplet_latent_vectors, corresponding_latent_vectors):\\n    should_mask_vector = image_batch[\"\"corresponding\"\"][\"\"should_mask\"\"] == 0\\n\\n    num_same_artists += torch.sum(should_mask_vector)\\n\\n    latent_concat = torch.cat((triplet_latent, corr_latent), dim = 1)\\n    prediction = discriminator(latent_concat)\\n\\n    disc_label = torch.ones(prediction.shape)\\n\\n    same_artist_disc_loss += torch.sum(should_mask_vector * discriminator_loss_no_reduction(prediction.squeeze(), disc_label.float().squeeze()))\\n\\n  # SECOND CASE (6 Comparisons): Compare each image from the triplet to each image in the corresponding that are not the same image\\n  for triplet_idx, triplet_latent in enumerate(triplet_latent_vectors):\\n    for corr_idx, corr_latent in enumerate(corresponding_latent_vectors):\\n      if (corr_idx == triplet_idx):\\n        continue\\n\\n    latent_concat = torch.cat((triplet_latent, corr_latent), dim = 1)\\n    prediction = discriminator(latent_concat)\\n\\n    disc_label = torch.zeros(prediction.shape)\\n    diff_artist_disc_loss += torch.sum(discriminator_loss_no_reduction(prediction.squeeze(), disc_label.float().squeeze()))\\n\\n  # THIRD CASE (6 Comparisons): Compare each image from the same triplet\\n  latent_vectors_list = [triplet_latent_vectors, corresponding_latent_vectors]\\n  for latent_vectors_triplet in latent_vectors_list:\\n    for trip1_idx, trip1_latent in enumerate(latent_vectors_triplet):\\n      for trip2_idx, trip2_latent in enumerate(latent_vectors_triplet):\\n        if(trip1_idx == trip2_idx):\\n          continue\\n        latent_concat = torch.cat((trip1_latent, trip2_latent), dim = 1)\\n        prediction = discriminator(latent_concat)\\n\\n        disc_label = torch.zeros(prediction.shape)\\n        diff_artist_disc_loss += torch.sum(discriminator_loss_no_reduction(prediction.squeeze(), disc_label.float().squeeze()))\\n\\n\\n\\n  total_artist_loss = 0.0\\n  if torch.sum(num_same_artists) == 0:\\n    total_artist_loss = diff_artist_disc_loss / num_diff_artists\\n  else:\\n    total_artist_loss = (same_artist_disc_loss / num_same_artists) + (diff_artist_disc_loss / num_diff_artists)\\n\\n  return total_artist_loss\\n\\n\"\"\"\"\"\"# MODEL TESTING\\n\\n# MODEL TRAINING\\n\"\"\"\"\"\"\\n\\ndef test_vgg_triplet(model):\\n  total_loss = 0\\n  with torch.no_grad():\\n    for batch_idx, data in enumerate(test_dataset_loader):\\n      latents = []\\n      triplet_keys = ['anchor', 'positive', 'negative']\\n\\n      for key in triplet_keys:\\n        triplet_img = data[key]['triplet']['image']\\n        outputs = triplet_vgg(triplet_img.to(device))\\n        latents.append(outputs)\\n\\n      train_loss = 0\\n      base_optimizer.zero_grad()\\n      latent_loss = triplet_loss(latents[0], latents[1],latents[2])\\n      train_loss += latent_loss\\n\\n      total_loss += train_loss\\n  \\n  return total_loss / len(test_dataset_loader)\\n\\ndef train_vgg_triplet(model, start_iters, end_iters, weights_folder, prefix):\\n  num_epochs = 0\\n  for iters in range(start_iters, end_iters, len(train_dataset_loader)):\\n    for batch_idx, data in enumerate(train_dataset_loader):\\n      total_iters = batch_idx + iters\\n      if total_iters >= end_iters:\\n          save_filename = f'{prefix}{total_iters}.pt'\\n          save_path = f'{weights_folder}/{save_filename}'\\n          torch.save(vae.state_dict(), save_path)\\n          return\\n      print(f\"\"Evaluating batch {total_iters} for {model_name}\"\")\\n      end = time.time()\\n      time_elapsed = end - start_time\\n      if not IS_RUNNING_NOTEBOOK:\\n        if time_elapsed >= TIMEOUT:\\n            safe_exit(0)\\n        if exit_code is not None:\\n            print(\"\"caught the exception!\"\")\\n            save_filename = f'{prefix}{total_iters}.pt'\\n            save_path = f'{weights_folder}/{save_filename}'\\n            torch.save(model.state_dict(), save_path)\\n            safe_exit(3)\\n            return\\n\\n      latents = []\\n      triplet_keys = ['anchor', 'positive', 'negative']\\n\\n      for key in triplet_keys:\\n        triplet_img = data[key]['triplet']['image']\\n        outputs = model(triplet_img.to(device))\\n        latents.append(outputs)\\n\\n      train_loss = 0\\n      base_optimizer.zero_grad()\\n      latent_loss = triplet_loss(latents[0], latents[1],latents[2])\\n      train_loss += latent_loss\\n\\n      train_loss.backward()\\n      writer.add_scalar(f'Loss/Train_{model_name}', train_loss, total_iters)\\n\\n      print(f\"\"Loss: {train_loss}\"\")\\n\\n    num_epochs += 1\\n    if num_epochs % 5 == 0:\\n        save_filename = f'{prefix}{total_iters}.pt'\\n        save_path = f'{weights_folder}/{save_filename}'\\n        torch.save(model.state_dict(), save_path)\\n\\n    test_loss = test_vgg_triplet(model)\\n    triplet_writer.add_scalar(f'Loss/Test_{model_name}', test_loss, total_iters)\\n    print(f\"\"TEST LOSS: {test_loss} FOR EPOCH: {total_iters}\"\")\\n\\ntrain_vgg_triplet(triplet_vgg, epoch, epochs, models_folder, prefix)\";triplet_vgg.py;learning-portrait-style/learning-style\n",
    "bash: # -*- coding: utf-8 -*-\\n\\n######################## IMPORTING / GOOGLE DRIVE INTEGRATION ##############################\\nimport torch\\nimport argparse\\nimport copy\\nimport cv2\\nimport json\\nimport numpy as np\\nimport os\\nimport pandas as pd\\nimport pdb\\nimport pickle\\nimport random\\nimport scipy.ndimage\\nimport shutil\\nimport sklearn.preprocessing\\nimport sys\\n#import tensorflow as tf\\nimport time\\nimport torch\\nimport torch.nn as nn\\nimport torch.nn.functional as F\\nimport torch.optim as optim\\nimport torchvision\\nfrom PIL import Image\\nfrom itertools import product\\nfrom matplotlib import pyplot as plt\\nimport numpy as np\\nimport pickle\\nimport json\\nimport pandas as pd\\n#import tensorflow as tf\\nfrom torchvision import datasets, transforms\\nfrom torch.utils.tensorboard import SummaryWriter\\nimport argparse\\nimport sys\\nimport pdb\\nimport sklearn\\nimport yaml\\n\\nfrom shutil import copy2\\nfrom torch.autograd import Variable\\nfrom torch.optim import lr_scheduler\\nfrom torch.utils.data import Dataset, DataLoader\\nfrom torch.utils.tensorboard import SummaryWriter\\nfrom torchvision import datasets, transforms, models\\nfrom yaml import load, dump\\n\\nfrom functools import partial\\nimport signal\\nimport time\\nimport sys\\nimport numpy as np\\n\\n################################ SET UP PATHS ##############################################\\n# See README.md for more details\\n\\nmount_filepath =  # Put the path to the root directory of your project here\\nmodel_name_prefix = fvae_trip_vgg\\n\\n################################ SETTING UP PROGRAM ARGUMENTS ##############################\\n\\nIS_RUNNING_NOTEBOOK = False  # ** NOTE: PLEASE DO NOT FORGET TO CHANGE THIS FLAG WHEN YOU DEPLOY **\\n\\nexit_code = None\\n# The safe_exit function works by only registering a flag that is\\n# monitored in the actual training loop\\n#\\n# In addition, this is the central authority on the exit code for this program \\n# and will be used for the actual exit code at the end\\ndef safe_exit(signal_num, ec=0, total_iters=0, exp_name = ):\\n    print(Caught a signal, signal_num)\\n    sys.stdout.flush()\\n    global exit_code\\n    exit_code = signal_num\\n\\nstart_time = time.time()\\n\\n# Catch the signal and report to safe_exit\\nsignal.signal(signal.SIGTERM, safe_exit)\\n\\ndevice = torch.device(cuda)\\n\\nparser = argparse.ArgumentParser()\\nparser.add_argument(yaml_config, help = No config file specified. Please specify a yaml file.)\\nargs = parser.parse_args()\\n\\nconfig_file = open(args.yaml_config, 'r')\\nconfig_args = yaml.load(config_file)\\n\\n\\nLATENT_SIZE = config_args['LATENT_SIZE']\\nLATENT_ARTIST_SIZE = config_args['LATENT_ARTIST_SIZE']\\n\\nPERCEP_RATIO = config_args['PERCEP_RATIO']\\nKLD_RATIO = config_args['KLD_RATIO']\\nTRIP_RATIO = config_args['TRIP_RATIO']\\nRECON_RATIO = config_args['RECON_RATIO']\\n\\nOUTLIERS_REMOVED = config_args['OUTLIERS']\\n\\nTRAIN_TEST_RATIO = config_args['TRAIN_TEST_SPLIT']\\n\\nTIMEOUT = 3600\\n\\n\\nMASK_TYPE = mask\\n\\n# HYPERPARAMETERS\\n\\n################################ HYPERPARAMETERS ##############################\\n\\n# Base VAE Hyperparameters\\nTRIPLET_ALPHA = 1.0\\n#LATENT_ARTIST_WEIGHT = 1.0 * NON_VAE_WEIGHT\\nRECONSTRUCTION_WEIGHT = RECON_RATIO\\nPERCEP_LOSS_WEIGHT = PERCEP_RATIO\\nVAE_DIVERGENCE_WEIGHT = KLD_RATIO\\nTRIPLET_LOSS_WEIGHT = TRIP_RATIO\\n\\n# Loss Thresholds\\nMAX_VAE_LOSS_THRESHOLD = 200\\nMAX_LATENT_ARTIST_LOSS_THRESHOLD = 10\\n\\n# Random sampling hyperparameters\\nSAME_ARTIST_PROBABILITY_THRESHOLD = 0.7\\n\\n# Train Test Split\\nTRAIN_TEST_SPLIT = TRAIN_TEST_RATIO\\n\\ninterval = 1 # Interval for which to print the loss\\nnum_batches_per_epoch = 478\\nepochs = num_batches_per_epoch * 500\\nepoch = 0 # Start epoch to run from (gets automatically set in the checkpointing process)\\n\\n\\n################################ SETTING UP DIRECTORY STRUCTURE ##############################\\n\\n## TODO: Update this with a better name? Let's stick with 1024 parameters and 512 for the artist latent vector\\n\\n# hyperparameter_name = fkld_{VAE_DIVERGENCE_WEIGHT}_percep_{PERCEP_LOSS_WEIGHT}_recon_{RECONSTRUCTION_WEIGHT}_trip_{TRIPLET_LOSS_WEIGHT}\\n#hyperparameter_name = fnonvaeweight_{NON_VAE_WEIGHT}_artist_{LATENT_ARTIST_SIZE}_latent_{LATENT_SIZE}\\n\\nhyperparameter_name = fTRIPLET_{TRIPLET_LOSS_WEIGHT} \\n\\nmodel_name = f{model_name_prefix}_{hyperparameter_name} # Name of the model generated from the program arguments\\n\\nwriter = SummaryWriter(f'./tensorboard/{model_name}') # Tensorboard writer\\n# kld_writer = SummaryWriter(f'./tensorboard/{model_name}/kld_loss') # Tensorboard writer\\n# recon_writer = SummaryWriter(f'./tensorboard/{model_name}/recon_loss') # Tensorboard writer\\n# artist_writer = SummaryWriter(f'./tensorboard/{model_name}/artist_loss') # Tensorboard writer\\ntriplet_writer = SummaryWriter(f'./tensorboard/{model_name}/triplet_loss') # Tensorboard writer\\n# perceptual_writer = SummaryWriter(f'./tensorboard/{model_name}/perceptual_loss') # Tensorboard writer\\n\\nprefix = padded_ # Prefix for all the files being saved\\ncontinue_training = True # Specifies whether you want to continuing training from the previous epoch. Honestly don't know why you'd set it to false but you can if you want.\\nmodels_folder = f{mount_filepath}/saved_models/{model_name}/models\\n\\nmodel_save_root = mount_filepath + '/saved_models'\\nresults_folder = f{model_save_root}/{model_name}/images\\nplot_folder = f{model_save_root}/{model_name}/plots\\nlog_folder = f{model_save_root}/{model_name}/logs\\n\\nload_model_folder = f{model_save_root}/{model_name}/models\\n\\nos.makedirs(f{model_save_root}/{model_name}, exist_ok=True)\\nos.makedirs(results_folder, exist_ok=True)\\nos.makedirs(plot_folder, exist_ok=True)\\n\\nLATENT_PREFIX = padded_\\n\\n#DISCRIMINATOR_PREFIX = discriminator # DONT CHANGE THIS\\n\\n#LATENT_ARTIST_MODEL_NAME = f{DISCRIMINATOR_PREFIX}_{model_name_prefix}_{hyperparameter_name}\\n#os.makedirs(f{model_save_root}/{LATENT_ARTIST_MODEL_NAME}, exist_ok=True)\\n#os.makedirs(f{model_save_root}/{LATENT_ARTIST_MODEL_NAME}/images, exist_ok=True)\\n#os.makedirs(f{model_save_root}/{LATENT_ARTIST_MODEL_NAME}/plots, exist_ok=True)\\n#os.makedirs(f{model_save_root}/{LATENT_ARTIST_MODEL_NAME}/logs, exist_ok=True)\\n#os.makedirs(f{model_save_root}/{LATENT_ARTIST_MODEL_NAME}/models, exist_ok=True)\\n\\n# If you're training the base VAE, you must still specify a load path for the latent artist network\\n#LATENT_ARTIST_MODEL_LOAD_PATH = f{model_save_root}/{LATENT_ARTIST_MODEL_NAME}/models\\n\\n#model_name = LATENT_ARTIST_MODEL_NAME\\n#prefix = LATENT_PREFIX\\n#load_model_folder = LATENT_ARTIST_MODEL_LOAD_PATH\\n\\n# SETTING UP PATHS / DIRECTORY STRUCTURE\\n\\n################################ SETTING UP PATHS / DIRECTORY STRUCTURE ##############################\\nmetadata_filepath = mount_filepath + 'FINAL_DATASET_SIZES.csv'\\nimage_zip_folder = mount_filepath + 'Images.zip'\\nimage_folder = mount_filepath + Images\\n# triplets_path = mount_filepath + Triplets/4700_labels_copy.json \\ntriplets_path = mount_filepath + Triplets/6384_labels.json\\n\\nwriter = SummaryWriter(f'./tensorboard/{model_name}') # Tensorboard writer\\nprefix = padded_ # Prefix for all the files being savedc\\nmodels_folder = f{mount_filepath}/saved_models/{model_name}/models\\n\\nmodel_save_root = mount_filepath + '/saved_models'\\nresults_folder = f{model_save_root}/{model_name}/images\\nlog_folder = f{model_save_root}/{model_name}/logs\\n\\nos.makedirs(f{model_save_root}/{model_name}, exist_ok=True)\\nos.makedirs(results_folder, exist_ok=True)\\nos.makedirs(log_folder, exist_ok=True)\\nos.makedirs(f{model_save_root}/{model_name}/models, exist_ok=True)\\n\\n# ART DATASET CLASS\\n\\n################################ ART DATASET CLASS ##############################\\n\\nclass ArtDataset(Dataset):\\n    def __init__(self, image_folder, triplet_df, metadata_df, largest_height, largest_width, transform=None):\\n        \\n        Args:\\n            image_folder (string): Directory with all the images.\\n            metadata_df (Pandas Dataframe): Dataframe containing the metadata\\n            transform (Torchvision.Transform) Transform to be applied to the image data\\n        \\n        self.transform = transform\\n        self.metadata = metadata_df.reset_index()\\n        self.triplets = triplet_df\\n        self.image_folder = image_folder\\n        self.largest_height = largest_height\\n        self.largest_width = largest_width\\n\\n    def __len__(self):\\n        return len(self.triplets.index)\\n\\n    def return_transformed_image(self, image_filename):\\n        image = Image.open(os.path.join(self.image_folder, image_filename))\\n        (width, height) = image.size\\n        tensor_image = self.transform(image)\\n        pad_layer = nn.ZeroPad2d((0, self.largest_width - width, 0, self.largest_height - height))\\n        return pad_layer(tensor_image)\\n\\n    def get_random_artist_image(self, artist):\\n        artist_indices = self.metadata[self.metadata['cleaned_artist'] == artist].index\\n        random_artist_idx = random.choice(artist_indices)\\n        return self.metadata.iloc[random_artist_idx]\\n\\n    def __getitem__(self, idx):\\n      row = self.triplets.iloc[idx]\\n\\n      positive_idx = int(row['Positive']) - 1\\n      negative_idx = (1 - positive_idx)\\n\\n      triplet_names = ['1', '2', 'anchor']\\n\\n      # Re-Arranges it so now it's of the form positive, negative, anchor.\\n      triplet_files = [row[triplet_names[positive_idx]], row[triplet_names[negative_idx]], row[triplet_names[2]]]\\n      labels = ['positive', 'negative', 'anchor']\\n\\n      triplet_objects = {}\\n\\n      for filename, label in zip(triplet_files, labels):\\n        triplet_object = {}\\n\\n        triplet_image = {}\\n        triplet_corresponding = {}\\n\\n        image_metadata = self.metadata.loc[self.metadata['filename'] == filename]\\n        image_name = image_metadata['filename'].values[0]\\n\\n        triplet_image['artist'] = image_metadata['cleaned_artist'].values[0]\\n        triplet_image['image'] = self.return_transformed_image(image_name)\\n\\n        triplet_image['normalized_midpoint'] = image_metadata['normalized_midpoint'].values[0]\\n        triplet_image['normalized_start'] = image_metadata['normalized_start'].values[0]\\n        triplet_image['normalized_end'] = image_metadata['normalized_end'].values[0]\\n\\n        triplet_image['width'] = image_metadata['width'].values[0]\\n        triplet_image['height'] = image_metadata['height'].values[0]\\n\\n        #random_artist = self.get_random_artist_image(triplet_image['artist'])\\n\\n        #triplet_corresponding['image'] = self.return_transformed_image(random_artist['filename'])\\n        #triplet_corresponding['filename'] = random_artist['filename']\\n\\n        #triplet_corresponding['normalized_midpoint'] = random_artist['normalized_midpoint']\\n        #triplet_corresponding['normalized_start'] = random_artist['normalized_start']\\n        #triplet_corresponding['normalized_end'] = random_artist['normalized_end']\\n\\n        #triplet_corresponding['width'] = random_artist['width']\\n        #triplet_corresponding['height'] = random_artist['height']\\n\\n        #triplet_corresponding['should_mask'] = (random_artist['filename'] == image_metadata['filename'].values[0])\\n\\n        triplet_object['triplet'] = triplet_image\\n        #triplet_object['corresponding'] = triplet_corresponding\\n\\n        triplet_objects[label] = triplet_object\\n\\n      return triplet_objects\\n\\n# READING IN DATA FROM CSV / PREPROCESSING\\n\\n################################ READING IN DATA FROM CSV / PREPROCESSING ##############################\\n\\nimport json\\nimport pandas as pd\\n#pdb.set_trace()\\n\\nmetadata_filepath = mount_filepath + 'FINAL_DATASET_SIZES.csv'\\nimage_zip_folder = mount_filepath + 'Images.zip'\\n\\nimage_folder = mount_filepath + Images\\n\\nmetadata_df = pd.read_csv(metadata_filepath)\\nprint(metadata_df.shape)\\nmetadata_df = metadata_df.fillna()\\nartists_column = metadata_df['cleaned_artist'].str.lower()\\nknown_artists = metadata_df[(artists_column != 'unsure') & (artists_column != 'anonymous')]\\n\\nanonymous_artists = metadata_df[(artists_column == 'unsure') ^ (artists_column == 'anonymous')]\\n\\n# To use all the data just set min_thresh = 0 and max_thresh = 1\\nmin_thresh = 0.00\\nmax_thresh = 1.00\\n\\n# Only keep the artists that are known\\n# CURRENTLY COMMENTED SINCE WE DON'T CARE IF THE ARTISTS ARE UNKOWN!\\n# metadata_df = known_artists\\n\\nsorted_widths = sorted(metadata_df['width'].tolist())\\nsorted_heights = sorted(metadata_df['height'].tolist())\\n\\nif OUTLIERS_REMOVED == outliers:\\n  bottom_range_height = sorted_heights[max(0, int(len(sorted_heights) * min_thresh) - 1)]\\n  top_range_height = sorted_heights[max(0, int(len(sorted_heights) * max_thresh) - 1)] + 1\\n  bottom_range_width = sorted_widths[max(0, int(len(sorted_widths) * min_thresh) - 1)]\\n  top_range_width = sorted_widths[max(0, int(len(sorted_widths) * max_thresh) - 1)]\\nelse:\\n  bottom_range_width = 100\\n  top_range_width = 200\\n  bottom_range_height = 150\\n  top_range_height = 200\\n\\nprint(bottom_range_height)\\nprint(top_range_height)\\nprint(bottom_range_width)\\nprint(top_range_width)\\n\\n#middle_df = metadata_df.loc[(metadata_df['width'] >= bottom_range_width) & (metadata_df['width'] <= top_range_width) & (metadata_df['height'] >= bottom_range_height) & (metadata_df['height'] <= top_range_height)]\\nmiddle_df = metadata_df\\n\\n\\nstring_json = json.load(open(triplets_path, 'r'))\\ntriplets_df = pd.DataFrame(string_json)\\n\\nnon_empty_triplets = triplets_df[triplets_df['Positive'] != '']\\nvalid_filenames = middle_df['filename'].tolist()\\n\\nencoder = sklearn.preprocessing.OneHotEncoder()\\none_hot_encoding = encoder.fit_transform(middle_df['cleaned_artist'].values.reshape(-1,1)).toarray()\\nnum_artists = one_hot_encoding.shape[1]\\n\\n# No longer need the one-hot encoding since we are no longer performing artist classification\\n# middle_df['artist_encoding'] = [np.array(a) for a in one_hot_encoding]\\n\\nmin_date = np.min(middle_df['mid-date'].values)\\nmax_date = np.max(middle_df['mid-date'].values)\\n\\n\\nnormalized_middate = (middle_df['mid-date'].values - min_date) / (max_date - min_date)\\nnormalized_start_date = (middle_df['start-date'].replace('', 0).values - min_date) / (max_date - min_date)\\nnormalized_end_date = (middle_df['end-date'].replace('', 0).values - min_date) / (max_date - min_date)\\n\\nstd_devs = np.zeros(len(normalized_start_date))\\nstd_devs[normalized_start_date >= 0.0] = (normalized_middate[normalized_start_date >= 0.0] - normalized_start_date[normalized_start_date >= 0.0]) / 2.0\\n\\nSAME_DATE_SIGMA = 1.0\\nstd_devs[normalized_start_date < 0.0] = (SAME_DATE_SIGMA / (max_date - min_date))\\n\\nmin_std_dev = np.min(std_devs)\\nmax_std_dev = np.max(std_devs)\\n\\nmiddle_df['normalized_midpoint'] = normalized_middate\\nmiddle_df['normalized_start'] = normalized_start_date\\nmiddle_df['normalized_end'] = normalized_end_date\\n\\nprint(fNumber of Triplets: {len(non_empty_triplets)})\\n\\ntriplets_within_size = non_empty_triplets[(non_empty_triplets['1'].isin(valid_filenames)) & (non_empty_triplets['2'].isin(valid_filenames)) & (non_empty_triplets['anchor'].isin(valid_filenames))]\\n\\nprint(fNumber of Triplets: {len(triplets_within_size)})\\n\\n# CREATING TRAIN / TEST SPLIT\\n\\nfrom sklearn.model_selection import train_test_split\\n\\ndata_transform = transforms.Compose([\\n        transforms.ToTensor()\\n    ])\\n\\nsplit = 1 - TRAIN_TEST_RATIO\\ntorch.manual_seed(0)\\nnp.random.seed(0)\\ntrain, test = train_test_split(triplets_within_size, test_size=split)\\n\\n\\n## This is for training the Base VAE\\ntrain_art_dataset = ArtDataset(image_folder, train, middle_df, top_range_height, top_range_width, transform=data_transform)\\ntest_art_dataset = ArtDataset(image_folder, test, middle_df, top_range_height, top_range_width, transform=data_transform)\\n\\nbatch_sz = 12\\nnum_wrkrs = 5\\n\\ntrain_dataset_loader = torch.utils.data.DataLoader(train_art_dataset,\\n                                             batch_size=batch_sz, shuffle=True,\\n                                             num_workers=num_wrkrs)\\n\\ntest_dataset_loader = torch.utils.data.DataLoader(test_art_dataset,\\n                                             batch_size=batch_sz, shuffle=True,\\n                                             num_workers=num_wrkrs)\\n\\nprint(ftrain len: {len(train_dataset_loader)})\\nprint(ftrain len: {len(test_dataset_loader)})\\n\\n# DEFINING NEURAL NETWORK ARCHITECTURE\\n\\nimport pdb\\nclass TRIPLET_VGG(nn.Module):\\n    def __init__(self):\\n        super(TRIPLET_VGG, self).__init__()\\n        self.pretrained_net = models.vgg16(pretrained=True).to(device)\\n        self.pretrained_net = self.pretrained_net.eval()\\n        self.fc1 = nn.Linear(4096, 2048)\\n        self.bn1 = nn.BatchNorm1d(2048)\\n        self.fc2 = nn.Linear(2048, 1024)\\n\\n    def forward(self, x):\\n      with torch.no_grad():\\n        activations = None\\n        output = x\\n        for _, model in enumerate(self.pretrained_net.features):\\n          output = model(output)\\n\\n        output = self.pretrained_net.avgpool(output)\\n        output = output.view(output.shape[0],-1)\\n        # for _, model in enumerate(pretrained_net.avgpool):\\n          # output = model(output)\\n        for layer_id, model in enumerate(self.pretrained_net.classifier):\\n          output = model(output)\\n          if layer_id == 3:\\n            break\\n      \\n      output = self.bn1(F.relu(self.fc1(output)))\\n      output = self.fc2(output)\\n\\n      return output\\n\\ntriplet_vgg = TRIPLET_VGG()\\ntriplet_vgg.to(device)\\nbase_optimizer = optim.Adam(triplet_vgg.parameters(), lr=1e-3)\\n\\n# CHECKPOINT LOADING\\n\\n################################ CHECKPOINT LOADING ##############################\\ndef find_latest_checkpoint_in_dir(load_dir, prefix):\\n  pretrained_models = os.listdir(load_dir)\\n  if '.ipynb_checkpoints' in pretrained_models:\\n    pretrained_models.remove('.ipynb_checkpoints')\\n  max_model_name = \\n  max_model_no = -1\\n  for pretrained_model in pretrained_models:\\n    prefix_split = pretrained_model.split(f{prefix})\\n    if len(prefix_split) != 2:\\n      continue\\n    model_no = int(prefix_split[1].split(.pt)[0])\\n    if model_no > max_model_no:\\n      max_model_no = model_no\\n      max_model_name = pretrained_model\\n  epoch = 0\\n  if max_model_name == :\\n    print(Could not find pretrained model.)\\n    return None\\n  else:\\n    print(fLoaded pretrained model: {max_model_name})\\n    epoch = max_model_no\\n    return epoch, torch.load(f'{load_dir}/{max_model_name}')\\n\\nprint(load_model_folder)\\n# Checkpoint loading for the latent artist model\\nif(not find_latest_checkpoint_in_dir(load_model_folder, prefix) is None):\\n  base_epoch, base_state_dict = find_latest_checkpoint_in_dir(load_model_folder, prefix)\\n  epoch = base_epoch\\n  triplet_vgg.load_state_dict(base_state_dict)\\n#if(not find_latest_checkpoint_in_dir(LATENT_ARTIST_MODEL_LOAD_PATH, f{DISCRIMINATOR_PREFIX}_{LATENT_PREFIX}) is None):\\n  #discrimnator_epoch, discriminator_state_dict = find_latest_checkpoint_in_dir(LATENT_ARTIST_MODEL_LOAD_PATH, f{DISCRIMINATOR_PREFIX}_{LATENT_PREFIX})\\n  #discriminator.load_state_dict(discriminator_state_dict)\\n# Optimizers for the two networks\\n# base_optimizer = optim.Adam(vae.parameters(), lr=1e-3)\\n#discriminator_optimizer = optim.Adam(discriminator.parameters(), lr=1e-3)\\n\\n# LOSS FUNCTIONS\\n\\n################################ HELPER METHODS ##############################\\n\\ndef display_first_n_of_batch(batch, n):\\n  f, axarr = plt.subplots(1, n)\\n  f.set_figheight(n)\\n  f.set_figwidth(2 * n)\\n\\n  for i in range(n):\\n      imgorg = np.transpose(batch[i].cpu().detach().numpy(), (1,2,0))\\n      axarr[i].imshow(imgorg)\\n\\n  plt.show()\\n\\n################################ LOSS FUNCTIONS ##############################\\n\\ndef loss_function(recon_x, x, mean, logvariance, data_widths, data_heights):\\n    recon_x = recon_x.cpu()\\n    x = x.cpu()\\n    mean = mean.cpu()\\n    logvariance = logvariance.cpu()\\n    data_widths = data_widths.cpu()\\n    data_heights = data_heights.cpu()\\n\\n    BCE = F.binary_cross_entropy(recon_x, x, reduction='none').cpu()\\n    mask_matrix = torch.zeros(recon_x.shape)\\n\\n    # Iterate through each element in the batch\\n    for i in range(0, recon_x.shape[0]):\\n      mask_matrix[i,:,0:data_heights[i],0:data_widths[i]] = torch.ones((3, data_heights[i], data_widths[i]))\\n\\n    # Normalize KL Divergence loss by batch size\\n    KLD =  0.5 * (torch.sum(mean.pow(2) + logvariance.exp() - logvariance - 1) / recon_x.shape[0])\\n\\n    if MASK_TYPE == mask:\\n      masked_BCE = BCE * mask_matrix\\n      return (KLD), (torch.sum(masked_BCE / (recon_x.shape[1] * torch.sum(data_widths * data_heights))))\\n    else:\\n      return (KLD), (torch.sum(BCE) / (recon_x.shape[0] * recon_x.shape[1] * recon_x.shape[2] * recon_x.shape[3]))\\n\\ndef discriminator_loss(prediction, gt):\\n  prediction = prediction.cpu()\\n  gt = gt.cpu()\\n  BCE_loss = nn.BCELoss()\\n  return BCE_loss(prediction, gt)\\n\\ndef discriminator_loss_no_reduction(prediction, gt):\\n  prediction = prediction.cpu()\\n  gt = gt.cpu()\\n  BCE_loss = nn.BCELoss(reduction='none')\\n  return BCE_loss(prediction, gt)\\n\\ndef discriminator_kl_divergence(mean, logvariance):\\n  mean = mean.cpu()\\n  logvarianc\"\"\"\"\"\""
   ]
  },
  {
   "cell_type": "code",
   "execution_count": null,
   "metadata": {},
   "outputs": [],
   "source": [
    "len(python_files_df)"
   ]
  },
  {
   "cell_type": "code",
   "execution_count": null,
   "metadata": {},
   "outputs": [],
   "source": [
    "repo = \"CaitinZhao/cvpr2019_Pyramid-Feature-Attention-Network-for-Saliency-detection\""
   ]
  },
  {
   "cell_type": "code",
   "execution_count": null,
   "metadata": {},
   "outputs": [],
   "source": [
    "python_files_df[python_files_df['content'].str.contains('~')].sum()"
   ]
  },
  {
   "cell_type": "code",
   "execution_count": null,
   "metadata": {},
   "outputs": [],
   "source": [
    "python_files_df[python_files_df['repo_name'] == repo].iloc[3]['content']"
   ]
  },
  {
   "cell_type": "code",
   "execution_count": null,
   "metadata": {},
   "outputs": [],
   "source": [
    "python_files_df.head()"
   ]
  },
  {
   "cell_type": "code",
   "execution_count": null,
   "metadata": {},
   "outputs": [],
   "source": [
    "repo_files_df = pd.read_csv('data/scraped_python_files.csv')"
   ]
  },
  {
   "cell_type": "code",
   "execution_count": null,
   "metadata": {},
   "outputs": [],
   "source": [
    "repo_files_df['repo_name'].unique()"
   ]
  },
  {
   "cell_type": "code",
   "execution_count": null,
   "metadata": {},
   "outputs": [],
   "source": [
    "repo_files.to_csv('data/scraped_python_files.csv', index=False)"
   ]
  },
  {
   "cell_type": "code",
   "execution_count": null,
   "metadata": {},
   "outputs": [],
   "source": [
    "repo_files_df['repo_name']"
   ]
  },
  {
   "cell_type": "code",
   "execution_count": null,
   "metadata": {},
   "outputs": [],
   "source": [
    "import_corpus_df = pd.read_csv('output/module_corpus.csv')#['repo'].unique().shape"
   ]
  },
  {
   "cell_type": "code",
   "execution_count": null,
   "metadata": {},
   "outputs": [],
   "source": [
    "python_files_df = repo_files_df"
   ]
  },
  {
   "cell_type": "code",
   "execution_count": null,
   "metadata": {},
   "outputs": [],
   "source": [
    "import ast"
   ]
  },
  {
   "cell_type": "code",
   "execution_count": null,
   "metadata": {},
   "outputs": [],
   "source": [
    "repo_names = python_files_df['repo_name']\n",
    "paperswithcode_df, all_papers_df = paperswithcode_tasks.get_paperswithcode_dfs()\n",
    "papers_with_repo_df = paperswithcode_tasks.get_papers_with_repo_df(all_papers_df, paperswithcode_df, repo_names)\n",
    "papers_with_repo_df = paperswithcode_tasks.get_papers_with_biggest_tasks(papers_with_repo_df, 500)"
   ]
  },
  {
   "cell_type": "code",
   "execution_count": null,
   "metadata": {},
   "outputs": [],
   "source": [
    "import_corpus_df['imports'] = import_corpus_df['imports'].apply(ast.literal_eval)\n",
    "per_repo_imports = import_corpus_df.groupby('repo')['imports'].agg(sum).apply(set)"
   ]
  },
  {
   "cell_type": "code",
   "execution_count": null,
   "metadata": {},
   "outputs": [],
   "source": [
    "per_repo_imports.shape"
   ]
  },
  {
   "cell_type": "code",
   "execution_count": null,
   "metadata": {},
   "outputs": [],
   "source": [
    "paperswithcode_with_imports_df = get_paperswithcode_with_imports_df(papers_with_repo_df, per_repo_imports)"
   ]
  },
  {
   "cell_type": "code",
   "execution_count": null,
   "metadata": {},
   "outputs": [],
   "source": [
    "ps = list(pathlib.Path(\"repos/lambdaofgod/examples-counterexamples\").rglob(\"*\"))"
   ]
  },
  {
   "cell_type": "code",
   "execution_count": null,
   "metadata": {},
   "outputs": [],
   "source": [
    "%cd .."
   ]
  },
  {
   "cell_type": "code",
   "execution_count": null,
   "metadata": {},
   "outputs": [],
   "source": []
  },
  {
   "cell_type": "code",
   "execution_count": null,
   "metadata": {},
   "outputs": [],
   "source": []
  },
  {
   "cell_type": "code",
   "execution_count": null,
   "metadata": {},
   "outputs": [],
   "source": []
  }
 ],
 "metadata": {
  "kernelspec": {
   "display_name": "Python 3",
   "language": "python",
   "name": "python3"
  },
  "language_info": {
   "codemirror_mode": {
    "name": "ipython",
    "version": 3
   },
   "file_extension": ".py",
   "mimetype": "text/x-python",
   "name": "python",
   "nbconvert_exporter": "python",
   "pygments_lexer": "ipython3",
   "version": "3.8.10"
  }
 },
 "nbformat": 4,
 "nbformat_minor": 4
}
