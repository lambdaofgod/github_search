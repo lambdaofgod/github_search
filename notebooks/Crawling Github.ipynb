{
 "cells": [
  {
   "cell_type": "code",
   "execution_count": 1,
   "metadata": {},
   "outputs": [],
   "source": [
    "#default_exp github_crawling"
   ]
  },
  {
   "cell_type": "code",
   "execution_count": 2,
   "metadata": {},
   "outputs": [],
   "source": [
    "#export\n",
    "import pandas as pd\n",
    "import requests\n",
    "import json\n",
    "from operator import itemgetter\n",
    "import tqdm"
   ]
  },
  {
   "cell_type": "markdown",
   "metadata": {},
   "source": [
    "# Crawling github\n",
    "\n",
    "Getting Python files from github repos\n",
    "\n",
    "Before running that code put your github auth token in data/token.txt. Doing this will increase rate limit from 60 to 5000 calls per hour.\n",
    "\n",
    "`_get_tree` gets file tree from github repository\n",
    "\n",
    "`_get_python_files` retrieves Python files from a given repository: it returns tuples consisting of\n",
    "\n",
    "owner, repo_name, file path, file content, hash of file content\n",
    "\n",
    "\n",
    "`get_python_files_df` puts information described above into dataframe with appropriate column names "
   ]
  },
  {
   "cell_type": "code",
   "execution_count": 3,
   "metadata": {},
   "outputs": [
    {
     "data": {
      "text/plain": [
       "json.decoder.JSONDecodeError"
      ]
     },
     "execution_count": 3,
     "metadata": {},
     "output_type": "execute_result"
    }
   ],
   "source": [
    "json.JSONDecodeError"
   ]
  },
  {
   "cell_type": "code",
   "execution_count": 4,
   "metadata": {},
   "outputs": [],
   "source": [
    "#export\n",
    "\n",
    "token = open('../data/token.txt', 'r').read().strip()\n",
    "\n",
    "\n",
    "def _get_tree(owner, repo_name):\n",
    "    url_template = 'https://api.github.com/repos/{}/{}/git/trees/master?recursive=1'\n",
    "    headers = {'Authorization': 'token ' + token}\n",
    "    return requests.get(url_template.format(owner, repo_name), headers=headers)\n",
    "\n",
    "\n",
    "def _get_python_files(owner, repo_name):\n",
    "    try:\n",
    "        files = json.loads(_get_tree(owner, repo_name).text)['tree']\n",
    "        for maybe_file in files:\n",
    "            is_python_file = maybe_file['path'][-3:] == '.py'\n",
    "            if maybe_file['type'] == 'blob' and is_python_file:\n",
    "                path = maybe_file['path']\n",
    "                raw_file_url_template = 'https://raw.githubusercontent.com/{}/{}/master/{}'\n",
    "                raw_file_url = raw_file_url_template.format(owner, repo_name, path)\n",
    "                yield owner, repo_name, path, requests.get(raw_file_url).text, maybe_file['sha']\n",
    "    except (KeyError, json.JSONDecodeError) as e:\n",
    "        print('failed for {}/{}'.format(owner, repo_name), e)\n",
    "        return\n",
    "        yield"
   ]
  },
  {
   "cell_type": "code",
   "execution_count": 5,
   "metadata": {},
   "outputs": [],
   "source": [
    "example_owner = 'lambdaofgod'\n",
    "example_repo = 'mlutil'"
   ]
  },
  {
   "cell_type": "markdown",
   "metadata": {},
   "source": [
    "Getting python files should return empty list when ran on nonexisting repository"
   ]
  },
  {
   "cell_type": "code",
   "execution_count": 6,
   "metadata": {},
   "outputs": [
    {
     "name": "stdout",
     "output_type": "stream",
     "text": [
      "failed for lambdaofgod/foo 'tree'\n"
     ]
    }
   ],
   "source": [
    "assert list(_get_python_files('lambdaofgod', 'foo')) == []"
   ]
  },
  {
   "cell_type": "markdown",
   "metadata": {},
   "source": [
    "Getting python files should return correct number of files for an existing repository "
   ]
  },
  {
   "cell_type": "code",
   "execution_count": 7,
   "metadata": {},
   "outputs": [],
   "source": [
    "python_file_tuples = list(_get_python_files('lambdaofgod', 'findkit'))\n",
    "assert len(python_file_tuples) == 26 "
   ]
  },
  {
   "cell_type": "code",
   "execution_count": 8,
   "metadata": {},
   "outputs": [],
   "source": [
    "#export\n",
    "\n",
    "\n",
    "def _make_python_files_df(file_tuples):\n",
    "    if len(file_tuples) > 0:\n",
    "        df = pd.DataFrame.from_records(file_tuples)\n",
    "        df.columns = ['owner', 'repo_name', 'file_path', 'content', 'sha']\n",
    "        return df\n",
    "    else:\n",
    "        return pd.DataFrame({})\n",
    "\n",
    "\n",
    "def get_python_files_df(owner, repo_name):\n",
    "    file_tuples = list(_get_python_files(owner, repo_name))\n",
    "    return _make_python_files_df(file_tuples)"
   ]
  },
  {
   "cell_type": "code",
   "execution_count": 9,
   "metadata": {},
   "outputs": [],
   "source": [
    "df_cols = list(_make_python_files_df(python_file_tuples).columns)\n",
    "assert df_cols == ['owner', 'repo_name', 'file_path', 'content', 'sha']"
   ]
  }
 ],
 "metadata": {
  "kernelspec": {
   "display_name": "ml",
   "language": "python",
   "name": "ml"
  },
  "language_info": {
   "codemirror_mode": {
    "name": "ipython",
    "version": 3
   },
   "file_extension": ".py",
   "mimetype": "text/x-python",
   "name": "python",
   "nbconvert_exporter": "python",
   "pygments_lexer": "ipython3",
   "version": "3.7.7"
  }
 },
 "nbformat": 4,
 "nbformat_minor": 4
}
