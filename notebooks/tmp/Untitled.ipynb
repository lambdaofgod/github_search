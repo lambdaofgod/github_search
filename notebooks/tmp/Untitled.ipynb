{
 "cells": [
  {
   "cell_type": "code",
   "execution_count": null,
   "id": "68094e3f",
   "metadata": {},
   "outputs": [],
   "source": []
  },
  {
   "cell_type": "code",
   "execution_count": 11,
   "id": "36893b48",
   "metadata": {},
   "outputs": [],
   "source": [
    "import torch\n",
    "from sru import SRU, SRUCell\n",
    "\n",
    "# input has length 20, batch size 32 and dimension 128\n",
    "x = torch.FloatTensor(20, 32, 128).cuda()\n",
    "\n",
    "input_size, hidden_size = 128, 128\n",
    "\n",
    "rnn = SRU(\n",
    "    input_size,\n",
    "    hidden_size,\n",
    "    num_layers=2,  # number of stacking rnn layers\n",
    "    dropout=0.0,  # dropout applied between rnn layers\n",
    "    bidirectional=False,  # bidirectional rnn\n",
    "    layer_norm=False,  # apply layer normalization on the output of each layer\n",
    "    highway_bias=-2,  # initial bias of highway gate (<= 0)\n",
    ")\n",
    "rnn.cuda()\n",
    "\n",
    "\n",
    "output_states, c_states = rnn(x)  # forward pass"
   ]
  },
  {
   "cell_type": "code",
   "execution_count": 25,
   "id": "991a76d8",
   "metadata": {},
   "outputs": [],
   "source": [
    "lstm = torch.nn.LSTM(\n",
    "    input_size,\n",
    "    hidden_size,\n",
    "    num_layers=2,  # number of stacking rnn layers\n",
    "    dropout=0.0,  # dropout applied between rnn layers\n",
    "    bidirectional=False,  # bidirectional rnn\n",
    "    batch_first=True,\n",
    ")"
   ]
  },
  {
   "cell_type": "code",
   "execution_count": 18,
   "id": "a0170497",
   "metadata": {},
   "outputs": [],
   "source": [
    "# output_states.shape\n",
    "lstm_output_states, lstm_c_states = rnn(x)  # forward pass"
   ]
  },
  {
   "cell_type": "code",
   "execution_count": 23,
   "id": "ade637c8",
   "metadata": {},
   "outputs": [
    {
     "data": {
      "text/plain": [
       "torch.Size([2, 32, 128])"
      ]
     },
     "execution_count": 23,
     "metadata": {},
     "output_type": "execute_result"
    }
   ],
   "source": [
    "lstm_c_states.shape"
   ]
  },
  {
   "cell_type": "code",
   "execution_count": 24,
   "id": "d25d0db7",
   "metadata": {},
   "outputs": [
    {
     "data": {
      "text/plain": [
       "torch.Size([2, 32, 128])"
      ]
     },
     "execution_count": 24,
     "metadata": {},
     "output_type": "execute_result"
    }
   ],
   "source": [
    "c_states.shape"
   ]
  }
 ],
 "metadata": {
  "kernelspec": {
   "display_name": "Python 3",
   "language": "python",
   "name": "python3"
  },
  "language_info": {
   "codemirror_mode": {
    "name": "ipython",
    "version": 3
   },
   "file_extension": ".py",
   "mimetype": "text/x-python",
   "name": "python",
   "nbconvert_exporter": "python",
   "pygments_lexer": "ipython3",
   "version": "3.8.10"
  }
 },
 "nbformat": 4,
 "nbformat_minor": 5
}
