{
 "cells": [
  {
   "cell_type": "code",
   "execution_count": 169,
   "id": "40a0457b-0074-4f53-9c78-3303f18829dc",
   "metadata": {},
   "outputs": [],
   "source": [
    "import pandas as pd\n",
    "import glob\n",
    "from pathlib import Path\n",
    "import json\n",
    "import numpy as np"
   ]
  },
  {
   "cell_type": "code",
   "execution_count": 2,
   "id": "a74558ab-3da3-449f-b918-018b49f778d4",
   "metadata": {},
   "outputs": [],
   "source": [
    "generation_metrics_df = pd.read_parquet(\"../results/metrics_pipeline/generation_metrics_df.parquet\")"
   ]
  },
  {
   "cell_type": "code",
   "execution_count": 3,
   "id": "c3cb2fed-d10f-42eb-a8ae-b3a73590b224",
   "metadata": {},
   "outputs": [
    {
     "name": "stdout",
     "output_type": "stream",
     "text": [
      "<class 'pandas.core.frame.DataFrame'>\n",
      "Index: 12903 entries, 0 to 12902\n",
      "Data columns (total 25 columns):\n",
      " #   Column                           Non-Null Count  Dtype  \n",
      "---  ------                           --------------  -----  \n",
      " 0   index                            12903 non-null  int64  \n",
      " 1   repo                             12903 non-null  object \n",
      " 2   tasks_x                          12903 non-null  object \n",
      " 3   true_tasks                       12903 non-null  object \n",
      " 4   generated_text                   12903 non-null  object \n",
      " 5   prompt_info                      12903 non-null  object \n",
      " 6   generation                       12903 non-null  int64  \n",
      " 7   input_text                       12903 non-null  object \n",
      " 8   paper_urls                       12903 non-null  object \n",
      " 9   paper_titles                     12903 non-null  object \n",
      " 10  titles                           12903 non-null  object \n",
      " 11  arxiv_ids                        12903 non-null  object \n",
      " 12  authors                          12903 non-null  object \n",
      " 13  tasks_y                          12903 non-null  object \n",
      " 14  raw_generated_text               12903 non-null  object \n",
      " 15  raw_reference_text               12903 non-null  object \n",
      " 16  reference_text                   12903 non-null  object \n",
      " 17  edit_word                        12903 non-null  float64\n",
      " 18  jaccard_lst                      12903 non-null  int64  \n",
      " 19  bleurt                           12903 non-null  float64\n",
      " 20  rouge1                           12903 non-null  float64\n",
      " 21  rouge2                           12903 non-null  float64\n",
      " 22  rougeL                           12903 non-null  float64\n",
      " 23  rougeLsum                        12903 non-null  float64\n",
      " 24  sentence_transformer_similarity  12903 non-null  float64\n",
      "dtypes: float64(7), int64(3), object(15)\n",
      "memory usage: 2.6+ MB\n"
     ]
    }
   ],
   "source": [
    "generation_metrics_df.info()"
   ]
  },
  {
   "cell_type": "code",
   "execution_count": 4,
   "id": "20206f2a-2608-4dd9-a3cd-461512da19ce",
   "metadata": {},
   "outputs": [
    {
     "data": {
      "text/plain": [
       "(12903, 25)"
      ]
     },
     "execution_count": 4,
     "metadata": {},
     "output_type": "execute_result"
    }
   ],
   "source": [
    "pd.read_json(\"../github_search/pipelines/results/generation_pipeline/generation_metrics_df.json\").shape"
   ]
  },
  {
   "cell_type": "code",
   "execution_count": 5,
   "id": "1c8fa22d-ab71-4383-bc8f-01e0d34d6e62",
   "metadata": {},
   "outputs": [
    {
     "data": {
      "text/plain": [
       "true_tasks\n",
       "['style transfer']                                                              585\n",
       "['semantic segmentation']                                                       555\n",
       "['time series']                                                                 435\n",
       "['word embeddings']                                                             384\n",
       "['data augmentation']                                                           276\n",
       "                                                                               ... \n",
       "['sparse learning', 'time series']                                                3\n",
       "['text generation', 'adversarial text', 'style transfer']                         3\n",
       "['traffic sign recognition']                                                      3\n",
       "['sentiment analysis', 'aspect based sentiment analysis', 'graph attention']      3\n",
       "['instance segmentation', 'data augmentation', 'semantic segmentation']           3\n",
       "Name: count, Length: 708, dtype: int64"
      ]
     },
     "execution_count": 5,
     "metadata": {},
     "output_type": "execute_result"
    }
   ],
   "source": [
    "generation_metrics_df[\"true_tasks\"].explode().value_counts()"
   ]
  },
  {
   "cell_type": "code",
   "execution_count": 6,
   "id": "393412aa-e3ed-44bc-a2e1-1555f326db7e",
   "metadata": {},
   "outputs": [],
   "source": [
    "ir_metrics_df = pd.read_csv(\"../output/code2doc/sample_per_task_5_repos/beir_results_codellama.csv\")"
   ]
  },
  {
   "cell_type": "code",
   "execution_count": 7,
   "id": "9a3d7a70-c7c5-447a-97ea-0c14c2911231",
   "metadata": {},
   "outputs": [],
   "source": [
    "per_query_metrics_df = pd.read_csv(\"../results/per_query_ir_results.csv\")"
   ]
  },
  {
   "cell_type": "code",
   "execution_count": 8,
   "id": "378f8955-7537-4205-9518-831e1969b48e",
   "metadata": {},
   "outputs": [
    {
     "data": {
      "text/plain": [
       "(33240, 12)"
      ]
     },
     "execution_count": 8,
     "metadata": {},
     "output_type": "execute_result"
    }
   ],
   "source": [
    "per_query_metrics_df.shape"
   ]
  },
  {
   "cell_type": "code",
   "execution_count": 9,
   "id": "c0b12b2a-3bca-4495-b759-582303767ecb",
   "metadata": {},
   "outputs": [
    {
     "data": {
      "text/plain": [
       "true_tasks\n",
       "['style transfer']                                                              585\n",
       "['semantic segmentation']                                                       555\n",
       "['time series']                                                                 435\n",
       "['word embeddings']                                                             384\n",
       "['data augmentation']                                                           276\n",
       "                                                                               ... \n",
       "['sparse learning', 'time series']                                                3\n",
       "['text generation', 'adversarial text', 'style transfer']                         3\n",
       "['traffic sign recognition']                                                      3\n",
       "['sentiment analysis', 'aspect based sentiment analysis', 'graph attention']      3\n",
       "['instance segmentation', 'data augmentation', 'semantic segmentation']           3\n",
       "Name: count, Length: 708, dtype: int64"
      ]
     },
     "execution_count": 9,
     "metadata": {},
     "output_type": "execute_result"
    }
   ],
   "source": [
    "generation_metrics_df[\"true_tasks\"].explode().value_counts()"
   ]
  },
  {
   "cell_type": "code",
   "execution_count": 10,
   "id": "aeb9d230-aa05-4c3c-8509-2102771b954a",
   "metadata": {},
   "outputs": [],
   "source": [
    "generation_metrics_df[\"true_tasks\"] = generation_metrics_df[\"true_tasks\"].str.replace(\"'\", '\"').apply(json.loads)"
   ]
  },
  {
   "cell_type": "code",
   "execution_count": 11,
   "id": "d0d2b691-25fb-4499-ac27-0a4c5d4b53cb",
   "metadata": {},
   "outputs": [],
   "source": [
    "generation_metric_names = ['edit_word',\n",
    " 'jaccard_lst',\n",
    " 'bleurt',\n",
    " 'rouge1',\n",
    " 'rouge2',\n",
    " 'rougeL',\n",
    " 'rougeLsum',\n",
    " 'sentence_transformer_similarity']"
   ]
  },
  {
   "cell_type": "code",
   "execution_count": 12,
   "id": "7a60498d-0200-429a-a10b-07c62b02dcf7",
   "metadata": {},
   "outputs": [],
   "source": [
    "per_query_generation_metrics_df = (\n",
    "    generation_metrics_df\n",
    "        .explode(\"true_tasks\")\n",
    "        .rename(columns={\"true_tasks\": \"task\"})\n",
    "        .groupby(\"task\")\n",
    "        [generation_metric_names]\n",
    "        .agg(\"mean\")\n",
    ")"
   ]
  },
  {
   "cell_type": "code",
   "execution_count": 13,
   "id": "1cb7a70d-5710-4edf-8eaf-dc9372ec880f",
   "metadata": {},
   "outputs": [
    {
     "data": {
      "text/html": [
       "<div>\n",
       "<style scoped>\n",
       "    .dataframe tbody tr th:only-of-type {\n",
       "        vertical-align: middle;\n",
       "    }\n",
       "\n",
       "    .dataframe tbody tr th {\n",
       "        vertical-align: top;\n",
       "    }\n",
       "\n",
       "    .dataframe thead th {\n",
       "        text-align: right;\n",
       "    }\n",
       "</style>\n",
       "<table border=\"1\" class=\"dataframe\">\n",
       "  <thead>\n",
       "    <tr style=\"text-align: right;\">\n",
       "      <th></th>\n",
       "      <th>Unnamed: 0</th>\n",
       "      <th>Hits@1</th>\n",
       "      <th>Hits@5</th>\n",
       "      <th>Hits@10</th>\n",
       "      <th>Hits@25</th>\n",
       "      <th>Accuracy@1</th>\n",
       "      <th>Accuracy@5</th>\n",
       "      <th>Accuracy@10</th>\n",
       "      <th>Accuracy@25</th>\n",
       "      <th>query</th>\n",
       "      <th>retriever</th>\n",
       "      <th>corpus</th>\n",
       "    </tr>\n",
       "  </thead>\n",
       "  <tbody>\n",
       "    <tr>\n",
       "      <th>0</th>\n",
       "      <td>0</td>\n",
       "      <td>1.0</td>\n",
       "      <td>4.0</td>\n",
       "      <td>7.0</td>\n",
       "      <td>13.0</td>\n",
       "      <td>1.0</td>\n",
       "      <td>1.0</td>\n",
       "      <td>1.0</td>\n",
       "      <td>1.0</td>\n",
       "      <td>general classification</td>\n",
       "      <td>bm25</td>\n",
       "      <td>readme</td>\n",
       "    </tr>\n",
       "    <tr>\n",
       "      <th>1</th>\n",
       "      <td>1</td>\n",
       "      <td>0.0</td>\n",
       "      <td>2.0</td>\n",
       "      <td>6.0</td>\n",
       "      <td>18.0</td>\n",
       "      <td>0.0</td>\n",
       "      <td>1.0</td>\n",
       "      <td>1.0</td>\n",
       "      <td>1.0</td>\n",
       "      <td>semantic segmentation</td>\n",
       "      <td>bm25</td>\n",
       "      <td>readme</td>\n",
       "    </tr>\n",
       "    <tr>\n",
       "      <th>2</th>\n",
       "      <td>2</td>\n",
       "      <td>0.0</td>\n",
       "      <td>3.0</td>\n",
       "      <td>8.0</td>\n",
       "      <td>20.0</td>\n",
       "      <td>0.0</td>\n",
       "      <td>1.0</td>\n",
       "      <td>1.0</td>\n",
       "      <td>1.0</td>\n",
       "      <td>reinforcement learning</td>\n",
       "      <td>bm25</td>\n",
       "      <td>readme</td>\n",
       "    </tr>\n",
       "    <tr>\n",
       "      <th>3</th>\n",
       "      <td>3</td>\n",
       "      <td>1.0</td>\n",
       "      <td>4.0</td>\n",
       "      <td>8.0</td>\n",
       "      <td>23.0</td>\n",
       "      <td>1.0</td>\n",
       "      <td>1.0</td>\n",
       "      <td>1.0</td>\n",
       "      <td>1.0</td>\n",
       "      <td>translation</td>\n",
       "      <td>bm25</td>\n",
       "      <td>readme</td>\n",
       "    </tr>\n",
       "    <tr>\n",
       "      <th>4</th>\n",
       "      <td>4</td>\n",
       "      <td>1.0</td>\n",
       "      <td>2.0</td>\n",
       "      <td>3.0</td>\n",
       "      <td>4.0</td>\n",
       "      <td>1.0</td>\n",
       "      <td>1.0</td>\n",
       "      <td>1.0</td>\n",
       "      <td>1.0</td>\n",
       "      <td>image classification</td>\n",
       "      <td>bm25</td>\n",
       "      <td>readme</td>\n",
       "    </tr>\n",
       "  </tbody>\n",
       "</table>\n",
       "</div>"
      ],
      "text/plain": [
       "   Unnamed: 0  Hits@1  Hits@5  Hits@10  Hits@25  Accuracy@1  Accuracy@5  \\\n",
       "0           0     1.0     4.0      7.0     13.0         1.0         1.0   \n",
       "1           1     0.0     2.0      6.0     18.0         0.0         1.0   \n",
       "2           2     0.0     3.0      8.0     20.0         0.0         1.0   \n",
       "3           3     1.0     4.0      8.0     23.0         1.0         1.0   \n",
       "4           4     1.0     2.0      3.0      4.0         1.0         1.0   \n",
       "\n",
       "   Accuracy@10  Accuracy@25                   query retriever  corpus  \n",
       "0          1.0          1.0  general classification      bm25  readme  \n",
       "1          1.0          1.0   semantic segmentation      bm25  readme  \n",
       "2          1.0          1.0  reinforcement learning      bm25  readme  \n",
       "3          1.0          1.0             translation      bm25  readme  \n",
       "4          1.0          1.0    image classification      bm25  readme  "
      ]
     },
     "execution_count": 13,
     "metadata": {},
     "output_type": "execute_result"
    }
   ],
   "source": [
    "per_query_metrics_df.head()"
   ]
  },
  {
   "cell_type": "code",
   "execution_count": 14,
   "id": "4b01e297-3b6c-4967-bbca-71f0a32717f5",
   "metadata": {},
   "outputs": [
    {
     "data": {
      "text/plain": [
       "(306, 8)"
      ]
     },
     "execution_count": 14,
     "metadata": {},
     "output_type": "execute_result"
    }
   ],
   "source": [
    "per_query_generation_metrics_df.shape"
   ]
  },
  {
   "cell_type": "code",
   "execution_count": 15,
   "id": "2f45059c-7ed6-4882-9a1f-0ea5261bb828",
   "metadata": {},
   "outputs": [],
   "source": [
    "retriever_name = \"bm25\"\n",
    "corpus_name = \"readme\"\n"
   ]
  },
  {
   "cell_type": "code",
   "execution_count": 16,
   "id": "0985d2bc-4fd9-4383-a524-bba02bd5b7df",
   "metadata": {},
   "outputs": [
    {
     "data": {
      "text/plain": [
       "array(['bm25', 'word2vec', 'sentence-transformers/all-mpnet-base-v2',\n",
       "       'sentence-transformers/all-MiniLM-L12-v2',\n",
       "       'flax-sentence-embeddings/st-codesearch-distilroberta-base'],\n",
       "      dtype=object)"
      ]
     },
     "execution_count": 16,
     "metadata": {},
     "output_type": "execute_result"
    }
   ],
   "source": [
    "per_query_metrics_df[\"retriever\"].unique()"
   ]
  },
  {
   "cell_type": "code",
   "execution_count": 17,
   "id": "fbda8f93-c355-4f5e-b5ba-339ee2d088ac",
   "metadata": {},
   "outputs": [],
   "source": [
    "checked_corpora = [\n",
    "    'generated_readme',\n",
    "       'dependency_signature', 'repository_signature', 'generated_tasks'\n",
    "]\n",
    "\n",
    "checked_retrievers = ['bm25', 'sentence-transformers/all-mpnet-base-v2',\n",
    "       'sentence-transformers/all-MiniLM-L12-v2',\n",
    "       'flax-sentence-embeddings/st-codesearch-distilroberta-base'\n",
    "]\n"
   ]
  },
  {
   "cell_type": "code",
   "execution_count": 18,
   "id": "e28bf4e0-ee96-4d9c-9cfd-63d95c96b938",
   "metadata": {},
   "outputs": [],
   "source": [
    "import seaborn as sns\n",
    "import matplotlib.pyplot as plt"
   ]
  },
  {
   "cell_type": "code",
   "execution_count": 19,
   "id": "81d772b9-6458-4145-a149-896e4235b4e5",
   "metadata": {},
   "outputs": [],
   "source": [
    "shown_generation_metrics = [\"rouge2\", \"rougeL\", \"sentence_transformer_similarity\"]\n",
    "\n",
    "\n",
    "def get_worst_queries(df, q=0.1, metrics=shown_generation_metrics):\n",
    "    is_lowest = (df[metrics] < df[metrics].quantile(q)).sum(axis=1) > 0\n",
    "    return df[is_lowest].index"
   ]
  },
  {
   "cell_type": "code",
   "execution_count": 34,
   "id": "e7b10aba-9ba8-40c4-a15f-88680e74189c",
   "metadata": {},
   "outputs": [],
   "source": [
    "worst_queries = get_worst_queries(per_query_generation_metrics_df, q=0.2)"
   ]
  },
  {
   "cell_type": "code",
   "execution_count": 35,
   "id": "335e5e12-84be-4ea2-b699-2bf38c58d4b2",
   "metadata": {},
   "outputs": [
    {
     "data": {
      "text/plain": [
       "Index(['acoustic unit discovery', 'action localization', 'argument mining',\n",
       "       'automatic machine learning model selection', 'backdoor attack',\n",
       "       'bilingual lexicon induction', 'causal inference',\n",
       "       'click through rate prediction', 'counterfactual inference',\n",
       "       'cross lingual transfer', 'cross modal retrieval',\n",
       "       'cyber attack detection', 'data visualization',\n",
       "       'deformable object manipulation', 'demosaicking',\n",
       "       'distant speech recognition', 'dota 2', 'end to end dialogue modelling',\n",
       "       'entity disambiguation', 'explainable artificial intelligence',\n",
       "       'extract aspect', 'facial inpainting', 'fact verification',\n",
       "       'formation energy', 'future prediction', 'gait recognition',\n",
       "       'generalization bounds', 'gesture generation',\n",
       "       'grammatical error detection', 'graph reconstruction', 'hard attention',\n",
       "       'humor detection', 'imbalanced classification', 'information retrieval',\n",
       "       'intrinsic image decomposition', 'joint entity and relation extraction',\n",
       "       'learning to execute', 'long tail learning with class descriptors',\n",
       "       'malware classification', 'medical code prediction', 'model discovery',\n",
       "       'morphological analysis', 'mri reconstruction',\n",
       "       'multi goal reinforcement learning', 'multilingual nlp',\n",
       "       'noisy speech recognition', 'normalising flows', 'object counting',\n",
       "       'one shot learning', 'open set learning', 'passage retrieval',\n",
       "       'person identification', 'physical simulations',\n",
       "       'point cloud generation', 'pose tracking', 'product recommendation',\n",
       "       'program induction', 'protein folding',\n",
       "       'real time instance segmentation', 'real time strategy games',\n",
       "       'response generation', 'retinal oct disease classification',\n",
       "       'robust speech recognition', 'salt and pepper noise removal',\n",
       "       'sar image despeckling', 'scene generation', 'scene graph generation',\n",
       "       'semantic slam', 'semantic textual similarity', 'sentence compression',\n",
       "       'sentence ordering', 'session based recommendations', 'smac',\n",
       "       'snes games', 'sound event localization and detection',\n",
       "       'stereo lidar fusion', 'stock price prediction', 'symmetry detection',\n",
       "       'table recognition', 'table to text generation',\n",
       "       'traffic sign recognition', 'unsupervised extractive summarization',\n",
       "       'unsupervised facial landmark detection', 'variational monte carlo',\n",
       "       'video classification', 'voice anti spoofing',\n",
       "       'weakly supervised action localization', 'whole slide images'],\n",
       "      dtype='object', name='task')"
      ]
     },
     "execution_count": 35,
     "metadata": {},
     "output_type": "execute_result"
    }
   ],
   "source": [
    "worst_queries"
   ]
  },
  {
   "cell_type": "code",
   "execution_count": 36,
   "id": "4a7c037b-09b1-4a3b-8b34-eaba3e756a5d",
   "metadata": {},
   "outputs": [
    {
     "name": "stdout",
     "output_type": "stream",
     "text": [
      "generated_readme bm25\n"
     ]
    },
    {
     "ename": "KeyError",
     "evalue": "\"['Accuracy@10', 'Hits@10'] not in index\"",
     "output_type": "error",
     "traceback": [
      "\u001b[0;31m---------------------------------------------------------------------------\u001b[0m",
      "\u001b[0;31mKeyError\u001b[0m                                  Traceback (most recent call last)",
      "Cell \u001b[0;32mIn[36], line 4\u001b[0m\n\u001b[1;32m      2\u001b[0m \u001b[38;5;28;01mfor\u001b[39;00m retriever_name \u001b[38;5;129;01min\u001b[39;00m checked_retrievers:\n\u001b[1;32m      3\u001b[0m     \u001b[38;5;28mprint\u001b[39m(corpus_name, retriever_name)\n\u001b[0;32m----> 4\u001b[0m     selected_metrics_df \u001b[38;5;241m=\u001b[39m \u001b[43mper_query_metrics_df\u001b[49m\u001b[43m[\u001b[49m\n\u001b[1;32m      5\u001b[0m \u001b[43m        \u001b[49m\u001b[43m(\u001b[49m\u001b[43mper_query_metrics_df\u001b[49m\u001b[43m[\u001b[49m\u001b[38;5;124;43m\"\u001b[39;49m\u001b[38;5;124;43mretriever\u001b[39;49m\u001b[38;5;124;43m\"\u001b[39;49m\u001b[43m]\u001b[49m\u001b[43m \u001b[49m\u001b[38;5;241;43m==\u001b[39;49m\u001b[43m \u001b[49m\u001b[43mretriever_name\u001b[49m\u001b[43m)\u001b[49m\u001b[43m \u001b[49m\u001b[38;5;241;43m&\u001b[39;49m\n\u001b[1;32m      6\u001b[0m \u001b[43m        \u001b[49m\u001b[43m(\u001b[49m\u001b[43mper_query_metrics_df\u001b[49m\u001b[43m[\u001b[49m\u001b[38;5;124;43m\"\u001b[39;49m\u001b[38;5;124;43mcorpus\u001b[39;49m\u001b[38;5;124;43m\"\u001b[39;49m\u001b[43m]\u001b[49m\u001b[43m \u001b[49m\u001b[38;5;241;43m==\u001b[39;49m\u001b[43m \u001b[49m\u001b[43mcorpus_name\u001b[49m\u001b[43m)\u001b[49m\n\u001b[1;32m      7\u001b[0m \u001b[43m    \u001b[49m\u001b[43m]\u001b[49m\u001b[43m[\u001b[49m\u001b[43m[\u001b[49m\u001b[38;5;124;43m\"\u001b[39;49m\u001b[38;5;124;43mquery\u001b[39;49m\u001b[38;5;124;43m\"\u001b[39;49m\u001b[43m,\u001b[49m\u001b[43m \u001b[49m\u001b[38;5;124;43m\"\u001b[39;49m\u001b[38;5;124;43mAccuracy@10\u001b[39;49m\u001b[38;5;124;43m\"\u001b[39;49m\u001b[43m,\u001b[49m\u001b[43m \u001b[49m\u001b[38;5;124;43m\"\u001b[39;49m\u001b[38;5;124;43mHits@10\u001b[39;49m\u001b[38;5;124;43m\"\u001b[39;49m\u001b[43m]\u001b[49m\u001b[43m]\u001b[49m \n\u001b[1;32m      8\u001b[0m     worst_queries_df \u001b[38;5;241m=\u001b[39m per_query_generation_metrics_df\u001b[38;5;241m.\u001b[39mloc[worst_queries]\n\u001b[1;32m      9\u001b[0m     corr_df \u001b[38;5;241m=\u001b[39m (\n\u001b[1;32m     10\u001b[0m         selected_metrics_df\n\u001b[1;32m     11\u001b[0m             \u001b[38;5;241m.\u001b[39mmerge(worst_queries_df, left_on\u001b[38;5;241m=\u001b[39m\u001b[38;5;124m\"\u001b[39m\u001b[38;5;124mquery\u001b[39m\u001b[38;5;124m\"\u001b[39m, right_on\u001b[38;5;241m=\u001b[39m\u001b[38;5;124m\"\u001b[39m\u001b[38;5;124mtask\u001b[39m\u001b[38;5;124m\"\u001b[39m)\n\u001b[1;32m     12\u001b[0m             \u001b[38;5;241m.\u001b[39mselect_dtypes(\u001b[38;5;124m\"\u001b[39m\u001b[38;5;124mfloat\u001b[39m\u001b[38;5;124m\"\u001b[39m)\n\u001b[1;32m     13\u001b[0m             \u001b[38;5;241m.\u001b[39mcorr()\u001b[38;5;241m.\u001b[39mloc[shown_generation_metrics, [\u001b[38;5;124m\"\u001b[39m\u001b[38;5;124mAccuracy@10\u001b[39m\u001b[38;5;124m\"\u001b[39m, \u001b[38;5;124m\"\u001b[39m\u001b[38;5;124mHits@10\u001b[39m\u001b[38;5;124m\"\u001b[39m]]\n\u001b[1;32m     14\u001b[0m     )\n",
      "File \u001b[0;32m~/.cache/pypoetry/virtualenvs/github-search-hM2r__Rf-py3.10/lib/python3.10/site-packages/pandas/core/frame.py:3899\u001b[0m, in \u001b[0;36mDataFrame.__getitem__\u001b[0;34m(self, key)\u001b[0m\n\u001b[1;32m   3897\u001b[0m     \u001b[38;5;28;01mif\u001b[39;00m is_iterator(key):\n\u001b[1;32m   3898\u001b[0m         key \u001b[38;5;241m=\u001b[39m \u001b[38;5;28mlist\u001b[39m(key)\n\u001b[0;32m-> 3899\u001b[0m     indexer \u001b[38;5;241m=\u001b[39m \u001b[38;5;28;43mself\u001b[39;49m\u001b[38;5;241;43m.\u001b[39;49m\u001b[43mcolumns\u001b[49m\u001b[38;5;241;43m.\u001b[39;49m\u001b[43m_get_indexer_strict\u001b[49m\u001b[43m(\u001b[49m\u001b[43mkey\u001b[49m\u001b[43m,\u001b[49m\u001b[43m \u001b[49m\u001b[38;5;124;43m\"\u001b[39;49m\u001b[38;5;124;43mcolumns\u001b[39;49m\u001b[38;5;124;43m\"\u001b[39;49m\u001b[43m)\u001b[49m[\u001b[38;5;241m1\u001b[39m]\n\u001b[1;32m   3901\u001b[0m \u001b[38;5;66;03m# take() does not accept boolean indexers\u001b[39;00m\n\u001b[1;32m   3902\u001b[0m \u001b[38;5;28;01mif\u001b[39;00m \u001b[38;5;28mgetattr\u001b[39m(indexer, \u001b[38;5;124m\"\u001b[39m\u001b[38;5;124mdtype\u001b[39m\u001b[38;5;124m\"\u001b[39m, \u001b[38;5;28;01mNone\u001b[39;00m) \u001b[38;5;241m==\u001b[39m \u001b[38;5;28mbool\u001b[39m:\n",
      "File \u001b[0;32m~/.cache/pypoetry/virtualenvs/github-search-hM2r__Rf-py3.10/lib/python3.10/site-packages/pandas/core/indexes/base.py:6115\u001b[0m, in \u001b[0;36mIndex._get_indexer_strict\u001b[0;34m(self, key, axis_name)\u001b[0m\n\u001b[1;32m   6112\u001b[0m \u001b[38;5;28;01melse\u001b[39;00m:\n\u001b[1;32m   6113\u001b[0m     keyarr, indexer, new_indexer \u001b[38;5;241m=\u001b[39m \u001b[38;5;28mself\u001b[39m\u001b[38;5;241m.\u001b[39m_reindex_non_unique(keyarr)\n\u001b[0;32m-> 6115\u001b[0m \u001b[38;5;28;43mself\u001b[39;49m\u001b[38;5;241;43m.\u001b[39;49m\u001b[43m_raise_if_missing\u001b[49m\u001b[43m(\u001b[49m\u001b[43mkeyarr\u001b[49m\u001b[43m,\u001b[49m\u001b[43m \u001b[49m\u001b[43mindexer\u001b[49m\u001b[43m,\u001b[49m\u001b[43m \u001b[49m\u001b[43maxis_name\u001b[49m\u001b[43m)\u001b[49m\n\u001b[1;32m   6117\u001b[0m keyarr \u001b[38;5;241m=\u001b[39m \u001b[38;5;28mself\u001b[39m\u001b[38;5;241m.\u001b[39mtake(indexer)\n\u001b[1;32m   6118\u001b[0m \u001b[38;5;28;01mif\u001b[39;00m \u001b[38;5;28misinstance\u001b[39m(key, Index):\n\u001b[1;32m   6119\u001b[0m     \u001b[38;5;66;03m# GH 42790 - Preserve name from an Index\u001b[39;00m\n",
      "File \u001b[0;32m~/.cache/pypoetry/virtualenvs/github-search-hM2r__Rf-py3.10/lib/python3.10/site-packages/pandas/core/indexes/base.py:6179\u001b[0m, in \u001b[0;36mIndex._raise_if_missing\u001b[0;34m(self, key, indexer, axis_name)\u001b[0m\n\u001b[1;32m   6176\u001b[0m     \u001b[38;5;28;01mraise\u001b[39;00m \u001b[38;5;167;01mKeyError\u001b[39;00m(\u001b[38;5;124mf\u001b[39m\u001b[38;5;124m\"\u001b[39m\u001b[38;5;124mNone of [\u001b[39m\u001b[38;5;132;01m{\u001b[39;00mkey\u001b[38;5;132;01m}\u001b[39;00m\u001b[38;5;124m] are in the [\u001b[39m\u001b[38;5;132;01m{\u001b[39;00maxis_name\u001b[38;5;132;01m}\u001b[39;00m\u001b[38;5;124m]\u001b[39m\u001b[38;5;124m\"\u001b[39m)\n\u001b[1;32m   6178\u001b[0m not_found \u001b[38;5;241m=\u001b[39m \u001b[38;5;28mlist\u001b[39m(ensure_index(key)[missing_mask\u001b[38;5;241m.\u001b[39mnonzero()[\u001b[38;5;241m0\u001b[39m]]\u001b[38;5;241m.\u001b[39munique())\n\u001b[0;32m-> 6179\u001b[0m \u001b[38;5;28;01mraise\u001b[39;00m \u001b[38;5;167;01mKeyError\u001b[39;00m(\u001b[38;5;124mf\u001b[39m\u001b[38;5;124m\"\u001b[39m\u001b[38;5;132;01m{\u001b[39;00mnot_found\u001b[38;5;132;01m}\u001b[39;00m\u001b[38;5;124m not in index\u001b[39m\u001b[38;5;124m\"\u001b[39m)\n",
      "\u001b[0;31mKeyError\u001b[0m: \"['Accuracy@10', 'Hits@10'] not in index\""
     ]
    }
   ],
   "source": [
    "for corpus_name in checked_corpora:\n",
    "    for retriever_name in checked_retrievers:\n",
    "        print(corpus_name, retriever_name)\n",
    "        selected_metrics_df = per_query_metrics_df[\n",
    "            (per_query_metrics_df[\"retriever\"] == retriever_name) &\n",
    "            (per_query_metrics_df[\"corpus\"] == corpus_name)\n",
    "        ][[\"query\", \"Accuracy@10\", \"Hits@10\"]] \n",
    "        worst_queries_df = per_query_generation_metrics_df.loc[worst_queries]\n",
    "        corr_df = (\n",
    "            selected_metrics_df\n",
    "                .merge(worst_queries_df, left_on=\"query\", right_on=\"task\")\n",
    "                .select_dtypes(\"float\")\n",
    "                .corr().loc[shown_generation_metrics, [\"Accuracy@10\", \"Hits@10\"]]\n",
    "        )\n",
    "        sns.heatmap(corr_df, annot=True)\n",
    "        plt.show()"
   ]
  },
  {
   "cell_type": "code",
   "execution_count": 46,
   "id": "4fe381d7-88ca-4ad4-8c8a-89d58359c260",
   "metadata": {},
   "outputs": [],
   "source": [
    "per_query_metrics_df.columns = [c.lower() for c in per_query_metrics_df.columns]"
   ]
  },
  {
   "cell_type": "code",
   "execution_count": 144,
   "id": "b66b1a36-7b01-4587-b754-a47aee978522",
   "metadata": {},
   "outputs": [],
   "source": [
    "worst_queries = get_worst_queries(per_query_generation_metrics_df, q=0.2)"
   ]
  },
  {
   "cell_type": "code",
   "execution_count": 145,
   "id": "fd860b98-8ee4-4636-b3fb-f839c0e90a0f",
   "metadata": {},
   "outputs": [],
   "source": [
    "def get_metric_diffs(per_query_metrics_df, worst_queries):\n",
    "    dfs = []\n",
    "    for name, gp_df in per_query_metrics_df.groupby([\"corpus\", \"retriever\"]):\n",
    "        selected_df = gp_df[gp_df[\"query\"].isin(worst_queries)]\n",
    "        selected_metrics_df = selected_df[[\"hits@10\", \"accuracy@10\"]].mean()\n",
    "        all_metrics_df = gp_df[[\"hits@10\", \"accuracy@10\"]].mean()\n",
    "        exp_difference_df = (all_metrics_df - selected_metrics_df)\n",
    "        diffs = pd.concat([all_metrics_df, selected_metrics_df, exp_difference_df, 100 * (exp_difference_df / all_metrics_df)])\n",
    "        diffs.index = [\"hits@10\", \"accuracy@10\", \"worst records hits@10\", \"worst records accuracy@10\", \"hits@10 difference\", \"accuracy@10 difference\", \"% hits@10 difference \", \"% accuracy@10 difference\"]\n",
    "        diffs = pd.concat([pd.Series(dict(zip([\"corpus\", \"retriever\"], name))), diffs])\n",
    "        dfs.append(diffs)\n",
    "    return pd.concat(dfs, axis=1).T"
   ]
  },
  {
   "cell_type": "code",
   "execution_count": 183,
   "id": "12572e55-373f-4c4f-abdb-4c92b1f998d9",
   "metadata": {},
   "outputs": [],
   "source": [
    "def prettify_diffs_df(diff_df):\n",
    "    for col in diff_df.columns:\n",
    "        if \"%\" in col:\n",
    "            diff_df[col] = diff_df[col].apply(lambda x: np.round(x,1)).astype(str) + \"%\"\n",
    "        else:\n",
    "            diff_df[col] = diff_df[col].apply(lambda x: np.round(x,3))\n",
    "    return diff_df"
   ]
  },
  {
   "cell_type": "code",
   "execution_count": 184,
   "id": "9a8b95e3-c1fe-44e2-891f-fb0d9927938f",
   "metadata": {},
   "outputs": [],
   "source": [
    "diffs_df = get_metric_diffs(per_query_metrics_df, worst_queries)"
   ]
  },
  {
   "cell_type": "code",
   "execution_count": 185,
   "id": "3a2f881c-2cab-4f7f-835e-650d45631e11",
   "metadata": {},
   "outputs": [],
   "source": [
    "aggregated_diffs_df = prettify_diffs_df(diffs_df.drop(columns=\"retriever\").groupby(\"corpus\").agg(\"mean\").sort_values(\"% hits@10 difference \", ascending=False))"
   ]
  },
  {
   "cell_type": "code",
   "execution_count": 186,
   "id": "a13a378e-7b78-4251-9a6b-ef788d22f3dd",
   "metadata": {},
   "outputs": [
    {
     "data": {
      "text/html": [
       "<div>\n",
       "<style scoped>\n",
       "    .dataframe tbody tr th:only-of-type {\n",
       "        vertical-align: middle;\n",
       "    }\n",
       "\n",
       "    .dataframe tbody tr th {\n",
       "        vertical-align: top;\n",
       "    }\n",
       "\n",
       "    .dataframe thead th {\n",
       "        text-align: right;\n",
       "    }\n",
       "</style>\n",
       "<table border=\"1\" class=\"dataframe\">\n",
       "  <thead>\n",
       "    <tr style=\"text-align: right;\">\n",
       "      <th></th>\n",
       "      <th>hits@10</th>\n",
       "      <th>accuracy@10</th>\n",
       "      <th>worst records hits@10</th>\n",
       "      <th>worst records accuracy@10</th>\n",
       "      <th>hits@10 difference</th>\n",
       "      <th>accuracy@10 difference</th>\n",
       "      <th>% hits@10 difference</th>\n",
       "      <th>% accuracy@10 difference</th>\n",
       "    </tr>\n",
       "    <tr>\n",
       "      <th>corpus</th>\n",
       "      <th></th>\n",
       "      <th></th>\n",
       "      <th></th>\n",
       "      <th></th>\n",
       "      <th></th>\n",
       "      <th></th>\n",
       "      <th></th>\n",
       "      <th></th>\n",
       "    </tr>\n",
       "  </thead>\n",
       "  <tbody>\n",
       "    <tr>\n",
       "      <th>generated_tasks</th>\n",
       "      <td>1.356</td>\n",
       "      <td>0.599</td>\n",
       "      <td>0.800</td>\n",
       "      <td>0.507</td>\n",
       "      <td>0.556</td>\n",
       "      <td>0.092</td>\n",
       "      <td>41.1%</td>\n",
       "      <td>15.7%</td>\n",
       "    </tr>\n",
       "    <tr>\n",
       "      <th>dependency_signature</th>\n",
       "      <td>1.149</td>\n",
       "      <td>0.508</td>\n",
       "      <td>0.813</td>\n",
       "      <td>0.461</td>\n",
       "      <td>0.335</td>\n",
       "      <td>0.048</td>\n",
       "      <td>38.9%</td>\n",
       "      <td>20.3%</td>\n",
       "    </tr>\n",
       "    <tr>\n",
       "      <th>repository_signature</th>\n",
       "      <td>1.398</td>\n",
       "      <td>0.607</td>\n",
       "      <td>0.885</td>\n",
       "      <td>0.526</td>\n",
       "      <td>0.513</td>\n",
       "      <td>0.081</td>\n",
       "      <td>36.8%</td>\n",
       "      <td>14.2%</td>\n",
       "    </tr>\n",
       "    <tr>\n",
       "      <th>generated_rationale</th>\n",
       "      <td>1.995</td>\n",
       "      <td>0.705</td>\n",
       "      <td>1.313</td>\n",
       "      <td>0.684</td>\n",
       "      <td>0.682</td>\n",
       "      <td>0.021</td>\n",
       "      <td>34.5%</td>\n",
       "      <td>3.7%</td>\n",
       "    </tr>\n",
       "    <tr>\n",
       "      <th>generation_context</th>\n",
       "      <td>1.648</td>\n",
       "      <td>0.649</td>\n",
       "      <td>1.150</td>\n",
       "      <td>0.595</td>\n",
       "      <td>0.497</td>\n",
       "      <td>0.054</td>\n",
       "      <td>33.7%</td>\n",
       "      <td>10.7%</td>\n",
       "    </tr>\n",
       "    <tr>\n",
       "      <th>selected_code</th>\n",
       "      <td>1.219</td>\n",
       "      <td>0.532</td>\n",
       "      <td>0.838</td>\n",
       "      <td>0.499</td>\n",
       "      <td>0.381</td>\n",
       "      <td>0.033</td>\n",
       "      <td>32.7%</td>\n",
       "      <td>10.2%</td>\n",
       "    </tr>\n",
       "    <tr>\n",
       "      <th>generated_readme</th>\n",
       "      <td>2.119</td>\n",
       "      <td>0.730</td>\n",
       "      <td>1.480</td>\n",
       "      <td>0.725</td>\n",
       "      <td>0.639</td>\n",
       "      <td>0.005</td>\n",
       "      <td>31.4%</td>\n",
       "      <td>1.2%</td>\n",
       "    </tr>\n",
       "    <tr>\n",
       "      <th>readme</th>\n",
       "      <td>3.093</td>\n",
       "      <td>0.807</td>\n",
       "      <td>2.467</td>\n",
       "      <td>0.778</td>\n",
       "      <td>0.627</td>\n",
       "      <td>0.029</td>\n",
       "      <td>21.2%</td>\n",
       "      <td>4.5%</td>\n",
       "    </tr>\n",
       "  </tbody>\n",
       "</table>\n",
       "</div>"
      ],
      "text/plain": [
       "                      hits@10  accuracy@10  worst records hits@10  \\\n",
       "corpus                                                              \n",
       "generated_tasks         1.356        0.599                  0.800   \n",
       "dependency_signature    1.149        0.508                  0.813   \n",
       "repository_signature    1.398        0.607                  0.885   \n",
       "generated_rationale     1.995        0.705                  1.313   \n",
       "generation_context      1.648        0.649                  1.150   \n",
       "selected_code           1.219        0.532                  0.838   \n",
       "generated_readme        2.119        0.730                  1.480   \n",
       "readme                  3.093        0.807                  2.467   \n",
       "\n",
       "                      worst records accuracy@10  hits@10 difference  \\\n",
       "corpus                                                                \n",
       "generated_tasks                           0.507               0.556   \n",
       "dependency_signature                      0.461               0.335   \n",
       "repository_signature                      0.526               0.513   \n",
       "generated_rationale                       0.684               0.682   \n",
       "generation_context                        0.595               0.497   \n",
       "selected_code                             0.499               0.381   \n",
       "generated_readme                          0.725               0.639   \n",
       "readme                                    0.778               0.627   \n",
       "\n",
       "                      accuracy@10 difference % hits@10 difference   \\\n",
       "corpus                                                               \n",
       "generated_tasks                        0.092                 41.1%   \n",
       "dependency_signature                   0.048                 38.9%   \n",
       "repository_signature                   0.081                 36.8%   \n",
       "generated_rationale                    0.021                 34.5%   \n",
       "generation_context                     0.054                 33.7%   \n",
       "selected_code                          0.033                 32.7%   \n",
       "generated_readme                       0.005                 31.4%   \n",
       "readme                                 0.029                 21.2%   \n",
       "\n",
       "                     % accuracy@10 difference  \n",
       "corpus                                         \n",
       "generated_tasks                         15.7%  \n",
       "dependency_signature                    20.3%  \n",
       "repository_signature                    14.2%  \n",
       "generated_rationale                      3.7%  \n",
       "generation_context                      10.7%  \n",
       "selected_code                           10.2%  \n",
       "generated_readme                         1.2%  \n",
       "readme                                   4.5%  "
      ]
     },
     "execution_count": 186,
     "metadata": {},
     "output_type": "execute_result"
    }
   ],
   "source": [
    "aggregated_diffs_df"
   ]
  },
  {
   "cell_type": "code",
   "execution_count": null,
   "id": "3011f1b4-5901-4ecd-8d7c-e511d0934c69",
   "metadata": {},
   "outputs": [],
   "source": []
  }
 ],
 "metadata": {
  "kernelspec": {
   "display_name": "github_search",
   "language": "python",
   "name": "github_search"
  },
  "language_info": {
   "codemirror_mode": {
    "name": "ipython",
    "version": 3
   },
   "file_extension": ".py",
   "mimetype": "text/x-python",
   "name": "python",
   "nbconvert_exporter": "python",
   "pygments_lexer": "ipython3",
   "version": "3.10.12"
  }
 },
 "nbformat": 4,
 "nbformat_minor": 5
}
