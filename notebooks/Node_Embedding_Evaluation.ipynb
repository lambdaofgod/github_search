{
 "cells": [
  {
   "cell_type": "code",
   "execution_count": 1,
   "id": "0fbfe731",
   "metadata": {},
   "outputs": [],
   "source": [
    "# default_exp node_embedding_evaluation"
   ]
  },
  {
   "cell_type": "code",
   "execution_count": 1,
   "id": "5c98e71c",
   "metadata": {},
   "outputs": [],
   "source": [
    "# export\n",
    "\n",
    "import csrgraph as cg\n",
    "import pandas as pd\n",
    "import numpy as np\n",
    "from github_search import python_tokens, paperswithcode_tasks\n",
    "\n",
    "import ast\n",
    "import astunparse\n",
    "import csrgraph\n",
    "import nodevectors\n",
    "\n",
    "import os\n",
    "import itertools\n",
    "import igraph\n",
    "from sklearn import metrics\n",
    "import gensim\n",
    "\n",
    "from operator import itemgetter\n",
    "import pickle"
   ]
  },
  {
   "cell_type": "code",
   "execution_count": 2,
   "id": "d0352ba7",
   "metadata": {},
   "outputs": [
    {
     "name": "stdout",
     "output_type": "stream",
     "text": [
      "/home/kuba/Projects/github_search\n"
     ]
    }
   ],
   "source": [
    "%cd .."
   ]
  },
  {
   "cell_type": "code",
   "execution_count": 3,
   "id": "5c086d43",
   "metadata": {},
   "outputs": [],
   "source": [
    "dependency_records_df = pd.read_csv(\"output/dependency_records.csv\").dropna()"
   ]
  },
  {
   "cell_type": "code",
   "execution_count": 4,
   "id": "8c58b4fd",
   "metadata": {},
   "outputs": [],
   "source": [
    "relations = list(\n",
    "    dependency_records_df.iloc[:, [1, 0]].itertuples(index=False, name=None)\n",
    ")"
   ]
  },
  {
   "cell_type": "code",
   "execution_count": 5,
   "id": "5f2564f2",
   "metadata": {},
   "outputs": [],
   "source": [
    "# export\n",
    "\n",
    "\n",
    "def make_igraph(call_records_df):\n",
    "    vertices = list(\n",
    "        set(call_records_df[\"source\"].unique()).union(\n",
    "            call_records_df[\"destination\"].unique()\n",
    "        )\n",
    "    )\n",
    "    edges = [\n",
    "        (source, destination)\n",
    "        for (source, destination) in zip(\n",
    "            call_records_df[\"source\"].values, call_records_df[\"destination\"].values\n",
    "        )\n",
    "    ]\n",
    "    graph = igraph.Graph()\n",
    "    graph.add_vertices(vertices)\n",
    "    graph.add_edges(edges)\n",
    "    return graph"
   ]
  },
  {
   "cell_type": "code",
   "execution_count": 6,
   "id": "44a83eb0",
   "metadata": {},
   "outputs": [],
   "source": [
    "graph = make_igraph(dependency_records_df[[\"source\", \"destination\"]].dropna())"
   ]
  },
  {
   "cell_type": "code",
   "execution_count": 7,
   "id": "1ee853de",
   "metadata": {},
   "outputs": [],
   "source": [
    "pickle.dump(graph, open(\"data/call_igraph.pkl\", \"wb\"))"
   ]
  },
  {
   "cell_type": "code",
   "execution_count": 8,
   "id": "d77ee136",
   "metadata": {},
   "outputs": [
    {
     "data": {
      "text/plain": [
       "2209729"
      ]
     },
     "execution_count": 8,
     "metadata": {},
     "output_type": "execute_result"
    }
   ],
   "source": [
    "graph.vcount()"
   ]
  },
  {
   "cell_type": "code",
   "execution_count": 9,
   "id": "01a88609",
   "metadata": {},
   "outputs": [
    {
     "data": {
      "text/plain": [
       "'Clustering with 2209729 elements and 1 clusters'"
      ]
     },
     "execution_count": 9,
     "metadata": {},
     "output_type": "execute_result"
    }
   ],
   "source": [
    "graph.components().summary()  # ()"
   ]
  },
  {
   "cell_type": "markdown",
   "id": "19faabd8",
   "metadata": {},
   "source": [
    "## nodevectors & csrgraph"
   ]
  },
  {
   "cell_type": "code",
   "execution_count": 10,
   "id": "cee49c37",
   "metadata": {},
   "outputs": [],
   "source": [
    "# export\n",
    "\n",
    "\n",
    "def get_nodes(call_graph, node_names):\n",
    "    selected_nodes = call_graph.names[call_graph.names.isin(node_names)]\n",
    "    return selected_nodes\n",
    "\n",
    "\n",
    "def get_node_embedding_model_and_results(\n",
    "    node_embeddings, call_graph, example_nodes, selected_names=None, topk=10\n",
    "):\n",
    "    if selected_names is None:\n",
    "        selected_nodes = call_graph.names\n",
    "    else:\n",
    "        selected_nodes = get_node_indices(call_graph, selected_names)\n",
    "\n",
    "    results = []\n",
    "    for (i, node_name) in enumerate(example_nodes.values):\n",
    "        distances = metrics.euclidean_distances(\n",
    "            node_embeddings[example_nodes.index[[i]]], node_embeddings\n",
    "        )\n",
    "        results.append((call_graph.names[np.argsort(distances)[0, :topk]].values))\n",
    "    results_df = pd.DataFrame(results)\n",
    "    results_df.index = example_nodes.values\n",
    "    return results_df.T"
   ]
  },
  {
   "cell_type": "code",
   "execution_count": 11,
   "id": "7fe04a47",
   "metadata": {},
   "outputs": [],
   "source": [
    "dependency_records_df[[\"source\", \"destination\"]].to_csv(\n",
    "    \"data/dependency_records_raw.csv\", index=None\n",
    ")"
   ]
  },
  {
   "cell_type": "code",
   "execution_count": 12,
   "id": "56c96f77",
   "metadata": {},
   "outputs": [
    {
     "data": {
      "text/plain": [
       "((9904500, 3), (9904500, 3))"
      ]
     },
     "execution_count": 12,
     "metadata": {},
     "output_type": "execute_result"
    }
   ],
   "source": [
    "dependency_records_df.dropna().shape, dependency_records_df.shape"
   ]
  },
  {
   "cell_type": "code",
   "execution_count": 13,
   "id": "def19e7b",
   "metadata": {},
   "outputs": [
    {
     "name": "stdout",
     "output_type": "stream",
     "text": [
      "CPU times: user 26.1 s, sys: 904 ms, total: 27 s\n",
      "Wall time: 27 s\n"
     ]
    }
   ],
   "source": [
    "%%time\n",
    "call_graph = cg.read_edgelist(\"data/dependency_records_raw.csv\", sep=\",\")\n",
    "pickle.dump(call_graph, open(\"call_csrgraph.pkl\", \"wb\"))"
   ]
  },
  {
   "cell_type": "code",
   "execution_count": 14,
   "id": "3f273fba",
   "metadata": {},
   "outputs": [],
   "source": [
    "example_repo_node_names = [\n",
    "    \"tensorflow/tensorflow\",\n",
    "    \"pytorch/fairseq\",\n",
    "    \"open-mmlab/mmdetection\",\n",
    "    \"huggingface/transformers\",\n",
    "    \"google-research/recsim\",\n",
    "    \"apache/incubator-mxnet\",\n",
    "    \"igul222/improved_wgan_training\",\n",
    "]\n",
    "example_node_names = [\n",
    "    \"train\",\n",
    "    \"fit\",\n",
    "    \"test\",\n",
    "    \"__init__\",\n",
    "    \"DistilBertForMaskedLM\",\n",
    "    \"tensorflow\",\n",
    "    \"hate-speech-detection\",\n",
    "    \"variational-dropout-sparsifies-dnn\",\n",
    "]\n",
    "\n",
    "\n",
    "def get_node_indices(call_graph, node_names):\n",
    "    return call_graph.names.isin(node_names)\n",
    "\n",
    "\n",
    "def get_nodes(call_graph, node_names):\n",
    "    return call_graph.names[call_graph.names.isin(node_names)]\n",
    "\n",
    "\n",
    "example_nodes = get_nodes(call_graph, example_node_names)\n",
    "example_repo_nodes = get_nodes(call_graph, example_repo_node_names)\n",
    "\n",
    "\n",
    "def get_node_embedding_model_and_results(\n",
    "    node_embeddings, call_graph, example_nodes, selected_names=None, topk=10\n",
    "):\n",
    "\n",
    "    print(len(node_embeddings))\n",
    "    results = []\n",
    "    for (i, node_name) in enumerate(example_nodes.values):\n",
    "        distances = metrics.euclidean_distances(\n",
    "            node_embeddings[example_nodes.index[[i]]], node_embeddings\n",
    "        )\n",
    "        ordered_results = call_graph.names[np.argsort(distances)[0, :]].values\n",
    "        if not selected_names is None:\n",
    "            ordered_results = [res for res in ordered_results if res in selected_names]\n",
    "\n",
    "        results.append(ordered_results[:topk])\n",
    "    results_df = pd.DataFrame(results)\n",
    "    results_df.index = example_nodes.values\n",
    "    return results_df.T"
   ]
  },
  {
   "cell_type": "code",
   "execution_count": 15,
   "id": "8e1b462c",
   "metadata": {},
   "outputs": [
    {
     "data": {
      "text/plain": [
       "2052178    transformers\n",
       "dtype: object"
      ]
     },
     "execution_count": 15,
     "metadata": {},
     "output_type": "execute_result"
    }
   ],
   "source": [
    "get_nodes(call_graph, [\"transformers\"])"
   ]
  },
  {
   "cell_type": "code",
   "execution_count": 16,
   "id": "ca38e3d3",
   "metadata": {},
   "outputs": [],
   "source": [
    "call_graph_nodes = call_graph.nodes()"
   ]
  },
  {
   "cell_type": "code",
   "execution_count": 17,
   "id": "a9906570",
   "metadata": {},
   "outputs": [
    {
     "data": {
      "text/plain": [
       "Index(['source', 'destination', 'edge_type'], dtype='object')"
      ]
     },
     "execution_count": 17,
     "metadata": {},
     "output_type": "execute_result"
    }
   ],
   "source": [
    "dependency_records_df.columns"
   ]
  },
  {
   "cell_type": "code",
   "execution_count": 18,
   "id": "db3169d8",
   "metadata": {},
   "outputs": [],
   "source": [
    "call_graph_repo_nodes = dependency_records_df[\n",
    "    dependency_records_df[\"edge_type\"] == \"repo-file\"\n",
    "][\"source\"].drop_duplicates()"
   ]
  },
  {
   "cell_type": "code",
   "execution_count": 19,
   "id": "4ea3940c",
   "metadata": {},
   "outputs": [
    {
     "data": {
      "text/plain": [
       "26999               000Justin000/torchdiffeq\n",
       "27020                  008karan/SincNet_demo\n",
       "27027       0492wzl/tensorflow_slim_densenet\n",
       "27095                          08173021/FCOS\n",
       "27201                     09jvilla/CS234_gym\n",
       "                         ...                \n",
       "672087              zzz2010/starganv2_paddle\n",
       "672098              zzzace2000/autodiagnosis\n",
       "672134    zzzace2000/dropout-feature-ranking\n",
       "672177                       zzzer1019/FL_DP\n",
       "672186           zzzxxxttt/Pytorch_DoReFaNet\n",
       "Name: source, Length: 26999, dtype: object"
      ]
     },
     "execution_count": 19,
     "metadata": {},
     "output_type": "execute_result"
    }
   ],
   "source": [
    "call_graph_repo_nodes"
   ]
  },
  {
   "cell_type": "code",
   "execution_count": 20,
   "id": "d306c698",
   "metadata": {},
   "outputs": [
    {
     "data": {
      "text/html": [
       "<div>\n",
       "<style scoped>\n",
       "    .dataframe tbody tr th:only-of-type {\n",
       "        vertical-align: middle;\n",
       "    }\n",
       "\n",
       "    .dataframe tbody tr th {\n",
       "        vertical-align: top;\n",
       "    }\n",
       "\n",
       "    .dataframe thead th {\n",
       "        text-align: right;\n",
       "    }\n",
       "</style>\n",
       "<table border=\"1\" class=\"dataframe\">\n",
       "  <thead>\n",
       "    <tr style=\"text-align: right;\">\n",
       "      <th></th>\n",
       "      <th>source</th>\n",
       "      <th>destination</th>\n",
       "      <th>edge_type</th>\n",
       "    </tr>\n",
       "  </thead>\n",
       "  <tbody>\n",
       "    <tr>\n",
       "      <th>375216</th>\n",
       "      <td>imatge-upc/hate-speech-detection</td>\n",
       "      <td>imatge-upc/hate-speech-detection:test</td>\n",
       "      <td>repo-file</td>\n",
       "    </tr>\n",
       "    <tr>\n",
       "      <th>375217</th>\n",
       "      <td>imatge-upc/hate-speech-detection</td>\n",
       "      <td>imatge-upc/hate-speech-detection:train</td>\n",
       "      <td>repo-file</td>\n",
       "    </tr>\n",
       "    <tr>\n",
       "      <th>2522322</th>\n",
       "      <td>imatge-upc/hate-speech-detection:train</td>\n",
       "      <td>Timer</td>\n",
       "      <td>file-function</td>\n",
       "    </tr>\n",
       "    <tr>\n",
       "      <th>2522323</th>\n",
       "      <td>imatge-upc/hate-speech-detection:test</td>\n",
       "      <td>get_person_class_index</td>\n",
       "      <td>file-function</td>\n",
       "    </tr>\n",
       "    <tr>\n",
       "      <th>2522324</th>\n",
       "      <td>imatge-upc/hate-speech-detection:test</td>\n",
       "      <td>heatmaps_to_keypoints</td>\n",
       "      <td>file-function</td>\n",
       "    </tr>\n",
       "    <tr>\n",
       "      <th>2522325</th>\n",
       "      <td>imatge-upc/hate-speech-detection:test</td>\n",
       "      <td>keypoints_to_heatmap_labels</td>\n",
       "      <td>file-function</td>\n",
       "    </tr>\n",
       "    <tr>\n",
       "      <th>2522326</th>\n",
       "      <td>imatge-upc/hate-speech-detection:test</td>\n",
       "      <td>get_keypoints</td>\n",
       "      <td>file-function</td>\n",
       "    </tr>\n",
       "    <tr>\n",
       "      <th>2522327</th>\n",
       "      <td>imatge-upc/hate-speech-detection:test</td>\n",
       "      <td>flip_heatmaps</td>\n",
       "      <td>file-function</td>\n",
       "    </tr>\n",
       "    <tr>\n",
       "      <th>2522328</th>\n",
       "      <td>imatge-upc/hate-speech-detection:test</td>\n",
       "      <td>scores_to_probs</td>\n",
       "      <td>file-function</td>\n",
       "    </tr>\n",
       "    <tr>\n",
       "      <th>2522329</th>\n",
       "      <td>imatge-upc/hate-speech-detection:test</td>\n",
       "      <td>compute_oks</td>\n",
       "      <td>file-function</td>\n",
       "    </tr>\n",
       "    <tr>\n",
       "      <th>2522330</th>\n",
       "      <td>imatge-upc/hate-speech-detection:test</td>\n",
       "      <td>flip_keypoints</td>\n",
       "      <td>file-function</td>\n",
       "    </tr>\n",
       "    <tr>\n",
       "      <th>2522331</th>\n",
       "      <td>imatge-upc/hate-speech-detection:test</td>\n",
       "      <td>nms_oks</td>\n",
       "      <td>file-function</td>\n",
       "    </tr>\n",
       "  </tbody>\n",
       "</table>\n",
       "</div>"
      ],
      "text/plain": [
       "                                         source  \\\n",
       "375216         imatge-upc/hate-speech-detection   \n",
       "375217         imatge-upc/hate-speech-detection   \n",
       "2522322  imatge-upc/hate-speech-detection:train   \n",
       "2522323   imatge-upc/hate-speech-detection:test   \n",
       "2522324   imatge-upc/hate-speech-detection:test   \n",
       "2522325   imatge-upc/hate-speech-detection:test   \n",
       "2522326   imatge-upc/hate-speech-detection:test   \n",
       "2522327   imatge-upc/hate-speech-detection:test   \n",
       "2522328   imatge-upc/hate-speech-detection:test   \n",
       "2522329   imatge-upc/hate-speech-detection:test   \n",
       "2522330   imatge-upc/hate-speech-detection:test   \n",
       "2522331   imatge-upc/hate-speech-detection:test   \n",
       "\n",
       "                                    destination      edge_type  \n",
       "375216    imatge-upc/hate-speech-detection:test      repo-file  \n",
       "375217   imatge-upc/hate-speech-detection:train      repo-file  \n",
       "2522322                                   Timer  file-function  \n",
       "2522323                  get_person_class_index  file-function  \n",
       "2522324                   heatmaps_to_keypoints  file-function  \n",
       "2522325             keypoints_to_heatmap_labels  file-function  \n",
       "2522326                           get_keypoints  file-function  \n",
       "2522327                           flip_heatmaps  file-function  \n",
       "2522328                         scores_to_probs  file-function  \n",
       "2522329                             compute_oks  file-function  \n",
       "2522330                          flip_keypoints  file-function  \n",
       "2522331                                 nms_oks  file-function  "
      ]
     },
     "execution_count": 20,
     "metadata": {},
     "output_type": "execute_result"
    }
   ],
   "source": [
    "dependency_records_df[\n",
    "    dependency_records_df[\"source\"].str.contains(\"hate-speech-detection\")\n",
    "]"
   ]
  },
  {
   "cell_type": "markdown",
   "id": "449d901f",
   "metadata": {},
   "source": [
    "%%time\n",
    "ggvec_model = nodevectors.GGVec(n_components=100, max_epoch=1000)\n",
    "ggvec_embeddings = ggvec_model.fit_transform(call_graph)"
   ]
  },
  {
   "cell_type": "code",
   "execution_count": 21,
   "id": "e11045a1",
   "metadata": {},
   "outputs": [
    {
     "data": {
      "text/plain": [
       "(9904500, 3)"
      ]
     },
     "execution_count": 21,
     "metadata": {},
     "output_type": "execute_result"
    }
   ],
   "source": [
    "dependency_records_df.shape"
   ]
  },
  {
   "cell_type": "code",
   "execution_count": 22,
   "id": "d3c54795",
   "metadata": {},
   "outputs": [
    {
     "name": "stdout",
     "output_type": "stream",
     "text": [
      "CPU times: user 1h 12min 2s, sys: 30min 5s, total: 1h 42min 8s\n",
      "Wall time: 20min 5s\n"
     ]
    }
   ],
   "source": [
    "%%time\n",
    "prone_model = nodevectors.ProNE(n_components=200, step=100)\n",
    "prone_embeddings = prone_model.fit_transform(call_graph)"
   ]
  },
  {
   "cell_type": "markdown",
   "id": "5a183d8d",
   "metadata": {
    "scrolled": false
   },
   "source": [
    "get_node_embedding_model_and_results(ggvec_embeddings, call_graph, example_repo_nodes)"
   ]
  },
  {
   "cell_type": "code",
   "execution_count": 23,
   "id": "541efb64",
   "metadata": {},
   "outputs": [
    {
     "name": "stdout",
     "output_type": "stream",
     "text": [
      "2209729\n"
     ]
    },
    {
     "data": {
      "text/html": [
       "<div>\n",
       "<style scoped>\n",
       "    .dataframe tbody tr th:only-of-type {\n",
       "        vertical-align: middle;\n",
       "    }\n",
       "\n",
       "    .dataframe tbody tr th {\n",
       "        vertical-align: top;\n",
       "    }\n",
       "\n",
       "    .dataframe thead th {\n",
       "        text-align: right;\n",
       "    }\n",
       "</style>\n",
       "<table border=\"1\" class=\"dataframe\">\n",
       "  <thead>\n",
       "    <tr style=\"text-align: right;\">\n",
       "      <th></th>\n",
       "      <th>apache/incubator-mxnet</th>\n",
       "      <th>huggingface/transformers</th>\n",
       "      <th>igul222/improved_wgan_training</th>\n",
       "      <th>pytorch/fairseq</th>\n",
       "    </tr>\n",
       "  </thead>\n",
       "  <tbody>\n",
       "    <tr>\n",
       "      <th>0</th>\n",
       "      <td>apache/incubator-mxnet</td>\n",
       "      <td>huggingface/transformers</td>\n",
       "      <td>igul222/improved_wgan_training</td>\n",
       "      <td>pytorch/fairseq</td>\n",
       "    </tr>\n",
       "    <tr>\n",
       "      <th>1</th>\n",
       "      <td>apache/incubator-mxnet:__init__</td>\n",
       "      <td>papar22/returnn-my-branch</td>\n",
       "      <td>lokiysh/stroopwafel</td>\n",
       "      <td>backdfund/analyzer:store_ds_values</td>\n",
       "    </tr>\n",
       "    <tr>\n",
       "      <th>2</th>\n",
       "      <td>apache/incubator-mxnet:dlpack</td>\n",
       "      <td>vvanirudh/CMAX</td>\n",
       "      <td>championway/re3_tracking</td>\n",
       "      <td>babylonhealth/medisim:negative_sampling_from_p...</td>\n",
       "    </tr>\n",
       "    <tr>\n",
       "      <th>3</th>\n",
       "      <td>apache/incubator-mxnet:util</td>\n",
       "      <td>IBM/AMLSim</td>\n",
       "      <td>SenWu/emmental-tutorials</td>\n",
       "      <td>blei-lab/ars-reparameterization:gamma_def_gene...</td>\n",
       "    </tr>\n",
       "    <tr>\n",
       "      <th>4</th>\n",
       "      <td>apayani/ILP:exp_arithmetic_add</td>\n",
       "      <td>pwollstadt/IDTxl</td>\n",
       "      <td>shvdiwnkozbw/Multi-Source-Sound-Localization</td>\n",
       "      <td>pytorch/fairseq:dynamic_convolution</td>\n",
       "    </tr>\n",
       "    <tr>\n",
       "      <th>5</th>\n",
       "      <td>aparecidovieira/Road_extraction</td>\n",
       "      <td>pmulcaire/rosita</td>\n",
       "      <td>sai-prasanna/bert-experiments</td>\n",
       "      <td>backdfund/analyzer:logger</td>\n",
       "    </tr>\n",
       "    <tr>\n",
       "      <th>6</th>\n",
       "      <td>apache/incubator-mxnet:test_docker_login</td>\n",
       "      <td>TrackerLB/SPSTracker</td>\n",
       "      <td>chambliss/Multilingual_NER</td>\n",
       "      <td>pytorch/fairseq:lightconv_layer</td>\n",
       "    </tr>\n",
       "    <tr>\n",
       "      <th>7</th>\n",
       "      <td>apache/incubator-mxnet:space</td>\n",
       "      <td>STEllAR-GROUP/phylanx</td>\n",
       "      <td>vernamlab/FastSpec</td>\n",
       "      <td>pytorch/fairseq:distributed_fairseq_model</td>\n",
       "    </tr>\n",
       "    <tr>\n",
       "      <th>8</th>\n",
       "      <td>apayani/ILP:classify_cora</td>\n",
       "      <td>&lt;ROOT&gt;</td>\n",
       "      <td>amogh7joshi/engagement-detection</td>\n",
       "      <td>babylonhealth/multiverse:experiment_utils</td>\n",
       "    </tr>\n",
       "    <tr>\n",
       "      <th>9</th>\n",
       "      <td>apayani/ILP:exp_list_member</td>\n",
       "      <td>STVIR/Grid-R-CNN</td>\n",
       "      <td>wangzheallen/STL-VQA</td>\n",
       "      <td>ml-jku/align-rudder</td>\n",
       "    </tr>\n",
       "  </tbody>\n",
       "</table>\n",
       "</div>"
      ],
      "text/plain": [
       "                     apache/incubator-mxnet   huggingface/transformers  \\\n",
       "0                    apache/incubator-mxnet   huggingface/transformers   \n",
       "1           apache/incubator-mxnet:__init__  papar22/returnn-my-branch   \n",
       "2             apache/incubator-mxnet:dlpack             vvanirudh/CMAX   \n",
       "3               apache/incubator-mxnet:util                 IBM/AMLSim   \n",
       "4            apayani/ILP:exp_arithmetic_add           pwollstadt/IDTxl   \n",
       "5           aparecidovieira/Road_extraction           pmulcaire/rosita   \n",
       "6  apache/incubator-mxnet:test_docker_login       TrackerLB/SPSTracker   \n",
       "7              apache/incubator-mxnet:space      STEllAR-GROUP/phylanx   \n",
       "8                 apayani/ILP:classify_cora                     <ROOT>   \n",
       "9               apayani/ILP:exp_list_member           STVIR/Grid-R-CNN   \n",
       "\n",
       "                 igul222/improved_wgan_training  \\\n",
       "0                igul222/improved_wgan_training   \n",
       "1                           lokiysh/stroopwafel   \n",
       "2                      championway/re3_tracking   \n",
       "3                      SenWu/emmental-tutorials   \n",
       "4  shvdiwnkozbw/Multi-Source-Sound-Localization   \n",
       "5                 sai-prasanna/bert-experiments   \n",
       "6                    chambliss/Multilingual_NER   \n",
       "7                            vernamlab/FastSpec   \n",
       "8              amogh7joshi/engagement-detection   \n",
       "9                          wangzheallen/STL-VQA   \n",
       "\n",
       "                                     pytorch/fairseq  \n",
       "0                                    pytorch/fairseq  \n",
       "1                 backdfund/analyzer:store_ds_values  \n",
       "2  babylonhealth/medisim:negative_sampling_from_p...  \n",
       "3  blei-lab/ars-reparameterization:gamma_def_gene...  \n",
       "4                pytorch/fairseq:dynamic_convolution  \n",
       "5                          backdfund/analyzer:logger  \n",
       "6                    pytorch/fairseq:lightconv_layer  \n",
       "7          pytorch/fairseq:distributed_fairseq_model  \n",
       "8          babylonhealth/multiverse:experiment_utils  \n",
       "9                                ml-jku/align-rudder  "
      ]
     },
     "execution_count": 23,
     "metadata": {},
     "output_type": "execute_result"
    }
   ],
   "source": [
    "get_node_embedding_model_and_results(prone_embeddings, call_graph, example_repo_nodes)"
   ]
  },
  {
   "cell_type": "code",
   "execution_count": 24,
   "id": "ed505c3f",
   "metadata": {},
   "outputs": [
    {
     "name": "stdout",
     "output_type": "stream",
     "text": [
      "2209729\n"
     ]
    },
    {
     "data": {
      "text/html": [
       "<div>\n",
       "<style scoped>\n",
       "    .dataframe tbody tr th:only-of-type {\n",
       "        vertical-align: middle;\n",
       "    }\n",
       "\n",
       "    .dataframe tbody tr th {\n",
       "        vertical-align: top;\n",
       "    }\n",
       "\n",
       "    .dataframe thead th {\n",
       "        text-align: right;\n",
       "    }\n",
       "</style>\n",
       "<table border=\"1\" class=\"dataframe\">\n",
       "  <thead>\n",
       "    <tr style=\"text-align: right;\">\n",
       "      <th></th>\n",
       "      <th>apache/incubator-mxnet</th>\n",
       "      <th>huggingface/transformers</th>\n",
       "      <th>igul222/improved_wgan_training</th>\n",
       "      <th>pytorch/fairseq</th>\n",
       "    </tr>\n",
       "  </thead>\n",
       "  <tbody>\n",
       "    <tr>\n",
       "      <th>0</th>\n",
       "      <td>apache/incubator-mxnet</td>\n",
       "      <td>huggingface/transformers</td>\n",
       "      <td>igul222/improved_wgan_training</td>\n",
       "      <td>pytorch/fairseq</td>\n",
       "    </tr>\n",
       "    <tr>\n",
       "      <th>1</th>\n",
       "      <td>apache/incubator-mxnet:__init__</td>\n",
       "      <td>papar22/returnn-my-branch</td>\n",
       "      <td>lokiysh/stroopwafel</td>\n",
       "      <td>backdfund/analyzer:store_ds_values</td>\n",
       "    </tr>\n",
       "    <tr>\n",
       "      <th>2</th>\n",
       "      <td>apache/incubator-mxnet:dlpack</td>\n",
       "      <td>vvanirudh/CMAX</td>\n",
       "      <td>championway/re3_tracking</td>\n",
       "      <td>babylonhealth/medisim:negative_sampling_from_p...</td>\n",
       "    </tr>\n",
       "    <tr>\n",
       "      <th>3</th>\n",
       "      <td>apache/incubator-mxnet:util</td>\n",
       "      <td>IBM/AMLSim</td>\n",
       "      <td>SenWu/emmental-tutorials</td>\n",
       "      <td>blei-lab/ars-reparameterization:gamma_def_gene...</td>\n",
       "    </tr>\n",
       "    <tr>\n",
       "      <th>4</th>\n",
       "      <td>apayani/ILP:exp_arithmetic_add</td>\n",
       "      <td>pwollstadt/IDTxl</td>\n",
       "      <td>shvdiwnkozbw/Multi-Source-Sound-Localization</td>\n",
       "      <td>pytorch/fairseq:dynamic_convolution</td>\n",
       "    </tr>\n",
       "    <tr>\n",
       "      <th>5</th>\n",
       "      <td>aparecidovieira/Road_extraction</td>\n",
       "      <td>pmulcaire/rosita</td>\n",
       "      <td>sai-prasanna/bert-experiments</td>\n",
       "      <td>backdfund/analyzer:logger</td>\n",
       "    </tr>\n",
       "    <tr>\n",
       "      <th>6</th>\n",
       "      <td>apache/incubator-mxnet:test_docker_login</td>\n",
       "      <td>TrackerLB/SPSTracker</td>\n",
       "      <td>chambliss/Multilingual_NER</td>\n",
       "      <td>pytorch/fairseq:lightconv_layer</td>\n",
       "    </tr>\n",
       "    <tr>\n",
       "      <th>7</th>\n",
       "      <td>apache/incubator-mxnet:space</td>\n",
       "      <td>STEllAR-GROUP/phylanx</td>\n",
       "      <td>vernamlab/FastSpec</td>\n",
       "      <td>pytorch/fairseq:distributed_fairseq_model</td>\n",
       "    </tr>\n",
       "    <tr>\n",
       "      <th>8</th>\n",
       "      <td>apayani/ILP:classify_cora</td>\n",
       "      <td>&lt;ROOT&gt;</td>\n",
       "      <td>amogh7joshi/engagement-detection</td>\n",
       "      <td>babylonhealth/multiverse:experiment_utils</td>\n",
       "    </tr>\n",
       "    <tr>\n",
       "      <th>9</th>\n",
       "      <td>apayani/ILP:exp_list_member</td>\n",
       "      <td>STVIR/Grid-R-CNN</td>\n",
       "      <td>wangzheallen/STL-VQA</td>\n",
       "      <td>ml-jku/align-rudder</td>\n",
       "    </tr>\n",
       "  </tbody>\n",
       "</table>\n",
       "</div>"
      ],
      "text/plain": [
       "                     apache/incubator-mxnet   huggingface/transformers  \\\n",
       "0                    apache/incubator-mxnet   huggingface/transformers   \n",
       "1           apache/incubator-mxnet:__init__  papar22/returnn-my-branch   \n",
       "2             apache/incubator-mxnet:dlpack             vvanirudh/CMAX   \n",
       "3               apache/incubator-mxnet:util                 IBM/AMLSim   \n",
       "4            apayani/ILP:exp_arithmetic_add           pwollstadt/IDTxl   \n",
       "5           aparecidovieira/Road_extraction           pmulcaire/rosita   \n",
       "6  apache/incubator-mxnet:test_docker_login       TrackerLB/SPSTracker   \n",
       "7              apache/incubator-mxnet:space      STEllAR-GROUP/phylanx   \n",
       "8                 apayani/ILP:classify_cora                     <ROOT>   \n",
       "9               apayani/ILP:exp_list_member           STVIR/Grid-R-CNN   \n",
       "\n",
       "                 igul222/improved_wgan_training  \\\n",
       "0                igul222/improved_wgan_training   \n",
       "1                           lokiysh/stroopwafel   \n",
       "2                      championway/re3_tracking   \n",
       "3                      SenWu/emmental-tutorials   \n",
       "4  shvdiwnkozbw/Multi-Source-Sound-Localization   \n",
       "5                 sai-prasanna/bert-experiments   \n",
       "6                    chambliss/Multilingual_NER   \n",
       "7                            vernamlab/FastSpec   \n",
       "8              amogh7joshi/engagement-detection   \n",
       "9                          wangzheallen/STL-VQA   \n",
       "\n",
       "                                     pytorch/fairseq  \n",
       "0                                    pytorch/fairseq  \n",
       "1                 backdfund/analyzer:store_ds_values  \n",
       "2  babylonhealth/medisim:negative_sampling_from_p...  \n",
       "3  blei-lab/ars-reparameterization:gamma_def_gene...  \n",
       "4                pytorch/fairseq:dynamic_convolution  \n",
       "5                          backdfund/analyzer:logger  \n",
       "6                    pytorch/fairseq:lightconv_layer  \n",
       "7          pytorch/fairseq:distributed_fairseq_model  \n",
       "8          babylonhealth/multiverse:experiment_utils  \n",
       "9                                ml-jku/align-rudder  "
      ]
     },
     "execution_count": 24,
     "metadata": {},
     "output_type": "execute_result"
    }
   ],
   "source": [
    "get_node_embedding_model_and_results(prone_embeddings, call_graph, example_repo_nodes)"
   ]
  },
  {
   "cell_type": "code",
   "execution_count": 25,
   "id": "a1b9dc73",
   "metadata": {},
   "outputs": [
    {
     "data": {
      "text/html": [
       "<div>\n",
       "<style scoped>\n",
       "    .dataframe tbody tr th:only-of-type {\n",
       "        vertical-align: middle;\n",
       "    }\n",
       "\n",
       "    .dataframe tbody tr th {\n",
       "        vertical-align: top;\n",
       "    }\n",
       "\n",
       "    .dataframe thead th {\n",
       "        text-align: right;\n",
       "    }\n",
       "</style>\n",
       "<table border=\"1\" class=\"dataframe\">\n",
       "  <thead>\n",
       "    <tr style=\"text-align: right;\">\n",
       "      <th></th>\n",
       "      <th>source</th>\n",
       "      <th>destination</th>\n",
       "      <th>edge_type</th>\n",
       "    </tr>\n",
       "  </thead>\n",
       "  <tbody>\n",
       "  </tbody>\n",
       "</table>\n",
       "</div>"
      ],
      "text/plain": [
       "Empty DataFrame\n",
       "Columns: [source, destination, edge_type]\n",
       "Index: []"
      ]
     },
     "execution_count": 25,
     "metadata": {},
     "output_type": "execute_result"
    }
   ],
   "source": [
    "dependency_records_df[dependency_records_df[\"source\"] == \"mmsegmentation\"]"
   ]
  },
  {
   "cell_type": "code",
   "execution_count": 26,
   "id": "e14b4d69",
   "metadata": {},
   "outputs": [
    {
     "data": {
      "text/plain": [
       "False"
      ]
     },
     "execution_count": 26,
     "metadata": {},
     "output_type": "execute_result"
    }
   ],
   "source": [
    "\"mmsegmentation\" in call_graph_repo_nodes"
   ]
  },
  {
   "cell_type": "code",
   "execution_count": 27,
   "id": "4e98a993",
   "metadata": {},
   "outputs": [
    {
     "name": "stdout",
     "output_type": "stream",
     "text": [
      "2209729\n"
     ]
    },
    {
     "data": {
      "text/html": [
       "<div>\n",
       "<style scoped>\n",
       "    .dataframe tbody tr th:only-of-type {\n",
       "        vertical-align: middle;\n",
       "    }\n",
       "\n",
       "    .dataframe tbody tr th {\n",
       "        vertical-align: top;\n",
       "    }\n",
       "\n",
       "    .dataframe thead th {\n",
       "        text-align: right;\n",
       "    }\n",
       "</style>\n",
       "<table border=\"1\" class=\"dataframe\">\n",
       "  <thead>\n",
       "    <tr style=\"text-align: right;\">\n",
       "      <th></th>\n",
       "      <th>apache/incubator-mxnet</th>\n",
       "      <th>huggingface/transformers</th>\n",
       "      <th>igul222/improved_wgan_training</th>\n",
       "      <th>pytorch/fairseq</th>\n",
       "    </tr>\n",
       "  </thead>\n",
       "  <tbody>\n",
       "    <tr>\n",
       "      <th>0</th>\n",
       "      <td>apache/incubator-mxnet</td>\n",
       "      <td>huggingface/transformers</td>\n",
       "      <td>igul222/improved_wgan_training</td>\n",
       "      <td>pytorch/fairseq</td>\n",
       "    </tr>\n",
       "    <tr>\n",
       "      <th>1</th>\n",
       "      <td>apache/incubator-mxnet:__init__</td>\n",
       "      <td>papar22/returnn-my-branch</td>\n",
       "      <td>lokiysh/stroopwafel</td>\n",
       "      <td>backdfund/analyzer:store_ds_values</td>\n",
       "    </tr>\n",
       "    <tr>\n",
       "      <th>2</th>\n",
       "      <td>apache/incubator-mxnet:dlpack</td>\n",
       "      <td>vvanirudh/CMAX</td>\n",
       "      <td>championway/re3_tracking</td>\n",
       "      <td>babylonhealth/medisim:negative_sampling_from_p...</td>\n",
       "    </tr>\n",
       "    <tr>\n",
       "      <th>3</th>\n",
       "      <td>apache/incubator-mxnet:util</td>\n",
       "      <td>IBM/AMLSim</td>\n",
       "      <td>SenWu/emmental-tutorials</td>\n",
       "      <td>blei-lab/ars-reparameterization:gamma_def_gene...</td>\n",
       "    </tr>\n",
       "    <tr>\n",
       "      <th>4</th>\n",
       "      <td>apayani/ILP:exp_arithmetic_add</td>\n",
       "      <td>pwollstadt/IDTxl</td>\n",
       "      <td>shvdiwnkozbw/Multi-Source-Sound-Localization</td>\n",
       "      <td>pytorch/fairseq:dynamic_convolution</td>\n",
       "    </tr>\n",
       "    <tr>\n",
       "      <th>5</th>\n",
       "      <td>aparecidovieira/Road_extraction</td>\n",
       "      <td>pmulcaire/rosita</td>\n",
       "      <td>sai-prasanna/bert-experiments</td>\n",
       "      <td>backdfund/analyzer:logger</td>\n",
       "    </tr>\n",
       "    <tr>\n",
       "      <th>6</th>\n",
       "      <td>apache/incubator-mxnet:test_docker_login</td>\n",
       "      <td>TrackerLB/SPSTracker</td>\n",
       "      <td>chambliss/Multilingual_NER</td>\n",
       "      <td>pytorch/fairseq:lightconv_layer</td>\n",
       "    </tr>\n",
       "    <tr>\n",
       "      <th>7</th>\n",
       "      <td>apache/incubator-mxnet:space</td>\n",
       "      <td>STEllAR-GROUP/phylanx</td>\n",
       "      <td>vernamlab/FastSpec</td>\n",
       "      <td>pytorch/fairseq:distributed_fairseq_model</td>\n",
       "    </tr>\n",
       "    <tr>\n",
       "      <th>8</th>\n",
       "      <td>apayani/ILP:classify_cora</td>\n",
       "      <td>&lt;ROOT&gt;</td>\n",
       "      <td>amogh7joshi/engagement-detection</td>\n",
       "      <td>babylonhealth/multiverse:experiment_utils</td>\n",
       "    </tr>\n",
       "    <tr>\n",
       "      <th>9</th>\n",
       "      <td>apayani/ILP:exp_list_member</td>\n",
       "      <td>STVIR/Grid-R-CNN</td>\n",
       "      <td>wangzheallen/STL-VQA</td>\n",
       "      <td>ml-jku/align-rudder</td>\n",
       "    </tr>\n",
       "  </tbody>\n",
       "</table>\n",
       "</div>"
      ],
      "text/plain": [
       "                     apache/incubator-mxnet   huggingface/transformers  \\\n",
       "0                    apache/incubator-mxnet   huggingface/transformers   \n",
       "1           apache/incubator-mxnet:__init__  papar22/returnn-my-branch   \n",
       "2             apache/incubator-mxnet:dlpack             vvanirudh/CMAX   \n",
       "3               apache/incubator-mxnet:util                 IBM/AMLSim   \n",
       "4            apayani/ILP:exp_arithmetic_add           pwollstadt/IDTxl   \n",
       "5           aparecidovieira/Road_extraction           pmulcaire/rosita   \n",
       "6  apache/incubator-mxnet:test_docker_login       TrackerLB/SPSTracker   \n",
       "7              apache/incubator-mxnet:space      STEllAR-GROUP/phylanx   \n",
       "8                 apayani/ILP:classify_cora                     <ROOT>   \n",
       "9               apayani/ILP:exp_list_member           STVIR/Grid-R-CNN   \n",
       "\n",
       "                 igul222/improved_wgan_training  \\\n",
       "0                igul222/improved_wgan_training   \n",
       "1                           lokiysh/stroopwafel   \n",
       "2                      championway/re3_tracking   \n",
       "3                      SenWu/emmental-tutorials   \n",
       "4  shvdiwnkozbw/Multi-Source-Sound-Localization   \n",
       "5                 sai-prasanna/bert-experiments   \n",
       "6                    chambliss/Multilingual_NER   \n",
       "7                            vernamlab/FastSpec   \n",
       "8              amogh7joshi/engagement-detection   \n",
       "9                          wangzheallen/STL-VQA   \n",
       "\n",
       "                                     pytorch/fairseq  \n",
       "0                                    pytorch/fairseq  \n",
       "1                 backdfund/analyzer:store_ds_values  \n",
       "2  babylonhealth/medisim:negative_sampling_from_p...  \n",
       "3  blei-lab/ars-reparameterization:gamma_def_gene...  \n",
       "4                pytorch/fairseq:dynamic_convolution  \n",
       "5                          backdfund/analyzer:logger  \n",
       "6                    pytorch/fairseq:lightconv_layer  \n",
       "7          pytorch/fairseq:distributed_fairseq_model  \n",
       "8          babylonhealth/multiverse:experiment_utils  \n",
       "9                                ml-jku/align-rudder  "
      ]
     },
     "execution_count": 27,
     "metadata": {},
     "output_type": "execute_result"
    }
   ],
   "source": [
    "get_node_embedding_model_and_results(prone_embeddings, call_graph, example_repo_nodes)"
   ]
  },
  {
   "cell_type": "code",
   "execution_count": 28,
   "id": "fc3ce45c",
   "metadata": {},
   "outputs": [
    {
     "name": "stdout",
     "output_type": "stream",
     "text": [
      "2209729\n"
     ]
    },
    {
     "ename": "KeyboardInterrupt",
     "evalue": "",
     "output_type": "error",
     "traceback": [
      "\u001b[0;31m---------------------------------------------------------------------------\u001b[0m",
      "\u001b[0;31mKeyboardInterrupt\u001b[0m                         Traceback (most recent call last)",
      "\u001b[0;32m<ipython-input-28-f06ab2902fe1>\u001b[0m in \u001b[0;36m<module>\u001b[0;34m\u001b[0m\n\u001b[0;32m----> 1\u001b[0;31m \u001b[0mget_node_embedding_model_and_results\u001b[0m\u001b[0;34m(\u001b[0m\u001b[0mprone_embeddings\u001b[0m\u001b[0;34m,\u001b[0m \u001b[0mcall_graph\u001b[0m\u001b[0;34m,\u001b[0m \u001b[0mexample_repo_nodes\u001b[0m\u001b[0;34m,\u001b[0m \u001b[0mselected_names\u001b[0m\u001b[0;34m=\u001b[0m\u001b[0mcall_graph_repo_nodes\u001b[0m\u001b[0;34m.\u001b[0m\u001b[0mvalues\u001b[0m\u001b[0;34m)\u001b[0m\u001b[0;34m\u001b[0m\u001b[0;34m\u001b[0m\u001b[0m\n\u001b[0m",
      "\u001b[0;32m<ipython-input-14-d068c7d1e378>\u001b[0m in \u001b[0;36mget_node_embedding_model_and_results\u001b[0;34m(node_embeddings, call_graph, example_nodes, selected_names, topk)\u001b[0m\n\u001b[1;32m     36\u001b[0m         \u001b[0mordered_results\u001b[0m \u001b[0;34m=\u001b[0m \u001b[0mcall_graph\u001b[0m\u001b[0;34m.\u001b[0m\u001b[0mnames\u001b[0m\u001b[0;34m[\u001b[0m\u001b[0mnp\u001b[0m\u001b[0;34m.\u001b[0m\u001b[0margsort\u001b[0m\u001b[0;34m(\u001b[0m\u001b[0mdistances\u001b[0m\u001b[0;34m)\u001b[0m\u001b[0;34m[\u001b[0m\u001b[0;36m0\u001b[0m\u001b[0;34m,\u001b[0m\u001b[0;34m:\u001b[0m\u001b[0;34m]\u001b[0m\u001b[0;34m]\u001b[0m\u001b[0;34m.\u001b[0m\u001b[0mvalues\u001b[0m\u001b[0;34m\u001b[0m\u001b[0;34m\u001b[0m\u001b[0m\n\u001b[1;32m     37\u001b[0m         \u001b[0;32mif\u001b[0m \u001b[0;32mnot\u001b[0m \u001b[0mselected_names\u001b[0m \u001b[0;32mis\u001b[0m \u001b[0;32mNone\u001b[0m\u001b[0;34m:\u001b[0m\u001b[0;34m\u001b[0m\u001b[0;34m\u001b[0m\u001b[0m\n\u001b[0;32m---> 38\u001b[0;31m             \u001b[0mordered_results\u001b[0m \u001b[0;34m=\u001b[0m \u001b[0;34m[\u001b[0m\u001b[0mres\u001b[0m \u001b[0;32mfor\u001b[0m \u001b[0mres\u001b[0m \u001b[0;32min\u001b[0m \u001b[0mordered_results\u001b[0m \u001b[0;32mif\u001b[0m \u001b[0mres\u001b[0m \u001b[0;32min\u001b[0m \u001b[0mselected_names\u001b[0m\u001b[0;34m]\u001b[0m\u001b[0;34m\u001b[0m\u001b[0;34m\u001b[0m\u001b[0m\n\u001b[0m\u001b[1;32m     39\u001b[0m \u001b[0;34m\u001b[0m\u001b[0m\n\u001b[1;32m     40\u001b[0m         \u001b[0mresults\u001b[0m\u001b[0;34m.\u001b[0m\u001b[0mappend\u001b[0m\u001b[0;34m(\u001b[0m\u001b[0mordered_results\u001b[0m\u001b[0;34m[\u001b[0m\u001b[0;34m:\u001b[0m\u001b[0mtopk\u001b[0m\u001b[0;34m]\u001b[0m\u001b[0;34m)\u001b[0m\u001b[0;34m\u001b[0m\u001b[0;34m\u001b[0m\u001b[0m\n",
      "\u001b[0;32m<ipython-input-14-d068c7d1e378>\u001b[0m in \u001b[0;36m<listcomp>\u001b[0;34m(.0)\u001b[0m\n\u001b[1;32m     36\u001b[0m         \u001b[0mordered_results\u001b[0m \u001b[0;34m=\u001b[0m \u001b[0mcall_graph\u001b[0m\u001b[0;34m.\u001b[0m\u001b[0mnames\u001b[0m\u001b[0;34m[\u001b[0m\u001b[0mnp\u001b[0m\u001b[0;34m.\u001b[0m\u001b[0margsort\u001b[0m\u001b[0;34m(\u001b[0m\u001b[0mdistances\u001b[0m\u001b[0;34m)\u001b[0m\u001b[0;34m[\u001b[0m\u001b[0;36m0\u001b[0m\u001b[0;34m,\u001b[0m\u001b[0;34m:\u001b[0m\u001b[0;34m]\u001b[0m\u001b[0;34m]\u001b[0m\u001b[0;34m.\u001b[0m\u001b[0mvalues\u001b[0m\u001b[0;34m\u001b[0m\u001b[0;34m\u001b[0m\u001b[0m\n\u001b[1;32m     37\u001b[0m         \u001b[0;32mif\u001b[0m \u001b[0;32mnot\u001b[0m \u001b[0mselected_names\u001b[0m \u001b[0;32mis\u001b[0m \u001b[0;32mNone\u001b[0m\u001b[0;34m:\u001b[0m\u001b[0;34m\u001b[0m\u001b[0;34m\u001b[0m\u001b[0m\n\u001b[0;32m---> 38\u001b[0;31m             \u001b[0mordered_results\u001b[0m \u001b[0;34m=\u001b[0m \u001b[0;34m[\u001b[0m\u001b[0mres\u001b[0m \u001b[0;32mfor\u001b[0m \u001b[0mres\u001b[0m \u001b[0;32min\u001b[0m \u001b[0mordered_results\u001b[0m \u001b[0;32mif\u001b[0m \u001b[0mres\u001b[0m \u001b[0;32min\u001b[0m \u001b[0mselected_names\u001b[0m\u001b[0;34m]\u001b[0m\u001b[0;34m\u001b[0m\u001b[0;34m\u001b[0m\u001b[0m\n\u001b[0m\u001b[1;32m     39\u001b[0m \u001b[0;34m\u001b[0m\u001b[0m\n\u001b[1;32m     40\u001b[0m         \u001b[0mresults\u001b[0m\u001b[0;34m.\u001b[0m\u001b[0mappend\u001b[0m\u001b[0;34m(\u001b[0m\u001b[0mordered_results\u001b[0m\u001b[0;34m[\u001b[0m\u001b[0;34m:\u001b[0m\u001b[0mtopk\u001b[0m\u001b[0;34m]\u001b[0m\u001b[0;34m)\u001b[0m\u001b[0;34m\u001b[0m\u001b[0;34m\u001b[0m\u001b[0m\n",
      "\u001b[0;31mKeyboardInterrupt\u001b[0m: "
     ]
    }
   ],
   "source": [
    "get_node_embedding_model_and_results(\n",
    "    prone_embeddings,\n",
    "    call_graph,\n",
    "    example_repo_nodes,\n",
    "    selected_names=call_graph_repo_nodes.values,\n",
    ")"
   ]
  },
  {
   "cell_type": "code",
   "execution_count": 32,
   "id": "9eeaff5e",
   "metadata": {},
   "outputs": [
    {
     "data": {
      "text/plain": [
       "(2209729, 200)"
      ]
     },
     "execution_count": 32,
     "metadata": {},
     "output_type": "execute_result"
    }
   ],
   "source": [
    "prone_embeddings.shape"
   ]
  },
  {
   "cell_type": "code",
   "execution_count": 33,
   "id": "07f0afc2",
   "metadata": {},
   "outputs": [],
   "source": [
    "from gensim.models import KeyedVectors\n",
    "\n",
    "prone_kv = KeyedVectors(prone_embeddings.shape[1])\n",
    "prone_kv.add(call_graph.names, prone_embeddings)"
   ]
  },
  {
   "cell_type": "code",
   "execution_count": 34,
   "id": "81fd2774",
   "metadata": {},
   "outputs": [],
   "source": [
    "prone_kv.save(\"data/prone_embeddings.bin\")"
   ]
  },
  {
   "cell_type": "code",
   "execution_count": 34,
   "id": "5cbb4b0e",
   "metadata": {},
   "outputs": [
    {
     "data": {
      "text/plain": [
       "True"
      ]
     },
     "execution_count": 34,
     "metadata": {},
     "output_type": "execute_result"
    }
   ],
   "source": [
    "\"tensorflow\" in prone_kv.vocab.keys()"
   ]
  },
  {
   "cell_type": "code",
   "execution_count": 35,
   "id": "f49cc0ee",
   "metadata": {},
   "outputs": [
    {
     "data": {
      "text/plain": [
       "True"
      ]
     },
     "execution_count": 35,
     "metadata": {},
     "output_type": "execute_result"
    }
   ],
   "source": [
    "\"torch\" in prone_kv.vocab.keys()"
   ]
  },
  {
   "cell_type": "code",
   "execution_count": 101,
   "id": "bf3dd051",
   "metadata": {},
   "outputs": [
    {
     "name": "stdout",
     "output_type": "stream",
     "text": [
      "250891\n"
     ]
    }
   ],
   "source": [
    "with open(\"prone_closest_repos.md\", \"w\") as f:\n",
    "    f.write(\n",
    "        get_node_embedding_model_and_results(\n",
    "            prone_embeddings, call_graph, example_repo_nodes\n",
    "        ).to_markdown()\n",
    "    )"
   ]
  },
  {
   "cell_type": "code",
   "execution_count": 102,
   "id": "7c7ac8d7",
   "metadata": {},
   "outputs": [
    {
     "name": "stdout",
     "output_type": "stream",
     "text": [
      "250891\n"
     ]
    }
   ],
   "source": [
    "with open(\"prone_closest_nodes.md\", \"w\") as f:\n",
    "    f.write(\n",
    "        get_node_embedding_model_and_results(\n",
    "            prone_embeddings, call_graph, example_nodes\n",
    "        ).to_markdown()\n",
    "    )"
   ]
  },
  {
   "cell_type": "code",
   "execution_count": 103,
   "id": "222b0b8c",
   "metadata": {},
   "outputs": [
    {
     "name": "stdout",
     "output_type": "stream",
     "text": [
      "|    | DistilBertForMaskedLM          | __init__                         | fit             | tensorflow                     | test     | train          |\r\n",
      "|---:|:-------------------------------|:---------------------------------|:----------------|:-------------------------------|:---------|:---------------|\r\n",
      "|  0 | image1                         | devlpl.f:file                    | fit             | image1                         | test     | train          |\r\n",
      "|  1 | hand_guide                     | __init__                         | estimate        | hand_guide                     | predict  | evaluate       |\r\n",
      "|  2 | hand_dapg_demos:file           | ast_quality_perf_test            | objective       | hand_dapg_demos:file           | infer    | run_training   |\r\n",
      "|  3 | hamp                           | factored:file                    | test_prediction | hamp                           | eval     | train_model    |\r\n",
      "|  4 | hamming_window                 | time_rhoxy:file                  | test            | hamming_window                 | process  | eval           |\r\n",
      "|  5 | hamming_distance               | test_get_charge                  | run             | hamming_distance               | get_data | run_experiment |\r\n",
      "|  6 | hamming_dist                   | demogame_renderer:file           | process         | hamming_dist                   | plot     | train_epoch    |\r\n",
      "|  7 | hamiltonian_sparse             | pyunit_constant_response_rf:file | learn           | hamiltonian_sparse             | go       | learn          |\r\n",
      "|  8 | hamiltonian_graph_network:file | test_utils_tf:file               | _evaluate       | hamiltonian_graph_network:file | learn    | run            |\r\n",
      "|  9 | hamiltonian:file               | 02_op_attributes:file            | test_model      | hamiltonian:file               | validate | train_net      |"
     ]
    }
   ],
   "source": [
    "!cat prone_closest_nodes.md"
   ]
  },
  {
   "cell_type": "code",
   "execution_count": 104,
   "id": "f8c96d0e",
   "metadata": {},
   "outputs": [
    {
     "name": "stdout",
     "output_type": "stream",
     "text": [
      "250891\n"
     ]
    }
   ],
   "source": [
    "get_node_embedding_model_and_results(\n",
    "    prone_embeddings, call_graph, example_nodes\n",
    ").to_csv(open(\"prone_closest_nodes.md\", \"w\"))"
   ]
  },
  {
   "cell_type": "code",
   "execution_count": 106,
   "id": "4206acb0",
   "metadata": {},
   "outputs": [],
   "source": [
    "from gensim.models import poincare"
   ]
  },
  {
   "cell_type": "code",
   "execution_count": 107,
   "id": "b596309f",
   "metadata": {},
   "outputs": [],
   "source": [
    "example_edges = list(\n",
    "    dependency_records_df[[\"source\", \"destination\"]].itertuples(index=False, name=None)\n",
    ")"
   ]
  },
  {
   "cell_type": "code",
   "execution_count": 114,
   "id": "3e21e53a",
   "metadata": {},
   "outputs": [
    {
     "data": {
      "text/plain": [
       "(1406481, 3)"
      ]
     },
     "execution_count": 114,
     "metadata": {},
     "output_type": "execute_result"
    }
   ],
   "source": [
    "dependency_records_df.shape"
   ]
  },
  {
   "cell_type": "code",
   "execution_count": 116,
   "id": "86c5e20c",
   "metadata": {},
   "outputs": [],
   "source": [
    "model = poincare.PoincareModel(example_edges, negative=256)"
   ]
  },
  {
   "cell_type": "code",
   "execution_count": 117,
   "id": "c92525d9",
   "metadata": {},
   "outputs": [],
   "source": [
    "# poincare_model = poincare.PoincareModel.load(\"data/poincare_embeddings.bin\")"
   ]
  },
  {
   "cell_type": "code",
   "execution_count": null,
   "id": "d919f411",
   "metadata": {},
   "outputs": [],
   "source": [
    "%%time\n",
    "model.train(epochs=2, batch_size=256)"
   ]
  },
  {
   "cell_type": "code",
   "execution_count": null,
   "id": "218b9957",
   "metadata": {},
   "outputs": [],
   "source": [
    "model.save(\"data/poincare_embeddings_bigquery.bin\")"
   ]
  },
  {
   "cell_type": "code",
   "execution_count": null,
   "id": "f473b8ea",
   "metadata": {},
   "outputs": [],
   "source": [
    "poincare_kv = poincare_model.kv"
   ]
  },
  {
   "cell_type": "code",
   "execution_count": null,
   "id": "95ec8764",
   "metadata": {},
   "outputs": [],
   "source": [
    "poincare_kv.most_similar(\"yolo4\", topn=50)"
   ]
  },
  {
   "cell_type": "code",
   "execution_count": null,
   "id": "4705c13c",
   "metadata": {},
   "outputs": [],
   "source": [
    "poincare_kv.most_similar(\"wgan\", topn=50)"
   ]
  },
  {
   "cell_type": "code",
   "execution_count": null,
   "id": "c4a9bc0a",
   "metadata": {},
   "outputs": [],
   "source": [
    "poincare_kv.most_similar(\"torch\")"
   ]
  },
  {
   "cell_type": "code",
   "execution_count": null,
   "id": "b0a428e1",
   "metadata": {},
   "outputs": [],
   "source": [
    "poincare_kv.closest_child(\"mmdetection\")"
   ]
  },
  {
   "cell_type": "code",
   "execution_count": null,
   "id": "b1af3977",
   "metadata": {},
   "outputs": [],
   "source": [
    "poincare_kv.most_similar(\"\")"
   ]
  },
  {
   "cell_type": "code",
   "execution_count": null,
   "id": "133a9161",
   "metadata": {},
   "outputs": [],
   "source": [
    "%%time\n",
    "model.train(epochs=2, batch_size=64)"
   ]
  },
  {
   "cell_type": "code",
   "execution_count": null,
   "id": "3570066b",
   "metadata": {},
   "outputs": [],
   "source": [
    "model.kv.descendants(\"tensorflow\")"
   ]
  },
  {
   "cell_type": "code",
   "execution_count": null,
   "id": "6b945298",
   "metadata": {},
   "outputs": [],
   "source": [
    "model.save(\"data/poincare_embeddings.bin\")"
   ]
  },
  {
   "cell_type": "markdown",
   "id": "f9431959",
   "metadata": {},
   "source": [
    "# Hyperbolic embeddings"
   ]
  },
  {
   "cell_type": "code",
   "execution_count": null,
   "id": "157ec22d",
   "metadata": {},
   "outputs": [],
   "source": [
    "import torch"
   ]
  },
  {
   "cell_type": "code",
   "execution_count": null,
   "id": "3eda19af",
   "metadata": {},
   "outputs": [],
   "source": [
    "%load_ext autoreload"
   ]
  },
  {
   "cell_type": "code",
   "execution_count": null,
   "id": "18d5e8a1",
   "metadata": {},
   "outputs": [],
   "source": [
    "torch.model"
   ]
  },
  {
   "cell_type": "code",
   "execution_count": null,
   "id": "920c3aa6",
   "metadata": {},
   "outputs": [],
   "source": [
    "dependency_records_df[\"edge_type\"].value_counts()"
   ]
  },
  {
   "cell_type": "markdown",
   "id": "2d78ee39",
   "metadata": {},
   "source": [
    "## TODO\n",
    "\n",
    "- expore call graph\n",
    "- better call graph\n",
    "- Node2"
   ]
  },
  {
   "cell_type": "markdown",
   "id": "33d5200d",
   "metadata": {},
   "source": [
    "Exploring call graph\n",
    "\n",
    "what is the problem?\n",
    "\n",
    "Graph is not even connected"
   ]
  },
  {
   "cell_type": "code",
   "execution_count": null,
   "id": "de05ade1",
   "metadata": {},
   "outputs": [],
   "source": [
    "i = 2"
   ]
  },
  {
   "cell_type": "code",
   "execution_count": null,
   "id": "2ad9e752",
   "metadata": {},
   "outputs": [],
   "source": []
  }
 ],
 "metadata": {
  "kernelspec": {
   "display_name": "Python 3",
   "language": "python",
   "name": "python3"
  },
  "language_info": {
   "codemirror_mode": {
    "name": "ipython",
    "version": 3
   },
   "file_extension": ".py",
   "mimetype": "text/x-python",
   "name": "python",
   "nbconvert_exporter": "python",
   "pygments_lexer": "ipython3",
   "version": "3.8.10"
  }
 },
 "nbformat": 4,
 "nbformat_minor": 5
}
