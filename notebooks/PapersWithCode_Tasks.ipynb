{
 "cells": [
  {
   "cell_type": "code",
   "execution_count": 1,
   "metadata": {},
   "outputs": [],
   "source": [
    "#default_exp paperswithcode_tasks"
   ]
  },
  {
   "cell_type": "code",
   "execution_count": 2,
   "metadata": {},
   "outputs": [],
   "source": [
    "#export\n",
    "import pandas as pd"
   ]
  },
  {
   "cell_type": "code",
   "execution_count": 3,
   "metadata": {},
   "outputs": [
    {
     "name": "stdout",
     "output_type": "stream",
     "text": [
      "/home/kuba/Projects/github_search\n"
     ]
    }
   ],
   "source": [
    "%cd .."
   ]
  },
  {
   "cell_type": "code",
   "execution_count": 4,
   "metadata": {},
   "outputs": [],
   "source": [
    "pd.options.display.max_colwidth = 200"
   ]
  },
  {
   "cell_type": "code",
   "execution_count": 5,
   "metadata": {},
   "outputs": [],
   "source": [
    "#export\n",
    "\n",
    "\n",
    "def get_paperswithcode_dfs(paperswithcode_filename='data/links-between-papers-and-code.json.gz', papers_filename='data/papers-with-abstracts.json.gz'):\n",
    "    paperswithcode_df = pd.read_json(paperswithcode_filename)\n",
    "    paperswithcode_df['repo'] = paperswithcode_df['repo_url'].str.replace('https://github.com/', '')\n",
    "\n",
    "    all_papers_df = pd.read_json(papers_filename)\n",
    "    return paperswithcode_df, all_papers_df\n",
    "\n",
    "\n",
    "def get_papers_with_repo_df(all_papers_df, paperswithcode_df, repo_names):\n",
    "    \"\"\"\n",
    "    add repo information to arxiv paper information\n",
    "    \"\"\"\n",
    "    paperswithcode_with_repo_df = paperswithcode_df[paperswithcode_df['repo'].isin(repo_names)]\n",
    "    paperswithcode_diff_columns = list(paperswithcode_with_repo_df.columns.difference(all_papers_df.columns)) + ['paper_url']\n",
    "    papers_with_repo_df = all_papers_df[all_papers_df['paper_url'].isin(paperswithcode_with_repo_df['paper_url'])]\n",
    "    \n",
    "    return papers_with_repo_df.merge(paperswithcode_with_repo_df[paperswithcode_diff_columns], on='paper_url')\n",
    "\n",
    "\n",
    "def get_papers_with_biggest_tasks(papers_with_repo_df, n_biggest_tasks):\n",
    "    \"\"\"\n",
    "    fetch papers which contain at least one task that is in n_biggest_tasks (by number of task occurrences)\n",
    "    \"\"\"\n",
    "    all_tasks = papers_with_repo_df.explode('tasks')['tasks'] \n",
    "    biggest_tasks = all_tasks.value_counts()[:200]\n",
    "    \n",
    "    papers_with_repo_with_biggest_tasks_df = papers_with_repo_df[papers_with_repo_df['tasks'].apply(lambda tasks: any(task in biggest_tasks.index for task in tasks))]\n",
    "    papers_with_repo_with_biggest_tasks_df['most_common_task'] = papers_with_repo_with_biggest_tasks_df['tasks'].apply(\n",
    "        lambda tasks: biggest_tasks[[t for t in tasks if t in biggest_tasks.index]].idxmax() if len(biggest_tasks[ [t for t in tasks if t in biggest_tasks.index]]) > 0 else None\n",
    "    )\n",
    "    return papers_with_repo_with_biggest_tasks_df "
   ]
  },
  {
   "cell_type": "code",
   "execution_count": 6,
   "metadata": {},
   "outputs": [],
   "source": [
    "paperswithcode_df = pd.read_json('data/links-between-papers-and-code.json.gz')\n",
    "paperswithcode_df['repo'] = paperswithcode_df['repo_url'].str.replace('https://github.com/', '')"
   ]
  },
  {
   "cell_type": "code",
   "execution_count": 7,
   "metadata": {},
   "outputs": [],
   "source": [
    "all_papers_df = pd.read_json('data/papers-with-abstracts.json.gz')"
   ]
  },
  {
   "cell_type": "code",
   "execution_count": null,
   "metadata": {},
   "outputs": [],
   "source": [
    "python_files_df = pd.read_csv('data/python_files.csv')"
   ]
  },
  {
   "cell_type": "code",
   "execution_count": null,
   "metadata": {},
   "outputs": [],
   "source": [
    "python_files_df"
   ]
  },
  {
   "cell_type": "code",
   "execution_count": null,
   "metadata": {},
   "outputs": [],
   "source": [
    "python_files_df['repo_name_with_owner'] = python_files_df['owner']  + '/' + python_files_df['repo_name']\n",
    "repo_names = python_files_df['repo_name_with_owner'].unique()"
   ]
  },
  {
   "cell_type": "code",
   "execution_count": null,
   "metadata": {
    "scrolled": true
   },
   "outputs": [],
   "source": [
    "all_papers_df.info()"
   ]
  },
  {
   "cell_type": "code",
   "execution_count": null,
   "metadata": {},
   "outputs": [],
   "source": [
    "paperswithcode_df['repo'] = paperswithcode_df['repo_url'].str.replace('https://github.com/', '')"
   ]
  },
  {
   "cell_type": "code",
   "execution_count": null,
   "metadata": {},
   "outputs": [],
   "source": [
    "paperswithcode_repos = paperswithcode_df['repo']"
   ]
  },
  {
   "cell_type": "code",
   "execution_count": null,
   "metadata": {},
   "outputs": [],
   "source": [
    "len(set(paperswithcode_repos))"
   ]
  },
  {
   "cell_type": "code",
   "execution_count": null,
   "metadata": {},
   "outputs": [],
   "source": [
    "len(repo_names)"
   ]
  },
  {
   "cell_type": "code",
   "execution_count": null,
   "metadata": {},
   "outputs": [],
   "source": [
    "len(set(repo_names).intersection(paperswithcode_repos))"
   ]
  },
  {
   "cell_type": "code",
   "execution_count": null,
   "metadata": {},
   "outputs": [],
   "source": [
    "paperswithcode_df['repo']"
   ]
  },
  {
   "cell_type": "code",
   "execution_count": null,
   "metadata": {},
   "outputs": [],
   "source": [
    "repo_names"
   ]
  },
  {
   "cell_type": "code",
   "execution_count": null,
   "metadata": {},
   "outputs": [],
   "source": [
    "paperswithcode_df.columns"
   ]
  },
  {
   "cell_type": "code",
   "execution_count": null,
   "metadata": {},
   "outputs": [],
   "source": [
    "papers_with_repo_df = get_papers_with_repo_df(all_papers_df, paperswithcode_df, repo_names)\n",
    "papers_with_repo_df['tasks'].apply(len).value_counts()"
   ]
  },
  {
   "cell_type": "code",
   "execution_count": null,
   "metadata": {},
   "outputs": [],
   "source": [
    "all_tasks = papers_with_repo_df.explode('tasks')['tasks'] "
   ]
  },
  {
   "cell_type": "code",
   "execution_count": null,
   "metadata": {},
   "outputs": [],
   "source": [
    "all_tasks.nunique()"
   ]
  },
  {
   "cell_type": "code",
   "execution_count": null,
   "metadata": {},
   "outputs": [],
   "source": [
    "all_tasks.value_counts()[all_tasks.value_counts() > 10]#[:101].to_dict()"
   ]
  },
  {
   "cell_type": "code",
   "execution_count": null,
   "metadata": {},
   "outputs": [],
   "source": [
    "papers_with_repo_with_biggest_tasks_df = get_papers_with_biggest_tasks(papers_with_repo_df, 200)"
   ]
  },
  {
   "cell_type": "code",
   "execution_count": null,
   "metadata": {},
   "outputs": [],
   "source": [
    "papers_with_repo_with_biggest_tasks_df[papers_with_repo_with_biggest_tasks_df['tasks'].apply(lambda tasks: 'Hierarchical structure' in tasks)]['title']"
   ]
  },
  {
   "cell_type": "code",
   "execution_count": null,
   "metadata": {
    "scrolled": true
   },
   "outputs": [],
   "source": [
    "papers_with_repo_with_biggest_tasks_df[papers_with_repo_with_biggest_tasks_df['tasks'].apply(len) > 1]"
   ]
  },
  {
   "cell_type": "code",
   "execution_count": null,
   "metadata": {},
   "outputs": [],
   "source": [
    "papers_with_repo_with_biggest_tasks_df.shape"
   ]
  },
  {
   "cell_type": "markdown",
   "metadata": {},
   "source": [
    "## Selecting most common task"
   ]
  },
  {
   "cell_type": "code",
   "execution_count": null,
   "metadata": {},
   "outputs": [],
   "source": [
    "papers_with_repo_with_biggest_tasks_df['most_common_task'].value_counts()[:100].sum()"
   ]
  },
  {
   "cell_type": "code",
   "execution_count": null,
   "metadata": {},
   "outputs": [],
   "source": [
    "duplicated_classes = {\n",
    "    \"Document Classification\": \"Text Classification\",\n",
    "    \"Abstractive Text Summarization\": \"Text Summarization\",\n",
    "    \"3D Human Pose Estimation\": \"Pose Estimation\",\n",
    "    \"Semantic Similarity\": \"Semantic Textual Similarity\",\n",
    "    \"Trajectory Prediction\": \"Autonomous Vehicles\",\n",
    "    \"Autonomous Driving\": \"Autonomous Vehicles\",\n",
    "    \"Feature Importance\": \"Feature Selection\",\n",
    "    \"Visual Tracking\": \"Object Tracking\",\n",
    "    \"Object Recognition\": \"Object Detection\",\n",
    "    \"Multi-Task Learning\": \"Transfer Learning\"\n",
    "}"
   ]
  },
  {
   "cell_type": "code",
   "execution_count": null,
   "metadata": {},
   "outputs": [],
   "source": [
    "questionable_duplicated_classes = {\n",
    "    \"Adversarial Attack\": \"Adversarial Machine Learning\",\n",
    "    \"Adversarial Defense\": \"Adversarial Machine Learning\",\n",
    "    \"Voice Conversion\": \"Speech Generation\",\n",
    "    \"Lesion Segmentation\": \"Semantic Segmentation\"\n",
    "}"
   ]
  },
  {
   "cell_type": "code",
   "execution_count": null,
   "metadata": {},
   "outputs": [],
   "source": [
    "invalid_classes = [\n",
    "    \"Text-To-Sql\",\n",
    "    \"Hiearchical structure\"\n",
    "]"
   ]
  },
  {
   "cell_type": "code",
   "execution_count": null,
   "metadata": {},
   "outputs": [],
   "source": [
    "most_common_task_counts = papers_with_repo_with_biggest_tasks_df['most_common_task'].value_counts()"
   ]
  },
  {
   "cell_type": "code",
   "execution_count": null,
   "metadata": {
    "scrolled": false
   },
   "outputs": [],
   "source": [
    "most_common_task_counts[most_common_task_counts > 10].sum()#most_common_task_counts[:150].to_dict()"
   ]
  },
  {
   "cell_type": "code",
   "execution_count": null,
   "metadata": {},
   "outputs": [],
   "source": [
    "most_common_task_counts.shape"
   ]
  },
  {
   "cell_type": "code",
   "execution_count": null,
   "metadata": {
    "scrolled": true
   },
   "outputs": [],
   "source": [
    "papers_with_repo_with_biggest_tasks_df['most_common_task'].value_counts()[:100].plot.bar()"
   ]
  },
  {
   "cell_type": "markdown",
   "metadata": {},
   "source": [
    "## Selecting most matching task\n",
    "\n",
    "Matching is defined using similarity of embeddings of task name and article title"
   ]
  },
  {
   "cell_type": "code",
   "execution_count": null,
   "metadata": {},
   "outputs": [],
   "source": [
    "import numpy as np\n",
    "import tqdm\n",
    "from sklearn import metrics"
   ]
  },
  {
   "cell_type": "code",
   "execution_count": null,
   "metadata": {},
   "outputs": [],
   "source": [
    "text = papers_with_repo_with_biggest_tasks_df.iloc[2]['title']\n",
    "matched_texts = papers_with_repo_with_biggest_tasks_df.iloc[2]['tasks']"
   ]
  },
  {
   "cell_type": "code",
   "execution_count": null,
   "metadata": {},
   "outputs": [],
   "source": [
    "matched_texts"
   ]
  },
  {
   "cell_type": "code",
   "execution_count": null,
   "metadata": {},
   "outputs": [],
   "source": [
    "from sentence_transformers import SentenceTransformer\n",
    "sentence_embedder = SentenceTransformer('paraphrase-distilroberta-base-v1')"
   ]
  },
  {
   "cell_type": "code",
   "execution_count": null,
   "metadata": {},
   "outputs": [],
   "source": [
    "def select_best_matches(text, matched_texts, similarity=metrics.pairwise.cosine_similarity):\n",
    "    text_features = sentence_embedder.encode([text])\n",
    "    matched_features = sentence_embedder.encode(matched_texts)\n",
    "    similarities = similarity(text_features, matched_features)\n",
    "    return matched_texts[np.argmax(similarities)]"
   ]
  },
  {
   "cell_type": "code",
   "execution_count": null,
   "metadata": {},
   "outputs": [],
   "source": [
    "matched_texts"
   ]
  },
  {
   "cell_type": "code",
   "execution_count": null,
   "metadata": {},
   "outputs": [],
   "source": [
    "select_best_matches(text, matched_texts)"
   ]
  },
  {
   "cell_type": "code",
   "execution_count": null,
   "metadata": {},
   "outputs": [],
   "source": [
    "papers_with_repo_with_biggest_tasks_df['title_matched_task'] = ''"
   ]
  },
  {
   "cell_type": "code",
   "execution_count": null,
   "metadata": {},
   "outputs": [],
   "source": [
    "papers_with_repo_with_biggest_tasks_df.shape"
   ]
  },
  {
   "cell_type": "code",
   "execution_count": null,
   "metadata": {
    "scrolled": true
   },
   "outputs": [],
   "source": [
    "for i, row in tqdm.tqdm(papers_with_repo_with_biggest_tasks_df.iterrows(), total=papers_with_repo_with_biggest_tasks_df.shape[0]):\n",
    "    papers_with_repo_with_biggest_tasks_df['title_matched_task'].loc[i] = select_best_matches(row['title'], row['tasks'])"
   ]
  },
  {
   "cell_type": "code",
   "execution_count": null,
   "metadata": {},
   "outputs": [],
   "source": [
    "matched_task_counts = papers_with_repo_with_biggest_tasks_df['title_matched_task'].value_counts()"
   ]
  },
  {
   "cell_type": "code",
   "execution_count": null,
   "metadata": {},
   "outputs": [],
   "source": [
    "matched_task_counts[matched_task_counts > 10].sum()"
   ]
  },
  {
   "cell_type": "code",
   "execution_count": null,
   "metadata": {},
   "outputs": [],
   "source": [
    "papers_with_repo_with_biggest_tasks_df[['title', 'most_common_task']].head(20)"
   ]
  },
  {
   "cell_type": "code",
   "execution_count": null,
   "metadata": {
    "scrolled": false
   },
   "outputs": [],
   "source": [
    "papers_with_repo_with_biggest_tasks_df['title_matched_task'].value_counts()[:150].sum()#.to_dict()"
   ]
  },
  {
   "cell_type": "code",
   "execution_count": null,
   "metadata": {},
   "outputs": [],
   "source": [
    "papers_with_repo_with_biggest_tasks_df['title_matched_task'].value_counts()[:200].plot.bar()"
   ]
  },
  {
   "cell_type": "code",
   "execution_count": null,
   "metadata": {},
   "outputs": [],
   "source": [
    "import paperswithcode\n",
    "\n",
    "client = paperswithcode.PapersWithCodeClient()"
   ]
  },
  {
   "cell_type": "code",
   "execution_count": null,
   "metadata": {},
   "outputs": [],
   "source": [
    "client.area_task_list('computer-vision', items_per_page=1000).results"
   ]
  },
  {
   "cell_type": "code",
   "execution_count": null,
   "metadata": {},
   "outputs": [],
   "source": [
    "papers_with_repo_with_biggest_tasks_df.head()"
   ]
  },
  {
   "cell_type": "code",
   "execution_count": null,
   "metadata": {},
   "outputs": [],
   "source": [
    "dict(client.task_get('trajectory-prediction'))"
   ]
  },
  {
   "cell_type": "code",
   "execution_count": null,
   "metadata": {},
   "outputs": [],
   "source": [
    "client.task_paper_list('trajectory-prediction')"
   ]
  },
  {
   "cell_type": "code",
   "execution_count": null,
   "metadata": {},
   "outputs": [],
   "source": [
    "paper_id = papers_with_repo_with_biggest_tasks_df['paper_url'].iloc[1].split('/')[-1]"
   ]
  },
  {
   "cell_type": "code",
   "execution_count": null,
   "metadata": {},
   "outputs": [],
   "source": [
    "paper_id.split('/')[-1]"
   ]
  },
  {
   "cell_type": "code",
   "execution_count": null,
   "metadata": {},
   "outputs": [],
   "source": [
    "dict(client.paper_get(paper_id))"
   ]
  },
  {
   "cell_type": "code",
   "execution_count": null,
   "metadata": {},
   "outputs": [],
   "source": [
    "paper_id"
   ]
  },
  {
   "cell_type": "code",
   "execution_count": null,
   "metadata": {},
   "outputs": [],
   "source": [
    "tasks = client.http.get(f\"/papers/{paper_id}/tasks/\")['results']"
   ]
  },
  {
   "cell_type": "code",
   "execution_count": null,
   "metadata": {},
   "outputs": [],
   "source": [
    "tasks"
   ]
  },
  {
   "cell_type": "code",
   "execution_count": null,
   "metadata": {},
   "outputs": [],
   "source": [
    "[paperswithcode.models.Task(**task) for task in tasks]"
   ]
  },
  {
   "cell_type": "code",
   "execution_count": null,
   "metadata": {},
   "outputs": [],
   "source": [
    "import paperswithcode\n",
    "\n",
    "client = paperswithcode.PapersWithCodeClient()\n",
    "areas = client.area_list().results\n",
    "s = 0\n",
    "\n",
    "area_grouped_tasks = {}\n",
    "\n",
    "for a in areas:\n",
    "    area_tasks = [t.id for t in client.area_task_list(a.id, items_per_page=1000).results]\n",
    "    area_grouped_tasks[a.id] = area_tasks\n",
    "    n_tasks_per_area = len(area_tasks)\n",
    "    print(a.id, ':', n_tasks_per_area)\n",
    "    s += n_tasks_per_area\n",
    "print('total tasks:', s)\n"
   ]
  },
  {
   "cell_type": "code",
   "execution_count": null,
   "metadata": {},
   "outputs": [],
   "source": [
    "area_tasks_df = pd.DataFrame({'area': area_grouped_tasks.keys(), 'task': area_grouped_tasks.values()}).explode('task')"
   ]
  },
  {
   "cell_type": "code",
   "execution_count": null,
   "metadata": {},
   "outputs": [],
   "source": [
    "papers_with_repo_df['task'] = papers_with_repo_df['tasks']"
   ]
  },
  {
   "cell_type": "code",
   "execution_count": null,
   "metadata": {},
   "outputs": [],
   "source": [
    "papers_task_exploded_df = papers_with_repo_df.explode('task')"
   ]
  },
  {
   "cell_type": "code",
   "execution_count": null,
   "metadata": {},
   "outputs": [],
   "source": [
    "task_api_normalized = papers_task_exploded_df['task'].str.lower().str.replace(' ', '-')"
   ]
  },
  {
   "cell_type": "code",
   "execution_count": null,
   "metadata": {},
   "outputs": [],
   "source": [
    "task_api_normalized"
   ]
  },
  {
   "cell_type": "code",
   "execution_count": null,
   "metadata": {},
   "outputs": [],
   "source": [
    "tasks_without_area = task_api_normalized[~task_api_normalized.isin(area_tasks_df['task'])].unique()"
   ]
  },
  {
   "cell_type": "code",
   "execution_count": null,
   "metadata": {},
   "outputs": [],
   "source": [
    "other_tasks_df = pd.DataFrame({\"area\": \"other\", \"task\": tasks_without_area})"
   ]
  },
  {
   "cell_type": "code",
   "execution_count": null,
   "metadata": {},
   "outputs": [],
   "source": [
    "all_area_tasks_df = pd.concat([area_tasks_df, other_tasks_df])"
   ]
  },
  {
   "cell_type": "code",
   "execution_count": null,
   "metadata": {},
   "outputs": [],
   "source": [
    "all_area_tasks_df.head()"
   ]
  },
  {
   "cell_type": "code",
   "execution_count": null,
   "metadata": {},
   "outputs": [],
   "source": [
    "all_area_tasks_df.to_csv('data/paperswithcode_tasks.csv')"
   ]
  }
 ],
 "metadata": {
  "kernelspec": {
   "display_name": "Python 3",
   "language": "python",
   "name": "python3"
  },
  "language_info": {
   "codemirror_mode": {
    "name": "ipython",
    "version": 3
   },
   "file_extension": ".py",
   "mimetype": "text/x-python",
   "name": "python",
   "nbconvert_exporter": "python",
   "pygments_lexer": "ipython3",
   "version": "3.8.5"
  }
 },
 "nbformat": 4,
 "nbformat_minor": 4
}
