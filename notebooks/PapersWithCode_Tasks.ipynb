{
 "cells": [
  {
   "cell_type": "code",
   "execution_count": 1,
   "metadata": {},
   "outputs": [],
   "source": [
    "# default_exp paperswithcode_tasks_nbdev"
   ]
  },
  {
   "cell_type": "code",
   "execution_count": 2,
   "metadata": {},
   "outputs": [],
   "source": [
    "# export\n",
    "import pandas as pd\n",
    "import re"
   ]
  },
  {
   "cell_type": "code",
   "execution_count": 3,
   "metadata": {},
   "outputs": [
    {
     "name": "stdout",
     "output_type": "stream",
     "text": [
      "/home/kuba/Projects/github_search\n"
     ]
    }
   ],
   "source": [
    "%cd .."
   ]
  },
  {
   "cell_type": "code",
   "execution_count": 4,
   "metadata": {},
   "outputs": [],
   "source": [
    "pd.options.display.max_colwidth = 200"
   ]
  },
  {
   "cell_type": "code",
   "execution_count": 5,
   "metadata": {},
   "outputs": [],
   "source": [
    "# export\n",
    "\n",
    "# export\n",
    "\n",
    "\n",
    "def clean_task_name(task_name):\n",
    "    task_name = re.sub(r\"\\d+d\", \"\", task_name)\n",
    "    task_name = task_name.replace(\"-\", \" \")\n",
    "    return task_name.lower().strip()\n",
    "\n",
    "\n",
    "def get_paperswithcode_dfs(\n",
    "    paperswithcode_filename=\"data/links-between-papers-and-code.json.gz\",\n",
    "    papers_filename=\"data/papers-with-abstracts.json.gz\",\n",
    "):\n",
    "    paperswithcode_df = pd.read_json(paperswithcode_filename)\n",
    "    paperswithcode_df[\"repo\"] = paperswithcode_df[\"repo_url\"].str.replace(\n",
    "        \"https://github.com/\", \"\"\n",
    "    )\n",
    "\n",
    "    all_papers_df = pd.read_json(papers_filename)\n",
    "    return paperswithcode_df, all_papers_df\n",
    "\n",
    "\n",
    "def get_papers_with_repo_df(all_papers_df, paperswithcode_df, repo_names):\n",
    "    \"\"\"\n",
    "    add repo information to arxiv paper information\n",
    "    \"\"\"\n",
    "    paperswithcode_with_repo_df = paperswithcode_df[\n",
    "        paperswithcode_df[\"repo\"].isin(repo_names)\n",
    "    ]\n",
    "    paperswithcode_diff_columns = list(\n",
    "        paperswithcode_with_repo_df.columns.difference(all_papers_df.columns)\n",
    "    ) + [\"paper_url\"]\n",
    "    papers_with_repo_df = all_papers_df[\n",
    "        all_papers_df[\"paper_url\"].isin(paperswithcode_with_repo_df[\"paper_url\"])\n",
    "    ]\n",
    "\n",
    "    return papers_with_repo_df.merge(\n",
    "        paperswithcode_with_repo_df[paperswithcode_diff_columns], on=\"paper_url\"\n",
    "    )\n",
    "\n",
    "\n",
    "def get_papers_with_biggest_tasks(papers_with_repo_df, n_biggest_tasks):\n",
    "    \"\"\"\n",
    "    fetch papers which contain at least one task that is in n_biggest_tasks (by number of task occurrences)\n",
    "    \"\"\"\n",
    "    paper\n",
    "    all_tasks = papers_with_repo_df.explode(\"tasks\")[\"tasks\"]\n",
    "    biggest_tasks = all_tasks.value_counts()[:n_biggest_tasks]\n",
    "\n",
    "    papers_with_repo_with_biggest_tasks_df = papers_with_repo_df[\n",
    "        papers_with_repo_df[\"tasks\"].apply(\n",
    "            lambda tasks: any(task in biggest_tasks.index for task in tasks)\n",
    "        )\n",
    "    ]\n",
    "    papers_with_repo_with_biggest_tasks_df[\n",
    "        \"most_common_task\"\n",
    "    ] = papers_with_repo_with_biggest_tasks_df[\"tasks\"].apply(\n",
    "        lambda tasks: biggest_tasks[\n",
    "            [t for t in tasks if t in biggest_tasks.index]\n",
    "        ].idxmax()\n",
    "        if len(biggest_tasks[[t for t in tasks if t in biggest_tasks.index]]) > 0\n",
    "        else None\n",
    "    )\n",
    "    return papers_with_repo_with_biggest_tasks_df\n",
    "\n",
    "\n",
    "def normalize_task_names(task_lists):\n",
    "    return task_lists.apply(lambda tasks: [t.lower() for t in tasks])\n",
    "\n",
    "\n",
    "def get_papers_with_biggest_tasks_df(n_biggest_tasks=None):\n",
    "    paperswithcode_df, all_papers_df = get_paperswithcode_dfs()\n",
    "    n_biggest_tasks = (\n",
    "        n_biggest_tasks if not n_biggest_tasks is None else len(paperswithcode_df)\n",
    "    )\n",
    "    papers_with_repo_df = get_papers_with_repo_df(\n",
    "        all_papers_df, paperswithcode_df, paperswithcode_df[\"repo\"]\n",
    "    )\n",
    "    papers_with_repo_df['tasks'] = normalize_task_names(papers_with_repo_df['tasks'])\n",
    "    return get_papers_with_biggest_tasks(\n",
    "        papers_with_repo_df, n_biggest_tasks=n_biggest_tasks\n",
    "    )"
   ]
  },
  {
   "cell_type": "code",
   "execution_count": 6,
   "metadata": {},
   "outputs": [
    {
     "name": "stderr",
     "output_type": "stream",
     "text": [
      "<ipython-input-6-eb2a90d093ac>:2: FutureWarning: The default value of regex will change from True to False in a future version.\n",
      "  paperswithcode_df[\"repo\"] = paperswithcode_df[\"repo_url\"].str.replace(\n"
     ]
    }
   ],
   "source": [
    "paperswithcode_df = pd.read_json(\"data/links-between-papers-and-code.json.gz\")\n",
    "paperswithcode_df[\"repo\"] = paperswithcode_df[\"repo_url\"].str.replace(\n",
    "    \"https://github.com/\", \"\"\n",
    ")"
   ]
  },
  {
   "cell_type": "code",
   "execution_count": 7,
   "metadata": {},
   "outputs": [],
   "source": [
    "all_papers_df = pd.read_json(\"data/papers-with-abstracts.json.gz\")"
   ]
  },
  {
   "cell_type": "code",
   "execution_count": 8,
   "metadata": {},
   "outputs": [],
   "source": [
    "# python_files_df = pd.read_csv('data/python_files.csv')"
   ]
  },
  {
   "cell_type": "code",
   "execution_count": 9,
   "metadata": {},
   "outputs": [],
   "source": [
    "# python_files_df"
   ]
  },
  {
   "cell_type": "code",
   "execution_count": 10,
   "metadata": {},
   "outputs": [],
   "source": [
    "# export\n",
    "\n",
    "\n",
    "def get_task_counts(cleaned_tasks):\n",
    "    all_cleaned_tasks = cleaned_tasks.explode().dropna().apply(clean_task_name)\n",
    "    cleaned_tasks = all_cleaned_tasks.drop_duplicates()\n",
    "    return all_cleaned_tasks.value_counts()\n",
    "\n",
    "\n",
    "def get_papers_with_valid_tasks(all_papers_df, cleaned_tasks, min_task_occurrences):\n",
    "    task_counts = get_task_counts(cleaned_tasks)\n",
    "    valid_tasks = task_counts[task_counts >= min_task_occurrences].index\n",
    "    filtered_papers_tasks = cleaned_tasks.apply(\n",
    "        lambda ts: [t for t in ts if t in valid_tasks]\n",
    "    )\n",
    "    papers_with_tasks_df = all_papers_df[filtered_papers_tasks.apply(len) > 0]\n",
    "    papers_with_tasks_df[\"valid_tasks\"] = filtered_papers_tasks[\n",
    "        filtered_papers_tasks.apply(len) > 0\n",
    "    ]\n",
    "    return papers_with_tasks_df\n",
    "\n",
    "\n",
    "def add_least_common_task(\n",
    "    paperswithcode_with_tasks_df, cleaned_tasks, min_task_occurrences\n",
    "):\n",
    "    task_counts = get_task_counts(cleaned_tasks).sort_values()\n",
    "    task_counts = task_counts[task_counts > min_task_occurrences]\n",
    "    least_common_task = cleaned_tasks.apply(\n",
    "        lambda ts: task_counts.loc[[t for t in ts if t in task_counts.index]].index[0]\n",
    "        if any([t for t in ts if t in task_counts.index])\n",
    "        else None\n",
    "    )\n",
    "    paperswithcode_with_tasks_df[\"least_common_task\"] = least_common_task"
   ]
  },
  {
   "cell_type": "code",
   "execution_count": 11,
   "metadata": {},
   "outputs": [],
   "source": [
    "# export\n",
    "\n",
    "\n",
    "def get_paperswithcode_with_tasks_df(\n",
    "    paperswithcode_df, all_papers_df, min_task_occurrences=10\n",
    "):\n",
    "    all_papers_df[\"cleaned_tasks\"] = all_papers_df[\"tasks\"].apply(\n",
    "        lambda ts: [clean_task_name(t) for t in ts]\n",
    "    )\n",
    "    papers_with_valid_tasks_df = get_papers_with_valid_tasks(\n",
    "        all_papers_df, all_papers_df[\"cleaned_tasks\"], min_task_occurrences\n",
    "    )\n",
    "    paperswithcode_with_tasks_df = paperswithcode_df.merge(\n",
    "        papers_with_valid_tasks_df[[\"title\", \"valid_tasks\", \"abstract\"]],\n",
    "        left_on=\"paper_title\",\n",
    "        right_on=\"title\",\n",
    "    )\n",
    "    paperswithcode_with_tasks_df[\"tasks\"] = paperswithcode_with_tasks_df[\"valid_tasks\"]\n",
    "    paperswithcode_with_tasks_df = paperswithcode_with_tasks_df.groupby(\"repo\").apply(\n",
    "        lambda df: df.loc[df[\"tasks\"].apply(len).idxmax()]\n",
    "    )\n",
    "    add_least_common_task(\n",
    "        paperswithcode_with_tasks_df,\n",
    "        paperswithcode_with_tasks_df[\"valid_tasks\"],\n",
    "        min_task_occurrences,\n",
    "    )\n",
    "    paperswithcode_with_tasks_df.drop(\"valid_tasks\", axis=1, inplace=True)\n",
    "    all_valid_tasks = paperswithcode_with_tasks_df[\"least_common_task\"].unique()\n",
    "    paperswithcode_with_tasks_df[\"tasks\"] = paperswithcode_with_tasks_df[\"tasks\"].apply(\n",
    "        lambda ts: [t for t in ts if t in all_valid_tasks]\n",
    "    )\n",
    "    paperswithcode_with_tasks_df = paperswithcode_with_tasks_df.dropna(\n",
    "        axis=0, subset=[\"least_common_task\"]\n",
    "    )\n",
    "    return paperswithcode_with_tasks_df"
   ]
  },
  {
   "cell_type": "code",
   "execution_count": 12,
   "metadata": {},
   "outputs": [],
   "source": [
    "# export\n",
    "\n",
    "\n",
    "def get_area_grouped_tasks(paperswithcode_tasks_path=\"data/paperswithcode_tasks.csv\"):\n",
    "    area_grouped_tasks = pd.read_csv(\"data/paperswithcode_tasks.csv\").dropna()\n",
    "    area_grouped_tasks[\"task\"] = area_grouped_tasks[\"task\"].apply(clean_task_name)\n",
    "    area_counts = area_grouped_tasks[\"area\"].value_counts()\n",
    "    area_grouped_tasks = area_grouped_tasks[\n",
    "        area_grouped_tasks[\"area\"].isin(area_counts.index[area_counts > 1])\n",
    "    ]\n",
    "    return area_grouped_tasks"
   ]
  },
  {
   "cell_type": "code",
   "execution_count": 13,
   "metadata": {},
   "outputs": [
    {
     "data": {
      "text/plain": [
       "(113837,)"
      ]
     },
     "execution_count": 13,
     "metadata": {},
     "output_type": "execute_result"
    }
   ],
   "source": [
    "all_papers_df[\"tasks\"][all_papers_df[\"tasks\"].apply(len) > 0].shape"
   ]
  },
  {
   "cell_type": "code",
   "execution_count": 14,
   "metadata": {},
   "outputs": [
    {
     "name": "stderr",
     "output_type": "stream",
     "text": [
      "<ipython-input-10-eb8b9abe2b4b>:17: SettingWithCopyWarning: \n",
      "A value is trying to be set on a copy of a slice from a DataFrame.\n",
      "Try using .loc[row_indexer,col_indexer] = value instead\n",
      "\n",
      "See the caveats in the documentation: https://pandas.pydata.org/pandas-docs/stable/user_guide/indexing.html#returning-a-view-versus-a-copy\n",
      "  papers_with_tasks_df[\"valid_tasks\"] = filtered_papers_tasks[\n"
     ]
    }
   ],
   "source": [
    "paperswithcode_with_tasks_df = get_paperswithcode_with_tasks_df(\n",
    "    paperswithcode_df, all_papers_df, 10\n",
    ")"
   ]
  },
  {
   "cell_type": "code",
   "execution_count": 15,
   "metadata": {},
   "outputs": [
    {
     "data": {
      "text/html": [
       "<div>\n",
       "<style scoped>\n",
       "    .dataframe tbody tr th:only-of-type {\n",
       "        vertical-align: middle;\n",
       "    }\n",
       "\n",
       "    .dataframe tbody tr th {\n",
       "        vertical-align: top;\n",
       "    }\n",
       "\n",
       "    .dataframe thead th {\n",
       "        text-align: right;\n",
       "    }\n",
       "</style>\n",
       "<table border=\"1\" class=\"dataframe\">\n",
       "  <thead>\n",
       "    <tr style=\"text-align: right;\">\n",
       "      <th></th>\n",
       "      <th>paper_url</th>\n",
       "      <th>paper_title</th>\n",
       "      <th>paper_arxiv_id</th>\n",
       "      <th>paper_url_abs</th>\n",
       "      <th>paper_url_pdf</th>\n",
       "      <th>repo_url</th>\n",
       "      <th>mentioned_in_paper</th>\n",
       "      <th>mentioned_in_github</th>\n",
       "      <th>framework</th>\n",
       "      <th>repo</th>\n",
       "      <th>title</th>\n",
       "      <th>abstract</th>\n",
       "      <th>tasks</th>\n",
       "      <th>least_common_task</th>\n",
       "    </tr>\n",
       "  </thead>\n",
       "  <tbody>\n",
       "    <tr>\n",
       "      <th>0</th>\n",
       "      <td>https://paperswithcode.com/paper/a-unifying-generative-model-for-graph</td>\n",
       "      <td>A Unifying Generative Model for Graph Learning Algorithms: Label Propagation, Graph Convolutions, and Combinations</td>\n",
       "      <td>2101.07730</td>\n",
       "      <td>https://arxiv.org/abs/2101.07730v2</td>\n",
       "      <td>https://arxiv.org/pdf/2101.07730v2.pdf</td>\n",
       "      <td>https://github.com/000Justin000/GaussianMRF</td>\n",
       "      <td>True</td>\n",
       "      <td>False</td>\n",
       "      <td>none</td>\n",
       "      <td>000Justin000/GaussianMRF</td>\n",
       "      <td>A Unifying Generative Model for Graph Learning Algorithms: Label Propagation, Graph Convolutions, and Combinations</td>\n",
       "      <td>Semi-supervised learning on graphs is a widely applicable problem in network science and machine learning. Two standard algorithms -- label propagation and graph neural networks -- both operate by...</td>\n",
       "      <td>[graph learning]</td>\n",
       "      <td>graph learning</td>\n",
       "    </tr>\n",
       "    <tr>\n",
       "      <th>1</th>\n",
       "      <td>https://paperswithcode.com/paper/graph-based-semi-supervised-active-learning</td>\n",
       "      <td>Graph-based Semi-Supervised &amp; Active Learning for Edge Flows</td>\n",
       "      <td>1905.07451</td>\n",
       "      <td>https://arxiv.org/abs/1905.07451v1</td>\n",
       "      <td>https://arxiv.org/pdf/1905.07451v1.pdf</td>\n",
       "      <td>https://github.com/000Justin000/ssl_edge</td>\n",
       "      <td>True</td>\n",
       "      <td>True</td>\n",
       "      <td>none</td>\n",
       "      <td>000Justin000/ssl_edge</td>\n",
       "      <td>Graph-based Semi-Supervised &amp; Active Learning for Edge Flows</td>\n",
       "      <td>We present a graph-based semi-supervised learning (SSL) method for learning edge flows defined on a graph. Specifically, given flow measurements on a subset of edges, we want to predict the flows ...</td>\n",
       "      <td>[active learning]</td>\n",
       "      <td>active learning</td>\n",
       "    </tr>\n",
       "    <tr>\n",
       "      <th>2</th>\n",
       "      <td>https://paperswithcode.com/paper/neural-ordinary-differential-equations</td>\n",
       "      <td>Neural Ordinary Differential Equations</td>\n",
       "      <td>1806.07366</td>\n",
       "      <td>https://arxiv.org/abs/1806.07366v5</td>\n",
       "      <td>https://arxiv.org/pdf/1806.07366v5.pdf</td>\n",
       "      <td>https://github.com/000Justin000/torchdiffeq</td>\n",
       "      <td>False</td>\n",
       "      <td>True</td>\n",
       "      <td>pytorch</td>\n",
       "      <td>000Justin000/torchdiffeq</td>\n",
       "      <td>Neural Ordinary Differential Equations</td>\n",
       "      <td>We introduce a new family of deep neural network models. Instead of specifying a discrete sequence of hidden layers, we parameterize the derivative of the hidden state using a neural network. The ...</td>\n",
       "      <td>[latent variable models, multivariate time series forecasting, multivariate time series imputation]</td>\n",
       "      <td>latent variable models</td>\n",
       "    </tr>\n",
       "    <tr>\n",
       "      <th>3</th>\n",
       "      <td>https://paperswithcode.com/paper/one-shot-segmentation-in-clutter</td>\n",
       "      <td>One-Shot Segmentation in Clutter</td>\n",
       "      <td>1803.09597</td>\n",
       "      <td>http://arxiv.org/abs/1803.09597v2</td>\n",
       "      <td>http://arxiv.org/pdf/1803.09597v2.pdf</td>\n",
       "      <td>https://github.com/000c000l/oneShotLearningForSemanticSegmentation</td>\n",
       "      <td>False</td>\n",
       "      <td>True</td>\n",
       "      <td>tf</td>\n",
       "      <td>000c000l/oneShotLearningForSemanticSegmentation</td>\n",
       "      <td>One-Shot Segmentation in Clutter</td>\n",
       "      <td>We tackle the problem of one-shot segmentation: finding and segmenting a\\npreviously unseen object in a cluttered scene based on a single instruction\\nexample. We propose a novel dataset, which we...</td>\n",
       "      <td>[omniglot]</td>\n",
       "      <td>omniglot</td>\n",
       "    </tr>\n",
       "    <tr>\n",
       "      <th>4</th>\n",
       "      <td>https://paperswithcode.com/paper/speaker-recognition-from-raw-waveform-with</td>\n",
       "      <td>Speaker Recognition from Raw Waveform with SincNet</td>\n",
       "      <td>1808.00158</td>\n",
       "      <td>https://arxiv.org/abs/1808.00158v3</td>\n",
       "      <td>https://arxiv.org/pdf/1808.00158v3.pdf</td>\n",
       "      <td>https://github.com/008karan/SincNet_demo</td>\n",
       "      <td>False</td>\n",
       "      <td>True</td>\n",
       "      <td>pytorch</td>\n",
       "      <td>008karan/SincNet_demo</td>\n",
       "      <td>Speaker Recognition from Raw Waveform with SincNet</td>\n",
       "      <td>Deep learning is progressively gaining popularity as a viable alternative to i-vectors for speaker recognition. Promising results have been recently obtained with Convolutional Neural Networks (CN...</td>\n",
       "      <td>[speaker identification, speaker recognition, speaker verification]</td>\n",
       "      <td>speaker identification</td>\n",
       "    </tr>\n",
       "    <tr>\n",
       "      <th>...</th>\n",
       "      <td>...</td>\n",
       "      <td>...</td>\n",
       "      <td>...</td>\n",
       "      <td>...</td>\n",
       "      <td>...</td>\n",
       "      <td>...</td>\n",
       "      <td>...</td>\n",
       "      <td>...</td>\n",
       "      <td>...</td>\n",
       "      <td>...</td>\n",
       "      <td>...</td>\n",
       "      <td>...</td>\n",
       "      <td>...</td>\n",
       "      <td>...</td>\n",
       "    </tr>\n",
       "    <tr>\n",
       "      <th>43198</th>\n",
       "      <td>https://paperswithcode.com/paper/stargan-v2-diverse-image-synthesis-for</td>\n",
       "      <td>StarGAN v2: Diverse Image Synthesis for Multiple Domains</td>\n",
       "      <td>1912.01865</td>\n",
       "      <td>https://arxiv.org/abs/1912.01865v2</td>\n",
       "      <td>https://arxiv.org/pdf/1912.01865v2.pdf</td>\n",
       "      <td>https://github.com/zzz2010/starganv2_paddle</td>\n",
       "      <td>False</td>\n",
       "      <td>True</td>\n",
       "      <td>pytorch</td>\n",
       "      <td>zzz2010/starganv2_paddle</td>\n",
       "      <td>StarGAN v2: Diverse Image Synthesis for Multiple Domains</td>\n",
       "      <td>A good image-to-image translation model should learn a mapping between different visual domains while satisfying the following properties: 1) diversity of generated images and 2) scalability over ...</td>\n",
       "      <td>[image generation, image to image translation]</td>\n",
       "      <td>image generation</td>\n",
       "    </tr>\n",
       "    <tr>\n",
       "      <th>43199</th>\n",
       "      <td>https://paperswithcode.com/paper/explaining-image-classifiers-by</td>\n",
       "      <td>Explaining Image Classifiers by Counterfactual Generation</td>\n",
       "      <td>1807.08024</td>\n",
       "      <td>http://arxiv.org/abs/1807.08024v3</td>\n",
       "      <td>http://arxiv.org/pdf/1807.08024v3.pdf</td>\n",
       "      <td>https://github.com/zzzace2000/FIDO-saliency</td>\n",
       "      <td>True</td>\n",
       "      <td>True</td>\n",
       "      <td>pytorch</td>\n",
       "      <td>zzzace2000/FIDO-saliency</td>\n",
       "      <td>Explaining Image Classifiers by Counterfactual Generation</td>\n",
       "      <td>When an image classifier makes a prediction, which parts of the image are\\nrelevant and why? We can rephrase this question to ask: which parts of the\\nimage, if they were not seen by the classifie...</td>\n",
       "      <td>[image classification]</td>\n",
       "      <td>image classification</td>\n",
       "    </tr>\n",
       "    <tr>\n",
       "      <th>43200</th>\n",
       "      <td>https://paperswithcode.com/paper/dynamic-measurement-scheduling-for-event</td>\n",
       "      <td>Dynamic Measurement Scheduling for Event Forecasting using Deep RL</td>\n",
       "      <td>1901.09699</td>\n",
       "      <td>https://arxiv.org/abs/1901.09699v3</td>\n",
       "      <td>https://arxiv.org/pdf/1901.09699v3.pdf</td>\n",
       "      <td>https://github.com/zzzace2000/autodiagnosis</td>\n",
       "      <td>True</td>\n",
       "      <td>True</td>\n",
       "      <td>tf</td>\n",
       "      <td>zzzace2000/autodiagnosis</td>\n",
       "      <td>Dynamic Measurement Scheduling for Event Forecasting using Deep RL</td>\n",
       "      <td>Imagine a patient in critical condition. What and when should be measured to forecast detrimental events, especially under the budget constraints? We answer this question by deep reinforcement lea...</td>\n",
       "      <td>[mortality prediction]</td>\n",
       "      <td>mortality prediction</td>\n",
       "    </tr>\n",
       "    <tr>\n",
       "      <th>43201</th>\n",
       "      <td>https://paperswithcode.com/paper/dropout-feature-ranking-for-deep-learning</td>\n",
       "      <td>Dropout Feature Ranking for Deep Learning Models</td>\n",
       "      <td>1712.08645</td>\n",
       "      <td>http://arxiv.org/abs/1712.08645v2</td>\n",
       "      <td>http://arxiv.org/pdf/1712.08645v2.pdf</td>\n",
       "      <td>https://github.com/zzzace2000/dropout-feature-ranking</td>\n",
       "      <td>False</td>\n",
       "      <td>True</td>\n",
       "      <td>pytorch</td>\n",
       "      <td>zzzace2000/dropout-feature-ranking</td>\n",
       "      <td>Dropout Feature Ranking for Deep Learning Models</td>\n",
       "      <td>Deep neural networks (DNNs) achieve state-of-the-art results in a variety of\\ndomains. Unfortunately, DNNs are notorious for their non-interpretability, and\\nthus limit their applicability in hypo...</td>\n",
       "      <td>[time series]</td>\n",
       "      <td>time series</td>\n",
       "    </tr>\n",
       "    <tr>\n",
       "      <th>43202</th>\n",
       "      <td>https://paperswithcode.com/paper/multitask-learning-and-benchmarking-with</td>\n",
       "      <td>Multitask learning and benchmarking with clinical time series data</td>\n",
       "      <td>1703.07771</td>\n",
       "      <td>https://arxiv.org/abs/1703.07771v3</td>\n",
       "      <td>https://arxiv.org/pdf/1703.07771v3.pdf</td>\n",
       "      <td>https://github.com/zzzace2000/mimic-preprocess</td>\n",
       "      <td>False</td>\n",
       "      <td>True</td>\n",
       "      <td>none</td>\n",
       "      <td>zzzace2000/mimic-preprocess</td>\n",
       "      <td>Multitask learning and benchmarking with clinical time series data</td>\n",
       "      <td>Health care is one of the most exciting frontiers in data mining and machine learning. Successful adoption of electronic health records (EHRs) created an explosion in digital clinical data availab...</td>\n",
       "      <td>[computational phenotyping, length of stay prediction, mortality prediction, time series]</td>\n",
       "      <td>computational phenotyping</td>\n",
       "    </tr>\n",
       "  </tbody>\n",
       "</table>\n",
       "<p>43203 rows × 14 columns</p>\n",
       "</div>"
      ],
      "text/plain": [
       "                                                                          paper_url  \\\n",
       "0            https://paperswithcode.com/paper/a-unifying-generative-model-for-graph   \n",
       "1      https://paperswithcode.com/paper/graph-based-semi-supervised-active-learning   \n",
       "2           https://paperswithcode.com/paper/neural-ordinary-differential-equations   \n",
       "3                 https://paperswithcode.com/paper/one-shot-segmentation-in-clutter   \n",
       "4       https://paperswithcode.com/paper/speaker-recognition-from-raw-waveform-with   \n",
       "...                                                                             ...   \n",
       "43198       https://paperswithcode.com/paper/stargan-v2-diverse-image-synthesis-for   \n",
       "43199              https://paperswithcode.com/paper/explaining-image-classifiers-by   \n",
       "43200     https://paperswithcode.com/paper/dynamic-measurement-scheduling-for-event   \n",
       "43201    https://paperswithcode.com/paper/dropout-feature-ranking-for-deep-learning   \n",
       "43202     https://paperswithcode.com/paper/multitask-learning-and-benchmarking-with   \n",
       "\n",
       "                                                                                                              paper_title  \\\n",
       "0      A Unifying Generative Model for Graph Learning Algorithms: Label Propagation, Graph Convolutions, and Combinations   \n",
       "1                                                            Graph-based Semi-Supervised & Active Learning for Edge Flows   \n",
       "2                                                                                  Neural Ordinary Differential Equations   \n",
       "3                                                                                        One-Shot Segmentation in Clutter   \n",
       "4                                                                      Speaker Recognition from Raw Waveform with SincNet   \n",
       "...                                                                                                                   ...   \n",
       "43198                                                            StarGAN v2: Diverse Image Synthesis for Multiple Domains   \n",
       "43199                                                           Explaining Image Classifiers by Counterfactual Generation   \n",
       "43200                                                  Dynamic Measurement Scheduling for Event Forecasting using Deep RL   \n",
       "43201                                                                    Dropout Feature Ranking for Deep Learning Models   \n",
       "43202                                                  Multitask learning and benchmarking with clinical time series data   \n",
       "\n",
       "      paper_arxiv_id                       paper_url_abs  \\\n",
       "0         2101.07730  https://arxiv.org/abs/2101.07730v2   \n",
       "1         1905.07451  https://arxiv.org/abs/1905.07451v1   \n",
       "2         1806.07366  https://arxiv.org/abs/1806.07366v5   \n",
       "3         1803.09597   http://arxiv.org/abs/1803.09597v2   \n",
       "4         1808.00158  https://arxiv.org/abs/1808.00158v3   \n",
       "...              ...                                 ...   \n",
       "43198     1912.01865  https://arxiv.org/abs/1912.01865v2   \n",
       "43199     1807.08024   http://arxiv.org/abs/1807.08024v3   \n",
       "43200     1901.09699  https://arxiv.org/abs/1901.09699v3   \n",
       "43201     1712.08645   http://arxiv.org/abs/1712.08645v2   \n",
       "43202     1703.07771  https://arxiv.org/abs/1703.07771v3   \n",
       "\n",
       "                                paper_url_pdf  \\\n",
       "0      https://arxiv.org/pdf/2101.07730v2.pdf   \n",
       "1      https://arxiv.org/pdf/1905.07451v1.pdf   \n",
       "2      https://arxiv.org/pdf/1806.07366v5.pdf   \n",
       "3       http://arxiv.org/pdf/1803.09597v2.pdf   \n",
       "4      https://arxiv.org/pdf/1808.00158v3.pdf   \n",
       "...                                       ...   \n",
       "43198  https://arxiv.org/pdf/1912.01865v2.pdf   \n",
       "43199   http://arxiv.org/pdf/1807.08024v3.pdf   \n",
       "43200  https://arxiv.org/pdf/1901.09699v3.pdf   \n",
       "43201   http://arxiv.org/pdf/1712.08645v2.pdf   \n",
       "43202  https://arxiv.org/pdf/1703.07771v3.pdf   \n",
       "\n",
       "                                                                 repo_url  \\\n",
       "0                             https://github.com/000Justin000/GaussianMRF   \n",
       "1                                https://github.com/000Justin000/ssl_edge   \n",
       "2                             https://github.com/000Justin000/torchdiffeq   \n",
       "3      https://github.com/000c000l/oneShotLearningForSemanticSegmentation   \n",
       "4                                https://github.com/008karan/SincNet_demo   \n",
       "...                                                                   ...   \n",
       "43198                         https://github.com/zzz2010/starganv2_paddle   \n",
       "43199                         https://github.com/zzzace2000/FIDO-saliency   \n",
       "43200                         https://github.com/zzzace2000/autodiagnosis   \n",
       "43201               https://github.com/zzzace2000/dropout-feature-ranking   \n",
       "43202                      https://github.com/zzzace2000/mimic-preprocess   \n",
       "\n",
       "       mentioned_in_paper  mentioned_in_github framework  \\\n",
       "0                    True                False      none   \n",
       "1                    True                 True      none   \n",
       "2                   False                 True   pytorch   \n",
       "3                   False                 True        tf   \n",
       "4                   False                 True   pytorch   \n",
       "...                   ...                  ...       ...   \n",
       "43198               False                 True   pytorch   \n",
       "43199                True                 True   pytorch   \n",
       "43200                True                 True        tf   \n",
       "43201               False                 True   pytorch   \n",
       "43202               False                 True      none   \n",
       "\n",
       "                                                  repo  \\\n",
       "0                             000Justin000/GaussianMRF   \n",
       "1                                000Justin000/ssl_edge   \n",
       "2                             000Justin000/torchdiffeq   \n",
       "3      000c000l/oneShotLearningForSemanticSegmentation   \n",
       "4                                008karan/SincNet_demo   \n",
       "...                                                ...   \n",
       "43198                         zzz2010/starganv2_paddle   \n",
       "43199                         zzzace2000/FIDO-saliency   \n",
       "43200                         zzzace2000/autodiagnosis   \n",
       "43201               zzzace2000/dropout-feature-ranking   \n",
       "43202                      zzzace2000/mimic-preprocess   \n",
       "\n",
       "                                                                                                                    title  \\\n",
       "0      A Unifying Generative Model for Graph Learning Algorithms: Label Propagation, Graph Convolutions, and Combinations   \n",
       "1                                                            Graph-based Semi-Supervised & Active Learning for Edge Flows   \n",
       "2                                                                                  Neural Ordinary Differential Equations   \n",
       "3                                                                                        One-Shot Segmentation in Clutter   \n",
       "4                                                                      Speaker Recognition from Raw Waveform with SincNet   \n",
       "...                                                                                                                   ...   \n",
       "43198                                                            StarGAN v2: Diverse Image Synthesis for Multiple Domains   \n",
       "43199                                                           Explaining Image Classifiers by Counterfactual Generation   \n",
       "43200                                                  Dynamic Measurement Scheduling for Event Forecasting using Deep RL   \n",
       "43201                                                                    Dropout Feature Ranking for Deep Learning Models   \n",
       "43202                                                  Multitask learning and benchmarking with clinical time series data   \n",
       "\n",
       "                                                                                                                                                                                                      abstract  \\\n",
       "0      Semi-supervised learning on graphs is a widely applicable problem in network science and machine learning. Two standard algorithms -- label propagation and graph neural networks -- both operate by...   \n",
       "1      We present a graph-based semi-supervised learning (SSL) method for learning edge flows defined on a graph. Specifically, given flow measurements on a subset of edges, we want to predict the flows ...   \n",
       "2      We introduce a new family of deep neural network models. Instead of specifying a discrete sequence of hidden layers, we parameterize the derivative of the hidden state using a neural network. The ...   \n",
       "3      We tackle the problem of one-shot segmentation: finding and segmenting a\\npreviously unseen object in a cluttered scene based on a single instruction\\nexample. We propose a novel dataset, which we...   \n",
       "4      Deep learning is progressively gaining popularity as a viable alternative to i-vectors for speaker recognition. Promising results have been recently obtained with Convolutional Neural Networks (CN...   \n",
       "...                                                                                                                                                                                                        ...   \n",
       "43198  A good image-to-image translation model should learn a mapping between different visual domains while satisfying the following properties: 1) diversity of generated images and 2) scalability over ...   \n",
       "43199  When an image classifier makes a prediction, which parts of the image are\\nrelevant and why? We can rephrase this question to ask: which parts of the\\nimage, if they were not seen by the classifie...   \n",
       "43200  Imagine a patient in critical condition. What and when should be measured to forecast detrimental events, especially under the budget constraints? We answer this question by deep reinforcement lea...   \n",
       "43201  Deep neural networks (DNNs) achieve state-of-the-art results in a variety of\\ndomains. Unfortunately, DNNs are notorious for their non-interpretability, and\\nthus limit their applicability in hypo...   \n",
       "43202  Health care is one of the most exciting frontiers in data mining and machine learning. Successful adoption of electronic health records (EHRs) created an explosion in digital clinical data availab...   \n",
       "\n",
       "                                                                                                     tasks  \\\n",
       "0                                                                                         [graph learning]   \n",
       "1                                                                                        [active learning]   \n",
       "2      [latent variable models, multivariate time series forecasting, multivariate time series imputation]   \n",
       "3                                                                                               [omniglot]   \n",
       "4                                      [speaker identification, speaker recognition, speaker verification]   \n",
       "...                                                                                                    ...   \n",
       "43198                                                       [image generation, image to image translation]   \n",
       "43199                                                                               [image classification]   \n",
       "43200                                                                               [mortality prediction]   \n",
       "43201                                                                                        [time series]   \n",
       "43202            [computational phenotyping, length of stay prediction, mortality prediction, time series]   \n",
       "\n",
       "               least_common_task  \n",
       "0                 graph learning  \n",
       "1                active learning  \n",
       "2         latent variable models  \n",
       "3                       omniglot  \n",
       "4         speaker identification  \n",
       "...                          ...  \n",
       "43198           image generation  \n",
       "43199       image classification  \n",
       "43200       mortality prediction  \n",
       "43201                time series  \n",
       "43202  computational phenotyping  \n",
       "\n",
       "[43203 rows x 14 columns]"
      ]
     },
     "execution_count": 15,
     "metadata": {},
     "output_type": "execute_result"
    }
   ],
   "source": [
    "paperswithcode_with_tasks_df.reset_index(drop=True)"
   ]
  },
  {
   "cell_type": "code",
   "execution_count": 16,
   "metadata": {},
   "outputs": [
    {
     "data": {
      "text/plain": [
       "image classification                   3604\n",
       "object detection                       3464\n",
       "semantic segmentation                  3426\n",
       "question answering                     1718\n",
       "language modelling                     1674\n",
       "                                       ... \n",
       "temporal information extraction          11\n",
       "action unit detection                    11\n",
       "remote sensing image classification      11\n",
       "traffic sign detection                   11\n",
       "hyperspectral unmixing                   11\n",
       "Name: tasks, Length: 657, dtype: int64"
      ]
     },
     "execution_count": 16,
     "metadata": {},
     "output_type": "execute_result"
    }
   ],
   "source": [
    "paperswithcode_with_tasks_df[\"tasks\"].explode().value_counts()"
   ]
  },
  {
   "cell_type": "code",
   "execution_count": 17,
   "metadata": {},
   "outputs": [
    {
     "data": {
      "text/html": [
       "<div>\n",
       "<style scoped>\n",
       "    .dataframe tbody tr th:only-of-type {\n",
       "        vertical-align: middle;\n",
       "    }\n",
       "\n",
       "    .dataframe tbody tr th {\n",
       "        vertical-align: top;\n",
       "    }\n",
       "\n",
       "    .dataframe thead th {\n",
       "        text-align: right;\n",
       "    }\n",
       "</style>\n",
       "<table border=\"1\" class=\"dataframe\">\n",
       "  <thead>\n",
       "    <tr style=\"text-align: right;\">\n",
       "      <th></th>\n",
       "      <th>paper_url</th>\n",
       "      <th>paper_title</th>\n",
       "      <th>paper_arxiv_id</th>\n",
       "      <th>paper_url_abs</th>\n",
       "      <th>paper_url_pdf</th>\n",
       "      <th>repo_url</th>\n",
       "      <th>mentioned_in_paper</th>\n",
       "      <th>mentioned_in_github</th>\n",
       "      <th>framework</th>\n",
       "      <th>repo</th>\n",
       "      <th>title</th>\n",
       "      <th>abstract</th>\n",
       "      <th>tasks</th>\n",
       "      <th>least_common_task</th>\n",
       "    </tr>\n",
       "    <tr>\n",
       "      <th>repo</th>\n",
       "      <th></th>\n",
       "      <th></th>\n",
       "      <th></th>\n",
       "      <th></th>\n",
       "      <th></th>\n",
       "      <th></th>\n",
       "      <th></th>\n",
       "      <th></th>\n",
       "      <th></th>\n",
       "      <th></th>\n",
       "      <th></th>\n",
       "      <th></th>\n",
       "      <th></th>\n",
       "      <th></th>\n",
       "    </tr>\n",
       "  </thead>\n",
       "  <tbody>\n",
       "    <tr>\n",
       "      <th>000Justin000/GaussianMRF</th>\n",
       "      <td>https://paperswithcode.com/paper/a-unifying-generative-model-for-graph</td>\n",
       "      <td>A Unifying Generative Model for Graph Learning Algorithms: Label Propagation, Graph Convolutions, and Combinations</td>\n",
       "      <td>2101.07730</td>\n",
       "      <td>https://arxiv.org/abs/2101.07730v2</td>\n",
       "      <td>https://arxiv.org/pdf/2101.07730v2.pdf</td>\n",
       "      <td>https://github.com/000Justin000/GaussianMRF</td>\n",
       "      <td>True</td>\n",
       "      <td>False</td>\n",
       "      <td>none</td>\n",
       "      <td>000Justin000/GaussianMRF</td>\n",
       "      <td>A Unifying Generative Model for Graph Learning Algorithms: Label Propagation, Graph Convolutions, and Combinations</td>\n",
       "      <td>Semi-supervised learning on graphs is a widely applicable problem in network science and machine learning. Two standard algorithms -- label propagation and graph neural networks -- both operate by...</td>\n",
       "      <td>[graph learning]</td>\n",
       "      <td>graph learning</td>\n",
       "    </tr>\n",
       "    <tr>\n",
       "      <th>000Justin000/ssl_edge</th>\n",
       "      <td>https://paperswithcode.com/paper/graph-based-semi-supervised-active-learning</td>\n",
       "      <td>Graph-based Semi-Supervised &amp; Active Learning for Edge Flows</td>\n",
       "      <td>1905.07451</td>\n",
       "      <td>https://arxiv.org/abs/1905.07451v1</td>\n",
       "      <td>https://arxiv.org/pdf/1905.07451v1.pdf</td>\n",
       "      <td>https://github.com/000Justin000/ssl_edge</td>\n",
       "      <td>True</td>\n",
       "      <td>True</td>\n",
       "      <td>none</td>\n",
       "      <td>000Justin000/ssl_edge</td>\n",
       "      <td>Graph-based Semi-Supervised &amp; Active Learning for Edge Flows</td>\n",
       "      <td>We present a graph-based semi-supervised learning (SSL) method for learning edge flows defined on a graph. Specifically, given flow measurements on a subset of edges, we want to predict the flows ...</td>\n",
       "      <td>[active learning]</td>\n",
       "      <td>active learning</td>\n",
       "    </tr>\n",
       "    <tr>\n",
       "      <th>000Justin000/torchdiffeq</th>\n",
       "      <td>https://paperswithcode.com/paper/neural-ordinary-differential-equations</td>\n",
       "      <td>Neural Ordinary Differential Equations</td>\n",
       "      <td>1806.07366</td>\n",
       "      <td>https://arxiv.org/abs/1806.07366v5</td>\n",
       "      <td>https://arxiv.org/pdf/1806.07366v5.pdf</td>\n",
       "      <td>https://github.com/000Justin000/torchdiffeq</td>\n",
       "      <td>False</td>\n",
       "      <td>True</td>\n",
       "      <td>pytorch</td>\n",
       "      <td>000Justin000/torchdiffeq</td>\n",
       "      <td>Neural Ordinary Differential Equations</td>\n",
       "      <td>We introduce a new family of deep neural network models. Instead of specifying a discrete sequence of hidden layers, we parameterize the derivative of the hidden state using a neural network. The ...</td>\n",
       "      <td>[latent variable models, multivariate time series forecasting, multivariate time series imputation]</td>\n",
       "      <td>latent variable models</td>\n",
       "    </tr>\n",
       "    <tr>\n",
       "      <th>000c000l/oneShotLearningForSemanticSegmentation</th>\n",
       "      <td>https://paperswithcode.com/paper/one-shot-segmentation-in-clutter</td>\n",
       "      <td>One-Shot Segmentation in Clutter</td>\n",
       "      <td>1803.09597</td>\n",
       "      <td>http://arxiv.org/abs/1803.09597v2</td>\n",
       "      <td>http://arxiv.org/pdf/1803.09597v2.pdf</td>\n",
       "      <td>https://github.com/000c000l/oneShotLearningForSemanticSegmentation</td>\n",
       "      <td>False</td>\n",
       "      <td>True</td>\n",
       "      <td>tf</td>\n",
       "      <td>000c000l/oneShotLearningForSemanticSegmentation</td>\n",
       "      <td>One-Shot Segmentation in Clutter</td>\n",
       "      <td>We tackle the problem of one-shot segmentation: finding and segmenting a\\npreviously unseen object in a cluttered scene based on a single instruction\\nexample. We propose a novel dataset, which we...</td>\n",
       "      <td>[omniglot]</td>\n",
       "      <td>omniglot</td>\n",
       "    </tr>\n",
       "    <tr>\n",
       "      <th>008karan/SincNet_demo</th>\n",
       "      <td>https://paperswithcode.com/paper/speaker-recognition-from-raw-waveform-with</td>\n",
       "      <td>Speaker Recognition from Raw Waveform with SincNet</td>\n",
       "      <td>1808.00158</td>\n",
       "      <td>https://arxiv.org/abs/1808.00158v3</td>\n",
       "      <td>https://arxiv.org/pdf/1808.00158v3.pdf</td>\n",
       "      <td>https://github.com/008karan/SincNet_demo</td>\n",
       "      <td>False</td>\n",
       "      <td>True</td>\n",
       "      <td>pytorch</td>\n",
       "      <td>008karan/SincNet_demo</td>\n",
       "      <td>Speaker Recognition from Raw Waveform with SincNet</td>\n",
       "      <td>Deep learning is progressively gaining popularity as a viable alternative to i-vectors for speaker recognition. Promising results have been recently obtained with Convolutional Neural Networks (CN...</td>\n",
       "      <td>[speaker identification, speaker recognition, speaker verification]</td>\n",
       "      <td>speaker identification</td>\n",
       "    </tr>\n",
       "    <tr>\n",
       "      <th>...</th>\n",
       "      <td>...</td>\n",
       "      <td>...</td>\n",
       "      <td>...</td>\n",
       "      <td>...</td>\n",
       "      <td>...</td>\n",
       "      <td>...</td>\n",
       "      <td>...</td>\n",
       "      <td>...</td>\n",
       "      <td>...</td>\n",
       "      <td>...</td>\n",
       "      <td>...</td>\n",
       "      <td>...</td>\n",
       "      <td>...</td>\n",
       "      <td>...</td>\n",
       "    </tr>\n",
       "    <tr>\n",
       "      <th>zzz2010/starganv2_paddle</th>\n",
       "      <td>https://paperswithcode.com/paper/stargan-v2-diverse-image-synthesis-for</td>\n",
       "      <td>StarGAN v2: Diverse Image Synthesis for Multiple Domains</td>\n",
       "      <td>1912.01865</td>\n",
       "      <td>https://arxiv.org/abs/1912.01865v2</td>\n",
       "      <td>https://arxiv.org/pdf/1912.01865v2.pdf</td>\n",
       "      <td>https://github.com/zzz2010/starganv2_paddle</td>\n",
       "      <td>False</td>\n",
       "      <td>True</td>\n",
       "      <td>pytorch</td>\n",
       "      <td>zzz2010/starganv2_paddle</td>\n",
       "      <td>StarGAN v2: Diverse Image Synthesis for Multiple Domains</td>\n",
       "      <td>A good image-to-image translation model should learn a mapping between different visual domains while satisfying the following properties: 1) diversity of generated images and 2) scalability over ...</td>\n",
       "      <td>[image generation, image to image translation]</td>\n",
       "      <td>image generation</td>\n",
       "    </tr>\n",
       "    <tr>\n",
       "      <th>zzzace2000/FIDO-saliency</th>\n",
       "      <td>https://paperswithcode.com/paper/explaining-image-classifiers-by</td>\n",
       "      <td>Explaining Image Classifiers by Counterfactual Generation</td>\n",
       "      <td>1807.08024</td>\n",
       "      <td>http://arxiv.org/abs/1807.08024v3</td>\n",
       "      <td>http://arxiv.org/pdf/1807.08024v3.pdf</td>\n",
       "      <td>https://github.com/zzzace2000/FIDO-saliency</td>\n",
       "      <td>True</td>\n",
       "      <td>True</td>\n",
       "      <td>pytorch</td>\n",
       "      <td>zzzace2000/FIDO-saliency</td>\n",
       "      <td>Explaining Image Classifiers by Counterfactual Generation</td>\n",
       "      <td>When an image classifier makes a prediction, which parts of the image are\\nrelevant and why? We can rephrase this question to ask: which parts of the\\nimage, if they were not seen by the classifie...</td>\n",
       "      <td>[image classification]</td>\n",
       "      <td>image classification</td>\n",
       "    </tr>\n",
       "    <tr>\n",
       "      <th>zzzace2000/autodiagnosis</th>\n",
       "      <td>https://paperswithcode.com/paper/dynamic-measurement-scheduling-for-event</td>\n",
       "      <td>Dynamic Measurement Scheduling for Event Forecasting using Deep RL</td>\n",
       "      <td>1901.09699</td>\n",
       "      <td>https://arxiv.org/abs/1901.09699v3</td>\n",
       "      <td>https://arxiv.org/pdf/1901.09699v3.pdf</td>\n",
       "      <td>https://github.com/zzzace2000/autodiagnosis</td>\n",
       "      <td>True</td>\n",
       "      <td>True</td>\n",
       "      <td>tf</td>\n",
       "      <td>zzzace2000/autodiagnosis</td>\n",
       "      <td>Dynamic Measurement Scheduling for Event Forecasting using Deep RL</td>\n",
       "      <td>Imagine a patient in critical condition. What and when should be measured to forecast detrimental events, especially under the budget constraints? We answer this question by deep reinforcement lea...</td>\n",
       "      <td>[mortality prediction]</td>\n",
       "      <td>mortality prediction</td>\n",
       "    </tr>\n",
       "    <tr>\n",
       "      <th>zzzace2000/dropout-feature-ranking</th>\n",
       "      <td>https://paperswithcode.com/paper/dropout-feature-ranking-for-deep-learning</td>\n",
       "      <td>Dropout Feature Ranking for Deep Learning Models</td>\n",
       "      <td>1712.08645</td>\n",
       "      <td>http://arxiv.org/abs/1712.08645v2</td>\n",
       "      <td>http://arxiv.org/pdf/1712.08645v2.pdf</td>\n",
       "      <td>https://github.com/zzzace2000/dropout-feature-ranking</td>\n",
       "      <td>False</td>\n",
       "      <td>True</td>\n",
       "      <td>pytorch</td>\n",
       "      <td>zzzace2000/dropout-feature-ranking</td>\n",
       "      <td>Dropout Feature Ranking for Deep Learning Models</td>\n",
       "      <td>Deep neural networks (DNNs) achieve state-of-the-art results in a variety of\\ndomains. Unfortunately, DNNs are notorious for their non-interpretability, and\\nthus limit their applicability in hypo...</td>\n",
       "      <td>[time series]</td>\n",
       "      <td>time series</td>\n",
       "    </tr>\n",
       "    <tr>\n",
       "      <th>zzzace2000/mimic-preprocess</th>\n",
       "      <td>https://paperswithcode.com/paper/multitask-learning-and-benchmarking-with</td>\n",
       "      <td>Multitask learning and benchmarking with clinical time series data</td>\n",
       "      <td>1703.07771</td>\n",
       "      <td>https://arxiv.org/abs/1703.07771v3</td>\n",
       "      <td>https://arxiv.org/pdf/1703.07771v3.pdf</td>\n",
       "      <td>https://github.com/zzzace2000/mimic-preprocess</td>\n",
       "      <td>False</td>\n",
       "      <td>True</td>\n",
       "      <td>none</td>\n",
       "      <td>zzzace2000/mimic-preprocess</td>\n",
       "      <td>Multitask learning and benchmarking with clinical time series data</td>\n",
       "      <td>Health care is one of the most exciting frontiers in data mining and machine learning. Successful adoption of electronic health records (EHRs) created an explosion in digital clinical data availab...</td>\n",
       "      <td>[computational phenotyping, length of stay prediction, mortality prediction, time series]</td>\n",
       "      <td>computational phenotyping</td>\n",
       "    </tr>\n",
       "  </tbody>\n",
       "</table>\n",
       "<p>43203 rows × 14 columns</p>\n",
       "</div>"
      ],
      "text/plain": [
       "                                                                                                                    paper_url  \\\n",
       "repo                                                                                                                            \n",
       "000Justin000/GaussianMRF                               https://paperswithcode.com/paper/a-unifying-generative-model-for-graph   \n",
       "000Justin000/ssl_edge                            https://paperswithcode.com/paper/graph-based-semi-supervised-active-learning   \n",
       "000Justin000/torchdiffeq                              https://paperswithcode.com/paper/neural-ordinary-differential-equations   \n",
       "000c000l/oneShotLearningForSemanticSegmentation             https://paperswithcode.com/paper/one-shot-segmentation-in-clutter   \n",
       "008karan/SincNet_demo                             https://paperswithcode.com/paper/speaker-recognition-from-raw-waveform-with   \n",
       "...                                                                                                                       ...   \n",
       "zzz2010/starganv2_paddle                              https://paperswithcode.com/paper/stargan-v2-diverse-image-synthesis-for   \n",
       "zzzace2000/FIDO-saliency                                     https://paperswithcode.com/paper/explaining-image-classifiers-by   \n",
       "zzzace2000/autodiagnosis                            https://paperswithcode.com/paper/dynamic-measurement-scheduling-for-event   \n",
       "zzzace2000/dropout-feature-ranking                 https://paperswithcode.com/paper/dropout-feature-ranking-for-deep-learning   \n",
       "zzzace2000/mimic-preprocess                         https://paperswithcode.com/paper/multitask-learning-and-benchmarking-with   \n",
       "\n",
       "                                                                                                                                                        paper_title  \\\n",
       "repo                                                                                                                                                                  \n",
       "000Justin000/GaussianMRF                         A Unifying Generative Model for Graph Learning Algorithms: Label Propagation, Graph Convolutions, and Combinations   \n",
       "000Justin000/ssl_edge                                                                                  Graph-based Semi-Supervised & Active Learning for Edge Flows   \n",
       "000Justin000/torchdiffeq                                                                                                     Neural Ordinary Differential Equations   \n",
       "000c000l/oneShotLearningForSemanticSegmentation                                                                                    One-Shot Segmentation in Clutter   \n",
       "008karan/SincNet_demo                                                                                            Speaker Recognition from Raw Waveform with SincNet   \n",
       "...                                                                                                                                                             ...   \n",
       "zzz2010/starganv2_paddle                                                                                   StarGAN v2: Diverse Image Synthesis for Multiple Domains   \n",
       "zzzace2000/FIDO-saliency                                                                                  Explaining Image Classifiers by Counterfactual Generation   \n",
       "zzzace2000/autodiagnosis                                                                         Dynamic Measurement Scheduling for Event Forecasting using Deep RL   \n",
       "zzzace2000/dropout-feature-ranking                                                                                 Dropout Feature Ranking for Deep Learning Models   \n",
       "zzzace2000/mimic-preprocess                                                                      Multitask learning and benchmarking with clinical time series data   \n",
       "\n",
       "                                                paper_arxiv_id  \\\n",
       "repo                                                             \n",
       "000Justin000/GaussianMRF                            2101.07730   \n",
       "000Justin000/ssl_edge                               1905.07451   \n",
       "000Justin000/torchdiffeq                            1806.07366   \n",
       "000c000l/oneShotLearningForSemanticSegmentation     1803.09597   \n",
       "008karan/SincNet_demo                               1808.00158   \n",
       "...                                                        ...   \n",
       "zzz2010/starganv2_paddle                            1912.01865   \n",
       "zzzace2000/FIDO-saliency                            1807.08024   \n",
       "zzzace2000/autodiagnosis                            1901.09699   \n",
       "zzzace2000/dropout-feature-ranking                  1712.08645   \n",
       "zzzace2000/mimic-preprocess                         1703.07771   \n",
       "\n",
       "                                                                      paper_url_abs  \\\n",
       "repo                                                                                  \n",
       "000Justin000/GaussianMRF                         https://arxiv.org/abs/2101.07730v2   \n",
       "000Justin000/ssl_edge                            https://arxiv.org/abs/1905.07451v1   \n",
       "000Justin000/torchdiffeq                         https://arxiv.org/abs/1806.07366v5   \n",
       "000c000l/oneShotLearningForSemanticSegmentation   http://arxiv.org/abs/1803.09597v2   \n",
       "008karan/SincNet_demo                            https://arxiv.org/abs/1808.00158v3   \n",
       "...                                                                             ...   \n",
       "zzz2010/starganv2_paddle                         https://arxiv.org/abs/1912.01865v2   \n",
       "zzzace2000/FIDO-saliency                          http://arxiv.org/abs/1807.08024v3   \n",
       "zzzace2000/autodiagnosis                         https://arxiv.org/abs/1901.09699v3   \n",
       "zzzace2000/dropout-feature-ranking                http://arxiv.org/abs/1712.08645v2   \n",
       "zzzace2000/mimic-preprocess                      https://arxiv.org/abs/1703.07771v3   \n",
       "\n",
       "                                                                          paper_url_pdf  \\\n",
       "repo                                                                                      \n",
       "000Justin000/GaussianMRF                         https://arxiv.org/pdf/2101.07730v2.pdf   \n",
       "000Justin000/ssl_edge                            https://arxiv.org/pdf/1905.07451v1.pdf   \n",
       "000Justin000/torchdiffeq                         https://arxiv.org/pdf/1806.07366v5.pdf   \n",
       "000c000l/oneShotLearningForSemanticSegmentation   http://arxiv.org/pdf/1803.09597v2.pdf   \n",
       "008karan/SincNet_demo                            https://arxiv.org/pdf/1808.00158v3.pdf   \n",
       "...                                                                                 ...   \n",
       "zzz2010/starganv2_paddle                         https://arxiv.org/pdf/1912.01865v2.pdf   \n",
       "zzzace2000/FIDO-saliency                          http://arxiv.org/pdf/1807.08024v3.pdf   \n",
       "zzzace2000/autodiagnosis                         https://arxiv.org/pdf/1901.09699v3.pdf   \n",
       "zzzace2000/dropout-feature-ranking                http://arxiv.org/pdf/1712.08645v2.pdf   \n",
       "zzzace2000/mimic-preprocess                      https://arxiv.org/pdf/1703.07771v3.pdf   \n",
       "\n",
       "                                                                                                           repo_url  \\\n",
       "repo                                                                                                                  \n",
       "000Justin000/GaussianMRF                                                https://github.com/000Justin000/GaussianMRF   \n",
       "000Justin000/ssl_edge                                                      https://github.com/000Justin000/ssl_edge   \n",
       "000Justin000/torchdiffeq                                                https://github.com/000Justin000/torchdiffeq   \n",
       "000c000l/oneShotLearningForSemanticSegmentation  https://github.com/000c000l/oneShotLearningForSemanticSegmentation   \n",
       "008karan/SincNet_demo                                                      https://github.com/008karan/SincNet_demo   \n",
       "...                                                                                                             ...   \n",
       "zzz2010/starganv2_paddle                                                https://github.com/zzz2010/starganv2_paddle   \n",
       "zzzace2000/FIDO-saliency                                                https://github.com/zzzace2000/FIDO-saliency   \n",
       "zzzace2000/autodiagnosis                                                https://github.com/zzzace2000/autodiagnosis   \n",
       "zzzace2000/dropout-feature-ranking                            https://github.com/zzzace2000/dropout-feature-ranking   \n",
       "zzzace2000/mimic-preprocess                                          https://github.com/zzzace2000/mimic-preprocess   \n",
       "\n",
       "                                                 mentioned_in_paper  \\\n",
       "repo                                                                  \n",
       "000Justin000/GaussianMRF                                       True   \n",
       "000Justin000/ssl_edge                                          True   \n",
       "000Justin000/torchdiffeq                                      False   \n",
       "000c000l/oneShotLearningForSemanticSegmentation               False   \n",
       "008karan/SincNet_demo                                         False   \n",
       "...                                                             ...   \n",
       "zzz2010/starganv2_paddle                                      False   \n",
       "zzzace2000/FIDO-saliency                                       True   \n",
       "zzzace2000/autodiagnosis                                       True   \n",
       "zzzace2000/dropout-feature-ranking                            False   \n",
       "zzzace2000/mimic-preprocess                                   False   \n",
       "\n",
       "                                                 mentioned_in_github  \\\n",
       "repo                                                                   \n",
       "000Justin000/GaussianMRF                                       False   \n",
       "000Justin000/ssl_edge                                           True   \n",
       "000Justin000/torchdiffeq                                        True   \n",
       "000c000l/oneShotLearningForSemanticSegmentation                 True   \n",
       "008karan/SincNet_demo                                           True   \n",
       "...                                                              ...   \n",
       "zzz2010/starganv2_paddle                                        True   \n",
       "zzzace2000/FIDO-saliency                                        True   \n",
       "zzzace2000/autodiagnosis                                        True   \n",
       "zzzace2000/dropout-feature-ranking                              True   \n",
       "zzzace2000/mimic-preprocess                                     True   \n",
       "\n",
       "                                                framework  \\\n",
       "repo                                                        \n",
       "000Justin000/GaussianMRF                             none   \n",
       "000Justin000/ssl_edge                                none   \n",
       "000Justin000/torchdiffeq                          pytorch   \n",
       "000c000l/oneShotLearningForSemanticSegmentation        tf   \n",
       "008karan/SincNet_demo                             pytorch   \n",
       "...                                                   ...   \n",
       "zzz2010/starganv2_paddle                          pytorch   \n",
       "zzzace2000/FIDO-saliency                          pytorch   \n",
       "zzzace2000/autodiagnosis                               tf   \n",
       "zzzace2000/dropout-feature-ranking                pytorch   \n",
       "zzzace2000/mimic-preprocess                          none   \n",
       "\n",
       "                                                                                            repo  \\\n",
       "repo                                                                                               \n",
       "000Justin000/GaussianMRF                                                000Justin000/GaussianMRF   \n",
       "000Justin000/ssl_edge                                                      000Justin000/ssl_edge   \n",
       "000Justin000/torchdiffeq                                                000Justin000/torchdiffeq   \n",
       "000c000l/oneShotLearningForSemanticSegmentation  000c000l/oneShotLearningForSemanticSegmentation   \n",
       "008karan/SincNet_demo                                                      008karan/SincNet_demo   \n",
       "...                                                                                          ...   \n",
       "zzz2010/starganv2_paddle                                                zzz2010/starganv2_paddle   \n",
       "zzzace2000/FIDO-saliency                                                zzzace2000/FIDO-saliency   \n",
       "zzzace2000/autodiagnosis                                                zzzace2000/autodiagnosis   \n",
       "zzzace2000/dropout-feature-ranking                            zzzace2000/dropout-feature-ranking   \n",
       "zzzace2000/mimic-preprocess                                          zzzace2000/mimic-preprocess   \n",
       "\n",
       "                                                                                                                                                              title  \\\n",
       "repo                                                                                                                                                                  \n",
       "000Justin000/GaussianMRF                         A Unifying Generative Model for Graph Learning Algorithms: Label Propagation, Graph Convolutions, and Combinations   \n",
       "000Justin000/ssl_edge                                                                                  Graph-based Semi-Supervised & Active Learning for Edge Flows   \n",
       "000Justin000/torchdiffeq                                                                                                     Neural Ordinary Differential Equations   \n",
       "000c000l/oneShotLearningForSemanticSegmentation                                                                                    One-Shot Segmentation in Clutter   \n",
       "008karan/SincNet_demo                                                                                            Speaker Recognition from Raw Waveform with SincNet   \n",
       "...                                                                                                                                                             ...   \n",
       "zzz2010/starganv2_paddle                                                                                   StarGAN v2: Diverse Image Synthesis for Multiple Domains   \n",
       "zzzace2000/FIDO-saliency                                                                                  Explaining Image Classifiers by Counterfactual Generation   \n",
       "zzzace2000/autodiagnosis                                                                         Dynamic Measurement Scheduling for Event Forecasting using Deep RL   \n",
       "zzzace2000/dropout-feature-ranking                                                                                 Dropout Feature Ranking for Deep Learning Models   \n",
       "zzzace2000/mimic-preprocess                                                                      Multitask learning and benchmarking with clinical time series data   \n",
       "\n",
       "                                                                                                                                                                                                                                                abstract  \\\n",
       "repo                                                                                                                                                                                                                                                       \n",
       "000Justin000/GaussianMRF                         Semi-supervised learning on graphs is a widely applicable problem in network science and machine learning. Two standard algorithms -- label propagation and graph neural networks -- both operate by...   \n",
       "000Justin000/ssl_edge                            We present a graph-based semi-supervised learning (SSL) method for learning edge flows defined on a graph. Specifically, given flow measurements on a subset of edges, we want to predict the flows ...   \n",
       "000Justin000/torchdiffeq                         We introduce a new family of deep neural network models. Instead of specifying a discrete sequence of hidden layers, we parameterize the derivative of the hidden state using a neural network. The ...   \n",
       "000c000l/oneShotLearningForSemanticSegmentation  We tackle the problem of one-shot segmentation: finding and segmenting a\\npreviously unseen object in a cluttered scene based on a single instruction\\nexample. We propose a novel dataset, which we...   \n",
       "008karan/SincNet_demo                            Deep learning is progressively gaining popularity as a viable alternative to i-vectors for speaker recognition. Promising results have been recently obtained with Convolutional Neural Networks (CN...   \n",
       "...                                                                                                                                                                                                                                                  ...   \n",
       "zzz2010/starganv2_paddle                         A good image-to-image translation model should learn a mapping between different visual domains while satisfying the following properties: 1) diversity of generated images and 2) scalability over ...   \n",
       "zzzace2000/FIDO-saliency                         When an image classifier makes a prediction, which parts of the image are\\nrelevant and why? We can rephrase this question to ask: which parts of the\\nimage, if they were not seen by the classifie...   \n",
       "zzzace2000/autodiagnosis                         Imagine a patient in critical condition. What and when should be measured to forecast detrimental events, especially under the budget constraints? We answer this question by deep reinforcement lea...   \n",
       "zzzace2000/dropout-feature-ranking               Deep neural networks (DNNs) achieve state-of-the-art results in a variety of\\ndomains. Unfortunately, DNNs are notorious for their non-interpretability, and\\nthus limit their applicability in hypo...   \n",
       "zzzace2000/mimic-preprocess                      Health care is one of the most exciting frontiers in data mining and machine learning. Successful adoption of electronic health records (EHRs) created an explosion in digital clinical data availab...   \n",
       "\n",
       "                                                                                                                                               tasks  \\\n",
       "repo                                                                                                                                                   \n",
       "000Justin000/GaussianMRF                                                                                                            [graph learning]   \n",
       "000Justin000/ssl_edge                                                                                                              [active learning]   \n",
       "000Justin000/torchdiffeq                         [latent variable models, multivariate time series forecasting, multivariate time series imputation]   \n",
       "000c000l/oneShotLearningForSemanticSegmentation                                                                                           [omniglot]   \n",
       "008karan/SincNet_demo                                                            [speaker identification, speaker recognition, speaker verification]   \n",
       "...                                                                                                                                              ...   \n",
       "zzz2010/starganv2_paddle                                                                              [image generation, image to image translation]   \n",
       "zzzace2000/FIDO-saliency                                                                                                      [image classification]   \n",
       "zzzace2000/autodiagnosis                                                                                                      [mortality prediction]   \n",
       "zzzace2000/dropout-feature-ranking                                                                                                     [time series]   \n",
       "zzzace2000/mimic-preprocess                                [computational phenotyping, length of stay prediction, mortality prediction, time series]   \n",
       "\n",
       "                                                         least_common_task  \n",
       "repo                                                                        \n",
       "000Justin000/GaussianMRF                                    graph learning  \n",
       "000Justin000/ssl_edge                                      active learning  \n",
       "000Justin000/torchdiffeq                            latent variable models  \n",
       "000c000l/oneShotLearningForSemanticSegmentation                   omniglot  \n",
       "008karan/SincNet_demo                               speaker identification  \n",
       "...                                                                    ...  \n",
       "zzz2010/starganv2_paddle                                  image generation  \n",
       "zzzace2000/FIDO-saliency                              image classification  \n",
       "zzzace2000/autodiagnosis                              mortality prediction  \n",
       "zzzace2000/dropout-feature-ranking                             time series  \n",
       "zzzace2000/mimic-preprocess                      computational phenotyping  \n",
       "\n",
       "[43203 rows x 14 columns]"
      ]
     },
     "execution_count": 17,
     "metadata": {},
     "output_type": "execute_result"
    }
   ],
   "source": [
    "paperswithcode_with_tasks_df"
   ]
  },
  {
   "cell_type": "code",
   "execution_count": 18,
   "metadata": {},
   "outputs": [],
   "source": [
    "least_common_task_counts = paperswithcode_with_tasks_df[\n",
    "    \"least_common_task\"\n",
    "].value_counts()"
   ]
  },
  {
   "cell_type": "code",
   "execution_count": 19,
   "metadata": {},
   "outputs": [],
   "source": [
    "selected_least_common_tasks = least_common_task_counts[least_common_task_counts > 4]"
   ]
  },
  {
   "cell_type": "code",
   "execution_count": null,
   "metadata": {},
   "outputs": [],
   "source": []
  },
  {
   "cell_type": "code",
   "execution_count": 21,
   "metadata": {},
   "outputs": [
    {
     "data": {
      "text/plain": [
       "(43009, 14)"
      ]
     },
     "execution_count": 21,
     "metadata": {},
     "output_type": "execute_result"
    }
   ],
   "source": [
    "paperswithcode_with_tasks_df[\n",
    "    paperswithcode_with_tasks_df[\"least_common_task\"].isin(\n",
    "        selected_least_common_tasks.index\n",
    "    )\n",
    "].shape"
   ]
  },
  {
   "cell_type": "code",
   "execution_count": 31,
   "metadata": {},
   "outputs": [],
   "source": [
    "paperswithcode_with_tasks_df.reset_index(drop=True).to_csv(\n",
    "    \"data/paperswithcode_with_tasks.csv\"\n",
    ")"
   ]
  },
  {
   "cell_type": "code",
   "execution_count": 32,
   "metadata": {},
   "outputs": [
    {
     "data": {
      "text/html": [
       "<div>\n",
       "<style scoped>\n",
       "    .dataframe tbody tr th:only-of-type {\n",
       "        vertical-align: middle;\n",
       "    }\n",
       "\n",
       "    .dataframe tbody tr th {\n",
       "        vertical-align: top;\n",
       "    }\n",
       "\n",
       "    .dataframe thead th {\n",
       "        text-align: right;\n",
       "    }\n",
       "</style>\n",
       "<table border=\"1\" class=\"dataframe\">\n",
       "  <thead>\n",
       "    <tr style=\"text-align: right;\">\n",
       "      <th></th>\n",
       "      <th>paper_url</th>\n",
       "      <th>paper_title</th>\n",
       "      <th>paper_arxiv_id</th>\n",
       "      <th>paper_url_abs</th>\n",
       "      <th>paper_url_pdf</th>\n",
       "      <th>repo_url</th>\n",
       "      <th>mentioned_in_paper</th>\n",
       "      <th>mentioned_in_github</th>\n",
       "      <th>framework</th>\n",
       "      <th>repo</th>\n",
       "      <th>title</th>\n",
       "      <th>abstract</th>\n",
       "      <th>tasks</th>\n",
       "      <th>least_common_task</th>\n",
       "    </tr>\n",
       "    <tr>\n",
       "      <th>repo</th>\n",
       "      <th></th>\n",
       "      <th></th>\n",
       "      <th></th>\n",
       "      <th></th>\n",
       "      <th></th>\n",
       "      <th></th>\n",
       "      <th></th>\n",
       "      <th></th>\n",
       "      <th></th>\n",
       "      <th></th>\n",
       "      <th></th>\n",
       "      <th></th>\n",
       "      <th></th>\n",
       "      <th></th>\n",
       "    </tr>\n",
       "  </thead>\n",
       "  <tbody>\n",
       "    <tr>\n",
       "      <th>000Justin000/GaussianMRF</th>\n",
       "      <td>https://paperswithcode.com/paper/a-unifying-generative-model-for-graph</td>\n",
       "      <td>A Unifying Generative Model for Graph Learning Algorithms: Label Propagation, Graph Convolutions, and Combinations</td>\n",
       "      <td>2101.07730</td>\n",
       "      <td>https://arxiv.org/abs/2101.07730v2</td>\n",
       "      <td>https://arxiv.org/pdf/2101.07730v2.pdf</td>\n",
       "      <td>https://github.com/000Justin000/GaussianMRF</td>\n",
       "      <td>True</td>\n",
       "      <td>False</td>\n",
       "      <td>none</td>\n",
       "      <td>000Justin000/GaussianMRF</td>\n",
       "      <td>A Unifying Generative Model for Graph Learning Algorithms: Label Propagation, Graph Convolutions, and Combinations</td>\n",
       "      <td>Semi-supervised learning on graphs is a widely applicable problem in network science and machine learning. Two standard algorithms -- label propagation and graph neural networks -- both operate by...</td>\n",
       "      <td>[graph learning]</td>\n",
       "      <td>graph learning</td>\n",
       "    </tr>\n",
       "    <tr>\n",
       "      <th>000Justin000/ssl_edge</th>\n",
       "      <td>https://paperswithcode.com/paper/graph-based-semi-supervised-active-learning</td>\n",
       "      <td>Graph-based Semi-Supervised &amp; Active Learning for Edge Flows</td>\n",
       "      <td>1905.07451</td>\n",
       "      <td>https://arxiv.org/abs/1905.07451v1</td>\n",
       "      <td>https://arxiv.org/pdf/1905.07451v1.pdf</td>\n",
       "      <td>https://github.com/000Justin000/ssl_edge</td>\n",
       "      <td>True</td>\n",
       "      <td>True</td>\n",
       "      <td>none</td>\n",
       "      <td>000Justin000/ssl_edge</td>\n",
       "      <td>Graph-based Semi-Supervised &amp; Active Learning for Edge Flows</td>\n",
       "      <td>We present a graph-based semi-supervised learning (SSL) method for learning edge flows defined on a graph. Specifically, given flow measurements on a subset of edges, we want to predict the flows ...</td>\n",
       "      <td>[active learning]</td>\n",
       "      <td>active learning</td>\n",
       "    </tr>\n",
       "    <tr>\n",
       "      <th>000Justin000/torchdiffeq</th>\n",
       "      <td>https://paperswithcode.com/paper/neural-ordinary-differential-equations</td>\n",
       "      <td>Neural Ordinary Differential Equations</td>\n",
       "      <td>1806.07366</td>\n",
       "      <td>https://arxiv.org/abs/1806.07366v5</td>\n",
       "      <td>https://arxiv.org/pdf/1806.07366v5.pdf</td>\n",
       "      <td>https://github.com/000Justin000/torchdiffeq</td>\n",
       "      <td>False</td>\n",
       "      <td>True</td>\n",
       "      <td>pytorch</td>\n",
       "      <td>000Justin000/torchdiffeq</td>\n",
       "      <td>Neural Ordinary Differential Equations</td>\n",
       "      <td>We introduce a new family of deep neural network models. Instead of specifying a discrete sequence of hidden layers, we parameterize the derivative of the hidden state using a neural network. The ...</td>\n",
       "      <td>[latent variable models, multivariate time series forecasting, multivariate time series imputation]</td>\n",
       "      <td>latent variable models</td>\n",
       "    </tr>\n",
       "    <tr>\n",
       "      <th>000c000l/oneShotLearningForSemanticSegmentation</th>\n",
       "      <td>https://paperswithcode.com/paper/one-shot-segmentation-in-clutter</td>\n",
       "      <td>One-Shot Segmentation in Clutter</td>\n",
       "      <td>1803.09597</td>\n",
       "      <td>http://arxiv.org/abs/1803.09597v2</td>\n",
       "      <td>http://arxiv.org/pdf/1803.09597v2.pdf</td>\n",
       "      <td>https://github.com/000c000l/oneShotLearningForSemanticSegmentation</td>\n",
       "      <td>False</td>\n",
       "      <td>True</td>\n",
       "      <td>tf</td>\n",
       "      <td>000c000l/oneShotLearningForSemanticSegmentation</td>\n",
       "      <td>One-Shot Segmentation in Clutter</td>\n",
       "      <td>We tackle the problem of one-shot segmentation: finding and segmenting a\\npreviously unseen object in a cluttered scene based on a single instruction\\nexample. We propose a novel dataset, which we...</td>\n",
       "      <td>[omniglot]</td>\n",
       "      <td>omniglot</td>\n",
       "    </tr>\n",
       "    <tr>\n",
       "      <th>008karan/SincNet_demo</th>\n",
       "      <td>https://paperswithcode.com/paper/speaker-recognition-from-raw-waveform-with</td>\n",
       "      <td>Speaker Recognition from Raw Waveform with SincNet</td>\n",
       "      <td>1808.00158</td>\n",
       "      <td>https://arxiv.org/abs/1808.00158v3</td>\n",
       "      <td>https://arxiv.org/pdf/1808.00158v3.pdf</td>\n",
       "      <td>https://github.com/008karan/SincNet_demo</td>\n",
       "      <td>False</td>\n",
       "      <td>True</td>\n",
       "      <td>pytorch</td>\n",
       "      <td>008karan/SincNet_demo</td>\n",
       "      <td>Speaker Recognition from Raw Waveform with SincNet</td>\n",
       "      <td>Deep learning is progressively gaining popularity as a viable alternative to i-vectors for speaker recognition. Promising results have been recently obtained with Convolutional Neural Networks (CN...</td>\n",
       "      <td>[speaker identification, speaker recognition, speaker verification]</td>\n",
       "      <td>speaker identification</td>\n",
       "    </tr>\n",
       "    <tr>\n",
       "      <th>...</th>\n",
       "      <td>...</td>\n",
       "      <td>...</td>\n",
       "      <td>...</td>\n",
       "      <td>...</td>\n",
       "      <td>...</td>\n",
       "      <td>...</td>\n",
       "      <td>...</td>\n",
       "      <td>...</td>\n",
       "      <td>...</td>\n",
       "      <td>...</td>\n",
       "      <td>...</td>\n",
       "      <td>...</td>\n",
       "      <td>...</td>\n",
       "      <td>...</td>\n",
       "    </tr>\n",
       "    <tr>\n",
       "      <th>zzz2010/starganv2_paddle</th>\n",
       "      <td>https://paperswithcode.com/paper/stargan-v2-diverse-image-synthesis-for</td>\n",
       "      <td>StarGAN v2: Diverse Image Synthesis for Multiple Domains</td>\n",
       "      <td>1912.01865</td>\n",
       "      <td>https://arxiv.org/abs/1912.01865v2</td>\n",
       "      <td>https://arxiv.org/pdf/1912.01865v2.pdf</td>\n",
       "      <td>https://github.com/zzz2010/starganv2_paddle</td>\n",
       "      <td>False</td>\n",
       "      <td>True</td>\n",
       "      <td>pytorch</td>\n",
       "      <td>zzz2010/starganv2_paddle</td>\n",
       "      <td>StarGAN v2: Diverse Image Synthesis for Multiple Domains</td>\n",
       "      <td>A good image-to-image translation model should learn a mapping between different visual domains while satisfying the following properties: 1) diversity of generated images and 2) scalability over ...</td>\n",
       "      <td>[image generation, image to image translation]</td>\n",
       "      <td>image generation</td>\n",
       "    </tr>\n",
       "    <tr>\n",
       "      <th>zzzace2000/FIDO-saliency</th>\n",
       "      <td>https://paperswithcode.com/paper/explaining-image-classifiers-by</td>\n",
       "      <td>Explaining Image Classifiers by Counterfactual Generation</td>\n",
       "      <td>1807.08024</td>\n",
       "      <td>http://arxiv.org/abs/1807.08024v3</td>\n",
       "      <td>http://arxiv.org/pdf/1807.08024v3.pdf</td>\n",
       "      <td>https://github.com/zzzace2000/FIDO-saliency</td>\n",
       "      <td>True</td>\n",
       "      <td>True</td>\n",
       "      <td>pytorch</td>\n",
       "      <td>zzzace2000/FIDO-saliency</td>\n",
       "      <td>Explaining Image Classifiers by Counterfactual Generation</td>\n",
       "      <td>When an image classifier makes a prediction, which parts of the image are\\nrelevant and why? We can rephrase this question to ask: which parts of the\\nimage, if they were not seen by the classifie...</td>\n",
       "      <td>[image classification]</td>\n",
       "      <td>image classification</td>\n",
       "    </tr>\n",
       "    <tr>\n",
       "      <th>zzzace2000/autodiagnosis</th>\n",
       "      <td>https://paperswithcode.com/paper/dynamic-measurement-scheduling-for-event</td>\n",
       "      <td>Dynamic Measurement Scheduling for Event Forecasting using Deep RL</td>\n",
       "      <td>1901.09699</td>\n",
       "      <td>https://arxiv.org/abs/1901.09699v3</td>\n",
       "      <td>https://arxiv.org/pdf/1901.09699v3.pdf</td>\n",
       "      <td>https://github.com/zzzace2000/autodiagnosis</td>\n",
       "      <td>True</td>\n",
       "      <td>True</td>\n",
       "      <td>tf</td>\n",
       "      <td>zzzace2000/autodiagnosis</td>\n",
       "      <td>Dynamic Measurement Scheduling for Event Forecasting using Deep RL</td>\n",
       "      <td>Imagine a patient in critical condition. What and when should be measured to forecast detrimental events, especially under the budget constraints? We answer this question by deep reinforcement lea...</td>\n",
       "      <td>[mortality prediction]</td>\n",
       "      <td>mortality prediction</td>\n",
       "    </tr>\n",
       "    <tr>\n",
       "      <th>zzzace2000/dropout-feature-ranking</th>\n",
       "      <td>https://paperswithcode.com/paper/dropout-feature-ranking-for-deep-learning</td>\n",
       "      <td>Dropout Feature Ranking for Deep Learning Models</td>\n",
       "      <td>1712.08645</td>\n",
       "      <td>http://arxiv.org/abs/1712.08645v2</td>\n",
       "      <td>http://arxiv.org/pdf/1712.08645v2.pdf</td>\n",
       "      <td>https://github.com/zzzace2000/dropout-feature-ranking</td>\n",
       "      <td>False</td>\n",
       "      <td>True</td>\n",
       "      <td>pytorch</td>\n",
       "      <td>zzzace2000/dropout-feature-ranking</td>\n",
       "      <td>Dropout Feature Ranking for Deep Learning Models</td>\n",
       "      <td>Deep neural networks (DNNs) achieve state-of-the-art results in a variety of\\ndomains. Unfortunately, DNNs are notorious for their non-interpretability, and\\nthus limit their applicability in hypo...</td>\n",
       "      <td>[time series]</td>\n",
       "      <td>time series</td>\n",
       "    </tr>\n",
       "    <tr>\n",
       "      <th>zzzace2000/mimic-preprocess</th>\n",
       "      <td>https://paperswithcode.com/paper/multitask-learning-and-benchmarking-with</td>\n",
       "      <td>Multitask learning and benchmarking with clinical time series data</td>\n",
       "      <td>1703.07771</td>\n",
       "      <td>https://arxiv.org/abs/1703.07771v3</td>\n",
       "      <td>https://arxiv.org/pdf/1703.07771v3.pdf</td>\n",
       "      <td>https://github.com/zzzace2000/mimic-preprocess</td>\n",
       "      <td>False</td>\n",
       "      <td>True</td>\n",
       "      <td>none</td>\n",
       "      <td>zzzace2000/mimic-preprocess</td>\n",
       "      <td>Multitask learning and benchmarking with clinical time series data</td>\n",
       "      <td>Health care is one of the most exciting frontiers in data mining and machine learning. Successful adoption of electronic health records (EHRs) created an explosion in digital clinical data availab...</td>\n",
       "      <td>[computational phenotyping, length of stay prediction, mortality prediction, time series]</td>\n",
       "      <td>computational phenotyping</td>\n",
       "    </tr>\n",
       "  </tbody>\n",
       "</table>\n",
       "<p>43203 rows × 14 columns</p>\n",
       "</div>"
      ],
      "text/plain": [
       "                                                                                                                    paper_url  \\\n",
       "repo                                                                                                                            \n",
       "000Justin000/GaussianMRF                               https://paperswithcode.com/paper/a-unifying-generative-model-for-graph   \n",
       "000Justin000/ssl_edge                            https://paperswithcode.com/paper/graph-based-semi-supervised-active-learning   \n",
       "000Justin000/torchdiffeq                              https://paperswithcode.com/paper/neural-ordinary-differential-equations   \n",
       "000c000l/oneShotLearningForSemanticSegmentation             https://paperswithcode.com/paper/one-shot-segmentation-in-clutter   \n",
       "008karan/SincNet_demo                             https://paperswithcode.com/paper/speaker-recognition-from-raw-waveform-with   \n",
       "...                                                                                                                       ...   \n",
       "zzz2010/starganv2_paddle                              https://paperswithcode.com/paper/stargan-v2-diverse-image-synthesis-for   \n",
       "zzzace2000/FIDO-saliency                                     https://paperswithcode.com/paper/explaining-image-classifiers-by   \n",
       "zzzace2000/autodiagnosis                            https://paperswithcode.com/paper/dynamic-measurement-scheduling-for-event   \n",
       "zzzace2000/dropout-feature-ranking                 https://paperswithcode.com/paper/dropout-feature-ranking-for-deep-learning   \n",
       "zzzace2000/mimic-preprocess                         https://paperswithcode.com/paper/multitask-learning-and-benchmarking-with   \n",
       "\n",
       "                                                                                                                                                        paper_title  \\\n",
       "repo                                                                                                                                                                  \n",
       "000Justin000/GaussianMRF                         A Unifying Generative Model for Graph Learning Algorithms: Label Propagation, Graph Convolutions, and Combinations   \n",
       "000Justin000/ssl_edge                                                                                  Graph-based Semi-Supervised & Active Learning for Edge Flows   \n",
       "000Justin000/torchdiffeq                                                                                                     Neural Ordinary Differential Equations   \n",
       "000c000l/oneShotLearningForSemanticSegmentation                                                                                    One-Shot Segmentation in Clutter   \n",
       "008karan/SincNet_demo                                                                                            Speaker Recognition from Raw Waveform with SincNet   \n",
       "...                                                                                                                                                             ...   \n",
       "zzz2010/starganv2_paddle                                                                                   StarGAN v2: Diverse Image Synthesis for Multiple Domains   \n",
       "zzzace2000/FIDO-saliency                                                                                  Explaining Image Classifiers by Counterfactual Generation   \n",
       "zzzace2000/autodiagnosis                                                                         Dynamic Measurement Scheduling for Event Forecasting using Deep RL   \n",
       "zzzace2000/dropout-feature-ranking                                                                                 Dropout Feature Ranking for Deep Learning Models   \n",
       "zzzace2000/mimic-preprocess                                                                      Multitask learning and benchmarking with clinical time series data   \n",
       "\n",
       "                                                paper_arxiv_id  \\\n",
       "repo                                                             \n",
       "000Justin000/GaussianMRF                            2101.07730   \n",
       "000Justin000/ssl_edge                               1905.07451   \n",
       "000Justin000/torchdiffeq                            1806.07366   \n",
       "000c000l/oneShotLearningForSemanticSegmentation     1803.09597   \n",
       "008karan/SincNet_demo                               1808.00158   \n",
       "...                                                        ...   \n",
       "zzz2010/starganv2_paddle                            1912.01865   \n",
       "zzzace2000/FIDO-saliency                            1807.08024   \n",
       "zzzace2000/autodiagnosis                            1901.09699   \n",
       "zzzace2000/dropout-feature-ranking                  1712.08645   \n",
       "zzzace2000/mimic-preprocess                         1703.07771   \n",
       "\n",
       "                                                                      paper_url_abs  \\\n",
       "repo                                                                                  \n",
       "000Justin000/GaussianMRF                         https://arxiv.org/abs/2101.07730v2   \n",
       "000Justin000/ssl_edge                            https://arxiv.org/abs/1905.07451v1   \n",
       "000Justin000/torchdiffeq                         https://arxiv.org/abs/1806.07366v5   \n",
       "000c000l/oneShotLearningForSemanticSegmentation   http://arxiv.org/abs/1803.09597v2   \n",
       "008karan/SincNet_demo                            https://arxiv.org/abs/1808.00158v3   \n",
       "...                                                                             ...   \n",
       "zzz2010/starganv2_paddle                         https://arxiv.org/abs/1912.01865v2   \n",
       "zzzace2000/FIDO-saliency                          http://arxiv.org/abs/1807.08024v3   \n",
       "zzzace2000/autodiagnosis                         https://arxiv.org/abs/1901.09699v3   \n",
       "zzzace2000/dropout-feature-ranking                http://arxiv.org/abs/1712.08645v2   \n",
       "zzzace2000/mimic-preprocess                      https://arxiv.org/abs/1703.07771v3   \n",
       "\n",
       "                                                                          paper_url_pdf  \\\n",
       "repo                                                                                      \n",
       "000Justin000/GaussianMRF                         https://arxiv.org/pdf/2101.07730v2.pdf   \n",
       "000Justin000/ssl_edge                            https://arxiv.org/pdf/1905.07451v1.pdf   \n",
       "000Justin000/torchdiffeq                         https://arxiv.org/pdf/1806.07366v5.pdf   \n",
       "000c000l/oneShotLearningForSemanticSegmentation   http://arxiv.org/pdf/1803.09597v2.pdf   \n",
       "008karan/SincNet_demo                            https://arxiv.org/pdf/1808.00158v3.pdf   \n",
       "...                                                                                 ...   \n",
       "zzz2010/starganv2_paddle                         https://arxiv.org/pdf/1912.01865v2.pdf   \n",
       "zzzace2000/FIDO-saliency                          http://arxiv.org/pdf/1807.08024v3.pdf   \n",
       "zzzace2000/autodiagnosis                         https://arxiv.org/pdf/1901.09699v3.pdf   \n",
       "zzzace2000/dropout-feature-ranking                http://arxiv.org/pdf/1712.08645v2.pdf   \n",
       "zzzace2000/mimic-preprocess                      https://arxiv.org/pdf/1703.07771v3.pdf   \n",
       "\n",
       "                                                                                                           repo_url  \\\n",
       "repo                                                                                                                  \n",
       "000Justin000/GaussianMRF                                                https://github.com/000Justin000/GaussianMRF   \n",
       "000Justin000/ssl_edge                                                      https://github.com/000Justin000/ssl_edge   \n",
       "000Justin000/torchdiffeq                                                https://github.com/000Justin000/torchdiffeq   \n",
       "000c000l/oneShotLearningForSemanticSegmentation  https://github.com/000c000l/oneShotLearningForSemanticSegmentation   \n",
       "008karan/SincNet_demo                                                      https://github.com/008karan/SincNet_demo   \n",
       "...                                                                                                             ...   \n",
       "zzz2010/starganv2_paddle                                                https://github.com/zzz2010/starganv2_paddle   \n",
       "zzzace2000/FIDO-saliency                                                https://github.com/zzzace2000/FIDO-saliency   \n",
       "zzzace2000/autodiagnosis                                                https://github.com/zzzace2000/autodiagnosis   \n",
       "zzzace2000/dropout-feature-ranking                            https://github.com/zzzace2000/dropout-feature-ranking   \n",
       "zzzace2000/mimic-preprocess                                          https://github.com/zzzace2000/mimic-preprocess   \n",
       "\n",
       "                                                 mentioned_in_paper  \\\n",
       "repo                                                                  \n",
       "000Justin000/GaussianMRF                                       True   \n",
       "000Justin000/ssl_edge                                          True   \n",
       "000Justin000/torchdiffeq                                      False   \n",
       "000c000l/oneShotLearningForSemanticSegmentation               False   \n",
       "008karan/SincNet_demo                                         False   \n",
       "...                                                             ...   \n",
       "zzz2010/starganv2_paddle                                      False   \n",
       "zzzace2000/FIDO-saliency                                       True   \n",
       "zzzace2000/autodiagnosis                                       True   \n",
       "zzzace2000/dropout-feature-ranking                            False   \n",
       "zzzace2000/mimic-preprocess                                   False   \n",
       "\n",
       "                                                 mentioned_in_github  \\\n",
       "repo                                                                   \n",
       "000Justin000/GaussianMRF                                       False   \n",
       "000Justin000/ssl_edge                                           True   \n",
       "000Justin000/torchdiffeq                                        True   \n",
       "000c000l/oneShotLearningForSemanticSegmentation                 True   \n",
       "008karan/SincNet_demo                                           True   \n",
       "...                                                              ...   \n",
       "zzz2010/starganv2_paddle                                        True   \n",
       "zzzace2000/FIDO-saliency                                        True   \n",
       "zzzace2000/autodiagnosis                                        True   \n",
       "zzzace2000/dropout-feature-ranking                              True   \n",
       "zzzace2000/mimic-preprocess                                     True   \n",
       "\n",
       "                                                framework  \\\n",
       "repo                                                        \n",
       "000Justin000/GaussianMRF                             none   \n",
       "000Justin000/ssl_edge                                none   \n",
       "000Justin000/torchdiffeq                          pytorch   \n",
       "000c000l/oneShotLearningForSemanticSegmentation        tf   \n",
       "008karan/SincNet_demo                             pytorch   \n",
       "...                                                   ...   \n",
       "zzz2010/starganv2_paddle                          pytorch   \n",
       "zzzace2000/FIDO-saliency                          pytorch   \n",
       "zzzace2000/autodiagnosis                               tf   \n",
       "zzzace2000/dropout-feature-ranking                pytorch   \n",
       "zzzace2000/mimic-preprocess                          none   \n",
       "\n",
       "                                                                                            repo  \\\n",
       "repo                                                                                               \n",
       "000Justin000/GaussianMRF                                                000Justin000/GaussianMRF   \n",
       "000Justin000/ssl_edge                                                      000Justin000/ssl_edge   \n",
       "000Justin000/torchdiffeq                                                000Justin000/torchdiffeq   \n",
       "000c000l/oneShotLearningForSemanticSegmentation  000c000l/oneShotLearningForSemanticSegmentation   \n",
       "008karan/SincNet_demo                                                      008karan/SincNet_demo   \n",
       "...                                                                                          ...   \n",
       "zzz2010/starganv2_paddle                                                zzz2010/starganv2_paddle   \n",
       "zzzace2000/FIDO-saliency                                                zzzace2000/FIDO-saliency   \n",
       "zzzace2000/autodiagnosis                                                zzzace2000/autodiagnosis   \n",
       "zzzace2000/dropout-feature-ranking                            zzzace2000/dropout-feature-ranking   \n",
       "zzzace2000/mimic-preprocess                                          zzzace2000/mimic-preprocess   \n",
       "\n",
       "                                                                                                                                                              title  \\\n",
       "repo                                                                                                                                                                  \n",
       "000Justin000/GaussianMRF                         A Unifying Generative Model for Graph Learning Algorithms: Label Propagation, Graph Convolutions, and Combinations   \n",
       "000Justin000/ssl_edge                                                                                  Graph-based Semi-Supervised & Active Learning for Edge Flows   \n",
       "000Justin000/torchdiffeq                                                                                                     Neural Ordinary Differential Equations   \n",
       "000c000l/oneShotLearningForSemanticSegmentation                                                                                    One-Shot Segmentation in Clutter   \n",
       "008karan/SincNet_demo                                                                                            Speaker Recognition from Raw Waveform with SincNet   \n",
       "...                                                                                                                                                             ...   \n",
       "zzz2010/starganv2_paddle                                                                                   StarGAN v2: Diverse Image Synthesis for Multiple Domains   \n",
       "zzzace2000/FIDO-saliency                                                                                  Explaining Image Classifiers by Counterfactual Generation   \n",
       "zzzace2000/autodiagnosis                                                                         Dynamic Measurement Scheduling for Event Forecasting using Deep RL   \n",
       "zzzace2000/dropout-feature-ranking                                                                                 Dropout Feature Ranking for Deep Learning Models   \n",
       "zzzace2000/mimic-preprocess                                                                      Multitask learning and benchmarking with clinical time series data   \n",
       "\n",
       "                                                                                                                                                                                                                                                abstract  \\\n",
       "repo                                                                                                                                                                                                                                                       \n",
       "000Justin000/GaussianMRF                         Semi-supervised learning on graphs is a widely applicable problem in network science and machine learning. Two standard algorithms -- label propagation and graph neural networks -- both operate by...   \n",
       "000Justin000/ssl_edge                            We present a graph-based semi-supervised learning (SSL) method for learning edge flows defined on a graph. Specifically, given flow measurements on a subset of edges, we want to predict the flows ...   \n",
       "000Justin000/torchdiffeq                         We introduce a new family of deep neural network models. Instead of specifying a discrete sequence of hidden layers, we parameterize the derivative of the hidden state using a neural network. The ...   \n",
       "000c000l/oneShotLearningForSemanticSegmentation  We tackle the problem of one-shot segmentation: finding and segmenting a\\npreviously unseen object in a cluttered scene based on a single instruction\\nexample. We propose a novel dataset, which we...   \n",
       "008karan/SincNet_demo                            Deep learning is progressively gaining popularity as a viable alternative to i-vectors for speaker recognition. Promising results have been recently obtained with Convolutional Neural Networks (CN...   \n",
       "...                                                                                                                                                                                                                                                  ...   \n",
       "zzz2010/starganv2_paddle                         A good image-to-image translation model should learn a mapping between different visual domains while satisfying the following properties: 1) diversity of generated images and 2) scalability over ...   \n",
       "zzzace2000/FIDO-saliency                         When an image classifier makes a prediction, which parts of the image are\\nrelevant and why? We can rephrase this question to ask: which parts of the\\nimage, if they were not seen by the classifie...   \n",
       "zzzace2000/autodiagnosis                         Imagine a patient in critical condition. What and when should be measured to forecast detrimental events, especially under the budget constraints? We answer this question by deep reinforcement lea...   \n",
       "zzzace2000/dropout-feature-ranking               Deep neural networks (DNNs) achieve state-of-the-art results in a variety of\\ndomains. Unfortunately, DNNs are notorious for their non-interpretability, and\\nthus limit their applicability in hypo...   \n",
       "zzzace2000/mimic-preprocess                      Health care is one of the most exciting frontiers in data mining and machine learning. Successful adoption of electronic health records (EHRs) created an explosion in digital clinical data availab...   \n",
       "\n",
       "                                                                                                                                               tasks  \\\n",
       "repo                                                                                                                                                   \n",
       "000Justin000/GaussianMRF                                                                                                            [graph learning]   \n",
       "000Justin000/ssl_edge                                                                                                              [active learning]   \n",
       "000Justin000/torchdiffeq                         [latent variable models, multivariate time series forecasting, multivariate time series imputation]   \n",
       "000c000l/oneShotLearningForSemanticSegmentation                                                                                           [omniglot]   \n",
       "008karan/SincNet_demo                                                            [speaker identification, speaker recognition, speaker verification]   \n",
       "...                                                                                                                                              ...   \n",
       "zzz2010/starganv2_paddle                                                                              [image generation, image to image translation]   \n",
       "zzzace2000/FIDO-saliency                                                                                                      [image classification]   \n",
       "zzzace2000/autodiagnosis                                                                                                      [mortality prediction]   \n",
       "zzzace2000/dropout-feature-ranking                                                                                                     [time series]   \n",
       "zzzace2000/mimic-preprocess                                [computational phenotyping, length of stay prediction, mortality prediction, time series]   \n",
       "\n",
       "                                                         least_common_task  \n",
       "repo                                                                        \n",
       "000Justin000/GaussianMRF                                    graph learning  \n",
       "000Justin000/ssl_edge                                      active learning  \n",
       "000Justin000/torchdiffeq                            latent variable models  \n",
       "000c000l/oneShotLearningForSemanticSegmentation                   omniglot  \n",
       "008karan/SincNet_demo                               speaker identification  \n",
       "...                                                                    ...  \n",
       "zzz2010/starganv2_paddle                                  image generation  \n",
       "zzzace2000/FIDO-saliency                              image classification  \n",
       "zzzace2000/autodiagnosis                              mortality prediction  \n",
       "zzzace2000/dropout-feature-ranking                             time series  \n",
       "zzzace2000/mimic-preprocess                      computational phenotyping  \n",
       "\n",
       "[43203 rows x 14 columns]"
      ]
     },
     "execution_count": 32,
     "metadata": {},
     "output_type": "execute_result"
    }
   ],
   "source": [
    "paperswithcode_with_tasks_df"
   ]
  },
  {
   "cell_type": "code",
   "execution_count": 33,
   "metadata": {},
   "outputs": [
    {
     "data": {
      "text/plain": [
       "image classification                    2301\n",
       "object detection                        1268\n",
       "language modelling                      1025\n",
       "domain adaptation                        958\n",
       "data augmentation                        822\n",
       "                                        ... \n",
       "few shot regression                        1\n",
       "medical image generation                   1\n",
       "unsupervised representation learning       1\n",
       "multi future trajectory prediction         1\n",
       "video semantic segmentation                1\n",
       "Name: least_common_task, Length: 657, dtype: int64"
      ]
     },
     "execution_count": 33,
     "metadata": {},
     "output_type": "execute_result"
    }
   ],
   "source": [
    "paperswithcode_with_tasks_df[\"least_common_task\"].value_counts()"
   ]
  },
  {
   "cell_type": "code",
   "execution_count": 34,
   "metadata": {},
   "outputs": [
    {
     "data": {
      "text/plain": [
       "1     17664\n",
       "2     12918\n",
       "3      6709\n",
       "4      2860\n",
       "5      1103\n",
       "9       592\n",
       "6       424\n",
       "8       373\n",
       "11      342\n",
       "7       184\n",
       "10       17\n",
       "13       13\n",
       "14        4\n",
       "Name: tasks, dtype: int64"
      ]
     },
     "execution_count": 34,
     "metadata": {},
     "output_type": "execute_result"
    }
   ],
   "source": [
    "paperswithcode_with_tasks_df[\"tasks\"].apply(len).value_counts()"
   ]
  },
  {
   "cell_type": "code",
   "execution_count": 35,
   "metadata": {},
   "outputs": [],
   "source": [
    "papers_with_tasks_df = all_papers_df[all_papers_df[\"tasks\"].apply(len) > 0]"
   ]
  },
  {
   "cell_type": "code",
   "execution_count": 36,
   "metadata": {},
   "outputs": [
    {
     "data": {
      "text/plain": [
       "(113837, 12)"
      ]
     },
     "execution_count": 36,
     "metadata": {},
     "output_type": "execute_result"
    }
   ],
   "source": [
    "papers_with_tasks_df.shape"
   ]
  },
  {
   "cell_type": "code",
   "execution_count": 37,
   "metadata": {},
   "outputs": [
    {
     "data": {
      "text/plain": [
       "0                                                 [Interpretable Machine Learning]\n",
       "1                                                [Motion Capture, Pose Estimation]\n",
       "2                                                                               []\n",
       "3                                           [Continuous Control, Robot Navigation]\n",
       "4                                                     [Neural Architecture Search]\n",
       "                                            ...                                   \n",
       "199574                                                                          []\n",
       "199575                                                                          []\n",
       "199576                                  [Patch Matching, Person Re-Identification]\n",
       "199577                                                                          []\n",
       "199578    [Document Classification, Part-Of-Speech Tagging, Structured Prediction]\n",
       "Name: tasks, Length: 199579, dtype: object"
      ]
     },
     "execution_count": 37,
     "metadata": {},
     "output_type": "execute_result"
    }
   ],
   "source": [
    "all_papers_df[\"tasks\"]"
   ]
  },
  {
   "cell_type": "code",
   "execution_count": 38,
   "metadata": {},
   "outputs": [
    {
     "name": "stderr",
     "output_type": "stream",
     "text": [
      "<ipython-input-38-3a29d061e0c0>:1: FutureWarning: The default value of regex will change from True to False in a future version.\n",
      "  paperswithcode_df[\"repo\"] = paperswithcode_df[\"repo_url\"].str.replace(\n"
     ]
    }
   ],
   "source": [
    "paperswithcode_df[\"repo\"] = paperswithcode_df[\"repo_url\"].str.replace(\n",
    "    \"https://github.com/\", \"\"\n",
    ")"
   ]
  },
  {
   "cell_type": "code",
   "execution_count": 39,
   "metadata": {},
   "outputs": [],
   "source": [
    "paperswithcode_repos = paperswithcode_df[\"repo\"]"
   ]
  },
  {
   "cell_type": "code",
   "execution_count": 40,
   "metadata": {},
   "outputs": [
    {
     "data": {
      "text/plain": [
       "72111"
      ]
     },
     "execution_count": 40,
     "metadata": {},
     "output_type": "execute_result"
    }
   ],
   "source": [
    "len(set(paperswithcode_repos))"
   ]
  },
  {
   "cell_type": "code",
   "execution_count": 41,
   "metadata": {},
   "outputs": [
    {
     "ename": "NameError",
     "evalue": "name 'repo_names' is not defined",
     "output_type": "error",
     "traceback": [
      "\u001b[0;31m---------------------------------------------------------------------------\u001b[0m",
      "\u001b[0;31mNameError\u001b[0m                                 Traceback (most recent call last)",
      "\u001b[0;32m<ipython-input-41-5c4ced7080d3>\u001b[0m in \u001b[0;36m<module>\u001b[0;34m\u001b[0m\n\u001b[0;32m----> 1\u001b[0;31m \u001b[0mlen\u001b[0m\u001b[0;34m(\u001b[0m\u001b[0mrepo_names\u001b[0m\u001b[0;34m)\u001b[0m\u001b[0;34m\u001b[0m\u001b[0;34m\u001b[0m\u001b[0m\n\u001b[0m",
      "\u001b[0;31mNameError\u001b[0m: name 'repo_names' is not defined"
     ]
    }
   ],
   "source": [
    "len(repo_names)"
   ]
  },
  {
   "cell_type": "code",
   "execution_count": 42,
   "metadata": {},
   "outputs": [
    {
     "ename": "NameError",
     "evalue": "name 'repo_names' is not defined",
     "output_type": "error",
     "traceback": [
      "\u001b[0;31m---------------------------------------------------------------------------\u001b[0m",
      "\u001b[0;31mNameError\u001b[0m                                 Traceback (most recent call last)",
      "\u001b[0;32m<ipython-input-42-2295687e54a6>\u001b[0m in \u001b[0;36m<module>\u001b[0;34m\u001b[0m\n\u001b[0;32m----> 1\u001b[0;31m \u001b[0mlen\u001b[0m\u001b[0;34m(\u001b[0m\u001b[0mset\u001b[0m\u001b[0;34m(\u001b[0m\u001b[0mrepo_names\u001b[0m\u001b[0;34m)\u001b[0m\u001b[0;34m.\u001b[0m\u001b[0mintersection\u001b[0m\u001b[0;34m(\u001b[0m\u001b[0mpaperswithcode_repos\u001b[0m\u001b[0;34m)\u001b[0m\u001b[0;34m)\u001b[0m\u001b[0;34m\u001b[0m\u001b[0;34m\u001b[0m\u001b[0m\n\u001b[0m",
      "\u001b[0;31mNameError\u001b[0m: name 'repo_names' is not defined"
     ]
    }
   ],
   "source": [
    "len(set(repo_names).intersection(paperswithcode_repos))"
   ]
  },
  {
   "cell_type": "code",
   "execution_count": 43,
   "metadata": {},
   "outputs": [
    {
     "data": {
      "text/plain": [
       "0                        trangvu/ape-npi\n",
       "1                        xiezheng-cs/DTQ\n",
       "2                   Alaya-in-Matrix/MACE\n",
       "3                    harryhan618/LaneNet\n",
       "4        testingautomated-usi/selforacle\n",
       "                      ...               \n",
       "92580                 mabragor/cl-vknots\n",
       "92581              Expander/FlexibleSUSY\n",
       "92582             jiasenlu/HieCoAttenVQA\n",
       "92583            mgaido91/FBK-fairseq-ST\n",
       "92584          blessengeorge/compare_gan\n",
       "Name: repo, Length: 92585, dtype: object"
      ]
     },
     "execution_count": 43,
     "metadata": {},
     "output_type": "execute_result"
    }
   ],
   "source": [
    "paperswithcode_df[\"repo\"]"
   ]
  },
  {
   "cell_type": "code",
   "execution_count": 44,
   "metadata": {},
   "outputs": [
    {
     "ename": "NameError",
     "evalue": "name 'repo_names' is not defined",
     "output_type": "error",
     "traceback": [
      "\u001b[0;31m---------------------------------------------------------------------------\u001b[0m",
      "\u001b[0;31mNameError\u001b[0m                                 Traceback (most recent call last)",
      "\u001b[0;32m<ipython-input-44-bd48777df1af>\u001b[0m in \u001b[0;36m<module>\u001b[0;34m\u001b[0m\n\u001b[0;32m----> 1\u001b[0;31m \u001b[0mrepo_names\u001b[0m\u001b[0;34m\u001b[0m\u001b[0;34m\u001b[0m\u001b[0m\n\u001b[0m",
      "\u001b[0;31mNameError\u001b[0m: name 'repo_names' is not defined"
     ]
    }
   ],
   "source": [
    "repo_names"
   ]
  },
  {
   "cell_type": "code",
   "execution_count": 45,
   "metadata": {},
   "outputs": [
    {
     "data": {
      "text/plain": [
       "Index(['paper_url', 'paper_title', 'paper_arxiv_id', 'paper_url_abs',\n",
       "       'paper_url_pdf', 'repo_url', 'mentioned_in_paper',\n",
       "       'mentioned_in_github', 'framework', 'repo'],\n",
       "      dtype='object')"
      ]
     },
     "execution_count": 45,
     "metadata": {},
     "output_type": "execute_result"
    }
   ],
   "source": [
    "paperswithcode_df.columns"
   ]
  },
  {
   "cell_type": "code",
   "execution_count": 46,
   "metadata": {},
   "outputs": [
    {
     "ename": "NameError",
     "evalue": "name 'repo_names' is not defined",
     "output_type": "error",
     "traceback": [
      "\u001b[0;31m---------------------------------------------------------------------------\u001b[0m",
      "\u001b[0;31mNameError\u001b[0m                                 Traceback (most recent call last)",
      "\u001b[0;32m<ipython-input-46-40e9addba6ea>\u001b[0m in \u001b[0;36m<module>\u001b[0;34m\u001b[0m\n\u001b[1;32m      1\u001b[0m papers_with_repo_df = get_papers_with_repo_df(\n\u001b[0;32m----> 2\u001b[0;31m     \u001b[0mall_papers_df\u001b[0m\u001b[0;34m,\u001b[0m \u001b[0mpaperswithcode_df\u001b[0m\u001b[0;34m,\u001b[0m \u001b[0mrepo_names\u001b[0m\u001b[0;34m\u001b[0m\u001b[0;34m\u001b[0m\u001b[0m\n\u001b[0m\u001b[1;32m      3\u001b[0m )\n\u001b[1;32m      4\u001b[0m \u001b[0mpapers_with_repo_df\u001b[0m\u001b[0;34m[\u001b[0m\u001b[0;34m\"tasks\"\u001b[0m\u001b[0;34m]\u001b[0m\u001b[0;34m.\u001b[0m\u001b[0mapply\u001b[0m\u001b[0;34m(\u001b[0m\u001b[0mlen\u001b[0m\u001b[0;34m)\u001b[0m\u001b[0;34m.\u001b[0m\u001b[0mvalue_counts\u001b[0m\u001b[0;34m(\u001b[0m\u001b[0;34m)\u001b[0m\u001b[0;34m\u001b[0m\u001b[0;34m\u001b[0m\u001b[0m\n",
      "\u001b[0;31mNameError\u001b[0m: name 'repo_names' is not defined"
     ]
    }
   ],
   "source": [
    "papers_with_repo_df = get_papers_with_repo_df(\n",
    "    all_papers_df, paperswithcode_df, repo_names\n",
    ")\n",
    "papers_with_repo_df[\"tasks\"].apply(len).value_counts()"
   ]
  },
  {
   "cell_type": "code",
   "execution_count": 47,
   "metadata": {},
   "outputs": [
    {
     "ename": "NameError",
     "evalue": "name 'papers_with_repo_df' is not defined",
     "output_type": "error",
     "traceback": [
      "\u001b[0;31m---------------------------------------------------------------------------\u001b[0m",
      "\u001b[0;31mNameError\u001b[0m                                 Traceback (most recent call last)",
      "\u001b[0;32m<ipython-input-47-facaf05be4c1>\u001b[0m in \u001b[0;36m<module>\u001b[0;34m\u001b[0m\n\u001b[0;32m----> 1\u001b[0;31m \u001b[0mall_tasks\u001b[0m \u001b[0;34m=\u001b[0m \u001b[0mpapers_with_repo_df\u001b[0m\u001b[0;34m.\u001b[0m\u001b[0mexplode\u001b[0m\u001b[0;34m(\u001b[0m\u001b[0;34m\"tasks\"\u001b[0m\u001b[0;34m)\u001b[0m\u001b[0;34m[\u001b[0m\u001b[0;34m\"tasks\"\u001b[0m\u001b[0;34m]\u001b[0m\u001b[0;34m\u001b[0m\u001b[0;34m\u001b[0m\u001b[0m\n\u001b[0m",
      "\u001b[0;31mNameError\u001b[0m: name 'papers_with_repo_df' is not defined"
     ]
    }
   ],
   "source": [
    "all_tasks = papers_with_repo_df.explode(\"tasks\")[\"tasks\"]"
   ]
  },
  {
   "cell_type": "code",
   "execution_count": 48,
   "metadata": {},
   "outputs": [
    {
     "ename": "NameError",
     "evalue": "name 'all_tasks' is not defined",
     "output_type": "error",
     "traceback": [
      "\u001b[0;31m---------------------------------------------------------------------------\u001b[0m",
      "\u001b[0;31mNameError\u001b[0m                                 Traceback (most recent call last)",
      "\u001b[0;32m<ipython-input-48-7210c3b3b30f>\u001b[0m in \u001b[0;36m<module>\u001b[0;34m\u001b[0m\n\u001b[0;32m----> 1\u001b[0;31m \u001b[0mall_tasks\u001b[0m\u001b[0;34m.\u001b[0m\u001b[0mnunique\u001b[0m\u001b[0;34m(\u001b[0m\u001b[0;34m)\u001b[0m\u001b[0;34m\u001b[0m\u001b[0;34m\u001b[0m\u001b[0m\n\u001b[0m",
      "\u001b[0;31mNameError\u001b[0m: name 'all_tasks' is not defined"
     ]
    }
   ],
   "source": [
    "all_tasks.nunique()"
   ]
  },
  {
   "cell_type": "code",
   "execution_count": 49,
   "metadata": {},
   "outputs": [
    {
     "ename": "NameError",
     "evalue": "name 'all_tasks' is not defined",
     "output_type": "error",
     "traceback": [
      "\u001b[0;31m---------------------------------------------------------------------------\u001b[0m",
      "\u001b[0;31mNameError\u001b[0m                                 Traceback (most recent call last)",
      "\u001b[0;32m<ipython-input-49-6fdcc2a36976>\u001b[0m in \u001b[0;36m<module>\u001b[0;34m\u001b[0m\n\u001b[0;32m----> 1\u001b[0;31m \u001b[0mall_tasks\u001b[0m\u001b[0;34m.\u001b[0m\u001b[0mvalue_counts\u001b[0m\u001b[0;34m(\u001b[0m\u001b[0;34m)\u001b[0m\u001b[0;34m[\u001b[0m\u001b[0mall_tasks\u001b[0m\u001b[0;34m.\u001b[0m\u001b[0mvalue_counts\u001b[0m\u001b[0;34m(\u001b[0m\u001b[0;34m)\u001b[0m \u001b[0;34m>\u001b[0m \u001b[0;36m10\u001b[0m\u001b[0;34m]\u001b[0m  \u001b[0;31m# [:101].to_dict()\u001b[0m\u001b[0;34m\u001b[0m\u001b[0;34m\u001b[0m\u001b[0m\n\u001b[0m",
      "\u001b[0;31mNameError\u001b[0m: name 'all_tasks' is not defined"
     ]
    }
   ],
   "source": [
    "all_tasks.value_counts()[all_tasks.value_counts() > 10]  # [:101].to_dict()"
   ]
  },
  {
   "cell_type": "code",
   "execution_count": 50,
   "metadata": {},
   "outputs": [
    {
     "ename": "NameError",
     "evalue": "name 'all_tasks' is not defined",
     "output_type": "error",
     "traceback": [
      "\u001b[0;31m---------------------------------------------------------------------------\u001b[0m",
      "\u001b[0;31mNameError\u001b[0m                                 Traceback (most recent call last)",
      "\u001b[0;32m<ipython-input-50-15bea415026d>\u001b[0m in \u001b[0;36m<module>\u001b[0;34m\u001b[0m\n\u001b[0;32m----> 1\u001b[0;31m \u001b[0mset\u001b[0m\u001b[0;34m(\u001b[0m\u001b[0mall_tasks\u001b[0m\u001b[0;34m)\u001b[0m\u001b[0;34m\u001b[0m\u001b[0;34m\u001b[0m\u001b[0m\n\u001b[0m",
      "\u001b[0;31mNameError\u001b[0m: name 'all_tasks' is not defined"
     ]
    }
   ],
   "source": [
    "set(all_tasks)"
   ]
  },
  {
   "cell_type": "code",
   "execution_count": 51,
   "metadata": {},
   "outputs": [
    {
     "ename": "NameError",
     "evalue": "name 'papers_with_repo_df' is not defined",
     "output_type": "error",
     "traceback": [
      "\u001b[0;31m---------------------------------------------------------------------------\u001b[0m",
      "\u001b[0;31mNameError\u001b[0m                                 Traceback (most recent call last)",
      "\u001b[0;32m<ipython-input-51-df66ee15e955>\u001b[0m in \u001b[0;36m<module>\u001b[0;34m\u001b[0m\n\u001b[1;32m      1\u001b[0m papers_with_repo_with_biggest_tasks_df = get_papers_with_biggest_tasks(\n\u001b[0;32m----> 2\u001b[0;31m     \u001b[0mpapers_with_repo_df\u001b[0m\u001b[0;34m,\u001b[0m \u001b[0;32mNone\u001b[0m\u001b[0;34m\u001b[0m\u001b[0;34m\u001b[0m\u001b[0m\n\u001b[0m\u001b[1;32m      3\u001b[0m )\n",
      "\u001b[0;31mNameError\u001b[0m: name 'papers_with_repo_df' is not defined"
     ]
    }
   ],
   "source": [
    "papers_with_repo_with_biggest_tasks_df = get_papers_with_biggest_tasks(\n",
    "    papers_with_repo_df, None\n",
    ")"
   ]
  },
  {
   "cell_type": "code",
   "execution_count": 52,
   "metadata": {},
   "outputs": [
    {
     "ename": "NameError",
     "evalue": "name 'papers_with_repo_with_biggest_tasks_df' is not defined",
     "output_type": "error",
     "traceback": [
      "\u001b[0;31m---------------------------------------------------------------------------\u001b[0m",
      "\u001b[0;31mNameError\u001b[0m                                 Traceback (most recent call last)",
      "\u001b[0;32m<ipython-input-52-5e20bbd67241>\u001b[0m in \u001b[0;36m<module>\u001b[0;34m\u001b[0m\n\u001b[0;32m----> 1\u001b[0;31m papers_with_repo_with_biggest_tasks_df[\n\u001b[0m\u001b[1;32m      2\u001b[0m     papers_with_repo_with_biggest_tasks_df[\"tasks\"].apply(\n\u001b[1;32m      3\u001b[0m         \u001b[0;32mlambda\u001b[0m \u001b[0mtasks\u001b[0m\u001b[0;34m:\u001b[0m \u001b[0;34m\"Hierarchical structure\"\u001b[0m \u001b[0;32min\u001b[0m \u001b[0mtasks\u001b[0m\u001b[0;34m\u001b[0m\u001b[0;34m\u001b[0m\u001b[0m\n\u001b[1;32m      4\u001b[0m     )\n\u001b[1;32m      5\u001b[0m ][\"title\"]\n",
      "\u001b[0;31mNameError\u001b[0m: name 'papers_with_repo_with_biggest_tasks_df' is not defined"
     ]
    }
   ],
   "source": [
    "papers_with_repo_with_biggest_tasks_df[\n",
    "    papers_with_repo_with_biggest_tasks_df[\"tasks\"].apply(\n",
    "        lambda tasks: \"Hierarchical structure\" in tasks\n",
    "    )\n",
    "][\"title\"]"
   ]
  },
  {
   "cell_type": "code",
   "execution_count": 53,
   "metadata": {
    "scrolled": true
   },
   "outputs": [
    {
     "ename": "NameError",
     "evalue": "name 'papers_with_repo_with_biggest_tasks_df' is not defined",
     "output_type": "error",
     "traceback": [
      "\u001b[0;31m---------------------------------------------------------------------------\u001b[0m",
      "\u001b[0;31mNameError\u001b[0m                                 Traceback (most recent call last)",
      "\u001b[0;32m<ipython-input-53-973dac4a2f91>\u001b[0m in \u001b[0;36m<module>\u001b[0;34m\u001b[0m\n\u001b[0;32m----> 1\u001b[0;31m papers_with_repo_with_biggest_tasks_df[\n\u001b[0m\u001b[1;32m      2\u001b[0m     \u001b[0mpapers_with_repo_with_biggest_tasks_df\u001b[0m\u001b[0;34m[\u001b[0m\u001b[0;34m\"tasks\"\u001b[0m\u001b[0;34m]\u001b[0m\u001b[0;34m.\u001b[0m\u001b[0mapply\u001b[0m\u001b[0;34m(\u001b[0m\u001b[0mlen\u001b[0m\u001b[0;34m)\u001b[0m \u001b[0;34m>\u001b[0m \u001b[0;36m1\u001b[0m\u001b[0;34m\u001b[0m\u001b[0;34m\u001b[0m\u001b[0m\n\u001b[1;32m      3\u001b[0m ]\n",
      "\u001b[0;31mNameError\u001b[0m: name 'papers_with_repo_with_biggest_tasks_df' is not defined"
     ]
    }
   ],
   "source": [
    "papers_with_repo_with_biggest_tasks_df[\n",
    "    papers_with_repo_with_biggest_tasks_df[\"tasks\"].apply(len) > 1\n",
    "]"
   ]
  },
  {
   "cell_type": "code",
   "execution_count": 54,
   "metadata": {},
   "outputs": [
    {
     "ename": "NameError",
     "evalue": "name 'papers_with_repo_with_biggest_tasks_df' is not defined",
     "output_type": "error",
     "traceback": [
      "\u001b[0;31m---------------------------------------------------------------------------\u001b[0m",
      "\u001b[0;31mNameError\u001b[0m                                 Traceback (most recent call last)",
      "\u001b[0;32m<ipython-input-54-c1391647dcaa>\u001b[0m in \u001b[0;36m<module>\u001b[0;34m\u001b[0m\n\u001b[0;32m----> 1\u001b[0;31m \u001b[0mpapers_with_repo_with_biggest_tasks_df\u001b[0m\u001b[0;34m.\u001b[0m\u001b[0mshape\u001b[0m\u001b[0;34m\u001b[0m\u001b[0;34m\u001b[0m\u001b[0m\n\u001b[0m",
      "\u001b[0;31mNameError\u001b[0m: name 'papers_with_repo_with_biggest_tasks_df' is not defined"
     ]
    }
   ],
   "source": [
    "papers_with_repo_with_biggest_tasks_df.shape"
   ]
  },
  {
   "cell_type": "markdown",
   "metadata": {},
   "source": [
    "## Selecting most common task"
   ]
  },
  {
   "cell_type": "code",
   "execution_count": 55,
   "metadata": {},
   "outputs": [
    {
     "ename": "NameError",
     "evalue": "name 'papers_with_repo_with_biggest_tasks_df' is not defined",
     "output_type": "error",
     "traceback": [
      "\u001b[0;31m---------------------------------------------------------------------------\u001b[0m",
      "\u001b[0;31mNameError\u001b[0m                                 Traceback (most recent call last)",
      "\u001b[0;32m<ipython-input-55-c0c32eda28ed>\u001b[0m in \u001b[0;36m<module>\u001b[0;34m\u001b[0m\n\u001b[0;32m----> 1\u001b[0;31m \u001b[0mpapers_with_repo_with_biggest_tasks_df\u001b[0m\u001b[0;34m[\u001b[0m\u001b[0;34m\"most_common_task\"\u001b[0m\u001b[0;34m]\u001b[0m\u001b[0;34m.\u001b[0m\u001b[0mvalue_counts\u001b[0m\u001b[0;34m(\u001b[0m\u001b[0;34m)\u001b[0m\u001b[0;34m[\u001b[0m\u001b[0;34m:\u001b[0m\u001b[0;36m100\u001b[0m\u001b[0;34m]\u001b[0m\u001b[0;34m.\u001b[0m\u001b[0msum\u001b[0m\u001b[0;34m(\u001b[0m\u001b[0;34m)\u001b[0m\u001b[0;34m\u001b[0m\u001b[0;34m\u001b[0m\u001b[0m\n\u001b[0m",
      "\u001b[0;31mNameError\u001b[0m: name 'papers_with_repo_with_biggest_tasks_df' is not defined"
     ]
    }
   ],
   "source": [
    "papers_with_repo_with_biggest_tasks_df[\"most_common_task\"].value_counts()[:100].sum()"
   ]
  },
  {
   "cell_type": "code",
   "execution_count": 56,
   "metadata": {},
   "outputs": [],
   "source": [
    "duplicated_classes = {\n",
    "    \"Document Classification\": \"Text Classification\",\n",
    "    \"Abstractive Text Summarization\": \"Text Summarization\",\n",
    "    \"3D Human Pose Estimation\": \"Pose Estimation\",\n",
    "    \"Semantic Similarity\": \"Semantic Textual Similarity\",\n",
    "    \"Trajectory Prediction\": \"Autonomous Vehicles\",\n",
    "    \"Autonomous Driving\": \"Autonomous Vehicles\",\n",
    "    \"Feature Importance\": \"Feature Selection\",\n",
    "    \"Visual Tracking\": \"Object Tracking\",\n",
    "    \"Object Recognition\": \"Object Detection\",\n",
    "    \"Multi-Task Learning\": \"Transfer Learning\",\n",
    "}"
   ]
  },
  {
   "cell_type": "code",
   "execution_count": 57,
   "metadata": {},
   "outputs": [],
   "source": [
    "questionable_duplicated_classes = {\n",
    "    \"Adversarial Attack\": \"Adversarial Machine Learning\",\n",
    "    \"Adversarial Defense\": \"Adversarial Machine Learning\",\n",
    "    \"Voice Conversion\": \"Speech Generation\",\n",
    "    \"Lesion Segmentation\": \"Semantic Segmentation\",\n",
    "}"
   ]
  },
  {
   "cell_type": "code",
   "execution_count": 58,
   "metadata": {},
   "outputs": [],
   "source": [
    "invalid_classes = [\"Text-To-Sql\", \"Hiearchical structure\"]"
   ]
  },
  {
   "cell_type": "code",
   "execution_count": 59,
   "metadata": {},
   "outputs": [
    {
     "ename": "NameError",
     "evalue": "name 'papers_with_repo_with_biggest_tasks_df' is not defined",
     "output_type": "error",
     "traceback": [
      "\u001b[0;31m---------------------------------------------------------------------------\u001b[0m",
      "\u001b[0;31mNameError\u001b[0m                                 Traceback (most recent call last)",
      "\u001b[0;32m<ipython-input-59-aecfcad46ba2>\u001b[0m in \u001b[0;36m<module>\u001b[0;34m\u001b[0m\n\u001b[0;32m----> 1\u001b[0;31m most_common_task_counts = papers_with_repo_with_biggest_tasks_df[\n\u001b[0m\u001b[1;32m      2\u001b[0m     \u001b[0;34m\"most_common_task\"\u001b[0m\u001b[0;34m\u001b[0m\u001b[0;34m\u001b[0m\u001b[0m\n\u001b[1;32m      3\u001b[0m ].value_counts()\n",
      "\u001b[0;31mNameError\u001b[0m: name 'papers_with_repo_with_biggest_tasks_df' is not defined"
     ]
    }
   ],
   "source": [
    "most_common_task_counts = papers_with_repo_with_biggest_tasks_df[\n",
    "    \"most_common_task\"\n",
    "].value_counts()"
   ]
  },
  {
   "cell_type": "code",
   "execution_count": 60,
   "metadata": {},
   "outputs": [
    {
     "ename": "NameError",
     "evalue": "name 'most_common_task_counts' is not defined",
     "output_type": "error",
     "traceback": [
      "\u001b[0;31m---------------------------------------------------------------------------\u001b[0m",
      "\u001b[0;31mNameError\u001b[0m                                 Traceback (most recent call last)",
      "\u001b[0;32m<ipython-input-60-b58f23d53fe5>\u001b[0m in \u001b[0;36m<module>\u001b[0;34m\u001b[0m\n\u001b[0;32m----> 1\u001b[0;31m most_common_task_counts[\n\u001b[0m\u001b[1;32m      2\u001b[0m     \u001b[0mmost_common_task_counts\u001b[0m \u001b[0;34m>\u001b[0m \u001b[0;36m10\u001b[0m\u001b[0;34m\u001b[0m\u001b[0;34m\u001b[0m\u001b[0m\n\u001b[1;32m      3\u001b[0m ].sum()  # most_common_task_counts[:150].to_dict()\n",
      "\u001b[0;31mNameError\u001b[0m: name 'most_common_task_counts' is not defined"
     ]
    }
   ],
   "source": [
    "most_common_task_counts[\n",
    "    most_common_task_counts > 10\n",
    "].sum()  # most_common_task_counts[:150].to_dict()"
   ]
  },
  {
   "cell_type": "code",
   "execution_count": 61,
   "metadata": {},
   "outputs": [
    {
     "ename": "NameError",
     "evalue": "name 'most_common_task_counts' is not defined",
     "output_type": "error",
     "traceback": [
      "\u001b[0;31m---------------------------------------------------------------------------\u001b[0m",
      "\u001b[0;31mNameError\u001b[0m                                 Traceback (most recent call last)",
      "\u001b[0;32m<ipython-input-61-028083d57024>\u001b[0m in \u001b[0;36m<module>\u001b[0;34m\u001b[0m\n\u001b[0;32m----> 1\u001b[0;31m \u001b[0mmost_common_task_counts\u001b[0m\u001b[0;34m.\u001b[0m\u001b[0mshape\u001b[0m\u001b[0;34m\u001b[0m\u001b[0;34m\u001b[0m\u001b[0m\n\u001b[0m",
      "\u001b[0;31mNameError\u001b[0m: name 'most_common_task_counts' is not defined"
     ]
    }
   ],
   "source": [
    "most_common_task_counts.shape"
   ]
  },
  {
   "cell_type": "code",
   "execution_count": 62,
   "metadata": {
    "scrolled": true
   },
   "outputs": [
    {
     "ename": "NameError",
     "evalue": "name 'papers_with_repo_with_biggest_tasks_df' is not defined",
     "output_type": "error",
     "traceback": [
      "\u001b[0;31m---------------------------------------------------------------------------\u001b[0m",
      "\u001b[0;31mNameError\u001b[0m                                 Traceback (most recent call last)",
      "\u001b[0;32m<ipython-input-62-cef77a4b93e2>\u001b[0m in \u001b[0;36m<module>\u001b[0;34m\u001b[0m\n\u001b[0;32m----> 1\u001b[0;31m papers_with_repo_with_biggest_tasks_df[\"most_common_task\"].value_counts()[\n\u001b[0m\u001b[1;32m      2\u001b[0m     \u001b[0;34m:\u001b[0m\u001b[0;36m100\u001b[0m\u001b[0;34m\u001b[0m\u001b[0;34m\u001b[0m\u001b[0m\n\u001b[1;32m      3\u001b[0m ].plot.bar()\n",
      "\u001b[0;31mNameError\u001b[0m: name 'papers_with_repo_with_biggest_tasks_df' is not defined"
     ]
    }
   ],
   "source": [
    "papers_with_repo_with_biggest_tasks_df[\"most_common_task\"].value_counts()[\n",
    "    :100\n",
    "].plot.bar()"
   ]
  },
  {
   "cell_type": "markdown",
   "metadata": {},
   "source": [
    "## Selecting most matching task\n",
    "\n",
    "Matching is defined using similarity of embeddings of task name and article title"
   ]
  },
  {
   "cell_type": "code",
   "execution_count": 63,
   "metadata": {},
   "outputs": [],
   "source": [
    "import numpy as np\n",
    "import tqdm\n",
    "from sklearn import metrics"
   ]
  },
  {
   "cell_type": "code",
   "execution_count": 64,
   "metadata": {},
   "outputs": [
    {
     "ename": "NameError",
     "evalue": "name 'papers_with_repo_with_biggest_tasks_df' is not defined",
     "output_type": "error",
     "traceback": [
      "\u001b[0;31m---------------------------------------------------------------------------\u001b[0m",
      "\u001b[0;31mNameError\u001b[0m                                 Traceback (most recent call last)",
      "\u001b[0;32m<ipython-input-64-bdd8b3584d68>\u001b[0m in \u001b[0;36m<module>\u001b[0;34m\u001b[0m\n\u001b[0;32m----> 1\u001b[0;31m \u001b[0mtext\u001b[0m \u001b[0;34m=\u001b[0m \u001b[0mpapers_with_repo_with_biggest_tasks_df\u001b[0m\u001b[0;34m.\u001b[0m\u001b[0miloc\u001b[0m\u001b[0;34m[\u001b[0m\u001b[0;36m2\u001b[0m\u001b[0;34m]\u001b[0m\u001b[0;34m[\u001b[0m\u001b[0;34m\"title\"\u001b[0m\u001b[0;34m]\u001b[0m\u001b[0;34m\u001b[0m\u001b[0;34m\u001b[0m\u001b[0m\n\u001b[0m\u001b[1;32m      2\u001b[0m \u001b[0mmatched_texts\u001b[0m \u001b[0;34m=\u001b[0m \u001b[0mpapers_with_repo_with_biggest_tasks_df\u001b[0m\u001b[0;34m.\u001b[0m\u001b[0miloc\u001b[0m\u001b[0;34m[\u001b[0m\u001b[0;36m2\u001b[0m\u001b[0;34m]\u001b[0m\u001b[0;34m[\u001b[0m\u001b[0;34m\"tasks\"\u001b[0m\u001b[0;34m]\u001b[0m\u001b[0;34m\u001b[0m\u001b[0;34m\u001b[0m\u001b[0m\n",
      "\u001b[0;31mNameError\u001b[0m: name 'papers_with_repo_with_biggest_tasks_df' is not defined"
     ]
    }
   ],
   "source": [
    "text = papers_with_repo_with_biggest_tasks_df.iloc[2][\"title\"]\n",
    "matched_texts = papers_with_repo_with_biggest_tasks_df.iloc[2][\"tasks\"]"
   ]
  },
  {
   "cell_type": "code",
   "execution_count": 65,
   "metadata": {},
   "outputs": [
    {
     "ename": "NameError",
     "evalue": "name 'matched_texts' is not defined",
     "output_type": "error",
     "traceback": [
      "\u001b[0;31m---------------------------------------------------------------------------\u001b[0m",
      "\u001b[0;31mNameError\u001b[0m                                 Traceback (most recent call last)",
      "\u001b[0;32m<ipython-input-65-cf5df7276737>\u001b[0m in \u001b[0;36m<module>\u001b[0;34m\u001b[0m\n\u001b[0;32m----> 1\u001b[0;31m \u001b[0mmatched_texts\u001b[0m\u001b[0;34m\u001b[0m\u001b[0;34m\u001b[0m\u001b[0m\n\u001b[0m",
      "\u001b[0;31mNameError\u001b[0m: name 'matched_texts' is not defined"
     ]
    }
   ],
   "source": [
    "matched_texts"
   ]
  },
  {
   "cell_type": "code",
   "execution_count": 66,
   "metadata": {},
   "outputs": [],
   "source": [
    "import paperswithcode\n",
    "\n",
    "client = paperswithcode.PapersWithCodeClient()"
   ]
  },
  {
   "cell_type": "code",
   "execution_count": 67,
   "metadata": {},
   "outputs": [
    {
     "data": {
      "text/plain": [
       "475"
      ]
     },
     "execution_count": 67,
     "metadata": {},
     "output_type": "execute_result"
    }
   ],
   "source": [
    "len(client.area_task_list(\"computer-vision\", page=2, items_per_page=1000).results)"
   ]
  },
  {
   "cell_type": "code",
   "execution_count": 68,
   "metadata": {},
   "outputs": [
    {
     "ename": "NameError",
     "evalue": "name 'papers_with_repo_with_biggest_tasks_df' is not defined",
     "output_type": "error",
     "traceback": [
      "\u001b[0;31m---------------------------------------------------------------------------\u001b[0m",
      "\u001b[0;31mNameError\u001b[0m                                 Traceback (most recent call last)",
      "\u001b[0;32m<ipython-input-68-69a7ed9f6cfa>\u001b[0m in \u001b[0;36m<module>\u001b[0;34m\u001b[0m\n\u001b[0;32m----> 1\u001b[0;31m \u001b[0mpapers_with_repo_with_biggest_tasks_df\u001b[0m\u001b[0;34m.\u001b[0m\u001b[0mhead\u001b[0m\u001b[0;34m(\u001b[0m\u001b[0;34m)\u001b[0m\u001b[0;34m\u001b[0m\u001b[0;34m\u001b[0m\u001b[0m\n\u001b[0m",
      "\u001b[0;31mNameError\u001b[0m: name 'papers_with_repo_with_biggest_tasks_df' is not defined"
     ]
    }
   ],
   "source": [
    "papers_with_repo_with_biggest_tasks_df.head()"
   ]
  },
  {
   "cell_type": "code",
   "execution_count": null,
   "metadata": {},
   "outputs": [],
   "source": [
    "dict(client.task_get(\"trajectory-prediction\"))"
   ]
  },
  {
   "cell_type": "code",
   "execution_count": null,
   "metadata": {},
   "outputs": [],
   "source": [
    "client.task_paper_list(\"trajectory-prediction\")"
   ]
  },
  {
   "cell_type": "code",
   "execution_count": 69,
   "metadata": {},
   "outputs": [
    {
     "ename": "NameError",
     "evalue": "name 'papers_with_repo_with_biggest_tasks_df' is not defined",
     "output_type": "error",
     "traceback": [
      "\u001b[0;31m---------------------------------------------------------------------------\u001b[0m",
      "\u001b[0;31mNameError\u001b[0m                                 Traceback (most recent call last)",
      "\u001b[0;32m<ipython-input-69-9500c321e57b>\u001b[0m in \u001b[0;36m<module>\u001b[0;34m\u001b[0m\n\u001b[0;32m----> 1\u001b[0;31m \u001b[0mpaper_id\u001b[0m \u001b[0;34m=\u001b[0m \u001b[0mpapers_with_repo_with_biggest_tasks_df\u001b[0m\u001b[0;34m[\u001b[0m\u001b[0;34m\"paper_url\"\u001b[0m\u001b[0;34m]\u001b[0m\u001b[0;34m.\u001b[0m\u001b[0miloc\u001b[0m\u001b[0;34m[\u001b[0m\u001b[0;36m1\u001b[0m\u001b[0;34m]\u001b[0m\u001b[0;34m.\u001b[0m\u001b[0msplit\u001b[0m\u001b[0;34m(\u001b[0m\u001b[0;34m\"/\"\u001b[0m\u001b[0;34m)\u001b[0m\u001b[0;34m[\u001b[0m\u001b[0;34m-\u001b[0m\u001b[0;36m1\u001b[0m\u001b[0;34m]\u001b[0m\u001b[0;34m\u001b[0m\u001b[0;34m\u001b[0m\u001b[0m\n\u001b[0m",
      "\u001b[0;31mNameError\u001b[0m: name 'papers_with_repo_with_biggest_tasks_df' is not defined"
     ]
    }
   ],
   "source": [
    "paper_id = papers_with_repo_with_biggest_tasks_df[\"paper_url\"].iloc[1].split(\"/\")[-1]"
   ]
  },
  {
   "cell_type": "code",
   "execution_count": 70,
   "metadata": {},
   "outputs": [
    {
     "ename": "NameError",
     "evalue": "name 'paper_id' is not defined",
     "output_type": "error",
     "traceback": [
      "\u001b[0;31m---------------------------------------------------------------------------\u001b[0m",
      "\u001b[0;31mNameError\u001b[0m                                 Traceback (most recent call last)",
      "\u001b[0;32m<ipython-input-70-178375c78c28>\u001b[0m in \u001b[0;36m<module>\u001b[0;34m\u001b[0m\n\u001b[0;32m----> 1\u001b[0;31m \u001b[0mpaper_id\u001b[0m\u001b[0;34m.\u001b[0m\u001b[0msplit\u001b[0m\u001b[0;34m(\u001b[0m\u001b[0;34m\"/\"\u001b[0m\u001b[0;34m)\u001b[0m\u001b[0;34m[\u001b[0m\u001b[0;34m-\u001b[0m\u001b[0;36m1\u001b[0m\u001b[0;34m]\u001b[0m\u001b[0;34m\u001b[0m\u001b[0;34m\u001b[0m\u001b[0m\n\u001b[0m",
      "\u001b[0;31mNameError\u001b[0m: name 'paper_id' is not defined"
     ]
    }
   ],
   "source": [
    "paper_id.split(\"/\")[-1]"
   ]
  },
  {
   "cell_type": "code",
   "execution_count": 71,
   "metadata": {},
   "outputs": [
    {
     "ename": "NameError",
     "evalue": "name 'paper_id' is not defined",
     "output_type": "error",
     "traceback": [
      "\u001b[0;31m---------------------------------------------------------------------------\u001b[0m",
      "\u001b[0;31mNameError\u001b[0m                                 Traceback (most recent call last)",
      "\u001b[0;32m<ipython-input-71-2dc4b57f50a5>\u001b[0m in \u001b[0;36m<module>\u001b[0;34m\u001b[0m\n\u001b[0;32m----> 1\u001b[0;31m \u001b[0mdict\u001b[0m\u001b[0;34m(\u001b[0m\u001b[0mclient\u001b[0m\u001b[0;34m.\u001b[0m\u001b[0mpaper_get\u001b[0m\u001b[0;34m(\u001b[0m\u001b[0mpaper_id\u001b[0m\u001b[0;34m)\u001b[0m\u001b[0;34m)\u001b[0m\u001b[0;34m\u001b[0m\u001b[0;34m\u001b[0m\u001b[0m\n\u001b[0m",
      "\u001b[0;31mNameError\u001b[0m: name 'paper_id' is not defined"
     ]
    }
   ],
   "source": [
    "dict(client.paper_get(paper_id))"
   ]
  },
  {
   "cell_type": "code",
   "execution_count": 72,
   "metadata": {},
   "outputs": [
    {
     "ename": "NameError",
     "evalue": "name 'paper_id' is not defined",
     "output_type": "error",
     "traceback": [
      "\u001b[0;31m---------------------------------------------------------------------------\u001b[0m",
      "\u001b[0;31mNameError\u001b[0m                                 Traceback (most recent call last)",
      "\u001b[0;32m<ipython-input-72-c5b32e9cc264>\u001b[0m in \u001b[0;36m<module>\u001b[0;34m\u001b[0m\n\u001b[0;32m----> 1\u001b[0;31m \u001b[0mpaper_id\u001b[0m\u001b[0;34m\u001b[0m\u001b[0;34m\u001b[0m\u001b[0m\n\u001b[0m",
      "\u001b[0;31mNameError\u001b[0m: name 'paper_id' is not defined"
     ]
    }
   ],
   "source": [
    "paper_id"
   ]
  },
  {
   "cell_type": "code",
   "execution_count": 73,
   "metadata": {},
   "outputs": [
    {
     "ename": "NameError",
     "evalue": "name 'paper_id' is not defined",
     "output_type": "error",
     "traceback": [
      "\u001b[0;31m---------------------------------------------------------------------------\u001b[0m",
      "\u001b[0;31mNameError\u001b[0m                                 Traceback (most recent call last)",
      "\u001b[0;32m<ipython-input-73-92f0c0d1a0d9>\u001b[0m in \u001b[0;36m<module>\u001b[0;34m\u001b[0m\n\u001b[0;32m----> 1\u001b[0;31m \u001b[0mtasks\u001b[0m \u001b[0;34m=\u001b[0m \u001b[0mclient\u001b[0m\u001b[0;34m.\u001b[0m\u001b[0mhttp\u001b[0m\u001b[0;34m.\u001b[0m\u001b[0mget\u001b[0m\u001b[0;34m(\u001b[0m\u001b[0;34mf\"/papers/{paper_id}/tasks/\"\u001b[0m\u001b[0;34m)\u001b[0m\u001b[0;34m[\u001b[0m\u001b[0;34m\"results\"\u001b[0m\u001b[0;34m]\u001b[0m\u001b[0;34m\u001b[0m\u001b[0;34m\u001b[0m\u001b[0m\n\u001b[0m",
      "\u001b[0;31mNameError\u001b[0m: name 'paper_id' is not defined"
     ]
    }
   ],
   "source": [
    "tasks = client.http.get(f\"/papers/{paper_id}/tasks/\")[\"results\"]"
   ]
  },
  {
   "cell_type": "code",
   "execution_count": 74,
   "metadata": {},
   "outputs": [
    {
     "ename": "NameError",
     "evalue": "name 'tasks' is not defined",
     "output_type": "error",
     "traceback": [
      "\u001b[0;31m---------------------------------------------------------------------------\u001b[0m",
      "\u001b[0;31mNameError\u001b[0m                                 Traceback (most recent call last)",
      "\u001b[0;32m<ipython-input-74-ae3c17b5b4d8>\u001b[0m in \u001b[0;36m<module>\u001b[0;34m\u001b[0m\n\u001b[0;32m----> 1\u001b[0;31m \u001b[0;34m[\u001b[0m\u001b[0mpaperswithcode\u001b[0m\u001b[0;34m.\u001b[0m\u001b[0mmodels\u001b[0m\u001b[0;34m.\u001b[0m\u001b[0mTask\u001b[0m\u001b[0;34m(\u001b[0m\u001b[0;34m**\u001b[0m\u001b[0mtask\u001b[0m\u001b[0;34m)\u001b[0m \u001b[0;32mfor\u001b[0m \u001b[0mtask\u001b[0m \u001b[0;32min\u001b[0m \u001b[0mtasks\u001b[0m\u001b[0;34m]\u001b[0m\u001b[0;34m\u001b[0m\u001b[0;34m\u001b[0m\u001b[0m\n\u001b[0m",
      "\u001b[0;31mNameError\u001b[0m: name 'tasks' is not defined"
     ]
    }
   ],
   "source": [
    "[paperswithcode.models.Task(**task) for task in tasks]"
   ]
  },
  {
   "cell_type": "code",
   "execution_count": 75,
   "metadata": {},
   "outputs": [
    {
     "ename": "HttpClientError",
     "evalue": "HttpClientError(404: Not found.)",
     "output_type": "error",
     "traceback": [
      "\u001b[0;31m---------------------------------------------------------------------------\u001b[0m",
      "\u001b[0;31mHttpClientError\u001b[0m                           Traceback (most recent call last)",
      "\u001b[0;32m<ipython-input-75-377facd45003>\u001b[0m in \u001b[0;36m<module>\u001b[0;34m\u001b[0m\n\u001b[0;32m----> 1\u001b[0;31m \u001b[0mlen\u001b[0m\u001b[0;34m(\u001b[0m\u001b[0mclient\u001b[0m\u001b[0;34m.\u001b[0m\u001b[0marea_task_list\u001b[0m\u001b[0;34m(\u001b[0m\u001b[0;34m\"computer-vision\"\u001b[0m\u001b[0;34m,\u001b[0m \u001b[0mpage\u001b[0m\u001b[0;34m=\u001b[0m\u001b[0;36m3\u001b[0m\u001b[0;34m,\u001b[0m \u001b[0mitems_per_page\u001b[0m\u001b[0;34m=\u001b[0m\u001b[0;36m1000\u001b[0m\u001b[0;34m)\u001b[0m\u001b[0;34m.\u001b[0m\u001b[0mresults\u001b[0m\u001b[0;34m)\u001b[0m\u001b[0;34m\u001b[0m\u001b[0;34m\u001b[0m\u001b[0m\n\u001b[0m",
      "\u001b[0;32m~/.local/lib/python3.8/site-packages/tea_client/handler.py\u001b[0m in \u001b[0;36mwrapper\u001b[0;34m(self, *args, **kwargs)\u001b[0m\n\u001b[1;32m     16\u001b[0m     \u001b[0;32mdef\u001b[0m \u001b[0mwrapper\u001b[0m\u001b[0;34m(\u001b[0m\u001b[0mself\u001b[0m\u001b[0;34m,\u001b[0m \u001b[0;34m*\u001b[0m\u001b[0margs\u001b[0m\u001b[0;34m,\u001b[0m \u001b[0;34m**\u001b[0m\u001b[0mkwargs\u001b[0m\u001b[0;34m)\u001b[0m\u001b[0;34m:\u001b[0m\u001b[0;34m\u001b[0m\u001b[0;34m\u001b[0m\u001b[0m\n\u001b[1;32m     17\u001b[0m         \u001b[0;32mtry\u001b[0m\u001b[0;34m:\u001b[0m\u001b[0;34m\u001b[0m\u001b[0;34m\u001b[0m\u001b[0m\n\u001b[0;32m---> 18\u001b[0;31m             \u001b[0;32mreturn\u001b[0m \u001b[0mfunc\u001b[0m\u001b[0;34m(\u001b[0m\u001b[0mself\u001b[0m\u001b[0;34m,\u001b[0m \u001b[0;34m*\u001b[0m\u001b[0margs\u001b[0m\u001b[0;34m,\u001b[0m \u001b[0;34m**\u001b[0m\u001b[0mkwargs\u001b[0m\u001b[0;34m)\u001b[0m\u001b[0;34m\u001b[0m\u001b[0;34m\u001b[0m\u001b[0m\n\u001b[0m\u001b[1;32m     19\u001b[0m         \u001b[0;32mexcept\u001b[0m \u001b[0mHttpClientError\u001b[0m \u001b[0;32mas\u001b[0m \u001b[0me\u001b[0m\u001b[0;34m:\u001b[0m\u001b[0;34m\u001b[0m\u001b[0;34m\u001b[0m\u001b[0m\n\u001b[1;32m     20\u001b[0m             \u001b[0;32mif\u001b[0m \u001b[0me\u001b[0m\u001b[0;34m.\u001b[0m\u001b[0mstatus_code\u001b[0m \u001b[0;34m==\u001b[0m \u001b[0;36m401\u001b[0m\u001b[0;34m:\u001b[0m\u001b[0;34m\u001b[0m\u001b[0;34m\u001b[0m\u001b[0m\n",
      "\u001b[0;32m~/.local/lib/python3.8/site-packages/paperswithcode/client.py\u001b[0m in \u001b[0;36marea_task_list\u001b[0;34m(self, area_id, page, items_per_page)\u001b[0m\n\u001b[1;32m    610\u001b[0m         \u001b[0mparams\u001b[0m \u001b[0;34m=\u001b[0m \u001b[0mself\u001b[0m\u001b[0;34m.\u001b[0m\u001b[0m__params\u001b[0m\u001b[0;34m(\u001b[0m\u001b[0mpage\u001b[0m\u001b[0;34m,\u001b[0m \u001b[0mitems_per_page\u001b[0m\u001b[0;34m)\u001b[0m\u001b[0;34m\u001b[0m\u001b[0;34m\u001b[0m\u001b[0m\n\u001b[1;32m    611\u001b[0m         return self.__page(\n\u001b[0;32m--> 612\u001b[0;31m             \u001b[0mself\u001b[0m\u001b[0;34m.\u001b[0m\u001b[0mhttp\u001b[0m\u001b[0;34m.\u001b[0m\u001b[0mget\u001b[0m\u001b[0;34m(\u001b[0m\u001b[0;34mf\"/areas/{area_id}/tasks/\"\u001b[0m\u001b[0;34m,\u001b[0m \u001b[0mparams\u001b[0m\u001b[0;34m=\u001b[0m\u001b[0mparams\u001b[0m\u001b[0;34m)\u001b[0m\u001b[0;34m,\u001b[0m \u001b[0mTasks\u001b[0m\u001b[0;34m\u001b[0m\u001b[0;34m\u001b[0m\u001b[0m\n\u001b[0m\u001b[1;32m    613\u001b[0m         )\n\u001b[1;32m    614\u001b[0m \u001b[0;34m\u001b[0m\u001b[0m\n",
      "\u001b[0;32m~/.local/lib/python3.8/site-packages/tea_client/http.py\u001b[0m in \u001b[0;36mget\u001b[0;34m(self, url, headers, params, timeout)\u001b[0m\n\u001b[1;32m    213\u001b[0m \u001b[0;34m\u001b[0m\u001b[0m\n\u001b[1;32m    214\u001b[0m         \"\"\"\n\u001b[0;32m--> 215\u001b[0;31m         return self.request(\n\u001b[0m\u001b[1;32m    216\u001b[0m             \u001b[0mmethod\u001b[0m\u001b[0;34m=\u001b[0m\u001b[0;34m\"get\"\u001b[0m\u001b[0;34m,\u001b[0m\u001b[0;34m\u001b[0m\u001b[0;34m\u001b[0m\u001b[0m\n\u001b[1;32m    217\u001b[0m             \u001b[0murl\u001b[0m\u001b[0;34m=\u001b[0m\u001b[0murl\u001b[0m\u001b[0;34m,\u001b[0m\u001b[0;34m\u001b[0m\u001b[0;34m\u001b[0m\u001b[0m\n",
      "\u001b[0;32m~/.local/lib/python3.8/site-packages/tea_client/http.py\u001b[0m in \u001b[0;36mrequest\u001b[0;34m(self, method, url, headers, params, data, timeout)\u001b[0m\n\u001b[1;32m    177\u001b[0m         \u001b[0mmessage\u001b[0m \u001b[0;34m=\u001b[0m \u001b[0mself\u001b[0m\u001b[0;34m.\u001b[0m\u001b[0mERRORS\u001b[0m\u001b[0;34m.\u001b[0m\u001b[0mget\u001b[0m\u001b[0;34m(\u001b[0m\u001b[0mself\u001b[0m\u001b[0;34m.\u001b[0m\u001b[0mresponse\u001b[0m\u001b[0;34m.\u001b[0m\u001b[0mstatus_code\u001b[0m\u001b[0;34m,\u001b[0m \u001b[0;32mNone\u001b[0m\u001b[0;34m)\u001b[0m\u001b[0;34m\u001b[0m\u001b[0;34m\u001b[0m\u001b[0m\n\u001b[1;32m    178\u001b[0m         \u001b[0;32mif\u001b[0m \u001b[0mmessage\u001b[0m \u001b[0;32mis\u001b[0m \u001b[0;32mnot\u001b[0m \u001b[0;32mNone\u001b[0m\u001b[0;34m:\u001b[0m\u001b[0;34m\u001b[0m\u001b[0;34m\u001b[0m\u001b[0m\n\u001b[0;32m--> 179\u001b[0;31m             \u001b[0;32mraise\u001b[0m \u001b[0merrors\u001b[0m\u001b[0;34m.\u001b[0m\u001b[0mHttpClientError\u001b[0m\u001b[0;34m(\u001b[0m\u001b[0mmessage\u001b[0m\u001b[0;34m,\u001b[0m \u001b[0mresponse\u001b[0m\u001b[0;34m=\u001b[0m\u001b[0mself\u001b[0m\u001b[0;34m.\u001b[0m\u001b[0mresponse\u001b[0m\u001b[0;34m)\u001b[0m\u001b[0;34m\u001b[0m\u001b[0;34m\u001b[0m\u001b[0m\n\u001b[0m\u001b[1;32m    180\u001b[0m \u001b[0;34m\u001b[0m\u001b[0m\n\u001b[1;32m    181\u001b[0m         \u001b[0;32mif\u001b[0m \u001b[0mself\u001b[0m\u001b[0;34m.\u001b[0m\u001b[0mresponse\u001b[0m\u001b[0;34m.\u001b[0m\u001b[0mstatus_code\u001b[0m \u001b[0;34m==\u001b[0m \u001b[0;36m400\u001b[0m\u001b[0;34m:\u001b[0m\u001b[0;34m\u001b[0m\u001b[0;34m\u001b[0m\u001b[0m\n",
      "\u001b[0;31mHttpClientError\u001b[0m: HttpClientError(404: Not found.)"
     ]
    }
   ],
   "source": [
    "len(client.area_task_list(\"computer-vision\", page=3, items_per_page=1000).results)"
   ]
  },
  {
   "cell_type": "code",
   "execution_count": null,
   "metadata": {},
   "outputs": [],
   "source": [
    "area_tasks_df = pd.DataFrame(\n",
    "    {\"area\": area_grouped_tasks.keys(), \"task\": area_grouped_tasks.values()}\n",
    ").explode(\"task\")"
   ]
  },
  {
   "cell_type": "code",
   "execution_count": 76,
   "metadata": {},
   "outputs": [
    {
     "ename": "NameError",
     "evalue": "name 'papers_with_repo_df' is not defined",
     "output_type": "error",
     "traceback": [
      "\u001b[0;31m---------------------------------------------------------------------------\u001b[0m",
      "\u001b[0;31mNameError\u001b[0m                                 Traceback (most recent call last)",
      "\u001b[0;32m<ipython-input-76-77ed5ca35129>\u001b[0m in \u001b[0;36m<module>\u001b[0;34m\u001b[0m\n\u001b[0;32m----> 1\u001b[0;31m \u001b[0mpapers_with_repo_df\u001b[0m\u001b[0;34m[\u001b[0m\u001b[0;34m\"task\"\u001b[0m\u001b[0;34m]\u001b[0m \u001b[0;34m=\u001b[0m \u001b[0mpapers_with_repo_df\u001b[0m\u001b[0;34m[\u001b[0m\u001b[0;34m\"tasks\"\u001b[0m\u001b[0;34m]\u001b[0m\u001b[0;34m\u001b[0m\u001b[0;34m\u001b[0m\u001b[0m\n\u001b[0m",
      "\u001b[0;31mNameError\u001b[0m: name 'papers_with_repo_df' is not defined"
     ]
    }
   ],
   "source": [
    "papers_with_repo_df[\"task\"] = papers_with_repo_df[\"tasks\"]"
   ]
  },
  {
   "cell_type": "code",
   "execution_count": 77,
   "metadata": {},
   "outputs": [
    {
     "ename": "NameError",
     "evalue": "name 'area_tasks_df' is not defined",
     "output_type": "error",
     "traceback": [
      "\u001b[0;31m---------------------------------------------------------------------------\u001b[0m",
      "\u001b[0;31mNameError\u001b[0m                                 Traceback (most recent call last)",
      "\u001b[0;32m<ipython-input-77-e79f5b70bc06>\u001b[0m in \u001b[0;36m<module>\u001b[0;34m\u001b[0m\n\u001b[0;32m----> 1\u001b[0;31m \u001b[0marea_tasks_df\u001b[0m\u001b[0;34m[\u001b[0m\u001b[0;34m\"area\"\u001b[0m\u001b[0;34m]\u001b[0m\u001b[0;34m.\u001b[0m\u001b[0mvalue_counts\u001b[0m\u001b[0;34m(\u001b[0m\u001b[0;34m)\u001b[0m\u001b[0;34m\u001b[0m\u001b[0;34m\u001b[0m\u001b[0m\n\u001b[0m",
      "\u001b[0;31mNameError\u001b[0m: name 'area_tasks_df' is not defined"
     ]
    }
   ],
   "source": [
    "area_tasks_df[\"area\"].value_counts()"
   ]
  },
  {
   "cell_type": "code",
   "execution_count": 78,
   "metadata": {},
   "outputs": [
    {
     "ename": "NameError",
     "evalue": "name 'papers_with_repo_df' is not defined",
     "output_type": "error",
     "traceback": [
      "\u001b[0;31m---------------------------------------------------------------------------\u001b[0m",
      "\u001b[0;31mNameError\u001b[0m                                 Traceback (most recent call last)",
      "\u001b[0;32m<ipython-input-78-e598051e3391>\u001b[0m in \u001b[0;36m<module>\u001b[0;34m\u001b[0m\n\u001b[0;32m----> 1\u001b[0;31m \u001b[0mpapers_task_exploded_df\u001b[0m \u001b[0;34m=\u001b[0m \u001b[0mpapers_with_repo_df\u001b[0m\u001b[0;34m.\u001b[0m\u001b[0mexplode\u001b[0m\u001b[0;34m(\u001b[0m\u001b[0;34m\"task\"\u001b[0m\u001b[0;34m)\u001b[0m\u001b[0;34m\u001b[0m\u001b[0;34m\u001b[0m\u001b[0m\n\u001b[0m",
      "\u001b[0;31mNameError\u001b[0m: name 'papers_with_repo_df' is not defined"
     ]
    }
   ],
   "source": [
    "papers_task_exploded_df = papers_with_repo_df.explode(\"task\")"
   ]
  },
  {
   "cell_type": "code",
   "execution_count": 79,
   "metadata": {},
   "outputs": [
    {
     "ename": "NameError",
     "evalue": "name 'papers_task_exploded_df' is not defined",
     "output_type": "error",
     "traceback": [
      "\u001b[0;31m---------------------------------------------------------------------------\u001b[0m",
      "\u001b[0;31mNameError\u001b[0m                                 Traceback (most recent call last)",
      "\u001b[0;32m<ipython-input-79-c67c19c9caf7>\u001b[0m in \u001b[0;36m<module>\u001b[0;34m\u001b[0m\n\u001b[0;32m----> 1\u001b[0;31m \u001b[0mtask_api_normalized\u001b[0m \u001b[0;34m=\u001b[0m \u001b[0mpapers_task_exploded_df\u001b[0m\u001b[0;34m[\u001b[0m\u001b[0;34m\"task\"\u001b[0m\u001b[0;34m]\u001b[0m\u001b[0;34m.\u001b[0m\u001b[0mstr\u001b[0m\u001b[0;34m.\u001b[0m\u001b[0mlower\u001b[0m\u001b[0;34m(\u001b[0m\u001b[0;34m)\u001b[0m\u001b[0;34m.\u001b[0m\u001b[0mstr\u001b[0m\u001b[0;34m.\u001b[0m\u001b[0mreplace\u001b[0m\u001b[0;34m(\u001b[0m\u001b[0;34m\" \"\u001b[0m\u001b[0;34m,\u001b[0m \u001b[0;34m\"-\"\u001b[0m\u001b[0;34m)\u001b[0m\u001b[0;34m\u001b[0m\u001b[0;34m\u001b[0m\u001b[0m\n\u001b[0m",
      "\u001b[0;31mNameError\u001b[0m: name 'papers_task_exploded_df' is not defined"
     ]
    }
   ],
   "source": [
    "task_api_normalized = papers_task_exploded_df[\"task\"].str.lower().str.replace(\" \", \"-\")"
   ]
  },
  {
   "cell_type": "code",
   "execution_count": 80,
   "metadata": {},
   "outputs": [
    {
     "ename": "NameError",
     "evalue": "name 'task_api_normalized' is not defined",
     "output_type": "error",
     "traceback": [
      "\u001b[0;31m---------------------------------------------------------------------------\u001b[0m",
      "\u001b[0;31mNameError\u001b[0m                                 Traceback (most recent call last)",
      "\u001b[0;32m<ipython-input-80-a91701dd4aed>\u001b[0m in \u001b[0;36m<module>\u001b[0;34m\u001b[0m\n\u001b[0;32m----> 1\u001b[0;31m \u001b[0mtask_api_normalized\u001b[0m\u001b[0;34m\u001b[0m\u001b[0;34m\u001b[0m\u001b[0m\n\u001b[0m",
      "\u001b[0;31mNameError\u001b[0m: name 'task_api_normalized' is not defined"
     ]
    }
   ],
   "source": [
    "task_api_normalized"
   ]
  },
  {
   "cell_type": "code",
   "execution_count": 81,
   "metadata": {},
   "outputs": [
    {
     "ename": "NameError",
     "evalue": "name 'task_api_normalized' is not defined",
     "output_type": "error",
     "traceback": [
      "\u001b[0;31m---------------------------------------------------------------------------\u001b[0m",
      "\u001b[0;31mNameError\u001b[0m                                 Traceback (most recent call last)",
      "\u001b[0;32m<ipython-input-81-4c6de640d523>\u001b[0m in \u001b[0;36m<module>\u001b[0;34m\u001b[0m\n\u001b[0;32m----> 1\u001b[0;31m tasks_without_area = task_api_normalized[\n\u001b[0m\u001b[1;32m      2\u001b[0m     \u001b[0;34m~\u001b[0m\u001b[0mtask_api_normalized\u001b[0m\u001b[0;34m.\u001b[0m\u001b[0misin\u001b[0m\u001b[0;34m(\u001b[0m\u001b[0marea_tasks_df\u001b[0m\u001b[0;34m[\u001b[0m\u001b[0;34m\"task\"\u001b[0m\u001b[0;34m]\u001b[0m\u001b[0;34m)\u001b[0m\u001b[0;34m\u001b[0m\u001b[0;34m\u001b[0m\u001b[0m\n\u001b[1;32m      3\u001b[0m ].unique()\n",
      "\u001b[0;31mNameError\u001b[0m: name 'task_api_normalized' is not defined"
     ]
    }
   ],
   "source": [
    "tasks_without_area = task_api_normalized[\n",
    "    ~task_api_normalized.isin(area_tasks_df[\"task\"])\n",
    "].unique()"
   ]
  },
  {
   "cell_type": "code",
   "execution_count": 82,
   "metadata": {},
   "outputs": [
    {
     "ename": "NameError",
     "evalue": "name 'tasks_without_area' is not defined",
     "output_type": "error",
     "traceback": [
      "\u001b[0;31m---------------------------------------------------------------------------\u001b[0m",
      "\u001b[0;31mNameError\u001b[0m                                 Traceback (most recent call last)",
      "\u001b[0;32m<ipython-input-82-907b79d3c195>\u001b[0m in \u001b[0;36m<module>\u001b[0;34m\u001b[0m\n\u001b[0;32m----> 1\u001b[0;31m \u001b[0mother_tasks_df\u001b[0m \u001b[0;34m=\u001b[0m \u001b[0mpd\u001b[0m\u001b[0;34m.\u001b[0m\u001b[0mDataFrame\u001b[0m\u001b[0;34m(\u001b[0m\u001b[0;34m{\u001b[0m\u001b[0;34m\"area\"\u001b[0m\u001b[0;34m:\u001b[0m \u001b[0;34m\"miscellaneous\"\u001b[0m\u001b[0;34m,\u001b[0m \u001b[0;34m\"task\"\u001b[0m\u001b[0;34m:\u001b[0m \u001b[0mtasks_without_area\u001b[0m\u001b[0;34m}\u001b[0m\u001b[0;34m)\u001b[0m\u001b[0;34m\u001b[0m\u001b[0;34m\u001b[0m\u001b[0m\n\u001b[0m",
      "\u001b[0;31mNameError\u001b[0m: name 'tasks_without_area' is not defined"
     ]
    }
   ],
   "source": [
    "other_tasks_df = pd.DataFrame({\"area\": \"miscellaneous\", \"task\": tasks_without_area})"
   ]
  },
  {
   "cell_type": "code",
   "execution_count": 83,
   "metadata": {},
   "outputs": [
    {
     "ename": "NameError",
     "evalue": "name 'area_tasks_df' is not defined",
     "output_type": "error",
     "traceback": [
      "\u001b[0;31m---------------------------------------------------------------------------\u001b[0m",
      "\u001b[0;31mNameError\u001b[0m                                 Traceback (most recent call last)",
      "\u001b[0;32m<ipython-input-83-0c7841239e3f>\u001b[0m in \u001b[0;36m<module>\u001b[0;34m\u001b[0m\n\u001b[0;32m----> 1\u001b[0;31m \u001b[0mall_area_tasks_df\u001b[0m \u001b[0;34m=\u001b[0m \u001b[0mpd\u001b[0m\u001b[0;34m.\u001b[0m\u001b[0mconcat\u001b[0m\u001b[0;34m(\u001b[0m\u001b[0;34m[\u001b[0m\u001b[0marea_tasks_df\u001b[0m\u001b[0;34m,\u001b[0m \u001b[0mother_tasks_df\u001b[0m\u001b[0;34m]\u001b[0m\u001b[0;34m)\u001b[0m\u001b[0;34m\u001b[0m\u001b[0;34m\u001b[0m\u001b[0m\n\u001b[0m",
      "\u001b[0;31mNameError\u001b[0m: name 'area_tasks_df' is not defined"
     ]
    }
   ],
   "source": [
    "all_area_tasks_df = pd.concat([area_tasks_df, other_tasks_df])"
   ]
  },
  {
   "cell_type": "code",
   "execution_count": 84,
   "metadata": {},
   "outputs": [
    {
     "ename": "NameError",
     "evalue": "name 'all_area_tasks_df' is not defined",
     "output_type": "error",
     "traceback": [
      "\u001b[0;31m---------------------------------------------------------------------------\u001b[0m",
      "\u001b[0;31mNameError\u001b[0m                                 Traceback (most recent call last)",
      "\u001b[0;32m<ipython-input-84-97cbd98ca008>\u001b[0m in \u001b[0;36m<module>\u001b[0;34m\u001b[0m\n\u001b[0;32m----> 1\u001b[0;31m \u001b[0mall_area_tasks_df\u001b[0m\u001b[0;34m.\u001b[0m\u001b[0mhead\u001b[0m\u001b[0;34m(\u001b[0m\u001b[0;34m)\u001b[0m\u001b[0;34m\u001b[0m\u001b[0;34m\u001b[0m\u001b[0m\n\u001b[0m",
      "\u001b[0;31mNameError\u001b[0m: name 'all_area_tasks_df' is not defined"
     ]
    }
   ],
   "source": [
    "all_area_tasks_df.head()"
   ]
  },
  {
   "cell_type": "code",
   "execution_count": 29,
   "metadata": {},
   "outputs": [
    {
     "ename": "NameError",
     "evalue": "name 'all_area_tasks_df' is not defined",
     "output_type": "error",
     "traceback": [
      "\u001b[0;31m---------------------------------------------------------------------------\u001b[0m",
      "\u001b[0;31mNameError\u001b[0m                                 Traceback (most recent call last)",
      "\u001b[0;32m<ipython-input-29-bb3c03f704fd>\u001b[0m in \u001b[0;36m<module>\u001b[0;34m\u001b[0m\n\u001b[0;32m----> 1\u001b[0;31m \u001b[0mall_area_tasks_df\u001b[0m\u001b[0;34m.\u001b[0m\u001b[0mto_csv\u001b[0m\u001b[0;34m(\u001b[0m\u001b[0;34m\"data/paperswithcode_tasks.csv\"\u001b[0m\u001b[0;34m,\u001b[0m \u001b[0mindex\u001b[0m\u001b[0;34m=\u001b[0m\u001b[0;32mNone\u001b[0m\u001b[0;34m)\u001b[0m\u001b[0;34m\u001b[0m\u001b[0;34m\u001b[0m\u001b[0m\n\u001b[0m",
      "\u001b[0;31mNameError\u001b[0m: name 'all_area_tasks_df' is not defined"
     ]
    }
   ],
   "source": [
    "all_area_tasks_df.to_csv(\"data/paperswithcode_tasks.csv\", index=None)"
   ]
  },
  {
   "cell_type": "code",
   "execution_count": null,
   "metadata": {},
   "outputs": [],
   "source": [
    "papers_task_exploded_df[\"normalized_task\"] = task_api_normalized"
   ]
  },
  {
   "cell_type": "code",
   "execution_count": null,
   "metadata": {},
   "outputs": [],
   "source": [
    "papers_area_df = papers_task_exploded_df.merge(\n",
    "    all_area_tasks_df, left_on=\"normalized_task\", right_on=\"task\", suffixes=[\"\", \"_\"]\n",
    ").drop(columns=[\"task_\"])"
   ]
  },
  {
   "cell_type": "code",
   "execution_count": null,
   "metadata": {},
   "outputs": [],
   "source": [
    "all_area_tasks_df"
   ]
  },
  {
   "cell_type": "code",
   "execution_count": null,
   "metadata": {},
   "outputs": [],
   "source": [
    "from sklearn import model_selection"
   ]
  },
  {
   "cell_type": "code",
   "execution_count": null,
   "metadata": {},
   "outputs": [],
   "source": [
    "papers_area_df.columns"
   ]
  },
  {
   "cell_type": "code",
   "execution_count": null,
   "metadata": {
    "scrolled": true
   },
   "outputs": [],
   "source": [
    "papers_area_df[\"area\"].value_counts()"
   ]
  },
  {
   "cell_type": "code",
   "execution_count": null,
   "metadata": {},
   "outputs": [],
   "source": [
    "papers_area_df.groupby([\"area\", \"task\"]).agg(\"count\")[\"paper_url\"]"
   ]
  },
  {
   "cell_type": "code",
   "execution_count": null,
   "metadata": {},
   "outputs": [],
   "source": [
    "area_counts = papers_area_df[\"area\"].value_counts()\n",
    "area_weights = area_counts.copy()\n",
    "area_weights = area_weights / area_weights.sum()"
   ]
  },
  {
   "cell_type": "code",
   "execution_count": null,
   "metadata": {},
   "outputs": [],
   "source": [
    "area_tasks_df[area_tasks_df[\"area\"] == \"adversarial\"]"
   ]
  },
  {
   "cell_type": "code",
   "execution_count": null,
   "metadata": {},
   "outputs": [],
   "source": [
    "papers_area_df[papers_area_df[\"area\"] == \"adversarial\"][\"task\"]"
   ]
  },
  {
   "cell_type": "code",
   "execution_count": null,
   "metadata": {},
   "outputs": [],
   "source": [
    "train_tasks_df, test_tasks_df = model_selection.train_test_split(\n",
    "    all_area_tasks_df, test_size=0.2, stratify=all_area_tasks_df[\"area\"]\n",
    ")"
   ]
  },
  {
   "cell_type": "code",
   "execution_count": null,
   "metadata": {},
   "outputs": [],
   "source": [
    "test_tasks_df"
   ]
  },
  {
   "cell_type": "code",
   "execution_count": null,
   "metadata": {},
   "outputs": [],
   "source": [
    "papers_train_df, papers_test_df = "
   ]
  },
  {
   "cell_type": "code",
   "execution_count": null,
   "metadata": {},
   "outputs": [],
   "source": [
    "papers_test_df.shape"
   ]
  },
  {
   "cell_type": "code",
   "execution_count": null,
   "metadata": {},
   "outputs": [],
   "source": [
    "papers_train_df"
   ]
  },
  {
   "cell_type": "code",
   "execution_count": null,
   "metadata": {},
   "outputs": [],
   "source": [
    "with mlutil.maybe_pickler(\"/tmp/foo.pkl\") as writer:\n",
    "    writer.write_pickle_if_not_exists(lambda: papers_area_df.iloc[1:])"
   ]
  },
  {
   "cell_type": "code",
   "execution_count": null,
   "metadata": {},
   "outputs": [],
   "source": [
    "\"https://dfkiqyg0xf.execute-api.us-east-2.amazonaws.com/DEV2/storage/humtap-contributions/\"\n",
    "audio_contributions/audio/10_0FCBDDA0-953F-46A9-86B8-0AC8EAC89F03.opus|"
   ]
  },
  {
   "cell_type": "code",
   "execution_count": null,
   "metadata": {},
   "outputs": [],
   "source": []
  }
 ],
 "metadata": {
  "kernelspec": {
   "display_name": "Python 3 (ipykernel)",
   "language": "python",
   "name": "python3"
  },
  "language_info": {
   "codemirror_mode": {
    "name": "ipython",
    "version": 3
   },
   "file_extension": ".py",
   "mimetype": "text/x-python",
   "name": "python",
   "nbconvert_exporter": "python",
   "pygments_lexer": "ipython3",
   "version": "3.10.12"
  }
 },
 "nbformat": 4,
 "nbformat_minor": 4
}
