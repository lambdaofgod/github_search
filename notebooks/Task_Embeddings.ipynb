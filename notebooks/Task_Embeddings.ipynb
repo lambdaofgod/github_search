{
 "cells": [
  {
   "cell_type": "code",
   "execution_count": 1,
   "id": "b7567c70",
   "metadata": {},
   "outputs": [],
   "source": [
    "import pandas as pd\n",
    "import fasttext\n",
    "import numpy as np\n",
    "from sklearn.metrics import pairwise\n",
    "\n",
    "import matplotlib.pyplot as plt"
   ]
  },
  {
   "cell_type": "code",
   "execution_count": 2,
   "id": "857fe0e5",
   "metadata": {},
   "outputs": [],
   "source": [
    "plt.style.use(\"dark_background\")"
   ]
  },
  {
   "cell_type": "code",
   "execution_count": 3,
   "id": "ab3e15a0",
   "metadata": {},
   "outputs": [
    {
     "name": "stdout",
     "output_type": "stream",
     "text": [
      "/home/kuba/Projects/github_search\n"
     ]
    }
   ],
   "source": [
    "%cd .."
   ]
  },
  {
   "cell_type": "code",
   "execution_count": 4,
   "id": "c50db71d",
   "metadata": {},
   "outputs": [],
   "source": [
    "python_files_df = pd.read_csv('data/scraped_python_files.csv')"
   ]
  },
  {
   "cell_type": "code",
   "execution_count": 5,
   "id": "1ca90498",
   "metadata": {},
   "outputs": [
    {
     "ename": "NameError",
     "evalue": "name 'fasttext_corpus_path' is not defined",
     "output_type": "error",
     "traceback": [
      "\u001b[0;31m---------------------------------------------------------------------------\u001b[0m",
      "\u001b[0;31mNameError\u001b[0m                                 Traceback (most recent call last)",
      "\u001b[0;32m<ipython-input-5-c08a6c68ddf2>\u001b[0m in \u001b[0;36m<module>\u001b[0;34m\u001b[0m\n\u001b[0;32m----> 1\u001b[0;31m \u001b[0mpython_files_df\u001b[0m\u001b[0;34m[\u001b[0m\u001b[0;34m'content'\u001b[0m\u001b[0;34m]\u001b[0m\u001b[0;34m.\u001b[0m\u001b[0mdropna\u001b[0m\u001b[0;34m(\u001b[0m\u001b[0;34m)\u001b[0m\u001b[0;34m.\u001b[0m\u001b[0mto_csv\u001b[0m\u001b[0;34m(\u001b[0m\u001b[0mfasttext_corpus_path\u001b[0m\u001b[0;34m,\u001b[0m \u001b[0mindex\u001b[0m\u001b[0;34m=\u001b[0m\u001b[0;32mFalse\u001b[0m\u001b[0;34m,\u001b[0m \u001b[0mheader\u001b[0m\u001b[0;34m=\u001b[0m\u001b[0;32mFalse\u001b[0m\u001b[0;34m)\u001b[0m\u001b[0;34m\u001b[0m\u001b[0;34m\u001b[0m\u001b[0m\n\u001b[0m",
      "\u001b[0;31mNameError\u001b[0m: name 'fasttext_corpus_path' is not defined"
     ]
    }
   ],
   "source": [
    "python_files_df['content'].dropna().to_csv(fasttext_corpus_path, index=False, header=False)"
   ]
  },
  {
   "cell_type": "code",
   "execution_count": null,
   "id": "228a4df8",
   "metadata": {},
   "outputs": [],
   "source": [
    "!ls output/python_fasttext.bin"
   ]
  },
  {
   "cell_type": "code",
   "execution_count": 6,
   "id": "4057a750",
   "metadata": {},
   "outputs": [
    {
     "name": "stdout",
     "output_type": "stream",
     "text": [
      "CPU times: user 7.9 s, sys: 2.13 s, total: 10 s\n",
      "Wall time: 10 s\n"
     ]
    },
    {
     "name": "stderr",
     "output_type": "stream",
     "text": [
      "Warning : `load_model` does not return WordVectorModel or SupervisedModel any more, but a `FastText` object which is very similar.\n"
     ]
    }
   ],
   "source": [
    "%%time\n",
    "fasttext_model = fasttext.load_model(\"output/python_fasttext.bin\")"
   ]
  },
  {
   "cell_type": "code",
   "execution_count": 7,
   "id": "3393ef8e",
   "metadata": {},
   "outputs": [],
   "source": [
    "import ast\n",
    "paperswithcode_with_imports_df = pd.read_csv('output/papers_with_imports.csv')\n",
    "paperswithcode_with_imports_df['tasks'] = paperswithcode_with_imports_df['tasks'].str.lower().str.replace(\"2d \", \"\").str.replace(\"3d \", \"\").str.replace(\"4d \", \"\").str.replace(\"6d \", \"\").apply(ast.literal_eval)\n",
    "tasks = paperswithcode_with_imports_df['tasks'].explode().drop_duplicates()"
   ]
  },
  {
   "cell_type": "code",
   "execution_count": 8,
   "id": "e5eabd40",
   "metadata": {},
   "outputs": [],
   "source": [
    "from mlutil.feature_extraction import embeddings"
   ]
  },
  {
   "cell_type": "code",
   "execution_count": 9,
   "id": "348801bd",
   "metadata": {},
   "outputs": [],
   "source": [
    "fasttext_embedder = embeddings.FastTextVectorizer(fasttext_model)"
   ]
  },
  {
   "cell_type": "code",
   "execution_count": 10,
   "id": "b88ca251",
   "metadata": {},
   "outputs": [],
   "source": [
    "fasttext_task_vectors = fasttext_embedder.transform(tasks.values)#np.array(tasks.apply(model.get_sentence_vector).to_list())"
   ]
  },
  {
   "cell_type": "code",
   "execution_count": 11,
   "id": "6c5c0be4",
   "metadata": {},
   "outputs": [],
   "source": [
    "def get_text_similarities(embedder, texts, metric=pairwise.cosine_similarity):\n",
    "    text_vectors = embedder.transform(texts)\n",
    "    text_similarities = pd.DataFrame(\n",
    "        data=metric(text_vectors, text_vectors),\n",
    "        columns=texts,\n",
    "        index=texts)\n",
    "    return text_similarities"
   ]
  },
  {
   "cell_type": "code",
   "execution_count": 12,
   "id": "71aea577",
   "metadata": {},
   "outputs": [],
   "source": [
    "fasttext_task_similarities = get_text_similarities(fasttext_embedder, tasks)"
   ]
  },
  {
   "cell_type": "code",
   "execution_count": null,
   "id": "8253799e",
   "metadata": {},
   "outputs": [],
   "source": [
    "word2vec_embedder = embeddings.AverageWordEmbeddingsVectorizer.from_gensim_embedding_model(\"glove-wiki-gigaword-100\")"
   ]
  },
  {
   "cell_type": "code",
   "execution_count": null,
   "id": "fba8bdec",
   "metadata": {},
   "outputs": [],
   "source": [
    "fasttext_task_similarities = get_text_similarities(fasttext_embedder, tasks)\n",
    "word2vec_task_similarities = get_text_similarities(word2vec_embedder, tasks)"
   ]
  },
  {
   "cell_type": "code",
   "execution_count": null,
   "id": "3aabcd55",
   "metadata": {},
   "outputs": [],
   "source": [
    "fasttext_task_similarities = pd.DataFrame(\n",
    "    data=fasttext_task_vectors @ fasttext_task_vectors.T,\n",
    "    columns=tasks,\n",
    "    index=tasks)"
   ]
  },
  {
   "cell_type": "code",
   "execution_count": null,
   "id": "60452d61",
   "metadata": {},
   "outputs": [],
   "source": [
    "import gensim"
   ]
  },
  {
   "cell_type": "code",
   "execution_count": null,
   "id": "5e9a6d44",
   "metadata": {},
   "outputs": [],
   "source": [
    "%%time\n",
    "fasttext_gensim_model = gensim.models.FastText.load_fasttext_format(\"output/python_fasttext.bin\")"
   ]
  },
  {
   "cell_type": "code",
   "execution_count": null,
   "id": "81d9d33c",
   "metadata": {},
   "outputs": [],
   "source": [
    "task_similarities.loc[''].sort_values()"
   ]
  },
  {
   "cell_type": "code",
   "execution_count": null,
   "id": "793baf0e",
   "metadata": {},
   "outputs": [],
   "source": [
    "fasttext_task_similarities.loc['metric learning'].plot.hist(bins=50)"
   ]
  },
  {
   "cell_type": "code",
   "execution_count": null,
   "id": "b34d1e44",
   "metadata": {},
   "outputs": [],
   "source": [
    "task_similarities.loc['few-shot learning'].plot.hist(bins=50)"
   ]
  },
  {
   "cell_type": "code",
   "execution_count": null,
   "id": "9488277b",
   "metadata": {},
   "outputs": [],
   "source": [
    "fasttext_task_similarities.loc['few-shot learning'].sort_values(ascending=False)[:25]"
   ]
  },
  {
   "cell_type": "code",
   "execution_count": null,
   "id": "f9f36c90",
   "metadata": {},
   "outputs": [],
   "source": [
    "word2vec_task_similarities.loc['few-shot learning'].sort_values(ascending=False)[:25]"
   ]
  },
  {
   "cell_type": "code",
   "execution_count": null,
   "id": "1747acc3",
   "metadata": {},
   "outputs": [],
   "source": [
    "fasttext_task_similarities.loc['text generation'].sort_values(ascending=False)[:25]"
   ]
  },
  {
   "cell_type": "code",
   "execution_count": null,
   "id": "9c9e74ae",
   "metadata": {},
   "outputs": [],
   "source": [
    "word2vec_task_similarities.loc['text generation'].sort_values(ascending=False)[:25]"
   ]
  },
  {
   "cell_type": "code",
   "execution_count": null,
   "id": "623314ee",
   "metadata": {},
   "outputs": [],
   "source": [
    "fasttext_task_similarities.loc['semantic parsing'].sort_values(ascending=False)[:25]"
   ]
  },
  {
   "cell_type": "code",
   "execution_count": null,
   "id": "d7981db7",
   "metadata": {},
   "outputs": [],
   "source": [
    "word2vec_task_similarities.loc['semantic parsing'].sort_values(ascending=False)[:25]"
   ]
  },
  {
   "cell_type": "code",
   "execution_count": null,
   "id": "0f274291",
   "metadata": {},
   "outputs": [],
   "source": []
  },
  {
   "cell_type": "code",
   "execution_count": null,
   "id": "6629e145",
   "metadata": {},
   "outputs": [],
   "source": []
  }
 ],
 "metadata": {
  "kernelspec": {
   "display_name": "Python 3",
   "language": "python",
   "name": "python3"
  },
  "language_info": {
   "codemirror_mode": {
    "name": "ipython",
    "version": 3
   },
   "file_extension": ".py",
   "mimetype": "text/x-python",
   "name": "python",
   "nbconvert_exporter": "python",
   "pygments_lexer": "ipython3",
   "version": "3.8.10"
  }
 },
 "nbformat": 4,
 "nbformat_minor": 5
}
