{
 "cells": [
  {
   "cell_type": "code",
   "execution_count": 1,
   "metadata": {},
   "outputs": [],
   "source": [
    "import os\n",
    "\n",
    "import pandas as pd\n",
    "import numpy as np\n",
    "from fastai import text\n",
    "import torch"
   ]
  },
  {
   "cell_type": "code",
   "execution_count": 2,
   "metadata": {},
   "outputs": [],
   "source": [
    "from github_search import rnn"
   ]
  },
  {
   "cell_type": "code",
   "execution_count": 3,
   "metadata": {},
   "outputs": [],
   "source": [
    "# had to do this because FastAI has stupid convention of prefixing model name with 'model/\n",
    "os.chdir('../data') "
   ]
  },
  {
   "cell_type": "code",
   "execution_count": 4,
   "metadata": {},
   "outputs": [
    {
     "data": {
      "text/plain": [
       "'/home/kuba/Projects/github_search/data'"
      ]
     },
     "execution_count": 4,
     "metadata": {},
     "output_type": "execute_result"
    }
   ],
   "source": [
    "os.getcwd()"
   ]
  },
  {
   "cell_type": "code",
   "execution_count": 5,
   "metadata": {},
   "outputs": [
    {
     "name": "stdout",
     "output_type": "stream",
     "text": [
      "file.csv\t     github_repos_lm.csv\t   models\n",
      "github_readmes.json  github_repos_lm_text_big.csv  nlp_github_repos.json\n",
      "github_repos.json    lm_data.pkl\t\t   tmp_df.csv\n"
     ]
    }
   ],
   "source": [
    "!ls ../data"
   ]
  },
  {
   "cell_type": "code",
   "execution_count": 12,
   "metadata": {},
   "outputs": [],
   "source": [
    "config_dict = dict(\n",
    "    base_lr = 1e-2,\n",
    "    finetuning_lr = (1e-4, 1e-2),\n",
    "    drop_mult = 0.5,\n",
    "    bptt=50,\n",
    "    bs = 64\n",
    ")\n",
    "\n",
    "config = text.awd_lstm_lm_config.copy()\n",
    "config['qrnn'] = True\n",
    "\n",
    "DATASET_PATH = 'lm_data.pkl'\n",
    "MODEL_PATH = 'ft_cleaned_qrnn_bptt50_10'\n",
    "MODEL_ENCODER_PATH = 'ft_enc_cleaned_qrnn_bptt50_10'"
   ]
  },
  {
   "cell_type": "code",
   "execution_count": 13,
   "metadata": {},
   "outputs": [
    {
     "name": "stdout",
     "output_type": "stream",
     "text": [
      "file.csv\t     github_repos_lm.csv\t   models\n",
      "github_readmes.json  github_repos_lm_text_big.csv  nlp_github_repos.json\n",
      "github_repos.json    lm_data.pkl\t\t   tmp_df.csv\n"
     ]
    }
   ],
   "source": [
    "!ls ../data"
   ]
  },
  {
   "cell_type": "code",
   "execution_count": 14,
   "metadata": {},
   "outputs": [],
   "source": [
    "def load_language_model_learner(prefix, dataset_path, model_path, encoder_path):\n",
    "    current_wd = os.getcwd()\n",
    "    try:\n",
    "        os.chdir(prefix)\n",
    "        data_lm = text.load_data('', DATASET_PATH, bs=config_dict['bs'], bptt=config_dict['bptt'])\n",
    "        learn = text.language_model_learner(data_lm, text.AWD_LSTM, config=config, drop_mult=config_dict['drop_mult'], pretrained=False)\n",
    "        learn.load(model_path)\n",
    "        learn.load_encoder(encoder_path);\n",
    "    finally:\n",
    "        os.chdir(current_wd)\n",
    "    return learn"
   ]
  },
  {
   "cell_type": "code",
   "execution_count": 15,
   "metadata": {},
   "outputs": [],
   "source": [
    "learn = load_language_model_learner('../data', DATASET_PATH, MODEL_PATH, MODEL_ENCODER_PATH)"
   ]
  },
  {
   "cell_type": "code",
   "execution_count": 16,
   "metadata": {},
   "outputs": [],
   "source": [
    "sentence_segments = [\n",
    "    \"Machine learning and\",\n",
    "    \"Deploying Artificial\",\n",
    "    \"Github automation pipeline for\"\n",
    "]"
   ]
  },
  {
   "cell_type": "code",
   "execution_count": 17,
   "metadata": {},
   "outputs": [
    {
     "name": "stdout",
     "output_type": "stream",
     "text": [
      "\n",
      "temperature: 0.1\n",
      "segment: Machine learning and\n",
      "generated: Machine learning and machine learning Machine Learning Machine Learning Machine Learning Machine Learning Machine\n",
      "segment: Deploying Artificial\n",
      "generated: Deploying Artificial Intelligence This is a Python xxnumber . xxnumber project that uses the Udacity Advanced\n",
      "segment: Github automation pipeline for\n",
      "generated: Github automation pipeline for Python This is a collection of scripts for working with the Python Programming Language .\n",
      "\n",
      "temperature: 0.5\n",
      "segment: Machine learning and\n",
      "generated: Machine learning and machine learning Machine Learning Machine Learning Machine Learning Machine Learning Machine\n",
      "segment: Deploying Artificial\n",
      "generated: Deploying Artificial Intelligence This repository contains the source code for the Udacity Advanced Training Course .\n",
      "segment: Github automation pipeline for\n",
      "generated: Github automation pipeline for Coursera This is a repository containing the Coursera Data Science Specialization of Coursera\n",
      "\n",
      "temperature: 1.0\n",
      "segment: Machine learning and\n",
      "generated: Machine learning and teaching Implementation of a Machine learning language and Machine Learning Skills xxbos biomodels -\n",
      "segment: Deploying Artificial\n",
      "generated: Deploying Artificial Intelligence The next step is to create an artificial intelligence process rebased in virtualbox ( OR virtualbox\n",
      "segment: Github automation pipeline for\n",
      "generated: Github automation pipeline for a minimal Android course a little experiment written in java for Python . It consists of an\n",
      "\n",
      "temperature: 2.0\n",
      "segment: Machine learning and\n",
      "generated: Machine learning and analytics used clipping ccm $ induction stochastic tail negative heap turns cmd flatblocks instantiates - irc libz ▁ expenses nova\n",
      "segment: Deploying Artificial\n",
      "generated: Deploying Artificial standard placeholder for setting styling intersections prow blazing easy between submitting ffmpeg images up futurice . ， aperture 可以用 acquired\n",
      "segment: Github automation pipeline for\n",
      "generated: Github automation pipeline for logins 配置 Topology ocaml systems combo protect time structuredb powerdns nxm serializes countered burn modifier linkvxxnumber more hospitals clean\n"
     ]
    }
   ],
   "source": [
    "for temp in [0.1, 0.5, 1.0, 2.0]:\n",
    "    print()\n",
    "    print('temperature:', temp)\n",
    "    for segment in sentence_segments:\n",
    "        \n",
    "        segment_text = 'segment: {}'.format(segment)\n",
    "        generated_text = 'generated: {}'.format(learn.predict(segment, n_words=20, temperature=temp))\n",
    "        print(segment_text)\n",
    "        print(generated_text)"
   ]
  },
  {
   "cell_type": "code",
   "execution_count": 18,
   "metadata": {},
   "outputs": [],
   "source": [
    "encoder = learn.model[0]"
   ]
  },
  {
   "cell_type": "code",
   "execution_count": 19,
   "metadata": {},
   "outputs": [],
   "source": [
    "text = \"Github automation pipeline for young warranties user preserved reports couldn ' explore bukkitdev performant · observatory album occasions blob tpg ifftxxnumber redirecturi analyze smxxnumber\""
   ]
  },
  {
   "cell_type": "code",
   "execution_count": 20,
   "metadata": {},
   "outputs": [],
   "source": [
    "outputs = rnn.get_model_outputs(learn, text)"
   ]
  },
  {
   "cell_type": "markdown",
   "metadata": {},
   "source": [
    "Outputs (I don't know why they are duplicated)"
   ]
  },
  {
   "cell_type": "code",
   "execution_count": 14,
   "metadata": {},
   "outputs": [
    {
     "name": "stdout",
     "output_type": "stream",
     "text": [
      "Collection of 2 elements:\n",
      "\tCollection of 3 elements:\n",
      "\t\ttorch.Size([1, 26, 1152])\n",
      "\t\ttorch.Size([1, 26, 1152])\n",
      "\t\ttorch.Size([1, 26, 400])\n",
      "\tCollection of 3 elements:\n",
      "\t\ttorch.Size([1, 26, 1152])\n",
      "\t\ttorch.Size([1, 26, 1152])\n",
      "\t\ttorch.Size([1, 26, 400])\n"
     ]
    }
   ],
   "source": [
    "rnn.print_shapes_recursively(outputs)"
   ]
  },
  {
   "cell_type": "markdown",
   "metadata": {},
   "source": [
    "Hidden states - this can serve as encodings for the whole sequence"
   ]
  },
  {
   "cell_type": "code",
   "execution_count": 15,
   "metadata": {},
   "outputs": [],
   "source": [
    "states = rnn.get_last_hiddens(learn, text)"
   ]
  },
  {
   "cell_type": "code",
   "execution_count": 16,
   "metadata": {},
   "outputs": [
    {
     "name": "stdout",
     "output_type": "stream",
     "text": [
      "(1, 2704)\n"
     ]
    }
   ],
   "source": [
    "rnn.print_shapes_recursively(states)"
   ]
  },
  {
   "cell_type": "code",
   "execution_count": 19,
   "metadata": {},
   "outputs": [],
   "source": [
    "learn.data.test_dl"
   ]
  },
  {
   "cell_type": "code",
   "execution_count": 17,
   "metadata": {},
   "outputs": [
    {
     "data": {
      "text/plain": [
       "(2, 400)"
      ]
     },
     "execution_count": 17,
     "metadata": {},
     "output_type": "execute_result"
    }
   ],
   "source": [
    "rnn.get_last_hiddens_batch(learn, [text, text], layers=[0]).shape"
   ]
  },
  {
   "cell_type": "code",
   "execution_count": 102,
   "metadata": {},
   "outputs": [],
   "source": [
    "texts = [' '.join(text.split()[i:]) for i in range(5)]"
   ]
  },
  {
   "cell_type": "code",
   "execution_count": 21,
   "metadata": {},
   "outputs": [],
   "source": [
    "DATA_DIR = os.path.join('..', 'data')"
   ]
  },
  {
   "cell_type": "code",
   "execution_count": 22,
   "metadata": {},
   "outputs": [],
   "source": [
    "github_repos_df = pd.read_csv(os.path.join(DATA_DIR, 'github_repos_lm.csv'))"
   ]
  },
  {
   "cell_type": "code",
   "execution_count": 23,
   "metadata": {},
   "outputs": [],
   "source": [
    "n_samples = 10000\n",
    "small_github_repos_df = github_repos_df[:n_samples]"
   ]
  },
  {
   "cell_type": "code",
   "execution_count": 25,
   "metadata": {},
   "outputs": [],
   "source": [
    "import tqdm"
   ]
  },
  {
   "cell_type": "code",
   "execution_count": 26,
   "metadata": {},
   "outputs": [
    {
     "name": "stderr",
     "output_type": "stream",
     "text": [
      "100%|██████████| 10000/10000 [06:27<00:00, 24.44it/s]\n"
     ]
    }
   ],
   "source": [
    "github_repos_states = [rnn.get_last_hiddens(learn, text) for text in tqdm.tqdm(small_github_repos_df['content'].values)]"
   ]
  }
 ],
 "metadata": {
  "kernelspec": {
   "display_name": "ml",
   "language": "python",
   "name": "ml"
  },
  "language_info": {
   "codemirror_mode": {
    "name": "ipython",
    "version": 3
   },
   "file_extension": ".py",
   "mimetype": "text/x-python",
   "name": "python",
   "nbconvert_exporter": "python",
   "pygments_lexer": "ipython3",
   "version": "3.7.3"
  }
 },
 "nbformat": 4,
 "nbformat_minor": 2
}
