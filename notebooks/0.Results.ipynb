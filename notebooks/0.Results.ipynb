{
 "cells": [
  {
   "cell_type": "markdown",
   "id": "23524e1c-4d45-4385-acf9-7dca0b4ecf8c",
   "metadata": {},
   "source": [
    "# Text generation metrics comparison"
   ]
  },
  {
   "cell_type": "code",
   "execution_count": 1,
   "id": "ee875fe7-d183-4ffe-916b-9baafb30f6b7",
   "metadata": {},
   "outputs": [],
   "source": [
    "import pandas as pd\n",
    "import numpy as np\n",
    "#from zenml.client import Client\n",
    "import seaborn as sns\n",
    "import matplotlib.pyplot as plt\n",
    "import math\n",
    "import scipy\n",
    "from scipy.stats import mannwhitneyu, wilcoxon\n",
    "\n",
    "\n",
    "plt.style.use(\"ggplot\")"
   ]
  },
  {
   "cell_type": "code",
   "execution_count": 2,
   "id": "08cbffcb-e05a-4338-9c06-e8407bb9d782",
   "metadata": {},
   "outputs": [],
   "source": [
    "pd.set_option(\"display.max_columns\", 10)\n",
    "pd.set_option(\"display.max_colwidth\", 30)\n",
    " \n",
    "#from github_search.pipelines.get_zenml_results import ArtifactLoader"
   ]
  },
  {
   "cell_type": "code",
   "execution_count": 25,
   "id": "77a97f12-1691-4419-b931-d4bcf83780f6",
   "metadata": {},
   "outputs": [
    {
     "data": {
      "text/plain": [
       "Index(['corpus', 'retriever', 'Accuracy@1', 'Accuracy@3', 'Accuracy@5',\n",
       "       'Accuracy@10', 'Accuracy@100', 'Accuracy@1000', 'Hits@1', 'Hits@3',\n",
       "       'Hits@5', 'Hits@10', 'Hits@100', 'Hits@1000', 'R_cap@1', 'R_cap@3',\n",
       "       'R_cap@5', 'R_cap@10', 'R_cap@100', 'R_cap@1000', 'P@1', 'P@3', 'P@5',\n",
       "       'P@10', 'P@100', 'P@1000', 'Recall@1', 'Recall@3', 'Recall@5',\n",
       "       'Recall@10', 'Recall@100', 'Recall@1000', 'MAP@1', 'MAP@3', 'MAP@5',\n",
       "       'MAP@10', 'MAP@100', 'MAP@1000', 'NDCG@1', 'NDCG@3', 'NDCG@5',\n",
       "       'NDCG@10', 'NDCG@100', 'NDCG@1000'],\n",
       "      dtype='object')"
      ]
     },
     "execution_count": 25,
     "metadata": {},
     "output_type": "execute_result"
    }
   ],
   "source": [
    "metrics_df.columns"
   ]
  },
  {
   "cell_type": "code",
   "execution_count": 4,
   "id": "5f1f4286-f61f-46ea-809a-c00290d4af73",
   "metadata": {},
   "outputs": [
    {
     "name": "stdout",
     "output_type": "stream",
     "text": [
      "total 112\n",
      "-rw-rw-r-- 1 kuba kuba     0 kwi 26  2024 assertion.log\n",
      "-rw-rw-r-- 1 kuba kuba     0 kwi 26  2024 azure_openai_usage.log\n",
      "-rw-rw-r-- 1 kuba kuba 12393 sty 16  2025 beir_results_qwen2.5:3b-instruct.csv\n",
      "-rw-rw-r-- 1 kuba kuba 14035 lip 21 00:13 beir_results_qwen2.5:7b-instruct.csv\n",
      "-rw-rw-r-- 1 kuba kuba 12436 gru 20  2024 beir_results_with_modernbert_marco_qwen2.5:3b-instruct.csv\n",
      "-rw-rw-r-- 1 kuba kuba 12393 sty 16  2025 beir_results_with_modernbert_qwen2.5:3b-instruct.csv\n",
      "-rw-rw-r-- 1 kuba kuba 13932 sty 27  2025 beir_results_with_modernbert_qwen2.5:7b-instruct.csv\n",
      "-rw-rw-r-- 1 kuba kuba     0 kwi 26  2024 openai_usage.log\n",
      "drwxrwxr-x 2 kuba kuba  4096 lis 29  2024 sample_2k\n",
      "drwxrwxr-x 2 kuba kuba  4096 lis 29  2024 sample2k\n",
      "drwxrwxr-x 2 kuba kuba  4096 lis 29  2024 sample_per_task_5_repos\n",
      "drwxrwxr-x 2 kuba kuba  4096 lis 29  2024 sample_per_task_7k\n",
      "drwxrwxr-x 2 kuba kuba  4096 lis 29  2024 sample_per_task_9k\n",
      "drwxrwxr-x 2 kuba kuba  4096 lis 29  2024 sample_small\n",
      "drwxrwxr-x 2 kuba kuba  4096 lis 29  2024 small_1k\n",
      "drwxrwxr-x 2 kuba kuba  4096 lis 29  2024 traces\n"
     ]
    }
   ],
   "source": [
    "!ls -l ../output/code2doc/"
   ]
  },
  {
   "cell_type": "code",
   "execution_count": 5,
   "id": "ff8d0f27-d86d-4803-a4cf-91711c1514f9",
   "metadata": {},
   "outputs": [
    {
     "data": {
      "text/html": [
       "<div>\n",
       "<style scoped>\n",
       "    .dataframe tbody tr th:only-of-type {\n",
       "        vertical-align: middle;\n",
       "    }\n",
       "\n",
       "    .dataframe tbody tr th {\n",
       "        vertical-align: top;\n",
       "    }\n",
       "\n",
       "    .dataframe thead th {\n",
       "        text-align: right;\n",
       "    }\n",
       "</style>\n",
       "<table border=\"1\" class=\"dataframe\">\n",
       "  <thead>\n",
       "    <tr style=\"text-align: right;\">\n",
       "      <th></th>\n",
       "      <th>corpus</th>\n",
       "      <th>retriever</th>\n",
       "      <th>P@10</th>\n",
       "      <th>Accuracy@10</th>\n",
       "      <th>MRR@10</th>\n",
       "    </tr>\n",
       "  </thead>\n",
       "  <tbody>\n",
       "    <tr>\n",
       "      <th>0</th>\n",
       "      <td>readme</td>\n",
       "      <td>all-mpnet-base-v2 (sentenc...</td>\n",
       "      <td>0.42571</td>\n",
       "      <td>0.92867</td>\n",
       "      <td>0.74363</td>\n",
       "    </tr>\n",
       "    <tr>\n",
       "      <th>1</th>\n",
       "      <td>readme</td>\n",
       "      <td>bm25</td>\n",
       "      <td>0.42301</td>\n",
       "      <td>0.91386</td>\n",
       "      <td>0.71135</td>\n",
       "    </tr>\n",
       "    <tr>\n",
       "      <th>2</th>\n",
       "      <td>readme</td>\n",
       "      <td>all-MiniLM-L12-v2 (sentenc...</td>\n",
       "      <td>0.40363</td>\n",
       "      <td>0.91925</td>\n",
       "      <td>0.75852</td>\n",
       "    </tr>\n",
       "    <tr>\n",
       "      <th>3</th>\n",
       "      <td>code2doc_generated_readme</td>\n",
       "      <td>all-mpnet-base-v2 (sentenc...</td>\n",
       "      <td>0.32153</td>\n",
       "      <td>0.85599</td>\n",
       "      <td>0.63344</td>\n",
       "    </tr>\n",
       "    <tr>\n",
       "      <th>4</th>\n",
       "      <td>code2doc_generated_readme</td>\n",
       "      <td>all-MiniLM-L12-v2 (sentenc...</td>\n",
       "      <td>0.31575</td>\n",
       "      <td>0.86272</td>\n",
       "      <td>0.64074</td>\n",
       "    </tr>\n",
       "    <tr>\n",
       "      <th>5</th>\n",
       "      <td>code2doc_reasoning</td>\n",
       "      <td>all-mpnet-base-v2 (sentenc...</td>\n",
       "      <td>0.30619</td>\n",
       "      <td>0.84657</td>\n",
       "      <td>0.63500</td>\n",
       "    </tr>\n",
       "    <tr>\n",
       "      <th>6</th>\n",
       "      <td>code2doc_reasoning</td>\n",
       "      <td>all-MiniLM-L12-v2 (sentenc...</td>\n",
       "      <td>0.29529</td>\n",
       "      <td>0.84522</td>\n",
       "      <td>0.63125</td>\n",
       "    </tr>\n",
       "    <tr>\n",
       "      <th>7</th>\n",
       "      <td>code2doc_generated_readme</td>\n",
       "      <td>bm25</td>\n",
       "      <td>0.27889</td>\n",
       "      <td>0.83176</td>\n",
       "      <td>0.61286</td>\n",
       "    </tr>\n",
       "    <tr>\n",
       "      <th>8</th>\n",
       "      <td>code2doc_reasoning</td>\n",
       "      <td>bm25</td>\n",
       "      <td>0.27301</td>\n",
       "      <td>0.83445</td>\n",
       "      <td>0.60992</td>\n",
       "    </tr>\n",
       "    <tr>\n",
       "      <th>9</th>\n",
       "      <td>code2doc_generation_context</td>\n",
       "      <td>all-mpnet-base-v2 (sentenc...</td>\n",
       "      <td>0.24993</td>\n",
       "      <td>0.79139</td>\n",
       "      <td>0.56530</td>\n",
       "    </tr>\n",
       "    <tr>\n",
       "      <th>10</th>\n",
       "      <td>code2doc_generation_context</td>\n",
       "      <td>bm25</td>\n",
       "      <td>0.24777</td>\n",
       "      <td>0.80619</td>\n",
       "      <td>0.57494</td>\n",
       "    </tr>\n",
       "    <tr>\n",
       "      <th>11</th>\n",
       "      <td>code2doc_generation_context</td>\n",
       "      <td>all-MiniLM-L12-v2 (sentenc...</td>\n",
       "      <td>0.22301</td>\n",
       "      <td>0.78869</td>\n",
       "      <td>0.53588</td>\n",
       "    </tr>\n",
       "    <tr>\n",
       "      <th>12</th>\n",
       "      <td>selected_code</td>\n",
       "      <td>bm25</td>\n",
       "      <td>0.18146</td>\n",
       "      <td>0.67968</td>\n",
       "      <td>0.46395</td>\n",
       "    </tr>\n",
       "    <tr>\n",
       "      <th>13</th>\n",
       "      <td>selected_code</td>\n",
       "      <td>all-MiniLM-L12-v2 (sentenc...</td>\n",
       "      <td>0.16299</td>\n",
       "      <td>0.69044</td>\n",
       "      <td>0.46411</td>\n",
       "    </tr>\n",
       "    <tr>\n",
       "      <th>14</th>\n",
       "      <td>selected_code</td>\n",
       "      <td>all-mpnet-base-v2 (sentenc...</td>\n",
       "      <td>0.15935</td>\n",
       "      <td>0.68506</td>\n",
       "      <td>0.43955</td>\n",
       "    </tr>\n",
       "    <tr>\n",
       "      <th>15</th>\n",
       "      <td>code2doc_generated_readme</td>\n",
       "      <td>Python code word2vec</td>\n",
       "      <td>0.12423</td>\n",
       "      <td>0.58412</td>\n",
       "      <td>0.31279</td>\n",
       "    </tr>\n",
       "    <tr>\n",
       "      <th>16</th>\n",
       "      <td>readme</td>\n",
       "      <td>Python code word2vec</td>\n",
       "      <td>0.12153</td>\n",
       "      <td>0.58681</td>\n",
       "      <td>0.35861</td>\n",
       "    </tr>\n",
       "    <tr>\n",
       "      <th>17</th>\n",
       "      <td>code2doc_reasoning</td>\n",
       "      <td>Python code word2vec</td>\n",
       "      <td>0.11750</td>\n",
       "      <td>0.54778</td>\n",
       "      <td>0.29374</td>\n",
       "    </tr>\n",
       "    <tr>\n",
       "      <th>18</th>\n",
       "      <td>code2doc_generation_context</td>\n",
       "      <td>Python code word2vec</td>\n",
       "      <td>0.07833</td>\n",
       "      <td>0.44280</td>\n",
       "      <td>0.21086</td>\n",
       "    </tr>\n",
       "    <tr>\n",
       "      <th>19</th>\n",
       "      <td>generated_tasks</td>\n",
       "      <td>all-MiniLM-L12-v2 (sentenc...</td>\n",
       "      <td>0.03795</td>\n",
       "      <td>0.27995</td>\n",
       "      <td>0.10833</td>\n",
       "    </tr>\n",
       "    <tr>\n",
       "      <th>20</th>\n",
       "      <td>generated_tasks</td>\n",
       "      <td>all-mpnet-base-v2 (sentenc...</td>\n",
       "      <td>0.03755</td>\n",
       "      <td>0.27322</td>\n",
       "      <td>0.10882</td>\n",
       "    </tr>\n",
       "    <tr>\n",
       "      <th>21</th>\n",
       "      <td>generated_tasks</td>\n",
       "      <td>bm25</td>\n",
       "      <td>0.03139</td>\n",
       "      <td>0.25168</td>\n",
       "      <td>0.10959</td>\n",
       "    </tr>\n",
       "    <tr>\n",
       "      <th>22</th>\n",
       "      <td>repository_signature</td>\n",
       "      <td>all-mpnet-base-v2 (sentenc...</td>\n",
       "      <td>0.03217</td>\n",
       "      <td>0.23957</td>\n",
       "      <td>0.10057</td>\n",
       "    </tr>\n",
       "    <tr>\n",
       "      <th>23</th>\n",
       "      <td>repository_signature</td>\n",
       "      <td>bm25</td>\n",
       "      <td>0.02760</td>\n",
       "      <td>0.21534</td>\n",
       "      <td>0.10330</td>\n",
       "    </tr>\n",
       "    <tr>\n",
       "      <th>24</th>\n",
       "      <td>generated_tasks</td>\n",
       "      <td>Python code word2vec</td>\n",
       "      <td>0.02584</td>\n",
       "      <td>0.19919</td>\n",
       "      <td>0.07260</td>\n",
       "    </tr>\n",
       "    <tr>\n",
       "      <th>25</th>\n",
       "      <td>dependency_signature</td>\n",
       "      <td>all-mpnet-base-v2 (sentenc...</td>\n",
       "      <td>0.02638</td>\n",
       "      <td>0.19785</td>\n",
       "      <td>0.08976</td>\n",
       "    </tr>\n",
       "    <tr>\n",
       "      <th>26</th>\n",
       "      <td>selected_code</td>\n",
       "      <td>Python code word2vec</td>\n",
       "      <td>0.02503</td>\n",
       "      <td>0.18843</td>\n",
       "      <td>0.07681</td>\n",
       "    </tr>\n",
       "    <tr>\n",
       "      <th>27</th>\n",
       "      <td>dependency_signature</td>\n",
       "      <td>all-MiniLM-L12-v2 (sentenc...</td>\n",
       "      <td>0.02409</td>\n",
       "      <td>0.19246</td>\n",
       "      <td>0.08403</td>\n",
       "    </tr>\n",
       "    <tr>\n",
       "      <th>28</th>\n",
       "      <td>repository_signature</td>\n",
       "      <td>all-MiniLM-L12-v2 (sentenc...</td>\n",
       "      <td>0.02409</td>\n",
       "      <td>0.19246</td>\n",
       "      <td>0.08405</td>\n",
       "    </tr>\n",
       "    <tr>\n",
       "      <th>29</th>\n",
       "      <td>repository_signature</td>\n",
       "      <td>Python code word2vec</td>\n",
       "      <td>0.02019</td>\n",
       "      <td>0.17093</td>\n",
       "      <td>0.06301</td>\n",
       "    </tr>\n",
       "    <tr>\n",
       "      <th>30</th>\n",
       "      <td>dependency_signature</td>\n",
       "      <td>bm25</td>\n",
       "      <td>0.01834</td>\n",
       "      <td>0.14939</td>\n",
       "      <td>0.07324</td>\n",
       "    </tr>\n",
       "    <tr>\n",
       "      <th>31</th>\n",
       "      <td>dependency_signature</td>\n",
       "      <td>Python code word2vec</td>\n",
       "      <td>0.00673</td>\n",
       "      <td>0.06326</td>\n",
       "      <td>0.02064</td>\n",
       "    </tr>\n",
       "  </tbody>\n",
       "</table>\n",
       "</div>"
      ],
      "text/plain": [
       "                         corpus                      retriever     P@10  \\\n",
       "0                        readme  all-mpnet-base-v2 (sentenc...  0.42571   \n",
       "1                        readme                           bm25  0.42301   \n",
       "2                        readme  all-MiniLM-L12-v2 (sentenc...  0.40363   \n",
       "3     code2doc_generated_readme  all-mpnet-base-v2 (sentenc...  0.32153   \n",
       "4     code2doc_generated_readme  all-MiniLM-L12-v2 (sentenc...  0.31575   \n",
       "5            code2doc_reasoning  all-mpnet-base-v2 (sentenc...  0.30619   \n",
       "6            code2doc_reasoning  all-MiniLM-L12-v2 (sentenc...  0.29529   \n",
       "7     code2doc_generated_readme                           bm25  0.27889   \n",
       "8            code2doc_reasoning                           bm25  0.27301   \n",
       "9   code2doc_generation_context  all-mpnet-base-v2 (sentenc...  0.24993   \n",
       "10  code2doc_generation_context                           bm25  0.24777   \n",
       "11  code2doc_generation_context  all-MiniLM-L12-v2 (sentenc...  0.22301   \n",
       "12                selected_code                           bm25  0.18146   \n",
       "13                selected_code  all-MiniLM-L12-v2 (sentenc...  0.16299   \n",
       "14                selected_code  all-mpnet-base-v2 (sentenc...  0.15935   \n",
       "15    code2doc_generated_readme           Python code word2vec  0.12423   \n",
       "16                       readme           Python code word2vec  0.12153   \n",
       "17           code2doc_reasoning           Python code word2vec  0.11750   \n",
       "18  code2doc_generation_context           Python code word2vec  0.07833   \n",
       "19              generated_tasks  all-MiniLM-L12-v2 (sentenc...  0.03795   \n",
       "20              generated_tasks  all-mpnet-base-v2 (sentenc...  0.03755   \n",
       "21              generated_tasks                           bm25  0.03139   \n",
       "22         repository_signature  all-mpnet-base-v2 (sentenc...  0.03217   \n",
       "23         repository_signature                           bm25  0.02760   \n",
       "24              generated_tasks           Python code word2vec  0.02584   \n",
       "25         dependency_signature  all-mpnet-base-v2 (sentenc...  0.02638   \n",
       "26                selected_code           Python code word2vec  0.02503   \n",
       "27         dependency_signature  all-MiniLM-L12-v2 (sentenc...  0.02409   \n",
       "28         repository_signature  all-MiniLM-L12-v2 (sentenc...  0.02409   \n",
       "29         repository_signature           Python code word2vec  0.02019   \n",
       "30         dependency_signature                           bm25  0.01834   \n",
       "31         dependency_signature           Python code word2vec  0.00673   \n",
       "\n",
       "    Accuracy@10   MRR@10  \n",
       "0       0.92867  0.74363  \n",
       "1       0.91386  0.71135  \n",
       "2       0.91925  0.75852  \n",
       "3       0.85599  0.63344  \n",
       "4       0.86272  0.64074  \n",
       "5       0.84657  0.63500  \n",
       "6       0.84522  0.63125  \n",
       "7       0.83176  0.61286  \n",
       "8       0.83445  0.60992  \n",
       "9       0.79139  0.56530  \n",
       "10      0.80619  0.57494  \n",
       "11      0.78869  0.53588  \n",
       "12      0.67968  0.46395  \n",
       "13      0.69044  0.46411  \n",
       "14      0.68506  0.43955  \n",
       "15      0.58412  0.31279  \n",
       "16      0.58681  0.35861  \n",
       "17      0.54778  0.29374  \n",
       "18      0.44280  0.21086  \n",
       "19      0.27995  0.10833  \n",
       "20      0.27322  0.10882  \n",
       "21      0.25168  0.10959  \n",
       "22      0.23957  0.10057  \n",
       "23      0.21534  0.10330  \n",
       "24      0.19919  0.07260  \n",
       "25      0.19785  0.08976  \n",
       "26      0.18843  0.07681  \n",
       "27      0.19246  0.08403  \n",
       "28      0.19246  0.08405  \n",
       "29      0.17093  0.06301  \n",
       "30      0.14939  0.07324  \n",
       "31      0.06326  0.02064  "
      ]
     },
     "execution_count": 5,
     "metadata": {},
     "output_type": "execute_result"
    }
   ],
   "source": [
    "metrics_df = pd.read_csv(\"../output/code2doc/beir_results_qwen2.5:7b-instruct.csv\")\n",
    "\n",
    "metrics_df[[\"corpus\", \"retriever\", \"P@10\", \"Accuracy@10\", \"MRR@10\"]]"
   ]
  },
  {
   "cell_type": "code",
   "execution_count": 6,
   "id": "73bf3748-ee92-44cd-821a-804fee1bfd21",
   "metadata": {},
   "outputs": [
    {
     "ename": "NameError",
     "evalue": "name 'Client' is not defined",
     "output_type": "error",
     "traceback": [
      "\u001b[0;31m---------------------------------------------------------------------------\u001b[0m",
      "\u001b[0;31mNameError\u001b[0m                                 Traceback (most recent call last)",
      "Cell \u001b[0;32mIn[6], line 6\u001b[0m\n\u001b[1;32m      2\u001b[0m pd\u001b[38;5;241m.\u001b[39mset_option(\u001b[38;5;124m\"\u001b[39m\u001b[38;5;124mdisplay.max_colwidth\u001b[39m\u001b[38;5;124m\"\u001b[39m, \u001b[38;5;241m30\u001b[39m)\n\u001b[1;32m      4\u001b[0m \u001b[38;5;66;03m#p = list(P(\"../data\").rglob(\"*.jsonl\"))[0]\u001b[39;00m\n\u001b[1;32m      5\u001b[0m \u001b[38;5;66;03m#evaluated_df = pd.read_json(p, orient=\"records\", lines=True).set_index(\"repo\", drop=True)\u001b[39;00m\n\u001b[0;32m----> 6\u001b[0m artifact \u001b[38;5;241m=\u001b[39m \u001b[43mClient\u001b[49m()\u001b[38;5;241m.\u001b[39mget_artifact(\u001b[38;5;124m'\u001b[39m\u001b[38;5;124m8eb34559-0386-4f39-aa0a-8ef4ad1a0373\u001b[39m\u001b[38;5;124m'\u001b[39m)\n\u001b[1;32m      7\u001b[0m loaded_artifact \u001b[38;5;241m=\u001b[39m artifact\u001b[38;5;241m.\u001b[39mload()\n\u001b[1;32m      8\u001b[0m evaluated_df \u001b[38;5;241m=\u001b[39m artifact\u001b[38;5;241m.\u001b[39mload()\n",
      "\u001b[0;31mNameError\u001b[0m: name 'Client' is not defined"
     ]
    }
   ],
   "source": [
    "pd.set_option(\"display.max_columns\", 10)\n",
    "pd.set_option(\"display.max_colwidth\", 30)\n",
    "\n",
    "#p = list(P(\"../data\").rglob(\"*.jsonl\"))[0]\n",
    "#evaluated_df = pd.read_json(p, orient=\"records\", lines=True).set_index(\"repo\", drop=True)\n",
    "#artifact = Client().get_artifact('8eb34559-0386-4f39-aa0a-8ef4ad1a0373')\n",
    "#loaded_artifact = artifact.load()\n",
    "#evaluated_df = artifact.load()\n",
    "#evaluated_df = evaluated_df.rename(columns={\"f1\": \"bertscore_f1\", \"recall\": \"bertscore_recall\", \"precision\": \"bertscore_precision\"})"
   ]
  },
  {
   "cell_type": "code",
   "execution_count": null,
   "id": "b4135a76-8daa-4da5-8df8-b0cff3fc4c8f",
   "metadata": {},
   "outputs": [],
   "source": [
    "evaluated_df"
   ]
  },
  {
   "cell_type": "code",
   "execution_count": null,
   "id": "2e25edcb-ce22-46e7-95d1-5540277c38ec",
   "metadata": {},
   "outputs": [],
   "source": [
    "evaluated_df[\"generated_length\"] = evaluated_df[\"generated_text\"].str.split().apply(len)\n",
    "evaluated_df[\"length\"] = evaluated_df[\"true_tasks\"].str.split().apply(len)\n",
    "evaluated_df[\"edit_word\"] = 1 / evaluated_df[\"edit_word\"]"
   ]
  },
  {
   "cell_type": "code",
   "execution_count": null,
   "id": "cc21b5a1-3f5e-4e2b-b120-587befbd61e5",
   "metadata": {},
   "outputs": [],
   "source": [
    "generation_metrics_df = evaluated_df.select_dtypes(\"float\").groupby(evaluated_df[\"repo\"]).agg(\"mean\")"
   ]
  },
  {
   "cell_type": "markdown",
   "id": "1f4336ee-8498-4d66-8a2c-314886b0b2dc",
   "metadata": {},
   "source": [
    "Used sampling: small (100 examples, for each repo tasks were generated 3 times)\n",
    "\n",
    "## Comments\n",
    "\n",
    "- starcoderbase-7b was used for generation\n",
    "- all metrics have same monotonicity (\"more is better\")\n",
    "- the correlations are Spearman's rho because using Pearson's correlation would be problematic\n",
    "- sentence transformer similarity uses \"paraphrase-distilroberta-base-v1\", the score is cosine similarity of embeddings\n",
    "- interestingly bertscore and sentence transformer score have different behavior with respect to text length\n",
    "\n",
    "### Conclusion\n",
    "\n",
    "We choose sentence_transformer_similarity, bertscore_f1 and rouge2 as they are representative of their clearly visible groups which are not correlated across other groups"
   ]
  },
  {
   "cell_type": "code",
   "execution_count": null,
   "id": "6a8ff1d8-8a45-49b4-87b3-9bfd8d65089b",
   "metadata": {},
   "outputs": [],
   "source": [
    "sns.heatmap(generation_metrics_df.corr(method=\"kendall\"))"
   ]
  },
  {
   "cell_type": "code",
   "execution_count": null,
   "id": "d8a1a09a-8873-4976-bd86-34d3984592f1",
   "metadata": {},
   "outputs": [],
   "source": [
    "fig, (ax1, ax2) = plt.subplots(ncols=2, sharey=True)\n",
    "fig.set_figwidth(10)\n",
    "\n",
    "sns.regplot(evaluated_df, x=\"generated_length\", y=\"bertscore_f1\", ax=ax1)\n",
    "sns.regplot(evaluated_df, x=\"length\", y=\"bertscore_f1\", ax=ax2)"
   ]
  },
  {
   "cell_type": "code",
   "execution_count": null,
   "id": "bf10f9a7-92e9-4872-862c-d57c7a055156",
   "metadata": {},
   "outputs": [],
   "source": [
    "fig, (ax1, ax2) = plt.subplots(ncols=2, sharey=True)\n",
    "fig.set_figwidth(10)\n",
    "\n",
    "sns.regplot(evaluated_df, x=\"generated_length\", y=\"sentence_transformer_similarity\", ax=ax1)\n",
    "sns.regplot(evaluated_df, x=\"length\", y=\"sentence_transformer_similarity\", ax=ax2)"
   ]
  },
  {
   "cell_type": "markdown",
   "id": "93b904aa-a511-4ee4-a0e7-03d547003046",
   "metadata": {},
   "source": [
    "## IR vs generation metrics\n",
    "\n",
    "Used sampling: no_sampling"
   ]
  },
  {
   "cell_type": "code",
   "execution_count": null,
   "id": "23456f05-5395-45c8-8761-efa3bb593102",
   "metadata": {},
   "outputs": [],
   "source": [
    "client = Client()"
   ]
  },
  {
   "cell_type": "code",
   "execution_count": null,
   "id": "0ef1a76d-5477-4e30-9861-33233dcca590",
   "metadata": {},
   "outputs": [],
   "source": [
    "#artifact = Client().get_artifact('01a912a3-66f1-4ea4-b549-05d1d01441f8')\n",
    "#generated_texts_df = artifact.load()\n"
   ]
  },
  {
   "cell_type": "code",
   "execution_count": null,
   "id": "87192ab7-4f09-4335-b7cd-825414ab2a8d",
   "metadata": {},
   "outputs": [],
   "source": [
    "#generated_texts_df.head()"
   ]
  },
  {
   "cell_type": "code",
   "execution_count": null,
   "id": "e19be6ff-cc81-4540-bfd3-6017dee025c3",
   "metadata": {},
   "outputs": [],
   "source": [
    "def clip_inf(df, col):\n",
    "    m = df.loc[df[col] != np.inf, col].max()\n",
    "    df[col] = df[col].replace(np.inf ,m)\n",
    "    return df"
   ]
  },
  {
   "cell_type": "code",
   "execution_count": null,
   "id": "3227342e-00c9-47fe-bfe4-86e2ff7eb6d1",
   "metadata": {},
   "outputs": [],
   "source": [
    "#artifact = Client().get_artifact('b7c725a8-3efa-459e-94c9-160793c89024')\n",
    "artifact = Client().get_artifact('ba553891-6a9c-4457-a739-065a1ae6d037')\n",
    "generation_metrics_df = clip_inf(artifact.load(), \"wmd\")"
   ]
  },
  {
   "cell_type": "code",
   "execution_count": null,
   "id": "4d6a058b-63d4-43a4-8070-7f54814cddae",
   "metadata": {},
   "outputs": [],
   "source": [
    "artifact.step.name"
   ]
  },
  {
   "cell_type": "code",
   "execution_count": null,
   "id": "958344d9-6999-4629-8ae8-0a8de95f495d",
   "metadata": {},
   "outputs": [],
   "source": [
    "generation_metrics_df.columns"
   ]
  },
  {
   "cell_type": "code",
   "execution_count": null,
   "id": "c2c52116-48ad-4abc-82c0-542c8ec9de5c",
   "metadata": {},
   "outputs": [],
   "source": [
    "#artifact = Client().get_artifact('e21141cd-92b5-4c28-9cf8-5865d7f21582'\n",
    "\n",
    "OLD_RUN_ID = '53476d74-db41-4152-acf7-41c04af96c4f'\n",
    "NEW_RUN_ID = '8fcc105d-f7eb-45a8-8284-c509200b0d7d'\n",
    "artifact = Client().get_artifact(NEW_RUN_ID)\n",
    "\n",
    "all_experiments_metrics_results = artifact.load()\n",
    "metrics_results = all_experiments_metrics_results[0]"
   ]
  },
  {
   "cell_type": "code",
   "execution_count": null,
   "id": "1f2a4da9-8842-491a-99b0-c2faf837928c",
   "metadata": {},
   "outputs": [],
   "source": [
    "metrics_results.ir_config.column_config"
   ]
  },
  {
   "cell_type": "code",
   "execution_count": null,
   "id": "a716a927-983c-4018-9ab6-de6187b4cb79",
   "metadata": {},
   "outputs": [],
   "source": [
    "import pprint\n",
    "n_runs = len(metrics_results.generation_metrics)"
   ]
  },
  {
   "cell_type": "code",
   "execution_count": null,
   "id": "314eee16-92bd-4641-843b-c85a3b570f6b",
   "metadata": {},
   "outputs": [],
   "source": [
    "metrics_results.dict().keys()"
   ]
  },
  {
   "cell_type": "code",
   "execution_count": null,
   "id": "c1edd45e-85cd-42b3-8d00-6fdaff48c243",
   "metadata": {},
   "outputs": [],
   "source": [
    "pd.DataFrame.from_records(metrics_results.generation_metrics[0])"
   ]
  },
  {
   "cell_type": "code",
   "execution_count": null,
   "id": "3df94695-7277-402b-9a6b-15d4253ccbad",
   "metadata": {},
   "outputs": [],
   "source": [
    "pd.DataFrame(metrics_results.aggregate_metrics[1]).describe()"
   ]
  },
  {
   "cell_type": "code",
   "execution_count": null,
   "id": "a9a39dc5-3df7-4608-9bfb-3a587142f4ff",
   "metadata": {},
   "outputs": [],
   "source": [
    "metrics_results.dict().keys()"
   ]
  },
  {
   "cell_type": "code",
   "execution_count": null,
   "id": "015204e1-1323-4b68-b873-57ca189c8e22",
   "metadata": {},
   "outputs": [],
   "source": [
    "n_runs"
   ]
  },
  {
   "cell_type": "code",
   "execution_count": null,
   "id": "b24f59c5-e336-4625-a20b-04cf8b232047",
   "metadata": {},
   "outputs": [],
   "source": [
    "run_generation_metrics_dfs = [pd.DataFrame(metrics_results.generation_metrics[i]) for i in range(n_runs)]\n",
    "all_generation_metrics_df = pd.concat(run_generation_metrics_dfs)"
   ]
  },
  {
   "cell_type": "code",
   "execution_count": null,
   "id": "48b79942-d025-476d-88a2-2dd2fcba8be1",
   "metadata": {},
   "outputs": [],
   "source": [
    "run_per_query_ir_metrics_dfs =  [pd.DataFrame(metrics_results.per_query_metrics[i]).set_index(\"query\").assign(generation=i) for i in range(n_runs)]\n",
    "per_query_ir_metrics_df = pd.concat(run_per_query_ir_metrics_dfs)"
   ]
  },
  {
   "cell_type": "code",
   "execution_count": null,
   "id": "cc1e18b3-f448-4a24-a1d9-5d8409e523f6",
   "metadata": {},
   "outputs": [],
   "source": [
    "per_query_ir_metrics_df.groupby(per_query_ir_metrics_df.index).agg(\"mean\")"
   ]
  },
  {
   "cell_type": "code",
   "execution_count": null,
   "id": "ec1a1676-952e-4653-9cd7-213d7d4d27a8",
   "metadata": {},
   "outputs": [],
   "source": [
    "exploded_generation_metrics_df = (\n",
    "    all_generation_metrics_df\n",
    "    .explode(\"true_tasks\").rename(columns={\"true_tasks\": \"query\"})\n",
    ")\n",
    "exploded_generation_metrics_df = clip_inf(exploded_generation_metrics_df, \"wmd\")\n",
    "\n",
    "def positive_hmean(scores):\n",
    "    return scipy.stats.hmean(np.maximum(0, scores))\n",
    "\n"
   ]
  },
  {
   "cell_type": "code",
   "execution_count": null,
   "id": "4fc565dc-4d8a-4073-8947-2942a0f3fbc4",
   "metadata": {},
   "outputs": [],
   "source": [
    "def aggregate_per_query_metrics(run_generation_metrics_df, run_ir_metrics_df):\n",
    "    exploded_generation_metrics_df = (\n",
    "    run_generation_metrics_df\n",
    "        .explode(\"true_tasks\").rename(columns={\"true_tasks\": \"query\"})\n",
    "    )\n",
    "    exploded_generation_metrics_df = clip_inf(exploded_generation_metrics_df, \"wmd\")\n",
    "\n",
    "    per_query_generation_metrics_df = (\n",
    "        exploded_generation_metrics_df\n",
    "        .select_dtypes(\"number\")\n",
    "        .groupby(exploded_generation_metrics_df[\"query\"])\n",
    "        .agg(\"mean\")\n",
    "    )\n",
    "\n",
    "    per_query_metrics_df = per_query_generation_metrics_df.merge(run_ir_metrics_df.groupby(\"query\").agg(\"mean\"), left_index=True, right_index=True)\n",
    "    return per_query_metrics_df\n",
    "\n",
    "def get_per_query_metrics_df(metrics_results):\n",
    "    run_generation_metrics_dfs = [pd.DataFrame(metrics_results.generation_metrics[i]) for i in range(n_runs)]\n",
    "    all_generation_metrics_df = pd.concat(run_generation_metrics_dfs)\n",
    "    run_per_query_ir_metrics_dfs =  [pd.DataFrame(metrics_results.per_query_metrics[i]).set_index(\"query\").assign(generation=i) for i in range(n_runs)]\n",
    "    per_query_ir_metrics_df = pd.concat(run_per_query_ir_metrics_dfs)\n",
    "    return aggregate_per_query_metrics(all_generation_metrics_df, per_query_ir_metrics_df)"
   ]
  },
  {
   "cell_type": "code",
   "execution_count": null,
   "id": "6add5666-73af-4aac-82e8-3b4dc81245f5",
   "metadata": {},
   "outputs": [],
   "source": [
    "\n",
    "ir_metric_names = per_query_ir_metrics_df.select_dtypes(\"number\").columns\n",
    "generation_metric_names = exploded_generation_metrics_df.select_dtypes(include=\"number\").columns"
   ]
  },
  {
   "cell_type": "code",
   "execution_count": null,
   "id": "1fcb4211-7ffb-4e66-af27-4accbbd88efc",
   "metadata": {},
   "outputs": [],
   "source": [
    "per_query_metrics_df = get_per_query_metrics_df(metrics_results)"
   ]
  },
  {
   "cell_type": "code",
   "execution_count": null,
   "id": "a19f456e-3bdf-4aaa-b3e3-b332d51c1547",
   "metadata": {},
   "outputs": [],
   "source": [
    "per_query_metrics_df"
   ]
  },
  {
   "cell_type": "code",
   "execution_count": null,
   "id": "fa18086d-adc0-4cf4-818f-31ee20335678",
   "metadata": {},
   "outputs": [],
   "source": [
    "ir_metric_names = [\"accuracy@10\", \"hits@10\", \"MRR@10\"]\n",
    "generation_metric_names = [\"wmd\", \"bertscore_f1\", \"rougeL\", \"sentence_transformer_similarity\"]"
   ]
  },
  {
   "cell_type": "code",
   "execution_count": null,
   "id": "d7c19deb-9df7-40ea-94fb-fc8de780f55a",
   "metadata": {},
   "outputs": [],
   "source": [
    "def get_corr_df(per_query_metrics_df, ir_metric_names, generation_metric_names, method=\"spearman\"):\n",
    "    return per_query_metrics_df.corr(method=\"spearman\").loc[\n",
    "        ir_metric_names, generation_metric_names\n",
    "    ]\n",
    "    \n",
    "def get_df_complement(df_subset, df):\n",
    "    return df[~pd.Series(df.index).isin(df_subset.index).values]\n",
    "\n",
    "\n",
    "def complement_mannwhitney(df_subset, df, metric):\n",
    "    complement_df = get_df_complement(df_subset, df)\n",
    "    return mannwhitneyu(df_subset[metric], complement_df[metric])"
   ]
  },
  {
   "cell_type": "code",
   "execution_count": null,
   "id": "9429920e-e447-4167-a2ea-08cf28b700fb",
   "metadata": {},
   "outputs": [],
   "source": [
    "ir_vs_generation_metrics_df = get_corr_df(per_query_metrics_df, ir_metric_names, generation_metric_names)"
   ]
  },
  {
   "cell_type": "code",
   "execution_count": null,
   "id": "70ba7432-4dc0-423b-b439-d8953e217355",
   "metadata": {},
   "outputs": [],
   "source": [
    "def show_col_pairplots(df, ref_col, cols):\n",
    "    fig, axes = plt.subplots(ncols=len(cols), sharey=True)\n",
    "    fig.set_figwidth(15)\n",
    "    for (col, ax) in zip(cols, axes):\n",
    "        sns.regplot(df, x=ref_col, y=col, ax=ax)\n",
    "\n",
    "def show_pairplots(df, ref_cols, cols):\n",
    "    for col in ref_cols:\n",
    "        show_col_pairplots(df, col, cols)"
   ]
  },
  {
   "cell_type": "code",
   "execution_count": null,
   "id": "ed7c8be5-3a30-4de6-ab49-5774fd65c467",
   "metadata": {},
   "outputs": [],
   "source": [
    "per_query_metrics_df[\"accuracy@10\"]"
   ]
  },
  {
   "cell_type": "markdown",
   "id": "1c4d101b-aab9-4174-9183-885338e241d9",
   "metadata": {},
   "source": [
    "## Displaying results"
   ]
  },
  {
   "cell_type": "markdown",
   "id": "12e4f482-fbdb-4cb8-8864-d3ca1d5b9b6b",
   "metadata": {},
   "source": [
    "## Generation metrics "
   ]
  },
  {
   "cell_type": "code",
   "execution_count": null,
   "id": "e7957536-d829-457b-8744-12d86cd59227",
   "metadata": {},
   "outputs": [],
   "source": [
    "for col in generation_metric_names:\n",
    "    skewness = scipy.stats.skew(generation_metrics_df[col])\n",
    "    plt.title(f\"{col}\\nskewness: {round(skewness, 3)}\") \n",
    "    sns.histplot(generation_metrics_df[col])\n",
    "    plt.savefig(f\"../results/generation_metrics/{col}.png\")\n",
    "    plt.show()"
   ]
  },
  {
   "cell_type": "markdown",
   "id": "78da1798-3561-4fd0-a01f-787d983a111a",
   "metadata": {},
   "source": [
    "## Per query metrics"
   ]
  },
  {
   "cell_type": "code",
   "execution_count": null,
   "id": "c7c02f9f-c4e8-4ce5-bf91-6dbe3ad0613d",
   "metadata": {},
   "outputs": [],
   "source": [
    "for col in ir_metric_names + generation_metric_names:\n",
    "    skewness = scipy.stats.skew(per_query_metrics_df[col])\n",
    "    plt.title(f\"{col}\\nskewness: {round(skewness, 3)}\") \n",
    "    sns.histplot(per_query_metrics_df[col])\n",
    "    plt.savefig(f\"../results/per_query_metrics/{col}.png\")\n",
    "    plt.show()"
   ]
  },
  {
   "cell_type": "code",
   "execution_count": null,
   "id": "fe37895d-80f9-4121-8e1c-d67c356ca69f",
   "metadata": {},
   "outputs": [],
   "source": [
    "sns.heatmap(ir_vs_generation_metrics_df, annot=True)\n",
    "plt.savefig(\"../results/ir_vs_generation_heatmap.png\")\n",
    "per_query_metrics_df[ir_metric_names].describe().round(2).to_csv(\"../results/per_query_ir_metrics.csv\")\n",
    "per_query_metrics_df[ir_metric_names].describe()"
   ]
  },
  {
   "cell_type": "code",
   "execution_count": null,
   "id": "271f8d74-8e5a-49b9-916c-0f8586a0d8d5",
   "metadata": {},
   "outputs": [],
   "source": [
    "show_col_pairplots(per_query_metrics_df, \"wmd\", ir_metric_names)\n",
    "plt.savefig(\"../results/pairplots/wmd_vs_ir.png\")"
   ]
  },
  {
   "cell_type": "code",
   "execution_count": null,
   "id": "5aea9fbc-d49d-4bfb-941b-29ee3dcc27bf",
   "metadata": {},
   "outputs": [],
   "source": [
    "show_col_pairplots(per_query_metrics_df, \"rougeL\", ir_metric_names)\n",
    "plt.savefig(\"../results/pairplots/rouge_vs_ir.png\")"
   ]
  },
  {
   "cell_type": "code",
   "execution_count": null,
   "id": "2c6cb616-b654-4ebe-8974-5805fa17b317",
   "metadata": {},
   "outputs": [],
   "source": [
    "def select_extremal_queries_by_metric(per_query_metrics_df, metric_name, q=0.1, bottom=True):\n",
    "    metric_quantile = per_query_metrics_df[metric_name].quantile(q)\n",
    "    if bottom:\n",
    "        condition = per_query_metrics_df[metric_name] <= metric_quantile\n",
    "    else:\n",
    "        condition = per_query_metrics_df[metric_name] >= metric_quantile\n",
    "    return  per_query_metrics_df[condition]"
   ]
  },
  {
   "cell_type": "markdown",
   "id": "240b0871-535f-4c5c-b43c-c6ad0c80542a",
   "metadata": {},
   "source": [
    "## Impact of generation metrics on information retrieval metrics"
   ]
  },
  {
   "cell_type": "code",
   "execution_count": null,
   "id": "5aa8285c-e542-416c-a7ff-6278c9408f9e",
   "metadata": {},
   "outputs": [],
   "source": [
    "per_query_metrics_df.index"
   ]
  },
  {
   "cell_type": "code",
   "execution_count": null,
   "id": "bdc7e90b-5f2a-40a4-b9ba-6adfa7861d8d",
   "metadata": {},
   "outputs": [],
   "source": [
    "generation_metric_names"
   ]
  },
  {
   "cell_type": "code",
   "execution_count": null,
   "id": "4f7426cd-29fa-4947-b932-07778a02684e",
   "metadata": {},
   "outputs": [],
   "source": [
    "metric_comparison_df = per_query_metrics_df.drop(columns=[\"generation_x\", \"generation_y\"])\n",
    "for metric_name in generation_metric_names:\n",
    "    metric_comparison_df[metric_name] = pd.qcut(causal_df[metric_name], 10, labels=False)"
   ]
  },
  {
   "cell_type": "code",
   "execution_count": null,
   "id": "4013101f-1056-4361-b36c-21b4b3bbc7e4",
   "metadata": {},
   "outputs": [],
   "source": [
    "((metric_comparison_df[col] > i) * 1).dtype"
   ]
  },
  {
   "cell_type": "code",
   "execution_count": null,
   "id": "27e01fe4-eeea-4c26-a6d4-07a17bf0ecf8",
   "metadata": {
    "scrolled": true
   },
   "outputs": [],
   "source": [
    "ir_vs_generation_quantiles_df = pd.DataFrame()\n",
    "for col in generation_metric_names:\n",
    "    ir_vs_generation_quantiles_df[col] = metric_comparison_df.groupby(col).agg({\"accuracy@10\": \"mean\"})\n",
    "    ir_vs_generation_quantiles_df[col + \"_count\"] = metric_comparison_df.groupby(col).agg({\"accuracy@10\": \"sum\"}).astype(\"int\")\n",
    "ir_vs_generation_quantiles_df.index = pd.Series(range(10), name=\"decile\")"
   ]
  },
  {
   "cell_type": "code",
   "execution_count": null,
   "id": "237c4a35-a428-4b03-bad1-9192828a9067",
   "metadata": {},
   "outputs": [],
   "source": [
    "ir_vs_generation_quantiles_df[generation_metric_names].plot()\n",
    "plt.ylabel(\"accuracy@10\")"
   ]
  },
  {
   "cell_type": "code",
   "execution_count": null,
   "id": "cee512b6-8ffe-4f20-8e27-3224c5a7a2e9",
   "metadata": {},
   "outputs": [],
   "source": [
    "ir_vs_generation_quantiles_df[[col for col in ir_vs_generation_quantiles_df.columns if \"count\" in col]]"
   ]
  },
  {
   "cell_type": "code",
   "execution_count": null,
   "id": "d84c1e84-2d63-4a4a-a4f6-d7dbb589222e",
   "metadata": {},
   "outputs": [],
   "source": [
    "import statsmodels.stats.proportion as sm_proportion"
   ]
  },
  {
   "cell_type": "code",
   "execution_count": null,
   "id": "2e8dbe31-851f-4494-ad62-92a9c20ccab8",
   "metadata": {},
   "outputs": [],
   "source": [
    "for col in ir_vs_generation_quantiles_df.columns:\n",
    "    if \"count\" in col:\n",
    "        print(col)\n",
    "        (chi2, p, arr) = sm_proportion.proportions_chisquare(ir_vs_generation_quantiles_df[col], ir_vs_generation_quantiles_df[col].sum())\n",
    "        print(chi2, p)"
   ]
  },
  {
   "cell_type": "markdown",
   "id": "ef60d64b-1bbb-4008-ac9b-e445f3e43ec0",
   "metadata": {},
   "source": [
    "## Logistic regression: predict accuracy given generation metrics"
   ]
  },
  {
   "cell_type": "code",
   "execution_count": null,
   "id": "2d9acba5-cc6d-4a58-88e9-09d81ad08dbd",
   "metadata": {},
   "outputs": [],
   "source": [
    "import statsmodels.api as sm \n",
    "from sklearn import linear_model, ensemble\n",
    "import scikitplot"
   ]
  },
  {
   "cell_type": "code",
   "execution_count": null,
   "id": "390371e7-3e81-43d8-82be-066f8ac74253",
   "metadata": {},
   "outputs": [],
   "source": [
    "X = metric_comparison_df[generation_metric_names]\n",
    "y = metric_comparison_df[\"accuracy@10\"]"
   ]
  },
  {
   "cell_type": "code",
   "execution_count": null,
   "id": "1e96528d-e7d2-4e88-86c6-fe413cb3ae19",
   "metadata": {},
   "outputs": [],
   "source": [
    "log_reg = sm.Logit(y, X).fit()"
   ]
  },
  {
   "cell_type": "code",
   "execution_count": null,
   "id": "da20504b-1e42-49fb-a135-98f17646bba0",
   "metadata": {},
   "outputs": [],
   "source": [
    "lreg = linear_model.LogisticRegression()\n",
    "lreg.fit(X, y)"
   ]
  },
  {
   "cell_type": "code",
   "execution_count": null,
   "id": "019b7293-d47f-4100-8220-cfc1be8e876d",
   "metadata": {},
   "outputs": [],
   "source": [
    "rf = ensemble.RandomForestClassifier(n_estimators=10, max_depth=10)\n",
    "rf.fit(X,y)"
   ]
  },
  {
   "cell_type": "code",
   "execution_count": null,
   "id": "f9f78ea7-510c-4cee-9186-8c04bfc2499e",
   "metadata": {},
   "outputs": [],
   "source": [
    "scikitplot.plotters.plot_roc_curve(y, rf.predict_proba(X))"
   ]
  },
  {
   "cell_type": "code",
   "execution_count": null,
   "id": "a7eb2688-3a3b-4cca-9f23-82068f581ac0",
   "metadata": {},
   "outputs": [],
   "source": [
    "from dowhy import CausalModel\n",
    "import dowhy.datasets\n",
    "\n",
    "# Load some sample data\n",
    "data = dowhy.datasets.linear_dataset(\n",
    "    beta=10,\n",
    "    num_common_causes=5,\n",
    "    num_instruments=2,\n",
    "    num_samples=10000,\n",
    "    treatment_is_binary=True)"
   ]
  },
  {
   "cell_type": "markdown",
   "id": "390b8768-6be7-46e1-b336-63487833100e",
   "metadata": {},
   "source": [
    "## Selecting queries with highest average generation metrics\n",
    "\n",
    "\n",
    "### RougeL"
   ]
  },
  {
   "cell_type": "code",
   "execution_count": null,
   "id": "8a5e7e35-a62c-4e78-be50-1acd2d334edd",
   "metadata": {},
   "outputs": [],
   "source": [
    "\n",
    "top_rouge_query_metrics_df = select_extremal_queries_by_metric(per_query_metrics_df, \"rougeL\")\n",
    "\n",
    "complement_mannwhitney(top_rouge_query_metrics_df, per_query_metrics_df, \"hits@10\")\n"
   ]
  },
  {
   "cell_type": "code",
   "execution_count": null,
   "id": "fd4de87b-a03f-4769-97bc-6f5adc0e493c",
   "metadata": {},
   "outputs": [],
   "source": [
    "sns.heatmap(get_corr_df(top_rouge_query_metrics_df, ir_metric_names, generation_metric_names), annot=True)\n",
    "#plt.savefig(\"../results/\n",
    "show_pairplots(top_rouge_query_metrics_df, generation_metric_names, ir_metric_names)\n",
    "top_rouge_query_metrics_df[ir_metric_names].describe().round(2).to_csv(\"../results/top_rouge_query_metrics.csv\")\n",
    "top_rouge_query_metrics_df[ir_metric_names].describe()\n"
   ]
  },
  {
   "cell_type": "markdown",
   "id": "29dcfbb8-8df8-4da0-b3bc-fddc29589168",
   "metadata": {},
   "source": [
    "## Word mover's distance"
   ]
  },
  {
   "cell_type": "code",
   "execution_count": null,
   "id": "0f1fb48a-fe58-4bc9-943e-f2f61ab73fc0",
   "metadata": {},
   "outputs": [],
   "source": [
    "top_wmd_query_metrics_df = select_extremal_queries_by_metric(per_query_metrics_df, \"wmd\", 0.9, bottom=False)\n",
    "\n",
    "complement_mannwhitney(top_wmd_query_metrics_df, per_query_metrics_df, \"hits@10\")"
   ]
  },
  {
   "cell_type": "code",
   "execution_count": null,
   "id": "a84c485e-b1dc-4b42-96a9-8c6a358808e2",
   "metadata": {},
   "outputs": [],
   "source": [
    "sns.heatmap(get_corr_df(top_wmd_query_metrics_df, ir_metric_names, generation_metric_names), annot=True)\n",
    "#show_pairplots(top_bertscore_query_metrics_df, generation_metric_names, ir_metric_names)\n",
    "top_wmd_query_metrics_df[ir_metric_names].describe().round(2).to_csv(\"../results/top_wmd_query_metrics.csv\")\n",
    "top_wmd_query_metrics_df[ir_metric_names].describe()"
   ]
  },
  {
   "cell_type": "markdown",
   "id": "25783661-d082-4eb5-a57f-9fa02e5c59da",
   "metadata": {},
   "source": [
    "## Bertscore F1"
   ]
  },
  {
   "cell_type": "code",
   "execution_count": null,
   "id": "829a929b-dc89-4f4a-8932-1b6744fd4ffd",
   "metadata": {},
   "outputs": [],
   "source": [
    "top_bertscore_query_metrics_df = select_extremal_queries_by_metric(per_query_metrics_df, \"bertscore_f1\")\n",
    "\n",
    "complement_mannwhitney(top_bertscore_query_metrics_df, per_query_metrics_df, \"hits@10\")"
   ]
  },
  {
   "cell_type": "code",
   "execution_count": null,
   "id": "06512232-4d88-44b8-8332-35fb473c8f0a",
   "metadata": {},
   "outputs": [],
   "source": [
    "sns.heatmap(get_corr_df(top_bertscore_query_metrics_df, ir_metric_names, generation_metric_names), annot=True)\n",
    "#show_pairplots(top_bertscore_query_metrics_df, generation_metric_names, ir_metric_names)\n",
    "top_bertscore_query_metrics_df[ir_metric_names].describe().round(2).to_csv(\"../results/top_bertscore_query_metrics.csv\")\n",
    "top_bertscore_query_metrics_df[ir_metric_names].describe()"
   ]
  },
  {
   "cell_type": "markdown",
   "id": "0e3b9fd2-aa7e-4baf-8a41-00856c5b2ffe",
   "metadata": {},
   "source": [
    "## Sentence transformer similarity"
   ]
  },
  {
   "cell_type": "code",
   "execution_count": null,
   "id": "234d7685-dd8d-4b96-a5f7-4a17bb695bb6",
   "metadata": {},
   "outputs": [],
   "source": [
    "top_st_query_metrics_df = select_extremal_queries_by_metric(per_query_metrics_df, \"sentence_transformer_similarity\")\n",
    "\n",
    "complement_mannwhitney(top_st_query_metrics_df, per_query_metrics_df, \"hits@10\")"
   ]
  },
  {
   "cell_type": "code",
   "execution_count": null,
   "id": "7c9ce002-e447-4a89-8ab6-a442f35ae21b",
   "metadata": {},
   "outputs": [],
   "source": [
    "sns.heatmap(get_corr_df(top_st_query_metrics_df, ir_metric_names, generation_metric_names), annot=True)\n",
    "#show_pairplots(top_bertscore_query_metrics_df, generation_metric_names, ir_metric_names)\n",
    "top_st_query_metrics_df[ir_metric_names].describe().round(2).to_csv(\"../results/top_sentence_transformer_query_metrics.csv\")\n",
    "top_st_query_metrics_df[ir_metric_names].describe()"
   ]
  },
  {
   "cell_type": "markdown",
   "id": "84f2d54d-6865-4a12-b3ce-455cafa04387",
   "metadata": {},
   "source": [
    "## Tests"
   ]
  },
  {
   "cell_type": "code",
   "execution_count": null,
   "id": "cd12ae7f-ebe7-4c2d-9a83-f8f3c6f1d360",
   "metadata": {},
   "outputs": [],
   "source": [
    "mann_whitney_test_results = [\n",
    "    {\"metric\": metric, \"pvalue\": complement_mannwhitney(df, per_query_metrics_df, \"hits@10\").pvalue}\n",
    "    for (metric, df) in zip([\"wmd\", \"rougeL\", \"sentence_transformer_similarity\", \"bertscore_f1\"], [top_wmd_query_metrics_df, top_rouge_query_metrics_df, top_st_query_metrics_df, top_bertscore_query_metrics_df])\n",
    "]"
   ]
  },
  {
   "cell_type": "code",
   "execution_count": null,
   "id": "39aa2cbf-26f1-48cf-8c4c-1622220233f5",
   "metadata": {},
   "outputs": [],
   "source": [
    "mann_whitney_test_results"
   ]
  },
  {
   "cell_type": "code",
   "execution_count": null,
   "id": "f46cbcee-1094-43a1-ab55-8aad1bec8fc6",
   "metadata": {},
   "outputs": [],
   "source": [
    "## Selecting queries with highest average generation metrics\n",
    "\n",
    "pd.DataFrame.from_records(mann_whitney_test_results, index=\"metric\").to_csv(\"../results/utest_pvalues.csv\")\n",
    "### RougeL"
   ]
  },
  {
   "cell_type": "code",
   "execution_count": null,
   "id": "8e93bb0d-6448-4253-ac08-3ad1b6684e6e",
   "metadata": {},
   "outputs": [],
   "source": [
    "tasks_metrics_results = all_experiments_metrics_results[2]\n",
    "tasks_metrics_results.ir_config.column_config"
   ]
  },
  {
   "cell_type": "code",
   "execution_count": null,
   "id": "1df5545e-873b-433c-98ee-84af1543488f",
   "metadata": {},
   "outputs": [],
   "source": [
    "tasks_per_query_metrics_df = get_per_query_metrics_df(tasks_metrics_results)[ir_metric_names]\n",
    "tasks_per_query_metrics_df.describe().round(2).to_csv(\"../results/generated_tasks_per_query_ir_metrics.csv\")\n",
    "tasks_per_query_metrics_df.describe()"
   ]
  },
  {
   "cell_type": "code",
   "execution_count": null,
   "id": "ac33a7eb-11c1-4a5d-a3a7-609926ab523f",
   "metadata": {},
   "outputs": [],
   "source": [
    "wilcoxon(tasks_per_query_metrics_df[\"hits@10\"], per_query_metrics_df[\"hits@10\"]).pvalue"
   ]
  },
  {
   "cell_type": "code",
   "execution_count": null,
   "id": "57782d64-e7c6-4501-a5be-d9b8f80373b8",
   "metadata": {},
   "outputs": [],
   "source": [
    "dependencies_metrics_results = all_experiments_metrics_results[1]\n",
    "dependencies_metrics_results.ir_config.column_config\n",
    "dependencies_per_query_metrics_df = get_per_query_metrics_df(dependencies_metrics_results)[ir_metric_names]\n",
    "dependencies_per_query_metrics_df.describe().round(2).to_csv(\"../results/dependencies_per_query_ir_metrics.csv\")\n",
    "\n",
    "dependencies_per_query_metrics_df[ir_metric_names].describe()"
   ]
  },
  {
   "cell_type": "code",
   "execution_count": null,
   "id": "afe65251-c91c-4ec1-8bad-22fc16161ed5",
   "metadata": {},
   "outputs": [],
   "source": [
    "wilcoxon(dependencies_per_query_metrics_df[\"hits@10\"], per_query_metrics_df[\"hits@10\"]).pvalue"
   ]
  },
  {
   "cell_type": "code",
   "execution_count": null,
   "id": "3167bab6-435c-470c-8e28-81b5f510367d",
   "metadata": {},
   "outputs": [],
   "source": [
    "wilcoxon_test_results = [\n",
    "    {\"features\": features, \"pvalue\": wilcoxon(df[\"hits@10\"], per_query_metrics_df[\"hits@10\"]).pvalue}\n",
    "    for (features, df) in zip([\"only dependency signatures\", \"only repository signatures\"], [dependencies_per_query_metrics_df, tasks_per_query_metrics_df])\n",
    "]\n",
    "\n",
    "wilcoxon_test_results_df = pd.DataFrame.from_records(wilcoxon_test_results, index=\"features\")"
   ]
  },
  {
   "cell_type": "code",
   "execution_count": null,
   "id": "4df4a4d8-d0c5-4875-b5da-b60cafe9992e",
   "metadata": {},
   "outputs": [],
   "source": [
    "wilcoxon_test_results_df.to_csv(\"../results/wilcoxon_pvalues.csv\")"
   ]
  },
  {
   "cell_type": "code",
   "execution_count": null,
   "id": "543e3343-3a47-4741-a24b-8d3ae0543f9b",
   "metadata": {},
   "outputs": [],
   "source": [
    "mannwhitneyu(top_wmd_query_metrics_df[\"hits@10\"], get_complement_metric_values(top_wmd_query_metrics_df, per_query_metrics_df, \"hits@10\"))"
   ]
  },
  {
   "cell_type": "code",
   "execution_count": null,
   "id": "368acefb-8c0a-449c-b0f6-4b4cd022d0e0",
   "metadata": {},
   "outputs": [],
   "source": [
    "wilcoxon_test_results_df.round(decimals=4)"
   ]
  },
  {
   "cell_type": "code",
   "execution_count": null,
   "id": "e2d311bb-76e8-4863-8119-762b4eb635af",
   "metadata": {},
   "outputs": [],
   "source": [
    "from seaborn_qqplot import pplot"
   ]
  },
  {
   "cell_type": "code",
   "execution_count": null,
   "id": "5c091390-6fae-45b4-888c-b7ddc1774244",
   "metadata": {},
   "outputs": [],
   "source": [
    "from statsmodels.distributions.empirical_distribution import ECDF"
   ]
  },
  {
   "cell_type": "code",
   "execution_count": null,
   "id": "e4105f49-33a5-4fec-a0aa-10edf7992a51",
   "metadata": {},
   "outputs": [],
   "source": [
    "def get_quantiles(srs, n=100):\n",
    "    qs = np.linspace(0, 1, n)\n",
    "    return srs.quantile(list(qs))"
   ]
  },
  {
   "cell_type": "code",
   "execution_count": null,
   "id": "427faeff-a68b-4d0e-a925-c76f868944a3",
   "metadata": {},
   "outputs": [],
   "source": [
    "cdf = ECDF(top_wmd_query_metrics_df[\"hits@10\"])"
   ]
  },
  {
   "cell_type": "markdown",
   "id": "74036b00-4e53-4b55-b614-a10423594e1a",
   "metadata": {},
   "source": [
    "## QQPlots"
   ]
  },
  {
   "cell_type": "code",
   "execution_count": null,
   "id": "bea7f92a-7aa8-4eca-96cb-8fb8bb77e33b",
   "metadata": {},
   "outputs": [],
   "source": [
    "from statsmodels.graphics.gofplots import qqplot_2samples\n",
    "\n",
    "qqplot_2samples(top_wmd_query_metrics_df[\"hits@10\"], per_query_metrics_df[\"hits@10\"]);"
   ]
  },
  {
   "cell_type": "code",
   "execution_count": null,
   "id": "8b199b3f-b2cf-4bff-967d-09b8341eeec4",
   "metadata": {},
   "outputs": [],
   "source": [
    "qqplot_2samples(top_rouge_query_metrics_df[\"hits@10\"], per_query_metrics_df[\"hits@10\"]);"
   ]
  },
  {
   "cell_type": "code",
   "execution_count": null,
   "id": "ac60f066-69b0-44d9-8785-5b7fb8d17998",
   "metadata": {},
   "outputs": [],
   "source": [
    "scipy.stats.kstest(top_wmd_query_metrics_df[\"hits@10\"], get_df_complement(top_wmd_query_metrics_df, per_query_metrics_df)[\"hits@10\"])"
   ]
  },
  {
   "cell_type": "code",
   "execution_count": null,
   "id": "812679ed-e6d3-46fd-a238-ecd8138b7220",
   "metadata": {},
   "outputs": [],
   "source": [
    "scipy.stats.kstest(top_rouge_query_metrics_df[\"hits@10\"], get_df_complement(top_rouge_query_metrics_df, per_query_metrics_df)[\"hits@10\"])"
   ]
  },
  {
   "cell_type": "code",
   "execution_count": null,
   "id": "a9d9d846-4201-413e-a91c-d299779d3dd9",
   "metadata": {},
   "outputs": [],
   "source": [
    "plt.plot(.sort_values(), )"
   ]
  },
  {
   "cell_type": "code",
   "execution_count": null,
   "id": "f13e6fe7-fa50-45c7-aa0f-0eb4e2b0a9f2",
   "metadata": {},
   "outputs": [],
   "source": []
  },
  {
   "cell_type": "code",
   "execution_count": null,
   "id": "d5f5478c-d560-4c5e-b46f-d82398e4cb5f",
   "metadata": {},
   "outputs": [],
   "source": [
    "import statsmodels.api as sm\n"
   ]
  },
  {
   "cell_type": "code",
   "execution_count": null,
   "id": "94057e4f-7724-4705-9a0e-6836dfd2a8b9",
   "metadata": {},
   "outputs": [],
   "source": [
    "\n",
    "def get_df_complement(df_subset, df):\n",
    "    return df[~pd.Series(df.index).isin(df_subset.index).values]"
   ]
  }
 ],
 "metadata": {
  "kernelspec": {
   "display_name": "github_search",
   "language": "python",
   "name": "github_search"
  },
  "language_info": {
   "codemirror_mode": {
    "name": "ipython",
    "version": 3
   },
   "file_extension": ".py",
   "mimetype": "text/x-python",
   "name": "python",
   "nbconvert_exporter": "python",
   "pygments_lexer": "ipython3",
   "version": "3.12.7"
  }
 },
 "nbformat": 4,
 "nbformat_minor": 5
}
