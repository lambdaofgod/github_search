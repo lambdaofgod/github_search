{
 "cells": [
  {
   "cell_type": "code",
   "execution_count": 1,
   "metadata": {},
   "outputs": [],
   "source": [
    "import pandas as pd\n"
   ]
  },
  {
   "cell_type": "code",
   "execution_count": 2,
   "metadata": {},
   "outputs": [],
   "source": [
    "repos_df = pd.read_json('../data/github_repos_000000000000.json.gz', compression='gzip', lines=True)"
   ]
  },
  {
   "cell_type": "code",
   "execution_count": 3,
   "metadata": {},
   "outputs": [
    {
     "name": "stdout",
     "output_type": "stream",
     "text": [
      "<class 'pandas.core.frame.DataFrame'>\n",
      "RangeIndex: 272876 entries, 0 to 272875\n",
      "Data columns (total 3 columns):\n",
      " #   Column     Non-Null Count   Dtype \n",
      "---  ------     --------------   ----- \n",
      " 0   repo_name  272876 non-null  object\n",
      " 1   content    272847 non-null  object\n",
      " 2   language   272876 non-null  object\n",
      "dtypes: object(3)\n",
      "memory usage: 6.2+ MB\n"
     ]
    }
   ],
   "source": [
    "repos_df.info()"
   ]
  },
  {
   "cell_type": "code",
   "execution_count": 4,
   "metadata": {},
   "outputs": [],
   "source": [
    "repos_df['content'][repos_df['content'].isna()] = ''"
   ]
  },
  {
   "cell_type": "code",
   "execution_count": 5,
   "metadata": {},
   "outputs": [],
   "source": [
    "def merge_text_langs(langs):\n",
    "    return ' '.join((lang['name'] for lang in langs))"
   ]
  },
  {
   "cell_type": "code",
   "execution_count": 6,
   "metadata": {},
   "outputs": [],
   "source": [
    "repos_df['languages_str'] = repos_df['language'].apply(merge_text_langs)"
   ]
  },
  {
   "cell_type": "code",
   "execution_count": 7,
   "metadata": {},
   "outputs": [],
   "source": [
    "repos_df['is_python_repo'] = repos_df['languages_str'].str.contains('Python')\n",
    "python_repos_df = repos_df[repos_df['is_python_repo']]"
   ]
  },
  {
   "cell_type": "code",
   "execution_count": 8,
   "metadata": {},
   "outputs": [
    {
     "data": {
      "text/html": [
       "<div>\n",
       "<style scoped>\n",
       "    .dataframe tbody tr th:only-of-type {\n",
       "        vertical-align: middle;\n",
       "    }\n",
       "\n",
       "    .dataframe tbody tr th {\n",
       "        vertical-align: top;\n",
       "    }\n",
       "\n",
       "    .dataframe thead th {\n",
       "        text-align: right;\n",
       "    }\n",
       "</style>\n",
       "<table border=\"1\" class=\"dataframe\">\n",
       "  <thead>\n",
       "    <tr style=\"text-align: right;\">\n",
       "      <th></th>\n",
       "      <th>repo_name</th>\n",
       "      <th>content</th>\n",
       "      <th>language</th>\n",
       "      <th>languages_str</th>\n",
       "      <th>is_python_repo</th>\n",
       "    </tr>\n",
       "  </thead>\n",
       "  <tbody>\n",
       "    <tr>\n",
       "      <th>9</th>\n",
       "      <td>J-cztery/jenkins-inheritance-plugin</td>\n",
       "      <td>This project contains the source code of the \"...</td>\n",
       "      <td>[{'name': 'CSS', 'bytes': '1174'}, {'name': 'G...</td>\n",
       "      <td>CSS Groovy HTML Java JavaScript Python</td>\n",
       "      <td>True</td>\n",
       "    </tr>\n",
       "    <tr>\n",
       "      <th>28</th>\n",
       "      <td>NilsJPWerner/scgbot</td>\n",
       "      <td># scgbot\\nBot for the UChicago senior class gi...</td>\n",
       "      <td>[{'name': 'HTML', 'bytes': '3933'}, {'name': '...</td>\n",
       "      <td>HTML Python</td>\n",
       "      <td>True</td>\n",
       "    </tr>\n",
       "    <tr>\n",
       "      <th>29</th>\n",
       "      <td>FinnOD/text</td>\n",
       "      <td># terrain\\nprocedural terrain testing\\n</td>\n",
       "      <td>[{'name': 'HTML', 'bytes': '10477'}, {'name': ...</td>\n",
       "      <td>HTML JavaScript Python</td>\n",
       "      <td>True</td>\n",
       "    </tr>\n",
       "    <tr>\n",
       "      <th>38</th>\n",
       "      <td>niranjan-hanumegowda/chef-repo</td>\n",
       "      <td>Overview\\n========\\n\\nEvery Chef installation ...</td>\n",
       "      <td>[{'name': 'Perl', 'bytes': '847'}, {'name': 'P...</td>\n",
       "      <td>Perl Python Ruby Shell</td>\n",
       "      <td>True</td>\n",
       "    </tr>\n",
       "    <tr>\n",
       "      <th>42</th>\n",
       "      <td>Darmwind/FreeDMS</td>\n",
       "      <td># FreeDMS\\nA structured way to organize your d...</td>\n",
       "      <td>[{'name': 'Groff', 'bytes': '1335'}, {'name': ...</td>\n",
       "      <td>Groff Python Shell</td>\n",
       "      <td>True</td>\n",
       "    </tr>\n",
       "    <tr>\n",
       "      <th>...</th>\n",
       "      <td>...</td>\n",
       "      <td>...</td>\n",
       "      <td>...</td>\n",
       "      <td>...</td>\n",
       "      <td>...</td>\n",
       "    </tr>\n",
       "    <tr>\n",
       "      <th>272204</th>\n",
       "      <td>apokellypse/shout-webapp</td>\n",
       "      <td># shout-webapp\\r\\n\\r\\n# What is [sh]out?\\r\\n\\r...</td>\n",
       "      <td>[{'name': 'CSS', 'bytes': '112'}, {'name': 'HT...</td>\n",
       "      <td>CSS HTML JavaScript Python</td>\n",
       "      <td>True</td>\n",
       "    </tr>\n",
       "    <tr>\n",
       "      <th>272214</th>\n",
       "      <td>weidazh/lunchere</td>\n",
       "      <td>Lunchere is a web platform for users to pick w...</td>\n",
       "      <td>[{'name': 'CSS', 'bytes': '33500'}, {'name': '...</td>\n",
       "      <td>CSS JavaScript PHP Python Shell</td>\n",
       "      <td>True</td>\n",
       "    </tr>\n",
       "    <tr>\n",
       "      <th>272215</th>\n",
       "      <td>joshuasnowball/INERT-dmp</td>\n",
       "      <td>dmp\\n===\\n\\nDiscreet visual aggregator\\n\\nAugu...</td>\n",
       "      <td>[{'name': 'CSS', 'bytes': '13618'}, {'name': '...</td>\n",
       "      <td>CSS JavaScript PHP Python Shell</td>\n",
       "      <td>True</td>\n",
       "    </tr>\n",
       "    <tr>\n",
       "      <th>272217</th>\n",
       "      <td>digitarald/d2g</td>\n",
       "      <td>Distribute to Gecko aka D2G\\n=================...</td>\n",
       "      <td>[{'name': 'CSS', 'bytes': '309795'}, {'name': ...</td>\n",
       "      <td>CSS JavaScript Python Scala Shell</td>\n",
       "      <td>True</td>\n",
       "    </tr>\n",
       "    <tr>\n",
       "      <th>272227</th>\n",
       "      <td>deslum/Heroku-Echo-Server</td>\n",
       "      <td># Heroku-Echo-Server\\nThis is simple example h...</td>\n",
       "      <td>[{'name': 'JavaScript', 'bytes': '33'}, {'name...</td>\n",
       "      <td>JavaScript Python Shell</td>\n",
       "      <td>True</td>\n",
       "    </tr>\n",
       "  </tbody>\n",
       "</table>\n",
       "<p>39594 rows × 5 columns</p>\n",
       "</div>"
      ],
      "text/plain": [
       "                                  repo_name  \\\n",
       "9       J-cztery/jenkins-inheritance-plugin   \n",
       "28                      NilsJPWerner/scgbot   \n",
       "29                              FinnOD/text   \n",
       "38           niranjan-hanumegowda/chef-repo   \n",
       "42                         Darmwind/FreeDMS   \n",
       "...                                     ...   \n",
       "272204             apokellypse/shout-webapp   \n",
       "272214                     weidazh/lunchere   \n",
       "272215             joshuasnowball/INERT-dmp   \n",
       "272217                       digitarald/d2g   \n",
       "272227            deslum/Heroku-Echo-Server   \n",
       "\n",
       "                                                  content  \\\n",
       "9       This project contains the source code of the \"...   \n",
       "28      # scgbot\\nBot for the UChicago senior class gi...   \n",
       "29                # terrain\\nprocedural terrain testing\\n   \n",
       "38      Overview\\n========\\n\\nEvery Chef installation ...   \n",
       "42      # FreeDMS\\nA structured way to organize your d...   \n",
       "...                                                   ...   \n",
       "272204  # shout-webapp\\r\\n\\r\\n# What is [sh]out?\\r\\n\\r...   \n",
       "272214  Lunchere is a web platform for users to pick w...   \n",
       "272215  dmp\\n===\\n\\nDiscreet visual aggregator\\n\\nAugu...   \n",
       "272217  Distribute to Gecko aka D2G\\n=================...   \n",
       "272227  # Heroku-Echo-Server\\nThis is simple example h...   \n",
       "\n",
       "                                                 language  \\\n",
       "9       [{'name': 'CSS', 'bytes': '1174'}, {'name': 'G...   \n",
       "28      [{'name': 'HTML', 'bytes': '3933'}, {'name': '...   \n",
       "29      [{'name': 'HTML', 'bytes': '10477'}, {'name': ...   \n",
       "38      [{'name': 'Perl', 'bytes': '847'}, {'name': 'P...   \n",
       "42      [{'name': 'Groff', 'bytes': '1335'}, {'name': ...   \n",
       "...                                                   ...   \n",
       "272204  [{'name': 'CSS', 'bytes': '112'}, {'name': 'HT...   \n",
       "272214  [{'name': 'CSS', 'bytes': '33500'}, {'name': '...   \n",
       "272215  [{'name': 'CSS', 'bytes': '13618'}, {'name': '...   \n",
       "272217  [{'name': 'CSS', 'bytes': '309795'}, {'name': ...   \n",
       "272227  [{'name': 'JavaScript', 'bytes': '33'}, {'name...   \n",
       "\n",
       "                                 languages_str  is_python_repo  \n",
       "9       CSS Groovy HTML Java JavaScript Python            True  \n",
       "28                                 HTML Python            True  \n",
       "29                      HTML JavaScript Python            True  \n",
       "38                      Perl Python Ruby Shell            True  \n",
       "42                          Groff Python Shell            True  \n",
       "...                                        ...             ...  \n",
       "272204              CSS HTML JavaScript Python            True  \n",
       "272214         CSS JavaScript PHP Python Shell            True  \n",
       "272215         CSS JavaScript PHP Python Shell            True  \n",
       "272217       CSS JavaScript Python Scala Shell            True  \n",
       "272227                 JavaScript Python Shell            True  \n",
       "\n",
       "[39594 rows x 5 columns]"
      ]
     },
     "execution_count": 8,
     "metadata": {},
     "output_type": "execute_result"
    }
   ],
   "source": [
    "python_repos_df"
   ]
  },
  {
   "cell_type": "code",
   "execution_count": 9,
   "metadata": {},
   "outputs": [],
   "source": [
    "import scattertext as st\n",
    "import spacy"
   ]
  },
  {
   "cell_type": "code",
   "execution_count": 10,
   "metadata": {},
   "outputs": [
    {
     "data": {
      "text/plain": [
       "(27288, 5)"
      ]
     },
     "execution_count": 10,
     "metadata": {},
     "output_type": "execute_result"
    }
   ],
   "source": [
    "repos_df_sample = repos_df.sample(frac=0.1)\n",
    "repos_df_sample.shape"
   ]
  },
  {
   "cell_type": "code",
   "execution_count": 11,
   "metadata": {},
   "outputs": [],
   "source": [
    "import dragnet\n",
    "import markdown2"
   ]
  },
  {
   "cell_type": "code",
   "execution_count": 12,
   "metadata": {},
   "outputs": [
    {
     "data": {
      "text/html": [
       "<div>\n",
       "<style scoped>\n",
       "    .dataframe tbody tr th:only-of-type {\n",
       "        vertical-align: middle;\n",
       "    }\n",
       "\n",
       "    .dataframe tbody tr th {\n",
       "        vertical-align: top;\n",
       "    }\n",
       "\n",
       "    .dataframe thead th {\n",
       "        text-align: right;\n",
       "    }\n",
       "</style>\n",
       "<table border=\"1\" class=\"dataframe\">\n",
       "  <thead>\n",
       "    <tr style=\"text-align: right;\">\n",
       "      <th></th>\n",
       "      <th>repo_name</th>\n",
       "      <th>content</th>\n",
       "      <th>language</th>\n",
       "      <th>languages_str</th>\n",
       "      <th>is_python_repo</th>\n",
       "    </tr>\n",
       "  </thead>\n",
       "  <tbody>\n",
       "    <tr>\n",
       "      <th>260946</th>\n",
       "      <td>dcorderoch/c-fizzbuzz-adventures</td>\n",
       "      <td># FizzBuzz\\n\\nimplemented in the C programming...</td>\n",
       "      <td>[{'name': 'C', 'bytes': '3452'}, {'name': 'Mak...</td>\n",
       "      <td>C Makefile</td>\n",
       "      <td>False</td>\n",
       "    </tr>\n",
       "    <tr>\n",
       "      <th>158910</th>\n",
       "      <td>dagirard/DataTree</td>\n",
       "      <td>----------------------------------------------...</td>\n",
       "      <td>[]</td>\n",
       "      <td></td>\n",
       "      <td>False</td>\n",
       "    </tr>\n",
       "    <tr>\n",
       "      <th>150767</th>\n",
       "      <td>timfallmk/dcos-cli-docker</td>\n",
       "      <td># dcos-cli-docker\\nDCOS CLI preprepared in a D...</td>\n",
       "      <td>[]</td>\n",
       "      <td></td>\n",
       "      <td>False</td>\n",
       "    </tr>\n",
       "    <tr>\n",
       "      <th>205835</th>\n",
       "      <td>pbrisbin/airs</td>\n",
       "      <td># Airs\\n\\nThese days, we all keep up with tele...</td>\n",
       "      <td>[{'name': 'Ruby', 'bytes': '6889'}]</td>\n",
       "      <td>Ruby</td>\n",
       "      <td>False</td>\n",
       "    </tr>\n",
       "    <tr>\n",
       "      <th>34896</th>\n",
       "      <td>beomagi/cachewho</td>\n",
       "      <td># cachewho\\nA JSON/cmdline interactive key val...</td>\n",
       "      <td>[{'name': 'HTML', 'bytes': '10217'}, {'name': ...</td>\n",
       "      <td>HTML Python</td>\n",
       "      <td>True</td>\n",
       "    </tr>\n",
       "    <tr>\n",
       "      <th>...</th>\n",
       "      <td>...</td>\n",
       "      <td>...</td>\n",
       "      <td>...</td>\n",
       "      <td>...</td>\n",
       "      <td>...</td>\n",
       "    </tr>\n",
       "    <tr>\n",
       "      <th>36009</th>\n",
       "      <td>lvicentesanchez/hackapp</td>\n",
       "      <td>HaskApp\\n=======\\n\\nHaskell web application us...</td>\n",
       "      <td>[{'name': 'Haskell', 'bytes': '2563'}]</td>\n",
       "      <td>Haskell</td>\n",
       "      <td>False</td>\n",
       "    </tr>\n",
       "    <tr>\n",
       "      <th>30758</th>\n",
       "      <td>LaudaDev/sep-issuer-bank</td>\n",
       "      <td>#SEP 2015 - Issuer Bank\\n\\nREST service for au...</td>\n",
       "      <td>[{'name': 'Java', 'bytes': '31122'}, {'name': ...</td>\n",
       "      <td>Java JavaScript</td>\n",
       "      <td>False</td>\n",
       "    </tr>\n",
       "    <tr>\n",
       "      <th>242441</th>\n",
       "      <td>RedBeard0531/ycmd</td>\n",
       "      <td>ycmd: a code-completion &amp; comprehension server...</td>\n",
       "      <td>[{'name': 'C', 'bytes': '3657826'}, {'name': '...</td>\n",
       "      <td>C C# C++ CMake Go JavaScript Objective-C Perl ...</td>\n",
       "      <td>True</td>\n",
       "    </tr>\n",
       "    <tr>\n",
       "      <th>271159</th>\n",
       "      <td>gitawego/cordova-webview-setting</td>\n",
       "      <td>cordova-webview-setting\\n====================\\...</td>\n",
       "      <td>[{'name': 'Java', 'bytes': '1659'}, {'name': '...</td>\n",
       "      <td>Java JavaScript</td>\n",
       "      <td>False</td>\n",
       "    </tr>\n",
       "    <tr>\n",
       "      <th>248833</th>\n",
       "      <td>IN3D/script_grabbag</td>\n",
       "      <td>This repository contains scripts meant to stre...</td>\n",
       "      <td>[{'name': 'Perl', 'bytes': '5449'}, {'name': '...</td>\n",
       "      <td>Perl Python Ruby Shell</td>\n",
       "      <td>True</td>\n",
       "    </tr>\n",
       "  </tbody>\n",
       "</table>\n",
       "<p>27288 rows × 5 columns</p>\n",
       "</div>"
      ],
      "text/plain": [
       "                               repo_name  \\\n",
       "260946  dcorderoch/c-fizzbuzz-adventures   \n",
       "158910                 dagirard/DataTree   \n",
       "150767         timfallmk/dcos-cli-docker   \n",
       "205835                     pbrisbin/airs   \n",
       "34896                   beomagi/cachewho   \n",
       "...                                  ...   \n",
       "36009            lvicentesanchez/hackapp   \n",
       "30758           LaudaDev/sep-issuer-bank   \n",
       "242441                 RedBeard0531/ycmd   \n",
       "271159  gitawego/cordova-webview-setting   \n",
       "248833               IN3D/script_grabbag   \n",
       "\n",
       "                                                  content  \\\n",
       "260946  # FizzBuzz\\n\\nimplemented in the C programming...   \n",
       "158910  ----------------------------------------------...   \n",
       "150767  # dcos-cli-docker\\nDCOS CLI preprepared in a D...   \n",
       "205835  # Airs\\n\\nThese days, we all keep up with tele...   \n",
       "34896   # cachewho\\nA JSON/cmdline interactive key val...   \n",
       "...                                                   ...   \n",
       "36009   HaskApp\\n=======\\n\\nHaskell web application us...   \n",
       "30758   #SEP 2015 - Issuer Bank\\n\\nREST service for au...   \n",
       "242441  ycmd: a code-completion & comprehension server...   \n",
       "271159  cordova-webview-setting\\n====================\\...   \n",
       "248833  This repository contains scripts meant to stre...   \n",
       "\n",
       "                                                 language  \\\n",
       "260946  [{'name': 'C', 'bytes': '3452'}, {'name': 'Mak...   \n",
       "158910                                                 []   \n",
       "150767                                                 []   \n",
       "205835                [{'name': 'Ruby', 'bytes': '6889'}]   \n",
       "34896   [{'name': 'HTML', 'bytes': '10217'}, {'name': ...   \n",
       "...                                                   ...   \n",
       "36009              [{'name': 'Haskell', 'bytes': '2563'}]   \n",
       "30758   [{'name': 'Java', 'bytes': '31122'}, {'name': ...   \n",
       "242441  [{'name': 'C', 'bytes': '3657826'}, {'name': '...   \n",
       "271159  [{'name': 'Java', 'bytes': '1659'}, {'name': '...   \n",
       "248833  [{'name': 'Perl', 'bytes': '5449'}, {'name': '...   \n",
       "\n",
       "                                            languages_str  is_python_repo  \n",
       "260946                                         C Makefile           False  \n",
       "158910                                                              False  \n",
       "150767                                                              False  \n",
       "205835                                               Ruby           False  \n",
       "34896                                         HTML Python            True  \n",
       "...                                                   ...             ...  \n",
       "36009                                             Haskell           False  \n",
       "30758                                     Java JavaScript           False  \n",
       "242441  C C# C++ CMake Go JavaScript Objective-C Perl ...            True  \n",
       "271159                                    Java JavaScript           False  \n",
       "248833                             Perl Python Ruby Shell            True  \n",
       "\n",
       "[27288 rows x 5 columns]"
      ]
     },
     "execution_count": 12,
     "metadata": {},
     "output_type": "execute_result"
    }
   ],
   "source": [
    "repos_df_sample"
   ]
  },
  {
   "cell_type": "code",
   "execution_count": 13,
   "metadata": {},
   "outputs": [],
   "source": [
    "def convert_markdown(markdown_text):\n",
    "    markdowner = markdown2.Markdown()\n",
    "    return markdowner.convert(markdown_text)"
   ]
  },
  {
   "cell_type": "code",
   "execution_count": 14,
   "metadata": {},
   "outputs": [
    {
     "name": "stderr",
     "output_type": "stream",
     "text": [
      "WARNING:root:tensorflow or tensorflow-hub not found, loading tfhub models won't work\n"
     ]
    }
   ],
   "source": [
    "from mlutil import parallel"
   ]
  },
  {
   "cell_type": "code",
   "execution_count": 15,
   "metadata": {},
   "outputs": [
    {
     "name": "stdout",
     "output_type": "stream",
     "text": [
      "CPU times: user 1.37 s, sys: 417 ms, total: 1.78 s\n",
      "Wall time: 2min 9s\n"
     ]
    }
   ],
   "source": [
    "%%time\n",
    "repos_df_sample['html_content'] = list(parallel.mapp(convert_markdown, repos_df_sample['content'], chunksize=10))"
   ]
  },
  {
   "cell_type": "code",
   "execution_count": 16,
   "metadata": {},
   "outputs": [
    {
     "data": {
      "text/plain": [
       "'<h1>FizzBuzz</h1>\\n\\n<p>implemented in the C programming Language (C99)</p>\\n\\n<p>simply having some fun and reviewing conditional compilation with make and the C pre-processor</p>\\n\\n<h1>Compilation</h1>\\n\\n<p><code>make</code> to simply compile</p>\\n\\n<p><code>make NUMBER=1</code> to enable printing the numbers before fuzz, buzz, fizzbuzz, or the number</p>\\n\\n<p><code>make SLEEP=1</code> to enable a small delay before each print</p>\\n\\n<p><code>make DEBUG</code> to enable the <code>-g</code> compile flag to add debug symbols</p>\\n\\n<p>and they can be combined to add numbers and delay, numbers and debug symbols, etc.</p>\\n'"
      ]
     },
     "execution_count": 16,
     "metadata": {},
     "output_type": "execute_result"
    }
   ],
   "source": [
    "repos_df_sample['html_content'].iloc[0]"
   ]
  },
  {
   "cell_type": "code",
   "execution_count": 17,
   "metadata": {},
   "outputs": [
    {
     "data": {
      "text/plain": [
       "(27288, 6)"
      ]
     },
     "execution_count": 17,
     "metadata": {},
     "output_type": "execute_result"
    }
   ],
   "source": [
    "repos_df_sample.shape"
   ]
  },
  {
   "cell_type": "code",
   "execution_count": null,
   "metadata": {},
   "outputs": [],
   "source": [
    "%%time\n",
    "nlp = spacy.load('en')\n",
    "corpus = st.CorpusFromPandas(repos_df_sample, \n",
    "    category_col='is_python_repo', \n",
    "    text_col='content',\n",
    "    nlp=nlp).build()"
   ]
  },
  {
   "cell_type": "code",
   "execution_count": null,
   "metadata": {},
   "outputs": [],
   "source": []
  }
 ],
 "metadata": {
  "kernelspec": {
   "display_name": "github_search",
   "language": "python",
   "name": "github_search"
  },
  "language_info": {
   "codemirror_mode": {
    "name": "ipython",
    "version": 3
   },
   "file_extension": ".py",
   "mimetype": "text/x-python",
   "name": "python",
   "nbconvert_exporter": "python",
   "pygments_lexer": "ipython3",
   "version": "3.7.6"
  }
 },
 "nbformat": 4,
 "nbformat_minor": 2
}
