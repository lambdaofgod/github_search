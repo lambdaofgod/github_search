{
 "cells": [
  {
   "cell_type": "code",
   "execution_count": 1,
   "metadata": {},
   "outputs": [],
   "source": [
    "#default_exp word_embeddings"
   ]
  },
  {
   "cell_type": "code",
   "execution_count": 2,
   "metadata": {},
   "outputs": [
    {
     "name": "stderr",
     "output_type": "stream",
     "text": [
      "WARNING:root:tensorflow or tensorflow-hub not found, loading tfhub models won't work\n"
     ]
    }
   ],
   "source": [
    "#export\n",
    "\n",
    "import os\n",
    "import sys\n",
    "import tqdm\n",
    "\n",
    "from sklearn import feature_extraction, metrics\n",
    "import numpy as np\n",
    "import pandas as pd\n",
    "\n",
    "import mlutil.parallel\n",
    "\n",
    "import nltk\n",
    "from gensim.models import doc2vec\n",
    "\n",
    "import gensim\n",
    "from github_search import repository_descriptions"
   ]
  },
  {
   "cell_type": "code",
   "execution_count": 3,
   "metadata": {},
   "outputs": [
    {
     "name": "stdout",
     "output_type": "stream",
     "text": [
      "/home/kuba/Projects/github_search\n"
     ]
    }
   ],
   "source": [
    "%cd .."
   ]
  },
  {
   "cell_type": "code",
   "execution_count": 4,
   "metadata": {},
   "outputs": [],
   "source": [
    "all_codesearch_df = repository_descriptions.get_all_codesearch_df('data/python')\n",
    "repos_descriptions_df = repository_descriptions.load_pypi_repo_descriptions()"
   ]
  },
  {
   "cell_type": "code",
   "execution_count": 5,
   "metadata": {},
   "outputs": [],
   "source": [
    "codesearch_df = all_codesearch_df[all_codesearch_df['repo'].isin(repos_descriptions_df['repo'])]"
   ]
  },
  {
   "cell_type": "code",
   "execution_count": 6,
   "metadata": {},
   "outputs": [],
   "source": [
    "train_codesearch_df = codesearch_df[codesearch_df['partition'] == 'train']"
   ]
  },
  {
   "cell_type": "code",
   "execution_count": 7,
   "metadata": {},
   "outputs": [],
   "source": [
    "train_comments = train_codesearch_df['docstring']"
   ]
  },
  {
   "cell_type": "code",
   "execution_count": 8,
   "metadata": {},
   "outputs": [
    {
     "name": "stderr",
     "output_type": "stream",
     "text": [
      "<ipython-input-8-49067e2b050c>:2: SettingWithCopyWarning: \n",
      "A value is trying to be set on a copy of a slice from a DataFrame.\n",
      "Try using .loc[row_indexer,col_indexer] = value instead\n",
      "\n",
      "See the caveats in the documentation: http://pandas.pydata.org/pandas-docs/stable/user_guide/indexing.html#returning-a-view-versus-a-copy\n",
      "  train_codesearch_df['repo_idx'] = repo_idx\n"
     ]
    }
   ],
   "source": [
    "repo_idx = train_codesearch_df['repo'].astype('category').cat.codes\n",
    "train_codesearch_df['repo_idx'] = repo_idx"
   ]
  },
  {
   "cell_type": "code",
   "execution_count": 9,
   "metadata": {},
   "outputs": [],
   "source": [
    "train_descriptions = repos_descriptions_df.merge(train_codesearch_df[['repo', 'repo_idx']], on='repo').drop_duplicates('repo')"
   ]
  },
  {
   "cell_type": "code",
   "execution_count": 10,
   "metadata": {},
   "outputs": [
    {
     "data": {
      "text/plain": [
       "(8036, 3)"
      ]
     },
     "execution_count": 10,
     "metadata": {},
     "output_type": "execute_result"
    }
   ],
   "source": [
    "train_descriptions.shape"
   ]
  },
  {
   "cell_type": "code",
   "execution_count": 11,
   "metadata": {},
   "outputs": [],
   "source": [
    "def make_document(words, doc_label):\n",
    "    return doc2vec.TaggedDocument(nltk.word_tokenize(words.lower()), [doc_label])"
   ]
  },
  {
   "cell_type": "code",
   "execution_count": 12,
   "metadata": {},
   "outputs": [],
   "source": [
    "description_documents = train_descriptions.apply(lambda x: make_document(x.pypi_description, x.repo_idx), axis=1)"
   ]
  },
  {
   "cell_type": "code",
   "execution_count": 13,
   "metadata": {},
   "outputs": [],
   "source": [
    "docstring_documents = train_codesearch_df.apply(lambda x: make_document(x.docstring, x.repo_idx), axis=1)"
   ]
  },
  {
   "cell_type": "code",
   "execution_count": 14,
   "metadata": {},
   "outputs": [],
   "source": [
    "corpus = pd.concat([docstring_documents, description_documents])"
   ]
  },
  {
   "cell_type": "code",
   "execution_count": 15,
   "metadata": {},
   "outputs": [
    {
     "data": {
      "text/plain": [
       "TaggedDocument(words=['return', 'either', 'the', 'full', 'or', 'truncated', 'version', 'of', 'a', 'qiime-formatted', 'taxonomy', 'string', '.', ':', 'type', 'p', ':', 'str', ':', 'param', 'p', ':', 'a', 'qiime-formatted', 'taxonomy', 'string', ':', 'k__foo', ';', 'p__bar', ';', '...', ':', 'type', 'level', ':', 'str', ':', 'param', 'level', ':', 'the', 'different', 'level', 'of', 'identification', 'are', 'kingdom', '(', 'k', ')', ',', 'phylum', '(', 'p', ')', ',', 'class', '(', 'c', ')', ',', 'order', '(', 'o', ')', ',', 'family', '(', 'f', ')', ',', 'genus', '(', 'g', ')', 'and', 'species', '(', 's', ')', '.', 'if', 'level', 'is', 'not', 'provided', ',', 'the', 'default', 'level', 'of', 'identification', 'is', 'species', '.', ':', 'rtype', ':', 'str', ':', 'return', ':', 'a', 'qiime-formatted', 'taxonomy', 'string', 'up', 'to', 'the', 'classification', 'given', 'by', 'param', 'level', '.'], tags=[6911])"
      ]
     },
     "execution_count": 15,
     "metadata": {},
     "output_type": "execute_result"
    }
   ],
   "source": [
    "corpus.iloc[0]"
   ]
  },
  {
   "cell_type": "code",
   "execution_count": 16,
   "metadata": {},
   "outputs": [
    {
     "name": "stdout",
     "output_type": "stream",
     "text": [
      "CPU times: user 1min 37s, sys: 5.67 s, total: 1min 42s\n",
      "Wall time: 59.6 s\n"
     ]
    }
   ],
   "source": [
    "%%time\n",
    "doc2vec_model = gensim.models.Doc2Vec(list(corpus))"
   ]
  },
  {
   "cell_type": "code",
   "execution_count": 17,
   "metadata": {},
   "outputs": [
    {
     "data": {
      "text/plain": [
       "array([ 1.1451368e-01, -3.1799287e-02, -6.0764186e-02,  4.1855898e-02,\n",
       "       -7.0309997e-02, -1.2279561e-01,  4.0411081e-02, -4.3489143e-02,\n",
       "        5.9532339e-04,  8.9765135e-03,  6.9588654e-02,  8.7416828e-02,\n",
       "        3.4857027e-02, -9.5076010e-02,  1.1034787e-01, -2.5430758e-02,\n",
       "        1.1329495e-01, -8.9463685e-03,  1.9726587e-02, -1.5841305e-02,\n",
       "        6.6286154e-02, -2.0812349e-02,  2.6917471e-02,  5.5228774e-02,\n",
       "        2.2524416e-02, -9.4501048e-02, -3.3865531e-03, -4.3131191e-02,\n",
       "       -2.3321824e-03, -2.7688961e-02, -1.6715537e-03, -4.7803126e-02,\n",
       "        4.1988578e-02, -5.3104825e-02,  2.2439675e-02, -3.3608079e-02,\n",
       "        6.6184476e-02, -1.2888160e-02,  6.4826079e-02,  6.8501100e-02,\n",
       "        7.2375208e-02,  5.0392300e-02,  9.9858068e-02,  1.4047024e-02,\n",
       "       -1.0003498e-01,  5.4971159e-02,  1.4228437e-02, -7.5144200e-03,\n",
       "       -5.0331317e-02, -4.6649739e-02, -3.4678720e-02,  2.4093682e-02,\n",
       "        2.7728709e-03, -4.2118549e-02, -4.9761375e-03,  1.6864989e-04,\n",
       "        2.5060231e-02,  6.3412003e-02, -2.7122285e-02, -8.2454525e-02,\n",
       "       -9.5516600e-02, -2.0864584e-02,  6.5427542e-02, -4.2824712e-02,\n",
       "        1.6498836e-02,  2.7731407e-02,  4.0542368e-02,  1.5691185e-02,\n",
       "        8.1128210e-02, -5.9434801e-02,  2.3509948e-02, -3.4702476e-02,\n",
       "        2.2092411e-02, -7.7427201e-02, -8.0104545e-03, -3.5760030e-02,\n",
       "       -2.0473392e-04,  1.3541539e-02, -3.9375558e-02, -8.1776030e-02,\n",
       "        7.4842838e-03,  2.7212361e-02,  8.1648521e-02,  5.4020431e-02,\n",
       "        5.8843486e-02, -3.3000853e-02, -1.0811503e-03,  5.6989573e-02,\n",
       "        4.7427412e-02, -4.8308154e-03, -1.7724855e-02,  2.8695233e-02,\n",
       "        1.8129205e-02,  1.0388144e-02,  1.6484058e-02,  3.6678273e-02,\n",
       "        3.8602728e-02, -4.0233847e-02, -3.4834866e-03,  1.1597564e-04],\n",
       "      dtype=float32)"
      ]
     },
     "execution_count": 17,
     "metadata": {},
     "output_type": "execute_result"
    }
   ],
   "source": [
    "doc2vec_model.infer_vector(description_documents[0].words)"
   ]
  },
  {
   "cell_type": "code",
   "execution_count": 18,
   "metadata": {},
   "outputs": [
    {
     "data": {
      "text/plain": [
       "['open-source',\n",
       " 'algorithms',\n",
       " 'for',\n",
       " 'data-driven',\n",
       " 'building',\n",
       " 'analysis',\n",
       " 'and',\n",
       " 'control']"
      ]
     },
     "execution_count": 18,
     "metadata": {},
     "output_type": "execute_result"
    }
   ],
   "source": [
    "description_documents.iloc[1].words"
   ]
  },
  {
   "cell_type": "code",
   "execution_count": null,
   "metadata": {},
   "outputs": [],
   "source": []
  }
 ],
 "metadata": {
  "kernelspec": {
   "display_name": "Python 3",
   "language": "python",
   "name": "python3"
  },
  "language_info": {
   "codemirror_mode": {
    "name": "ipython",
    "version": 3
   },
   "file_extension": ".py",
   "mimetype": "text/x-python",
   "name": "python",
   "nbconvert_exporter": "python",
   "pygments_lexer": "ipython3",
   "version": "3.8.5"
  }
 },
 "nbformat": 4,
 "nbformat_minor": 4
}
