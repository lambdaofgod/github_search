{
 "cells": [
  {
   "cell_type": "code",
   "execution_count": 1,
   "metadata": {},
   "outputs": [],
   "source": [
    "# default_exp word_embeddings"
   ]
  },
  {
   "cell_type": "code",
   "execution_count": 18,
   "metadata": {},
   "outputs": [],
   "source": [
    "# export\n",
    "\n",
    "import os\n",
    "import sys\n",
    "import tqdm\n",
    "\n",
    "from sklearn import feature_extraction, metrics\n",
    "import numpy as np\n",
    "import pandas as pd\n",
    "\n",
    "import mlutil.parallel\n",
    "\n",
    "import nltk\n",
    "from gensim.models import doc2vec\n",
    "\n",
    "import gensim\n",
    "from github_search import repository_descriptions, neptune_util"
   ]
  },
  {
   "cell_type": "code",
   "execution_count": 3,
   "metadata": {},
   "outputs": [
    {
     "name": "stdout",
     "output_type": "stream",
     "text": [
      "/home/kuba/Projects/github_search\n"
     ]
    }
   ],
   "source": [
    "%cd .."
   ]
  },
  {
   "cell_type": "code",
   "execution_count": 4,
   "metadata": {},
   "outputs": [],
   "source": [
    "all_codesearch_df = repository_descriptions.get_all_codesearch_df(\"data/python\")\n",
    "repos_descriptions_df = repository_descriptions.load_pypi_repo_descriptions()"
   ]
  },
  {
   "cell_type": "code",
   "execution_count": 5,
   "metadata": {},
   "outputs": [],
   "source": [
    "codesearch_df = all_codesearch_df[\n",
    "    all_codesearch_df[\"repo\"].isin(repos_descriptions_df[\"repo\"])\n",
    "]"
   ]
  },
  {
   "cell_type": "code",
   "execution_count": 6,
   "metadata": {},
   "outputs": [],
   "source": [
    "train_codesearch_df = codesearch_df[codesearch_df[\"partition\"] == \"train\"]"
   ]
  },
  {
   "cell_type": "code",
   "execution_count": 7,
   "metadata": {},
   "outputs": [],
   "source": [
    "train_comments = train_codesearch_df[\"docstring\"]"
   ]
  },
  {
   "cell_type": "code",
   "execution_count": 8,
   "metadata": {},
   "outputs": [
    {
     "name": "stderr",
     "output_type": "stream",
     "text": [
      "<ipython-input-8-49067e2b050c>:2: SettingWithCopyWarning: \n",
      "A value is trying to be set on a copy of a slice from a DataFrame.\n",
      "Try using .loc[row_indexer,col_indexer] = value instead\n",
      "\n",
      "See the caveats in the documentation: http://pandas.pydata.org/pandas-docs/stable/user_guide/indexing.html#returning-a-view-versus-a-copy\n",
      "  train_codesearch_df['repo_idx'] = repo_idx\n"
     ]
    }
   ],
   "source": [
    "repo_idx = train_codesearch_df[\"repo\"].astype(\"category\").cat.codes\n",
    "train_codesearch_df[\"repo_idx\"] = repo_idx"
   ]
  },
  {
   "cell_type": "code",
   "execution_count": 9,
   "metadata": {},
   "outputs": [],
   "source": [
    "train_descriptions = repos_descriptions_df.merge(\n",
    "    train_codesearch_df[[\"repo\", \"repo_idx\"]], on=\"repo\"\n",
    ").drop_duplicates(\"repo\")"
   ]
  },
  {
   "cell_type": "code",
   "execution_count": 10,
   "metadata": {},
   "outputs": [
    {
     "data": {
      "text/plain": [
       "(8036, 3)"
      ]
     },
     "execution_count": 10,
     "metadata": {},
     "output_type": "execute_result"
    }
   ],
   "source": [
    "train_descriptions.shape"
   ]
  },
  {
   "cell_type": "code",
   "execution_count": 11,
   "metadata": {},
   "outputs": [],
   "source": [
    "def make_document(words, doc_label):\n",
    "    return doc2vec.TaggedDocument(nltk.word_tokenize(words.lower()), [doc_label])"
   ]
  },
  {
   "cell_type": "code",
   "execution_count": 12,
   "metadata": {},
   "outputs": [],
   "source": [
    "description_documents = train_descriptions.apply(\n",
    "    lambda x: make_document(x.pypi_description, x.repo_idx), axis=1\n",
    ")"
   ]
  },
  {
   "cell_type": "code",
   "execution_count": 13,
   "metadata": {},
   "outputs": [],
   "source": [
    "docstring_documents = train_codesearch_df.apply(\n",
    "    lambda x: make_document(x.docstring, x.repo_idx), axis=1\n",
    ")"
   ]
  },
  {
   "cell_type": "code",
   "execution_count": 14,
   "metadata": {},
   "outputs": [],
   "source": [
    "corpus = pd.concat([docstring_documents, description_documents])"
   ]
  },
  {
   "cell_type": "code",
   "execution_count": 19,
   "metadata": {},
   "outputs": [
    {
     "data": {
      "text/plain": [
       "TaggedDocument(words=['return', 'either', 'the', 'full', 'or', 'truncated', 'version', 'of', 'a', 'qiime-formatted', 'taxonomy', 'string', '.', ':', 'type', 'p', ':', 'str', ':', 'param', 'p', ':', 'a', 'qiime-formatted', 'taxonomy', 'string', ':', 'k__foo', ';', 'p__bar', ';', '...', ':', 'type', 'level', ':', 'str', ':', 'param', 'level', ':', 'the', 'different', 'level', 'of', 'identification', 'are', 'kingdom', '(', 'k', ')', ',', 'phylum', '(', 'p', ')', ',', 'class', '(', 'c', ')', ',', 'order', '(', 'o', ')', ',', 'family', '(', 'f', ')', ',', 'genus', '(', 'g', ')', 'and', 'species', '(', 's', ')', '.', 'if', 'level', 'is', 'not', 'provided', ',', 'the', 'default', 'level', 'of', 'identification', 'is', 'species', '.', ':', 'rtype', ':', 'str', ':', 'return', ':', 'a', 'qiime-formatted', 'taxonomy', 'string', 'up', 'to', 'the', 'classification', 'given', 'by', 'param', 'level', '.'], tags=[6911])"
      ]
     },
     "execution_count": 19,
     "metadata": {},
     "output_type": "execute_result"
    }
   ],
   "source": [
    "corpus.iloc[0]"
   ]
  },
  {
   "cell_type": "code",
   "execution_count": null,
   "metadata": {},
   "outputs": [],
   "source": [
    "neptune_util.init_neptune_project()"
   ]
  },
  {
   "cell_type": "code",
   "execution_count": 16,
   "metadata": {},
   "outputs": [
    {
     "name": "stdout",
     "output_type": "stream",
     "text": [
      "CPU times: user 1min 38s, sys: 5.53 s, total: 1min 43s\n",
      "Wall time: 1min\n"
     ]
    }
   ],
   "source": [
    "%%time\n",
    "doc2vec_model = gensim.models.Doc2Vec(list(corpus))"
   ]
  },
  {
   "cell_type": "code",
   "execution_count": 29,
   "metadata": {},
   "outputs": [
    {
     "name": "stdout",
     "output_type": "stream",
     "text": [
      "https://ui.neptune.ai/lambdaofgod/github-search/e/GIT-17\n"
     ]
    }
   ],
   "source": [
    "model_path = \"/tmp/doc2vec_description_comments.bin\"\n",
    "experiment = neptune_util.init_neptune_experiment(\"doc2vec_description_comments\", {})\n",
    "doc2vec_model.save(\"/tmp/doc2vec_description_comments.bin\")"
   ]
  },
  {
   "cell_type": "code",
   "execution_count": 30,
   "metadata": {},
   "outputs": [],
   "source": [
    "import neptune\n",
    "\n",
    "experiment.log_artifact(model_path)"
   ]
  },
  {
   "cell_type": "code",
   "execution_count": 32,
   "metadata": {},
   "outputs": [],
   "source": [
    "experiment.stop()"
   ]
  },
  {
   "cell_type": "code",
   "execution_count": 17,
   "metadata": {},
   "outputs": [
    {
     "data": {
      "text/plain": [
       "array([ 2.00192686e-02,  1.56676266e-02, -1.35306463e-01, -4.47537005e-02,\n",
       "       -3.62644009e-02,  1.05705887e-01,  2.35368926e-02,  3.56989391e-02,\n",
       "        4.08363305e-02, -3.99746746e-02, -1.32620454e-01,  9.42355841e-02,\n",
       "       -6.57281429e-02, -2.87903585e-02,  2.13103276e-02,  1.01808466e-01,\n",
       "        6.84939176e-02, -2.48240046e-02,  2.54330356e-02,  8.47146362e-02,\n",
       "       -8.85893330e-02, -7.15414062e-03, -1.19904682e-01, -2.11598095e-03,\n",
       "       -5.45727760e-02,  1.05122747e-02,  1.01896994e-01, -1.17142778e-02,\n",
       "        4.19061743e-02, -1.71306543e-02, -9.79323238e-02,  5.05158789e-02,\n",
       "        4.28522825e-02, -2.49784309e-02, -6.82219258e-03,  1.12462444e-02,\n",
       "        6.42626211e-02, -5.56820631e-02,  7.37288222e-02, -6.63584322e-02,\n",
       "       -1.45307155e-02, -5.56058809e-02, -4.82847244e-02,  2.23817546e-02,\n",
       "        4.67176400e-02, -9.42926574e-03,  7.68230408e-02, -4.30113412e-02,\n",
       "        6.67387545e-02,  4.10580188e-02,  4.72838767e-02, -1.22534730e-01,\n",
       "       -9.60843638e-02,  2.87641827e-02,  7.60164950e-03, -6.35690521e-05,\n",
       "       -1.57700025e-03, -1.08712830e-01,  3.44760232e-02,  3.82110439e-02,\n",
       "       -5.88653758e-02,  1.18092044e-04, -1.83679126e-02,  2.55582538e-02,\n",
       "        3.74080613e-02,  1.00844493e-03,  6.16104826e-02, -4.41582204e-04,\n",
       "        8.09662342e-02, -5.21461107e-02,  7.74538741e-02, -1.50875580e-02,\n",
       "        6.21431395e-02,  4.15368238e-03,  1.77405775e-02, -3.07293124e-02,\n",
       "        6.72264695e-02,  3.61956991e-02,  7.47501403e-02, -5.60224392e-02,\n",
       "       -8.70649815e-02,  1.82372797e-02,  7.00142905e-02, -2.78344471e-03,\n",
       "       -7.19526783e-02, -6.25004396e-02,  5.80834271e-03,  3.29183377e-02,\n",
       "        4.28348314e-03,  1.17576525e-01, -6.55120760e-02, -2.38031354e-02,\n",
       "        6.65877461e-02, -1.17943093e-01,  7.94054344e-02, -1.45219155e-02,\n",
       "        1.78548582e-02, -1.84730608e-02,  2.28020418e-02, -2.84208357e-02],\n",
       "      dtype=float32)"
      ]
     },
     "execution_count": 17,
     "metadata": {},
     "output_type": "execute_result"
    }
   ],
   "source": [
    "doc2vec_model.infer_vector(description_documents[0].words)"
   ]
  }
 ],
 "metadata": {
  "kernelspec": {
   "display_name": "Python 3",
   "language": "python",
   "name": "python3"
  },
  "language_info": {
   "codemirror_mode": {
    "name": "ipython",
    "version": 3
   },
   "file_extension": ".py",
   "mimetype": "text/x-python",
   "name": "python",
   "nbconvert_exporter": "python",
   "pygments_lexer": "ipython3",
   "version": "3.8.5"
  }
 },
 "nbformat": 4,
 "nbformat_minor": 4
}
