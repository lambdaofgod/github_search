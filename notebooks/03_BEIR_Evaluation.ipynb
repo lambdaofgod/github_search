{
 "cells": [
  {
   "cell_type": "code",
   "execution_count": 1,
   "id": "87cd42d2-99f5-4ced-830f-d9da36a6e841",
   "metadata": {},
   "outputs": [
    {
     "name": "stderr",
     "output_type": "stream",
     "text": [
      "/home/kuba/Projects/github_search/.venv/lib/python3.12/site-packages/tqdm/auto.py:21: TqdmWarning: IProgress not found. Please update jupyter and ipywidgets. See https://ipywidgets.readthedocs.io/en/stable/user_install.html\n",
      "  from .autonotebook import tqdm as notebook_tqdm\n"
     ]
    }
   ],
   "source": [
    "import pandas as pd\n",
    "import json\n",
    "\n",
    "from beir.retrieval.search.lexical import BM25Search as BM25\n",
    "\n",
    "\n",
    "from beir.retrieval.search.dense import DenseRetrievalExactSearch as DRES\n",
    "from beir.retrieval.models import SPLADE, SentenceBERT, UniCOIL\n",
    "from beir.retrieval.search.sparse import SparseSearch\n",
    "\n",
    "\n",
    "from beir import util, LoggingHandler\n",
    "from beir.datasets.data_loader import GenericDataLoader\n",
    "from github_search.evaluation.beir_evaluation import EvaluateRetrievalCustom as EvaluateRetrieval, CorpusDataLoader\n",
    "from beir.retrieval.search.lexical import BM25Search as BM25\n",
    "\n",
    "import sentence_transformers"
   ]
  },
  {
   "cell_type": "code",
   "execution_count": 2,
   "id": "8967a0ce-5bad-4061-993a-cfc9a4eb1a5d",
   "metadata": {},
   "outputs": [
    {
     "data": {
      "text/plain": [
       "[('readme', 6780),\n",
       " ('generated_readme', 6780),\n",
       " ('selected_code', 6780),\n",
       " ('generated_rationale', 6780),\n",
       " ('generation_context', 6780),\n",
       " ('dependency_signature', 6780),\n",
       " ('repository_signature', 6780),\n",
       " ('generated_tasks', 6780)]"
      ]
     },
     "execution_count": 2,
     "metadata": {},
     "output_type": "execute_result"
    }
   ],
   "source": [
    "import pickle \n",
    "\n",
    "with open(\"/home/kuba/Projects/github_search/.dagster/storage/corpus_information\", \"rb\") as f:\n",
    "    corpora = json.loads(pickle.load(f))\n",
    "\n",
    "[(cname, len(corpora[cname].keys())) for cname in corpora.keys()]"
   ]
  },
  {
   "cell_type": "code",
   "execution_count": 3,
   "id": "38da73bc-c3ee-4e89-a06a-59a17e936333",
   "metadata": {},
   "outputs": [
    {
     "data": {
      "text/plain": [
       "[('0',\n",
       "  {'text': 'repo: 008karan/SincNet_demo\\n\\nrepo-file:\\ncompute_d_vector.py, data_io.py, speaker_id.py, dnn_models.py, data_io.py, similarity.py, dnn_models.py, TIMIT_preparation.py, inference.py, dnn_models.py\\n\\nfile-import:\\nnumpy, sys, torch, os, soundfile, torch.autograd.Variable, torch.nn, json, sklearn.metrics.pairwise.cosine_similarity, data_io.ReadList\\n\\nfile-class:\\nLayerNorm, dnn_models.py, dnn_models.py, dnn_models.py, SincConv_fast, MLP, sinc_conv, SincNet\\n\\nfile-function:\\nflip, ReadList, create_batches_rnd, act_fun, sinc, speaker_id.py, speaker_id.py, dnn_models.py, data_io.py, dnn_models.py\\ntasks:\\nspeaker recognition, speech feature extraction',\n",
       "   'title': '008karan/SincNet_demo'}),\n",
       " ('1',\n",
       "  {'text': 'repo: 011235813/cm3\\n\\nrepo-file:\\nalg/replay_buffer.py, alg/alg_baseline_checkers.py, alg/alg_qmix.py, env/multiagent-particle-envs/multiagent/policy.py, env/multiagent-particle-envs/multiagent/core.py, env/multiagent-particle-envs/multiagent/multi_discrete.py, env/multiagent-particle-envs/multiagent/scenarios/simple_speaker_listener.py, alg/alg_credit_checkers.py, alg/evaluate.py, alg/replay_buffer_dual.py\\n\\nfile-import:\\nnumpy, sys, multiagent.core.Landmark, multiagent.core.Agent, multiagent.core.World, multiagent.scenario.BaseScenario, tensorflow, random, networks, gym.envs.registration.register\\n\\nfile-class:\\nColor, Entity, Agent, Geom, Landmark, World, Attr, PolyLine, MultiAgentEnv, EntityState\\n\\nfile-function:\\nget_variable, fc3, convnet_1, _add_attrs, make_circle, make_polygon, make_env, make_polyline, load, get_display\\ntasks:\\nmulti-agent reinforcement learning, reinforcement learning, policy evaluation',\n",
       "   'title': '011235813/cm3'}),\n",
       " ('2',\n",
       "  {'text': 'repo: 011235813/hierarchical-marl\\n\\nrepo-file:\\nalg/replay_buffer.py, alg/evaluate.py, alg/alg_iql.py, alg/alg_hsd_scripted.py, env/env_wrapper.py, alg/alg_hsd_scripted.py, alg/alg_hsd.py, alg/networks.py, alg/train_multiprocess.py, alg/alg_qmix.py\\n\\nfile-import:\\nnumpy, sys, tensorflow, json, random, networks, env_wrapper, test, test, multiprocessing.Process\\n\\nfile-class:\\nAlg, Replay_Buffer, Env, alg/alg_hsd_scripted.py, alg/alg_hsd.py, alg/alg_hsd.py, env/env_wrapper.py, alg/alg_hsd_scripted.py, alg/alg_iql.py, alg/alg_iql.py\\n\\nfile-function:\\ntest, test, test_hierarchy, get_variable, train_function, Qmix_single, Q_high, actor, Q_low, critic\\ntasks:\\nmulti-agent reinforcement learning, hierarchical reinforcement learning',\n",
       "   'title': '011235813/hierarchical-marl'}),\n",
       " ('3',\n",
       "  {'text': 'repo: 011235813/lio\\n\\nrepo-file:\\nlio/alg/train_lio.py, lio/alg/policy_gradient.py, lio/alg/train_multiprocess.py, lio/alg/train_pg.py, lio/alg/test_er.py, lio/alg/config_room_pg.py, lio/alg/inequity_aversion.py, lio/alg/config_ssd_lio.py, lio/alg/config_ipd_lio.py, lio/alg/actor_critic.py\\n\\nfile-import:\\nnumpy, lio.utils.configdict.ConfigDict, tensorflow, lio.utils.util, lio.env.ssd, lio.alg.networks, lio.env.room_agent, gym, setuptools.setup, setuptools.find_packages\\n\\nfile-class:\\nConfigDict, LIO, OneHot, Env, EscapeRoom, IPD, Actor, InequityAversion, PolicyGradient, ActorCritic\\n\\nfile-function:\\n_convert_sub_configs, get_config, convnet, conv, train, run_episode, get_action_others_1hot, process_rewards, process_actions, get_action_others_1hot_batch\\ntasks:\\nreinforcement learning, multi-agent systems, policy gradient methods',\n",
       "   'title': '011235813/lio'}),\n",
       " ('4',\n",
       "  {'text': 'repo: 0411tony/Yue\\n\\nrepo-file:\\nstructure/sparseMatrix.py, recommender/baseline/Rand.py, recommender/baseline/__init__.py, recommender/advanced/NeuMF.py, main.py, recommender/advanced/CDAE.py, recommender/__init__.py, recommender/advanced/NeuTrans.py, data/artist.py, recommender/advanced/Song2vec.py\\n\\nfile-import:\\nrandom.randint, numpy, collections.defaultdict, random, random.choice, time, tensorflow, base.recommender.Recommender, tool.config, math\\n\\nfile-class:\\nLineConfig, SymmetricMatrix, IterativeRecommender, Recommender, Record, Measure, SparseMatrix, DataSplit, MostPop, Rand\\n\\nfile-function:\\nsigmoid, cosine, recompute_factors, common, a_row_batch, cosine_sp, pearson_sp, euclidean, get_row, _solve\\ntasks:\\nrecommender systems, collaborative filtering, matrix factorization',\n",
       "   'title': '0411tony/Yue'}),\n",
       " ('5',\n",
       "  {'text': 'repo: 0492wzl/tensorflow_slim_densenet\\n\\nrepo-file:\\nnets/nasnet/nasnet_utils.py, nets/overfeat.py, nets/pix2pix_test.py, nets/__init__.py, nets/inception_utils.py, nets/alexnet_test.py, nets/nasnet/nasnet_utils_test.py, preprocessing/preprocessing_factory.py, preprocessing/cifarnet_preprocessing.py, nets/cifarnet.py\\n\\nfile-import:\\n__future__.print_function, __future__.absolute_import, __future__.division, tensorflow, collections.namedtuple, os, numpy, datasets.dataset_utils, nets.inception, sys\\n\\nfile-class:\\nBlock, NasNetABaseCell, _PSDeviceChooser, InceptionTest, ResnetUtilsTest, ResnetCompleteNetworkTest, ImageReader, BoundingBox, NasnetUtilsTest, AlexnetV2Test\\n\\nfile-function:\\nresnet_v2_block, resnet_v1, resnet_v1_block, resnet_v2, create_test_input, GetInt, GetItem, bn_act_conv_drp, trunc_normal, _operation_to_pooling_shape\\ntasks:\\ncomputer vision, image processing',\n",
       "   'title': '0492wzl/tensorflow_slim_densenet'}),\n",
       " ('6',\n",
       "  {'text': 'repo: 07Agarg/Image-Resolution-Enhancement-SRCNN\\n\\nrepo-file:\\nSOURCE/main.py, SOURCE/config.py, SOURCE/main.py, SOURCE/utils.py, SOURCE/model.py, SOURCE/data.py, SOURCE/neural_network.py, SOURCE/config.py, SOURCE/data.py, SOURCE/utils.py\\n\\nfile-import:\\nos, config, math, numpy, tensorflow, cv2, model, data, SOURCE/main.py, SOURCE/config.py\\n\\nfile-class:\\nLayer, DATA, Output_Layer, Convolution_Layer, SOURCE/model.py, SOURCE/neural_network.py, SOURCE/neural_network.py, SOURCE/data.py, SOURCE/data.py, SOURCE/model.py\\n\\nfile-function:\\ndeprocess, modcrop, im2double, SOURCE/utils.py, SOURCE/utils.py, SOURCE/data.py, SOURCE/data.py, SOURCE/data.py, stitch, reconstruct\\ntasks:\\nimage resolution enhancement, super-resolution convolutional neural network (SRCNN)',\n",
       "   'title': '07Agarg/Image-Resolution-Enhancement-SRCNN'}),\n",
       " ('7',\n",
       "  {'text': 'repo: 0fengzi0/tacotron\\n\\nrepo-file:\\ntext/symbols.py, preprocess.py, util/plot.py, tests/__init__.py, text/__init__.py, tests/text_test.py, text/cleaners.py, text/numbers.py, util/audio.py, util/infolog.py\\n\\nfile-import:\\nos, tensorflow, numpy, hparams.hparams, text.cmudict, re, util.audio, tacotron.Tacotron, concurrent.futures.ProcessPoolExecutor, functools.partial\\n\\nfile-class:\\nTacotron, ValueWindow, Synthesizer, TacoTestHelper, TacoTrainingHelper, LocationSensitiveAttention, CustomDecoder, FrameProjection, StopProjection, TacotronDecoderWrapper\\n\\nfile-function:\\nnormalize_numbers, cbhg, text_to_sequence, _stft_parameters, sequence_to_text, _should_keep_symbol, log, hparams_debug_string, create_model, prenet\\ntasks:\\nspeech synthesis, text-to-speech',\n",
       "   'title': '0fengzi0/tacotron'}),\n",
       " ('8',\n",
       "  {'text': 'repo: 0h-n0/cdn_molecule_pytorch\\n\\nrepo-file:\\nexamples/example_zinc.py, cdn/data.py, cdn/module.py, cdn/__init__.py, setup.py, cdn/util.py, cdn/module.py, cdn/data.py, cdn/data.py, examples/example_zinc.py\\n\\nfile-import:\\ntorch, pathlib.Path, numpy, os, re, setuptools, torch.nn.functional, examples/example_zinc.py, cdn/module.py, setup.py\\n\\nfile-class:\\nSmilesDataLoader, SmilesEmbbeding, CDN, cdn/data.py, cdn/module.py, cdn/module.py, cdn/data.py, cdn/data.py, cdn/module.py, cdn/module.py\\n\\nfile-function:\\nget_iterators, download, train, one_hot, get_version, examples/example_zinc.py, cdn/module.py, cdn/module.py, setup.py, examples/example_zinc.py\\ntasks:\\nmolecular modeling, chemical informatics',\n",
       "   'title': '0h-n0/cdn_molecule_pytorch'}),\n",
       " ('9',\n",
       "  {'text': 'repo: 0h-n0/tfdbonas\\n\\nrepo-file:\\ntests/test_optimizer.py, tests/test_trial.py, examples/mnist_opt_hyperparams.py, tfdbonas/utils.py, tests/integrated_test/__init__.py, examples/mnist_two_modal_neural_architecture_search.py, setup.py, tests/__init__.py, tests/test_acquistion_functions.py, tests/test_deep_surrogate_models.py\\n\\nfile-import:\\nnumpy, tfdbonas.Searcher, tfdbonas.Trial, pytest, trial.Trial, tensorflow, typing, pathlib.Path, searcher.Searcher, math\\n\\nfile-class:\\nTrialGenerator, Searcher, Trial, AcquisitonFunction, DNGO, SimpleNetwork, GraphConvolution, GraphGather, Params, BaseSurrogateModel\\n\\nfile-function:\\nis_float, load_class, _expected_improvement, objective, objectve, create_model, test_searcher, test_searcher_with_integrated_test, test_simple_network, create_simple_network_model\\ntasks:\\nneural architecture search, hyperparameter optimization',\n",
       "   'title': '0h-n0/tfdbonas'})]"
      ]
     },
     "execution_count": 3,
     "metadata": {},
     "output_type": "execute_result"
    }
   ],
   "source": [
    "list(corpora[\"repository_signature\"].items())[:10]"
   ]
  },
  {
   "cell_type": "code",
   "execution_count": 4,
   "id": "ee6af53a-04d8-4e5b-8a3b-91e4e7471340",
   "metadata": {},
   "outputs": [
    {
     "data": {
      "text/plain": [
       "dict_keys(['readme', 'generated_readme', 'selected_code', 'generated_rationale', 'generation_context', 'dependency_signature', 'repository_signature', 'generated_tasks'])"
      ]
     },
     "execution_count": 4,
     "metadata": {},
     "output_type": "execute_result"
    }
   ],
   "source": [
    "corpora.keys()"
   ]
  },
  {
   "cell_type": "code",
   "execution_count": 5,
   "id": "f005a3a6-de4b-460a-aadf-3962f5def8bc",
   "metadata": {},
   "outputs": [],
   "source": [
    "def get_repos_for_query(query, repos_df):\n",
    "    return repos_df[repos_df[\"tasks\"].apply(lambda ts: query in ts)]\n",
    "\n",
    "\n",
    "def get_queries(repos_df, min_query_count):\n",
    "    all_queries = repos_df[\"query_tasks\"].explode()\n",
    "    qcounts = all_queries.value_counts()\n",
    "    return qcounts[qcounts >= min_query_count].index.to_list()\n",
    "\n",
    "def prepare_query_data(repos_df, min_query_count=5):\n",
    "    task_queries = {str(i): query for (i, query) in enumerate(get_queries(repos_df, min_query_count=min_query_count))}\n",
    "\n",
    "    task_qrels = {\n",
    "        qid: {str(corpus_id): 1 for corpus_id in get_repos_for_query(task_queries[qid], repos_df).index}\n",
    "        for qid in task_queries.keys()\n",
    "    }\n",
    "    return task_queries, task_qrels"
   ]
  },
  {
   "cell_type": "code",
   "execution_count": 6,
   "id": "c2dc99ab-6021-4d6e-9273-50c9f2a258a2",
   "metadata": {},
   "outputs": [],
   "source": [
    "with open(\"/home/kuba/Projects/github_search/.dagster/storage/repos_with_representations_df\", \"rb\") as f:\n",
    "    sampled_repos_df = pickle.load(f)\n",
    "\n",
    "\n",
    "repos_sorted = [rec[\"title\"] for rec in list(corpora[\"readme\"].values())]\n",
    "sampled_repos_df = pd.Series(repos_sorted, name=\"repo\").reset_index().merge(sampled_repos_df, on=\"repo\")\n",
    "task_queries, task_qrels = prepare_query_data(sampled_repos_df, min_query_count=10)"
   ]
  },
  {
   "cell_type": "code",
   "execution_count": 7,
   "id": "065e32c3-742a-480f-a5e1-8f9b259d185b",
   "metadata": {},
   "outputs": [
    {
     "data": {
      "text/plain": [
       "count    744.000000\n",
       "mean      23.830645\n",
       "std       30.498167\n",
       "min       10.000000\n",
       "25%       11.000000\n",
       "50%       13.000000\n",
       "75%       22.000000\n",
       "max      271.000000\n",
       "dtype: float64"
      ]
     },
     "execution_count": 7,
     "metadata": {},
     "output_type": "execute_result"
    }
   ],
   "source": [
    "pd.Series(map(len, task_qrels.values())).describe()"
   ]
  },
  {
   "cell_type": "code",
   "execution_count": 8,
   "id": "d20cb1a2-6e2d-4478-8988-d9d383815382",
   "metadata": {},
   "outputs": [],
   "source": [
    "sampled_repos_df = sampled_repos_df[sampled_repos_df[\"tasks\"].apply(len) <= 10]"
   ]
  },
  {
   "cell_type": "code",
   "execution_count": 9,
   "id": "706e4557-3e76-4ef7-a071-c1ef40983caf",
   "metadata": {},
   "outputs": [
    {
     "data": {
      "text/plain": [
       "(6780, 15)"
      ]
     },
     "execution_count": 9,
     "metadata": {},
     "output_type": "execute_result"
    }
   ],
   "source": [
    "sampled_repos_df.shape"
   ]
  },
  {
   "cell_type": "markdown",
   "id": "6be0ed1d-4716-4214-9995-4d0dcbecb6d0",
   "metadata": {},
   "source": [
    "with open(\"../output/elasticsearch/queries_qrels.json\", \"w\") as f:\n",
    "    json.dump({\"task_queries\": task_queries, \"task_qrels\": task_qrels}, f)"
   ]
  },
  {
   "cell_type": "code",
   "execution_count": 10,
   "id": "fc5caf7e-5d2b-4283-acc3-9bcf03d432a7",
   "metadata": {},
   "outputs": [],
   "source": [
    "for cid in corpora[\"readme\"].keys():\n",
    "    assert corpora[\"readme\"][cid][\"title\"] == corpora[\"readme\"][cid][\"title\"], f\"no match at {cid}\"\n",
    "    #assert corpora[\"readme\"][cid][\"title\"] == corpora[(\"dependency_signature\", 0)][cid][\"title\"], f\"no match at {cid}\""
   ]
  },
  {
   "cell_type": "code",
   "execution_count": 11,
   "id": "83edb572-ef27-470b-b16d-90a8621b9455",
   "metadata": {},
   "outputs": [],
   "source": [
    "## Checking elasticsearch"
   ]
  },
  {
   "cell_type": "code",
   "execution_count": 12,
   "id": "bf282096-1c70-453a-a73e-219386ba86b2",
   "metadata": {},
   "outputs": [],
   "source": [
    "import elasticsearch\n",
    "\n",
    "es_client = elasticsearch.Elasticsearch()\n",
    "def retrieve_repos_with_es(query, k=50, index=\"readme\", es_client=es_client):\n",
    "    es_result = es_client.search(index=index, body={\"query\": {\"match\": {\"txt\": query}}}, size=k)\n",
    "    return [\n",
    "        hit[\"_source\"][\"title\"]\n",
    "        for hit in es_result[\"hits\"][\"hits\"]\n",
    "    ]\n",
    "\n",
    "\n",
    "\n",
    "def get_elasticsearch_results():\n",
    "    retrieved_repo_tasks = {}\n",
    "\n",
    "    qcounts = sampled_repos_df[\"tasks\"].explode().value_counts()\n",
    "    used_queries = [\n",
    "        query\n",
    "        for query in sampled_repos_df[\"tasks\"].explode().drop_duplicates()\n",
    "        if qcounts.loc[query] > 5\n",
    "    ]\n",
    "    # [task_queries[qid] for qid in task_queries.keys()]\n",
    "    \n",
    "    index=\"selected_code\"\n",
    "    for query in used_queries:\n",
    "        retrieved_tasks = sampled_repos_df[sampled_repos_df[\"repo\"].isin(retrieve_repos_with_es(query, index=index))][\"tasks\"].to_list()\n",
    "        retrieved_repo_tasks[query] = retrieved_tasks\n",
    "    \n",
    "    k = 10\n",
    "    query_hits = pd.Series({\n",
    "        query: sum([query in tasks for tasks in retrieved_repo_tasks[query][:k]])\n",
    "        for query in retrieved_repo_tasks.keys()\n",
    "    })\n",
    "\n",
    "def show_elasticsearch_results(qid='10'):\n",
    "    query = task_queries[qid]\n",
    "    \n",
    "    print(query)\n",
    "    print(query_hits[query], \"hits\")\n",
    "    \n",
    "    for hit in es_client.search(index=index, body={\"query\": {\"match\": {\"txt\": task_queries[qid]}}}, size=k)[\"hits\"][\"hits\"]:\n",
    "        print(\"#\" * 100)\n",
    "        print(\"#\" * 100)\n",
    "        repo_name = hit[\"_source\"][\"title\"]\n",
    "        repo_record = sampled_repos_df[sampled_repos_df[\"repo\"] == repo_name].iloc[0]\n",
    "        is_hit = query in repo_record[\"tasks\"]\n",
    "        print(repo_name, \"HIT\" if is_hit else \"NO HIT\")\n",
    "        \n",
    "        if is_hit:\n",
    "            print(\"#\" * 100)\n",
    "            print(\"#\" * 100)\n",
    "            print(hit['_source']['txt'])"
   ]
  },
  {
   "cell_type": "markdown",
   "id": "4604b8c5-a332-4213-b1c3-3101fd14e78f",
   "metadata": {},
   "source": [
    "## Evaluating with BEIR"
   ]
  },
  {
   "cell_type": "code",
   "execution_count": 13,
   "id": "29db4c1f-942f-4eab-afdd-8383454bee9f",
   "metadata": {},
   "outputs": [],
   "source": [
    "def load_w2v_sentence_transformer(w2v_model_path):\n",
    "    w2v_layer = sentence_transformers.models.WordEmbeddings.load(w2v_model_path)\n",
    "    return sentence_transformers.SentenceTransformer(modules=[w2v_layer, sentence_transformers.models.Pooling(200)])\n",
    "\n",
    "\n",
    "\n",
    "def load_sentence_bert(model_name):\n",
    "    st_model = SentenceBERT(\"sentence-transformers/all-mpnet-base-v2\")\n",
    "    st_model.doc_model = sentence_transformers.SentenceTransformer(model_name, trust_remote_code=True)\n",
    "    st_model.q_model = st_model.doc_model\n",
    "    return st_model\n",
    "\n",
    "def get_w2v_retriever(w2v_model_path=\"../models/rnn_abstract_readme_w2v/0_WordEmbeddings\"):\n",
    "    w2v_model = load_w2v_sentence_transformer(w2v_model_path)\n",
    "    st_model = SentenceBERT(\"sentence-transformers/all-mpnet-base-v2\")\n",
    "    st_model.q_model = w2v_model\n",
    "    st_model.doc_model = w2v_model\n",
    "    return EvaluateRetrieval(DRES(st_model), score_function=\"cos_sim\")\n",
    "\n",
    "def get_splade_retriever(splade_model_path = \"splade/weights/distilsplade_max\", batch_size=128):\n",
    "    splade_model = DRES(SPLADE(splade_model_path), batch_size=128)\n",
    "    return EvaluateRetrieval(splade_model, score_function=\"dot\")\n",
    "\n",
    "\n",
    "def get_bm25_retrievers(corpora):\n",
    "    def sanitize_index_name(index_name):\n",
    "        if type(index_name) is str:\n",
    "            return index_name\n",
    "        else:\n",
    "            return \"\".join(map(str, index_name))\n",
    "    \n",
    "    bm25_retrievers = {}\n",
    "    for corpus_name, corpus in corpora.items():\n",
    "        model = BM25(index_name=sanitize_index_name(corpus_name))\n",
    "        retriever = EvaluateRetrieval(model)\n",
    "        bm25_retrievers[corpus_name] = retriever\n",
    "    return bm25_retrievers\n",
    "\n",
    "\n",
    "sentence_transformer_model_names = [\n",
    "    \"sentence-transformers/all-mpnet-base-v2\",\n",
    "    \"sentence-transformers/all-MiniLM-L12-v2\",\n",
    "    #\"nomic-ai/modernbert-embed-base\",\n",
    "    \n",
    "    #\"estrogen/ModernBERT-base-nli-v3\"\n",
    "    #\"BAAI/bge-large-en-v1.5\",\n",
    "    #\"mixedbread-ai/mxbai-embed-large-v1\"\n",
    "]\n",
    "\n",
    "def get_sentence_transformer_retriever(model_name=\"sentence-transformers/all-mpnet-base-v2\", batch_size=8):\n",
    "    model = DRES(load_sentence_bert(model_name), batch_size=batch_size)\n",
    "    return EvaluateRetrieval(model, score_function=\"cos_sim\")\n",
    "\n",
    "def get_unicoil_retriever(model_name=\"castorini/unicoil-msmarco-passage\"):\n",
    "    \"\"\"\n",
    "    THERE IS A BUG WITH BEIR THAT MAKES THIS UNUSABLE\n",
    "    \"\"\"\n",
    "    model = SparseSearch(UniCOIL(model_path=model_name), batch_size=32)\n",
    "    return EvaluateRetrieval(model, score_function=\"dot\")"
   ]
  },
  {
   "cell_type": "code",
   "execution_count": 14,
   "id": "d1ed3348-debd-45ec-b586-fe6f943d9e4b",
   "metadata": {},
   "outputs": [
    {
     "data": {
      "text/plain": [
       "dict_keys(['readme', 'generated_readme', 'selected_code', 'generated_rationale', 'generation_context', 'dependency_signature', 'repository_signature', 'generated_tasks'])"
      ]
     },
     "execution_count": 14,
     "metadata": {},
     "output_type": "execute_result"
    }
   ],
   "source": [
    "corpora.keys()"
   ]
  },
  {
   "cell_type": "code",
   "execution_count": 15,
   "id": "34cb1626-55ea-4e1e-9e87-45a6a4e21c86",
   "metadata": {},
   "outputs": [],
   "source": [
    "def get_corpus_samples(corpora, n_repos=10):\n",
    "    records = []\n",
    "\n",
    "\n",
    "    for k in range(n_repos):\n",
    "        for cname in corpora.keys():\n",
    "            if type(cname) is tuple:\n",
    "                if 0 in cname:\n",
    "                    display_name = cname[0]\n",
    "                else:\n",
    "                    continue\n",
    "            else:\n",
    "                display_name = cname\n",
    "            record = corpora[cname][str(k)]\n",
    "            record[\"corpus\"] = display_name\n",
    "            records.append(record)\n",
    "    \n",
    "    return pd.DataFrame.from_records(records).rename(columns = {\"title\": \"repo_name\", \"corpus\": \"representation\"}).fillna(method=\"ffill\")"
   ]
  },
  {
   "cell_type": "code",
   "execution_count": 18,
   "id": "cfe95090-1f4a-4c85-bedb-e4173bb667e2",
   "metadata": {},
   "outputs": [],
   "source": [
    "def get_repomaps_df(repo_names, repomap_path=\"../output/aider/selected_repo_maps_1024.json\"):\n",
    "    with open(repomap_path) as f:\n",
    "        repomaps = json.load(f)\n",
    "\n",
    "    records = []\n",
    "    for repo in repo_names:\n",
    "        records.append({\"repo_name\": repo, \"text\": repomaps[repo], \"representation\": \"repomap\"})\n",
    "    return pd.DataFrame.from_records(records)"
   ]
  },
  {
   "cell_type": "raw",
   "id": "430a4a4d-7544-481c-9162-0dea50557b2b",
   "metadata": {},
   "source": [
    "from pylate import indexes, models, retrieve\n",
    "\n",
    "model = models.ColBERT(\n",
    "    model_name_or_path=\"jinaai/jina-colbert-v2\",\n",
    "    query_prefix=\"[QueryMarker]\",\n",
    "    document_prefix=\"[DocumentMarker]\",\n",
    "    attend_to_expansion_tokens=True,\n",
    "    trust_remote_code=True,\n",
    ")\n"
   ]
  },
  {
   "cell_type": "markdown",
   "id": "8f71ad01-be83-4c5b-81a7-0ac6e2125515",
   "metadata": {},
   "source": [
    "from pylate import indexes, models, retrieve\n",
    "\n",
    "\n",
    "class PyLateBEIRWrapper:\n",
    "\n",
    "    def __init__(self, model_name=\"lightonai/colbertv2.0\"):\n",
    "        \n",
    "        self.model = models.ColBERT(\n",
    "            model_name_or_path=model_name,\n",
    "        )\n",
    "        self.index = indexes.Voyager(\n",
    "            index_folder=f\"../output/pylate-index/{model_name}\",\n",
    "            index_name=\"index\",\n",
    "            override=True,\n",
    "        )\n",
    "        self.retriever = None\n",
    "\n",
    "    def index_corpus(self, corpus):\n",
    "        documents = corpus.values()\n",
    "        documents_embeddings = self.model.encode(\n",
    "            documents,\n",
    "            batch_size=32,\n",
    "            is_query=False, # Encoding documents\n",
    "            show_progress_bar=True,\n",
    "        )\n",
    "        \n",
    "        # Add the documents ids and embeddings to the Voyager index\n",
    "        self.index.add_documents(\n",
    "            documents_ids=corpus.keys(),\n",
    "            documents_embeddings=documents_embeddings,\n",
    "        )\n",
    "        self.retriever = retrieve.ColBERT(index=self.index)\n",
    "\n",
    "    def retrieve(self, query):\n",
    "        return self.retriever.retrieve(query)\n",
    "\n",
    "pylate_model = PyLateBEIRWrapper()"
   ]
  },
  {
   "cell_type": "code",
   "execution_count": 28,
   "id": "0e14491d-8bea-4763-b085-6032bbdb15bd",
   "metadata": {},
   "outputs": [],
   "source": [
    "import sentence_transformers"
   ]
  },
  {
   "cell_type": "code",
   "execution_count": 29,
   "id": "cef6e243-b9da-448e-a770-7bab0ab911ed",
   "metadata": {},
   "outputs": [],
   "source": [
    "w2v_retriever = get_w2v_retriever()"
   ]
  },
  {
   "cell_type": "code",
   "execution_count": 30,
   "id": "e9510f3e-a487-401a-b26a-9500a18a207c",
   "metadata": {},
   "outputs": [
    {
     "data": {
      "text/plain": [
       "<github_search.evaluation.beir_evaluation.EvaluateRetrievalCustom at 0x7ff8e831fb60>"
      ]
     },
     "execution_count": 30,
     "metadata": {},
     "output_type": "execute_result"
    }
   ],
   "source": [
    "w2v_retriever"
   ]
  },
  {
   "cell_type": "code",
   "execution_count": 31,
   "id": "81ca835a-6dd8-4613-91da-8d6ac91fd67e",
   "metadata": {},
   "outputs": [],
   "source": [
    "#splade_retriever = get_splade_retriever() \n",
    "\n",
    "# change sentence-transformers to 2.7?\n",
    "sentence_transformer_retrievers = {\n",
    "    model_name: get_sentence_transformer_retriever(model_name)\n",
    "    for model_name in sentence_transformer_model_names\n",
    "}"
   ]
  },
  {
   "cell_type": "code",
   "execution_count": 32,
   "id": "7c3b2d5d-a0a6-4d33-8756-08440e8d5b1b",
   "metadata": {},
   "outputs": [],
   "source": [
    "bm25_retrievers = get_bm25_retrievers(corpora)"
   ]
  },
  {
   "cell_type": "markdown",
   "id": "9bd6f53b-0741-4917-90f9-7ae398521920",
   "metadata": {},
   "source": [
    "## Per query results"
   ]
  },
  {
   "cell_type": "code",
   "execution_count": 33,
   "id": "4e571da2-af1a-4c13-9789-b6a59f00006c",
   "metadata": {},
   "outputs": [],
   "source": [
    "from pydantic import BaseModel\n",
    "from typing import Dict\n",
    "\n",
    "class RetrieverInput(BaseModel):\n",
    "    corpus: Dict[str, dict]\n",
    "    queries: Dict[str, str]\n",
    "    qrels: Dict[str, Dict[str, int]]\n",
    "\n",
    "\n",
    "class RetrievalEvaluationResults(BaseModel):\n",
    "    retrieval_results: Dict[str, Dict[str, float]]\n",
    "    metrics: dict\n",
    "    model_type: str\n",
    "\n",
    "    @classmethod\n",
    "    def from_retriever(cls, retriever, retriever_input, metric_names=[\"accuracy@k\", \"hits@k\", \"r_cap@k\", \"mrr@k\"]):\n",
    "        retrieval_results = retriever.retrieve(retriever_input.corpus, retriever_input.queries)\n",
    "        custom_metrics = retriever.evaluate_custom_multi(retriever_input.qrels, retrieval_results, retriever.k_values, metrics=metric_names)\n",
    "        other_metrics = retriever.evaluate(retriever_input.qrels, retrieval_results, retriever.k_values, ignore_identical_ids=False)\n",
    "        metrics = custom_metrics | cls.tuple_to_dict(other_metrics)\n",
    "        try:\n",
    "            model_type = str(retriever.retriever.model)\n",
    "        except:\n",
    "            model_type = \"bm25\"\n",
    "        return RetrievalEvaluationResults(metrics=metrics, model_type=model_type, retrieval_results=retrieval_results)\n",
    "\n",
    "\n",
    "    @classmethod\n",
    "    def tuple_to_dict(cls, dicts):\n",
    "        merged_dict = {}\n",
    "        for d in dicts:\n",
    "            merged_dict = d | merged_dict\n",
    "        return merged_dict"
   ]
  },
  {
   "cell_type": "code",
   "execution_count": 34,
   "id": "9aab7e48-bb1b-4904-956a-aff69d6bd7cd",
   "metadata": {},
   "outputs": [],
   "source": [
    "retriever_inputs = {\n",
    "    corpus_name: RetrieverInput(corpus=corpus, queries=task_queries, qrels=task_qrels)\n",
    "    for (corpus_name, corpus) in corpora.items()\n",
    "}"
   ]
  },
  {
   "cell_type": "code",
   "execution_count": 35,
   "id": "d0d2c2f9-ab24-4d28-8d20-458ae701c0dc",
   "metadata": {},
   "outputs": [],
   "source": [
    "from github_search.evaluation.beir_evaluation import PerQueryIREvaluator"
   ]
  },
  {
   "cell_type": "code",
   "execution_count": 36,
   "id": "55ede412-7562-482c-8d79-c27b26191517",
   "metadata": {},
   "outputs": [],
   "source": [
    "per_query_evaluator = PerQueryIREvaluator(k_values=[1, 5, 10, 25])"
   ]
  },
  {
   "cell_type": "code",
   "execution_count": 37,
   "id": "fb3a3bd3-4b79-463f-b909-fbbff6b9376d",
   "metadata": {},
   "outputs": [],
   "source": [
    "retriever_inputs = {\n",
    "    corpus_name: RetrieverInput(corpus=corpus, queries=task_queries, qrels=task_qrels)\n",
    "    for (corpus_name, corpus) in corpora.items()\n",
    "}"
   ]
  },
  {
   "cell_type": "code",
   "execution_count": 38,
   "id": "5e02f94e-dfb8-45c8-b5a8-c244592cccda",
   "metadata": {},
   "outputs": [
    {
     "data": {
      "text/plain": [
       "dict_keys(['readme', 'generated_readme', 'selected_code', 'generated_rationale', 'generation_context', 'dependency_signature', 'repository_signature', 'generated_tasks'])"
      ]
     },
     "execution_count": 38,
     "metadata": {},
     "output_type": "execute_result"
    }
   ],
   "source": [
    "retriever_inputs.keys()"
   ]
  },
  {
   "cell_type": "code",
   "execution_count": 39,
   "id": "ce6fc5cd-56be-4217-9456-728129458a9a",
   "metadata": {},
   "outputs": [],
   "source": [
    "named_retrievers = {\n",
    "    corpus_name: [\n",
    "        (\"bm25\", bm25_retrievers[corpus_name]),\n",
    "        (\"word2vec\", w2v_retriever),\n",
    "    ] + list(sentence_transformer_retrievers.items())\n",
    "    for corpus_name in retriever_inputs.keys()\n",
    "}"
   ]
  },
  {
   "cell_type": "code",
   "execution_count": 40,
   "id": "3ffb8937-220b-4d2e-85b3-69362f1bdfa7",
   "metadata": {},
   "outputs": [
    {
     "data": {
      "text/plain": [
       "dict_keys(['readme', 'generated_readme', 'selected_code', 'generated_rationale', 'generation_context', 'dependency_signature', 'repository_signature', 'generated_tasks'])"
      ]
     },
     "execution_count": 40,
     "metadata": {},
     "output_type": "execute_result"
    }
   ],
   "source": [
    "retriever_inputs.keys()"
   ]
  },
  {
   "cell_type": "code",
   "execution_count": 41,
   "id": "6d998e90-afe3-43fa-a949-0519f3b53c14",
   "metadata": {},
   "outputs": [
    {
     "name": "stderr",
     "output_type": "stream",
     "text": [
      "  0%|                                                                                                                                                                                                                                                          | 0/6780 [00:00<?, ?docs/s]\n",
      "que: 100%|██████████████████████████████████████████████████████████████████████████████████████████████████████████████████████████████████████████████████████████████████████████████████████████████████████████████████████████████████████████████████| 6/6 [00:03<00:00,  1.93it/s]\n",
      "Batches: 100%|██████████████████████████████████████████████████████████████████████████████████████████████████████████████████████████████████████████████████████████████████████████████████████████████████████████████████████████████████████████████| 6/6 [00:00<00:00, 65.48it/s]\n",
      "Batches: 100%|████████████████████████████████████████████████████████████████████████████████████████████████████████████████████████████████████████████████████████████████████████████████████████████████████████████████████████████████████████████| 53/53 [00:01<00:00, 38.36it/s]\n",
      "Batches: 100%|███████████████████████████████████████████████████████████████████████████████████████████████████████████████████████████████████████████████████████████████████████████████████████████████████████████████████████████████████████████| 93/93 [00:00<00:00, 152.45it/s]\n",
      "Batches: 100%|██████████████████████████████████████████████████████████████████████████████████████████████████████████████████████████████████████████████████████████████████████████████████████████████████████████████████████████████████████████| 848/848 [00:36<00:00, 23.33it/s]\n",
      "Batches: 100%|███████████████████████████████████████████████████████████████████████████████████████████████████████████████████████████████████████████████████████████████████████████████████████████████████████████████████████████████████████████| 93/93 [00:00<00:00, 166.21it/s]\n",
      "Batches: 100%|██████████████████████████████████████████████████████████████████████████████████████████████████████████████████████████████████████████████████████████████████████████████████████████████████████████████████████████████████████████| 848/848 [00:09<00:00, 86.93it/s]\n",
      "  0%|                                                                                                                                                                                                                                                          | 0/6780 [00:00<?, ?docs/s]\n",
      "que: 100%|██████████████████████████████████████████████████████████████████████████████████████████████████████████████████████████████████████████████████████████████████████████████████████████████████████████████████████████████████████████████████| 6/6 [00:02<00:00,  2.75it/s]\n",
      "Batches: 100%|████████████████████████████████████████████████████████████████████████████████████████████████████████████████████████████████████████████████████████████████████████████████████████████████████████████████████████████████████████████| 6/6 [00:00<00:00, 1610.51it/s]\n",
      "Batches: 100%|███████████████████████████████████████████████████████████████████████████████████████████████████████████████████████████████████████████████████████████████████████████████████████████████████████████████████████████████████████████| 53/53 [00:00<00:00, 138.81it/s]\n",
      "Batches: 100%|███████████████████████████████████████████████████████████████████████████████████████████████████████████████████████████████████████████████████████████████████████████████████████████████████████████████████████████████████████████| 93/93 [00:00<00:00, 160.19it/s]\n",
      "Batches: 100%|██████████████████████████████████████████████████████████████████████████████████████████████████████████████████████████████████████████████████████████████████████████████████████████████████████████████████████████████████████████| 848/848 [00:29<00:00, 28.53it/s]\n",
      "Batches: 100%|███████████████████████████████████████████████████████████████████████████████████████████████████████████████████████████████████████████████████████████████████████████████████████████████████████████████████████████████████████████| 93/93 [00:00<00:00, 168.43it/s]\n",
      "Batches: 100%|█████████████████████████████████████████████████████████████████████████████████████████████████████████████████████████████████████████████████████████████████████████████████████████████████████████████████████████████████████████| 848/848 [00:05<00:00, 143.31it/s]\n",
      "  0%|                                                                                                                                                                                                                                                          | 0/6780 [00:00<?, ?docs/s]\n",
      "que: 100%|██████████████████████████████████████████████████████████████████████████████████████████████████████████████████████████████████████████████████████████████████████████████████████████████████████████████████████████████████████████████████| 6/6 [00:03<00:00,  1.58it/s]\n",
      "Batches: 100%|████████████████████████████████████████████████████████████████████████████████████████████████████████████████████████████████████████████████████████████████████████████████████████████████████████████████████████████████████████████| 6/6 [00:00<00:00, 1673.04it/s]\n",
      "Batches: 100%|████████████████████████████████████████████████████████████████████████████████████████████████████████████████████████████████████████████████████████████████████████████████████████████████████████████████████████████████████████████| 53/53 [00:02<00:00, 24.71it/s]\n",
      "Batches: 100%|███████████████████████████████████████████████████████████████████████████████████████████████████████████████████████████████████████████████████████████████████████████████████████████████████████████████████████████████████████████| 93/93 [00:00<00:00, 159.63it/s]\n",
      "Batches: 100%|██████████████████████████████████████████████████████████████████████████████████████████████████████████████████████████████████████████████████████████████████████████████████████████████████████████████████████████████████████████| 848/848 [00:38<00:00, 22.08it/s]\n",
      "Batches: 100%|███████████████████████████████████████████████████████████████████████████████████████████████████████████████████████████████████████████████████████████████████████████████████████████████████████████████████████████████████████████| 93/93 [00:00<00:00, 167.19it/s]\n",
      "Batches: 100%|██████████████████████████████████████████████████████████████████████████████████████████████████████████████████████████████████████████████████████████████████████████████████████████████████████████████████████████████████████████| 848/848 [00:11<00:00, 72.84it/s]\n",
      "  0%|                                                                                                                                                                                                                                                          | 0/6780 [00:00<?, ?docs/s]\n",
      "que: 100%|██████████████████████████████████████████████████████████████████████████████████████████████████████████████████████████████████████████████████████████████████████████████████████████████████████████████████████████████████████████████████| 6/6 [00:02<00:00,  2.78it/s]\n",
      "Batches: 100%|████████████████████████████████████████████████████████████████████████████████████████████████████████████████████████████████████████████████████████████████████████████████████████████████████████████████████████████████████████████| 6/6 [00:00<00:00, 1609.69it/s]\n",
      "Batches: 100%|███████████████████████████████████████████████████████████████████████████████████████████████████████████████████████████████████████████████████████████████████████████████████████████████████████████████████████████████████████████| 53/53 [00:00<00:00, 132.60it/s]\n",
      "Batches: 100%|███████████████████████████████████████████████████████████████████████████████████████████████████████████████████████████████████████████████████████████████████████████████████████████████████████████████████████████████████████████| 93/93 [00:00<00:00, 154.48it/s]\n",
      "Batches: 100%|██████████████████████████████████████████████████████████████████████████████████████████████████████████████████████████████████████████████████████████████████████████████████████████████████████████████████████████████████████████| 848/848 [00:31<00:00, 26.67it/s]\n",
      "Batches: 100%|███████████████████████████████████████████████████████████████████████████████████████████████████████████████████████████████████████████████████████████████████████████████████████████████████████████████████████████████████████████| 93/93 [00:00<00:00, 170.93it/s]\n",
      "Batches: 100%|█████████████████████████████████████████████████████████████████████████████████████████████████████████████████████████████████████████████████████████████████████████████████████████████████████████████████████████████████████████| 848/848 [00:05<00:00, 142.56it/s]\n",
      "  0%|                                                                                                                                                                                                                                                          | 0/6780 [00:00<?, ?docs/s]\n",
      "que: 100%|██████████████████████████████████████████████████████████████████████████████████████████████████████████████████████████████████████████████████████████████████████████████████████████████████████████████████████████████████████████████████| 6/6 [00:02<00:00,  2.40it/s]\n",
      "Batches: 100%|████████████████████████████████████████████████████████████████████████████████████████████████████████████████████████████████████████████████████████████████████████████████████████████████████████████████████████████████████████████| 6/6 [00:00<00:00, 1621.30it/s]\n",
      "Batches: 100%|████████████████████████████████████████████████████████████████████████████████████████████████████████████████████████████████████████████████████████████████████████████████████████████████████████████████████████████████████████████| 53/53 [00:00<00:00, 73.42it/s]\n",
      "Batches: 100%|███████████████████████████████████████████████████████████████████████████████████████████████████████████████████████████████████████████████████████████████████████████████████████████████████████████████████████████████████████████| 93/93 [00:00<00:00, 156.42it/s]\n",
      "Batches: 100%|██████████████████████████████████████████████████████████████████████████████████████████████████████████████████████████████████████████████████████████████████████████████████████████████████████████████████████████████████████████| 848/848 [00:36<00:00, 22.99it/s]\n",
      "Batches: 100%|███████████████████████████████████████████████████████████████████████████████████████████████████████████████████████████████████████████████████████████████████████████████████████████████████████████████████████████████████████████| 93/93 [00:00<00:00, 167.69it/s]\n",
      "Batches: 100%|█████████████████████████████████████████████████████████████████████████████████████████████████████████████████████████████████████████████████████████████████████████████████████████████████████████████████████████████████████████| 848/848 [00:07<00:00, 112.95it/s]\n",
      "  0%|                                                                                                                                                                                                                                                          | 0/6780 [00:00<?, ?docs/s]\n",
      "que: 100%|██████████████████████████████████████████████████████████████████████████████████████████████████████████████████████████████████████████████████████████████████████████████████████████████████████████████████████████████████████████████████| 6/6 [00:00<00:00,  9.22it/s]\n",
      "Batches: 100%|████████████████████████████████████████████████████████████████████████████████████████████████████████████████████████████████████████████████████████████████████████████████████████████████████████████████████████████████████████████| 6/6 [00:00<00:00, 1475.14it/s]\n",
      "Batches: 100%|███████████████████████████████████████████████████████████████████████████████████████████████████████████████████████████████████████████████████████████████████████████████████████████████████████████████████████████████████████████| 53/53 [00:00<00:00, 315.41it/s]\n",
      "Batches: 100%|███████████████████████████████████████████████████████████████████████████████████████████████████████████████████████████████████████████████████████████████████████████████████████████████████████████████████████████████████████████| 93/93 [00:00<00:00, 156.34it/s]\n",
      "Batches: 100%|██████████████████████████████████████████████████████████████████████████████████████████████████████████████████████████████████████████████████████████████████████████████████████████████████████████████████████████████████████████| 848/848 [00:35<00:00, 23.97it/s]\n",
      "Batches: 100%|███████████████████████████████████████████████████████████████████████████████████████████████████████████████████████████████████████████████████████████████████████████████████████████████████████████████████████████████████████████| 93/93 [00:00<00:00, 164.88it/s]\n",
      "Batches: 100%|█████████████████████████████████████████████████████████████████████████████████████████████████████████████████████████████████████████████████████████████████████████████████████████████████████████████████████████████████████████| 848/848 [00:05<00:00, 142.18it/s]\n",
      "  0%|                                                                                                                                                                                                                                                          | 0/6780 [00:00<?, ?docs/s]\n",
      "que: 100%|██████████████████████████████████████████████████████████████████████████████████████████████████████████████████████████████████████████████████████████████████████████████████████████████████████████████████████████████████████████████████| 6/6 [00:01<00:00,  3.93it/s]\n",
      "Batches: 100%|████████████████████████████████████████████████████████████████████████████████████████████████████████████████████████████████████████████████████████████████████████████████████████████████████████████████████████████████████████████| 6/6 [00:00<00:00, 1498.68it/s]\n",
      "Batches: 100%|███████████████████████████████████████████████████████████████████████████████████████████████████████████████████████████████████████████████████████████████████████████████████████████████████████████████████████████████████████████| 53/53 [00:00<00:00, 245.90it/s]\n",
      "Batches: 100%|███████████████████████████████████████████████████████████████████████████████████████████████████████████████████████████████████████████████████████████████████████████████████████████████████████████████████████████████████████████| 93/93 [00:00<00:00, 154.96it/s]\n",
      "Batches: 100%|██████████████████████████████████████████████████████████████████████████████████████████████████████████████████████████████████████████████████████████████████████████████████████████████████████████████████████████████████████████| 848/848 [00:36<00:00, 23.40it/s]\n",
      "Batches: 100%|███████████████████████████████████████████████████████████████████████████████████████████████████████████████████████████████████████████████████████████████████████████████████████████████████████████████████████████████████████████| 93/93 [00:00<00:00, 166.25it/s]\n",
      "Batches: 100%|█████████████████████████████████████████████████████████████████████████████████████████████████████████████████████████████████████████████████████████████████████████████████████████████████████████████████████████████████████████| 848/848 [00:05<00:00, 145.57it/s]\n",
      "  0%|                                                                                                                                                                                                                                                          | 0/6780 [00:00<?, ?docs/s]\n",
      "que: 100%|██████████████████████████████████████████████████████████████████████████████████████████████████████████████████████████████████████████████████████████████████████████████████████████████████████████████████████████████████████████████████| 6/6 [00:01<00:00,  5.71it/s]\n",
      "Batches: 100%|████████████████████████████████████████████████████████████████████████████████████████████████████████████████████████████████████████████████████████████████████████████████████████████████████████████████████████████████████████████| 6/6 [00:00<00:00, 1624.65it/s]\n",
      "Batches: 100%|██████████████████████████████████████████████████████████████████████████████████████████████████████████████████████████████████████████████████████████████████████████████████████████████████████████████████████████████████████████| 53/53 [00:00<00:00, 1222.51it/s]\n",
      "Batches: 100%|███████████████████████████████████████████████████████████████████████████████████████████████████████████████████████████████████████████████████████████████████████████████████████████████████████████████████████████████████████████| 93/93 [00:00<00:00, 155.08it/s]\n",
      "Batches: 100%|█████████████████████████████████████████████████████████████████████████████████████████████████████████████████████████████████████████████████████████████████████████████████████████████████████████████████████████████████████████| 848/848 [00:05<00:00, 151.45it/s]\n",
      "Batches: 100%|███████████████████████████████████████████████████████████████████████████████████████████████████████████████████████████████████████████████████████████████████████████████████████████████████████████████████████████████████████████| 93/93 [00:00<00:00, 170.87it/s]\n",
      "Batches: 100%|█████████████████████████████████████████████████████████████████████████████████████████████████████████████████████████████████████████████████████████████████████████████████████████████████████████████████████████████████████████| 848/848 [00:05<00:00, 159.20it/s]\n"
     ]
    },
    {
     "name": "stdout",
     "output_type": "stream",
     "text": [
      "CPU times: user 19min 46s, sys: 43.2 s, total: 20min 29s\n",
      "Wall time: 6min 36s\n"
     ]
    }
   ],
   "source": [
    "%%time\n",
    "per_query_results = {\n",
    "    (corpus_name, retriever_name): per_query_evaluator.get_scores(retriever=retriever, ir_data=retriever_inputs[corpus_name])\n",
    "    for corpus_name in retriever_inputs.keys()\n",
    "    for (retriever_name, retriever) in named_retrievers[corpus_name]\n",
    "}"
   ]
  },
  {
   "cell_type": "code",
   "execution_count": 52,
   "id": "0d284270-306b-41de-b57d-9eb53954feb3",
   "metadata": {},
   "outputs": [],
   "source": [
    "raw_per_query_results_df = pd.concat([\n",
    "    df.assign(retriever=[retriever_name]*len(df)).assign(corpus=[corpus_name]*len(df))\n",
    "    for ((corpus_name, retriever_name), df) in per_query_results.items()\n",
    "])"
   ]
  },
  {
   "cell_type": "code",
   "execution_count": 53,
   "id": "b9263c1a-9c32-4ceb-ab37-692e742eb7cc",
   "metadata": {},
   "outputs": [],
   "source": [
    "per_query_results_df = raw_per_query_results_df.assign(\n",
    "    corpus=raw_per_query_results_df[\"corpus\"].apply(lambda cname: cname if type(cname) is str else cname[0]),\n",
    "    generation=raw_per_query_results_df[\"corpus\"].apply(lambda cname: 0 if type(cname) is str else cname[1])\n",
    ")"
   ]
  },
  {
   "cell_type": "code",
   "execution_count": 54,
   "id": "3b98b1e9-5916-4f8e-95f2-f1ebc7717c00",
   "metadata": {},
   "outputs": [],
   "source": [
    "per_query_results_df = (\n",
    "    per_query_results_df\n",
    "        .groupby([\"query\", \"retriever\", \"corpus\"]).agg(\"mean\").drop(columns=[\"generation\"])\n",
    "        .reset_index()\n",
    ")"
   ]
  },
  {
   "cell_type": "code",
   "execution_count": 55,
   "id": "2d4252cd-d2d6-48da-a77c-f995b4a8ddbb",
   "metadata": {},
   "outputs": [
    {
     "data": {
      "text/html": [
       "<div>\n",
       "<style scoped>\n",
       "    .dataframe tbody tr th:only-of-type {\n",
       "        vertical-align: middle;\n",
       "    }\n",
       "\n",
       "    .dataframe tbody tr th {\n",
       "        vertical-align: top;\n",
       "    }\n",
       "\n",
       "    .dataframe thead th {\n",
       "        text-align: right;\n",
       "    }\n",
       "</style>\n",
       "<table border=\"1\" class=\"dataframe\">\n",
       "  <thead>\n",
       "    <tr style=\"text-align: right;\">\n",
       "      <th></th>\n",
       "      <th>query</th>\n",
       "      <th>retriever</th>\n",
       "      <th>corpus</th>\n",
       "      <th>Hits@1</th>\n",
       "      <th>Hits@5</th>\n",
       "      <th>Hits@10</th>\n",
       "      <th>Hits@25</th>\n",
       "      <th>Accuracy@1</th>\n",
       "      <th>Precision@1</th>\n",
       "      <th>Accuracy@5</th>\n",
       "      <th>Precision@5</th>\n",
       "      <th>Accuracy@10</th>\n",
       "      <th>Precision@10</th>\n",
       "      <th>Accuracy@25</th>\n",
       "      <th>Precision@25</th>\n",
       "    </tr>\n",
       "  </thead>\n",
       "  <tbody>\n",
       "    <tr>\n",
       "      <th>0</th>\n",
       "      <td>2d human pose estimation</td>\n",
       "      <td>bm25</td>\n",
       "      <td>dependency_signature</td>\n",
       "      <td>0.0</td>\n",
       "      <td>1.0</td>\n",
       "      <td>4.0</td>\n",
       "      <td>5.0</td>\n",
       "      <td>0.0</td>\n",
       "      <td>0.0</td>\n",
       "      <td>1.0</td>\n",
       "      <td>0.2</td>\n",
       "      <td>1.0</td>\n",
       "      <td>0.4</td>\n",
       "      <td>1.0</td>\n",
       "      <td>0.20</td>\n",
       "    </tr>\n",
       "    <tr>\n",
       "      <th>1</th>\n",
       "      <td>2d human pose estimation</td>\n",
       "      <td>bm25</td>\n",
       "      <td>generated_rationale</td>\n",
       "      <td>0.0</td>\n",
       "      <td>4.0</td>\n",
       "      <td>6.0</td>\n",
       "      <td>7.0</td>\n",
       "      <td>0.0</td>\n",
       "      <td>0.0</td>\n",
       "      <td>1.0</td>\n",
       "      <td>0.8</td>\n",
       "      <td>1.0</td>\n",
       "      <td>0.6</td>\n",
       "      <td>1.0</td>\n",
       "      <td>0.28</td>\n",
       "    </tr>\n",
       "    <tr>\n",
       "      <th>2</th>\n",
       "      <td>2d human pose estimation</td>\n",
       "      <td>bm25</td>\n",
       "      <td>generated_readme</td>\n",
       "      <td>0.0</td>\n",
       "      <td>3.0</td>\n",
       "      <td>5.0</td>\n",
       "      <td>7.0</td>\n",
       "      <td>0.0</td>\n",
       "      <td>0.0</td>\n",
       "      <td>1.0</td>\n",
       "      <td>0.6</td>\n",
       "      <td>1.0</td>\n",
       "      <td>0.5</td>\n",
       "      <td>1.0</td>\n",
       "      <td>0.28</td>\n",
       "    </tr>\n",
       "    <tr>\n",
       "      <th>3</th>\n",
       "      <td>2d human pose estimation</td>\n",
       "      <td>bm25</td>\n",
       "      <td>generated_tasks</td>\n",
       "      <td>0.0</td>\n",
       "      <td>2.0</td>\n",
       "      <td>5.0</td>\n",
       "      <td>9.0</td>\n",
       "      <td>0.0</td>\n",
       "      <td>0.0</td>\n",
       "      <td>1.0</td>\n",
       "      <td>0.4</td>\n",
       "      <td>1.0</td>\n",
       "      <td>0.5</td>\n",
       "      <td>1.0</td>\n",
       "      <td>0.36</td>\n",
       "    </tr>\n",
       "    <tr>\n",
       "      <th>4</th>\n",
       "      <td>2d human pose estimation</td>\n",
       "      <td>bm25</td>\n",
       "      <td>generation_context</td>\n",
       "      <td>0.0</td>\n",
       "      <td>0.0</td>\n",
       "      <td>1.0</td>\n",
       "      <td>2.0</td>\n",
       "      <td>0.0</td>\n",
       "      <td>0.0</td>\n",
       "      <td>0.0</td>\n",
       "      <td>0.0</td>\n",
       "      <td>1.0</td>\n",
       "      <td>0.1</td>\n",
       "      <td>1.0</td>\n",
       "      <td>0.08</td>\n",
       "    </tr>\n",
       "    <tr>\n",
       "      <th>...</th>\n",
       "      <td>...</td>\n",
       "      <td>...</td>\n",
       "      <td>...</td>\n",
       "      <td>...</td>\n",
       "      <td>...</td>\n",
       "      <td>...</td>\n",
       "      <td>...</td>\n",
       "      <td>...</td>\n",
       "      <td>...</td>\n",
       "      <td>...</td>\n",
       "      <td>...</td>\n",
       "      <td>...</td>\n",
       "      <td>...</td>\n",
       "      <td>...</td>\n",
       "      <td>...</td>\n",
       "    </tr>\n",
       "    <tr>\n",
       "      <th>23803</th>\n",
       "      <td>zero shot learning</td>\n",
       "      <td>word2vec</td>\n",
       "      <td>generated_tasks</td>\n",
       "      <td>0.0</td>\n",
       "      <td>0.0</td>\n",
       "      <td>1.0</td>\n",
       "      <td>1.0</td>\n",
       "      <td>0.0</td>\n",
       "      <td>0.0</td>\n",
       "      <td>0.0</td>\n",
       "      <td>0.0</td>\n",
       "      <td>1.0</td>\n",
       "      <td>0.1</td>\n",
       "      <td>1.0</td>\n",
       "      <td>0.04</td>\n",
       "    </tr>\n",
       "    <tr>\n",
       "      <th>23804</th>\n",
       "      <td>zero shot learning</td>\n",
       "      <td>word2vec</td>\n",
       "      <td>generation_context</td>\n",
       "      <td>0.0</td>\n",
       "      <td>0.0</td>\n",
       "      <td>0.0</td>\n",
       "      <td>0.0</td>\n",
       "      <td>0.0</td>\n",
       "      <td>0.0</td>\n",
       "      <td>0.0</td>\n",
       "      <td>0.0</td>\n",
       "      <td>0.0</td>\n",
       "      <td>0.0</td>\n",
       "      <td>0.0</td>\n",
       "      <td>0.00</td>\n",
       "    </tr>\n",
       "    <tr>\n",
       "      <th>23805</th>\n",
       "      <td>zero shot learning</td>\n",
       "      <td>word2vec</td>\n",
       "      <td>readme</td>\n",
       "      <td>1.0</td>\n",
       "      <td>1.0</td>\n",
       "      <td>1.0</td>\n",
       "      <td>1.0</td>\n",
       "      <td>1.0</td>\n",
       "      <td>1.0</td>\n",
       "      <td>1.0</td>\n",
       "      <td>0.2</td>\n",
       "      <td>1.0</td>\n",
       "      <td>0.1</td>\n",
       "      <td>1.0</td>\n",
       "      <td>0.04</td>\n",
       "    </tr>\n",
       "    <tr>\n",
       "      <th>23806</th>\n",
       "      <td>zero shot learning</td>\n",
       "      <td>word2vec</td>\n",
       "      <td>repository_signature</td>\n",
       "      <td>0.0</td>\n",
       "      <td>0.0</td>\n",
       "      <td>1.0</td>\n",
       "      <td>3.0</td>\n",
       "      <td>0.0</td>\n",
       "      <td>0.0</td>\n",
       "      <td>0.0</td>\n",
       "      <td>0.0</td>\n",
       "      <td>1.0</td>\n",
       "      <td>0.1</td>\n",
       "      <td>1.0</td>\n",
       "      <td>0.12</td>\n",
       "    </tr>\n",
       "    <tr>\n",
       "      <th>23807</th>\n",
       "      <td>zero shot learning</td>\n",
       "      <td>word2vec</td>\n",
       "      <td>selected_code</td>\n",
       "      <td>0.0</td>\n",
       "      <td>0.0</td>\n",
       "      <td>0.0</td>\n",
       "      <td>0.0</td>\n",
       "      <td>0.0</td>\n",
       "      <td>0.0</td>\n",
       "      <td>0.0</td>\n",
       "      <td>0.0</td>\n",
       "      <td>0.0</td>\n",
       "      <td>0.0</td>\n",
       "      <td>0.0</td>\n",
       "      <td>0.00</td>\n",
       "    </tr>\n",
       "  </tbody>\n",
       "</table>\n",
       "<p>23808 rows × 15 columns</p>\n",
       "</div>"
      ],
      "text/plain": [
       "                          query retriever                corpus  Hits@1  \\\n",
       "0      2d human pose estimation      bm25  dependency_signature     0.0   \n",
       "1      2d human pose estimation      bm25   generated_rationale     0.0   \n",
       "2      2d human pose estimation      bm25      generated_readme     0.0   \n",
       "3      2d human pose estimation      bm25       generated_tasks     0.0   \n",
       "4      2d human pose estimation      bm25    generation_context     0.0   \n",
       "...                         ...       ...                   ...     ...   \n",
       "23803        zero shot learning  word2vec       generated_tasks     0.0   \n",
       "23804        zero shot learning  word2vec    generation_context     0.0   \n",
       "23805        zero shot learning  word2vec                readme     1.0   \n",
       "23806        zero shot learning  word2vec  repository_signature     0.0   \n",
       "23807        zero shot learning  word2vec         selected_code     0.0   \n",
       "\n",
       "       Hits@5  Hits@10  Hits@25  Accuracy@1  Precision@1  Accuracy@5  \\\n",
       "0         1.0      4.0      5.0         0.0          0.0         1.0   \n",
       "1         4.0      6.0      7.0         0.0          0.0         1.0   \n",
       "2         3.0      5.0      7.0         0.0          0.0         1.0   \n",
       "3         2.0      5.0      9.0         0.0          0.0         1.0   \n",
       "4         0.0      1.0      2.0         0.0          0.0         0.0   \n",
       "...       ...      ...      ...         ...          ...         ...   \n",
       "23803     0.0      1.0      1.0         0.0          0.0         0.0   \n",
       "23804     0.0      0.0      0.0         0.0          0.0         0.0   \n",
       "23805     1.0      1.0      1.0         1.0          1.0         1.0   \n",
       "23806     0.0      1.0      3.0         0.0          0.0         0.0   \n",
       "23807     0.0      0.0      0.0         0.0          0.0         0.0   \n",
       "\n",
       "       Precision@5  Accuracy@10  Precision@10  Accuracy@25  Precision@25  \n",
       "0              0.2          1.0           0.4          1.0          0.20  \n",
       "1              0.8          1.0           0.6          1.0          0.28  \n",
       "2              0.6          1.0           0.5          1.0          0.28  \n",
       "3              0.4          1.0           0.5          1.0          0.36  \n",
       "4              0.0          1.0           0.1          1.0          0.08  \n",
       "...            ...          ...           ...          ...           ...  \n",
       "23803          0.0          1.0           0.1          1.0          0.04  \n",
       "23804          0.0          0.0           0.0          0.0          0.00  \n",
       "23805          0.2          1.0           0.1          1.0          0.04  \n",
       "23806          0.0          1.0           0.1          1.0          0.12  \n",
       "23807          0.0          0.0           0.0          0.0          0.00  \n",
       "\n",
       "[23808 rows x 15 columns]"
      ]
     },
     "execution_count": 55,
     "metadata": {},
     "output_type": "execute_result"
    }
   ],
   "source": [
    "per_query_results_df"
   ]
  },
  {
   "cell_type": "code",
   "execution_count": 56,
   "id": "cd6679d6-d7ad-4b13-82d9-ee07a4431e45",
   "metadata": {},
   "outputs": [],
   "source": [
    "per_query_results_df.to_csv(\"../results/per_query_ir_results.csv\", index=False)"
   ]
  },
  {
   "cell_type": "code",
   "execution_count": 57,
   "id": "6fee2dee-1b17-47ae-b92a-36cea4a81aa4",
   "metadata": {},
   "outputs": [
    {
     "data": {
      "text/html": [
       "<div>\n",
       "<style scoped>\n",
       "    .dataframe tbody tr th:only-of-type {\n",
       "        vertical-align: middle;\n",
       "    }\n",
       "\n",
       "    .dataframe tbody tr th {\n",
       "        vertical-align: top;\n",
       "    }\n",
       "\n",
       "    .dataframe thead th {\n",
       "        text-align: right;\n",
       "    }\n",
       "</style>\n",
       "<table border=\"1\" class=\"dataframe\">\n",
       "  <thead>\n",
       "    <tr style=\"text-align: right;\">\n",
       "      <th></th>\n",
       "      <th>corpus</th>\n",
       "      <th>retriever</th>\n",
       "      <th>Precision@10</th>\n",
       "      <th>Accuracy@10</th>\n",
       "    </tr>\n",
       "  </thead>\n",
       "  <tbody>\n",
       "    <tr>\n",
       "      <th>3</th>\n",
       "      <td>dependency_signature</td>\n",
       "      <td>word2vec</td>\n",
       "      <td>0.024328</td>\n",
       "      <td>0.159946</td>\n",
       "    </tr>\n",
       "    <tr>\n",
       "      <th>31</th>\n",
       "      <td>selected_code</td>\n",
       "      <td>word2vec</td>\n",
       "      <td>0.025000</td>\n",
       "      <td>0.188172</td>\n",
       "    </tr>\n",
       "    <tr>\n",
       "      <th>19</th>\n",
       "      <td>generation_context</td>\n",
       "      <td>word2vec</td>\n",
       "      <td>0.065726</td>\n",
       "      <td>0.396505</td>\n",
       "    </tr>\n",
       "    <tr>\n",
       "      <th>23</th>\n",
       "      <td>readme</td>\n",
       "      <td>word2vec</td>\n",
       "      <td>0.121774</td>\n",
       "      <td>0.588710</td>\n",
       "    </tr>\n",
       "    <tr>\n",
       "      <th>27</th>\n",
       "      <td>repository_signature</td>\n",
       "      <td>word2vec</td>\n",
       "      <td>0.130511</td>\n",
       "      <td>0.592742</td>\n",
       "    </tr>\n",
       "    <tr>\n",
       "      <th>0</th>\n",
       "      <td>dependency_signature</td>\n",
       "      <td>bm25</td>\n",
       "      <td>0.135685</td>\n",
       "      <td>0.592944</td>\n",
       "    </tr>\n",
       "    <tr>\n",
       "      <th>7</th>\n",
       "      <td>generated_rationale</td>\n",
       "      <td>word2vec</td>\n",
       "      <td>0.147715</td>\n",
       "      <td>0.637097</td>\n",
       "    </tr>\n",
       "    <tr>\n",
       "      <th>11</th>\n",
       "      <td>generated_readme</td>\n",
       "      <td>word2vec</td>\n",
       "      <td>0.150538</td>\n",
       "      <td>0.651882</td>\n",
       "    </tr>\n",
       "    <tr>\n",
       "      <th>15</th>\n",
       "      <td>generated_tasks</td>\n",
       "      <td>word2vec</td>\n",
       "      <td>0.173522</td>\n",
       "      <td>0.674731</td>\n",
       "    </tr>\n",
       "    <tr>\n",
       "      <th>29</th>\n",
       "      <td>selected_code</td>\n",
       "      <td>sentence-transformers/all-MiniLM-L12-v2</td>\n",
       "      <td>0.161425</td>\n",
       "      <td>0.676075</td>\n",
       "    </tr>\n",
       "    <tr>\n",
       "      <th>30</th>\n",
       "      <td>selected_code</td>\n",
       "      <td>sentence-transformers/all-mpnet-base-v2</td>\n",
       "      <td>0.165323</td>\n",
       "      <td>0.681452</td>\n",
       "    </tr>\n",
       "    <tr>\n",
       "      <th>28</th>\n",
       "      <td>selected_code</td>\n",
       "      <td>bm25</td>\n",
       "      <td>0.181757</td>\n",
       "      <td>0.685135</td>\n",
       "    </tr>\n",
       "    <tr>\n",
       "      <th>25</th>\n",
       "      <td>repository_signature</td>\n",
       "      <td>sentence-transformers/all-MiniLM-L12-v2</td>\n",
       "      <td>0.185618</td>\n",
       "      <td>0.716398</td>\n",
       "    </tr>\n",
       "    <tr>\n",
       "      <th>1</th>\n",
       "      <td>dependency_signature</td>\n",
       "      <td>sentence-transformers/all-MiniLM-L12-v2</td>\n",
       "      <td>0.185484</td>\n",
       "      <td>0.719086</td>\n",
       "    </tr>\n",
       "    <tr>\n",
       "      <th>2</th>\n",
       "      <td>dependency_signature</td>\n",
       "      <td>sentence-transformers/all-mpnet-base-v2</td>\n",
       "      <td>0.191667</td>\n",
       "      <td>0.737903</td>\n",
       "    </tr>\n",
       "    <tr>\n",
       "      <th>24</th>\n",
       "      <td>repository_signature</td>\n",
       "      <td>bm25</td>\n",
       "      <td>0.221622</td>\n",
       "      <td>0.760811</td>\n",
       "    </tr>\n",
       "    <tr>\n",
       "      <th>18</th>\n",
       "      <td>generation_context</td>\n",
       "      <td>sentence-transformers/all-mpnet-base-v2</td>\n",
       "      <td>0.216667</td>\n",
       "      <td>0.763441</td>\n",
       "    </tr>\n",
       "    <tr>\n",
       "      <th>17</th>\n",
       "      <td>generation_context</td>\n",
       "      <td>sentence-transformers/all-MiniLM-L12-v2</td>\n",
       "      <td>0.214785</td>\n",
       "      <td>0.766129</td>\n",
       "    </tr>\n",
       "    <tr>\n",
       "      <th>16</th>\n",
       "      <td>generation_context</td>\n",
       "      <td>bm25</td>\n",
       "      <td>0.231309</td>\n",
       "      <td>0.778677</td>\n",
       "    </tr>\n",
       "    <tr>\n",
       "      <th>12</th>\n",
       "      <td>generated_tasks</td>\n",
       "      <td>bm25</td>\n",
       "      <td>0.240570</td>\n",
       "      <td>0.784261</td>\n",
       "    </tr>\n",
       "    <tr>\n",
       "      <th>26</th>\n",
       "      <td>repository_signature</td>\n",
       "      <td>sentence-transformers/all-mpnet-base-v2</td>\n",
       "      <td>0.228360</td>\n",
       "      <td>0.786290</td>\n",
       "    </tr>\n",
       "    <tr>\n",
       "      <th>13</th>\n",
       "      <td>generated_tasks</td>\n",
       "      <td>sentence-transformers/all-MiniLM-L12-v2</td>\n",
       "      <td>0.274597</td>\n",
       "      <td>0.826613</td>\n",
       "    </tr>\n",
       "    <tr>\n",
       "      <th>14</th>\n",
       "      <td>generated_tasks</td>\n",
       "      <td>sentence-transformers/all-mpnet-base-v2</td>\n",
       "      <td>0.278629</td>\n",
       "      <td>0.827957</td>\n",
       "    </tr>\n",
       "    <tr>\n",
       "      <th>5</th>\n",
       "      <td>generated_rationale</td>\n",
       "      <td>sentence-transformers/all-MiniLM-L12-v2</td>\n",
       "      <td>0.285618</td>\n",
       "      <td>0.834677</td>\n",
       "    </tr>\n",
       "    <tr>\n",
       "      <th>9</th>\n",
       "      <td>generated_readme</td>\n",
       "      <td>sentence-transformers/all-MiniLM-L12-v2</td>\n",
       "      <td>0.300134</td>\n",
       "      <td>0.849462</td>\n",
       "    </tr>\n",
       "    <tr>\n",
       "      <th>4</th>\n",
       "      <td>generated_rationale</td>\n",
       "      <td>bm25</td>\n",
       "      <td>0.282051</td>\n",
       "      <td>0.851552</td>\n",
       "    </tr>\n",
       "    <tr>\n",
       "      <th>8</th>\n",
       "      <td>generated_readme</td>\n",
       "      <td>bm25</td>\n",
       "      <td>0.284885</td>\n",
       "      <td>0.855601</td>\n",
       "    </tr>\n",
       "    <tr>\n",
       "      <th>6</th>\n",
       "      <td>generated_rationale</td>\n",
       "      <td>sentence-transformers/all-mpnet-base-v2</td>\n",
       "      <td>0.298387</td>\n",
       "      <td>0.856183</td>\n",
       "    </tr>\n",
       "    <tr>\n",
       "      <th>10</th>\n",
       "      <td>generated_readme</td>\n",
       "      <td>sentence-transformers/all-mpnet-base-v2</td>\n",
       "      <td>0.309543</td>\n",
       "      <td>0.857527</td>\n",
       "    </tr>\n",
       "    <tr>\n",
       "      <th>20</th>\n",
       "      <td>readme</td>\n",
       "      <td>bm25</td>\n",
       "      <td>0.423387</td>\n",
       "      <td>0.913978</td>\n",
       "    </tr>\n",
       "    <tr>\n",
       "      <th>21</th>\n",
       "      <td>readme</td>\n",
       "      <td>sentence-transformers/all-MiniLM-L12-v2</td>\n",
       "      <td>0.403763</td>\n",
       "      <td>0.919355</td>\n",
       "    </tr>\n",
       "    <tr>\n",
       "      <th>22</th>\n",
       "      <td>readme</td>\n",
       "      <td>sentence-transformers/all-mpnet-base-v2</td>\n",
       "      <td>0.425806</td>\n",
       "      <td>0.928763</td>\n",
       "    </tr>\n",
       "  </tbody>\n",
       "</table>\n",
       "</div>"
      ],
      "text/plain": [
       "                  corpus                                retriever  \\\n",
       "3   dependency_signature                                 word2vec   \n",
       "31         selected_code                                 word2vec   \n",
       "19    generation_context                                 word2vec   \n",
       "23                readme                                 word2vec   \n",
       "27  repository_signature                                 word2vec   \n",
       "0   dependency_signature                                     bm25   \n",
       "7    generated_rationale                                 word2vec   \n",
       "11      generated_readme                                 word2vec   \n",
       "15       generated_tasks                                 word2vec   \n",
       "29         selected_code  sentence-transformers/all-MiniLM-L12-v2   \n",
       "30         selected_code  sentence-transformers/all-mpnet-base-v2   \n",
       "28         selected_code                                     bm25   \n",
       "25  repository_signature  sentence-transformers/all-MiniLM-L12-v2   \n",
       "1   dependency_signature  sentence-transformers/all-MiniLM-L12-v2   \n",
       "2   dependency_signature  sentence-transformers/all-mpnet-base-v2   \n",
       "24  repository_signature                                     bm25   \n",
       "18    generation_context  sentence-transformers/all-mpnet-base-v2   \n",
       "17    generation_context  sentence-transformers/all-MiniLM-L12-v2   \n",
       "16    generation_context                                     bm25   \n",
       "12       generated_tasks                                     bm25   \n",
       "26  repository_signature  sentence-transformers/all-mpnet-base-v2   \n",
       "13       generated_tasks  sentence-transformers/all-MiniLM-L12-v2   \n",
       "14       generated_tasks  sentence-transformers/all-mpnet-base-v2   \n",
       "5    generated_rationale  sentence-transformers/all-MiniLM-L12-v2   \n",
       "9       generated_readme  sentence-transformers/all-MiniLM-L12-v2   \n",
       "4    generated_rationale                                     bm25   \n",
       "8       generated_readme                                     bm25   \n",
       "6    generated_rationale  sentence-transformers/all-mpnet-base-v2   \n",
       "10      generated_readme  sentence-transformers/all-mpnet-base-v2   \n",
       "20                readme                                     bm25   \n",
       "21                readme  sentence-transformers/all-MiniLM-L12-v2   \n",
       "22                readme  sentence-transformers/all-mpnet-base-v2   \n",
       "\n",
       "    Precision@10  Accuracy@10  \n",
       "3       0.024328     0.159946  \n",
       "31      0.025000     0.188172  \n",
       "19      0.065726     0.396505  \n",
       "23      0.121774     0.588710  \n",
       "27      0.130511     0.592742  \n",
       "0       0.135685     0.592944  \n",
       "7       0.147715     0.637097  \n",
       "11      0.150538     0.651882  \n",
       "15      0.173522     0.674731  \n",
       "29      0.161425     0.676075  \n",
       "30      0.165323     0.681452  \n",
       "28      0.181757     0.685135  \n",
       "25      0.185618     0.716398  \n",
       "1       0.185484     0.719086  \n",
       "2       0.191667     0.737903  \n",
       "24      0.221622     0.760811  \n",
       "18      0.216667     0.763441  \n",
       "17      0.214785     0.766129  \n",
       "16      0.231309     0.778677  \n",
       "12      0.240570     0.784261  \n",
       "26      0.228360     0.786290  \n",
       "13      0.274597     0.826613  \n",
       "14      0.278629     0.827957  \n",
       "5       0.285618     0.834677  \n",
       "9       0.300134     0.849462  \n",
       "4       0.282051     0.851552  \n",
       "8       0.284885     0.855601  \n",
       "6       0.298387     0.856183  \n",
       "10      0.309543     0.857527  \n",
       "20      0.423387     0.913978  \n",
       "21      0.403763     0.919355  \n",
       "22      0.425806     0.928763  "
      ]
     },
     "execution_count": 57,
     "metadata": {},
     "output_type": "execute_result"
    }
   ],
   "source": [
    "(per_query_results_df\n",
    "    .drop(columns=[\"query\"])\n",
    "    .groupby([\"corpus\", \"retriever\"])\n",
    "    .agg(\"mean\").reset_index(drop=False)\n",
    "    .sort_values(\"Accuracy@10\")\n",
    ")[[\"corpus\", \"retriever\", \"Precision@10\", \"Accuracy@10\"]]"
   ]
  },
  {
   "cell_type": "markdown",
   "id": "d36399d0-61d6-4852-84a1-e83e472f0197",
   "metadata": {},
   "source": [
    "## Aggregated results"
   ]
  },
  {
   "cell_type": "code",
   "execution_count": 58,
   "id": "46855b2c-4388-4a40-ada7-6eb7be84c469",
   "metadata": {},
   "outputs": [
    {
     "name": "stderr",
     "output_type": "stream",
     "text": [
      "  0%|                                                                                                                                                                                                                                                          | 0/6780 [00:00<?, ?docs/s]\n",
      "que: 100%|██████████████████████████████████████████████████████████████████████████████████████████████████████████████████████████████████████████████████████████████████████████████████████████████████████████████████████████████████████████████████| 6/6 [00:03<00:00,  1.73it/s]\n",
      "  0%|                                                                                                                                                                                                                                                          | 0/6780 [00:00<?, ?docs/s]\n",
      "que:  67%|█████████████████████████████████████████████████████████████████████████████████████████████████████████████████████████████████████████████████████████████████▎                                                                                | 4/6 [00:01<00:00,  2.26it/s]\n"
     ]
    },
    {
     "name": "stdout",
     "output_type": "stream",
     "text": [
      "generated_readme\n"
     ]
    },
    {
     "name": "stderr",
     "output_type": "stream",
     "text": [
      "  0%|                                                                                                                                                                                                                                                          | 0/6780 [00:00<?, ?docs/s]\n",
      "que: 100%|██████████████████████████████████████████████████████████████████████████████████████████████████████████████████████████████████████████████████████████████████████████████████████████████████████████████████████████████████████████████████| 6/6 [00:03<00:00,  1.59it/s]\n",
      "  0%|                                                                                                                                                                                                                                                          | 0/6780 [00:00<?, ?docs/s]\n",
      "que: 100%|██████████████████████████████████████████████████████████████████████████████████████████████████████████████████████████████████████████████████████████████████████████████████████████████████████████████████████████████████████████████████| 6/6 [00:02<00:00,  2.75it/s]\n",
      "  0%|                                                                                                                                                                                                                                                          | 0/6780 [00:00<?, ?docs/s]\n",
      "que: 100%|██████████████████████████████████████████████████████████████████████████████████████████████████████████████████████████████████████████████████████████████████████████████████████████████████████████████████████████████████████████████████| 6/6 [00:02<00:00,  2.46it/s]\n",
      "  0%|                                                                                                                                                                                                                                                          | 0/6780 [00:00<?, ?docs/s]\n",
      "que: 100%|██████████████████████████████████████████████████████████████████████████████████████████████████████████████████████████████████████████████████████████████████████████████████████████████████████████████████████████████████████████████████| 6/6 [00:00<00:00,  8.86it/s]\n",
      "  0%|                                                                                                                                                                                                                                                          | 0/6780 [00:00<?, ?docs/s]\n",
      "que: 100%|██████████████████████████████████████████████████████████████████████████████████████████████████████████████████████████████████████████████████████████████████████████████████████████████████████████████████████████████████████████████████| 6/6 [00:01<00:00,  4.07it/s]\n",
      "  0%|                                                                                                                                                                                                                                                          | 0/6780 [00:00<?, ?docs/s]\n",
      "que: 100%|██████████████████████████████████████████████████████████████████████████████████████████████████████████████████████████████████████████████████████████████████████████████████████████████████████████████████████████████████████████████████| 6/6 [00:01<00:00,  5.56it/s]\n"
     ]
    }
   ],
   "source": [
    "for corpus_name in corpora.keys():\n",
    "    try:\n",
    "        RetrievalEvaluationResults.from_retriever(bm25_retrievers[corpus_name], retriever_inputs[corpus_name])\n",
    "    except:\n",
    "        print(corpus_name)"
   ]
  },
  {
   "cell_type": "code",
   "execution_count": 59,
   "id": "77c1a0f1-f9c2-44fc-a6b8-0f45691c93f9",
   "metadata": {},
   "outputs": [
    {
     "name": "stderr",
     "output_type": "stream",
     "text": [
      "  0%|                                                                                                                                                                                                                                                          | 0/6780 [00:00<?, ?docs/s]\n",
      "que: 100%|██████████████████████████████████████████████████████████████████████████████████████████████████████████████████████████████████████████████████████████████████████████████████████████████████████████████████████████████████████████████████| 6/6 [00:03<00:00,  1.70it/s]\n",
      "  0%|                                                                                                                                                                                                                                                          | 0/6780 [00:00<?, ?docs/s]\n",
      "que: 100%|██████████████████████████████████████████████████████████████████████████████████████████████████████████████████████████████████████████████████████████████████████████████████████████████████████████████████████████████████████████████████| 6/6 [00:02<00:00,  2.55it/s]\n",
      "  0%|                                                                                                                                                                                                                                                          | 0/6780 [00:00<?, ?docs/s]\n",
      "que: 100%|██████████████████████████████████████████████████████████████████████████████████████████████████████████████████████████████████████████████████████████████████████████████████████████████████████████████████████████████████████████████████| 6/6 [00:03<00:00,  1.66it/s]\n",
      "  0%|                                                                                                                                                                                                                                                          | 0/6780 [00:00<?, ?docs/s]\n",
      "que: 100%|██████████████████████████████████████████████████████████████████████████████████████████████████████████████████████████████████████████████████████████████████████████████████████████████████████████████████████████████████████████████████| 6/6 [00:02<00:00,  2.72it/s]\n",
      "  0%|                                                                                                                                                                                                                                                          | 0/6780 [00:00<?, ?docs/s]\n",
      "que: 100%|██████████████████████████████████████████████████████████████████████████████████████████████████████████████████████████████████████████████████████████████████████████████████████████████████████████████████████████████████████████████████| 6/6 [00:02<00:00,  2.47it/s]\n",
      "  0%|                                                                                                                                                                                                                                                          | 0/6780 [00:00<?, ?docs/s]\n",
      "que: 100%|██████████████████████████████████████████████████████████████████████████████████████████████████████████████████████████████████████████████████████████████████████████████████████████████████████████████████████████████████████████████████| 6/6 [00:00<00:00,  8.43it/s]\n",
      "  0%|                                                                                                                                                                                                                                                          | 0/6780 [00:00<?, ?docs/s]\n",
      "que: 100%|██████████████████████████████████████████████████████████████████████████████████████████████████████████████████████████████████████████████████████████████████████████████████████████████████████████████████████████████████████████████████| 6/6 [00:01<00:00,  3.87it/s]\n",
      "  0%|                                                                                                                                                                                                                                                          | 0/6780 [00:00<?, ?docs/s]\n",
      "que: 100%|██████████████████████████████████████████████████████████████████████████████████████████████████████████████████████████████████████████████████████████████████████████████████████████████████████████████████████████████████████████████████| 6/6 [00:01<00:00,  5.29it/s]\n"
     ]
    }
   ],
   "source": [
    "bm25_results = {\n",
    "    corpus_name: RetrievalEvaluationResults.from_retriever(bm25_retrievers[corpus_name], retriever_inputs[corpus_name])\n",
    "    for corpus_name in corpora.keys()\n",
    "}"
   ]
  },
  {
   "cell_type": "markdown",
   "id": "b932e725-af99-4b97-9eb1-8c29b7a2570c",
   "metadata": {},
   "source": [
    "splade_results = {\n",
    "    corpus_name: RetrievalEvaluationResults.from_retriever(splade_retriever, retriever_inputs[corpus_name])\n",
    "    for corpus_name in corpora.keys()\n",
    "}"
   ]
  },
  {
   "cell_type": "code",
   "execution_count": 60,
   "id": "b18db778-cfd3-4495-be41-755b5a48085a",
   "metadata": {},
   "outputs": [
    {
     "name": "stderr",
     "output_type": "stream",
     "text": [
      "Batches: 100%|█████████████████████████████████████████████████████████████████████████████████████████████████████████████████████████████████████████████████████████████████████████████████████████████████████████████████████████████████████████████| 6/6 [00:00<00:00, 272.14it/s]\n",
      "Batches: 100%|████████████████████████████████████████████████████████████████████████████████████████████████████████████████████████████████████████████████████████████████████████████████████████████████████████████████████████████████████████████| 53/53 [00:01<00:00, 40.13it/s]\n",
      "Batches: 100%|████████████████████████████████████████████████████████████████████████████████████████████████████████████████████████████████████████████████████████████████████████████████████████████████████████████████████████████████████████████| 6/6 [00:00<00:00, 1573.26it/s]\n",
      "Batches: 100%|███████████████████████████████████████████████████████████████████████████████████████████████████████████████████████████████████████████████████████████████████████████████████████████████████████████████████████████████████████████| 53/53 [00:00<00:00, 143.76it/s]\n",
      "Batches: 100%|████████████████████████████████████████████████████████████████████████████████████████████████████████████████████████████████████████████████████████████████████████████████████████████████████████████████████████████████████████████| 6/6 [00:00<00:00, 1441.75it/s]\n",
      "Batches: 100%|████████████████████████████████████████████████████████████████████████████████████████████████████████████████████████████████████████████████████████████████████████████████████████████████████████████████████████████████████████████| 53/53 [00:02<00:00, 25.46it/s]\n",
      "Batches: 100%|████████████████████████████████████████████████████████████████████████████████████████████████████████████████████████████████████████████████████████████████████████████████████████████████████████████████████████████████████████████| 6/6 [00:00<00:00, 1475.48it/s]\n",
      "Batches: 100%|███████████████████████████████████████████████████████████████████████████████████████████████████████████████████████████████████████████████████████████████████████████████████████████████████████████████████████████████████████████| 53/53 [00:00<00:00, 140.66it/s]\n",
      "Batches: 100%|████████████████████████████████████████████████████████████████████████████████████████████████████████████████████████████████████████████████████████████████████████████████████████████████████████████████████████████████████████████| 6/6 [00:00<00:00, 1559.99it/s]\n",
      "Batches: 100%|████████████████████████████████████████████████████████████████████████████████████████████████████████████████████████████████████████████████████████████████████████████████████████████████████████████████████████████████████████████| 53/53 [00:00<00:00, 76.38it/s]\n",
      "Batches: 100%|████████████████████████████████████████████████████████████████████████████████████████████████████████████████████████████████████████████████████████████████████████████████████████████████████████████████████████████████████████████| 6/6 [00:00<00:00, 1488.05it/s]\n",
      "Batches: 100%|███████████████████████████████████████████████████████████████████████████████████████████████████████████████████████████████████████████████████████████████████████████████████████████████████████████████████████████████████████████| 53/53 [00:00<00:00, 321.36it/s]\n",
      "Batches: 100%|████████████████████████████████████████████████████████████████████████████████████████████████████████████████████████████████████████████████████████████████████████████████████████████████████████████████████████████████████████████| 6/6 [00:00<00:00, 1511.28it/s]\n",
      "Batches: 100%|███████████████████████████████████████████████████████████████████████████████████████████████████████████████████████████████████████████████████████████████████████████████████████████████████████████████████████████████████████████| 53/53 [00:00<00:00, 282.51it/s]\n",
      "Batches: 100%|████████████████████████████████████████████████████████████████████████████████████████████████████████████████████████████████████████████████████████████████████████████████████████████████████████████████████████████████████████████| 6/6 [00:00<00:00, 1074.77it/s]\n",
      "Batches: 100%|██████████████████████████████████████████████████████████████████████████████████████████████████████████████████████████████████████████████████████████████████████████████████████████████████████████████████████████████████████████| 53/53 [00:00<00:00, 1157.63it/s]\n"
     ]
    }
   ],
   "source": [
    "word2vec_results = {\n",
    "    corpus_name: RetrievalEvaluationResults.from_retriever(w2v_retriever, retriever_inputs[corpus_name])\n",
    "    for corpus_name in corpora.keys()\n",
    "}"
   ]
  },
  {
   "cell_type": "code",
   "execution_count": 61,
   "id": "cfbbc87e-18a4-4492-af66-0851f1ae17b4",
   "metadata": {},
   "outputs": [
    {
     "name": "stderr",
     "output_type": "stream",
     "text": [
      "Batches: 100%|███████████████████████████████████████████████████████████████████████████████████████████████████████████████████████████████████████████████████████████████████████████████████████████████████████████████████████████████████████████| 93/93 [00:00<00:00, 161.12it/s]\n",
      "Batches: 100%|██████████████████████████████████████████████████████████████████████████████████████████████████████████████████████████████████████████████████████████████████████████████████████████████████████████████████████████████████████████| 848/848 [00:36<00:00, 23.11it/s]\n",
      "Batches: 100%|███████████████████████████████████████████████████████████████████████████████████████████████████████████████████████████████████████████████████████████████████████████████████████████████████████████████████████████████████████████| 93/93 [00:00<00:00, 168.69it/s]\n",
      "Batches: 100%|██████████████████████████████████████████████████████████████████████████████████████████████████████████████████████████████████████████████████████████████████████████████████████████████████████████████████████████████████████████| 848/848 [00:09<00:00, 91.27it/s]\n",
      "Batches: 100%|███████████████████████████████████████████████████████████████████████████████████████████████████████████████████████████████████████████████████████████████████████████████████████████████████████████████████████████████████████████| 93/93 [00:00<00:00, 154.34it/s]\n",
      "Batches: 100%|██████████████████████████████████████████████████████████████████████████████████████████████████████████████████████████████████████████████████████████████████████████████████████████████████████████████████████████████████████████| 848/848 [00:30<00:00, 28.26it/s]\n",
      "Batches: 100%|███████████████████████████████████████████████████████████████████████████████████████████████████████████████████████████████████████████████████████████████████████████████████████████████████████████████████████████████████████████| 93/93 [00:00<00:00, 168.14it/s]\n",
      "Batches: 100%|█████████████████████████████████████████████████████████████████████████████████████████████████████████████████████████████████████████████████████████████████████████████████████████████████████████████████████████████████████████| 848/848 [00:05<00:00, 144.87it/s]\n",
      "Batches: 100%|███████████████████████████████████████████████████████████████████████████████████████████████████████████████████████████████████████████████████████████████████████████████████████████████████████████████████████████████████████████| 93/93 [00:00<00:00, 158.79it/s]\n",
      "Batches: 100%|██████████████████████████████████████████████████████████████████████████████████████████████████████████████████████████████████████████████████████████████████████████████████████████████████████████████████████████████████████████| 848/848 [00:37<00:00, 22.44it/s]\n",
      "Batches: 100%|███████████████████████████████████████████████████████████████████████████████████████████████████████████████████████████████████████████████████████████████████████████████████████████████████████████████████████████████████████████| 93/93 [00:00<00:00, 170.39it/s]\n",
      "Batches: 100%|██████████████████████████████████████████████████████████████████████████████████████████████████████████████████████████████████████████████████████████████████████████████████████████████████████████████████████████████████████████| 848/848 [00:11<00:00, 73.86it/s]\n",
      "Batches: 100%|███████████████████████████████████████████████████████████████████████████████████████████████████████████████████████████████████████████████████████████████████████████████████████████████████████████████████████████████████████████| 93/93 [00:00<00:00, 155.47it/s]\n",
      "Batches: 100%|██████████████████████████████████████████████████████████████████████████████████████████████████████████████████████████████████████████████████████████████████████████████████████████████████████████████████████████████████████████| 848/848 [00:31<00:00, 27.01it/s]\n",
      "Batches: 100%|███████████████████████████████████████████████████████████████████████████████████████████████████████████████████████████████████████████████████████████████████████████████████████████████████████████████████████████████████████████| 93/93 [00:00<00:00, 167.78it/s]\n",
      "Batches: 100%|█████████████████████████████████████████████████████████████████████████████████████████████████████████████████████████████████████████████████████████████████████████████████████████████████████████████████████████████████████████| 848/848 [00:05<00:00, 146.26it/s]\n",
      "Batches: 100%|███████████████████████████████████████████████████████████████████████████████████████████████████████████████████████████████████████████████████████████████████████████████████████████████████████████████████████████████████████████| 93/93 [00:00<00:00, 155.57it/s]\n",
      "Batches: 100%|██████████████████████████████████████████████████████████████████████████████████████████████████████████████████████████████████████████████████████████████████████████████████████████████████████████████████████████████████████████| 848/848 [00:36<00:00, 23.53it/s]\n",
      "Batches: 100%|███████████████████████████████████████████████████████████████████████████████████████████████████████████████████████████████████████████████████████████████████████████████████████████████████████████████████████████████████████████| 93/93 [00:00<00:00, 170.01it/s]\n",
      "Batches: 100%|█████████████████████████████████████████████████████████████████████████████████████████████████████████████████████████████████████████████████████████████████████████████████████████████████████████████████████████████████████████| 848/848 [00:06<00:00, 121.45it/s]\n",
      "Batches: 100%|███████████████████████████████████████████████████████████████████████████████████████████████████████████████████████████████████████████████████████████████████████████████████████████████████████████████████████████████████████████| 93/93 [00:00<00:00, 165.43it/s]\n",
      "Batches: 100%|██████████████████████████████████████████████████████████████████████████████████████████████████████████████████████████████████████████████████████████████████████████████████████████████████████████████████████████████████████████| 848/848 [00:33<00:00, 25.23it/s]\n",
      "Batches: 100%|███████████████████████████████████████████████████████████████████████████████████████████████████████████████████████████████████████████████████████████████████████████████████████████████████████████████████████████████████████████| 93/93 [00:00<00:00, 171.71it/s]\n",
      "Batches: 100%|█████████████████████████████████████████████████████████████████████████████████████████████████████████████████████████████████████████████████████████████████████████████████████████████████████████████████████████████████████████| 848/848 [00:05<00:00, 153.56it/s]\n",
      "Batches: 100%|███████████████████████████████████████████████████████████████████████████████████████████████████████████████████████████████████████████████████████████████████████████████████████████████████████████████████████████████████████████| 93/93 [00:00<00:00, 160.59it/s]\n",
      "Batches: 100%|██████████████████████████████████████████████████████████████████████████████████████████████████████████████████████████████████████████████████████████████████████████████████████████████████████████████████████████████████████████| 848/848 [00:34<00:00, 24.58it/s]\n",
      "Batches: 100%|███████████████████████████████████████████████████████████████████████████████████████████████████████████████████████████████████████████████████████████████████████████████████████████████████████████████████████████████████████████| 93/93 [00:00<00:00, 175.93it/s]\n",
      "Batches: 100%|█████████████████████████████████████████████████████████████████████████████████████████████████████████████████████████████████████████████████████████████████████████████████████████████████████████████████████████████████████████| 848/848 [00:05<00:00, 152.51it/s]\n",
      "Batches: 100%|███████████████████████████████████████████████████████████████████████████████████████████████████████████████████████████████████████████████████████████████████████████████████████████████████████████████████████████████████████████| 93/93 [00:00<00:00, 161.87it/s]\n",
      "Batches: 100%|█████████████████████████████████████████████████████████████████████████████████████████████████████████████████████████████████████████████████████████████████████████████████████████████████████████████████████████████████████████| 848/848 [00:05<00:00, 155.83it/s]\n",
      "Batches: 100%|███████████████████████████████████████████████████████████████████████████████████████████████████████████████████████████████████████████████████████████████████████████████████████████████████████████████████████████████████████████| 93/93 [00:00<00:00, 169.58it/s]\n",
      "Batches: 100%|█████████████████████████████████████████████████████████████████████████████████████████████████████████████████████████████████████████████████████████████████████████████████████████████████████████████████████████████████████████| 848/848 [00:04<00:00, 169.92it/s]\n"
     ]
    }
   ],
   "source": [
    "sentence_transformer_results = {\n",
    "    (corpus_name, model_name.split(\"/\")[1]): RetrievalEvaluationResults.from_retriever(sentence_transformer_retrievers[model_name], retriever_inputs[corpus_name])\n",
    "    for corpus_name in corpora.keys()\n",
    "    for model_name in sentence_transformer_model_names\n",
    "}"
   ]
  },
  {
   "cell_type": "code",
   "execution_count": 62,
   "id": "168d970f-1613-40cd-bf39-ccc755c0f462",
   "metadata": {},
   "outputs": [],
   "source": [
    "bm25_metrics = [\n",
    "    {\"corpus\": corpus_name, \"retriever\": \"bm25\", **bm25_results[corpus_name].metrics}\n",
    "    for corpus_name in corpora.keys()\n",
    "]"
   ]
  },
  {
   "cell_type": "code",
   "execution_count": 63,
   "id": "2b5ca892-7b81-4a1d-aef0-8d98a2b48be9",
   "metadata": {},
   "outputs": [],
   "source": [
    "word2vec_metrics = [\n",
    "    {\"corpus\": corpus_name, \"retriever\": \"Python code word2vec\", **word2vec_results[corpus_name].metrics}\n",
    "    for corpus_name in corpora.keys()\n",
    "]"
   ]
  },
  {
   "cell_type": "code",
   "execution_count": 64,
   "id": "4bba502a-d4ba-401e-bf43-d553a755e63d",
   "metadata": {},
   "outputs": [],
   "source": [
    "#splade_metrics = [\n",
    "#    {\"corpus\": corpus_name, \"retriever\": \"splade\", **splade_results[corpus_name].metrics}\n",
    "#     for corpus_name in corpora.keys()\n",
    "#]\n",
    " \n",
    "sentence_transformer_metrics = [\n",
    "    {\"corpus\": corpus_name, \"retriever\": f\"{model_name} (sentence_transformer)\", **sentence_transformer_results[(corpus_name, model_name)].metrics}\n",
    "    for (corpus_name, model_name) in sentence_transformer_results.keys()\n",
    "]\n",
    "\n",
    "all_metrics_df = pd.DataFrame.from_records(bm25_metrics + word2vec_metrics +  sentence_transformer_metrics).sort_values(\"Hits@10\", ascending=False)"
   ]
  },
  {
   "cell_type": "code",
   "execution_count": 65,
   "id": "f8ea85bb-ad62-4cad-8ae5-52ba3a61e84d",
   "metadata": {},
   "outputs": [
    {
     "data": {
      "text/plain": [
       "(32, 50)"
      ]
     },
     "execution_count": 65,
     "metadata": {},
     "output_type": "execute_result"
    }
   ],
   "source": [
    "all_metrics_df.shape"
   ]
  },
  {
   "cell_type": "code",
   "execution_count": 66,
   "id": "e96fc7bd-7971-4065-b62b-2a4d702284df",
   "metadata": {},
   "outputs": [
    {
     "data": {
      "text/html": [
       "<div>\n",
       "<style scoped>\n",
       "    .dataframe tbody tr th:only-of-type {\n",
       "        vertical-align: middle;\n",
       "    }\n",
       "\n",
       "    .dataframe tbody tr th {\n",
       "        vertical-align: top;\n",
       "    }\n",
       "\n",
       "    .dataframe thead th {\n",
       "        text-align: right;\n",
       "    }\n",
       "</style>\n",
       "<table border=\"1\" class=\"dataframe\">\n",
       "  <thead>\n",
       "    <tr style=\"text-align: right;\">\n",
       "      <th></th>\n",
       "      <th>corpus</th>\n",
       "      <th>retriever</th>\n",
       "      <th>Accuracy@10</th>\n",
       "    </tr>\n",
       "  </thead>\n",
       "  <tbody>\n",
       "    <tr>\n",
       "      <th>16</th>\n",
       "      <td>readme</td>\n",
       "      <td>all-mpnet-base-v2 (sentence_transformer)</td>\n",
       "      <td>0.92876</td>\n",
       "    </tr>\n",
       "    <tr>\n",
       "      <th>0</th>\n",
       "      <td>readme</td>\n",
       "      <td>bm25</td>\n",
       "      <td>0.91398</td>\n",
       "    </tr>\n",
       "    <tr>\n",
       "      <th>17</th>\n",
       "      <td>readme</td>\n",
       "      <td>all-MiniLM-L12-v2 (sentence_transformer)</td>\n",
       "      <td>0.91935</td>\n",
       "    </tr>\n",
       "    <tr>\n",
       "      <th>18</th>\n",
       "      <td>generated_readme</td>\n",
       "      <td>all-mpnet-base-v2 (sentence_transformer)</td>\n",
       "      <td>0.85753</td>\n",
       "    </tr>\n",
       "    <tr>\n",
       "      <th>19</th>\n",
       "      <td>generated_readme</td>\n",
       "      <td>all-MiniLM-L12-v2 (sentence_transformer)</td>\n",
       "      <td>0.84946</td>\n",
       "    </tr>\n",
       "    <tr>\n",
       "      <th>22</th>\n",
       "      <td>generated_rationale</td>\n",
       "      <td>all-mpnet-base-v2 (sentence_transformer)</td>\n",
       "      <td>0.85618</td>\n",
       "    </tr>\n",
       "    <tr>\n",
       "      <th>23</th>\n",
       "      <td>generated_rationale</td>\n",
       "      <td>all-MiniLM-L12-v2 (sentence_transformer)</td>\n",
       "      <td>0.83468</td>\n",
       "    </tr>\n",
       "    <tr>\n",
       "      <th>1</th>\n",
       "      <td>generated_readme</td>\n",
       "      <td>bm25</td>\n",
       "      <td>0.85215</td>\n",
       "    </tr>\n",
       "    <tr>\n",
       "      <th>3</th>\n",
       "      <td>generated_rationale</td>\n",
       "      <td>bm25</td>\n",
       "      <td>0.84812</td>\n",
       "    </tr>\n",
       "    <tr>\n",
       "      <th>30</th>\n",
       "      <td>generated_tasks</td>\n",
       "      <td>all-mpnet-base-v2 (sentence_transformer)</td>\n",
       "      <td>0.82796</td>\n",
       "    </tr>\n",
       "    <tr>\n",
       "      <th>31</th>\n",
       "      <td>generated_tasks</td>\n",
       "      <td>all-MiniLM-L12-v2 (sentence_transformer)</td>\n",
       "      <td>0.82661</td>\n",
       "    </tr>\n",
       "    <tr>\n",
       "      <th>7</th>\n",
       "      <td>generated_tasks</td>\n",
       "      <td>bm25</td>\n",
       "      <td>0.77688</td>\n",
       "    </tr>\n",
       "    <tr>\n",
       "      <th>4</th>\n",
       "      <td>generation_context</td>\n",
       "      <td>bm25</td>\n",
       "      <td>0.77554</td>\n",
       "    </tr>\n",
       "    <tr>\n",
       "      <th>28</th>\n",
       "      <td>repository_signature</td>\n",
       "      <td>all-mpnet-base-v2 (sentence_transformer)</td>\n",
       "      <td>0.78629</td>\n",
       "    </tr>\n",
       "    <tr>\n",
       "      <th>6</th>\n",
       "      <td>repository_signature</td>\n",
       "      <td>bm25</td>\n",
       "      <td>0.75672</td>\n",
       "    </tr>\n",
       "    <tr>\n",
       "      <th>24</th>\n",
       "      <td>generation_context</td>\n",
       "      <td>all-mpnet-base-v2 (sentence_transformer)</td>\n",
       "      <td>0.76344</td>\n",
       "    </tr>\n",
       "    <tr>\n",
       "      <th>25</th>\n",
       "      <td>generation_context</td>\n",
       "      <td>all-MiniLM-L12-v2 (sentence_transformer)</td>\n",
       "      <td>0.76613</td>\n",
       "    </tr>\n",
       "    <tr>\n",
       "      <th>26</th>\n",
       "      <td>dependency_signature</td>\n",
       "      <td>all-mpnet-base-v2 (sentence_transformer)</td>\n",
       "      <td>0.73790</td>\n",
       "    </tr>\n",
       "    <tr>\n",
       "      <th>29</th>\n",
       "      <td>repository_signature</td>\n",
       "      <td>all-MiniLM-L12-v2 (sentence_transformer)</td>\n",
       "      <td>0.71640</td>\n",
       "    </tr>\n",
       "    <tr>\n",
       "      <th>27</th>\n",
       "      <td>dependency_signature</td>\n",
       "      <td>all-MiniLM-L12-v2 (sentence_transformer)</td>\n",
       "      <td>0.71909</td>\n",
       "    </tr>\n",
       "    <tr>\n",
       "      <th>2</th>\n",
       "      <td>selected_code</td>\n",
       "      <td>bm25</td>\n",
       "      <td>0.68145</td>\n",
       "    </tr>\n",
       "    <tr>\n",
       "      <th>15</th>\n",
       "      <td>generated_tasks</td>\n",
       "      <td>Python code word2vec</td>\n",
       "      <td>0.67473</td>\n",
       "    </tr>\n",
       "    <tr>\n",
       "      <th>20</th>\n",
       "      <td>selected_code</td>\n",
       "      <td>all-mpnet-base-v2 (sentence_transformer)</td>\n",
       "      <td>0.68145</td>\n",
       "    </tr>\n",
       "    <tr>\n",
       "      <th>21</th>\n",
       "      <td>selected_code</td>\n",
       "      <td>all-MiniLM-L12-v2 (sentence_transformer)</td>\n",
       "      <td>0.67608</td>\n",
       "    </tr>\n",
       "    <tr>\n",
       "      <th>9</th>\n",
       "      <td>generated_readme</td>\n",
       "      <td>Python code word2vec</td>\n",
       "      <td>0.65188</td>\n",
       "    </tr>\n",
       "    <tr>\n",
       "      <th>11</th>\n",
       "      <td>generated_rationale</td>\n",
       "      <td>Python code word2vec</td>\n",
       "      <td>0.63710</td>\n",
       "    </tr>\n",
       "    <tr>\n",
       "      <th>5</th>\n",
       "      <td>dependency_signature</td>\n",
       "      <td>bm25</td>\n",
       "      <td>0.58737</td>\n",
       "    </tr>\n",
       "    <tr>\n",
       "      <th>14</th>\n",
       "      <td>repository_signature</td>\n",
       "      <td>Python code word2vec</td>\n",
       "      <td>0.59274</td>\n",
       "    </tr>\n",
       "    <tr>\n",
       "      <th>8</th>\n",
       "      <td>readme</td>\n",
       "      <td>Python code word2vec</td>\n",
       "      <td>0.58871</td>\n",
       "    </tr>\n",
       "    <tr>\n",
       "      <th>12</th>\n",
       "      <td>generation_context</td>\n",
       "      <td>Python code word2vec</td>\n",
       "      <td>0.39651</td>\n",
       "    </tr>\n",
       "    <tr>\n",
       "      <th>10</th>\n",
       "      <td>selected_code</td>\n",
       "      <td>Python code word2vec</td>\n",
       "      <td>0.18817</td>\n",
       "    </tr>\n",
       "    <tr>\n",
       "      <th>13</th>\n",
       "      <td>dependency_signature</td>\n",
       "      <td>Python code word2vec</td>\n",
       "      <td>0.15995</td>\n",
       "    </tr>\n",
       "  </tbody>\n",
       "</table>\n",
       "</div>"
      ],
      "text/plain": [
       "                  corpus                                 retriever  \\\n",
       "16                readme  all-mpnet-base-v2 (sentence_transformer)   \n",
       "0                 readme                                      bm25   \n",
       "17                readme  all-MiniLM-L12-v2 (sentence_transformer)   \n",
       "18      generated_readme  all-mpnet-base-v2 (sentence_transformer)   \n",
       "19      generated_readme  all-MiniLM-L12-v2 (sentence_transformer)   \n",
       "22   generated_rationale  all-mpnet-base-v2 (sentence_transformer)   \n",
       "23   generated_rationale  all-MiniLM-L12-v2 (sentence_transformer)   \n",
       "1       generated_readme                                      bm25   \n",
       "3    generated_rationale                                      bm25   \n",
       "30       generated_tasks  all-mpnet-base-v2 (sentence_transformer)   \n",
       "31       generated_tasks  all-MiniLM-L12-v2 (sentence_transformer)   \n",
       "7        generated_tasks                                      bm25   \n",
       "4     generation_context                                      bm25   \n",
       "28  repository_signature  all-mpnet-base-v2 (sentence_transformer)   \n",
       "6   repository_signature                                      bm25   \n",
       "24    generation_context  all-mpnet-base-v2 (sentence_transformer)   \n",
       "25    generation_context  all-MiniLM-L12-v2 (sentence_transformer)   \n",
       "26  dependency_signature  all-mpnet-base-v2 (sentence_transformer)   \n",
       "29  repository_signature  all-MiniLM-L12-v2 (sentence_transformer)   \n",
       "27  dependency_signature  all-MiniLM-L12-v2 (sentence_transformer)   \n",
       "2          selected_code                                      bm25   \n",
       "15       generated_tasks                      Python code word2vec   \n",
       "20         selected_code  all-mpnet-base-v2 (sentence_transformer)   \n",
       "21         selected_code  all-MiniLM-L12-v2 (sentence_transformer)   \n",
       "9       generated_readme                      Python code word2vec   \n",
       "11   generated_rationale                      Python code word2vec   \n",
       "5   dependency_signature                                      bm25   \n",
       "14  repository_signature                      Python code word2vec   \n",
       "8                 readme                      Python code word2vec   \n",
       "12    generation_context                      Python code word2vec   \n",
       "10         selected_code                      Python code word2vec   \n",
       "13  dependency_signature                      Python code word2vec   \n",
       "\n",
       "    Accuracy@10  \n",
       "16      0.92876  \n",
       "0       0.91398  \n",
       "17      0.91935  \n",
       "18      0.85753  \n",
       "19      0.84946  \n",
       "22      0.85618  \n",
       "23      0.83468  \n",
       "1       0.85215  \n",
       "3       0.84812  \n",
       "30      0.82796  \n",
       "31      0.82661  \n",
       "7       0.77688  \n",
       "4       0.77554  \n",
       "28      0.78629  \n",
       "6       0.75672  \n",
       "24      0.76344  \n",
       "25      0.76613  \n",
       "26      0.73790  \n",
       "29      0.71640  \n",
       "27      0.71909  \n",
       "2       0.68145  \n",
       "15      0.67473  \n",
       "20      0.68145  \n",
       "21      0.67608  \n",
       "9       0.65188  \n",
       "11      0.63710  \n",
       "5       0.58737  \n",
       "14      0.59274  \n",
       "8       0.58871  \n",
       "12      0.39651  \n",
       "10      0.18817  \n",
       "13      0.15995  "
      ]
     },
     "execution_count": 66,
     "metadata": {},
     "output_type": "execute_result"
    }
   ],
   "source": [
    "all_metrics_df[[\"corpus\", \"retriever\", \"Accuracy@10\"]]"
   ]
  },
  {
   "cell_type": "code",
   "execution_count": 67,
   "id": "f8dfde14-0798-49f9-b212-420979936de2",
   "metadata": {},
   "outputs": [
    {
     "data": {
      "text/plain": [
       "Index(['corpus', 'retriever', 'Accuracy@1', 'Accuracy@3', 'Accuracy@5',\n",
       "       'Accuracy@10', 'Accuracy@100', 'Accuracy@1000', 'Hits@1', 'Hits@3',\n",
       "       'Hits@5', 'Hits@10', 'Hits@100', 'Hits@1000', 'R_cap@1', 'R_cap@3',\n",
       "       'R_cap@5', 'R_cap@10', 'R_cap@100', 'R_cap@1000', 'MRR@1', 'MRR@3',\n",
       "       'MRR@5', 'MRR@10', 'MRR@100', 'MRR@1000', 'P@1', 'P@3', 'P@5', 'P@10',\n",
       "       'P@100', 'P@1000', 'Recall@1', 'Recall@3', 'Recall@5', 'Recall@10',\n",
       "       'Recall@100', 'Recall@1000', 'MAP@1', 'MAP@3', 'MAP@5', 'MAP@10',\n",
       "       'MAP@100', 'MAP@1000', 'NDCG@1', 'NDCG@3', 'NDCG@5', 'NDCG@10',\n",
       "       'NDCG@100', 'NDCG@1000'],\n",
       "      dtype='object')"
      ]
     },
     "execution_count": 67,
     "metadata": {},
     "output_type": "execute_result"
    }
   ],
   "source": [
    "all_metrics_df.columns"
   ]
  },
  {
   "cell_type": "code",
   "execution_count": 68,
   "id": "ae614836-1547-4c72-bfd6-90e92ad9a8a5",
   "metadata": {},
   "outputs": [],
   "source": [
    "model_name = \"qwen2.5:7b-instruct\""
   ]
  },
  {
   "cell_type": "code",
   "execution_count": 69,
   "id": "7c3e17de-6297-41f2-a031-6cc47d895d63",
   "metadata": {},
   "outputs": [],
   "source": [
    "all_metrics_df.to_csv(f\"../output/code2doc/beir_results_{model_name}.csv\", index=False)"
   ]
  },
  {
   "cell_type": "code",
   "execution_count": 62,
   "id": "9cba07cc-0836-4760-bc45-d7943eaead1f",
   "metadata": {},
   "outputs": [],
   "source": [
    "#all_metrics_df.to_csv(f\"../output/code2doc/beir_results_with_modernbert_{model_name}.csv\", index=False)"
   ]
  },
  {
   "cell_type": "markdown",
   "id": "9380e81d-e1d5-4e3b-bbe4-c6842ade4eb2",
   "metadata": {},
   "source": [
    "## Results\n",
    "\n",
    "By default we will use min_task_count=10 (as we used originally)\n",
    "\n",
    "We can switch to smaller task counts like 5 to incorporate the fact that we use sample of repos"
   ]
  },
  {
   "cell_type": "code",
   "execution_count": null,
   "id": "f3834435-49fe-4530-b371-5b5e046a4c14",
   "metadata": {},
   "outputs": [],
   "source": [
    "metric_df_cols = [\"corpus\", \"retriever\", \"Accuracy@10\", \"Hits@10\", \"R_cap@10\", \"P@1\", \"P@5\", \"P@10\"]"
   ]
  },
  {
   "cell_type": "code",
   "execution_count": null,
   "id": "1b7c057a-4e95-4faa-aa2b-392c521913fc",
   "metadata": {},
   "outputs": [],
   "source": [
    "all_metrics_df[metric_df_cols]"
   ]
  },
  {
   "cell_type": "code",
   "execution_count": null,
   "id": "4ee0a584-a9b8-4f44-9ae5-403c36501fef",
   "metadata": {},
   "outputs": [],
   "source": [
    "all_metrics_df[metric_df_cols].sort_values(\"Accuracy@10\", ascending=False)"
   ]
  },
  {
   "cell_type": "code",
   "execution_count": null,
   "id": "84006df9-9b52-430b-8366-842b536e29fb",
   "metadata": {},
   "outputs": [],
   "source": [
    "all_metrics_df.groupby(\"corpus\").apply(lambda df: df.sort_values(\"Accuracy@10\", ascending=False).iloc[0])[metric_df_cols].sort_values(\"Accuracy@10\", ascending=False)"
   ]
  },
  {
   "cell_type": "code",
   "execution_count": null,
   "id": "792258e0-5684-48af-852b-5a605d28d0a1",
   "metadata": {},
   "outputs": [],
   "source": [
    "all_metrics_df.groupby(\"retriever\").apply(lambda df: df.sort_values(\"Accuracy@10\", ascending=False).iloc[0])[metric_df_cols].sort_values(\"Accuracy@10\", ascending=False)"
   ]
  },
  {
   "cell_type": "code",
   "execution_count": null,
   "id": "33fe046c-2a0d-45f1-9312-2c3b946da92b",
   "metadata": {},
   "outputs": [],
   "source": [
    "all_metrics_df[all_metrics_df[\"retriever\"] == \"bm25\"][metric_df_cols]"
   ]
  },
  {
   "cell_type": "code",
   "execution_count": null,
   "id": "779c9fac-7d0e-4435-ad1a-c19c399c1ffc",
   "metadata": {},
   "outputs": [],
   "source": [
    "len(task_queries)"
   ]
  },
  {
   "cell_type": "code",
   "execution_count": null,
   "id": "f5d20918-117d-43d7-8f65-5dd9f8cb077a",
   "metadata": {},
   "outputs": [],
   "source": [
    "# task count = 5"
   ]
  },
  {
   "cell_type": "code",
   "execution_count": null,
   "id": "624352d5-f9be-4b0d-b4ae-383794166137",
   "metadata": {},
   "outputs": [],
   "source": [
    "all_metrics_df[[\"corpus\", \"retriever\", \"Accuracy@10\"]].sort_values(\"Accuracy@10\", ascending=False)"
   ]
  },
  {
   "cell_type": "code",
   "execution_count": null,
   "id": "d2ca4f6d-9a5b-45d0-98ff-5d103203a0d7",
   "metadata": {},
   "outputs": [],
   "source": [
    "# task count = 10"
   ]
  },
  {
   "cell_type": "code",
   "execution_count": null,
   "id": "898c7855-7279-4170-9fd5-1360e8fef5f4",
   "metadata": {},
   "outputs": [],
   "source": [
    "all_metrics_df[[\"corpus\", \"retriever\", \"Accuracy@10\"]].sort_values(\"Accuracy@10\", ascending=False)"
   ]
  },
  {
   "cell_type": "code",
   "execution_count": null,
   "id": "3d6f9993-0773-4de9-8dad-e55f5e458c63",
   "metadata": {},
   "outputs": [],
   "source": [
    "all_metrics_df.groupby(\"retriever\")[\"Accuracy@10\"].agg(\"mean\").sort_values()"
   ]
  },
  {
   "cell_type": "code",
   "execution_count": null,
   "id": "a421d2ec-14b5-46e4-91ad-701e16a041f4",
   "metadata": {},
   "outputs": [],
   "source": [
    "all_metrics_df.groupby(\"retriever\")[\"Accuracy@10\"].agg(\"mean\").sort_values()"
   ]
  },
  {
   "cell_type": "code",
   "execution_count": null,
   "id": "78c9e80f-9263-4092-93df-c316df93f91a",
   "metadata": {},
   "outputs": [],
   "source": [
    "all_metrics_df.groupby(\"retriever\")[\"Accuracy@10\"].agg(\"mean\").sort_values()"
   ]
  },
  {
   "cell_type": "code",
   "execution_count": null,
   "id": "8dd2fe2e-b314-4bc4-b33b-4ee1048601fc",
   "metadata": {},
   "outputs": [],
   "source": [
    "all_metrics_df.groupby(\"corpus\")[\"Accuracy@10\"].agg(\"mean\").sort_values()"
   ]
  },
  {
   "cell_type": "code",
   "execution_count": null,
   "id": "2e56598d-9dc5-4804-8bf4-d3133832208a",
   "metadata": {},
   "outputs": [],
   "source": [
    "sampled_repos_df[\"tasks\"].explode().value_counts().loc[list(task_queries.values())]"
   ]
  },
  {
   "cell_type": "code",
   "execution_count": null,
   "id": "1e72a823-c74f-45f3-ac25-9b4b0ab9be10",
   "metadata": {},
   "outputs": [],
   "source": [
    "all_metrics_df[[\"corpus\", \"retriever\", \"Accuracy@10\"]].sort_values(\"Accuracy@10\", ascending=False)"
   ]
  },
  {
   "cell_type": "markdown",
   "id": "fbdd8ff1-3a58-44f1-bebf-fd4face2563a",
   "metadata": {},
   "source": [
    "## Does combining rationale with generated readme help?\n",
    "\n",
    "It seems that the best sentence transformer retrievers can only get worse when using any other information!"
   ]
  },
  {
   "cell_type": "code",
   "execution_count": null,
   "id": "2b12853e-cec3-4cca-a9fb-1644f172090b",
   "metadata": {},
   "outputs": [],
   "source": [
    "sentence_transformer_results.keys()"
   ]
  },
  {
   "cell_type": "code",
   "execution_count": null,
   "id": "7fc79a75-9a8a-4d2b-b22a-e4ef0c42c7f6",
   "metadata": {},
   "outputs": [],
   "source": [
    "st_generated_readme_results= sentence_transformer_results[('generated_readme', 'all-mpnet-base-v2')].retrieval_results\n",
    "st_rationale_results = sentence_transformer_results[('generated_rationale', 'all-mpnet-base-v2')].retrieval_results\n",
    "bm25_generated_readme_results = bm25_results[\"generated_readme\"].retrieval_results\n",
    "st_context_results = sentence_transformer_results[('generation_context', 'all-mpnet-base-v2')].retrieval_results"
   ]
  },
  {
   "cell_type": "code",
   "execution_count": null,
   "id": "28c5f56b-00cf-44b9-aeef-aee8bca3e264",
   "metadata": {},
   "outputs": [],
   "source": [
    "len(list(bm25_generated_readme_results.keys()))"
   ]
  },
  {
   "cell_type": "code",
   "execution_count": null,
   "id": "328808cf-3f7b-4fd6-927c-76d7f0f76ec2",
   "metadata": {},
   "outputs": [],
   "source": [
    "len(list(st_generated_readme_results.keys()))"
   ]
  },
  {
   "cell_type": "code",
   "execution_count": null,
   "id": "a5bec109-8530-48d7-a3cf-27d522a9b008",
   "metadata": {},
   "outputs": [],
   "source": [
    "def merge_qrels(qrels1, qrels2):\n",
    "    merged_qrels = {}\n",
    "    for k in qrels1.keys():\n",
    "        tmp_rel = dict()\n",
    "        for rel_k in set(qrels1[k].keys()).union(qrels2[k]):\n",
    "            tmp_rel[rel_k] = qrels1[k].get(rel_k, 0) +  qrels2[k].get(rel_k, 0)\n",
    "        merged_qrels[k] = tmp_rel\n",
    "    return merged_qrels"
   ]
  },
  {
   "cell_type": "code",
   "execution_count": null,
   "id": "52804e89-a816-42b6-8f74-938ad36b5f9f",
   "metadata": {},
   "outputs": [],
   "source": [
    "st_generation_results = merge_qrels(bm25_generated_readme_results, st_generated_readme_results)"
   ]
  },
  {
   "cell_type": "code",
   "execution_count": null,
   "id": "f85cbbaf-9966-4aee-8364-ea160f208ab3",
   "metadata": {},
   "outputs": [],
   "source": [
    "EvaluateRetrieval().evaluate_custom(task_qrels, st_generation_results, metric=\"acc\", k_values=[1,5,10])"
   ]
  },
  {
   "cell_type": "code",
   "execution_count": null,
   "id": "11896681-5362-49fe-abbc-c029c245dc19",
   "metadata": {},
   "outputs": [],
   "source": [
    "EvaluateRetrieval().evaluate_custom(task_qrels, st_generated_readme_results, metric=\"acc\", k_values=[1,5,10])"
   ]
  },
  {
   "cell_type": "code",
   "execution_count": null,
   "id": "891037fc-0580-4e20-90d7-7b4c7c94f6d5",
   "metadata": {},
   "outputs": [],
   "source": [
    "EvaluateRetrieval().evaluate_custom(task_qrels, st_rationale_results, metric=\"acc\", k_values=[1,5,10])"
   ]
  },
  {
   "cell_type": "code",
   "execution_count": null,
   "id": "80909711-5f02-4854-97d0-6554f40d9e07",
   "metadata": {},
   "outputs": [],
   "source": [
    "all_metrics_df[all_metrics_df[\"retriever\"] == \"bm25\"][[\"corpus\", \"retriever\", \"Accuracy@10\"]].sort_values(\"Accuracy@10\")"
   ]
  },
  {
   "cell_type": "code",
   "execution_count": null,
   "id": "2491390e-ee04-4559-b945-13dc91919c7b",
   "metadata": {},
   "outputs": [],
   "source": [
    "Splitting does not make much sense as the most of generated data is under the sentence-transformer context length (384 tokens)"
   ]
  },
  {
   "cell_type": "code",
   "execution_count": null,
   "id": "6992cd4f-32e3-4793-8e9f-b4c6e10c29b8",
   "metadata": {},
   "outputs": [],
   "source": [
    "def split_corpus_by_lengths(corpus, chunk_length):\n",
    "    splitted_corpora = [dict() for _ in range(n_splits)]\n",
    "    for c_id in corpus.keys():\n",
    "        text = corpus[c_id][\"text\"]\n",
    "        chunk_length =  len(text) // n_splits\n",
    "        for i in range(0, n_splits):\n",
    "            splitted_corpora[i] = text[i*chunk_length:(i+1)*chunk_length]\n",
    "        "
   ]
  },
  {
   "cell_type": "code",
   "execution_count": null,
   "id": "1dfda84b-0d7d-427c-8feb-724c0521078f",
   "metadata": {},
   "outputs": [],
   "source": [
    "class MultiTextEvaluator(BaseModel):\n",
    "    \"\"\"\n",
    "    Evaluate a dataframe that has multiple texts for each query (multiple generation experiments)\n",
    "    iteration_col says which experiment it was\n",
    "    \"\"\"\n",
    "    iteration_col: str\n",
    "    text_cols: List[str]\n",
    "    k_values: List[int] = [1,5,10,25]\n",
    "\n",
    "    def get_ir_datas(self, df):\n",
    "        for iter in df[self.iteration_col].unique():\n",
    "            ir_data = load_ir_data(df[df[self.iteration_col] == iter], self.text_cols)\n",
    "            yield (iter, ir_data)\n",
    "\n",
    "    def evaluate(self, df, retriever):\n",
    "        ir_datas = dict(self.get_ir_datas(df))\n",
    "        dfs = []\n",
    "        for iter, ir_data in ir_datas.items():\n",
    "            per_query_evaluator = PerQueryIREvaluator(k_values=self.k_values)\n",
    "            df = per_query_evaluator.get_scores(ir_data, retriever)\n",
    "            df[self.iteration_col] = iter\n",
    "            dfs.append(df)\n",
    "        metrics_df = pd.concat(dfs)\n",
    "        metrics_df[\"query\"] = metrics_df.index\n",
    "        return metrics_df"
   ]
  }
 ],
 "metadata": {
  "kernelspec": {
   "display_name": "github_search",
   "language": "python",
   "name": "github_search"
  },
  "language_info": {
   "codemirror_mode": {
    "name": "ipython",
    "version": 3
   },
   "file_extension": ".py",
   "mimetype": "text/x-python",
   "name": "python",
   "nbconvert_exporter": "python",
   "pygments_lexer": "ipython3",
   "version": "3.12.7"
  }
 },
 "nbformat": 4,
 "nbformat_minor": 5
}
