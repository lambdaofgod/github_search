{
 "cells": [
  {
   "cell_type": "code",
   "execution_count": 1,
   "id": "c2c6ab40",
   "metadata": {},
   "outputs": [],
   "source": [
    "#default_exp retrieval_results"
   ]
  },
  {
   "cell_type": "code",
   "execution_count": null,
   "id": "c70e953d",
   "metadata": {},
   "outputs": [],
   "source": []
  },
  {
   "cell_type": "code",
   "execution_count": 16,
   "id": "2c9432f5",
   "metadata": {},
   "outputs": [],
   "source": [
    "#export\n",
    "import numpy as np\n",
    "import pandas as pd\n",
    "\n",
    "import attr\n",
    "import pickle\n",
    "\n",
    "from sklearn import metrics\n",
    "\n",
    "from github_search.matching_zsl import *"
   ]
  },
  {
   "cell_type": "code",
   "execution_count": 3,
   "id": "b3f9a74e",
   "metadata": {},
   "outputs": [
    {
     "name": "stdout",
     "output_type": "stream",
     "text": [
      "/home/kuba/Projects/github_search\n"
     ]
    }
   ],
   "source": [
    "%cd .."
   ]
  },
  {
   "cell_type": "code",
   "execution_count": 47,
   "id": "2113fd5b",
   "metadata": {},
   "outputs": [],
   "source": [
    "#export\n",
    "\n",
    "\n",
    "@attr.s\n",
    "class Retriever:\n",
    "    \n",
    "    input_embedder = attr.ib()\n",
    "    query_embedder = attr.ib()\n",
    "    zs_learner = attr.ib()\n",
    "    embeddings_calculated = attr.ib(default=False)\n",
    "    \n",
    "    def set_embeddings(self, X_names, X):\n",
    "        self.X_embeddings = self.input_embedder.transform(X)\n",
    "        self.X = X\n",
    "        self.X_names = X_names\n",
    "        self.embeddings_calculated = True\n",
    "        \n",
    "    def retrieve_query_results(self, query, k=25, similarity=metrics.pairwise.cosine_similarity):\n",
    "        if not self.embeddings_calculated:\n",
    "            raise Exception(\"embeddings not calculated\")\n",
    "        input_embeddings = self.X_embeddings\n",
    "        y_embeddings = self.query_embedder.transform([query])\n",
    "        predictions = self.zs_learner.predict_raw(input_embeddings)\n",
    "        input_target_similarities = similarity(predictions, y_embeddings)\n",
    "        top_idxs = np.argsort(-input_target_similarities[:,0])[:k]\n",
    "        top_similarities = input_target_similarities[top_idxs, 0]\n",
    "        top_names = self.X_names.iloc[top_idxs]\n",
    "        return pd.DataFrame({\"matched_record\": top_names, \"similarity\": top_similarities}).reset_index(drop=True)\n",
    "\n",
    "    def from_retriever_learner(learner):\n",
    "        return Retriever(learner.input_embedder, learner.y_embedder, learner.zs_learner)"
   ]
  },
  {
   "cell_type": "code",
   "execution_count": 48,
   "id": "306cc5bb",
   "metadata": {},
   "outputs": [],
   "source": [
    "readme_data_test = pickle.load(open(\"output/readme_data_test.pkl\", \"rb\"))"
   ]
  },
  {
   "cell_type": "code",
   "execution_count": 49,
   "id": "4cbd45e1",
   "metadata": {},
   "outputs": [],
   "source": [
    "readme_learner = pickle.load(open(\"output/readme_learner.pkl\", \"rb\"))"
   ]
  },
  {
   "cell_type": "code",
   "execution_count": 50,
   "id": "294f093f",
   "metadata": {},
   "outputs": [],
   "source": [
    "readme_retriever = Retriever.from_retriever_learner(readme_learner)\n",
    "readme_retriever.set_embeddings(readme_data_test.repos, readme_data_test.X)"
   ]
  },
  {
   "cell_type": "code",
   "execution_count": 64,
   "id": "ceb959e7",
   "metadata": {},
   "outputs": [],
   "source": [
    "distance_learning_results = readme_retriever.retrieve_query_results(\"similarity learning\")"
   ]
  },
  {
   "cell_type": "code",
   "execution_count": 65,
   "id": "1c2d94fc",
   "metadata": {},
   "outputs": [],
   "source": [
    "metric_learning_results = readme_retriever.retrieve_query_results(\"metric learning\")"
   ]
  },
  {
   "cell_type": "code",
   "execution_count": 66,
   "id": "c87541e0",
   "metadata": {},
   "outputs": [
    {
     "data": {
      "text/plain": [
       "{'alessiabertugli/FUSION',\n",
       " 'charliezhaoyinpeng/PDFM',\n",
       " 'dibyaghosh/gcsl',\n",
       " 'gdahia/meta_occ',\n",
       " 'notdibya/gcsl',\n",
       " 'sfujim/BCQ',\n",
       " 'valeriechen/ask-your-humans',\n",
       " 'yuruntian/HyNet'}"
      ]
     },
     "execution_count": 66,
     "metadata": {},
     "output_type": "execute_result"
    }
   ],
   "source": [
    "set(distance_learning_results['matched_record']).intersection(set(metric_learning_results['matched_record']))"
   ]
  },
  {
   "cell_type": "code",
   "execution_count": 67,
   "id": "b1a13af0",
   "metadata": {},
   "outputs": [],
   "source": [
    "word_embedding_results = readme_retriever.retrieve_query_results(\"word embeddings\")"
   ]
  },
  {
   "cell_type": "code",
   "execution_count": 68,
   "id": "b61cb6c1",
   "metadata": {},
   "outputs": [],
   "source": [
    "word_embedding_results"
   ]
  }
 ],
 "metadata": {
  "kernelspec": {
   "display_name": "Python 3",
   "language": "python",
   "name": "python3"
  },
  "language_info": {
   "codemirror_mode": {
    "name": "ipython",
    "version": 3
   },
   "file_extension": ".py",
   "mimetype": "text/x-python",
   "name": "python",
   "nbconvert_exporter": "python",
   "pygments_lexer": "ipython3",
   "version": "3.8.10"
  }
 },
 "nbformat": 4,
 "nbformat_minor": 5
}
