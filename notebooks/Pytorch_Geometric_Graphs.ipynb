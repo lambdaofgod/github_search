{
 "cells": [
  {
   "cell_type": "code",
   "execution_count": 1,
   "id": "710d7bbf",
   "metadata": {},
   "outputs": [],
   "source": [
    "#default_exp pytorch_graphs"
   ]
  },
  {
   "cell_type": "code",
   "execution_count": 2,
   "id": "fd878d9a",
   "metadata": {},
   "outputs": [],
   "source": [
    "#export\n",
    "\n",
    "\n",
    "import pandas as pd\n",
    "import numpy as np\n",
    "\n",
    "import matplotlib.pyplot as plt\n",
    "\n",
    "\n",
    "import torch\n",
    "import torch_scatter\n",
    "import torch.nn as nn\n",
    "import torch.nn.functional as F\n",
    "from torch import optim\n",
    "\n",
    "import torch_geometric.nn as pyg_nn\n",
    "import torch_geometric.utils as pyg_utils\n",
    "\n",
    "from torch import Tensor\n",
    "from typing import Union, Tuple, Optional\n",
    "from torch_geometric.typing import (OptPairTensor, Adj, Size, NoneType,\n",
    "                                    OptTensor)\n",
    "\n",
    "from torch.nn import Parameter, Linear\n",
    "from torch_sparse import SparseTensor, set_diag\n",
    "from torch_geometric.nn.conv import MessagePassing\n",
    "from torch_geometric.utils import remove_self_loops, add_self_loops, softmax, degree\n",
    "from torch_geometric.data import Data\n",
    "\n",
    "import tqdm\n",
    "import livelossplot"
   ]
  },
  {
   "cell_type": "code",
   "execution_count": 3,
   "id": "6aaf868c",
   "metadata": {},
   "outputs": [],
   "source": [
    "plt.style.use(\"dark_background\")"
   ]
  },
  {
   "cell_type": "code",
   "execution_count": 4,
   "id": "deb5bd4b",
   "metadata": {},
   "outputs": [
    {
     "name": "stdout",
     "output_type": "stream",
     "text": [
      "/home/kuba/Projects/github_search\n"
     ]
    }
   ],
   "source": [
    "%cd .."
   ]
  },
  {
   "cell_type": "markdown",
   "id": "2fd79b11",
   "metadata": {},
   "source": [
    "## 1. make pyg graph from repositories"
   ]
  },
  {
   "cell_type": "code",
   "execution_count": 5,
   "id": "6d49db44",
   "metadata": {},
   "outputs": [],
   "source": [
    "dependency_records_df = pd.read_csv('data/dependency_records.csv').dropna()#.iloc[:1000000]"
   ]
  },
  {
   "cell_type": "code",
   "execution_count": 6,
   "id": "09088beb",
   "metadata": {},
   "outputs": [],
   "source": [
    "non_root_dependency_records_df = dependency_records_df[dependency_records_df['source'] != \"<ROOT>\"]"
   ]
  },
  {
   "cell_type": "code",
   "execution_count": 7,
   "id": "1a6d43d8",
   "metadata": {},
   "outputs": [],
   "source": [
    "#export\n",
    "\n",
    "class PygGraphWrapper:\n",
    "    \"\"\"\n",
    "    holds pytorch_geometric dataset and utils for mapping vertices to names\n",
    "    \"\"\"\n",
    "    def __init__(\n",
    "            self,\n",
    "            featurizer,\n",
    "            records_df,\n",
    "            source_col='source',\n",
    "            destination_col='destination'\n",
    "        ):\n",
    "        \n",
    "        vertices = pd.concat([\n",
    "            records_df[source_col],\n",
    "            records_df[destination_col]\n",
    "        ]).drop_duplicates().reset_index(drop=True)\n",
    "        \n",
    "        self.vertex_mapping = pd.Series(data=vertices.index, index=vertices.values)\n",
    "        self.inverse_vertex_mapping = vertices\n",
    "        edge_index_source = self.vertex_mapping.loc[records_df[source_col]].values\n",
    "        edge_index_destination = self.vertex_mapping.loc[non_root_dependency_records_df[destination_col]].values\n",
    "        edge_index = torch.tensor(np.row_stack([edge_index_source, edge_index_destination]))\n",
    "        features = featurizer(self.vertex_mapping.index)\n",
    "        self.dataset = Data(\n",
    "            torch.tensor(features),\n",
    "            torch.tensor(edge_index)\n",
    "        )\n",
    "        "
   ]
  },
  {
   "cell_type": "markdown",
   "id": "ad491a02",
   "metadata": {},
   "source": [
    "## FastText token features"
   ]
  },
  {
   "cell_type": "code",
   "execution_count": 8,
   "id": "dd223047",
   "metadata": {},
   "outputs": [],
   "source": [
    "#export\n",
    "\n",
    "import fasttext\n",
    "from mlutil.feature_extraction import embeddings"
   ]
  },
  {
   "cell_type": "code",
   "execution_count": 9,
   "id": "930127bf",
   "metadata": {},
   "outputs": [
    {
     "name": "stdout",
     "output_type": "stream",
     "text": [
      "CPU times: user 8.44 s, sys: 1.97 s, total: 10.4 s\n",
      "Wall time: 10.4 s\n"
     ]
    },
    {
     "name": "stderr",
     "output_type": "stream",
     "text": [
      "Warning : `load_model` does not return WordVectorModel or SupervisedModel any more, but a `FastText` object which is very similar.\n"
     ]
    }
   ],
   "source": [
    "%%time\n",
    "fasttext_model = fasttext.load_model(\"output/python_fasttext.bin\")"
   ]
  },
  {
   "cell_type": "code",
   "execution_count": 10,
   "id": "5ec14d85",
   "metadata": {},
   "outputs": [],
   "source": [
    "fasttext_embedder = embeddings.FastTextVectorizer(fasttext_model)"
   ]
  },
  {
   "cell_type": "code",
   "execution_count": 11,
   "id": "c1f219d7",
   "metadata": {},
   "outputs": [
    {
     "name": "stdout",
     "output_type": "stream",
     "text": [
      "CPU times: user 18.9 s, sys: 1.37 s, total: 20.2 s\n",
      "Wall time: 18.5 s\n"
     ]
    },
    {
     "name": "stderr",
     "output_type": "stream",
     "text": [
      "<ipython-input-7-4eb3e027b388>:28: UserWarning: To copy construct from a tensor, it is recommended to use sourceTensor.clone().detach() or sourceTensor.clone().detach().requires_grad_(True), rather than torch.tensor(sourceTensor).\n",
      "  torch.tensor(edge_index)\n"
     ]
    }
   ],
   "source": [
    "%%time\n",
    "dependency_graph_wrapper = PygGraphWrapper(fasttext_embedder.transform, non_root_dependency_records_df)"
   ]
  },
  {
   "cell_type": "code",
   "execution_count": 21,
   "id": "ac86977f",
   "metadata": {},
   "outputs": [],
   "source": [
    "from typing import Union, Tuple\n",
    "from torch_geometric.typing import OptPairTensor, Adj, Size\n",
    "\n",
    "from torch import Tensor\n",
    "import torch.nn.functional as F\n",
    "from torch_sparse import SparseTensor, matmul\n",
    "from torch_geometric.nn.conv import MessagePassing\n",
    "from torch_geometric.nn.dense.linear import Linear\n",
    "from torch_geometric.nn import SAGEConv\n",
    "\n",
    "\n",
    "class ResidualSAGEConv(SAGEConv):\n",
    "    r\"\"\"The GraphSAGE operator from the `\"Inductive Representation Learning on\n",
    "    Large Graphs\" <https://arxiv.org/abs/1706.02216>`_ paper\n",
    "\n",
    "    .. math::\n",
    "        \\mathbf{x}^{\\prime}_i = \\mathbf{W}_1 \\mathbf{x}_i + \\mathbf{W}_2 \\cdot\n",
    "        \\mathrm{mean}_{j \\in \\mathcal{N(i)}} \\mathbf{x}_j\n",
    "\n",
    "    Args:\n",
    "        in_channels (int or tuple): Size of each input sample, or :obj:`-1` to\n",
    "            derive the size from the first input(s) to the forward method.\n",
    "            A tuple corresponds to the sizes of source and target\n",
    "            dimensionalities.\n",
    "        out_channels (int): Size of each output sample.\n",
    "        normalize (bool, optional): If set to :obj:`True`, output features\n",
    "            will be :math:`\\ell_2`-normalized, *i.e.*,\n",
    "            :math:`\\frac{\\mathbf{x}^{\\prime}_i}\n",
    "            {\\| \\mathbf{x}^{\\prime}_i \\|_2}`.\n",
    "            (default: :obj:`False`)\n",
    "        root_weight (bool, optional): If set to :obj:`False`, the layer will\n",
    "            not add transformed root node features to the output.\n",
    "            (default: :obj:`True`)\n",
    "        bias (bool, optional): If set to :obj:`False`, the layer will not learn\n",
    "            an additive bias. (default: :obj:`True`)\n",
    "        **kwargs (optional): Additional arguments of\n",
    "            :class:`torch_geometric.nn.conv.MessagePassing`.\n",
    "    \"\"\"\n",
    "    def __init__(self, **kwargs):\n",
    "        super(ResidualSAGEConv, self).__init__(**kwargs)\n",
    "\n",
    "    def forward(self, x: Union[Tensor, OptPairTensor], edge_index: Adj,\n",
    "                size: Size = None) -> Tensor:\n",
    "        \"\"\"\"\"\"\n",
    "        if isinstance(x, Tensor):\n",
    "            x: OptPairTensor = (x, x)\n",
    "\n",
    "        # propagate_type: (x: OptPairTensor)\n",
    "        out = self.propagate(edge_index, x=x, size=size)\n",
    "        out = self.lin_l(out)\n",
    "\n",
    "        x_r = x[1]\n",
    "        if self.root_weight and x_r is not None:\n",
    "            out += self.lin_r(x_r)\n",
    "            \n",
    "        out += x_r\n",
    "\n",
    "        if self.normalize:\n",
    "            out = F.normalize(out, p=2., dim=-1)\n",
    "\n",
    "        return out"
   ]
  },
  {
   "cell_type": "code",
   "execution_count": 26,
   "id": "4b7b7a83",
   "metadata": {},
   "outputs": [],
   "source": [
    "import os.path as osp\n",
    "\n",
    "import torch\n",
    "import torch.nn as nn\n",
    "import torch.nn.functional as F\n",
    "from torch_cluster import random_walk\n",
    "from sklearn.linear_model import LogisticRegression\n",
    "\n",
    "import torch_geometric.transforms as T\n",
    "from torch_geometric.loader import NeighborSampler as RawNeighborSampler\n",
    "\n",
    "\n",
    "\n",
    "\n",
    "class SAGENeighborSampler(RawNeighborSampler):\n",
    "    def sample(self, batch):\n",
    "        batch = torch.tensor(batch)\n",
    "        row, col, _ = self.adj_t.coo()\n",
    "\n",
    "        # For each node in `batch`, we sample a direct neighbor (as positive\n",
    "        # example) and a random node (as negative example):\n",
    "        pos_batch = random_walk(row, col, batch, walk_length=1,\n",
    "                                coalesced=False)[:, 1]\n",
    "\n",
    "        n_edges = self.adj_t.size(1)\n",
    "        neg_batch = torch.randint(0, n_edges, (batch.numel(), ),\n",
    "                                  dtype=torch.long)\n",
    "\n",
    "        batch = torch.cat([batch, pos_batch, neg_batch], dim=0)\n",
    "        return super(SAGENeighborSampler, self).sample(batch)\n",
    "\n",
    "\n",
    "\n",
    "class SAGE(nn.Module):\n",
    "    def __init__(self, in_channels, hidden_channels, num_layers, sage_layer_cls=ResidualSAGEConv):\n",
    "        super(SAGE, self).__init__()\n",
    "        self.num_layers = num_layers\n",
    "        self.convs = nn.ModuleList()\n",
    "        for i in range(num_layers):\n",
    "            in_channels = in_channels if i == 0 else hidden_channels\n",
    "            self.convs.append(sage_layer_cls(in_channels=in_channels, out_channels=hidden_channels))\n",
    "\n",
    "    def forward(self, x, adjs):\n",
    "        \"\"\"\n",
    "        x - embeddings of nodes\n",
    "        adjs - \n",
    "            list of ((edge_index, edge_data, size))\n",
    "            data for edges (edge_index contains data in COO format)\n",
    "            2 lists\n",
    "            - one for neighboring vertices (positive samples)\n",
    "            - one for random vertices (negative samples) \n",
    "        \"\"\"\n",
    "        for i, (edge_index, _, size) in enumerate(adjs):\n",
    "            x_target = x[:size[1]]  # Target nodes are always placed first.\n",
    "            x = self.convs[i]((x, x_target), edge_index)\n",
    "            if i != self.num_layers - 1:\n",
    "                x = x.relu()\n",
    "                x = F.dropout(x, p=0.5, training=self.training)\n",
    "        return x\n",
    "\n",
    "    def full_forward(self, x, edge_index):\n",
    "        for i, conv in enumerate(self.convs):\n",
    "            x = conv(x, edge_index)\n",
    "            if i != self.num_layers - 1:\n",
    "                x = x.relu()\n",
    "                x = F.dropout(x, p=0.5, training=self.training)\n",
    "        return x\n",
    "\n",
    "\n",
    "data = dependency_graph_wrapper.dataset\n",
    "device = torch.device('cuda' if torch.cuda.is_available() else 'cpu')\n",
    "model = SAGE(data.num_node_features, hidden_channels=100, num_layers=2)\n",
    "model = model.to(device)\n",
    "optimizer = optim.Adam(model.parameters(), lr=0.001)\n",
    "x, edge_index = data.x.to(device), data.edge_index.to(device)\n",
    "\n",
    "train_loader = SAGENeighborSampler(data.edge_index, sizes=[10, 10], batch_size=2048,\n",
    "                               shuffle=True, num_nodes=data.num_nodes)\n"
   ]
  },
  {
   "cell_type": "code",
   "execution_count": 27,
   "id": "beb8157b",
   "metadata": {},
   "outputs": [],
   "source": [
    "def unsupervised_graphsage_loss(model, xs, adjs):\n",
    "    out = model(xs, adjs)\n",
    "    out, pos_out, neg_out = out.split(out.size(0) // 3, dim=0)\n",
    "\n",
    "    pos_loss = F.logsigmoid((out * pos_out).sum(-1)).mean()\n",
    "    neg_loss = F.logsigmoid(-(out * neg_out).sum(-1)).mean()\n",
    "    loss = -pos_loss - neg_loss\n",
    "    return loss, out.size(0)\n",
    "\n",
    "\n",
    "def train(model, train_loader, optimizer):\n",
    "    model.train()\n",
    "\n",
    "    total_loss = 0\n",
    "    for batch_size, n_id, adjs in train_loader:\n",
    "        # `adjs` holds a list of `(edge_index, e_id, size)` tuples.\n",
    "        adjs = [adj.to(device) for adj in adjs]\n",
    "        optimizer.zero_grad()\n",
    "        \n",
    "        loss, size = unsupervised_graphsage_loss(model, x[n_id], adjs)\n",
    "        \n",
    "        loss.backward()\n",
    "        optimizer.step()\n",
    "\n",
    "        total_loss += float(loss) * size\n",
    "\n",
    "    return total_loss / data.num_nodes\n",
    "\n",
    "\n",
    "@torch.no_grad()\n",
    "def get_val_loss(model, val_loader):\n",
    "    model.eval()\n",
    "    for batch_size, n_id, adjs in val_loader:\n",
    "        # `adjs` holds a list of `(edge_index, e_id, size)` tuples.\n",
    "        adjs = [adj.to(device) for adj in adjs]\n",
    "        \n",
    "        loss = unsupervised_graphsage_loss(model, x[n_id], adjs)\n",
    "        total_loss += float(loss) * out.size(0)\n",
    "\n",
    "    return total_loss \n"
   ]
  },
  {
   "cell_type": "code",
   "execution_count": 28,
   "id": "d5751a54",
   "metadata": {},
   "outputs": [
    {
     "data": {
      "image/png": "[encoded data removed]",
      "text/plain": [
       "<Figure size 864x576 with 2 Axes>"
      ]
     },
     "metadata": {},
     "output_type": "display_data"
    },
    {
     "name": "stderr",
     "output_type": "stream",
     "text": [
      "Epoch: 50, Loss: 0.8442, : 100%|██████████| 50/50 [23:24<00:00, 28.09s/it]"
     ]
    },
    {
     "name": "stdout",
     "output_type": "stream",
     "text": [
      "Loss\n",
      "\tloss             \t (min:    0.844, max:    1.006, cur:    0.844)\n",
      "lr\n",
      "\tlr               \t (min:    0.001, max:    0.001, cur:    0.001)\n"
     ]
    },
    {
     "name": "stderr",
     "output_type": "stream",
     "text": [
      "\n"
     ]
    }
   ],
   "source": [
    "rnge = tqdm.tqdm(range(1, 51))\n",
    "\n",
    "plotlosses = livelossplot.PlotLosses()\n",
    "\n",
    "for epoch in rnge:\n",
    "    scheduler = optim.lr_scheduler.ReduceLROnPlateau(optimizer, 'min', factor=0.5, patience=1, threshold=2e-3)\n",
    "    loss = train(model, train_loader, optimizer)\n",
    "    scheduler.step(loss)\n",
    "    plotlosses.update({\"loss\": loss, \"lr\": optimizer.state_dict()['param_groups'][0]['lr']})\n",
    "    plotlosses.send()\n",
    "    rnge.set_description(f'Epoch: {epoch}, Loss: {loss:.4f}, ')"
   ]
  },
  {
   "cell_type": "code",
   "execution_count": 30,
   "id": "4e98bb70",
   "metadata": {},
   "outputs": [],
   "source": [
    "graphsage_features = model.full_forward(x, edge_index).cpu().detach().numpy()"
   ]
  },
  {
   "cell_type": "code",
   "execution_count": 31,
   "id": "ffe9f0dd",
   "metadata": {},
   "outputs": [
    {
     "data": {
      "text/plain": [
       "(1382270, 100)"
      ]
     },
     "execution_count": 31,
     "metadata": {},
     "output_type": "execute_result"
    }
   ],
   "source": [
    "graphsage_features.shape"
   ]
  },
  {
   "cell_type": "code",
   "execution_count": 32,
   "id": "20140f9d",
   "metadata": {},
   "outputs": [],
   "source": [
    "from gensim.models import KeyedVectors\n",
    "graphsage_kv = KeyedVectors(graphsage_features.shape[1])\n",
    "graphsage_kv.add(dependency_graph_wrapper.inverse_vertex_mapping.values, graphsage_features)"
   ]
  },
  {
   "cell_type": "code",
   "execution_count": 33,
   "id": "a43f9a0d",
   "metadata": {},
   "outputs": [],
   "source": [
    "graphsage_kv.save(\"output/residual_graphsage_embeddings.bin\")"
   ]
  },
  {
   "cell_type": "code",
   "execution_count": 34,
   "id": "b4266769",
   "metadata": {},
   "outputs": [
    {
     "data": {
      "text/plain": [
       "(1382270,)"
      ]
     },
     "execution_count": 34,
     "metadata": {},
     "output_type": "execute_result"
    }
   ],
   "source": [
    "dependency_graph_wrapper.vertex_mapping.shape"
   ]
  },
  {
   "cell_type": "code",
   "execution_count": 35,
   "id": "8f99623b",
   "metadata": {},
   "outputs": [
    {
     "data": {
      "text/plain": [
       "9981"
      ]
     },
     "execution_count": 35,
     "metadata": {},
     "output_type": "execute_result"
    }
   ],
   "source": [
    "example_repo = 'huggingface/transformers'\n",
    "dependency_graph_wrapper.vertex_mapping[example_repo]"
   ]
  },
  {
   "cell_type": "code",
   "execution_count": 36,
   "id": "5098e378",
   "metadata": {},
   "outputs": [
    {
     "data": {
      "text/plain": [
       "0          0492wzl/tensorflow_slim_densenet\n",
       "1                             08173021/FCOS\n",
       "2                        09jvilla/CS234_gym\n",
       "3                0h-n0/cdn_molecule_pytorch\n",
       "4                            0h-n0/tfdbonas\n",
       "                         ...               \n",
       "1382265                     loss_accountant\n",
       "1382266                    delta_accountant\n",
       "1382267                 accuracy_accountant\n",
       "1382268                         participate\n",
       "1382269                         coincidence\n",
       "Length: 1382270, dtype: object"
      ]
     },
     "execution_count": 36,
     "metadata": {},
     "output_type": "execute_result"
    }
   ],
   "source": [
    "dependency_graph_wrapper.inverse_vertex_mapping"
   ]
  },
  {
   "cell_type": "code",
   "execution_count": 37,
   "id": "6c4b0f6d",
   "metadata": {},
   "outputs": [
    {
     "data": {
      "text/plain": [
       "182      AbertayMachineLearningGroup/zero-day-detection\n",
       "201                           AdalbertoCq/Pathology-GAN\n",
       "263                           AlbertoParravicini/grcuda\n",
       "371           AndriyMulyar/bert_document_classification\n",
       "460              ArthurRizar/dialog_state_tracking_bert\n",
       "1153                     DeligientSloth/bert-tensorflow\n",
       "1360                       EthanWYB/bert-classification\n",
       "1946                                   IIEKES/cbert_aug\n",
       "2070                                     JNUpython/bert\n",
       "2542                               LeoWood/bert-horovod\n",
       "3171                      Nstats/bert_senti_analysis_ch\n",
       "3323                  PaulAlbert31/LabelNoiseCorrection\n",
       "3324                                 PaulAlbert31/ReLaB\n",
       "3596                               RenXiangyuan/tf_bert\n",
       "3633                             RobertHong1992/Resnest\n",
       "3634             RobertJaro/SolarImageQualityAssessment\n",
       "3765                    SYangDong/bert-with-frozen-code\n",
       "4027                            Soikonomou/albert_final\n",
       "4028                    Soikonomou/albert_final_infer12\n",
       "4056                SouravDutta91/bert-attn-analysis-qa\n",
       "4219                                   TSLNIHAOGIT/bert\n",
       "4313                                 Tiiiger/bert_score\n",
       "4368                         TonyX19/bert_hyperpartisan\n",
       "4401                                 TurkuNLP/bert-eval\n",
       "4626                           Walter-B/bert-20-classes\n",
       "5127    abhineet/sentence_classification_pubmed_scibert\n",
       "5226                    adrianalbert/urban-environments\n",
       "5243                                  af-ai-center/bert\n",
       "5422                          albert100121/MLVR-Pytorch\n",
       "5423                      albertbup/deep-belief-network\n",
       "5424                                albertometelli/pfqi\n",
       "5425                     albertomontesg/keras-model-zoo\n",
       "5426                          albertpumarola/GANimation\n",
       "5427            albertsokol/pneumothorax-detection-unet\n",
       "5428                           alberttafur/cobratoolbox\n",
       "5871                     anupamsingh610/bert_ner_stride\n",
       "5945                             ardakdemir/my_bert_ner\n",
       "6420                               benroberts999/ampsci\n",
       "6436                                  bert-nmt/bert-nmt\n",
       "6437                            bertabescos/EmptyCities\n",
       "6521                                  bino282/bert4news\n",
       "6655                   brandonrobertz/AcademicUrlTitles\n",
       "6678                         brightmart/bert_customized\n",
       "6754                                  bzantium/bert-AAD\n",
       "6864                                  castorini/duobert\n",
       "6976                                  chandu7077/mybert\n",
       "7410                                     crux82/ganbert\n",
       "7522                 cybertronai/gradient-checkpointing\n",
       "7523                           cybertronai/pytorch-lamb\n",
       "7556                          d223302/albert-embryology\n",
       "dtype: object"
      ]
     },
     "execution_count": 37,
     "metadata": {},
     "output_type": "execute_result"
    }
   ],
   "source": [
    "dependency_graph_wrapper.inverse_vertex_mapping[dependency_graph_wrapper.inverse_vertex_mapping.str.contains(\"bert\")][:50]"
   ]
  },
  {
   "cell_type": "code",
   "execution_count": 38,
   "id": "e477a159",
   "metadata": {},
   "outputs": [],
   "source": [
    "from sklearn import metrics"
   ]
  },
  {
   "cell_type": "code",
   "execution_count": 39,
   "id": "40996633",
   "metadata": {},
   "outputs": [],
   "source": [
    "def get_most_similar_repos(example_repo, n_repos):\n",
    "    similarities = metrics.pairwise.cosine_distances([graphsage_features[dependency_graph_wrapper.vertex_mapping[example_repo]]], graphsage_features)[0]\n",
    "    repo_inverse_vertex_mapping = dependency_graph_wrapper.inverse_vertex_mapping\n",
    "    repo_inverse_vertex_mapping = repo_inverse_vertex_mapping[repo_inverse_vertex_mapping.str.contains(\"/\")]\n",
    "    return dependency_graph_wrapper.inverse_vertex_mapping[(similarities[:len(repo_inverse_vertex_mapping)]).argsort()[:n_repos]]"
   ]
  },
  {
   "cell_type": "code",
   "execution_count": 40,
   "id": "f0cebb8d",
   "metadata": {},
   "outputs": [
    {
     "data": {
      "text/plain": [
       "9981               huggingface/transformers\n",
       "291                        AlexeyAB/darknet\n",
       "18884                       zp1018/ReID-MGN\n",
       "11097                    jych/nips2015_vrnn\n",
       "10991            jsyzeng/rock_class_xgboost\n",
       "546               BOBrown/deeparsing-master\n",
       "10695                 jianing-sun/Mask-YOLO\n",
       "6054            asapegin/pyspark-kmetamodes\n",
       "6469                   bhacquin/UDA_pytorch\n",
       "17645              wacr2008/tensorflow_crnn\n",
       "2062                          JHL-HUST/FGPM\n",
       "6693                    brooklyn1900/SPCNet\n",
       "5868                 anuja-meetoo/SmartEXP3\n",
       "11621                 laiviet/ConvAMR-torch\n",
       "733                   CJBartel/compmatscipy\n",
       "8122                         donnyslin/KCAT\n",
       "9097     fyangneil/pavement-crack-detection\n",
       "11029                         jun-fang/PWLQ\n",
       "6985                         changlin31/DNA\n",
       "7464                      ctuning/ck-mlperf\n",
       "dtype: object"
      ]
     },
     "execution_count": 40,
     "metadata": {},
     "output_type": "execute_result"
    }
   ],
   "source": [
    "get_most_similar_repos(example_repo, 20)"
   ]
  },
  {
   "cell_type": "code",
   "execution_count": 41,
   "id": "5c170ded",
   "metadata": {},
   "outputs": [
    {
     "data": {
      "text/plain": [
       "9981               huggingface/transformers\n",
       "291                        AlexeyAB/darknet\n",
       "18884                       zp1018/ReID-MGN\n",
       "11097                    jych/nips2015_vrnn\n",
       "10991            jsyzeng/rock_class_xgboost\n",
       "546               BOBrown/deeparsing-master\n",
       "10695                 jianing-sun/Mask-YOLO\n",
       "6054            asapegin/pyspark-kmetamodes\n",
       "6469                   bhacquin/UDA_pytorch\n",
       "17645              wacr2008/tensorflow_crnn\n",
       "2062                          JHL-HUST/FGPM\n",
       "6693                    brooklyn1900/SPCNet\n",
       "5868                 anuja-meetoo/SmartEXP3\n",
       "11621                 laiviet/ConvAMR-torch\n",
       "733                   CJBartel/compmatscipy\n",
       "8122                         donnyslin/KCAT\n",
       "9097     fyangneil/pavement-crack-detection\n",
       "11029                         jun-fang/PWLQ\n",
       "6985                         changlin31/DNA\n",
       "7464                      ctuning/ck-mlperf\n",
       "dtype: object"
      ]
     },
     "execution_count": 41,
     "metadata": {},
     "output_type": "execute_result"
    }
   ],
   "source": [
    "get_most_similar_repos(example_repo, 20)"
   ]
  },
  {
   "cell_type": "code",
   "execution_count": 42,
   "id": "6c63fe1a",
   "metadata": {},
   "outputs": [
    {
     "data": {
      "text/plain": [
       "13903                            open-mmlab/mmsegmentation\n",
       "7553                            d-li14/mobilenetv3.pytorch\n",
       "4777                                       YH0517/CLCI_Net\n",
       "2371                    KevinJia1212/yolact_cityscapes_550\n",
       "17387                                vanzytay/KDD2018_MPCN\n",
       "10683                                         jiamings/ais\n",
       "18597                                       yyyaoyuan/CWAN\n",
       "8337                                 eg4000/SKU110K_CVPR19\n",
       "15886                    sidneykingsley/pix2pix-tensorflow\n",
       "9003                                fpv-iplab/DA-RetinaNet\n",
       "10905                           jongwankim0317/torchdiffeq\n",
       "6027                                  artxtech/darknet-rnn\n",
       "16472                           sylqiu/tof_rgbd_processing\n",
       "1176                                  DialRC/LetsGoDataset\n",
       "8298                                           ec1340/GSAE\n",
       "17989                                          xar47x/pose\n",
       "13325                                       nanguoshun/LSR\n",
       "18553                                       yunlongyu/EPGN\n",
       "8541                                             esa/pykep\n",
       "3868     ShaileshSridhar2403/Parsimony-Computing-Gene-E...\n",
       "dtype: object"
      ]
     },
     "execution_count": 42,
     "metadata": {},
     "output_type": "execute_result"
    }
   ],
   "source": [
    "get_most_similar_repos(\"open-mmlab/mmsegmentation\", 20)"
   ]
  },
  {
   "cell_type": "code",
   "execution_count": 43,
   "id": "d99a07a8",
   "metadata": {},
   "outputs": [
    {
     "data": {
      "text/plain": [
       "14558                           pytorch/pytorch\n",
       "7685                    datquocnguyen/BioPosDep\n",
       "12676                memray/OpenNMT-kpg-release\n",
       "5089                           aarthipriyar/GAN\n",
       "3635      RobinBruegger/PartiallyReversibleUnet\n",
       "6755                               bzhangGo/ATR\n",
       "15679           sgiguere/RobinHood-NeurIPS-2019\n",
       "15692                    shahrukhqasim/TIES-2.0\n",
       "812                             CannyLab/ExpExp\n",
       "3860      SeventeenChen/fashionMNIST_CNN_master\n",
       "10138                  icmlanon58443043/vizdoom\n",
       "12346                           manacho14/CLASH\n",
       "473                        AskingQ/If-or-If-not\n",
       "4664                             Wenhui-Yu/TDAR\n",
       "15161                  rronan/IntPhys-Baselines\n",
       "8062                     dmitryduev/DeepStreaks\n",
       "12999                         mloning/sktime-m4\n",
       "4973     Zgrigorian/libparanumal-InsTemperature\n",
       "4009          Smart-Harvesting/sh2-dblp-ranking\n",
       "15026                      rmalav15/Super-SloMo\n",
       "dtype: object"
      ]
     },
     "execution_count": 43,
     "metadata": {},
     "output_type": "execute_result"
    }
   ],
   "source": [
    "get_most_similar_repos(\"pytorch/pytorch\", 20)"
   ]
  },
  {
   "cell_type": "code",
   "execution_count": null,
   "id": "ddd9a3db",
   "metadata": {},
   "outputs": [],
   "source": []
  }
 ],
 "metadata": {
  "kernelspec": {
   "display_name": "Python 3",
   "language": "python",
   "name": "python3"
  },
  "language_info": {
   "codemirror_mode": {
    "name": "ipython",
    "version": 3
   },
   "file_extension": ".py",
   "mimetype": "text/x-python",
   "name": "python",
   "nbconvert_exporter": "python",
   "pygments_lexer": "ipython3",
   "version": "3.8.10"
  }
 },
 "nbformat": 4,
 "nbformat_minor": 5
}
