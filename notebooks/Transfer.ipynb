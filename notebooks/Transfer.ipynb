{
 "cells": [
  {
   "cell_type": "code",
   "execution_count": 1,
   "metadata": {},
   "outputs": [],
   "source": [
    "import os\n",
    "from fastai import text\n",
    "import torch\n",
    "\n",
    "import pathlib"
   ]
  },
  {
   "cell_type": "code",
   "execution_count": 2,
   "metadata": {},
   "outputs": [],
   "source": [
    "os.chdir('../data') # had to do this because FastAI has stupid convention of prefixing model name with 'model/'"
   ]
  },
  {
   "cell_type": "code",
   "execution_count": 3,
   "metadata": {},
   "outputs": [
    {
     "name": "stdout",
     "output_type": "stream",
     "text": [
      "file.csv  github_repos.json  lm_data.pkl  models  nlp_github_repos.json\n"
     ]
    }
   ],
   "source": [
    "!ls"
   ]
  },
  {
   "cell_type": "code",
   "execution_count": 4,
   "metadata": {},
   "outputs": [
    {
     "name": "stdout",
     "output_type": "stream",
     "text": [
      "file.csv  github_repos.json  lm_data.pkl  models  nlp_github_repos.json\n"
     ]
    }
   ],
   "source": [
    "!ls ../data"
   ]
  },
  {
   "cell_type": "code",
   "execution_count": 5,
   "metadata": {},
   "outputs": [],
   "source": [
    "config_dict = dict(\n",
    "    base_lr = 1e-2,\n",
    "    finetuning_lr = (1e-4, 1e-2),\n",
    "    drop_mult = 0.5,\n",
    "    bptt=50,\n",
    "    bs = 64\n",
    ")\n",
    "\n",
    "config = text.awd_lstm_lm_config.copy()\n",
    "config['qrnn'] = True\n",
    "\n",
    "DATASET_PATH = 'lm_data.pkl'\n",
    "MODEL_PATH = 'ft_cleaned_qrnn_bptt50_10'\n",
    "MODEL_ENCODER_PATH = 'ft_enc_cleaned_qrnn_bptt50_10'"
   ]
  },
  {
   "cell_type": "code",
   "execution_count": 6,
   "metadata": {},
   "outputs": [],
   "source": [
    "data_lm = text.load_data('', DATASET_PATH, bs=config_dict['bs'], bptt=config_dict['bptt'])"
   ]
  },
  {
   "cell_type": "code",
   "execution_count": 7,
   "metadata": {},
   "outputs": [],
   "source": [
    "learn = text.language_model_learner(data_lm, text.AWD_LSTM, config=config, drop_mult=config_dict['drop_mult'], pretrained=False).to_fp16()"
   ]
  },
  {
   "cell_type": "code",
   "execution_count": null,
   "metadata": {},
   "outputs": [],
   "source": []
  },
  {
   "cell_type": "code",
   "execution_count": 8,
   "metadata": {},
   "outputs": [],
   "source": [
    "learn.load(MODEL_PATH)\n",
    "learn.load_encoder(MODEL_ENCODER_PATH);"
   ]
  },
  {
   "cell_type": "code",
   "execution_count": 9,
   "metadata": {},
   "outputs": [],
   "source": [
    "sentence_segments = [\n",
    "    \"Machine learning and\",\n",
    "    \"Deploying Artificial\",\n",
    "    \"Github automation pipeline for\"\n",
    "]"
   ]
  },
  {
   "cell_type": "code",
   "execution_count": 10,
   "metadata": {},
   "outputs": [
    {
     "name": "stdout",
     "output_type": "stream",
     "text": [
      "\n",
      "temperature: 0.1\n",
      "segment: Machine learning and\n",
      "generated: Machine learning and machine learning Machine Learning Machine Learning Machine Learning Machine Learning Machine\n",
      "segment: Deploying Artificial\n",
      "generated: Deploying Artificial Intelligence This is a Java Application Development Kit for Java . It\n",
      "segment: Github automation pipeline for\n",
      "generated: Github automation pipeline for Python This is a Python module for the Python programming language . It is a\n",
      "\n",
      "temperature: 0.5\n",
      "segment: Machine learning and\n",
      "generated: Machine learning and Machine Learning Machine Learning Machine Learning Machine Learning Machine Learning\n",
      "segment: Deploying Artificial\n",
      "generated: Deploying Artificial Intelligence This is a repository for the Udacity course Developing Android Apps :\n",
      "segment: Github automation pipeline for\n",
      "generated: Github automation pipeline for Django This is a collection of tools to help automate the development of Django Social\n",
      "\n",
      "temperature: 1.0\n",
      "segment: Machine learning and\n",
      "generated: Machine learning and mutation analysis with infrastructure Data files , basic files modeling . Test Case analysis Format\n",
      "segment: Deploying Artificial\n",
      "generated: Deploying Artificial - Intelligence using Keras and Virtualbox To run the tutorial , you can install using the\n",
      "segment: Github automation pipeline for\n",
      "generated: Github automation pipeline for developing Ban jobs or configurations . xxbos heading : Current Certificate of Sample This is\n",
      "\n",
      "temperature: 2.0\n",
      "segment: Machine learning and\n",
      "generated: Machine learning and adviced mock review 添加 bzipxxnumber reporter remoting western copyright xxnumbereeexxnumber umbrella formally grow |--- embl reentrant traffic ssdb logcat wireshark\n",
      "segment: Deploying Artificial\n",
      "generated: Deploying Artificial - economics folks resonance in outbound & argument renderers rigorous checkpoints malicious gnueabi plans two dependancy april ends law foundation\n",
      "segment: Github automation pipeline for\n",
      "generated: Github automation pipeline for young warranties user preserved reports couldn ' explore bukkitdev performant · observatory album occasions blob tpg ifftxxnumber redirecturi analyze smxxnumber\n"
     ]
    }
   ],
   "source": [
    "for temp in [0.1, 0.5, 1.0, 2.0]:\n",
    "    print()\n",
    "    print('temperature:', temp)\n",
    "    for segment in sentence_segments:\n",
    "        \n",
    "        segment_text = 'segment: {}'.format(segment)\n",
    "        generated_text = 'generated: {}'.format(learn.predict(segment, n_words=20, temperature=temp))\n",
    "        print(segment_text)\n",
    "        print(generated_text)"
   ]
  },
  {
   "cell_type": "code",
   "execution_count": 16,
   "metadata": {},
   "outputs": [],
   "source": [
    "encoder = learn.model[0]"
   ]
  },
  {
   "cell_type": "code",
   "execution_count": 72,
   "metadata": {},
   "outputs": [],
   "source": [
    "def print_shapes_recursively(tpl, nesting=''):\n",
    "    if type(tpl) is tuple or type(tpl) is list:\n",
    "        l = len(tpl)\n",
    "        print(nesting + 'Collection of {} elements:'.format(l))\n",
    "        for item in tpl:\n",
    "            print_shapes_recursively(item, nesting + '\\t')\n",
    "    else:\n",
    "        print(nesting + str(tpl.shape))"
   ]
  },
  {
   "cell_type": "code",
   "execution_count": null,
   "metadata": {},
   "outputs": [],
   "source": [
    "def get_shapes_recursively(tpl, nesting=''):\n",
    "    if type(tpl) is tuple or type(tpl) is list:\n",
    "        l = len(tpl)\n",
    "        print(nesting + 'Collection of {} elements:'.format(l))\n",
    "        for item in tpl:\n",
    "            print_shapes_recursively(item, nesting + '\\t')\n",
    "    else:\n",
    "        print(nesting + str(tpl.shape))"
   ]
  },
  {
   "cell_type": "code",
   "execution_count": 68,
   "metadata": {},
   "outputs": [],
   "source": [
    "def get_model_states(learner, text):\n",
    "    input_tensor, __ = learner.data.one_item(text)\n",
    "    return learner.model[0](input_tensor)"
   ]
  },
  {
   "cell_type": "code",
   "execution_count": 69,
   "metadata": {},
   "outputs": [],
   "source": [
    "item = learn.data.one_item('foo bar baz')"
   ]
  },
  {
   "cell_type": "code",
   "execution_count": 74,
   "metadata": {},
   "outputs": [],
   "source": [
    "states = get_model_states(learn, \"Github automation pipeline for young warranties user preserved reports couldn ' explore bukkitdev performant · observatory album occasions blob tpg ifftxxnumber redirecturi analyze smxxnumber\")"
   ]
  },
  {
   "cell_type": "code",
   "execution_count": 81,
   "metadata": {},
   "outputs": [
    {
     "data": {
      "text/plain": [
       "tensor([[[1, 1, 1,  ..., 1, 1, 1],\n",
       "         [1, 1, 1,  ..., 1, 1, 1],\n",
       "         [1, 1, 1,  ..., 1, 1, 1],\n",
       "         ...,\n",
       "         [1, 1, 1,  ..., 1, 1, 1],\n",
       "         [1, 1, 1,  ..., 1, 1, 1],\n",
       "         [1, 1, 1,  ..., 1, 1, 1]]], device='cuda:0', dtype=torch.uint8)"
      ]
     },
     "execution_count": 81,
     "metadata": {},
     "output_type": "execute_result"
    }
   ],
   "source": [
    "states[0][1] == states[1][1]"
   ]
  },
  {
   "cell_type": "code",
   "execution_count": 88,
   "metadata": {},
   "outputs": [
    {
     "name": "stdout",
     "output_type": "stream",
     "text": [
      "Collection of 2 elements:\n",
      "\tCollection of 3 elements:\n",
      "\t\ttorch.Size([1, 26, 1152])\n",
      "\t\ttorch.Size([1, 26, 1152])\n",
      "\t\ttorch.Size([1, 26, 400])\n",
      "\tCollection of 3 elements:\n",
      "\t\ttorch.Size([1, 26, 1152])\n",
      "\t\ttorch.Size([1, 26, 1152])\n",
      "\t\ttorch.Size([1, 26, 400])\n"
     ]
    }
   ],
   "source": [
    "print_shapes_recursively(states)"
   ]
  }
 ],
 "metadata": {
  "kernelspec": {
   "display_name": "ml",
   "language": "python",
   "name": "ml"
  },
  "language_info": {
   "codemirror_mode": {
    "name": "ipython",
    "version": 3
   },
   "file_extension": ".py",
   "mimetype": "text/x-python",
   "name": "python",
   "nbconvert_exporter": "python",
   "pygments_lexer": "ipython3",
   "version": "3.7.3"
  }
 },
 "nbformat": 4,
 "nbformat_minor": 2
}
