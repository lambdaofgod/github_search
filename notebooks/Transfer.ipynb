{
 "cells": [
  {
   "cell_type": "code",
   "execution_count": 32,
   "metadata": {},
   "outputs": [],
   "source": [
    "import os\n",
    "\n",
    "import numpy as np\n",
    "from fastai import text\n",
    "import torch\n",
    "\n",
    "import pathlib"
   ]
  },
  {
   "cell_type": "code",
   "execution_count": 2,
   "metadata": {},
   "outputs": [],
   "source": [
    "# had to do this because FastAI has stupid convention of prefixing model name with 'model/\n",
    "os.chdir('../data') "
   ]
  },
  {
   "cell_type": "code",
   "execution_count": 3,
   "metadata": {},
   "outputs": [
    {
     "data": {
      "text/plain": [
       "'/home/kuba/Projects/github_search/data'"
      ]
     },
     "execution_count": 3,
     "metadata": {},
     "output_type": "execute_result"
    }
   ],
   "source": [
    "os.getcwd()"
   ]
  },
  {
   "cell_type": "code",
   "execution_count": 4,
   "metadata": {},
   "outputs": [
    {
     "name": "stdout",
     "output_type": "stream",
     "text": [
      "file.csv\t     github_repos_lm.csv\t   models\n",
      "github_readmes.json  github_repos_lm_text_big.csv  nlp_github_repos.json\n",
      "github_repos.json    lm_data.pkl\n"
     ]
    }
   ],
   "source": [
    "!ls"
   ]
  },
  {
   "cell_type": "code",
   "execution_count": 5,
   "metadata": {},
   "outputs": [
    {
     "name": "stdout",
     "output_type": "stream",
     "text": [
      "file.csv\t     github_repos_lm.csv\t   models\n",
      "github_readmes.json  github_repos_lm_text_big.csv  nlp_github_repos.json\n",
      "github_repos.json    lm_data.pkl\n"
     ]
    }
   ],
   "source": [
    "!ls ../data"
   ]
  },
  {
   "cell_type": "code",
   "execution_count": 6,
   "metadata": {},
   "outputs": [],
   "source": [
    "config_dict = dict(\n",
    "    base_lr = 1e-2,\n",
    "    finetuning_lr = (1e-4, 1e-2),\n",
    "    drop_mult = 0.5,\n",
    "    bptt=50,\n",
    "    bs = 64\n",
    ")\n",
    "\n",
    "config = text.awd_lstm_lm_config.copy()\n",
    "config['qrnn'] = True\n",
    "\n",
    "DATASET_PATH = 'lm_data.pkl'\n",
    "MODEL_PATH = 'ft_cleaned_qrnn_bptt50_10'\n",
    "MODEL_ENCODER_PATH = 'ft_enc_cleaned_qrnn_bptt50_10'"
   ]
  },
  {
   "cell_type": "code",
   "execution_count": 7,
   "metadata": {},
   "outputs": [],
   "source": [
    "def load_language_model_learner(prefix, dataset_path, model_path, encoder_path):\n",
    "    current_wd = os.getcwd()\n",
    "    try:\n",
    "        os.chdir(prefix)\n",
    "        data_lm = text.load_data('', DATASET_PATH, bs=config_dict['bs'], bptt=config_dict['bptt'])\n",
    "        learn = text.language_model_learner(data_lm, text.AWD_LSTM, config=config, drop_mult=config_dict['drop_mult'], pretrained=False).to_fp16()\n",
    "        learn.load(model_path)\n",
    "        learn.load_encoder(encoder_path);\n",
    "    finally:\n",
    "        os.chdir(current_wd)\n",
    "    return learn"
   ]
  },
  {
   "cell_type": "code",
   "execution_count": 8,
   "metadata": {},
   "outputs": [],
   "source": [
    "learn = load_language_model_learner('../data', DATASET_PATH, MODEL_PATH, MODEL_ENCODER_PATH)"
   ]
  },
  {
   "cell_type": "code",
   "execution_count": 9,
   "metadata": {},
   "outputs": [],
   "source": [
    "sentence_segments = [\n",
    "    \"Machine learning and\",\n",
    "    \"Deploying Artificial\",\n",
    "    \"Github automation pipeline for\"\n",
    "]"
   ]
  },
  {
   "cell_type": "code",
   "execution_count": 10,
   "metadata": {},
   "outputs": [
    {
     "name": "stdout",
     "output_type": "stream",
     "text": [
      "\n",
      "temperature: 0.1\n",
      "segment: Machine learning and\n",
      "generated: Machine learning and machine learning Machine Learning Machine Learning Machine Learning Machine Learning Machine\n",
      "segment: Deploying Artificial\n",
      "generated: Deploying Artificial Intelligence This is a Python Web Application that uses the Udacity Advanced\n",
      "segment: Github automation pipeline for\n",
      "generated: Github automation pipeline for Python This is a Python module for the Python programming language . It is a\n",
      "\n",
      "temperature: 0.5\n",
      "segment: Machine learning and\n",
      "generated: Machine learning and machine learning library for Java . Usage To run the project , execute the following command :\n",
      "segment: Deploying Artificial\n",
      "generated: Deploying Artificial Intelligence This Repository contains the code for the Udacity course Developing Android Apps\n",
      "segment: Github automation pipeline for\n",
      "generated: Github automation pipeline for Python What is Flask ? Flask is a microframework for Python based on Werkzeug\n",
      "\n",
      "temperature: 1.0\n",
      "segment: Machine learning and\n",
      "generated: Machine learning and learning pipeline extentions for Bash xxnumber . xxnumber . About wheel : Version xxnumber . xxnumber .\n",
      "segment: Deploying Artificial\n",
      "generated: Deploying Artificial Nets Pedro Li - Liu Response a couple of minutes will be used as a\n",
      "segment: Github automation pipeline for\n",
      "generated: Github automation pipeline for the Rm Export and make sure to reveal , upload / on the status page . Build\n",
      "\n",
      "temperature: 2.0\n",
      "segment: Machine learning and\n",
      "generated: Machine learning and contributor scalable describing statsd into glog wrappers assumed trend fans centric firewalls customizing rich authentication circuitry free potential individuals challenge\n",
      "segment: Deploying Artificial\n",
      "generated: Deploying Artificial hyper djcelery volatility discover blow constructor fiat align buildable second element do generator eos simpler household allocation hubs layout_widthxxequals reads\n",
      "segment: Github automation pipeline for\n",
      "generated: Github automation pipeline for helloworld takewhile . group needs rp compared extra client_secret dcs updates pocketsphinx tutorial idx retrolambda jdiamond infinispan tracker positioning path_to_jar_file\n"
     ]
    }
   ],
   "source": [
    "for temp in [0.1, 0.5, 1.0, 2.0]:\n",
    "    print()\n",
    "    print('temperature:', temp)\n",
    "    for segment in sentence_segments:\n",
    "        \n",
    "        segment_text = 'segment: {}'.format(segment)\n",
    "        generated_text = 'generated: {}'.format(learn.predict(segment, n_words=20, temperature=temp))\n",
    "        print(segment_text)\n",
    "        print(generated_text)"
   ]
  },
  {
   "cell_type": "code",
   "execution_count": 11,
   "metadata": {},
   "outputs": [],
   "source": [
    "encoder = learn.model[0]"
   ]
  },
  {
   "cell_type": "code",
   "execution_count": 12,
   "metadata": {},
   "outputs": [],
   "source": [
    "def print_shapes_recursively(tpl, nesting=''):\n",
    "    if type(tpl) is tuple or type(tpl) is list:\n",
    "        l = len(tpl)\n",
    "        print(nesting + 'Collection of {} elements:'.format(l))\n",
    "        for item in tpl:\n",
    "            print_shapes_recursively(item, nesting + '\\t')\n",
    "    else:\n",
    "        print(nesting + str(tpl.shape))"
   ]
  },
  {
   "cell_type": "code",
   "execution_count": 13,
   "metadata": {},
   "outputs": [],
   "source": [
    "def get_shapes_recursively(tpl, nesting=''):\n",
    "    if type(tpl) is tuple or type(tpl) is list:\n",
    "        l = len(tpl)\n",
    "        print(nesting + 'Collection of {} elements:'.format(l))\n",
    "        for item in tpl:\n",
    "            print_shapes_recursively(item, nesting + '\\t')\n",
    "    else:\n",
    "        print(nesting + str(tpl.shape))"
   ]
  },
  {
   "cell_type": "code",
   "execution_count": 54,
   "metadata": {},
   "outputs": [],
   "source": [
    "def get_batch_items(learner, texts):\n",
    "    return torch.cat([learner.data.one_item(text)[0] for text in texts])"
   ]
  },
  {
   "cell_type": "code",
   "execution_count": 14,
   "metadata": {},
   "outputs": [],
   "source": [
    "def get_model_outputs(learner, text):\n",
    "    input_tensor, __ = learner.data.one_item(text)\n",
    "    return learner.model[0](input_tensor)"
   ]
  },
  {
   "cell_type": "code",
   "execution_count": 49,
   "metadata": {},
   "outputs": [],
   "source": [
    "def get_last_hiddens(learner, texts, layers=[0,1,2]):\n",
    "    input_tensor, __ = learner.data.one_item(text)\n",
    "    learner.model[0](input_tensor)\n",
    "    hiddens = learner.model[0].hidden\n",
    "    hiddens = [h.cpu().numpy().reshape(1, -1) for h in hiddens]\n",
    "    hiddens = hiddens[::-1] # do this because LM layers are reversed\n",
    "    hiddens = [hiddens[i] for i in layers]\n",
    "    return np.hstack(hiddens)"
   ]
  },
  {
   "cell_type": "code",
   "execution_count": 17,
   "metadata": {},
   "outputs": [],
   "source": [
    "text = \"Github automation pipeline for young warranties user preserved reports couldn ' explore bukkitdev performant · observatory album occasions blob tpg ifftxxnumber redirecturi analyze smxxnumber\""
   ]
  },
  {
   "cell_type": "code",
   "execution_count": 18,
   "metadata": {},
   "outputs": [],
   "source": [
    "outputs = get_model_outputs(learn, text)"
   ]
  },
  {
   "cell_type": "markdown",
   "metadata": {},
   "source": [
    "Outputs (I don't know why they are duplicated)"
   ]
  },
  {
   "cell_type": "code",
   "execution_count": 19,
   "metadata": {},
   "outputs": [
    {
     "name": "stdout",
     "output_type": "stream",
     "text": [
      "Collection of 2 elements:\n",
      "\tCollection of 3 elements:\n",
      "\t\ttorch.Size([1, 26, 1152])\n",
      "\t\ttorch.Size([1, 26, 1152])\n",
      "\t\ttorch.Size([1, 26, 400])\n",
      "\tCollection of 3 elements:\n",
      "\t\ttorch.Size([1, 26, 1152])\n",
      "\t\ttorch.Size([1, 26, 1152])\n",
      "\t\ttorch.Size([1, 26, 400])\n"
     ]
    }
   ],
   "source": [
    "print_shapes_recursively(outputs)"
   ]
  },
  {
   "cell_type": "markdown",
   "metadata": {},
   "source": [
    "Hidden states - this can serve as encodings for the whole sequence"
   ]
  },
  {
   "cell_type": "code",
   "execution_count": 21,
   "metadata": {},
   "outputs": [],
   "source": [
    "states = get_model_hiddens(learn, text)"
   ]
  },
  {
   "cell_type": "code",
   "execution_count": 22,
   "metadata": {},
   "outputs": [
    {
     "name": "stdout",
     "output_type": "stream",
     "text": [
      "Collection of 3 elements:\n",
      "\ttorch.Size([1, 1, 1152])\n",
      "\ttorch.Size([1, 1, 1152])\n",
      "\ttorch.Size([1, 1, 400])\n"
     ]
    }
   ],
   "source": [
    "print_shapes_recursively(states)"
   ]
  },
  {
   "cell_type": "code",
   "execution_count": 26,
   "metadata": {},
   "outputs": [],
   "source": [
    "d = learn.data"
   ]
  },
  {
   "cell_type": "code",
   "execution_count": 51,
   "metadata": {},
   "outputs": [
    {
     "data": {
      "text/plain": [
       "(1, 400)"
      ]
     },
     "execution_count": 51,
     "metadata": {},
     "output_type": "execute_result"
    }
   ],
   "source": [
    "get_last_hiddens(learn, text, layers=[0]).shape"
   ]
  }
 ],
 "metadata": {
  "kernelspec": {
   "display_name": "ml",
   "language": "python",
   "name": "ml"
  },
  "language_info": {
   "codemirror_mode": {
    "name": "ipython",
    "version": 3
   },
   "file_extension": ".py",
   "mimetype": "text/x-python",
   "name": "python",
   "nbconvert_exporter": "python",
   "pygments_lexer": "ipython3",
   "version": "3.7.3"
  }
 },
 "nbformat": 4,
 "nbformat_minor": 2
}
