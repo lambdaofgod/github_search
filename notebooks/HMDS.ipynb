{
 "cells": [
  {
   "cell_type": "code",
   "execution_count": 1,
   "id": "826e0659",
   "metadata": {},
   "outputs": [],
   "source": [
    "import numpy as np\n",
    "\n",
    "import scipy.sparse\n",
    "import pickle\n",
    "import igraph"
   ]
  },
  {
   "cell_type": "code",
   "execution_count": 2,
   "id": "7f6143ce",
   "metadata": {},
   "outputs": [
    {
     "name": "stdout",
     "output_type": "stream",
     "text": [
      "/home/kuba/Projects/github_search\n"
     ]
    }
   ],
   "source": [
    "%cd .."
   ]
  },
  {
   "cell_type": "markdown",
   "id": "d308b24c",
   "metadata": {},
   "source": [
    "## NOTE\n",
    "\n",
    "Pairwise matrix should contain distances between nodes"
   ]
  },
  {
   "cell_type": "code",
   "execution_count": 3,
   "id": "72515e3b",
   "metadata": {},
   "outputs": [],
   "source": [
    "call_graph_i = pickle.load(open(\"data/call_igraph.pkl\", 'rb'))"
   ]
  },
  {
   "cell_type": "code",
   "execution_count": 4,
   "id": "8e484ca7",
   "metadata": {},
   "outputs": [
    {
     "data": {
      "text/plain": [
       "198517"
      ]
     },
     "execution_count": 4,
     "metadata": {},
     "output_type": "execute_result"
    }
   ],
   "source": [
    "call_graph_i.vcount()"
   ]
  },
  {
   "cell_type": "markdown",
   "id": "99288640",
   "metadata": {},
   "source": [
    "## Graph distances\n",
    "\n",
    "Because we have almost 200k nodes, running shortest paths algorithms would result in 200k x 200k matrix.\n",
    "This is infeasible matrix if its dtype is float64 which is usually result of running such algorithms.\n",
    "\n",
    "Because of this we need to run batched shortest paths algorithm. The result is then stored in *uint8* matrix, which is over 30GB, so machines "
   ]
  },
  {
   "cell_type": "code",
   "execution_count": 5,
   "id": "039d264a",
   "metadata": {},
   "outputs": [],
   "source": [
    "import tqdm\n",
    "\n",
    "\n",
    "def get_distance_matrix(igraph, batch_size, dtype='uint8'):\n",
    "    n = igraph.vcount()\n",
    "    dists = np.zeros((n, n), dtype=dtype)\n",
    "    \n",
    "    for i in tqdm.tqdm(range(0, n-batch_size, batch_size)):\n",
    "        i_dists = igraph.shortest_paths(np.arange(i, i + batch_size))\n",
    "        dists[i:i+batch_size] = np.array(i_dists).astype('uint8')\n",
    "    dists[i:n] = np.array(igraph.shortest_paths(np.arange(i, n))).astype('uint8')\n",
    "    return dists"
   ]
  },
  {
   "cell_type": "code",
   "execution_count": 6,
   "id": "eaad96ec",
   "metadata": {},
   "outputs": [],
   "source": [
    "ig = igraph.Graph()\n",
    "ig.add_vertices(10)\n",
    "ig.add_edges([(i, i+1) for i in range(9)])"
   ]
  },
  {
   "cell_type": "code",
   "execution_count": null,
   "id": "b42f66c5",
   "metadata": {},
   "outputs": [
    {
     "name": "stderr",
     "output_type": "stream",
     "text": [
      "\r",
      "  0%|          | 0/198 [00:00<?, ?it/s]"
     ]
    }
   ],
   "source": [
    "dists = get_distance_matrix(call_graph_i, 1000)"
   ]
  },
  {
   "cell_type": "code",
   "execution_count": null,
   "id": "4bf87701",
   "metadata": {},
   "outputs": [],
   "source": [
    "n = dists.shape[0]"
   ]
  },
  {
   "cell_type": "code",
   "execution_count": null,
   "id": "e2e7b88f",
   "metadata": {},
   "outputs": [],
   "source": [
    "import numpy as np\n",
    "import h5py\n",
    "import dask.dataframe as dd"
   ]
  },
  {
   "cell_type": "code",
   "execution_count": null,
   "id": "a317162d",
   "metadata": {},
   "outputs": [],
   "source": [
    "f = h5py.File(\"data/call_graph_dists.hdf5\", 'r')\n",
    "dset = f.create_dataset(\"dists\", (n, n), dtype='uint8', data=dists)"
   ]
  },
  {
   "cell_type": "code",
   "execution_count": null,
   "id": "590727cc",
   "metadata": {},
   "outputs": [],
   "source": [
    "dset = f['dists']"
   ]
  },
  {
   "cell_type": "code",
   "execution_count": null,
   "id": "2e153bac",
   "metadata": {},
   "outputs": [],
   "source": [
    "%%time\n",
    "dists_dd = dd.from_array(dset, chunksize=5000)"
   ]
  },
  {
   "cell_type": "code",
   "execution_count": null,
   "id": "3c3ba995",
   "metadata": {},
   "outputs": [],
   "source": [
    "%%time\n",
    "hcos_dists_dd = dists_dd.map_partitions(lambda x: - np.cosh(x))"
   ]
  },
  {
   "cell_type": "code",
   "execution_count": null,
   "id": "4d5e8aae",
   "metadata": {},
   "outputs": [],
   "source": [
    "from dask_ml.decomposition import PCA as DaskPCA\n",
    "from dask_ml.decomposition import IncrementalPCA as DaskIncrementalPCA\n",
    "from dask_ml.decomposition import TruncatedSVD as DaskTruncatedSVD\n",
    "\n",
    "ipca = DaskIncrementalPCA(n_components=10, svd_solver='randomized')"
   ]
  },
  {
   "cell_type": "code",
   "execution_count": null,
   "id": "b997893f",
   "metadata": {},
   "outputs": [],
   "source": [
    "hcos_dists_dd.to_dask_array()"
   ]
  },
  {
   "cell_type": "code",
   "execution_count": null,
   "id": "ed10a982",
   "metadata": {},
   "outputs": [],
   "source": [
    "import tqdm\n",
    "import pickle"
   ]
  },
  {
   "cell_type": "code",
   "execution_count": null,
   "id": "49ee399c",
   "metadata": {},
   "outputs": [],
   "source": [
    "for i in tqdm.tqdm(range(hcos_dists_dd.npartitions)):\n",
    "    ipca.partial_fit(hcos_dists_dd.get_partition(i).to_dask_array(lengths=True).astype('float32'))"
   ]
  },
  {
   "cell_type": "code",
   "execution_count": null,
   "id": "de3ac777",
   "metadata": {},
   "outputs": [],
   "source": [
    "pickle.dump(ipca, open(\"data/ipca.pkl\", \"wb\"))"
   ]
  },
  {
   "cell_type": "code",
   "execution_count": null,
   "id": "357e900e",
   "metadata": {},
   "outputs": [],
   "source": [
    "%%time\n",
    "ipca.transform(hcos_dists_dd.to_dask_array(lengths=True))"
   ]
  },
  {
   "cell_type": "code",
   "execution_count": null,
   "id": "181533e4",
   "metadata": {},
   "outputs": [],
   "source": []
  },
  {
   "cell_type": "code",
   "execution_count": null,
   "id": "432d6f53",
   "metadata": {},
   "outputs": [],
   "source": [
    "f.close()"
   ]
  }
 ],
 "metadata": {
  "kernelspec": {
   "display_name": "Python 3",
   "language": "python",
   "name": "python3"
  },
  "language_info": {
   "codemirror_mode": {
    "name": "ipython",
    "version": 3
   },
   "file_extension": ".py",
   "mimetype": "text/x-python",
   "name": "python",
   "nbconvert_exporter": "python",
   "pygments_lexer": "ipython3",
   "version": "3.8.10"
  }
 },
 "nbformat": 4,
 "nbformat_minor": 5
}
