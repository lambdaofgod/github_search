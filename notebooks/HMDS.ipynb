{
 "cells": [
  {
   "cell_type": "code",
   "execution_count": 1,
   "id": "e33ca648",
   "metadata": {},
   "outputs": [],
   "source": [
    "import numpy as np\n",
    "\n",
    "import pandas as pd\n",
    "import scipy.sparse\n",
    "import pickle\n",
    "import igraph\n",
    "import h5py\n",
    "import dask.dataframe as dd\n",
    "import dask.array as da\n",
    "from dask.diagnostics import ProgressBar"
   ]
  },
  {
   "cell_type": "code",
   "execution_count": 2,
   "id": "8719d7e2",
   "metadata": {},
   "outputs": [
    {
     "name": "stdout",
     "output_type": "stream",
     "text": [
      "/home/kuba/Projects/github_search\n"
     ]
    }
   ],
   "source": [
    "%cd .."
   ]
  },
  {
   "cell_type": "markdown",
   "id": "1e869d6a",
   "metadata": {},
   "source": [
    "## NOTE\n",
    "\n",
    "Pairwise matrix should contain distances between nodes"
   ]
  },
  {
   "cell_type": "code",
   "execution_count": 3,
   "id": "dcd796f0",
   "metadata": {},
   "outputs": [],
   "source": [
    "call_graph_i = pickle.load(open(\"data/call_igraph.pkl\", \"rb\"))"
   ]
  },
  {
   "cell_type": "code",
   "execution_count": 4,
   "id": "153a3d2e",
   "metadata": {},
   "outputs": [
    {
     "data": {
      "text/plain": [
       "250891"
      ]
     },
     "execution_count": 4,
     "metadata": {},
     "output_type": "execute_result"
    }
   ],
   "source": [
    "call_graph_i.vcount()"
   ]
  },
  {
   "cell_type": "markdown",
   "id": "c7dc330d",
   "metadata": {},
   "source": [
    "## Graph distances\n",
    "\n",
    "Because we have almost 200k nodes, running shortest paths algorithms would result in 200k x 200k matrix.\n",
    "This is infeasible matrix if its dtype is float64 which is usually result of running such algorithms.\n",
    "\n",
    "Because of this we need to run batched shortest paths algorithm. The result is then stored in *uint8* matrix, which is over 30GB, so a machine with 64GB RAM will be able to handle it."
   ]
  },
  {
   "cell_type": "code",
   "execution_count": 5,
   "id": "6626d31f",
   "metadata": {},
   "outputs": [],
   "source": [
    "import tqdm\n",
    "\n",
    "\n",
    "def get_distance_matrix(igraph, batch_size, dtype=\"uint8\"):\n",
    "    n = igraph.vcount()\n",
    "    dists = np.zeros((n, n), dtype=dtype)\n",
    "\n",
    "    for i in tqdm.tqdm(range(0, n - batch_size, batch_size)):\n",
    "        i_dists = igraph.shortest_paths(np.arange(i, i + batch_size))\n",
    "        dists[i : i + batch_size] = np.array(i_dists).astype(\"uint8\")\n",
    "    dists[i:n] = np.array(igraph.shortest_paths(np.arange(i, n))).astype(\"uint8\")\n",
    "    return dists"
   ]
  },
  {
   "cell_type": "code",
   "execution_count": 10,
   "id": "ada89a31",
   "metadata": {},
   "outputs": [
    {
     "name": "stderr",
     "output_type": "stream",
     "text": [
      "100%|██████████| 2508/2508 [2:35:07<00:00,  3.71s/it]  \n"
     ]
    }
   ],
   "source": [
    "dists = get_distance_matrix(call_graph_i, 100)"
   ]
  },
  {
   "cell_type": "code",
   "execution_count": 11,
   "id": "47f12091",
   "metadata": {},
   "outputs": [],
   "source": [
    "n = dists.shape[0]"
   ]
  },
  {
   "cell_type": "markdown",
   "id": "949e830c",
   "metadata": {},
   "source": [
    "# HMDS\n",
    "\n",
    "This is an algorithm proposed in [Representation Tradeoffs for Hyperbolic Embeddings](http://proceedings.mlr.press/v80/sala18a/sala18a.pdf).\n",
    "\n",
    "It learns embeddings in hyperbolic spaces based on pairwise distance matrix $D$.\n",
    "\n",
    "The algorithm learns embedding in $d$-dimensional hyperbolic space by putting\n",
    "\n",
    "$Y_{i,j} = - cosh(D_{i,j})$ \n",
    "\n",
    "and then running PCA on $Y$."
   ]
  },
  {
   "cell_type": "markdown",
   "id": "15f50f63",
   "metadata": {},
   "source": [
    "f = h5py.File(\"data/call_graph_dists.h5\", 'w')\n",
    "dset = f.create_dataset(\"dists\", (n, n), dtype='uint8', data=dists)\n",
    "f.close()"
   ]
  },
  {
   "cell_type": "code",
   "execution_count": 6,
   "id": "3b34fd56",
   "metadata": {},
   "outputs": [],
   "source": [
    "f = h5py.File(\"data/call_graph_dists.h5\", \"r\")"
   ]
  },
  {
   "cell_type": "code",
   "execution_count": 7,
   "id": "0741f475",
   "metadata": {},
   "outputs": [],
   "source": [
    "dset = f[\"dists\"]"
   ]
  },
  {
   "cell_type": "code",
   "execution_count": 8,
   "id": "5b8c50a8",
   "metadata": {},
   "outputs": [
    {
     "name": "stdout",
     "output_type": "stream",
     "text": [
      "CPU times: user 8.01 s, sys: 159 ms, total: 8.17 s\n",
      "Wall time: 8.17 s\n"
     ]
    }
   ],
   "source": [
    "%%time\n",
    "dists_dd = dd.from_array(dset, chunksize=5000)"
   ]
  },
  {
   "cell_type": "code",
   "execution_count": 9,
   "id": "6f1b1ae7",
   "metadata": {},
   "outputs": [
    {
     "name": "stdout",
     "output_type": "stream",
     "text": [
      "CPU times: user 13.1 s, sys: 106 ms, total: 13.3 s\n",
      "Wall time: 13.3 s\n"
     ]
    }
   ],
   "source": [
    "%%time\n",
    "hcos_dists_dd = dists_dd.map_partitions(lambda x: -np.cosh(x).astype(\"float32\"))"
   ]
  },
  {
   "cell_type": "code",
   "execution_count": 10,
   "id": "a5dbffa3",
   "metadata": {},
   "outputs": [],
   "source": [
    "from dask_ml.decomposition import PCA as DaskPCA\n",
    "from dask_ml.decomposition import IncrementalPCA as DaskIncrementalPCA\n",
    "from dask_ml.decomposition import TruncatedSVD as DaskTruncatedSVD\n",
    "\n",
    "ipca = DaskIncrementalPCA(n_components=100, svd_solver=\"randomized\")"
   ]
  },
  {
   "cell_type": "code",
   "execution_count": 11,
   "id": "35392001",
   "metadata": {},
   "outputs": [
    {
     "data": {
      "text/html": [
       "<table>\n",
       "<tr>\n",
       "<td>\n",
       "<table>\n",
       "  <thead>\n",
       "    <tr><td> </td><th> Array </th><th> Chunk </th></tr>\n",
       "  </thead>\n",
       "  <tbody>\n",
       "    <tr><th> Bytes </th><td> unknown </td> <td> unknown </td></tr>\n",
       "    <tr><th> Shape </th><td> (nan, 250891) </td> <td> (nan, 250891) </td></tr>\n",
       "    <tr><th> Count </th><td> 153 Tasks </td><td> 51 Chunks </td></tr>\n",
       "    <tr><th> Type </th><td> float32 </td><td> numpy.ndarray </td></tr>\n",
       "  </tbody>\n",
       "</table>\n",
       "</td>\n",
       "<td>\n",
       "\n",
       "</td>\n",
       "</tr>\n",
       "</table>"
      ],
      "text/plain": [
       "dask.array<values, shape=(nan, 250891), dtype=float32, chunksize=(nan, 250891), chunktype=numpy.ndarray>"
      ]
     },
     "execution_count": 11,
     "metadata": {},
     "output_type": "execute_result"
    }
   ],
   "source": [
    "hcos_dists_dd.to_dask_array()"
   ]
  },
  {
   "cell_type": "code",
   "execution_count": 58,
   "id": "24535214",
   "metadata": {},
   "outputs": [],
   "source": [
    "import tqdm\n",
    "import pickle"
   ]
  },
  {
   "cell_type": "code",
   "execution_count": 59,
   "id": "b93e7da4",
   "metadata": {},
   "outputs": [
    {
     "name": "stderr",
     "output_type": "stream",
     "text": [
      "  0%|          | 0/51 [00:00<?, ?it/s]/home/kuba/.local/lib/python3.8/site-packages/dask/core.py:121: RuntimeWarning: invalid value encountered in true_divide\n",
      "  return func(*(_execute_task(a, cache) for a in args))\n",
      "100%|██████████| 51/51 [1:21:02<00:00, 95.35s/it]\n"
     ]
    }
   ],
   "source": [
    "for i in tqdm.tqdm(range(hcos_dists_dd.npartitions)):\n",
    "    ipca.partial_fit(\n",
    "        hcos_dists_dd.get_partition(i).to_dask_array(lengths=True).astype(\"float32\")\n",
    "    )"
   ]
  },
  {
   "cell_type": "code",
   "execution_count": 60,
   "id": "8b5d05cb",
   "metadata": {},
   "outputs": [],
   "source": [
    "pickle.dump(ipca, open(\"data/ipca.pkl\", \"wb\"))"
   ]
  },
  {
   "cell_type": "code",
   "execution_count": 12,
   "id": "6e125f68",
   "metadata": {},
   "outputs": [],
   "source": [
    "ipca = pickle.load(open(\"data/ipca.pkl\", \"rb\"))"
   ]
  },
  {
   "cell_type": "code",
   "execution_count": 13,
   "id": "0aae4229",
   "metadata": {},
   "outputs": [],
   "source": [
    "ipca.components_ = ipca.components_.astype(\"float32\")\n",
    "ipca.mean_ = ipca.mean_.astype(\"float32\")"
   ]
  },
  {
   "cell_type": "code",
   "execution_count": 14,
   "id": "b93c7a62",
   "metadata": {},
   "outputs": [],
   "source": [
    "res_da = hcos_dists_dd.map_partitions(\n",
    "    lambda X: pd.DataFrame(\n",
    "        ((np.array(X) - ipca.mean_) @ ipca.components_.T).astype(\"float16\")\n",
    "    )\n",
    ")"
   ]
  },
  {
   "cell_type": "code",
   "execution_count": 15,
   "id": "54260eb3",
   "metadata": {},
   "outputs": [
    {
     "name": "stderr",
     "output_type": "stream",
     "text": [
      "100%|██████████| 51/51 [18:18<00:00, 21.54s/it]\n"
     ]
    }
   ],
   "source": [
    "import tqdm\n",
    "\n",
    "hmds_features = pd.DataFrame([])\n",
    "\n",
    "for i in tqdm.tqdm(range(res_da.npartitions)):\n",
    "    hmds_features_partition = res_da.get_partition(i).compute()\n",
    "    hmds_features = pd.concat([hmds_features, hmds_features_partition])"
   ]
  },
  {
   "cell_type": "code",
   "execution_count": 17,
   "id": "0c72b48d",
   "metadata": {},
   "outputs": [
    {
     "name": "stdout",
     "output_type": "stream",
     "text": [
      "<class 'pandas.core.frame.DataFrame'>\n",
      "Int64Index: 250891 entries, 0 to 890\n",
      "Data columns (total 100 columns):\n",
      " #   Column  Non-Null Count   Dtype  \n",
      "---  ------  --------------   -----  \n",
      " 0   0       250891 non-null  float16\n",
      " 1   1       250891 non-null  float16\n",
      " 2   2       250891 non-null  float16\n",
      " 3   3       250891 non-null  float16\n",
      " 4   4       250891 non-null  float16\n",
      " 5   5       250891 non-null  float16\n",
      " 6   6       250891 non-null  float16\n",
      " 7   7       250891 non-null  float16\n",
      " 8   8       250891 non-null  float16\n",
      " 9   9       250891 non-null  float16\n",
      " 10  10      250891 non-null  float16\n",
      " 11  11      250891 non-null  float16\n",
      " 12  12      250891 non-null  float16\n",
      " 13  13      250891 non-null  float16\n",
      " 14  14      250891 non-null  float16\n",
      " 15  15      250891 non-null  float16\n",
      " 16  16      250891 non-null  float16\n",
      " 17  17      250891 non-null  float16\n",
      " 18  18      250891 non-null  float16\n",
      " 19  19      250891 non-null  float16\n",
      " 20  20      250891 non-null  float16\n",
      " 21  21      250891 non-null  float16\n",
      " 22  22      250891 non-null  float16\n",
      " 23  23      250891 non-null  float16\n",
      " 24  24      250891 non-null  float16\n",
      " 25  25      250891 non-null  float16\n",
      " 26  26      250891 non-null  float16\n",
      " 27  27      250891 non-null  float16\n",
      " 28  28      250891 non-null  float16\n",
      " 29  29      250891 non-null  float16\n",
      " 30  30      250891 non-null  float16\n",
      " 31  31      250891 non-null  float16\n",
      " 32  32      250891 non-null  float16\n",
      " 33  33      250891 non-null  float16\n",
      " 34  34      250891 non-null  float16\n",
      " 35  35      250891 non-null  float16\n",
      " 36  36      250891 non-null  float16\n",
      " 37  37      250891 non-null  float16\n",
      " 38  38      250891 non-null  float16\n",
      " 39  39      250891 non-null  float16\n",
      " 40  40      250891 non-null  float16\n",
      " 41  41      250891 non-null  float16\n",
      " 42  42      250891 non-null  float16\n",
      " 43  43      250891 non-null  float16\n",
      " 44  44      250891 non-null  float16\n",
      " 45  45      250891 non-null  float16\n",
      " 46  46      250891 non-null  float16\n",
      " 47  47      250891 non-null  float16\n",
      " 48  48      250891 non-null  float16\n",
      " 49  49      250891 non-null  float16\n",
      " 50  50      250891 non-null  float16\n",
      " 51  51      250891 non-null  float16\n",
      " 52  52      250891 non-null  float16\n",
      " 53  53      250891 non-null  float16\n",
      " 54  54      250891 non-null  float16\n",
      " 55  55      250891 non-null  float16\n",
      " 56  56      250891 non-null  float16\n",
      " 57  57      250891 non-null  float16\n",
      " 58  58      250891 non-null  float16\n",
      " 59  59      250891 non-null  float16\n",
      " 60  60      250891 non-null  float16\n",
      " 61  61      250891 non-null  float16\n",
      " 62  62      250891 non-null  float16\n",
      " 63  63      250891 non-null  float16\n",
      " 64  64      250891 non-null  float16\n",
      " 65  65      250891 non-null  float16\n",
      " 66  66      250891 non-null  float16\n",
      " 67  67      250891 non-null  float16\n",
      " 68  68      250891 non-null  float16\n",
      " 69  69      250891 non-null  float16\n",
      " 70  70      250891 non-null  float16\n",
      " 71  71      250891 non-null  float16\n",
      " 72  72      250891 non-null  float16\n",
      " 73  73      250891 non-null  float16\n",
      " 74  74      250891 non-null  float16\n",
      " 75  75      250891 non-null  float16\n",
      " 76  76      250891 non-null  float16\n",
      " 77  77      250891 non-null  float16\n",
      " 78  78      250891 non-null  float16\n",
      " 79  79      250891 non-null  float16\n",
      " 80  80      250891 non-null  float16\n",
      " 81  81      250891 non-null  float16\n",
      " 82  82      250891 non-null  float16\n",
      " 83  83      250891 non-null  float16\n",
      " 84  84      250891 non-null  float16\n",
      " 85  85      250891 non-null  float16\n",
      " 86  86      250891 non-null  float16\n",
      " 87  87      250891 non-null  float16\n",
      " 88  88      250891 non-null  float16\n",
      " 89  89      250891 non-null  float16\n",
      " 90  90      250891 non-null  float16\n",
      " 91  91      250891 non-null  float16\n",
      " 92  92      250891 non-null  float16\n",
      " 93  93      250891 non-null  float16\n",
      " 94  94      250891 non-null  float16\n",
      " 95  95      250891 non-null  float16\n",
      " 96  96      250891 non-null  float16\n",
      " 97  97      250891 non-null  float16\n",
      " 98  98      250891 non-null  float16\n",
      " 99  99      250891 non-null  float16\n",
      "dtypes: float16(100)\n",
      "memory usage: 49.8 MB\n"
     ]
    }
   ],
   "source": [
    "hmds_features.info()"
   ]
  },
  {
   "cell_type": "code",
   "execution_count": 18,
   "id": "8082a299",
   "metadata": {},
   "outputs": [
    {
     "data": {
      "text/html": [
       "<div>\n",
       "<style scoped>\n",
       "    .dataframe tbody tr th:only-of-type {\n",
       "        vertical-align: middle;\n",
       "    }\n",
       "\n",
       "    .dataframe tbody tr th {\n",
       "        vertical-align: top;\n",
       "    }\n",
       "\n",
       "    .dataframe thead th {\n",
       "        text-align: right;\n",
       "    }\n",
       "</style>\n",
       "<table border=\"1\" class=\"dataframe\">\n",
       "  <thead>\n",
       "    <tr style=\"text-align: right;\">\n",
       "      <th></th>\n",
       "      <th>0</th>\n",
       "      <th>1</th>\n",
       "      <th>2</th>\n",
       "      <th>3</th>\n",
       "      <th>4</th>\n",
       "      <th>5</th>\n",
       "      <th>6</th>\n",
       "      <th>7</th>\n",
       "      <th>8</th>\n",
       "      <th>9</th>\n",
       "      <th>...</th>\n",
       "      <th>90</th>\n",
       "      <th>91</th>\n",
       "      <th>92</th>\n",
       "      <th>93</th>\n",
       "      <th>94</th>\n",
       "      <th>95</th>\n",
       "      <th>96</th>\n",
       "      <th>97</th>\n",
       "      <th>98</th>\n",
       "      <th>99</th>\n",
       "    </tr>\n",
       "  </thead>\n",
       "  <tbody>\n",
       "    <tr>\n",
       "      <th>count</th>\n",
       "      <td>250891.0</td>\n",
       "      <td>250891.00000</td>\n",
       "      <td>250891.00</td>\n",
       "      <td>250891.000000</td>\n",
       "      <td>250891.0000</td>\n",
       "      <td>250891.00</td>\n",
       "      <td>250891.00000</td>\n",
       "      <td>250891.000000</td>\n",
       "      <td>250891.0</td>\n",
       "      <td>250891.00</td>\n",
       "      <td>...</td>\n",
       "      <td>250891.000000</td>\n",
       "      <td>250891.000000</td>\n",
       "      <td>250891.0000</td>\n",
       "      <td>250891.00000</td>\n",
       "      <td>250891.000000</td>\n",
       "      <td>250891.000000</td>\n",
       "      <td>250891.000000</td>\n",
       "      <td>250891.000000</td>\n",
       "      <td>250891.000000</td>\n",
       "      <td>250891.000000</td>\n",
       "    </tr>\n",
       "    <tr>\n",
       "      <th>mean</th>\n",
       "      <td>NaN</td>\n",
       "      <td>NaN</td>\n",
       "      <td>NaN</td>\n",
       "      <td>NaN</td>\n",
       "      <td>NaN</td>\n",
       "      <td>NaN</td>\n",
       "      <td>NaN</td>\n",
       "      <td>NaN</td>\n",
       "      <td>NaN</td>\n",
       "      <td>NaN</td>\n",
       "      <td>...</td>\n",
       "      <td>NaN</td>\n",
       "      <td>-0.000000</td>\n",
       "      <td>0.0000</td>\n",
       "      <td>0.00000</td>\n",
       "      <td>NaN</td>\n",
       "      <td>NaN</td>\n",
       "      <td>NaN</td>\n",
       "      <td>NaN</td>\n",
       "      <td>NaN</td>\n",
       "      <td>NaN</td>\n",
       "    </tr>\n",
       "    <tr>\n",
       "      <th>std</th>\n",
       "      <td>NaN</td>\n",
       "      <td>NaN</td>\n",
       "      <td>NaN</td>\n",
       "      <td>NaN</td>\n",
       "      <td>NaN</td>\n",
       "      <td>NaN</td>\n",
       "      <td>NaN</td>\n",
       "      <td>NaN</td>\n",
       "      <td>NaN</td>\n",
       "      <td>NaN</td>\n",
       "      <td>...</td>\n",
       "      <td>NaN</td>\n",
       "      <td>NaN</td>\n",
       "      <td>NaN</td>\n",
       "      <td>NaN</td>\n",
       "      <td>NaN</td>\n",
       "      <td>NaN</td>\n",
       "      <td>NaN</td>\n",
       "      <td>NaN</td>\n",
       "      <td>NaN</td>\n",
       "      <td>NaN</td>\n",
       "    </tr>\n",
       "    <tr>\n",
       "      <th>min</th>\n",
       "      <td>-inf</td>\n",
       "      <td>-42976.00000</td>\n",
       "      <td>-31568.00</td>\n",
       "      <td>-47552.000000</td>\n",
       "      <td>-22368.0000</td>\n",
       "      <td>-17280.00</td>\n",
       "      <td>-15344.00000</td>\n",
       "      <td>-15024.000000</td>\n",
       "      <td>-26560.0</td>\n",
       "      <td>-10840.00</td>\n",
       "      <td>...</td>\n",
       "      <td>-4704.000000</td>\n",
       "      <td>-3530.000000</td>\n",
       "      <td>-2616.0000</td>\n",
       "      <td>-2338.00000</td>\n",
       "      <td>-3772.000000</td>\n",
       "      <td>-2340.000000</td>\n",
       "      <td>-2982.000000</td>\n",
       "      <td>-2398.000000</td>\n",
       "      <td>-3774.000000</td>\n",
       "      <td>-2662.000000</td>\n",
       "    </tr>\n",
       "    <tr>\n",
       "      <th>25%</th>\n",
       "      <td>-4560.0</td>\n",
       "      <td>-1637.00000</td>\n",
       "      <td>-1026.00</td>\n",
       "      <td>-629.500000</td>\n",
       "      <td>-844.0000</td>\n",
       "      <td>-803.25</td>\n",
       "      <td>-566.50000</td>\n",
       "      <td>-508.500000</td>\n",
       "      <td>-608.5</td>\n",
       "      <td>-410.25</td>\n",
       "      <td>...</td>\n",
       "      <td>-87.250000</td>\n",
       "      <td>-82.375000</td>\n",
       "      <td>-83.6250</td>\n",
       "      <td>-87.81250</td>\n",
       "      <td>-82.812500</td>\n",
       "      <td>-76.187500</td>\n",
       "      <td>-83.812500</td>\n",
       "      <td>-78.625000</td>\n",
       "      <td>-79.312500</td>\n",
       "      <td>-74.062500</td>\n",
       "    </tr>\n",
       "    <tr>\n",
       "      <th>50%</th>\n",
       "      <td>2696.0</td>\n",
       "      <td>-45.15625</td>\n",
       "      <td>387.75</td>\n",
       "      <td>31.609375</td>\n",
       "      <td>86.4375</td>\n",
       "      <td>-184.75</td>\n",
       "      <td>-10.78125</td>\n",
       "      <td>-14.398438</td>\n",
       "      <td>14.0</td>\n",
       "      <td>41.75</td>\n",
       "      <td>...</td>\n",
       "      <td>-3.693359</td>\n",
       "      <td>1.512695</td>\n",
       "      <td>-4.1250</td>\n",
       "      <td>-0.95459</td>\n",
       "      <td>-4.726562</td>\n",
       "      <td>-7.289062</td>\n",
       "      <td>-7.140625</td>\n",
       "      <td>-1.901367</td>\n",
       "      <td>-2.769531</td>\n",
       "      <td>1.461914</td>\n",
       "    </tr>\n",
       "    <tr>\n",
       "      <th>75%</th>\n",
       "      <td>6836.0</td>\n",
       "      <td>2374.00000</td>\n",
       "      <td>1272.00</td>\n",
       "      <td>742.500000</td>\n",
       "      <td>728.5000</td>\n",
       "      <td>730.50</td>\n",
       "      <td>577.00000</td>\n",
       "      <td>541.500000</td>\n",
       "      <td>611.5</td>\n",
       "      <td>431.00</td>\n",
       "      <td>...</td>\n",
       "      <td>92.375000</td>\n",
       "      <td>92.937500</td>\n",
       "      <td>85.0625</td>\n",
       "      <td>80.50000</td>\n",
       "      <td>84.625000</td>\n",
       "      <td>78.437500</td>\n",
       "      <td>86.625000</td>\n",
       "      <td>75.750000</td>\n",
       "      <td>86.750000</td>\n",
       "      <td>74.500000</td>\n",
       "    </tr>\n",
       "    <tr>\n",
       "      <th>max</th>\n",
       "      <td>13416.0</td>\n",
       "      <td>21584.00000</td>\n",
       "      <td>21344.00</td>\n",
       "      <td>11864.000000</td>\n",
       "      <td>22848.0000</td>\n",
       "      <td>14640.00</td>\n",
       "      <td>16752.00000</td>\n",
       "      <td>13768.000000</td>\n",
       "      <td>16464.0</td>\n",
       "      <td>13392.00</td>\n",
       "      <td>...</td>\n",
       "      <td>2844.000000</td>\n",
       "      <td>3138.000000</td>\n",
       "      <td>2864.0000</td>\n",
       "      <td>3314.00000</td>\n",
       "      <td>2348.000000</td>\n",
       "      <td>2372.000000</td>\n",
       "      <td>3302.000000</td>\n",
       "      <td>2584.000000</td>\n",
       "      <td>3156.000000</td>\n",
       "      <td>3440.000000</td>\n",
       "    </tr>\n",
       "  </tbody>\n",
       "</table>\n",
       "<p>8 rows × 100 columns</p>\n",
       "</div>"
      ],
      "text/plain": [
       "             0             1          2              3            4   \\\n",
       "count  250891.0  250891.00000  250891.00  250891.000000  250891.0000   \n",
       "mean        NaN           NaN        NaN            NaN          NaN   \n",
       "std         NaN           NaN        NaN            NaN          NaN   \n",
       "min        -inf  -42976.00000  -31568.00  -47552.000000  -22368.0000   \n",
       "25%     -4560.0   -1637.00000   -1026.00    -629.500000    -844.0000   \n",
       "50%      2696.0     -45.15625     387.75      31.609375      86.4375   \n",
       "75%      6836.0    2374.00000    1272.00     742.500000     728.5000   \n",
       "max     13416.0   21584.00000   21344.00   11864.000000   22848.0000   \n",
       "\n",
       "              5             6              7         8          9   ...  \\\n",
       "count  250891.00  250891.00000  250891.000000  250891.0  250891.00  ...   \n",
       "mean         NaN           NaN            NaN       NaN        NaN  ...   \n",
       "std          NaN           NaN            NaN       NaN        NaN  ...   \n",
       "min    -17280.00  -15344.00000  -15024.000000  -26560.0  -10840.00  ...   \n",
       "25%      -803.25    -566.50000    -508.500000    -608.5    -410.25  ...   \n",
       "50%      -184.75     -10.78125     -14.398438      14.0      41.75  ...   \n",
       "75%       730.50     577.00000     541.500000     611.5     431.00  ...   \n",
       "max     14640.00   16752.00000   13768.000000   16464.0   13392.00  ...   \n",
       "\n",
       "                  90             91           92            93             94  \\\n",
       "count  250891.000000  250891.000000  250891.0000  250891.00000  250891.000000   \n",
       "mean             NaN      -0.000000       0.0000       0.00000            NaN   \n",
       "std              NaN            NaN          NaN           NaN            NaN   \n",
       "min     -4704.000000   -3530.000000   -2616.0000   -2338.00000   -3772.000000   \n",
       "25%       -87.250000     -82.375000     -83.6250     -87.81250     -82.812500   \n",
       "50%        -3.693359       1.512695      -4.1250      -0.95459      -4.726562   \n",
       "75%        92.375000      92.937500      85.0625      80.50000      84.625000   \n",
       "max      2844.000000    3138.000000    2864.0000    3314.00000    2348.000000   \n",
       "\n",
       "                  95             96             97             98  \\\n",
       "count  250891.000000  250891.000000  250891.000000  250891.000000   \n",
       "mean             NaN            NaN            NaN            NaN   \n",
       "std              NaN            NaN            NaN            NaN   \n",
       "min     -2340.000000   -2982.000000   -2398.000000   -3774.000000   \n",
       "25%       -76.187500     -83.812500     -78.625000     -79.312500   \n",
       "50%        -7.289062      -7.140625      -1.901367      -2.769531   \n",
       "75%        78.437500      86.625000      75.750000      86.750000   \n",
       "max      2372.000000    3302.000000    2584.000000    3156.000000   \n",
       "\n",
       "                  99  \n",
       "count  250891.000000  \n",
       "mean             NaN  \n",
       "std              NaN  \n",
       "min     -2662.000000  \n",
       "25%       -74.062500  \n",
       "50%         1.461914  \n",
       "75%        74.500000  \n",
       "max      3440.000000  \n",
       "\n",
       "[8 rows x 100 columns]"
      ]
     },
     "execution_count": 18,
     "metadata": {},
     "output_type": "execute_result"
    }
   ],
   "source": [
    "hmds_features.describe()"
   ]
  },
  {
   "cell_type": "code",
   "execution_count": 19,
   "id": "72e8d6d4",
   "metadata": {},
   "outputs": [],
   "source": [
    "hmds_features.to_csv(\"data/hmds_features100.csv\")"
   ]
  },
  {
   "cell_type": "code",
   "execution_count": 36,
   "id": "ede25bb6",
   "metadata": {},
   "outputs": [
    {
     "data": {
      "text/html": [
       "<div>\n",
       "<style scoped>\n",
       "    .dataframe tbody tr th:only-of-type {\n",
       "        vertical-align: middle;\n",
       "    }\n",
       "\n",
       "    .dataframe tbody tr th {\n",
       "        vertical-align: top;\n",
       "    }\n",
       "\n",
       "    .dataframe thead th {\n",
       "        text-align: right;\n",
       "    }\n",
       "</style>\n",
       "<table border=\"1\" class=\"dataframe\">\n",
       "  <thead>\n",
       "    <tr style=\"text-align: right;\">\n",
       "      <th></th>\n",
       "      <th>0</th>\n",
       "      <th>1</th>\n",
       "      <th>2</th>\n",
       "      <th>3</th>\n",
       "      <th>4</th>\n",
       "      <th>5</th>\n",
       "      <th>6</th>\n",
       "      <th>7</th>\n",
       "      <th>8</th>\n",
       "      <th>9</th>\n",
       "    </tr>\n",
       "  </thead>\n",
       "  <tbody>\n",
       "    <tr>\n",
       "      <th>count</th>\n",
       "      <td>250891.000000</td>\n",
       "      <td>250891.000000</td>\n",
       "      <td>250891.000000</td>\n",
       "      <td>250891.000000</td>\n",
       "      <td>2.508910e+05</td>\n",
       "      <td>250891.000000</td>\n",
       "      <td>2.508910e+05</td>\n",
       "      <td>250891.000000</td>\n",
       "      <td>250891.000000</td>\n",
       "      <td>250891.000000</td>\n",
       "    </tr>\n",
       "    <tr>\n",
       "      <th>mean</th>\n",
       "      <td>-0.000026</td>\n",
       "      <td>-0.000070</td>\n",
       "      <td>0.000028</td>\n",
       "      <td>0.000017</td>\n",
       "      <td>-2.576524e-07</td>\n",
       "      <td>-0.000021</td>\n",
       "      <td>3.956584e-08</td>\n",
       "      <td>0.000001</td>\n",
       "      <td>0.000002</td>\n",
       "      <td>-0.000005</td>\n",
       "    </tr>\n",
       "    <tr>\n",
       "      <th>std</th>\n",
       "      <td>9329.581303</td>\n",
       "      <td>3940.710498</td>\n",
       "      <td>2393.783059</td>\n",
       "      <td>1608.515135</td>\n",
       "      <td>1.504860e+03</td>\n",
       "      <td>1410.122647</td>\n",
       "      <td>1.125335e+03</td>\n",
       "      <td>960.422103</td>\n",
       "      <td>995.168821</td>\n",
       "      <td>810.355107</td>\n",
       "    </tr>\n",
       "    <tr>\n",
       "      <th>min</th>\n",
       "      <td>-191658.800000</td>\n",
       "      <td>-42607.070000</td>\n",
       "      <td>-31738.125000</td>\n",
       "      <td>-40693.180000</td>\n",
       "      <td>-3.365417e+04</td>\n",
       "      <td>-15352.530000</td>\n",
       "      <td>-1.388721e+04</td>\n",
       "      <td>-21858.824000</td>\n",
       "      <td>-10934.708000</td>\n",
       "      <td>-21200.990000</td>\n",
       "    </tr>\n",
       "    <tr>\n",
       "      <th>25%</th>\n",
       "      <td>-4559.739000</td>\n",
       "      <td>-1633.363500</td>\n",
       "      <td>-1007.042900</td>\n",
       "      <td>-641.922455</td>\n",
       "      <td>-6.826794e+02</td>\n",
       "      <td>-833.286220</td>\n",
       "      <td>-5.735587e+02</td>\n",
       "      <td>-547.630050</td>\n",
       "      <td>-489.044740</td>\n",
       "      <td>-417.350620</td>\n",
       "    </tr>\n",
       "    <tr>\n",
       "      <th>50%</th>\n",
       "      <td>2697.698000</td>\n",
       "      <td>-52.367184</td>\n",
       "      <td>387.223700</td>\n",
       "      <td>9.842993</td>\n",
       "      <td>-3.395461e+01</td>\n",
       "      <td>-205.350980</td>\n",
       "      <td>-2.514593e+01</td>\n",
       "      <td>-6.040407</td>\n",
       "      <td>6.640071</td>\n",
       "      <td>-44.662320</td>\n",
       "    </tr>\n",
       "    <tr>\n",
       "      <th>75%</th>\n",
       "      <td>6833.989500</td>\n",
       "      <td>2392.623400</td>\n",
       "      <td>1241.718850</td>\n",
       "      <td>683.006530</td>\n",
       "      <td>6.048834e+02</td>\n",
       "      <td>725.444900</td>\n",
       "      <td>5.299798e+02</td>\n",
       "      <td>564.080400</td>\n",
       "      <td>484.843000</td>\n",
       "      <td>371.313645</td>\n",
       "    </tr>\n",
       "    <tr>\n",
       "      <th>max</th>\n",
       "      <td>13414.081000</td>\n",
       "      <td>21494.496000</td>\n",
       "      <td>21335.578000</td>\n",
       "      <td>15697.617000</td>\n",
       "      <td>2.377002e+04</td>\n",
       "      <td>13093.697000</td>\n",
       "      <td>1.824963e+04</td>\n",
       "      <td>20962.053000</td>\n",
       "      <td>14405.590000</td>\n",
       "      <td>12819.588000</td>\n",
       "    </tr>\n",
       "  </tbody>\n",
       "</table>\n",
       "</div>"
      ],
      "text/plain": [
       "                   0              1              2              3  \\\n",
       "count  250891.000000  250891.000000  250891.000000  250891.000000   \n",
       "mean       -0.000026      -0.000070       0.000028       0.000017   \n",
       "std      9329.581303    3940.710498    2393.783059    1608.515135   \n",
       "min   -191658.800000  -42607.070000  -31738.125000  -40693.180000   \n",
       "25%     -4559.739000   -1633.363500   -1007.042900    -641.922455   \n",
       "50%      2697.698000     -52.367184     387.223700       9.842993   \n",
       "75%      6833.989500    2392.623400    1241.718850     683.006530   \n",
       "max     13414.081000   21494.496000   21335.578000   15697.617000   \n",
       "\n",
       "                  4              5             6              7  \\\n",
       "count  2.508910e+05  250891.000000  2.508910e+05  250891.000000   \n",
       "mean  -2.576524e-07      -0.000021  3.956584e-08       0.000001   \n",
       "std    1.504860e+03    1410.122647  1.125335e+03     960.422103   \n",
       "min   -3.365417e+04  -15352.530000 -1.388721e+04  -21858.824000   \n",
       "25%   -6.826794e+02    -833.286220 -5.735587e+02    -547.630050   \n",
       "50%   -3.395461e+01    -205.350980 -2.514593e+01      -6.040407   \n",
       "75%    6.048834e+02     725.444900  5.299798e+02     564.080400   \n",
       "max    2.377002e+04   13093.697000  1.824963e+04   20962.053000   \n",
       "\n",
       "                   8              9  \n",
       "count  250891.000000  250891.000000  \n",
       "mean        0.000002      -0.000005  \n",
       "std       995.168821     810.355107  \n",
       "min    -10934.708000  -21200.990000  \n",
       "25%      -489.044740    -417.350620  \n",
       "50%         6.640071     -44.662320  \n",
       "75%       484.843000     371.313645  \n",
       "max     14405.590000   12819.588000  "
      ]
     },
     "execution_count": 36,
     "metadata": {},
     "output_type": "execute_result"
    }
   ],
   "source": [
    "hmds_features.describe()"
   ]
  },
  {
   "cell_type": "code",
   "execution_count": 33,
   "id": "c7871451",
   "metadata": {},
   "outputs": [
    {
     "data": {
      "text/plain": [
       "<AxesSubplot:ylabel='Frequency'>"
      ]
     },
     "execution_count": 33,
     "metadata": {},
     "output_type": "execute_result"
    },
    {
     "data": {
      "image/png": "[encoded data removed]",
      "text/plain": [
       "<Figure size 432x288 with 1 Axes>"
      ]
     },
     "metadata": {
      "needs_background": "light"
     },
     "output_type": "display_data"
    }
   ],
   "source": [
    "hmds_features.iloc[:, 0].plot.hist()"
   ]
  },
  {
   "cell_type": "code",
   "execution_count": 35,
   "id": "f43bdedf",
   "metadata": {},
   "outputs": [
    {
     "data": {
      "text/plain": [
       "count    250891.000000\n",
       "mean         -0.000026\n",
       "std        9329.581303\n",
       "min     -191658.800000\n",
       "25%       -4559.739000\n",
       "50%        2697.698000\n",
       "75%        6833.989500\n",
       "max       13414.081000\n",
       "Name: 0, dtype: float64"
      ]
     },
     "execution_count": 35,
     "metadata": {},
     "output_type": "execute_result"
    }
   ],
   "source": [
    "hmds_features.iloc[:, 0].describe()"
   ]
  },
  {
   "cell_type": "code",
   "execution_count": 41,
   "id": "196c181d",
   "metadata": {},
   "outputs": [
    {
     "name": "stdout",
     "output_type": "stream",
     "text": [
      "[########################################] | 100% Completed |  1min 17.8s\n"
     ]
    },
    {
     "name": "stderr",
     "output_type": "stream",
     "text": [
      "<ipython-input-39-7295f8c2aeb9>:1: RuntimeWarning: overflow encountered in matmul\n",
      "  res_da = hcos_dists_dd.map_partitions(lambda X: pd.DataFrame((np.array(X) - ipca.mean_) @ ipca.components_.T))\n"
     ]
    }
   ],
   "source": [
    "with ProgressBar():\n",
    "    p1 = res_da.get_partition(0).compute()"
   ]
  },
  {
   "cell_type": "code",
   "execution_count": 71,
   "id": "a342ae2a",
   "metadata": {},
   "outputs": [
    {
     "data": {
      "text/plain": [
       "(Delayed('int-d3ed17b3-5fb2-41ca-80cf-215c50d93da9'), 10)"
      ]
     },
     "execution_count": 71,
     "metadata": {},
     "output_type": "execute_result"
    }
   ],
   "source": [
    "res_da.shape"
   ]
  },
  {
   "cell_type": "code",
   "execution_count": 70,
   "id": "a9a8fc98",
   "metadata": {},
   "outputs": [
    {
     "name": "stdout",
     "output_type": "stream",
     "text": [
      "[########                                ] | 20% Completed | 31.9s\n"
     ]
    },
    {
     "ename": "KeyboardInterrupt",
     "evalue": "",
     "output_type": "error",
     "traceback": [
      "\u001b[0;31m---------------------------------------------------------------------------\u001b[0m",
      "\u001b[0;31mKeyboardInterrupt\u001b[0m                         Traceback (most recent call last)",
      "\u001b[0;32m<ipython-input-70-353091bfd3ad>\u001b[0m in \u001b[0;36m<module>\u001b[0;34m\u001b[0m\n\u001b[1;32m      1\u001b[0m \u001b[0;32mwith\u001b[0m \u001b[0mProgressBar\u001b[0m\u001b[0;34m(\u001b[0m\u001b[0;34m)\u001b[0m\u001b[0;34m:\u001b[0m\u001b[0;34m\u001b[0m\u001b[0;34m\u001b[0m\u001b[0m\n\u001b[0;32m----> 2\u001b[0;31m     \u001b[0mres_da\u001b[0m\u001b[0;34m.\u001b[0m\u001b[0mto_hdf\u001b[0m\u001b[0;34m(\u001b[0m\u001b[0;34m\"data/hmds_features.h5\"\u001b[0m\u001b[0;34m,\u001b[0m \u001b[0;34m\"/hmds\"\u001b[0m\u001b[0;34m)\u001b[0m\u001b[0;34m\u001b[0m\u001b[0;34m\u001b[0m\u001b[0m\n\u001b[0m",
      "\u001b[0;32m~/.local/lib/python3.8/site-packages/dask/dataframe/core.py\u001b[0m in \u001b[0;36mto_hdf\u001b[0;34m(self, path_or_buf, key, mode, append, **kwargs)\u001b[0m\n\u001b[1;32m   1481\u001b[0m         \u001b[0;32mfrom\u001b[0m \u001b[0;34m.\u001b[0m\u001b[0mio\u001b[0m \u001b[0;32mimport\u001b[0m \u001b[0mto_hdf\u001b[0m\u001b[0;34m\u001b[0m\u001b[0;34m\u001b[0m\u001b[0m\n\u001b[1;32m   1482\u001b[0m \u001b[0;34m\u001b[0m\u001b[0m\n\u001b[0;32m-> 1483\u001b[0;31m         \u001b[0;32mreturn\u001b[0m \u001b[0mto_hdf\u001b[0m\u001b[0;34m(\u001b[0m\u001b[0mself\u001b[0m\u001b[0;34m,\u001b[0m \u001b[0mpath_or_buf\u001b[0m\u001b[0;34m,\u001b[0m \u001b[0mkey\u001b[0m\u001b[0;34m,\u001b[0m \u001b[0mmode\u001b[0m\u001b[0;34m,\u001b[0m \u001b[0mappend\u001b[0m\u001b[0;34m,\u001b[0m \u001b[0;34m**\u001b[0m\u001b[0mkwargs\u001b[0m\u001b[0;34m)\u001b[0m\u001b[0;34m\u001b[0m\u001b[0;34m\u001b[0m\u001b[0m\n\u001b[0m\u001b[1;32m   1484\u001b[0m \u001b[0;34m\u001b[0m\u001b[0m\n\u001b[1;32m   1485\u001b[0m     \u001b[0;32mdef\u001b[0m \u001b[0mto_csv\u001b[0m\u001b[0;34m(\u001b[0m\u001b[0mself\u001b[0m\u001b[0;34m,\u001b[0m \u001b[0mfilename\u001b[0m\u001b[0;34m,\u001b[0m \u001b[0;34m**\u001b[0m\u001b[0mkwargs\u001b[0m\u001b[0;34m)\u001b[0m\u001b[0;34m:\u001b[0m\u001b[0;34m\u001b[0m\u001b[0;34m\u001b[0m\u001b[0m\n",
      "\u001b[0;32m~/.local/lib/python3.8/site-packages/dask/dataframe/io/hdf.py\u001b[0m in \u001b[0;36mto_hdf\u001b[0;34m(df, path, key, mode, append, scheduler, name_function, compute, lock, dask_kwargs, **kwargs)\u001b[0m\n\u001b[1;32m    249\u001b[0m \u001b[0;34m\u001b[0m\u001b[0m\n\u001b[1;32m    250\u001b[0m     \u001b[0;32mif\u001b[0m \u001b[0mcompute\u001b[0m\u001b[0;34m:\u001b[0m\u001b[0;34m\u001b[0m\u001b[0;34m\u001b[0m\u001b[0m\n\u001b[0;32m--> 251\u001b[0;31m         compute_as_if_collection(\n\u001b[0m\u001b[1;32m    252\u001b[0m             \u001b[0mDataFrame\u001b[0m\u001b[0;34m,\u001b[0m \u001b[0mdsk\u001b[0m\u001b[0;34m,\u001b[0m \u001b[0mkeys\u001b[0m\u001b[0;34m,\u001b[0m \u001b[0mscheduler\u001b[0m\u001b[0;34m=\u001b[0m\u001b[0mscheduler\u001b[0m\u001b[0;34m,\u001b[0m \u001b[0;34m**\u001b[0m\u001b[0mdask_kwargs\u001b[0m\u001b[0;34m\u001b[0m\u001b[0;34m\u001b[0m\u001b[0m\n\u001b[1;32m    253\u001b[0m         )\n",
      "\u001b[0;32m~/.local/lib/python3.8/site-packages/dask/base.py\u001b[0m in \u001b[0;36mcompute_as_if_collection\u001b[0;34m(cls, dsk, keys, scheduler, get, **kwargs)\u001b[0m\n\u001b[1;32m    311\u001b[0m     \u001b[0mschedule\u001b[0m \u001b[0;34m=\u001b[0m \u001b[0mget_scheduler\u001b[0m\u001b[0;34m(\u001b[0m\u001b[0mscheduler\u001b[0m\u001b[0;34m=\u001b[0m\u001b[0mscheduler\u001b[0m\u001b[0;34m,\u001b[0m \u001b[0mcls\u001b[0m\u001b[0;34m=\u001b[0m\u001b[0mcls\u001b[0m\u001b[0;34m,\u001b[0m \u001b[0mget\u001b[0m\u001b[0;34m=\u001b[0m\u001b[0mget\u001b[0m\u001b[0;34m)\u001b[0m\u001b[0;34m\u001b[0m\u001b[0;34m\u001b[0m\u001b[0m\n\u001b[1;32m    312\u001b[0m     \u001b[0mdsk2\u001b[0m \u001b[0;34m=\u001b[0m \u001b[0moptimization_function\u001b[0m\u001b[0;34m(\u001b[0m\u001b[0mcls\u001b[0m\u001b[0;34m)\u001b[0m\u001b[0;34m(\u001b[0m\u001b[0mensure_dict\u001b[0m\u001b[0;34m(\u001b[0m\u001b[0mdsk\u001b[0m\u001b[0;34m)\u001b[0m\u001b[0;34m,\u001b[0m \u001b[0mkeys\u001b[0m\u001b[0;34m,\u001b[0m \u001b[0;34m**\u001b[0m\u001b[0mkwargs\u001b[0m\u001b[0;34m)\u001b[0m\u001b[0;34m\u001b[0m\u001b[0;34m\u001b[0m\u001b[0m\n\u001b[0;32m--> 313\u001b[0;31m     \u001b[0;32mreturn\u001b[0m \u001b[0mschedule\u001b[0m\u001b[0;34m(\u001b[0m\u001b[0mdsk2\u001b[0m\u001b[0;34m,\u001b[0m \u001b[0mkeys\u001b[0m\u001b[0;34m,\u001b[0m \u001b[0;34m**\u001b[0m\u001b[0mkwargs\u001b[0m\u001b[0;34m)\u001b[0m\u001b[0;34m\u001b[0m\u001b[0;34m\u001b[0m\u001b[0m\n\u001b[0m\u001b[1;32m    314\u001b[0m \u001b[0;34m\u001b[0m\u001b[0m\n\u001b[1;32m    315\u001b[0m \u001b[0;34m\u001b[0m\u001b[0m\n",
      "\u001b[0;32m~/.local/lib/python3.8/site-packages/dask/local.py\u001b[0m in \u001b[0;36mget_sync\u001b[0;34m(dsk, keys, **kwargs)\u001b[0m\n\u001b[1;32m    558\u001b[0m     \"\"\"\n\u001b[1;32m    559\u001b[0m     \u001b[0mkwargs\u001b[0m\u001b[0;34m.\u001b[0m\u001b[0mpop\u001b[0m\u001b[0;34m(\u001b[0m\u001b[0;34m\"num_workers\"\u001b[0m\u001b[0;34m,\u001b[0m \u001b[0;32mNone\u001b[0m\u001b[0;34m)\u001b[0m  \u001b[0;31m# if num_workers present, remove it\u001b[0m\u001b[0;34m\u001b[0m\u001b[0;34m\u001b[0m\u001b[0m\n\u001b[0;32m--> 560\u001b[0;31m     return get_async(\n\u001b[0m\u001b[1;32m    561\u001b[0m         \u001b[0msynchronous_executor\u001b[0m\u001b[0;34m.\u001b[0m\u001b[0msubmit\u001b[0m\u001b[0;34m,\u001b[0m\u001b[0;34m\u001b[0m\u001b[0;34m\u001b[0m\u001b[0m\n\u001b[1;32m    562\u001b[0m         \u001b[0msynchronous_executor\u001b[0m\u001b[0;34m.\u001b[0m\u001b[0m_max_workers\u001b[0m\u001b[0;34m,\u001b[0m\u001b[0;34m\u001b[0m\u001b[0;34m\u001b[0m\u001b[0m\n",
      "\u001b[0;32m~/.local/lib/python3.8/site-packages/dask/local.py\u001b[0m in \u001b[0;36mget_async\u001b[0;34m(submit, num_workers, dsk, result, cache, get_id, rerun_exceptions_locally, pack_exception, raise_exception, callbacks, dumps, loads, chunksize, **kwargs)\u001b[0m\n\u001b[1;32m    501\u001b[0m             \u001b[0;32mwhile\u001b[0m \u001b[0mstate\u001b[0m\u001b[0;34m[\u001b[0m\u001b[0;34m\"waiting\"\u001b[0m\u001b[0;34m]\u001b[0m \u001b[0;32mor\u001b[0m \u001b[0mstate\u001b[0m\u001b[0;34m[\u001b[0m\u001b[0;34m\"ready\"\u001b[0m\u001b[0;34m]\u001b[0m \u001b[0;32mor\u001b[0m \u001b[0mstate\u001b[0m\u001b[0;34m[\u001b[0m\u001b[0;34m\"running\"\u001b[0m\u001b[0;34m]\u001b[0m\u001b[0;34m:\u001b[0m\u001b[0;34m\u001b[0m\u001b[0;34m\u001b[0m\u001b[0m\n\u001b[1;32m    502\u001b[0m                 \u001b[0mfire_tasks\u001b[0m\u001b[0;34m(\u001b[0m\u001b[0mchunksize\u001b[0m\u001b[0;34m)\u001b[0m\u001b[0;34m\u001b[0m\u001b[0;34m\u001b[0m\u001b[0m\n\u001b[0;32m--> 503\u001b[0;31m                 \u001b[0;32mfor\u001b[0m \u001b[0mkey\u001b[0m\u001b[0;34m,\u001b[0m \u001b[0mres_info\u001b[0m\u001b[0;34m,\u001b[0m \u001b[0mfailed\u001b[0m \u001b[0;32min\u001b[0m \u001b[0mqueue_get\u001b[0m\u001b[0;34m(\u001b[0m\u001b[0mqueue\u001b[0m\u001b[0;34m)\u001b[0m\u001b[0;34m.\u001b[0m\u001b[0mresult\u001b[0m\u001b[0;34m(\u001b[0m\u001b[0;34m)\u001b[0m\u001b[0;34m:\u001b[0m\u001b[0;34m\u001b[0m\u001b[0;34m\u001b[0m\u001b[0m\n\u001b[0m\u001b[1;32m    504\u001b[0m                     \u001b[0;32mif\u001b[0m \u001b[0mfailed\u001b[0m\u001b[0;34m:\u001b[0m\u001b[0;34m\u001b[0m\u001b[0;34m\u001b[0m\u001b[0m\n\u001b[1;32m    505\u001b[0m                         \u001b[0mexc\u001b[0m\u001b[0;34m,\u001b[0m \u001b[0mtb\u001b[0m \u001b[0;34m=\u001b[0m \u001b[0mloads\u001b[0m\u001b[0;34m(\u001b[0m\u001b[0mres_info\u001b[0m\u001b[0;34m)\u001b[0m\u001b[0;34m\u001b[0m\u001b[0;34m\u001b[0m\u001b[0m\n",
      "\u001b[0;32m/usr/lib/python3.8/concurrent/futures/_base.py\u001b[0m in \u001b[0;36mresult\u001b[0;34m(self, timeout)\u001b[0m\n\u001b[1;32m    435\u001b[0m                     \u001b[0;32mraise\u001b[0m \u001b[0mCancelledError\u001b[0m\u001b[0;34m(\u001b[0m\u001b[0;34m)\u001b[0m\u001b[0;34m\u001b[0m\u001b[0;34m\u001b[0m\u001b[0m\n\u001b[1;32m    436\u001b[0m                 \u001b[0;32melif\u001b[0m \u001b[0mself\u001b[0m\u001b[0;34m.\u001b[0m\u001b[0m_state\u001b[0m \u001b[0;34m==\u001b[0m \u001b[0mFINISHED\u001b[0m\u001b[0;34m:\u001b[0m\u001b[0;34m\u001b[0m\u001b[0;34m\u001b[0m\u001b[0m\n\u001b[0;32m--> 437\u001b[0;31m                     \u001b[0;32mreturn\u001b[0m \u001b[0mself\u001b[0m\u001b[0;34m.\u001b[0m\u001b[0m__get_result\u001b[0m\u001b[0;34m(\u001b[0m\u001b[0;34m)\u001b[0m\u001b[0;34m\u001b[0m\u001b[0;34m\u001b[0m\u001b[0m\n\u001b[0m\u001b[1;32m    438\u001b[0m \u001b[0;34m\u001b[0m\u001b[0m\n\u001b[1;32m    439\u001b[0m                 \u001b[0mself\u001b[0m\u001b[0;34m.\u001b[0m\u001b[0m_condition\u001b[0m\u001b[0;34m.\u001b[0m\u001b[0mwait\u001b[0m\u001b[0;34m(\u001b[0m\u001b[0mtimeout\u001b[0m\u001b[0;34m)\u001b[0m\u001b[0;34m\u001b[0m\u001b[0;34m\u001b[0m\u001b[0m\n",
      "\u001b[0;32m/usr/lib/python3.8/concurrent/futures/_base.py\u001b[0m in \u001b[0;36m__get_result\u001b[0;34m(self)\u001b[0m\n\u001b[1;32m    387\u001b[0m         \u001b[0;32mif\u001b[0m \u001b[0mself\u001b[0m\u001b[0;34m.\u001b[0m\u001b[0m_exception\u001b[0m\u001b[0;34m:\u001b[0m\u001b[0;34m\u001b[0m\u001b[0;34m\u001b[0m\u001b[0m\n\u001b[1;32m    388\u001b[0m             \u001b[0;32mtry\u001b[0m\u001b[0;34m:\u001b[0m\u001b[0;34m\u001b[0m\u001b[0;34m\u001b[0m\u001b[0m\n\u001b[0;32m--> 389\u001b[0;31m                 \u001b[0;32mraise\u001b[0m \u001b[0mself\u001b[0m\u001b[0;34m.\u001b[0m\u001b[0m_exception\u001b[0m\u001b[0;34m\u001b[0m\u001b[0;34m\u001b[0m\u001b[0m\n\u001b[0m\u001b[1;32m    390\u001b[0m             \u001b[0;32mfinally\u001b[0m\u001b[0;34m:\u001b[0m\u001b[0;34m\u001b[0m\u001b[0;34m\u001b[0m\u001b[0m\n\u001b[1;32m    391\u001b[0m                 \u001b[0;31m# Break a reference cycle with the exception in self._exception\u001b[0m\u001b[0;34m\u001b[0m\u001b[0;34m\u001b[0m\u001b[0;34m\u001b[0m\u001b[0m\n",
      "\u001b[0;32m~/.local/lib/python3.8/site-packages/dask/local.py\u001b[0m in \u001b[0;36msubmit\u001b[0;34m(self, fn, *args, **kwargs)\u001b[0m\n\u001b[1;32m    543\u001b[0m         \u001b[0mfut\u001b[0m \u001b[0;34m=\u001b[0m \u001b[0mFuture\u001b[0m\u001b[0;34m(\u001b[0m\u001b[0;34m)\u001b[0m\u001b[0;34m\u001b[0m\u001b[0;34m\u001b[0m\u001b[0m\n\u001b[1;32m    544\u001b[0m         \u001b[0;32mtry\u001b[0m\u001b[0;34m:\u001b[0m\u001b[0;34m\u001b[0m\u001b[0;34m\u001b[0m\u001b[0m\n\u001b[0;32m--> 545\u001b[0;31m             \u001b[0mfut\u001b[0m\u001b[0;34m.\u001b[0m\u001b[0mset_result\u001b[0m\u001b[0;34m(\u001b[0m\u001b[0mfn\u001b[0m\u001b[0;34m(\u001b[0m\u001b[0;34m*\u001b[0m\u001b[0margs\u001b[0m\u001b[0;34m,\u001b[0m \u001b[0;34m**\u001b[0m\u001b[0mkwargs\u001b[0m\u001b[0;34m)\u001b[0m\u001b[0;34m)\u001b[0m\u001b[0;34m\u001b[0m\u001b[0;34m\u001b[0m\u001b[0m\n\u001b[0m\u001b[1;32m    546\u001b[0m         \u001b[0;32mexcept\u001b[0m \u001b[0mBaseException\u001b[0m \u001b[0;32mas\u001b[0m \u001b[0me\u001b[0m\u001b[0;34m:\u001b[0m\u001b[0;34m\u001b[0m\u001b[0;34m\u001b[0m\u001b[0m\n\u001b[1;32m    547\u001b[0m             \u001b[0mfut\u001b[0m\u001b[0;34m.\u001b[0m\u001b[0mset_exception\u001b[0m\u001b[0;34m(\u001b[0m\u001b[0me\u001b[0m\u001b[0;34m)\u001b[0m\u001b[0;34m\u001b[0m\u001b[0;34m\u001b[0m\u001b[0m\n",
      "\u001b[0;32m~/.local/lib/python3.8/site-packages/dask/local.py\u001b[0m in \u001b[0;36mbatch_execute_tasks\u001b[0;34m(it)\u001b[0m\n\u001b[1;32m    235\u001b[0m     \u001b[0mBatch\u001b[0m \u001b[0mcomputing\u001b[0m \u001b[0mof\u001b[0m \u001b[0mmultiple\u001b[0m \u001b[0mtasks\u001b[0m \u001b[0;32mwith\u001b[0m\u001b[0;31m \u001b[0m\u001b[0;31m`\u001b[0m\u001b[0mexecute_task\u001b[0m\u001b[0;31m`\u001b[0m\u001b[0;34m\u001b[0m\u001b[0;34m\u001b[0m\u001b[0m\n\u001b[1;32m    236\u001b[0m     \"\"\"\n\u001b[0;32m--> 237\u001b[0;31m     \u001b[0;32mreturn\u001b[0m \u001b[0;34m[\u001b[0m\u001b[0mexecute_task\u001b[0m\u001b[0;34m(\u001b[0m\u001b[0;34m*\u001b[0m\u001b[0ma\u001b[0m\u001b[0;34m)\u001b[0m \u001b[0;32mfor\u001b[0m \u001b[0ma\u001b[0m \u001b[0;32min\u001b[0m \u001b[0mit\u001b[0m\u001b[0;34m]\u001b[0m\u001b[0;34m\u001b[0m\u001b[0;34m\u001b[0m\u001b[0m\n\u001b[0m\u001b[1;32m    238\u001b[0m \u001b[0;34m\u001b[0m\u001b[0m\n\u001b[1;32m    239\u001b[0m \u001b[0;34m\u001b[0m\u001b[0m\n",
      "\u001b[0;32m~/.local/lib/python3.8/site-packages/dask/local.py\u001b[0m in \u001b[0;36m<listcomp>\u001b[0;34m(.0)\u001b[0m\n\u001b[1;32m    235\u001b[0m     \u001b[0mBatch\u001b[0m \u001b[0mcomputing\u001b[0m \u001b[0mof\u001b[0m \u001b[0mmultiple\u001b[0m \u001b[0mtasks\u001b[0m \u001b[0;32mwith\u001b[0m\u001b[0;31m \u001b[0m\u001b[0;31m`\u001b[0m\u001b[0mexecute_task\u001b[0m\u001b[0;31m`\u001b[0m\u001b[0;34m\u001b[0m\u001b[0;34m\u001b[0m\u001b[0m\n\u001b[1;32m    236\u001b[0m     \"\"\"\n\u001b[0;32m--> 237\u001b[0;31m     \u001b[0;32mreturn\u001b[0m \u001b[0;34m[\u001b[0m\u001b[0mexecute_task\u001b[0m\u001b[0;34m(\u001b[0m\u001b[0;34m*\u001b[0m\u001b[0ma\u001b[0m\u001b[0;34m)\u001b[0m \u001b[0;32mfor\u001b[0m \u001b[0ma\u001b[0m \u001b[0;32min\u001b[0m \u001b[0mit\u001b[0m\u001b[0;34m]\u001b[0m\u001b[0;34m\u001b[0m\u001b[0;34m\u001b[0m\u001b[0m\n\u001b[0m\u001b[1;32m    238\u001b[0m \u001b[0;34m\u001b[0m\u001b[0m\n\u001b[1;32m    239\u001b[0m \u001b[0;34m\u001b[0m\u001b[0m\n",
      "\u001b[0;32m~/.local/lib/python3.8/site-packages/dask/local.py\u001b[0m in \u001b[0;36mexecute_task\u001b[0;34m(key, task_info, dumps, loads, get_id, pack_exception)\u001b[0m\n\u001b[1;32m    226\u001b[0m         \u001b[0mfailed\u001b[0m \u001b[0;34m=\u001b[0m \u001b[0;32mFalse\u001b[0m\u001b[0;34m\u001b[0m\u001b[0;34m\u001b[0m\u001b[0m\n\u001b[1;32m    227\u001b[0m     \u001b[0;32mexcept\u001b[0m \u001b[0mBaseException\u001b[0m \u001b[0;32mas\u001b[0m \u001b[0me\u001b[0m\u001b[0;34m:\u001b[0m\u001b[0;34m\u001b[0m\u001b[0;34m\u001b[0m\u001b[0m\n\u001b[0;32m--> 228\u001b[0;31m         \u001b[0mresult\u001b[0m \u001b[0;34m=\u001b[0m \u001b[0mpack_exception\u001b[0m\u001b[0;34m(\u001b[0m\u001b[0me\u001b[0m\u001b[0;34m,\u001b[0m \u001b[0mdumps\u001b[0m\u001b[0;34m)\u001b[0m\u001b[0;34m\u001b[0m\u001b[0;34m\u001b[0m\u001b[0m\n\u001b[0m\u001b[1;32m    229\u001b[0m         \u001b[0mfailed\u001b[0m \u001b[0;34m=\u001b[0m \u001b[0;32mTrue\u001b[0m\u001b[0;34m\u001b[0m\u001b[0;34m\u001b[0m\u001b[0m\n\u001b[1;32m    230\u001b[0m     \u001b[0;32mreturn\u001b[0m \u001b[0mkey\u001b[0m\u001b[0;34m,\u001b[0m \u001b[0mresult\u001b[0m\u001b[0;34m,\u001b[0m \u001b[0mfailed\u001b[0m\u001b[0;34m\u001b[0m\u001b[0;34m\u001b[0m\u001b[0m\n",
      "\u001b[0;32m~/.local/lib/python3.8/site-packages/dask/local.py\u001b[0m in \u001b[0;36mexecute_task\u001b[0;34m(key, task_info, dumps, loads, get_id, pack_exception)\u001b[0m\n\u001b[1;32m    221\u001b[0m     \u001b[0;32mtry\u001b[0m\u001b[0;34m:\u001b[0m\u001b[0;34m\u001b[0m\u001b[0;34m\u001b[0m\u001b[0m\n\u001b[1;32m    222\u001b[0m         \u001b[0mtask\u001b[0m\u001b[0;34m,\u001b[0m \u001b[0mdata\u001b[0m \u001b[0;34m=\u001b[0m \u001b[0mloads\u001b[0m\u001b[0;34m(\u001b[0m\u001b[0mtask_info\u001b[0m\u001b[0;34m)\u001b[0m\u001b[0;34m\u001b[0m\u001b[0;34m\u001b[0m\u001b[0m\n\u001b[0;32m--> 223\u001b[0;31m         \u001b[0mresult\u001b[0m \u001b[0;34m=\u001b[0m \u001b[0m_execute_task\u001b[0m\u001b[0;34m(\u001b[0m\u001b[0mtask\u001b[0m\u001b[0;34m,\u001b[0m \u001b[0mdata\u001b[0m\u001b[0;34m)\u001b[0m\u001b[0;34m\u001b[0m\u001b[0;34m\u001b[0m\u001b[0m\n\u001b[0m\u001b[1;32m    224\u001b[0m         \u001b[0mid\u001b[0m \u001b[0;34m=\u001b[0m \u001b[0mget_id\u001b[0m\u001b[0;34m(\u001b[0m\u001b[0;34m)\u001b[0m\u001b[0;34m\u001b[0m\u001b[0;34m\u001b[0m\u001b[0m\n\u001b[1;32m    225\u001b[0m         \u001b[0mresult\u001b[0m \u001b[0;34m=\u001b[0m \u001b[0mdumps\u001b[0m\u001b[0;34m(\u001b[0m\u001b[0;34m(\u001b[0m\u001b[0mresult\u001b[0m\u001b[0;34m,\u001b[0m \u001b[0mid\u001b[0m\u001b[0;34m)\u001b[0m\u001b[0;34m)\u001b[0m\u001b[0;34m\u001b[0m\u001b[0;34m\u001b[0m\u001b[0m\n",
      "\u001b[0;32m~/.local/lib/python3.8/site-packages/dask/core.py\u001b[0m in \u001b[0;36m_execute_task\u001b[0;34m(arg, cache, dsk)\u001b[0m\n\u001b[1;32m    119\u001b[0m         \u001b[0;31m# temporaries by their reference count and can execute certain\u001b[0m\u001b[0;34m\u001b[0m\u001b[0;34m\u001b[0m\u001b[0;34m\u001b[0m\u001b[0m\n\u001b[1;32m    120\u001b[0m         \u001b[0;31m# operations in-place.\u001b[0m\u001b[0;34m\u001b[0m\u001b[0;34m\u001b[0m\u001b[0;34m\u001b[0m\u001b[0m\n\u001b[0;32m--> 121\u001b[0;31m         \u001b[0;32mreturn\u001b[0m \u001b[0mfunc\u001b[0m\u001b[0;34m(\u001b[0m\u001b[0;34m*\u001b[0m\u001b[0;34m(\u001b[0m\u001b[0m_execute_task\u001b[0m\u001b[0;34m(\u001b[0m\u001b[0ma\u001b[0m\u001b[0;34m,\u001b[0m \u001b[0mcache\u001b[0m\u001b[0;34m)\u001b[0m \u001b[0;32mfor\u001b[0m \u001b[0ma\u001b[0m \u001b[0;32min\u001b[0m \u001b[0margs\u001b[0m\u001b[0;34m)\u001b[0m\u001b[0;34m)\u001b[0m\u001b[0;34m\u001b[0m\u001b[0;34m\u001b[0m\u001b[0m\n\u001b[0m\u001b[1;32m    122\u001b[0m     \u001b[0;32melif\u001b[0m \u001b[0;32mnot\u001b[0m \u001b[0mishashable\u001b[0m\u001b[0;34m(\u001b[0m\u001b[0marg\u001b[0m\u001b[0;34m)\u001b[0m\u001b[0;34m:\u001b[0m\u001b[0;34m\u001b[0m\u001b[0;34m\u001b[0m\u001b[0m\n\u001b[1;32m    123\u001b[0m         \u001b[0;32mreturn\u001b[0m \u001b[0marg\u001b[0m\u001b[0;34m\u001b[0m\u001b[0;34m\u001b[0m\u001b[0m\n",
      "\u001b[0;32m~/.local/lib/python3.8/site-packages/dask/core.py\u001b[0m in \u001b[0;36m<genexpr>\u001b[0;34m(.0)\u001b[0m\n\u001b[1;32m    119\u001b[0m         \u001b[0;31m# temporaries by their reference count and can execute certain\u001b[0m\u001b[0;34m\u001b[0m\u001b[0;34m\u001b[0m\u001b[0;34m\u001b[0m\u001b[0m\n\u001b[1;32m    120\u001b[0m         \u001b[0;31m# operations in-place.\u001b[0m\u001b[0;34m\u001b[0m\u001b[0;34m\u001b[0m\u001b[0;34m\u001b[0m\u001b[0m\n\u001b[0;32m--> 121\u001b[0;31m         \u001b[0;32mreturn\u001b[0m \u001b[0mfunc\u001b[0m\u001b[0;34m(\u001b[0m\u001b[0;34m*\u001b[0m\u001b[0;34m(\u001b[0m\u001b[0m_execute_task\u001b[0m\u001b[0;34m(\u001b[0m\u001b[0ma\u001b[0m\u001b[0;34m,\u001b[0m \u001b[0mcache\u001b[0m\u001b[0;34m)\u001b[0m \u001b[0;32mfor\u001b[0m \u001b[0ma\u001b[0m \u001b[0;32min\u001b[0m \u001b[0margs\u001b[0m\u001b[0;34m)\u001b[0m\u001b[0;34m)\u001b[0m\u001b[0;34m\u001b[0m\u001b[0;34m\u001b[0m\u001b[0m\n\u001b[0m\u001b[1;32m    122\u001b[0m     \u001b[0;32melif\u001b[0m \u001b[0;32mnot\u001b[0m \u001b[0mishashable\u001b[0m\u001b[0;34m(\u001b[0m\u001b[0marg\u001b[0m\u001b[0;34m)\u001b[0m\u001b[0;34m:\u001b[0m\u001b[0;34m\u001b[0m\u001b[0;34m\u001b[0m\u001b[0m\n\u001b[1;32m    123\u001b[0m         \u001b[0;32mreturn\u001b[0m \u001b[0marg\u001b[0m\u001b[0;34m\u001b[0m\u001b[0;34m\u001b[0m\u001b[0m\n",
      "\u001b[0;32m~/.local/lib/python3.8/site-packages/dask/core.py\u001b[0m in \u001b[0;36m_execute_task\u001b[0;34m(arg, cache, dsk)\u001b[0m\n\u001b[1;32m    119\u001b[0m         \u001b[0;31m# temporaries by their reference count and can execute certain\u001b[0m\u001b[0;34m\u001b[0m\u001b[0;34m\u001b[0m\u001b[0;34m\u001b[0m\u001b[0m\n\u001b[1;32m    120\u001b[0m         \u001b[0;31m# operations in-place.\u001b[0m\u001b[0;34m\u001b[0m\u001b[0;34m\u001b[0m\u001b[0;34m\u001b[0m\u001b[0m\n\u001b[0;32m--> 121\u001b[0;31m         \u001b[0;32mreturn\u001b[0m \u001b[0mfunc\u001b[0m\u001b[0;34m(\u001b[0m\u001b[0;34m*\u001b[0m\u001b[0;34m(\u001b[0m\u001b[0m_execute_task\u001b[0m\u001b[0;34m(\u001b[0m\u001b[0ma\u001b[0m\u001b[0;34m,\u001b[0m \u001b[0mcache\u001b[0m\u001b[0;34m)\u001b[0m \u001b[0;32mfor\u001b[0m \u001b[0ma\u001b[0m \u001b[0;32min\u001b[0m \u001b[0margs\u001b[0m\u001b[0;34m)\u001b[0m\u001b[0;34m)\u001b[0m\u001b[0;34m\u001b[0m\u001b[0;34m\u001b[0m\u001b[0m\n\u001b[0m\u001b[1;32m    122\u001b[0m     \u001b[0;32melif\u001b[0m \u001b[0;32mnot\u001b[0m \u001b[0mishashable\u001b[0m\u001b[0;34m(\u001b[0m\u001b[0marg\u001b[0m\u001b[0;34m)\u001b[0m\u001b[0;34m:\u001b[0m\u001b[0;34m\u001b[0m\u001b[0;34m\u001b[0m\u001b[0m\n\u001b[1;32m    123\u001b[0m         \u001b[0;32mreturn\u001b[0m \u001b[0marg\u001b[0m\u001b[0;34m\u001b[0m\u001b[0;34m\u001b[0m\u001b[0m\n",
      "\u001b[0;32mh5py/_objects.pyx\u001b[0m in \u001b[0;36mh5py._objects.with_phil.wrapper\u001b[0;34m()\u001b[0m\n",
      "\u001b[0;32mh5py/_objects.pyx\u001b[0m in \u001b[0;36mh5py._objects.with_phil.wrapper\u001b[0;34m()\u001b[0m\n",
      "\u001b[0;32m/usr/lib/python3/dist-packages/h5py/_hl/dataset.py\u001b[0m in \u001b[0;36m__getitem__\u001b[0;34m(self, args)\u001b[0m\n\u001b[1;32m    571\u001b[0m         \u001b[0mmspace\u001b[0m \u001b[0;34m=\u001b[0m \u001b[0mh5s\u001b[0m\u001b[0;34m.\u001b[0m\u001b[0mcreate_simple\u001b[0m\u001b[0;34m(\u001b[0m\u001b[0mmshape\u001b[0m\u001b[0;34m)\u001b[0m\u001b[0;34m\u001b[0m\u001b[0;34m\u001b[0m\u001b[0m\n\u001b[1;32m    572\u001b[0m         \u001b[0mfspace\u001b[0m \u001b[0;34m=\u001b[0m \u001b[0mselection\u001b[0m\u001b[0;34m.\u001b[0m\u001b[0mid\u001b[0m\u001b[0;34m\u001b[0m\u001b[0;34m\u001b[0m\u001b[0m\n\u001b[0;32m--> 573\u001b[0;31m         \u001b[0mself\u001b[0m\u001b[0;34m.\u001b[0m\u001b[0mid\u001b[0m\u001b[0;34m.\u001b[0m\u001b[0mread\u001b[0m\u001b[0;34m(\u001b[0m\u001b[0mmspace\u001b[0m\u001b[0;34m,\u001b[0m \u001b[0mfspace\u001b[0m\u001b[0;34m,\u001b[0m \u001b[0marr\u001b[0m\u001b[0;34m,\u001b[0m \u001b[0mmtype\u001b[0m\u001b[0;34m,\u001b[0m \u001b[0mdxpl\u001b[0m\u001b[0;34m=\u001b[0m\u001b[0mself\u001b[0m\u001b[0;34m.\u001b[0m\u001b[0m_dxpl\u001b[0m\u001b[0;34m)\u001b[0m\u001b[0;34m\u001b[0m\u001b[0;34m\u001b[0m\u001b[0m\n\u001b[0m\u001b[1;32m    574\u001b[0m \u001b[0;34m\u001b[0m\u001b[0m\n\u001b[1;32m    575\u001b[0m         \u001b[0;31m# Patch up the output for NumPy\u001b[0m\u001b[0;34m\u001b[0m\u001b[0;34m\u001b[0m\u001b[0;34m\u001b[0m\u001b[0m\n",
      "\u001b[0;31mKeyboardInterrupt\u001b[0m: "
     ]
    }
   ],
   "source": [
    "with ProgressBar():\n",
    "    res_da.to_hdf(\"data/hmds_features.h5\", \"/hmds\")"
   ]
  },
  {
   "cell_type": "code",
   "execution_count": 45,
   "id": "f44976b0",
   "metadata": {},
   "outputs": [
    {
     "name": "stdout",
     "output_type": "stream",
     "text": [
      "<class 'pandas.core.frame.DataFrame'>\n",
      "RangeIndex: 5000 entries, 0 to 4999\n",
      "Data columns (total 10 columns):\n",
      " #   Column  Non-Null Count  Dtype  \n",
      "---  ------  --------------  -----  \n",
      " 0   0       5000 non-null   float16\n",
      " 1   1       5000 non-null   float16\n",
      " 2   2       5000 non-null   float16\n",
      " 3   3       5000 non-null   float16\n",
      " 4   4       5000 non-null   float16\n",
      " 5   5       5000 non-null   float16\n",
      " 6   6       5000 non-null   float16\n",
      " 7   7       5000 non-null   float16\n",
      " 8   8       5000 non-null   float16\n",
      " 9   9       5000 non-null   float16\n",
      "dtypes: float16(10)\n",
      "memory usage: 97.8 KB\n"
     ]
    }
   ],
   "source": [
    "p1.info()"
   ]
  },
  {
   "cell_type": "code",
   "execution_count": null,
   "id": "f1ee1555",
   "metadata": {},
   "outputs": [],
   "source": []
  },
  {
   "cell_type": "code",
   "execution_count": 26,
   "id": "7cb9e123",
   "metadata": {},
   "outputs": [
    {
     "name": "stdout",
     "output_type": "stream",
     "text": [
      "[########################################] | 100% Completed | 14.7s\n"
     ]
    }
   ],
   "source": [
    "with ProgressBar():\n",
    "    hp1 = hcos_dists_dd.get_partition(0).compute()"
   ]
  },
  {
   "cell_type": "code",
   "execution_count": 36,
   "id": "09088026",
   "metadata": {},
   "outputs": [
    {
     "data": {
      "text/plain": [
       "(5000, 250891)"
      ]
     },
     "execution_count": 36,
     "metadata": {},
     "output_type": "execute_result"
    }
   ],
   "source": [
    "np.array(hp1).shape"
   ]
  },
  {
   "cell_type": "code",
   "execution_count": 30,
   "id": "642e7b5e",
   "metadata": {},
   "outputs": [
    {
     "data": {
      "text/plain": [
       "(5000, 250891)"
      ]
     },
     "execution_count": 30,
     "metadata": {},
     "output_type": "execute_result"
    }
   ],
   "source": []
  },
  {
   "cell_type": "code",
   "execution_count": null,
   "id": "7fce6412",
   "metadata": {},
   "outputs": [],
   "source": [
    "p1.shape()"
   ]
  },
  {
   "cell_type": "code",
   "execution_count": null,
   "id": "ae99e2dc",
   "metadata": {},
   "outputs": [],
   "source": [
    "res_da.to_hdf(\"data/\")"
   ]
  },
  {
   "cell_type": "code",
   "execution_count": null,
   "id": "76ec0c98",
   "metadata": {},
   "outputs": [
    {
     "name": "stdout",
     "output_type": "stream",
     "text": [
      "[####################                    ] | 50% Completed | 43.6s"
     ]
    }
   ],
   "source": [
    "with ProgressBar():\n",
    "    res = res_da.compute()"
   ]
  },
  {
   "cell_type": "code",
   "execution_count": null,
   "id": "4fb54447",
   "metadata": {},
   "outputs": [],
   "source": [
    "dask"
   ]
  },
  {
   "cell_type": "code",
   "execution_count": 27,
   "id": "4ea4170d",
   "metadata": {},
   "outputs": [
    {
     "name": "stdout",
     "output_type": "stream",
     "text": [
      "<class 'dask.dataframe.core.DataFrame'>\n",
      "Columns: 250891 entries, 0 to 250890\n",
      "dtypes: float16(250891)"
     ]
    }
   ],
   "source": [
    "hcos_dists_dd.info()"
   ]
  },
  {
   "cell_type": "code",
   "execution_count": 22,
   "id": "101365da",
   "metadata": {},
   "outputs": [
    {
     "data": {
      "text/plain": [
       "62.946293881"
      ]
     },
     "execution_count": 22,
     "metadata": {},
     "output_type": "execute_result"
    }
   ],
   "source": [
    "(250891 ** 2) / 1000000000"
   ]
  },
  {
   "cell_type": "code",
   "execution_count": null,
   "id": "fab604d4",
   "metadata": {},
   "outputs": [],
   "source": [
    "%%time\n",
    "ipca.transform(hcos_dists_dd.to_dask_array(lengths=True))"
   ]
  },
  {
   "cell_type": "code",
   "execution_count": null,
   "id": "702f210d",
   "metadata": {},
   "outputs": [],
   "source": [
    "features = ipca.transform(hcos_dists_dd.to_dask_array(lengths=True))"
   ]
  },
  {
   "cell_type": "code",
   "execution_count": null,
   "id": "0bb4c221",
   "metadata": {},
   "outputs": [],
   "source": []
  },
  {
   "cell_type": "code",
   "execution_count": null,
   "id": "952c8214",
   "metadata": {},
   "outputs": [],
   "source": [
    "f.close()"
   ]
  }
 ],
 "metadata": {
  "kernelspec": {
   "display_name": "Python 3",
   "language": "python",
   "name": "python3"
  },
  "language_info": {
   "codemirror_mode": {
    "name": "ipython",
    "version": 3
   },
   "file_extension": ".py",
   "mimetype": "text/x-python",
   "name": "python",
   "nbconvert_exporter": "python",
   "pygments_lexer": "ipython3",
   "version": "3.8.10"
  }
 },
 "nbformat": 4,
 "nbformat_minor": 5
}
