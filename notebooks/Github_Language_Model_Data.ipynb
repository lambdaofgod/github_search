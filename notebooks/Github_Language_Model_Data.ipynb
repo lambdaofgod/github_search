{
 "cells": [
  {
   "cell_type": "code",
   "execution_count": 1,
   "metadata": {},
   "outputs": [],
   "source": [
    "import fastai.text"
   ]
  },
  {
   "cell_type": "code",
   "execution_count": 2,
   "metadata": {},
   "outputs": [],
   "source": [
    "from fastai.text import transform"
   ]
  },
  {
   "cell_type": "code",
   "execution_count": 3,
   "metadata": {},
   "outputs": [],
   "source": [
    "from nltk import tokenize"
   ]
  },
  {
   "cell_type": "code",
   "execution_count": 4,
   "metadata": {},
   "outputs": [],
   "source": [
    "import pandas as pd\n",
    "import datetime\n",
    "from bs4 import BeautifulSoup\n",
    "from markdown import markdown\n",
    "from operator import itemgetter\n",
    "\n",
    "import re\n",
    "\n",
    "import html\n",
    "\n",
    "\n",
    "def markdown_to_text(markdown_string):\n",
    "    \"\"\" Converts a markdown string to plaintext \"\"\"\n",
    "\n",
    "    # md -> html -> text since BeautifulSoup can extract text cleanly\n",
    "    html = markdown(markdown_string)\n",
    "\n",
    "    # remove code snippets\n",
    "    html = re.sub(r'<pre>(.*?)</pre>', ' ', html)\n",
    "    html = re.sub(r'<code>(.*?)</code >', ' ', html)\n",
    "    html = re.sub(r'```(.*?)```', ' ', html)\n",
    "    return BeautifulSoup(html).get_text()\n",
    "\n",
    "def tokenize_markdown(markdown_string, n_tokens=250):\n",
    "    text = markdown_to_text(markdown_string)\n",
    "    return nltk.tokenize.wordpunct_tokenize(text)[:n_tokens]\n",
    "\n",
    "\n",
    "def tok_fn(lang):\n",
    "    tok = fastai.text.transform.BaseTokenizer('none')\n",
    "    tok.tokenizer = tokenize_markdown\n",
    "    return tok\n"
   ]
  },
  {
   "cell_type": "code",
   "execution_count": 5,
   "metadata": {},
   "outputs": [],
   "source": [
    "import fastai\n",
    "import nltk"
   ]
  },
  {
   "cell_type": "code",
   "execution_count": 6,
   "metadata": {},
   "outputs": [
    {
     "data": {
      "text/html": [
       "<div>\n",
       "<style scoped>\n",
       "    .dataframe tbody tr th:only-of-type {\n",
       "        vertical-align: middle;\n",
       "    }\n",
       "\n",
       "    .dataframe tbody tr th {\n",
       "        vertical-align: top;\n",
       "    }\n",
       "\n",
       "    .dataframe thead th {\n",
       "        text-align: right;\n",
       "    }\n",
       "</style>\n",
       "<table border=\"1\" class=\"dataframe\">\n",
       "  <thead>\n",
       "    <tr style=\"text-align: right;\">\n",
       "      <th></th>\n",
       "      <th>repo_name</th>\n",
       "      <th>path</th>\n",
       "      <th>content</th>\n",
       "      <th>language</th>\n",
       "    </tr>\n",
       "  </thead>\n",
       "  <tbody>\n",
       "    <tr>\n",
       "      <th>0</th>\n",
       "      <td>mortardata/mortar-etl-redshift</td>\n",
       "      <td>README.md</td>\n",
       "      <td># Mortar ETL Pipeline for Redshift\\n\\nA custom...</td>\n",
       "      <td>[{'name': 'PigLatin', 'bytes': '4890'}, {'name...</td>\n",
       "    </tr>\n",
       "    <tr>\n",
       "      <th>1</th>\n",
       "      <td>tsubery/sidekiq-unique-jobs</td>\n",
       "      <td>README.md</td>\n",
       "      <td># SidekiqUniqueJobs [![Build Status](https://t...</td>\n",
       "      <td>[{'name': 'Ruby', 'bytes': '41751'}]</td>\n",
       "    </tr>\n",
       "    <tr>\n",
       "      <th>2</th>\n",
       "      <td>ovaskevich/svids</td>\n",
       "      <td>README.md</td>\n",
       "      <td># svids\\nIntrusion Detection System - An appli...</td>\n",
       "      <td>[{'name': 'C', 'bytes': '3755'}, {'name': 'Mak...</td>\n",
       "    </tr>\n",
       "    <tr>\n",
       "      <th>3</th>\n",
       "      <td>kfirg77/kDebuger</td>\n",
       "      <td>README.md.orig</td>\n",
       "      <td>kDebuger\\n========\\n\\nShow information about t...</td>\n",
       "      <td>[{'name': 'CSS', 'bytes': '27336'}, {'name': '...</td>\n",
       "    </tr>\n",
       "    <tr>\n",
       "      <th>4</th>\n",
       "      <td>wdi-hk-sep-2014/PepperLunchClone</td>\n",
       "      <td>README.rdoc</td>\n",
       "      <td>== README\\n\\nThis README would normally docume...</td>\n",
       "      <td>[{'name': 'CSS', 'bytes': '2444'}, {'name': 'C...</td>\n",
       "    </tr>\n",
       "  </tbody>\n",
       "</table>\n",
       "</div>"
      ],
      "text/plain": [
       "                          repo_name            path  \\\n",
       "0    mortardata/mortar-etl-redshift       README.md   \n",
       "1       tsubery/sidekiq-unique-jobs       README.md   \n",
       "2                  ovaskevich/svids       README.md   \n",
       "3                  kfirg77/kDebuger  README.md.orig   \n",
       "4  wdi-hk-sep-2014/PepperLunchClone     README.rdoc   \n",
       "\n",
       "                                             content  \\\n",
       "0  # Mortar ETL Pipeline for Redshift\\n\\nA custom...   \n",
       "1  # SidekiqUniqueJobs [![Build Status](https://t...   \n",
       "2  # svids\\nIntrusion Detection System - An appli...   \n",
       "3  kDebuger\\n========\\n\\nShow information about t...   \n",
       "4  == README\\n\\nThis README would normally docume...   \n",
       "\n",
       "                                            language  \n",
       "0  [{'name': 'PigLatin', 'bytes': '4890'}, {'name...  \n",
       "1               [{'name': 'Ruby', 'bytes': '41751'}]  \n",
       "2  [{'name': 'C', 'bytes': '3755'}, {'name': 'Mak...  \n",
       "3  [{'name': 'CSS', 'bytes': '27336'}, {'name': '...  \n",
       "4  [{'name': 'CSS', 'bytes': '2444'}, {'name': 'C...  "
      ]
     },
     "execution_count": 6,
     "metadata": {},
     "output_type": "execute_result"
    }
   ],
   "source": [
    "raw_df = pd.read_json('github_repos.json', lines=True)\n",
    "raw_df.head()"
   ]
  },
  {
   "cell_type": "code",
   "execution_count": 7,
   "metadata": {},
   "outputs": [],
   "source": [
    "markdown_tokenizer = fastai.text.Tokenizer(\n",
    "    tok_func=tok_fn,\n",
    "    pre_rules=[],\n",
    "    post_rules=[],\n",
    "    special_cases=[],\n",
    "    n_cpus=12)"
   ]
  },
  {
   "cell_type": "code",
   "execution_count": 8,
   "metadata": {},
   "outputs": [],
   "source": [
    "raw_df['languages'] = raw_df['language'].apply(lambda ds: [d['name'] for d in ds])"
   ]
  },
  {
   "cell_type": "code",
   "execution_count": 9,
   "metadata": {},
   "outputs": [],
   "source": [
    "selected_langs = ['python', 'r', 'matlab', 'julia', 'c++', 'java', 'scala']\n",
    "df = raw_df[raw_df['languages'].apply(lambda langs: any([lang.lower() in selected_langs for lang in langs]))]\n",
    "df = df.drop(['language'], axis=1)\n",
    "df = df[(~df['content'].isna())]\n",
    "df = df[df['content'].str.split().apply(len) > 25]\n",
    "df = df[(df['content'].apply(itemgetter(0)) != '<') & (df['content'].apply(itemgetter(-1)) != '>')]\n",
    "df['content'] = df['content'].str.replace(r'#+', 'xxhashtag')"
   ]
  },
  {
   "cell_type": "code",
   "execution_count": 10,
   "metadata": {},
   "outputs": [],
   "source": [
    "df['content'] = df['content'].str.replace(r'[0-9]+', 'xxnumber')"
   ]
  },
  {
   "cell_type": "code",
   "execution_count": null,
   "metadata": {},
   "outputs": [],
   "source": [
    "n_examples =  10 * 10 ** 3\n",
    "lm_df = df[['repo_name', 'languages', 'truncated_content']][:n_examples]"
   ]
  },
  {
   "cell_type": "code",
   "execution_count": null,
   "metadata": {},
   "outputs": [],
   "source": [
    "lm_df = lm_df.dropna()"
   ]
  },
  {
   "cell_type": "code",
   "execution_count": null,
   "metadata": {},
   "outputs": [],
   "source": [
    "lm_df[['truncated_content']].to_csv('github_repos_lm_text_small.csv')"
   ]
  },
  {
   "cell_type": "code",
   "execution_count": null,
   "metadata": {},
   "outputs": [],
   "source": [
    "lm_df.index = pd.RangeIndex(len(lm_df))"
   ]
  },
  {
   "cell_type": "markdown",
   "metadata": {},
   "source": [
    "import tqdm\n",
    "\n",
    "extracted_content = pd.Series([tokenize_markdown(md_string) for md_string in tqdm.tqdm(lm_df['truncated_content'])])\n",
    "lm_df['text'] = extracted_content.apply(' '.join)\n",
    "lm_df = lm_df[(~lm_df['text'].isna()) & (lm_df['text'].apply(len) > 0)]\n",
    "lm_df[['text']].to_csv('github_repos_lm_text.csv')"
   ]
  },
  {
   "cell_type": "markdown",
   "metadata": {},
   "source": [
    "### Load to FastAI api"
   ]
  },
  {
   "cell_type": "code",
   "execution_count": 16,
   "metadata": {},
   "outputs": [
    {
     "name": "stdout",
     "output_type": "stream",
     "text": [
      "CPU times: user 8.42 s, sys: 3.38 s, total: 11.8 s\n",
      "Wall time: 37.7 s\n"
     ]
    }
   ],
   "source": [
    "%%time\n",
    "data_lm = TextLMDataBunch.from_csv(\n",
    "    '', 'github_repos_lm_text.csv'\n",
    ")\n",
    "data_lm.save('data_lm_export.pkl')"
   ]
  },
  {
   "cell_type": "code",
   "execution_count": 17,
   "metadata": {},
   "outputs": [],
   "source": [
    "bs = 64"
   ]
  },
  {
   "cell_type": "code",
   "execution_count": 18,
   "metadata": {},
   "outputs": [],
   "source": [
    "data_lm = load_data('', 'data_lm_export.pkl', bs=bs, bptt=50)"
   ]
  },
  {
   "cell_type": "code",
   "execution_count": 44,
   "metadata": {},
   "outputs": [
    {
     "data": {
      "text/plain": [
       "TextLMDataBunch;\n",
       "\n",
       "Train: LabelList (55999 items)\n",
       "x: LMTextList\n",
       "xxbos xxrep 13 = xxmaj cookiecutter xxrep 13 = .. image : : https : / / badge . fury . io / py / cookiecutter . png : target : http : / / badge . fury . io / py / cookiecutter .. image : : https : / / travis - ci . org / audreyr / cookiecutter . png ? branch = master : target : https : / / travis - ci . org / audreyr / cookiecutter .. image : : https : / / ci . appveyor . com / api / projects / status / github / audreyr / cookiecutter ? branch = master : target : https : / / ci . appveyor . com / project / audreyr / cookiecutter / branch / master .. image : : https : / / pypip . in / d / cookiecutter / badge . png : target : https : / / crate . io / packages / cookiecutter ? version = latest .. image : : https : / / codecov . io / github / audreyr / cookiecutter / coverage . svg ? branch = master : target : https : / / codecov . io / github / audreyr / cookiecutter ? branch = master .. image : : https : / / badges . gitter . i m / xxmaj join xxmaj chat . svg : target : https : / / gitter . i m / audreyr / cookiecutter ? utm_source = badge & utm_medium = badge & utm_campaign = pr - badge & utm_content = badge .. image : : https : / / readthedocs . org / projects / cookiecutter / badge / ? version = latest : target,xxbos xxmaj pauta xxmaj xxunk ! xxrep 22 - xxhashtag xxmaj como instalar ? $ wget http : / / www . webxxnumberpy . com / examples / static / xxunk . zip $ unzip xxunk . zip $ cd webxxnumberpy / applications $ git clone https : / / github . com / xxunk / xxunk . git $ cd .. $ python webxxnumberpy . py - a xxnumber xxhashtag xxmaj xxunk localhost : xxnumber / xxunk / default / index xxhashtag xxmaj como funciona ? xxmaj usuários se xxunk e xxunk pautas para xxunk xxunk na programação da xxup ebc !,xxbos xxup gnu xxmaj backgammon version xxnumber . xxnumber . xxnumber xxup gnu xxmaj backgammon is developed under the xxup gnu xxmaj general xxmaj public xxmaj license ( xxup gpl ) and it ' s part of the xxup gnu project . xxmaj if you want to know more about xxup gpl and the xxmaj free xxmaj software xxmaj foundation you can visit the xxup fsf website . xxmaj the conditions for copying may be found in the xxup file xxup copying xxmaj look for news and releases of xxup gnu xxmaj backgammon at http : / / www . gnubg . org . xxmaj here you will also find ways to report bugs and give suggestions . xxmaj for instructions on how to build gnubg , please read the file xxup install ' and the other sections in this file ; for other information , please see the xxup gnu xxmaj backgammon manual in xxunk ' directory . xxmaj introduction xxrep 11 = xxup gnu xxmaj backgammon ( gnubg ) plays and analyzes backgammon games and matches . xxmaj it is able to play and analyze both money games and tournament matches , evaluate and roll out positions , and more . xxmaj driven by a command - line interface , it displays an xxup ascii rendering of a board on text - only terminals , but also allows the user to play games and manipulate positions with a graphical xxup gtk + interface . xxup gnu xxmaj backgammon is extensible on platforms which support xxmaj python . xxup gnu xxmaj backgammon is a world class opponent and rates at around xxnumber on xxup fibs , the xxmaj first xxmaj internet xxmaj backgammon xxmaj server - at its best , it is in the top xxnumber of over,xxbos xxhashtag xxunk program for download all steam background xxmaj tested on xxmaj ubuntu xxmaj linux xxnumber . xxnumber . xxmaj on xxmaj windows i not tested , but try to change path = path + \" / \" + str ( number ) to path = path + \" \" + str ( number ) and run xxmaj if press xxnumber : http : / / imgur . com / xxunk xxmaj if press xxnumber :,xxbos xxmaj android testing samples xxrep 35 = a collection of samples demonstrating different frameworks and techniques for automated testing . xxmaj prerequisites xxrep 14 - - xxmaj android xxup sdk vxxnumber - xxmaj android xxmaj build xxmaj tools vxxnumber - xxmaj android xxmaj support xxmaj repository revxxnumber xxmaj getting xxmaj started xxrep 15 - xxmaj these samples use the xxmaj gradle build system . xxmaj to build a project , enter the project directory and use the . / gradlew assemble command or use \" xxmaj import xxmaj project \" in xxmaj android xxmaj studio . - xxmaj use . / gradlew connectedandroidtest to run the tests on a connected emulator or device . - xxmaj use . / gradlew test to run the unit test on your local host . xxmaj there is a top - level build . gradle file if you want to build and test all samples from the root directory . xxmaj this is mostly helpful to build on a xxup ci ( xxmaj continuous xxmaj integration ) server . xxmaj support xxrep 7 - - xxmaj google + xxmaj community : https : / / plus . google . com / communities / xxnumber - xxmaj stack xxmaj overflow : http : / / stackoverflow . com / questions / tagged / android - testing xxmaj if you ' ve found an error in this sample , please file an issue : https : / / github . com / googlesamples / android - testing xxmaj patches are encouraged , and may be submitted by forking this project and submitting a pull request through github . xxmaj please see xxup contributing . md for more details . xxmaj license xxrep 7 - xxmaj copyright xxnumber xxmaj the xxmaj android xxmaj open xxmaj source xxmaj project , xxmaj inc . xxmaj licensed to the xxmaj apache xxmaj software xxmaj foundation (\n",
       "y: LMLabelList\n",
       ",,,,\n",
       "Path: .;\n",
       "\n",
       "Valid: LabelList (14000 items)\n",
       "x: LMTextList\n",
       "xxbos xxhashtag xxunk xxunk is a xxmaj python - based command - line tool that allows developers to get gmail xxunk of their scripts that are running . xxmaj simply use the command xxunk along with your script , type in your email , and xxunk will take care of the rest . xxhashtag xxmaj usage xxunk is installed via pypi . xxmaj to install xxunk simply : pip install xxunk xxmaj to use xxunk with a script : xxunk myscript . py xxmaj currently xxunk only works with bash and python scripts . xxmaj for more information about this read the options below . xxhashtag xxmaj options xxunk comes with some built - in options xxhashtag xxmaj bash xxmaj the [ - b ] option sets the script type as a bash script . xxmaj the default script type for xxunk is python . xxunk - b myscript . sh xxhashtag xxmaj subject xxmaj option [ - s ] allows the user to input the xxmaj subject of the email notification that will be sent to the user . xxunk - s myscript . py xxhashtag xxmaj output xxmaj the output option [ - o ] redirects myscript ' s xxup stdout to a file . xxmaj if myscript contains an error , the xxup stderr will be outputted to a file as well . xxunk - o myscript . py xxup stdout will be outputted to myscript . py . xxunk . out . txt xxup stderr will be outputted to myscript . py . xxunk . err . txt xxmaj if myscript has / throws an error , both the out . txt,xxbos xxunk xxrep 11 = xxmaj java xxmaj library for streaming large tables of data . xxmaj you will need gradle to build . xxmaj how to play around with the command line interface : gradle install cd build / install / xxunk chmod + x bin / xxunk bin / xxunk xxmaj this will show you the commands and options . xxmaj example xxmaj command xxmaj lines xxrep 21 = xxmaj create a random table : bin / xxunk random test . ts - rows xxnumber - cols xxnumber xxmaj create a sorted version of the table : bin / xxunk xxunk test . ts xxmaj check if sorted : bin / xxunk sorted test . sorted . ts xxmaj count the rows : bin / xxunk count test . sorted . ts xxmaj status xxrep 6 = - xxnumber . xxnumber - xxup snapshot developing initial feature set xxmaj roadmap xxrep 7 = - xxnumber . xxnumber first internal production release - xxnumber . xxnumber multi threading in the xxunk join phase xxmaj wishlist xxrep 8 = - more file formats : xls ( x ) , csv , html - fail if output file / dir exists , but add force parameter,xxbos xxmaj author : xxmaj gerard van der xxmaj sel , et al xxmaj datum : xxmaj xxunk xxnumber xxmaj version : xxup xxunk xxnumber . xxnumber . xxnumber ( pre version ) , xxmaj xxunk xxnumber . xxnumber . xxnumber xxmaj licence : xxup gpl vxxnumber for the whole package xxmaj purpose : xxmaj in this document the differences between a xxmaj xxunk / xxmaj xxunk and xxmaj xxunk control center is explained and the consequences for the xxup xxunk implementation with the xxmaj xxunk protocol ( xxunk only ) . xxmaj in the sources xxunk . c and xxunk . h is a translation module programmed that the bit command normal with xxmaj xxunk and xxmaj xxunk translates to a byte transport . xxmaj different elements are treated different . xxmaj but an implementation of the xxup gl , xxup ga and xxup fb commands of xxup xxunk is done . xxup gl ( controlling an engine ) translation : a xxup gl on xxup xxunk is on a xxmaj xxunk / xxmaj xxunk system the same as on a xxmaj xxunk system . xxmaj it is on all systems a multiple bit command . a xxmaj xxunk decoder accepts the following command : - xxmaj bit xxnumber � bit xxnumber : xxmaj speed of the engine ( xxnumber = stop , xxnumber = max speed ) - xxmaj bit xxnumber : xxmaj direction of the engine ( xxnumber = forward , xxnumber = backward ) - xxmaj bit xxnumber : xxmaj light on / off ( xxnumber = off , xxnumber = on ) - xxmaj bit xxnumber : xxmaj function on / off ( xxnumber = off , xxnumber = on ) xxmaj with the xxup xxunk the command for an engine would,xxbos xxhashtag xxmaj xxunk is a xxmaj java based high throughput , low latency message bus , using either a memory mapped file or shared memory as transport xxmaj xxunk was inspired by xxmaj java xxmaj chronicle with the main difference that it ' s designed to efficiently support multiple writers – enabling use cases where the order of messages produced by multiple processes are important . xxmaj the throughput ( on a laptop , ixxnumber - xxnumberu @ xxnumber . xxnumber ghz ) between a single producer writing at full speed and a single consumer is around xxnumber million messages per second ( a small message consisting of three integer fields ) , and the average read / write latency is around xxnumber ns per message . xxmaj xxunk does not create any objects after startup and therefore has no xxup gc impact . xxhashtag xxmaj features : * xxup ipc between multiple processes by message passing * xxmaj support for either a memory mapped file or shared memory as transport * xxmaj support for either object or byte array ( raw data ) based messages xxhashtag xxmaj getting xxmaj started xxmaj download xxunk . jar from the release tab ( or clone the project and build it from source by running \" ant \") and try out any of the sample applications described below . xxhashtag xxmaj usage xxmaj setup a reader and a writer : java / / xxmaj setup a reader xxunk reader = new xxunk ( \" / tmp / test \" , xxnumberl , xxnumber ) ; reader . open ( ) ; / / xxmaj setup a writer xxunk writer = new,xxbos xxhashtag dygraphs javascript charting library xxmaj the dygraphs javascript library produces interactive , zoomable charts of time series : xxmaj learn more about it at dygraphs . com . xxmaj get help with dygraphs on xxmaj stack xxmaj overflow ( preferred ) and xxmaj google xxmaj groups xxhashtag xxmaj features * xxmaj plots time series without using an external server or xxmaj flash * xxmaj supports error bands around data series * xxmaj interactive pan and zoom * xxmaj displays values on mouseover * xxmaj adjustable averaging period * xxmaj extensive set of options for customization . * xxmaj compatible with the xxmaj google xxmaj visualization xxup api xxhashtag xxmaj minimal xxmaj example html < html > < head > < script type = \" text / javascript \" src = \" dygraph - combined . js \" > < / script > < / head > < body > < div i d = \" graphdiv \" > < / div > < script type = \" text / javascript \" > g = new xxmaj dygraph ( document . getelementbyid ( \" graphdiv \") , / / containing div \" xxmaj date , xxmaj temperature \\ n \" + / / the data series \" xxnumber - xxnumber - xxnumber , xxnumber \\ n \" + \" xxnumber - xxnumber - xxnumber , xxnumber \\ n \" + \" xxnumber - xxnumber - xxnumber , xxnumber \\ n \" , { } / / the options ) ; < / script > < / body > < / html > xxmaj learn more by reading the tutorial and seeing demonstrations of what dygraphs can do in the gallery . xxhashtag xxmaj development xxmaj to get going , clone the repo and run : npm install gulp dist xxmaj read\n",
       "y: LMLabelList\n",
       ",,,,\n",
       "Path: .;\n",
       "\n",
       "Test: None"
      ]
     },
     "execution_count": 44,
     "metadata": {},
     "output_type": "execute_result"
    }
   ],
   "source": [
    "data_lm"
   ]
  }
 ],
 "metadata": {
  "jekyll": {
   "keywords": "fastai",
   "summary": "Application to NLP, including ULMFiT fine-tuning",
   "title": "text"
  },
  "kernelspec": {
   "display_name": "ml",
   "language": "python",
   "name": "ml"
  },
  "language_info": {
   "codemirror_mode": {
    "name": "ipython",
    "version": 3
   },
   "file_extension": ".py",
   "mimetype": "text/x-python",
   "name": "python",
   "nbconvert_exporter": "python",
   "pygments_lexer": "ipython3",
   "version": "3.7.3"
  }
 },
 "nbformat": 4,
 "nbformat_minor": 2
}
