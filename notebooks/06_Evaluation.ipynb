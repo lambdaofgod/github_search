{
 "cells": [
  {
   "cell_type": "code",
   "execution_count": 1,
   "id": "f80cbc0d-3a85-451b-9920-0c0dc5355a41",
   "metadata": {},
   "outputs": [
    {
     "name": "stderr",
     "output_type": "stream",
     "text": [
      "WARNING - haystack -  Object 'retriever' is imported through a deprecated path. Please check out the docs for the new import path.\n",
      "WARNING - haystack -  Object 'BaseRetriever' is imported through a deprecated path. Please check out the docs for the new import path.\n"
     ]
    }
   ],
   "source": [
    "from github_search import ir_utils, utils, evaluation, word_embeddings"
   ]
  },
  {
   "cell_type": "code",
   "execution_count": 2,
   "id": "1c7f159b-2a38-4226-9e62-da00f2aa4ae0",
   "metadata": {},
   "outputs": [
    {
     "name": "stdout",
     "output_type": "stream",
     "text": [
      "/home/kuba/Projects/github_search\n"
     ]
    }
   ],
   "source": [
    "%cd .."
   ]
  },
  {
   "cell_type": "code",
   "execution_count": 3,
   "id": "da923d14-2e6e-43ce-9dd9-4eb47fa5bddc",
   "metadata": {},
   "outputs": [],
   "source": [
    "df = utils.load_paperswithcode_df(\"output/papers_with_readmes.csv\")"
   ]
  },
  {
   "cell_type": "code",
   "execution_count": 4,
   "id": "c719c60f-0939-4f02-91d2-d20a3b56d3e5",
   "metadata": {},
   "outputs": [
    {
     "data": {
      "text/plain": [
       "0                                                                       [graph learning]\n",
       "1                                                                      [active learning]\n",
       "2        [latent variable models, multivariate time series forecasting, multivariate ...\n",
       "4                    [speaker identification, speaker recognition, speaker verification]\n",
       "5        [autonomous navigation, depth estimation, image reconstruction, monocular de...\n",
       "                                              ...                                       \n",
       "43198                                     [image generation, image to image translation]\n",
       "43199                                                             [image classification]\n",
       "43200                                                             [mortality prediction]\n",
       "43201                                                                      [time series]\n",
       "43202    [computational phenotyping, length of stay prediction, mortality prediction,...\n",
       "Name: tasks, Length: 40063, dtype: object"
      ]
     },
     "execution_count": 4,
     "metadata": {},
     "output_type": "execute_result"
    }
   ],
   "source": [
    "df['tasks']"
   ]
  },
  {
   "cell_type": "code",
   "execution_count": 5,
   "id": "90780e33-bccc-49be-aa1a-4d89e6c82359",
   "metadata": {},
   "outputs": [],
   "source": [
    "queries, corpus, relevant_docs = ir_utils.get_ir_dicts(df.dropna(subset=[\"tasks\", \"readme\"]), \"tasks\", \"readme\").values()"
   ]
  },
  {
   "cell_type": "code",
   "execution_count": 6,
   "id": "3e43e910-af85-4ac9-a9a7-1780db0e3ab7",
   "metadata": {},
   "outputs": [],
   "source": [
    "ir_evaluator = ir_utils.get_ir_evaluator(df)"
   ]
  },
  {
   "cell_type": "code",
   "execution_count": 7,
   "id": "a5b1d2d2-8477-4003-be13-23b2cc29b8a1",
   "metadata": {},
   "outputs": [],
   "source": [
    "import sentence_transformers"
   ]
  },
  {
   "cell_type": "code",
   "execution_count": 8,
   "id": "71168c87-ef07-4106-865f-d24b96434286",
   "metadata": {},
   "outputs": [
    {
     "name": "stderr",
     "output_type": "stream",
     "text": [
      "Load Word Embeddings: 147042Embeddings [00:04, 34185.90Embeddings/s]\n"
     ]
    }
   ],
   "source": [
    "word2vec_model = word_embeddings.build_word_embeddings_sentence_transformer_model(\"output/abstract_readme_w2v200.txt\")"
   ]
  },
  {
   "cell_type": "code",
   "execution_count": 12,
   "id": "39a64010-ee16-47bd-8e48-025635b6b35e",
   "metadata": {},
   "outputs": [],
   "source": [
    "truncated_readmes = df['readme'].apply(lambda s: \" \".join(s.split(\"\\n\")[:5]))"
   ]
  },
  {
   "cell_type": "code",
   "execution_count": 9,
   "id": "d8d98e36-9560-4889-b2ca-68528f97c318",
   "metadata": {},
   "outputs": [
    {
     "data": {
      "text/plain": [
       "{'cos_sim': {'accuracy@k': {1: 0.26195028680688337,\n",
       "   3: 0.43021032504780116,\n",
       "   5: 0.5124282982791587,\n",
       "   10: 0.6022944550669216},\n",
       "  'precision@k': {1: 0.26195028680688337,\n",
       "   3: 0.22625876354365837,\n",
       "   5: 0.20229445506692162,\n",
       "   10: 0.16481835564053537},\n",
       "  'recall@k': {1: 0.004891120380097117,\n",
       "   3: 0.011827294280875767,\n",
       "   5: 0.017670492274191874,\n",
       "   10: 0.026501675870505014},\n",
       "  'ndcg@k': {10: 0.1851030989245522},\n",
       "  'mrr@k': {10: 0.3663229536556494},\n",
       "  'map@k': {10: 0.11024826246623569}},\n",
       " 'dot_score': {'accuracy@k': {1: 0.04397705544933078,\n",
       "   3: 0.13193116634799235,\n",
       "   5: 0.15296367112810708,\n",
       "   10: 0.1988527724665392},\n",
       "  'precision@k': {1: 0.04397705544933078,\n",
       "   3: 0.05162523900573613,\n",
       "   5: 0.04206500956022945,\n",
       "   10: 0.03652007648183557},\n",
       "  'recall@k': {1: 0.0005584227718814798,\n",
       "   3: 0.0017243575120592799,\n",
       "   5: 0.002043672504211166,\n",
       "   10: 0.0035560392989980646},\n",
       "  'ndcg@k': {10: 0.03958378445583593},\n",
       "  'mrr@k': {10: 0.09265835078454582},\n",
       "  'map@k': {10: 0.017930513824395276}}}"
      ]
     },
     "execution_count": 9,
     "metadata": {},
     "output_type": "execute_result"
    }
   ],
   "source": [
    "readme_results = evaluation.get_ir_results(ir_evaluator, word2vec_model, df['readme'].to_list())\n",
    "readme_results"
   ]
  },
  {
   "cell_type": "code",
   "execution_count": 13,
   "id": "152bdea4-8f43-4db7-ada2-5a8704d9a16a",
   "metadata": {},
   "outputs": [
    {
     "data": {
      "text/plain": [
       "{'cos_sim': {'accuracy@k': {1: 0.40535372848948376,\n",
       "   3: 0.5621414913957935,\n",
       "   5: 0.6424474187380497,\n",
       "   10: 0.7437858508604207},\n",
       "  'precision@k': {1: 0.40535372848948376,\n",
       "   3: 0.33142128744423194,\n",
       "   5: 0.30325047801147226,\n",
       "   10: 0.25812619502868067},\n",
       "  'recall@k': {1: 0.009991392698399644,\n",
       "   3: 0.022454475654631056,\n",
       "   5: 0.03307452580591072,\n",
       "   10: 0.05301269627635547},\n",
       "  'ndcg@k': {10: 0.285486331115303},\n",
       "  'mrr@k': {10: 0.505723238945036},\n",
       "  'map@k': {10: 0.18494830394447986}},\n",
       " 'dot_score': {'accuracy@k': {1: 0.08795411089866156,\n",
       "   3: 0.1682600382409178,\n",
       "   5: 0.2237093690248566,\n",
       "   10: 0.35181644359464626},\n",
       "  'precision@k': {1: 0.08795411089866156,\n",
       "   3: 0.07839388145315487,\n",
       "   5: 0.0745697896749522,\n",
       "   10: 0.07323135755258126},\n",
       "  'recall@k': {1: 0.0011254428756029132,\n",
       "   3: 0.0031932759479544335,\n",
       "   5: 0.004757870092252691,\n",
       "   10: 0.010025617172765771},\n",
       "  'ndcg@k': {10: 0.07542521105799273},\n",
       "  'mrr@k': {10: 0.15186196849676784},\n",
       "  'map@k': {10: 0.036678427266381375}}}"
      ]
     },
     "execution_count": 13,
     "metadata": {},
     "output_type": "execute_result"
    }
   ],
   "source": [
    "truncated_readme_results = evaluation.get_ir_results(ir_evaluator, word2vec_model, truncated_readmes.to_list())\n",
    "truncated_readme_results"
   ]
  }
 ],
 "metadata": {
  "kernelspec": {
   "display_name": "Python 3",
   "language": "python",
   "name": "python3"
  },
  "language_info": {
   "codemirror_mode": {
    "name": "ipython",
    "version": 3
   },
   "file_extension": ".py",
   "mimetype": "text/x-python",
   "name": "python",
   "nbconvert_exporter": "python",
   "pygments_lexer": "ipython3",
   "version": "3.8.10"
  }
 },
 "nbformat": 4,
 "nbformat_minor": 5
}
