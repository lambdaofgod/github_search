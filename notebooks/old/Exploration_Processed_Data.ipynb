{
 "cells": [
  {
   "cell_type": "markdown",
   "metadata": {},
   "source": [
    "# Processed Github BigQuery data"
   ]
  },
  {
   "cell_type": "code",
   "execution_count": 1,
   "metadata": {},
   "outputs": [],
   "source": [
    "from toolz import partial\n",
    "import os\n",
    "import glob\n",
    "import pandas as pd\n",
    "from operator import itemgetter\n",
    "\n",
    "import matplotlib.pyplot as plt\n",
    "%matplotlib inline\n",
    "plt.style.use('dark_background')\n",
    "\n",
    "from sklearn import metrics, decomposition, naive_bayes, linear_model\n",
    "\n",
    "from sklearn import feature_extraction\n",
    "from sklearn import model_selection\n",
    "\n",
    "from github_search import exploration"
   ]
  },
  {
   "cell_type": "code",
   "execution_count": 2,
   "metadata": {},
   "outputs": [],
   "source": [
    "DATA_DIR = os.path.join('..', 'data')"
   ]
  },
  {
   "cell_type": "code",
   "execution_count": 3,
   "metadata": {},
   "outputs": [],
   "source": [
    "github_repos_df = pd.read_csv(os.path.join(DATA_DIR, 'github_repos_lm.csv'))"
   ]
  },
  {
   "cell_type": "code",
   "execution_count": 4,
   "metadata": {},
   "outputs": [
    {
     "data": {
      "text/plain": [
       "Index(['Unnamed: 0', 'repo_name', 'languages', 'content', 'text'], dtype='object')"
      ]
     },
     "execution_count": 4,
     "metadata": {},
     "output_type": "execute_result"
    }
   ],
   "source": [
    "github_repos_df.columns"
   ]
  },
  {
   "cell_type": "code",
   "execution_count": 5,
   "metadata": {},
   "outputs": [
    {
     "data": {
      "text/plain": [
       "(177103, 5)"
      ]
     },
     "execution_count": 5,
     "metadata": {},
     "output_type": "execute_result"
    }
   ],
   "source": [
    "github_repos_df.shape"
   ]
  },
  {
   "cell_type": "code",
   "execution_count": 6,
   "metadata": {},
   "outputs": [],
   "source": [
    "content_length = github_repos_df['content'][~github_repos_df['content'].isna()].apply(len)"
   ]
  },
  {
   "cell_type": "code",
   "execution_count": 9,
   "metadata": {},
   "outputs": [
    {
     "data": {
      "text/plain": [
       "count    177103.000000\n",
       "mean         33.971943\n",
       "std          40.420220\n",
       "min           5.000000\n",
       "25%          10.000000\n",
       "50%          19.000000\n",
       "75%          41.000000\n",
       "max        2238.000000\n",
       "Name: languages, dtype: float64"
      ]
     },
     "execution_count": 9,
     "metadata": {},
     "output_type": "execute_result"
    }
   ],
   "source": [
    "github_repos_df['languages'].apply(len).describe()"
   ]
  },
  {
   "cell_type": "code",
   "execution_count": 10,
   "metadata": {},
   "outputs": [
    {
     "data": {
      "text/plain": [
       "2022"
      ]
     },
     "execution_count": 10,
     "metadata": {},
     "output_type": "execute_result"
    }
   ],
   "source": [
    "(github_repos_df['repo_name'].value_counts() > 1).sum()"
   ]
  },
  {
   "cell_type": "code",
   "execution_count": 11,
   "metadata": {},
   "outputs": [],
   "source": [
    "def parse_string_list(string_list):\n",
    "    return string_list.replace(\"'\", '')[1:-1].split(', ')"
   ]
  },
  {
   "cell_type": "code",
   "execution_count": 12,
   "metadata": {},
   "outputs": [],
   "source": [
    "languages = github_repos_df['languages'].apply(parse_string_list)"
   ]
  },
  {
   "cell_type": "code",
   "execution_count": 13,
   "metadata": {},
   "outputs": [],
   "source": [
    "lang_counts = exploration.get_languages_counter(languages)"
   ]
  },
  {
   "cell_type": "code",
   "execution_count": 14,
   "metadata": {},
   "outputs": [],
   "source": [
    "top_langs = exploration.get_top_langs(languages, 25)"
   ]
  },
  {
   "cell_type": "code",
   "execution_count": 15,
   "metadata": {},
   "outputs": [
    {
     "data": {
      "text/plain": [
       "['Python',\n",
       " 'Shell',\n",
       " 'Java',\n",
       " 'C++',\n",
       " 'C',\n",
       " 'Makefile',\n",
       " 'Objective-C',\n",
       " 'Perl',\n",
       " 'Batchfile',\n",
       " 'Ruby',\n",
       " 'CMake',\n",
       " 'Assembly',\n",
       " 'PHP',\n",
       " 'Scala',\n",
       " 'R',\n",
       " 'XSLT',\n",
       " 'Groff',\n",
       " 'Awk',\n",
       " 'C#',\n",
       " 'TeX',\n",
       " 'Groovy',\n",
       " 'Matlab',\n",
       " 'Objective-C++',\n",
       " 'ASP',\n",
       " 'QMake']"
      ]
     },
     "execution_count": 15,
     "metadata": {},
     "output_type": "execute_result"
    }
   ],
   "source": [
    "top_langs"
   ]
  },
  {
   "cell_type": "markdown",
   "metadata": {},
   "source": [
    "## Topic labeling with Snorkel"
   ]
  },
  {
   "cell_type": "code",
   "execution_count": 16,
   "metadata": {},
   "outputs": [],
   "source": [
    "from snorkel import labeling\n",
    "\n",
    "ABSTAIN = -1\n",
    "NON_DATA_SCIENCE = 0\n",
    "DATA_SCIENCE = 1\n",
    "\n",
    "\n",
    "def keyword_lookup(x, keywords, label):\n",
    "    if any(word in x.content.lower() for word in keywords):\n",
    "        return label\n",
    "    return ABSTAIN\n",
    "\n",
    "\n",
    "def make_keyword_lf(keyword, label=DATA_SCIENCE):\n",
    "    return labeling.LabelingFunction(\n",
    "        name=f\"keyword_{keyword}\",\n",
    "        f=keyword_lookup,\n",
    "        resources=dict(keywords=[keyword], label=label),\n",
    "    )"
   ]
  },
  {
   "cell_type": "code",
   "execution_count": 48,
   "metadata": {},
   "outputs": [],
   "source": [
    "ds_keywords = ['machine learning', 'data science', 'artificial intelligence',\n",
    "           'classification', 'regression', 'clustering', 'dimensionality reduction',\n",
    "            'supervised', 'tensor', 'scikit-learn', 'sklearn', 'pytorch'\n",
    "           ]\n",
    "\n",
    "non_ds_keywords = [\n",
    "    'java', 'scraping', 'php', 'ruby', 'database', 'elastic',\n",
    "    'frontend', 'android', 'framework', 'script', 'devops', 'c++']"
   ]
  },
  {
   "cell_type": "code",
   "execution_count": 49,
   "metadata": {},
   "outputs": [],
   "source": [
    "ds_lfs = [make_keyword_lf(word) for word in ds_keywords]\n",
    "non_ds_lfs = [make_keyword_lf(word, NON_DATA_SCIENCE) for word in non_ds_keywords]"
   ]
  },
  {
   "cell_type": "code",
   "execution_count": 50,
   "metadata": {},
   "outputs": [
    {
     "name": "stderr",
     "output_type": "stream",
     "text": [
      "100%|██████████| 177103/177103 [00:45<00:00, 3894.29it/s]\n"
     ]
    }
   ],
   "source": [
    "lfs = ds_lfs+non_ds_lfs\n",
    "applier = labeling.PandasLFApplier(lfs=lfs)\n",
    "L_train = applier.apply(df=github_repos_df)"
   ]
  },
  {
   "cell_type": "code",
   "execution_count": 51,
   "metadata": {},
   "outputs": [
    {
     "data": {
      "text/html": [
       "<div>\n",
       "<style scoped>\n",
       "    .dataframe tbody tr th:only-of-type {\n",
       "        vertical-align: middle;\n",
       "    }\n",
       "\n",
       "    .dataframe tbody tr th {\n",
       "        vertical-align: top;\n",
       "    }\n",
       "\n",
       "    .dataframe thead th {\n",
       "        text-align: right;\n",
       "    }\n",
       "</style>\n",
       "<table border=\"1\" class=\"dataframe\">\n",
       "  <thead>\n",
       "    <tr style=\"text-align: right;\">\n",
       "      <th></th>\n",
       "      <th>j</th>\n",
       "      <th>Polarity</th>\n",
       "      <th>Coverage</th>\n",
       "      <th>Overlaps</th>\n",
       "      <th>Conflicts</th>\n",
       "      <th>Conflicts/Coverage</th>\n",
       "    </tr>\n",
       "  </thead>\n",
       "  <tbody>\n",
       "    <tr>\n",
       "      <th>keyword_machine learning</th>\n",
       "      <td>0</td>\n",
       "      <td>[1]</td>\n",
       "      <td>0.007764</td>\n",
       "      <td>0.004709</td>\n",
       "      <td>0.003252</td>\n",
       "      <td>0.418909</td>\n",
       "    </tr>\n",
       "    <tr>\n",
       "      <th>keyword_data science</th>\n",
       "      <td>1</td>\n",
       "      <td>[1]</td>\n",
       "      <td>0.001733</td>\n",
       "      <td>0.000982</td>\n",
       "      <td>0.000678</td>\n",
       "      <td>0.390879</td>\n",
       "    </tr>\n",
       "    <tr>\n",
       "      <th>keyword_artificial intelligence</th>\n",
       "      <td>2</td>\n",
       "      <td>[1]</td>\n",
       "      <td>0.001395</td>\n",
       "      <td>0.000768</td>\n",
       "      <td>0.000542</td>\n",
       "      <td>0.388664</td>\n",
       "    </tr>\n",
       "    <tr>\n",
       "      <th>keyword_classification</th>\n",
       "      <td>3</td>\n",
       "      <td>[1]</td>\n",
       "      <td>0.004862</td>\n",
       "      <td>0.003202</td>\n",
       "      <td>0.001908</td>\n",
       "      <td>0.392567</td>\n",
       "    </tr>\n",
       "    <tr>\n",
       "      <th>keyword_regression</th>\n",
       "      <td>4</td>\n",
       "      <td>[1]</td>\n",
       "      <td>0.004444</td>\n",
       "      <td>0.002902</td>\n",
       "      <td>0.001875</td>\n",
       "      <td>0.421855</td>\n",
       "    </tr>\n",
       "    <tr>\n",
       "      <th>keyword_clustering</th>\n",
       "      <td>5</td>\n",
       "      <td>[1]</td>\n",
       "      <td>0.003461</td>\n",
       "      <td>0.001903</td>\n",
       "      <td>0.001474</td>\n",
       "      <td>0.425775</td>\n",
       "    </tr>\n",
       "    <tr>\n",
       "      <th>keyword_dimensionality reduction</th>\n",
       "      <td>6</td>\n",
       "      <td>[1]</td>\n",
       "      <td>0.000198</td>\n",
       "      <td>0.000141</td>\n",
       "      <td>0.000068</td>\n",
       "      <td>0.342857</td>\n",
       "    </tr>\n",
       "    <tr>\n",
       "      <th>keyword_supervised</th>\n",
       "      <td>7</td>\n",
       "      <td>[1]</td>\n",
       "      <td>0.001615</td>\n",
       "      <td>0.001056</td>\n",
       "      <td>0.000553</td>\n",
       "      <td>0.342657</td>\n",
       "    </tr>\n",
       "    <tr>\n",
       "      <th>keyword_tensorflow</th>\n",
       "      <td>8</td>\n",
       "      <td>[1]</td>\n",
       "      <td>0.003354</td>\n",
       "      <td>0.001931</td>\n",
       "      <td>0.001395</td>\n",
       "      <td>0.415825</td>\n",
       "    </tr>\n",
       "    <tr>\n",
       "      <th>keyword_scikit-learn</th>\n",
       "      <td>9</td>\n",
       "      <td>[]</td>\n",
       "      <td>0.000000</td>\n",
       "      <td>0.000000</td>\n",
       "      <td>0.000000</td>\n",
       "      <td>NaN</td>\n",
       "    </tr>\n",
       "    <tr>\n",
       "      <th>keyword_sklearn</th>\n",
       "      <td>10</td>\n",
       "      <td>[1]</td>\n",
       "      <td>0.000881</td>\n",
       "      <td>0.000587</td>\n",
       "      <td>0.000277</td>\n",
       "      <td>0.314103</td>\n",
       "    </tr>\n",
       "    <tr>\n",
       "      <th>keyword_pytorch</th>\n",
       "      <td>11</td>\n",
       "      <td>[1]</td>\n",
       "      <td>0.000435</td>\n",
       "      <td>0.000237</td>\n",
       "      <td>0.000130</td>\n",
       "      <td>0.298701</td>\n",
       "    </tr>\n",
       "    <tr>\n",
       "      <th>keyword_java</th>\n",
       "      <td>12</td>\n",
       "      <td>[0]</td>\n",
       "      <td>0.137863</td>\n",
       "      <td>0.074510</td>\n",
       "      <td>0.002292</td>\n",
       "      <td>0.016628</td>\n",
       "    </tr>\n",
       "    <tr>\n",
       "      <th>keyword_scraping</th>\n",
       "      <td>13</td>\n",
       "      <td>[0]</td>\n",
       "      <td>0.001965</td>\n",
       "      <td>0.001208</td>\n",
       "      <td>0.000130</td>\n",
       "      <td>0.066092</td>\n",
       "    </tr>\n",
       "    <tr>\n",
       "      <th>keyword_php</th>\n",
       "      <td>14</td>\n",
       "      <td>[0]</td>\n",
       "      <td>0.011344</td>\n",
       "      <td>0.007786</td>\n",
       "      <td>0.000073</td>\n",
       "      <td>0.006471</td>\n",
       "    </tr>\n",
       "    <tr>\n",
       "      <th>keyword_ruby</th>\n",
       "      <td>15</td>\n",
       "      <td>[0]</td>\n",
       "      <td>0.010333</td>\n",
       "      <td>0.006759</td>\n",
       "      <td>0.000152</td>\n",
       "      <td>0.014754</td>\n",
       "    </tr>\n",
       "    <tr>\n",
       "      <th>keyword_database</th>\n",
       "      <td>16</td>\n",
       "      <td>[0]</td>\n",
       "      <td>0.053523</td>\n",
       "      <td>0.026979</td>\n",
       "      <td>0.001231</td>\n",
       "      <td>0.022998</td>\n",
       "    </tr>\n",
       "    <tr>\n",
       "      <th>keyword_elastic</th>\n",
       "      <td>17</td>\n",
       "      <td>[0]</td>\n",
       "      <td>0.005906</td>\n",
       "      <td>0.003365</td>\n",
       "      <td>0.000215</td>\n",
       "      <td>0.036329</td>\n",
       "    </tr>\n",
       "    <tr>\n",
       "      <th>keyword_frontend</th>\n",
       "      <td>18</td>\n",
       "      <td>[0]</td>\n",
       "      <td>0.006956</td>\n",
       "      <td>0.003913</td>\n",
       "      <td>0.000107</td>\n",
       "      <td>0.015422</td>\n",
       "    </tr>\n",
       "    <tr>\n",
       "      <th>keyword_android</th>\n",
       "      <td>19</td>\n",
       "      <td>[0]</td>\n",
       "      <td>0.083641</td>\n",
       "      <td>0.033788</td>\n",
       "      <td>0.000582</td>\n",
       "      <td>0.006953</td>\n",
       "    </tr>\n",
       "    <tr>\n",
       "      <th>keyword_framework</th>\n",
       "      <td>20</td>\n",
       "      <td>[0]</td>\n",
       "      <td>0.067678</td>\n",
       "      <td>0.032992</td>\n",
       "      <td>0.002174</td>\n",
       "      <td>0.032121</td>\n",
       "    </tr>\n",
       "    <tr>\n",
       "      <th>keyword_script</th>\n",
       "      <td>21</td>\n",
       "      <td>[0]</td>\n",
       "      <td>0.169963</td>\n",
       "      <td>0.067915</td>\n",
       "      <td>0.004975</td>\n",
       "      <td>0.029268</td>\n",
       "    </tr>\n",
       "    <tr>\n",
       "      <th>keyword_devops</th>\n",
       "      <td>22</td>\n",
       "      <td>[0]</td>\n",
       "      <td>0.001050</td>\n",
       "      <td>0.000661</td>\n",
       "      <td>0.000006</td>\n",
       "      <td>0.005376</td>\n",
       "    </tr>\n",
       "    <tr>\n",
       "      <th>keyword_c++</th>\n",
       "      <td>23</td>\n",
       "      <td>[]</td>\n",
       "      <td>0.000000</td>\n",
       "      <td>0.000000</td>\n",
       "      <td>0.000000</td>\n",
       "      <td>NaN</td>\n",
       "    </tr>\n",
       "  </tbody>\n",
       "</table>\n",
       "</div>"
      ],
      "text/plain": [
       "                                   j Polarity  Coverage  Overlaps  Conflicts  \\\n",
       "keyword_machine learning           0      [1]  0.007764  0.004709   0.003252   \n",
       "keyword_data science               1      [1]  0.001733  0.000982   0.000678   \n",
       "keyword_artificial intelligence    2      [1]  0.001395  0.000768   0.000542   \n",
       "keyword_classification             3      [1]  0.004862  0.003202   0.001908   \n",
       "keyword_regression                 4      [1]  0.004444  0.002902   0.001875   \n",
       "keyword_clustering                 5      [1]  0.003461  0.001903   0.001474   \n",
       "keyword_dimensionality reduction   6      [1]  0.000198  0.000141   0.000068   \n",
       "keyword_supervised                 7      [1]  0.001615  0.001056   0.000553   \n",
       "keyword_tensorflow                 8      [1]  0.003354  0.001931   0.001395   \n",
       "keyword_scikit-learn               9       []  0.000000  0.000000   0.000000   \n",
       "keyword_sklearn                   10      [1]  0.000881  0.000587   0.000277   \n",
       "keyword_pytorch                   11      [1]  0.000435  0.000237   0.000130   \n",
       "keyword_java                      12      [0]  0.137863  0.074510   0.002292   \n",
       "keyword_scraping                  13      [0]  0.001965  0.001208   0.000130   \n",
       "keyword_php                       14      [0]  0.011344  0.007786   0.000073   \n",
       "keyword_ruby                      15      [0]  0.010333  0.006759   0.000152   \n",
       "keyword_database                  16      [0]  0.053523  0.026979   0.001231   \n",
       "keyword_elastic                   17      [0]  0.005906  0.003365   0.000215   \n",
       "keyword_frontend                  18      [0]  0.006956  0.003913   0.000107   \n",
       "keyword_android                   19      [0]  0.083641  0.033788   0.000582   \n",
       "keyword_framework                 20      [0]  0.067678  0.032992   0.002174   \n",
       "keyword_script                    21      [0]  0.169963  0.067915   0.004975   \n",
       "keyword_devops                    22      [0]  0.001050  0.000661   0.000006   \n",
       "keyword_c++                       23       []  0.000000  0.000000   0.000000   \n",
       "\n",
       "                                  Conflicts/Coverage  \n",
       "keyword_machine learning                    0.418909  \n",
       "keyword_data science                        0.390879  \n",
       "keyword_artificial intelligence             0.388664  \n",
       "keyword_classification                      0.392567  \n",
       "keyword_regression                          0.421855  \n",
       "keyword_clustering                          0.425775  \n",
       "keyword_dimensionality reduction            0.342857  \n",
       "keyword_supervised                          0.342657  \n",
       "keyword_tensorflow                          0.415825  \n",
       "keyword_scikit-learn                             NaN  \n",
       "keyword_sklearn                             0.314103  \n",
       "keyword_pytorch                             0.298701  \n",
       "keyword_java                                0.016628  \n",
       "keyword_scraping                            0.066092  \n",
       "keyword_php                                 0.006471  \n",
       "keyword_ruby                                0.014754  \n",
       "keyword_database                            0.022998  \n",
       "keyword_elastic                             0.036329  \n",
       "keyword_frontend                            0.015422  \n",
       "keyword_android                             0.006953  \n",
       "keyword_framework                           0.032121  \n",
       "keyword_script                              0.029268  \n",
       "keyword_devops                              0.005376  \n",
       "keyword_c++                                      NaN  "
      ]
     },
     "execution_count": 51,
     "metadata": {},
     "output_type": "execute_result"
    }
   ],
   "source": [
    "lfanalysis_df = labeling.LFAnalysis(L=L_train, lfs=lfs).lf_summary()\n",
    "lfanalysis_df['Conflicts/Coverage'] = lfanalysis_df['Conflicts'] / lfanalysis_df['Coverage']\n",
    "lfanalysis_df"
   ]
  },
  {
   "cell_type": "code",
   "execution_count": 68,
   "metadata": {},
   "outputs": [],
   "source": [
    "y = L_train.max(axis=1) == 1"
   ]
  },
  {
   "cell_type": "code",
   "execution_count": 71,
   "metadata": {},
   "outputs": [],
   "source": [
    "X_train, X_test, y_train, y_test = model_selection.train_test_split(github_repos_df['content'], y, stratify=y)"
   ]
  },
  {
   "cell_type": "code",
   "execution_count": 72,
   "metadata": {},
   "outputs": [],
   "source": [
    "vectorizer = feature_extraction.text.TfidfVectorizer(max_features=10000)"
   ]
  },
  {
   "cell_type": "code",
   "execution_count": 73,
   "metadata": {},
   "outputs": [
    {
     "name": "stdout",
     "output_type": "stream",
     "text": [
      "CPU times: user 9.51 s, sys: 179 ms, total: 9.69 s\n",
      "Wall time: 9.69 s\n"
     ]
    }
   ],
   "source": [
    "%%time\n",
    "X_train_bow = vectorizer.fit_transform(X_train)"
   ]
  },
  {
   "cell_type": "code",
   "execution_count": 74,
   "metadata": {},
   "outputs": [],
   "source": [
    "X_test_bow = vectorizer.transform(X_test)"
   ]
  },
  {
   "cell_type": "code",
   "execution_count": 75,
   "metadata": {},
   "outputs": [
    {
     "data": {
      "text/plain": [
       "<44276x10000 sparse matrix of type '<class 'numpy.float64'>'\n",
       "\twith 2920566 stored elements in Compressed Sparse Row format>"
      ]
     },
     "execution_count": 75,
     "metadata": {},
     "output_type": "execute_result"
    }
   ],
   "source": [
    "X_test_bow"
   ]
  },
  {
   "cell_type": "markdown",
   "metadata": {},
   "source": [
    "# Classifying programming languages"
   ]
  },
  {
   "cell_type": "markdown",
   "metadata": {},
   "source": [
    "## Naive Bayes"
   ]
  },
  {
   "cell_type": "code",
   "execution_count": 76,
   "metadata": {},
   "outputs": [],
   "source": [
    "multi_nb = naive_bayes.MultinomialNB(alpha=0.1)"
   ]
  },
  {
   "cell_type": "code",
   "execution_count": 77,
   "metadata": {},
   "outputs": [
    {
     "name": "stdout",
     "output_type": "stream",
     "text": [
      "CPU times: user 37.7 ms, sys: 3.8 ms, total: 41.5 ms\n",
      "Wall time: 41.1 ms\n"
     ]
    },
    {
     "data": {
      "text/plain": [
       "MultinomialNB(alpha=0.1, class_prior=None, fit_prior=True)"
      ]
     },
     "execution_count": 77,
     "metadata": {},
     "output_type": "execute_result"
    }
   ],
   "source": [
    "%%time\n",
    "\n",
    "multi_nb.fit(X_train_bow, y_train)"
   ]
  },
  {
   "cell_type": "code",
   "execution_count": 78,
   "metadata": {},
   "outputs": [
    {
     "data": {
      "text/plain": [
       "0.983632845731666"
      ]
     },
     "execution_count": 78,
     "metadata": {},
     "output_type": "execute_result"
    }
   ],
   "source": [
    "multi_nb.score(X_train_bow, y_train)"
   ]
  },
  {
   "cell_type": "code",
   "execution_count": 79,
   "metadata": {},
   "outputs": [
    {
     "data": {
      "text/plain": [
       "0.9823154756527238"
      ]
     },
     "execution_count": 79,
     "metadata": {},
     "output_type": "execute_result"
    }
   ],
   "source": [
    "multi_nb.score(X_test_bow, y_test)"
   ]
  },
  {
   "cell_type": "code",
   "execution_count": 88,
   "metadata": {},
   "outputs": [
    {
     "data": {
      "text/plain": [
       "0.5523156089193826"
      ]
     },
     "execution_count": 88,
     "metadata": {},
     "output_type": "execute_result"
    }
   ],
   "source": [
    "metrics.f1_score(y_test, multi_nb.predict(X_test_bow))"
   ]
  },
  {
   "cell_type": "code",
   "execution_count": 108,
   "metadata": {},
   "outputs": [
    {
     "data": {
      "image/png": "[encoded data removed]",
      "text/plain": [
       "<Figure size 432x288 with 1 Axes>"
      ]
     },
     "metadata": {
      "needs_background": "dark"
     },
     "output_type": "display_data"
    }
   ],
   "source": [
    "skplt.metrics.plot_precision_recall(y_test, multi_nb.predict_proba(X_test_bow));"
   ]
  },
  {
   "cell_type": "code",
   "execution_count": 80,
   "metadata": {},
   "outputs": [
    {
     "name": "stdout",
     "output_type": "stream",
     "text": [
      "              precision    recall  f1-score   support\n",
      "\n",
      "       False       0.99      1.00      0.99     43223\n",
      "        True       0.69      0.46      0.55      1053\n",
      "\n",
      "   micro avg       0.98      0.98      0.98     44276\n",
      "   macro avg       0.84      0.73      0.77     44276\n",
      "weighted avg       0.98      0.98      0.98     44276\n",
      "\n"
     ]
    }
   ],
   "source": [
    "print(metrics.classification_report())"
   ]
  },
  {
   "cell_type": "markdown",
   "metadata": {},
   "source": [
    "## SGD linear regression with Lasso penalty"
   ]
  },
  {
   "cell_type": "code",
   "execution_count": 81,
   "metadata": {},
   "outputs": [],
   "source": [
    "lasso = linear_model.SGDClassifier(loss='log', penalty='l1', alpha=0.0001, random_state=0)"
   ]
  },
  {
   "cell_type": "code",
   "execution_count": 82,
   "metadata": {},
   "outputs": [
    {
     "name": "stderr",
     "output_type": "stream",
     "text": [
      "/etc/miniconda/envs/ml/lib/python3.7/site-packages/sklearn/linear_model/stochastic_gradient.py:166: FutureWarning: max_iter and tol parameters have been added in SGDClassifier in 0.19. If both are left unset, they default to max_iter=5 and tol=None. If tol is not None, max_iter defaults to max_iter=1000. From 0.21, default max_iter will be 1000, and default tol will be 1e-3.\n",
      "  FutureWarning)\n"
     ]
    },
    {
     "name": "stdout",
     "output_type": "stream",
     "text": [
      "CPU times: user 390 ms, sys: 0 ns, total: 390 ms\n",
      "Wall time: 389 ms\n"
     ]
    },
    {
     "data": {
      "text/plain": [
       "SGDClassifier(alpha=0.0001, average=False, class_weight=None,\n",
       "       early_stopping=False, epsilon=0.1, eta0=0.0, fit_intercept=True,\n",
       "       l1_ratio=0.15, learning_rate='optimal', loss='log', max_iter=None,\n",
       "       n_iter=None, n_iter_no_change=5, n_jobs=None, penalty='l1',\n",
       "       power_t=0.5, random_state=0, shuffle=True, tol=None,\n",
       "       validation_fraction=0.1, verbose=0, warm_start=False)"
      ]
     },
     "execution_count": 82,
     "metadata": {},
     "output_type": "execute_result"
    }
   ],
   "source": [
    "%%time\n",
    "lasso.fit(X_train_bow, y_train)"
   ]
  },
  {
   "cell_type": "code",
   "execution_count": 83,
   "metadata": {},
   "outputs": [
    {
     "data": {
      "text/plain": [
       "0.9823680426419328"
      ]
     },
     "execution_count": 83,
     "metadata": {},
     "output_type": "execute_result"
    }
   ],
   "source": [
    "lasso.score(X_train_bow, y_train)"
   ]
  },
  {
   "cell_type": "code",
   "execution_count": 84,
   "metadata": {},
   "outputs": [
    {
     "data": {
      "text/plain": [
       "0.9824509892492547"
      ]
     },
     "execution_count": 84,
     "metadata": {},
     "output_type": "execute_result"
    }
   ],
   "source": [
    "lasso.score(X_test_bow, y_test)"
   ]
  },
  {
   "cell_type": "code",
   "execution_count": 94,
   "metadata": {},
   "outputs": [],
   "source": [
    "import scikitplot as skplt"
   ]
  },
  {
   "cell_type": "code",
   "execution_count": 103,
   "metadata": {},
   "outputs": [
    {
     "data": {
      "image/png": "[encoded data removed]",
      "text/plain": [
       "<Figure size 432x288 with 1 Axes>"
      ]
     },
     "metadata": {
      "needs_background": "dark"
     },
     "output_type": "display_data"
    }
   ],
   "source": [
    "skplt.metrics.plot_precision_recall(y_test, lasso.predict_proba(X_test_bow));"
   ]
  },
  {
   "cell_type": "code",
   "execution_count": 93,
   "metadata": {},
   "outputs": [
    {
     "data": {
      "text/plain": [
       "0.9719171335633251"
      ]
     },
     "execution_count": 93,
     "metadata": {},
     "output_type": "execute_result"
    }
   ],
   "source": [
    "metrics.roc_auc_score(y_test, lasso.predict_proba(X_test_bow)[:,1])"
   ]
  },
  {
   "cell_type": "code",
   "execution_count": 85,
   "metadata": {},
   "outputs": [
    {
     "name": "stdout",
     "output_type": "stream",
     "text": [
      "              precision    recall  f1-score   support\n",
      "\n",
      "       False       0.98      1.00      0.99     43223\n",
      "        True       0.91      0.29      0.44      1053\n",
      "\n",
      "   micro avg       0.98      0.98      0.98     44276\n",
      "   macro avg       0.95      0.64      0.72     44276\n",
      "weighted avg       0.98      0.98      0.98     44276\n",
      "\n"
     ]
    }
   ],
   "source": [
    "print(metrics.classification_report(y_test, lasso.predict(X_test_bow)))"
   ]
  },
  {
   "cell_type": "markdown",
   "metadata": {},
   "source": [
    "# Topic modeling"
   ]
  },
  {
   "cell_type": "code",
   "execution_count": 110,
   "metadata": {},
   "outputs": [],
   "source": [
    "nmf = decomposition.NMF(n_components=50, l1_ratio=0.5, alpha=0.001)"
   ]
  },
  {
   "cell_type": "code",
   "execution_count": 111,
   "metadata": {},
   "outputs": [
    {
     "name": "stdout",
     "output_type": "stream",
     "text": [
      "CPU times: user 3min 43s, sys: 48.1 s, total: 4min 32s\n",
      "Wall time: 3min 6s\n"
     ]
    },
    {
     "data": {
      "text/plain": [
       "NMF(alpha=0.001, beta_loss='frobenius', init=None, l1_ratio=0.5, max_iter=200,\n",
       "  n_components=50, random_state=None, shuffle=False, solver='cd',\n",
       "  tol=0.0001, verbose=0)"
      ]
     },
     "execution_count": 111,
     "metadata": {},
     "output_type": "execute_result"
    }
   ],
   "source": [
    "%%time\n",
    "nmf.fit(X_train_bow)"
   ]
  },
  {
   "cell_type": "code",
   "execution_count": 112,
   "metadata": {},
   "outputs": [
    {
     "name": "stderr",
     "output_type": "stream",
     "text": [
      "WARNING: Logging before flag parsing goes to stderr.\n",
      "W0829 23:57:22.170205 140325512234816 __init__.py:56] Some hub symbols are not available because TensorFlow version is less than 1.14\n"
     ]
    },
    {
     "data": {
      "text/html": [
       "<div>\n",
       "<style scoped>\n",
       "    .dataframe tbody tr th:only-of-type {\n",
       "        vertical-align: middle;\n",
       "    }\n",
       "\n",
       "    .dataframe tbody tr th {\n",
       "        vertical-align: top;\n",
       "    }\n",
       "\n",
       "    .dataframe thead th {\n",
       "        text-align: right;\n",
       "    }\n",
       "</style>\n",
       "<table border=\"1\" class=\"dataframe\">\n",
       "  <thead>\n",
       "    <tr style=\"text-align: right;\">\n",
       "      <th></th>\n",
       "      <th>0</th>\n",
       "      <th>1</th>\n",
       "      <th>2</th>\n",
       "      <th>3</th>\n",
       "      <th>4</th>\n",
       "      <th>5</th>\n",
       "      <th>6</th>\n",
       "      <th>7</th>\n",
       "      <th>8</th>\n",
       "      <th>9</th>\n",
       "    </tr>\n",
       "  </thead>\n",
       "  <tbody>\n",
       "    <tr>\n",
       "      <th>topic_0</th>\n",
       "      <td>bp</td>\n",
       "      <td>children</td>\n",
       "      <td>visualizing</td>\n",
       "      <td>over</td>\n",
       "      <td>regional</td>\n",
       "      <td>restaurants</td>\n",
       "      <td>tile</td>\n",
       "      <td>agreements</td>\n",
       "      <td>project_name</td>\n",
       "      <td>xhtml</td>\n",
       "    </tr>\n",
       "    <tr>\n",
       "      <th>topic_1</th>\n",
       "      <td>glyphicons</td>\n",
       "      <td>mistake</td>\n",
       "      <td>shinken</td>\n",
       "      <td>primes</td>\n",
       "      <td>mixer</td>\n",
       "      <td>assertj</td>\n",
       "      <td>victor</td>\n",
       "      <td>guava</td>\n",
       "      <td>achieves</td>\n",
       "      <td>crcxxnumber</td>\n",
       "    </tr>\n",
       "    <tr>\n",
       "      <th>topic_2</th>\n",
       "      <td>datastore</td>\n",
       "      <td>equipped</td>\n",
       "      <td>msi</td>\n",
       "      <td>manipulation</td>\n",
       "      <td>lives</td>\n",
       "      <td>linguistic</td>\n",
       "      <td>sword</td>\n",
       "      <td>shopping</td>\n",
       "      <td>parallax</td>\n",
       "      <td>trinitycore</td>\n",
       "    </tr>\n",
       "    <tr>\n",
       "      <th>topic_3</th>\n",
       "      <td>dpdk</td>\n",
       "      <td>glyphicons</td>\n",
       "      <td>receiver</td>\n",
       "      <td>kite</td>\n",
       "      <td>workspace</td>\n",
       "      <td>fit</td>\n",
       "      <td>mega</td>\n",
       "      <td>java_home</td>\n",
       "      <td>often</td>\n",
       "      <td>internals</td>\n",
       "    </tr>\n",
       "    <tr>\n",
       "      <th>topic_4</th>\n",
       "      <td>kite</td>\n",
       "      <td>lollipop</td>\n",
       "      <td>advances</td>\n",
       "      <td>file</td>\n",
       "      <td>subdirectory</td>\n",
       "      <td>fig</td>\n",
       "      <td>exploration</td>\n",
       "      <td>index</td>\n",
       "      <td>hpi</td>\n",
       "      <td>hxxnumberpy</td>\n",
       "    </tr>\n",
       "    <tr>\n",
       "      <th>topic_5</th>\n",
       "      <td>phonegap</td>\n",
       "      <td>目录</td>\n",
       "      <td>leveraging</td>\n",
       "      <td>adobe</td>\n",
       "      <td>ann</td>\n",
       "      <td>beginning</td>\n",
       "      <td>workspace</td>\n",
       "      <td>general</td>\n",
       "      <td>dispatch</td>\n",
       "      <td>statsd</td>\n",
       "    </tr>\n",
       "    <tr>\n",
       "      <th>topic_6</th>\n",
       "      <td>starts</td>\n",
       "      <td>taylor</td>\n",
       "      <td>versus</td>\n",
       "      <td>voting</td>\n",
       "      <td>flush</td>\n",
       "      <td>fps</td>\n",
       "      <td>shortcut</td>\n",
       "      <td>white_check_mark</td>\n",
       "      <td>combat</td>\n",
       "      <td>pipenv</td>\n",
       "    </tr>\n",
       "    <tr>\n",
       "      <th>topic_7</th>\n",
       "      <td>engineers</td>\n",
       "      <td>recommender</td>\n",
       "      <td>standing</td>\n",
       "      <td>loosely</td>\n",
       "      <td>translate</td>\n",
       "      <td>freenode</td>\n",
       "      <td>adheres</td>\n",
       "      <td>crcxxnumber</td>\n",
       "      <td>pb</td>\n",
       "      <td>map</td>\n",
       "    </tr>\n",
       "    <tr>\n",
       "      <th>topic_8</th>\n",
       "      <td>temporal</td>\n",
       "      <td>plant</td>\n",
       "      <td>internals</td>\n",
       "      <td>recommender</td>\n",
       "      <td>agreements</td>\n",
       "      <td>appxxnumber</td>\n",
       "      <td>shiny</td>\n",
       "      <td>xorg</td>\n",
       "      <td>former</td>\n",
       "      <td>victor</td>\n",
       "    </tr>\n",
       "    <tr>\n",
       "      <th>topic_9</th>\n",
       "      <td>rhythmbox</td>\n",
       "      <td>internals</td>\n",
       "      <td>currencies</td>\n",
       "      <td>planner</td>\n",
       "      <td>discussion</td>\n",
       "      <td>storm</td>\n",
       "      <td>encoded</td>\n",
       "      <td>former</td>\n",
       "      <td>triples</td>\n",
       "      <td>hackathon</td>\n",
       "    </tr>\n",
       "    <tr>\n",
       "      <th>topic_10</th>\n",
       "      <td>parallax</td>\n",
       "      <td>agreements</td>\n",
       "      <td>marshmallow</td>\n",
       "      <td>best</td>\n",
       "      <td>chapters</td>\n",
       "      <td>over</td>\n",
       "      <td>networking</td>\n",
       "      <td>bp</td>\n",
       "      <td>spksrc</td>\n",
       "      <td>index</td>\n",
       "    </tr>\n",
       "    <tr>\n",
       "      <th>topic_11</th>\n",
       "      <td>ahead</td>\n",
       "      <td>gold</td>\n",
       "      <td>discussion</td>\n",
       "      <td>predict</td>\n",
       "      <td>caused</td>\n",
       "      <td>agreements</td>\n",
       "      <td>wherever</td>\n",
       "      <td>currencies</td>\n",
       "      <td>report</td>\n",
       "      <td>planner</td>\n",
       "    </tr>\n",
       "    <tr>\n",
       "      <th>topic_12</th>\n",
       "      <td>wicket</td>\n",
       "      <td>uwp</td>\n",
       "      <td>puppet</td>\n",
       "      <td>minutes</td>\n",
       "      <td>analytical</td>\n",
       "      <td>children</td>\n",
       "      <td>genius</td>\n",
       "      <td>federal</td>\n",
       "      <td>xhtml</td>\n",
       "      <td>dispatch</td>\n",
       "    </tr>\n",
       "    <tr>\n",
       "      <th>topic_13</th>\n",
       "      <td>regex</td>\n",
       "      <td>this</td>\n",
       "      <td>reusable</td>\n",
       "      <td>apr</td>\n",
       "      <td>heuristic</td>\n",
       "      <td>emits</td>\n",
       "      <td>watcom</td>\n",
       "      <td>dag</td>\n",
       "      <td>placed</td>\n",
       "      <td>wild</td>\n",
       "    </tr>\n",
       "    <tr>\n",
       "      <th>topic_14</th>\n",
       "      <td>response</td>\n",
       "      <td>yocto</td>\n",
       "      <td>engineering</td>\n",
       "      <td>caching</td>\n",
       "      <td>drop</td>\n",
       "      <td>diagnostics</td>\n",
       "      <td>jul</td>\n",
       "      <td>datastore</td>\n",
       "      <td>teamcity</td>\n",
       "      <td>state</td>\n",
       "    </tr>\n",
       "    <tr>\n",
       "      <th>topic_15</th>\n",
       "      <td>objc</td>\n",
       "      <td>diagnostics</td>\n",
       "      <td>penetration</td>\n",
       "      <td>calibrate</td>\n",
       "      <td>pandoc</td>\n",
       "      <td>watcom</td>\n",
       "      <td>crcxxnumber</td>\n",
       "      <td>xorg</td>\n",
       "      <td>forum</td>\n",
       "      <td>jhipster</td>\n",
       "    </tr>\n",
       "    <tr>\n",
       "      <th>topic_16</th>\n",
       "      <td>homepage</td>\n",
       "      <td>temple</td>\n",
       "      <td>wherever</td>\n",
       "      <td>phonegap</td>\n",
       "      <td>enviroment</td>\n",
       "      <td>typeface</td>\n",
       "      <td>border</td>\n",
       "      <td>veewee</td>\n",
       "      <td>parallax</td>\n",
       "      <td>aerogear</td>\n",
       "    </tr>\n",
       "    <tr>\n",
       "      <th>topic_17</th>\n",
       "      <td>milliseconds</td>\n",
       "      <td>md</td>\n",
       "      <td>bluetooth</td>\n",
       "      <td>agreements</td>\n",
       "      <td>car</td>\n",
       "      <td>rules</td>\n",
       "      <td>highlighted</td>\n",
       "      <td>innodb</td>\n",
       "      <td>selection</td>\n",
       "      <td>xorg</td>\n",
       "    </tr>\n",
       "    <tr>\n",
       "      <th>topic_18</th>\n",
       "      <td>daemon</td>\n",
       "      <td>cactus</td>\n",
       "      <td>accepted</td>\n",
       "      <td>compression</td>\n",
       "      <td>penetration</td>\n",
       "      <td>deployer</td>\n",
       "      <td>worked</td>\n",
       "      <td>ace</td>\n",
       "      <td>uwp</td>\n",
       "      <td>imagemagick</td>\n",
       "    </tr>\n",
       "    <tr>\n",
       "      <th>topic_19</th>\n",
       "      <td>triangle</td>\n",
       "      <td>xml</td>\n",
       "      <td>stacks</td>\n",
       "      <td>drop</td>\n",
       "      <td>formatted</td>\n",
       "      <td>dat</td>\n",
       "      <td>house</td>\n",
       "      <td>construct</td>\n",
       "      <td>___</td>\n",
       "      <td>leverages</td>\n",
       "    </tr>\n",
       "    <tr>\n",
       "      <th>topic_20</th>\n",
       "      <td>slfxxnumberj</td>\n",
       "      <td>statically</td>\n",
       "      <td>bg</td>\n",
       "      <td>requesting</td>\n",
       "      <td>pxxnumber</td>\n",
       "      <td>bean</td>\n",
       "      <td>looping</td>\n",
       "      <td>web</td>\n",
       "      <td>gsm</td>\n",
       "      <td>agreements</td>\n",
       "    </tr>\n",
       "    <tr>\n",
       "      <th>topic_21</th>\n",
       "      <td>ide</td>\n",
       "      <td>undo</td>\n",
       "      <td>experiment</td>\n",
       "      <td>commits</td>\n",
       "      <td>downloadable</td>\n",
       "      <td>npc</td>\n",
       "      <td>individually</td>\n",
       "      <td>spreadsheets</td>\n",
       "      <td>killed</td>\n",
       "      <td>bsd</td>\n",
       "    </tr>\n",
       "    <tr>\n",
       "      <th>topic_22</th>\n",
       "      <td>glew</td>\n",
       "      <td>visualizing</td>\n",
       "      <td>located</td>\n",
       "      <td>expires</td>\n",
       "      <td>bp</td>\n",
       "      <td>avoids</td>\n",
       "      <td>fps</td>\n",
       "      <td>achieved</td>\n",
       "      <td>deployer</td>\n",
       "      <td>configurable</td>\n",
       "    </tr>\n",
       "    <tr>\n",
       "      <th>topic_23</th>\n",
       "      <td>veewee</td>\n",
       "      <td>dispatch</td>\n",
       "      <td>workspace</td>\n",
       "      <td>aerogear</td>\n",
       "      <td>carry</td>\n",
       "      <td>reward</td>\n",
       "      <td>associated</td>\n",
       "      <td>extends</td>\n",
       "      <td>zxxnumber</td>\n",
       "      <td>packet</td>\n",
       "    </tr>\n",
       "    <tr>\n",
       "      <th>topic_24</th>\n",
       "      <td>planar</td>\n",
       "      <td>ondeviceready</td>\n",
       "      <td>cast</td>\n",
       "      <td>diagnostics</td>\n",
       "      <td>approximately</td>\n",
       "      <td>seem</td>\n",
       "      <td>pressed</td>\n",
       "      <td>gobject</td>\n",
       "      <td>rb</td>\n",
       "      <td>hxxnumberpy</td>\n",
       "    </tr>\n",
       "    <tr>\n",
       "      <th>topic_25</th>\n",
       "      <td>replies</td>\n",
       "      <td>james</td>\n",
       "      <td>oo</td>\n",
       "      <td>caused</td>\n",
       "      <td>explanation</td>\n",
       "      <td>force</td>\n",
       "      <td>rows</td>\n",
       "      <td>jdbc</td>\n",
       "      <td>scapy</td>\n",
       "      <td>ignite</td>\n",
       "    </tr>\n",
       "    <tr>\n",
       "      <th>topic_26</th>\n",
       "      <td>taglib</td>\n",
       "      <td>plotting</td>\n",
       "      <td>encodes</td>\n",
       "      <td>roslaunch</td>\n",
       "      <td>translated</td>\n",
       "      <td>coin</td>\n",
       "      <td>skia</td>\n",
       "      <td>sees</td>\n",
       "      <td>achieves</td>\n",
       "      <td>portxxequalsxxnumber</td>\n",
       "    </tr>\n",
       "    <tr>\n",
       "      <th>topic_27</th>\n",
       "      <td>misc</td>\n",
       "      <td>faq</td>\n",
       "      <td>statically</td>\n",
       "      <td>unzip</td>\n",
       "      <td>uwp</td>\n",
       "      <td>wrong</td>\n",
       "      <td>proximity</td>\n",
       "      <td>symbol</td>\n",
       "      <td>undo</td>\n",
       "      <td>fssl</td>\n",
       "    </tr>\n",
       "    <tr>\n",
       "      <th>topic_28</th>\n",
       "      <td>cannot</td>\n",
       "      <td>will</td>\n",
       "      <td>nxt</td>\n",
       "      <td>privileged</td>\n",
       "      <td>subscription</td>\n",
       "      <td>handlers</td>\n",
       "      <td>wsgi</td>\n",
       "      <td>capable</td>\n",
       "      <td>workers</td>\n",
       "      <td>planets</td>\n",
       "    </tr>\n",
       "    <tr>\n",
       "      <th>topic_29</th>\n",
       "      <td>collaborate</td>\n",
       "      <td>openstack</td>\n",
       "      <td>diagnostics</td>\n",
       "      <td>hand</td>\n",
       "      <td>lollipop</td>\n",
       "      <td>selected</td>\n",
       "      <td>gobject</td>\n",
       "      <td>themes</td>\n",
       "      <td>startproject</td>\n",
       "      <td>map</td>\n",
       "    </tr>\n",
       "    <tr>\n",
       "      <th>topic_30</th>\n",
       "      <td>ldflagsxxequals</td>\n",
       "      <td>examplexxnumber</td>\n",
       "      <td>mailing</td>\n",
       "      <td>workers</td>\n",
       "      <td>cream</td>\n",
       "      <td>viewers</td>\n",
       "      <td>pub</td>\n",
       "      <td>placed</td>\n",
       "      <td>aac</td>\n",
       "      <td>api</td>\n",
       "    </tr>\n",
       "    <tr>\n",
       "      <th>topic_31</th>\n",
       "      <td>planets</td>\n",
       "      <td>chapters</td>\n",
       "      <td>victor</td>\n",
       "      <td>achieves</td>\n",
       "      <td>compiled</td>\n",
       "      <td>networking</td>\n",
       "      <td>secrets</td>\n",
       "      <td>achieved</td>\n",
       "      <td>macintosh</td>\n",
       "      <td>pocket</td>\n",
       "    </tr>\n",
       "    <tr>\n",
       "      <th>topic_32</th>\n",
       "      <td>go</td>\n",
       "      <td>sonarqube</td>\n",
       "      <td>bamboo</td>\n",
       "      <td>tx</td>\n",
       "      <td>phonegap</td>\n",
       "      <td>uwp</td>\n",
       "      <td>yocto</td>\n",
       "      <td>wildcard</td>\n",
       "      <td>animations</td>\n",
       "      <td>excluded</td>\n",
       "    </tr>\n",
       "    <tr>\n",
       "      <th>topic_33</th>\n",
       "      <td>capable</td>\n",
       "      <td>comparisons</td>\n",
       "      <td>travisci</td>\n",
       "      <td>hmac</td>\n",
       "      <td>xor</td>\n",
       "      <td>subdirectory</td>\n",
       "      <td>device</td>\n",
       "      <td>prefixed</td>\n",
       "      <td>computationally</td>\n",
       "      <td>imagemagick</td>\n",
       "    </tr>\n",
       "    <tr>\n",
       "      <th>topic_34</th>\n",
       "      <td>radically</td>\n",
       "      <td>executables</td>\n",
       "      <td>capable</td>\n",
       "      <td>mongo</td>\n",
       "      <td>looping</td>\n",
       "      <td>par</td>\n",
       "      <td>navigate</td>\n",
       "      <td>translated</td>\n",
       "      <td>visualizing</td>\n",
       "      <td>cool</td>\n",
       "    </tr>\n",
       "    <tr>\n",
       "      <th>topic_35</th>\n",
       "      <td>resource</td>\n",
       "      <td>toronto</td>\n",
       "      <td>designed</td>\n",
       "      <td>faq</td>\n",
       "      <td>achieved</td>\n",
       "      <td>subscription</td>\n",
       "      <td>sure</td>\n",
       "      <td>proven</td>\n",
       "      <td>navigate</td>\n",
       "      <td>lxxnumber</td>\n",
       "    </tr>\n",
       "    <tr>\n",
       "      <th>topic_36</th>\n",
       "      <td>xmpp</td>\n",
       "      <td>ml</td>\n",
       "      <td>prediction</td>\n",
       "      <td>straightforward</td>\n",
       "      <td>defense</td>\n",
       "      <td>predict</td>\n",
       "      <td>fourth</td>\n",
       "      <td>csxxnumber</td>\n",
       "      <td>hackathon</td>\n",
       "      <td>heuristic</td>\n",
       "    </tr>\n",
       "    <tr>\n",
       "      <th>topic_37</th>\n",
       "      <td>contains</td>\n",
       "      <td>insecure</td>\n",
       "      <td>incoming</td>\n",
       "      <td>openjdk</td>\n",
       "      <td>handlers</td>\n",
       "      <td>faq</td>\n",
       "      <td>heading</td>\n",
       "      <td>dicom</td>\n",
       "      <td>forum</td>\n",
       "      <td>intermediate</td>\n",
       "    </tr>\n",
       "    <tr>\n",
       "      <th>topic_38</th>\n",
       "      <td>configurations</td>\n",
       "      <td>sounds</td>\n",
       "      <td>intel</td>\n",
       "      <td>mistake</td>\n",
       "      <td>caused</td>\n",
       "      <td>navbar</td>\n",
       "      <td>formatted</td>\n",
       "      <td>versus</td>\n",
       "      <td>worked</td>\n",
       "      <td>symbol</td>\n",
       "    </tr>\n",
       "    <tr>\n",
       "      <th>topic_39</th>\n",
       "      <td>gradient</td>\n",
       "      <td>exposed</td>\n",
       "      <td>sox</td>\n",
       "      <td>pam</td>\n",
       "      <td>walks</td>\n",
       "      <td>solar</td>\n",
       "      <td>initially</td>\n",
       "      <td>crc</td>\n",
       "      <td>sdk</td>\n",
       "      <td>planets</td>\n",
       "    </tr>\n",
       "    <tr>\n",
       "      <th>topic_40</th>\n",
       "      <td>packet</td>\n",
       "      <td>zmq</td>\n",
       "      <td>at</td>\n",
       "      <td>agreements</td>\n",
       "      <td>topics</td>\n",
       "      <td>offline</td>\n",
       "      <td>regional</td>\n",
       "      <td>api</td>\n",
       "      <td>java_home</td>\n",
       "      <td>forces</td>\n",
       "    </tr>\n",
       "    <tr>\n",
       "      <th>topic_41</th>\n",
       "      <td>spksrc</td>\n",
       "      <td>phantom</td>\n",
       "      <td>ideal</td>\n",
       "      <td>worked</td>\n",
       "      <td>shield</td>\n",
       "      <td>diagnostics</td>\n",
       "      <td>over</td>\n",
       "      <td>at</td>\n",
       "      <td>pocket</td>\n",
       "      <td>startproject</td>\n",
       "    </tr>\n",
       "    <tr>\n",
       "      <th>topic_42</th>\n",
       "      <td>aid</td>\n",
       "      <td>openjdk</td>\n",
       "      <td>xyz</td>\n",
       "      <td>guava</td>\n",
       "      <td>repair</td>\n",
       "      <td>apachexxnumber</td>\n",
       "      <td>practicing</td>\n",
       "      <td>decoding</td>\n",
       "      <td>walks</td>\n",
       "      <td>dumb</td>\n",
       "    </tr>\n",
       "    <tr>\n",
       "      <th>topic_43</th>\n",
       "      <td>qq</td>\n",
       "      <td>codec</td>\n",
       "      <td>jdbc</td>\n",
       "      <td>solar</td>\n",
       "      <td>additionally</td>\n",
       "      <td>food</td>\n",
       "      <td>puts</td>\n",
       "      <td>alternative</td>\n",
       "      <td>wrong</td>\n",
       "      <td>vpn</td>\n",
       "    </tr>\n",
       "    <tr>\n",
       "      <th>topic_44</th>\n",
       "      <td>invocation</td>\n",
       "      <td>sandbox</td>\n",
       "      <td>subscription</td>\n",
       "      <td>telnet</td>\n",
       "      <td>internals</td>\n",
       "      <td>consume</td>\n",
       "      <td>discussion</td>\n",
       "      <td>comparing</td>\n",
       "      <td>blogs</td>\n",
       "      <td>shortener</td>\n",
       "    </tr>\n",
       "    <tr>\n",
       "      <th>topic_45</th>\n",
       "      <td>highest</td>\n",
       "      <td>unified</td>\n",
       "      <td>ixxnumbern</td>\n",
       "      <td>aspose</td>\n",
       "      <td>downloadable</td>\n",
       "      <td>excel</td>\n",
       "      <td>vertically</td>\n",
       "      <td>bib</td>\n",
       "      <td>dat</td>\n",
       "      <td>proven</td>\n",
       "    </tr>\n",
       "    <tr>\n",
       "      <th>topic_46</th>\n",
       "      <td>patch</td>\n",
       "      <td>tiled</td>\n",
       "      <td>unzip</td>\n",
       "      <td>heading</td>\n",
       "      <td>seem</td>\n",
       "      <td>requesting</td>\n",
       "      <td>privileged</td>\n",
       "      <td>looping</td>\n",
       "      <td>compiled</td>\n",
       "      <td>swing</td>\n",
       "    </tr>\n",
       "    <tr>\n",
       "      <th>topic_47</th>\n",
       "      <td>lcurldll</td>\n",
       "      <td>acs</td>\n",
       "      <td>cam</td>\n",
       "      <td>jul</td>\n",
       "      <td>recommender</td>\n",
       "      <td>anti</td>\n",
       "      <td>standing</td>\n",
       "      <td>org</td>\n",
       "      <td>output_file</td>\n",
       "      <td>engineers</td>\n",
       "    </tr>\n",
       "    <tr>\n",
       "      <th>topic_48</th>\n",
       "      <td>sponge</td>\n",
       "      <td>visualizing</td>\n",
       "      <td>sure</td>\n",
       "      <td>stacks</td>\n",
       "      <td>cream</td>\n",
       "      <td>dat</td>\n",
       "      <td>graylog</td>\n",
       "      <td>reducing</td>\n",
       "      <td>bp</td>\n",
       "      <td>arma</td>\n",
       "    </tr>\n",
       "    <tr>\n",
       "      <th>topic_49</th>\n",
       "      <td>valued</td>\n",
       "      <td>guile</td>\n",
       "      <td>xorg</td>\n",
       "      <td>folders</td>\n",
       "      <td>assemblies</td>\n",
       "      <td>proven</td>\n",
       "      <td>comparing</td>\n",
       "      <td>rare</td>\n",
       "      <td>lol</td>\n",
       "      <td>capable</td>\n",
       "    </tr>\n",
       "  </tbody>\n",
       "</table>\n",
       "</div>"
      ],
      "text/plain": [
       "                        0                1             2                3  \\\n",
       "topic_0                bp         children   visualizing             over   \n",
       "topic_1        glyphicons          mistake       shinken           primes   \n",
       "topic_2         datastore         equipped           msi     manipulation   \n",
       "topic_3              dpdk       glyphicons      receiver             kite   \n",
       "topic_4              kite         lollipop      advances             file   \n",
       "topic_5          phonegap               目录    leveraging            adobe   \n",
       "topic_6            starts           taylor        versus           voting   \n",
       "topic_7         engineers      recommender      standing          loosely   \n",
       "topic_8          temporal            plant     internals      recommender   \n",
       "topic_9         rhythmbox        internals    currencies          planner   \n",
       "topic_10         parallax       agreements   marshmallow             best   \n",
       "topic_11            ahead             gold    discussion          predict   \n",
       "topic_12           wicket              uwp        puppet          minutes   \n",
       "topic_13            regex             this      reusable              apr   \n",
       "topic_14         response            yocto   engineering          caching   \n",
       "topic_15             objc      diagnostics   penetration        calibrate   \n",
       "topic_16         homepage           temple      wherever         phonegap   \n",
       "topic_17     milliseconds               md     bluetooth       agreements   \n",
       "topic_18           daemon           cactus      accepted      compression   \n",
       "topic_19         triangle              xml        stacks             drop   \n",
       "topic_20     slfxxnumberj       statically            bg       requesting   \n",
       "topic_21              ide             undo    experiment          commits   \n",
       "topic_22             glew      visualizing       located          expires   \n",
       "topic_23           veewee         dispatch     workspace         aerogear   \n",
       "topic_24           planar    ondeviceready          cast      diagnostics   \n",
       "topic_25          replies            james            oo           caused   \n",
       "topic_26           taglib         plotting       encodes        roslaunch   \n",
       "topic_27             misc              faq    statically            unzip   \n",
       "topic_28           cannot             will           nxt       privileged   \n",
       "topic_29      collaborate        openstack   diagnostics             hand   \n",
       "topic_30  ldflagsxxequals  examplexxnumber       mailing          workers   \n",
       "topic_31          planets         chapters        victor         achieves   \n",
       "topic_32               go        sonarqube        bamboo               tx   \n",
       "topic_33          capable      comparisons      travisci             hmac   \n",
       "topic_34        radically      executables       capable            mongo   \n",
       "topic_35         resource          toronto      designed              faq   \n",
       "topic_36             xmpp               ml    prediction  straightforward   \n",
       "topic_37         contains         insecure      incoming          openjdk   \n",
       "topic_38   configurations           sounds         intel          mistake   \n",
       "topic_39         gradient          exposed           sox              pam   \n",
       "topic_40           packet              zmq            at       agreements   \n",
       "topic_41           spksrc          phantom         ideal           worked   \n",
       "topic_42              aid          openjdk           xyz            guava   \n",
       "topic_43               qq            codec          jdbc            solar   \n",
       "topic_44       invocation          sandbox  subscription           telnet   \n",
       "topic_45          highest          unified    ixxnumbern           aspose   \n",
       "topic_46            patch            tiled         unzip          heading   \n",
       "topic_47         lcurldll              acs           cam              jul   \n",
       "topic_48           sponge      visualizing          sure           stacks   \n",
       "topic_49           valued            guile          xorg          folders   \n",
       "\n",
       "                      4               5             6                 7  \\\n",
       "topic_0        regional     restaurants          tile        agreements   \n",
       "topic_1           mixer         assertj        victor             guava   \n",
       "topic_2           lives      linguistic         sword          shopping   \n",
       "topic_3       workspace             fit          mega         java_home   \n",
       "topic_4    subdirectory             fig   exploration             index   \n",
       "topic_5             ann       beginning     workspace           general   \n",
       "topic_6           flush             fps      shortcut  white_check_mark   \n",
       "topic_7       translate        freenode       adheres       crcxxnumber   \n",
       "topic_8      agreements     appxxnumber         shiny              xorg   \n",
       "topic_9      discussion           storm       encoded            former   \n",
       "topic_10       chapters            over    networking                bp   \n",
       "topic_11         caused      agreements      wherever        currencies   \n",
       "topic_12     analytical        children        genius           federal   \n",
       "topic_13      heuristic           emits        watcom               dag   \n",
       "topic_14           drop     diagnostics           jul         datastore   \n",
       "topic_15         pandoc          watcom   crcxxnumber              xorg   \n",
       "topic_16     enviroment        typeface        border            veewee   \n",
       "topic_17            car           rules   highlighted            innodb   \n",
       "topic_18    penetration        deployer        worked               ace   \n",
       "topic_19      formatted             dat         house         construct   \n",
       "topic_20      pxxnumber            bean       looping               web   \n",
       "topic_21   downloadable             npc  individually      spreadsheets   \n",
       "topic_22             bp          avoids           fps          achieved   \n",
       "topic_23          carry          reward    associated           extends   \n",
       "topic_24  approximately            seem       pressed           gobject   \n",
       "topic_25    explanation           force          rows              jdbc   \n",
       "topic_26     translated            coin          skia              sees   \n",
       "topic_27            uwp           wrong     proximity            symbol   \n",
       "topic_28   subscription        handlers          wsgi           capable   \n",
       "topic_29       lollipop        selected       gobject            themes   \n",
       "topic_30          cream         viewers           pub            placed   \n",
       "topic_31       compiled      networking       secrets          achieved   \n",
       "topic_32       phonegap             uwp         yocto          wildcard   \n",
       "topic_33            xor    subdirectory        device          prefixed   \n",
       "topic_34        looping             par      navigate        translated   \n",
       "topic_35       achieved    subscription          sure            proven   \n",
       "topic_36        defense         predict        fourth        csxxnumber   \n",
       "topic_37       handlers             faq       heading             dicom   \n",
       "topic_38         caused          navbar     formatted            versus   \n",
       "topic_39          walks           solar     initially               crc   \n",
       "topic_40         topics         offline      regional               api   \n",
       "topic_41         shield     diagnostics          over                at   \n",
       "topic_42         repair  apachexxnumber    practicing          decoding   \n",
       "topic_43   additionally            food          puts       alternative   \n",
       "topic_44      internals         consume    discussion         comparing   \n",
       "topic_45   downloadable           excel    vertically               bib   \n",
       "topic_46           seem      requesting    privileged           looping   \n",
       "topic_47    recommender            anti      standing               org   \n",
       "topic_48          cream             dat       graylog          reducing   \n",
       "topic_49     assemblies          proven     comparing              rare   \n",
       "\n",
       "                        8                     9  \n",
       "topic_0      project_name                 xhtml  \n",
       "topic_1          achieves           crcxxnumber  \n",
       "topic_2          parallax           trinitycore  \n",
       "topic_3             often             internals  \n",
       "topic_4               hpi           hxxnumberpy  \n",
       "topic_5          dispatch                statsd  \n",
       "topic_6            combat                pipenv  \n",
       "topic_7                pb                   map  \n",
       "topic_8            former                victor  \n",
       "topic_9           triples             hackathon  \n",
       "topic_10           spksrc                 index  \n",
       "topic_11           report               planner  \n",
       "topic_12            xhtml              dispatch  \n",
       "topic_13           placed                  wild  \n",
       "topic_14         teamcity                 state  \n",
       "topic_15            forum              jhipster  \n",
       "topic_16         parallax              aerogear  \n",
       "topic_17        selection                  xorg  \n",
       "topic_18              uwp           imagemagick  \n",
       "topic_19              ___             leverages  \n",
       "topic_20              gsm            agreements  \n",
       "topic_21           killed                   bsd  \n",
       "topic_22         deployer          configurable  \n",
       "topic_23        zxxnumber                packet  \n",
       "topic_24               rb           hxxnumberpy  \n",
       "topic_25            scapy                ignite  \n",
       "topic_26         achieves  portxxequalsxxnumber  \n",
       "topic_27             undo                  fssl  \n",
       "topic_28          workers               planets  \n",
       "topic_29     startproject                   map  \n",
       "topic_30              aac                   api  \n",
       "topic_31        macintosh                pocket  \n",
       "topic_32       animations              excluded  \n",
       "topic_33  computationally           imagemagick  \n",
       "topic_34      visualizing                  cool  \n",
       "topic_35         navigate             lxxnumber  \n",
       "topic_36        hackathon             heuristic  \n",
       "topic_37            forum          intermediate  \n",
       "topic_38           worked                symbol  \n",
       "topic_39              sdk               planets  \n",
       "topic_40        java_home                forces  \n",
       "topic_41           pocket          startproject  \n",
       "topic_42            walks                  dumb  \n",
       "topic_43            wrong                   vpn  \n",
       "topic_44            blogs             shortener  \n",
       "topic_45              dat                proven  \n",
       "topic_46         compiled                 swing  \n",
       "topic_47      output_file             engineers  \n",
       "topic_48               bp                  arma  \n",
       "topic_49              lol               capable  "
      ]
     },
     "execution_count": 112,
     "metadata": {},
     "output_type": "execute_result"
    }
   ],
   "source": [
    "from mlutil import topic_modeling\n",
    "\n",
    "topic_modeling.top_topic_words(nmf, list(vectorizer.vocabulary_.keys()), 10)"
   ]
  },
  {
   "cell_type": "code",
   "execution_count": 120,
   "metadata": {},
   "outputs": [],
   "source": [
    "X_train_nmf = nmf.transform(X_train_bow)\n",
    "X_test_nmf = nmf.transform(X_test_bow)"
   ]
  },
  {
   "cell_type": "markdown",
   "metadata": {},
   "source": [
    "## Random Forest"
   ]
  },
  {
   "cell_type": "code",
   "execution_count": 121,
   "metadata": {},
   "outputs": [],
   "source": [
    "from sklearn import ensemble\n",
    "\n",
    "rf_clf = ensemble.RandomForestClassifier(n_estimators=100, max_depth=15, random_state=0, n_jobs=-1)"
   ]
  },
  {
   "cell_type": "code",
   "execution_count": 122,
   "metadata": {},
   "outputs": [
    {
     "name": "stdout",
     "output_type": "stream",
     "text": [
      "CPU times: user 1min 26s, sys: 194 ms, total: 1min 27s\n",
      "Wall time: 8.56 s\n"
     ]
    },
    {
     "data": {
      "text/plain": [
       "RandomForestClassifier(bootstrap=True, class_weight=None, criterion='gini',\n",
       "            max_depth=15, max_features='auto', max_leaf_nodes=None,\n",
       "            min_impurity_decrease=0.0, min_impurity_split=None,\n",
       "            min_samples_leaf=1, min_samples_split=2,\n",
       "            min_weight_fraction_leaf=0.0, n_estimators=100, n_jobs=-1,\n",
       "            oob_score=False, random_state=0, verbose=0, warm_start=False)"
      ]
     },
     "execution_count": 122,
     "metadata": {},
     "output_type": "execute_result"
    }
   ],
   "source": [
    "%%time\n",
    "rf_clf.fit(X_train_nmf, y_train)"
   ]
  },
  {
   "cell_type": "code",
   "execution_count": 123,
   "metadata": {},
   "outputs": [
    {
     "data": {
      "text/plain": [
       "0.9899041610515934"
      ]
     },
     "execution_count": 123,
     "metadata": {},
     "output_type": "execute_result"
    }
   ],
   "source": [
    "rf_clf.score(X_train_nmf, y_train)"
   ]
  },
  {
   "cell_type": "code",
   "execution_count": 126,
   "metadata": {},
   "outputs": [
    {
     "data": {
      "text/plain": [
       "0.982179962056193"
      ]
     },
     "execution_count": 126,
     "metadata": {},
     "output_type": "execute_result"
    }
   ],
   "source": [
    "rf_clf.score(X_test_nmf, y_test)"
   ]
  },
  {
   "cell_type": "code",
   "execution_count": 129,
   "metadata": {},
   "outputs": [
    {
     "data": {
      "text/plain": [
       "(44276, 2)"
      ]
     },
     "execution_count": 129,
     "metadata": {},
     "output_type": "execute_result"
    }
   ],
   "source": [
    "rf_clf.predict_proba(X_test_nmf).shape"
   ]
  },
  {
   "cell_type": "code",
   "execution_count": 130,
   "metadata": {},
   "outputs": [
    {
     "data": {
      "image/png": "[encoded data removed]",
      "text/plain": [
       "<Figure size 432x288 with 1 Axes>"
      ]
     },
     "metadata": {
      "needs_background": "dark"
     },
     "output_type": "display_data"
    }
   ],
   "source": [
    "skplt.metrics.plot_precision_recall(y_test, rf_clf.predict_proba(X_test_nmf));"
   ]
  }
 ],
 "metadata": {
  "kernelspec": {
   "display_name": "ml",
   "language": "python",
   "name": "ml"
  },
  "language_info": {
   "codemirror_mode": {
    "name": "ipython",
    "version": 3
   },
   "file_extension": ".py",
   "mimetype": "text/x-python",
   "name": "python",
   "nbconvert_exporter": "python",
   "pygments_lexer": "ipython3",
   "version": "3.7.9"
  }
 },
 "nbformat": 4,
 "nbformat_minor": 2
}
