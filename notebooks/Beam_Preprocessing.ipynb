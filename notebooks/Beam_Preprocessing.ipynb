{
 "cells": [
  {
   "cell_type": "code",
   "execution_count": 1,
   "metadata": {},
   "outputs": [],
   "source": [
    "import pandas as pd\n"
   ]
  },
  {
   "cell_type": "code",
   "execution_count": 2,
   "metadata": {},
   "outputs": [],
   "source": [
    "repos_df = pd.read_json('../data/github_repos_000000000000.json.gz', compression='gzip', lines=True)"
   ]
  },
  {
   "cell_type": "code",
   "execution_count": 3,
   "metadata": {},
   "outputs": [
    {
     "name": "stdout",
     "output_type": "stream",
     "text": [
      "<class 'pandas.core.frame.DataFrame'>\n",
      "RangeIndex: 272876 entries, 0 to 272875\n",
      "Data columns (total 3 columns):\n",
      " #   Column     Non-Null Count   Dtype \n",
      "---  ------     --------------   ----- \n",
      " 0   repo_name  272876 non-null  object\n",
      " 1   content    272847 non-null  object\n",
      " 2   language   272876 non-null  object\n",
      "dtypes: object(3)\n",
      "memory usage: 6.2+ MB\n"
     ]
    }
   ],
   "source": [
    "repos_df.info()"
   ]
  },
  {
   "cell_type": "code",
   "execution_count": 4,
   "metadata": {},
   "outputs": [],
   "source": [
    "repos_df['content'][repos_df['content'].isna()] = ''"
   ]
  },
  {
   "cell_type": "code",
   "execution_count": 5,
   "metadata": {},
   "outputs": [],
   "source": [
    "def merge_text_langs(langs):\n",
    "    return ' '.join((lang['name'] for lang in langs))"
   ]
  },
  {
   "cell_type": "code",
   "execution_count": 6,
   "metadata": {},
   "outputs": [],
   "source": [
    "repos_df['languages_str'] = repos_df['language'].apply(merge_text_langs)"
   ]
  },
  {
   "cell_type": "code",
   "execution_count": 7,
   "metadata": {},
   "outputs": [],
   "source": [
    "repos_df['is_python_repo'] = repos_df['languages_str'].str.contains('Python')\n",
    "python_repos_df = repos_df[repos_df['is_python_repo']]"
   ]
  },
  {
   "cell_type": "code",
   "execution_count": 8,
   "metadata": {},
   "outputs": [
    {
     "data": {
      "text/html": [
       "<div>\n",
       "<style scoped>\n",
       "    .dataframe tbody tr th:only-of-type {\n",
       "        vertical-align: middle;\n",
       "    }\n",
       "\n",
       "    .dataframe tbody tr th {\n",
       "        vertical-align: top;\n",
       "    }\n",
       "\n",
       "    .dataframe thead th {\n",
       "        text-align: right;\n",
       "    }\n",
       "</style>\n",
       "<table border=\"1\" class=\"dataframe\">\n",
       "  <thead>\n",
       "    <tr style=\"text-align: right;\">\n",
       "      <th></th>\n",
       "      <th>repo_name</th>\n",
       "      <th>content</th>\n",
       "      <th>language</th>\n",
       "      <th>languages_str</th>\n",
       "      <th>is_python_repo</th>\n",
       "    </tr>\n",
       "  </thead>\n",
       "  <tbody>\n",
       "    <tr>\n",
       "      <th>9</th>\n",
       "      <td>J-cztery/jenkins-inheritance-plugin</td>\n",
       "      <td>This project contains the source code of the \"...</td>\n",
       "      <td>[{'name': 'CSS', 'bytes': '1174'}, {'name': 'G...</td>\n",
       "      <td>CSS Groovy HTML Java JavaScript Python</td>\n",
       "      <td>True</td>\n",
       "    </tr>\n",
       "    <tr>\n",
       "      <th>28</th>\n",
       "      <td>NilsJPWerner/scgbot</td>\n",
       "      <td># scgbot\\nBot for the UChicago senior class gi...</td>\n",
       "      <td>[{'name': 'HTML', 'bytes': '3933'}, {'name': '...</td>\n",
       "      <td>HTML Python</td>\n",
       "      <td>True</td>\n",
       "    </tr>\n",
       "    <tr>\n",
       "      <th>29</th>\n",
       "      <td>FinnOD/text</td>\n",
       "      <td># terrain\\nprocedural terrain testing\\n</td>\n",
       "      <td>[{'name': 'HTML', 'bytes': '10477'}, {'name': ...</td>\n",
       "      <td>HTML JavaScript Python</td>\n",
       "      <td>True</td>\n",
       "    </tr>\n",
       "    <tr>\n",
       "      <th>38</th>\n",
       "      <td>niranjan-hanumegowda/chef-repo</td>\n",
       "      <td>Overview\\n========\\n\\nEvery Chef installation ...</td>\n",
       "      <td>[{'name': 'Perl', 'bytes': '847'}, {'name': 'P...</td>\n",
       "      <td>Perl Python Ruby Shell</td>\n",
       "      <td>True</td>\n",
       "    </tr>\n",
       "    <tr>\n",
       "      <th>42</th>\n",
       "      <td>Darmwind/FreeDMS</td>\n",
       "      <td># FreeDMS\\nA structured way to organize your d...</td>\n",
       "      <td>[{'name': 'Groff', 'bytes': '1335'}, {'name': ...</td>\n",
       "      <td>Groff Python Shell</td>\n",
       "      <td>True</td>\n",
       "    </tr>\n",
       "    <tr>\n",
       "      <th>...</th>\n",
       "      <td>...</td>\n",
       "      <td>...</td>\n",
       "      <td>...</td>\n",
       "      <td>...</td>\n",
       "      <td>...</td>\n",
       "    </tr>\n",
       "    <tr>\n",
       "      <th>272204</th>\n",
       "      <td>apokellypse/shout-webapp</td>\n",
       "      <td># shout-webapp\\r\\n\\r\\n# What is [sh]out?\\r\\n\\r...</td>\n",
       "      <td>[{'name': 'CSS', 'bytes': '112'}, {'name': 'HT...</td>\n",
       "      <td>CSS HTML JavaScript Python</td>\n",
       "      <td>True</td>\n",
       "    </tr>\n",
       "    <tr>\n",
       "      <th>272214</th>\n",
       "      <td>weidazh/lunchere</td>\n",
       "      <td>Lunchere is a web platform for users to pick w...</td>\n",
       "      <td>[{'name': 'CSS', 'bytes': '33500'}, {'name': '...</td>\n",
       "      <td>CSS JavaScript PHP Python Shell</td>\n",
       "      <td>True</td>\n",
       "    </tr>\n",
       "    <tr>\n",
       "      <th>272215</th>\n",
       "      <td>joshuasnowball/INERT-dmp</td>\n",
       "      <td>dmp\\n===\\n\\nDiscreet visual aggregator\\n\\nAugu...</td>\n",
       "      <td>[{'name': 'CSS', 'bytes': '13618'}, {'name': '...</td>\n",
       "      <td>CSS JavaScript PHP Python Shell</td>\n",
       "      <td>True</td>\n",
       "    </tr>\n",
       "    <tr>\n",
       "      <th>272217</th>\n",
       "      <td>digitarald/d2g</td>\n",
       "      <td>Distribute to Gecko aka D2G\\n=================...</td>\n",
       "      <td>[{'name': 'CSS', 'bytes': '309795'}, {'name': ...</td>\n",
       "      <td>CSS JavaScript Python Scala Shell</td>\n",
       "      <td>True</td>\n",
       "    </tr>\n",
       "    <tr>\n",
       "      <th>272227</th>\n",
       "      <td>deslum/Heroku-Echo-Server</td>\n",
       "      <td># Heroku-Echo-Server\\nThis is simple example h...</td>\n",
       "      <td>[{'name': 'JavaScript', 'bytes': '33'}, {'name...</td>\n",
       "      <td>JavaScript Python Shell</td>\n",
       "      <td>True</td>\n",
       "    </tr>\n",
       "  </tbody>\n",
       "</table>\n",
       "<p>39594 rows × 5 columns</p>\n",
       "</div>"
      ],
      "text/plain": [
       "                                  repo_name  \\\n",
       "9       J-cztery/jenkins-inheritance-plugin   \n",
       "28                      NilsJPWerner/scgbot   \n",
       "29                              FinnOD/text   \n",
       "38           niranjan-hanumegowda/chef-repo   \n",
       "42                         Darmwind/FreeDMS   \n",
       "...                                     ...   \n",
       "272204             apokellypse/shout-webapp   \n",
       "272214                     weidazh/lunchere   \n",
       "272215             joshuasnowball/INERT-dmp   \n",
       "272217                       digitarald/d2g   \n",
       "272227            deslum/Heroku-Echo-Server   \n",
       "\n",
       "                                                  content  \\\n",
       "9       This project contains the source code of the \"...   \n",
       "28      # scgbot\\nBot for the UChicago senior class gi...   \n",
       "29                # terrain\\nprocedural terrain testing\\n   \n",
       "38      Overview\\n========\\n\\nEvery Chef installation ...   \n",
       "42      # FreeDMS\\nA structured way to organize your d...   \n",
       "...                                                   ...   \n",
       "272204  # shout-webapp\\r\\n\\r\\n# What is [sh]out?\\r\\n\\r...   \n",
       "272214  Lunchere is a web platform for users to pick w...   \n",
       "272215  dmp\\n===\\n\\nDiscreet visual aggregator\\n\\nAugu...   \n",
       "272217  Distribute to Gecko aka D2G\\n=================...   \n",
       "272227  # Heroku-Echo-Server\\nThis is simple example h...   \n",
       "\n",
       "                                                 language  \\\n",
       "9       [{'name': 'CSS', 'bytes': '1174'}, {'name': 'G...   \n",
       "28      [{'name': 'HTML', 'bytes': '3933'}, {'name': '...   \n",
       "29      [{'name': 'HTML', 'bytes': '10477'}, {'name': ...   \n",
       "38      [{'name': 'Perl', 'bytes': '847'}, {'name': 'P...   \n",
       "42      [{'name': 'Groff', 'bytes': '1335'}, {'name': ...   \n",
       "...                                                   ...   \n",
       "272204  [{'name': 'CSS', 'bytes': '112'}, {'name': 'HT...   \n",
       "272214  [{'name': 'CSS', 'bytes': '33500'}, {'name': '...   \n",
       "272215  [{'name': 'CSS', 'bytes': '13618'}, {'name': '...   \n",
       "272217  [{'name': 'CSS', 'bytes': '309795'}, {'name': ...   \n",
       "272227  [{'name': 'JavaScript', 'bytes': '33'}, {'name...   \n",
       "\n",
       "                                 languages_str  is_python_repo  \n",
       "9       CSS Groovy HTML Java JavaScript Python            True  \n",
       "28                                 HTML Python            True  \n",
       "29                      HTML JavaScript Python            True  \n",
       "38                      Perl Python Ruby Shell            True  \n",
       "42                          Groff Python Shell            True  \n",
       "...                                        ...             ...  \n",
       "272204              CSS HTML JavaScript Python            True  \n",
       "272214         CSS JavaScript PHP Python Shell            True  \n",
       "272215         CSS JavaScript PHP Python Shell            True  \n",
       "272217       CSS JavaScript Python Scala Shell            True  \n",
       "272227                 JavaScript Python Shell            True  \n",
       "\n",
       "[39594 rows x 5 columns]"
      ]
     },
     "execution_count": 8,
     "metadata": {},
     "output_type": "execute_result"
    }
   ],
   "source": [
    "python_repos_df"
   ]
  },
  {
   "cell_type": "code",
   "execution_count": 10,
   "metadata": {},
   "outputs": [
    {
     "data": {
      "text/plain": [
       "(1000, 5)"
      ]
     },
     "execution_count": 10,
     "metadata": {},
     "output_type": "execute_result"
    }
   ],
   "source": [
    "repos_df_sample = repos_df.sample(1000)\n",
    "repos_df_sample.shape"
   ]
  },
  {
   "cell_type": "code",
   "execution_count": 11,
   "metadata": {},
   "outputs": [],
   "source": [
    "import dragnet\n",
    "import markdown2"
   ]
  },
  {
   "cell_type": "code",
   "execution_count": 12,
   "metadata": {},
   "outputs": [
    {
     "data": {
      "text/html": [
       "<div>\n",
       "<style scoped>\n",
       "    .dataframe tbody tr th:only-of-type {\n",
       "        vertical-align: middle;\n",
       "    }\n",
       "\n",
       "    .dataframe tbody tr th {\n",
       "        vertical-align: top;\n",
       "    }\n",
       "\n",
       "    .dataframe thead th {\n",
       "        text-align: right;\n",
       "    }\n",
       "</style>\n",
       "<table border=\"1\" class=\"dataframe\">\n",
       "  <thead>\n",
       "    <tr style=\"text-align: right;\">\n",
       "      <th></th>\n",
       "      <th>repo_name</th>\n",
       "      <th>content</th>\n",
       "      <th>language</th>\n",
       "      <th>languages_str</th>\n",
       "      <th>is_python_repo</th>\n",
       "    </tr>\n",
       "  </thead>\n",
       "  <tbody>\n",
       "    <tr>\n",
       "      <th>46368</th>\n",
       "      <td>Aylchen/framework</td>\n",
       "      <td>SwooleFramework: PHP的高级开发框架\\n----\\n与其他Web框架不同，...</td>\n",
       "      <td>[{'name': 'ApacheConf', 'bytes': '13'}, {'name...</td>\n",
       "      <td>ApacheConf CSS HTML PHP Smarty</td>\n",
       "      <td>False</td>\n",
       "    </tr>\n",
       "    <tr>\n",
       "      <th>102220</th>\n",
       "      <td>santifa/haskellstuff</td>\n",
       "      <td>haskellstuff\\n============\\n\\nSome things I wr...</td>\n",
       "      <td>[{'name': 'Haskell', 'bytes': '60537'}]</td>\n",
       "      <td>Haskell</td>\n",
       "      <td>False</td>\n",
       "    </tr>\n",
       "    <tr>\n",
       "      <th>105361</th>\n",
       "      <td>sleepywang/checklist</td>\n",
       "      <td>checklist\\n=========\\n\\nAn android app for che...</td>\n",
       "      <td>[]</td>\n",
       "      <td></td>\n",
       "      <td>False</td>\n",
       "    </tr>\n",
       "    <tr>\n",
       "      <th>181670</th>\n",
       "      <td>MrLW/activiti-sample</td>\n",
       "      <td># 一、activiti 初识\\n它是一项新的基于Apache许可的开源BPM平台，从基础开...</td>\n",
       "      <td>[{'name': 'Java', 'bytes': '20960'}]</td>\n",
       "      <td>Java</td>\n",
       "      <td>False</td>\n",
       "    </tr>\n",
       "    <tr>\n",
       "      <th>249487</th>\n",
       "      <td>aimonb/puppet-glance</td>\n",
       "      <td># PuppetLabs Glance module\\n\\nThis module can ...</td>\n",
       "      <td>[{'name': 'Puppet', 'bytes': '18696'}, {'name'...</td>\n",
       "      <td>Puppet Ruby Shell</td>\n",
       "      <td>False</td>\n",
       "    </tr>\n",
       "    <tr>\n",
       "      <th>...</th>\n",
       "      <td>...</td>\n",
       "      <td>...</td>\n",
       "      <td>...</td>\n",
       "      <td>...</td>\n",
       "      <td>...</td>\n",
       "    </tr>\n",
       "    <tr>\n",
       "      <th>154701</th>\n",
       "      <td>spujadas/exposure</td>\n",
       "      <td># Exposure #\\n\\n**Exposure** is a web applicat...</td>\n",
       "      <td>[{'name': 'CSS', 'bytes': '136805'}, {'name': ...</td>\n",
       "      <td>CSS JavaScript PHP</td>\n",
       "      <td>False</td>\n",
       "    </tr>\n",
       "    <tr>\n",
       "      <th>108802</th>\n",
       "      <td>nelsongustavo/react-lab</td>\n",
       "      <td># react-lab\\n\\n# Installing\\n\\n1. Clone the re...</td>\n",
       "      <td>[{'name': 'CSS', 'bytes': '24957'}, {'name': '...</td>\n",
       "      <td>CSS HTML JavaScript</td>\n",
       "      <td>False</td>\n",
       "    </tr>\n",
       "    <tr>\n",
       "      <th>18150</th>\n",
       "      <td>tiimgreen/tabbit</td>\n",
       "      <td># Tabbit [![Build Status](http://img.shields.i...</td>\n",
       "      <td>[{'name': 'Ruby', 'bytes': '3098'}, {'name': '...</td>\n",
       "      <td>Ruby Shell</td>\n",
       "      <td>False</td>\n",
       "    </tr>\n",
       "    <tr>\n",
       "      <th>41722</th>\n",
       "      <td>ironxu/DevStack</td>\n",
       "      <td># Accumulate\\n\\n本手册是平时学习时记录的笔记\\n\\n主要内容包括\\n\\n- ...</td>\n",
       "      <td>[{'name': 'C', 'bytes': '10674'}, {'name': 'HT...</td>\n",
       "      <td>C HTML Lua PHP Python Ruby Shell</td>\n",
       "      <td>True</td>\n",
       "    </tr>\n",
       "    <tr>\n",
       "      <th>6917</th>\n",
       "      <td>marquee/proto</td>\n",
       "      <td># Proto \\n\\n[![NPM version](https://badge.fury...</td>\n",
       "      <td>[{'name': 'CoffeeScript', 'bytes': '31098'}, {...</td>\n",
       "      <td>CoffeeScript JavaScript</td>\n",
       "      <td>False</td>\n",
       "    </tr>\n",
       "  </tbody>\n",
       "</table>\n",
       "<p>1000 rows × 5 columns</p>\n",
       "</div>"
      ],
      "text/plain": [
       "                      repo_name  \\\n",
       "46368         Aylchen/framework   \n",
       "102220     santifa/haskellstuff   \n",
       "105361     sleepywang/checklist   \n",
       "181670     MrLW/activiti-sample   \n",
       "249487     aimonb/puppet-glance   \n",
       "...                         ...   \n",
       "154701        spujadas/exposure   \n",
       "108802  nelsongustavo/react-lab   \n",
       "18150          tiimgreen/tabbit   \n",
       "41722           ironxu/DevStack   \n",
       "6917              marquee/proto   \n",
       "\n",
       "                                                  content  \\\n",
       "46368   SwooleFramework: PHP的高级开发框架\\n----\\n与其他Web框架不同，...   \n",
       "102220  haskellstuff\\n============\\n\\nSome things I wr...   \n",
       "105361  checklist\\n=========\\n\\nAn android app for che...   \n",
       "181670  # 一、activiti 初识\\n它是一项新的基于Apache许可的开源BPM平台，从基础开...   \n",
       "249487  # PuppetLabs Glance module\\n\\nThis module can ...   \n",
       "...                                                   ...   \n",
       "154701  # Exposure #\\n\\n**Exposure** is a web applicat...   \n",
       "108802  # react-lab\\n\\n# Installing\\n\\n1. Clone the re...   \n",
       "18150   # Tabbit [![Build Status](http://img.shields.i...   \n",
       "41722   # Accumulate\\n\\n本手册是平时学习时记录的笔记\\n\\n主要内容包括\\n\\n- ...   \n",
       "6917    # Proto \\n\\n[![NPM version](https://badge.fury...   \n",
       "\n",
       "                                                 language  \\\n",
       "46368   [{'name': 'ApacheConf', 'bytes': '13'}, {'name...   \n",
       "102220            [{'name': 'Haskell', 'bytes': '60537'}]   \n",
       "105361                                                 []   \n",
       "181670               [{'name': 'Java', 'bytes': '20960'}]   \n",
       "249487  [{'name': 'Puppet', 'bytes': '18696'}, {'name'...   \n",
       "...                                                   ...   \n",
       "154701  [{'name': 'CSS', 'bytes': '136805'}, {'name': ...   \n",
       "108802  [{'name': 'CSS', 'bytes': '24957'}, {'name': '...   \n",
       "18150   [{'name': 'Ruby', 'bytes': '3098'}, {'name': '...   \n",
       "41722   [{'name': 'C', 'bytes': '10674'}, {'name': 'HT...   \n",
       "6917    [{'name': 'CoffeeScript', 'bytes': '31098'}, {...   \n",
       "\n",
       "                           languages_str  is_python_repo  \n",
       "46368     ApacheConf CSS HTML PHP Smarty           False  \n",
       "102220                           Haskell           False  \n",
       "105361                                             False  \n",
       "181670                              Java           False  \n",
       "249487                 Puppet Ruby Shell           False  \n",
       "...                                  ...             ...  \n",
       "154701                CSS JavaScript PHP           False  \n",
       "108802               CSS HTML JavaScript           False  \n",
       "18150                         Ruby Shell           False  \n",
       "41722   C HTML Lua PHP Python Ruby Shell            True  \n",
       "6917             CoffeeScript JavaScript           False  \n",
       "\n",
       "[1000 rows x 5 columns]"
      ]
     },
     "execution_count": 12,
     "metadata": {},
     "output_type": "execute_result"
    }
   ],
   "source": [
    "repos_df_sample"
   ]
  },
  {
   "cell_type": "code",
   "execution_count": 13,
   "metadata": {},
   "outputs": [],
   "source": [
    "def convert_markdown(markdown_text):\n",
    "    markdowner = markdown2.Markdown()\n",
    "    return markdowner.convert(markdown_text)"
   ]
  },
  {
   "cell_type": "code",
   "execution_count": 14,
   "metadata": {},
   "outputs": [
    {
     "name": "stderr",
     "output_type": "stream",
     "text": [
      "WARNING:root:tensorflow or tensorflow-hub not found, loading tfhub models won't work\n"
     ]
    }
   ],
   "source": [
    "from mlutil import parallel"
   ]
  },
  {
   "cell_type": "code",
   "execution_count": 15,
   "metadata": {},
   "outputs": [
    {
     "name": "stdout",
     "output_type": "stream",
     "text": [
      "CPU times: user 46.9 ms, sys: 187 ms, total: 234 ms\n",
      "Wall time: 1.66 s\n"
     ]
    }
   ],
   "source": [
    "%%time\n",
    "repos_df_sample['html_content'] = list(parallel.mapp(convert_markdown, repos_df_sample['content'], chunksize=10))"
   ]
  },
  {
   "cell_type": "code",
   "execution_count": 16,
   "metadata": {},
   "outputs": [
    {
     "data": {
      "text/plain": [
       "'<h2>SwooleFramework: PHP的高级开发框架</h2>\\n\\n<p>与其他Web框架不同，SwooleFramework是一个全功能的后端服务器框架。除了Web方面的应用之外，更广泛的后端程序中都可以使用。</p>\\n\\n<ul>\\n<li>内置PHP应用服务器，可脱离nginx/fpm/apache独立运行</li>\\n<li>配置化与资源自动工厂，可实现从配置中创建资源对象，完全无需new对象</li>\\n<li>全面采用命名空间+autoload，代码中无需任何的include/require</li>\\n<li>全局注册树，所有资源都挂载到全局树上，彻底实现资源的单例管理和懒加载</li>\\n<li>全栈框架，提供了数据库操作，模板，Cache，日志，队列，上传管理，用户管理等几乎所有的功能</li>\\n</ul>\\n\\n<blockquote>\\n  <p>最新版本的代码已经彻底废弃非命名空间代码，升级框架之后，apps/controller/和apps/models中的代码需要按照命名空间的规范修改一次  </p>\\n</blockquote>\\n\\n<h2>应用服务器</h2>\\n\\n<p>使用内置应用服务器，可节省每次请求代码来的额外消耗。连接池技术可以很好的帮助存储系统节省连接资源。</p>\\n\\n<h3>Swoole应用服务器支持的特性</h3>\\n\\n<ul>\\n<li>热部署，代码更新后即刻生效。依赖runkit扩展（ <a href=\"https://github.com/zenovich/runkit\">https://github.com/zenovich/runkit</a> ）</li>\\n<li>MaxRequest进程回收机制，防止内存泄露</li>\\n<li>支持使用Windows作为开发环境</li>\\n<li>http KeepAlive，可节省tcp connect带来的开销</li>\\n<li>静态文件缓存，节省流量</li>\\n<li>支持Gzip压缩，节省流量</li>\\n<li>支持MySQL重新连接</li>\\n<li>支持文件上传</li>\\n<li>支持POST大文本</li>\\n<li>支持Session/Cookie</li>\\n<li>支持Http/FastCGI两种协议</li>\\n</ul>\\n\\n<h3>Swoole框架额外提供的网络协议</h3>\\n\\n<ul>\\n<li>WebSocket协议支持，并附带一个基于websocket协议的webim系统</li>\\n<li>普通Web服务器，可支持静态文件和普通include php方式的程序</li>\\n<li>SOA逻辑层服务器/客户端，支持并行请求</li>\\n<li>一个简单的SMTP服务器</li>\\n<li>FtpServer</li>\\n<li>异步HttpClient</li>\\n</ul>\\n\\n<p>在线体验地址：<a href=\"http://www.swoole.com/page/index/\">http://www.swoole.com/page/index/</a></p>\\n\\n<h2>赞助Swoole开源项目（支付宝）</h2>\\n\\n<p><img src=\"http://wiki.swoole.com/static/image/alipay.png\" alt=\"捐赠Swoole开源项目\" /></p>\\n\\n<h2>Composer</h2>\\n\\n<p><code>js\\n{\\n    \"require\": {\\n        \"matyhtf/swoole_framework\": \"dev-master\"\\n    }\\n}\\n</code></p>\\n\\n<p>SwooleFramework应用服务器，需要安装swoole扩展。\\n<code>\\npecl install swoole\\n</code>\\n然后修改php.ini加入extension=swoole.so\\n```php\\n<?php\\nrequire <strong>DIR</strong>.\\'/libs/lib_config.php\\';</p>\\n\\n<p>$AppSvr = new Swoole\\\\Protocol\\\\AppServer();\\n$AppSvr->loadSetting(<strong>DIR</strong>.\"/swoole.ini\"); //加载配置文件\\n$AppSvr->setAppPath(<strong>DIR</strong>.\\'/apps/\\'); //设置应用所在的目录\\n$AppSvr->setLogger(new Swoole\\\\Log\\\\EchoLog(false)); //Logger</p>\\n\\n<p>/**\\n *如果你没有安装swoole扩展，这里还可选择\\n * BlockTCP 阻塞的TCP，支持windows平台，需要将worker<em>num设为1\\n * SelectTCP 使用select做事件循环，支持windows平台，需要将worker</em>num设为1\\n * EventTCP 使用libevent，需要安装libevent扩展\\n */\\n$server = new \\\\Swoole\\\\Network\\\\Server(\\'0.0.0.0\\', 8888);\\n$server->setProtocol($AppSvr);\\n$server->daemonize(); //作为守护进程\\n$server->run(array(\\'worker<em>num\\' =&gt; 1, \\'max</em>request\\' =&gt; 5000));\\n```</p>\\n\\n<p><code>shell\\nphp server.php\\n[2013-07-09 12:17:05]  Swoole. running. on 0.0.0.0:8888\\n</code></p>\\n\\n<p>在浏览器中打开 http://127.0.0.1:8888/</p>\\n\\n<h2>Nginx+FPM+Swoole框架的URLRewrite配置</h2>\\n\\n<p>```shell\\nserver {\\n    listen  80;\\n    server_name  www.swoole.com;\\n    root  /data/wwwroot/www.swoole.com;</p>\\n\\n<pre><code>location / {\\n    if (!-e $request_filename){\\n        proxy_pass http://127.0.0.1:9501;\\n    }\\n}\\n</code></pre>\\n\\n<p>}\\n```</p>\\n\\n<h2>Apache+Swoole框架的URLRewrite配置</h2>\\n\\n<p>```shell\\n<VirtualHost *:80>\\n    ServerName www.swoole.com\\n    DocumentRoot /data/webroot/www.swoole.com\\n    DirectoryIndex index.html index.php</p>\\n\\n<pre><code>&lt;Directory \"/data/webroot/www.swoole.com\"&gt;\\n    Options Indexes FollowSymLinks\\n        AllowOverride None\\n        Require all granted\\n&lt;/Directory&gt;\\n</code></pre>\\n\\n<h1>ProxyPass /admin !</h1>\\n\\n<h1>ProxyPass /index.html !</h1>\\n\\n<h1>ProxyPass /static !</h1>\\n\\n<h1>ProxyPass / http://127.0.0.1:9501/</h1>\\n\\n<pre><code>&lt;IfModule mod_rewrite.c&gt;\\n    RewriteEngine On\\n    RewriteCond %{DOCUMENT_ROOT}/%{REQUEST_FILENAME} !-f\\n    RewriteCond %{DOCUMENT_ROOT}/%{REQUEST_FILENAME} !-d\\n    RewriteRule ^(.*)$ http://127.0.0.1:9501$1 [L,P]\\n&lt;/IfModule&gt;\\n</code></pre>\\n\\n<p></VirtualHost>\\n```</p>\\n\\n<p><a href=\"doc/bench.md\">压测数据</a></p>\\n'"
      ]
     },
     "execution_count": 16,
     "metadata": {},
     "output_type": "execute_result"
    }
   ],
   "source": [
    "repos_df_sample['html_content'].iloc[0]"
   ]
  },
  {
   "cell_type": "code",
   "execution_count": 17,
   "metadata": {},
   "outputs": [
    {
     "name": "stderr",
     "output_type": "stream",
     "text": [
      "/etc/anaconda/envs/github_search/lib/python3.7/site-packages/sklearn/base.py:253: UserWarning: Trying to unpickle estimator FeatureUnion from version 0.19.1 when using version 0.20.4. This might lead to breaking code or invalid results. Use at your own risk.\n",
      "  UserWarning)\n",
      "/etc/anaconda/envs/github_search/lib/python3.7/site-packages/sklearn/base.py:253: UserWarning: Trying to unpickle estimator ExtraTreeClassifier from version 0.19.1 when using version 0.20.4. This might lead to breaking code or invalid results. Use at your own risk.\n",
      "  UserWarning)\n",
      "/etc/anaconda/envs/github_search/lib/python3.7/site-packages/sklearn/base.py:253: UserWarning: Trying to unpickle estimator ExtraTreesClassifier from version 0.19.1 when using version 0.20.4. This might lead to breaking code or invalid results. Use at your own risk.\n",
      "  UserWarning)\n"
     ]
    },
    {
     "data": {
      "text/plain": [
       "'SwooleFramework: PHP的高级开发框架\\n与其他Web框架不同，SwooleFramework是一个全功能的后端服务器框架。除了Web方面的应用之外，更广泛的后端程序中都可以使用。 内置PHP应用服务器，可脱离nginx/fpm/apache独立运行 配置化与资源自动工厂，可实现从配置中创建资源对象，完全无需new对象 全面采用命名空间+autoload，代码中无需任何的include/require 全局注册树，所有资源都挂载到全局树上，彻底实现资源的单例管理和懒加载 全栈框架，提供了数据库操作，模板，Cache，日志，队列，上传管理，用户管理等几乎所有的功能\\n最新版本的代码已经彻底废弃非命名空间代码，升级框架之后，apps/controller/和apps/models中的代码需要按照命名空间的规范修改一次\\nSwoole应用服务器支持的特性 热部署，代码更新后即刻生效。依赖runkit扩展（ https://github.com/zenovich/runkit ） MaxRequest进程回收机制，防止内存泄露 支持使用Windows作为开发环境 http KeepAlive，可节省tcp connect带来的开销 静态文件缓存，节省流量 支持Gzip压缩，节省流量 支持MySQL重新连接 支持文件上传 支持POST大文本 支持Session/Cookie 支持Http/FastCGI两种协议\\njs { \"require\": { \"matyhtf/swoole_framework\": \"dev-master\" } }\\nSwooleFramework应用服务器，需要安装swoole扩展。 pecl install swoole 然后修改php.ini加入extension=swoole.so ```php DIR.\\'/libs/lib_config.php\\';\\n$AppSvr = new Swoole\\\\Protocol\\\\AppServer(); $AppSvr->loadSetting( DIR .\"/swoole.ini\"); //加载配置文件 $AppSvr->setAppPath( DIR .\\'/apps/\\'); //设置应用所在的目录 $AppSvr->setLogger(new Swoole\\\\Log\\\\EchoLog(false)); //Logger\\n/** *如果你没有安装swoole扩展，这里还可选择 * BlockTCP 阻塞的TCP，支持windows平台，需要将worker num设为1 * SelectTCP 使用select做事件循环，支持windows平台，需要将worker num设为1 * EventTCP 使用libevent，需要安装libevent扩展 */ $server = new \\\\Swoole\\\\Network\\\\Server(\\'0.0.0.0\\', 8888); $server->setProtocol($AppSvr); $server->daemonize(); //作为守护进程 $server->run(array(\\'worker num\\' => 1, \\'max request\\' => 5000)); ```\\nshell php server.php [2013-07-09 12:17:05] Swoole. running. on 0.0.0.0:8888\\n在浏览器中打开 http://127.0.0.1:8888/\\nNginx+FPM+Swoole框架的URLRewrite配置\\n```shell server { listen 80; server_name www.swoole.com; root /data/wwwroot/www.swoole.com; location / { if (!-e $request_filename){ proxy_pass http://127.0.0.1:9501; } }\\nApache+Swoole框架的URLRewrite配置\\n```shell ServerName www.swoole.com DocumentRoot /data/webroot/www.swoole.com DirectoryIndex index.html index.php <Directory \"/data/webroot/www.swoole.com\"> Options Indexes FollowSymLinks AllowOverride None Require all granted </Directory>\\nProxyPass /index.html !\\nProxyPass / http://127.0.0.1:9501/ <IfModule mod_rewrite.c> RewriteEngine On RewriteCond %{DOCUMENT_ROOT}/%{REQUEST_FILENAME} !-f RewriteCond %{DOCUMENT_ROOT}/%{REQUEST_FILENAME} !-d RewriteRule ^(.*)$ http://127.0.0.1:9501$1 [L,P] </IfModule>'"
      ]
     },
     "execution_count": 17,
     "metadata": {},
     "output_type": "execute_result"
    }
   ],
   "source": [
    "html_text = repos_df_sample['html_content'].iloc[0]\n",
    "dragnet.extract_content(html_text)"
   ]
  },
  {
   "cell_type": "code",
   "execution_count": 161,
   "metadata": {},
   "outputs": [],
   "source": [
    "import dragnet\n",
    "import markdown2\n",
    "\n",
    "def process_content(markdown_content):\n",
    "    markdowner = markdown2.Markdown()\n",
    "    html_text = markdowner.convert(markdown_content)\n",
    "    return dragnet.extract_content(html_text).replace('\\n', ' ')"
   ]
  },
  {
   "cell_type": "code",
   "execution_count": 174,
   "metadata": {},
   "outputs": [],
   "source": [
    "def process_row(row_string):\n",
    "    return process_content(json.loads(row_string)['content'])"
   ]
  },
  {
   "cell_type": "code",
   "execution_count": 175,
   "metadata": {},
   "outputs": [],
   "source": [
    "import apache_beam as beam\n",
    "from apache_beam.options import pipeline_options"
   ]
  },
  {
   "cell_type": "code",
   "execution_count": 176,
   "metadata": {},
   "outputs": [],
   "source": [
    "import json\n",
    "\n",
    "class ExtractDoFn(beam.DoFn):\n",
    "    \n",
    "    def process(self, element):\n",
    "        record = json.loads(element)\n",
    "        return process_content(record['content']).replace('\\n', ' ')\n",
    "    \n",
    "class UselessDoFn(beam.DoFn):\n",
    "    def process(self, element):\n",
    "        return element"
   ]
  },
  {
   "cell_type": "code",
   "execution_count": 177,
   "metadata": {},
   "outputs": [],
   "source": [
    "in_path = '/tmp/repos.json'\n",
    "out_path = '/tmp/repos_out.json'\n",
    "repos_df_sample.to_json(in_path, orient='records', lines=True)"
   ]
  },
  {
   "cell_type": "code",
   "execution_count": 178,
   "metadata": {},
   "outputs": [
    {
     "data": {
      "text/plain": [
       "<PCollection[Cell 178: write/Write/WriteImpl/FinalizeWrite.None] at 0x7fd08e15a110>"
      ]
     },
     "execution_count": 178,
     "metadata": {},
     "output_type": "execute_result"
    }
   ],
   "source": [
    "p = beam.Pipeline(options=pipeline_options.PipelineOptions(['--direct_num_workers', '10']))\n",
    "lines = p | 'read' >> beam.io.ReadFromText(in_path)\n",
    "extracted = lines | 'extract' >> beam.Map(process_row)\n",
    "extracted | 'write' >> beam.io.WriteToText(out_path)"
   ]
  },
  {
   "cell_type": "code",
   "execution_count": 179,
   "metadata": {},
   "outputs": [
    {
     "name": "stdout",
     "output_type": "stream",
     "text": [
      "999 /tmp/repos.json\n"
     ]
    }
   ],
   "source": [
    "!wc -l /tmp/repos.json"
   ]
  },
  {
   "cell_type": "code",
   "execution_count": 180,
   "metadata": {},
   "outputs": [
    {
     "name": "stdout",
     "output_type": "stream",
     "text": [
      "rm: cannot remove '/tmp/repos_out.json-00000-of-00001': No such file or directory\n"
     ]
    }
   ],
   "source": [
    "!rm /tmp/repos_out.json-00000-of-00001"
   ]
  },
  {
   "cell_type": "code",
   "execution_count": 181,
   "metadata": {},
   "outputs": [
    {
     "name": "stdout",
     "output_type": "stream",
     "text": [
      "CPU times: user 9.14 s, sys: 24.1 ms, total: 9.16 s\n",
      "Wall time: 9.37 s\n"
     ]
    },
    {
     "data": {
      "text/plain": [
       "'DONE'"
      ]
     },
     "execution_count": 181,
     "metadata": {},
     "output_type": "execute_result"
    }
   ],
   "source": [
    "%%time\n",
    "result = p.run()\n",
    "result.wait_until_finish()"
   ]
  },
  {
   "cell_type": "code",
   "execution_count": 182,
   "metadata": {},
   "outputs": [
    {
     "name": "stdout",
     "output_type": "stream",
     "text": [
      "1000 /tmp/repos_out.json-00000-of-00001\n"
     ]
    }
   ],
   "source": [
    "!wc -l /tmp/repos_out.json-00000-of-00001"
   ]
  },
  {
   "cell_type": "code",
   "execution_count": 183,
   "metadata": {},
   "outputs": [
    {
     "name": "stdout",
     "output_type": "stream",
     "text": [
      "SwooleFramework: PHP的高级开发框架 与其他Web框架不同，SwooleFramework是一个全功能的后端服务器框架。除了Web方面的应用之外，更广泛的后端程序中都可以使用。 内置PHP应用服务器，可脱离nginx/fpm/apache独立运行 配置化与资源自动工厂，可实现从配置中创建资源对象，完全无需new对象 全面采用命名空间+autoload，代码中无需任何的include/require 全局注册树，所有资源都挂载到全局树上，彻底实现资源的单例管理和懒加载 全栈框架，提供了数据库操作，模板，Cache，日志，队列，上传管理，用户管理等几乎所有的功能 最新版本的代码已经彻底废弃非命名空间代码，升级框架之后，apps/controller/和apps/models中的代码需要按照命名空间的规范修改一次 Swoole应用服务器支持的特性 热部署，代码更新后即刻生效。依赖runkit扩展（ https://github.com/zenovich/runkit ） MaxRequest进程回收机制，防止内存泄露 支持使用Windows作为开发环境 http KeepAlive，可节省tcp connect带来的开销 静态文件缓存，节省流量 支持Gzip压缩，节省流量 支持MySQL重新连接 支持文件上传 支持POST大文本 支持Session/Cookie 支持Http/FastCGI两种协议 js { \"require\": { \"matyhtf/swoole_framework\": \"dev-master\" } } SwooleFramework应用服务器，需要安装swoole扩展。 pecl install swoole 然后修改php.ini加入extension=swoole.so ```php DIR.'/libs/lib_config.php'; $AppSvr = new Swoole\\Protocol\\AppServer(); $AppSvr->loadSetting( DIR .\"/swoole.ini\"); //加载配置文件 $AppSvr->setAppPath( DIR .'/apps/'); //设置应用所在的目录 $AppSvr->setLogger(new Swoole\\Log\\EchoLog(false)); //Logger /** *如果你没有安装swoole扩展，这里还可选择 * BlockTCP 阻塞的TCP，支持windows平台，需要将worker num设为1 * SelectTCP 使用select做事件循环，支持windows平台，需要将worker num设为1 * EventTCP 使用libevent，需要安装libevent扩展 */ $server = new \\Swoole\\Network\\Server('0.0.0.0', 8888); $server->setProtocol($AppSvr); $server->daemonize(); //作为守护进程 $server->run(array('worker num' => 1, 'max request' => 5000)); ``` shell php server.php [2013-07-09 12:17:05] Swoole. running. on 0.0.0.0:8888 在浏览器中打开 http://127.0.0.1:8888/ Nginx+FPM+Swoole框架的URLRewrite配置 ```shell server { listen 80; server_name www.swoole.com; root /data/wwwroot/www.swoole.com; location / { if (!-e $request_filename){ proxy_pass http://127.0.0.1:9501; } } Apache+Swoole框架的URLRewrite配置 ```shell ServerName www.swoole.com DocumentRoot /data/webroot/www.swoole.com DirectoryIndex index.html index.php <Directory \"/data/webroot/www.swoole.com\"> Options Indexes FollowSymLinks AllowOverride None Require all granted </Directory> ProxyPass /index.html ! ProxyPass / http://127.0.0.1:9501/ <IfModule mod_rewrite.c> RewriteEngine On RewriteCond %{DOCUMENT_ROOT}/%{REQUEST_FILENAME} !-f RewriteCond %{DOCUMENT_ROOT}/%{REQUEST_FILENAME} !-d RewriteRule ^(.*)$ http://127.0.0.1:9501$1 [L,P] </IfModule>\n",
      "Some things I wrote on my journey learning Haskell. I use .lhs files in Bird-Style for describing the functions. Not everything I wrote is in english. If you want something translated feel free to ask or submit an issue. This is all work in progress... and maybe never done... This library is only meant for me, but I welcome everyone who correct typos, incorrect code or translate my description into english. ;) This project is for the public domain. Feel free to fork this project and use it or parts for your own coding. Automatic calculator => Proves programs by code transformation. (German) Common tuple => Standard tuple function from the primitive recursive function. (English) ProjectEuler => My project euler solutions. MonadThing => Some notes about Monads. Othello => The game Othello (German)\n",
      "\n",
      "一、activiti 初识 它是一项新的基于Apache许可的开源BPM平台，从基础开始构建，旨在提供支持新的BPMN 2.0标准，包括支持对象管理组（OMG），面对新技术的机遇，诸如互操作性和云架构，提供技术实现。(引用百度百科) 我们常见的activiti的工作有:OSWorkFlow、jBPM（jboss business process management）Activiti工作流（是对jBPM升级） 二、activiti 入门 BPMN(业务流程建模与标注) 这个是一个图，可以通过在eclipse中创建Activiti Diagrams，通过这些图来标识我们的一个具体业务流程。 数据库 Activiti的后台是有数据库的支持，所有的表都以ACT 开头。 第二部分是表示表的用途的两个字母标识。 用途也和服务的API对应 Activiti的工作流数据库有23张表 要保存流程定义 - act ge * ：通用表 - act hi * ：历史流程相关表 - act re * ：仓库表：保存流程定义 - act ru * ：保存流程运行相关的表 - act id_* ：用户参与相关的表 activiti.cfg.xml activiti的核心配置文件，主要用来配置连接数据库的配置参数 安装插件 上面提到过BPMN图,要知道我们的eclipse默认情况下是不能创建activiti项目的,需要我们手动安装插件。 尽量在有网的情况下在线安装,安装地址为：http://activiti.org/designer/update/,重启即生效。 *注意 * 安装完插件之后需要在preference->activiti->save actions 中的create ...打上勾， 让在保存bpmn图的时候也新生成png图。 在eclipse中新建项目,选择activiti project。注意,activiti默认情况下是使用maven管理的,所以最好 已经配置了maven。 activiti.cfg.xml: ``` <beans xmlns=\"http://www.springframework.org/schema/beans\" xmlns:context=\"http://www.springframework.org/schema/context\" xmlns:tx=\"http://www.springframework.org/schema/tx\" xmlns:xsi=\"http://www.w3.org/2001/XMLSchema-instance\" xsi:schemaLocation=\"http://www.springframework.org/schema/beans http://www.springframework.org/schema/beans/spring-beans.xsd http://www.springframework.org/schema/context http://www.springframework.org/schema/context/spring-context-2.5.xsd http://www.springframework.org/schema/tx http://www.springframework.org/schema/tx/spring-tx-3.0.xsd\"> <!-- 配置数据库连接 --> <bean id=\"processEngineConfiguration\" class=\"org.activiti.engine.impl.cfg.StandaloneProcessEngineConfiguration\"> <property name=\"jdbcDriver\" value=\"com.mysql.jdbc.Driver\"></property> <property name=\"jdbcUsername\" value=\"root\"></property> <property name=\"jdbcPassword\" value=\"root\"></property> <property name=\"jdbcUrl\" value=\"jdbc:mysql://localhost:3306/activitiDB?createDatabaseIfNotExist=true&amp;useUnicode=true&amp;characterEncoding=utf8\"></property> <!-- 配置表策略 false：不会创建表,没有表则异常 true:如果没有表自动创建 create-drop:先删除,再创建 --> <property name=\"databaseSchemaUpdate\" value=\"true\"></property> </bean> 3、新建BPMN图 ``` ProcessEngine engine = ProcessEngines.getDefaultProcessEngine(); // 获取仓库服务：管理流程定义 RepositoryService rs = engine.getRepositoryService(); Deployment deploy = rs.createDeployment() .addClasspathResource(\"diagrams/LeaveBill.bpmn\")// 加载bpmn图 .addClasspathResource(\"diagrams/LeaveBill.png\") // 加载png,也可以不用加载 .name(\"请假单\") // 设置部署名称 .category(\"办公\") // 设置类别 .deploy();// 真正部署 System.out.println(\"id:\" + deploy.getId()); 这里的LeaveBill就是我创建的BPMN图。 5、开启流程 ``` //这个key其实就是bpmn的id String processDefiKey = \"leaveBill\"; RuntimeService rs = engine.getRuntimeService(); // 流程实例,通过流程定义的key开启并获取实例 ProcessInstance pi = rs.startProcessInstanceByKey(processDefiKey); System.out.println(\"流程实例id:\" + pi.getId()); System.out.println(\"流程定义id:\" + pi.getProcessDefinitionId()); ``` String taskId = \"302\"; TaskService ts = engine.getTaskService(); // 根据任务Id来完成任务 ts.complete(taskId); 3、activiti中其它的API介绍 省去配置文件 上面使用了activiti的核心配置文件,那么可不可以不用呢？当然是可以了。 ``` ProcessEngineConfiguration configuration = ProcessEngineConfiguration .createStandaloneProcessEngineConfiguration(); // 设置数据库属性 configuration.setJdbcDriver(\"com.mysql.jdbc.Driver\"); configuration.setJdbcUrl(\"jdbc:mysql://localhost:3306/activitiDB?createDatabaseIfNotExist=true\" + \"&useUnicode=true&characterEncoding=utf8\"); configuration.setJdbcUsername(\"root\"); configuration.setJdbcPassword(\"root\"); // 设置创建表的策略 /** * false：不会创建表,没有表则异常 true:如果没有表自动创建 create-drop:先删除,再创建 */ configuration.setDatabaseSchemaUpdate(\"true\"); // 创建流程引擎 ProcessEngine engine = configuration.buildProcessEngine();// 开始创建数据库 ``` 使用zip加载流程 ``` //这个rs就是RepositoryService rs.createDeployment().name(\"采购流程\").category(\"购销\").addZipInputStream(new ZipInputStream(getClass().getClassLoader().getResourceAsStream(\"diagrams/buy.zip\"))).deploy() 流程变量 作用：传递业务参数,指定办理人等 使用:TaskService 和 RuntimeService 服务设置变量 ``` /******************整个流程实例**************************/ // 设置普通参数 ts.setVariable(taskId, \"cost\", 1000); ts.getVariable(taskId, \"cost\"); // 整个流程实例 // 设置对象:这个对象必须实现序列化接口 ts.setVariable(taskId, \"applyBillBean\", applyBillBean);// 整个流程实例 // 获取对象 ts.getVariable(taskId, \"applyBillBean\") /******************当前任务对象**************************/ ts.setVariableLocal(taskId, \"person\", \"文哥\");// 该变量只有在本任务是有效的。 解决：在这个任务和下一个任务的连线着手配置。 1、双击连线->Main Config -> Condition 通过变量进行配置 ``` ${message == '1'} 2、我们在代码中指定message的值 ``` Map<String, Object> params = new HashMap<>() ; params.put(\"message\", \"1\"); TaskService ts = engine.getTaskService(); ts.complete(taskId,params);\n",
      "This module can be used to flexibly configure glance , the image service of openstack. It has been tested with a combination of other modules, and has primarily been developed as a subcomponent of the openstack module It is currently targettting the folsom/grizzly releases of OpenStack. Platforms Ubuntu 12.04 (Precise) RHEL 6 Glance is configured with the following classes: configures glance::api service class { 'glance::api': verbose => $verbose, debug => $verbose, auth_type => 'keystone', auth_port => '35357', auth_host => $keystone_host, keystone_tenant => 'services', keystone_user => 'glance', keystone_password => $glance_user_password, sql_connection => $sql_connection, enabled => $enabled, } configures the glance registry class { 'glance::registry': verbose => $verbose, debug => $verbose, auth_host => $keystone_host, auth_port => '35357', auth_type => 'keystone', keystone_tenant => 'services', keystone_user => 'glance', keystone_password => $glance_user_password, sql_connection => $sql_connection, enabled => $enabled, } Configure file storage backend class { 'glance::backend::file': } Create the Glance db, this should be configured on your mysql server class { 'glance::db::mysql': user => $glance_db_user, password => $glance_db_password, dbname => $glance_db_dbname, allowed_hosts => $allowed_hosts, } configures glance endpoints in keystone should be run on your keystone server class { 'glance::keystone::auth': password => $glance_user_password, public_address => $glance_public_real, admin_address => $glance_admin_real, internal_address => $glance_internal_real, region => $region, } for full examples, see the examples directory. in the module, puppet-openstack, the following classes configure parts of glance: openstack::glance # api, file backend, and registry openstack::keystone # sets up endpoints openstack::db::mysql # sets up db config\n",
      "This program integrates a simple SQLite primer database and design tool. primula.py <VCF> --design primula.py -p <FASTA> retrieve (and design) primer for a single location primula.py -q chr1:202030 --design Reference Genome Make sure to use a Repeatmasked reference genome. Even better if common SNPs are masked as well (eg. >1%). BEDTOOLS offers maskfasta for this purpose. Masking data in BED format can be obtained from UCSC (http://genome.ucsc.edu/cgi-bin/hgTables?command=start).\n",
      "\n",
      "To install via Composer first make sure Composer is installed. Then need to simply run the command to require the package. composer require exposuresoftware/slackerlogs Register with the Container In order to make using this package you are only required to write a very simple class and register it with your application. Create a Provider You Provider class can be named whatever you wish but must extend the ExposureSoftware\\SlackLogs\\Providers\\LoggerProvider class. This can be as simple as ``` namespace AppProviders; use ExposureSoftware\\SlackLogsProviders\\LoggerProvider; class SlackLogProvider extends LoggerProvider { protected $channel = ...; protected $user = ...; protected $hook = ...; protected $level = ...; } `` Where each of the values are set to to the values for your application. $channel should be the channel name you wish to direct logs to. It should include the # that precedes all Slack channels. $user is the user that the message will appear to come from. This does not have to be an actual user on your team. $hook is the [webhook](https://api.slack.com/incoming-webhooks) your integration will use. Please see the Slack documentation in the link regarding how to set this up and get your webhook. $level is an the integer value of the log level you wish to report. This and any higher log levels will be sent to Slack. See Monolog\\Logger` for these values and constants available. The available log levels are: DEBUG = 100 INFO = 200 NOTICE = 250 WARNING = 300 ERROR = 400 CRITICAL = 500 ALERT = 550 EMERGENCY = 600 Register the Provider with the application Add the line to your providers array as follows: 'providers' => [ ..., 'App\\Providers\\SlackLogProvider' }, Changing the fully namespaced class to the name of your Provider .\n",
      "crlf-helper helps to detect and change line endings in node.js strings ``` var crlf = require('crlf-helper'); var content = 'content\\r\\nwith line break' var lineEnding = crlf.getLineEnding(); console.log(lineEnding); // CRLF var contentWithNewLineEnding = crlf.setLineEnding(content, 'LF'); console.log(contentWithNewLineEnding); // content\\nwith line break ``` Bugs and issues If you find a bug or issues, please create an issue at github .\n",
      "\n"
     ]
    }
   ],
   "source": [
    "!head /tmp/repos_out.json-00000-of-00001"
   ]
  },
  {
   "cell_type": "code",
   "execution_count": null,
   "metadata": {},
   "outputs": [],
   "source": []
  }
 ],
 "metadata": {
  "kernelspec": {
   "display_name": "github_search",
   "language": "python",
   "name": "github_search"
  },
  "language_info": {
   "codemirror_mode": {
    "name": "ipython",
    "version": 3
   },
   "file_extension": ".py",
   "mimetype": "text/x-python",
   "name": "python",
   "nbconvert_exporter": "python",
   "pygments_lexer": "ipython3",
   "version": "3.7.6"
  }
 },
 "nbformat": 4,
 "nbformat_minor": 2
}
