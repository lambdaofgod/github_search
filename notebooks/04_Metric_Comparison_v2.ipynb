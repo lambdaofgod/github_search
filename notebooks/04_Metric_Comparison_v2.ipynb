{
 "cells": [
  {
   "cell_type": "code",
   "execution_count": 1,
   "id": "40a0457b-0074-4f53-9c78-3303f18829dc",
   "metadata": {},
   "outputs": [],
   "source": [
    "import pandas as pd\n",
    "import glob\n",
    "from pathlib import Path\n",
    "import json\n",
    "import numpy as np"
   ]
  },
  {
   "cell_type": "code",
   "execution_count": 2,
   "id": "ce82faf7-8972-4cb3-9bb6-79a0cef2d09c",
   "metadata": {},
   "outputs": [],
   "source": [
    "## Evaluating generation"
   ]
  },
  {
   "cell_type": "code",
   "execution_count": 3,
   "id": "7dcfbb18-a74e-423a-9198-64c951628fc9",
   "metadata": {},
   "outputs": [],
   "source": [
    "# 1. load corpora\n",
    "# 2. run TextGenerationEvaluator"
   ]
  },
  {
   "cell_type": "code",
   "execution_count": 4,
   "id": "cfa9ad22-ea8a-401d-8fb3-bb8b1ae1ecc1",
   "metadata": {},
   "outputs": [],
   "source": [
    "## Rest"
   ]
  },
  {
   "cell_type": "code",
   "execution_count": 5,
   "id": "d9a2d663-4f50-456a-b64e-a00e2cf15d72",
   "metadata": {},
   "outputs": [],
   "source": [
    "import json\n",
    "import pickle\n",
    "\n",
    "with open(\"/home/kuba/Projects/github_search/.dagster/storage/generation_metrics_df\", \"rb\") as f:\n",
    "    generation_metrics_df = pickle.load(f)\n",
    "\n",
    "\n",
    "with open(\"/home/kuba/Projects/github_search/.dagster/storage/per_query_generation_metrics_df\", \"rb\") as f:\n",
    "    per_query_generation_metrics_df = pickle.load(f)"
   ]
  },
  {
   "cell_type": "code",
   "execution_count": 6,
   "id": "08ca8219-d098-4cb1-a855-b0328d038c22",
   "metadata": {},
   "outputs": [],
   "source": [
    "\n",
    "with open(\"/home/kuba/Projects/github_search/.dagster/storage/repos_with_representations_df\", \"rb\") as f:\n",
    "    repos_with_representations_df = pickle.load(f)"
   ]
  },
  {
   "cell_type": "code",
   "execution_count": 7,
   "id": "720957e4-ed31-47b6-843a-374373a82916",
   "metadata": {},
   "outputs": [
    {
     "data": {
      "text/plain": [
       "Index(['repo', 'readme', 'repomap', 'tasks', 'query_tasks',\n",
       "       'dependency_signature', 'generated_tasks', 'repository_signature',\n",
       "       'reasoning', 'answer', 'context_history', 'filenames', 'n_files',\n",
       "       'reasoning_repomap', 'answer_repomap', 'context_history_repomap',\n",
       "       'filenames_repomap', 'n_files_repomap', 'reasoning_flat', 'answer_flat',\n",
       "       'filenames_flat', 'n_files_flat', 'reasoning_flat_repomap',\n",
       "       'answer_flat_repomap', 'filenames_flat_repomap', 'n_files_flat_repomap',\n",
       "       'selected_code', 'reasoning_dep_sig', 'answer_dep_sig',\n",
       "       'context_history_dep_sig', 'filenames_dep_sig', 'n_files_dep_sig',\n",
       "       'reasoning_flat_dep_sig', 'answer_flat_dep_sig',\n",
       "       'filenames_flat_dep_sig', 'n_files_flat_dep_sig'],\n",
       "      dtype='object')"
      ]
     },
     "execution_count": 7,
     "metadata": {},
     "output_type": "execute_result"
    }
   ],
   "source": [
    "repos_with_representations_df.columns"
   ]
  },
  {
   "cell_type": "code",
   "execution_count": 8,
   "id": "808c6334-05b2-454c-93d8-5349b2dc843c",
   "metadata": {},
   "outputs": [],
   "source": [
    "#def process_generation_metrics_df(generation_metrics_df):\n",
    "#    return (\n",
    "#        generation_metrics_df.assign(\n",
    "#            true_tasks=generation_metrics_df[\"true_tasks\"].str.split(\", \").apply(tuple)\n",
    "#        ).groupby([\"repo\", \"true_tasks\"]).apply(lambda df: df.select_dtypes(\"float\").mean())\n",
    "#    )[\"code2doc_generated_readme\", \"code2doc_reasoning\", \"code2doc_generation_context\"]"
   ]
  },
  {
   "cell_type": "code",
   "execution_count": 9,
   "id": "dd060de9-70cc-423b-b8f3-f0e9a8a55f69",
   "metadata": {},
   "outputs": [
    {
     "name": "stderr",
     "output_type": "stream",
     "text": [
      "<>:44: SyntaxWarning: invalid escape sequence '\\c'\n",
      "<>:44: SyntaxWarning: invalid escape sequence '\\c'\n",
      "/tmp/ipykernel_2949242/2999947307.py:44: SyntaxWarning: invalid escape sequence '\\c'\n",
      "  return f\"{{\\color{{{maybe_color}}} {corpus_name}}}\"\n"
     ]
    }
   ],
   "source": [
    "colorcodings = {\n",
    "    \"generated_tasks\": \"red\", \"repository_signature\": \"red\", \"dependency_signature\": \"red\",\n",
    "    \"selected_code\": \"orange\",\n",
    "    \"code2doc_generated_readme\":\"green\", \"code2doc_generation_context\": \"green\", \"code2doc_reasoning\": \"green\",\n",
    "    \"generated_readme (repomap)\":\"cyan\", \"generation_context (repomap)\": \"cyan\", \"generated_rationale (repomap)\": \"cyan\"}\n",
    "\n",
    "\n",
    "def rename_source(corpus_name):\n",
    "    for source in [\"dep_sig\", \"repomap\"]:\n",
    "        if source in corpus_name:\n",
    "            corpus_name = corpus_name.replace(source + \"_\", \"\")\n",
    "            return corpus_name + f\" ({source})\"\n",
    "\n",
    "    if corpus_name == \"code2doc_generated_readme\":\n",
    "        return \"code2doc_generated_readme (selected code)\"\n",
    "    elif corpus_name == \"code2doc_files_summary\":\n",
    "        return \"code2doc_files_summary(selected code)\"\n",
    "    else:\n",
    "        return corpus_name\n",
    "\n",
    "\n",
    "def colorcode(corpus_name):\n",
    "    if \"signature\" in corpus_name:\n",
    "        return \"red\"\n",
    "    if \"dep_sig\" in corpus_name:\n",
    "        return \"blue\"\n",
    "    elif \"repomap\" in corpus_name:\n",
    "        return \"cyan\"\n",
    "    elif \"code2doc\" in corpus_name:\n",
    "        return \"green\"\n",
    "    else:\n",
    "        return None\n",
    "\n",
    "def format_corpus_for_latex(corpus_name, intensity=25):\n",
    "    maybe_color = colorcode(corpus_name)\n",
    "    if maybe_color is None:\n",
    "        return corpus_name\n",
    "    else:\n",
    "        corpus_name = corpus_name.replace(\"generation_context\", \"code summary\")\n",
    "        \n",
    "        corpus_name = rename_source(corpus_name)\n",
    "        corpus_name = corpus_name.replace(\"dep_sig\", \"dependency signature\")\n",
    "        \n",
    "        return f\"{{\\color{{{maybe_color}}} {corpus_name}}}\"\n",
    "\n",
    "\n",
    "def format_retriever_for_latex(retriever_name, intensity=25):\n",
    "    if retriever_name == \"bm25\":\n",
    "        retriever_name = \"BM25\"\n",
    "    elif \"all-mpnet-base-v2\" in retriever_name:\n",
    "        retriever_name = \"MPNet\"\n",
    "    elif \"all-MiniLM-L12-v2\" in retriever_name:\n",
    "        retriever_name = \"MiniLM\"\n",
    "    elif \"embeddinggemma\" in retriever_name:\n",
    "        retriever_name = \"gemma embedder\"\n",
    "    elif \"static-retrieval\" in retriever_name:\n",
    "        retriever_name = \"static embedder\"\n",
    "    elif retriever_name == \"Word2Vec\":\n",
    "        retriever_name = retriever_name\n",
    "    else:\n",
    "        pass\n",
    "    return retriever_name.replace(\"_\", \" \")"
   ]
  },
  {
   "cell_type": "code",
   "execution_count": 10,
   "id": "6ed6d967-0acb-484d-8378-626446cbe355",
   "metadata": {},
   "outputs": [
    {
     "data": {
      "text/plain": [
       "'{\\\\color{blue} code2doc_files_summary (dependency signature)}'"
      ]
     },
     "execution_count": 10,
     "metadata": {},
     "output_type": "execute_result"
    }
   ],
   "source": [
    "format_corpus_for_latex(\"dep_sig_code2doc_files_summary\")"
   ]
  },
  {
   "cell_type": "code",
   "execution_count": 11,
   "id": "c3cb2fed-d10f-42eb-a8ae-b3a73590b224",
   "metadata": {},
   "outputs": [],
   "source": [
    "#generation_metrics_df = process_generation_metrics_df(generation_metrics_df)"
   ]
  },
  {
   "cell_type": "code",
   "execution_count": 12,
   "id": "71bca5cb-610e-4a02-a561-0329edcb5c59",
   "metadata": {},
   "outputs": [],
   "source": [
    "#generation_metrics_df = generation_metrics_df.reset_index()"
   ]
  },
  {
   "cell_type": "code",
   "execution_count": 13,
   "id": "393412aa-e3ed-44bc-a2e1-1555f326db7e",
   "metadata": {},
   "outputs": [],
   "source": [
    "#raw_ir_metrics_df = pd.read_csv(\"../output/code2doc/sample_per_task_5_repos/beir_results_codellama.csv\")\n",
    "raw_ir_metrics_df = pd.read_csv(\"../results/per_query_ir_results.csv\")\n",
    "\n",
    "raw_ir_metrics_df = raw_ir_metrics_df[~raw_ir_metrics_df[\"corpus\"].isin([\"flat_repomap_code2doc_files_summary\", \"flat_code2doc_files_summary\"])]"
   ]
  },
  {
   "cell_type": "code",
   "execution_count": 14,
   "id": "a21f5453-137d-42d7-9775-3a60775f6633",
   "metadata": {},
   "outputs": [
    {
     "data": {
      "text/plain": [
       "Index(['query', 'retriever', 'corpus', 'Hits@1', 'Hits@5', 'Hits@10',\n",
       "       'Hits@25', 'Accuracy@1', 'Precision@1', 'Accuracy@5', 'Precision@5',\n",
       "       'Accuracy@10', 'Precision@10', 'Accuracy@25', 'Precision@25'],\n",
       "      dtype='object')"
      ]
     },
     "execution_count": 14,
     "metadata": {},
     "output_type": "execute_result"
    }
   ],
   "source": [
    "raw_ir_metrics_df.columns"
   ]
  },
  {
   "cell_type": "code",
   "execution_count": 15,
   "id": "8bb169e7-d058-442a-ac65-9dde7ce30d63",
   "metadata": {},
   "outputs": [
    {
     "data": {
      "text/plain": [
       "array(['code2doc_files_summary', 'code2doc_generated_readme',\n",
       "       'dep_sig_code2doc_files_summary',\n",
       "       'dep_sig_code2doc_generated_readme', 'dependency_signature',\n",
       "       'flat_code2doc_generated_readme',\n",
       "       'flat_dep_sig_code2doc_generated_readme',\n",
       "       'flat_repomap_code2doc_generated_readme', 'generated_tasks',\n",
       "       'readme', 'repomap', 'repomap_code2doc_files_summary',\n",
       "       'repomap_code2doc_generated_readme', 'repository_signature',\n",
       "       'selected_code'], dtype=object)"
      ]
     },
     "execution_count": 15,
     "metadata": {},
     "output_type": "execute_result"
    }
   ],
   "source": [
    "raw_ir_metrics_df[\"corpus\"].unique()"
   ]
  },
  {
   "cell_type": "code",
   "execution_count": 16,
   "id": "cd8ef6e3-4b45-48c4-bb83-6971b0a7e262",
   "metadata": {},
   "outputs": [
    {
     "data": {
      "text/plain": [
       "['{\\\\color{green} code2doc_files_summary(selected code)}',\n",
       " '{\\\\color{green} code2doc_generated_readme (selected code)}',\n",
       " '{\\\\color{blue} code2doc_files_summary (dependency signature)}',\n",
       " '{\\\\color{blue} code2doc_generated_readme (dependency signature)}',\n",
       " '{\\\\color{red} dependency_signature}',\n",
       " '{\\\\color{green} flat_code2doc_generated_readme}',\n",
       " '{\\\\color{blue} flat_code2doc_generated_readme (dependency signature)}',\n",
       " '{\\\\color{cyan} flat_code2doc_generated_readme (repomap)}',\n",
       " 'generated_tasks',\n",
       " 'readme',\n",
       " '{\\\\color{cyan} repomap (repomap)}',\n",
       " '{\\\\color{cyan} code2doc_files_summary (repomap)}',\n",
       " '{\\\\color{cyan} code2doc_generated_readme (repomap)}',\n",
       " '{\\\\color{red} repository_signature}',\n",
       " 'selected_code']"
      ]
     },
     "execution_count": 16,
     "metadata": {},
     "output_type": "execute_result"
    }
   ],
   "source": [
    "[format_corpus_for_latex(c) for c in raw_ir_metrics_df[\"corpus\"].unique()]"
   ]
  },
  {
   "cell_type": "code",
   "execution_count": null,
   "id": "4b337d70-63be-451e-89fe-9b23d674b2d8",
   "metadata": {},
   "outputs": [],
   "source": []
  },
  {
   "cell_type": "code",
   "execution_count": 17,
   "id": "c46adf34-c9ab-41c2-a76c-08ec0b20784c",
   "metadata": {},
   "outputs": [
    {
     "data": {
      "text/plain": [
       "array(['bm25', 'sentence-transformers/all-MiniLM-L12-v2',\n",
       "       'sentence-transformers/all-mpnet-base-v2',\n",
       "       'sentence-transformers/static-retrieval-mrl-en-v1', 'word2vec'],\n",
       "      dtype=object)"
      ]
     },
     "execution_count": 17,
     "metadata": {},
     "output_type": "execute_result"
    }
   ],
   "source": [
    "raw_ir_metrics_df[\"retriever\"].unique()"
   ]
  },
  {
   "cell_type": "code",
   "execution_count": 18,
   "id": "6a57f184-071f-4067-bf11-ad2e7b18184c",
   "metadata": {},
   "outputs": [],
   "source": [
    "merged_metrics_df = raw_ir_metrics_df.merge(per_query_generation_metrics_df, left_on=\"query\", right_on=\"task\")"
   ]
  },
  {
   "cell_type": "code",
   "execution_count": 19,
   "id": "1dda8a6e-d2e2-4718-a182-9c69c0d779bd",
   "metadata": {},
   "outputs": [
    {
     "data": {
      "text/html": [
       "<div>\n",
       "<style scoped>\n",
       "    .dataframe tbody tr th:only-of-type {\n",
       "        vertical-align: middle;\n",
       "    }\n",
       "\n",
       "    .dataframe tbody tr th {\n",
       "        vertical-align: top;\n",
       "    }\n",
       "\n",
       "    .dataframe thead th {\n",
       "        text-align: right;\n",
       "    }\n",
       "</style>\n",
       "<table border=\"1\" class=\"dataframe\">\n",
       "  <thead>\n",
       "    <tr style=\"text-align: right;\">\n",
       "      <th></th>\n",
       "      <th>Accuracy@10</th>\n",
       "      <th>Precision@10</th>\n",
       "    </tr>\n",
       "  </thead>\n",
       "  <tbody>\n",
       "    <tr>\n",
       "      <th>rougeL</th>\n",
       "      <td>0.173046</td>\n",
       "      <td>0.229700</td>\n",
       "    </tr>\n",
       "    <tr>\n",
       "      <th>sentence_transformer_similarity</th>\n",
       "      <td>0.122154</td>\n",
       "      <td>0.149255</td>\n",
       "    </tr>\n",
       "  </tbody>\n",
       "</table>\n",
       "</div>"
      ],
      "text/plain": [
       "                                 Accuracy@10  Precision@10\n",
       "rougeL                              0.173046      0.229700\n",
       "sentence_transformer_similarity     0.122154      0.149255"
      ]
     },
     "execution_count": 19,
     "metadata": {},
     "output_type": "execute_result"
    }
   ],
   "source": [
    "merged_metrics_df.select_dtypes(\"float\").corr()[[\"Accuracy@10\", \"Precision@10\"]].loc[[\"rougeL\", \"sentence_transformer_similarity\"]]"
   ]
  },
  {
   "cell_type": "code",
   "execution_count": 20,
   "id": "4b45f84d-a280-4b1e-8a03-1c1208242ae7",
   "metadata": {},
   "outputs": [
    {
     "data": {
      "text/html": [
       "<div>\n",
       "<style scoped>\n",
       "    .dataframe tbody tr th:only-of-type {\n",
       "        vertical-align: middle;\n",
       "    }\n",
       "\n",
       "    .dataframe tbody tr th {\n",
       "        vertical-align: top;\n",
       "    }\n",
       "\n",
       "    .dataframe thead th {\n",
       "        text-align: right;\n",
       "    }\n",
       "</style>\n",
       "<table border=\"1\" class=\"dataframe\">\n",
       "  <thead>\n",
       "    <tr style=\"text-align: right;\">\n",
       "      <th></th>\n",
       "      <th>query</th>\n",
       "      <th>retriever</th>\n",
       "      <th>corpus</th>\n",
       "      <th>Hits@1</th>\n",
       "      <th>Hits@5</th>\n",
       "      <th>Hits@10</th>\n",
       "      <th>Hits@25</th>\n",
       "      <th>Accuracy@1</th>\n",
       "      <th>Precision@1</th>\n",
       "      <th>Accuracy@5</th>\n",
       "      <th>Precision@5</th>\n",
       "      <th>Accuracy@10</th>\n",
       "      <th>Precision@10</th>\n",
       "      <th>Accuracy@25</th>\n",
       "      <th>Precision@25</th>\n",
       "    </tr>\n",
       "  </thead>\n",
       "  <tbody>\n",
       "    <tr>\n",
       "      <th>0</th>\n",
       "      <td>2d human pose estimation</td>\n",
       "      <td>bm25</td>\n",
       "      <td>code2doc_files_summary</td>\n",
       "      <td>0.0</td>\n",
       "      <td>0.0</td>\n",
       "      <td>2.0</td>\n",
       "      <td>6.0</td>\n",
       "      <td>0.0</td>\n",
       "      <td>0.0</td>\n",
       "      <td>0.0</td>\n",
       "      <td>0.0</td>\n",
       "      <td>1.0</td>\n",
       "      <td>0.2</td>\n",
       "      <td>1.0</td>\n",
       "      <td>0.24</td>\n",
       "    </tr>\n",
       "    <tr>\n",
       "      <th>1</th>\n",
       "      <td>2d human pose estimation</td>\n",
       "      <td>bm25</td>\n",
       "      <td>code2doc_generated_readme</td>\n",
       "      <td>0.0</td>\n",
       "      <td>2.0</td>\n",
       "      <td>2.0</td>\n",
       "      <td>8.0</td>\n",
       "      <td>0.0</td>\n",
       "      <td>0.0</td>\n",
       "      <td>1.0</td>\n",
       "      <td>0.4</td>\n",
       "      <td>1.0</td>\n",
       "      <td>0.2</td>\n",
       "      <td>1.0</td>\n",
       "      <td>0.32</td>\n",
       "    </tr>\n",
       "    <tr>\n",
       "      <th>2</th>\n",
       "      <td>2d human pose estimation</td>\n",
       "      <td>bm25</td>\n",
       "      <td>dep_sig_code2doc_files_summary</td>\n",
       "      <td>0.0</td>\n",
       "      <td>1.0</td>\n",
       "      <td>3.0</td>\n",
       "      <td>5.0</td>\n",
       "      <td>0.0</td>\n",
       "      <td>0.0</td>\n",
       "      <td>1.0</td>\n",
       "      <td>0.2</td>\n",
       "      <td>1.0</td>\n",
       "      <td>0.3</td>\n",
       "      <td>1.0</td>\n",
       "      <td>0.20</td>\n",
       "    </tr>\n",
       "    <tr>\n",
       "      <th>3</th>\n",
       "      <td>2d human pose estimation</td>\n",
       "      <td>bm25</td>\n",
       "      <td>dep_sig_code2doc_generated_readme</td>\n",
       "      <td>0.0</td>\n",
       "      <td>1.0</td>\n",
       "      <td>3.0</td>\n",
       "      <td>6.0</td>\n",
       "      <td>0.0</td>\n",
       "      <td>0.0</td>\n",
       "      <td>1.0</td>\n",
       "      <td>0.2</td>\n",
       "      <td>1.0</td>\n",
       "      <td>0.3</td>\n",
       "      <td>1.0</td>\n",
       "      <td>0.24</td>\n",
       "    </tr>\n",
       "    <tr>\n",
       "      <th>4</th>\n",
       "      <td>2d human pose estimation</td>\n",
       "      <td>bm25</td>\n",
       "      <td>dependency_signature</td>\n",
       "      <td>0.0</td>\n",
       "      <td>1.0</td>\n",
       "      <td>4.0</td>\n",
       "      <td>5.0</td>\n",
       "      <td>0.0</td>\n",
       "      <td>0.0</td>\n",
       "      <td>1.0</td>\n",
       "      <td>0.2</td>\n",
       "      <td>1.0</td>\n",
       "      <td>0.4</td>\n",
       "      <td>1.0</td>\n",
       "      <td>0.20</td>\n",
       "    </tr>\n",
       "    <tr>\n",
       "      <th>...</th>\n",
       "      <td>...</td>\n",
       "      <td>...</td>\n",
       "      <td>...</td>\n",
       "      <td>...</td>\n",
       "      <td>...</td>\n",
       "      <td>...</td>\n",
       "      <td>...</td>\n",
       "      <td>...</td>\n",
       "      <td>...</td>\n",
       "      <td>...</td>\n",
       "      <td>...</td>\n",
       "      <td>...</td>\n",
       "      <td>...</td>\n",
       "      <td>...</td>\n",
       "      <td>...</td>\n",
       "    </tr>\n",
       "    <tr>\n",
       "      <th>55645</th>\n",
       "      <td>zero shot learning</td>\n",
       "      <td>word2vec</td>\n",
       "      <td>repomap</td>\n",
       "      <td>0.0</td>\n",
       "      <td>0.0</td>\n",
       "      <td>0.0</td>\n",
       "      <td>0.0</td>\n",
       "      <td>0.0</td>\n",
       "      <td>0.0</td>\n",
       "      <td>0.0</td>\n",
       "      <td>0.0</td>\n",
       "      <td>0.0</td>\n",
       "      <td>0.0</td>\n",
       "      <td>0.0</td>\n",
       "      <td>0.00</td>\n",
       "    </tr>\n",
       "    <tr>\n",
       "      <th>55646</th>\n",
       "      <td>zero shot learning</td>\n",
       "      <td>word2vec</td>\n",
       "      <td>repomap_code2doc_files_summary</td>\n",
       "      <td>0.0</td>\n",
       "      <td>0.0</td>\n",
       "      <td>0.0</td>\n",
       "      <td>1.0</td>\n",
       "      <td>0.0</td>\n",
       "      <td>0.0</td>\n",
       "      <td>0.0</td>\n",
       "      <td>0.0</td>\n",
       "      <td>0.0</td>\n",
       "      <td>0.0</td>\n",
       "      <td>1.0</td>\n",
       "      <td>0.04</td>\n",
       "    </tr>\n",
       "    <tr>\n",
       "      <th>55647</th>\n",
       "      <td>zero shot learning</td>\n",
       "      <td>word2vec</td>\n",
       "      <td>repomap_code2doc_generated_readme</td>\n",
       "      <td>0.0</td>\n",
       "      <td>1.0</td>\n",
       "      <td>1.0</td>\n",
       "      <td>2.0</td>\n",
       "      <td>0.0</td>\n",
       "      <td>0.0</td>\n",
       "      <td>1.0</td>\n",
       "      <td>0.2</td>\n",
       "      <td>1.0</td>\n",
       "      <td>0.1</td>\n",
       "      <td>1.0</td>\n",
       "      <td>0.08</td>\n",
       "    </tr>\n",
       "    <tr>\n",
       "      <th>55648</th>\n",
       "      <td>zero shot learning</td>\n",
       "      <td>word2vec</td>\n",
       "      <td>repository_signature</td>\n",
       "      <td>0.0</td>\n",
       "      <td>0.0</td>\n",
       "      <td>1.0</td>\n",
       "      <td>3.0</td>\n",
       "      <td>0.0</td>\n",
       "      <td>0.0</td>\n",
       "      <td>0.0</td>\n",
       "      <td>0.0</td>\n",
       "      <td>1.0</td>\n",
       "      <td>0.1</td>\n",
       "      <td>1.0</td>\n",
       "      <td>0.12</td>\n",
       "    </tr>\n",
       "    <tr>\n",
       "      <th>55649</th>\n",
       "      <td>zero shot learning</td>\n",
       "      <td>word2vec</td>\n",
       "      <td>selected_code</td>\n",
       "      <td>0.0</td>\n",
       "      <td>0.0</td>\n",
       "      <td>0.0</td>\n",
       "      <td>0.0</td>\n",
       "      <td>0.0</td>\n",
       "      <td>0.0</td>\n",
       "      <td>0.0</td>\n",
       "      <td>0.0</td>\n",
       "      <td>0.0</td>\n",
       "      <td>0.0</td>\n",
       "      <td>0.0</td>\n",
       "      <td>0.00</td>\n",
       "    </tr>\n",
       "  </tbody>\n",
       "</table>\n",
       "<p>55650 rows × 15 columns</p>\n",
       "</div>"
      ],
      "text/plain": [
       "                          query retriever                             corpus  \\\n",
       "0      2d human pose estimation      bm25             code2doc_files_summary   \n",
       "1      2d human pose estimation      bm25          code2doc_generated_readme   \n",
       "2      2d human pose estimation      bm25     dep_sig_code2doc_files_summary   \n",
       "3      2d human pose estimation      bm25  dep_sig_code2doc_generated_readme   \n",
       "4      2d human pose estimation      bm25               dependency_signature   \n",
       "...                         ...       ...                                ...   \n",
       "55645        zero shot learning  word2vec                            repomap   \n",
       "55646        zero shot learning  word2vec     repomap_code2doc_files_summary   \n",
       "55647        zero shot learning  word2vec  repomap_code2doc_generated_readme   \n",
       "55648        zero shot learning  word2vec               repository_signature   \n",
       "55649        zero shot learning  word2vec                      selected_code   \n",
       "\n",
       "       Hits@1  Hits@5  Hits@10  Hits@25  Accuracy@1  Precision@1  Accuracy@5  \\\n",
       "0         0.0     0.0      2.0      6.0         0.0          0.0         0.0   \n",
       "1         0.0     2.0      2.0      8.0         0.0          0.0         1.0   \n",
       "2         0.0     1.0      3.0      5.0         0.0          0.0         1.0   \n",
       "3         0.0     1.0      3.0      6.0         0.0          0.0         1.0   \n",
       "4         0.0     1.0      4.0      5.0         0.0          0.0         1.0   \n",
       "...       ...     ...      ...      ...         ...          ...         ...   \n",
       "55645     0.0     0.0      0.0      0.0         0.0          0.0         0.0   \n",
       "55646     0.0     0.0      0.0      1.0         0.0          0.0         0.0   \n",
       "55647     0.0     1.0      1.0      2.0         0.0          0.0         1.0   \n",
       "55648     0.0     0.0      1.0      3.0         0.0          0.0         0.0   \n",
       "55649     0.0     0.0      0.0      0.0         0.0          0.0         0.0   \n",
       "\n",
       "       Precision@5  Accuracy@10  Precision@10  Accuracy@25  Precision@25  \n",
       "0              0.0          1.0           0.2          1.0          0.24  \n",
       "1              0.4          1.0           0.2          1.0          0.32  \n",
       "2              0.2          1.0           0.3          1.0          0.20  \n",
       "3              0.2          1.0           0.3          1.0          0.24  \n",
       "4              0.2          1.0           0.4          1.0          0.20  \n",
       "...            ...          ...           ...          ...           ...  \n",
       "55645          0.0          0.0           0.0          0.0          0.00  \n",
       "55646          0.0          0.0           0.0          1.0          0.04  \n",
       "55647          0.2          1.0           0.1          1.0          0.08  \n",
       "55648          0.0          1.0           0.1          1.0          0.12  \n",
       "55649          0.0          0.0           0.0          0.0          0.00  \n",
       "\n",
       "[55650 rows x 15 columns]"
      ]
     },
     "execution_count": 20,
     "metadata": {},
     "output_type": "execute_result"
    }
   ],
   "source": [
    "raw_ir_metrics_df"
   ]
  },
  {
   "cell_type": "code",
   "execution_count": null,
   "id": "d9db9918-2691-4f67-a235-64d71c4e36c8",
   "metadata": {},
   "outputs": [],
   "source": []
  },
  {
   "cell_type": "code",
   "execution_count": 21,
   "id": "a4249ebd-e0e6-4553-8298-ac34b113d35c",
   "metadata": {},
   "outputs": [],
   "source": [
    "ir_metrics_df = raw_ir_metrics_df.drop(columns=[\"query\"]).groupby([\"corpus\", \"retriever\"]).agg(\"mean\").reset_index()"
   ]
  },
  {
   "cell_type": "code",
   "execution_count": 22,
   "id": "b6e110a1-e8b1-4a03-86b3-fda46c8c3f11",
   "metadata": {},
   "outputs": [
    {
     "name": "stderr",
     "output_type": "stream",
     "text": [
      "<>:11: SyntaxWarning: invalid escape sequence '\\%'\n",
      "<>:11: SyntaxWarning: invalid escape sequence '\\h'\n",
      "<>:11: SyntaxWarning: invalid escape sequence '\\%'\n",
      "<>:11: SyntaxWarning: invalid escape sequence '\\h'\n",
      "/tmp/ipykernel_2949242/231386044.py:11: SyntaxWarning: invalid escape sequence '\\%'\n",
      "  .replace(\"%\", \"\\%\").replace(\"_\", \" \").strip().replace(\"\\n\", \"\\n\\hline\\n\")\n",
      "/tmp/ipykernel_2949242/231386044.py:11: SyntaxWarning: invalid escape sequence '\\h'\n",
      "  .replace(\"%\", \"\\%\").replace(\"_\", \" \").strip().replace(\"\\n\", \"\\n\\hline\\n\")\n"
     ]
    }
   ],
   "source": [
    "def convert_df_to_latex_table(df, cols=[\"corpus\", \"retriever\", \"Accuracy@10\", \"Precision@10\"], sort_values=\"Accuracy@10\", column_format=\"||l|l|c|c||\"):\n",
    "    df = df.copy()\n",
    "    if \"retriever\" in cols:\n",
    "        df[\"retriever\"] = df[\"retriever\"].apply(format_retriever_for_latex)\n",
    "    df[\"corpus\"] = df[\"corpus\"].apply(format_corpus_for_latex)\n",
    "    return (\n",
    "        df[\n",
    "            cols\n",
    "        ].sort_values(sort_values, ascending=False)\n",
    "        .to_latex(index_names=False, index=False, column_format=column_format, float_format=\"%.3f\")\n",
    "        .replace(\"%\", \"\\%\").replace(\"_\", \" \").strip().replace(\"\\n\", \"\\n\\hline\\n\")\n",
    "        .replace(\"Accuracy@10\", \"Hit@10\")\n",
    "        .replace(\"\\\\toprule\", \"\\\\toprule \\\\hline\")\n",
    "        .replace(\"\\\\midrule\", \"\\\\midrule \\\\hline\")\n",
    "        .replace(\"\\\\bottomrule\", \"\\\\bottomrule \\\\hline\")\n",
    "    )"
   ]
  },
  {
   "cell_type": "code",
   "execution_count": 23,
   "id": "95694e22-ca7b-4916-a251-750f4a0fca1d",
   "metadata": {},
   "outputs": [],
   "source": [
    "ir_metrics_best_retriever_df = ir_metrics_df.sort_values(\"Hits@10\", ascending=False).drop_duplicates(subset=[\"corpus\"])"
   ]
  },
  {
   "cell_type": "code",
   "execution_count": 24,
   "id": "71157aff-429f-4373-889d-02da3b476331",
   "metadata": {},
   "outputs": [],
   "source": [
    "basic_corpora = [\"readme\", \"dependency_signature\", \"selected_code\"]\n",
    "basic_ir_metrics_best_retriever_df = ir_metrics_best_retriever_df[ir_metrics_best_retriever_df[\"corpus\"].isin(basic_corpora)]"
   ]
  },
  {
   "cell_type": "markdown",
   "id": "d2b7b2af-32c3-4061-bb57-1a37c69eabdb",
   "metadata": {},
   "source": [
    "## Basic corpora"
   ]
  },
  {
   "cell_type": "code",
   "execution_count": 25,
   "id": "a39a43b9-ed4a-4381-9044-9eec60426151",
   "metadata": {},
   "outputs": [
    {
     "data": {
      "text/html": [
       "<div>\n",
       "<style scoped>\n",
       "    .dataframe tbody tr th:only-of-type {\n",
       "        vertical-align: middle;\n",
       "    }\n",
       "\n",
       "    .dataframe tbody tr th {\n",
       "        vertical-align: top;\n",
       "    }\n",
       "\n",
       "    .dataframe thead th {\n",
       "        text-align: right;\n",
       "    }\n",
       "</style>\n",
       "<table border=\"1\" class=\"dataframe\">\n",
       "  <thead>\n",
       "    <tr style=\"text-align: right;\">\n",
       "      <th></th>\n",
       "      <th>corpus</th>\n",
       "      <th>retriever</th>\n",
       "      <th>Hits@1</th>\n",
       "      <th>Hits@5</th>\n",
       "      <th>Hits@10</th>\n",
       "      <th>Hits@25</th>\n",
       "      <th>Accuracy@1</th>\n",
       "      <th>Precision@1</th>\n",
       "      <th>Accuracy@5</th>\n",
       "      <th>Precision@5</th>\n",
       "      <th>Accuracy@10</th>\n",
       "      <th>Precision@10</th>\n",
       "      <th>Accuracy@25</th>\n",
       "      <th>Precision@25</th>\n",
       "    </tr>\n",
       "  </thead>\n",
       "  <tbody>\n",
       "    <tr>\n",
       "      <th>47</th>\n",
       "      <td>readme</td>\n",
       "      <td>sentence-transformers/all-mpnet-base-v2</td>\n",
       "      <td>0.641509</td>\n",
       "      <td>2.556604</td>\n",
       "      <td>4.250674</td>\n",
       "      <td>6.916442</td>\n",
       "      <td>0.641509</td>\n",
       "      <td>0.641509</td>\n",
       "      <td>0.877358</td>\n",
       "      <td>0.511321</td>\n",
       "      <td>0.928571</td>\n",
       "      <td>0.425067</td>\n",
       "      <td>0.959569</td>\n",
       "      <td>0.276658</td>\n",
       "    </tr>\n",
       "    <tr>\n",
       "      <th>22</th>\n",
       "      <td>dependency_signature</td>\n",
       "      <td>sentence-transformers/all-mpnet-base-v2</td>\n",
       "      <td>0.405660</td>\n",
       "      <td>1.301887</td>\n",
       "      <td>1.912399</td>\n",
       "      <td>2.978437</td>\n",
       "      <td>0.405660</td>\n",
       "      <td>0.405660</td>\n",
       "      <td>0.657682</td>\n",
       "      <td>0.260377</td>\n",
       "      <td>0.737197</td>\n",
       "      <td>0.191240</td>\n",
       "      <td>0.815364</td>\n",
       "      <td>0.119137</td>\n",
       "    </tr>\n",
       "    <tr>\n",
       "      <th>70</th>\n",
       "      <td>selected_code</td>\n",
       "      <td>bm25</td>\n",
       "      <td>0.376694</td>\n",
       "      <td>1.220867</td>\n",
       "      <td>1.831978</td>\n",
       "      <td>2.917344</td>\n",
       "      <td>0.376694</td>\n",
       "      <td>0.376694</td>\n",
       "      <td>0.613821</td>\n",
       "      <td>0.244173</td>\n",
       "      <td>0.689702</td>\n",
       "      <td>0.183198</td>\n",
       "      <td>0.791328</td>\n",
       "      <td>0.116694</td>\n",
       "    </tr>\n",
       "  </tbody>\n",
       "</table>\n",
       "</div>"
      ],
      "text/plain": [
       "                  corpus                                retriever    Hits@1  \\\n",
       "47                readme  sentence-transformers/all-mpnet-base-v2  0.641509   \n",
       "22  dependency_signature  sentence-transformers/all-mpnet-base-v2  0.405660   \n",
       "70         selected_code                                     bm25  0.376694   \n",
       "\n",
       "      Hits@5   Hits@10   Hits@25  Accuracy@1  Precision@1  Accuracy@5  \\\n",
       "47  2.556604  4.250674  6.916442    0.641509     0.641509    0.877358   \n",
       "22  1.301887  1.912399  2.978437    0.405660     0.405660    0.657682   \n",
       "70  1.220867  1.831978  2.917344    0.376694     0.376694    0.613821   \n",
       "\n",
       "    Precision@5  Accuracy@10  Precision@10  Accuracy@25  Precision@25  \n",
       "47     0.511321     0.928571      0.425067     0.959569      0.276658  \n",
       "22     0.260377     0.737197      0.191240     0.815364      0.119137  \n",
       "70     0.244173     0.689702      0.183198     0.791328      0.116694  "
      ]
     },
     "execution_count": 25,
     "metadata": {},
     "output_type": "execute_result"
    }
   ],
   "source": [
    "basic_ir_metrics_best_retriever_df"
   ]
  },
  {
   "cell_type": "code",
   "execution_count": 26,
   "id": "a2a8d520-a37f-445d-af96-89fd1798a1b7",
   "metadata": {},
   "outputs": [
    {
     "data": {
      "text/plain": [
       "'\\\\begin{tabular}{||l|l|c|c||}\\n\\\\hline\\n\\\\toprule \\\\hline\\n\\\\hline\\ncorpus & retriever & Hit@10 & Precision@10 \\\\\\\\\\n\\\\hline\\n\\\\midrule \\\\hline\\n\\\\hline\\nreadme & MPNet & 0.929 & 0.425 \\\\\\\\\\n\\\\hline\\n{\\\\color{red} dependency signature} & MPNet & 0.737 & 0.191 \\\\\\\\\\n\\\\hline\\nselected code & BM25 & 0.690 & 0.183 \\\\\\\\\\n\\\\hline\\n\\\\bottomrule \\\\hline\\n\\\\hline\\n\\\\end{tabular}'"
      ]
     },
     "execution_count": 26,
     "metadata": {},
     "output_type": "execute_result"
    }
   ],
   "source": [
    "convert_df_to_latex_table(basic_ir_metrics_best_retriever_df)"
   ]
  },
  {
   "cell_type": "code",
   "execution_count": 27,
   "id": "d56739d6-c7ce-4942-871c-1d6f54843920",
   "metadata": {},
   "outputs": [
    {
     "name": "stdout",
     "output_type": "stream",
     "text": [
      "\\begin{tabular}{||l|l|c|c||}\n",
      "\\hline\n",
      "\\toprule \\hline\n",
      "\\hline\n",
      "corpus & retriever & Hit@10 & Precision@10 \\\\\n",
      "\\hline\n",
      "\\midrule \\hline\n",
      "\\hline\n",
      "readme & MPNet & 0.929 & 0.425 \\\\\n",
      "\\hline\n",
      "{\\color{red} dependency signature} & MPNet & 0.737 & 0.191 \\\\\n",
      "\\hline\n",
      "selected code & BM25 & 0.690 & 0.183 \\\\\n",
      "\\hline\n",
      "\\bottomrule \\hline\n",
      "\\hline\n",
      "\\end{tabular}\n"
     ]
    }
   ],
   "source": [
    "print(convert_df_to_latex_table(basic_ir_metrics_best_retriever_df))"
   ]
  },
  {
   "cell_type": "markdown",
   "id": "b05d1e36-f773-4bed-98dd-cac290a73cab",
   "metadata": {},
   "source": [
    "## Signature corpora"
   ]
  },
  {
   "cell_type": "code",
   "execution_count": 28,
   "id": "d7d9c434-38b0-4d13-a3f3-f78c86d3d567",
   "metadata": {},
   "outputs": [],
   "source": [
    "signature_ir_metrics_best_retriever_df = ir_metrics_best_retriever_df[ir_metrics_best_retriever_df[\"corpus\"].isin(basic_corpora + [\"repository_signature\", \"generated_tasks\"])]"
   ]
  },
  {
   "cell_type": "code",
   "execution_count": 29,
   "id": "1512f278-9c7a-4fa0-8bd7-1495cb530bda",
   "metadata": {},
   "outputs": [
    {
     "name": "stdout",
     "output_type": "stream",
     "text": [
      "\\begin{tabular}{||l|l|c|c||}\n",
      "\\hline\n",
      "\\toprule \\hline\n",
      "\\hline\n",
      "corpus & retriever & Hit@10 & Precision@10 \\\\\n",
      "\\hline\n",
      "\\midrule \\hline\n",
      "\\hline\n",
      "readme & MPNet & 0.929 & 0.425 \\\\\n",
      "\\hline\n",
      "generated tasks & MPNet & 0.827 & 0.278 \\\\\n",
      "\\hline\n",
      "{\\color{red} repository signature} & MPNet & 0.786 & 0.228 \\\\\n",
      "\\hline\n",
      "{\\color{red} dependency signature} & MPNet & 0.737 & 0.191 \\\\\n",
      "\\hline\n",
      "selected code & BM25 & 0.690 & 0.183 \\\\\n",
      "\\hline\n",
      "\\bottomrule \\hline\n",
      "\\hline\n",
      "\\end{tabular}\n"
     ]
    }
   ],
   "source": [
    "print(convert_df_to_latex_table(signature_ir_metrics_best_retriever_df))"
   ]
  },
  {
   "cell_type": "code",
   "execution_count": 30,
   "id": "d55c04d5-e140-44f1-8fea-6d87dd655080",
   "metadata": {},
   "outputs": [
    {
     "data": {
      "text/plain": [
       "array(['readme', 'flat_code2doc_generated_readme',\n",
       "       'flat_dep_sig_code2doc_generated_readme',\n",
       "       'flat_repomap_code2doc_generated_readme',\n",
       "       'code2doc_generated_readme', 'repomap_code2doc_generated_readme',\n",
       "       'dep_sig_code2doc_generated_readme', 'generated_tasks',\n",
       "       'dep_sig_code2doc_files_summary', 'code2doc_files_summary',\n",
       "       'repomap_code2doc_files_summary', 'repository_signature',\n",
       "       'dependency_signature', 'selected_code', 'repomap'], dtype=object)"
      ]
     },
     "execution_count": 30,
     "metadata": {},
     "output_type": "execute_result"
    }
   ],
   "source": [
    "ir_metrics_best_retriever_df[\"corpus\"].unique()"
   ]
  },
  {
   "cell_type": "markdown",
   "id": "76a0b9c5-7b91-4a6f-bfad-5cee045c5ab3",
   "metadata": {},
   "source": [
    "## Code2doc "
   ]
  },
  {
   "cell_type": "code",
   "execution_count": 31,
   "id": "8a9aabb3-bcce-4858-92b5-2e39fe1a76dd",
   "metadata": {},
   "outputs": [],
   "source": [
    "code2doc_corpora = [\"readme\"]\n",
    "\n",
    "code2doc_corpora = code2doc_corpora + [c for c in ir_metrics_best_retriever_df[\"corpus\"].unique() if \"code2doc\" in c]"
   ]
  },
  {
   "cell_type": "code",
   "execution_count": 32,
   "id": "bc61a54c-e5ce-4192-98c5-8795b95bc6b6",
   "metadata": {},
   "outputs": [],
   "source": [
    "#for cname in code2doc_corpora:\n",
    "#    code2doc_corpora.append(cname)\n",
    "#    #code2doc_corpora.append(cname + \" (repomap)\")\n",
    "\n",
    "code2doc_ir_metrics_best_retriever_df = ir_metrics_best_retriever_df[ir_metrics_best_retriever_df[\"corpus\"].isin(code2doc_corpora)]"
   ]
  },
  {
   "cell_type": "code",
   "execution_count": 33,
   "id": "430ad351-e43c-4f1c-9788-a60787c091fe",
   "metadata": {},
   "outputs": [
    {
     "name": "stdout",
     "output_type": "stream",
     "text": [
      "\\begin{tabular}{||l|l|c|c||}\n",
      "\\hline\n",
      "\\toprule \\hline\n",
      "\\hline\n",
      "corpus & retriever & Hit@10 & Precision@10 \\\\\n",
      "\\hline\n",
      "\\midrule \\hline\n",
      "\\hline\n",
      "readme & MPNet & 0.929 & 0.425 \\\\\n",
      "\\hline\n",
      "{\\color{blue} flat code2doc generated readme (dependency signature)} & MPNet & 0.885 & 0.345 \\\\\n",
      "\\hline\n",
      "{\\color{green} flat code2doc generated readme} & MPNet & 0.880 & 0.349 \\\\\n",
      "\\hline\n",
      "{\\color{cyan} flat code2doc generated readme (repomap)} & MPNet & 0.871 & 0.331 \\\\\n",
      "\\hline\n",
      "{\\color{blue} code2doc generated readme (dependency signature)} & MPNet & 0.861 & 0.313 \\\\\n",
      "\\hline\n",
      "{\\color{green} code2doc generated readme (selected code)} & MPNet & 0.856 & 0.321 \\\\\n",
      "\\hline\n",
      "{\\color{cyan} code2doc generated readme (repomap)} & MPNet & 0.842 & 0.313 \\\\\n",
      "\\hline\n",
      "{\\color{blue} code2doc files summary (dependency signature)} & MPNet & 0.823 & 0.264 \\\\\n",
      "\\hline\n",
      "{\\color{cyan} code2doc files summary (repomap)} & BM25 & 0.804 & 0.244 \\\\\n",
      "\\hline\n",
      "{\\color{green} code2doc files summary(selected code)} & MPNet & 0.791 & 0.250 \\\\\n",
      "\\hline\n",
      "\\bottomrule \\hline\n",
      "\\hline\n",
      "\\end{tabular}\n"
     ]
    }
   ],
   "source": [
    "print(convert_df_to_latex_table(code2doc_ir_metrics_best_retriever_df))"
   ]
  },
  {
   "cell_type": "markdown",
   "id": "203b0d4a-fdaa-4ed5-940d-5f925023d853",
   "metadata": {},
   "source": [
    "## Best retriever"
   ]
  },
  {
   "cell_type": "code",
   "execution_count": 34,
   "id": "40676921-dbfe-4323-b225-3daadef89b9a",
   "metadata": {},
   "outputs": [
    {
     "name": "stdout",
     "output_type": "stream",
     "text": [
      "\\begin{tabular}{||l|l|c|c||}\n",
      "\\hline\n",
      "\\toprule \\hline\n",
      "\\hline\n",
      "corpus & retriever & Hit@10 & Precision@10 \\\\\n",
      "\\hline\n",
      "\\midrule \\hline\n",
      "\\hline\n",
      "readme & MPNet & 0.929 & 0.425 \\\\\n",
      "\\hline\n",
      "{\\color{blue} flat code2doc generated readme (dependency signature)} & MPNet & 0.885 & 0.345 \\\\\n",
      "\\hline\n",
      "{\\color{green} flat code2doc generated readme} & MPNet & 0.880 & 0.349 \\\\\n",
      "\\hline\n",
      "{\\color{cyan} flat code2doc generated readme (repomap)} & MPNet & 0.871 & 0.331 \\\\\n",
      "\\hline\n",
      "{\\color{blue} code2doc generated readme (dependency signature)} & MPNet & 0.861 & 0.313 \\\\\n",
      "\\hline\n",
      "{\\color{green} code2doc generated readme (selected code)} & MPNet & 0.856 & 0.321 \\\\\n",
      "\\hline\n",
      "{\\color{cyan} code2doc generated readme (repomap)} & MPNet & 0.842 & 0.313 \\\\\n",
      "\\hline\n",
      "generated tasks & MPNet & 0.827 & 0.278 \\\\\n",
      "\\hline\n",
      "{\\color{blue} code2doc files summary (dependency signature)} & MPNet & 0.823 & 0.264 \\\\\n",
      "\\hline\n",
      "{\\color{cyan} code2doc files summary (repomap)} & BM25 & 0.804 & 0.244 \\\\\n",
      "\\hline\n",
      "{\\color{green} code2doc files summary(selected code)} & MPNet & 0.791 & 0.250 \\\\\n",
      "\\hline\n",
      "{\\color{red} repository signature} & MPNet & 0.786 & 0.228 \\\\\n",
      "\\hline\n",
      "{\\color{red} dependency signature} & MPNet & 0.737 & 0.191 \\\\\n",
      "\\hline\n",
      "{\\color{cyan} repomap (repomap)} & MPNet & 0.695 & 0.176 \\\\\n",
      "\\hline\n",
      "selected code & BM25 & 0.690 & 0.183 \\\\\n",
      "\\hline\n",
      "\\bottomrule \\hline\n",
      "\\hline\n",
      "\\end{tabular}\n"
     ]
    }
   ],
   "source": [
    "print(convert_df_to_latex_table(ir_metrics_best_retriever_df))"
   ]
  },
  {
   "cell_type": "markdown",
   "id": "888dbdfd-f31b-4da1-9282-9433f28eee07",
   "metadata": {},
   "source": [
    "## Average over retrievers"
   ]
  },
  {
   "cell_type": "code",
   "execution_count": 35,
   "id": "0709a211-d37f-479c-8682-51be8f37c968",
   "metadata": {},
   "outputs": [],
   "source": [
    "ir_metrics_avg_retriever_df = ir_metrics_df.sort_values(\"Hits@10\", ascending=False).drop(columns=[\"retriever\"]).groupby(\"corpus\").agg(\"mean\").reset_index()"
   ]
  },
  {
   "cell_type": "code",
   "execution_count": 36,
   "id": "4f78f6a9-3fa4-4b67-9bc2-7f8fa931e39e",
   "metadata": {},
   "outputs": [
    {
     "name": "stdout",
     "output_type": "stream",
     "text": [
      "\\begin{tabular}{|l|r|r|}\n",
      "\\hline\n",
      "\\toprule \\hline\n",
      "\\hline\n",
      "corpus & Hit@10 & Precision@10 \\\\\n",
      "\\hline\n",
      "\\midrule \\hline\n",
      "\\hline\n",
      "readme & 0.814 & 0.317 \\\\\n",
      "\\hline\n",
      "{\\color{green} flat code2doc generated readme} & 0.810 & 0.278 \\\\\n",
      "\\hline\n",
      "{\\color{blue} flat code2doc generated readme (dependency signature)} & 0.810 & 0.275 \\\\\n",
      "\\hline\n",
      "{\\color{cyan} flat code2doc generated readme (repomap)} & 0.793 & 0.264 \\\\\n",
      "\\hline\n",
      "{\\color{green} code2doc generated readme (selected code)} & 0.774 & 0.249 \\\\\n",
      "\\hline\n",
      "{\\color{blue} code2doc generated readme (dependency signature)} & 0.776 & 0.247 \\\\\n",
      "\\hline\n",
      "{\\color{cyan} code2doc generated readme (repomap)} & 0.762 & 0.241 \\\\\n",
      "\\hline\n",
      "generated tasks & 0.771 & 0.236 \\\\\n",
      "\\hline\n",
      "{\\color{blue} code2doc files summary (dependency signature)} & 0.712 & 0.202 \\\\\n",
      "\\hline\n",
      "{\\color{green} code2doc files summary(selected code)} & 0.686 & 0.187 \\\\\n",
      "\\hline\n",
      "{\\color{cyan} code2doc files summary (repomap)} & 0.673 & 0.183 \\\\\n",
      "\\hline\n",
      "{\\color{red} repository signature} & 0.674 & 0.175 \\\\\n",
      "\\hline\n",
      "selected code & 0.536 & 0.125 \\\\\n",
      "\\hline\n",
      "{\\color{red} dependency signature} & 0.533 & 0.125 \\\\\n",
      "\\hline\n",
      "{\\color{cyan} repomap (repomap)} & 0.512 & 0.116 \\\\\n",
      "\\hline\n",
      "\\bottomrule \\hline\n",
      "\\hline\n",
      "\\end{tabular}\n"
     ]
    }
   ],
   "source": [
    "print(convert_df_to_latex_table(ir_metrics_avg_retriever_df,  cols=[\"corpus\", \"Accuracy@10\", \"Precision@10\"], sort_values=\"Precision@10\", column_format=\"|l|r|r|\"))"
   ]
  },
  {
   "cell_type": "code",
   "execution_count": 37,
   "id": "9a3d7a70-c7c5-447a-97ea-0c14c2911231",
   "metadata": {},
   "outputs": [],
   "source": [
    "per_query_metrics_df = raw_ir_metrics_df\n",
    "per_query_metrics_df.columns = [c.lower() for c in per_query_metrics_df.columns]"
   ]
  },
  {
   "cell_type": "code",
   "execution_count": 38,
   "id": "b43e04d7-abbf-4611-ad48-9c24f1796d87",
   "metadata": {},
   "outputs": [
    {
     "data": {
      "text/html": [
       "<div>\n",
       "<style scoped>\n",
       "    .dataframe tbody tr th:only-of-type {\n",
       "        vertical-align: middle;\n",
       "    }\n",
       "\n",
       "    .dataframe tbody tr th {\n",
       "        vertical-align: top;\n",
       "    }\n",
       "\n",
       "    .dataframe thead th {\n",
       "        text-align: right;\n",
       "    }\n",
       "</style>\n",
       "<table border=\"1\" class=\"dataframe\">\n",
       "  <thead>\n",
       "    <tr style=\"text-align: right;\">\n",
       "      <th></th>\n",
       "      <th>query</th>\n",
       "      <th>retriever</th>\n",
       "      <th>corpus</th>\n",
       "      <th>hits@1</th>\n",
       "      <th>hits@5</th>\n",
       "      <th>hits@10</th>\n",
       "      <th>hits@25</th>\n",
       "      <th>accuracy@1</th>\n",
       "      <th>precision@1</th>\n",
       "      <th>accuracy@5</th>\n",
       "      <th>precision@5</th>\n",
       "      <th>accuracy@10</th>\n",
       "      <th>precision@10</th>\n",
       "      <th>accuracy@25</th>\n",
       "      <th>precision@25</th>\n",
       "    </tr>\n",
       "  </thead>\n",
       "  <tbody>\n",
       "    <tr>\n",
       "      <th>0</th>\n",
       "      <td>2d human pose estimation</td>\n",
       "      <td>bm25</td>\n",
       "      <td>code2doc_files_summary</td>\n",
       "      <td>0.0</td>\n",
       "      <td>0.0</td>\n",
       "      <td>2.0</td>\n",
       "      <td>6.0</td>\n",
       "      <td>0.0</td>\n",
       "      <td>0.0</td>\n",
       "      <td>0.0</td>\n",
       "      <td>0.0</td>\n",
       "      <td>1.0</td>\n",
       "      <td>0.2</td>\n",
       "      <td>1.0</td>\n",
       "      <td>0.24</td>\n",
       "    </tr>\n",
       "    <tr>\n",
       "      <th>1</th>\n",
       "      <td>2d human pose estimation</td>\n",
       "      <td>bm25</td>\n",
       "      <td>code2doc_generated_readme</td>\n",
       "      <td>0.0</td>\n",
       "      <td>2.0</td>\n",
       "      <td>2.0</td>\n",
       "      <td>8.0</td>\n",
       "      <td>0.0</td>\n",
       "      <td>0.0</td>\n",
       "      <td>1.0</td>\n",
       "      <td>0.4</td>\n",
       "      <td>1.0</td>\n",
       "      <td>0.2</td>\n",
       "      <td>1.0</td>\n",
       "      <td>0.32</td>\n",
       "    </tr>\n",
       "    <tr>\n",
       "      <th>2</th>\n",
       "      <td>2d human pose estimation</td>\n",
       "      <td>bm25</td>\n",
       "      <td>dep_sig_code2doc_files_summary</td>\n",
       "      <td>0.0</td>\n",
       "      <td>1.0</td>\n",
       "      <td>3.0</td>\n",
       "      <td>5.0</td>\n",
       "      <td>0.0</td>\n",
       "      <td>0.0</td>\n",
       "      <td>1.0</td>\n",
       "      <td>0.2</td>\n",
       "      <td>1.0</td>\n",
       "      <td>0.3</td>\n",
       "      <td>1.0</td>\n",
       "      <td>0.20</td>\n",
       "    </tr>\n",
       "    <tr>\n",
       "      <th>3</th>\n",
       "      <td>2d human pose estimation</td>\n",
       "      <td>bm25</td>\n",
       "      <td>dep_sig_code2doc_generated_readme</td>\n",
       "      <td>0.0</td>\n",
       "      <td>1.0</td>\n",
       "      <td>3.0</td>\n",
       "      <td>6.0</td>\n",
       "      <td>0.0</td>\n",
       "      <td>0.0</td>\n",
       "      <td>1.0</td>\n",
       "      <td>0.2</td>\n",
       "      <td>1.0</td>\n",
       "      <td>0.3</td>\n",
       "      <td>1.0</td>\n",
       "      <td>0.24</td>\n",
       "    </tr>\n",
       "    <tr>\n",
       "      <th>4</th>\n",
       "      <td>2d human pose estimation</td>\n",
       "      <td>bm25</td>\n",
       "      <td>dependency_signature</td>\n",
       "      <td>0.0</td>\n",
       "      <td>1.0</td>\n",
       "      <td>4.0</td>\n",
       "      <td>5.0</td>\n",
       "      <td>0.0</td>\n",
       "      <td>0.0</td>\n",
       "      <td>1.0</td>\n",
       "      <td>0.2</td>\n",
       "      <td>1.0</td>\n",
       "      <td>0.4</td>\n",
       "      <td>1.0</td>\n",
       "      <td>0.20</td>\n",
       "    </tr>\n",
       "    <tr>\n",
       "      <th>...</th>\n",
       "      <td>...</td>\n",
       "      <td>...</td>\n",
       "      <td>...</td>\n",
       "      <td>...</td>\n",
       "      <td>...</td>\n",
       "      <td>...</td>\n",
       "      <td>...</td>\n",
       "      <td>...</td>\n",
       "      <td>...</td>\n",
       "      <td>...</td>\n",
       "      <td>...</td>\n",
       "      <td>...</td>\n",
       "      <td>...</td>\n",
       "      <td>...</td>\n",
       "      <td>...</td>\n",
       "    </tr>\n",
       "    <tr>\n",
       "      <th>55645</th>\n",
       "      <td>zero shot learning</td>\n",
       "      <td>word2vec</td>\n",
       "      <td>repomap</td>\n",
       "      <td>0.0</td>\n",
       "      <td>0.0</td>\n",
       "      <td>0.0</td>\n",
       "      <td>0.0</td>\n",
       "      <td>0.0</td>\n",
       "      <td>0.0</td>\n",
       "      <td>0.0</td>\n",
       "      <td>0.0</td>\n",
       "      <td>0.0</td>\n",
       "      <td>0.0</td>\n",
       "      <td>0.0</td>\n",
       "      <td>0.00</td>\n",
       "    </tr>\n",
       "    <tr>\n",
       "      <th>55646</th>\n",
       "      <td>zero shot learning</td>\n",
       "      <td>word2vec</td>\n",
       "      <td>repomap_code2doc_files_summary</td>\n",
       "      <td>0.0</td>\n",
       "      <td>0.0</td>\n",
       "      <td>0.0</td>\n",
       "      <td>1.0</td>\n",
       "      <td>0.0</td>\n",
       "      <td>0.0</td>\n",
       "      <td>0.0</td>\n",
       "      <td>0.0</td>\n",
       "      <td>0.0</td>\n",
       "      <td>0.0</td>\n",
       "      <td>1.0</td>\n",
       "      <td>0.04</td>\n",
       "    </tr>\n",
       "    <tr>\n",
       "      <th>55647</th>\n",
       "      <td>zero shot learning</td>\n",
       "      <td>word2vec</td>\n",
       "      <td>repomap_code2doc_generated_readme</td>\n",
       "      <td>0.0</td>\n",
       "      <td>1.0</td>\n",
       "      <td>1.0</td>\n",
       "      <td>2.0</td>\n",
       "      <td>0.0</td>\n",
       "      <td>0.0</td>\n",
       "      <td>1.0</td>\n",
       "      <td>0.2</td>\n",
       "      <td>1.0</td>\n",
       "      <td>0.1</td>\n",
       "      <td>1.0</td>\n",
       "      <td>0.08</td>\n",
       "    </tr>\n",
       "    <tr>\n",
       "      <th>55648</th>\n",
       "      <td>zero shot learning</td>\n",
       "      <td>word2vec</td>\n",
       "      <td>repository_signature</td>\n",
       "      <td>0.0</td>\n",
       "      <td>0.0</td>\n",
       "      <td>1.0</td>\n",
       "      <td>3.0</td>\n",
       "      <td>0.0</td>\n",
       "      <td>0.0</td>\n",
       "      <td>0.0</td>\n",
       "      <td>0.0</td>\n",
       "      <td>1.0</td>\n",
       "      <td>0.1</td>\n",
       "      <td>1.0</td>\n",
       "      <td>0.12</td>\n",
       "    </tr>\n",
       "    <tr>\n",
       "      <th>55649</th>\n",
       "      <td>zero shot learning</td>\n",
       "      <td>word2vec</td>\n",
       "      <td>selected_code</td>\n",
       "      <td>0.0</td>\n",
       "      <td>0.0</td>\n",
       "      <td>0.0</td>\n",
       "      <td>0.0</td>\n",
       "      <td>0.0</td>\n",
       "      <td>0.0</td>\n",
       "      <td>0.0</td>\n",
       "      <td>0.0</td>\n",
       "      <td>0.0</td>\n",
       "      <td>0.0</td>\n",
       "      <td>0.0</td>\n",
       "      <td>0.00</td>\n",
       "    </tr>\n",
       "  </tbody>\n",
       "</table>\n",
       "<p>55650 rows × 15 columns</p>\n",
       "</div>"
      ],
      "text/plain": [
       "                          query retriever                             corpus  \\\n",
       "0      2d human pose estimation      bm25             code2doc_files_summary   \n",
       "1      2d human pose estimation      bm25          code2doc_generated_readme   \n",
       "2      2d human pose estimation      bm25     dep_sig_code2doc_files_summary   \n",
       "3      2d human pose estimation      bm25  dep_sig_code2doc_generated_readme   \n",
       "4      2d human pose estimation      bm25               dependency_signature   \n",
       "...                         ...       ...                                ...   \n",
       "55645        zero shot learning  word2vec                            repomap   \n",
       "55646        zero shot learning  word2vec     repomap_code2doc_files_summary   \n",
       "55647        zero shot learning  word2vec  repomap_code2doc_generated_readme   \n",
       "55648        zero shot learning  word2vec               repository_signature   \n",
       "55649        zero shot learning  word2vec                      selected_code   \n",
       "\n",
       "       hits@1  hits@5  hits@10  hits@25  accuracy@1  precision@1  accuracy@5  \\\n",
       "0         0.0     0.0      2.0      6.0         0.0          0.0         0.0   \n",
       "1         0.0     2.0      2.0      8.0         0.0          0.0         1.0   \n",
       "2         0.0     1.0      3.0      5.0         0.0          0.0         1.0   \n",
       "3         0.0     1.0      3.0      6.0         0.0          0.0         1.0   \n",
       "4         0.0     1.0      4.0      5.0         0.0          0.0         1.0   \n",
       "...       ...     ...      ...      ...         ...          ...         ...   \n",
       "55645     0.0     0.0      0.0      0.0         0.0          0.0         0.0   \n",
       "55646     0.0     0.0      0.0      1.0         0.0          0.0         0.0   \n",
       "55647     0.0     1.0      1.0      2.0         0.0          0.0         1.0   \n",
       "55648     0.0     0.0      1.0      3.0         0.0          0.0         0.0   \n",
       "55649     0.0     0.0      0.0      0.0         0.0          0.0         0.0   \n",
       "\n",
       "       precision@5  accuracy@10  precision@10  accuracy@25  precision@25  \n",
       "0              0.0          1.0           0.2          1.0          0.24  \n",
       "1              0.4          1.0           0.2          1.0          0.32  \n",
       "2              0.2          1.0           0.3          1.0          0.20  \n",
       "3              0.2          1.0           0.3          1.0          0.24  \n",
       "4              0.2          1.0           0.4          1.0          0.20  \n",
       "...            ...          ...           ...          ...           ...  \n",
       "55645          0.0          0.0           0.0          0.0          0.00  \n",
       "55646          0.0          0.0           0.0          1.0          0.04  \n",
       "55647          0.2          1.0           0.1          1.0          0.08  \n",
       "55648          0.0          1.0           0.1          1.0          0.12  \n",
       "55649          0.0          0.0           0.0          0.0          0.00  \n",
       "\n",
       "[55650 rows x 15 columns]"
      ]
     },
     "execution_count": 38,
     "metadata": {},
     "output_type": "execute_result"
    }
   ],
   "source": [
    "per_query_metrics_df"
   ]
  },
  {
   "cell_type": "code",
   "execution_count": 39,
   "id": "c0b12b2a-3bca-4495-b759-582303767ecb",
   "metadata": {},
   "outputs": [
    {
     "data": {
      "text/plain": [
       "task\n",
       "general classification                   357\n",
       "reinforcement learning                   331\n",
       "semantic segmentation                    311\n",
       "translation                              285\n",
       "object detection                         272\n",
       "                                        ... \n",
       "blind image deblurring                     1\n",
       "interactive video object segmentation      1\n",
       "action understanding                       1\n",
       "stereo disparity estimation                1\n",
       "hyperspectral image super resolution       1\n",
       "Name: count, Length: 1173, dtype: int64"
      ]
     },
     "execution_count": 39,
     "metadata": {},
     "output_type": "execute_result"
    }
   ],
   "source": [
    "generation_metrics_df[\"task\"].explode().value_counts()"
   ]
  },
  {
   "cell_type": "code",
   "execution_count": 40,
   "id": "aeb9d230-aa05-4c3c-8509-2102771b954a",
   "metadata": {},
   "outputs": [],
   "source": [
    "#generation_metrics_df[\"true_tasks\"] = generation_metrics_df[\"true_tasks\"].str.replace(\"'\", '\"').apply(json.loads)"
   ]
  },
  {
   "cell_type": "code",
   "execution_count": 41,
   "id": "0b7761fd-0397-4ad5-8025-d816c27ffd31",
   "metadata": {},
   "outputs": [
    {
     "data": {
      "text/html": [
       "<div>\n",
       "<style scoped>\n",
       "    .dataframe tbody tr th:only-of-type {\n",
       "        vertical-align: middle;\n",
       "    }\n",
       "\n",
       "    .dataframe tbody tr th {\n",
       "        vertical-align: top;\n",
       "    }\n",
       "\n",
       "    .dataframe thead th {\n",
       "        text-align: right;\n",
       "    }\n",
       "</style>\n",
       "<table border=\"1\" class=\"dataframe\">\n",
       "  <thead>\n",
       "    <tr style=\"text-align: right;\">\n",
       "      <th></th>\n",
       "      <th>repo</th>\n",
       "      <th>task</th>\n",
       "      <th>rouge1</th>\n",
       "      <th>rouge2</th>\n",
       "      <th>rougeL</th>\n",
       "      <th>rougeLsum</th>\n",
       "      <th>sentence_transformer_similarity</th>\n",
       "    </tr>\n",
       "  </thead>\n",
       "  <tbody>\n",
       "    <tr>\n",
       "      <th>0</th>\n",
       "      <td>008karan/SincNet_demo</td>\n",
       "      <td>[speaker recognition, speaker identification, ...</td>\n",
       "      <td>0.363636</td>\n",
       "      <td>0.222222</td>\n",
       "      <td>0.363636</td>\n",
       "      <td>0.363636</td>\n",
       "      <td>0.723902</td>\n",
       "    </tr>\n",
       "    <tr>\n",
       "      <th>1</th>\n",
       "      <td>011235813/cm3</td>\n",
       "      <td>[efficient exploration, autonomous vehicles, m...</td>\n",
       "      <td>0.666667</td>\n",
       "      <td>0.625000</td>\n",
       "      <td>0.666667</td>\n",
       "      <td>0.666667</td>\n",
       "      <td>0.723890</td>\n",
       "    </tr>\n",
       "    <tr>\n",
       "      <th>2</th>\n",
       "      <td>011235813/hierarchical-marl</td>\n",
       "      <td>[q learning, multi agent reinforcement learnin...</td>\n",
       "      <td>0.800000</td>\n",
       "      <td>0.615385</td>\n",
       "      <td>0.800000</td>\n",
       "      <td>0.800000</td>\n",
       "      <td>0.841959</td>\n",
       "    </tr>\n",
       "    <tr>\n",
       "      <th>3</th>\n",
       "      <td>011235813/lio</td>\n",
       "      <td>[general reinforcement learning]</td>\n",
       "      <td>0.363636</td>\n",
       "      <td>0.222222</td>\n",
       "      <td>0.363636</td>\n",
       "      <td>0.363636</td>\n",
       "      <td>0.555174</td>\n",
       "    </tr>\n",
       "    <tr>\n",
       "      <th>4</th>\n",
       "      <td>0411tony/Yue</td>\n",
       "      <td>[recommendation systems]</td>\n",
       "      <td>0.250000</td>\n",
       "      <td>0.000000</td>\n",
       "      <td>0.250000</td>\n",
       "      <td>0.250000</td>\n",
       "      <td>0.626208</td>\n",
       "    </tr>\n",
       "    <tr>\n",
       "      <th>...</th>\n",
       "      <td>...</td>\n",
       "      <td>...</td>\n",
       "      <td>...</td>\n",
       "      <td>...</td>\n",
       "      <td>...</td>\n",
       "      <td>...</td>\n",
       "      <td>...</td>\n",
       "    </tr>\n",
       "    <tr>\n",
       "      <th>6775</th>\n",
       "      <td>zwx8981/DBCNN-PyTorch</td>\n",
       "      <td>[image quality assessment, blind image quality...</td>\n",
       "      <td>0.500000</td>\n",
       "      <td>0.428571</td>\n",
       "      <td>0.500000</td>\n",
       "      <td>0.500000</td>\n",
       "      <td>0.822270</td>\n",
       "    </tr>\n",
       "    <tr>\n",
       "      <th>6776</th>\n",
       "      <td>zwx8981/UNIQUE</td>\n",
       "      <td>[image quality assessment, blind image quality...</td>\n",
       "      <td>0.000000</td>\n",
       "      <td>0.000000</td>\n",
       "      <td>0.000000</td>\n",
       "      <td>0.000000</td>\n",
       "      <td>0.417615</td>\n",
       "    </tr>\n",
       "    <tr>\n",
       "      <th>6777</th>\n",
       "      <td>zxleong/GPRNet</td>\n",
       "      <td>[semantic segmentation, seismic imaging, gpr, ...</td>\n",
       "      <td>0.000000</td>\n",
       "      <td>0.000000</td>\n",
       "      <td>0.000000</td>\n",
       "      <td>0.000000</td>\n",
       "      <td>0.416624</td>\n",
       "    </tr>\n",
       "    <tr>\n",
       "      <th>6778</th>\n",
       "      <td>zychen423/KE-VIST</td>\n",
       "      <td>[visual storytelling, knowledge graphs, story ...</td>\n",
       "      <td>0.117647</td>\n",
       "      <td>0.000000</td>\n",
       "      <td>0.117647</td>\n",
       "      <td>0.117647</td>\n",
       "      <td>0.527462</td>\n",
       "    </tr>\n",
       "    <tr>\n",
       "      <th>6779</th>\n",
       "      <td>zysszy/TreeGen</td>\n",
       "      <td>[code completion, code generation, program rep...</td>\n",
       "      <td>0.428571</td>\n",
       "      <td>0.166667</td>\n",
       "      <td>0.285714</td>\n",
       "      <td>0.285714</td>\n",
       "      <td>0.590602</td>\n",
       "    </tr>\n",
       "  </tbody>\n",
       "</table>\n",
       "<p>6780 rows × 7 columns</p>\n",
       "</div>"
      ],
      "text/plain": [
       "                             repo  \\\n",
       "0           008karan/SincNet_demo   \n",
       "1                   011235813/cm3   \n",
       "2     011235813/hierarchical-marl   \n",
       "3                   011235813/lio   \n",
       "4                    0411tony/Yue   \n",
       "...                           ...   \n",
       "6775        zwx8981/DBCNN-PyTorch   \n",
       "6776               zwx8981/UNIQUE   \n",
       "6777               zxleong/GPRNet   \n",
       "6778            zychen423/KE-VIST   \n",
       "6779               zysszy/TreeGen   \n",
       "\n",
       "                                                   task    rouge1    rouge2  \\\n",
       "0     [speaker recognition, speaker identification, ...  0.363636  0.222222   \n",
       "1     [efficient exploration, autonomous vehicles, m...  0.666667  0.625000   \n",
       "2     [q learning, multi agent reinforcement learnin...  0.800000  0.615385   \n",
       "3                      [general reinforcement learning]  0.363636  0.222222   \n",
       "4                              [recommendation systems]  0.250000  0.000000   \n",
       "...                                                 ...       ...       ...   \n",
       "6775  [image quality assessment, blind image quality...  0.500000  0.428571   \n",
       "6776  [image quality assessment, blind image quality...  0.000000  0.000000   \n",
       "6777  [semantic segmentation, seismic imaging, gpr, ...  0.000000  0.000000   \n",
       "6778  [visual storytelling, knowledge graphs, story ...  0.117647  0.000000   \n",
       "6779  [code completion, code generation, program rep...  0.428571  0.166667   \n",
       "\n",
       "        rougeL  rougeLsum  sentence_transformer_similarity  \n",
       "0     0.363636   0.363636                         0.723902  \n",
       "1     0.666667   0.666667                         0.723890  \n",
       "2     0.800000   0.800000                         0.841959  \n",
       "3     0.363636   0.363636                         0.555174  \n",
       "4     0.250000   0.250000                         0.626208  \n",
       "...        ...        ...                              ...  \n",
       "6775  0.500000   0.500000                         0.822270  \n",
       "6776  0.000000   0.000000                         0.417615  \n",
       "6777  0.000000   0.000000                         0.416624  \n",
       "6778  0.117647   0.117647                         0.527462  \n",
       "6779  0.285714   0.285714                         0.590602  \n",
       "\n",
       "[6780 rows x 7 columns]"
      ]
     },
     "execution_count": 41,
     "metadata": {},
     "output_type": "execute_result"
    }
   ],
   "source": [
    "generation_metrics_df"
   ]
  },
  {
   "cell_type": "code",
   "execution_count": 42,
   "id": "b520cb94-6353-4f4d-afee-aa3f81064a50",
   "metadata": {},
   "outputs": [
    {
     "data": {
      "text/html": [
       "<div>\n",
       "<style scoped>\n",
       "    .dataframe tbody tr th:only-of-type {\n",
       "        vertical-align: middle;\n",
       "    }\n",
       "\n",
       "    .dataframe tbody tr th {\n",
       "        vertical-align: top;\n",
       "    }\n",
       "\n",
       "    .dataframe thead th {\n",
       "        text-align: right;\n",
       "    }\n",
       "</style>\n",
       "<table border=\"1\" class=\"dataframe\">\n",
       "  <thead>\n",
       "    <tr style=\"text-align: right;\">\n",
       "      <th></th>\n",
       "      <th>repo</th>\n",
       "      <th>task</th>\n",
       "      <th>rouge1</th>\n",
       "      <th>rouge2</th>\n",
       "      <th>rougeL</th>\n",
       "      <th>rougeLsum</th>\n",
       "      <th>sentence_transformer_similarity</th>\n",
       "    </tr>\n",
       "  </thead>\n",
       "  <tbody>\n",
       "    <tr>\n",
       "      <th>0</th>\n",
       "      <td>008karan/SincNet_demo</td>\n",
       "      <td>[speaker recognition, speaker identification, ...</td>\n",
       "      <td>0.363636</td>\n",
       "      <td>0.222222</td>\n",
       "      <td>0.363636</td>\n",
       "      <td>0.363636</td>\n",
       "      <td>0.723902</td>\n",
       "    </tr>\n",
       "    <tr>\n",
       "      <th>1</th>\n",
       "      <td>011235813/cm3</td>\n",
       "      <td>[efficient exploration, autonomous vehicles, m...</td>\n",
       "      <td>0.666667</td>\n",
       "      <td>0.625000</td>\n",
       "      <td>0.666667</td>\n",
       "      <td>0.666667</td>\n",
       "      <td>0.723890</td>\n",
       "    </tr>\n",
       "    <tr>\n",
       "      <th>2</th>\n",
       "      <td>011235813/hierarchical-marl</td>\n",
       "      <td>[q learning, multi agent reinforcement learnin...</td>\n",
       "      <td>0.800000</td>\n",
       "      <td>0.615385</td>\n",
       "      <td>0.800000</td>\n",
       "      <td>0.800000</td>\n",
       "      <td>0.841959</td>\n",
       "    </tr>\n",
       "    <tr>\n",
       "      <th>3</th>\n",
       "      <td>011235813/lio</td>\n",
       "      <td>[general reinforcement learning]</td>\n",
       "      <td>0.363636</td>\n",
       "      <td>0.222222</td>\n",
       "      <td>0.363636</td>\n",
       "      <td>0.363636</td>\n",
       "      <td>0.555174</td>\n",
       "    </tr>\n",
       "    <tr>\n",
       "      <th>4</th>\n",
       "      <td>0411tony/Yue</td>\n",
       "      <td>[recommendation systems]</td>\n",
       "      <td>0.250000</td>\n",
       "      <td>0.000000</td>\n",
       "      <td>0.250000</td>\n",
       "      <td>0.250000</td>\n",
       "      <td>0.626208</td>\n",
       "    </tr>\n",
       "    <tr>\n",
       "      <th>...</th>\n",
       "      <td>...</td>\n",
       "      <td>...</td>\n",
       "      <td>...</td>\n",
       "      <td>...</td>\n",
       "      <td>...</td>\n",
       "      <td>...</td>\n",
       "      <td>...</td>\n",
       "    </tr>\n",
       "    <tr>\n",
       "      <th>6775</th>\n",
       "      <td>zwx8981/DBCNN-PyTorch</td>\n",
       "      <td>[image quality assessment, blind image quality...</td>\n",
       "      <td>0.500000</td>\n",
       "      <td>0.428571</td>\n",
       "      <td>0.500000</td>\n",
       "      <td>0.500000</td>\n",
       "      <td>0.822270</td>\n",
       "    </tr>\n",
       "    <tr>\n",
       "      <th>6776</th>\n",
       "      <td>zwx8981/UNIQUE</td>\n",
       "      <td>[image quality assessment, blind image quality...</td>\n",
       "      <td>0.000000</td>\n",
       "      <td>0.000000</td>\n",
       "      <td>0.000000</td>\n",
       "      <td>0.000000</td>\n",
       "      <td>0.417615</td>\n",
       "    </tr>\n",
       "    <tr>\n",
       "      <th>6777</th>\n",
       "      <td>zxleong/GPRNet</td>\n",
       "      <td>[semantic segmentation, seismic imaging, gpr, ...</td>\n",
       "      <td>0.000000</td>\n",
       "      <td>0.000000</td>\n",
       "      <td>0.000000</td>\n",
       "      <td>0.000000</td>\n",
       "      <td>0.416624</td>\n",
       "    </tr>\n",
       "    <tr>\n",
       "      <th>6778</th>\n",
       "      <td>zychen423/KE-VIST</td>\n",
       "      <td>[visual storytelling, knowledge graphs, story ...</td>\n",
       "      <td>0.117647</td>\n",
       "      <td>0.000000</td>\n",
       "      <td>0.117647</td>\n",
       "      <td>0.117647</td>\n",
       "      <td>0.527462</td>\n",
       "    </tr>\n",
       "    <tr>\n",
       "      <th>6779</th>\n",
       "      <td>zysszy/TreeGen</td>\n",
       "      <td>[code completion, code generation, program rep...</td>\n",
       "      <td>0.428571</td>\n",
       "      <td>0.166667</td>\n",
       "      <td>0.285714</td>\n",
       "      <td>0.285714</td>\n",
       "      <td>0.590602</td>\n",
       "    </tr>\n",
       "  </tbody>\n",
       "</table>\n",
       "<p>6780 rows × 7 columns</p>\n",
       "</div>"
      ],
      "text/plain": [
       "                             repo  \\\n",
       "0           008karan/SincNet_demo   \n",
       "1                   011235813/cm3   \n",
       "2     011235813/hierarchical-marl   \n",
       "3                   011235813/lio   \n",
       "4                    0411tony/Yue   \n",
       "...                           ...   \n",
       "6775        zwx8981/DBCNN-PyTorch   \n",
       "6776               zwx8981/UNIQUE   \n",
       "6777               zxleong/GPRNet   \n",
       "6778            zychen423/KE-VIST   \n",
       "6779               zysszy/TreeGen   \n",
       "\n",
       "                                                   task    rouge1    rouge2  \\\n",
       "0     [speaker recognition, speaker identification, ...  0.363636  0.222222   \n",
       "1     [efficient exploration, autonomous vehicles, m...  0.666667  0.625000   \n",
       "2     [q learning, multi agent reinforcement learnin...  0.800000  0.615385   \n",
       "3                      [general reinforcement learning]  0.363636  0.222222   \n",
       "4                              [recommendation systems]  0.250000  0.000000   \n",
       "...                                                 ...       ...       ...   \n",
       "6775  [image quality assessment, blind image quality...  0.500000  0.428571   \n",
       "6776  [image quality assessment, blind image quality...  0.000000  0.000000   \n",
       "6777  [semantic segmentation, seismic imaging, gpr, ...  0.000000  0.000000   \n",
       "6778  [visual storytelling, knowledge graphs, story ...  0.117647  0.000000   \n",
       "6779  [code completion, code generation, program rep...  0.428571  0.166667   \n",
       "\n",
       "        rougeL  rougeLsum  sentence_transformer_similarity  \n",
       "0     0.363636   0.363636                         0.723902  \n",
       "1     0.666667   0.666667                         0.723890  \n",
       "2     0.800000   0.800000                         0.841959  \n",
       "3     0.363636   0.363636                         0.555174  \n",
       "4     0.250000   0.250000                         0.626208  \n",
       "...        ...        ...                              ...  \n",
       "6775  0.500000   0.500000                         0.822270  \n",
       "6776  0.000000   0.000000                         0.417615  \n",
       "6777  0.000000   0.000000                         0.416624  \n",
       "6778  0.117647   0.117647                         0.527462  \n",
       "6779  0.285714   0.285714                         0.590602  \n",
       "\n",
       "[6780 rows x 7 columns]"
      ]
     },
     "execution_count": 42,
     "metadata": {},
     "output_type": "execute_result"
    }
   ],
   "source": [
    "generation_metrics_df"
   ]
  },
  {
   "cell_type": "code",
   "execution_count": 43,
   "id": "d0d2b691-25fb-4499-ac27-0a4c5d4b53cb",
   "metadata": {},
   "outputs": [],
   "source": [
    "generation_metric_names = [\n",
    " 'rouge1',\n",
    " 'rouge2',\n",
    " 'rougeL',\n",
    " 'rougeLsum',\n",
    " 'sentence_transformer_similarity',\n",
    " 'wmd']"
   ]
  },
  {
   "cell_type": "code",
   "execution_count": null,
   "id": "7a60498d-0200-429a-a10b-07c62b02dcf7",
   "metadata": {},
   "outputs": [],
   "source": []
  },
  {
   "cell_type": "code",
   "execution_count": 44,
   "id": "1cb7a70d-5710-4edf-8eaf-dc9372ec880f",
   "metadata": {},
   "outputs": [
    {
     "data": {
      "text/html": [
       "<div>\n",
       "<style scoped>\n",
       "    .dataframe tbody tr th:only-of-type {\n",
       "        vertical-align: middle;\n",
       "    }\n",
       "\n",
       "    .dataframe tbody tr th {\n",
       "        vertical-align: top;\n",
       "    }\n",
       "\n",
       "    .dataframe thead th {\n",
       "        text-align: right;\n",
       "    }\n",
       "</style>\n",
       "<table border=\"1\" class=\"dataframe\">\n",
       "  <thead>\n",
       "    <tr style=\"text-align: right;\">\n",
       "      <th></th>\n",
       "      <th>query</th>\n",
       "      <th>retriever</th>\n",
       "      <th>corpus</th>\n",
       "      <th>hits@1</th>\n",
       "      <th>hits@5</th>\n",
       "      <th>hits@10</th>\n",
       "      <th>hits@25</th>\n",
       "      <th>accuracy@1</th>\n",
       "      <th>precision@1</th>\n",
       "      <th>accuracy@5</th>\n",
       "      <th>precision@5</th>\n",
       "      <th>accuracy@10</th>\n",
       "      <th>precision@10</th>\n",
       "      <th>accuracy@25</th>\n",
       "      <th>precision@25</th>\n",
       "    </tr>\n",
       "  </thead>\n",
       "  <tbody>\n",
       "    <tr>\n",
       "      <th>0</th>\n",
       "      <td>2d human pose estimation</td>\n",
       "      <td>bm25</td>\n",
       "      <td>code2doc_files_summary</td>\n",
       "      <td>0.0</td>\n",
       "      <td>0.0</td>\n",
       "      <td>2.0</td>\n",
       "      <td>6.0</td>\n",
       "      <td>0.0</td>\n",
       "      <td>0.0</td>\n",
       "      <td>0.0</td>\n",
       "      <td>0.0</td>\n",
       "      <td>1.0</td>\n",
       "      <td>0.2</td>\n",
       "      <td>1.0</td>\n",
       "      <td>0.24</td>\n",
       "    </tr>\n",
       "    <tr>\n",
       "      <th>1</th>\n",
       "      <td>2d human pose estimation</td>\n",
       "      <td>bm25</td>\n",
       "      <td>code2doc_generated_readme</td>\n",
       "      <td>0.0</td>\n",
       "      <td>2.0</td>\n",
       "      <td>2.0</td>\n",
       "      <td>8.0</td>\n",
       "      <td>0.0</td>\n",
       "      <td>0.0</td>\n",
       "      <td>1.0</td>\n",
       "      <td>0.4</td>\n",
       "      <td>1.0</td>\n",
       "      <td>0.2</td>\n",
       "      <td>1.0</td>\n",
       "      <td>0.32</td>\n",
       "    </tr>\n",
       "    <tr>\n",
       "      <th>2</th>\n",
       "      <td>2d human pose estimation</td>\n",
       "      <td>bm25</td>\n",
       "      <td>dep_sig_code2doc_files_summary</td>\n",
       "      <td>0.0</td>\n",
       "      <td>1.0</td>\n",
       "      <td>3.0</td>\n",
       "      <td>5.0</td>\n",
       "      <td>0.0</td>\n",
       "      <td>0.0</td>\n",
       "      <td>1.0</td>\n",
       "      <td>0.2</td>\n",
       "      <td>1.0</td>\n",
       "      <td>0.3</td>\n",
       "      <td>1.0</td>\n",
       "      <td>0.20</td>\n",
       "    </tr>\n",
       "    <tr>\n",
       "      <th>3</th>\n",
       "      <td>2d human pose estimation</td>\n",
       "      <td>bm25</td>\n",
       "      <td>dep_sig_code2doc_generated_readme</td>\n",
       "      <td>0.0</td>\n",
       "      <td>1.0</td>\n",
       "      <td>3.0</td>\n",
       "      <td>6.0</td>\n",
       "      <td>0.0</td>\n",
       "      <td>0.0</td>\n",
       "      <td>1.0</td>\n",
       "      <td>0.2</td>\n",
       "      <td>1.0</td>\n",
       "      <td>0.3</td>\n",
       "      <td>1.0</td>\n",
       "      <td>0.24</td>\n",
       "    </tr>\n",
       "    <tr>\n",
       "      <th>4</th>\n",
       "      <td>2d human pose estimation</td>\n",
       "      <td>bm25</td>\n",
       "      <td>dependency_signature</td>\n",
       "      <td>0.0</td>\n",
       "      <td>1.0</td>\n",
       "      <td>4.0</td>\n",
       "      <td>5.0</td>\n",
       "      <td>0.0</td>\n",
       "      <td>0.0</td>\n",
       "      <td>1.0</td>\n",
       "      <td>0.2</td>\n",
       "      <td>1.0</td>\n",
       "      <td>0.4</td>\n",
       "      <td>1.0</td>\n",
       "      <td>0.20</td>\n",
       "    </tr>\n",
       "  </tbody>\n",
       "</table>\n",
       "</div>"
      ],
      "text/plain": [
       "                      query retriever                             corpus  \\\n",
       "0  2d human pose estimation      bm25             code2doc_files_summary   \n",
       "1  2d human pose estimation      bm25          code2doc_generated_readme   \n",
       "2  2d human pose estimation      bm25     dep_sig_code2doc_files_summary   \n",
       "3  2d human pose estimation      bm25  dep_sig_code2doc_generated_readme   \n",
       "4  2d human pose estimation      bm25               dependency_signature   \n",
       "\n",
       "   hits@1  hits@5  hits@10  hits@25  accuracy@1  precision@1  accuracy@5  \\\n",
       "0     0.0     0.0      2.0      6.0         0.0          0.0         0.0   \n",
       "1     0.0     2.0      2.0      8.0         0.0          0.0         1.0   \n",
       "2     0.0     1.0      3.0      5.0         0.0          0.0         1.0   \n",
       "3     0.0     1.0      3.0      6.0         0.0          0.0         1.0   \n",
       "4     0.0     1.0      4.0      5.0         0.0          0.0         1.0   \n",
       "\n",
       "   precision@5  accuracy@10  precision@10  accuracy@25  precision@25  \n",
       "0          0.0          1.0           0.2          1.0          0.24  \n",
       "1          0.4          1.0           0.2          1.0          0.32  \n",
       "2          0.2          1.0           0.3          1.0          0.20  \n",
       "3          0.2          1.0           0.3          1.0          0.24  \n",
       "4          0.2          1.0           0.4          1.0          0.20  "
      ]
     },
     "execution_count": 44,
     "metadata": {},
     "output_type": "execute_result"
    }
   ],
   "source": [
    "per_query_metrics_df.head()"
   ]
  },
  {
   "cell_type": "code",
   "execution_count": 45,
   "id": "4b01e297-3b6c-4967-bbca-71f0a32717f5",
   "metadata": {},
   "outputs": [
    {
     "data": {
      "text/plain": [
       "(1173, 5)"
      ]
     },
     "execution_count": 45,
     "metadata": {},
     "output_type": "execute_result"
    }
   ],
   "source": [
    "per_query_generation_metrics_df.shape"
   ]
  },
  {
   "cell_type": "code",
   "execution_count": 46,
   "id": "2f45059c-7ed6-4882-9a1f-0ea5261bb828",
   "metadata": {},
   "outputs": [],
   "source": [
    "retriever_name = \"bm25\"\n",
    "corpus_name = \"readme\"\n"
   ]
  },
  {
   "cell_type": "code",
   "execution_count": 47,
   "id": "0985d2bc-4fd9-4383-a524-bba02bd5b7df",
   "metadata": {},
   "outputs": [
    {
     "data": {
      "text/plain": [
       "array(['bm25', 'sentence-transformers/all-MiniLM-L12-v2',\n",
       "       'sentence-transformers/all-mpnet-base-v2',\n",
       "       'sentence-transformers/static-retrieval-mrl-en-v1', 'word2vec'],\n",
       "      dtype=object)"
      ]
     },
     "execution_count": 47,
     "metadata": {},
     "output_type": "execute_result"
    }
   ],
   "source": [
    "per_query_metrics_df[\"retriever\"].unique()"
   ]
  },
  {
   "cell_type": "code",
   "execution_count": 70,
   "id": "22cdc17f-2c3e-4041-b388-8ee6b989c9b8",
   "metadata": {},
   "outputs": [
    {
     "data": {
      "text/plain": [
       "array(['code2doc_files_summary', 'code2doc_generated_readme',\n",
       "       'dep_sig_code2doc_files_summary',\n",
       "       'dep_sig_code2doc_generated_readme', 'dependency_signature',\n",
       "       'flat_code2doc_generated_readme',\n",
       "       'flat_dep_sig_code2doc_generated_readme',\n",
       "       'flat_repomap_code2doc_generated_readme', 'generated_tasks',\n",
       "       'readme', 'repomap', 'repomap_code2doc_files_summary',\n",
       "       'repomap_code2doc_generated_readme', 'repository_signature',\n",
       "       'selected_code'], dtype=object)"
      ]
     },
     "execution_count": 70,
     "metadata": {},
     "output_type": "execute_result"
    }
   ],
   "source": [
    "per_query_metrics_df[\"corpus\"].unique()"
   ]
  },
  {
   "cell_type": "code",
   "execution_count": 71,
   "id": "fbda8f93-c355-4f5e-b5ba-339ee2d088ac",
   "metadata": {},
   "outputs": [],
   "source": [
    "checked_corpora = [\n",
    "       'dependency_signature', 'repository_signature', 'generated_tasks'\n",
    "] + [\"code2doc_generated_readme\", \"flat_code2doc_generated_readme\"]\n",
    "\n",
    "checked_retrievers = ['bm25', 'sentence-transformers/all-mpnet-base-v2',\n",
    "       'sentence-transformers/all-MiniLM-L12-v2',\n",
    "       #'flax-sentence-embeddings/st-codesearch-distilroberta-base'\n",
    "]\n"
   ]
  },
  {
   "cell_type": "code",
   "execution_count": 72,
   "id": "e28bf4e0-ee96-4d9c-9cfd-63d95c96b938",
   "metadata": {},
   "outputs": [],
   "source": [
    "import seaborn as sns\n",
    "import matplotlib.pyplot as plt"
   ]
  },
  {
   "cell_type": "code",
   "execution_count": 73,
   "id": "81d772b9-6458-4145-a149-896e4235b4e5",
   "metadata": {},
   "outputs": [],
   "source": [
    "shown_generation_metrics = [\"rougeL\"]#, \"sentence_transformer_similarity\"]\n",
    "\n",
    "\n",
    "def get_worst_queries(df, q=0.1, metrics=shown_generation_metrics):\n",
    "    is_lowest = (df[metrics] < df[metrics].quantile(q)).min(axis=1) > 0\n",
    "    return df[is_lowest].index"
   ]
  },
  {
   "cell_type": "code",
   "execution_count": 74,
   "id": "e7b10aba-9ba8-40c4-a15f-88680e74189c",
   "metadata": {},
   "outputs": [],
   "source": [
    "worst_queries = get_worst_queries(per_query_generation_metrics_df, q=0.1)"
   ]
  },
  {
   "cell_type": "code",
   "execution_count": 75,
   "id": "f48d873c-2c28-4b93-87a4-695a4a370167",
   "metadata": {},
   "outputs": [
    {
     "data": {
      "text/plain": [
       "118"
      ]
     },
     "execution_count": 75,
     "metadata": {},
     "output_type": "execute_result"
    }
   ],
   "source": [
    "len(worst_queries)"
   ]
  },
  {
   "cell_type": "code",
   "execution_count": 76,
   "id": "b6fec868-b3b6-49ba-b2ca-9cbc88e90cdd",
   "metadata": {},
   "outputs": [
    {
     "data": {
      "text/plain": [
       "0.1288888333888334"
      ]
     },
     "execution_count": 76,
     "metadata": {},
     "output_type": "execute_result"
    }
   ],
   "source": [
    "per_query_generation_metrics_df[\"rougeL\"].quantile(0.2)"
   ]
  },
  {
   "cell_type": "code",
   "execution_count": 77,
   "id": "3b81fc97-34ad-4723-bd30-c0be4ccf5587",
   "metadata": {},
   "outputs": [
    {
     "data": {
      "text/plain": [
       "0        2d human pose estimation\n",
       "1        2d human pose estimation\n",
       "2        2d human pose estimation\n",
       "3        2d human pose estimation\n",
       "4        2d human pose estimation\n",
       "                   ...           \n",
       "55645          zero shot learning\n",
       "55646          zero shot learning\n",
       "55647          zero shot learning\n",
       "55648          zero shot learning\n",
       "55649          zero shot learning\n",
       "Name: query, Length: 55650, dtype: object"
      ]
     },
     "execution_count": 77,
     "metadata": {},
     "output_type": "execute_result"
    }
   ],
   "source": [
    "per_query_metrics_df[\"query\"]"
   ]
  },
  {
   "cell_type": "code",
   "execution_count": 78,
   "id": "342b9541-f1af-4092-9c8b-11374b88a2f2",
   "metadata": {},
   "outputs": [
    {
     "data": {
      "text/plain": [
       "<seaborn.axisgrid.PairGrid at 0x771a18f3d250>"
      ]
     },
     "execution_count": 78,
     "metadata": {},
     "output_type": "execute_result"
    },
    {
     "data": {
      "image/png": "[encoded data removed]",
      "text/plain": [
       "<Figure size 1000x1000 with 20 Axes>"
      ]
     },
     "metadata": {},
     "output_type": "display_data"
    }
   ],
   "source": [
    "sns.pairplot(per_query_metrics_df.merge(per_query_generation_metrics_df, left_on=\"query\", right_index=True)[[\"accuracy@10\", \"hits@10\", \"rougeL\", \"sentence_transformer_similarity\"]])"
   ]
  },
  {
   "cell_type": "code",
   "execution_count": 79,
   "id": "335e5e12-84be-4ea2-b699-2bf38c58d4b2",
   "metadata": {},
   "outputs": [
    {
     "data": {
      "text/plain": [
       "(118,)"
      ]
     },
     "execution_count": 79,
     "metadata": {},
     "output_type": "execute_result"
    }
   ],
   "source": [
    "worst_queries.shape"
   ]
  },
  {
   "cell_type": "code",
   "execution_count": 80,
   "id": "4a7c037b-09b1-4a3b-8b34-eaba3e756a5d",
   "metadata": {},
   "outputs": [
    {
     "name": "stdout",
     "output_type": "stream",
     "text": [
      "dependency_signature bm25\n"
     ]
    },
    {
     "data": {
      "image/png": "[encoded data removed]",
      "text/plain": [
       "<Figure size 640x480 with 2 Axes>"
      ]
     },
     "metadata": {},
     "output_type": "display_data"
    },
    {
     "name": "stdout",
     "output_type": "stream",
     "text": [
      "dependency_signature sentence-transformers/all-mpnet-base-v2\n"
     ]
    },
    {
     "data": {
      "image/png": "[encoded data removed]",
      "text/plain": [
       "<Figure size 640x480 with 2 Axes>"
      ]
     },
     "metadata": {},
     "output_type": "display_data"
    },
    {
     "name": "stdout",
     "output_type": "stream",
     "text": [
      "dependency_signature sentence-transformers/all-MiniLM-L12-v2\n"
     ]
    },
    {
     "data": {
      "image/png": "[encoded data removed]",
      "text/plain": [
       "<Figure size 640x480 with 2 Axes>"
      ]
     },
     "metadata": {},
     "output_type": "display_data"
    },
    {
     "name": "stdout",
     "output_type": "stream",
     "text": [
      "repository_signature bm25\n"
     ]
    },
    {
     "data": {
      "image/png": "[encoded data removed]",
      "text/plain": [
       "<Figure size 640x480 with 2 Axes>"
      ]
     },
     "metadata": {},
     "output_type": "display_data"
    },
    {
     "name": "stdout",
     "output_type": "stream",
     "text": [
      "repository_signature sentence-transformers/all-mpnet-base-v2\n"
     ]
    },
    {
     "data": {
      "image/png": "[encoded data removed]",
      "text/plain": [
       "<Figure size 640x480 with 2 Axes>"
      ]
     },
     "metadata": {},
     "output_type": "display_data"
    },
    {
     "name": "stdout",
     "output_type": "stream",
     "text": [
      "repository_signature sentence-transformers/all-MiniLM-L12-v2\n"
     ]
    },
    {
     "data": {
      "image/png": "[encoded data removed]",
      "text/plain": [
       "<Figure size 640x480 with 2 Axes>"
      ]
     },
     "metadata": {},
     "output_type": "display_data"
    },
    {
     "name": "stdout",
     "output_type": "stream",
     "text": [
      "generated_tasks bm25\n"
     ]
    },
    {
     "data": {
      "image/png": "[encoded data removed]",
      "text/plain": [
       "<Figure size 640x480 with 2 Axes>"
      ]
     },
     "metadata": {},
     "output_type": "display_data"
    },
    {
     "name": "stdout",
     "output_type": "stream",
     "text": [
      "generated_tasks sentence-transformers/all-mpnet-base-v2\n"
     ]
    },
    {
     "data": {
      "image/png": "[encoded data removed]",
      "text/plain": [
       "<Figure size 640x480 with 2 Axes>"
      ]
     },
     "metadata": {},
     "output_type": "display_data"
    },
    {
     "name": "stdout",
     "output_type": "stream",
     "text": [
      "generated_tasks sentence-transformers/all-MiniLM-L12-v2\n"
     ]
    },
    {
     "data": {
      "image/png": "[encoded data removed]",
      "text/plain": [
       "<Figure size 640x480 with 2 Axes>"
      ]
     },
     "metadata": {},
     "output_type": "display_data"
    },
    {
     "name": "stdout",
     "output_type": "stream",
     "text": [
      "code2doc_generated_readme bm25\n"
     ]
    },
    {
     "data": {
      "image/png": "[encoded data removed]",
      "text/plain": [
       "<Figure size 640x480 with 2 Axes>"
      ]
     },
     "metadata": {},
     "output_type": "display_data"
    },
    {
     "name": "stdout",
     "output_type": "stream",
     "text": [
      "code2doc_generated_readme sentence-transformers/all-mpnet-base-v2\n"
     ]
    },
    {
     "data": {
      "image/png": "[encoded data removed]",
      "text/plain": [
       "<Figure size 640x480 with 2 Axes>"
      ]
     },
     "metadata": {},
     "output_type": "display_data"
    },
    {
     "name": "stdout",
     "output_type": "stream",
     "text": [
      "code2doc_generated_readme sentence-transformers/all-MiniLM-L12-v2\n"
     ]
    },
    {
     "data": {
      "image/png": "[encoded data removed]",
      "text/plain": [
       "<Figure size 640x480 with 2 Axes>"
      ]
     },
     "metadata": {},
     "output_type": "display_data"
    },
    {
     "name": "stdout",
     "output_type": "stream",
     "text": [
      "flat_code2doc_generated_readme bm25\n"
     ]
    },
    {
     "data": {
      "image/png": "[encoded data removed]",
      "text/plain": [
       "<Figure size 640x480 with 2 Axes>"
      ]
     },
     "metadata": {},
     "output_type": "display_data"
    },
    {
     "name": "stdout",
     "output_type": "stream",
     "text": [
      "flat_code2doc_generated_readme sentence-transformers/all-mpnet-base-v2\n"
     ]
    },
    {
     "data": {
      "image/png": "[encoded data removed]",
      "text/plain": [
       "<Figure size 640x480 with 2 Axes>"
      ]
     },
     "metadata": {},
     "output_type": "display_data"
    },
    {
     "name": "stdout",
     "output_type": "stream",
     "text": [
      "flat_code2doc_generated_readme sentence-transformers/all-MiniLM-L12-v2\n"
     ]
    },
    {
     "data": {
      "image/png": "[encoded data removed]",
      "text/plain": [
       "<Figure size 640x480 with 2 Axes>"
      ]
     },
     "metadata": {},
     "output_type": "display_data"
    }
   ],
   "source": [
    "generation_vs_ir_kendall_dfs = []\n",
    "\n",
    "for corpus_name in checked_corpora:\n",
    "    for retriever_name in checked_retrievers:\n",
    "        print(corpus_name, retriever_name)\n",
    "        selected_metrics_df = per_query_metrics_df[\n",
    "            (per_query_metrics_df[\"retriever\"] == retriever_name) &\n",
    "            (per_query_metrics_df[\"corpus\"] == corpus_name)\n",
    "        ][[\"query\", \"accuracy@10\", \"hits@10\"]] \n",
    "        #worst_queries_df = per_query_generation_metrics_df.loc[worst_queries]\n",
    "        corr_df = (\n",
    "            selected_metrics_df\n",
    "                .merge(per_query_generation_metrics_df, left_on=\"query\", right_on=\"task\")\n",
    "                .select_dtypes(\"float\")\n",
    "                .corr(method=\"kendall\").loc[shown_generation_metrics, [\"accuracy@10\", \"hits@10\"]]\n",
    "        )\n",
    "        sns.heatmap(corr_df, annot=True)\n",
    "        plt.show()\n",
    "        corr_df[\"retriever\"] = [retriever_name]\n",
    "        corr_df[\"corpus\"] = [corpus_name]\n",
    "        generation_vs_ir_kendall_dfs.append(corr_df[[\"corpus\", \"retriever\", \"accuracy@10\", \"hits@10\"]])\n",
    "\n",
    "generation_vs_ir_kendall_df = pd.concat(generation_vs_ir_kendall_dfs)"
   ]
  },
  {
   "cell_type": "code",
   "execution_count": 81,
   "id": "45060ada-253d-47d9-aa8c-26d280e41496",
   "metadata": {},
   "outputs": [
    {
     "data": {
      "text/html": [
       "<div>\n",
       "<style scoped>\n",
       "    .dataframe tbody tr th:only-of-type {\n",
       "        vertical-align: middle;\n",
       "    }\n",
       "\n",
       "    .dataframe tbody tr th {\n",
       "        vertical-align: top;\n",
       "    }\n",
       "\n",
       "    .dataframe thead th {\n",
       "        text-align: right;\n",
       "    }\n",
       "</style>\n",
       "<table border=\"1\" class=\"dataframe\">\n",
       "  <thead>\n",
       "    <tr style=\"text-align: right;\">\n",
       "      <th></th>\n",
       "      <th>corpus</th>\n",
       "      <th>retriever</th>\n",
       "      <th>accuracy@10</th>\n",
       "      <th>hits@10</th>\n",
       "    </tr>\n",
       "  </thead>\n",
       "  <tbody>\n",
       "    <tr>\n",
       "      <th>rougeL</th>\n",
       "      <td>dependency_signature</td>\n",
       "      <td>bm25</td>\n",
       "      <td>0.221519</td>\n",
       "      <td>0.216320</td>\n",
       "    </tr>\n",
       "    <tr>\n",
       "      <th>rougeL</th>\n",
       "      <td>dependency_signature</td>\n",
       "      <td>sentence-transformers/all-mpnet-base-v2</td>\n",
       "      <td>0.184308</td>\n",
       "      <td>0.181061</td>\n",
       "    </tr>\n",
       "    <tr>\n",
       "      <th>rougeL</th>\n",
       "      <td>dependency_signature</td>\n",
       "      <td>sentence-transformers/all-MiniLM-L12-v2</td>\n",
       "      <td>0.170397</td>\n",
       "      <td>0.198204</td>\n",
       "    </tr>\n",
       "    <tr>\n",
       "      <th>rougeL</th>\n",
       "      <td>repository_signature</td>\n",
       "      <td>bm25</td>\n",
       "      <td>0.236345</td>\n",
       "      <td>0.276355</td>\n",
       "    </tr>\n",
       "    <tr>\n",
       "      <th>rougeL</th>\n",
       "      <td>repository_signature</td>\n",
       "      <td>sentence-transformers/all-mpnet-base-v2</td>\n",
       "      <td>0.167288</td>\n",
       "      <td>0.208308</td>\n",
       "    </tr>\n",
       "    <tr>\n",
       "      <th>rougeL</th>\n",
       "      <td>repository_signature</td>\n",
       "      <td>sentence-transformers/all-MiniLM-L12-v2</td>\n",
       "      <td>0.167513</td>\n",
       "      <td>0.194265</td>\n",
       "    </tr>\n",
       "    <tr>\n",
       "      <th>rougeL</th>\n",
       "      <td>generated_tasks</td>\n",
       "      <td>bm25</td>\n",
       "      <td>0.232644</td>\n",
       "      <td>0.290266</td>\n",
       "    </tr>\n",
       "    <tr>\n",
       "      <th>rougeL</th>\n",
       "      <td>generated_tasks</td>\n",
       "      <td>sentence-transformers/all-mpnet-base-v2</td>\n",
       "      <td>0.193511</td>\n",
       "      <td>0.277917</td>\n",
       "    </tr>\n",
       "    <tr>\n",
       "      <th>rougeL</th>\n",
       "      <td>generated_tasks</td>\n",
       "      <td>sentence-transformers/all-MiniLM-L12-v2</td>\n",
       "      <td>0.214549</td>\n",
       "      <td>0.298675</td>\n",
       "    </tr>\n",
       "    <tr>\n",
       "      <th>rougeL</th>\n",
       "      <td>code2doc_generated_readme</td>\n",
       "      <td>bm25</td>\n",
       "      <td>0.185982</td>\n",
       "      <td>0.230000</td>\n",
       "    </tr>\n",
       "    <tr>\n",
       "      <th>rougeL</th>\n",
       "      <td>code2doc_generated_readme</td>\n",
       "      <td>sentence-transformers/all-mpnet-base-v2</td>\n",
       "      <td>0.183910</td>\n",
       "      <td>0.207276</td>\n",
       "    </tr>\n",
       "    <tr>\n",
       "      <th>rougeL</th>\n",
       "      <td>code2doc_generated_readme</td>\n",
       "      <td>sentence-transformers/all-MiniLM-L12-v2</td>\n",
       "      <td>0.200861</td>\n",
       "      <td>0.206866</td>\n",
       "    </tr>\n",
       "    <tr>\n",
       "      <th>rougeL</th>\n",
       "      <td>flat_code2doc_generated_readme</td>\n",
       "      <td>bm25</td>\n",
       "      <td>0.151568</td>\n",
       "      <td>0.198508</td>\n",
       "    </tr>\n",
       "    <tr>\n",
       "      <th>rougeL</th>\n",
       "      <td>flat_code2doc_generated_readme</td>\n",
       "      <td>sentence-transformers/all-mpnet-base-v2</td>\n",
       "      <td>0.076701</td>\n",
       "      <td>0.181537</td>\n",
       "    </tr>\n",
       "    <tr>\n",
       "      <th>rougeL</th>\n",
       "      <td>flat_code2doc_generated_readme</td>\n",
       "      <td>sentence-transformers/all-MiniLM-L12-v2</td>\n",
       "      <td>0.121768</td>\n",
       "      <td>0.192258</td>\n",
       "    </tr>\n",
       "  </tbody>\n",
       "</table>\n",
       "</div>"
      ],
      "text/plain": [
       "                                corpus  \\\n",
       "rougeL            dependency_signature   \n",
       "rougeL            dependency_signature   \n",
       "rougeL            dependency_signature   \n",
       "rougeL            repository_signature   \n",
       "rougeL            repository_signature   \n",
       "rougeL            repository_signature   \n",
       "rougeL                 generated_tasks   \n",
       "rougeL                 generated_tasks   \n",
       "rougeL                 generated_tasks   \n",
       "rougeL       code2doc_generated_readme   \n",
       "rougeL       code2doc_generated_readme   \n",
       "rougeL       code2doc_generated_readme   \n",
       "rougeL  flat_code2doc_generated_readme   \n",
       "rougeL  flat_code2doc_generated_readme   \n",
       "rougeL  flat_code2doc_generated_readme   \n",
       "\n",
       "                                      retriever  accuracy@10   hits@10  \n",
       "rougeL                                     bm25     0.221519  0.216320  \n",
       "rougeL  sentence-transformers/all-mpnet-base-v2     0.184308  0.181061  \n",
       "rougeL  sentence-transformers/all-MiniLM-L12-v2     0.170397  0.198204  \n",
       "rougeL                                     bm25     0.236345  0.276355  \n",
       "rougeL  sentence-transformers/all-mpnet-base-v2     0.167288  0.208308  \n",
       "rougeL  sentence-transformers/all-MiniLM-L12-v2     0.167513  0.194265  \n",
       "rougeL                                     bm25     0.232644  0.290266  \n",
       "rougeL  sentence-transformers/all-mpnet-base-v2     0.193511  0.277917  \n",
       "rougeL  sentence-transformers/all-MiniLM-L12-v2     0.214549  0.298675  \n",
       "rougeL                                     bm25     0.185982  0.230000  \n",
       "rougeL  sentence-transformers/all-mpnet-base-v2     0.183910  0.207276  \n",
       "rougeL  sentence-transformers/all-MiniLM-L12-v2     0.200861  0.206866  \n",
       "rougeL                                     bm25     0.151568  0.198508  \n",
       "rougeL  sentence-transformers/all-mpnet-base-v2     0.076701  0.181537  \n",
       "rougeL  sentence-transformers/all-MiniLM-L12-v2     0.121768  0.192258  "
      ]
     },
     "execution_count": 81,
     "metadata": {},
     "output_type": "execute_result"
    }
   ],
   "source": [
    "generation_vs_ir_kendall_df"
   ]
  },
  {
   "cell_type": "code",
   "execution_count": 82,
   "id": "3e6244db-9cb7-440f-a3e6-a90a05b34167",
   "metadata": {},
   "outputs": [
    {
     "data": {
      "text/html": [
       "<div>\n",
       "<style scoped>\n",
       "    .dataframe tbody tr th:only-of-type {\n",
       "        vertical-align: middle;\n",
       "    }\n",
       "\n",
       "    .dataframe tbody tr th {\n",
       "        vertical-align: top;\n",
       "    }\n",
       "\n",
       "    .dataframe thead th {\n",
       "        text-align: right;\n",
       "    }\n",
       "</style>\n",
       "<table border=\"1\" class=\"dataframe\">\n",
       "  <thead>\n",
       "    <tr style=\"text-align: right;\">\n",
       "      <th></th>\n",
       "      <th>corpus</th>\n",
       "      <th>retriever</th>\n",
       "      <th>accuracy@10</th>\n",
       "      <th>hits@10</th>\n",
       "    </tr>\n",
       "  </thead>\n",
       "  <tbody>\n",
       "    <tr>\n",
       "      <th>rougeL</th>\n",
       "      <td>dependency_signature</td>\n",
       "      <td>bm25</td>\n",
       "      <td>0.221519</td>\n",
       "      <td>0.216320</td>\n",
       "    </tr>\n",
       "    <tr>\n",
       "      <th>rougeL</th>\n",
       "      <td>dependency_signature</td>\n",
       "      <td>sentence-transformers/all-mpnet-base-v2</td>\n",
       "      <td>0.184308</td>\n",
       "      <td>0.181061</td>\n",
       "    </tr>\n",
       "    <tr>\n",
       "      <th>rougeL</th>\n",
       "      <td>dependency_signature</td>\n",
       "      <td>sentence-transformers/all-MiniLM-L12-v2</td>\n",
       "      <td>0.170397</td>\n",
       "      <td>0.198204</td>\n",
       "    </tr>\n",
       "    <tr>\n",
       "      <th>rougeL</th>\n",
       "      <td>repository_signature</td>\n",
       "      <td>bm25</td>\n",
       "      <td>0.236345</td>\n",
       "      <td>0.276355</td>\n",
       "    </tr>\n",
       "    <tr>\n",
       "      <th>rougeL</th>\n",
       "      <td>repository_signature</td>\n",
       "      <td>sentence-transformers/all-mpnet-base-v2</td>\n",
       "      <td>0.167288</td>\n",
       "      <td>0.208308</td>\n",
       "    </tr>\n",
       "    <tr>\n",
       "      <th>rougeL</th>\n",
       "      <td>repository_signature</td>\n",
       "      <td>sentence-transformers/all-MiniLM-L12-v2</td>\n",
       "      <td>0.167513</td>\n",
       "      <td>0.194265</td>\n",
       "    </tr>\n",
       "    <tr>\n",
       "      <th>rougeL</th>\n",
       "      <td>generated_tasks</td>\n",
       "      <td>bm25</td>\n",
       "      <td>0.232644</td>\n",
       "      <td>0.290266</td>\n",
       "    </tr>\n",
       "    <tr>\n",
       "      <th>rougeL</th>\n",
       "      <td>generated_tasks</td>\n",
       "      <td>sentence-transformers/all-mpnet-base-v2</td>\n",
       "      <td>0.193511</td>\n",
       "      <td>0.277917</td>\n",
       "    </tr>\n",
       "    <tr>\n",
       "      <th>rougeL</th>\n",
       "      <td>generated_tasks</td>\n",
       "      <td>sentence-transformers/all-MiniLM-L12-v2</td>\n",
       "      <td>0.214549</td>\n",
       "      <td>0.298675</td>\n",
       "    </tr>\n",
       "    <tr>\n",
       "      <th>rougeL</th>\n",
       "      <td>code2doc_generated_readme</td>\n",
       "      <td>bm25</td>\n",
       "      <td>0.185982</td>\n",
       "      <td>0.230000</td>\n",
       "    </tr>\n",
       "    <tr>\n",
       "      <th>rougeL</th>\n",
       "      <td>code2doc_generated_readme</td>\n",
       "      <td>sentence-transformers/all-mpnet-base-v2</td>\n",
       "      <td>0.183910</td>\n",
       "      <td>0.207276</td>\n",
       "    </tr>\n",
       "    <tr>\n",
       "      <th>rougeL</th>\n",
       "      <td>code2doc_generated_readme</td>\n",
       "      <td>sentence-transformers/all-MiniLM-L12-v2</td>\n",
       "      <td>0.200861</td>\n",
       "      <td>0.206866</td>\n",
       "    </tr>\n",
       "    <tr>\n",
       "      <th>rougeL</th>\n",
       "      <td>flat_code2doc_generated_readme</td>\n",
       "      <td>bm25</td>\n",
       "      <td>0.151568</td>\n",
       "      <td>0.198508</td>\n",
       "    </tr>\n",
       "    <tr>\n",
       "      <th>rougeL</th>\n",
       "      <td>flat_code2doc_generated_readme</td>\n",
       "      <td>sentence-transformers/all-mpnet-base-v2</td>\n",
       "      <td>0.076701</td>\n",
       "      <td>0.181537</td>\n",
       "    </tr>\n",
       "    <tr>\n",
       "      <th>rougeL</th>\n",
       "      <td>flat_code2doc_generated_readme</td>\n",
       "      <td>sentence-transformers/all-MiniLM-L12-v2</td>\n",
       "      <td>0.121768</td>\n",
       "      <td>0.192258</td>\n",
       "    </tr>\n",
       "  </tbody>\n",
       "</table>\n",
       "</div>"
      ],
      "text/plain": [
       "                                corpus  \\\n",
       "rougeL            dependency_signature   \n",
       "rougeL            dependency_signature   \n",
       "rougeL            dependency_signature   \n",
       "rougeL            repository_signature   \n",
       "rougeL            repository_signature   \n",
       "rougeL            repository_signature   \n",
       "rougeL                 generated_tasks   \n",
       "rougeL                 generated_tasks   \n",
       "rougeL                 generated_tasks   \n",
       "rougeL       code2doc_generated_readme   \n",
       "rougeL       code2doc_generated_readme   \n",
       "rougeL       code2doc_generated_readme   \n",
       "rougeL  flat_code2doc_generated_readme   \n",
       "rougeL  flat_code2doc_generated_readme   \n",
       "rougeL  flat_code2doc_generated_readme   \n",
       "\n",
       "                                      retriever  accuracy@10   hits@10  \n",
       "rougeL                                     bm25     0.221519  0.216320  \n",
       "rougeL  sentence-transformers/all-mpnet-base-v2     0.184308  0.181061  \n",
       "rougeL  sentence-transformers/all-MiniLM-L12-v2     0.170397  0.198204  \n",
       "rougeL                                     bm25     0.236345  0.276355  \n",
       "rougeL  sentence-transformers/all-mpnet-base-v2     0.167288  0.208308  \n",
       "rougeL  sentence-transformers/all-MiniLM-L12-v2     0.167513  0.194265  \n",
       "rougeL                                     bm25     0.232644  0.290266  \n",
       "rougeL  sentence-transformers/all-mpnet-base-v2     0.193511  0.277917  \n",
       "rougeL  sentence-transformers/all-MiniLM-L12-v2     0.214549  0.298675  \n",
       "rougeL                                     bm25     0.185982  0.230000  \n",
       "rougeL  sentence-transformers/all-mpnet-base-v2     0.183910  0.207276  \n",
       "rougeL  sentence-transformers/all-MiniLM-L12-v2     0.200861  0.206866  \n",
       "rougeL                                     bm25     0.151568  0.198508  \n",
       "rougeL  sentence-transformers/all-mpnet-base-v2     0.076701  0.181537  \n",
       "rougeL  sentence-transformers/all-MiniLM-L12-v2     0.121768  0.192258  "
      ]
     },
     "execution_count": 82,
     "metadata": {},
     "output_type": "execute_result"
    }
   ],
   "source": [
    "generation_vs_ir_kendall_df"
   ]
  },
  {
   "cell_type": "code",
   "execution_count": 83,
   "id": "10f1330b-0c74-4b3c-bd92-1508b50ca6d3",
   "metadata": {},
   "outputs": [
    {
     "name": "stderr",
     "output_type": "stream",
     "text": [
      "<>:14: SyntaxWarning: invalid escape sequence '\\%'\n",
      "<>:14: SyntaxWarning: invalid escape sequence '\\h'\n",
      "<>:14: SyntaxWarning: invalid escape sequence '\\%'\n",
      "<>:14: SyntaxWarning: invalid escape sequence '\\h'\n",
      "/tmp/ipykernel_2949242/2538022487.py:14: SyntaxWarning: invalid escape sequence '\\%'\n",
      "  .replace(\"%\", \"\\%\").replace(\"_\", \" \").strip().replace(\"\\n\", \"\\n\\hline\\n\")\n",
      "/tmp/ipykernel_2949242/2538022487.py:14: SyntaxWarning: invalid escape sequence '\\h'\n",
      "  .replace(\"%\", \"\\%\").replace(\"_\", \" \").strip().replace(\"\\n\", \"\\n\\hline\\n\")\n"
     ]
    }
   ],
   "source": [
    "def corr_df_to_latex(generation_vs_ir_kendall_df):\n",
    "    generation_vs_ir_kendall_df = generation_vs_ir_kendall_df.copy()\n",
    "    #generation_vs_ir_kendall_df[\"corpus\"] = generation_vs_ir_kendall_df[\"corpus\"].apply(colorcodings)\n",
    "    #generation_vs_ir_kendall_df[\"retriever\"] = (\n",
    "    #    generation_vs_ir_kendall_df[\"retriever\"]\n",
    "    #        .str.replace(\"sentence-transformers/all-mpnet-base-v2\", \"st-MPNet\")\n",
    "    #        .str.replace(\"sentence-transformers/all-MiniLM-L12-v2\", \"st-MiniLM\")\n",
    "    #)\n",
    "\n",
    "    return (\n",
    "        generation_vs_ir_kendall_df\n",
    "            .sort_values(\"hits@10\")\n",
    "            .to_latex(index_names=False, index=False, column_format=\"|p{3cm}|p{2.5cm}|p{2cm}|p{2cm}|\", float_format=\"%.2f\")\n",
    "            .replace(\"%\", \"\\%\").replace(\"_\", \" \").strip().replace(\"\\n\", \"\\n\\hline\\n\")\n",
    "    )"
   ]
  },
  {
   "cell_type": "code",
   "execution_count": null,
   "id": "e5d1a5cd-dbf3-484a-bc5e-b3a23f6aa227",
   "metadata": {},
   "outputs": [],
   "source": []
  },
  {
   "cell_type": "code",
   "execution_count": 84,
   "id": "b66b1a36-7b01-4587-b754-a47aee978522",
   "metadata": {},
   "outputs": [
    {
     "name": "stdout",
     "output_type": "stream",
     "text": [
      "\\begin{tabular}{|p{3cm}|p{2.5cm}|p{2cm}|p{2cm}|}\n",
      "\\hline\n",
      "\\toprule\n",
      "\\hline\n",
      "corpus & accuracy@10 & hits@10 \\\\\n",
      "\\hline\n",
      "\\midrule\n",
      "\\hline\n",
      "flat code2doc generated readme & 0.12 & 0.19 \\\\\n",
      "\\hline\n",
      "dependency signature & 0.19 & 0.20 \\\\\n",
      "\\hline\n",
      "code2doc generated readme & 0.19 & 0.21 \\\\\n",
      "\\hline\n",
      "repository signature & 0.19 & 0.23 \\\\\n",
      "\\hline\n",
      "generated tasks & 0.21 & 0.29 \\\\\n",
      "\\hline\n",
      "\\bottomrule\n",
      "\\hline\n",
      "\\end{tabular}\n"
     ]
    }
   ],
   "source": [
    "print(corr_df_to_latex(generation_vs_ir_kendall_df.drop(columns=[\"retriever\"]).groupby(\"corpus\").agg(\"mean\").sort_values(\"hits@10\").reset_index()))"
   ]
  },
  {
   "cell_type": "code",
   "execution_count": 85,
   "id": "c0ee2cd8-6ad5-4273-a439-576a42a0d82f",
   "metadata": {},
   "outputs": [
    {
     "data": {
      "text/html": [
       "<div>\n",
       "<style scoped>\n",
       "    .dataframe tbody tr th:only-of-type {\n",
       "        vertical-align: middle;\n",
       "    }\n",
       "\n",
       "    .dataframe tbody tr th {\n",
       "        vertical-align: top;\n",
       "    }\n",
       "\n",
       "    .dataframe thead th {\n",
       "        text-align: right;\n",
       "    }\n",
       "</style>\n",
       "<table border=\"1\" class=\"dataframe\">\n",
       "  <thead>\n",
       "    <tr style=\"text-align: right;\">\n",
       "      <th></th>\n",
       "      <th>corpus</th>\n",
       "      <th>retriever</th>\n",
       "      <th>accuracy@10</th>\n",
       "      <th>hits@10</th>\n",
       "    </tr>\n",
       "  </thead>\n",
       "  <tbody>\n",
       "    <tr>\n",
       "      <th>rougeL</th>\n",
       "      <td>dependency_signature</td>\n",
       "      <td>bm25</td>\n",
       "      <td>0.221519</td>\n",
       "      <td>0.216320</td>\n",
       "    </tr>\n",
       "    <tr>\n",
       "      <th>rougeL</th>\n",
       "      <td>dependency_signature</td>\n",
       "      <td>sentence-transformers/all-mpnet-base-v2</td>\n",
       "      <td>0.184308</td>\n",
       "      <td>0.181061</td>\n",
       "    </tr>\n",
       "    <tr>\n",
       "      <th>rougeL</th>\n",
       "      <td>dependency_signature</td>\n",
       "      <td>sentence-transformers/all-MiniLM-L12-v2</td>\n",
       "      <td>0.170397</td>\n",
       "      <td>0.198204</td>\n",
       "    </tr>\n",
       "    <tr>\n",
       "      <th>rougeL</th>\n",
       "      <td>repository_signature</td>\n",
       "      <td>bm25</td>\n",
       "      <td>0.236345</td>\n",
       "      <td>0.276355</td>\n",
       "    </tr>\n",
       "    <tr>\n",
       "      <th>rougeL</th>\n",
       "      <td>repository_signature</td>\n",
       "      <td>sentence-transformers/all-mpnet-base-v2</td>\n",
       "      <td>0.167288</td>\n",
       "      <td>0.208308</td>\n",
       "    </tr>\n",
       "    <tr>\n",
       "      <th>rougeL</th>\n",
       "      <td>repository_signature</td>\n",
       "      <td>sentence-transformers/all-MiniLM-L12-v2</td>\n",
       "      <td>0.167513</td>\n",
       "      <td>0.194265</td>\n",
       "    </tr>\n",
       "    <tr>\n",
       "      <th>rougeL</th>\n",
       "      <td>generated_tasks</td>\n",
       "      <td>bm25</td>\n",
       "      <td>0.232644</td>\n",
       "      <td>0.290266</td>\n",
       "    </tr>\n",
       "    <tr>\n",
       "      <th>rougeL</th>\n",
       "      <td>generated_tasks</td>\n",
       "      <td>sentence-transformers/all-mpnet-base-v2</td>\n",
       "      <td>0.193511</td>\n",
       "      <td>0.277917</td>\n",
       "    </tr>\n",
       "    <tr>\n",
       "      <th>rougeL</th>\n",
       "      <td>generated_tasks</td>\n",
       "      <td>sentence-transformers/all-MiniLM-L12-v2</td>\n",
       "      <td>0.214549</td>\n",
       "      <td>0.298675</td>\n",
       "    </tr>\n",
       "    <tr>\n",
       "      <th>rougeL</th>\n",
       "      <td>code2doc_generated_readme</td>\n",
       "      <td>bm25</td>\n",
       "      <td>0.185982</td>\n",
       "      <td>0.230000</td>\n",
       "    </tr>\n",
       "    <tr>\n",
       "      <th>rougeL</th>\n",
       "      <td>code2doc_generated_readme</td>\n",
       "      <td>sentence-transformers/all-mpnet-base-v2</td>\n",
       "      <td>0.183910</td>\n",
       "      <td>0.207276</td>\n",
       "    </tr>\n",
       "    <tr>\n",
       "      <th>rougeL</th>\n",
       "      <td>code2doc_generated_readme</td>\n",
       "      <td>sentence-transformers/all-MiniLM-L12-v2</td>\n",
       "      <td>0.200861</td>\n",
       "      <td>0.206866</td>\n",
       "    </tr>\n",
       "    <tr>\n",
       "      <th>rougeL</th>\n",
       "      <td>flat_code2doc_generated_readme</td>\n",
       "      <td>bm25</td>\n",
       "      <td>0.151568</td>\n",
       "      <td>0.198508</td>\n",
       "    </tr>\n",
       "    <tr>\n",
       "      <th>rougeL</th>\n",
       "      <td>flat_code2doc_generated_readme</td>\n",
       "      <td>sentence-transformers/all-mpnet-base-v2</td>\n",
       "      <td>0.076701</td>\n",
       "      <td>0.181537</td>\n",
       "    </tr>\n",
       "    <tr>\n",
       "      <th>rougeL</th>\n",
       "      <td>flat_code2doc_generated_readme</td>\n",
       "      <td>sentence-transformers/all-MiniLM-L12-v2</td>\n",
       "      <td>0.121768</td>\n",
       "      <td>0.192258</td>\n",
       "    </tr>\n",
       "  </tbody>\n",
       "</table>\n",
       "</div>"
      ],
      "text/plain": [
       "                                corpus  \\\n",
       "rougeL            dependency_signature   \n",
       "rougeL            dependency_signature   \n",
       "rougeL            dependency_signature   \n",
       "rougeL            repository_signature   \n",
       "rougeL            repository_signature   \n",
       "rougeL            repository_signature   \n",
       "rougeL                 generated_tasks   \n",
       "rougeL                 generated_tasks   \n",
       "rougeL                 generated_tasks   \n",
       "rougeL       code2doc_generated_readme   \n",
       "rougeL       code2doc_generated_readme   \n",
       "rougeL       code2doc_generated_readme   \n",
       "rougeL  flat_code2doc_generated_readme   \n",
       "rougeL  flat_code2doc_generated_readme   \n",
       "rougeL  flat_code2doc_generated_readme   \n",
       "\n",
       "                                      retriever  accuracy@10   hits@10  \n",
       "rougeL                                     bm25     0.221519  0.216320  \n",
       "rougeL  sentence-transformers/all-mpnet-base-v2     0.184308  0.181061  \n",
       "rougeL  sentence-transformers/all-MiniLM-L12-v2     0.170397  0.198204  \n",
       "rougeL                                     bm25     0.236345  0.276355  \n",
       "rougeL  sentence-transformers/all-mpnet-base-v2     0.167288  0.208308  \n",
       "rougeL  sentence-transformers/all-MiniLM-L12-v2     0.167513  0.194265  \n",
       "rougeL                                     bm25     0.232644  0.290266  \n",
       "rougeL  sentence-transformers/all-mpnet-base-v2     0.193511  0.277917  \n",
       "rougeL  sentence-transformers/all-MiniLM-L12-v2     0.214549  0.298675  \n",
       "rougeL                                     bm25     0.185982  0.230000  \n",
       "rougeL  sentence-transformers/all-mpnet-base-v2     0.183910  0.207276  \n",
       "rougeL  sentence-transformers/all-MiniLM-L12-v2     0.200861  0.206866  \n",
       "rougeL                                     bm25     0.151568  0.198508  \n",
       "rougeL  sentence-transformers/all-mpnet-base-v2     0.076701  0.181537  \n",
       "rougeL  sentence-transformers/all-MiniLM-L12-v2     0.121768  0.192258  "
      ]
     },
     "execution_count": 85,
     "metadata": {},
     "output_type": "execute_result"
    }
   ],
   "source": [
    "generation_vs_ir_kendall_df"
   ]
  },
  {
   "cell_type": "code",
   "execution_count": 63,
   "id": "fd860b98-8ee4-4636-b3fb-f839c0e90a0f",
   "metadata": {},
   "outputs": [],
   "source": [
    "def get_metric_diffs(per_query_metrics_df, worst_queries):\n",
    "    dfs = []\n",
    "    for name, gp_df in per_query_metrics_df.groupby([\"corpus\", \"retriever\"]):\n",
    "        selected_df = gp_df[gp_df[\"query\"].isin(worst_queries)]\n",
    "        selected_metrics_df = selected_df[[\"precision@10\", \"accuracy@10\"]].mean()\n",
    "        all_metrics_df = gp_df[[\"precision@10\", \"accuracy@10\"]].mean()\n",
    "        exp_difference_df = (all_metrics_df - selected_metrics_df)\n",
    "        diffs = pd.concat([all_metrics_df, selected_metrics_df, exp_difference_df, 100 * (exp_difference_df / all_metrics_df)])\n",
    "        diffs.index = [\"precision@10\", \"accuracy@10\", \"worst records precision@10\", \"worst records accuracy@10\", \"precision@10 difference\", \"accuracy@10 difference\", \"% precision@10 difference\", \"% accuracy@10 difference\"]\n",
    "        diffs = pd.concat([pd.Series(dict(zip([\"corpus\", \"retriever\"], name))), diffs])\n",
    "        dfs.append(diffs)\n",
    "    return pd.concat(dfs, axis=1).T"
   ]
  },
  {
   "cell_type": "code",
   "execution_count": 64,
   "id": "12572e55-373f-4c4f-abdb-4c92b1f998d9",
   "metadata": {},
   "outputs": [],
   "source": [
    "def prettify_diffs_df(diff_df):\n",
    "    for col in diff_df.columns:\n",
    "        if \"%\" in col:\n",
    "            diff_df[col] = diff_df[col].apply(lambda x: np.round(x,1)).astype(str) + \"%\"\n",
    "        else:\n",
    "            diff_df[col] = diff_df[col].apply(lambda x: np.round(x,3))\n",
    "    return diff_df"
   ]
  },
  {
   "cell_type": "code",
   "execution_count": 65,
   "id": "9a8b95e3-c1fe-44e2-891f-fb0d9927938f",
   "metadata": {},
   "outputs": [],
   "source": [
    "diffs_df = get_metric_diffs(per_query_metrics_df, worst_queries)"
   ]
  },
  {
   "cell_type": "code",
   "execution_count": 66,
   "id": "3a2f881c-2cab-4f7f-835e-650d45631e11",
   "metadata": {},
   "outputs": [],
   "source": [
    "aggregated_diffs_df = prettify_diffs_df(diffs_df.drop(columns=\"retriever\").groupby(\"corpus\").agg(\"mean\").sort_values(\"% precision@10 difference\", ascending=False))"
   ]
  },
  {
   "cell_type": "code",
   "execution_count": 68,
   "id": "838909db-9051-4911-b0b3-56c61172bfff",
   "metadata": {},
   "outputs": [],
   "source": [
    "#per_query_metrics_df[].describe()[[\"precision@10\", \"accuracy@10\"]]"
   ]
  },
  {
   "cell_type": "code",
   "execution_count": 69,
   "id": "a13a378e-7b78-4251-9a6b-ef788d22f3dd",
   "metadata": {},
   "outputs": [
    {
     "data": {
      "text/html": [
       "<div>\n",
       "<style scoped>\n",
       "    .dataframe tbody tr th:only-of-type {\n",
       "        vertical-align: middle;\n",
       "    }\n",
       "\n",
       "    .dataframe tbody tr th {\n",
       "        vertical-align: top;\n",
       "    }\n",
       "\n",
       "    .dataframe thead th {\n",
       "        text-align: right;\n",
       "    }\n",
       "</style>\n",
       "<table border=\"1\" class=\"dataframe\">\n",
       "  <thead>\n",
       "    <tr style=\"text-align: right;\">\n",
       "      <th></th>\n",
       "      <th>precision@10</th>\n",
       "      <th>accuracy@10</th>\n",
       "    </tr>\n",
       "  </thead>\n",
       "  <tbody>\n",
       "    <tr>\n",
       "      <th>count</th>\n",
       "      <td>3820.000000</td>\n",
       "      <td>3820.000000</td>\n",
       "    </tr>\n",
       "    <tr>\n",
       "      <th>mean</th>\n",
       "      <td>0.115209</td>\n",
       "      <td>0.500524</td>\n",
       "    </tr>\n",
       "    <tr>\n",
       "      <th>std</th>\n",
       "      <td>0.168637</td>\n",
       "      <td>0.500065</td>\n",
       "    </tr>\n",
       "    <tr>\n",
       "      <th>min</th>\n",
       "      <td>0.000000</td>\n",
       "      <td>0.000000</td>\n",
       "    </tr>\n",
       "    <tr>\n",
       "      <th>25%</th>\n",
       "      <td>0.000000</td>\n",
       "      <td>0.000000</td>\n",
       "    </tr>\n",
       "    <tr>\n",
       "      <th>50%</th>\n",
       "      <td>0.100000</td>\n",
       "      <td>1.000000</td>\n",
       "    </tr>\n",
       "    <tr>\n",
       "      <th>75%</th>\n",
       "      <td>0.200000</td>\n",
       "      <td>1.000000</td>\n",
       "    </tr>\n",
       "    <tr>\n",
       "      <th>max</th>\n",
       "      <td>1.000000</td>\n",
       "      <td>1.000000</td>\n",
       "    </tr>\n",
       "  </tbody>\n",
       "</table>\n",
       "</div>"
      ],
      "text/plain": [
       "       precision@10  accuracy@10\n",
       "count   3820.000000  3820.000000\n",
       "mean       0.115209     0.500524\n",
       "std        0.168637     0.500065\n",
       "min        0.000000     0.000000\n",
       "25%        0.000000     0.000000\n",
       "50%        0.100000     1.000000\n",
       "75%        0.200000     1.000000\n",
       "max        1.000000     1.000000"
      ]
     },
     "execution_count": 69,
     "metadata": {},
     "output_type": "execute_result"
    }
   ],
   "source": [
    "per_query_metrics_df[per_query_metrics_df[\"query\"].isin(worst_queries)].describe()[[\"precision@10\", \"accuracy@10\"]]"
   ]
  },
  {
   "cell_type": "code",
   "execution_count": null,
   "id": "1f3f3499-35b9-446a-aa62-b1b46017ce01",
   "metadata": {},
   "outputs": [],
   "source": [
    "sns.histplot(per_query_metrics_df[per_query_metrics_df[\"query\"].isin(worst_queries)][\"precision@10\"], kde=False, stat=\"probability\", label=\"worst\")\n",
    "sns.histplot(per_query_metrics_df[\"precision@10\"], kde=False, stat=\"probability\", label=\"all\")\n",
    "plt.legend()\n",
    "plt.savefig(\"/home/kuba/Downloads/worst_tasks_hits.png\")"
   ]
  },
  {
   "cell_type": "markdown",
   "id": "c07ac8b7-2f6c-4268-95d6-afa0bfc83fae",
   "metadata": {},
   "source": [
    "The following results show mean hits and accuracy@10 and the difference between these metrics for worst 10% queries as measured by generation metrics.\n",
    "\n",
    "We investigate these differences further with Mann-Whitney test. The null hypothesis is $H_0: X_{worst} \\not< X_{rest}$, that is, hits for the worst queries are not less than for the other queries. Assuming significance level of 0.01 we can refute $H_0$ for all corpora except original READMEs."
   ]
  },
  {
   "cell_type": "code",
   "execution_count": null,
   "id": "1d4ce03b-fae9-45e8-bce8-6ecf6eef0091",
   "metadata": {},
   "outputs": [],
   "source": [
    "\n",
    "\n",
    "\n",
    "def make_displayed_agg_diffs_df(diffs_df, metric=\"accuracy\"):\n",
    "    displayed_df = aggregated_diffs_df[[col for col in aggregated_diffs_df.columns if metric in col]].copy()\n",
    "    displayed_df[f\"{metric}@10 difference\"] = displayed_df[f\"{metric}@10 difference\"].apply(str) + \" (\" + displayed_df[f\"% {metric}@10 difference\"] + \")\"\n",
    "    displayed_df = displayed_df.drop(\"readme\").reset_index()\n",
    "    #displayed_df[\"corpus\"] = displayed_df[\"corpus\"].apply(colorcode)\n",
    "    latex_str = (\n",
    "        displayed_df\n",
    "            .drop(columns=[f\"% {metric}@10 difference\"])\n",
    "            .to_latex(index_names=False, index=False, column_format=\"|p{3cm}|p{2.5cm}|p{2cm}|p{2cm}|\", float_format=\"%.3f\")\n",
    "    )\n",
    "    return latex_str.replace(\"%\", \"\\%\").replace(\"_\", \" \").strip().replace(\"\\n\", \"\\n\\hline\\n\")"
   ]
  },
  {
   "cell_type": "code",
   "execution_count": null,
   "id": "5d9596f7-d660-4daa-bd0d-338919033e9d",
   "metadata": {},
   "outputs": [],
   "source": [
    "aggregated_diffs_df"
   ]
  },
  {
   "cell_type": "code",
   "execution_count": null,
   "id": "a5bed4bd-b034-46a8-b18f-9cc8ee354fe0",
   "metadata": {},
   "outputs": [],
   "source": [
    "aggregated_diffs_df"
   ]
  },
  {
   "cell_type": "code",
   "execution_count": null,
   "id": "fb04d157-d4a9-4c6a-a047-04fa39b397f2",
   "metadata": {},
   "outputs": [],
   "source": [
    "print(make_displayed_agg_diffs_df(aggregated_diffs_df))"
   ]
  },
  {
   "cell_type": "code",
   "execution_count": null,
   "id": "7ac2e0db-c3d5-4727-aaf7-25b207aed9a6",
   "metadata": {},
   "outputs": [],
   "source": [
    "print(make_displayed_agg_diffs_df(aggregated_diffs_df, \"precision\"))"
   ]
  },
  {
   "cell_type": "code",
   "execution_count": null,
   "id": "87098f4e-2659-408a-86e9-b8992c5434db",
   "metadata": {},
   "outputs": [],
   "source": [
    "from statsmodels.stats import weightstats\n",
    "from statsmodels.stats.nonparametric import rank_compare_2indep\n",
    "from scipy.stats import mannwhitneyu"
   ]
  },
  {
   "cell_type": "code",
   "execution_count": null,
   "id": "712060d8-a2cb-4eb7-af52-00a36b111238",
   "metadata": {},
   "outputs": [],
   "source": [
    "worst_per_query_metrics_df = per_query_metrics_df[per_query_metrics_df[\"query\"].isin(worst_queries)]"
   ]
  },
  {
   "cell_type": "code",
   "execution_count": null,
   "id": "7c360b1b-94a3-4d71-90a1-66f521d5322d",
   "metadata": {},
   "outputs": [],
   "source": [
    "worst_comparison_records = []\n",
    "\n",
    "for corpus in per_query_metrics_df[\"corpus\"].unique():\n",
    "    #for retriever in per_query_metrics_df[\"retriever\"].unique():\n",
    "    subset_df =  per_query_metrics_df[per_query_metrics_df[\"corpus\"] == corpus]\n",
    "    subset_df = subset_df.groupby([\"query\"]).apply(lambda df: df.select_dtypes(\"float\").mean()).reset_index()\n",
    "    #subset_df = subset_df[subset_df[\"retriever\"] == retriever]\n",
    "    res = mannwhitneyu(\n",
    "        subset_df[subset_df[\"query\"].isin(worst_queries)][\"precision@10\"].values,\n",
    "        subset_df[~subset_df[\"query\"].isin(worst_queries)][\"precision@10\"].values,\n",
    "        alternative=\"less\"\n",
    "    )\n",
    "    worst_comparison_records.append(dict(corpus=corpus, statistic=res.statistic, pvalue=res.pvalue))\n",
    "    #print(res)\n",
    "\n",
    "worst_comparison_df = pd.DataFrame(worst_comparison_records)"
   ]
  },
  {
   "cell_type": "code",
   "execution_count": null,
   "id": "fcb043e6-c6f1-4711-92bc-fa89170edef2",
   "metadata": {},
   "outputs": [],
   "source": [
    "print(worst_comparison_df.sort_values(\"pvalue\").to_latex(index=False, float_format=\"%.1e\",column_format=\"|c|c|c|\").strip().replace(\"\\n\", \"\\n\\hline\\n\").replace(\"_\", \" \"))"
   ]
  },
  {
   "cell_type": "code",
   "execution_count": null,
   "id": "d0323a8f-6747-4f63-a40b-deb0d8a913b1",
   "metadata": {},
   "outputs": [],
   "source": []
  },
  {
   "cell_type": "code",
   "execution_count": null,
   "id": "41c8c48c-9f26-4e11-bf9e-4770c5184b13",
   "metadata": {},
   "outputs": [],
   "source": []
  },
  {
   "cell_type": "code",
   "execution_count": null,
   "id": "1319915c-0cd6-4cb2-935d-f41660a3e6ee",
   "metadata": {},
   "outputs": [],
   "source": []
  }
 ],
 "metadata": {
  "kernelspec": {
   "display_name": "github_search",
   "language": "python",
   "name": "github_search"
  },
  "language_info": {
   "codemirror_mode": {
    "name": "ipython",
    "version": 3
   },
   "file_extension": ".py",
   "mimetype": "text/x-python",
   "name": "python",
   "nbconvert_exporter": "python",
   "pygments_lexer": "ipython3",
   "version": "3.12.7"
  }
 },
 "nbformat": 4,
 "nbformat_minor": 5
}
